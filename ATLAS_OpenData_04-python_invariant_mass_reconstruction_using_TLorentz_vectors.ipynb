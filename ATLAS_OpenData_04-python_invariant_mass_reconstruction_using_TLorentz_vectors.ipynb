{
 "cells": [
  {
   "cell_type": "markdown",
   "metadata": {},
   "source": [
    "<CENTER>\n",
    "    <a href=\"http://opendata.atlas.cern/release/2020/documentation/notebooks/intro.html\" class=\"icons\"><img src=\"./images/ATLASOD.gif\" style=\"width:40%\"></a>\n",
    "</CENTER>"
   ]
  },
  {
   "cell_type": "markdown",
   "metadata": {},
   "source": [
    "# A more difficult notebook in python\n",
    "\n",
    "# Z decays: finding the Z boson mass!\n",
    "\n",
    "## The following analysis is searching for events where one or two [Z bosons](https://en.wikipedia.org/wiki/W_and_Z_bosons) decay to two ((or four!) leptons (electrons or muons) of same flavour and opposite charge.\n",
    "\n",
    "Lepton flavour means whether it is an electron or a muon.\n",
    "\n",
    "We know the Z boson has charge zero, so to conserve charge, the two leptons must have opposite charges.\n",
    "\n",
    "So, this can happen in two ways. First, though, we need to think about how we talk about decaysd in particle physcis.\n",
    "\n",
    "## Feynman diagrams and Lorentz vectors\n",
    "\n",
    "We show decays with a [Feynman diagram](https://en.wikipedia.org/wiki/Feynman_diagram)), which for our purposes we can think of a diagram of the interaction itself (this is not strictly true, but for our purposes will suffice), where time goes from left to right.\n",
    "\n",
    "Each particle is a single line, and you can think of the vertical axis as space, so here we have an electron $e^-$ and its antiparticle, a positron, $e^+$, moving towards each other in space, annihilating each other, producing a photon ($\\gamma$) and then that $\\gamma$ decaying to two muons.\n",
    "\n",
    "<CENTER><img src=\"./images/electronpositronannihilation.png\" style=\"width:50%\"></CENTER>\n",
    "\n",
    "\n",
    "You may have noticed that the arrow for the positron is the wrong way round for the process which I have just described. By convention, the arrow for an antiparticle is reversed. (If you really want to know, it's because an antiparticle can be thought of as a particle moving backwards in time. If you have time, ask someone to explain this to you).\n",
    "\n",
    "Now, we say that energy and momentum must be conserved at each vertex in the Feynman diagram. $\\vec{p}^\\mathrm{tot}_\\mathrm{before} = \\vec{p}^\\mathrm{tot}_\\mathrm{after}$, and $E^\\mathrm{tot}_\\mathrm{before} =E^\\mathrm{tot}_\\mathrm{after}$.\n",
    "\n",
    "A concise way of writing that is with a **Lorentz vector**, or 4-vector, which neatly packages together energy and momentum. $P^\\mu = (E/c, \\vec{p}) = (E/c, p_x, p_y, p_z)$. \n",
    "\n",
    "_Why do you think the energy is divided by $c$? Consider a normal 3-vector like position. What are the units of each of its components?_\n",
    "\n",
    "The $\\mu$ is just an arbitrary index, so $P^0 = E/c$, $P^1 = p_1 = p_x$, etc., but we write it there to make it clear that this is no ordinary spatial vector that we're dealing with.\n",
    "\n",
    "However, we can add and subtract these four-vectors like usual: $P^\\nu_{e^+} + P^\\nu_{e^-} = (E_{e^+} + E_{e^-}, \\vec{p}_{e^+} + \\vec{p}_{e^-}) = P^\\nu_\\mathrm{tot}$\n",
    "\n",
    "Since all of its components must be conserved, $P^\\mu_\\mathrm{before} = P^\\mu_\\mathrm{after}$ at every vertex.\n",
    "\n",
    "For the electron-positron annihilation above, therefore, we have:\n",
    "\n",
    "$P^\\nu_{e^+} + P^\\nu_{e^-} = (E_{e^+} + E_{e^-}, \\vec{p}_{e^+} + \\vec{p}_{e^-}) = P^\\nu_\\gamma =  P^\\nu_{\\mu^+} +  P^\\nu_{\\mu^-}$\n",
    "\n",
    "More interestingly, if you remember the most famous equation in Physics, $E=mc^2$. That's only true if an object is stationary. If it's not, you have $E^2 = m^2 c^4 + p^2 c^2$. The $m$ in this is called its invariant mass.\n",
    "\n",
    "Clearly, you can quite easily construct $m$ from the components of the 4-vector. $m = \\frac{1}{c^2}\\sqrt{E^2 - p^2 c^2}$\n",
    "\n",
    "\n",
    "###  Units\n",
    "\n",
    "One last thing - we can just pick a system of units in which $c = 1$. We basically do this by redefining what our SI units are. Imagine that we measured distances in pirate-wizards, which we define to be equal to $299 792 458$ metres. Let's keep measuring times in seconds, though. You, then are about $6\\times 10^{-9}$ pirate-wizards tall.\n",
    "\n",
    "You may have noticed the specific value I picked for a pirate-wizard.\n",
    "\n",
    "`What does that mean the speed of light is, measured in our new unit system?`\n",
    "\n",
    "Correct! It's exactly $1$ pirate-wizard per second!\n",
    "\n",
    "Let's then define the unit of energy as 1 GeV - one gigaelectronvolt.\n",
    "\n",
    "What does that make our unit of mass? Now, we know that the units still have to match up dimensionally, and we know that $1 kg = 1 Joule /c^2$, so let's measure mass in $eV /c^2$. Similarly, let's measure momentum in $eV/c$.\n",
    "\n",
    "So, if we measure a particle A to have a mass of $3 GeV/c^2$, an energy of $5 GeV/c^2$, and a momentum of $4 GeV/c$.\n",
    "\n",
    "The advantage of setting $c=1$ is that we can throw out all of those extra $c$s. That means we can measure everything in units  of $GeV$! So, our particle A just has $m=3$, $E=5$, and $p=4$.\n",
    "\n",
    "Sure, you can't do dimensional analysis any more, but it makes a lot of things easier - trust me. For one thing, our mass equation pops out pretty simply: $m = \\sqrt{E^2 - p^2}$. \n",
    "\n",
    "Check if particle A satisfies this!\n",
    " \n",
    "## How to use TLorentzVectors in python\n",
    " \n",
    "\n",
    "Since we're using code, we're going to have a pretty simple function that takes our Lorentz Vector and spits out the rest mass of that Lorentz vector.\n",
    "\n",
    "Thankfully, the dirty work has been done for you already. If you have a TLorentzVector variable called `particle1`, and you want its invariant mass, just do this:\n",
    "\n",
    "`particle1.M()`"
   ]
  },
  {
   "cell_type": "markdown",
   "metadata": {},
   "source": [
    "First of all - like we did it in the first notebook - ROOT is imported to read the files in the _.root_ data format, and to give us the relevant libraries."
   ]
  },
  {
   "cell_type": "code",
   "execution_count": 1,
   "metadata": {},
   "outputs": [
    {
     "name": "stdout",
     "output_type": "stream",
     "text": [
      "Welcome to JupyROOT 6.20/00\n"
     ]
    }
   ],
   "source": [
    "from numpy import pi\n",
    "import ROOT"
   ]
  },
  {
   "cell_type": "markdown",
   "metadata": {},
   "source": [
    "Now, let's declare two TLorentzVectors. We do this by declaring two variables, and then saying that each one is a `TLorentzVector` from the library `ROOT`."
   ]
  },
  {
   "cell_type": "code",
   "execution_count": 2,
   "metadata": {},
   "outputs": [],
   "source": [
    "particle1  = ROOT.TLorentzVector()\n",
    "particle2 = ROOT.TLorentzVector()"
   ]
  },
  {
   "cell_type": "markdown",
   "metadata": {},
   "source": [
    "Of course, they're just empty vectors at the moment. Let's set them with values. Notice the way this is written, with the E coming last.\n",
    "\n",
    "_Try editing the code to print the energy $E$._"
   ]
  },
  {
   "cell_type": "code",
   "execution_count": 3,
   "metadata": {},
   "outputs": [
    {
     "name": "stdout",
     "output_type": "stream",
     "text": [
      "0.0\n",
      "0.0\n",
      "0.0\n",
      "0.0\n",
      "The energy is  0 MeV\n",
      "The energy is  0 MeV/c^2\n"
     ]
    }
   ],
   "source": [
    "particle1.SetPxPyPzE(0, 0, 0, 1)\n",
    "print(particle1.Px())\n",
    "print(particle1.Py())\n",
    "print(particle1.Pz())\n",
    "print(particle1.P())\n",
    "####\n",
    "particle1_energy = 0 #FIX ME!\n",
    "print(\"The energy is \", particle1_energy, \"MeV\") \n",
    "particle1_mass = 0 #FIX ME!\n",
    "print(\"The energy is \", particle1_mass, \"MeV/c^2\") "
   ]
  },
  {
   "cell_type": "markdown",
   "metadata": {},
   "source": [
    "Now, the detector gives us momentum in an odd way: by measuring the amount of momentum perpendicular to the direction of the beam, the rapidity, and in which direction of perpendicular to the beam it was emitted in (in radians, of course).\n",
    "\n",
    "<CENTER><img src=\"./images/eta_def.jpg\" style=\"width:40%\"><img src=\"./images/z-axis_medium.jpg\" style=\"width:40%\"><img src=\"./images/pt_def.jpg\" style=\"width:40%\"></CENTER>\n",
    "\n",
    "^(Source: https://www-cdf.fnal.gov/physics/new/qcd/ue_escan/etaphi.html)\n",
    "\n",
    "Does this uniquely determine momentum?\n",
    "\n",
    "So, we can also define the components of $P^\\mu = (E, \\v{p}) like this:"
   ]
  },
  {
   "cell_type": "code",
   "execution_count": 4,
   "metadata": {},
   "outputs": [
    {
     "data": {
      "text/plain": [
       "4.755933363122131"
      ]
     },
     "execution_count": 4,
     "metadata": {},
     "output_type": "execute_result"
    }
   ],
   "source": [
    "particle2.SetPtEtaPhiE(1, 1, pi/2, 5)\n",
    "particle2.M()"
   ]
  },
  {
   "cell_type": "markdown",
   "metadata": {},
   "source": [
    "Finally, all you need to know is that you can add four-vectors in Python just like in maths: $P^\\mu_1 + P^\\mu_2 = P^\\mu_3$ means that in python, we can define particle3 with just one line: `particle 3 = particle1 + particle2` "
   ]
  },
  {
   "cell_type": "markdown",
   "metadata": {},
   "source": [
    "## Decays\n",
    "\n",
    "Back to the decays.\n",
    "\n",
    "We want to find $Z^0$ bosons, but they don't live long enough to actually find with the detector itself. Instead, we have to reconstruct them from their decay products.\n",
    "\n",
    "We don't particularly mind where the $Z^0$s themselves come from. All you need to know here is that each time the LHC smashes two protons together, they produce lots and lots of particles, some of which are $Z^0$s.\n",
    "\n",
    "\n",
    "From theory, we know that there are two main decay routes. The first is to two leptons, and the second is to four leptons.\n",
    "\n",
    "\n",
    "### To two leptons\n",
    "\n",
    "The first option is that a random Z that emerges from the collision aftermath in the LHC (we don't care how) can decay directly to two leptons. The decay happens at the vertex below, marked by a dot.\n",
    "\n",
    "<CENTER><img src=\"./images/Z_ElectronPositron.png\" style=\"width:30%\"></CENTER>\n",
    "\n",
    "Using what you know above, write down the equation of conservation of the energy-momentum four-vector.\n",
    "\n",
    "The ATLAS detector can measure the momentum and energy of leptons coming out of decays, and you can access that information quite simply. It also measures the charge and flavour of each lepton (whether its a muon/antimuon, or electron/antielectron).\n",
    "\n",
    "We mentioned earlier that each smash makes lots of particles. That's true - in fact, it makes so many that we can't actually store all the records of what happened, even on some of the biggest data storage facilities in the world. \n",
    "\n",
    "Instead, we use what is called a trigger. For us, the trigger here was the detector seeing **exactly one high energy leptons** and **one jet with large** (don't worry about what that is for now), so all of our data will contain at least those two things, as well as a bunch of other particles.\n"
   ]
  },
  {
   "cell_type": "markdown",
   "metadata": {},
   "source": [
    "Next we have to open the data that we want to analyze. As described earlier, the data is stored in a `*.root` file."
   ]
  },
  {
   "cell_type": "code",
   "execution_count": 5,
   "metadata": {},
   "outputs": [],
   "source": [
    "## CHOOSE here which sample to use!!\n",
    "\n",
    "## 2lep\n",
    "#f = ROOT.TFile.Open(\"https://atlas-opendata.web.cern.ch/atlas-opendata/samples/2020/1largeRjet1lep/MC/mc_361106.Zee.1largeRjet1lep.root\") ## 13 TeV sample\n",
    "f = ROOT.TFile.Open(\"~/mc_361106.Zee.1largeRjet1lep.root\")\n",
    "\n",
    "## 4lep\n",
    "#f = ROOT.TFile.Open(\"http://opendata.cern.ch/eos/opendata/atlas/OutreachDatasets/2020-01-22/4lep/MC/mc_363490.llll.4lep.root\") ## 4 lepton 13 TeV sample"
   ]
  },
  {
   "cell_type": "markdown",
   "metadata": {},
   "source": [
    "After the data is opened we create a canvas on which we can draw a histogram. If we do not have a canvas we cannot see our histogram at the end. Its name is _Canvas_ and its header is _c_. The two following arguments define the width and the height of the canvas."
   ]
  },
  {
   "cell_type": "code",
   "execution_count": 6,
   "metadata": {},
   "outputs": [],
   "source": [
    "canvas = ROOT.TCanvas(\"Canvas\",\"c\",800,600)"
   ]
  },
  {
   "cell_type": "markdown",
   "metadata": {},
   "source": [
    "The next step is to, like before, define a tree named `t` to get the data out of the `.root` file."
   ]
  },
  {
   "cell_type": "code",
   "execution_count": 7,
   "metadata": {},
   "outputs": [
    {
     "data": {
      "text/plain": [
       "53653"
      ]
     },
     "execution_count": 7,
     "metadata": {},
     "output_type": "execute_result"
    }
   ],
   "source": [
    "tree = f.Get(\"mini\")\n",
    "tree.GetEntries()"
   ]
  },
  {
   "cell_type": "markdown",
   "metadata": {},
   "source": [
    "Now we define a histogram that will later be placed on this canvas. Its name is `variable` the header of the histogram is `Mass of the Z boson`, the x axis is named `mass [GeV]` and the y axis is named `events`. The three following arguments indicate that this histogram contains 30 bins which fill the gap from 40 to 140."
   ]
  },
  {
   "cell_type": "code",
   "execution_count": 8,
   "metadata": {},
   "outputs": [],
   "source": [
    "hist = ROOT.TH1F(\"variable\",\"Mass of the Z boson; mass [GeV]; events\", 30, 40, 140)"
   ]
  },
  {
   "cell_type": "markdown",
   "metadata": {},
   "source": [
    "Time to fill our above defined histogram. To do that, we need to reconstruct our $Z^0$ boson Lorentz vector, and then we need to call `.M()` on it to find its mass!\n",
    "\n",
    "How do we reconstruct the Lorentz vector? Well, we need to find two leptons of opposite charge and the same flavour, build their `TLorentzVector`s, and add them together.\n",
    "\n",
    "The process of narrowing down the number of candidates by imposing a condition is called making a **cut**!\n",
    "\n",
    "## Cuts\n",
    "\n",
    "Why do we make cuts? Remember that there are lots of other particles flying around, and sometimes you'll just have two electrons of the same charge and same flavour, that have nothing to do with each other, that we measure. Obviously, they won't reconstruct to a $Z^0$ boson.Therefore, we need to make cuts based on that.\n",
    "\n",
    "You may have spotted an issue here - what if we have two random unassociated electrons of the same flavour and opposite charge? We can't eliminate those.\n",
    "\n",
    "One thing you might want to take note of is that the detector gives us energies and momenta in units of $MeV$! This meansthat when building our LorentzVectors, we have to divide by a thousand, so that our LorentzVector has an overall unit of $GeV$.\n",
    "\n",
    "### Make sure you read through the code - particularly the comments! You'll be doing this yourself shortly."
   ]
  },
  {
   "cell_type": "code",
   "execution_count": 9,
   "metadata": {},
   "outputs": [],
   "source": [
    "# Declare the two TLorentzVectors\n",
    "\n",
    "leadLepton  = ROOT.TLorentzVector()\n",
    "trailLepton = ROOT.TLorentzVector()\n",
    "\n",
    "# Now, iterate through each event in the tree!\n",
    "for event in tree:\n",
    "    # Cut #1: At least 2 leptons in the event. lep_n  is the number of them.\n",
    "    if tree.lep_n >= 2:\n",
    "        \n",
    "        # Cut #2: Leptons with opposite charge.\n",
    "        #We have a list of charges, each corresponding to a lepton: lep_charges.\n",
    "        #Clearly, we can't let these be equal\n",
    "        if (tree.lep_charge[0] != tree.lep_charge[1]):\n",
    "            \n",
    "            # Cut #3: Leptons of the same family (2 electrons or 2 muons).\n",
    "            # lep_type gives back a number, which is a code for what kind of lepton it is.\n",
    "            if ( tree.lep_type[0] == tree.lep_type[1]):\n",
    "                \n",
    "                # By now we should only have paricles that look right left.\n",
    "                \n",
    "                # Let's set the components of a TLorentzVector for each lepton. Notice that the energy and momenta are given in MeV!\n",
    "                \n",
    "                leadLepton.SetPtEtaPhiE(tree.lep_pt[0]/1000., tree.lep_eta[0], tree.lep_phi[0], tree.lep_E[0]/1000.)\n",
    "                trailLepton.SetPtEtaPhiE(tree.lep_pt[1]/1000., tree.lep_eta[1], tree.lep_phi[1], tree.lep_E[1]/1000.)\n",
    "                \n",
    "                # Now, reconstruct the Z0 boson Lorentz vector! \n",
    "                Z0_boson = leadLepton + trailLepton\n",
    "                \n",
    "                # And chuck this particular value into the histogram.\n",
    "                hist.Fill(Z0_boson.M())"
   ]
  },
  {
   "cell_type": "markdown",
   "metadata": {},
   "source": [
    "After filling the histogram we want to see the results of the analysis. First we draw the histogram on the canvas and then the canvas on which the histogram lies."
   ]
  },
  {
   "cell_type": "code",
   "execution_count": 10,
   "metadata": {},
   "outputs": [],
   "source": [
    "hist.Draw()\n",
    "hist.SetFillColor(3)\n"
   ]
  },
  {
   "cell_type": "markdown",
   "metadata": {},
   "source": [
    "In order to activate the interactive visualisation of the histogram that is later created we can use the JSROOT magic:"
   ]
  },
  {
   "cell_type": "code",
   "execution_count": 11,
   "metadata": {},
   "outputs": [],
   "source": [
    "%jsroot on"
   ]
  },
  {
   "cell_type": "code",
   "execution_count": 12,
   "metadata": {},
   "outputs": [
    {
     "data": {
      "text/html": [
       "\n",
       "<div id=\"root_plot_1583409235568\"\n",
       "     style=\"width: 796px; height: 572px\">\n",
       "</div>\n",
       "<script>\n",
       "if (typeof require !== 'undefined') {\n",
       "\n",
       "    // All requirements met (we are in jupyter notebooks or we loaded requirejs before).\n",
       "    display_root_plot_1583409235568();\n",
       "\n",
       "} else {\n",
       "\n",
       "    // We are in jupyterlab, we need to insert requirejs and configure it.\n",
       "    // Jupyterlab might be installed in a different base_url so we need to know it.\n",
       "    try {\n",
       "        var base_url = JSON.parse(document.getElementById('jupyter-config-data').innerHTML).baseUrl;\n",
       "    } catch(_) {\n",
       "        var base_url = '/';\n",
       "    }\n",
       "\n",
       "    // Try loading a local version of requirejs and fallback to cdn if not possible.\n",
       "    requirejs_load(base_url + 'static/components/requirejs/require.js', requirejs_success(base_url), function(){\n",
       "        requirejs_load('https://cdnjs.cloudflare.com/ajax/libs/require.js/2.2.0/require.min.js', requirejs_success(base_url), function(){\n",
       "            document.getElementById(\"root_plot_1583409235568\").innerHTML = \"Failed to load requireJs\";\n",
       "        });\n",
       "    });\n",
       "}\n",
       "\n",
       "function requirejs_load(src, on_load, on_error) {\n",
       "    var script = document.createElement('script');\n",
       "    script.src = src;\n",
       "    script.onload = on_load;\n",
       "    script.onerror = on_error;\n",
       "    document.head.appendChild(script);\n",
       "}\n",
       "\n",
       "function requirejs_success(base_url) {\n",
       "    return function() {\n",
       "        require.config({\n",
       "            baseUrl: base_url + 'static/'\n",
       "        });\n",
       "        display_root_plot_1583409235568();\n",
       "    }\n",
       "}\n",
       "\n",
       "function display_root_plot_1583409235568() {\n",
       "    require(['scripts/JSRootCore'],\n",
       "        function(Core) {\n",
       "            var obj = Core.JSONR_unref({\"_typename\":\"TCanvas\",\"fUniqueID\":0,\"fBits\":3342344,\"fLineColor\":1,\"fLineStyle\":1,\"fLineWidth\":1,\"fFillColor\":0,\"fFillStyle\":1001,\"fLeftMargin\":0.1,\"fRightMargin\":0.1,\"fBottomMargin\":0.1,\"fTopMargin\":0.1,\"fXfile\":2,\"fYfile\":2,\"fAfile\":1,\"fXstat\":0.99,\"fYstat\":0.99,\"fAstat\":2,\"fFrameFillColor\":0,\"fFrameLineColor\":1,\"fFrameFillStyle\":1001,\"fFrameLineStyle\":1,\"fFrameLineWidth\":1,\"fFrameBorderSize\":1,\"fFrameBorderMode\":0,\"fX1\":27.4999990686774,\"fY1\":-1735.65012931601,\"fX2\":152.500000931323,\"fY2\":15620.850129316,\"fXtoAbsPixelk\":-175.119941459846,\"fXtoPixelk\":-175.119941459846,\"fXtoPixel\":6.3679999051094,\"fYtoAbsPixelk\":514.800046590614,\"fYtoPixelk\":514.800046590614,\"fYtoPixel\":-0.0329559526100617,\"fUtoAbsPixelk\":5e-5,\"fUtoPixelk\":5e-5,\"fUtoPixel\":796,\"fVtoAbsPixelk\":572.00005,\"fVtoPixelk\":572,\"fVtoPixel\":-572,\"fAbsPixeltoXk\":27.4999990686774,\"fPixeltoXk\":27.4999990686774,\"fPixeltoX\":0.157035178219404,\"fAbsPixeltoYk\":15620.850129316,\"fPixeltoYk\":-1735.65012931601,\"fPixeltoY\":-30.3435319206854,\"fXlowNDC\":0,\"fYlowNDC\":0,\"fXUpNDC\":1,\"fYUpNDC\":1,\"fWNDC\":1,\"fHNDC\":1,\"fAbsXlowNDC\":0,\"fAbsYlowNDC\":0,\"fAbsWNDC\":1,\"fAbsHNDC\":1,\"fUxmin\":40,\"fUymin\":0,\"fUxmax\":140,\"fUymax\":13885.2,\"fTheta\":30,\"fPhi\":30,\"fAspectRatio\":0,\"fNumber\":0,\"fTickx\":0,\"fTicky\":0,\"fLogx\":0,\"fLogy\":0,\"fLogz\":0,\"fPadPaint\":0,\"fCrosshair\":0,\"fCrosshairPos\":0,\"fBorderSize\":2,\"fBorderMode\":0,\"fModified\":false,\"fGridx\":false,\"fGridy\":false,\"fAbsCoord\":false,\"fEditable\":true,\"fFixedAspectRatio\":false,\"fPrimitives\":{\"_typename\":\"TList\",\"name\":\"TList\",\"arr\":[{\"_typename\":\"TFrame\",\"fUniqueID\":0,\"fBits\":8,\"fLineColor\":1,\"fLineStyle\":1,\"fLineWidth\":1,\"fFillColor\":0,\"fFillStyle\":1001,\"fX1\":40,\"fY1\":0,\"fX2\":140,\"fY2\":13885.2,\"fBorderSize\":1,\"fBorderMode\":0},{\"_typename\":\"TH1F\",\"fUniqueID\":0,\"fBits\":8,\"fName\":\"variable\",\"fTitle\":\"Mass of the Z boson\",\"fLineColor\":602,\"fLineStyle\":1,\"fLineWidth\":1,\"fFillColor\":3,\"fFillStyle\":1001,\"fMarkerColor\":1,\"fMarkerStyle\":1,\"fMarkerSize\":1,\"fNcells\":32,\"fXaxis\":{\"_typename\":\"TAxis\",\"fUniqueID\":0,\"fBits\":0,\"fName\":\"xaxis\",\"fTitle\":\" mass [GeV]\",\"fNdivisions\":510,\"fAxisColor\":1,\"fLabelColor\":1,\"fLabelFont\":42,\"fLabelOffset\":0.005,\"fLabelSize\":0.035,\"fTickLength\":0.03,\"fTitleOffset\":1,\"fTitleSize\":0.035,\"fTitleColor\":1,\"fTitleFont\":42,\"fNbins\":30,\"fXmin\":40,\"fXmax\":140,\"fXbins\":[],\"fFirst\":0,\"fLast\":0,\"fBits2\":0,\"fTimeDisplay\":false,\"fTimeFormat\":\"\",\"fLabels\":null,\"fModLabs\":null},\"fYaxis\":{\"_typename\":\"TAxis\",\"fUniqueID\":0,\"fBits\":0,\"fName\":\"yaxis\",\"fTitle\":\" events\",\"fNdivisions\":510,\"fAxisColor\":1,\"fLabelColor\":1,\"fLabelFont\":42,\"fLabelOffset\":0.005,\"fLabelSize\":0.035,\"fTickLength\":0.03,\"fTitleOffset\":0,\"fTitleSize\":0.035,\"fTitleColor\":1,\"fTitleFont\":42,\"fNbins\":1,\"fXmin\":0,\"fXmax\":1,\"fXbins\":[],\"fFirst\":0,\"fLast\":0,\"fBits2\":0,\"fTimeDisplay\":false,\"fTimeFormat\":\"\",\"fLabels\":null,\"fModLabs\":null},\"fZaxis\":{\"_typename\":\"TAxis\",\"fUniqueID\":0,\"fBits\":0,\"fName\":\"zaxis\",\"fTitle\":\"\",\"fNdivisions\":510,\"fAxisColor\":1,\"fLabelColor\":1,\"fLabelFont\":42,\"fLabelOffset\":0.005,\"fLabelSize\":0.035,\"fTickLength\":0.03,\"fTitleOffset\":1,\"fTitleSize\":0.035,\"fTitleColor\":1,\"fTitleFont\":42,\"fNbins\":1,\"fXmin\":0,\"fXmax\":1,\"fXbins\":[],\"fFirst\":0,\"fLast\":0,\"fBits2\":0,\"fTimeDisplay\":false,\"fTimeFormat\":\"\",\"fLabels\":null,\"fModLabs\":null},\"fBarOffset\":0,\"fBarWidth\":1000,\"fEntries\":37415,\"fTsumw\":33449,\"fTsumw2\":33449,\"fTsumwx\":3041844.2281979,\"fTsumwx2\":278709917.882497,\"fMaximum\":-1111,\"fMinimum\":-1111,\"fNormFactor\":0,\"fContour\":[],\"fSumw2\":[],\"fOption\":\"\",\"fFunctions\":{\"_typename\":\"TList\",\"name\":\"TList\",\"arr\":[{\"_typename\":\"TPaveStats\",\"fUniqueID\":0,\"fBits\":9,\"fLineColor\":1,\"fLineStyle\":1,\"fLineWidth\":1,\"fFillColor\":0,\"fFillStyle\":1001,\"fX1\":125.000002533197,\"fY1\":11715.6376745766,\"fX2\":150.000003278256,\"fY2\":14492.6776538861,\"fX1NDC\":0.780000016093254,\"fY1NDC\":0.775000005960464,\"fX2NDC\":0.980000019073486,\"fY2NDC\":0.935000002384186,\"fBorderSize\":1,\"fInit\":1,\"fShadowColor\":1,\"fCornerRadius\":0,\"fOption\":\"brNDC\",\"fName\":\"stats\",\"fTextAngle\":0,\"fTextSize\":0,\"fTextAlign\":12,\"fTextColor\":1,\"fTextFont\":42,\"fLabel\":\"\",\"fLongest\":18,\"fMargin\":0.05,\"fLines\":{\"_typename\":\"TList\",\"name\":\"TList\",\"arr\":[{\"_typename\":\"TLatex\",\"fUniqueID\":0,\"fBits\":0,\"fName\":\"\",\"fTitle\":\"variable\",\"fTextAngle\":0,\"fTextSize\":0.0368,\"fTextAlign\":0,\"fTextColor\":0,\"fTextFont\":0,\"fX\":0,\"fY\":0,\"fLineColor\":1,\"fLineStyle\":1,\"fLineWidth\":2,\"fLimitFactorSize\":3,\"fOriginSize\":0.0368000008165836},{\"_typename\":\"TLatex\",\"fUniqueID\":0,\"fBits\":0,\"fName\":\"\",\"fTitle\":\"Entries = 37415  \",\"fTextAngle\":0,\"fTextSize\":0,\"fTextAlign\":0,\"fTextColor\":0,\"fTextFont\":0,\"fX\":0,\"fY\":0,\"fLineColor\":1,\"fLineStyle\":1,\"fLineWidth\":2,\"fLimitFactorSize\":3,\"fOriginSize\":0.04},{\"_typename\":\"TLatex\",\"fUniqueID\":0,\"fBits\":0,\"fName\":\"\",\"fTitle\":\"Mean  =  90.94\",\"fTextAngle\":0,\"fTextSize\":0,\"fTextAlign\":0,\"fTextColor\":0,\"fTextFont\":0,\"fX\":0,\"fY\":0,\"fLineColor\":1,\"fLineStyle\":1,\"fLineWidth\":2,\"fLimitFactorSize\":3,\"fOriginSize\":0.04},{\"_typename\":\"TLatex\",\"fUniqueID\":0,\"fBits\":0,\"fName\":\"\",\"fTitle\":\"Std Dev   =  7.896\",\"fTextAngle\":0,\"fTextSize\":0,\"fTextAlign\":0,\"fTextColor\":0,\"fTextFont\":0,\"fX\":0,\"fY\":0,\"fLineColor\":1,\"fLineStyle\":1,\"fLineWidth\":2,\"fLimitFactorSize\":3,\"fOriginSize\":0.04}],\"opt\":[\"\",\"\",\"\",\"\"]},\"fOptFit\":0,\"fOptStat\":1111,\"fFitFormat\":\"5.4g\",\"fStatFormat\":\"6.4g\",\"fParent\":{\"$ref\":3}}],\"opt\":[\"brNDC\"]},\"fBufferSize\":0,\"fBuffer\":[],\"fBinStatErrOpt\":0,\"fStatOverflows\":2,\"fArray\":[53,12,12,18,15,15,42,94,127,152,202,288,485,940,2444,8649,13224,3714,1094,519,283,242,159,134,117,105,78,90,71,62,62,3913]},{\"_typename\":\"TPaveText\",\"fUniqueID\":0,\"fBits\":9,\"fLineColor\":1,\"fLineStyle\":1,\"fLineWidth\":1,\"fFillColor\":0,\"fFillStyle\":0,\"fX1\":66.8435926197668,\"fY1\":14579.4601823356,\"fX2\":113.156407380233,\"fY2\":15534.0677107851,\"fX1NDC\":0.314748743718593,\"fY1NDC\":0.940000003948808,\"fX2NDC\":0.685251256281407,\"fY2NDC\":0.995000004768372,\"fBorderSize\":0,\"fInit\":1,\"fShadowColor\":1,\"fCornerRadius\":0,\"fOption\":\"blNDC\",\"fName\":\"title\",\"fTextAngle\":0,\"fTextSize\":0,\"fTextAlign\":22,\"fTextColor\":1,\"fTextFont\":42,\"fLabel\":\"\",\"fLongest\":19,\"fMargin\":0.05,\"fLines\":{\"_typename\":\"TList\",\"name\":\"TList\",\"arr\":[{\"_typename\":\"TLatex\",\"fUniqueID\":0,\"fBits\":0,\"fName\":\"\",\"fTitle\":\"Mass of the Z boson\",\"fTextAngle\":0,\"fTextSize\":0,\"fTextAlign\":0,\"fTextColor\":0,\"fTextFont\":0,\"fX\":0,\"fY\":0,\"fLineColor\":1,\"fLineStyle\":1,\"fLineWidth\":2,\"fLimitFactorSize\":3,\"fOriginSize\":0.0467500016093254}],\"opt\":[\"\"]}}],\"opt\":[\"\",\"\",\"blNDC\"]},\"fExecs\":null,\"fName\":\"Canvas\",\"fTitle\":\"c\",\"fNumPaletteColor\":0,\"fNextPaletteColor\":0,\"fDISPLAY\":\"$DISPLAY\",\"fDoubleBuffer\":0,\"fRetained\":true,\"fXsizeUser\":0,\"fYsizeUser\":0,\"fXsizeReal\":20,\"fYsizeReal\":15,\"fWindowTopX\":0,\"fWindowTopY\":0,\"fWindowWidth\":0,\"fWindowHeight\":0,\"fCw\":796,\"fCh\":572,\"fCatt\":{\"_typename\":\"TAttCanvas\",\"fXBetween\":2,\"fYBetween\":2,\"fTitleFromTop\":1.2,\"fXdate\":0.2,\"fYdate\":0.3,\"fAdate\":1},\"kMoveOpaque\":true,\"kResizeOpaque\":true,\"fHighLightColor\":2,\"fBatch\":true,\"kShowEventStatus\":false,\"kAutoExec\":true,\"kMenuBar\":true});\n",
       "            Core.draw(\"root_plot_1583409235568\", obj, \"\");\n",
       "        }\n",
       "    );\n",
       "}\n",
       "</script>\n"
      ],
      "text/plain": [
       "<IPython.core.display.HTML object>"
      ]
     },
     "metadata": {},
     "output_type": "display_data"
    }
   ],
   "source": [
    "canvas.Draw()"
   ]
  },
  {
   "cell_type": "markdown",
   "metadata": {},
   "source": [
    "**Done**"
   ]
  },
  {
   "cell_type": "markdown",
   "metadata": {},
   "source": [
    "Well done!\n",
    "\n",
    "If everything went well, you have just reconstructed the $Z^0$ boson!\n",
    "\n",
    "*Interpret this graph - what is the mass of this boson?*"
   ]
  },
  {
   "cell_type": "markdown",
   "metadata": {},
   "source": [
    "### To four leptons\n",
    "\n",
    "Now it is your turn. **This one will be much harder**, and will test your logic and coding skills.\n",
    "\n",
    "We have at theory that a more complicated interaction occurs between a quark, $q$, and an antiquark, $\\bar{q}$. We think that they come towards each other, quickly exchange a particle (the vertical line below). When this happens, the quark and antiquarks turns into a $Z^0$, which then decay themselves.\n",
    "\n",
    "<CENTER><img src=\"https://inspirehep.net/record/1229037/files/fig01a.png\" style=\"width:30%\"></CENTER>\n",
    "\n",
    "Does this happen in reality? Let's find out, using the data from above.\n",
    "\n",
    "To find out, we are going to apply cuts, and then see if the plots that we get out still make sense.\n",
    "\n",
    "*We can't reconstruct the 4-momenta of the quarks, or the exchanged particle - why?*\n",
    "\n",
    "Instead, we are going to work out the masses of both $Z^0$s in the situation."
   ]
  },
  {
   "cell_type": "markdown",
   "metadata": {},
   "source": [
    "This one will be a lot harder, as its much less clean.\n",
    "\n",
    "Tips:\n",
    "\n",
    "* You will need to add some cuts.\n",
    "* What will these cuts be?\n",
    "* There may be some combinatoric issues.\n",
    "* What do you have to have?"
   ]
  },
  {
   "cell_type": "code",
   "execution_count": 13,
   "metadata": {},
   "outputs": [],
   "source": [
    "f_4l = ROOT.TFile.Open(\"~/mc_363490.llll.4lep.root\") ## 4 lepton 13 TeV sample\n",
    "tree = f_4l.Get(\"mini\")\n",
    "tree.GetEntries()\n",
    "\n",
    "\n",
    "canvas_Zl4 = ROOT.TCanvas(\"Canvas_Zl4\",\"c\",800,600)\n",
    "hist_Zl4 = ROOT.TH1F(\"variable\",\"Mass of the Z boson from 4-lepton events; mass [GeV]; events\", 30, 40, 140)"
   ]
  },
  {
   "cell_type": "code",
   "execution_count": 14,
   "metadata": {},
   "outputs": [
    {
     "data": {
      "text/html": [
       "\n",
       "<div id=\"root_plot_1583409263418\"\n",
       "     style=\"width: 796px; height: 572px\">\n",
       "</div>\n",
       "<script>\n",
       "if (typeof require !== 'undefined') {\n",
       "\n",
       "    // All requirements met (we are in jupyter notebooks or we loaded requirejs before).\n",
       "    display_root_plot_1583409263418();\n",
       "\n",
       "} else {\n",
       "\n",
       "    // We are in jupyterlab, we need to insert requirejs and configure it.\n",
       "    // Jupyterlab might be installed in a different base_url so we need to know it.\n",
       "    try {\n",
       "        var base_url = JSON.parse(document.getElementById('jupyter-config-data').innerHTML).baseUrl;\n",
       "    } catch(_) {\n",
       "        var base_url = '/';\n",
       "    }\n",
       "\n",
       "    // Try loading a local version of requirejs and fallback to cdn if not possible.\n",
       "    requirejs_load(base_url + 'static/components/requirejs/require.js', requirejs_success(base_url), function(){\n",
       "        requirejs_load('https://cdnjs.cloudflare.com/ajax/libs/require.js/2.2.0/require.min.js', requirejs_success(base_url), function(){\n",
       "            document.getElementById(\"root_plot_1583409263418\").innerHTML = \"Failed to load requireJs\";\n",
       "        });\n",
       "    });\n",
       "}\n",
       "\n",
       "function requirejs_load(src, on_load, on_error) {\n",
       "    var script = document.createElement('script');\n",
       "    script.src = src;\n",
       "    script.onload = on_load;\n",
       "    script.onerror = on_error;\n",
       "    document.head.appendChild(script);\n",
       "}\n",
       "\n",
       "function requirejs_success(base_url) {\n",
       "    return function() {\n",
       "        require.config({\n",
       "            baseUrl: base_url + 'static/'\n",
       "        });\n",
       "        display_root_plot_1583409263418();\n",
       "    }\n",
       "}\n",
       "\n",
       "function display_root_plot_1583409263418() {\n",
       "    require(['scripts/JSRootCore'],\n",
       "        function(Core) {\n",
       "            var obj = Core.JSONR_unref({\"_typename\":\"TCanvas\",\"fUniqueID\":0,\"fBits\":3342344,\"fLineColor\":1,\"fLineStyle\":1,\"fLineWidth\":1,\"fFillColor\":0,\"fFillStyle\":1001,\"fLeftMargin\":0.1,\"fRightMargin\":0.1,\"fBottomMargin\":0.1,\"fTopMargin\":0.1,\"fXfile\":2,\"fYfile\":2,\"fAfile\":1,\"fXstat\":0.99,\"fYstat\":0.99,\"fAstat\":2,\"fFrameFillColor\":0,\"fFrameLineColor\":1,\"fFrameFillStyle\":1001,\"fFrameLineStyle\":1,\"fFrameLineWidth\":1,\"fFrameBorderSize\":1,\"fFrameBorderMode\":0,\"fX1\":27.4999990686774,\"fY1\":-6115.85670566683,\"fX2\":152.500000931323,\"fY2\":55042.7067056668,\"fXtoAbsPixelk\":-175.119941459846,\"fXtoPixelk\":-175.119941459846,\"fXtoPixel\":6.3679999051094,\"fYtoAbsPixelk\":514.800046590614,\"fYtoPixelk\":514.800046590614,\"fYtoPixel\":-0.00935273767228482,\"fUtoAbsPixelk\":5e-5,\"fUtoPixelk\":5e-5,\"fUtoPixel\":796,\"fVtoAbsPixelk\":572.00005,\"fVtoPixelk\":572,\"fVtoPixel\":-572,\"fAbsPixeltoXk\":27.4999990686774,\"fPixeltoXk\":27.4999990686774,\"fPixeltoX\":0.157035178219404,\"fAbsPixeltoYk\":55042.7067056668,\"fPixeltoYk\":-6115.85670566683,\"fPixeltoY\":-106.920565404429,\"fXlowNDC\":0,\"fYlowNDC\":0,\"fXUpNDC\":1,\"fYUpNDC\":1,\"fWNDC\":1,\"fHNDC\":1,\"fAbsXlowNDC\":0,\"fAbsYlowNDC\":0,\"fAbsWNDC\":1,\"fAbsHNDC\":1,\"fUxmin\":40,\"fUymin\":0,\"fUxmax\":140,\"fUymax\":48926.85,\"fTheta\":30,\"fPhi\":30,\"fAspectRatio\":0,\"fNumber\":0,\"fTickx\":0,\"fTicky\":0,\"fLogx\":0,\"fLogy\":0,\"fLogz\":0,\"fPadPaint\":0,\"fCrosshair\":0,\"fCrosshairPos\":0,\"fBorderSize\":2,\"fBorderMode\":0,\"fModified\":false,\"fGridx\":false,\"fGridy\":false,\"fAbsCoord\":false,\"fEditable\":true,\"fFixedAspectRatio\":false,\"fPrimitives\":{\"_typename\":\"TList\",\"name\":\"TList\",\"arr\":[{\"_typename\":\"TFrame\",\"fUniqueID\":0,\"fBits\":8,\"fLineColor\":1,\"fLineStyle\":1,\"fLineWidth\":1,\"fFillColor\":0,\"fFillStyle\":1001,\"fX1\":40,\"fY1\":0,\"fX2\":140,\"fY2\":48926.85,\"fBorderSize\":1,\"fBorderMode\":0},{\"_typename\":\"TH1F\",\"fUniqueID\":0,\"fBits\":8,\"fName\":\"variable\",\"fTitle\":\"Mass of the Z boson from 4-lepton events\",\"fLineColor\":602,\"fLineStyle\":1,\"fLineWidth\":1,\"fFillColor\":3,\"fFillStyle\":1001,\"fMarkerColor\":1,\"fMarkerStyle\":1,\"fMarkerSize\":1,\"fNcells\":32,\"fXaxis\":{\"_typename\":\"TAxis\",\"fUniqueID\":0,\"fBits\":0,\"fName\":\"xaxis\",\"fTitle\":\" mass [GeV]\",\"fNdivisions\":510,\"fAxisColor\":1,\"fLabelColor\":1,\"fLabelFont\":42,\"fLabelOffset\":0.005,\"fLabelSize\":0.035,\"fTickLength\":0.03,\"fTitleOffset\":1,\"fTitleSize\":0.035,\"fTitleColor\":1,\"fTitleFont\":42,\"fNbins\":30,\"fXmin\":40,\"fXmax\":140,\"fXbins\":[],\"fFirst\":0,\"fLast\":0,\"fBits2\":0,\"fTimeDisplay\":false,\"fTimeFormat\":\"\",\"fLabels\":null,\"fModLabs\":null},\"fYaxis\":{\"_typename\":\"TAxis\",\"fUniqueID\":0,\"fBits\":0,\"fName\":\"yaxis\",\"fTitle\":\" events\",\"fNdivisions\":510,\"fAxisColor\":1,\"fLabelColor\":1,\"fLabelFont\":42,\"fLabelOffset\":0.005,\"fLabelSize\":0.035,\"fTickLength\":0.03,\"fTitleOffset\":0,\"fTitleSize\":0.035,\"fTitleColor\":1,\"fTitleFont\":42,\"fNbins\":1,\"fXmin\":0,\"fXmax\":1,\"fXbins\":[],\"fFirst\":0,\"fLast\":0,\"fBits2\":0,\"fTimeDisplay\":false,\"fTimeFormat\":\"\",\"fLabels\":null,\"fModLabs\":null},\"fZaxis\":{\"_typename\":\"TAxis\",\"fUniqueID\":0,\"fBits\":0,\"fName\":\"zaxis\",\"fTitle\":\"\",\"fNdivisions\":510,\"fAxisColor\":1,\"fLabelColor\":1,\"fLabelFont\":42,\"fLabelOffset\":0.005,\"fLabelSize\":0.035,\"fTickLength\":0.03,\"fTitleOffset\":1,\"fTitleSize\":0.035,\"fTitleColor\":1,\"fTitleFont\":42,\"fNbins\":1,\"fXmin\":0,\"fXmax\":1,\"fXbins\":[],\"fFirst\":0,\"fLast\":0,\"fBits2\":0,\"fTimeDisplay\":false,\"fTimeFormat\":\"\",\"fLabels\":null,\"fModLabs\":null},\"fBarOffset\":0,\"fBarWidth\":1000,\"fEntries\":451072,\"fTsumw\":267742,\"fTsumw2\":267742,\"fTsumwx\":22006834.0245742,\"fTsumwx2\":1922506876.53444,\"fMaximum\":-1111,\"fMinimum\":-1111,\"fNormFactor\":0,\"fContour\":[],\"fSumw2\":[],\"fOption\":\"\",\"fFunctions\":{\"_typename\":\"TList\",\"name\":\"TList\",\"arr\":[{\"_typename\":\"TPaveStats\",\"fUniqueID\":0,\"fBits\":9,\"fLineColor\":1,\"fLineStyle\":1,\"fLineWidth\":1,\"fFillColor\":0,\"fFillStyle\":1001,\"fX1\":125.000002533197,\"fY1\":41282.0303026502,\"fX2\":150.000003278256,\"fY2\":51067.4002297435,\"fX1NDC\":0.780000016093254,\"fY1NDC\":0.775000005960464,\"fX2NDC\":0.980000019073486,\"fY2NDC\":0.935000002384186,\"fBorderSize\":1,\"fInit\":1,\"fShadowColor\":1,\"fCornerRadius\":0,\"fOption\":\"brNDC\",\"fName\":\"stats\",\"fTextAngle\":0,\"fTextSize\":0,\"fTextAlign\":12,\"fTextColor\":1,\"fTextFont\":42,\"fLabel\":\"\",\"fLongest\":18,\"fMargin\":0.05,\"fLines\":{\"_typename\":\"TList\",\"name\":\"TList\",\"arr\":[{\"_typename\":\"TLatex\",\"fUniqueID\":0,\"fBits\":0,\"fName\":\"\",\"fTitle\":\"variable\",\"fTextAngle\":0,\"fTextSize\":0.0368,\"fTextAlign\":0,\"fTextColor\":0,\"fTextFont\":0,\"fX\":0,\"fY\":0,\"fLineColor\":1,\"fLineStyle\":1,\"fLineWidth\":2,\"fLimitFactorSize\":3,\"fOriginSize\":0.0368000008165836},{\"_typename\":\"TLatex\",\"fUniqueID\":0,\"fBits\":0,\"fName\":\"\",\"fTitle\":\"Entries = 451072 \",\"fTextAngle\":0,\"fTextSize\":0,\"fTextAlign\":0,\"fTextColor\":0,\"fTextFont\":0,\"fX\":0,\"fY\":0,\"fLineColor\":1,\"fLineStyle\":1,\"fLineWidth\":2,\"fLimitFactorSize\":3,\"fOriginSize\":0.04},{\"_typename\":\"TLatex\",\"fUniqueID\":0,\"fBits\":0,\"fName\":\"\",\"fTitle\":\"Mean  =  82.19\",\"fTextAngle\":0,\"fTextSize\":0,\"fTextAlign\":0,\"fTextColor\":0,\"fTextFont\":0,\"fX\":0,\"fY\":0,\"fLineColor\":1,\"fLineStyle\":1,\"fLineWidth\":2,\"fLimitFactorSize\":3,\"fOriginSize\":0.04},{\"_typename\":\"TLatex\",\"fUniqueID\":0,\"fBits\":0,\"fName\":\"\",\"fTitle\":\"Std Dev   =   20.6\",\"fTextAngle\":0,\"fTextSize\":0,\"fTextAlign\":0,\"fTextColor\":0,\"fTextFont\":0,\"fX\":0,\"fY\":0,\"fLineColor\":1,\"fLineStyle\":1,\"fLineWidth\":2,\"fLimitFactorSize\":3,\"fOriginSize\":0.04}],\"opt\":[\"\",\"\",\"\",\"\"]},\"fOptFit\":0,\"fOptStat\":1111,\"fFitFormat\":\"5.4g\",\"fStatFormat\":\"6.4g\",\"fParent\":{\"$ref\":3}}],\"opt\":[\"brNDC\"]},\"fBufferSize\":0,\"fBuffer\":[],\"fBinStatErrOpt\":0,\"fStatOverflows\":2,\"fArray\":[130956,6070,6206,6790,7818,9277,10470,11216,11139,10718,9345,7916,7237,8440,14485,35956,46597,17953,6940,4535,3702,3227,2947,2726,2642,2539,2371,2314,2131,2025,2010,52374]},{\"_typename\":\"TPaveText\",\"fUniqueID\":0,\"fBits\":9,\"fLineColor\":1,\"fLineStyle\":1,\"fLineWidth\":1,\"fFillColor\":0,\"fFillStyle\":0,\"fX1\":46.2499993480742,\"fY1\":51016.0785041628,\"fX2\":133.750000651926,\"fY2\":54736.9141802369,\"fX1NDC\":0.15,\"fY1NDC\":0.934160843929211,\"fX2NDC\":0.85,\"fY2NDC\":0.995000004768372,\"fBorderSize\":0,\"fInit\":1,\"fShadowColor\":1,\"fCornerRadius\":0,\"fOption\":\"blNDC\",\"fName\":\"title\",\"fTextAngle\":0,\"fTextSize\":0,\"fTextAlign\":22,\"fTextColor\":1,\"fTextFont\":42,\"fLabel\":\"\",\"fLongest\":40,\"fMargin\":0.05,\"fLines\":{\"_typename\":\"TList\",\"name\":\"TList\",\"arr\":[{\"_typename\":\"TLatex\",\"fUniqueID\":0,\"fBits\":0,\"fName\":\"\",\"fTitle\":\"Mass of the Z boson from 4-lepton events\",\"fTextAngle\":0,\"fTextSize\":0,\"fTextAlign\":0,\"fTextColor\":0,\"fTextFont\":0,\"fX\":0,\"fY\":0,\"fLineColor\":1,\"fLineStyle\":1,\"fLineWidth\":2,\"fLimitFactorSize\":3,\"fOriginSize\":0.0517132878303528}],\"opt\":[\"\"]}}],\"opt\":[\"\",\"\",\"blNDC\"]},\"fExecs\":null,\"fName\":\"Canvas_Zl4\",\"fTitle\":\"c\",\"fNumPaletteColor\":0,\"fNextPaletteColor\":0,\"fDISPLAY\":\"$DISPLAY\",\"fDoubleBuffer\":0,\"fRetained\":true,\"fXsizeUser\":0,\"fYsizeUser\":0,\"fXsizeReal\":20,\"fYsizeReal\":15,\"fWindowTopX\":0,\"fWindowTopY\":0,\"fWindowWidth\":0,\"fWindowHeight\":0,\"fCw\":796,\"fCh\":572,\"fCatt\":{\"_typename\":\"TAttCanvas\",\"fXBetween\":2,\"fYBetween\":2,\"fTitleFromTop\":1.2,\"fXdate\":0.2,\"fYdate\":0.3,\"fAdate\":1},\"kMoveOpaque\":true,\"kResizeOpaque\":true,\"fHighLightColor\":2,\"fBatch\":true,\"kShowEventStatus\":false,\"kAutoExec\":true,\"kMenuBar\":true});\n",
       "            Core.draw(\"root_plot_1583409263418\", obj, \"\");\n",
       "        }\n",
       "    );\n",
       "}\n",
       "</script>\n"
      ],
      "text/plain": [
       "<IPython.core.display.HTML object>"
      ]
     },
     "metadata": {},
     "output_type": "display_data"
    }
   ],
   "source": [
    "# Declare four TLorentzVectors\n",
    "\n",
    "\n",
    "firstLepton  = ROOT.TLorentzVector()\n",
    "secondLepton = ROOT.TLorentzVector()\n",
    "thirdLepton = ROOT.TLorentzVector()\n",
    "fourthLepton = ROOT.TLorentzVector()\n",
    "\n",
    "# Now, iterate through each event in the tree!\n",
    "for event in tree:\n",
    "    # Cut #1: At least 2 leptons in the event. lep_n  is the number of them.\n",
    "    if tree.lep_n >= 4:\n",
    "        \n",
    "        # Cut #2: Leptons with opposite charge.\n",
    "        #We have a list of charges, each corresponding to a lepton: lep_charges.\n",
    "        #Clearly, we can't let these be equal\n",
    "        if (tree.lep_charge[0] != tree.lep_charge[1]):\n",
    "            \n",
    "            # Cut #3: Leptons of the same family (2 electrons or 2 muons).\n",
    "            # lep_type gives back a number, which is a code for what kind of lepton it is.\n",
    "            if ( tree.lep_type[0] == tree.lep_type[1]):\n",
    "\n",
    "                # Cut #2: Leptons with opposite charge.\n",
    "                #We have a list of charges, each corresponding to a lepton: lep_charges.\n",
    "                #Clearly, we can't let these be equal\n",
    "                if (tree.lep_charge[2] != tree.lep_charge[3]):\n",
    "\n",
    "                    # Cut #3: Leptons of the same family (2 electrons or 2 muons).\n",
    "                    # lep_type gives back a number, which is a code for what kind of lepton it is.\n",
    "                    if ( tree.lep_type[2] == tree.lep_type[3]):\n",
    "                        # By now we should only have paricles that look right left.\n",
    "\n",
    "                        # Let's set the components of a TLorentzVector for each lepton. Notice that the energy and momenta are given in MeV!\n",
    "\n",
    "                        firstLepton.SetPtEtaPhiE(tree.lep_pt[0]/1000., tree.lep_eta[0], tree.lep_phi[0], tree.lep_E[0]/1000.)\n",
    "                        secondLepton.SetPtEtaPhiE(tree.lep_pt[1]/1000., tree.lep_eta[1], tree.lep_phi[1], tree.lep_E[1]/1000.)\n",
    "\n",
    "                        thirdLepton.SetPtEtaPhiE(tree.lep_pt[2]/1000., tree.lep_eta[2], tree.lep_phi[2], tree.lep_E[2]/1000.)\n",
    "                        fourthLepton.SetPtEtaPhiE(tree.lep_pt[3]/1000., tree.lep_eta[3], tree.lep_phi[3], tree.lep_E[3]/1000.)\n",
    "                        \n",
    "                        # Now, reconstruct the Z0 boson Lorentz vector! \n",
    "                        Z0_boson1 = firstLepton + secondLepton\n",
    "                        Z0_boson2 = thirdLepton + fourthLepton\n",
    "\n",
    "                        # And chuck this particular value into the histogram.\n",
    "                        hist_Zl4.Fill(Z0_boson1.M())\n",
    "                        hist_Zl4.Fill(Z0_boson2.M())\n",
    "                        \n",
    "hist_Zl4.Draw()\n",
    "hist_Zl4.SetFillColor(3)\n",
    "\n",
    "canvas_Zl4.Draw()"
   ]
  },
  {
   "cell_type": "markdown",
   "metadata": {},
   "source": [
    "Why is this a really bad way to do it?\n",
    "\n",
    "What is combinatoric background?"
   ]
  }
 ],
 "metadata": {
  "kernelspec": {
   "display_name": "Python 3",
   "language": "python",
   "name": "python3"
  },
  "language_info": {
   "codemirror_mode": {
    "name": "ipython",
    "version": 3
   },
   "file_extension": ".py",
   "mimetype": "text/x-python",
   "name": "python",
   "nbconvert_exporter": "python",
   "pygments_lexer": "ipython3",
   "version": "3.7.6"
  }
 },
 "nbformat": 4,
 "nbformat_minor": 2
}
