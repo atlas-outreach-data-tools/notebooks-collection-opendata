{
 "cells": [
  {
   "cell_type": "markdown",
   "metadata": {},
   "source": [
    "# Looking for the Beauty Higgs decay!"
   ]
  },
  {
   "cell_type": "markdown",
   "metadata": {},
   "source": [
    "<CENTER><img src=\"../../images/ATLASOD.gif\" style=\"width:50%\"></CENTER>"
   ]
  },
  {
   "cell_type": "markdown",
   "metadata": {},
   "source": [
    "This notebook uses [ATLAS Open Data](https://opendata.atlas.cern) to show you the steps to search for the Higgs to two $b$ quarks decay.\n",
    "\n",
    "ATLAS Open Data provides open access to proton-proton collision data at the LHC for educational purposes. ATLAS Open Data resources are ideal for high-school, undergraduate and postgraduate students.\n",
    "\n",
    "Notebooks are web applications that allow you to create and share documents that can contain for example:\n",
    "1. live code\n",
    "2. visualisations\n",
    "3. narrative text\n"
   ]
  },
  {
   "cell_type": "markdown",
   "metadata": {},
   "source": [
    "### What is the Higgs boson? \n",
    "The Higgs boson is a fundamental particle predicted by the Standard Model. \n",
    "It is a manifestation of the Higgs field,\n",
    "    which gives mass to the fundamental particles.\n",
    "However,\n",
    "    it is incredibly hard to produce.\n",
    "At the LHC, \n",
    "    a Higgs particle is produced about once every 10 billion collisions!\n",
    "This tiny fraction makes it very difficult to detect.\n",
    "Nevertheless, \n",
    "    after years of data collection, \n",
    "    the Higgs boson was finally discovered in 2012 by CMS and ATLAS experiments at CERN.\n",
    "In this tutorial, \n",
    "    we shall search for the Higgs as well. \n"
   ]
  },
  {
   "cell_type": "markdown",
   "metadata": {},
   "source": [
    "### Searching for the Higgs\n",
    "This analysis loosely follows the paper on the [evidence of $H\\to b\\bar{b}$ decay by ATLAS](https://link.springer.com/article/10.1007/JHEP12%282017%29024). You can read more about this analysis in the Physics Briefing from 2017: [A first LHC sighting of the Higgs boson in its favourite decay](https://atlas.cern/updates/briefing/first-lhc-sighting-higgs-boson-its-favourite-decay).\n",
    "\n",
    "The Higgs boson can be produced in many different ways. \n",
    "In particle physics, \n",
    "    we describe these production modes using Feynman diagrams.\n",
    "These diagrams allow us to visualise particle processes while also acting as powerful tools for calculations.\n",
    "See [here](https://cds.cern.ch/record/2759490/files/Feynman%20Diagrams%20-%20ATLAS%20Cheat%20Sheet.pdf) for more information on Feynman diagrams.\n",
    "\n",
    "There are four main production modes of the Higgs boson, and their respective Feynman diagrams:\n",
    "1. Gluon-gluon fusion (top left)\n",
    "2. Vector boson fusion (top right)\n",
    "3. Vector boson bremsstrahlung (bottom left)\n",
    "4. Top-antitop fusion (bottom right)\n",
    "\n",
    "<table>\n",
    "        <tr>\n",
    "            <td bgcolor=\"#ffffff\"><img src=\"images/ImagesHiggs/ggH.png\"></td>\n",
    "            <td bgcolor=\"#ffffff\"><img src=\"images/ImagesHiggs/VBFH.png\"></td>\n",
    "        </tr>\n",
    "        <tr>\n",
    "            <td bgcolor=\"#ffffff\"><img src=\"images/ImagesHiggs/WH.png\" ></td>\n",
    "            <td bgcolor=\"#ffffff\"><img src=\"images/ImagesHiggs/ttbarfusion.png\" ></td>\n",
    "        </tr>\n",
    "    </table>\n",
    "\n",
    "The Higgs has a very short lifetime,\n",
    "    on the order of $10^{-22} \\,\\text{s}$.\n",
    "It decays extremely quickly after production,\n",
    "    so there is no hope of directly detecting the particle.\n",
    "Nevertheless,\n",
    "    we can use the Standard Model to predict its \n",
    "    decay products: photons, $Z$ bosons, quarks, etc.,\n",
    "    all with different probabilities.\n",
    "These **decay channels** can be used to identify the Higgs boson.\n",
    "In this notebook, \n",
    "    we'll be looking at one particular decay channel:\n",
    "$$H \\rightarrow b\\bar{b}$$"
   ]
  },
  {
   "cell_type": "markdown",
   "metadata": {},
   "source": [
    "This decay channel actually accounts for almost $60\\%$ of all Higgs decays. \n",
    "Ideally,\n",
    "    we would search for collisions which yield two bottom quarks as products and this would tell us that a Higgs boson is present.\n",
    "Despite this, \n",
    "    the Higgs was not discovered through this channel, \n",
    "    and this decay was only verified more recently in $2018$.\n",
    "Why?\n",
    "In fact, \n",
    "    this channel is one of the most difficult to detect at the LHC,\n",
    "    precisely because proton-proton collisions tend to produce a huge number of $b$ quarks independently of the Higgs.\n",
    "In addition to the decay signal,\n",
    "    there are many other **background** processes that lead to two reconstructed $b$ quarks in the final state. \n",
    "\n",
    "To make the analysis easier, \n",
    "    we will focus on the vector boson bremsstrahlung production channel, \n",
    "    in which a $W$ or $Z$ bozon is also created.\n",
    "Because the leptonic decays of the $W$ and $Z$ have very clear signatures,\n",
    "    these processes will help us identify the case where the Higgs is produced.\n",
    "There are three main decay channels for $H\\to b\\bar{b}$:\n",
    "1. $0$-lepton products: $Z + H\\to \\nu\\bar{\\nu} + b\\bar{b}$\n",
    "2. $1$-lepton products: $W + H\\to l\\nu  + b\\bar{b}$\n",
    "3. $2$-lepton products: $Z + H\\to l\\bar{l} + b\\bar{b}$\n",
    "\n",
    "We will focus on the $0$-lepton channel.\n",
    "This is referred to as our desired **signal**.\n",
    "In this channel, \n",
    "    there are no charged leptons produced, \n",
    "    only neutrinos and bottom quarks.\n",
    "Nevertheless,\n",
    "    after narrowing our analysis,\n",
    "    we still have to deal with a lot of background processes."
   ]
  },
  {
   "cell_type": "markdown",
   "metadata": {},
   "source": [
    "Wait a second, \n",
    "    it turns out that the ATLAS detector cannot detect neutrinos!\n",
    "How then do we verify our $0$-lepton channel?\n",
    "Actually, \n",
    "    using a physical principle known as conservation of momentum,\n",
    "    we can indirectly detect the presence of neutrinos.\n",
    "Since the proton beams in the LHC are travelling axially, \n",
    "    the momentum in the transverse/radial direction must sum to zero before and after the collision event.\n",
    "When a neutrino is created and not directly detected,\n",
    "    there is some missing transverse energy $E^\\text{miss}_T$ that can be calculated from the other decay products.\n",
    "This missing transverse energy can then be used in calculations which verify the Higgs decay."
   ]
  },
  {
   "cell_type": "markdown",
   "metadata": {},
   "source": [
    "One of the main sources of background is that of $V+$ jets processes (V being either a W- or a Z-boson), \n",
    "    where leptons produced can either be lost or misidentified as jets.\n",
    "\n",
    "We also have background contributions from diboson processs $ZZ\\to \\nu\\bar{\\nu} + b\\bar{b}$ and top-antitop processes. \n",
    "\n",
    "\n",
    "For these backgrounds,\n",
    "    we will attempt to distinguish them from the Higgs decay using various selection rules.\n",
    "These selection rules place restrictions on the physical variables in the data,\n",
    "    such as the relationships between the jet and neutrino angles, \n",
    "    or the minimum $E^\\text{miss}_T$.\n",
    "Thus, \n",
    "    we can cut away all data with products that do not have these properties.\n",
    "These selections increase the ratio of our signal to the background.\n",
    "\n",
    "We can further discern the signal by accounting for the total invariant mass of the two bottom quark products. \n",
    "We know through conservation of energy and momentum that the invariant mass of the products must be equal to the Higgs mass, \n",
    "    while other background processes will have different invariant masses. \n",
    "Our last step would be to plot the invariant mass of each event and spot the peak in mass around $125\\, \\text{GeV}$,\n",
    "    which corresponds to the mass of the Higgs boson. \n",
    "\n",
    "By the end of this notebook you will be able to:\n",
    "1. Learn to process large data sets using selections\n",
    "2. Understand some general principles of a particle physics analysis\n",
    "3. Search for the Higgs boson!\n",
    "\n",
    "See [here](https://opendata.atlas.cern/docs/data/for_research/metadata) for more information on signals and backgrounds!"
   ]
  },
  {
   "cell_type": "markdown",
   "metadata": {},
   "source": [
    "## A challenging channel\n",
    "\n",
    "As was mentioned earlier the searches for Higgs decaying into $b\\bar{b}$ is very challenging at the LHC due to the large backgrounds of b-jets coming from other interactions happening in the proton-proton collision. In fact, pairs of b-quarks from other processes than the decay of the Higgs are created 10 million times more frequently than a $H \\to b\\bar{b}$ decay. It is therefore crucial for to be able to surpress as much of this background as possible. This is the main motivation for looking at Higgs bosons produced in assosciation with either a W- or a Z-boson. Nevertheless, given the complexity of the published $H \\to b\\bar{b}$ analysis there are some shortcomings of the analysis when carried out using the OpenData which will lead to somewhat poorer results. Some of these issues are listed below. Maybe, after going through this notebook, you will be able to improve on some of these? \n",
    "\n",
    " * Jets with $|\\eta|>2.5$ are not inculded in the ATLAS OpenData (will be in the next release, though) \n",
    " * The *muon-in-jet* correction can not be applied (see page 8 of publication)\n",
    " * There are no scale factors for the MET triggers in ATLAS OpenData (estimated to be within 5% (see Section 4.2.1 on page 10 ))\n",
    " * A greatly simplified *PtReco* correction to the energy of (all) jets (see page 8 of publication)\n",
    "     * Applied in this notebook is a linearly decreasing correction assuming 12% correction for jets with $p_T = 20~$GeV and 1% for jets with $p_T \\geq 100~$GeV. As illustrated in the plot below. "
   ]
  },
  {
   "cell_type": "code",
   "execution_count": 1,
   "metadata": {},
   "outputs": [
    {
     "data": {
      "image/png": "[encoded data removed]",
      "text/plain": [
       "<Figure size 432x288 with 1 Axes>"
      ]
     },
     "metadata": {
      "needs_background": "light"
     },
     "output_type": "display_data"
    }
   ],
   "source": [
    "import numpy as np # for numerical calculations such as histogramming\n",
    "import matplotlib.pyplot as plt # for plotting\n",
    "fig, ax = plt.subplots()\n",
    "x = np.linspace(20, 100, 80)\n",
    "y = ((-11./80.)*x+14.76)\n",
    "x2 = np.linspace(100, 300, 200)\n",
    "y2 = np.ones(200)\n",
    "plt.plot(x,y,c=\"blue\")\n",
    "plt.locator_params(axis='both', nbins=20)\n",
    "plt.grid(True)\n",
    "plt.plot(x2,y2,c=\"blue\")\n",
    "ax.set_title(\"PtReco Correction in H to bbar analysis\")\n",
    "ax.set_xlabel(r'Transverse momentum of jets [GeV]')\n",
    "ax.set_ylabel(\"Energy Correction [%]\");"
   ]
  },
  {
   "cell_type": "markdown",
   "metadata": {},
   "source": [
    "### Running a Python notebook\n",
    "A Python notebook consists of cell blocks, \n",
    "    each containing lines of Python code.\n",
    "Each cell can be run independently of each other,\n",
    "    yielding respective outputs below the cells.\n",
    "Conventionally,\n",
    "    cells are run in order from top to bottom.\n",
    "\n",
    "\n",
    "- To run the whole notebook, in the top menu click Cell $\\to$ Run All.\n",
    "\n",
    "- To propagate a change you've made to a piece of code, click Cell $\\to$ Run All Below.\n",
    "\n",
    "- You can also run a single code cell, by clicking Cell $\\to$ Run Cells, or using the keyboard shortcut Shift+Enter.\n",
    "\n",
    "For more information, \n",
    "    refer to [here](https://www.codecademy.com/article/how-to-use-jupyter-notebooks)."
   ]
  },
  {
   "cell_type": "markdown",
   "metadata": {},
   "source": [
    "## ATLAS Open Data Initialisation"
   ]
  },
  {
   "cell_type": "markdown",
   "metadata": {},
   "source": [
    "### First time package installation on your computer (not needed on mybinder)\n",
    "This first cell installs the required python packages.\n",
    "It only needs to be run the first time you open this notebook on your computer. \n",
    "If you close Jupyter and re-open on the same computer, you won't need to run this first cell again.\n",
    "If this is opened on mybinder, you don't need to run this cell.\n",
    "\n",
    "We will use the [atlasopenmagic](https://opendata.atlas.cern/docs/data/atlasopenmagic) to install all the required packages. We will later use this package to retrieve the Open Data datasets. "
   ]
  },
  {
   "cell_type": "code",
   "execution_count": null,
   "metadata": {},
   "outputs": [],
   "source": [
    "#install required packages\n",
    "import sys\n",
    "!pip install atlasopenmagic\n",
    "from atlasopenmagic import install_from_environment\n",
    "install_from_environment()"
   ]
  },
  {
   "cell_type": "markdown",
   "metadata": {},
   "source": [
    "### To setup everytime\n",
    "We're going to import a number of packages to help us:\n",
    "* `numpy`: provides numerical calculations such as histogramming\n",
    "* `matplotlib`: common tool for making plots, figures, images, visualisations\n",
    "* `uproot`: processes `.root` files typically used in particle physics into data formats used in python\n",
    "* `awkward`: introduces `awkward` arrays, a format that generalizes `numpy` to nested data with possibly variable length lists\n",
    "* `vector`: to allow vectorized 4-momentum calculations"
   ]
  },
  {
   "cell_type": "code",
   "execution_count": 3,
   "metadata": {
    "colab": {
     "base_uri": "https://localhost:8080/"
    },
    "id": "oGY8NSROMex0",
    "outputId": "19efbcb9-941a-42e8-ac00-7d3bba6c540b"
   },
   "outputs": [],
   "source": [
    "import matplotlib_inline # to edit the inline plot format\n",
    "#matplotlib_inline.backend_inline.set_matplotlib_formats('pdf', 'svg') # to make plots in pdf (vector) format\n",
    "from matplotlib.ticker import AutoMinorLocator # for minor ticks\n",
    "import uproot # for reading .root files\n",
    "import awkward as ak # to represent nested data in columnar format\n",
    "import vector # for 4-momentum calculations\n",
    "import time"
   ]
  },
  {
   "cell_type": "markdown",
   "metadata": {},
   "source": [
    "Unit definitions, as stored in the data files"
   ]
  },
  {
   "cell_type": "code",
   "execution_count": 4,
   "metadata": {
    "id": "n97rF99gMex1"
   },
   "outputs": [],
   "source": [
    "MeV = 0.001\n",
    "GeV = 1.0"
   ]
  },
  {
   "cell_type": "markdown",
   "metadata": {},
   "source": [
    "## Example 1: Reading data "
   ]
  },
  {
   "cell_type": "markdown",
   "metadata": {},
   "source": [
    "We will use the [atlasopenmagic](https://opendata.atlas.cern/docs/data/atlasopenmagic) to access the open data directly from the ATLAS OpenData Portal so no need to download any samples. First we import the module and load the Open Data release."
   ]
  },
  {
   "cell_type": "code",
   "execution_count": null,
   "metadata": {},
   "outputs": [],
   "source": [
    "import atlasopenmagic as atom\n",
    "atom.available_releases()\n",
    "atom.set_release('2025e-13tev-beta')"
   ]
  },
  {
   "cell_type": "code",
   "execution_count": 6,
   "metadata": {
    "id": "CV1cq_JRMex3"
   },
   "outputs": [],
   "source": [
    "# Select the skim to use for the analysis\n",
    "skim = \"2bjets\""
   ]
  },
  {
   "cell_type": "markdown",
   "metadata": {},
   "source": [
    "For convenient naming and identification purposes,\n",
    "    we define a dictionary which stores all the important names of the samples we want to pull from the directory."
   ]
  },
  {
   "cell_type": "code",
   "execution_count": 7,
   "metadata": {},
   "outputs": [],
   "source": [
    "defs = {\n",
    "    r'Data':{'dids':['data']},\n",
    "    r'Background $t\\bar{t}$':     {'dids': [410470,410471],'color': \"yellow\" },\n",
    "    r'Signal':  {'dids': [345056, 345058, 345949, 346311, 346312],'color': \"red\" },\n",
    "    'Background Single top': {'dids': [410644,410645,410658,410659,601624,601628],'color':'orange'},\n",
    "    r'Background $V+$jets' : {'dids': [700320, 700321, 700322, 700323, 700324, 700325, 700335, 700336,\n",
    "                                       700337, 700338, 700339, 700340, 700341, 700342, 700343, 700344, 700345,\n",
    "                                       700346, 700347, 700348, 700349, 700467, 700468, 700469, 700470,\n",
    "                                       700471, 700472, 700792, 700793, 700794],'color':'blue'},\n",
    "    'Background Diboson': {'dids': [700488,700489,700490,700491,700492,\n",
    "                                    700493,700494,700495,700496,700195,\n",
    "                                    700196,700199,700200,700201],'color':'grey'}\n",
    "}\n",
    "\n",
    "samples   = atom.build_dataset(defs, skim=skim, protocol='root', cache=True)"
   ]
  },
  {
   "cell_type": "markdown",
   "metadata": {},
   "source": [
    "The key named `Data` refers to the event information collected from real experiments,\n",
    "    while the `Background` and `Signal` keys refer to Monte-Carlo (MC) simulations of the ATLAS experiments.\n",
    "Both real data and MC data will then be analysed and compared together to discover the Higgs! \n",
    "\n",
    "Let's try accessing `data_15` in the Open Data URL as an example."
   ]
  },
  {
   "cell_type": "code",
   "execution_count": null,
   "metadata": {},
   "outputs": [],
   "source": [
    "# We shall use the first entry in 'list', 'data15_periodD.2bjets70.root'\n",
    "value = samples['Data']['list'][0]\n",
    "print(f\"{value=}\")\n",
    "\n",
    "# This is now appended to our file path to retrieve the data_15 file\n",
    "data_15_path = value "
   ]
  },
  {
   "cell_type": "markdown",
   "metadata": {},
   "source": [
    "Next, we shall try opening the `data15_periodD` file to see what is inside.\n",
    "In the file (called a `tree`),\n",
    "    there are many entries, \n",
    "    one for each event.\n",
    "In each event,\n",
    "    a dictionary stores the all relevant information as keys, such as the event number (`eventNumber`), lepton transverse momentum (`lep_pt`), etc.  \n",
    "Details on the variables in the dictionary can be viewed [here](https://opendata.atlas.cern/docs/data/for_education/13TeV25_details#variable-list).\n",
    "\n",
    "More information on trees can be viewed [here](https://masonproffitt.github.io/uproot-tutorial/03-trees/index.html)."
   ]
  },
  {
   "cell_type": "code",
   "execution_count": null,
   "metadata": {},
   "outputs": [],
   "source": [
    "# Accessing the file from the online directory (\":mini\" opens the tree in a desired manner)\n",
    "tree = []\n",
    "tree = uproot.open(data_15_path + \":analysis\")\n",
    "\n",
    "# There are 39 entries in the tree\n",
    "print(tree.num_entries)\n",
    "\n",
    "# We can view all the information stored in the tree using the .keys() method.\n",
    "tree.keys()"
   ]
  },
  {
   "cell_type": "markdown",
   "metadata": {},
   "source": [
    "Perhaps we'd like to see the jet energies. \n",
    "We can access this from our tree using the key `jet_e`. \n",
    "Also, \n",
    "    from this point on we shall be manipulating our tree arrays using the `awkward` library.\n",
    "We can use `library=\"ak\"` in the argument of the `.arrays()` method to use this library.\n",
    "If you ever see `library=\"ak\"` in the code,\n",
    "    it means that the array is output as an `awkward` array."
   ]
  },
  {
   "cell_type": "markdown",
   "metadata": {},
   "source": [
    "In our analysis, \n",
    "    not all the information in the tree is important.\n",
    "We can store the important variables in a list and retrieve them from the tree later on.\n",
    "As it turns out, \n",
    "    we will need the following set of variables:"
   ]
  },
  {
   "cell_type": "code",
   "execution_count": 10,
   "metadata": {},
   "outputs": [],
   "source": [
    "# Define what variables are important to our analysis\n",
    "variables = ['jet_jvt','jet_n', 'jet_pt', 'jet_eta', 'jet_phi', 'jet_e', 'met', 'met_phi', 'trigMET', 'jet_btag_quantile','lep_isLooseIso', 'lep_d0sig', 'lep_z0', 'lep_type', 'lep_eta', 'lep_e', 'lep_pt', 'lep_isTightID', 'lep_isLooseID']"
   ]
  },
  {
   "cell_type": "markdown",
   "metadata": {},
   "source": [
    "Now that we understand how to access the information in the `data15_periodD` tree,\n",
    "    we can begin analysis.\n",
    "As mentioned in the introduction,\n",
    "    there are two steps to be completed for each event entry: **selections** and **mass calculation**."
   ]
  },
  {
   "cell_type": "markdown",
   "metadata": {},
   "source": [
    "### Selections \n",
    "Our goal is to isolate the signal from our background. \n",
    "To do this, \n",
    "    we must introduce various filters and selections on the data that preserve the signal while cutting away the background. \n",
    "In its current state, \n",
    "    the data contains many unwanted detections and false positives. \n",
    "There are many reasons for this. \n",
    "For one, \n",
    "    it is possible to misidentify leptons as jets.\n",
    "Some of our selections will aim to cut away such misidentifications based on the properties of the jets. \n",
    "\n",
    "These are the selections that we want to make on the data:\n",
    "\n",
    "**MET:** Passes the online missing transverse energy (MET) trigger. \n",
    "Also, offline we require  $E^\\text{miss}_T>150 \\,\\text{GeV}$ .\n",
    "\n",
    "- For more information on triggers, refer to [here](https://cds.cern.ch/record/2775198/files/Trigger%20and%20Data%20Acquisition.pdf)\n",
    "\n",
    "**Lepton cuts:** Events must not contain any loose leptons.\n",
    " - A set of cuts that determine the level of efficiency of a lepton identification algorithm\n",
    " - Looseness and tightness of lepton detections define a strictness criteria for whether a lepton was truly detected.\n",
    " - In the selection, \n",
    "    loose leptons are defined via the inverse of the tightness ID, \n",
    "    and also have $E_T > 25 \\, \\text{GeV}.$\n",
    "\n",
    "**Jet cuts:** Exactly two or three jets. All jets must have $p_T > 20 \\, \\text{GeV}$ and $|η| < 2.5$.\n",
    "\n",
    "- Since the Higgs decays to two $b$ quarks, \n",
    "    we expect at least two jets in the desired signal.\n",
    "We shall restrict our selection up to three jets, \n",
    "    rejecting events with four or more jets. \n",
    "This will reduce the large background arising from $t\\bar{t}$ production.\n",
    "- We restrict the value of $\\eta$ because this is the accessible range of the inner detector which we use for $b$-tagging.\n",
    "\n",
    "**$b$-tagging:** Exactly two $b$-tagged jets. For the $b$-tagged jet with highest $p_T$, we require $p_T > 45 \\, \\text{GeV}$.\n",
    "\n",
    "- A $b$-tagged jet is simply a jet that has been identified to be originating from a $b$ quark. \n",
    "Because there are two $b$ quarks in the Higgs decay, \n",
    "    we demand only events with two of such jets.\n",
    "In practice, \n",
    "    a jet will be $b$-tagged if its $b$-tag quantile is equal to $2$.\n",
    "- We also place a lower bound cut on the $p_T$ of the leading $b$ quark, \n",
    "    as this will significantly reduce the contribution of background processes,\n",
    "    increasing the significance of the Higgs signal.\n",
    "\n",
    "**Sum of jet $p_T$:** $H_T > 120 \\, \\text{GeV} $\n",
    "\n",
    " - This selection is used to remove a marginal region of phase space in which the trigger efficiency exhibits a small dependence on the jet multiplicity.\n",
    "\n",
    "**Angular selections:** Require $\\Delta\\phi$ between two $b$-tagged jets  $<140^\\circ$, \n",
    "    $\\Delta\\phi$ between $E_T^\\text{miss}$ and sum of $b$-tagged jets $>120^\\circ$, \n",
    "    and minimum $\\Delta\\phi$ between $E_T^\\text{miss}$ and various jets must be $>20^\\circ$ for two-jet events and $>30^\\circ$ for three-jet events.\n",
    "\n",
    " - These angular selection criteria are applied in order to suppress multi-jet background.\n",
    "These backgrounds mostly consist of jets mismeasured in the calorimeters."
   ]
  },
  {
   "cell_type": "markdown",
   "metadata": {},
   "source": [
    "Let's try to perform some of these calculations for a set of example events."
   ]
  },
  {
   "cell_type": "code",
   "execution_count": 11,
   "metadata": {},
   "outputs": [],
   "source": [
    "example_events = ak.Array({'jet_n':[2,2,3,0],\n",
    "                      'jet_pt':[[21,21],[110,15],[70,30,30],[]], \n",
    "                      'jet_phi':[[2, 3], [-2, -2], [-11, 222, 300], []],\n",
    "                      'jet_eta':[[-1,1],[-3,1],[-1,-1,0],[]], \n",
    "                      'jet_e':[[-1,1],[-3,1],[-1,-1,0],[]], \n",
    "                      'jet_btag_quantile':[[4,4], [4, 4], [4, 4, 4],[]],\n",
    "                      'met_phi': [40,20,20,40],\n",
    "                      'met': [40,20,20,160],\n",
    "                      'trigMET': [True, True, True, True]})"
   ]
  },
  {
   "cell_type": "code",
   "execution_count": 12,
   "metadata": {},
   "outputs": [],
   "source": [
    "# This block is currently unused, but would be useful if one would prefer to run the examples on\n",
    "# data_15 instead of an example array\n",
    "tree = uproot.open(data_15_path + \":analysis\")\n",
    "\n",
    "# Using tree.iterate, we can load the variables that we want and ignore the rest, saving resources\n",
    "for data in tree.iterate(variables,\n",
    "                            library=\"ak\",\n",
    "                            entry_stop=tree.num_entries): # process up to numevents*fraction\n",
    "    data_jet = data"
   ]
  },
  {
   "cell_type": "markdown",
   "metadata": {},
   "source": [
    "To perform $b$-tagging, \n",
    "    let us create a $b$-tag ID for each jet."
   ]
  },
  {
   "cell_type": "code",
   "execution_count": 13,
   "metadata": {},
   "outputs": [],
   "source": [
    "example_events['btag_ID'] = (example_events['jet_btag_quantile'] >= 4)"
   ]
  },
  {
   "cell_type": "markdown",
   "metadata": {},
   "source": [
    "Now, \n",
    "    we check that there are only two $b$-tagged jets,\n",
    "    as mentioned in our selection rules. "
   ]
  },
  {
   "cell_type": "code",
   "execution_count": 14,
   "metadata": {},
   "outputs": [
    {
     "data": {
      "text/html": [
       "<pre>[True,\n",
       " True,\n",
       " False,\n",
       " False]\n",
       "-------\n",
       "backend: cpu\n",
       "nbytes: 4 B\n",
       "type: 4 * bool</pre>"
      ],
      "text/plain": [
       "<Array [True, True, False, False] type='4 * bool'>"
      ]
     },
     "execution_count": 14,
     "metadata": {},
     "output_type": "execute_result"
    }
   ],
   "source": [
    "btag_jets_n = ak.sum(example_events['btag_ID'], 1)\n",
    "select_exactly_2_b = btag_jets_n == 2\n",
    "select_exactly_2_b"
   ]
  },
  {
   "cell_type": "markdown",
   "metadata": {},
   "source": [
    "We see that the first two jets have exactly two $b$-tagged,\n",
    "    while the last two fail this requirement.\n",
    "We can also do other selections."
   ]
  },
  {
   "cell_type": "code",
   "execution_count": 15,
   "metadata": {},
   "outputs": [
    {
     "name": "stdout",
     "output_type": "stream",
     "text": [
      "Passes MET trigger? [True, True, True, True]\n",
      "Passes MET cut? [False, False, False, True]\n"
     ]
    }
   ],
   "source": [
    "# Apply MET trigger\n",
    "MET_trigger = example_events['trigMET'] \n",
    "print(f'Passes MET trigger? {MET_trigger}')\n",
    "\n",
    "# Apply MET > 150 GeV\n",
    "missing_ET = example_events['met'] \n",
    "missing_ET_bool = missing_ET > 150 * GeV\n",
    "print(f'Passes MET cut? {missing_ET_bool}')"
   ]
  },
  {
   "cell_type": "markdown",
   "metadata": {},
   "source": [
    "All our events pass the MET trigger, \n",
    "    but only the last event passes the MET cut.\n",
    "\n",
    "The other selections have been written below as functions. \n",
    "You may test these selection functions on the `example_events` from above,\n",
    "    or define your own examples to see how they work."
   ]
  },
  {
   "cell_type": "code",
   "execution_count": 16,
   "metadata": {},
   "outputs": [],
   "source": [
    "def selectJets(data):\n",
    "    # Count jets above pT threshold\n",
    "    jet_pt = data['jet_pt']\n",
    "    jet_eta = abs(data['jet_eta'])\n",
    "    jet_jvt = data['jet_jvt']\n",
    "    \n",
    "    cjet = ((jet_jvt == 1) & (data['jet_pt'] > 20 * GeV) & (abs(data['jet_eta']) < 2.5))\n",
    "    fjet = ((jet_jvt == 1) & (data['jet_pt'] > 30 * GeV) & (abs(data['jet_eta']) >= 2.5) & (abs(data['jet_eta']) < 4.5))\n",
    "    bjet = ((cjet) & (data['btag_ID']))\n",
    "    bjet45 = ((cjet) & (data['btag_ID']) & (data['jet_pt'] > 45 * GeV))\n",
    "    \n",
    "    njet = ((ak.sum(((cjet) | (fjet)), 1) == 2) | (ak.sum(((cjet) | (fjet)), 1) == 3))\n",
    "    \n",
    "    nbjet = ak.sum(bjet,1) == 2 \n",
    "    nbjet45 = ak.sum(bjet45,1) == 1 \n",
    "    \n",
    "    return (njet & nbjet & nbjet45)\n",
    "\n",
    "def selectZeroLeptons(data):\n",
    "    lep_pt = data['lep_pt']\n",
    "    lep_eta = abs(data['lep_eta'])\n",
    "    lep_type = data['lep_type']\n",
    "    lep_d0sig = data['lep_d0sig']\n",
    "    lep_z0 = data['lep_z0']\n",
    "    lep_iso = data['lep_isLooseIso']\n",
    "    \n",
    "    select_electrons = ((lep_type==11) & (lep_pt > 7 * GeV) & (lep_eta < 2.47) & (lep_d0sig < 5) & (lep_z0 < 0.5) & (lep_iso == 1) & (data['lep_isLooseID'] == 1))\n",
    "    select_muons = ((lep_type==13) & (lep_pt > 7 * GeV) & (lep_eta < 2.7) & (lep_d0sig < 3) & (lep_z0 < 0.5) & (lep_iso == 1) & (data['lep_isLooseID'] == 1))\n",
    "    \n",
    "    nel = ak.sum(select_electrons,1)\n",
    "    nmu = ak.sum(select_muons,1)\n",
    "    nlep = nel + nmu\n",
    "\n",
    "    return ((nel == 0) & (nmu == 0))\n"
   ]
  },
  {
   "cell_type": "code",
   "execution_count": 17,
   "metadata": {},
   "outputs": [],
   "source": [
    "def select_HT(data):\n",
    "    # HT (sum of jet pt) must be more than 120 GeV\n",
    "    jet_pt = data['jet_pt']\n",
    "    jet_eta = abs(data['jet_eta'])\n",
    "    jet_jvt = data['jet_jvt']\n",
    "    \n",
    "    cjet = ((jet_jvt == 1) & (data['jet_pt'] > 20 * GeV) & (abs(data['jet_eta']) < 2.5))\n",
    "    fjet = ((jet_jvt == 1) & (data['jet_pt'] > 30 * GeV) & (abs(data['jet_eta']) >= 2.5) & (abs(data['jet_eta']) < 4.5))\n",
    "    \n",
    "    njet = ak.sum(((cjet) | (fjet)), 1)\n",
    "    \n",
    "    HT = ak.sum(data['jet_pt'][((cjet) | (fjet))], 1)\n",
    " \n",
    "    # Old jet n\n",
    "    #select_HT = (((HT > 120 * GeV) * (data['jet_n'] == 2)) | ((HT > 150 * GeV) * (data['jet_n'] > 2)))\n",
    "    select_HT = (((HT > 120 * GeV) * (njet == 2)) | ((HT > 150 * GeV) * (njet > 2)))\n",
    "    \n",
    "    return select_HT\n",
    "\n",
    "def select_2b_phi(data):\n",
    "    # azimuthal angle between two btagged jets less than 140 degrees\n",
    "    # data['btag_ID'] = (data['jet_btag_quantile'] == 2)\n",
    "    jet_jvt = data['jet_jvt']\n",
    "    \n",
    "    cjet = ((jet_jvt == 1) & (data['jet_pt'] > 20 * GeV) & (abs(data['jet_eta']) < 2.5))\n",
    "    fjet = ((jet_jvt == 1) & (data['jet_pt'] > 30 * GeV) & (abs(data['jet_eta']) >= 2.5) & (abs(data['jet_eta']) < 4.5))\n",
    "    bjet = ((cjet) & (data['btag_ID']))\n",
    "    \n",
    "    btag_jet_phi = data['jet_phi'][bjet]\n",
    "    padded_array = ak.pad_none(btag_jet_phi, 2)\n",
    "    differences = abs(padded_array[:,0] - padded_array[:,1])\n",
    "    select_2b_phi = differences < (140 * np.pi/180)\n",
    "    # select_2b_phi = ak.fill_none(select_2b_phi, False) \n",
    "    return select_2b_phi\n",
    "\n",
    "def select_metbb_phi(data):\n",
    "    # azimuthal angle between met and sum of btagged jets more than 120 degrees\n",
    "    jet_jvt = data['jet_jvt']\n",
    "    \n",
    "    cjet = ((jet_jvt == 1) & (data['jet_pt'] > 20 * GeV) & (abs(data['jet_eta']) < 2.5))\n",
    "    fjet = ((jet_jvt == 1) & (data['jet_pt'] > 30 * GeV) & (abs(data['jet_eta']) >= 2.5) & (abs(data['jet_eta']) < 4.5))\n",
    "    bjet = ((cjet) & (data['btag_ID']))\n",
    "    \n",
    "    \n",
    "    btag_jet_pt = data['jet_pt'][bjet]\n",
    "    btag_jet_eta = data['jet_eta'][bjet]\n",
    "    btag_jet_phi = data['jet_phi'][bjet]\n",
    "    btag_jet_e = data['jet_e'][bjet]\n",
    "\n",
    "    padded_pt = ak.pad_none(btag_jet_pt, 2)\n",
    "    padded_eta = ak.pad_none(btag_jet_eta, 2)\n",
    "    padded_phi = ak.pad_none(btag_jet_phi, 2)\n",
    "    padded_e = ak.pad_none(btag_jet_e, 2)\n",
    "\n",
    "    p = vector.zip({\"pt\": padded_pt, \"eta\": padded_eta, \"phi\": padded_phi, \"E\": padded_e})\n",
    "    bb_jet_phi = (p[:,0]+p[:,1]).phi\n",
    "\n",
    "    met_phi = data['met_phi']\n",
    "\n",
    "    difference = abs(met_phi-bb_jet_phi)\n",
    "    select_metbb_phi = difference > (120 * np.pi/180)\n",
    "\n",
    "    return select_metbb_phi\n",
    "\n",
    "def select_min_metjets_phi(data):\n",
    "    # Minimum of azimuthal angle between met and jets more than 20 degrees for 2 jets, \n",
    "                                                              # 30 degrees for 3 jets\n",
    "    jet_jvt = data['jet_jvt']\n",
    "    met_phi = data['met_phi']\n",
    "    \n",
    "    cjet = ((jet_jvt == 1) & (data['jet_pt'] > 20 * GeV) & (abs(data['jet_eta']) < 2.5))\n",
    "    fjet = ((jet_jvt == 1) & (data['jet_pt'] > 30 * GeV) & (abs(data['jet_eta']) >= 2.5) & (abs(data['jet_eta']) < 4.5))\n",
    "    \n",
    "    njet = ak.sum(((cjet) | (fjet)), 1)\n",
    "    \n",
    "    jet_phi = data['jet_phi'][((cjet) | (fjet))]\n",
    "\n",
    "    differences = abs(jet_phi - met_phi)\n",
    "    minimum = ak.min(differences, 1)\n",
    "    #select_min_metjets_phi = (((minimum > 20 *np.pi/180) * (data['jet_n'] ==2)) | ((minimum > 30 *np.pi/180) * (data['jet_n'] > 2)))\n",
    "    select_min_metjets_phi = (((minimum > 20 *np.pi/180) * (njet ==2)) | ((minimum > 30 *np.pi/180) * (njet > 2)))\n",
    "    \n",
    "    return select_min_metjets_phi"
   ]
  },
  {
   "cell_type": "markdown",
   "metadata": {},
   "source": [
    "Next, we shall do the mass calculation. \n",
    "\n",
    "### Mass calculation\n",
    "The data to be plotted is the total invariant mass of the two bottom quarks ($b$-tagged jets), which can be found using the equation: $$m_\\text{bb} = \\sqrt{E^2_\\text{tot}-\\mathbf{p}_\\text{tot}\\cdot\\mathbf{p}_\\text{tot}}$$\n",
    "in units where $c=1$.\n",
    "$E_\\text{tot}$ is the total energy and $\\mathbf{p}_\\text{tot}$ is the total momentum.\n",
    "This calculation is performed using the vector array method `.M` on the sum of jet 4-momenta (`jet_pt`,`jet_eta`,`jet_phi`,`jet_e`).\n",
    "We can see this in the following function."
   ]
  },
  {
   "cell_type": "code",
   "execution_count": 18,
   "metadata": {},
   "outputs": [],
   "source": [
    "# Calculate invariant mass of the two b-tagged jets\n",
    "# [:, i] selects the i-th  in each event\n",
    "vector.register_awkward()\n",
    "def calc_mass(data):\n",
    "    # Count jets above pT threshold\n",
    "    bjet = data['btag_ID']\n",
    "    btag_jet_pt = data['jet_pt'][bjet]\n",
    "    btag_jet_eta = data['jet_eta'][bjet]\n",
    "    btag_jet_phi = data['jet_phi'][bjet]\n",
    "    \n",
    "    \n",
    "    correct = (data['jet_pt'][bjet]<100)\n",
    "    abhundred = (data['jet_pt'][bjet]>=100)\n",
    "    \n",
    "    # For jets without a matching lepton, the PtReco correction increases \n",
    "    # the energy of jets with pT ∼ 20 GeV by 12% and the energy of those\n",
    "    # with pT > 100 GeV by 1%, while a larger correction is observed \n",
    "    # for jets matched to a lepton, due to the missing neutrino energy.\n",
    "    btag_jet_e = ((data['jet_e'][bjet]*((1+((((-11./80.)*data['jet_pt'][bjet]+14.76))/100.)) ))*correct + data['jet_e'][bjet]*1.01*abhundred) \n",
    "    p = ak.zip({\"pt\": btag_jet_pt, \"eta\": btag_jet_eta, \"phi\": btag_jet_phi, \"E\": btag_jet_e}, with_name=\"Momentum4D\")\n",
    "    invariant_mass = (p[:, 0] + p[:, 1]).M # .M calculates the invariant mass\n",
    "    return invariant_mass"
   ]
  },
  {
   "cell_type": "code",
   "execution_count": 19,
   "metadata": {},
   "outputs": [
    {
     "data": {
      "text/html": [
       "<pre>[-36.9,\n",
       " -1.09e+03]\n",
       "-----------\n",
       "backend: cpu\n",
       "nbytes: 16 B\n",
       "type: 2 * float64</pre>"
      ],
      "text/plain": [
       "<Array [-36.9, -1.09e+03] type='2 * float64'>"
      ]
     },
     "execution_count": 19,
     "metadata": {},
     "output_type": "execute_result"
    }
   ],
   "source": [
    "# Performing the calculation for the first two events (with 2 b-tagged jets)\n",
    "calc_mass(example_events[0:2])"
   ]
  },
  {
   "cell_type": "markdown",
   "metadata": {},
   "source": [
    "You may verify on your own that these functions give the same outputs as the previous code block.\n",
    "Now, \n",
    "    we shall apply these functions over the entire `data15_periodD` tree using a `for` loop."
   ]
  },
  {
   "cell_type": "code",
   "execution_count": 20,
   "metadata": {},
   "outputs": [],
   "source": [
    "# Define empty list to hold all data for this sample\n",
    "sample_data = []\n",
    "\n",
    "# Perform the cuts for each data entry in the tree\n",
    "for data in tree.iterate(variables, library=\"ak\"): # the data will be in the form of an awkward array\n",
    "\n",
    "    # Event Selection (reference: https://arxiv.org/pdf/1409.6212)\n",
    "\n",
    "    # Generate btag identifier\n",
    "    data['btag_ID'] = (data['jet_btag_quantile'] >= 4)\n",
    "\n",
    "    data = data[data['trigMET']] # Apply MET trigger \n",
    "    data = data[data['met'] > 30 * GeV] # MET>30 GeV \n",
    "    \n",
    "    data = data[selectJets(data)]\n",
    "    data = data[selectZeroLeptons(data)]\n",
    "    \n",
    "    data = data[select_HT(data)]\n",
    "    data = data[select_2b_phi(data)]\n",
    "    data = data[select_metbb_phi(data)]\n",
    "    data = data[select_min_metjets_phi(data)]\n",
    "\n",
    "    # Invariant Mass\n",
    "    data['mass'] = calc_mass(data)\n",
    "\n",
    "    # Append data to the whole sample data list\n",
    "    sample_data.append(data)\n",
    "\n",
    "# turns sample_data back into an awkward array\n",
    "data_15 = ak.concatenate(sample_data)"
   ]
  },
  {
   "cell_type": "markdown",
   "metadata": {},
   "source": [
    "We can now plot the data using Matplotlib. \n",
    "The data will be turned into a histogram,\n",
    "    with bins of width $5 \\,\\text{GeV}$.\n",
    "Note that much of the code written here is meant for the aesthetics of the plot."
   ]
  },
  {
   "cell_type": "code",
   "execution_count": 21,
   "metadata": {},
   "outputs": [
    {
     "data": {
      "image/png": "[encoded data removed]",
      "text/plain": [
       "<Figure size 432x288 with 1 Axes>"
      ]
     },
     "metadata": {
      "needs_background": "light"
     },
     "output_type": "display_data"
    }
   ],
   "source": [
    "# x-axis range of the plot\n",
    "xmin = 0 * GeV\n",
    "xmax = 300 * GeV\n",
    "\n",
    "# Histogram bin setup\n",
    "step_size = 5 * GeV\n",
    "bin_edges = np.arange(start=xmin, # The interval includes this value\n",
    "                    stop=xmax+step_size, # The interval doesn't include this value\n",
    "                    step=step_size ) # Spacing between values\n",
    "bin_centres = np.arange(start=xmin+step_size/2, # The interval includes this value\n",
    "                        stop=xmax+step_size/2, # The interval doesn't include this value\n",
    "                        step=step_size ) # Spacing between values\n",
    "\n",
    "# Creating histogram from data\n",
    "data_x,_ = np.histogram(ak.to_numpy(data_15['mass']), \n",
    "                        bins=bin_edges ) # histogram the data\n",
    "data_x_errors = np.sqrt( data_x ) # statistical error on the data\n",
    "\n",
    "# *************\n",
    "# Main plot \n",
    "# *************\n",
    "main_axes = plt.gca() # get current axes\n",
    "\n",
    "# plot the data points\n",
    "main_axes.errorbar(x=bin_centres, y=data_x, yerr=data_x_errors,\n",
    "                    fmt='ko', # 'k' means black and 'o' is for circles \n",
    "                    label='Data') \n",
    "\n",
    "# set the x-limit of the main axes\n",
    "main_axes.set_xlim( left=xmin, right=xmax ) \n",
    "\n",
    "# separation of x axis minor ticks\n",
    "main_axes.xaxis.set_minor_locator( AutoMinorLocator() ) \n",
    "\n",
    "# set the axis tick parameters for the main axes\n",
    "main_axes.tick_params(which='both', # ticks on both x and y axes\n",
    "                        direction='in', # Put ticks inside and outside the axes\n",
    "                        top=True, # draw ticks on the top axis\n",
    "                        right=True ) # draw ticks on right axis\n",
    "\n",
    "# x-axis label\n",
    "main_axes.set_xlabel(r'$2$-bottom invariant mass $\\mathrm{m_{2b}}$ [GeV]',\n",
    "                    fontsize=13, x=1, horizontalalignment='right' )\n",
    "\n",
    "# write y-axis label for main axes\n",
    "main_axes.set_ylabel('Events / '+str(step_size)+' GeV',\n",
    "                        y=1, horizontalalignment='right') \n",
    "\n",
    "# set y-axis limits for main axes\n",
    "main_axes.set_ylim( bottom=0, top=np.amax(data_x)*1.6 )\n",
    "\n",
    "# add minor ticks on y-axis for main axes\n",
    "main_axes.yaxis.set_minor_locator( AutoMinorLocator() ) \n",
    "\n",
    "# draw the legend\n",
    "main_axes.legend( frameon=False ); # no box around the legend"
   ]
  },
  {
   "cell_type": "markdown",
   "metadata": {},
   "source": [
    "Great,\n",
    "    we managed to plot `data15_periodD`! \n",
    "Now, \n",
    "    we have not discussed how to deal with the Monte-Carlo simulation data,\n",
    "    or even what they are for. \n",
    "Let us explain."
   ]
  },
  {
   "cell_type": "markdown",
   "metadata": {},
   "source": [
    "## Example 2: Reading Monte-Carlo data"
   ]
  },
  {
   "cell_type": "markdown",
   "metadata": {},
   "source": [
    "\n",
    "Using the Standard Model, \n",
    "    we can do a set of randomised simulations to produce a set of theoretical data points to compare to our ATLAS data.\n",
    "These are known as Monte-Carlo(MC) simulations.\n",
    "There is one important change to be made to the MC data before we can compare them with our ATLAS data:\n",
    " - **Weights** - The MC data was computed in ideal circumstances. The real ATLAS detector has some inefficiencies, which we can account for by attributing the appropriate weight to each data point.The weight of a data point affects how it contributes to the histogram count for its bin.\n",
    "\n",
    "Let's open an MC file."
   ]
  },
  {
   "cell_type": "code",
   "execution_count": null,
   "metadata": {},
   "outputs": [],
   "source": [
    "# We open an MC data file with sample value \"taunugammagamma\" using samples and infofile for reference of filenames\n",
    "print(samples['Background Diboson'])\n",
    "value = samples['Background Diboson'][\"list\"][0]\n",
    "\n",
    "# This is now appended to our file path to retrieve the root file\n",
    "background_diboson = value\n",
    "\n",
    "# Accessing the file from the online directory\n",
    "tree = uproot.open(background_diboson + \":analysis\")"
   ]
  },
  {
   "cell_type": "markdown",
   "metadata": {},
   "source": [
    "Weights are important to our analysis. We will use:\n",
    "- `xsec` - cross section \n",
    "- `mcWeight` - specific Monte-Carlo weight associated with each event\n",
    "- `scaleFactor_PILEUP` - scale factor for pileup reweighting\n",
    "- `scaleFactor_BTAG` - scale factor for b-tagging\n",
    "- `filteff`- filter efficiency of MC generator\n",
    "- `kfac` - multiplicative correction factor used to account for higher-order effects in theoretical calculations\n",
    "\n",
    "Scale factors are generally related to estimates of the efficiencies and resolutions of detectors."
   ]
  },
  {
   "cell_type": "code",
   "execution_count": null,
   "metadata": {},
   "outputs": [],
   "source": [
    "weight_variables = ['xsec', 'mcWeight', 'ScaleFactor_PILEUP', 'ScaleFactor_FTAG', 'ScaleFactor_JVT', 'filteff', 'kfac', 'sum_of_weights']\n",
    "\n",
    "# For example, see below for the weights corresponding to b-tagging\n",
    "tree[\"ScaleFactor_FTAG\"].arrays(library = \"ak\")"
   ]
  },
  {
   "cell_type": "markdown",
   "metadata": {},
   "source": [
    "There is one more important variable,\n",
    "    which is the integrated luminosity `lumi`,\n",
    "    also written as $\\int L \\text{d}t$.\n",
    "When `lumi` is multiplied by the cross section `xsec`,\n",
    "    it gives a measure of the total number of events during a period of data taking.\n",
    "For `data_15`,\n",
    "    `lumi` has a value of $3.2 \\,\\text{fb}^{-1}$.\n",
    "For more on cross sections and luminosities, \n",
    "    [see this cheatsheet](https://cds.cern.ch/record/2800578/files/Cross%20Section%20and%20Luminosity%20Physics%20Cheat%20Sheet.pdf).\n",
    "\n",
    "To calculate the total weight of a Monte-Carlo event, \n",
    "    we use the following definition:\n",
    "$$ w_\\text{total} = \\frac{\\int L \\text{d}t ~ \\times \\sigma \\times w_\\text{event} \\times \\text{scale-factors} \\times \\text{filter-efficiency} \\times \\text{k-factor}  }{ \\sum_i w_i } $$\n",
    "We can see that the weights are normalised by dividing through by $\\sum_i w_i$, \n",
    "    the sum of weights `sumw`."
   ]
  },
  {
   "cell_type": "markdown",
   "metadata": {},
   "source": [
    "Now,\n",
    "    with all the weights we've defined, \n",
    "    we will define a function that calculates a total weight for an event,\n",
    "    which is the collective product of all the weights."
   ]
  },
  {
   "cell_type": "code",
   "execution_count": 24,
   "metadata": {},
   "outputs": [
    {
     "name": "stdout",
     "output_type": "stream",
     "text": [
      "calc_weight(event) = 0.1687\n"
     ]
    }
   ],
   "source": [
    "lumi = 36.1 # fb-1 for data_15 only\n",
    "\n",
    "def calc_weight(events):\n",
    "    return (\n",
    "        ((lumi*1000. #*1000 to go from fb-1 to pb-1\n",
    "        * events['xsec'] \n",
    "        * events['mcWeight']\n",
    "        * events['ScaleFactor_PILEUP']\n",
    "        * events['ScaleFactor_FTAG']\n",
    "        * events['ScaleFactor_JVT']\n",
    "        * events['filteff']\n",
    "        * events['kfac'])\n",
    "        / (events['sum_of_weights']))\n",
    "        #* events.scaleFactor_LepTRIGGER\n",
    "    )\n",
    "\n",
    "#sumweights = metadata.loc[metadata.dataset_number == int(value.split('.')[0]), 'sumOfWeights'].values[0]\n",
    "\n",
    "# Let's use the first event of our tree\n",
    "# event = tree.arrays()[0] # This line takes very long, iterate is much faster\n",
    "for data in tree.iterate(weight_variables, library = 'ak'):\n",
    "    event = data[0]\n",
    "    break\n",
    "print(f\"{calc_weight(event) = :.4f}\")"
   ]
  },
  {
   "cell_type": "markdown",
   "metadata": {},
   "source": [
    "This calculation means that in our final histogram, \n",
    "    this event will be represented with ~$0.1687$ of a single count in the bin.\n",
    "Now, we can apply the cuts as before to plot the MC data.\n",
    "The code is the same as before,\n",
    "    but we make sure to add in `weight_variables` to our `tree.iterate()`,\n",
    "    and we store the weights in each event using a new dictionary key."
   ]
  },
  {
   "cell_type": "code",
   "execution_count": 25,
   "metadata": {},
   "outputs": [],
   "source": [
    "# Define empty list to hold all data for this sample\n",
    "sample_data = []\n",
    "# Perform the cuts for each data entry in the tree\n",
    "for data in tree.iterate(variables + weight_variables, library=\"ak\"): # the data will be in the form of an awkward array\n",
    "    # Event Selection (reference: https://arxiv.org/pdf/1409.6212)\n",
    "    nIn = len(data)\n",
    "    \n",
    "    # Generate btag identifier\n",
    "    data['btag_ID'] = (data['jet_btag_quantile'] >= 4)\n",
    "\n",
    "    data = data[data['trigMET']] # Apply MET trigger \n",
    "    data = data[data['met'] > 150 * GeV] # MET>150 GeV \n",
    "    \n",
    "    data = data[selectJets(data)]\n",
    "    data = data[selectZeroLeptons(data)]\n",
    "    \n",
    "    data = data[select_HT(data)]\n",
    "    data = data[select_2b_phi(data)]\n",
    "    data = data[select_metbb_phi(data)]\n",
    "    data = data[select_min_metjets_phi(data)]\n",
    "\n",
    "    # Invariant Mass\n",
    "    data['mass'] = calc_mass(data)\n",
    "\n",
    "    # Total Weights\n",
    "    data['totalWeight'] = calc_weight(data)\n",
    "\n",
    "    # Append data to the whole sample data list\n",
    "    sample_data.append(data)\n",
    "\n",
    "# turns sample_data back into an awkward array\n",
    "background_diboson = ak.concatenate(sample_data)"
   ]
  },
  {
   "cell_type": "code",
   "execution_count": 26,
   "metadata": {},
   "outputs": [
    {
     "name": "stdout",
     "output_type": "stream",
     "text": [
      "[ 86.87774  202.90376  152.33325  125.08179  235.53078  125.281654\n",
      "  43.391533 102.81237  136.95143   93.135025]\n"
     ]
    },
    {
     "data": {
      "image/png": "[encoded data removed]",
      "text/plain": [
       "<Figure size 432x288 with 1 Axes>"
      ]
     },
     "metadata": {
      "needs_background": "light"
     },
     "output_type": "display_data"
    }
   ],
   "source": [
    "mc_x = ak.to_numpy(background_diboson[\"mass\"]) # define list to hold the Monte Carlo histogram entries\n",
    "mc_weights = ak.to_numpy(background_diboson[\"totalWeight\"]) # define list to hold the Monte Carlo weights\n",
    "mc_colors = samples['Background Diboson']['color'] # define list to hold the colors of the Monte Carlo bars\n",
    "mc_labels = \"Background Diboson taunugammagamma\" # define list to hold the legend labels of the Monte Carlo bars\n",
    "\n",
    "# *************\n",
    "# Main plot \n",
    "# *************\n",
    "main_axes = plt.gca() # get current axes\n",
    "\n",
    "# plot the data points\n",
    "# main_axes.errorbar(x=bin_centres, y=data_x, yerr=data_x_errors,\n",
    "#                     fmt='ko', # 'k' means black and 'o' is for circles \n",
    "#                     label='Data') \n",
    "\n",
    "# plot the Monte Carlo bars\n",
    "mc_heights = main_axes.hist(mc_x, bins=bin_edges, \n",
    "                            weights=mc_weights, stacked=True, \n",
    "                            color=mc_colors, label=mc_labels )\n",
    "print(mc_x)\n",
    "mc_x_tot = mc_heights[0] # stacked background MC y-axis value\n",
    "\n",
    "# calculate MC statistical uncertainty: sqrt(sum w^2)\n",
    "mc_x_err = np.sqrt(np.histogram(np.hstack(mc_x), bins=bin_edges, weights=np.hstack(mc_weights)**2)[0])\n",
    "\n",
    "# plot the statistical uncertainty\n",
    "main_axes.bar(bin_centres, # x\n",
    "                2*mc_x_err, # heights\n",
    "                alpha=0.5, # half transparency\n",
    "                bottom=mc_x_tot-mc_x_err, color='none', \n",
    "                hatch=\"////\", width=step_size, label='Stat. Unc.' )\n",
    "\n",
    "# set the x-limit of the main axes\n",
    "main_axes.set_xlim( left=xmin, right=xmax ) \n",
    "\n",
    "# separation of x axis minor ticks\n",
    "main_axes.xaxis.set_minor_locator( AutoMinorLocator() ) \n",
    "\n",
    "# set the axis tick parameters for the main axes\n",
    "main_axes.tick_params(which='both', # ticks on both x and y axes\n",
    "                        direction='in', # Put ticks inside and outside the axes\n",
    "                        top=True, # draw ticks on the top axis\n",
    "                        right=True ) # draw ticks on right axis\n",
    "\n",
    "# x-axis label\n",
    "main_axes.set_xlabel(r'4-lepton invariant mass $\\mathrm{m_{4l}}$ [GeV]',\n",
    "                    fontsize=13, x=1, horizontalalignment='right' )\n",
    "\n",
    "# write y-axis label for main axes\n",
    "main_axes.set_ylabel('Events / '+str(step_size)+' GeV',\n",
    "                        y=1, horizontalalignment='right') \n",
    "\n",
    "# set y-axis limits for main axes\n",
    "# main_axes.set_ylim( bottom=0, top=np.amax(data_x)*1.6 )\n",
    "\n",
    "# add minor ticks on y-axis for main axes\n",
    "main_axes.yaxis.set_minor_locator( AutoMinorLocator() ) \n",
    "\n",
    "# draw the legend\n",
    "main_axes.legend( frameon=False ); # no box around the legend"
   ]
  },
  {
   "cell_type": "markdown",
   "metadata": {},
   "source": [
    "## Final Analysis"
   ]
  },
  {
   "cell_type": "markdown",
   "metadata": {},
   "source": [
    "Now that we understand all the steps of our analysis,\n",
    "    all that's left is to import the entire ATLAS data and implement it.\n",
    "The `samples` dictionary will be useful for this.\n",
    "\n",
    "We will loop over all values in the `samples` dictionary.\n",
    "Depending on whether it is a data sample or MC sample, \n",
    "    `fileString` will change,\n",
    "    which opens the correct file on the open data folder.\n",
    "As before, \n",
    "    the selections, \n",
    "    mass calculations and MC weight calculations will be performed for each sample value,\n",
    "    and then stored in the array.\n",
    "The data will all be concatenated into `all_data` for plotting."
   ]
  },
  {
   "cell_type": "code",
   "execution_count": null,
   "metadata": {
    "colab": {
     "base_uri": "https://localhost:8080/"
    },
    "id": "FQZBBK-6Mex_",
    "outputId": "a2495b3d-3ad2-4d3a-9cd1-4ed1cb60a673",
    "scrolled": true
   },
   "outputs": [],
   "source": [
    "fraction = 1\n",
    "# Define empty dictionary to hold awkward arrays\n",
    "all_data = {}\n",
    "\n",
    "# Loop over samples\n",
    "for s in samples:\n",
    "    # Print which sample is being processed\n",
    "    print('Processing '+s+' samples')\n",
    "\n",
    "    # Define empty list to hold data for each sample\n",
    "    frames = []\n",
    "\n",
    "    # Loop over each file\n",
    "    for val in samples[s]['list']:\n",
    "\n",
    "        fileString = val # file name to open\n",
    "\n",
    "        # start the clock\n",
    "        start = time.time()\n",
    "\n",
    "        # Open file\n",
    "        tree = uproot.open(fileString + \":analysis\")\n",
    "        \n",
    "\n",
    "        sample_data = []\n",
    "        # Loop over data in the tree\n",
    "        for data in tree.iterate(variables + weight_variables,\n",
    "                                 library=\"ak\",\n",
    "                                 entry_stop=tree.num_entries*fraction): # process up to numevents*fraction\n",
    "                                 #step_size = 1000000):\n",
    "\n",
    "            padded_array = ak.pad_none(data['jet_pt'], 2)\n",
    "            data['leading_jet_pt'] = padded_array[:, 0]\n",
    "            data['subleading_jet_pt'] = padded_array[:, 1]\n",
    "            padded_array = ak.pad_none(data['jet_eta'], 2)\n",
    "            data['leading_jet_eta'] = padded_array[:, 0]\n",
    "            data['subleading_jet_eta'] = padded_array[:, 1]\n",
    "\n",
    "            # Event Selection (reference: https://arxiv.org/pdf/1409.6212)\n",
    "\n",
    "            # Generate btag identifier\n",
    "            data['btag_ID'] = (data['jet_btag_quantile'] >= 4)\n",
    "\n",
    "            data = data[data['trigMET']] # Apply MET trigger \n",
    "            data = data[data['met'] > 150 * GeV] # MET>30 GeV \n",
    "            \n",
    "            data = data[selectJets(data)]\n",
    "            data = data[selectZeroLeptons(data)]\n",
    "            \n",
    "            data = data[select_HT(data)]\n",
    "            data = data[select_2b_phi(data)]\n",
    "            data = data[select_metbb_phi(data)]\n",
    "            data = data[select_min_metjets_phi(data)]\n",
    "\n",
    "            # Invariant Mass\n",
    "            data['mass'] = calc_mass(data)\n",
    "\n",
    "            # Store Monte Carlo weights in the data\n",
    "            if 'Data' not in s: # Only calculates weights if the data is MC\n",
    "                #print(f'weight: {sumweights}')\n",
    "                if s=='Signal':\n",
    "                    data['totalWeight'] = calc_weight(data)\n",
    "                else:\n",
    "                    data['totalWeight'] = calc_weight(data)\n",
    "                print(data['totalWeight'])  \n",
    "            elapsed = time.time() - start # time taken to process\n",
    "            print(\"\\t\"+str(len(data)) + \" events in \"+str(round(elapsed,1))+\"s\") # events before and after\n",
    "\n",
    "            # Append data to the whole sample data list\n",
    "            sample_data.append(data)\n",
    "\n",
    "        frames.append(ak.concatenate(sample_data))\n",
    "\n",
    "    all_data[s] = ak.concatenate(frames) # dictionary entry is concatenated awkward arrays"
   ]
  },
  {
   "cell_type": "code",
   "execution_count": 28,
   "metadata": {
    "colab": {
     "base_uri": "https://localhost:8080/",
     "height": 444
    },
    "id": "kFkSLl_4MeyB",
    "outputId": "6cd319ed-d20b-4fde-bc2e-affd4bc35f7a"
   },
   "outputs": [
    {
     "name": "stderr",
     "output_type": "stream",
     "text": [
      "/tmp/ipykernel_1754322/2660167152.py:150: RuntimeWarning: invalid value encountered in divide\n",
      "  ratio_uncertainty = ratio * np.sqrt((data_x_errors/this_data_x)**2 + (mc_x_err/(mc_x_tot + signal_x_tot))**2)\n",
      "/tmp/ipykernel_1754322/2660167152.py:166: RuntimeWarning: invalid value encountered in divide\n",
      "  ax2.fill_between(bin_left, 1 - mc_x_err/mc_x_tot, 1 + mc_x_err/mc_x_tot,\n"
     ]
    },
    {
     "data": {
      "text/plain": [
       "<Figure size 1332x756 with 0 Axes>"
      ]
     },
     "metadata": {},
     "output_type": "display_data"
    },
    {
     "data": {
      "image/png": "[encoded data removed]",
      "text/plain": [
       "<Figure size 972x972 with 2 Axes>"
      ]
     },
     "metadata": {
      "needs_background": "light"
     },
     "output_type": "display_data"
    }
   ],
   "source": [
    "# Variable to plot. \n",
    "# Set to either \"mass\" (for invariant mass of two b-jets) or \n",
    "# \"met\" for the missing transverse energy\n",
    "variable_to_plot = 'mass'\n",
    "# x-axis range of the plot\n",
    "if variable_to_plot == \"met\":\n",
    "    step_size = 25* GeV\n",
    "    xmin = 150 * GeV\n",
    "    xmax = 500 * GeV\n",
    "else:\n",
    "    step_size = 20* GeV\n",
    "    xmin = 0 * GeV\n",
    "    xmax = 500 * GeV\n",
    "\n",
    "\n",
    "bin_edges = np.arange(start=xmin, # The interval includes this value\n",
    "                    stop=xmax+step_size, # The interval doesn't include this value\n",
    "                    step=step_size ) # Spacing between values\n",
    "bin_centres = np.arange(start=xmin+step_size/2, # The interval includes this value\n",
    "                        stop=xmax+step_size/2, # The interval doesn't include this value\n",
    "                        step=step_size ) # Spacing between values\n",
    "\n",
    "bin_left = np.arange(start=xmin, # The interval includes this value\n",
    "                        stop=xmax+step_size, # The interval doesn't include this value\n",
    "                        step=step_size ) # Spacing between values\n",
    "\n",
    "data_x,_ = np.histogram(np.clip(ak.to_numpy(all_data['Data'][variable_to_plot]),bin_edges[0],bin_edges[-2]),\n",
    "                        bins=bin_edges ) # histogram the data\n",
    "data_x_errors = np.sqrt( data_x ) # statistical error on the data\n",
    "\n",
    "signal_x = np.clip(ak.to_numpy(all_data['Signal'][variable_to_plot]),bin_edges[0],bin_edges[-2]) # histogram the signal\n",
    "signal_weights = ak.to_numpy(all_data['Signal'].totalWeight) # get the weights of the signal events\n",
    "signal_color = samples['Signal']['color'] # get the colour for the signal bar\n",
    "\n",
    "mc_x = [] # define list to hold the Monte Carlo histogram entries\n",
    "mc_weights = [] # define list to hold the Monte Carlo weights\n",
    "mc_colors = [] # define list to hold the colors of the Monte Carlo bars\n",
    "mc_labels = [] # define list to hold the legend labels of the Monte Carlo bars\n",
    "\n",
    "for s in samples: # loop over samples\n",
    "    if s not in ['Data', 'Signal']: # if not data nor signal\n",
    "        # if 'V' in s or 'bar' in s:\n",
    "        #     print(f'skip {s}')\n",
    "        #     break\n",
    "        mc_x.append( np.clip(ak.to_numpy(all_data[s][variable_to_plot]),bin_edges[0],bin_edges[-2]) ) # append to the list of Monte Carlo histogram entries\n",
    "        mc_weights.append( ak.to_numpy(all_data[s].totalWeight) ) # append to the list of Monte Carlo weights\n",
    "        mc_colors.append( samples[s]['color'] ) # append to the list of Monte Carlo bar colors\n",
    "        mc_labels.append( s ) # append to the list of Monte Carlo legend labels\n",
    "\n",
    "# *************\n",
    "# Main plot\n",
    "# *************\n",
    "fig = plt.gcf()\n",
    "fig.set_size_inches(18.5, 10.5)\n",
    "\n",
    "# Create a 2-row grid layout\n",
    "fig, (main_axes, ax2) = plt.subplots(nrows=2, ncols=1, sharex=True, figsize=(8, 6),\n",
    "                               gridspec_kw={'height_ratios': [3, 1]})\n",
    "fig.set_size_inches(13.5, 13.5)\n",
    "#main_axes = plt.gca() # get current axes\n",
    "\n",
    "# plot the data points\n",
    "main_axes.errorbar(x=bin_centres, y=data_x, yerr=data_x_errors,\n",
    "                   fmt='ko', # 'k' means black and 'o' is for circles\n",
    "                   markersize=4, # Adjust the size of the circles\n",
    "                   label='Data')\n",
    "\n",
    "# # plot the Monte Carlo bars\n",
    "mc_heights = main_axes.hist(mc_x, bins=bin_edges,\n",
    "                            weights=mc_weights, stacked=True,\n",
    "                            color=mc_colors,\n",
    "                            label=mc_labels )\n",
    "\n",
    "mc_x_tot = mc_heights[0][-1] # stacked background MC y-axis value\n",
    "\n",
    "# calculate MC statistical uncertainty: sqrt(sum w^2)\n",
    "mc_x_err = np.sqrt(np.histogram(np.hstack(mc_x), bins=bin_edges, weights=np.hstack(mc_weights)**2)[0])\n",
    "\n",
    "# plot the signal bar\n",
    "signal_heights = main_axes.hist(signal_x, bins=bin_edges, bottom=mc_x_tot,\n",
    "                    weights=signal_weights, color=signal_color,\n",
    "                    label=r'Signal ($m_H$ = 125 GeV)')\n",
    "\n",
    "signal_x_tot = signal_heights[0]# stacked background MC y-axis value\n",
    "\n",
    "# plot the statistical uncertainty\n",
    "main_axes.bar(bin_centres, # x\n",
    "                2*mc_x_err, # heights\n",
    "                alpha=0.5, # half transparency\n",
    "                bottom=mc_x_tot-mc_x_err, color='none',\n",
    "                hatch=\"////\", width=step_size, label='Stat. Unc.' )\n",
    "\n",
    "# plot the signal bar\n",
    "main_axes.hist(signal_x, bins=bin_edges, #bottom=mc_x_tot,\n",
    "                weights=signal_weights*(10 if variable_to_plot == \"met\" else 5), color=signal_color, histtype='step', linewidth=1.5, \n",
    "                label=r'Signal ($m_H$ = 125 GeV) x %i'%(10 if variable_to_plot == \"met\" else 5))\n",
    "\n",
    "if variable_to_plot == \"met\":\n",
    "    ax2.tick_params(axis='y', labelsize=20)\n",
    "    main_axes.set_xticks(list(np.arange(0, 550, step=25)), list(np.arange(0, 550, step=25)))  # Set text labels and properties.\n",
    "    ax2.set_xticks(list(np.arange(0, 550, step=25)), list(np.arange(0, 550, step=25)),fontsize=20)  # Set text labels and properties.\n",
    "else:\n",
    "    main_axes.set_xticks(list(np.arange(0, 520, step=20)), list(np.arange(0, 520, step=20)))  # Set text labels and properties.\n",
    "    ax2.set_xticks(list(np.arange(0, 520, step=20)), list(np.arange(0, 520, step=20)),fontsize=16)  # Set text labels and properties.\n",
    "    ax2.tick_params(axis='y', labelsize=20)\n",
    "main_axes.tick_params(axis='y', labelsize=20)\n",
    "\n",
    "# set the x-limit of the main axes\n",
    "main_axes.set_xlim( left=xmin, right=xmax )\n",
    "\n",
    "# separation of x axis minor ticks\n",
    "main_axes.xaxis.set_minor_locator( AutoMinorLocator() )\n",
    "\n",
    "# set the axis tick parameters for the main axes\n",
    "main_axes.tick_params(which='both', # ticks on both x and y axes\n",
    "                        direction='in', # Put ticks inside and outside the axes\n",
    "                        top=True, # draw ticks on the top axis\n",
    "                        right=True ) # draw ticks on right axis\n",
    "\n",
    "\n",
    "# write y-axis label for main axes\n",
    "main_axes.set_ylabel('Events / '+str(step_size)+' GeV',\n",
    "                        y=1, horizontalalignment='right',fontsize=40)\n",
    "\n",
    "\n",
    "\n",
    "# add minor ticks on y-axis for main axes\n",
    "main_axes.yaxis.set_minor_locator( AutoMinorLocator() )\n",
    "\n",
    "if variable_to_plot == \"met\":\n",
    "    xtit = r'$E_{T}^{miss}$ [GeV]'\n",
    "    main_axes.set_yscale('log')\n",
    "    # set y-axis limits for main axes\n",
    "    main_axes.set_ylim( bottom=0.4, top=350000)#np.amax(data_x)*1.6 )\n",
    "else:\n",
    "    xtit = r'$m_{bb}$ [GeV]'\n",
    "    #main_axes.set_yscale('log')\n",
    "    main_axes.set_ylim( bottom=0.1, top=1120)#np.amax(data_x)*1.6 )\n",
    "    ax2.set_ylim( bottom=0.45, top=4.5)#np.amax(data_x)*1.6 )\n",
    "# draw the legend\n",
    "main_axes.legend( frameon=False, fontsize=20 ); # no box around the legend\n",
    "\n",
    "\n",
    "# Calculate the ratio where counts2 is not zero\n",
    "this_data_x = data_x.astype('float64')\n",
    "ratio = np.divide(this_data_x , (mc_x_tot + signal_x_tot), out=np.zeros_like(this_data_x), where=(mc_x_tot != 0))\n",
    "\n",
    "\n",
    "# Calculate uncertainty in the ratio using propagation of uncertainty\n",
    "ratio_uncertainty = ratio * np.sqrt((data_x_errors/this_data_x)**2 + (mc_x_err/(mc_x_tot + signal_x_tot))**2)\n",
    "\n",
    "\n",
    "ratio_uncertainty[ratio_uncertainty < 0] = 0      # Replace negative numbers with 0\n",
    "ratio_uncertainty[np.isnan(ratio_uncertainty)] = 0  # Replace NaN with 0\n",
    "\n",
    "# Plot the ratio with markers in the bottom subplot\n",
    "mid_bins = 0.5 * (bin_edges[:-1] + bin_edges[1:])  # Midpoints of bins for plotting\n",
    "bin_widths = np.diff(bin_edges) / 2  # Half bin width for each midpoint\n",
    "\n",
    "# To get the edges right need to add an additional point to the right of the axis limits\n",
    "mc_x_err = np.append(mc_x_err,mc_x_err[-1])\n",
    "mc_x_tot = np.append(mc_x_tot,mc_x_tot[-1])\n",
    "\n",
    "uncertainty = 0.1\n",
    "# Add a shaded area representing the error around ratio = 1\n",
    "ax2.fill_between(bin_left, 1 - mc_x_err/mc_x_tot, 1 + mc_x_err/mc_x_tot, \n",
    "                 hatch=\"////\",color='gray', alpha=0.5, label='Error Band', step = 'pre')\n",
    "\n",
    "ax2.errorbar(mid_bins, ratio, xerr=bin_widths ,yerr=ratio_uncertainty,fmt=\"o\", color='black')\n",
    "#ax2.plot(mid_bins, ratio, marker='o', linestyle='None', color='black')  # 'o' is the marker style\n",
    "ax2.set_xlabel(xtit ,fontsize=40,loc='right')\n",
    "ax2.set_ylabel('Data/Pred.',fontsize=20)\n",
    "ax2.set_ylim( bottom=0.4, top=1.6)#np.amax(data_x)*1.6 )\n",
    "ax2.grid(True)  # Enable gridlines for the bottom subplot\n",
    "\n",
    "# add minor ticks on y-axis for main axes\n",
    "ax2.yaxis.set_minor_locator( AutoMinorLocator() )\n",
    "\n",
    "# Adjust layout\n",
    "plt.tight_layout()"
   ]
  }
 ],
 "metadata": {
  "@webio": {
   "lastCommId": null,
   "lastKernelId": null
  },
  "accelerator": "TPU",
  "colab": {
   "gpuType": "V28",
   "provenance": []
  },
  "kernelspec": {
   "display_name": "Python 3 (ipykernel)",
   "language": "python",
   "name": "python3"
  },
  "language_info": {
   "codemirror_mode": {
    "name": "ipython",
    "version": 3
   },
   "file_extension": ".py",
   "mimetype": "text/x-python",
   "name": "python",
   "nbconvert_exporter": "python",
   "pygments_lexer": "ipython3",
   "version": "3.9.6"
  }
 },
 "nbformat": 4,
 "nbformat_minor": 1
}
