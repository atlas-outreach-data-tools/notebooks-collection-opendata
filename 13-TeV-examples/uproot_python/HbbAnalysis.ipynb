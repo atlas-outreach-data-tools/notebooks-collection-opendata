{
 "cells": [
  {
   "cell_type": "markdown",
   "metadata": {},
   "source": [
    "# Looking for the Beauty Higgs decay!"
   ]
  },
  {
   "cell_type": "markdown",
   "metadata": {},
   "source": [
    "<CENTER><img src=\"ATLASOD.gif\" style=\"width:50%\"></CENTER>"
   ]
  },
  {
   "cell_type": "markdown",
   "metadata": {},
   "source": [
    "This notebook uses ATLAS Open Data https://opendata.atlas.cern to show you the steps to search for the Higgs to two $b$ quarks decay.\n",
    "\n",
    "ATLAS Open Data provides open access to proton-proton collision data at the LHC for educational purposes. ATLAS Open Data resources are ideal for high-school, undergraduate and postgraduate students.\n",
    "\n",
    "Notebooks are web applications that allow you to create and share documents that can contain for example:\n",
    "1. live code\n",
    "2. visualisations\n",
    "3. narrative text\n"
   ]
  },
  {
   "cell_type": "markdown",
   "metadata": {},
   "source": [
    "### What is the Higgs boson? \n",
    "The Higgs boson is a fundamental particle predicted by the Standard Model. \n",
    "It is a manifestation of the Higgs field,\n",
    "    which gives mass to the fundamental particles.\n",
    "However,\n",
    "    it is incredibly hard to produce.\n",
    "At the LHC, \n",
    "    a Higgs particle is produced about once every 10 billion collisions!\n",
    "This tiny fraction makes it very difficult to detect.\n",
    "Nevertheless, \n",
    "    after years of data collection, \n",
    "    the Higgs boson was finally discovered in 2012 by CMS and ATLAS experiments at CERN.\n",
    "In this tutorial, \n",
    "    we shall search for the Higgs as well. \n"
   ]
  },
  {
   "cell_type": "markdown",
   "metadata": {},
   "source": [
    "### Searching for the Higgs\n",
    "This analysis loosely follows the paper on the [evidence of $H\\to b\\bar{b}$ decay by ATLAS](https://link.springer.com/article/10.1007/JHEP12(2017)024).\n",
    "\n",
    "The Higgs boson can be produced in many different ways. \n",
    "In particle physics, \n",
    "    we describe these production modes using Feynman diagrams.\n",
    "These diagrams allow us to visualise particle processes while also acting as powerful tools for calculations.\n",
    "See [here](https://cds.cern.ch/record/2759490/files/Feynman%20Diagrams%20-%20ATLAS%20Cheat%20Sheet.pdf) for more information on Feynman diagrams.\n",
    "\n",
    "There are four main production modes of the Higgs boson, and their respective Feynman diagrams:\n",
    "1. Gluon-gluon fusion (top left)\n",
    "2. Vector boson fusion (top right)\n",
    "3. Vector boson bremsstrahlung (bottom left)\n",
    "4. Top-antitop fusion (bottom right)\n",
    "\n",
    "<CENTER><img src=\"images/ImagesHiggs/ggH.png\" style=\"width:40%\"> <img src=\"images/ImagesHiggs/VBFH.png\" style=\"width:35%\"></CENTER>\n",
    "<CENTER><img src=\"images/ImagesHiggs/WH.png\" style=\"width:40%\"> <img src=\"images/ImagesHiggs/ttbarfusion.png\" style=\"width:35%\"></CENTER>\n",
    "\n",
    "The Higgs has a very short lifetime,\n",
    "    on the order of $10^{-22} \\,\\text{s}$.\n",
    "It decays extremely quickly after production,\n",
    "    so there is no hope of directly detecting the particle.\n",
    "Nevertheless,\n",
    "    we can use the Standard Model to predict its \n",
    "    decay products: photons, $Z$ bosons, quarks, etc.,\n",
    "    all with different probabilities.\n",
    "These **decay channels** can be used to identify the Higgs boson.\n",
    "In this notebook, \n",
    "    we'll be looking at one particular decay channel:\n",
    "$$H \\rightarrow b\\bar{b}$$\n",
    "\n",
    "<CENTER><img src=\"images/ImagesHiggs/Hbb.png\" style=\"width:40%\"></CENTER>\n"
   ]
  },
  {
   "cell_type": "markdown",
   "metadata": {},
   "source": [
    "This decay channel actually accounts for almost $60\\%$ of all Higgs decays. \n",
    "Ideally,\n",
    "    we would search for collisions which yield two bottom quarks as products and this would tell us that a Higgs boson is present.\n",
    "Despite this, \n",
    "    the Higgs was not discovered through this channel, \n",
    "    and this decay was only verified more recently in $2018$.\n",
    "Why?\n",
    "In fact, \n",
    "    this channel is one of the most difficult to detect at the LHC,\n",
    "    precisely because proton-proton collisions tend to produce a huge number of $b$ quarks independently of the Higgs.\n",
    "In addition to the decay signal,\n",
    "    there are many other **background** processes that lead to two reconstructed $b$ quarks in the final state. \n",
    "\n",
    "To make the analysis easier, \n",
    "    we will focus on the vector boson bremsstrahlung production channel, \n",
    "    in which a $W$ or $Z$ bozon is also created.\n",
    "Because the leptonic decays of the $W$ and $Z$ have very clean signatures,\n",
    "    these processes will help us identify the case where the Higgs is produced.\n",
    "There are three main decay channels where $H\\to b\\bar{b}$:\n",
    "1. $0$-lepton products: $Z + H\\to \\nu\\bar{\\nu} + b\\bar{b}$\n",
    "2. $1$-lepton products: $W + H\\to l\\nu  + b\\bar{b}$\n",
    "3. $2$-lepton products: $Z + H\\to l\\bar{l} + b\\bar{b}$\n",
    "\n",
    "We will focus on the $0$-lepton channel.\n",
    "This is referred to as our desired **signal**.\n",
    "In this channel, \n",
    "    there are no charged leptons produced, \n",
    "    only neutrinos and bottom quarks.\n",
    "Nevertheless,\n",
    "    after narrowing our analysis,\n",
    "    we still have to deal with a lot of background processes."
   ]
  },
  {
   "cell_type": "markdown",
   "metadata": {},
   "source": [
    "Wait a second, \n",
    "    it turns out that the ATLAS detector cannot detect neutrinos!\n",
    "How then do we verify our $0$-lepton channel?\n",
    "Actually, \n",
    "    using a physical principle known as conservation of momentum,\n",
    "    we can indirectly detect the presence of neutrinos.\n",
    "Since the proton beams in the LHC are travelling axially, \n",
    "    the momentum in the transverse/radial direction must sum to zero before and after the collision event.\n",
    "When a neutrino is created and not directly detected,\n",
    "    there is some missing transverse energy $E^\\text{miss}_T$ that can be calculated from the other decay products.\n",
    "This missing transverse energy can then be used in calculations which verify the Higgs decay."
   ]
  },
  {
   "cell_type": "markdown",
   "metadata": {},
   "source": [
    "One of the main sources of background is that of $V+$ jets processes, \n",
    "    where leptons produced can either be lost or misidentified as jets.\n",
    "<CENTER><img src=\"images/ImagesHiggs/V+jets.png\" style=\"width:40%\"></CENTER>\n",
    "\n",
    "We also have background contributions from diboson processs $ZZ\\to \\nu\\bar{\\nu} + b\\bar{b}$ and top-antitop processes. \n",
    "\n",
    "<CENTER><img src=\"images/ImagesHiggs/ZZnunubb.png\" style=\"width:30%\"><img src=\"images/ImagesHiggs/ttbar.png\" style=\"width:30%\"></CENTER>\n",
    "\n",
    "For these backgrounds,\n",
    "    we will attempt to distinguish them from the Higgs decay using various selection rules.\n",
    "These selection rules place restrictions on the physical variables in the data,\n",
    "    such as the relationships between the jet and neutrino angles, \n",
    "    or the minimum $E^\\text{miss}_T$.\n",
    "Thus, \n",
    "    we can cut away all data with products that do not have these properties.\n",
    "These selections increase the ratio of our signal to the background.\n",
    "\n",
    "We can further discern the signal by accounting for the total invariant mass of the two bottom quark products. \n",
    "We know through conservation of energy and momentum that the invariant mass of the products must be equal to the Higgs mass, \n",
    "    while other background processes will have different invariant masses. \n",
    "Our last step would be to plot the invariant mass of each event and spot the peak in mass around $125\\, \\text{GeV}$,\n",
    "    which corresponds to the mass of the Higgs boson. \n",
    "\n",
    "By the end of this notebook you will be able to:\n",
    "1. Learn to process large data sets using selections\n",
    "2. Understand some general principles of a particle physics analysis\n",
    "3. Search for the Higgs boson!\n",
    "\n",
    "See [here](https://cds.cern.ch/record/2800577/files/Signal%20and%20Background%20Physics%20Cheat%20Sheet.pdf) for more information on signals and backgrounds!"
   ]
  },
  {
   "cell_type": "markdown",
   "metadata": {},
   "source": [
    "### Running a Python notebook\n",
    "A Python notebook consists of cell blocks, \n",
    "    each containing lines of Python code.\n",
    "Each cell can be run independently of each other,\n",
    "    yielding respective outputs below the cells.\n",
    "Conventionally,\n",
    "    cells are run in order from top to bottom.\n",
    "\n",
    "\n",
    "- To run the whole notebook, in the top menu click Cell $\\to$ Run All.\n",
    "\n",
    "- To propagate a change you've made to a piece of code, click Cell $\\to$ Run All Below.\n",
    "\n",
    "- You can also run a single code cell, by clicking Cell $\\to$ Run Cells, or using the keyboard shortcut Shift+Enter.\n",
    "\n",
    "For more information, \n",
    "    refer to [here](https://www.codecademy.com/article/how-to-use-jupyter-notebooks)."
   ]
  },
  {
   "cell_type": "markdown",
   "metadata": {},
   "source": [
    "We're going to import a number of packages to help us:\n",
    "* `numpy`: provides numerical calculations such as histogramming\n",
    "* `matplotlib`: common tool for making plots, figures, images, visualisations\n",
    "* `uproot`: processes `.root` files typically used in particle physics into data formats used in python\n",
    "* `awkward`: introduces `awkward` arrays, a format that generalizes `numpy` to nested data with possibly variable length lists\n",
    "* `vector`: to allow vectorized 4-momentum calculations"
   ]
  },
  {
   "cell_type": "code",
   "execution_count": 1,
   "metadata": {
    "colab": {
     "base_uri": "https://localhost:8080/"
    },
    "id": "oGY8NSROMex0",
    "outputId": "19efbcb9-941a-42e8-ac00-7d3bba6c540b"
   },
   "outputs": [],
   "source": [
    "import numpy as np # for numerical calculations such as histogramming\n",
    "import matplotlib.pyplot as plt # for plotting\n",
    "import matplotlib_inline # to edit the inline plot format\n",
    "#matplotlib_inline.backend_inline.set_matplotlib_formats('pdf', 'svg') # to make plots in pdf (vector) format\n",
    "from matplotlib.ticker import AutoMinorLocator # for minor ticks\n",
    "import uproot # for reading .root files\n",
    "import awkward as ak # to represent nested data in columnar format\n",
    "import vector # for 4-momentum calculations\n",
    "import time"
   ]
  },
  {
   "cell_type": "markdown",
   "metadata": {},
   "source": [
    "Unit definitions, as stored in the data files"
   ]
  },
  {
   "cell_type": "code",
   "execution_count": 2,
   "metadata": {
    "id": "n97rF99gMex1"
   },
   "outputs": [],
   "source": [
    "MeV = 0.001\n",
    "GeV = 1.0"
   ]
  },
  {
   "cell_type": "code",
   "execution_count": 3,
   "metadata": {},
   "outputs": [
    {
     "data": {
      "text/html": [
       "<div>\n",
       "<style scoped>\n",
       "    .dataframe tbody tr th:only-of-type {\n",
       "        vertical-align: middle;\n",
       "    }\n",
       "\n",
       "    .dataframe tbody tr th {\n",
       "        vertical-align: top;\n",
       "    }\n",
       "\n",
       "    .dataframe thead th {\n",
       "        text-align: right;\n",
       "    }\n",
       "</style>\n",
       "<table border=\"1\" class=\"dataframe\">\n",
       "  <thead>\n",
       "    <tr style=\"text-align: right;\">\n",
       "      <th></th>\n",
       "      <th>dataset_number</th>\n",
       "      <th>physics_short</th>\n",
       "      <th>e-tag</th>\n",
       "      <th>crossSection_pb</th>\n",
       "      <th>genFiltEff</th>\n",
       "      <th>kFactor</th>\n",
       "      <th>nEvents</th>\n",
       "      <th>sumOfWeights</th>\n",
       "      <th>sumOfWeightsSquared</th>\n",
       "      <th>process</th>\n",
       "      <th>generator</th>\n",
       "      <th>keywords</th>\n",
       "      <th>description</th>\n",
       "      <th>job_path</th>\n",
       "    </tr>\n",
       "  </thead>\n",
       "  <tbody>\n",
       "    <tr>\n",
       "      <th>0</th>\n",
       "      <td>301204</td>\n",
       "      <td>Pythia8EvtGen_A14MSTW2008LO_Zprime_NoInt_ee_SS...</td>\n",
       "      <td>e3723</td>\n",
       "      <td>0.001762</td>\n",
       "      <td>1.0</td>\n",
       "      <td>1.0</td>\n",
       "      <td>20000.0</td>\n",
       "      <td>20000.0</td>\n",
       "      <td>20000.0</td>\n",
       "      <td>pp&gt;Zprime&gt;ee</td>\n",
       "      <td>Pythia8(v8.186)+EvtGen(v1.2.0)</td>\n",
       "      <td>['2electron', 'BSM', 'SSM', 'Zprime', 'electro...</td>\n",
       "      <td>Pythia 8 Zprime decaying to two electrons'</td>\n",
       "      <td>https://gitlab.cern.ch/atlas-physics/pmg/infra...</td>\n",
       "    </tr>\n",
       "    <tr>\n",
       "      <th>1</th>\n",
       "      <td>301209</td>\n",
       "      <td>Pythia8EvtGen_A14MSTW2008LO_Zprime_NoInt_mumu_...</td>\n",
       "      <td>e3723</td>\n",
       "      <td>0.001772</td>\n",
       "      <td>1.0</td>\n",
       "      <td>1.0</td>\n",
       "      <td>20000.0</td>\n",
       "      <td>20000.0</td>\n",
       "      <td>20000.0</td>\n",
       "      <td>pp&gt;Zprime&gt;mm</td>\n",
       "      <td>Pythia8(v8.186)+EvtGen(v1.2.0)</td>\n",
       "      <td>['2muon', 'BSM', 'SSM', 'Zprime', 'electroweak...</td>\n",
       "      <td>Pythia 8 Zprime decaying to two muons'</td>\n",
       "      <td>https://gitlab.cern.ch/atlas-physics/pmg/infra...</td>\n",
       "    </tr>\n",
       "    <tr>\n",
       "      <th>2</th>\n",
       "      <td>301243</td>\n",
       "      <td>Pythia8EvtGen_A14NNPDF23LO_Wprime_enu_SSM3000</td>\n",
       "      <td>e3886</td>\n",
       "      <td>0.011414</td>\n",
       "      <td>1.0</td>\n",
       "      <td>1.0</td>\n",
       "      <td>8000.0</td>\n",
       "      <td>8000.0</td>\n",
       "      <td>8000.0</td>\n",
       "      <td>pp&gt;Wprime&gt;enu</td>\n",
       "      <td>Pythia8(v8.186)+EvtGen(v1.2.0)</td>\n",
       "      <td>['BSM', 'SSM', 'Wprime', 'electroweak', 'heavy...</td>\n",
       "      <td>Pythia 8 Wprime decaying to enu'</td>\n",
       "      <td>https://gitlab.cern.ch/atlas-physics/pmg/infra...</td>\n",
       "    </tr>\n",
       "    <tr>\n",
       "      <th>3</th>\n",
       "      <td>301247</td>\n",
       "      <td>Pythia8EvtGen_A14NNPDF23LO_Wprime_munu_SSM3000</td>\n",
       "      <td>e3886</td>\n",
       "      <td>0.011432</td>\n",
       "      <td>1.0</td>\n",
       "      <td>1.0</td>\n",
       "      <td>20000.0</td>\n",
       "      <td>20000.0</td>\n",
       "      <td>20000.0</td>\n",
       "      <td>pp&gt;Wprime&gt;munu</td>\n",
       "      <td>Pythia8(v8.186)+EvtGen(v1.2.0)</td>\n",
       "      <td>['BSM', 'SSM', 'Wprime', 'electroweak', 'heavy...</td>\n",
       "      <td>Pythia 8 Wprime decaying to munu'</td>\n",
       "      <td>https://gitlab.cern.ch/atlas-physics/pmg/infra...</td>\n",
       "    </tr>\n",
       "    <tr>\n",
       "      <th>4</th>\n",
       "      <td>301333</td>\n",
       "      <td>Pythia8EvtGen_A14NNPDF23LO_zprime3000_tt</td>\n",
       "      <td>e3723</td>\n",
       "      <td>0.005084</td>\n",
       "      <td>1.0</td>\n",
       "      <td>1.0</td>\n",
       "      <td>30000.0</td>\n",
       "      <td>30000.0</td>\n",
       "      <td>30000.0</td>\n",
       "      <td>pp&gt;Zprime&gt;ttbar</td>\n",
       "      <td>Pythia8(v8.186)+EvtGen(v1.2.0)</td>\n",
       "      <td>['BSM', 'Zprime', 'resonance', 'ttbar']</td>\n",
       "      <td>SSM Z prime (+str(m_zprime)+\") to ttbar\"</td>\n",
       "      <td>https://gitlab.cern.ch/atlas-physics/pmg/infra...</td>\n",
       "    </tr>\n",
       "  </tbody>\n",
       "</table>\n",
       "</div>"
      ],
      "text/plain": [
       "   dataset_number                                      physics_short  e-tag  \\\n",
       "0          301204  Pythia8EvtGen_A14MSTW2008LO_Zprime_NoInt_ee_SS...  e3723   \n",
       "1          301209  Pythia8EvtGen_A14MSTW2008LO_Zprime_NoInt_mumu_...  e3723   \n",
       "2          301243      Pythia8EvtGen_A14NNPDF23LO_Wprime_enu_SSM3000  e3886   \n",
       "3          301247     Pythia8EvtGen_A14NNPDF23LO_Wprime_munu_SSM3000  e3886   \n",
       "4          301333           Pythia8EvtGen_A14NNPDF23LO_zprime3000_tt  e3723   \n",
       "\n",
       "   crossSection_pb  genFiltEff  kFactor  nEvents  sumOfWeights  \\\n",
       "0         0.001762         1.0      1.0  20000.0       20000.0   \n",
       "1         0.001772         1.0      1.0  20000.0       20000.0   \n",
       "2         0.011414         1.0      1.0   8000.0        8000.0   \n",
       "3         0.011432         1.0      1.0  20000.0       20000.0   \n",
       "4         0.005084         1.0      1.0  30000.0       30000.0   \n",
       "\n",
       "   sumOfWeightsSquared          process                       generator  \\\n",
       "0              20000.0     pp>Zprime>ee  Pythia8(v8.186)+EvtGen(v1.2.0)   \n",
       "1              20000.0     pp>Zprime>mm  Pythia8(v8.186)+EvtGen(v1.2.0)   \n",
       "2               8000.0    pp>Wprime>enu  Pythia8(v8.186)+EvtGen(v1.2.0)   \n",
       "3              20000.0   pp>Wprime>munu  Pythia8(v8.186)+EvtGen(v1.2.0)   \n",
       "4              30000.0  pp>Zprime>ttbar  Pythia8(v8.186)+EvtGen(v1.2.0)   \n",
       "\n",
       "                                            keywords  \\\n",
       "0  ['2electron', 'BSM', 'SSM', 'Zprime', 'electro...   \n",
       "1  ['2muon', 'BSM', 'SSM', 'Zprime', 'electroweak...   \n",
       "2  ['BSM', 'SSM', 'Wprime', 'electroweak', 'heavy...   \n",
       "3  ['BSM', 'SSM', 'Wprime', 'electroweak', 'heavy...   \n",
       "4            ['BSM', 'Zprime', 'resonance', 'ttbar']   \n",
       "\n",
       "                                  description  \\\n",
       "0  Pythia 8 Zprime decaying to two electrons'   \n",
       "1      Pythia 8 Zprime decaying to two muons'   \n",
       "2            Pythia 8 Wprime decaying to enu'   \n",
       "3           Pythia 8 Wprime decaying to munu'   \n",
       "4    SSM Z prime (+str(m_zprime)+\") to ttbar\"   \n",
       "\n",
       "                                            job_path  \n",
       "0  https://gitlab.cern.ch/atlas-physics/pmg/infra...  \n",
       "1  https://gitlab.cern.ch/atlas-physics/pmg/infra...  \n",
       "2  https://gitlab.cern.ch/atlas-physics/pmg/infra...  \n",
       "3  https://gitlab.cern.ch/atlas-physics/pmg/infra...  \n",
       "4  https://gitlab.cern.ch/atlas-physics/pmg/infra...  "
      ]
     },
     "execution_count": 3,
     "metadata": {},
     "output_type": "execute_result"
    }
   ],
   "source": [
    "import pandas as pd\n",
    "\n",
    "url = \"https://opendata.atlas.cern/files/metadata.csv\"\n",
    "metadata = pd.read_csv(url)\n",
    "\n",
    "metadata.head()"
   ]
  },
  {
   "cell_type": "markdown",
   "metadata": {},
   "source": [
    "## Example 1: Reading data "
   ]
  },
  {
   "cell_type": "markdown",
   "metadata": {},
   "source": [
    "We would like to read some of the data from the open dataset."
   ]
  },
  {
   "cell_type": "code",
   "execution_count": 4,
   "metadata": {
    "id": "CV1cq_JRMex3"
   },
   "outputs": [],
   "source": [
    "# CERN open database URL\n",
    "#path = \"https://atlas-opendata.web.cern.ch/atlas-opendata/13TeV/bb0L/\"\n",
    "path = '../../../2bjets/'"
   ]
  },
  {
   "cell_type": "markdown",
   "metadata": {},
   "source": [
    "For convenient naming and identification purposes,\n",
    "    we define a dictionary which stores all the important names of the samples we want to pull from the directory."
   ]
  },
  {
   "cell_type": "code",
   "execution_count": 5,
   "metadata": {
    "id": "Lw20X335Mex2"
   },
   "outputs": [],
   "source": [
    "samples = {\n",
    "    'Data' : {\n",
    "        'list' : ['data15_periodD.2bjets.root',\n",
    "                  'data15_periodE.2bjets.root',\n",
    "                  'data15_periodF.2bjets.root',\n",
    "                  'data15_periodG.2bjets.root',\n",
    "                  'data15_periodH.2bjets.root',\n",
    "                  'data15_periodJ.2bjets.root',\n",
    "                  'data16_periodA.2bjets.root',\n",
    "                  'data16_periodB.2bjets.root',\n",
    "                  'data16_periodC.2bjets.root',\n",
    "                  'data16_periodD.2bjets.root',\n",
    "                  'data16_periodE.2bjets.root',\n",
    "                  'data16_periodF.2bjets.root',\n",
    "                  'data16_periodG.2bjets.root',\n",
    "                  'data16_periodI.2bjets.root',\n",
    "                  'data16_periodK.2bjets.root',\n",
    "                  'data16_periodL.2bjets.root'\n",
    "                ],\n",
    "    },\n",
    "    \n",
    "    'Signal' : {\n",
    "        'list' : ['345056.PowhegPythia8EvtGen_NNPDF3_AZNLO_ZH125J_MINLO_vvbb_VpT.2bjets.root',\n",
    "                '345058.PowhegPythia8EvtGen_NNPDF3_AZNLO_ggZH125_vvbb.2bjets.root'],\n",
    "        'color' : \"blue\"\n",
    "    },\n",
    "    r'Background $t\\bar{t}$' : {\n",
    "        'list' : ['410470.PhPy8EG_A14_ttbar_hdamp258p75_nonallhad.2bjets.root'], \n",
    "        'color' : \"yellow\"\n",
    "    },\n",
    "    'Background Single top' : {\n",
    "        'list' : ['410644.PowhegPythia8EvtGen_A14_singletop_schan_lept_top.2bjets.root',\n",
    "                '410645.PowhegPythia8EvtGen_A14_singletop_schan_lept_antitop.2bjets.root',\n",
    "                '410658.PhPy8EG_A14_tchan_BW50_lept_top.2bjets.root',\n",
    "                '410659.PhPy8EG_A14_tchan_BW50_lept_antitop.2bjets.root'],\n",
    "        'color' : \"grey\"\n",
    "    },\n",
    "    r'Background $V+$jets' : {\n",
    "        'list' : ['700335.Sh_2211_Znunu_pTV2_BFilter.2bjets.root',\n",
    "                '700336.Sh_2211_Znunu_pTV2_CFilterBVeto.2bjets.root',\n",
    "                '700337.Sh_2211_Znunu_pTV2_CVetoBVeto.2bjets.root',\n",
    "                '700467.Sh_2211_Zee_maxHTpTV2_m10_40_pT5_BFilter.2bjets.root',\n",
    "                '700468.Sh_2211_Zee_maxHTpTV2_m10_40_pT5_CFilterBVeto.2bjets.root',\n",
    "                '700469.Sh_2211_Zee_maxHTpTV2_m10_40_pT5_CVetoBVeto.2bjets.root',\n",
    "                '700470.Sh_2211_Zmumu_maxHTpTV2_m10_40_pT5_BFilter.2bjets.root',\n",
    "                '700471.Sh_2211_Zmumu_maxHTpTV2_m10_40_pT5_CFilterBVeto.2bjets.root',\n",
    "                '700472.Sh_2211_Zmumu_maxHTpTV2_m10_40_pT5_CVetoBVeto.2bjets.root',\n",
    "                '700792.Sh_2214_Ztautau_maxHTpTV2_BFilter.2bjets.root',\n",
    "                '700793.Sh_2214_Ztautau_maxHTpTV2_CFilterBVeto.2bjets.root',\n",
    "                '700794.Sh_2214_Ztautau_maxHTpTV2_CVetoBVeto.2bjets.root'],\n",
    "        'color' : \"red\"\n",
    "    },\n",
    "    'Background Diboson' : {\n",
    "        'list' : ['700488.Sh_2211_WlvWqq.2bjets.root',\n",
    "                '700489.Sh_2211_WlvZqq.2bjets.root',\n",
    "                '700490.Sh_2211_WlvZbb.2bjets.root',\n",
    "                '700491.Sh_2211_WqqZvv.2bjets.root',\n",
    "                '700492.Sh_2211_WqqZll.2bjets.root',\n",
    "                '700493.Sh_2211_ZqqZll.2bjets.root',\n",
    "                '700494.Sh_2211_ZbbZll.2bjets.root',\n",
    "                '700495.Sh_2211_ZqqZvv.2bjets.root',\n",
    "                '700496.Sh_2211_ZbbZvv.2bjets.root',\n",
    "                '700195.Sh_2210_eegammagamma.2bjets.root',\n",
    "                '700196.Sh_2210_mumugammagamma.2bjets.root',\n",
    "                '700199.Sh_2210_enugammagamma.2bjets.root',\n",
    "                '700200.Sh_2210_munugammagamma.2bjets.root',\n",
    "                '700201.Sh_2210_taunugammagamma.2bjets.root'],\n",
    "        'color' : \"green\"\n",
    "    }\n",
    "}"
   ]
  },
  {
   "cell_type": "markdown",
   "metadata": {},
   "source": [
    "The key named `Data` refers to the event information collected from real experiments,\n",
    "    while the `Background` and `Signal` keys refer to Monte-Carlo (MC) simulations of the ATLAS experiments.\n",
    "Both real data and MC data will then be analysed and compared together to discover the Higgs! \n",
    "\n",
    "Let's try accessing `data_15` in the Open Data URL as an example."
   ]
  },
  {
   "cell_type": "code",
   "execution_count": 6,
   "metadata": {},
   "outputs": [
    {
     "name": "stdout",
     "output_type": "stream",
     "text": [
      "{'list': ['data15_periodD.2bjets.root', 'data15_periodE.2bjets.root', 'data15_periodF.2bjets.root', 'data15_periodG.2bjets.root', 'data15_periodH.2bjets.root', 'data15_periodJ.2bjets.root', 'data16_periodA.2bjets.root', 'data16_periodB.2bjets.root', 'data16_periodC.2bjets.root', 'data16_periodD.2bjets.root', 'data16_periodE.2bjets.root', 'data16_periodF.2bjets.root', 'data16_periodG.2bjets.root', 'data16_periodI.2bjets.root', 'data16_periodK.2bjets.root', 'data16_periodL.2bjets.root']}\n",
      "value='data15_periodD.2bjets.root'\n"
     ]
    }
   ],
   "source": [
    "# Print the samples dict for the key 'data'\n",
    "print(samples['Data'])\n",
    "\n",
    "# We shall use the first entry in 'list', 'data15.EOD_0L.root'\n",
    "value = samples['Data']['list'][0]\n",
    "print(f\"{value=}\")\n",
    "\n",
    "# This is now appended to our file path to retrieve the data_15 file\n",
    "data_15_path = path + 'Data/' + value "
   ]
  },
  {
   "cell_type": "markdown",
   "metadata": {},
   "source": [
    "Next, we shall try opening the `data_15` file to see what is inside.\n",
    "In the file (called a `tree`),\n",
    "    there are many entries, \n",
    "    one for each event.\n",
    "In each event,\n",
    "    a dictionary stores the all relevant information as keys, such as the event number (`eventNumber`), lepton transverse momentum (`lep_pt`), etc.  \n",
    "Details on the variables in the dictionary can be viewed [here](https://cds.cern.ch/record/2707171/files/ANA-OTRC-2019-01-PUB-updated.pdf) in Appendix A.\n",
    "\n",
    "More information on trees can be viewed [here](https://masonproffitt.github.io/uproot-tutorial/03-trees/index.html)."
   ]
  },
  {
   "cell_type": "code",
   "execution_count": 7,
   "metadata": {},
   "outputs": [
    {
     "data": {
      "text/plain": [
       "'../../../2bjets/Data/data15_periodD.2bjets.root'"
      ]
     },
     "execution_count": 7,
     "metadata": {},
     "output_type": "execute_result"
    }
   ],
   "source": [
    "data_15_path"
   ]
  },
  {
   "cell_type": "code",
   "execution_count": 8,
   "metadata": {},
   "outputs": [
    {
     "name": "stdout",
     "output_type": "stream",
     "text": [
      "79113\n"
     ]
    },
    {
     "data": {
      "text/plain": [
       "['num_events',\n",
       " 'sum_of_weights',\n",
       " 'sum_of_weights_squared',\n",
       " 'category',\n",
       " 'is_bjet',\n",
       " 'n_bjet',\n",
       " 'TriggerMatch_DILEPTON',\n",
       " 'ScaleFactor_MLTRIGGER',\n",
       " 'ScaleFactor_PILEUP',\n",
       " 'ScaleFactor_FTAG',\n",
       " 'mcWeight',\n",
       " 'xsec',\n",
       " 'filteff',\n",
       " 'kfac',\n",
       " 'channelNumber',\n",
       " 'eventNumber',\n",
       " 'runNumber',\n",
       " 'trigML',\n",
       " 'trigP',\n",
       " 'trigDT',\n",
       " 'trigT',\n",
       " 'trigE',\n",
       " 'trigDM',\n",
       " 'trigDE',\n",
       " 'trigM',\n",
       " 'trigMET',\n",
       " 'ScaleFactor_BTAG',\n",
       " 'ScaleFactor_JVT',\n",
       " 'jet_n',\n",
       " 'jet_pt',\n",
       " 'jet_eta',\n",
       " 'jet_phi',\n",
       " 'jet_e',\n",
       " 'jet_btag_quantile',\n",
       " 'jet_jvt',\n",
       " 'largeRJet_n',\n",
       " 'largeRJet_pt',\n",
       " 'largeRJet_eta',\n",
       " 'largeRJet_phi',\n",
       " 'largeRJet_e',\n",
       " 'largeRJet_m',\n",
       " 'largeRJet_D2',\n",
       " 'jet_pt_jer1',\n",
       " 'jet_pt_jer2',\n",
       " 'ScaleFactor_ELE',\n",
       " 'ScaleFactor_MUON',\n",
       " 'ScaleFactor_LepTRIGGER',\n",
       " 'ScaleFactor_MuTRIGGER',\n",
       " 'ScaleFactor_ElTRIGGER',\n",
       " 'lep_n',\n",
       " 'lep_type',\n",
       " 'lep_pt',\n",
       " 'lep_eta',\n",
       " 'lep_phi',\n",
       " 'lep_e',\n",
       " 'lep_charge',\n",
       " 'lep_ptvarcone30',\n",
       " 'lep_topoetcone20',\n",
       " 'lep_z0',\n",
       " 'lep_d0',\n",
       " 'lep_d0sig',\n",
       " 'lep_isTightID',\n",
       " 'lep_isMediumID',\n",
       " 'lep_isLooseID',\n",
       " 'lep_isTightIso',\n",
       " 'lep_isLooseIso',\n",
       " 'lep_isTrigMatched',\n",
       " 'ScaleFactor_PHOTON',\n",
       " 'photon_n',\n",
       " 'photon_pt',\n",
       " 'photon_eta',\n",
       " 'photon_phi',\n",
       " 'photon_e',\n",
       " 'photon_ptcone20',\n",
       " 'photon_topoetcone40',\n",
       " 'photon_isLooseID',\n",
       " 'photon_isTightID',\n",
       " 'photon_isLooseIso',\n",
       " 'photon_isTightIso',\n",
       " 'ScaleFactor_TAU',\n",
       " 'ScaleFactor_TauTRIGGER',\n",
       " 'ScaleFactor_DiTauTRIGGER',\n",
       " 'tau_n',\n",
       " 'tau_pt',\n",
       " 'tau_eta',\n",
       " 'tau_phi',\n",
       " 'tau_e',\n",
       " 'tau_charge',\n",
       " 'tau_nTracks',\n",
       " 'tau_isTight',\n",
       " 'tau_RNNJetScore',\n",
       " 'tau_RNNEleScore',\n",
       " 'truth_jet_n',\n",
       " 'truth_jet_pt',\n",
       " 'truth_jet_eta',\n",
       " 'truth_jet_phi',\n",
       " 'truth_jet_m',\n",
       " 'truth_elec_n',\n",
       " 'truth_elec_pt',\n",
       " 'truth_elec_eta',\n",
       " 'truth_elec_phi',\n",
       " 'truth_muon_n',\n",
       " 'truth_muon_pt',\n",
       " 'truth_muon_eta',\n",
       " 'truth_muon_phi',\n",
       " 'truth_tau_n',\n",
       " 'truth_tau_pt',\n",
       " 'truth_tau_eta',\n",
       " 'truth_tau_phi',\n",
       " 'truth_photon_n',\n",
       " 'truth_photon_pt',\n",
       " 'truth_photon_eta',\n",
       " 'truth_photon_phi',\n",
       " 'truth_met',\n",
       " 'truth_met_phi',\n",
       " 'met',\n",
       " 'met_phi',\n",
       " 'met_mpx',\n",
       " 'met_mpy']"
      ]
     },
     "execution_count": 8,
     "metadata": {},
     "output_type": "execute_result"
    }
   ],
   "source": [
    "# Accessing the file from the online directory (\":mini\" opens the tree in a desired manner)\n",
    "with uproot.open(data_15_path + \":analysis\") as t:\n",
    "    tree = t\n",
    "\n",
    "# There are 39 entries in the tree\n",
    "print(tree.num_entries)\n",
    "\n",
    "# We can view all the information stored in the tree using the .keys() method.\n",
    "tree.keys()"
   ]
  },
  {
   "cell_type": "markdown",
   "metadata": {},
   "source": [
    "Perhaps we'd like to see the jet energies. \n",
    "We can access this from our tree using the key `jet_e`. \n",
    "Also, \n",
    "    from this point on we shall be manipulating our tree arrays using the `awkward` library.\n",
    "We can use `library=\"ak\"` in the argument of the `.arrays()` method to use this library.\n",
    "If you ever see `library=\"ak\"` in the code,\n",
    "    it means that the array is output as an `awkward` array."
   ]
  },
  {
   "cell_type": "code",
   "execution_count": 9,
   "metadata": {},
   "outputs": [
    {
     "data": {
      "text/html": [
       "<pre>[{jet_e: [64.7, 68.1, 26.1, 27.3]},\n",
       " {jet_e: [231, 150]},\n",
       " {jet_e: [108, 157, 108]},\n",
       " {jet_e: [168, 65.9, 90.7]},\n",
       " {jet_e: [865, 114, 89.3, 136, 22.3, 24]},\n",
       " {jet_e: [143, 174, 60.2]},\n",
       " {jet_e: [149, 52]},\n",
       " {jet_e: [579, 82.3, 41.9, 25.2, 45.2, 84.1, 31.6]},\n",
       " {jet_e: [626, 137, 151, 139]},\n",
       " {jet_e: [232, 147, 38.2, 165]},\n",
       " ...,\n",
       " {jet_e: [348, 119, 459, 101, 63.8, 140]},\n",
       " {jet_e: [139, 177, 117]},\n",
       " {jet_e: [182, 112, 28.6, 27.8]},\n",
       " {jet_e: [352, 295, 84, 48, 39.5, 38.2, 95]},\n",
       " {jet_e: [90.2, 84]},\n",
       " {jet_e: [345, 86.6, 141, 50.4, 44.6]},\n",
       " {jet_e: [188, 53.4]},\n",
       " {jet_e: [100, 83.6]},\n",
       " {jet_e: [93, 33.2, 24.1]}]\n",
       "----------------------------------------------------\n",
       "type: 79113 * {\n",
       "    jet_e: var * float32\n",
       "}</pre>"
      ],
      "text/plain": [
       "<Array [{jet_e: [64.7, ..., 27.3]}, ..., {...}] type='79113 * {jet_e: var *...'>"
      ]
     },
     "execution_count": 9,
     "metadata": {},
     "output_type": "execute_result"
    }
   ],
   "source": [
    "tree[\"jet_e\"].arrays(library=\"ak\")"
   ]
  },
  {
   "cell_type": "markdown",
   "metadata": {},
   "source": [
    "In our analysis, \n",
    "    not all the information in the tree is important.\n",
    "We can store the important variables in a list and retrieve them from the tree later on.\n",
    "As it turns out, \n",
    "    we will need the following set of variables:"
   ]
  },
  {
   "cell_type": "code",
   "execution_count": 10,
   "metadata": {},
   "outputs": [],
   "source": [
    "# Define what variables are important to our analysis\n",
    "variables = ['jet_n', 'jet_pt', 'jet_eta', 'jet_phi', 'jet_e', 'met', 'met_phi', 'trigMET', 'jet_btag_quantile', 'lep_e', 'lep_isTightID']"
   ]
  },
  {
   "cell_type": "markdown",
   "metadata": {},
   "source": [
    "Now that we understand how to access the information in the `data_15` tree,\n",
    "    we can begin analysis.\n",
    "As mentioned in the introduction,\n",
    "    there are two steps to be completed for each event entry: **selections** and **mass calculation**."
   ]
  },
  {
   "cell_type": "markdown",
   "metadata": {},
   "source": [
    "### Selections \n",
    "Our goal is to isolate the signal from our background. \n",
    "To do this, \n",
    "    we must introduce various filters and selections on the data that preserve the signal while cutting away the background. \n",
    "In its current state, \n",
    "    the data contains many unwanted detections and false positives. \n",
    "There are many reasons for this. \n",
    "For one, \n",
    "    it is possible to misidentify leptons as jets.\n",
    "Some of our selections will aim to cut away such misidentifications based on the properties of the jets. \n",
    "\n",
    "These are the selections that we want to make on the data:\n",
    "\n",
    "**MET:** Passes the online missing transverse energy (MET) trigger. \n",
    "Also, offline we require  $E^\\text{miss}_T>150 \\,\\text{GeV}$ .\n",
    "\n",
    "- For more information on triggers, refer to [here](https://cds.cern.ch/record/2775198/files/Trigger%20and%20Data%20Acquisition.pdf)\n",
    "\n",
    "**Lepton cuts:** Events must not contain any loose leptons.\n",
    " - A set of cuts that determine the level of efficiency of a lepton identification algorithm\n",
    " - Looseness and tightness of lepton detections define a strictness criteria for whether a lepton was truly detected.\n",
    " - In the selection, \n",
    "    loose leptons are defined via the inverse of the tightness ID, \n",
    "    and also have $E_T > 25 \\, \\text{GeV}.$\n",
    "\n",
    "**Jet cuts:** Exactly two or three jets. All jets must have $p_T > 20 \\, \\text{GeV}$ and $|η| < 2.5$.\n",
    "\n",
    "- Since the Higgs decays to two $b$ quarks, \n",
    "    we expect at least two jets in the desired signal.\n",
    "We shall restrict our selection up to three jets, \n",
    "    rejecting events with four or more jets. \n",
    "This will reduce the large background arising from $t\\bar{t}$ production.\n",
    "- We restrict the value of $\\eta$ because this is the accessible range of the inner detector which we use for $b$-tagging.\n",
    "\n",
    "**$b$-tagging:** Exactly two $b$-tagged jets. For the $b$-tagged jet with highest $p_T$, we require $p_T > 45 \\, \\text{GeV}$.\n",
    "\n",
    "- A $b$-tagged jet is simply a jet that has been identified to be originating from a $b$ quark. \n",
    "Because there are two $b$ quarks in the Higgs decay, \n",
    "    we demand only events with two of such jets.\n",
    "In practice, \n",
    "    a jet will be $b$-tagged if its $b$-tag quantile is equal to $2$.\n",
    "- We also place a lower bound cut on the $p_T$ of the leading $b$ quark, \n",
    "    as this will significantly reduce the contribution of background processes,\n",
    "    increasing the significance of the Higgs signal.\n",
    "\n",
    "**Sum of jet $p_T$:** $H_T > 120 \\, \\text{GeV} $\n",
    "\n",
    " - This selection is used to remove a marginal region of phase space in which the trigger efficiency exhibits a small dependence on the jet multiplicity.\n",
    "\n",
    "**Angular selections:** Require $\\Delta\\phi$ between two $b$-tagged jets  $<140^\\circ$, \n",
    "    $\\Delta\\phi$ between $E_T^\\text{miss}$ and sum of $b$-tagged jets $>120^\\circ$, \n",
    "    and minimum $\\Delta\\phi$ between $E_T^\\text{miss}$ and various jets must be $>20^\\circ$ for two-jet events and $>30^\\circ$ for three-jet events.\n",
    "\n",
    " - These angular selection criteria are applied in order to suppress multi-jet background.\n",
    "These backgrounds mostly consist of jets mismeasured in the calorimeters."
   ]
  },
  {
   "cell_type": "markdown",
   "metadata": {},
   "source": [
    "Let's try to perform some of these calculations for a set of example events."
   ]
  },
  {
   "cell_type": "code",
   "execution_count": 11,
   "metadata": {},
   "outputs": [],
   "source": [
    "example_events = ak.Array({'jet_n':[2,2,3,0],\n",
    "                      'jet_pt':[[21,21],[30,15],[70,30,30],[]], \n",
    "                      'jet_phi':[[2, 3], [-2, -2], [-11, 222, 300], []],\n",
    "                      'jet_eta':[[-1,1],[-3,1],[-1,-1,0],[]], \n",
    "                      'jet_e':[[-1,1],[-3,1],[-1,-1,0],[]], \n",
    "                      'jet_btag_quantile':[[2,2], [2, 2], [2, 2, 2],[]],\n",
    "                      'met_phi': [40,20,20,40],\n",
    "                      'met': [40,20,20,160],\n",
    "                      'trigMET': [True, True, True, True]})"
   ]
  },
  {
   "cell_type": "code",
   "execution_count": 12,
   "metadata": {},
   "outputs": [],
   "source": [
    "# This block is currently unused, but would be useful if one would prefer to run the examples on\n",
    "# data_15 instead of an example array\n",
    "with uproot.open(data_15_path + \":analysis\") as t:\n",
    "    tree = t\n",
    "\n",
    "# Using tree.iterate, we can load the variables that we want and ignore the rest, saving resources\n",
    "for data in tree.iterate(variables,\n",
    "                            library=\"ak\",\n",
    "                            entry_stop=tree.num_entries): # process up to numevents*fraction\n",
    "    data_jet = data"
   ]
  },
  {
   "cell_type": "markdown",
   "metadata": {},
   "source": [
    "To perform $b$-tagging, \n",
    "    let us create a $b$-tag ID for each jet."
   ]
  },
  {
   "cell_type": "code",
   "execution_count": 13,
   "metadata": {},
   "outputs": [],
   "source": [
    "example_events['btag_ID'] = (example_events['jet_btag_quantile'] == 2)"
   ]
  },
  {
   "cell_type": "markdown",
   "metadata": {},
   "source": [
    "Now, \n",
    "    we check that there are only two $b$-tagged jets,\n",
    "    as mentioned in our selection rules. "
   ]
  },
  {
   "cell_type": "code",
   "execution_count": 14,
   "metadata": {},
   "outputs": [
    {
     "data": {
      "text/html": [
       "<pre>[True,\n",
       " True,\n",
       " False,\n",
       " False]\n",
       "--------------\n",
       "type: 4 * bool</pre>"
      ],
      "text/plain": [
       "<Array [True, True, False, False] type='4 * bool'>"
      ]
     },
     "execution_count": 14,
     "metadata": {},
     "output_type": "execute_result"
    }
   ],
   "source": [
    "btag_jets_n = ak.sum(example_events['btag_ID'], 1)\n",
    "select_exactly_2_b = btag_jets_n == 2\n",
    "select_exactly_2_b"
   ]
  },
  {
   "cell_type": "markdown",
   "metadata": {},
   "source": [
    "We see that the first two jets have exactly two $b$-tagged,\n",
    "    while the last two fail this requirement.\n",
    "We can also do other selections."
   ]
  },
  {
   "cell_type": "code",
   "execution_count": 15,
   "metadata": {},
   "outputs": [
    {
     "name": "stdout",
     "output_type": "stream",
     "text": [
      "Passes MET trigger? [True, True, True, True]\n",
      "Passes MET cut? [False, False, False, True]\n"
     ]
    }
   ],
   "source": [
    "# Apply MET trigger\n",
    "MET_trigger = example_events['trigMET'] \n",
    "print(f'Passes MET trigger? {MET_trigger}')\n",
    "\n",
    "# Apply MET > 150 GeV\n",
    "missing_ET = example_events['met'] \n",
    "missing_ET_bool = missing_ET > 150 * GeV\n",
    "print(f'Passes MET cut? {missing_ET_bool}')"
   ]
  },
  {
   "cell_type": "markdown",
   "metadata": {},
   "source": [
    "All our events pass the MET trigger, \n",
    "    but only the last event passes the MET cut.\n",
    "\n",
    "The other selections have been written below as functions. \n",
    "You may test these selection functions on the `example_events` from above,\n",
    "    or define your own examples to see how they work."
   ]
  },
  {
   "cell_type": "code",
   "execution_count": 16,
   "metadata": {},
   "outputs": [],
   "source": [
    "def select_2or3_jets(data):\n",
    "    # exactly two or three jets\n",
    "    select_2or3_jets = (data['jet_n']==2) | (data['jet_n']==3)\n",
    "    return select_2or3_jets\n",
    "\n",
    "def select_pt_eta(data):\n",
    "    # jets with pT > 20 GeV and |η| < 2.5\n",
    "    pT_selection = data['jet_pt'] > 20 * GeV\n",
    "    eta_selection = abs(data['jet_eta']) < 2.5\n",
    "    selected_jets = pT_selection & eta_selection\n",
    "    select_pt_eta = ak.all(selected_jets,1)\n",
    "    return select_pt_eta\n",
    "\n",
    "def select_exactly_2_b(data):\n",
    "    # exactly two jets should be b-tagged\n",
    "    # data['btag_ID'] = (data['jet_btag_quantile'] == 2)\n",
    "    btag_jets_n = ak.sum(data['btag_ID'], 1)\n",
    "    select_exactly_2_b = btag_jets_n == 2\n",
    "    return select_exactly_2_b"
   ]
  },
  {
   "cell_type": "code",
   "execution_count": 17,
   "metadata": {},
   "outputs": [],
   "source": [
    "def select_max_pt_jet(data):\n",
    "    # highest pT b-tagged jet require pT > 45 GeV\n",
    "    # data['btag_ID'] = (data['jet_btag_quantile'] == 2)\n",
    "    btag_jet_pt = data['btag_ID'] * data['jet_pt'] \n",
    "    select_max_pt_jet = ak.max(btag_jet_pt, 1) > 45 * GeV\n",
    "    # select_max_pt_jet = ak.fill_none(select_max_pt_jet, False) \n",
    "    return select_max_pt_jet\n",
    "\n",
    "def select_HT(data):\n",
    "    # HT (sum of jet pt) must be more than 120 GeV\n",
    "    HT = ak.sum(data['jet_pt'], 1)\n",
    "    select_HT = HT > 120 * GeV \n",
    "    return select_HT\n",
    "\n",
    "def select_2b_phi(data):\n",
    "    # azimuthal angle between two btagged jets less than 140 degrees\n",
    "    # data['btag_ID'] = (data['jet_btag_quantile'] == 2)\n",
    "    btag_jet_phi = data['jet_phi'][data['btag_ID']]\n",
    "    padded_array = ak.pad_none(btag_jet_phi, 2)\n",
    "    differences = abs(padded_array[:,0] - padded_array[:,1])\n",
    "    select_2b_phi = differences < (140 * np.pi/180)\n",
    "    # select_2b_phi = ak.fill_none(select_2b_phi, False) \n",
    "    return select_2b_phi\n",
    "\n",
    "def select_metbb_phi(data):\n",
    "    # azimuthal angle between met and sum of btagged jets more than 120 degrees\n",
    "    # data['btag_ID'] = (data['jet_btag_quantile'] == 2)\n",
    "    btag_jet_pt = data['jet_pt'][data['btag_ID']]\n",
    "    btag_jet_eta = data['jet_eta'][data['btag_ID']]\n",
    "    btag_jet_phi = data['jet_phi'][data['btag_ID']]\n",
    "    btag_jet_e = data['jet_e'][data['btag_ID']]\n",
    "\n",
    "    padded_pt = ak.pad_none(btag_jet_pt, 2)\n",
    "    padded_eta = ak.pad_none(btag_jet_eta, 2)\n",
    "    padded_phi = ak.pad_none(btag_jet_phi, 2)\n",
    "    padded_e = ak.pad_none(btag_jet_e, 2)\n",
    "\n",
    "    p = vector.zip({\"pt\": padded_pt, \"eta\": padded_eta, \"phi\": padded_phi, \"E\": padded_e})\n",
    "    bb_jet_phi = (p[:,0]+p[:,1]).phi\n",
    "\n",
    "    met_phi = data['met_phi']\n",
    "\n",
    "    difference = abs(met_phi-bb_jet_phi)\n",
    "    select_metbb_phi = difference > (120 * np.pi/180)\n",
    "\n",
    "    return select_metbb_phi\n",
    "\n",
    "def select_min_metjets_phi(data):\n",
    "    # Minimum of azimuthal angle between met and jets more than 20 degrees for 2 jets, \n",
    "                                                              # 30 degrees for 3 jets\n",
    "    met_phi = data['met_phi']\n",
    "    jet_phi = data['jet_phi']\n",
    "\n",
    "    differences = abs(jet_phi - met_phi)\n",
    "    minimum = ak.min(differences, 1)\n",
    "    select_min_metjets_phi = ((minimum > 20 *np.pi/180) * (data['jet_n'] ==2) \n",
    "                              |(minimum > 30 *np.pi/180) * (data['jet_n'] ==3))\n",
    "\n",
    "    return select_min_metjets_phi\n",
    "\n",
    "def lepton_loose(events): # Loose leptons are those that are not tight, and also have ET > 25 GeV\n",
    "    return (~events['lep_isTight']) & (events['lep_e'] > 25 * GeV)"
   ]
  },
  {
   "cell_type": "markdown",
   "metadata": {},
   "source": [
    "Next, we shall do the mass calculation. \n",
    "\n",
    "### Mass calculation\n",
    "The data to be plotted is the total invariant mass of the two bottom quarks ($b$-tagged jets), which can be found using the equation: $$m_\\text{bb} = \\sqrt{E^2_\\text{tot}-\\mathbf{p}_\\text{tot}\\cdot\\mathbf{p}_\\text{tot}}$$\n",
    "in units where $c=1$.\n",
    "$E_\\text{tot}$ is the total energy and $\\mathbf{p}_\\text{tot}$ is the total momentum.\n",
    "This calculation is performed using the vector array method `.M` on the sum of jet 4-momenta (`jet_pt`,`jet_eta`,`jet_phi`,`jet_e`).\n",
    "We can see this in the following function."
   ]
  },
  {
   "cell_type": "code",
   "execution_count": 18,
   "metadata": {},
   "outputs": [],
   "source": [
    "# Calculate invariant mass of the two b-tagged jets\n",
    "# [:, i] selects the i-th  in each event\n",
    "def calc_mass(data):\n",
    "    btag_jet_pt = data['jet_pt'][data['btag_ID']]\n",
    "    btag_jet_eta = data['jet_eta'][data['btag_ID']]\n",
    "    btag_jet_phi = data['jet_phi'][data['btag_ID']]\n",
    "    btag_jet_e = data['jet_e'][data['btag_ID']]\n",
    "\n",
    "    p = vector.zip({\"pt\": btag_jet_pt, \"eta\": btag_jet_eta, \"phi\": btag_jet_phi, \"E\": btag_jet_e})\n",
    "    invariant_mass = (p[:, 0] + p[:, 1]).M # .M calculates the invariant mass\n",
    "    return invariant_mass"
   ]
  },
  {
   "cell_type": "code",
   "execution_count": 19,
   "metadata": {},
   "outputs": [
    {
     "data": {
      "text/html": [
       "<pre>[-36.9,\n",
       " -286]\n",
       "-----------------\n",
       "type: 2 * float64</pre>"
      ],
      "text/plain": [
       "<Array [-36.9, -286] type='2 * float64'>"
      ]
     },
     "execution_count": 19,
     "metadata": {},
     "output_type": "execute_result"
    }
   ],
   "source": [
    "# Performing the calculation for the first two events (with 2 b-tagged jets)\n",
    "calc_mass(example_events[0:2])"
   ]
  },
  {
   "cell_type": "markdown",
   "metadata": {},
   "source": [
    "You may verify on your own that these functions give the same outputs as the previous code block.\n",
    "Now, \n",
    "    we shall apply these functions over the entire `data_15` tree using a `for` loop."
   ]
  },
  {
   "cell_type": "code",
   "execution_count": 20,
   "metadata": {},
   "outputs": [],
   "source": [
    "# Define empty list to hold all data for this sample\n",
    "sample_data = []\n",
    "\n",
    "# Perform the cuts for each data entry in the tree\n",
    "for data in tree.iterate(variables, library=\"ak\"): # the data will be in the form of an awkward array\n",
    "\n",
    "    # Event Selection (reference: https://arxiv.org/pdf/1409.6212)\n",
    "\n",
    "    # Generate btag identifier\n",
    "    data['btag_ID'] = (data['jet_btag_quantile'] == 2)\n",
    "\n",
    "    # data = data[lepton_loose(data)] # Select Events containing no loose leptons\n",
    "    data = data[data['trigMET']] # Apply MET trigger \n",
    "    data = data[data['met'] > 30 * GeV] # MET>30 GeV \n",
    "    data = data[(data['jet_n']==2) | (data['jet_n']==3)] # 2 or 3 jets\n",
    "    data = data[select_pt_eta(data)]\n",
    "    data = data[select_exactly_2_b(data)]\n",
    "\n",
    "    data = data[select_max_pt_jet(data)]\n",
    "    data = data[select_HT(data)]\n",
    "    data = data[select_2b_phi(data)]\n",
    "    data = data[select_metbb_phi(data)]\n",
    "    data = data[select_min_metjets_phi(data)]\n",
    "\n",
    "    # Invariant Mass\n",
    "    data['mass'] = calc_mass(data)\n",
    "\n",
    "    # Append data to the whole sample data list\n",
    "    sample_data.append(data)\n",
    "\n",
    "# turns sample_data back into an awkward array\n",
    "data_15 = ak.concatenate(sample_data)"
   ]
  },
  {
   "cell_type": "markdown",
   "metadata": {},
   "source": [
    "We can now plot the data using Matplotlib. \n",
    "The data will be turned into a histogram,\n",
    "    with bins of width $5 \\,\\text{GeV}$.\n",
    "Note that much of the code written here is meant for the aesthetics of the plot."
   ]
  },
  {
   "cell_type": "code",
   "execution_count": 21,
   "metadata": {},
   "outputs": [
    {
     "data": {
      "image/png": "[encoded data removed]",
      "text/plain": [
       "<Figure size 432x288 with 1 Axes>"
      ]
     },
     "metadata": {
      "needs_background": "light"
     },
     "output_type": "display_data"
    }
   ],
   "source": [
    "# x-axis range of the plot\n",
    "xmin = 0 * GeV\n",
    "xmax = 300 * GeV\n",
    "\n",
    "# Histogram bin setup\n",
    "step_size = 5 * GeV\n",
    "bin_edges = np.arange(start=xmin, # The interval includes this value\n",
    "                    stop=xmax+step_size, # The interval doesn't include this value\n",
    "                    step=step_size ) # Spacing between values\n",
    "bin_centres = np.arange(start=xmin+step_size/2, # The interval includes this value\n",
    "                        stop=xmax+step_size/2, # The interval doesn't include this value\n",
    "                        step=step_size ) # Spacing between values\n",
    "\n",
    "# Creating histogram from data\n",
    "data_x,_ = np.histogram(ak.to_numpy(data_15['mass']), \n",
    "                        bins=bin_edges ) # histogram the data\n",
    "data_x_errors = np.sqrt( data_x ) # statistical error on the data\n",
    "\n",
    "# *************\n",
    "# Main plot \n",
    "# *************\n",
    "main_axes = plt.gca() # get current axes\n",
    "\n",
    "# plot the data points\n",
    "main_axes.errorbar(x=bin_centres, y=data_x, yerr=data_x_errors,\n",
    "                    fmt='ko', # 'k' means black and 'o' is for circles \n",
    "                    label='Data') \n",
    "\n",
    "# set the x-limit of the main axes\n",
    "main_axes.set_xlim( left=xmin, right=xmax ) \n",
    "\n",
    "# separation of x axis minor ticks\n",
    "main_axes.xaxis.set_minor_locator( AutoMinorLocator() ) \n",
    "\n",
    "# set the axis tick parameters for the main axes\n",
    "main_axes.tick_params(which='both', # ticks on both x and y axes\n",
    "                        direction='in', # Put ticks inside and outside the axes\n",
    "                        top=True, # draw ticks on the top axis\n",
    "                        right=True ) # draw ticks on right axis\n",
    "\n",
    "# x-axis label\n",
    "main_axes.set_xlabel(r'$2$-bottom invariant mass $\\mathrm{m_{2b}}$ [GeV]',\n",
    "                    fontsize=13, x=1, horizontalalignment='right' )\n",
    "\n",
    "# write y-axis label for main axes\n",
    "main_axes.set_ylabel('Events / '+str(step_size)+' GeV',\n",
    "                        y=1, horizontalalignment='right') \n",
    "\n",
    "# set y-axis limits for main axes\n",
    "main_axes.set_ylim( bottom=0, top=np.amax(data_x)*1.6 )\n",
    "\n",
    "# add minor ticks on y-axis for main axes\n",
    "main_axes.yaxis.set_minor_locator( AutoMinorLocator() ) \n",
    "\n",
    "# draw the legend\n",
    "main_axes.legend( frameon=False ); # no box around the legend"
   ]
  },
  {
   "cell_type": "markdown",
   "metadata": {},
   "source": [
    "Great,\n",
    "    we managed to plot `data_15`! \n",
    "Now, \n",
    "    we have not discussed how to deal with the Monte-Carlo simulation data,\n",
    "    or even what they are for. \n",
    "Let us explain."
   ]
  },
  {
   "cell_type": "markdown",
   "metadata": {},
   "source": [
    "## Example 2: Reading Monte-Carlo data"
   ]
  },
  {
   "cell_type": "markdown",
   "metadata": {},
   "source": [
    "\n",
    "Using the Standard Model, \n",
    "    we can do a set of randomised simulations to produce a set of theoretical data points to compare to our ATLAS data.\n",
    "These are known as Monte-Carlo(MC) simulations.\n",
    "There is one important change to be made to the MC data before we can compare them with our ATLAS data:\n",
    " - **Weights** - The MC data was computed in ideal circumstances. \n",
    "    The real ATLAS detector has some inefficiencies,\n",
    "        which we can account for by attributing the appropriate weight to each data point.\n",
    "    The weight of a data point affects how it contributes to the histogram count for its bin.\n",
    "\n",
    "Let's open an MC file."
   ]
  },
  {
   "cell_type": "code",
   "execution_count": 22,
   "metadata": {},
   "outputs": [
    {
     "name": "stdout",
     "output_type": "stream",
     "text": [
      "{'list': ['700488.Sh_2211_WlvWqq.2bjets.root', '700489.Sh_2211_WlvZqq.2bjets.root', '700490.Sh_2211_WlvZbb.2bjets.root', '700491.Sh_2211_WqqZvv.2bjets.root', '700492.Sh_2211_WqqZll.2bjets.root', '700493.Sh_2211_ZqqZll.2bjets.root', '700494.Sh_2211_ZbbZll.2bjets.root', '700495.Sh_2211_ZqqZvv.2bjets.root', '700496.Sh_2211_ZbbZvv.2bjets.root', '700195.Sh_2210_eegammagamma.2bjets.root', '700196.Sh_2210_mumugammagamma.2bjets.root', '700199.Sh_2210_enugammagamma.2bjets.root', '700200.Sh_2210_munugammagamma.2bjets.root', '700201.Sh_2210_taunugammagamma.2bjets.root'], 'color': 'green'}\n"
     ]
    }
   ],
   "source": [
    "# We open an MC data file with sample value \"Zee\" using samples and infofile for reference of filenames\n",
    "print(samples['Background Diboson'])\n",
    "value = samples['Background Diboson'][\"list\"][0]\n",
    "\n",
    "# This is now appended to our file path to retrieve the root file\n",
    "background_diboson = path + \"MC/\" + 'mc_'+value\n",
    "\n",
    "# Accessing the file from the online directory\n",
    "with uproot.open(background_diboson + \":analysis\") as t:\n",
    "    tree = t"
   ]
  },
  {
   "cell_type": "code",
   "execution_count": 23,
   "metadata": {},
   "outputs": [
    {
     "data": {
      "text/plain": [
       "7103"
      ]
     },
     "execution_count": 23,
     "metadata": {},
     "output_type": "execute_result"
    }
   ],
   "source": [
    "tree.num_entries"
   ]
  },
  {
   "cell_type": "markdown",
   "metadata": {},
   "source": [
    "Again, \n",
    "    not all weights are important to our analysis. \n",
    "In our case, \n",
    "    these are:\n",
    "- `xsec` - cross section \n",
    "- `mcWeight` - specific Monte-Carlo weight associated with each event\n",
    "- `scaleFactor_PILEUP` - scale factor for pileup reweighting\n",
    "- `scaleFactor_BTAG` - scale factor for b-tagging\n",
    "- `filteff`- filter efficiency of MC generator\n",
    "- `kfac` - multiplicative correction factor used to account for higher-order effects in theoretical calculations\n",
    "\n",
    "Scale factors are generally related to estimates of the efficiencies and resolutions of detectors."
   ]
  },
  {
   "cell_type": "code",
   "execution_count": 24,
   "metadata": {},
   "outputs": [
    {
     "data": {
      "text/html": [
       "<pre>[{ScaleFactor_BTAG: 0.986},\n",
       " {ScaleFactor_BTAG: 0.916},\n",
       " {ScaleFactor_BTAG: 1.59},\n",
       " {ScaleFactor_BTAG: 1.19},\n",
       " {ScaleFactor_BTAG: 0.899},\n",
       " {ScaleFactor_BTAG: 1.21},\n",
       " {ScaleFactor_BTAG: 1.58},\n",
       " {ScaleFactor_BTAG: 1.13},\n",
       " {ScaleFactor_BTAG: 0.853},\n",
       " {ScaleFactor_BTAG: 1.55},\n",
       " ...,\n",
       " {ScaleFactor_BTAG: 1.2},\n",
       " {ScaleFactor_BTAG: 1.21},\n",
       " {ScaleFactor_BTAG: 1.14},\n",
       " {ScaleFactor_BTAG: 0.839},\n",
       " {ScaleFactor_BTAG: 0.856},\n",
       " {ScaleFactor_BTAG: 0.836},\n",
       " {ScaleFactor_BTAG: 0.843},\n",
       " {ScaleFactor_BTAG: 1.22},\n",
       " {ScaleFactor_BTAG: 0.791}]\n",
       "-----------------------------\n",
       "type: 7103 * {\n",
       "    ScaleFactor_BTAG: float32\n",
       "}</pre>"
      ],
      "text/plain": [
       "<Array [{ScaleFactor_BTAG: 0.986}, ..., {...}] type='7103 * {ScaleFactor_BT...'>"
      ]
     },
     "execution_count": 24,
     "metadata": {},
     "output_type": "execute_result"
    }
   ],
   "source": [
    "weight_variables = ['xsec', 'mcWeight', 'ScaleFactor_PILEUP', 'ScaleFactor_BTAG', 'filteff', 'kfac', 'sum_of_weights']\n",
    "\n",
    "# For example, see below for the weights corresponding to muon rejection\n",
    "tree[\"ScaleFactor_BTAG\"].arrays(library = \"ak\")"
   ]
  },
  {
   "cell_type": "markdown",
   "metadata": {},
   "source": [
    "There is one more important variable,\n",
    "    which is the integrated luminosity `lumi`,\n",
    "    also written as $\\int L \\text{d}t$.\n",
    "When `lumi` is multiplied by the cross section `xsec`,\n",
    "    it gives a measure of the total number of events during a period of data taking.\n",
    "For `data_15`,\n",
    "    `lumi` has a value of $3.2 \\,\\text{fb}^{-1}$.\n",
    "For more on cross sections and luminosities, \n",
    "    [see this cheatsheet](https://cds.cern.ch/record/2800578/files/Cross%20Section%20and%20Luminosity%20Physics%20Cheat%20Sheet.pdf).\n",
    "\n",
    "To calculate the total weight of a Monte-Carlo event, \n",
    "    we use the following definition:\n",
    "$$ w_\\text{total} = \\frac{\\int L \\text{d}t ~ \\times \\sigma \\times w_\\text{event} \\times \\text{scale-factors} \\times \\text{filter-efficiency} \\times \\text{k-factor}  }{ \\sum_i w_i } $$\n",
    "We can see that the weights are normalised by dividing through by $\\sum_i w_i$, \n",
    "    the sum of weights `sumw`."
   ]
  },
  {
   "cell_type": "markdown",
   "metadata": {},
   "source": [
    "Now,\n",
    "    with all the weights we've defined, \n",
    "    we will define a function that calculates a total weight for an event,\n",
    "    which is the collective product of all the weights."
   ]
  },
  {
   "cell_type": "code",
   "execution_count": 25,
   "metadata": {},
   "outputs": [
    {
     "data": {
      "text/plain": [
       "983201922502.4636"
      ]
     },
     "execution_count": 25,
     "metadata": {},
     "output_type": "execute_result"
    }
   ],
   "source": [
    "metadata.loc[metadata.dataset_number == int(value.split('.')[0]), 'sumOfWeights'].values[0]"
   ]
  },
  {
   "cell_type": "code",
   "execution_count": 26,
   "metadata": {},
   "outputs": [
    {
     "name": "stdout",
     "output_type": "stream",
     "text": [
      "calc_weight(event) = 0.2130\n"
     ]
    }
   ],
   "source": [
    "lumi = 36 # fb-1 for data_15 only\n",
    "\n",
    "# def calc_weight(events, sumw):\n",
    "#     return (\n",
    "#         (lumi*1000 #*1000 to go from fb-1 to pb-1\n",
    "#         * events['xsec'] \n",
    "#         * events['mcWeight']\n",
    "#         * events['ScaleFactor_PILEUP']\n",
    "#         * events['ScaleFactor_BTAG']\n",
    "#         * events['filteff']\n",
    "#         * events['kfac']\n",
    "#         / sumw)\n",
    "#         #* events.scaleFactor_LepTRIGGER\n",
    "#     )\n",
    "\n",
    "def calc_weight(events):\n",
    "    return (\n",
    "        (lumi*1000 #*1000 to go from fb-1 to pb-1\n",
    "        * events['xsec'] \n",
    "        * events['mcWeight']\n",
    "        * events['ScaleFactor_PILEUP']\n",
    "        * events['ScaleFactor_BTAG']\n",
    "        * events['filteff']\n",
    "        * events['kfac']\n",
    "        / events['sum_of_weights'])\n",
    "        #* events.scaleFactor_LepTRIGGER\n",
    "    )\n",
    "\n",
    "#sumweights = metadata.loc[metadata.dataset_number == int(value.split('.')[0]), 'sumOfWeights'].values[0]\n",
    "\n",
    "# Let's use the first event of our tree\n",
    "# event = tree.arrays()[0] # This line takes very long, iterate is much faster\n",
    "for data in tree.iterate(weight_variables, library = 'ak'):\n",
    "    event = data[0]\n",
    "    break\n",
    "print(f\"{calc_weight(event) = :.4f}\")"
   ]
  },
  {
   "cell_type": "markdown",
   "metadata": {},
   "source": [
    "This calculation means that in our final histogram, \n",
    "    this event will be represented with ~$0.0092$ of a single count in the bin.\n",
    "Now, we can apply the cuts as before to plot the MC data.\n",
    "The code is the same as before,\n",
    "    but we make sure to add in `weight_variables` to our `tree.iterate()`,\n",
    "    and we store the weights in each event using a new dictionary key."
   ]
  },
  {
   "cell_type": "code",
   "execution_count": 27,
   "metadata": {},
   "outputs": [],
   "source": [
    "# Define empty list to hold all data for this sample\n",
    "sample_data = []\n",
    "\n",
    "# Perform the cuts for each data entry in the tree\n",
    "for data in tree.iterate(variables + weight_variables, library=\"ak\"): # the data will be in the form of an awkward array\n",
    "    # Event Selection (reference: https://arxiv.org/pdf/1409.6212)\n",
    "\n",
    "    # Generate btag identifier\n",
    "    data['btag_ID'] = (data['jet_btag_quantile'] == 2)\n",
    "\n",
    "    # data = data[lepton_loose(data)] # Select Events containing no loose leptons\n",
    "    data = data[data['trigMET']] # Apply MET trigger \n",
    "    data = data[data['met'] > 30 * GeV] # MET>30 GeV \n",
    "    data = data[(data['jet_n']==2) | (data['jet_n']==3)] # 2 or 3 jets\n",
    "    data = data[select_pt_eta(data)]\n",
    "    data = data[select_exactly_2_b(data)]\n",
    "\n",
    "    data = data[select_max_pt_jet(data)]\n",
    "    data = data[select_HT(data)]\n",
    "    data = data[select_2b_phi(data)]\n",
    "    data = data[select_metbb_phi(data)]\n",
    "    data = data[select_min_metjets_phi(data)]\n",
    "\n",
    "    # Invariant Mass\n",
    "    data['mass'] = calc_mass(data)\n",
    "\n",
    "    # Total Weights\n",
    "    data['totalWeight'] = calc_weight(data)\n",
    "\n",
    "    # Append data to the whole sample data list\n",
    "    sample_data.append(data)\n",
    "\n",
    "# turns sample_data back into an awkward array\n",
    "background_diboson = ak.concatenate(sample_data)"
   ]
  },
  {
   "cell_type": "code",
   "execution_count": 28,
   "metadata": {},
   "outputs": [
    {
     "data": {
      "image/png": "[encoded data removed]",
      "text/plain": [
       "<Figure size 432x288 with 1 Axes>"
      ]
     },
     "metadata": {
      "needs_background": "light"
     },
     "output_type": "display_data"
    }
   ],
   "source": [
    "mc_x = ak.to_numpy(background_diboson[\"mass\"]) # define list to hold the Monte Carlo histogram entries\n",
    "mc_weights = ak.to_numpy(background_diboson[\"totalWeight\"]) # define list to hold the Monte Carlo weights\n",
    "mc_colors = samples['Background Diboson']['color'] # define list to hold the colors of the Monte Carlo bars\n",
    "mc_labels = \"Background Diboson taunugammagamma\" # define list to hold the legend labels of the Monte Carlo bars\n",
    "\n",
    "# *************\n",
    "# Main plot \n",
    "# *************\n",
    "main_axes = plt.gca() # get current axes\n",
    "\n",
    "# plot the data points\n",
    "# main_axes.errorbar(x=bin_centres, y=data_x, yerr=data_x_errors,\n",
    "#                     fmt='ko', # 'k' means black and 'o' is for circles \n",
    "#                     label='Data') \n",
    "\n",
    "# plot the Monte Carlo bars\n",
    "mc_heights = main_axes.hist(mc_x, bins=bin_edges, \n",
    "                            weights=mc_weights, stacked=True, \n",
    "                            color=mc_colors, label=mc_labels )\n",
    "\n",
    "mc_x_tot = mc_heights[0] # stacked background MC y-axis value\n",
    "\n",
    "# calculate MC statistical uncertainty: sqrt(sum w^2)\n",
    "mc_x_err = np.sqrt(np.histogram(np.hstack(mc_x), bins=bin_edges, weights=np.hstack(mc_weights)**2)[0])\n",
    "\n",
    "# plot the statistical uncertainty\n",
    "main_axes.bar(bin_centres, # x\n",
    "                2*mc_x_err, # heights\n",
    "                alpha=0.5, # half transparency\n",
    "                bottom=mc_x_tot-mc_x_err, color='none', \n",
    "                hatch=\"////\", width=step_size, label='Stat. Unc.' )\n",
    "\n",
    "# set the x-limit of the main axes\n",
    "main_axes.set_xlim( left=xmin, right=xmax ) \n",
    "\n",
    "# separation of x axis minor ticks\n",
    "main_axes.xaxis.set_minor_locator( AutoMinorLocator() ) \n",
    "\n",
    "# set the axis tick parameters for the main axes\n",
    "main_axes.tick_params(which='both', # ticks on both x and y axes\n",
    "                        direction='in', # Put ticks inside and outside the axes\n",
    "                        top=True, # draw ticks on the top axis\n",
    "                        right=True ) # draw ticks on right axis\n",
    "\n",
    "# x-axis label\n",
    "main_axes.set_xlabel(r'4-lepton invariant mass $\\mathrm{m_{4l}}$ [GeV]',\n",
    "                    fontsize=13, x=1, horizontalalignment='right' )\n",
    "\n",
    "# write y-axis label for main axes\n",
    "main_axes.set_ylabel('Events / '+str(step_size)+' GeV',\n",
    "                        y=1, horizontalalignment='right') \n",
    "\n",
    "# set y-axis limits for main axes\n",
    "# main_axes.set_ylim( bottom=0, top=np.amax(data_x)*1.6 )\n",
    "\n",
    "# add minor ticks on y-axis for main axes\n",
    "main_axes.yaxis.set_minor_locator( AutoMinorLocator() ) \n",
    "\n",
    "# draw the legend\n",
    "main_axes.legend( frameon=False ); # no box around the legend"
   ]
  },
  {
   "cell_type": "markdown",
   "metadata": {},
   "source": [
    "## Final Analysis"
   ]
  },
  {
   "cell_type": "markdown",
   "metadata": {},
   "source": [
    "Now that we understand all the steps of our analysis,\n",
    "    all that's left is to import the entire ATLAS data and implement it.\n",
    "The `samples` dictionary will be useful for this.\n",
    "\n",
    "We will loop over all values in the `samples` dictionary.\n",
    "Depending on whether it is a data sample or MC sample, \n",
    "    `fileString` will change,\n",
    "    which opens the correct file on the open data folder.\n",
    "As before, \n",
    "    the selections, \n",
    "    mass calculations and MC weight calculations will be performed for each sample value,\n",
    "    and then stored in the array.\n",
    "The data will all be concatenated into `all_data` for plotting."
   ]
  },
  {
   "cell_type": "code",
   "execution_count": 29,
   "metadata": {
    "colab": {
     "base_uri": "https://localhost:8080/"
    },
    "id": "FQZBBK-6Mex_",
    "outputId": "a2495b3d-3ad2-4d3a-9cd1-4ed1cb60a673",
    "scrolled": true
   },
   "outputs": [
    {
     "name": "stdout",
     "output_type": "stream",
     "text": [
      "Processing Data samples\n",
      "\tdata15_periodD.2bjets.root:\n",
      "\t88 events in 0.7s\n",
      "\tdata15_periodE.2bjets.root:\n",
      "\t573 events in 2.5s\n",
      "\tdata15_periodF.2bjets.root:\n",
      "\t377 events in 1.5s\n",
      "\tdata15_periodG.2bjets.root:\n",
      "\t875 events in 3.3s\n",
      "\tdata15_periodH.2bjets.root:\n",
      "\t314 events in 1.0s\n",
      "\tdata15_periodJ.2bjets.root:\n",
      "\t1509 events in 4.8s\n",
      "\t295 events in 5.9s\n",
      "\tdata16_periodA.2bjets.root:\n",
      "\t7589 events in 2.6s\n",
      "\tdata16_periodB.2bjets.root:\n",
      "\t15251 events in 4.7s\n",
      "\t163 events in 4.9s\n",
      "\tdata16_periodC.2bjets.root:\n",
      "\t15469 events in 4.6s\n",
      "\t5550 events in 6.3s\n",
      "\tdata16_periodD.2bjets.root:\n",
      "\t14852 events in 4.6s\n",
      "\t14739 events in 9.1s\n",
      "\t7208 events in 11.3s\n",
      "\tdata16_periodE.2bjets.root:\n",
      "\t10646 events in 3.1s\n",
      "\tdata16_periodF.2bjets.root:\n",
      "\t13918 events in 4.6s\n",
      "\t4774 events in 6.3s\n",
      "\tdata16_periodG.2bjets.root:\n",
      "\t14150 events in 4.6s\n",
      "\t7439 events in 6.9s\n",
      "\tdata16_periodI.2bjets.root:\n",
      "\t13915 events in 4.8s\n",
      "\t13718 events in 9.4s\n",
      "\t4508 events in 10.9s\n",
      "\tdata16_periodK.2bjets.root:\n",
      "\t12393 events in 4.0s\n",
      "\tdata16_periodL.2bjets.root:\n",
      "\t13725 events in 4.8s\n",
      "\t14003 events in 9.3s\n",
      "\t7701 events in 11.9s\n",
      "Processing Signal samples\n",
      "\t345056.PowhegPythia8EvtGen_NNPDF3_AZNLO_ZH125J_MINLO_vvbb_VpT.2bjets.root:\n",
      "val: ['345056', 'PowhegPythia8EvtGen_NNPDF3_AZNLO_ZH125J_MINLO_vvbb_VpT', '2bjets', 'root'], val_n = 345056\n",
      "weight: 18045.21627756953\n",
      "\t91 events in 0.2s\n",
      "\t345058.PowhegPythia8EvtGen_NNPDF3_AZNLO_ggZH125_vvbb.2bjets.root:\n",
      "val: ['345058', 'PowhegPythia8EvtGen_NNPDF3_AZNLO_ggZH125_vvbb', '2bjets', 'root'], val_n = 345058\n",
      "weight: 1200.2067230641842\n",
      "\t84 events in 0.2s\n",
      "Processing Background $t\\bar{t}$ samples\n",
      "\t410470.PhPy8EG_A14_ttbar_hdamp258p75_nonallhad.2bjets.root:\n",
      "val: ['410470', 'PhPy8EG_A14_ttbar_hdamp258p75_nonallhad', '2bjets', 'root'], val_n = 410470\n",
      "weight: 24014984445.81677\n",
      "\t5612 events in 2.7s\n",
      "Processing Background Single top samples\n",
      "\t410644.PowhegPythia8EvtGen_A14_singletop_schan_lept_top.2bjets.root:\n",
      "val: ['410644', 'PowhegPythia8EvtGen_A14_singletop_schan_lept_top', '2bjets', 'root'], val_n = 410644\n",
      "weight: 365019.0806794167\n",
      "\t18 events in 0.2s\n",
      "\t410645.PowhegPythia8EvtGen_A14_singletop_schan_lept_antitop.2bjets.root:\n",
      "val: ['410645', 'PowhegPythia8EvtGen_A14_singletop_schan_lept_antitop', '2bjets', 'root'], val_n = 410645\n",
      "weight: 152312.88860154152\n",
      "\t12 events in 0.2s\n",
      "\t410658.PhPy8EG_A14_tchan_BW50_lept_top.2bjets.root:\n",
      "val: ['410658', 'PhPy8EG_A14_tchan_BW50_lept_top', '2bjets', 'root'], val_n = 410658\n",
      "weight: 124412662.10998064\n",
      "\t158 events in 0.3s\n",
      "\t410659.PhPy8EG_A14_tchan_BW50_lept_antitop.2bjets.root:\n",
      "val: ['410659', 'PhPy8EG_A14_tchan_BW50_lept_antitop', '2bjets', 'root'], val_n = 410659\n",
      "weight: 44399910.88976225\n",
      "\t119 events in 0.4s\n",
      "Processing Background $V+$jets samples\n",
      "\t700335.Sh_2211_Znunu_pTV2_BFilter.2bjets.root:\n",
      "val: ['700335', 'Sh_2211_Znunu_pTV2_BFilter', '2bjets', 'root'], val_n = 700335\n",
      "weight: 16473609662908.06\n",
      "\t894 events in 0.3s\n",
      "\t700336.Sh_2211_Znunu_pTV2_CFilterBVeto.2bjets.root:\n",
      "val: ['700336', 'Sh_2211_Znunu_pTV2_CFilterBVeto', '2bjets', 'root'], val_n = 700336\n",
      "weight: 40184592610478.56\n",
      "\t2700 events in 0.4s\n",
      "\t700337.Sh_2211_Znunu_pTV2_CVetoBVeto.2bjets.root:\n",
      "val: ['700337', 'Sh_2211_Znunu_pTV2_CVetoBVeto', '2bjets', 'root'], val_n = 700337\n",
      "weight: 141602625733007.44\n",
      "\t651 events in 1.2s\n",
      "\t700467.Sh_2211_Zee_maxHTpTV2_m10_40_pT5_BFilter.2bjets.root:\n",
      "val: ['700467', 'Sh_2211_Zee_maxHTpTV2_m10_40_pT5_BFilter', '2bjets', 'root'], val_n = 700467\n",
      "weight: 1461860384753.6355\n",
      "\t0 events in 0.2s\n",
      "\t700468.Sh_2211_Zee_maxHTpTV2_m10_40_pT5_CFilterBVeto.2bjets.root:\n",
      "val: ['700468', 'Sh_2211_Zee_maxHTpTV2_m10_40_pT5_CFilterBVeto', '2bjets', 'root'], val_n = 700468\n",
      "weight: 35742916847093.03\n",
      "\t4 events in 0.3s\n",
      "\t700469.Sh_2211_Zee_maxHTpTV2_m10_40_pT5_CVetoBVeto.2bjets.root:\n",
      "val: ['700469', 'Sh_2211_Zee_maxHTpTV2_m10_40_pT5_CVetoBVeto', '2bjets', 'root'], val_n = 700469\n",
      "weight: 905946785318945.2\n",
      "\t4 events in 2.4s\n",
      "\t700470.Sh_2211_Zmumu_maxHTpTV2_m10_40_pT5_BFilter.2bjets.root:\n",
      "val: ['700470', 'Sh_2211_Zmumu_maxHTpTV2_m10_40_pT5_BFilter', '2bjets', 'root'], val_n = 700470\n",
      "weight: 1441748608838.625\n",
      "\t6 events in 1.1s\n",
      "\t700471.Sh_2211_Zmumu_maxHTpTV2_m10_40_pT5_CFilterBVeto.2bjets.root:\n",
      "val: ['700471', 'Sh_2211_Zmumu_maxHTpTV2_m10_40_pT5_CFilterBVeto', '2bjets', 'root'], val_n = 700471\n",
      "weight: 34292460959926.73\n",
      "\t54 events in 0.3s\n",
      "\t700472.Sh_2211_Zmumu_maxHTpTV2_m10_40_pT5_CVetoBVeto.2bjets.root:\n",
      "val: ['700472', 'Sh_2211_Zmumu_maxHTpTV2_m10_40_pT5_CVetoBVeto', '2bjets', 'root'], val_n = 700472\n",
      "weight: 866334893817096.0\n",
      "\t33 events in 2.7s\n",
      "\t700792.Sh_2214_Ztautau_maxHTpTV2_BFilter.2bjets.root:\n",
      "val: ['700792', 'Sh_2214_Ztautau_maxHTpTV2_BFilter', '2bjets', 'root'], val_n = 700792\n",
      "weight: 13862307341623.393\n",
      "\t226 events in 0.6s\n",
      "\t700793.Sh_2214_Ztautau_maxHTpTV2_CFilterBVeto.2bjets.root:\n",
      "val: ['700793', 'Sh_2214_Ztautau_maxHTpTV2_CFilterBVeto', '2bjets', 'root'], val_n = 700793\n",
      "weight: 150854288562168.22\n",
      "\t1394 events in 1.5s\n",
      "\t700794.Sh_2214_Ztautau_maxHTpTV2_CVetoBVeto.2bjets.root:\n",
      "val: ['700794', 'Sh_2214_Ztautau_maxHTpTV2_CVetoBVeto', '2bjets', 'root'], val_n = 700794\n",
      "weight: 721456451073821.5\n",
      "\t385 events in 1.6s\n",
      "Processing Background Diboson samples\n",
      "\t700488.Sh_2211_WlvWqq.2bjets.root:\n",
      "val: ['700488', 'Sh_2211_WlvWqq', '2bjets', 'root'], val_n = 700488\n",
      "weight: 983201922502.4636\n",
      "\t264 events in 0.5s\n",
      "\t700489.Sh_2211_WlvZqq.2bjets.root:\n",
      "val: ['700489', 'Sh_2211_WlvZqq', '2bjets', 'root'], val_n = 700489\n",
      "weight: 18287424810.758293\n",
      "\t112 events in 0.2s\n",
      "\t700490.Sh_2211_WlvZbb.2bjets.root:\n",
      "val: ['700490', 'Sh_2211_WlvZbb', '2bjets', 'root'], val_n = 700490\n",
      "weight: 1549026449.1832595\n",
      "\t28 events in 0.2s\n",
      "\t700491.Sh_2211_WqqZvv.2bjets.root:\n",
      "val: ['700491', 'Sh_2211_WqqZvv', '2bjets', 'root'], val_n = 700491\n",
      "weight: 11100744844.063864\n",
      "\t67 events in 0.2s\n",
      "\t700492.Sh_2211_WqqZll.2bjets.root:\n",
      "val: ['700492', 'Sh_2211_WqqZll', '2bjets', 'root'], val_n = 700492\n",
      "weight: 2547536071.977257\n",
      "\t5 events in 0.2s\n",
      "\t700493.Sh_2211_ZqqZll.2bjets.root:\n",
      "val: ['700493', 'Sh_2211_ZqqZll', '2bjets', 'root'], val_n = 700493\n",
      "weight: 4818490568.760571\n",
      "\t11 events in 0.2s\n",
      "\t700494.Sh_2211_ZbbZll.2bjets.root:\n",
      "val: ['700494', 'Sh_2211_ZbbZll', '2bjets', 'root'], val_n = 700494\n",
      "weight: 637236716.2125969\n",
      "\t8 events in 0.2s\n",
      "\t700495.Sh_2211_ZqqZvv.2bjets.root:\n",
      "val: ['700495', 'Sh_2211_ZqqZvv', '2bjets', 'root'], val_n = 700495\n",
      "weight: 9652046356.480349\n",
      "\t90 events in 0.2s\n",
      "\t700496.Sh_2211_ZbbZvv.2bjets.root:\n",
      "val: ['700496', 'Sh_2211_ZbbZvv', '2bjets', 'root'], val_n = 700496\n",
      "weight: 721182183.7428799\n",
      "\t27 events in 0.2s\n",
      "\t700195.Sh_2210_eegammagamma.2bjets.root:\n",
      "val: ['700195', 'Sh_2210_eegammagamma', '2bjets', 'root'], val_n = 700195\n",
      "weight: 9670333022.464417\n",
      "\t0 events in 0.3s\n",
      "\t700196.Sh_2210_mumugammagamma.2bjets.root:\n",
      "val: ['700196', 'Sh_2210_mumugammagamma', '2bjets', 'root'], val_n = 700196\n",
      "weight: 13560022184.40004\n",
      "\t2 events in 0.2s\n",
      "\t700199.Sh_2210_enugammagamma.2bjets.root:\n",
      "val: ['700199', 'Sh_2210_enugammagamma', '2bjets', 'root'], val_n = 700199\n",
      "weight: 28336530326.402832\n",
      "\t0 events in 0.2s\n",
      "\t700200.Sh_2210_munugammagamma.2bjets.root:\n",
      "val: ['700200', 'Sh_2210_munugammagamma', '2bjets', 'root'], val_n = 700200\n",
      "weight: 17220043101.836975\n",
      "\t1 events in 0.2s\n",
      "\t700201.Sh_2210_taunugammagamma.2bjets.root:\n",
      "val: ['700201', 'Sh_2210_taunugammagamma', '2bjets', 'root'], val_n = 700201\n",
      "weight: 17653551411.657166\n",
      "\t1 events in 0.2s\n"
     ]
    }
   ],
   "source": [
    "fraction = 1\n",
    "# Define empty dictionary to hold awkward arrays\n",
    "all_data = {}\n",
    "\n",
    "# Loop over samples\n",
    "for s in samples:\n",
    "    # Print which sample is being processed\n",
    "    print('Processing '+s+' samples')\n",
    "\n",
    "    # Define empty list to hold data for each sample\n",
    "    frames = []\n",
    "\n",
    "    # Loop over each file\n",
    "    for val in samples[s]['list']:\n",
    "        # if \"16\" in val:\n",
    "        #     print(\"\\tdata16 ignored\")\n",
    "        #     continue\n",
    "        if s == 'Data':\n",
    "            prefix = \"Data/\" # Data prefix\n",
    "            fileString = path+prefix+val\n",
    "        else: # MC prefix\n",
    "            prefix = \"MC/\"\n",
    "            fileString = path+prefix+'mc_'+val# +\".4lep.root\" # file name to open\n",
    "\n",
    "        # start the clock\n",
    "        start = time.time()\n",
    "        print(\"\\t\"+val+\":\")\n",
    "\n",
    "        # Open file\n",
    "        with uproot.open(fileString + \":analysis\") as t:\n",
    "            tree = t\n",
    "\n",
    "        sample_data = []\n",
    "        if prefix == 'MC/':\n",
    "            print(f\"val: {val.split('.')}, val_n = {val.split('.')[0]}\")\n",
    "            sumweights = metadata.loc[metadata.dataset_number == int(val.split('.')[0]), 'sumOfWeights'].values[0]\n",
    "        # Loop over data in the tree\n",
    "        for data in tree.iterate(variables + weight_variables,\n",
    "                                 library=\"ak\",\n",
    "                                 entry_stop=tree.num_entries*fraction): # process up to numevents*fraction\n",
    "                                 #step_size = 1000000):\n",
    "\n",
    "            padded_array = ak.pad_none(data['jet_pt'], 2)\n",
    "            data['leading_jet_pt'] = padded_array[:, 0]\n",
    "            data['subleading_jet_pt'] = padded_array[:, 1]\n",
    "            padded_array = ak.pad_none(data['jet_eta'], 2)\n",
    "            data['leading_jet_eta'] = padded_array[:, 0]\n",
    "            data['subleading_jet_eta'] = padded_array[:, 1]\n",
    "\n",
    "            # Event Selection (reference: https://arxiv.org/pdf/1409.6212)\n",
    "\n",
    "            # Generate btag identifier\n",
    "            data['btag_ID'] = (data['jet_btag_quantile'] == 2)\n",
    "\n",
    "            # data = data[lepton_loose(data)] # Select Events containing no loose leptons\n",
    "            if \"16\" not in val:\n",
    "                data = data[data['trigMET']] # Apply MET trigger \n",
    "            data = data[data['met'] > 30 * GeV] # MET>30 GeV \n",
    "            data = data[(data['jet_n']==2) | (data['jet_n']==3)] # 2 or 3 jets\n",
    "            data = data[select_pt_eta(data)]\n",
    "            data = data[select_exactly_2_b(data)]\n",
    "\n",
    "            data = data[select_max_pt_jet(data)]\n",
    "            data = data[select_HT(data)]\n",
    "            data = data[select_2b_phi(data)]\n",
    "            data = data[select_metbb_phi(data)]\n",
    "            data = data[select_min_metjets_phi(data)]\n",
    "\n",
    "            # Invariant Mass\n",
    "            data['mass'] = calc_mass(data)\n",
    "\n",
    "            # Store Monte Carlo weights in the data\n",
    "            if 'data' not in val: # Only calculates weights if the data is MC\n",
    "                print(f'weight: {sumweights}')\n",
    "                data['totalWeight'] = calc_weight(data)\n",
    "            elapsed = time.time() - start # time taken to process\n",
    "            print(\"\\t\"+str(len(data)) + \" events in \"+str(round(elapsed,1))+\"s\") # events before and after\n",
    "\n",
    "            # Append data to the whole sample data list\n",
    "            sample_data.append(data)\n",
    "\n",
    "        frames.append(ak.concatenate(sample_data))\n",
    "\n",
    "    all_data[s] = ak.concatenate(frames) # dictionary entry is concatenated awkward arrays"
   ]
  },
  {
   "cell_type": "code",
   "execution_count": 30,
   "metadata": {
    "colab": {
     "base_uri": "https://localhost:8080/",
     "height": 444
    },
    "id": "kFkSLl_4MeyB",
    "outputId": "6cd319ed-d20b-4fde-bc2e-affd4bc35f7a"
   },
   "outputs": [
    {
     "data": {
      "image/png": "[encoded data removed]",
      "text/plain": [
       "<Figure size 432x288 with 1 Axes>"
      ]
     },
     "metadata": {
      "needs_background": "light"
     },
     "output_type": "display_data"
    }
   ],
   "source": [
    "variable_to_plot = 'mass'\n",
    "# x-axis range of the plot\n",
    "xmin = 0 * GeV\n",
    "xmax = 500 * GeV\n",
    "step_size = 5 * GeV\n",
    "\n",
    "bin_edges = np.arange(start=xmin, # The interval includes this value\n",
    "                    stop=xmax+step_size, # The interval doesn't include this value\n",
    "                    step=step_size ) # Spacing between values\n",
    "bin_centres = np.arange(start=xmin+step_size/2, # The interval includes this value\n",
    "                        stop=xmax+step_size/2, # The interval doesn't include this value\n",
    "                        step=step_size ) # Spacing between values\n",
    "\n",
    "data_x,_ = np.histogram(ak.to_numpy(all_data['Data'][variable_to_plot]),\n",
    "                        bins=bin_edges ) # histogram the data\n",
    "data_x_errors = np.sqrt( data_x ) # statistical error on the data\n",
    "\n",
    "signal_x = ak.to_numpy(all_data['Signal'][variable_to_plot]) # histogram the signal\n",
    "signal_weights = ak.to_numpy(all_data['Signal'].totalWeight) # get the weights of the signal events\n",
    "signal_color = samples['Signal']['color'] # get the colour for the signal bar\n",
    "\n",
    "mc_x = [] # define list to hold the Monte Carlo histogram entries\n",
    "mc_weights = [] # define list to hold the Monte Carlo weights\n",
    "mc_colors = [] # define list to hold the colors of the Monte Carlo bars\n",
    "mc_labels = [] # define list to hold the legend labels of the Monte Carlo bars\n",
    "\n",
    "for s in samples: # loop over samples\n",
    "    if s not in ['Data', 'Signal']: # if not data nor signal\n",
    "        # if 'V' in s or 'bar' in s:\n",
    "        #     print(f'skip {s}')\n",
    "        #     break\n",
    "        mc_x.append( ak.to_numpy(all_data[s][variable_to_plot]) ) # append to the list of Monte Carlo histogram entries\n",
    "        mc_weights.append( ak.to_numpy(all_data[s].totalWeight) ) # append to the list of Monte Carlo weights\n",
    "        mc_colors.append( samples[s]['color'] ) # append to the list of Monte Carlo bar colors\n",
    "        mc_labels.append( s ) # append to the list of Monte Carlo legend labels\n",
    "\n",
    "# *************\n",
    "# Main plot\n",
    "# *************\n",
    "main_axes = plt.gca() # get current axes\n",
    "\n",
    "# plot the data points\n",
    "main_axes.errorbar(x=bin_centres, y=data_x, yerr=data_x_errors,\n",
    "                   fmt='ko', # 'k' means black and 'o' is for circles\n",
    "                   markersize=4, # Adjust the size of the circles\n",
    "                   label='Data')\n",
    "\n",
    "# plot the Monte Carlo bars\n",
    "mc_heights = main_axes.hist(mc_x, bins=bin_edges,\n",
    "                            weights=mc_weights, stacked=True,\n",
    "                            color=mc_colors,\n",
    "                            label=mc_labels )\n",
    "\n",
    "mc_x_tot = mc_heights[0][-1] # stacked background MC y-axis value\n",
    "\n",
    "# calculate MC statistical uncertainty: sqrt(sum w^2)\n",
    "mc_x_err = np.sqrt(np.histogram(np.hstack(mc_x), bins=bin_edges, weights=np.hstack(mc_weights)**2)[0])\n",
    "\n",
    "# plot the signal bar\n",
    "main_axes.hist(signal_x, bins=bin_edges, bottom=mc_x_tot,\n",
    "                weights=signal_weights, color=signal_color,\n",
    "                label=r'Signal ($m_H$ = 125 GeV)')\n",
    "\n",
    "# plot the statistical uncertainty\n",
    "main_axes.bar(bin_centres, # x\n",
    "                2*mc_x_err, # heights\n",
    "                alpha=0.5, # half transparency\n",
    "                bottom=mc_x_tot-mc_x_err, color='none',\n",
    "                hatch=\"////\", width=step_size, label='Stat. Unc.' )\n",
    "\n",
    "# set the x-limit of the main axes\n",
    "main_axes.set_xlim( left=xmin, right=xmax )\n",
    "\n",
    "# separation of x axis minor ticks\n",
    "main_axes.xaxis.set_minor_locator( AutoMinorLocator() )\n",
    "\n",
    "# set the axis tick parameters for the main axes\n",
    "main_axes.tick_params(which='both', # ticks on both x and y axes\n",
    "                        direction='in', # Put ticks inside and outside the axes\n",
    "                        top=True, # draw ticks on the top axis\n",
    "                        right=True ) # draw ticks on right axis\n",
    "\n",
    "# write y-axis label for main axes\n",
    "main_axes.set_ylabel('Events / '+str(step_size)+' GeV',\n",
    "                        y=1, horizontalalignment='right')\n",
    "\n",
    "# set y-axis limits for main axes\n",
    "# main_axes.set_ylim( bottom=0, top=np.amax(data_x)*1.6 )\n",
    "\n",
    "# add minor ticks on y-axis for main axes\n",
    "main_axes.yaxis.set_minor_locator( AutoMinorLocator() )\n",
    "\n",
    "# draw the legend\n",
    "main_axes.legend( frameon=False ); # no box around the legend"
   ]
  },
  {
   "cell_type": "markdown",
   "metadata": {},
   "source": [
    "And there we have it. \n",
    "We have a nice peak in the invariant mass spectrum somewhere around $125 \\, \\text{GeV}$,\n",
    "    the signature of the Higgs boson!\n"
   ]
  },
  {
   "cell_type": "markdown",
   "metadata": {},
   "source": [
    "# TODO \n",
    "\n",
    "1. Check in the [Hbb paper](https://link.springer.com/article/10.1007/JHEP12(2017)024) what is the total number of events of the signal and background after the selections to see if we are in the right ballpark range.\n",
    "2. Create a cut flow for the background and the signal, \n",
    "    i.e. count the number of events that are cut after each selection, \n",
    "    to see the efficiencies of these cuts.\n",
    "3. Plot histogram of $\\Delta\\phi$ of the two $b$-tagged jets. i.e. the absolute difference in the azimuthal angle of the two jets "
   ]
  },
  {
   "cell_type": "code",
   "execution_count": 31,
   "metadata": {
    "colab": {
     "base_uri": "https://localhost:8080/",
     "height": 455
    },
    "id": "7kbIc4m4MeyC",
    "outputId": "6e210582-7388-4a8d-e37d-ed80083d9c3a"
   },
   "outputs": [
    {
     "data": {
      "image/png": "[encoded data removed]",
      "text/plain": [
       "<Figure size 432x288 with 1 Axes>"
      ]
     },
     "metadata": {
      "needs_background": "light"
     },
     "output_type": "display_data"
    }
   ],
   "source": [
    "xmin = 0\n",
    "xmax = 500\n",
    "step_size = 5 * GeV\n",
    "bin_edges = np.arange(start=xmin, stop=xmax+step_size, step=step_size )\n",
    "\n",
    "plt.hist(all_data['Background $t\\\\bar{t}$']['leading_jet_pt'], weights = all_data['Background $t\\\\bar{t}$']['totalWeight'], bins=bin_edges)\n",
    "plt.title(\"leading jet pt\")\n",
    "plt.show()"
   ]
  },
  {
   "cell_type": "code",
   "execution_count": 32,
   "metadata": {},
   "outputs": [],
   "source": [
    "with uproot.open(data_15_path + \":analysis\") as t:\n",
    "    tree = t\n",
    "\n",
    "for data in tree.iterate(variables,\n",
    "                            library=\"ak\",\n",
    "                            entry_stop=tree.num_entries): # process up to numevents*fraction\n",
    "    data_jet = data"
   ]
  },
  {
   "cell_type": "code",
   "execution_count": 33,
   "metadata": {},
   "outputs": [
    {
     "data": {
      "text/html": [
       "<pre>[False,\n",
       " True,\n",
       " False]\n",
       "--------------\n",
       "type: 3 * bool</pre>"
      ],
      "text/plain": [
       "<Array [False, True, False] type='3 * bool'>"
      ]
     },
     "execution_count": 33,
     "metadata": {},
     "output_type": "execute_result"
    }
   ],
   "source": [
    "test_loose = ak.Array({'lep_isTight':[True, False, True], 'lep_e': [30, 26, 20]})\n",
    "lepton_loose(test_loose)"
   ]
  },
  {
   "cell_type": "code",
   "execution_count": 34,
   "metadata": {},
   "outputs": [
    {
     "data": {
      "text/html": [
       "<pre>[True,\n",
       " True,\n",
       " True,\n",
       " None]\n",
       "---------------\n",
       "type: 4 * ?bool</pre>"
      ],
      "text/plain": [
       "<Array [True, True, True, None] type='4 * ?bool'>"
      ]
     },
     "execution_count": 34,
     "metadata": {},
     "output_type": "execute_result"
    }
   ],
   "source": [
    "test_jets = ak.Array({'jet_n':[2,2,3,0],\n",
    "                      'jet_pt':[[21,21],[30,15],[70,30,30],[]], \n",
    "                      'jet_eta':[[-1,1],[-3,1],[-1,-1,0],[]], \n",
    "                      'jet_e':[[-1,1],[-3,1],[-1,-1,0],[]], \n",
    "                      'jet_btag_quantile':[[2,2], [2, 2], [2, 2, 2],[]],\n",
    "                      'jet_phi':[[2, 3], [-2, -2], [-11, 222, 300], []],\n",
    "                      'met_phi': [40,20,20,40],\n",
    "                      'met': [40,20,20,40]})\n",
    "select_min_metjets_phi(test_jets)"
   ]
  },
  {
   "cell_type": "code",
   "execution_count": null,
   "metadata": {},
   "outputs": [],
   "source": []
  }
 ],
 "metadata": {
  "@webio": {
   "lastCommId": null,
   "lastKernelId": null
  },
  "accelerator": "TPU",
  "colab": {
   "gpuType": "V28",
   "provenance": []
  },
  "kernelspec": {
   "display_name": "Python 3",
   "language": "python",
   "name": "python3"
  },
  "language_info": {
   "codemirror_mode": {
    "name": "ipython",
    "version": 3
   },
   "file_extension": ".py",
   "mimetype": "text/x-python",
   "name": "python",
   "nbconvert_exporter": "python",
   "pygments_lexer": "ipython3",
   "version": "3.11.9"
  }
 },
 "nbformat": 4,
 "nbformat_minor": 1
}
