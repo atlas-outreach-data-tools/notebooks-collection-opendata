{
 "cells": [
  {
   "cell_type": "markdown",
   "metadata": {},
   "source": [
    "# Detector and Particle Measurement Resolution"
   ]
  },
  {
   "cell_type": "markdown",
   "metadata": {},
   "source": [
    "<CENTER><img src=\"../../images/ATLASOD.gif\" style=\"width:50%\"></CENTER>"
   ]
  },
  {
   "cell_type": "markdown",
   "metadata": {},
   "source": [
    "This notebook uses ATLAS Open Data https://opendata.atlas.cern to teach you the concepts of detector and particle measurement resolution!\n",
    "\n",
    "ATLAS Open Data provides open access to proton-proton collision data at the LHC for educational purposes. ATLAS Open Data resources are ideal for high-school, undergraduate and postgraduate students."
   ]
  },
  {
   "cell_type": "markdown",
   "metadata": {
    "jp-MarkdownHeadingCollapsed": true
   },
   "source": [
    "## Resolution\n",
    "\n",
    "The **resolution** of a detector is its ability to distinguish between similar signals. Depending on the type of detector and the measurement that's being made, we may classify different types of resolution, such as *momentum* or *energy* (the ability to distinguish two particles with slightly different momenta or energies), *spatial* (the ability to distinguish two particles that are very close to one-another), and *temporal* resolution (the ability to distinguish two signals that are very close to each other in time)."
   ]
  },
  {
   "cell_type": "markdown",
   "metadata": {},
   "source": [
    "## Momentum Resolution\n",
    "\n",
    "Charged particles in ATLAS are measured using the inner tracking detector. This detector is composed of concentric layers, each of which measures the position of a particle. By \"connecting the dots\" between each of those measurements, it is possible to reconstruct the path that a charged particle took through the detector. Because the inner detector is in a magnetic field, the momentum of the charged particle can then be estimated from how much the particle's path through the detector deviated from a straight path. For a particle traveling in a uniform solenoidal magnetic field $B$ (which is very close to the situation in ATLAS, with a 2 Tesla solenoidal magnetic field) with radius of curvature of the particle's path, also called a \"track\", of $r$, the relative transverse momentum resolution is given approximately by\n",
    "\n",
    "$$ \\frac{dp_T}{p_T} = \\frac{\\sqrt{3}}{2} \\sigma_x \\frac{8p_T}{0.3BL^2}. $$\n",
    "\n",
    "We can see from this relation that the resolution degrades linearly with $p_T$, but improves with a higher magnetic field and larger radius. In other words, having as large of a magnetic field and radius as possible will help improve in resolving particles, especially those with very high momentum."
   ]
  },
  {
   "cell_type": "markdown",
   "metadata": {},
   "source": [
    "NOTE: Will add a momentum resolution plot here."
   ]
  },
  {
   "cell_type": "markdown",
   "metadata": {},
   "source": [
    "## Energy Resolution"
   ]
  },
  {
   "cell_type": "markdown",
   "metadata": {},
   "source": [
    "### Calorimeter Energy Resolution\n",
    "\n",
    "A calorimeter is a detector that stops electrons, positrons, photons, and jets and measures the energy that was released as they stopped. They are also used in particle identification, as only certain particles will interact with certain calorimeters. [Practical Collider Physics, 6-7] These calorimeters include:\n",
    "\n",
    "* **Electromagnetic Calorimeters:** Used to stop and measure the energies of electrons, positrons, and photons. As an electron enters the calorimeter, it radiates a bremsstrahlung photon which then produces an electron-positron pair. This process continues, and what results is an electromagnetic shower, such as the one shown in **Figure 1**.\n",
    "<p>\n",
    "* **Hadronic Calorimeters:** Used to stop and measure the energies of *jets* produced by quarks and gluons. These jets are primarily sprays of hadrons like protons, pions, and neutrons. They don't interact as much in the electromagnetic calorimeter, but the much thicker hadronic calorimeter is sufficient to stop them.\n",
    "\n",
    "For more information, refer to [this page](https://cds.cern.ch/record/2759659/files/Calorimeters.pdf)."
   ]
  },
  {
   "cell_type": "markdown",
   "metadata": {},
   "source": [
    "<CENTER><img src=\\\"images/resolution_notebook/em_shower.png\\\" style=\\\"width:40%\\\"></CENTER>\n",
    "\n",
    "**Figure 1.** The development of an electromagnetic shower in an electromagnetic calorimeter. "
   ]
  },
  {
   "cell_type": "markdown",
   "metadata": {},
   "source": [
    "The energy resolution of a calorimeter, which sets the precision with which one can reconstruct particle four-vectors, is generally given by\n",
    "\n",
    "$$ \\frac{\\sigma(E)}{E} = \\frac{a}{\\sqrt{E}} \\oplus \\frac{b}{E} \\oplus c, $$\n",
    "\n",
    "where $\\oplus$ denotes addition in quadrature, and we have the following terms:\n",
    "\n",
    "* The first term, with coefficient $a$, is the **stochastic** or **sampling term**. This takes into account fluctuations in the number of signal generating processes, such as the conversion of light into photo-electrons by a photo-device.\n",
    "<p>\n",
    "* The second term, with coefficient $b$, is the **noise term**. This takes into account the noise from readout electronics and pileup (multiple simultaneous proton collisions).\n",
    "<p>\n",
    "* The last term, with coefficient $c$, is the **constant term**. This takes into account imperfections in the calorimeter construction, non-uniformities of signal generation and/or collection, channel-to-channel intercalibration errors, and fluctuations in the amount of energy leakage.\n",
    "\n",
    "For very high particle energies, the constant term is the most dominant. Therefore, in the limit of large $E$, good energy resolution can be achieved by having as small a constant term as possible."
   ]
  },
  {
   "cell_type": "markdown",
   "metadata": {},
   "source": [
    "### Jet Energy Resolution\n",
    "\n",
    "The resolutions described to this point are mostly affected by the detector itself; if one builds a better detector, the resolution can be improved. There are also resolution effects, particularly for measuring jets, that are related to the physics of the jet - the way the particles are produced and interact. The jet energy resolution includes additional effects from sources like:\n",
    "\n",
    "* The alogorithms used to define the jets\n",
    "<p>\n",
    "* The fluctuation in the particle content of jets (e.g. how many protons or pions are inside the jet)\n",
    "<p>\n",
    "* The fluctuation in the event itself (e.g. how many particles that don't \"belong\" to the jet might happen to point in its direction)\n",
    "<p>\n",
    "* The fluctuation in energy pileup\n",
    "<p>\n",
    "* The magnetic field (e.g. how many particles are \"bent into\" or \"bent out of\" the jet by the magnetic field as they go through the inner detector)\n",
    "\n",
    "The jet energy resolution can be carefully measured by studying the asymmetry of di-jet events in the detector. \n",
    "\n",
    "The cone size of the jet has a significant impact on the mass resolution and the energy resolution of the jet. For example, if an analysis wants to only capture quarks and gluons, a small-radius jet might be best. If an analysis wants to capture entire W bosons or top quarks as single jets, a much larger-radius jet might be best. ATLAS provides two different jet collections (one small radius and one large radius) exactly for that reason, and some analyses make use of both in order to get the best of both worlds. In defining the jet axis, the mass resolution $dM/M$ due to the angular error $d\\theta$ is given by\n",
    "\n",
    "$$ \\frac{dM}{M} = \\frac{p_T}{M}d\\theta, $$\n",
    "\n",
    "where $M$ is the mass and $p_T$ is the transverse momentum of the jet."
   ]
  },
  {
   "cell_type": "markdown",
   "metadata": {},
   "source": [
    "NOTE: Will add a jet resolution plot here."
   ]
  },
  {
   "cell_type": "markdown",
   "metadata": {},
   "source": [
    "## ATLAS Open Data Initialisation"
   ]
  },
  {
   "cell_type": "markdown",
   "metadata": {},
   "source": [
    "Now that we have learned these concepts, we are ready to apply them to ATLAS Open Data. The first step in doing this is to set everything up."
   ]
  },
  {
   "cell_type": "markdown",
   "metadata": {},
   "source": [
    "### Running a Python notebook"
   ]
  },
  {
   "cell_type": "markdown",
   "metadata": {},
   "source": [
    "A Python notebook consists of cell blocks, each containing lines of Python code. Each cell can be run independently of each other, yielding respective outputs below the cells. Conventionally, cells are run in order from top to bottom.\n",
    "\n",
    "* To run the whole notebook, in the top menu click Cell $\\rightarrow$ Run All.\n",
    "\n",
    "* To propagate a change you've made to a piece of code, click Cell $\\rightarrow$ Run All Below.\n",
    "\n",
    "* You can also run a single code cell, by clicking Cell $\\rightarrow$ Run Cells, or using the keyboard shortcut Shift+Enter.\n",
    "\n",
    "For more information, refer to [this page](https://www.codecademy.com/article/how-to-use-jupyter-notebooks)."
   ]
  },
  {
   "cell_type": "markdown",
   "metadata": {},
   "source": [
    "### First time package installation on your computer (not needed on mybinder)"
   ]
  },
  {
   "cell_type": "markdown",
   "metadata": {},
   "source": [
    "This first cell installs the required python packages. It only needs to be run the first time you open this notebook on your computer. If you close Jupyter and re-open on the same computer, you won't need to run this first cell again. If this is opened on mybinder, you don't need to run this cell."
   ]
  },
  {
   "cell_type": "code",
   "execution_count": 1,
   "metadata": {},
   "outputs": [
    {
     "name": "stdout",
     "output_type": "stream",
     "text": [
      "\u001b[33mWARNING: The directory '/home/jovyan/.cache/pip' or its parent directory is not owned or is not writable by the current user. The cache has been disabled. Check the permissions and owner of that directory. If executing pip with sudo, you should use sudo's -H flag.\u001b[0m\u001b[33m\n",
      "\u001b[0mRequirement already satisfied: atlasopenmagic in /opt/conda/lib/python3.11/site-packages (0.5.1)\n",
      "Requirement already satisfied: pyyaml in /opt/conda/lib/python3.11/site-packages (from atlasopenmagic) (6.0.1)\n",
      "Requirement already satisfied: requests in /opt/conda/lib/python3.11/site-packages (from atlasopenmagic) (2.31.0)\n",
      "Requirement already satisfied: charset-normalizer<4,>=2 in /opt/conda/lib/python3.11/site-packages (from requests->atlasopenmagic) (3.3.0)\n",
      "Requirement already satisfied: idna<4,>=2.5 in /opt/conda/lib/python3.11/site-packages (from requests->atlasopenmagic) (3.4)\n",
      "Requirement already satisfied: urllib3<3,>=1.21.1 in /opt/conda/lib/python3.11/site-packages (from requests->atlasopenmagic) (2.0.7)\n",
      "Requirement already satisfied: certifi>=2017.4.17 in /opt/conda/lib/python3.11/site-packages (from requests->atlasopenmagic) (2025.4.26)\n",
      "Installing packages: ['aiohttp>=3.9.5', 'atlasopenmagic>=1.0.1', 'awkward>=2.6.7', 'awkward-pandas>=2023.8.0', 'coffea~=0.7.0', 'hist>=2.8.0', 'ipykernel>=6.29.5', 'jupyter>=1.0.0', 'lmfit>=1.3.2', 'matplotlib>=3.9.1', 'metakernel>=0.30.2', 'notebook<7', 'numpy>=1.26.4', 'pandas>=2.2.2', 'papermill>=2.6.0', 'pip>=24.2', 'scikit-learn>=1.5.1', 'uproot>=5.3.10', 'uproot3>=3.14.4', 'fsspec-xrootd>=0.5.1', 'jupyterlab_latex~=3.1.0', 'vector>=1.4.1']\n"
     ]
    },
    {
     "name": "stderr",
     "output_type": "stream",
     "text": [
      "\u001b[33mWARNING: The directory '/home/jovyan/.cache/pip' or its parent directory is not owned or is not writable by the current user. The cache has been disabled. Check the permissions and owner of that directory. If executing pip with sudo, you should use sudo's -H flag.\u001b[0m\u001b[33m\n",
      "\u001b[0m"
     ]
    },
    {
     "name": "stdout",
     "output_type": "stream",
     "text": [
      "Requirement already satisfied: aiohttp>=3.9.5 in /opt/conda/lib/python3.11/site-packages (3.11.18)\n",
      "Collecting aiohttp>=3.9.5\n",
      "  Downloading aiohttp-3.12.14-cp311-cp311-manylinux_2_17_x86_64.manylinux2014_x86_64.whl.metadata (7.6 kB)\n",
      "Collecting atlasopenmagic>=1.0.1\n",
      "  Downloading atlasopenmagic-1.0.1-py3-none-any.whl.metadata (7.2 kB)\n",
      "Requirement already satisfied: awkward>=2.6.7 in /opt/conda/lib/python3.11/site-packages (2.8.2)\n",
      "Collecting awkward>=2.6.7\n",
      "  Downloading awkward-2.8.5-py3-none-any.whl.metadata (6.9 kB)\n",
      "Requirement already satisfied: awkward-pandas>=2023.8.0 in /opt/conda/lib/python3.11/site-packages (2023.8.0)\n",
      "Requirement already satisfied: coffea~=0.7.0 in /opt/conda/lib/python3.11/site-packages (0.7.8)\n",
      "Collecting coffea~=0.7.0\n",
      "  Downloading coffea-0.7.29-py2.py3-none-any.whl.metadata (9.6 kB)\n",
      "Requirement already satisfied: hist>=2.8.0 in /opt/conda/lib/python3.11/site-packages (2.8.1)\n",
      "Requirement already satisfied: ipykernel>=6.29.5 in /opt/conda/lib/python3.11/site-packages (6.29.5)\n",
      "Collecting ipykernel>=6.29.5\n",
      "  Downloading ipykernel-6.30.0-py3-none-any.whl.metadata (6.2 kB)\n",
      "Requirement already satisfied: jupyter>=1.0.0 in /opt/conda/lib/python3.11/site-packages (1.1.1)\n",
      "Requirement already satisfied: lmfit>=1.3.2 in /opt/conda/lib/python3.11/site-packages (1.3.3)\n",
      "Collecting lmfit>=1.3.2\n",
      "  Downloading lmfit-1.3.4-py3-none-any.whl.metadata (8.8 kB)\n",
      "Requirement already satisfied: matplotlib>=3.9.1 in /opt/conda/lib/python3.11/site-packages (3.10.1)\n",
      "Collecting matplotlib>=3.9.1\n",
      "  Downloading matplotlib-3.10.3-cp311-cp311-manylinux_2_17_x86_64.manylinux2014_x86_64.whl.metadata (11 kB)\n",
      "Requirement already satisfied: metakernel>=0.30.2 in /opt/conda/lib/python3.11/site-packages (0.30.3)\n",
      "Requirement already satisfied: notebook<7 in /opt/conda/lib/python3.11/site-packages (6.5.7)\n",
      "Requirement already satisfied: numpy>=1.26.4 in /opt/conda/lib/python3.11/site-packages (1.26.4)\n",
      "Collecting numpy>=1.26.4\n",
      "  Downloading numpy-2.3.1-cp311-cp311-manylinux_2_28_x86_64.whl.metadata (62 kB)\n",
      "Requirement already satisfied: pandas>=2.2.2 in /opt/conda/lib/python3.11/site-packages (2.2.3)\n",
      "Collecting pandas>=2.2.2\n",
      "  Downloading pandas-2.3.1-cp311-cp311-manylinux_2_17_x86_64.manylinux2014_x86_64.whl.metadata (91 kB)\n",
      "Requirement already satisfied: papermill>=2.6.0 in /opt/conda/lib/python3.11/site-packages (2.6.0)\n",
      "Requirement already satisfied: pip>=24.2 in /opt/conda/lib/python3.11/site-packages (25.1.1)\n",
      "Requirement already satisfied: scikit-learn>=1.5.1 in /opt/conda/lib/python3.11/site-packages (1.6.1)\n",
      "Collecting scikit-learn>=1.5.1\n",
      "  Downloading scikit_learn-1.7.1-cp311-cp311-manylinux2014_x86_64.manylinux_2_17_x86_64.whl.metadata (11 kB)\n",
      "Requirement already satisfied: uproot>=5.3.10 in /opt/conda/lib/python3.11/site-packages (5.6.1)\n",
      "Collecting uproot>=5.3.10\n",
      "  Downloading uproot-5.6.3-py3-none-any.whl.metadata (33 kB)\n",
      "Requirement already satisfied: uproot3>=3.14.4 in /opt/conda/lib/python3.11/site-packages (3.14.4)\n",
      "Requirement already satisfied: fsspec-xrootd>=0.5.1 in /opt/conda/lib/python3.11/site-packages (0.5.1)\n",
      "Requirement already satisfied: jupyterlab_latex~=3.1.0 in /opt/conda/lib/python3.11/site-packages (3.1.0)\n",
      "Requirement already satisfied: vector>=1.4.1 in /opt/conda/lib/python3.11/site-packages (1.6.2)\n",
      "Collecting vector>=1.4.1\n",
      "  Downloading vector-1.6.3-py3-none-any.whl.metadata (16 kB)\n",
      "INFO: pip is looking at multiple versions of coffea to determine which version is compatible with other requirements. This could take a while.\n",
      "Collecting coffea~=0.7.0\n",
      "  Downloading coffea-0.7.28-py2.py3-none-any.whl.metadata (9.6 kB)\n",
      "  Downloading coffea-0.7.27-py2.py3-none-any.whl.metadata (9.6 kB)\n",
      "  Downloading coffea-0.7.26-py2.py3-none-any.whl.metadata (9.6 kB)\n",
      "  Downloading coffea-0.7.25-py2.py3-none-any.whl.metadata (9.5 kB)\n",
      "  Downloading coffea-0.7.24-py2.py3-none-any.whl.metadata (9.5 kB)\n",
      "  Downloading coffea-0.7.23-py2.py3-none-any.whl.metadata (9.5 kB)\n",
      "  Downloading coffea-0.7.22-py2.py3-none-any.whl.metadata (6.5 kB)\n",
      "INFO: pip is still looking at multiple versions of coffea to determine which version is compatible with other requirements. This could take a while.\n",
      "  Downloading coffea-0.7.21-py2.py3-none-any.whl.metadata (6.5 kB)\n",
      "  Downloading coffea-0.7.20-py2.py3-none-any.whl.metadata (6.4 kB)\n",
      "  Downloading coffea-0.7.19-py2.py3-none-any.whl.metadata (6.2 kB)\n",
      "  Downloading coffea-0.7.18-py2.py3-none-any.whl.metadata (6.2 kB)\n",
      "  Downloading coffea-0.7.17-py2.py3-none-any.whl.metadata (6.2 kB)\n",
      "INFO: This is taking longer than usual. You might need to provide the dependency resolver with stricter constraints to reduce runtime. See https://pip.pypa.io/warnings/backtracking for guidance. If you want to abort this run, press Ctrl + C.\n",
      "  Downloading coffea-0.7.16-py2.py3-none-any.whl.metadata (6.2 kB)\n",
      "  Downloading coffea-0.7.15-py2.py3-none-any.whl.metadata (6.2 kB)\n",
      "  Downloading coffea-0.7.14-py2.py3-none-any.whl.metadata (6.1 kB)\n",
      "  Downloading coffea-0.7.13-py2.py3-none-any.whl.metadata (6.1 kB)\n",
      "  Downloading coffea-0.7.12-py2.py3-none-any.whl.metadata (6.1 kB)\n",
      "  Downloading coffea-0.7.11-py2.py3-none-any.whl.metadata (6.1 kB)\n",
      "  Downloading coffea-0.7.10-py2.py3-none-any.whl.metadata (6.1 kB)\n",
      "  Downloading coffea-0.7.9-py2.py3-none-any.whl.metadata (6.1 kB)\n",
      "Requirement already satisfied: uproot3-methods>=0.10.0 in /opt/conda/lib/python3.11/site-packages (from coffea~=0.7.0) (0.10.1)\n",
      "Requirement already satisfied: pyarrow>=1.0.0 in /opt/conda/lib/python3.11/site-packages (from coffea~=0.7.0) (13.0.0)\n",
      "Requirement already satisfied: fsspec in /opt/conda/lib/python3.11/site-packages (from coffea~=0.7.0) (2023.9.2)\n",
      "Requirement already satisfied: numba>=0.50.0 in /opt/conda/lib/python3.11/site-packages (from coffea~=0.7.0) (0.61.2)\n",
      "Requirement already satisfied: scipy>=1.1.0 in /opt/conda/lib/python3.11/site-packages (from coffea~=0.7.0) (1.11.3)\n",
      "Requirement already satisfied: tqdm>=4.27.0 in /opt/conda/lib/python3.11/site-packages (from coffea~=0.7.0) (4.66.1)\n",
      "Requirement already satisfied: lz4 in /opt/conda/lib/python3.11/site-packages (from coffea~=0.7.0) (4.3.2)\n",
      "Requirement already satisfied: cloudpickle>=1.2.3 in /opt/conda/lib/python3.11/site-packages (from coffea~=0.7.0) (3.0.0)\n",
      "Requirement already satisfied: mplhep>=0.1.18 in /opt/conda/lib/python3.11/site-packages (from coffea~=0.7.0) (0.3.59)\n",
      "Requirement already satisfied: packaging in /opt/conda/lib/python3.11/site-packages (from coffea~=0.7.0) (23.2)\n",
      "Requirement already satisfied: cachetools in /opt/conda/lib/python3.11/site-packages (from coffea~=0.7.0) (5.5.2)\n",
      "Requirement already satisfied: jinja2 in /opt/conda/lib/python3.11/site-packages (from notebook<7) (3.1.2)\n",
      "Requirement already satisfied: tornado>=6.1 in /opt/conda/lib/python3.11/site-packages (from notebook<7) (6.3.3)\n",
      "Requirement already satisfied: pyzmq>=17 in /opt/conda/lib/python3.11/site-packages (from notebook<7) (25.1.1)\n",
      "Requirement already satisfied: argon2-cffi in /opt/conda/lib/python3.11/site-packages (from notebook<7) (23.1.0)\n",
      "Requirement already satisfied: traitlets>=4.2.1 in /opt/conda/lib/python3.11/site-packages (from notebook<7) (5.11.2)\n",
      "Requirement already satisfied: jupyter-core>=4.6.1 in /opt/conda/lib/python3.11/site-packages (from notebook<7) (5.4.0)\n",
      "Requirement already satisfied: jupyter-client<8,>=5.3.4 in /opt/conda/lib/python3.11/site-packages (from notebook<7) (7.4.9)\n",
      "Requirement already satisfied: ipython-genutils in /opt/conda/lib/python3.11/site-packages (from notebook<7) (0.2.0)\n",
      "Requirement already satisfied: nbformat in /opt/conda/lib/python3.11/site-packages (from notebook<7) (5.9.2)\n",
      "Requirement already satisfied: nbconvert>=5 in /opt/conda/lib/python3.11/site-packages (from notebook<7) (7.9.2)\n",
      "Requirement already satisfied: nest-asyncio>=1.5 in /opt/conda/lib/python3.11/site-packages (from notebook<7) (1.5.8)\n",
      "Requirement already satisfied: Send2Trash>=1.8.0 in /opt/conda/lib/python3.11/site-packages (from notebook<7) (1.8.2)\n",
      "Requirement already satisfied: terminado>=0.8.3 in /opt/conda/lib/python3.11/site-packages (from notebook<7) (0.17.1)\n",
      "Requirement already satisfied: prometheus-client in /opt/conda/lib/python3.11/site-packages (from notebook<7) (0.17.1)\n",
      "Requirement already satisfied: nbclassic>=0.4.7 in /opt/conda/lib/python3.11/site-packages (from notebook<7) (1.0.0)\n",
      "Requirement already satisfied: jupyterlab<4,>=3 in /opt/conda/lib/python3.11/site-packages (from jupyterlab_latex~=3.1.0) (3.6.8)\n",
      "Requirement already satisfied: jupyter-server<2,>=1.6 in /opt/conda/lib/python3.11/site-packages (from jupyterlab_latex~=3.1.0) (1.24.0)\n",
      "Requirement already satisfied: entrypoints in /opt/conda/lib/python3.11/site-packages (from jupyter-client<8,>=5.3.4->notebook<7) (0.4)\n",
      "Requirement already satisfied: python-dateutil>=2.8.2 in /opt/conda/lib/python3.11/site-packages (from jupyter-client<8,>=5.3.4->notebook<7) (2.8.2)\n",
      "Requirement already satisfied: anyio<4,>=3.1.0 in /opt/conda/lib/python3.11/site-packages (from jupyter-server<2,>=1.6->jupyterlab_latex~=3.1.0) (3.7.1)\n",
      "Requirement already satisfied: websocket-client in /opt/conda/lib/python3.11/site-packages (from jupyter-server<2,>=1.6->jupyterlab_latex~=3.1.0) (1.6.4)\n"
     ]
    },
    {
     "name": "stdout",
     "output_type": "stream",
     "text": [
      "Requirement already satisfied: idna>=2.8 in /opt/conda/lib/python3.11/site-packages (from anyio<4,>=3.1.0->jupyter-server<2,>=1.6->jupyterlab_latex~=3.1.0) (3.4)\n",
      "Requirement already satisfied: sniffio>=1.1 in /opt/conda/lib/python3.11/site-packages (from anyio<4,>=3.1.0->jupyter-server<2,>=1.6->jupyterlab_latex~=3.1.0) (1.3.0)\n",
      "Requirement already satisfied: ipython in /opt/conda/lib/python3.11/site-packages (from jupyterlab<4,>=3->jupyterlab_latex~=3.1.0) (8.16.1)\n",
      "Requirement already satisfied: jupyterlab-server~=2.19 in /opt/conda/lib/python3.11/site-packages (from jupyterlab<4,>=3->jupyterlab_latex~=3.1.0) (2.25.0)\n",
      "Requirement already satisfied: jupyter-ydoc~=0.2.4 in /opt/conda/lib/python3.11/site-packages (from jupyterlab<4,>=3->jupyterlab_latex~=3.1.0) (0.2.5)\n",
      "Requirement already satisfied: jupyter-server-ydoc~=0.8.0 in /opt/conda/lib/python3.11/site-packages (from jupyterlab<4,>=3->jupyterlab_latex~=3.1.0) (0.8.0)\n",
      "Requirement already satisfied: jupyter-server-fileid<1,>=0.6.0 in /opt/conda/lib/python3.11/site-packages (from jupyter-server-ydoc~=0.8.0->jupyterlab<4,>=3->jupyterlab_latex~=3.1.0) (0.9.3)\n",
      "Requirement already satisfied: ypy-websocket<0.9.0,>=0.8.2 in /opt/conda/lib/python3.11/site-packages (from jupyter-server-ydoc~=0.8.0->jupyterlab<4,>=3->jupyterlab_latex~=3.1.0) (0.8.4)\n",
      "Requirement already satisfied: jupyter-events>=0.5.0 in /opt/conda/lib/python3.11/site-packages (from jupyter-server-fileid<1,>=0.6.0->jupyter-server-ydoc~=0.8.0->jupyterlab<4,>=3->jupyterlab_latex~=3.1.0) (0.8.0)\n",
      "Requirement already satisfied: y-py<0.7.0,>=0.6.0 in /opt/conda/lib/python3.11/site-packages (from jupyter-ydoc~=0.2.4->jupyterlab<4,>=3->jupyterlab_latex~=3.1.0) (0.6.2)\n",
      "Requirement already satisfied: babel>=2.10 in /opt/conda/lib/python3.11/site-packages (from jupyterlab-server~=2.19->jupyterlab<4,>=3->jupyterlab_latex~=3.1.0) (2.13.0)\n",
      "Requirement already satisfied: json5>=0.9.0 in /opt/conda/lib/python3.11/site-packages (from jupyterlab-server~=2.19->jupyterlab<4,>=3->jupyterlab_latex~=3.1.0) (0.9.14)\n",
      "Requirement already satisfied: jsonschema>=4.18.0 in /opt/conda/lib/python3.11/site-packages (from jupyterlab-server~=2.19->jupyterlab<4,>=3->jupyterlab_latex~=3.1.0) (4.19.1)\n",
      "Requirement already satisfied: requests>=2.31 in /opt/conda/lib/python3.11/site-packages (from jupyterlab-server~=2.19->jupyterlab<4,>=3->jupyterlab_latex~=3.1.0) (2.31.0)\n",
      "Requirement already satisfied: aiofiles<23,>=22.1.0 in /opt/conda/lib/python3.11/site-packages (from ypy-websocket<0.9.0,>=0.8.2->jupyter-server-ydoc~=0.8.0->jupyterlab<4,>=3->jupyterlab_latex~=3.1.0) (22.1.0)\n",
      "Requirement already satisfied: aiosqlite<1,>=0.17.0 in /opt/conda/lib/python3.11/site-packages (from ypy-websocket<0.9.0,>=0.8.2->jupyter-server-ydoc~=0.8.0->jupyterlab<4,>=3->jupyterlab_latex~=3.1.0) (0.21.0)\n",
      "Requirement already satisfied: typing_extensions>=4.0 in /opt/conda/lib/python3.11/site-packages (from aiosqlite<1,>=0.17.0->ypy-websocket<0.9.0,>=0.8.2->jupyter-server-ydoc~=0.8.0->jupyterlab<4,>=3->jupyterlab_latex~=3.1.0) (4.8.0)\n",
      "Requirement already satisfied: aiohappyeyeballs>=2.5.0 in /opt/conda/lib/python3.11/site-packages (from aiohttp>=3.9.5) (2.6.1)\n",
      "Collecting aiosignal>=1.4.0 (from aiohttp>=3.9.5)\n",
      "  Downloading aiosignal-1.4.0-py3-none-any.whl.metadata (3.7 kB)\n",
      "Requirement already satisfied: attrs>=17.3.0 in /opt/conda/lib/python3.11/site-packages (from aiohttp>=3.9.5) (23.1.0)\n",
      "Requirement already satisfied: frozenlist>=1.1.1 in /opt/conda/lib/python3.11/site-packages (from aiohttp>=3.9.5) (1.6.0)\n",
      "Requirement already satisfied: multidict<7.0,>=4.5 in /opt/conda/lib/python3.11/site-packages (from aiohttp>=3.9.5) (6.4.3)\n",
      "Requirement already satisfied: propcache>=0.2.0 in /opt/conda/lib/python3.11/site-packages (from aiohttp>=3.9.5) (0.3.1)\n",
      "Requirement already satisfied: yarl<2.0,>=1.17.0 in /opt/conda/lib/python3.11/site-packages (from aiohttp>=3.9.5) (1.20.0)\n",
      "Requirement already satisfied: pyyaml in /opt/conda/lib/python3.11/site-packages (from atlasopenmagic>=1.0.1) (6.0.1)\n",
      "Collecting awkward-cpp==47 (from awkward>=2.6.7)\n",
      "  Downloading awkward_cpp-47-cp311-cp311-manylinux_2_27_x86_64.manylinux_2_28_x86_64.whl.metadata (2.1 kB)\n",
      "Requirement already satisfied: importlib-metadata>=4.13.0 in /opt/conda/lib/python3.11/site-packages (from awkward>=2.6.7) (6.8.0)\n",
      "Requirement already satisfied: boost-histogram<1.6,>=1.3.1 in /opt/conda/lib/python3.11/site-packages (from hist>=2.8.0) (1.5.2)\n",
      "Requirement already satisfied: histoprint>=2.2.0 in /opt/conda/lib/python3.11/site-packages (from hist>=2.8.0) (2.6.0)\n",
      "Requirement already satisfied: comm>=0.1.1 in /opt/conda/lib/python3.11/site-packages (from ipykernel>=6.29.5) (0.1.4)\n",
      "Requirement already satisfied: debugpy>=1.6.5 in /opt/conda/lib/python3.11/site-packages (from ipykernel>=6.29.5) (1.8.0)\n",
      "INFO: pip is looking at multiple versions of ipykernel to determine which version is compatible with other requirements. This could take a while.\n",
      "Requirement already satisfied: matplotlib-inline>=0.1 in /opt/conda/lib/python3.11/site-packages (from ipykernel>=6.29.5) (0.1.6)\n",
      "Requirement already satisfied: psutil in /opt/conda/lib/python3.11/site-packages (from ipykernel>=6.29.5) (5.9.5)\n",
      "Requirement already satisfied: jupyter-console in /opt/conda/lib/python3.11/site-packages (from jupyter>=1.0.0) (6.6.3)\n",
      "Requirement already satisfied: ipywidgets in /opt/conda/lib/python3.11/site-packages (from jupyter>=1.0.0) (8.1.1)\n",
      "Requirement already satisfied: asteval>=1.0 in /opt/conda/lib/python3.11/site-packages (from lmfit>=1.3.2) (1.0.6)\n",
      "Requirement already satisfied: uncertainties>=3.2.2 in /opt/conda/lib/python3.11/site-packages (from lmfit>=1.3.2) (3.2.3)\n",
      "Requirement already satisfied: dill>=0.3.4 in /opt/conda/lib/python3.11/site-packages (from lmfit>=1.3.2) (0.3.7)\n",
      "Requirement already satisfied: contourpy>=1.0.1 in /opt/conda/lib/python3.11/site-packages (from matplotlib>=3.9.1) (1.1.1)\n",
      "Requirement already satisfied: cycler>=0.10 in /opt/conda/lib/python3.11/site-packages (from matplotlib>=3.9.1) (0.12.1)\n",
      "Requirement already satisfied: fonttools>=4.22.0 in /opt/conda/lib/python3.11/site-packages (from matplotlib>=3.9.1) (4.43.1)\n",
      "Requirement already satisfied: kiwisolver>=1.3.1 in /opt/conda/lib/python3.11/site-packages (from matplotlib>=3.9.1) (1.4.5)\n",
      "Requirement already satisfied: pillow>=8 in /opt/conda/lib/python3.11/site-packages (from matplotlib>=3.9.1) (10.4.0)\n",
      "Requirement already satisfied: pyparsing>=2.3.1 in /opt/conda/lib/python3.11/site-packages (from matplotlib>=3.9.1) (3.1.1)\n",
      "Requirement already satisfied: jedi>=0.18 in /opt/conda/lib/python3.11/site-packages (from metakernel>=0.30.2) (0.19.1)\n",
      "Requirement already satisfied: pexpect>=4.8 in /opt/conda/lib/python3.11/site-packages (from metakernel>=0.30.2) (4.8.0)\n",
      "Requirement already satisfied: pytz>=2020.1 in /opt/conda/lib/python3.11/site-packages (from pandas>=2.2.2) (2023.3.post1)\n",
      "Requirement already satisfied: tzdata>=2022.7 in /opt/conda/lib/python3.11/site-packages (from pandas>=2.2.2) (2023.3)\n",
      "Requirement already satisfied: click in /opt/conda/lib/python3.11/site-packages (from papermill>=2.6.0) (8.1.7)\n",
      "Requirement already satisfied: nbclient>=0.2.0 in /opt/conda/lib/python3.11/site-packages (from papermill>=2.6.0) (0.8.0)\n",
      "Requirement already satisfied: tenacity>=5.0.2 in /opt/conda/lib/python3.11/site-packages (from papermill>=2.6.0) (9.1.2)\n",
      "Requirement already satisfied: ansicolors in /opt/conda/lib/python3.11/site-packages (from papermill>=2.6.0) (1.1.8)\n",
      "Requirement already satisfied: joblib>=1.2.0 in /opt/conda/lib/python3.11/site-packages (from scikit-learn>=1.5.1) (1.3.2)\n",
      "Requirement already satisfied: threadpoolctl>=3.1.0 in /opt/conda/lib/python3.11/site-packages (from scikit-learn>=1.5.1) (3.2.0)\n",
      "Requirement already satisfied: cramjam>=2.5.0 in /opt/conda/lib/python3.11/site-packages (from uproot>=5.3.10) (2.10.0)\n",
      "Requirement already satisfied: xxhash in /opt/conda/lib/python3.11/site-packages (from uproot>=5.3.10) (3.5.0)\n",
      "Requirement already satisfied: awkward0 in /opt/conda/lib/python3.11/site-packages (from uproot3>=3.14.4) (0.15.5)\n",
      "Requirement already satisfied: uhi>=0.2.1 in /opt/conda/lib/python3.11/site-packages (from histoprint>=2.2.0->hist>=2.8.0) (0.5.0)\n",
      "Requirement already satisfied: zipp>=0.5 in /opt/conda/lib/python3.11/site-packages (from importlib-metadata>=4.13.0->awkward>=2.6.7) (3.17.0)\n",
      "Requirement already satisfied: backcall in /opt/conda/lib/python3.11/site-packages (from ipython->jupyterlab<4,>=3->jupyterlab_latex~=3.1.0) (0.2.0)\n",
      "Requirement already satisfied: decorator in /opt/conda/lib/python3.11/site-packages (from ipython->jupyterlab<4,>=3->jupyterlab_latex~=3.1.0) (5.1.1)\n",
      "Requirement already satisfied: pickleshare in /opt/conda/lib/python3.11/site-packages (from ipython->jupyterlab<4,>=3->jupyterlab_latex~=3.1.0) (0.7.5)\n",
      "Requirement already satisfied: prompt-toolkit!=3.0.37,<3.1.0,>=3.0.30 in /opt/conda/lib/python3.11/site-packages (from ipython->jupyterlab<4,>=3->jupyterlab_latex~=3.1.0) (3.0.39)\n",
      "Requirement already satisfied: pygments>=2.4.0 in /opt/conda/lib/python3.11/site-packages (from ipython->jupyterlab<4,>=3->jupyterlab_latex~=3.1.0) (2.16.1)\n"
     ]
    },
    {
     "name": "stdout",
     "output_type": "stream",
     "text": [
      "Requirement already satisfied: stack-data in /opt/conda/lib/python3.11/site-packages (from ipython->jupyterlab<4,>=3->jupyterlab_latex~=3.1.0) (0.6.2)\n",
      "Requirement already satisfied: wcwidth in /opt/conda/lib/python3.11/site-packages (from prompt-toolkit!=3.0.37,<3.1.0,>=3.0.30->ipython->jupyterlab<4,>=3->jupyterlab_latex~=3.1.0) (0.2.8)\n",
      "Requirement already satisfied: parso<0.9.0,>=0.8.3 in /opt/conda/lib/python3.11/site-packages (from jedi>=0.18->metakernel>=0.30.2) (0.8.3)\n",
      "Requirement already satisfied: MarkupSafe>=2.0 in /opt/conda/lib/python3.11/site-packages (from jinja2->notebook<7) (2.1.3)\n",
      "Requirement already satisfied: jsonschema-specifications>=2023.03.6 in /opt/conda/lib/python3.11/site-packages (from jsonschema>=4.18.0->jupyterlab-server~=2.19->jupyterlab<4,>=3->jupyterlab_latex~=3.1.0) (2023.7.1)\n",
      "Requirement already satisfied: referencing>=0.28.4 in /opt/conda/lib/python3.11/site-packages (from jsonschema>=4.18.0->jupyterlab-server~=2.19->jupyterlab<4,>=3->jupyterlab_latex~=3.1.0) (0.30.2)\n",
      "Requirement already satisfied: rpds-py>=0.7.1 in /opt/conda/lib/python3.11/site-packages (from jsonschema>=4.18.0->jupyterlab-server~=2.19->jupyterlab<4,>=3->jupyterlab_latex~=3.1.0) (0.10.6)\n",
      "Requirement already satisfied: platformdirs>=2.5 in /opt/conda/lib/python3.11/site-packages (from jupyter-core>=4.6.1->notebook<7) (3.11.0)\n",
      "Requirement already satisfied: python-json-logger>=2.0.4 in /opt/conda/lib/python3.11/site-packages (from jupyter-events>=0.5.0->jupyter-server-fileid<1,>=0.6.0->jupyter-server-ydoc~=0.8.0->jupyterlab<4,>=3->jupyterlab_latex~=3.1.0) (2.0.7)\n",
      "Requirement already satisfied: rfc3339-validator in /opt/conda/lib/python3.11/site-packages (from jupyter-events>=0.5.0->jupyter-server-fileid<1,>=0.6.0->jupyter-server-ydoc~=0.8.0->jupyterlab<4,>=3->jupyterlab_latex~=3.1.0) (0.1.4)\n",
      "Requirement already satisfied: rfc3986-validator>=0.1.1 in /opt/conda/lib/python3.11/site-packages (from jupyter-events>=0.5.0->jupyter-server-fileid<1,>=0.6.0->jupyter-server-ydoc~=0.8.0->jupyterlab<4,>=3->jupyterlab_latex~=3.1.0) (0.1.1)\n",
      "Requirement already satisfied: fqdn in /opt/conda/lib/python3.11/site-packages (from jsonschema[format-nongpl]>=4.18.0->jupyter-events>=0.5.0->jupyter-server-fileid<1,>=0.6.0->jupyter-server-ydoc~=0.8.0->jupyterlab<4,>=3->jupyterlab_latex~=3.1.0) (1.5.1)\n",
      "Requirement already satisfied: isoduration in /opt/conda/lib/python3.11/site-packages (from jsonschema[format-nongpl]>=4.18.0->jupyter-events>=0.5.0->jupyter-server-fileid<1,>=0.6.0->jupyter-server-ydoc~=0.8.0->jupyterlab<4,>=3->jupyterlab_latex~=3.1.0) (20.11.0)\n",
      "Requirement already satisfied: jsonpointer>1.13 in /opt/conda/lib/python3.11/site-packages (from jsonschema[format-nongpl]>=4.18.0->jupyter-events>=0.5.0->jupyter-server-fileid<1,>=0.6.0->jupyter-server-ydoc~=0.8.0->jupyterlab<4,>=3->jupyterlab_latex~=3.1.0) (2.4)\n",
      "Requirement already satisfied: uri-template in /opt/conda/lib/python3.11/site-packages (from jsonschema[format-nongpl]>=4.18.0->jupyter-events>=0.5.0->jupyter-server-fileid<1,>=0.6.0->jupyter-server-ydoc~=0.8.0->jupyterlab<4,>=3->jupyterlab_latex~=3.1.0) (1.3.0)\n",
      "Requirement already satisfied: webcolors>=1.11 in /opt/conda/lib/python3.11/site-packages (from jsonschema[format-nongpl]>=4.18.0->jupyter-events>=0.5.0->jupyter-server-fileid<1,>=0.6.0->jupyter-server-ydoc~=0.8.0->jupyterlab<4,>=3->jupyterlab_latex~=3.1.0) (1.13)\n",
      "Requirement already satisfied: mplhep-data>=0.0.4 in /opt/conda/lib/python3.11/site-packages (from mplhep>=0.1.18->coffea~=0.7.0) (0.0.4)\n",
      "Requirement already satisfied: notebook-shim>=0.2.3 in /opt/conda/lib/python3.11/site-packages (from nbclassic>=0.4.7->notebook<7) (0.2.3)\n",
      "Requirement already satisfied: beautifulsoup4 in /opt/conda/lib/python3.11/site-packages (from nbconvert>=5->notebook<7) (4.12.2)\n",
      "Requirement already satisfied: bleach!=5.0.0 in /opt/conda/lib/python3.11/site-packages (from nbconvert>=5->notebook<7) (6.1.0)\n",
      "Requirement already satisfied: defusedxml in /opt/conda/lib/python3.11/site-packages (from nbconvert>=5->notebook<7) (0.7.1)\n",
      "Requirement already satisfied: jupyterlab-pygments in /opt/conda/lib/python3.11/site-packages (from nbconvert>=5->notebook<7) (0.2.2)\n",
      "Requirement already satisfied: mistune<4,>=2.0.3 in /opt/conda/lib/python3.11/site-packages (from nbconvert>=5->notebook<7) (3.0.1)\n",
      "Requirement already satisfied: pandocfilters>=1.4.1 in /opt/conda/lib/python3.11/site-packages (from nbconvert>=5->notebook<7) (1.5.0)\n",
      "Requirement already satisfied: tinycss2 in /opt/conda/lib/python3.11/site-packages (from nbconvert>=5->notebook<7) (1.2.1)\n",
      "Requirement already satisfied: six>=1.9.0 in /opt/conda/lib/python3.11/site-packages (from bleach!=5.0.0->nbconvert>=5->notebook<7) (1.16.0)\n",
      "Requirement already satisfied: webencodings in /opt/conda/lib/python3.11/site-packages (from bleach!=5.0.0->nbconvert>=5->notebook<7) (0.5.1)\n",
      "Requirement already satisfied: fastjsonschema in /opt/conda/lib/python3.11/site-packages (from nbformat->notebook<7) (2.18.1)\n",
      "Requirement already satisfied: llvmlite<0.45,>=0.44.0dev0 in /opt/conda/lib/python3.11/site-packages (from numba>=0.50.0->coffea~=0.7.0) (0.44.0)\n",
      "Requirement already satisfied: ptyprocess>=0.5 in /opt/conda/lib/python3.11/site-packages (from pexpect>=4.8->metakernel>=0.30.2) (0.7.0)\n",
      "Requirement already satisfied: charset-normalizer<4,>=2 in /opt/conda/lib/python3.11/site-packages (from requests>=2.31->jupyterlab-server~=2.19->jupyterlab<4,>=3->jupyterlab_latex~=3.1.0) (3.3.0)\n",
      "Requirement already satisfied: urllib3<3,>=1.21.1 in /opt/conda/lib/python3.11/site-packages (from requests>=2.31->jupyterlab-server~=2.19->jupyterlab<4,>=3->jupyterlab_latex~=3.1.0) (2.0.7)\n",
      "Requirement already satisfied: certifi>=2017.4.17 in /opt/conda/lib/python3.11/site-packages (from requests>=2.31->jupyterlab-server~=2.19->jupyterlab<4,>=3->jupyterlab_latex~=3.1.0) (2025.4.26)\n",
      "Requirement already satisfied: argon2-cffi-bindings in /opt/conda/lib/python3.11/site-packages (from argon2-cffi->notebook<7) (21.2.0)\n",
      "Requirement already satisfied: cffi>=1.0.1 in /opt/conda/lib/python3.11/site-packages (from argon2-cffi-bindings->argon2-cffi->notebook<7) (1.16.0)\n",
      "Requirement already satisfied: pycparser in /opt/conda/lib/python3.11/site-packages (from cffi>=1.0.1->argon2-cffi-bindings->argon2-cffi->notebook<7) (2.21)\n",
      "Requirement already satisfied: soupsieve>1.2 in /opt/conda/lib/python3.11/site-packages (from beautifulsoup4->nbconvert>=5->notebook<7) (2.5)\n",
      "Requirement already satisfied: widgetsnbextension~=4.0.9 in /opt/conda/lib/python3.11/site-packages (from ipywidgets->jupyter>=1.0.0) (4.0.9)\n",
      "Requirement already satisfied: jupyterlab-widgets~=3.0.9 in /opt/conda/lib/python3.11/site-packages (from ipywidgets->jupyter>=1.0.0) (3.0.9)\n",
      "Requirement already satisfied: arrow>=0.15.0 in /opt/conda/lib/python3.11/site-packages (from isoduration->jsonschema[format-nongpl]>=4.18.0->jupyter-events>=0.5.0->jupyter-server-fileid<1,>=0.6.0->jupyter-server-ydoc~=0.8.0->jupyterlab<4,>=3->jupyterlab_latex~=3.1.0) (1.3.0)\n",
      "Requirement already satisfied: types-python-dateutil>=2.8.10 in /opt/conda/lib/python3.11/site-packages (from arrow>=0.15.0->isoduration->jsonschema[format-nongpl]>=4.18.0->jupyter-events>=0.5.0->jupyter-server-fileid<1,>=0.6.0->jupyter-server-ydoc~=0.8.0->jupyterlab<4,>=3->jupyterlab_latex~=3.1.0) (2.8.19.14)\n",
      "Requirement already satisfied: executing>=1.2.0 in /opt/conda/lib/python3.11/site-packages (from stack-data->ipython->jupyterlab<4,>=3->jupyterlab_latex~=3.1.0) (1.2.0)\n",
      "Requirement already satisfied: asttokens>=2.1.0 in /opt/conda/lib/python3.11/site-packages (from stack-data->ipython->jupyterlab<4,>=3->jupyterlab_latex~=3.1.0) (2.4.0)\n",
      "Requirement already satisfied: pure-eval in /opt/conda/lib/python3.11/site-packages (from stack-data->ipython->jupyterlab<4,>=3->jupyterlab_latex~=3.1.0) (0.2.2)\n",
      "Downloading aiohttp-3.12.14-cp311-cp311-manylinux_2_17_x86_64.manylinux2014_x86_64.whl (1.7 MB)\n",
      "\u001b[2K   \u001b[90m━━━━━━━━━━━━━━━━━━━━━━━━━━━━━━━━━━━━━━━━\u001b[0m \u001b[32m1.7/1.7 MB\u001b[0m \u001b[31m82.7 MB/s\u001b[0m eta \u001b[36m0:00:00\u001b[0m\n",
      "\u001b[?25hDownloading atlasopenmagic-1.0.1-py3-none-any.whl (15 kB)\n",
      "Downloading awkward-2.8.5-py3-none-any.whl (886 kB)\n",
      "\u001b[2K   \u001b[90m━━━━━━━━━━━━━━━━━━━━━━━━━━━━━━━━━━━━━━━━\u001b[0m \u001b[32m886.8/886.8 kB\u001b[0m \u001b[31m40.5 MB/s\u001b[0m eta \u001b[36m0:00:00\u001b[0m\n",
      "\u001b[?25hDownloading awkward_cpp-47-cp311-cp311-manylinux_2_27_x86_64.manylinux_2_28_x86_64.whl (638 kB)\n",
      "\u001b[2K   \u001b[90m━━━━━━━━━━━━━━━━━━━━━━━━━━━━━━━━━━━━━━━\u001b[0m \u001b[32m638.8/638.8 kB\u001b[0m \u001b[31m111.4 MB/s\u001b[0m eta \u001b[36m0:00:00\u001b[0m\n"
     ]
    },
    {
     "name": "stdout",
     "output_type": "stream",
     "text": [
      "\u001b[?25hDownloading lmfit-1.3.4-py3-none-any.whl (97 kB)\n",
      "Downloading matplotlib-3.10.3-cp311-cp311-manylinux_2_17_x86_64.manylinux2014_x86_64.whl (8.6 MB)\n",
      "\u001b[2K   \u001b[90m━━━━━━━━━━━━━━━━━━━━━━━━━━━━━━━━━━━━━━━━\u001b[0m \u001b[32m8.6/8.6 MB\u001b[0m \u001b[31m32.3 MB/s\u001b[0m eta \u001b[36m0:00:00\u001b[0ma \u001b[36m0:00:01\u001b[0m\n",
      "\u001b[?25hDownloading pandas-2.3.1-cp311-cp311-manylinux_2_17_x86_64.manylinux2014_x86_64.whl (12.4 MB)\n",
      "\u001b[2K   \u001b[90m━━━━━━━━━━━━━━━━━━━━━━━━━━━━━━━━━━━━━━━━\u001b[0m \u001b[32m12.4/12.4 MB\u001b[0m \u001b[31m36.6 MB/s\u001b[0m eta \u001b[36m0:00:00\u001b[0m \u001b[36m0:00:01\u001b[0m\n",
      "\u001b[?25hDownloading scikit_learn-1.7.1-cp311-cp311-manylinux2014_x86_64.manylinux_2_17_x86_64.whl (9.7 MB)\n",
      "\u001b[2K   \u001b[90m━━━━━━━━━━━━━━━━━━━━━━━━━━━━━━━━━━━━━━━━\u001b[0m \u001b[32m9.7/9.7 MB\u001b[0m \u001b[31m27.2 MB/s\u001b[0m eta \u001b[36m0:00:00\u001b[0ma \u001b[36m0:00:01\u001b[0m\n",
      "\u001b[?25hDownloading uproot-5.6.3-py3-none-any.whl (382 kB)\n",
      "Downloading vector-1.6.3-py3-none-any.whl (179 kB)\n",
      "Downloading aiosignal-1.4.0-py3-none-any.whl (7.5 kB)\n",
      "Installing collected packages: vector, awkward-cpp, aiosignal, scikit-learn, pandas, matplotlib, lmfit, awkward, atlasopenmagic, aiohttp, uproot\n",
      "\u001b[2K   \u001b[90m━━━━━━━━━━━━━━━━━━━━━━━━━━━━━━━━━━━━━━━━\u001b[0m \u001b[32m11/11\u001b[0m [uproot]10/11\u001b[0m [uproot]]ib]n]\n",
      "\u001b[1A\u001b[2KSuccessfully installed aiohttp-3.12.14 aiosignal-1.4.0 atlasopenmagic-1.0.1 awkward-2.8.5 awkward-cpp-47 lmfit-1.3.4 matplotlib-3.10.3 pandas-2.3.1 scikit-learn-1.7.1 uproot-5.6.3 vector-1.6.3\n"
     ]
    }
   ],
   "source": [
    "import sys\n",
    "import os.path\n",
    "!pip install atlasopenmagic\n",
    "from atlasopenmagic import install_from_environment\n",
    "install_from_environment()"
   ]
  },
  {
   "cell_type": "markdown",
   "metadata": {},
   "source": [
    "We're going to import a number of packages to help us:\n",
    "\n",
    "* `numpy`: provides numerical calculations such as histogramming\n",
    "\n",
    "* `matplotlib`: common tool for making plots, figures, images, visualisations\n",
    "\n",
    "* `uproot`: processes .root files typically used in particle physics into data formats used in python\n",
    "\n",
    "* `awkward`: introduces awkward arrays, a format that generalizes numpy to nested data with possibly variable length lists\n",
    "\n",
    "* `vector`: to allow vectorized 4-momentum calculations\n",
    "\n",
    "In case these imports fail, try restarting the jupyter kernel and running again; it may simply be that the modules we installed in the previous cell have not yet been fully loaded."
   ]
  },
  {
   "cell_type": "code",
   "execution_count": 2,
   "metadata": {},
   "outputs": [],
   "source": [
    "import numpy as np # for numerical calculations such as histogramming\n",
    "import matplotlib.pyplot as plt # for plotting\n",
    "import matplotlib_inline # to edit the inline plot format\n",
    "from matplotlib.ticker import AutoMinorLocator # for minor ticks\n",
    "import uproot # for reading .root files\n",
    "import awkward as ak # to represent nested data in columnar format\n",
    "import vector # for 4-momentum calculations\n",
    "import time # for printing time stamps\n",
    "import requests # for file gathering, if needed; for HTTP access\n",
    "from scipy.spatial import cKDTree # for making combinations in particle matching\n",
    "from scipy.stats import norm # for gaussian distribution fit"
   ]
  },
  {
   "cell_type": "code",
   "execution_count": 3,
   "metadata": {},
   "outputs": [],
   "source": [
    "# Get the files locally, rather than streaming the data (easier on the upstream servers)\n",
    "local_files = True"
   ]
  },
  {
   "cell_type": "markdown",
   "metadata": {},
   "source": [
    "Unit definitions, as stored in the data files:"
   ]
  },
  {
   "cell_type": "code",
   "execution_count": 4,
   "metadata": {},
   "outputs": [],
   "source": [
    "MeV = 0.001\n",
    "GeV = 1.0"
   ]
  },
  {
   "cell_type": "markdown",
   "metadata": {},
   "source": [
    "To reinforce the ideas of detector and particle resolution, we will apply these concepts by looking at data from ATLAS experiments. We will use the [atlasopenmagic](https://opendata.atlas.cern/docs/data/atlasopenmagic) package to access the open data directly from the ATLAS OpenData Portal. The first step is import the module and load the release."
   ]
  },
  {
   "cell_type": "code",
   "execution_count": 5,
   "metadata": {},
   "outputs": [
    {
     "name": "stdout",
     "output_type": "stream",
     "text": [
      "{'2016e-8tev': '2016 Open Data for education release for 8 TeV proton-proton '\n",
      "               'collisions (https://opendata.cern/record/3860).',\n",
      " '2024r-pp': '2024 Open Data for research release for proton-proton collisions '\n",
      "             '(https://opendata.cern/record/80020).',\n",
      " '2025e-13tev-beta': '2025 Open Data for education and outreach beta release '\n",
      "                     'for 13 TeV proton-proton collisions '\n",
      "                     '(https://opendata.cern.ch/record/93910).'}\n"
     ]
    }
   ],
   "source": [
    "# ATLAS Open Data directory\n",
    "import atlasopenmagic as atom\n",
    "atom.available_releases()\n",
    "atom.set_release('2025e-13tev-beta')"
   ]
  },
  {
   "cell_type": "markdown",
   "metadata": {},
   "source": [
    "For convenient naming and identification purposes, we define a dictionary which stores all the important names of the samples we want to pull from the database for this case study. The datset ID's can be found here on [this page](https://opendata.atlas.cern/docs/data/for_education/13TeV25_metadata)."
   ]
  },
  {
   "cell_type": "code",
   "execution_count": 6,
   "metadata": {
    "scrolled": true
   },
   "outputs": [],
   "source": [
    "mc_defs = {\n",
    "    r'mu_mu': {'dids': [700323,700324,700325]},\n",
    "    r'e_e': {'dids': [700320,700321,700322]},\n",
    "    r'jets': {'dids': [364703,364706]},\n",
    "}"
   ]
  },
  {
   "cell_type": "markdown",
   "metadata": {},
   "source": [
    "# Case Study 1: Muon and Electron Resolution"
   ]
  },
  {
   "cell_type": "markdown",
   "metadata": {},
   "source": [
    "For our first case study, we would like to explore the resolution of muon and electron reconstruction. We start by first choosing a `skim` for our analysis, which places cuts into our data. In this case, we will use the `2to4lep` skim and apply this into our dataset."
   ]
  },
  {
   "cell_type": "code",
   "execution_count": 8,
   "metadata": {},
   "outputs": [
    {
     "data": {
      "text/plain": [
       "dict_keys(['Data', 'mu_mu', 'e_e', 'jets'])"
      ]
     },
     "execution_count": 8,
     "metadata": {},
     "output_type": "execute_result"
    }
   ],
   "source": [
    "# Select the skim to use for the analysis\n",
    "skim1 = \"2to4lep\"\n",
    "\n",
    "mc_samples   = atom.build_mc_dataset(mc_defs, skim1, protocol='https')\n",
    "data_samples = atom.build_data_dataset(skim1, protocol='https')\n",
    "\n",
    "samples = {**data_samples, **mc_samples}\n",
    "samples.keys()"
   ]
  },
  {
   "cell_type": "markdown",
   "metadata": {},
   "source": [
    "Let's try accessing the first file in the `mu_mu` dataset as an example."
   ]
  },
  {
   "cell_type": "code",
   "execution_count": 9,
   "metadata": {},
   "outputs": [
    {
     "name": "stdout",
     "output_type": "stream",
     "text": [
      "value = 'https://opendata.cern.ch//eos/opendata/atlas/rucio/opendata/ODEO_FEB2025_v0_2to4lep_mc_700323.Sh_2211_Zmumu_maxHTpTV2_BFilter.2to4lep.root'\n"
     ]
    }
   ],
   "source": [
    "# We will use the first entry in 'list', from the 'mu_mu' dataset\n",
    "value = samples['mu_mu']['list'][0]\n",
    "print(f\"{value = }\")\n",
    "\n",
    "# We can keep this file URL to peek into it and understanding what our data looks like\n",
    "mu_mu_file = value"
   ]
  },
  {
   "cell_type": "markdown",
   "metadata": {},
   "source": [
    "The output `value` gives the URL link to the first sample in the `mu_mu` dataset (700323). This sample is stored in `mu_mu_file` and will be the one of the samples that we will use throughout this case study. We now want to open this file to see what's inside. The file contains a `tree`, which contains multiple entries, each representing an event. For each event, a dictionary stores all relevant information with keys, such as the event number (`eventNumber`), the photon transverse momentum (`photon_pt`), and more. (More information on trees can be viewed [here](https://notebooks.githubusercontent.com/view/%22https://masonproffitt.github.io/uproot-tutorial/03-trees/index.html%22).)"
   ]
  },
  {
   "cell_type": "code",
   "execution_count": 10,
   "metadata": {},
   "outputs": [
    {
     "name": "stdout",
     "output_type": "stream",
     "text": [
      "Downloading https://opendata.cern.ch//eos/opendata/atlas/rucio/opendata/ODEO_FEB2025_v0_2to4lep_mc_700323.Sh_2211_Zmumu_maxHTpTV2_BFilter.2to4lep.root to ODEO_FEB2025_v0_2to4lep_mc_700323.Sh_2211_Zmumu_maxHTpTV2_BFilter.2to4lep.root ...\n",
      "\n",
      " The number of entries in the tree are: 2437801\n",
      "\n",
      " The number of variables in the tree is: 116\n"
     ]
    }
   ],
   "source": [
    "# Accessing the file from the online database (\":analysis\" opens the tree in a desired manner)\n",
    "if local_files:\n",
    "    \n",
    "    # Download the file, use a local copy\n",
    "    local_filename = mu_mu_file.split(\"/\")[-1]\n",
    "    print(f\"Downloading {mu_mu_file} to {local_filename} ...\")\n",
    "    \n",
    "    with requests.get(mu_mu_file, stream=True) as r:\n",
    "        r.raise_for_status()\n",
    "        with open(local_filename, \"wb\") as f:\n",
    "            for chunk in r.iter_content(chunk_size=8192):\n",
    "                f.write(chunk)\n",
    "                \n",
    "    tree = uproot.open(local_filename + \":analysis\")\n",
    "else: # Stream files\n",
    "    tree = uproot.open(mu_mu_file + \":analysis\")\n",
    "    \n",
    "# The number of entries in the tree can be viewed\n",
    "print(\"\\n The number of entries in the tree are:\", tree.num_entries)\n",
    "\n",
    "# The number of variables in the tree can be viewed\n",
    "print(\"\\n The number of variables in the tree is:\", len(tree.keys()))"
   ]
  },
  {
   "cell_type": "markdown",
   "metadata": {},
   "source": [
    "*Whoa*---that's a lot of entries and variables! Thankfully, we will only need very few variables in this analysis. A list of all the variables can be found [here](https://opendata.atlas.cern/docs/data/for_education/13TeV25_details#variable-list). As we go along through this notebook, we will take the ones that we need from this list.\n",
    "\n",
    "Now that we understand how to access the information in this `tree`, we can begin the analysis. "
   ]
  },
  {
   "cell_type": "markdown",
   "metadata": {},
   "source": [
    "## A. Muon Resolution"
   ]
  },
  {
   "cell_type": "markdown",
   "metadata": {},
   "source": [
    "Let us first consider muon resolution. For this part of the analysis, we will first need the following variables:\n",
    "\n",
    "* `truth_muon_pt`: transverse momentum of the truth muons\n",
    "\n",
    "* `truth_muon_eta`: pseudo-rapidity of the truth muons\n",
    "\n",
    "* `truth_muon_phi`: azimuthal angle of the truth muons\n",
    "\n",
    "The following block of code allows us to take these variables from the `tree`."
   ]
  },
  {
   "cell_type": "code",
   "execution_count": 11,
   "metadata": {},
   "outputs": [],
   "source": [
    "# Define what variables are important to our analysis\n",
    "muon_variables = ['truth_muon_pt', 'truth_muon_eta', 'truth_muon_phi']\n",
    "\n",
    "# To see all the data for our given variables\n",
    "tree.iterate(muon_variables, library=\"ak\");"
   ]
  },
  {
   "cell_type": "markdown",
   "metadata": {},
   "source": [
    "Now that we have taken the variables we need from the `tree`, we now have to create an array for each variable to store the values of each variable."
   ]
  },
  {
   "cell_type": "code",
   "execution_count": 12,
   "metadata": {},
   "outputs": [],
   "source": [
    "for array in tree.iterate(muon_variables, library=\"ak\"):\n",
    "    # Creating arrays for truth_muon_pt, truth_muon_eta, and truth_muon_phi variables\n",
    "    truth_muon_pt = array[\"truth_muon_pt\"]\n",
    "    truth_muon_eta = array[\"truth_muon_eta\"]\n",
    "    truth_muon_phi = array[\"truth_muon_phi\"]"
   ]
  },
  {
   "cell_type": "markdown",
   "metadata": {},
   "source": [
    "These three arrays contain the values of their respective variables in an event-by-event basis, as we can see by printing out the first 5 entries of the `muon_pt` array:"
   ]
  },
  {
   "cell_type": "code",
   "execution_count": 13,
   "metadata": {
    "scrolled": true
   },
   "outputs": [
    {
     "name": "stdout",
     "output_type": "stream",
     "text": [
      "muon_pt: [[58.5, 97.8], [84, 29.6], [43.3, 56.7], [184, 44.2], [32.7, 61.2]]\n"
     ]
    }
   ],
   "source": [
    "print(\"muon_pt:\", truth_muon_pt[:5])"
   ]
  },
  {
   "cell_type": "markdown",
   "metadata": {},
   "source": [
    "This is an array that contains sub-arrays, where each sub-array represents an event and contains the values of the transverse momentum for each muon in that event. Since we want to look at every muon across all events, it is more convenient to create new arrays that contains all of these values as one big list (that is, without the sub-arrays). This can be done by applying `ak.flatten` to each array."
   ]
  },
  {
   "cell_type": "code",
   "execution_count": 14,
   "metadata": {},
   "outputs": [],
   "source": [
    "# Flatten to treat all muons across all events as one big list\n",
    "muon_pt_flat = ak.flatten(truth_muon_pt)\n",
    "muon_eta_flat = ak.flatten(truth_muon_eta)\n",
    "muon_phi_flat = ak.flatten(truth_muon_phi)"
   ]
  },
  {
   "cell_type": "markdown",
   "metadata": {},
   "source": [
    "Let us now look at the first 10 entries of the `muon_pt_flat` array:"
   ]
  },
  {
   "cell_type": "code",
   "execution_count": 15,
   "metadata": {
    "scrolled": true
   },
   "outputs": [
    {
     "name": "stdout",
     "output_type": "stream",
     "text": [
      "muon_pt_flat: [58.5, 97.8, 84, 29.6, 43.3, 56.7, 184, 44.2, 32.7, 61.2]\n"
     ]
    }
   ],
   "source": [
    "print(\"muon_pt_flat:\", muon_pt_flat[:10])"
   ]
  },
  {
   "cell_type": "markdown",
   "metadata": {},
   "source": [
    "We now see that these are the first 10 values listed as in the `muon_pt` array, but without the sub-arrays."
   ]
  },
  {
   "cell_type": "markdown",
   "metadata": {},
   "source": [
    "### 📊 Muon Resolution between 30 and 50 GeV\n",
    "\n",
    "Let us first consider the resolution of muons with transverse momentum $p_T$ between 30 and 50 GeV. We can select these muons by applying a `mask` to the arrays we have just made."
   ]
  },
  {
   "cell_type": "code",
   "execution_count": 16,
   "metadata": {},
   "outputs": [],
   "source": [
    "muon_pt_mask = (muon_pt_flat > 30) & (muon_pt_flat < 50)\n",
    "\n",
    "muon_masked_pt = muon_pt_flat[muon_pt_mask]\n",
    "muon_masked_eta = muon_eta_flat[muon_pt_mask]\n",
    "muon_masked_phi = muon_phi_flat[muon_pt_mask]"
   ]
  },
  {
   "cell_type": "markdown",
   "metadata": {},
   "source": [
    "We now want to find a truth muon that *matches* a reconstructed muon. To this end, we will need the following reconstructed lepton variables:\n",
    "\n",
    "* `lep_pt`: transverse momentum of the lepton\n",
    "\n",
    "* `lep_eta`: pseudo-rapidity of the lepton\n",
    "\n",
    "* `lep_phi`: azimuthal angle of the lepton\n",
    "\n",
    "* `lep_type`: number signifying the lepton type (11 for electrons and 13 for muons)\n",
    "\n",
    "Just as we did for the truth muon variables, we will take these variables from the `tree`, create an `ak` array for each variable, and then flatten them using `ak.flatten`."
   ]
  },
  {
   "cell_type": "code",
   "execution_count": 17,
   "metadata": {},
   "outputs": [],
   "source": [
    "# Define what variables are important to our analysis\n",
    "lep_variables = ['lep_pt', 'lep_eta', 'lep_phi', 'lep_type']\n",
    "\n",
    "# To see all the data for our given variables\n",
    "tree.iterate(lep_variables, library=\"ak\");"
   ]
  },
  {
   "cell_type": "code",
   "execution_count": 18,
   "metadata": {},
   "outputs": [],
   "source": [
    "for array in tree.iterate(lep_variables, library=\"ak\"):\n",
    "    # Creating arrays for truth_muon_pt, truth_muon_eta, and truth_muon_phi variables\n",
    "    lep_pt = array[\"lep_pt\"]\n",
    "    lep_eta = array[\"lep_eta\"]\n",
    "    lep_phi = array[\"lep_phi\"]\n",
    "    lep_type = array[\"lep_type\"]"
   ]
  },
  {
   "cell_type": "code",
   "execution_count": 19,
   "metadata": {},
   "outputs": [],
   "source": [
    "# Flatten to treat all muons across all events as one big list\n",
    "lep_pt_flat = ak.flatten(lep_pt)\n",
    "lep_eta_flat = ak.flatten(lep_eta)\n",
    "lep_phi_flat = ak.flatten(lep_phi)\n",
    "lep_type_flat = ak.flatten(lep_type)"
   ]
  },
  {
   "cell_type": "markdown",
   "metadata": {},
   "source": [
    "These arrays that we have made contain values for leptons, that is, muons *and* electrons. Since we only want to consider muons for this part of the analysis, we can use the `lep_type_flat` array we have made to create a `mask` that selects the values for only muons for each array."
   ]
  },
  {
   "cell_type": "code",
   "execution_count": 20,
   "metadata": {},
   "outputs": [],
   "source": [
    "# Create a mask to select only muons (13)\n",
    "muon_mask = (lep_type_flat) == 13\n",
    "\n",
    "# Apply the mask to each array\n",
    "lep_muon_pt = lep_pt_flat[muon_mask]\n",
    "lep_muon_eta = lep_eta_flat[muon_mask]\n",
    "lep_muon_phi = lep_phi_flat[muon_mask]"
   ]
  },
  {
   "cell_type": "markdown",
   "metadata": {},
   "source": [
    "The following function, called `matched`, tries to find a truth muon that matches to a reconstructed muon. The $p_T$ of each truth muon that has been matched will also be stored in a new array called `matched_truth_pt`, and the $p_T$ of each reconstructed muon associated with the matched truth muon is stored in a new array called `matched_reco_pt`. This function is taken from this [notebook](https://opendata.atlas.cern/docs/13TeV25Doc/13tutorial#detector-acceptance-and-efficiency-new) on detector acceptance and efficiency; more information on reconstruction and matching can be found there."
   ]
  },
  {
   "cell_type": "code",
   "execution_count": 21,
   "metadata": {},
   "outputs": [],
   "source": [
    "def matched(truth_pt, truth_eta, truth_phi, lep_pt, lep_eta, lep_phi, dr_threshold=0.1):\n",
    "    \n",
    "    # Step 1: Wrap phi values into [-π, π] for consistent Δφ calculation\n",
    "    def wrap_phi(phi_array):\n",
    "        wrapped = []\n",
    "        for phi in phi_array:\n",
    "            while phi > np.pi:     # If phi > pi, keep subtracting 2pi until it is within -pi to +pi\n",
    "                phi -= 2 * np.pi\n",
    "            while phi < -np.pi:    # If phi < -pi, keep adding 2pi until it is within -pi to +pi\n",
    "                phi += 2 * np.pi\n",
    "            wrapped.append(phi)\n",
    "        return np.array(wrapped)\n",
    "\n",
    "    truth_phi = wrap_phi(truth_phi)\n",
    "    lep_phi   = wrap_phi(lep_phi)\n",
    "    \n",
    "    # Step 2: Build KDTree from truth lepton η–φ coordinates\n",
    "    truth_tree = cKDTree(np.column_stack((truth_eta, truth_phi)))\n",
    "    \n",
    "    # Step 3: Query nearest truth lepton for each reconstructed lepton\n",
    "    distances, indices = truth_tree.query(\n",
    "        np.column_stack((lep_eta, lep_phi)),\n",
    "        distance_upper_bound=dr_threshold)\n",
    "\n",
    "    matched_truth_indices = []\n",
    "    matched_lepton_indices = []\n",
    "    matched_truths = set()\n",
    "    \n",
    "    # Step 4: Track one-to-one matches (no duplicate truth matches)\n",
    "    for lep_idx, (dR, truth_idx) in enumerate(zip(distances, indices)):\n",
    "        if dR != np.inf and truth_idx not in matched_truths:\n",
    "            matched_lepton_indices.append(lep_idx)\n",
    "            matched_truth_indices.append(truth_idx)\n",
    "            matched_truths.add(truth_idx)\n",
    "            \n",
    "    # Step 5: Extract matched muons pT\n",
    "    matched_truth_pt = truth_pt[matched_truth_indices]\n",
    "    matched_reco_pt  = lep_pt[matched_lepton_indices]\n",
    "\n",
    "    return matched_truth_pt, matched_reco_pt"
   ]
  },
  {
   "cell_type": "markdown",
   "metadata": {},
   "source": [
    "We now call our function in the following way to create $p_T$ arrays for the matched truth muons and their corresponding reconstructed muon:"
   ]
  },
  {
   "cell_type": "code",
   "execution_count": 22,
   "metadata": {},
   "outputs": [],
   "source": [
    "matched_truth_pt, matched_reco_pt = matched(muon_masked_pt, muon_masked_eta, muon_masked_phi, lep_muon_pt, lep_muon_eta, lep_muon_phi)"
   ]
  },
  {
   "cell_type": "markdown",
   "metadata": {},
   "source": [
    "We now make the following histogram."
   ]
  },
  {
   "cell_type": "code",
   "execution_count": 23,
   "metadata": {
    "scrolled": false
   },
   "outputs": [
    {
     "data": {
      "image/png": "[encoded data removed]",
      "text/plain": [
       "<Figure size 640x480 with 1 Axes>"
      ]
     },
     "metadata": {},
     "output_type": "display_data"
    }
   ],
   "source": [
    "# Data to plot on histogram\n",
    "muon_diff = (matched_reco_pt - matched_truth_pt) / matched_truth_pt\n",
    "\n",
    "# Set bin size\n",
    "bins = np.linspace(-0.1, 0.1, 50)  # 10 bins from 0 to 50 GeV (bin size = 5 GeV)\n",
    "\n",
    "# Plot histograms\n",
    "plt.hist(muon_diff, bins=bins, histtype='step', linewidth=1.5, label='muon_diff')\n",
    "\n",
    "# Set x-axis range\n",
    "plt.xlim(-0.1, 0.1)\n",
    "\n",
    "# Add labels and legend\n",
    "plt.xlabel(r'$(p_T^{\\mathrm{reco}} - p_T^{\\mathrm{true}}) / p_T^{\\mathrm{true}}$')\n",
    "plt.ylabel('Counts')\n",
    "plt.title(r'Relative $p_T$ Resolution of Matched Muons in $Z \\to \\mu \\mu$')\n",
    "plt.legend()\n",
    "\n",
    "plt.show()"
   ]
  },
  {
   "cell_type": "markdown",
   "metadata": {},
   "source": [
    "We now want to fit a Gaussian to this distribution."
   ]
  },
  {
   "cell_type": "code",
   "execution_count": 24,
   "metadata": {
    "scrolled": true
   },
   "outputs": [
    {
     "name": "stdout",
     "output_type": "stream",
     "text": [
      "Fit within [-0.1, 0.1]:  Mean = -0.0015,  Sigma = 0.0291\n"
     ]
    }
   ],
   "source": [
    "# Apply a fit range mask: e.g., only keep values between -0.1 and 0.1\n",
    "fit_range_mask = (muon_diff > -0.1) & (muon_diff < 0.1)\n",
    "muon_diff_core = muon_diff[fit_range_mask]\n",
    "\n",
    "# Now fit a Gaussian to just the core region\n",
    "mu, sigma = norm.fit(muon_diff_core)\n",
    "\n",
    "# Print the result\n",
    "print(f\"Fit within [-0.1, 0.1]:  Mean = {mu:.4f},  Sigma = {sigma:.4f}\")"
   ]
  },
  {
   "cell_type": "markdown",
   "metadata": {},
   "source": [
    "### 📊 Muon Resolution for Various $p_T$ Ranges\n",
    "\n",
    "We considered only a 30-50 GeV selection on the truth muons. Let us now consider making other selections, such as the following:\n",
    "\n",
    "* 50-100 GeV\n",
    "\n",
    "* 200-300 GeV\n",
    "\n",
    "* 500-700 GeV\n",
    "\n",
    "* 700-1000 GeV"
   ]
  },
  {
   "cell_type": "code",
   "execution_count": 25,
   "metadata": {},
   "outputs": [],
   "source": [
    "muon_pt_mask1 = (muon_pt_flat > 50) & (muon_pt_flat < 100)\n",
    "\n",
    "muon_masked1_pt = muon_pt_flat[muon_pt_mask1]\n",
    "muon_masked1_eta = muon_eta_flat[muon_pt_mask1]\n",
    "muon_masked1_phi = muon_phi_flat[muon_pt_mask1]\n",
    "\n",
    "\n",
    "muon_pt_mask2 = (muon_pt_flat > 100) & (muon_pt_flat < 200)\n",
    "\n",
    "muon_masked2_pt = muon_pt_flat[muon_pt_mask2]\n",
    "muon_masked2_eta = muon_eta_flat[muon_pt_mask2]\n",
    "muon_masked2_phi = muon_phi_flat[muon_pt_mask2]\n",
    "\n",
    "\n",
    "muon_pt_mask3 = (muon_pt_flat > 300) & (muon_pt_flat < 500)\n",
    "\n",
    "muon_masked3_pt = muon_pt_flat[muon_pt_mask3]\n",
    "muon_masked3_eta = muon_eta_flat[muon_pt_mask3]\n",
    "muon_masked3_phi = muon_phi_flat[muon_pt_mask3]\n",
    "\n",
    "\n",
    "muon_pt_mask4 = (muon_pt_flat > 500) & (muon_pt_flat < 700)\n",
    "\n",
    "muon_masked4_pt = muon_pt_flat[muon_pt_mask4]\n",
    "muon_masked4_eta = muon_eta_flat[muon_pt_mask4]\n",
    "muon_masked4_phi = muon_phi_flat[muon_pt_mask4]"
   ]
  },
  {
   "cell_type": "code",
   "execution_count": 26,
   "metadata": {},
   "outputs": [],
   "source": [
    "matched_pt1, lep_matched_pt1 = matched(muon_masked1_pt, muon_masked1_eta, muon_masked1_phi, lep_muon_pt, lep_muon_eta, lep_muon_phi)"
   ]
  },
  {
   "cell_type": "code",
   "execution_count": 27,
   "metadata": {},
   "outputs": [],
   "source": [
    "matched_pt2, lep_matched_pt2 = matched(muon_masked2_pt, muon_masked2_eta, muon_masked2_phi, lep_muon_pt, lep_muon_eta, lep_muon_phi)"
   ]
  },
  {
   "cell_type": "code",
   "execution_count": 28,
   "metadata": {},
   "outputs": [],
   "source": [
    "matched_pt3, lep_matched_pt3 = matched(muon_masked3_pt, muon_masked3_eta, muon_masked3_phi, lep_muon_pt, lep_muon_eta, lep_muon_phi)"
   ]
  },
  {
   "cell_type": "code",
   "execution_count": 29,
   "metadata": {},
   "outputs": [],
   "source": [
    "matched_pt4, lep_matched_pt4 = matched(muon_masked4_pt, muon_masked4_eta, muon_masked4_phi, lep_muon_pt, lep_muon_eta, lep_muon_phi)"
   ]
  },
  {
   "cell_type": "markdown",
   "metadata": {},
   "source": [
    "To see these distributions more clearly, we can normalize them all so that the area under their curves are equal to one. This is done by simply including `density=True` for each `plt.hist`."
   ]
  },
  {
   "cell_type": "code",
   "execution_count": 30,
   "metadata": {},
   "outputs": [
    {
     "data": {
      "image/png": "[encoded data removed]",
      "text/plain": [
       "<Figure size 640x480 with 1 Axes>"
      ]
     },
     "metadata": {},
     "output_type": "display_data"
    }
   ],
   "source": [
    "# Data to plot on histogram\n",
    "muon_diff1 = (lep_matched_pt1 - matched_pt1) / matched_pt1\n",
    "muon_diff2 = (lep_matched_pt2 - matched_pt2) / matched_pt2\n",
    "muon_diff3 = (lep_matched_pt3 - matched_pt3) / matched_pt3\n",
    "muon_diff4 = (lep_matched_pt4 - matched_pt4) / matched_pt4\n",
    "\n",
    "# Set bin size\n",
    "bins = np.linspace(-0.1, 0.1, 50)  # 10 bins from 0 to 50 GeV (bin size = 5 GeV)\n",
    "\n",
    "# Plot histograms with density=True to normalize by area (integral)\n",
    "plt.hist(muon_diff1, bins=bins, histtype='step', linewidth=1.5, density=True, label='muon_diff1 (50-100 GeV)')\n",
    "plt.hist(muon_diff2, bins=bins, histtype='step', linewidth=1.5, density=True, label='muon_diff2 (200-300 GeV)')\n",
    "plt.hist(muon_diff3, bins=bins, histtype='step', linewidth=1.5, density=True, label='muon_diff3 (500-700 GeV)')\n",
    "plt.hist(muon_diff4, bins=bins, histtype='step', linewidth=1.5, density=True, label='muon_diff4 (700-1000 GeV)')\n",
    "\n",
    "# Set x-axis range\n",
    "plt.xlim(-0.1, 0.1)\n",
    "\n",
    "# Add labels and legend\n",
    "plt.xlabel(r'$(p_T^{\\mathrm{reco}} - p_T^{\\mathrm{true}}) / p_T^{\\mathrm{true}}$')\n",
    "plt.ylabel('Counts')\n",
    "plt.title(r'Relative $p_T$ Resolution of Matched Muons in $Z \\to \\mu \\mu$')\n",
    "plt.legend()\n",
    "\n",
    "plt.show()"
   ]
  },
  {
   "cell_type": "markdown",
   "metadata": {},
   "source": [
    "## B. Electron Resolution"
   ]
  },
  {
   "cell_type": "markdown",
   "metadata": {},
   "source": [
    "We would like to do the same thing as we did for muons, but now for electrons. To do this, we first select the first sample from our electron dataset."
   ]
  },
  {
   "cell_type": "code",
   "execution_count": 31,
   "metadata": {},
   "outputs": [
    {
     "name": "stdout",
     "output_type": "stream",
     "text": [
      "value = 'https://opendata.cern.ch//eos/opendata/atlas/rucio/opendata/ODEO_FEB2025_v0_2to4lep_mc_700320.Sh_2211_Zee_maxHTpTV2_BFilter.2to4lep.root'\n"
     ]
    }
   ],
   "source": [
    "# We will use the first entry in 'list', from the 'e_e' dataset\n",
    "value = samples['e_e']['list'][0]\n",
    "print(f\"{value = }\")\n",
    "\n",
    "# We can keep this file URL to peek into it and understanding what our data looks like\n",
    "e_e_file = value"
   ]
  },
  {
   "cell_type": "code",
   "execution_count": 32,
   "metadata": {},
   "outputs": [
    {
     "name": "stdout",
     "output_type": "stream",
     "text": [
      "Downloading https://opendata.cern.ch//eos/opendata/atlas/rucio/opendata/ODEO_FEB2025_v0_2to4lep_mc_700320.Sh_2211_Zee_maxHTpTV2_BFilter.2to4lep.root to ODEO_FEB2025_v0_2to4lep_mc_700320.Sh_2211_Zee_maxHTpTV2_BFilter.2to4lep.root ...\n",
      "\n",
      " The number of entries in the tree are: 2469788\n",
      "\n",
      " The number of variables in the tree is: 116\n"
     ]
    }
   ],
   "source": [
    "# Accessing the file from the online database (\":analysis\" opens the tree in a desired manner)\n",
    "if local_files:\n",
    "    \n",
    "    # Download the file, use a local copy\n",
    "    local_filename = e_e_file.split(\"/\")[-1]\n",
    "    print(f\"Downloading {e_e_file} to {local_filename} ...\")\n",
    "    \n",
    "    with requests.get(e_e_file, stream=True) as r:\n",
    "        r.raise_for_status()\n",
    "        with open(local_filename, \"wb\") as f:\n",
    "            for chunk in r.iter_content(chunk_size=8192):\n",
    "                f.write(chunk)\n",
    "                \n",
    "    tree = uproot.open(local_filename + \":analysis\")\n",
    "else: # Stream files\n",
    "    tree = uproot.open(e_e_file + \":analysis\")\n",
    "    \n",
    "# The number of entries in the tree can be viewed\n",
    "print(\"\\n The number of entries in the tree are:\", tree.num_entries)\n",
    "\n",
    "# The number of variables in the tree can be viewed\n",
    "print(\"\\n The number of variables in the tree is:\", len(tree.keys()))"
   ]
  },
  {
   "cell_type": "markdown",
   "metadata": {},
   "source": [
    "We now need to take the following variables from our `tree` and create arrays for them:\n",
    "\n",
    "* `truth_elec_pt`: transverse momentum of the truth electrons\n",
    "\n",
    "* `truth_elec_eta`: pseudo-rapidity of the truth electrons\n",
    "\n",
    "* `truth_elec_phi`: azimuthal angle of the truth electrons"
   ]
  },
  {
   "cell_type": "code",
   "execution_count": 33,
   "metadata": {},
   "outputs": [],
   "source": [
    "# Define what variables are important to our analysis\n",
    "elec_variables = ['truth_elec_pt', 'truth_elec_eta', 'truth_elec_phi']\n",
    "\n",
    "# To see all the data for our given variables\n",
    "tree.iterate(elec_variables, library=\"ak\");"
   ]
  },
  {
   "cell_type": "code",
   "execution_count": 34,
   "metadata": {},
   "outputs": [],
   "source": [
    "for array in tree.iterate(elec_variables, library=\"ak\"):\n",
    "    # Creating arrays for truth_elec_pt, truth_elec_eta, and truth_elec_phi variables\n",
    "    truth_elec_pt = array[\"truth_elec_pt\"]\n",
    "    truth_elec_eta = array[\"truth_elec_eta\"]\n",
    "    truth_elec_phi = array[\"truth_elec_phi\"]"
   ]
  },
  {
   "cell_type": "code",
   "execution_count": 35,
   "metadata": {},
   "outputs": [],
   "source": [
    "# Flatten to treat all muons across all events as one big list\n",
    "elec_pt_flat = ak.flatten(truth_elec_pt)\n",
    "elec_eta_flat = ak.flatten(truth_elec_eta)\n",
    "elec_phi_flat = ak.flatten(truth_elec_phi)"
   ]
  },
  {
   "cell_type": "markdown",
   "metadata": {},
   "source": [
    "Given our electron arrays, we now `mask` them to select only those with $p_T$ between 30 and 50 GeV."
   ]
  },
  {
   "cell_type": "code",
   "execution_count": 36,
   "metadata": {},
   "outputs": [],
   "source": [
    "elec_pt_mask = (elec_pt_flat > 30) & (elec_pt_flat < 50)\n",
    "\n",
    "elec_masked_pt = elec_pt_flat[elec_pt_mask]\n",
    "elec_masked_eta = elec_eta_flat[elec_pt_mask]\n",
    "elec_masked_phi = elec_phi_flat[elec_pt_mask]"
   ]
  },
  {
   "cell_type": "markdown",
   "metadata": {},
   "source": [
    "We now want to find a truth electron that matches a reconstructed electron. This process is very similar to what we did for muons."
   ]
  },
  {
   "cell_type": "code",
   "execution_count": 37,
   "metadata": {},
   "outputs": [],
   "source": [
    "# Define what variables are important to our analysis\n",
    "lep_variables = ['lep_pt', 'lep_eta', 'lep_phi', 'lep_type']\n",
    "\n",
    "# To see all the data for our given variables\n",
    "tree.iterate(lep_variables, library=\"ak\");"
   ]
  },
  {
   "cell_type": "code",
   "execution_count": 38,
   "metadata": {},
   "outputs": [],
   "source": [
    "for array in tree.iterate(lep_variables, library=\"ak\"):\n",
    "    # Creating arrays for lep_pt, lep_eta, and lep_phi variables\n",
    "    lep_pt = array[\"lep_pt\"]\n",
    "    lep_eta = array[\"lep_eta\"]\n",
    "    lep_phi = array[\"lep_phi\"]\n",
    "    lep_type = array[\"lep_type\"]"
   ]
  },
  {
   "cell_type": "code",
   "execution_count": 39,
   "metadata": {},
   "outputs": [],
   "source": [
    "# Flatten to treat all muons across all events as one big list\n",
    "lep_pt_flat = ak.flatten(lep_pt)\n",
    "lep_eta_flat = ak.flatten(lep_eta)\n",
    "lep_phi_flat = ak.flatten(lep_phi)\n",
    "lep_type_flat = ak.flatten(lep_type)"
   ]
  },
  {
   "cell_type": "markdown",
   "metadata": {},
   "source": [
    "To consider only electrons in this analysis, we use `lep_type_flat` to place a mask that selects only electrons for each array."
   ]
  },
  {
   "cell_type": "code",
   "execution_count": 40,
   "metadata": {},
   "outputs": [],
   "source": [
    "# Create a mask to select only electrons (11)\n",
    "mask = (lep_type_flat) == 11\n",
    "\n",
    "# Apply the mask to each array\n",
    "lep_elec_pt = lep_pt_flat[mask]\n",
    "lep_elec_eta = lep_eta_flat[mask]\n",
    "lep_elec_phi = lep_phi_flat[mask]"
   ]
  },
  {
   "cell_type": "markdown",
   "metadata": {},
   "source": [
    "We now call our function in the following way to create $p_T$ arrays for the matched truth electrons and their corresponding reconstructed electron:"
   ]
  },
  {
   "cell_type": "code",
   "execution_count": 41,
   "metadata": {},
   "outputs": [],
   "source": [
    "matched_truth_pt, matched_reco_pt = matched(elec_masked_pt, elec_masked_eta, elec_masked_phi, lep_elec_pt, lep_elec_eta, lep_elec_phi)"
   ]
  },
  {
   "cell_type": "code",
   "execution_count": 42,
   "metadata": {},
   "outputs": [
    {
     "data": {
      "image/png": "[encoded data removed]",
      "text/plain": [
       "<Figure size 640x480 with 1 Axes>"
      ]
     },
     "metadata": {},
     "output_type": "display_data"
    }
   ],
   "source": [
    "# Data to plot on histogram\n",
    "elec_diff = (matched_reco_pt - matched_truth_pt) / matched_truth_pt\n",
    "\n",
    "# Set bin size\n",
    "bins = np.linspace(-0.1, 0.1, 51)  # 50 bins from -0.1 to +0.1\n",
    "\n",
    "# Plot histograms\n",
    "plt.hist(elec_diff, bins=bins, histtype='step', linewidth=1.5, label='elec_diff')\n",
    "\n",
    "# Set x-axis range\n",
    "plt.xlim(-0.1, 0.1)\n",
    "\n",
    "# Add labels and legend\n",
    "plt.xlabel(r'$(p_T^{\\mathrm{reco}} - p_T^{\\mathrm{true}}) / p_T^{\\mathrm{true}}$')\n",
    "plt.ylabel('Counts')\n",
    "plt.title(r'Relative $p_T$ Resolution of Matched Electrons in $Z \\to e e$')\n",
    "plt.legend()\n",
    "\n",
    "plt.show()"
   ]
  },
  {
   "cell_type": "code",
   "execution_count": 43,
   "metadata": {},
   "outputs": [
    {
     "name": "stdout",
     "output_type": "stream",
     "text": [
      "Fit within [-0.1, 0.1]:  Mean = 0.0025,  Sigma = 0.0359\n"
     ]
    }
   ],
   "source": [
    "# Apply a fit range mask: e.g., only keep values between -0.1 and 0.1\n",
    "fit_range_mask = (elec_diff > -0.1) & (elec_diff < 0.1)\n",
    "elec_diff_core = elec_diff[fit_range_mask]\n",
    "\n",
    "# Now fit a Gaussian to just the core region\n",
    "mu, sigma = norm.fit(elec_diff_core)\n",
    "\n",
    "# Print the result\n",
    "print(f\"Fit within [-0.1, 0.1]:  Mean = {mu:.4f},  Sigma = {sigma:.4f}\")"
   ]
  },
  {
   "cell_type": "markdown",
   "metadata": {},
   "source": [
    "# Case Study 2: MC and Data Muon Resolution"
   ]
  },
  {
   "cell_type": "markdown",
   "metadata": {},
   "source": [
    "We now want to pick out pairs of reconstructed muons from the $Z \\to \\mu \\mu$ dataset."
   ]
  },
  {
   "cell_type": "markdown",
   "metadata": {},
   "source": [
    "# Case Study 3: Jet Resolution"
   ]
  },
  {
   "cell_type": "markdown",
   "metadata": {},
   "source": [
    "We want to do something similar with electron and muon resolution, but now with jets."
   ]
  },
  {
   "cell_type": "code",
   "execution_count": 44,
   "metadata": {},
   "outputs": [
    {
     "data": {
      "text/plain": [
       "dict_keys(['Data', 'mu_mu', 'e_e', 'jets'])"
      ]
     },
     "execution_count": 44,
     "metadata": {},
     "output_type": "execute_result"
    }
   ],
   "source": [
    "# Select the skim to use for the analysis\n",
    "skim3 = \"noskim\"\n",
    "\n",
    "mc_samples   = atom.build_mc_dataset(mc_defs, skim3, protocol='https')\n",
    "data_samples = atom.build_data_dataset(skim3, protocol='https')\n",
    "\n",
    "samples = {**data_samples, **mc_samples}\n",
    "samples.keys()"
   ]
  },
  {
   "cell_type": "code",
   "execution_count": 45,
   "metadata": {},
   "outputs": [
    {
     "name": "stdout",
     "output_type": "stream",
     "text": [
      "value = 'https://opendata.cern.ch//eos/opendata/atlas/rucio/user/egramsta/mc_364703.Pythia8EvtGen_A14NNPDF23LO_jetjet_JZ3WithSW.noskim.root'\n"
     ]
    }
   ],
   "source": [
    "# We will use the first entry in 'list', from the 'jets' dataset\n",
    "value = samples['jets']['list'][0]\n",
    "print(f\"{value = }\")\n",
    "\n",
    "# We can keep this file URL to peek into it and understanding what our data looks like\n",
    "jets_file = value"
   ]
  },
  {
   "cell_type": "code",
   "execution_count": 46,
   "metadata": {},
   "outputs": [
    {
     "name": "stdout",
     "output_type": "stream",
     "text": [
      "Downloading https://opendata.cern.ch//eos/opendata/atlas/rucio/user/egramsta/mc_364703.Pythia8EvtGen_A14NNPDF23LO_jetjet_JZ3WithSW.noskim.root to mc_364703.Pythia8EvtGen_A14NNPDF23LO_jetjet_JZ3WithSW.noskim.root ...\n",
      "\n",
      " The number of entries in the tree are: 49959747\n",
      "\n",
      " The number of variables in the tree is: 116\n"
     ]
    }
   ],
   "source": [
    "# Accessing the file from the online database (\":analysis\" opens the tree in a desired manner)\n",
    "if local_files:\n",
    "    \n",
    "    # Download the file, use a local copy\n",
    "    local_filename = jets_file.split(\"/\")[-1]\n",
    "    print(f\"Downloading {jets_file} to {local_filename} ...\")\n",
    "    \n",
    "    with requests.get(jets_file, stream=True, timeout=30) as r:\n",
    "        r.raise_for_status()\n",
    "        with open(local_filename, \"wb\") as f:\n",
    "            for chunk in r.iter_content(chunk_size=8192):\n",
    "                f.write(chunk)\n",
    "                \n",
    "    tree = uproot.open(local_filename + \":analysis\")\n",
    "else: # Stream files\n",
    "    tree = uproot.open(jets_file + \":analysis\")\n",
    "    \n",
    "# The number of entries in the tree can be viewed\n",
    "print(\"\\n The number of entries in the tree are:\", tree.num_entries)\n",
    "\n",
    "# The number of variables in the tree can be viewed\n",
    "print(\"\\n The number of variables in the tree is:\", len(tree.keys()))"
   ]
  },
  {
   "cell_type": "code",
   "execution_count": 47,
   "metadata": {},
   "outputs": [],
   "source": [
    "# Define what variables are important to our analysis\n",
    "truth_jet_variables = ['truth_jet_pt', 'truth_jet_eta', 'truth_jet_phi']\n",
    "\n",
    "# To see all the data for our given variables\n",
    "tree.iterate(truth_jet_variables, library=\"ak\");"
   ]
  },
  {
   "cell_type": "code",
   "execution_count": 48,
   "metadata": {},
   "outputs": [],
   "source": [
    "for array in tree.iterate(truth_jet_variables, library=\"ak\"):\n",
    "    # Creating arrays for truth_jet_pt, truth_jet_eta, and truth_jet_phi variables\n",
    "    truth_jet_pt = array[\"truth_jet_pt\"]\n",
    "    truth_jet_eta = array[\"truth_jet_eta\"]\n",
    "    truth_jet_phi = array[\"truth_jet_phi\"]"
   ]
  },
  {
   "cell_type": "code",
   "execution_count": 49,
   "metadata": {},
   "outputs": [],
   "source": [
    "# Flatten to treat all muons across all events as one big list\n",
    "jet_pt_flat = ak.flatten(truth_jet_pt)\n",
    "jet_eta_flat = ak.flatten(truth_jet_eta)\n",
    "jet_phi_flat = ak.flatten(truth_jet_phi)"
   ]
  },
  {
   "cell_type": "markdown",
   "metadata": {},
   "source": [
    "Given our jet arrays, we now mask them to select only those between 30 and 50 GeV."
   ]
  },
  {
   "cell_type": "code",
   "execution_count": 50,
   "metadata": {},
   "outputs": [],
   "source": [
    "jet_pt_mask = (jet_pt_flat > 30) & (jet_pt_flat < 50)\n",
    "\n",
    "jet_masked_pt = elec_pt_flat[jet_pt_mask]\n",
    "jet_masked_eta = elec_eta_flat[jet_pt_mask]\n",
    "jet_masked_phi = elec_phi_flat[jet_pt_mask]"
   ]
  },
  {
   "cell_type": "markdown",
   "metadata": {},
   "source": [
    "We now want to find a reconstructed jet that matches a jet. To this end, we must first select the sample variables from an actual experiment and make their arrays:"
   ]
  },
  {
   "cell_type": "code",
   "execution_count": 51,
   "metadata": {},
   "outputs": [],
   "source": [
    "# Define what variables are important to our analysis\n",
    "reco_jet_variables = ['jet_pt', 'jet_eta', 'jet_phi']\n",
    "\n",
    "# To see all the data for our given variables\n",
    "tree.iterate(reco_jet_variables, library=\"ak\");"
   ]
  },
  {
   "cell_type": "code",
   "execution_count": 52,
   "metadata": {},
   "outputs": [],
   "source": [
    "for array in tree.iterate(reco_jet_variables, library=\"ak\"):\n",
    "    # Creating arrays for jet_pt, jet_eta, and jet_phi variables\n",
    "    jet_pt = array[\"jet_pt\"]\n",
    "    jet_eta = array[\"jet_eta\"]\n",
    "    jet_phi = array[\"jet_phi\"]"
   ]
  },
  {
   "cell_type": "code",
   "execution_count": 53,
   "metadata": {},
   "outputs": [],
   "source": [
    "# Flatten to treat all jets across all events as one big list\n",
    "jet_pt_flat = ak.flatten(jet_pt)\n",
    "jet_eta_flat = ak.flatten(jet_eta)\n",
    "jet_phi_flat = ak.flatten(jet_phi)"
   ]
  },
  {
   "cell_type": "markdown",
   "metadata": {},
   "source": [
    "We now call our function in the following way to create $p_T$ arrays for the matched truth jets and their corresponding reconstructed jet:"
   ]
  },
  {
   "cell_type": "code",
   "execution_count": 54,
   "metadata": {},
   "outputs": [],
   "source": [
    "matched_truth_pt, matched_reco_pt = matched(jet_masked_pt, jet_masked_eta, jet_masked_phi, jet_pt_flat, jet_eta_flat, jet_phi_flat)"
   ]
  },
  {
   "cell_type": "code",
   "execution_count": 55,
   "metadata": {},
   "outputs": [
    {
     "data": {
      "image/png": "[encoded data removed]",
      "text/plain": [
       "<Figure size 640x480 with 1 Axes>"
      ]
     },
     "metadata": {},
     "output_type": "display_data"
    }
   ],
   "source": [
    "# Data to plot on histogram\n",
    "jet_diff = (matched_reco_pt - matched_truth_pt) / matched_truth_pt\n",
    "\n",
    "# Set bin size\n",
    "bins = np.linspace(-0.1, 0.1, 51)  # 50 bins from -0.1 to +0.1\n",
    "\n",
    "# Plot histograms\n",
    "plt.hist(jet_diff, bins=bins, histtype='step', linewidth=1.5, label='jet_diff')\n",
    "\n",
    "# Set x-axis range\n",
    "plt.xlim(-0.1, 0.1)\n",
    "\n",
    "# Add labels and legend\n",
    "plt.xlabel(r'$(p_T^{\\mathrm{reco}} - p_T^{\\mathrm{true}}) / p_T^{\\mathrm{true}}$')\n",
    "plt.ylabel('Counts')\n",
    "plt.title(r'Relative $p_T$ Resolution of Matched Jets')\n",
    "plt.legend()\n",
    "\n",
    "plt.show()"
   ]
  },
  {
   "cell_type": "code",
   "execution_count": 56,
   "metadata": {},
   "outputs": [
    {
     "name": "stdout",
     "output_type": "stream",
     "text": [
      "Fit within [-0.1, 0.1]:  Mean = -0.0033,  Sigma = 0.0575\n"
     ]
    }
   ],
   "source": [
    "# Apply a fit range mask: e.g., only keep values between -0.1 and 0.1\n",
    "fit_range_mask = (jet_diff > -0.1) & (jet_diff < 0.1)\n",
    "jet_diff_core = jet_diff[fit_range_mask]\n",
    "\n",
    "# Now fit a Gaussian to just the core region\n",
    "mu, sigma = norm.fit(jet_diff_core)\n",
    "\n",
    "# Print the result\n",
    "print(f\"Fit within [-0.1, 0.1]:  Mean = {mu:.4f},  Sigma = {sigma:.4f}\")"
   ]
  },
  {
   "cell_type": "markdown",
   "metadata": {},
   "source": [
    "## Case Study 4: Photon Resolution & Higgs Boson Width"
   ]
  },
  {
   "cell_type": "code",
   "execution_count": null,
   "metadata": {},
   "outputs": [],
   "source": []
  }
 ],
 "metadata": {
  "kernelspec": {
   "display_name": "Python 3 (ipykernel)",
   "language": "python",
   "name": "python3"
  },
  "language_info": {
   "codemirror_mode": {
    "name": "ipython",
    "version": 3
   },
   "file_extension": ".py",
   "mimetype": "text/x-python",
   "name": "python",
   "nbconvert_exporter": "python",
   "pygments_lexer": "ipython3",
   "version": "3.11.6"
  }
 },
 "nbformat": 4,
 "nbformat_minor": 4
}
