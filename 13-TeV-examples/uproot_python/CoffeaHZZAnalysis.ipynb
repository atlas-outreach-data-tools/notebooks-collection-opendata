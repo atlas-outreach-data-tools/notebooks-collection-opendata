{
 "cells": [
  {
   "cell_type": "markdown",
   "metadata": {},
   "source": [
    "<CENTER><img src=\"../../images/ATLASOD.gif\" style=\"width:50%\"></CENTER>"
   ]
  },
  {
   "cell_type": "markdown",
   "metadata": {},
   "source": [
    "# How to rediscover the Higgs boson yourself - with the coffea framework!\n",
    "This notebook uses ATLAS Open Data http://opendata.atlas.cern to show you the steps to rediscover the Higgs boson yourself!\n",
    "\n",
    "ATLAS Open Data provides open access to proton-proton collision data at the LHC for educational purposes. ATLAS Open Data resources are ideal for high-school, undergraduate and postgraduate students.\n",
    "\n",
    "Notebooks are web applications that allow you to create and share documents that can contain for example:\n",
    "1. live code\n",
    "2. visualisations\n",
    "3. narrative text\n",
    "\n",
    "This notebook builds on [HZZAnalysis.ipynb](https://github.com/atlas-outreach-data-tools/notebooks-collection-opendata/blob/master/13-TeV-examples/uproot_python/HZZAnalysis.ipynb) in the same folder as this notebook. \n",
    "\n",
    "This notebook demonstrates the use of the coffea Python package, which combines many features useful for the manipulation and analysis of data from high-energy physics experiments. This package also allows for the use of parallel computing technologies such as Dask to speed up the processing of data and easily scale the analysis for computing clusters and super-computers. It uses a feature called processors where a user specifies the analysis they want and then coffea handles the parallelization for them.\n",
    "\n",
    "The coffea framework is a prototype currently in development in collaboration with IRIS-HEP. This notebook was created as part of an [IRIS-HEP fellowship project](https://iris-hep.org/fellows/stormsomething.html), and a repository containing all the code and notes created for that project can be found [here](https://github.com/stormsomething/CoffeaHZZAnalysis). You can find out more about coffea [here](https://github.com/CoffeaTeam/coffea), and you can find out more about IRIS-HEP [here](https://iris-hep.org/).\n",
    "\n",
    "Feynman diagram pictures are borrowed from our friends at https://www.particlezoo.net"
   ]
  },
  {
   "cell_type": "markdown",
   "metadata": {},
   "source": [
    "<CENTER><img src=\"images/feynman_diagrams/HZZ_feynman.png\" style=\"width:40%\"></CENTER>"
   ]
  },
  {
   "cell_type": "markdown",
   "metadata": {},
   "source": [
    "<a id='contents'></a>"
   ]
  },
  {
   "cell_type": "markdown",
   "metadata": {},
   "source": [
    "Contents: \n",
    "\n",
    "[Running a Jupyter notebook](#running) <br />\n",
    "[First time setup on your computer (no need on mybinder)](#setup_computer) <br />\n",
    "[To setup everytime](#setup_everytime) <br />\n",
    "[Lumi and file path](#fraction) <br />\n",
    "[Samples](#samples) <br />\n",
    "[Changing a cut](#changing_cut) <br />\n",
    "[Applying a cut](#applying_cut) <br />\n",
    "[Plotting](#plotting) <br />\n",
    "[What can you do to explore this analysis?](#going_further) <br />"
   ]
  },
  {
   "cell_type": "markdown",
   "metadata": {},
   "source": [
    "<a id='running'></a>"
   ]
  },
  {
   "cell_type": "markdown",
   "metadata": {},
   "source": [
    "## Running a Jupyter notebook\n",
    "\n",
    "To run the whole Jupyter notebook, in the top menu click Cell -> Run All.\n",
    "\n",
    "To propagate a change you've made to a piece of code, click Cell -> Run All Below.\n",
    "\n",
    "You can also run a single code cell, by clicking Cell -> Run Cells, or using the keyboard shortcut Shift+Enter."
   ]
  },
  {
   "cell_type": "markdown",
   "metadata": {},
   "source": [
    "<a id='setup_computer'></a>"
   ]
  },
  {
   "cell_type": "markdown",
   "metadata": {},
   "source": [
    "## First time setup on your computer (no need on mybinder)\n",
    "This first cell only needs to be run the first time you open this notebook on your computer. \n",
    "\n",
    "If you close Jupyter and re-open on the same computer, you won't need to run this first cell again.\n",
    "\n",
    "If you open on mybinder, you don't need to run this cell."
   ]
  },
  {
   "cell_type": "code",
   "execution_count": null,
   "metadata": {
    "scrolled": true
   },
   "outputs": [],
   "source": [
    "import yaml\n",
    "import subprocess\n",
    "import sys\n",
    "\n",
    "# Path to your binder/environment.yml file\n",
    "environment_file = \"../../binder/environment.yml\"\n",
    "\n",
    "# Packages you want to install\n",
    "required_packages = ['coffea', 'hist', 'dask', 'numpy', 'matplotlib']\n",
    "\n",
    "# Load the environment.yml file\n",
    "with open(environment_file, 'r') as file:\n",
    "    environment_data = yaml.safe_load(file)\n",
    "\n",
    "# Extract dependencies\n",
    "dependencies = environment_data.get('dependencies', [])\n",
    "\n",
    "# Create a list to hold the packages with versions\n",
    "install_packages = []\n",
    "\n",
    "# Find the versions for the required packages\n",
    "for dep in dependencies:\n",
    "    # Check if the dependency is a string (package name)\n",
    "    if isinstance(dep, str):\n",
    "        for package in required_packages:\n",
    "            if dep.startswith(package):\n",
    "                install_packages.append(dep)\n",
    "\n",
    "# Install packages using pip\n",
    "if install_packages:\n",
    "    print(f\"Installing packages: {install_packages}\")\n",
    "    subprocess.run([sys.executable, \"-m\", \"pip\", \"install\", \"--upgrade\", \"--user\"] + install_packages)\n",
    "else:\n",
    "    print(\"No matching packages found in environment.yml.\")"
   ]
  },
  {
   "cell_type": "markdown",
   "metadata": {},
   "source": [
    "[Back to contents](#contents)"
   ]
  },
  {
   "cell_type": "markdown",
   "metadata": {},
   "source": [
    "<a id='setup_everytime'></a>"
   ]
  },
  {
   "cell_type": "markdown",
   "metadata": {},
   "source": [
    "## To setup everytime\n",
    "Cell -> Run All Below\n",
    "\n",
    "to be done every time you re-open this notebook\n",
    "\n",
    "We're going to be using a number of tools to help us:\n",
    "* coffea: prototype framework for analyzing collider event data in a horizontally-scaleable way\n",
    "* hist: used to create, fill, and plot histograms\n",
    "* dask: used to parallelize the processing of data in order to reduce run time\n",
    "* numpy: provides array-based numerical calculation tools\n",
    "* matplotlib: common tool for making plots, figures, images, visualisations"
   ]
  },
  {
   "cell_type": "code",
   "execution_count": 2,
   "metadata": {},
   "outputs": [],
   "source": [
    "from coffea import processor # for horizontally-scaleable event data processing and analysis\n",
    "from coffea.nanoevents import BaseSchema # schema used for processing uproot data with coffea\n",
    "import hist # for constructing, filling, and plotting histograms\n",
    "from dask.distributed import Client # for running the data analysis with parallelization\n",
    "import re # for extracting the sample name from the data file name\n",
    "import time # to measure time to analyse\n",
    "import numpy as np # for working with numerical calculations on arrays\n",
    "import matplotlib.pyplot as plt # for additional plotting features\n",
    "\n",
    "import infofile # local file containing cross-sections, sums of weights, dataset IDs"
   ]
  },
  {
   "cell_type": "markdown",
   "metadata": {},
   "source": [
    "[Back to contents](#contents)"
   ]
  },
  {
   "cell_type": "markdown",
   "metadata": {},
   "source": [
    "<a id='fraction'></a>"
   ]
  },
  {
   "cell_type": "markdown",
   "metadata": {},
   "source": [
    "## Lumi and file path\n",
    "\n",
    "Variable definition related to the fraction of data used, where to access the input files"
   ]
  },
  {
   "cell_type": "code",
   "execution_count": 3,
   "metadata": {},
   "outputs": [],
   "source": [
    "lumi = 10 # fb-1 # data_A+B+C+D\n",
    "\n",
    "#tuple_path = 'Input/4lep/' # Use this for data stored locally\n",
    "tuple_path = 'https://atlas-opendata.web.cern.ch/atlas-opendata/samples/2020/4lep/' # Use this to get data from the web"
   ]
  },
  {
   "cell_type": "markdown",
   "metadata": {},
   "source": [
    "<a id='samples'></a>"
   ]
  },
  {
   "cell_type": "markdown",
   "metadata": {},
   "source": [
    "## Samples\n",
    "\n",
    "samples to process"
   ]
  },
  {
   "cell_type": "code",
   "execution_count": 4,
   "metadata": {},
   "outputs": [],
   "source": [
    "samples = {\n",
    "    \n",
    "    'Data': [\n",
    "        tuple_path + 'Data/data_A.4lep.root',\n",
    "        tuple_path + 'Data/data_B.4lep.root',\n",
    "        tuple_path + 'Data/data_C.4lep.root',\n",
    "        tuple_path + 'Data/data_D.4lep.root'\n",
    "    ],\n",
    "    \n",
    "    r'Background $Z,t\\bar{t}$': [\n",
    "        tuple_path + 'MC/mc_361106.Zee.4lep.root',\n",
    "        tuple_path + 'MC/mc_361107.Zmumu.4lep.root',\n",
    "        tuple_path + 'MC/mc_410000.ttbar_lep.4lep.root'\n",
    "    ],\n",
    "    \n",
    "    r'Background $ZZ^*$': [\n",
    "        tuple_path + 'MC/mc_363490.llll.4lep.root'\n",
    "    ],\n",
    "    \n",
    "    r'Signal ($m_H$ = 125 GeV)': [\n",
    "        tuple_path + 'MC/mc_345060.ggH125_ZZ4lep.4lep.root',\n",
    "        tuple_path + 'MC/mc_344235.VBFH125_ZZ4lep.4lep.root',\n",
    "        tuple_path + 'MC/mc_341964.WH125_ZZ4lep.4lep.root',\n",
    "        tuple_path + 'MC/mc_341947.ZH125_ZZ4lep.4lep.root'\n",
    "    ]\n",
    "    \n",
    "}"
   ]
  },
  {
   "cell_type": "markdown",
   "metadata": {},
   "source": [
    "[Back to contents](#contents)"
   ]
  },
  {
   "cell_type": "markdown",
   "metadata": {},
   "source": [
    "define function to calculate weight of MC event"
   ]
  },
  {
   "cell_type": "code",
   "execution_count": 5,
   "metadata": {},
   "outputs": [],
   "source": [
    "def calc_weight(xsec_weight, mcWeight, scaleFactor_PILEUP,\n",
    "                scaleFactor_ELE, scaleFactor_MUON, \n",
    "                scaleFactor_LepTRIGGER ):\n",
    "    return xsec_weight*mcWeight*scaleFactor_PILEUP*scaleFactor_ELE*scaleFactor_MUON*scaleFactor_LepTRIGGER"
   ]
  },
  {
   "cell_type": "markdown",
   "metadata": {},
   "source": [
    "define function to get cross-section weight"
   ]
  },
  {
   "cell_type": "code",
   "execution_count": 6,
   "metadata": {},
   "outputs": [],
   "source": [
    "def get_xsec_weight(sample):\n",
    "    info = infofile.infos[sample] # open infofile\n",
    "    xsec_weight = (lumi*1000*info[\"xsec\"])/(info[\"sumw\"]*info[\"red_eff\"]) #*1000 to go from fb-1 to pb-1\n",
    "    return xsec_weight # return cross-section weight"
   ]
  },
  {
   "cell_type": "markdown",
   "metadata": {},
   "source": [
    "define function to calculate 4-lepton invariant mass.\n",
    "\n",
    "Note: `lep_(pt|eta|phi|E)` are variable length lists of lepton momentum components for each event, represented by awkward arrays."
   ]
  },
  {
   "cell_type": "code",
   "execution_count": 7,
   "metadata": {},
   "outputs": [],
   "source": [
    "def calc_mllll(lep_pt,lep_eta,lep_phi,lep_E):\n",
    "    # [:, i] selects the i-th lepton in each event\n",
    "    # first lepton is [:, 0], 2nd lepton is [:, 1] etc\n",
    "    px_0 = lep_pt[:, 0]*np.cos(lep_phi[:, 0]) # x-component of lep[0] momentum\n",
    "    py_0 = lep_pt[:, 0]*np.sin(lep_phi[:, 0]) # y-component of lep[0] momentum\n",
    "    pz_0 = lep_pt[:, 0]*np.sinh(lep_eta[:, 0]) # z-component of lep[0] momentum\n",
    "    px_1 = lep_pt[:, 1]*np.cos(lep_phi[:, 1]) # x-component of lep[1] momentum\n",
    "    py_1 = lep_pt[:, 1]*np.sin(lep_phi[:, 1]) # y-component of lep[1] momentum\n",
    "    pz_1 = lep_pt[:, 1]*np.sinh(lep_eta[:, 1]) # z-component of lep[1] momentum\n",
    "    px_2 = lep_pt[:, 2]*np.cos(lep_phi[:, 2]) # x-component of lep[2] momentum\n",
    "    py_2 = lep_pt[:, 2]*np.sin(lep_phi[:, 2]) # y-component of lep[2] momentum\n",
    "    pz_2 = lep_pt[:, 2]*np.sinh(lep_eta[:, 2]) # z-component of lep[3] momentum\n",
    "    px_3 = lep_pt[:, 3]*np.cos(lep_phi[:, 3]) # x-component of lep[3] momentum\n",
    "    py_3 = lep_pt[:, 3]*np.sin(lep_phi[:, 3]) # y-component of lep[3] momentum\n",
    "    pz_3 = lep_pt[:, 3]*np.sinh(lep_eta[:, 3]) # z-component of lep[3] momentum\n",
    "    sumpx = px_0 + px_1 + px_2 + px_3 # x-component of 4-lepton momentum\n",
    "    sumpy = py_0 + py_1 + py_2 + py_3 # y-component of 4-lepton momentum\n",
    "    sumpz = pz_0 + pz_1 + pz_2 + pz_3 # z-component of 4-lepton momentum\n",
    "    sumE = lep_E[:, 0] + lep_E[:, 1] + lep_E[:, 2] + lep_E[:, 3] # energy of 4-lepton system\n",
    "    return np.sqrt(sumE**2 - sumpx**2 - sumpy**2 - sumpz**2)/1000 #/1000 to go from MeV to GeV"
   ]
  },
  {
   "cell_type": "markdown",
   "metadata": {},
   "source": [
    "[Back to contents](#contents)"
   ]
  },
  {
   "cell_type": "markdown",
   "metadata": {},
   "source": [
    "<a id='changing_cut'></a>"
   ]
  },
  {
   "cell_type": "markdown",
   "metadata": {},
   "source": [
    "## Changing a cut\n",
    "\n",
    "If you change a cut: Cell -> Run All Below\n",
    "\n",
    "If you change a cut here, you also need to make sure the cut is applied in the \"[Applying a cut](#applying_cut)\" cell."
   ]
  },
  {
   "cell_type": "code",
   "execution_count": 8,
   "metadata": {},
   "outputs": [],
   "source": [
    "# cut on lepton charge\n",
    "# paper: \"selecting two pairs of isolated leptons, each of which is comprised of two leptons with the same flavour and opposite charge\"\n",
    "def cut_lep_charge(lep_charge):\n",
    "# throw away when sum of lepton charges is not equal to 0\n",
    "# first lepton in each event is [:, 0], 2nd lepton is [:, 1] etc\n",
    "    return lep_charge[:, 0] + lep_charge[:, 1] + lep_charge[:, 2] + lep_charge[:, 3] != 0\n",
    "\n",
    "# cut on lepton type\n",
    "# paper: \"selecting two pairs of isolated leptons, each of which is comprised of two leptons with the same flavour and opposite charge\"\n",
    "def cut_lep_type(lep_type):\n",
    "# for an electron lep_type is 11\n",
    "# for a muon lep_type is 13\n",
    "# throw away when none of eeee, mumumumu, eemumu\n",
    "    sum_lep_type = lep_type[:, 0] + lep_type[:, 1] + lep_type[:, 2] + lep_type[:, 3]\n",
    "    return (sum_lep_type != 44) & (sum_lep_type != 48) & (sum_lep_type != 52)"
   ]
  },
  {
   "cell_type": "markdown",
   "metadata": {},
   "source": [
    "[Back to contents](#contents)"
   ]
  },
  {
   "cell_type": "markdown",
   "metadata": {},
   "source": [
    "<a id='applying_cut'></a>"
   ]
  },
  {
   "cell_type": "markdown",
   "metadata": {},
   "source": [
    "## Applying a cut\n",
    "If you add a cut: Cell -> Run All Below"
   ]
  },
  {
   "cell_type": "code",
   "execution_count": 9,
   "metadata": {},
   "outputs": [],
   "source": [
    "# Define a processor class used by coffea to run data analysis\n",
    "class Processor(processor.ProcessorABC):\n",
    "    # Define the accumulator for the processor\n",
    "    def __init__(self):\n",
    "        self._accumulator = processor.dict_accumulator({\n",
    "            'mllll': hist.Hist.new.Reg(34, 80, 250, name='mllll', label='4-lepton invariant mass $\\mathrm{m_{4l}}$ [GeV]')\n",
    "            .StrCat(['Data', r'Background $Z,t\\bar{t}$', r'Background $ZZ^*$', r'Signal ($m_H$ = 125 GeV)'], name='dataset', label='Dataset')\n",
    "            .Weight()\n",
    "        })\n",
    "    \n",
    "    # Required method for the accumulator\n",
    "    @property\n",
    "    def accumulator(self):\n",
    "        return self._accumulator\n",
    "    \n",
    "    # Define how to process events from a data file\n",
    "    def process(self, events):\n",
    "        \n",
    "        # Find what dataset these events are from\n",
    "        dataset = events.metadata['dataset']\n",
    "        \n",
    "        # Cut events based on lepton charge\n",
    "        events = events[~cut_lep_charge(events.lep_charge)]\n",
    "        \n",
    "        # Cut events based on lepton type\n",
    "        events = events[~cut_lep_type(events.lep_type)]\n",
    "        \n",
    "        # Calculate the mllll for each event\n",
    "        mllll = calc_mllll(events.lep_pt, events.lep_eta, events.lep_phi, events.lep_E)\n",
    "        \n",
    "        # If these events are real data\n",
    "        if (dataset == 'Data'):\n",
    "            \n",
    "            # Create and fill a histogram of mllll\n",
    "            mllllhist = (\n",
    "                hist.Hist.new\n",
    "                .Reg(34, 80, 250, name='mllll', label='4-lepton invariant mass $\\mathrm{m_{4l}}$ [GeV]')\n",
    "                .StrCat(['Data'], name='dataset', label='Dataset')\n",
    "                .Weight()\n",
    "                .fill(mllll=mllll, dataset=dataset)\n",
    "            )\n",
    "            \n",
    "            # Output this histogram with the 'Data' key\n",
    "            output = {\n",
    "                'entries': {dataset: len(events)},\n",
    "                'mllll': {'Data': mllllhist}\n",
    "            }\n",
    "            \n",
    "        # If these events are Monte Carlo data\n",
    "        else:\n",
    "            \n",
    "            # Extract the sample name from the filename metadata using regex\n",
    "            sample = re.findall(r'mc_\\d+\\.(.+)\\.4lep', events.metadata['filename'])[0]\n",
    "            \n",
    "            # Calculate the event weights\n",
    "            xsec_weight = get_xsec_weight(sample)\n",
    "            totalWeights = calc_weight(xsec_weight, events.mcWeight, events.scaleFactor_PILEUP, events.scaleFactor_ELE, events.scaleFactor_MUON, events.scaleFactor_LepTRIGGER)\n",
    "            \n",
    "            # Create and fill a histogram of mllll\n",
    "            # This histogram has multiple string categories because we want to separate the different MC datasets in our plot\n",
    "            mllllhist = (\n",
    "                hist.Hist.new\n",
    "                .Reg(34, 80, 250, name='mllll', label='4-lepton invariant mass $\\mathrm{m_{4l}}$ [GeV]')\n",
    "                .StrCat([r'Background $Z,t\\bar{t}$', r'Background $ZZ^*$', r'Signal ($m_H$ = 125 GeV)'], name='dataset', label='Dataset')\n",
    "                .Weight()\n",
    "                .fill(mllll=mllll, dataset=dataset, weight=totalWeights)\n",
    "            )\n",
    "            \n",
    "            # Output this histogram with the 'MC' key\n",
    "            output = {\n",
    "                'entries': {dataset: len(events)},\n",
    "                'mllll': {'MC': mllllhist}\n",
    "            }\n",
    "        \n",
    "        return output\n",
    "\n",
    "    # Define postprocessing and how these histograms are combined (see coffea documentation for details)\n",
    "    def postprocess(self, accumulator):\n",
    "        return accumulator"
   ]
  },
  {
   "cell_type": "markdown",
   "metadata": {},
   "source": [
    "[Back to contents](#contents)"
   ]
  },
  {
   "cell_type": "markdown",
   "metadata": {},
   "source": [
    "This is where the processing happens"
   ]
  },
  {
   "cell_type": "code",
   "execution_count": null,
   "metadata": {},
   "outputs": [],
   "source": [
    "# Initialize the dask client\n",
    "client = Client()\n",
    "\n",
    "# Run the processor as a dask job on the samples defined above\n",
    "# This may take a minute to run\n",
    "output = processor.run_uproot_job(samples, # Dictionary of .root files to be processed\n",
    "                                treename = 'mini', # Name of the tree we want in the .root file\n",
    "                                processor_instance = Processor(), # Run the processor defined above\n",
    "                                executor = processor.dask_executor, # Run using dask\n",
    "                                executor_args = {'schema': BaseSchema, 'client': client} # Set the schema (see coffea documentation for details) and client for this job\n",
    "                                )"
   ]
  },
  {
   "cell_type": "markdown",
   "metadata": {},
   "source": [
    "[Back to contents](#contents)"
   ]
  },
  {
   "cell_type": "markdown",
   "metadata": {},
   "source": [
    "<a id='plotting'></a>"
   ]
  },
  {
   "cell_type": "markdown",
   "metadata": {},
   "source": [
    "## Plotting\n",
    "If you only want to make a change in plotting: Cell -> Run All Below\n",
    "\n",
    "Define function to plot the data"
   ]
  },
  {
   "cell_type": "code",
   "execution_count": 11,
   "metadata": {},
   "outputs": [
    {
     "data": {
      "image/png": "[encoded data removed]",
      "text/plain": [
       "<Figure size 432x288 with 1 Axes>"
      ]
     },
     "metadata": {
      "needs_background": "light"
     },
     "output_type": "display_data"
    }
   ],
   "source": [
    "# Plot the histograms outputted by the processor\n",
    "hist.Hist.plot1d(output['mllll']['Data'], histtype='errorbar', color='black')\n",
    "hist.Hist.plot1d(output['mllll']['MC'], stack=True, histtype='fill', color=['purple', 'red', 'cyan'])\n",
    "\n",
    "# Histogram bin parameters\n",
    "xmin = 80\n",
    "xmax = 250\n",
    "step_size = 5\n",
    "\n",
    "# Calculate where the center of each histogram bin is\n",
    "bin_centers = np.arange(start=xmin+step_size/2, # The interval includes this value\n",
    "                        stop=xmax+step_size/2, # The interval doesn't include this value\n",
    "                        step=step_size ) # Spacing between values\n",
    "\n",
    "# Calculate background statistical uncertainty\n",
    "# For each histogram bin, this is equal to the square root of the sum of the background variances for that bin\n",
    "# Remove the \"[:,:2]\" expressions to use all MC datasets with background and signal combined\n",
    "mc_tot_var = np.sum(output['mllll']['MC'].variances()[:,:2], axis=1)\n",
    "mc_err = np.sqrt(mc_tot_var)\n",
    "mc_tot_height = np.sum(output['mllll']['MC'].values()[:,:2], axis=1)\n",
    "\n",
    "# Plot background statistical uncertainty\n",
    "plt.bar(bin_centers, # x\n",
    "        2*mc_err, # heights\n",
    "        alpha=0.5, # half transparency\n",
    "        bottom=mc_tot_height-mc_err, color='none', \n",
    "        hatch='////', width=step_size, label='Stat. Unc.')\n",
    "\n",
    "main_axes = plt.gca()\n",
    "\n",
    "# Set plot limits\n",
    "main_axes.set_xlim(left=xmin, right=xmax)\n",
    "main_axes.set_ylim(bottom=0, top=np.amax(output['mllll']['Data'].values())*1.6)\n",
    "\n",
    "# Set the y-axis label (x-axis is already set by the histograms)\n",
    "main_axes.set_ylabel('Events / '+str(step_size)+' GeV')\n",
    "\n",
    "# Show the dataset legend\n",
    "main_axes.legend(frameon=False);"
   ]
  },
  {
   "cell_type": "markdown",
   "metadata": {},
   "source": [
    "[Back to contents](#contents)"
   ]
  },
  {
   "cell_type": "markdown",
   "metadata": {},
   "source": [
    "<a id='going_further'></a>"
   ]
  },
  {
   "cell_type": "markdown",
   "metadata": {},
   "source": [
    "## What can you do to explore this analysis?\n",
    "\n",
    "* Check how many events are being thrown away by each cut in '[Applying a cut](#applying_cut)'\n",
    "* Add more cuts from the [Higgs discovery paper](https://www.sciencedirect.com/science/article/pii/S037026931200857X#se0040) in '[Changing a cut](#changing_cut)' and '[Applying a cut](#applying_cut)'\n",
    "* Add a plot to show the ratio between Data and MC other than Higgs\n",
    "* Add a plot to show the invariant mass distribution of the sub-leading lepton pair, like [Figure 1 of the Higgs discovery paper](https://www.sciencedirect.com/science/article/pii/S037026931200857X#fg0010)\n",
    "* Get the estimated numbers of events, like [Table 3 of the Higgs discovery paper](https://www.sciencedirect.com/science/article/pii/S037026931200857X#tl0030)\n",
    "* Add a plot of m12 against m34, like [Figure 3 of the Higgs discovery paper](https://www.sciencedirect.com/science/article/pii/S037026931200857X#fg0030)\n",
    "* Your idea!"
   ]
  },
  {
   "cell_type": "markdown",
   "metadata": {},
   "source": [
    "[Back to contents](#contents)"
   ]
  }
 ],
 "metadata": {
  "kernelspec": {
   "display_name": "Python 3",
   "language": "python",
   "name": "python3"
  },
  "language_info": {
   "codemirror_mode": {
    "name": "ipython",
    "version": 3
   },
   "file_extension": ".py",
   "mimetype": "text/x-python",
   "name": "python",
   "nbconvert_exporter": "python",
   "pygments_lexer": "ipython3",
   "version": "3.9.12"
  }
 },
 "nbformat": 4,
 "nbformat_minor": 4
}
