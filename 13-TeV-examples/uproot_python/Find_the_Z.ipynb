{
  "cells": [
    {
      "cell_type": "markdown",
      "metadata": {
        "id": "cJjTKA3n6oe4"
      },
      "source": [
        "<CENTER><img src=\"https://github.com/atlas-outreach-data-tools/notebooks-collection-opendata/blob/master/images/ATLASOD.gif?raw=1\" style=\"width:50%\"></CENTER>"
      ]
    },
    {
      "cell_type": "markdown",
      "metadata": {
        "id": "uW9nIM636oe5"
      },
      "source": [
        "# Find the Z boson yourself!\n",
        "This notebook uses ATLAS Open Data to guide you through the steps to find the Z boson. It takes less than an hour to complete, and by the end, you’ll be able to identify the Z boson in ATLAS detector data from the 2015 and 2016 runs.\n",
        "\n",
        "## The Z boson\n",
        "In the [Standard Model of particle physics](https://opendata.atlas.cern/docs/documentation/introduction/SM_and_beyond) the Z boson is one of the two bosons responsible for mediating the weak interaction. It has a very short lifetime, of about $10^{25}$ seconds, and decays via the weak force into leptons and quarks. Below you can see a [Feynman diagram](https://en.wikipedia.org/wiki/Feynman_diagram) of the decay of the Z boson into two leptons.\n"
      ]
    },
    {
      "cell_type": "markdown",
      "metadata": {
        "id": "AzwFKITg6oe6"
      },
      "source": [
        "<CENTER><img src=\"https://github.com/atlas-outreach-data-tools/notebooks-collection-opendata/blob/master/13-TeV-examples/uproot_python/images/feynman_diagrams/Zee_feynman.png?raw=1\" style=\"width:40%\"></CENTER>"
      ]
    },
    {
      "cell_type": "markdown",
      "metadata": {
        "id": "fw4O3JeN6oe6"
      },
      "source": [
        "<a id='contents'></a>"
      ]
    },
    {
      "cell_type": "markdown",
      "metadata": {
        "id": "Nej9yxUr6oe6"
      },
      "source": [
        "Due to its short lifetime, we don't measure the Z boson directly in the ATLAS detector. What we measure is its decays products (in this case the two leptons) and reconstruct its mass. Ready to learn how to do this? Let's go!.\n",
        "\n",
        "**Contents:**\n",
        "\n",
        "[Running a Jupyter notebook](#running) <br />\n",
        "[To setup everytime](#setupeverytime) <br />\n",
        "[Where's my data](#fraction) <br />\n",
        "[Calculate that invariant mass!](#good_leptons) <br />\n",
        "[Can we process the data yet?!](#load_data) <br />\n",
        "[Plot Data](#plot_data) <br />\n",
        "[Your tasks](#tasks) <br />\n",
        "[Going further](#going_further) <br />"
      ]
    },
    {
      "cell_type": "markdown",
      "metadata": {
        "id": "63dlPOvU6oe6"
      },
      "source": [
        "## Running a Jupyter notebook\n",
        "\n",
        "To run the whole Jupyter notebook, in the top menu click Cell $\\rightarrow$ Run All.\n",
        "\n",
        "To propagate a change you've made to a piece of code, click Cell $\\rightarrow$ Run All Below.\n",
        "\n",
        "You can also run a single code cell, by using the keyboard shortcut Shift+Enter."
      ]
    },
    {
      "cell_type": "markdown",
      "metadata": {
        "id": "CGrKbBKW6oe6"
      },
      "source": [
        "[Back to contents](#contents)"
      ]
    },
    {
      "cell_type": "markdown",
      "metadata": {
        "id": "VSEhvige6oe6"
      },
      "source": [
        "## First time setup on your computer (no need on mybinder)\n",
        "This first cell only needs to be run the first time you open this notebook on your computer.\n",
        "\n",
        "If you close Jupyter and re-open it on the same computer, you won't need to run this first cell again.\n",
        "\n",
        "If you open the notebook on mybinder, you don't need to run this cell."
      ]
    },
    {
      "cell_type": "code",
      "execution_count": 1,
      "metadata": {
        "colab": {
          "base_uri": "https://localhost:8080/"
        },
        "id": "bl53Y7166oe7",
        "outputId": "2cf12c15-91c3-464d-d323-66f34463e900"
      },
      "outputs": [],
      "source": [
        "#install required packages\n",
        "import sys\n",
        "%pip install atlasopenmagic\n",
        "from atlasopenmagic import install_from_environment\n",
        "install_from_environment()"
      ]
    },
    {
      "cell_type": "markdown",
      "metadata": {
        "id": "1_-X1tru6oe7"
      },
      "source": [
        "## To setup everytime\n",
        "We're going to be using a number of tools to help us:\n",
        "* urllib: let us download files\n",
        "* uproot: lets us read .root files typically used in particle physics into data formats used in Python\n",
        "* pandas: lets us store data as dataframes, a format widely used in Python\n",
        "* numpy: provides numerical calculations such as histogramming\n",
        "* matplotlib: common tool for making plots, figures, images, visualisations\n",
        "* awkward: a python package for dealing conveniently with lists that are different lengths\n",
        "* vector: a python package for making and manipulating vectors\n",
        "\n",
        "In case you see an error when importing one of these packages, try restarting the kernel (the \"session\" in Colab) to make sure the packages that were installed in the last cell have been properly loaded."
      ]
    },
    {
      "cell_type": "code",
      "execution_count": 2,
      "metadata": {
        "scrolled": true,
        "id": "f-FtOWXM6oe8"
      },
      "outputs": [],
      "source": [
        "import urllib.request # for downloading files\n",
        "import pandas as pd # to store data as dataframes\n",
        "import numpy as np # for numerical calculations such as histogramming\n",
        "import uproot # to read .root files as dataframes\n",
        "import matplotlib.pyplot as plt # for plotting\n",
        "from matplotlib.ticker import MaxNLocator,AutoMinorLocator # for minor ticks\n",
        "import awkward as ak # for handling complex and nested data structures efficiently\n",
        "import vector # For convenient 4-vector manipulation"
      ]
    },
    {
      "cell_type": "markdown",
      "metadata": {
        "id": "dofdCbKC6oe8"
      },
      "source": [
        "## Where's my data?"
      ]
    },
    {
      "cell_type": "markdown",
      "source": [
        "We're going to use a package called `atlasopenmagic` to find the data we want to use."
      ],
      "metadata": {
        "id": "xKtXjFoL7lP3"
      }
    },
    {
      "cell_type": "code",
      "execution_count": 3,
      "metadata": {
        "colab": {
          "base_uri": "https://localhost:8080/"
        },
        "id": "NiQJJMpe6oe8",
        "outputId": "c00e7192-767c-47d0-bbc0-1b386e8426eb"
      },
      "outputs": [
        {
          "output_type": "stream",
          "name": "stdout",
          "text": [
            "Active release set to: 2025e-13tev-beta. Metadata cache cleared.\n",
            "Fetching and caching all metadata for release: 2025e-13tev-beta...\n",
            "Successfully cached 374 datasets.\n"
          ]
        }
      ],
      "source": [
        "# Import the atlasopenmagic package so that we can use it\n",
        "import atlasopenmagic as atom\n",
        "# Make sure that we are using the newest release of Education and Outreach open data\n",
        "atom.set_release('2025e-13tev-beta')\n",
        "# We will use a skim (pre-selection) of the data so that we start from events\n",
        "# with exactly two muons\n",
        "skim = '2muons'\n",
        "# And now we can get the files we want; note that we use \"cache=True\" to copy\n",
        "# the files locally rather than streaming them\n",
        "files_list = atom.get_urls('data', skim, protocol='https', cache=True)"
      ]
    },
    {
      "cell_type": "markdown",
      "metadata": {
        "id": "6UzGr5SY6oe8"
      },
      "source": [
        "[Back to contents](#contents)"
      ]
    },
    {
      "cell_type": "markdown",
      "metadata": {
        "id": "4xIG8vMg6oe8"
      },
      "source": [
        "## Calculate that invariant mass!"
      ]
    },
    {
      "cell_type": "markdown",
      "metadata": {
        "id": "reNmdNRi6oe8"
      },
      "source": [
        "In particle physics, the momentum of a particle is often written as a 4-vector: `(E, px, py, pz)`, where `E` is the energy of the particle, `px` is the momentum of the particle in the `x` direction, and so on. When we add them together, we add each component one-by-one. If a particle decays into two particles (for example, a Z boson decays into two leptons), then the sum of the 4-vectors of the two leptons is equal to the 4-vector of the original Z boson.\n",
        "\n",
        "One other useful trick is that the mass of an object can easily be calculated from its 4-vector:\n",
        "\n",
        "$$M^2=E^2-p^2,$$\n",
        "\n",
        "where $p$ is the momentum $(px, py, pz)$. We are using \"natural units\" here, where the speed of light is 1 ($c=1$); if we weren't, that formula would be written:\n",
        "\n",
        "$$(M \\times c^2)^2=E^2-p^2,$$\n",
        "\n",
        "That might start to look familiar. If a particle is at rest (it has no momentum, so $p=0$), that means:\n",
        "\n",
        "$$(M \\times c^2)^2 = E^2,$$\n",
        "\n",
        "or simply\n",
        "\n",
        "$$M \\times c^2 = E$$\n",
        "\n",
        "which is Einstein's famous formula!\n",
        "\n",
        "The `vector` module has a handy way to put 4-vectors together. We can give it the components of the 4-momentum that we have, and it will conveniently put it into the `(E, px, py, pz)` form for us. In particle physics, and in our Open Data files, we store:\n",
        "\n",
        "* `pt`, also written $p_\\text{T}$, which is the part of the momentum transverse (perpendicular) to the beam's original direction ($p_\\text{T}=\\sqrt{px^2+py^2}$).\n",
        "* `eta`, [pseudorapidity](https://en.wikipedia.org/wiki/Pseudorapidity), which is a convenient way to describe the angle of the particle's momentum in the detector.\n",
        "* `phi`, the angle of the particle's momentum in the $x, y$ plane.\n",
        "* `e`, the energy of the particle\n",
        "\n",
        "We can stick these four components together and calculate all the others from them.\n",
        "\n",
        "After that, all we have to do is add together the 4-momenta of the first two leptons, and then ask for the mass (also called the \"invariant mass\" because it doesn't matter how the particle is moving or if it is at rest, the mass is always the same)."
      ]
    },
    {
      "cell_type": "code",
      "execution_count": 4,
      "metadata": {
        "id": "rPretFv76oe9"
      },
      "outputs": [],
      "source": [
        "# calculate dilepton invariant mass\n",
        "def calc_mll(lep_pt,lep_eta,lep_phi,lep_e):\n",
        "    p4 = vector.zip({\"pt\": lep_pt, \"eta\": lep_eta, \"phi\": lep_phi, \"e\": lep_e})\n",
        "    invariant_mass = (p4[:, 0] + p4[:, 1]).M # .M calculates the invariant mass\n",
        "    return invariant_mass"
      ]
    },
    {
      "cell_type": "markdown",
      "metadata": {
        "id": "2O7fWFCS6oe9"
      },
      "source": [
        "## Can we process the data yet?!"
      ]
    },
    {
      "cell_type": "code",
      "execution_count": 5,
      "metadata": {
        "colab": {
          "base_uri": "https://localhost:8080/"
        },
        "id": "yfEnCbtP6oe9",
        "outputId": "e531cfa2-c19c-4431-bbb4-c664ccadb889"
      },
      "outputs": [
        {
          "output_type": "stream",
          "name": "stdout",
          "text": [
            "Working on file simplecache::https://opendata.cern.ch/eos/opendata/atlas/rucio/opendata/ODEO_FEB2025_v0_2muons_data15_periodD.2muons.root (0/16)\n"
          ]
        }
      ],
      "source": [
        "mass_list = [] # This list will hold all our output masses\n",
        "\n",
        "# Loop through all the files that we have\n",
        "for afile in files_list:\n",
        "    print(f'Working on file {afile} ({files_list.index(afile)}/{len(files_list)})')\n",
        "\n",
        "    tree = uproot.open(afile+\":analysis\") # open the file, and the tree called mini\n",
        "    numevents = tree.num_entries # number of events\n",
        "\n",
        "    for data in tree.iterate(['lep_pt','lep_eta','lep_phi','lep_e'],\n",
        "                             entry_stop=numevents*0.5, # stop after fraction of events we want to process\n",
        "                             library=\"ak\"):\n",
        "        # calculation of 2-lepton invariant mass\n",
        "        data['mll'] = calc_mll(data.lep_pt, data.lep_eta, data.lep_phi, data.lep_e)\n",
        "        # Keep the mll as a flat array\n",
        "        mass_list.append( data['mll'] )\n",
        "    # For simplicity and speed, we'll just work with the first file to start\n",
        "    # Stop here!\n",
        "    break"
      ]
    },
    {
      "cell_type": "markdown",
      "metadata": {
        "id": "3WulUUJM6oe9"
      },
      "source": [
        "[Back to contents](#contents)"
      ]
    },
    {
      "cell_type": "markdown",
      "metadata": {
        "id": "iriGq3y46oe9"
      },
      "source": [
        "## Function to plot the data"
      ]
    },
    {
      "cell_type": "code",
      "execution_count": 6,
      "metadata": {
        "scrolled": true,
        "colab": {
          "base_uri": "https://localhost:8080/",
          "height": 449
        },
        "id": "9M8n6gRp6oe9",
        "outputId": "3191fe2c-fa54-4e7b-b9b1-11b175182bee"
      },
      "outputs": [
        {
          "output_type": "display_data",
          "data": {
            "text/plain": [
              "<Figure size 640x480 with 1 Axes>"
            ],
            "image/png": "[encoded data removed]"
          },
          "metadata": {}
        }
      ],
      "source": [
        "# In case we ran over multiple files / batches, merge them together\n",
        "full_mass_list = ak.concatenate(mass_list)\n",
        "\n",
        "bin_edges = np.arange(start=70, # The interval includes this value\n",
        "                      stop=110, # The interval doesn't include this value\n",
        "                      step=1 ) # Spacing between values\n",
        "bin_centres = (bin_edges[:-1] + bin_edges[1:]) / 2 # central values of each bin\n",
        "\n",
        "# histogram the data\n",
        "data_x,_ = np.histogram(full_mass_list, bins=bin_edges )\n",
        "\n",
        "# statistical error on the data\n",
        "data_x_errors = np.sqrt(data_x)\n",
        "\n",
        "# get current axes\n",
        "main_axes = plt.gca()\n",
        "\n",
        "# plot the data points\n",
        "main_axes.errorbar(x=bin_centres,\n",
        "                   y=data_x,\n",
        "                   yerr=data_x_errors,\n",
        "                   fmt='ko',  # 'k' means black and 'o' is for circles\n",
        "                   label = 'Data')\n",
        "\n",
        "# set the axis tick parameters for the main axes\n",
        "main_axes.tick_params(which='both', # ticks on both x and y axes\n",
        "                        direction='in', # Put ticks inside and outside the axes\n",
        "                        top=True, # draw ticks on the top axis\n",
        "                        right=True ) # draw ticks on right axis\n",
        "\n",
        "# x-axis label\n",
        "main_axes.set_xlabel('Di-lepton Mass [GeV]', fontsize=13, x=1, horizontalalignment='right')\n",
        "\n",
        "# y-axis label\n",
        "main_axes.set_ylabel('Events', fontsize=13, y=1, horizontalalignment='right')\n",
        "\n",
        "# make the y-axis log scale\n",
        "main_axes.set_yscale('log')\n",
        "\n",
        "# add minor ticks on x-axis for main axes\n",
        "main_axes.xaxis.set_minor_locator( AutoMinorLocator() )\n",
        "\n",
        "# draw the legend\n",
        "main_axes.legend( frameon=False ); # no box around the legend"
      ]
    },
    {
      "cell_type": "markdown",
      "metadata": {
        "id": "YhX4PJq56oe9"
      },
      "source": [
        "Compare this with \"Total Cross Section\" as a function of \"Center of Mass Energy\".\n",
        "\n",
        "<a href=\"https://atlas.web.cern.ch/Atlas/GROUPS/PHYSICS/PLOTS/MUON-2023-03/fig_01a.png\"><img src=\"https://atlas.web.cern.ch/Atlas/GROUPS/PHYSICS/PLOTS/MUON-2023-03/fig_01a.png\" alt=\"Di-muon mass distribution\" width=\"70%\"></a>\n",
        "\n",
        "<a id='tasks'></a>\n",
        "\n",
        "## Some calculations by hand\n",
        "\n",
        "1. Calculate the invariant mass for this event, in GeV.\n",
        "    * lep_px[0] = 32387 MeV,\n",
        "    * lep_px[1] = -18772 MeV,\n",
        "    * lep_py[0] = 7047 MeV,\n",
        "    * lep_py[1] = -9563 MeV,\n",
        "    * lep_pz[0] = 144152 MeV,\n",
        "    * lep_pz[1] = -2942 MeV,\n",
        "    * lep_E[0] = 147913 MeV,\n",
        "    * lep_E[1] = 21272 MeV\n",
        "    * (can you check these values yourself?)\n",
        "    * (can you check your calculated value?)\n",
        "2. If lep[0] in the first event is an electron, what's its Lorentz factor, $\\gamma$? Use an electron mass of 0.5 MeV in the formula $E = \\gamma m$\n",
        "3. Calculate lep_p[0], the magnitude of the total momentum of lep[0].\n",
        "4. Using lep_p[0], calculate the speed of this electron. Use the formula $p = \\gamma mv/c$ (if you would like, you can compare the momentum to the formula from Newton, $p=mv$, and compare the kinetic energy to $m v^2 / 2$, to see how important relativity is at these energies).\n",
        "\n",
        "## Concepts\n",
        "\n",
        "1. Write the possible Z decays into charged leptons. Give an argument as to whether or not each decay happens at the same rate.\n",
        "2. Besides charged leptons, what are the other possible decays of the Z?"
      ]
    },
    {
      "cell_type": "markdown",
      "metadata": {
        "id": "GhPBvo166oe9"
      },
      "source": [
        "[Back to contents](#contents)"
      ]
    },
    {
      "cell_type": "markdown",
      "metadata": {
        "id": "HU-Si7JM6oe9"
      },
      "source": [
        "We hope you enjoyed finding the Z boson yourself. For more analysis notebooks visit the [ATLAS Open Data website](https://opendata.atlas.cern) or directly our [educational notebooks section](https://opendata.atlas.cern/docs/13TeV25Doc/13tutorial). Happy analyzing!"
      ]
    },
    {
      "cell_type": "markdown",
      "metadata": {
        "id": "sGOIpz-Z6oe-"
      },
      "source": [
        "## Going further\n",
        "\n",
        "If you want to go further, there are a number of things you could try:\n",
        "* **Estimate the mass of the Z boson** from your graph.\n",
        "* **Estimate the width of the Z boson** from your graph. Look up the real width, and see if you can explain why yours is different.\n",
        "* **Increase the fraction** of events processed. Remove the line `entry_stop=numevents*0.5` in '[Can we process the data yet?!](#load_data)' to process all the events in the file.\n",
        "* **Use even more data**. Remove the line `break` from the function in '[Can we process the data yet?!](#load_data)' to run through all the available files. We can use all the data ATLAS collected during 2015 and 2016. The analysis will take a bit longer to run!\n",
        "* **Make a fit to your graph**. See if you can automatically fit the peak position and width of the Z boson.\n",
        "* **Extract the Z boson mass from your fit**.\n",
        "* **Extract the Z boson width from your fit**.\n",
        "* **Extend your graph**. Try a larger range in mass. Can you see the Higgs boson? Why or why not? Can you see any particles with much lower mass (around 5-10 GeV)? Why or why not? Can you figure out what some of those particles might be?\n",
        "\n",
        "With each change, keep an eye on your graph."
      ]
    },
    {
      "cell_type": "markdown",
      "metadata": {
        "id": "j8nKESDq6oe-"
      },
      "source": [
        "[Back to contents](#contents)"
      ]
    }
  ],
  "metadata": {
    "kernelspec": {
      "display_name": "Python 3",
      "language": "python",
      "name": "python3"
    },
    "language_info": {
      "codemirror_mode": {
        "name": "ipython",
        "version": 3
      },
      "file_extension": ".py",
      "mimetype": "text/x-python",
      "name": "python",
      "nbconvert_exporter": "python",
      "pygments_lexer": "ipython3",
      "version": "3.9.12"
    },
    "colab": {
      "provenance": []
    }
  },
  "nbformat": 4,
  "nbformat_minor": 0
}