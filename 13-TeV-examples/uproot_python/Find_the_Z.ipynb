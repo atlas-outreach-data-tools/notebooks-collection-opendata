{
 "cells": [
  {
   "cell_type": "markdown",
   "metadata": {},
   "source": [
    "<CENTER><img src=\"../../images/ATLASOD.gif\" style=\"width:50%\"></CENTER>"
   ]
  },
  {
   "cell_type": "markdown",
   "metadata": {},
   "source": [
    "# Find the Z boson yourself!\n",
    "This notebook uses ATLAS Open Data http://opendata.atlas.cern to show you the steps to find the Z boson.\n",
    "\n",
    "The whole notebook takes less than an hour to follow through.\n",
    "\n",
    "Notebooks are web applications that allow you to create and share documents that can contain:\n",
    "1. live code\n",
    "2. visualisations\n",
    "3. narrative text\n",
    "\n",
    "Notebooks are a perfect platform to develop in Python, since you'll need exactly those 3 things: code, visualisations and narrative text!\n",
    "\n",
    "By the end of this notebook you will be able to:\n",
    "1. find the Z boson yourself\n",
    "2. know some things you can change to improve your measurement"
   ]
  },
  {
   "cell_type": "markdown",
   "metadata": {},
   "source": [
    "<CENTER><img src=\"images/feynman_diagrams/Zee_feynman.png\" style=\"width:40%\"></CENTER>"
   ]
  },
  {
   "cell_type": "markdown",
   "metadata": {},
   "source": [
    "<a id='contents'></a>"
   ]
  },
  {
   "cell_type": "markdown",
   "metadata": {},
   "source": [
    "Contents: \n",
    "\n",
    "[Running a Jupyter notebook](#running) <br />\n",
    "[To setup everytime](#setupeverytime) <br />\n",
    "[Where's my data](#fraction) <br />\n",
    "[Calculate that invariant mass!](#good_leptons) <br />\n",
    "[Can we process the data yet?!](#load_data) <br />\n",
    "[Plot Data](#plot_data) <br />\n",
    "[Your tasks](#tasks) <br />\n",
    "[Going further](#going_further) <br />"
   ]
  },
  {
   "cell_type": "markdown",
   "metadata": {},
   "source": [
    "<a id='running'></a>"
   ]
  },
  {
   "cell_type": "markdown",
   "metadata": {},
   "source": [
    "## Running a Jupyter notebook\n",
    "\n",
    "To run the whole Jupyter notebook, in the top menu click Cell -> Run All.\n",
    "\n",
    "To propagate a change you've made to a piece of code, click Cell -> Run All Below.\n",
    "\n",
    "You can also run a single code cell, by using the keyboard shortcut Shift+Enter."
   ]
  },
  {
   "cell_type": "markdown",
   "metadata": {},
   "source": [
    "[Back to contents](#contents)"
   ]
  },
  {
   "cell_type": "markdown",
   "metadata": {},
   "source": [
    "<a id='setupeverytime'></a>"
   ]
  },
  {
   "cell_type": "markdown",
   "metadata": {},
   "source": [
    "## First time setup on your computer (no need on mybinder)\n",
    "This first cell only needs to be run the first time you open this notebook on your computer. \n",
    "\n",
    "If you close Jupyter and re-open on the same computer, you won't need to run this first cell again.\n",
    "\n",
    "If you open on mybinder, you don't need to run this cell."
   ]
  },
  {
   "cell_type": "code",
   "execution_count": null,
   "metadata": {},
   "outputs": [],
   "source": [
    "import yaml\n",
    "import subprocess\n",
    "import sys\n",
    "\n",
    "# Path to your binder/environment.yml file\n",
    "environment_file = \"../../binder/environment.yml\"\n",
    "\n",
    "# Packages you want to install\n",
    "required_packages = ['pandas', 'numpy', 'uproot3', 'numpy', 'matplotlib']\n",
    "\n",
    "# Load the environment.yml file\n",
    "with open(environment_file, 'r') as file:\n",
    "    environment_data = yaml.safe_load(file)\n",
    "\n",
    "# Extract dependencies\n",
    "dependencies = environment_data.get('dependencies', [])\n",
    "\n",
    "# Create a list to hold the packages with versions\n",
    "install_packages = []\n",
    "\n",
    "# Find the versions for the required packages\n",
    "for dep in dependencies:\n",
    "    # Check if the dependency is a string (package name)\n",
    "    if isinstance(dep, str):\n",
    "        for package in required_packages:\n",
    "            if dep.startswith(package):\n",
    "                install_packages.append(dep)\n",
    "\n",
    "# Install packages using pip\n",
    "if install_packages:\n",
    "    print(f\"Installing packages: {install_packages}\")\n",
    "    subprocess.run([sys.executable, \"-m\", \"pip\", \"install\", \"--upgrade\", \"--user\"] + install_packages)\n",
    "else:\n",
    "    print(\"No matching packages found in environment.yml.\")"
   ]
  },
  {
   "cell_type": "markdown",
   "metadata": {},
   "source": [
    "## To setup everytime\n",
    "We're going to be using a number of tools to help us:\n",
    "* urllib: let us download files\n",
    "* uproot: lets us read .root files typically used in particle physics into data formats used in Python\n",
    "* pandas: lets us store data as dataframes, a format widely used in Python\n",
    "* numpy: provides numerical calculations such as histogramming\n",
    "* matplotlib: common tool for making plots, figures, images, visualisations"
   ]
  },
  {
   "cell_type": "code",
   "execution_count": 4,
   "metadata": {
    "scrolled": true
   },
   "outputs": [],
   "source": [
    "import urllib.request # for downloading files\n",
    "import pandas as pd # to store data as dataframes\n",
    "import numpy as np # for numerical calculations such as histogramming\n",
    "import uproot3 # to read .root files as dataframes\n",
    "import matplotlib.pyplot as plt # for plotting"
   ]
  },
  {
   "cell_type": "markdown",
   "metadata": {},
   "source": [
    "<a id='fraction'></a>"
   ]
  },
  {
   "cell_type": "markdown",
   "metadata": {},
   "source": [
    "## Where's my data?"
   ]
  },
  {
   "cell_type": "code",
   "execution_count": 5,
   "metadata": {},
   "outputs": [
    {
     "data": {
      "text/plain": [
       "('data_A.exactly2lep.root', <http.client.HTTPMessage at 0x7f41f7c0cd00>)"
      ]
     },
     "execution_count": 5,
     "metadata": {},
     "output_type": "execute_result"
    }
   ],
   "source": [
    "filename = 'data_A.exactly2lep.root'\n",
    "url = 'https://atlas-opendata.web.cern.ch/atlas-opendata/samples/2020/exactly2lep/Data/'+filename\n",
    "urllib.request.urlretrieve(url, filename)"
   ]
  },
  {
   "cell_type": "markdown",
   "metadata": {},
   "source": [
    "[Back to contents](#contents)"
   ]
  },
  {
   "cell_type": "markdown",
   "metadata": {},
   "source": [
    "<a id='good_leptons'></a>"
   ]
  },
  {
   "cell_type": "markdown",
   "metadata": {},
   "source": [
    "## Calculate that invariant mass!"
   ]
  },
  {
   "cell_type": "markdown",
   "metadata": {},
   "source": [
    "Fill in the missing lines to calculate invariant mass.\n",
    "\n",
    "1. If the energy of the 2 leptons are *lep_E[0]* and *lep_E[1]*, write the sum of energy, *sumE*\n",
    "2. Write the sum of x-momentum, *sumpx*\n",
    "3. Do the same for y and z momenta (*sumpy* and *sumpz*)\n",
    "4. Now you have the x,y,z components sumpx,sumpy,sumpz. The vector **sump** = (sumpx,sumpy,sumpz). Write the magnitude of total momentum, *sump*.\n",
    "\n",
    "The invariant mass, *M*, of a parent particle decaying to two daughter particles is related to properties of the daughter particles by the formula:\n",
    "\n",
    "$$M^2=E^2-p^2,$$\n",
    "\n",
    "where *E* is the total energy of the daughter particles, and *p* is the magnitude of the vector sum of the momenta of the daughter particles. This is written in natural units with *c*=1.\n",
    "\n",
    "5. Write *Mll* using this formula for invariant mass"
   ]
  },
  {
   "cell_type": "code",
   "execution_count": 7,
   "metadata": {},
   "outputs": [],
   "source": [
    "# calculate dilepton invariant mass\n",
    "def calc_mll(lep_pt,lep_eta,lep_phi,lep_E): # lepton pt,eta,phi,energy\n",
    "    \n",
    "    # 0th lepton is [0], next lepton is [1] etc\n",
    "    # get the energy of 0th lepton by lep_E[0]\n",
    "\n",
    "    # sumE = sum of energy\n",
    "    sumE = 0 # Replace the 0 with your solution\n",
    "    \n",
    "    px_0 = lep_pt[0]*np.cos(lep_phi[0]) # x-momentum of 0th lepton\n",
    "    px_1 = lep_pt[1]*np.cos(lep_phi[1]) # x-momentum of 1st lepton\n",
    "    py_0 = lep_pt[0]*np.sin(lep_phi[0]) # y-momentum of 0th lepton\n",
    "    py_1 = lep_pt[1]*np.sin(lep_phi[1]) # y-momentum of 1st lepton\n",
    "    pz_0 = lep_pt[0]*np.sinh(lep_eta[0]) # z-momentum of 0th lepton\n",
    "    pz_1 = lep_pt[1]*np.sinh(lep_eta[1]) # z-momentum of 1st lepton\n",
    "    \n",
    "    # sumpx = sum of x-momenta\n",
    "    sumpx = 0 # Replace the 0 with your solution\n",
    "    \n",
    "    # sumpy = sum of y-momenta\n",
    "    sumpy = 0 # Replace the 0 with your solution\n",
    "    \n",
    "    # sumpz = sum of z-momenta\n",
    "    sumpz = 0 # Replace the 0 with your solution\n",
    "    \n",
    "    # sump = magnitude of total momentum vector. Remember it's a vector!\n",
    "    sump = 0 # Replace the 0 with your solution\n",
    "    \n",
    "    # Mll = invariant mass from M^2 = E^2 - p^2\n",
    "    Mll = 0 # Replace the 0 with your solution\n",
    "    \n",
    "    return Mll/1000 # divide by 1000 to go from MeV to GeV"
   ]
  },
  {
   "cell_type": "markdown",
   "metadata": {},
   "source": [
    "<a id='load_data'></a>"
   ]
  },
  {
   "cell_type": "markdown",
   "metadata": {},
   "source": [
    "## Can we process the data yet?!"
   ]
  },
  {
   "cell_type": "code",
   "execution_count": 8,
   "metadata": {},
   "outputs": [],
   "source": [
    "data_all = pd.DataFrame() # define empty pandas DataFrame to hold all data for this sample\n",
    "tree = uproot3.open(filename)[\"mini\"] # open the tree called mini\n",
    "numevents = uproot3.numentries(filename, \"mini\") # number of events\n",
    "\n",
    "for data in tree.iterate(['lep_pt','lep_eta','lep_phi','lep_E'], \n",
    "                         outputtype=pd.DataFrame, # choose output type as pandas DataFrame\n",
    "                         entrystop=numevents*0.001): # stop after fraction of events we want to process\n",
    "\n",
    "    # calculation of 2-lepton invariant mass                                                                                                                                      \n",
    "    data['mll'] = np.vectorize(calc_mll)(data.lep_pt, data.lep_eta, data.lep_phi, data.lep_E)\n",
    "\n",
    "    data_all = pd.concat([data_all, data], ignore_index=True) # append dataframe from this batch to the dataframe for the whole sample\n"
   ]
  },
  {
   "cell_type": "markdown",
   "metadata": {},
   "source": [
    "[Back to contents](#contents)"
   ]
  },
  {
   "cell_type": "markdown",
   "metadata": {},
   "source": [
    "<a id='plot_data'></a>"
   ]
  },
  {
   "cell_type": "markdown",
   "metadata": {},
   "source": [
    "## Function to plot Data"
   ]
  },
  {
   "cell_type": "code",
   "execution_count": null,
   "metadata": {
    "scrolled": true
   },
   "outputs": [],
   "source": [
    "bin_edges = np.arange(start=35, # The interval includes this value\n",
    "                      stop=110, # The interval doesn't include this value\n",
    "                      step=5 ) # Spacing between values\n",
    "bin_centres = (bin_edges[:-1] + bin_edges[1:]) / 2 # central values of each bin\n",
    "\n",
    "# histogram the data\n",
    "data_x,_ = np.histogram(data_all['mll'], bins=bin_edges ) \n",
    "\n",
    "# statistical error on the data\n",
    "data_x_errors = np.sqrt(data_x)\n",
    "\n",
    "# plot the data points\n",
    "plt.errorbar(x=bin_centres, \n",
    "                   y=data_x, \n",
    "                   yerr=data_x_errors,\n",
    "                   fmt='ko' ) # 'k' means black and 'o' is for circles\n",
    "\n",
    "# x-axis label\n",
    "plt.xlabel('Mll [GeV]')\n",
    "\n",
    "# y-axis label\n",
    "plt.ylabel('Events')\n",
    "\n",
    "# make the y-axis log scale\n",
    "plt.yscale('log')"
   ]
  },
  {
   "attachments": {
    "Z%20boson.png": {
     "image/png": "[encoded data removed]"
    }
   },
   "cell_type": "markdown",
   "metadata": {},
   "source": [
    "Compare this with \"Total Cross Section\" as a function of \"Center of Mass Energy\".\n",
    "\n",
    "![Z%20boson.png](attachment:Z%20boson.png)\n",
    "\n",
    "<a id='tasks'></a>\n",
    "\n",
    "## Your tasks\n",
    "\n",
    "1. Write the invariant mass formula, $M^2=E^2-p^2$, with *c* included.\n",
    "2. Calculate the invariant mass for the first event, in GeV. \n",
    "    * lep_px[0] = 32387 MeV, \n",
    "    * lep_px[1] = -18772 MeV, \n",
    "    * lep_py[0] = 7047 MeV, \n",
    "    * lep_py[1] = -9563 MeV, \n",
    "    * lep_pz[0] = 144152 MeV, \n",
    "    * lep_pz[1] = -2942 MeV, \n",
    "    * lep_E[0] = 147913 MeV, \n",
    "    * lep_E[1] = 21272 MeV \n",
    "    * (can you check these values yourself?)\n",
    "    * (can you check your calculated value?)\n",
    "3. If lep[0] in the first event is an electron, what's its Lorentz factor, $\\gamma$? Use an electron mass of 0.5 MeV in the formula $E = \\gamma m$\n",
    "4. Calculate lep_p[0], the magnitude of the total momentum of lep[0].\n",
    "5. Using lep_p[0], calculate the speed of this electron. Use the formula $p = \\gamma mv/c$\n",
    "6. Write the possible Z decays into charged leptons. Give an argument as to whether or not each decay happens at the same rate.\n",
    "7. Besides charged leptons, what are the other possible decays of the Z?"
   ]
  },
  {
   "cell_type": "markdown",
   "metadata": {},
   "source": [
    "[Back to contents](#contents)"
   ]
  },
  {
   "cell_type": "markdown",
   "metadata": {},
   "source": [
    "Finding the Z boson in ATLAS data is a case of calculating invariant mass and plotting a range up to about 100 GeV. The Z boson then shows up in your graph!\n",
    "\n",
    "Hopefully you've enjoyed finding the Z boson yourself!"
   ]
  },
  {
   "cell_type": "markdown",
   "metadata": {},
   "source": [
    "<a id='going_further'></a>"
   ]
  },
  {
   "cell_type": "markdown",
   "metadata": {},
   "source": [
    "## Going further\n",
    "\n",
    "If you want to go further, there are a number of things you could try: \n",
    "* **Estimate the mass of the Z boson** from your graph.\n",
    "* **Estimate the width of the Z boson** from your graph.\n",
    "* **Increase the fraction** of events processed. In the line `entrystop=numevents*` in '[Can we process the data yet?!](#load_data)', increase the number from 0.001. \n",
    "* **Use larger data files**. `data_A` used so far corresponds to an integrated luminosity of 0.5 fb$^{-1}$. Other files include: `data_B` 1.9 fb$^{-1}$, `data_C` 2.9 fb$^{-1}$, `data_D` 4.7 fb$^{-1}$. Try one of these larger files.\n",
    "* **Use all data files together**. `data_A` + `B` + `C` + `D` corresponds to about 1/14th of the data collected by ATLAS at a centre-of-mass energy of 13 TeV - the highest energy particle collisions achieved on earth.\n",
    "* **Write the name of the type of peak shown in your graph**.\n",
    "* **Make a fit to your graph**.\n",
    "* **Extract the Z boson mass from your fit**.\n",
    "* **Extract the Z boson width from your fit**.\n",
    "\n",
    "With each change, keep an eye on your graph."
   ]
  },
  {
   "cell_type": "markdown",
   "metadata": {},
   "source": [
    "[Back to contents](#contents)"
   ]
  }
 ],
 "metadata": {
  "kernelspec": {
   "display_name": "Python 3",
   "language": "python",
   "name": "python3"
  },
  "language_info": {
   "codemirror_mode": {
    "name": "ipython",
    "version": 3
   },
   "file_extension": ".py",
   "mimetype": "text/x-python",
   "name": "python",
   "nbconvert_exporter": "python",
   "pygments_lexer": "ipython3",
   "version": "3.9.12"
  }
 },
 "nbformat": 4,
 "nbformat_minor": 4
}
