{
  "cells": [
    {
      "cell_type": "markdown",
      "metadata": {
        "id": "rJtApcSrSh36"
      },
      "source": [
        "<CENTER><img src=\"https://github.com/atlas-outreach-data-tools/notebooks-collection-opendata/blob/master/images/ATLASOD.gif?raw=1\" style=\"width:50%\"></CENTER>"
      ]
    },
    {
      "cell_type": "markdown",
      "metadata": {
        "id": "KJu173g1Sh38"
      },
      "source": [
        "# How to rediscover the Higgs boson yourself!\n",
        "This notebook uses ATLAS Open Data http://opendata.atlas.cern to show you the steps to rediscover the Higgs boson yourself!\n",
        "\n",
        "ATLAS Open Data provides open access to proton-proton collision data at the LHC for educational purposes. ATLAS Open Data resources are ideal for high-school, undergraduate and postgraduate students.\n",
        "\n",
        "Notebooks are web applications that allow you to create and share documents that can contain for example:\n",
        "1. live code\n",
        "2. visualisations\n",
        "3. narrative text"
      ]
    },
    {
      "cell_type": "markdown",
      "metadata": {
        "id": "HiEwRXmPSh39"
      },
      "source": [
        "### What is the Higgs boson?\n",
        "The Higgs boson is a fundamental particle predicted by the Standard Model. It is a manifestation of the Higgs field, which gives mass to fundamental particles. However, it is incredibly difficult to produce. At the LHC, a Higgs particle is produced about once every 10 billion collisions, making it very challenging to detect.\n",
        "\n",
        "Despite this tiny fraction, years of data collection led to the discovery of the Higgs boson in 2012 by the CMS and ATLAS experiments at CERN. In this tutorial, we will follow their example."
      ]
    },
    {
      "cell_type": "markdown",
      "metadata": {
        "id": "fImwDqm8Sh39"
      },
      "source": [
        "### Detecting the Higgs\n",
        "This analysis loosely follows the [discovery of the Higgs boson by ATLAS](https://www.sciencedirect.com/science/article/pii/S037026931200857X) (Section 5) and one of the subsequent ATLAS measurements making use of more data and allowing for more detailed studies: [Measurements of Higgs boson properties in the diphoton decay channel](https://journals.aps.org/prd/abstract/10.1103/PhysRevD.98.052005) (Section 5).\n",
        "\n",
        "The Higgs boson can be generated through various mechanisms. In particle physics, we use Feynman diagrams to illustrate these production modes. These diagrams help us visualize particle interactions and serve as essential tools for computations. For additional details on Feynman diagrams, see this [link](https://cds.cern.ch/record/2759490/files/Feynman%20Diagrams%20-%20ATLAS%20Cheat%20Sheet.pdf).\n",
        "\n",
        "There are four primary production modes for the Higgs boson, each represented by its own Feynman diagram:\n",
        "1. Gluon-gluon fusion (top left)\n",
        "2. Vector boson fusion (top right)\n",
        "3. Vector boson bremsstrahlung (bottom left)\n",
        "4. Top-antitop fusion (bottom right)\n",
        "\n",
        "<CENTER><img src=\"https://github.com/atlas-outreach-data-tools/notebooks-collection-opendata/blob/master/13-TeV-examples/uproot_python/images/ImagesHiggs/ggH.png?raw=1\" style=\"width:40%\"> <img src=\"https://github.com/atlas-outreach-data-tools/notebooks-collection-opendata/blob/master/13-TeV-examples/uproot_python/images/ImagesHiggs/VBFH.png?raw=1\" style=\"width:35%\"></CENTER>\n",
        "<CENTER><img src=\"https://github.com/atlas-outreach-data-tools/notebooks-collection-opendata/blob/master/13-TeV-examples/uproot_python/images/ImagesHiggs/WH.png?raw=1\" style=\"width:40%\"> <img src=\"https://github.com/atlas-outreach-data-tools/notebooks-collection-opendata/blob/master/13-TeV-examples/uproot_python/images/ImagesHiggs/ttbarfusion.png?raw=1\" style=\"width:35%\"></CENTER>\n",
        "\n",
        "\n",
        "The Higgs boson has an extremely brief lifetime, approximately $10^{-22} \\,\\text{s}$. It decays almost immediately after it is produced, making direct detection of the particle impossible. However, by using the Standard Model, we can predict the various decay products of the Higgs, such as photons, Z bosons, quarks, and others, each occurring with different probabilities. These **decay channels** help us identify the presence of the Higgs boson. In this notebook, we will focus on analyzing one specific decay channel:\n",
        "$$H \\rightarrow \\gamma\\gamma$$\n",
        "\n",
        "<CENTER><img src=\"https://github.com/atlas-outreach-data-tools/notebooks-collection-opendata/blob/master/13-TeV-examples/uproot_python/images/feynman_diagrams/Hyy_feynman.png?raw=1\" style=\"width:40%\"></CENTER>\n",
        "\n",
        "We refer to this as our desired **signal**. Ideally, we aim to identify collisions that produce two photons, which would indicate the presence of a Higgs boson. However, along with our signal, many photons detected do not originate from Higgs boson decay but rather from other processes, forming the **background**.\n",
        "\n",
        "Backgrounds are classified into two categories: reducible and irreducible. **Reducible backgrounds** can be significantly minimized using experimental techniques such as data cuts, particle identification, and isolation criteria. For instance, in our case, a reducible background might involve events where a jet is misidentified as a photon. By applying stricter criteria to ensure that the detected particles are indeed photons (and not misidentified jets), this background can be reduced.\n",
        "\n",
        "On the other hand, irreducible backgrounds cannot be easily distinguished from the signal because they involve the same final states or processes that the signal would produce. In the scenario of Higgs decay into two photons, an **irreducible background** would be the direct production of two photons from other Standard Model processes, such as quark-antiquark annihilation. These events are fundamentally indistinguishable from the signal events based on final state particles alone.\n",
        "\n",
        "    \n",
        "To address this, we can consider the total invariant mass of the photon products. By conservation of energy and momentum, the invariant mass of the products must equal the Higgs mass, whereas other background processes will have different invariant masses. The final step is to plot the invariant mass of each event and identify the peak around 125 GeV, which corresponds to the mass of the Higgs boson.\n",
        "\n",
        "By the end of this notebook you will be able to:\n",
        "1. Learn to process large data sets using cuts\n",
        "2. Understand some general principles of a particle physics analysis\n",
        "3. Discover the Higgs boson!\n",
        "\n",
        "See [here](https://cds.cern.ch/record/2800577/files/Signal%20and%20Background%20Physics%20Cheat%20Sheet.pdf) for more information on signals and backgrounds!"
      ]
    },
    {
      "cell_type": "markdown",
      "metadata": {
        "id": "TUWvQTHFSh3_"
      },
      "source": [
        "### Running a Jupyter notebook\n",
        "A Jupyter notebook consists of cell blocks,\n",
        "    each containing lines of Python code.\n",
        "Each cell can be run independently of each other,\n",
        "    yielding respective outputs below the cells.\n",
        "Conventionally,\n",
        "    cells are run in order from top to bottom.\n",
        "\n",
        "\n",
        "- To run the whole notebook, in the top menu click Cell $\\to$ Run All.\n",
        "\n",
        "- To propagate a change you've made to a piece of code, click Cell $\\to$ Run All Below.\n",
        "\n",
        "- You can also run a single code cell, by clicking Cell $\\to$ Run Cells, or using the keyboard shortcut Shift+Enter.\n",
        "\n",
        "For more information,\n",
        "    refer to [here](https://www.codecademy.com/article/how-to-use-jupyter-notebooks)."
      ]
    },
    {
      "cell_type": "markdown",
      "metadata": {
        "id": "y7CtkAXTSh3_"
      },
      "source": [
        "## ATLAS Open Data Initialisation"
      ]
    },
    {
      "cell_type": "markdown",
      "metadata": {
        "id": "tvmgp1E4Sh4A"
      },
      "source": [
        "### First time package installation on your computer (not needed on mybinder)\n",
        "This first cell installs the required python packages.\n",
        "It only needs to be run the first time you open this notebook on your computer.\n",
        "If you close Jupyter and re-open on the same computer, you won't need to run this first cell again.\n",
        "If this is opened on mybinder, you don't need to run this cell."
      ]
    },
    {
      "cell_type": "code",
      "execution_count": null,
      "metadata": {
        "id": "ROgtJAUuSh4A"
      },
      "outputs": [],
      "source": [
        "#install required packages\n",
        "import sys\n",
        "%pip install atlasopenmagic\n",
        "from atlasopenmagic import install_from_environment\n",
        "install_from_environment()"
      ]
    },
    {
      "cell_type": "markdown",
      "metadata": {
        "id": "FGqUO7iQSh4B"
      },
      "source": [
        "### To setup everytime\n",
        "We're going to be using a number of tools to help us:\n",
        "* uproot: lets us read .root files typically used in particle physics into data formats used in python\n",
        "* awkward: lets us handle complex and nested data structures efficiently\n",
        "* numpy: provides numerical calculations such as histogramming\n",
        "* matplotlib: common tool for making plots, figures, images, visualisations\n",
        "* lmfit: tool for statistical fitting"
      ]
    },
    {
      "cell_type": "code",
      "execution_count": 2,
      "metadata": {
        "id": "PXnTKJOiSh4B"
      },
      "outputs": [],
      "source": [
        "import uproot # for reading .root files\n",
        "import time # to measure time to analyse\n",
        "import math # for mathematical functions such as square root\n",
        "import awkward as ak # for handling complex and nested data structures efficiently\n",
        "import numpy as np # # for numerical calculations such as histogramming\n",
        "import matplotlib.pyplot as plt # for plotting\n",
        "from matplotlib.ticker import MaxNLocator,AutoMinorLocator # for minor ticks\n",
        "from lmfit.models import PolynomialModel, GaussianModel # for the signal and background fits\n",
        "import vector #to use vectors\n",
        "import requests # for HTTP access\n",
        "import aiohttp # HTTP client support"
      ]
    },
    {
      "cell_type": "markdown",
      "metadata": {
        "id": "-9MszouWSh4B"
      },
      "source": [
        "## Example 1: Reading data"
      ]
    },
    {
      "cell_type": "markdown",
      "metadata": {
        "id": "x0fmpWqmSh4B"
      },
      "source": [
        "We will use the [atlasopenmagic](https://opendata.atlas.cern/docs/data/atlasopenmagic) to access the open data directly from the ATLAS OpenData Portal so no need to download any samples. First we import the module and load the Open Data release."
      ]
    },
    {
      "cell_type": "code",
      "execution_count": 3,
      "metadata": {
        "id": "A-b2rSCLSh4B",
        "outputId": "f1970dad-1fa5-4dad-9b3c-6b04a5825dbf",
        "colab": {
          "base_uri": "https://localhost:8080/"
        }
      },
      "outputs": [
        {
          "output_type": "stream",
          "name": "stdout",
          "text": [
            "Available releases:\n",
            "========================================\n",
            "2016e-8tev        2016 Open Data for education release of 8 TeV proton-proton collisions (https://opendata.cern.ch/record/3860).\n",
            "2020e-13tev       2020 Open Data for education release of 13 TeV proton-proton collisions (https://cern.ch/2r7xt).\n",
            "2024r-pp          2024 Open Data for research release for proton-proton collisions (https://opendata.cern.record/80020).\n",
            "2024r-hi          2024 Open Data for research release for heavy-ion collisions (https://opendata.cern.ch/record/80035).\n",
            "2025e-13tev-beta  2025 Open Data for education and outreach beta release for 13 TeV proton-proton collisions (https://opendata.cern.ch/record/93910).\n",
            "2025r-evgen       2025 Open Data for research release for event generation (https://opendata.cern.ch/record/160000).\n",
            "Active release set to: 2025e-13tev-beta. Metadata cache cleared.\n"
          ]
        }
      ],
      "source": [
        "import atlasopenmagic as atom\n",
        "atom.available_releases()\n",
        "atom.set_release('2025e-13tev-beta')"
      ]
    },
    {
      "cell_type": "markdown",
      "metadata": {
        "id": "_z-yxvIZSh4D"
      },
      "source": [
        "We would like to load the Open Data ntuples which already have been selected (skimmed) to contain at least two photons."
      ]
    },
    {
      "cell_type": "code",
      "execution_count": 4,
      "metadata": {
        "id": "bgDOIEgZSh4D"
      },
      "outputs": [],
      "source": [
        "# Select the skim to use for the analysis\n",
        "skim = \"GamGam\""
      ]
    },
    {
      "cell_type": "markdown",
      "metadata": {
        "id": "l9CcEXQUSh4E"
      },
      "source": [
        "The data is organized by the collection periods throughout the year. In this notebook, we will use the 2015 data from periods D, E, F, G, H, and J, as well as the 2016 data from periods A, B, C, D, E, F, G, K, and L."
      ]
    },
    {
      "cell_type": "code",
      "execution_count": 5,
      "metadata": {
        "id": "fuB8PSq3Sh4E",
        "outputId": "f9190538-efe5-49a5-f836-686f2adfa7b3",
        "colab": {
          "base_uri": "https://localhost:8080/"
        }
      },
      "outputs": [
        {
          "output_type": "stream",
          "name": "stdout",
          "text": [
            "Fetching and caching all metadata for release: 2025e-13tev-beta...\n",
            "Successfully cached 374 datasets.\n"
          ]
        }
      ],
      "source": [
        "# Let's get the list of files to go through\n",
        "# Notice that we use \"cache\" so that the files are downloaded locally and not streamed\n",
        "files_list = atom.get_urls('data', skim, protocol='https', cache=True)"
      ]
    },
    {
      "cell_type": "markdown",
      "metadata": {
        "id": "4KYHQIh2Sh4E"
      },
      "source": [
        "Let's try accessing `data15_periodD` in the ATLAS Open Data directory as an example."
      ]
    },
    {
      "cell_type": "code",
      "execution_count": 6,
      "metadata": {
        "id": "ReYkBgwISh4F",
        "outputId": "ec0c89e1-76ab-494f-88f4-f92fa38c5235",
        "colab": {
          "base_uri": "https://localhost:8080/"
        }
      },
      "outputs": [
        {
          "output_type": "stream",
          "name": "stdout",
          "text": [
            "data15_periodD = 'simplecache::https://opendata.cern.ch/eos/opendata/atlas/rucio/opendata/ODEO_FEB2025_v0_GamGam_data15_periodD.GamGam.root'\n"
          ]
        }
      ],
      "source": [
        "# We will use the first entry in the list for testing\n",
        "data15_periodD = files_list[0]\n",
        "print(f\"{data15_periodD = }\")"
      ]
    },
    {
      "cell_type": "markdown",
      "metadata": {
        "id": "q-5C7M_OSh4F"
      },
      "source": [
        "Next, let's open the `data15_periodD` file to examine its contents. The file, known as a `tree`, contains multiple entries, each representing an event. For each event, a dictionary stores all relevant information with keys, such as the event number (`eventNumber`), the photon transverse momentum (`photon_pt`), and more.\n",
        "\n",
        "Details on the variables in the dictionary can be viewed [here](https://cds.cern.ch/record/2707171/files/ANA-OTRC-2019-01-PUB-updated.pdf) in Appendix A.\n",
        "\n",
        "More information on trees can be viewed [here](https://uproot.readthedocs.io/en/latest/uproot.behaviors.TTree.TTree.html) and [here](https://hsf-training.github.io/hsf-training-uproot-webpage/03-trees/index.html)."
      ]
    },
    {
      "cell_type": "code",
      "execution_count": null,
      "metadata": {
        "id": "rDPsBl7-Sh4G"
      },
      "outputs": [],
      "source": [
        "# Accessing the file from the online database (\":analysis\" opens the tree in a desired manner)\n",
        "tree = uproot.open(data15_periodD + \":analysis\")\n",
        "# The number of entries in the tree can be viewed\n",
        "print(\"The number of entries in the tree are:\", tree.num_entries)\n",
        "\n",
        "# All the information stored in the tree can be viewed using the .keys() method.\n",
        "print(\"The information stored in the tree is:\", tree.keys())"
      ]
    },
    {
      "cell_type": "markdown",
      "metadata": {
        "id": "f90oP_edSh4G"
      },
      "source": [
        "Perhaps we'd like to see the energies of the photons.\n",
        "We can access this from our tree using the key `photon_e`."
      ]
    },
    {
      "cell_type": "code",
      "execution_count": null,
      "metadata": {
        "id": "waywCz3GSh4G"
      },
      "outputs": [],
      "source": [
        "tree[\"photon_e\"].arrays()"
      ]
    },
    {
      "cell_type": "markdown",
      "metadata": {
        "id": "ncI7E3HkSh4G"
      },
      "source": [
        "Depending on the analysis, some variables are more revelant than others, providing directly or indirectly better discrimination of the signal with respect to the backgrounds than others.\n",
        "The most important variables for the $H \\rightarrow \\gamma\\gamma$ analysis can be stored in a list and retrieved later from the tree, and correspond to the following:"
      ]
    },
    {
      "cell_type": "code",
      "execution_count": 9,
      "metadata": {
        "id": "agJyXBCCSh4G"
      },
      "outputs": [],
      "source": [
        "variables = [\"photon_pt\",\"photon_eta\",\"photon_phi\",\"photon_e\",\n",
        "                            \"photon_isTightID\",\"photon_ptcone20\"]"
      ]
    },
    {
      "cell_type": "markdown",
      "metadata": {
        "id": "mwAuz6P1Sh4G"
      },
      "source": [
        "Now that we understand how to access the information in the `data15_periodD` tree, we can begin our analysis. As mentioned in the introduction, there are two key steps to complete for each event entry:\n",
        "1. **Cuts** - we need to account for photons selection rules in the event.\n",
        "Based on the [Higgs boson discovery paper](https://www.sciencedirect.com/science/article/pii/S037026931200857X) and the [Higgs boson decay to photons measurement paper](https://journals.aps.org/prd/abstract/10.1103/PhysRevD.98.052005), one can define some main selection criteria:\n",
        "- Photon candidates are required to pass identification criteria because there is a risk of misidentifying jets and other particles that can mimic photon signals as actual photons.\n",
        "- The leading (sub-leading) photon candidate is required to have $E_t$ (transverse energy) > 50 GeV (30 GeV) because background processes frequently generate photons with lower $E_t$. By setting these constraints, we can reduce the impact of background processes and thereby improve the signal-to-background ratio. Given that photons are massless particles, enforcing these requirements on transverse energy is effectively equivalent to enforcing them on transverse momentum.\n",
        "- Photon candidates are required to have a calorimeter isolation, consisting on the sum of the transverse energies of energy clusters in the calorimeter around a spatial cone centered around the photon, in order to make sure the photons detected are not originating from jets. Additional photon transverse energy relative to the diphoton mass isolation is also required.\n",
        "- Since the transition between the the barrel and end-cap of the calorimeter can introduce uncertainties in the energy measurements of particles this issue is resolved by excluding the calorimeter barrel/end-cap transition region 1.37 < |η| < 1.52.\n",
        "\n",
        "We need to filter the data such that in each event, the criteria mentioned above are satisfied.\n",
        "\n",
        "2. **Mass calculation** - the data to be plotted is the di-photon invariant mass, which can be calculated using the equation: $$m_{\\gamma\\gamma} = \\sqrt{E^2_\\text{tot}-\\mathbf{p}_\\text{tot}\\cdot\\mathbf{p}_\\text{tot}}$$\n",
        "in units where $c=1$.\n",
        "$E_\\text{tot}$ is the total energy and $\\mathbf{p}_\\text{tot}$ is the total momentum.\n",
        "This calculation is performed using the vector array method `.M` on the sum of the photon 4-momenta: (`photon_pt`,`photon_eta`,`photon_phi`,`photon_e`).\n",
        "\n",
        "From this,\n",
        "    we can see why we chose those six important variables earlier.\n",
        "Let's try to perform this two-step analysis for one event in `data15_periodD`."
      ]
    },
    {
      "cell_type": "code",
      "execution_count": null,
      "metadata": {
        "id": "evPnMKSvSh4H"
      },
      "outputs": [],
      "source": [
        "# This selects the first entry of the tree\n",
        "entry = tree.arrays(library=\"ak\")[:1]\n",
        "\n",
        "# Cut on the photon reconstruction quality\n",
        "photon_reconstruction = entry['photon_isTightID']\n",
        "# isTightID==True means a photon identified as being well reconstructed, only the events which have True for both photons are kept\n",
        "photon_reconstruction_cut_bool = (photon_reconstruction[:, 0] == False) | (photon_reconstruction[:, 1]==False) # [:, i] selects the i-th lepton in each event\n",
        "print(\"The reconstruction quality of the two photons:\", photon_reconstruction[:,0], photon_reconstruction[:,1])\n",
        "print(f\"Apply cut based on reconstruction quality requirements?{photon_reconstruction_cut_bool}\")\n",
        "\n",
        "# Cut on the transverse momentum\n",
        "photon_pt = entry['photon_pt']\n",
        "# Only the events where the leading photon has transverse momentum (pt) > 50 GeV and the sub-leading photon has pt > 30 GeV are kept\n",
        "# Since the two photons for each entry are ordered, the first photon is the leading one and the second one is the sub-leading one\n",
        "photon_pt_cut_bool = (photon_pt[:,0] < 50) | (photon_pt[:,1] < 30)\n",
        "print(\"The transverse momentum of the two photons:\", photon_pt[:,0], photon_pt[:,1])\n",
        "print(f\"Apply cut based on the transverse momentum requirements?{photon_pt_cut_bool}\")\n",
        "\n",
        "# Cut on the calorimeter isolation\n",
        "photon_ptcone20 = entry['photon_ptcone20']\n",
        "# Only the events where the invidivual photon calorimeter isolation is less than 5.5% are kept\n",
        "photon_caloiso_cut_bool = (((photon_ptcone20[:,0]/photon_pt[:,0]) > 0.055) | ((photon_ptcone20[:,1]/photon_pt[:,1]) > 0.055))\n",
        "print(\"The calorimeter isolation of the two photons:\", (photon_ptcone20[:,0]/photon_pt[:,0]), (photon_ptcone20[:,1]/photon_pt[:,1]))\n",
        "print(f\"Apply cut based on the calorimeter isolation requirements?{photon_caloiso_cut_bool}\")\n",
        "\n",
        "# Cut on the pseudorapidity in the barrel/end-cap transition region\n",
        "photon_eta = entry['photon_eta']\n",
        "# Only the events where modulus of photon_eta is outside the range 1.37 to 1.52 are kept\n",
        "condition_0 = (np.abs(photon_eta[:, 0]) < 1.52) & (np.abs(photon_eta[:, 0]) > 1.37)\n",
        "condition_1 = (np.abs(photon_eta[:, 1]) < 1.52) & (np.abs(photon_eta[:, 1]) > 1.37)\n",
        "photon_eta_cut_bool = (condition_0 | condition_1)\n",
        "print(\"The eta of the two photons:\", photon_eta[:,0], photon_eta[:,1])\n",
        "print(f\"Apply cut based on the eta requirements?{photon_eta_cut_bool}\")\n",
        "\n",
        "# This calculates the invariant mass of the 2-photon state\n",
        "p4 = vector.zip({\"pt\": entry['photon_pt'], \"eta\": entry['photon_eta'], \"phi\": entry['photon_phi'], \"e\": entry['photon_e']})\n",
        "invariant_mass = (p4[:, 0] + p4[:, 1]).M # .M calculates the invariant mass\n",
        "print(f\"The invariant mass of the 2-photon state is: {invariant_mass} GeV\")\n",
        "\n",
        "# Cut on the invariant mass based isolation\n",
        "# Only the events where the invididual photon invariant mass based isolation is larger than 35% are kept\n",
        "photon_massiso_cut_bool = ((photon_pt[:,0]/invariant_mass) < 0.35) | ((photon_pt[:,1]/invariant_mass) < 0.35)\n",
        "print(\"The invariant mass based isolation of the two photons:\", (photon_pt[:,0]/invariant_mass), (photon_pt[:,1]/invariant_mass))\n",
        "print(f\"Apply cut based on the invariant mass based isolation requirements?{photon_massiso_cut_bool}\")\n"
      ]
    },
    {
      "cell_type": "markdown",
      "metadata": {
        "id": "VEgKHwAkSh4H"
      },
      "source": [
        "Based on our analysis, this entry should be removed because the photons do not match all our requirements.\n",
        "We can turn these checks and calculations into a set of functions."
      ]
    },
    {
      "cell_type": "code",
      "execution_count": 11,
      "metadata": {
        "id": "ZpEt22z5Sh4H"
      },
      "outputs": [],
      "source": [
        "# Cut on the photon reconstruction quality\n",
        "def cut_photon_reconstruction(photon_isTightID):\n",
        "    # Only the events which have True for both photons are kept\n",
        "    return (photon_isTightID[:,0]==False) | (photon_isTightID[:,1]==False)\n",
        "\n",
        "# Cut on the transverse momentum\n",
        "def cut_photon_pt(photon_pt):\n",
        "# Only the events where photon_pt[0] > 50 GeV and photon_pt[1] > 30 GeV are kept\n",
        "    return (photon_pt[:,0] < 50) | (photon_pt[:,1] < 30)\n",
        "\n",
        "# Cut on the energy isolation\n",
        "def cut_isolation_pt(photon_ptcone20, photon_pt):\n",
        "# Only the events where the calorimeter isolation is less than 5.5% are kept\n",
        "    return ((photon_ptcone20[:,0]/photon_pt[:,0]) > 0.055) | ((photon_ptcone20[:,1]/photon_pt[:,1]) > 0.055)\n",
        "\n",
        "# Cut on the pseudorapidity in barrel/end-cap transition region\n",
        "def cut_photon_eta_transition(photon_eta):\n",
        "# Only the events where modulus of photon_eta is outside the range 1.37 to 1.52 are kept\n",
        "    condition_0 = (np.abs(photon_eta[:, 0]) < 1.52) & (np.abs(photon_eta[:, 0]) > 1.37)\n",
        "    condition_1 = (np.abs(photon_eta[:, 1]) < 1.52) & (np.abs(photon_eta[:, 1]) > 1.37)\n",
        "    return condition_0 | condition_1\n",
        "\n",
        "# This function calculates the invariant mass of the 2-photon state\n",
        "def calc_mass(photon_pt, photon_eta, photon_phi, photon_e):\n",
        "    p4 = vector.zip({\"pt\": photon_pt, \"eta\": photon_eta, \"phi\": photon_phi, \"e\": photon_e})\n",
        "    invariant_mass = (p4[:, 0] + p4[:, 1]).M # .M calculates the invariant mass\n",
        "    return invariant_mass\n",
        "\n",
        "# Cut on null diphoton invariant mass\n",
        "def cut_mass(invariant_mass):\n",
        "    return (invariant_mass == 0)\n",
        "\n",
        "# Cut on diphoton invariant mass based isolation\n",
        "# Only the events where the invididual photon invariant mass based isolation is larger than 35% are kept\n",
        "def cut_iso_mass(photon_pt, invariant_mass):\n",
        "    return ((photon_pt[:,0]/invariant_mass) < 0.35) | ((photon_pt[:,1]/invariant_mass) < 0.35)"
      ]
    },
    {
      "cell_type": "markdown",
      "metadata": {
        "id": "c2oZITTaSh4H"
      },
      "source": [
        "You may verify on your own that these functions give the same outputs as the previous code block.\n",
        "Now,\n",
        "    we shall apply these functions over the entire data tree using a `for` loop."
      ]
    },
    {
      "cell_type": "code",
      "execution_count": 12,
      "metadata": {
        "id": "yYc1zwjVSh4H"
      },
      "outputs": [],
      "source": [
        "# Define empty list to hold all data for this sample\n",
        "sample_data = []\n",
        "\n",
        "# Perform the cuts for each data entry in the tree\n",
        "for data in tree.iterate(variables, library=\"ak\"):\n",
        "\n",
        "    # data[~boolean] is used to remove entries from the data set\n",
        "    photon_isTightID = data['photon_isTightID']\n",
        "    data = data[~cut_photon_reconstruction(photon_isTightID)]\n",
        "\n",
        "    photon_pt = data['photon_pt']\n",
        "    data = data[~cut_photon_pt(photon_pt)]\n",
        "\n",
        "    data = data[~cut_isolation_pt(data['photon_ptcone20'],data['photon_pt'])]\n",
        "\n",
        "    photon_eta = data['photon_eta']\n",
        "    data = data[~cut_photon_eta_transition(photon_eta)]\n",
        "\n",
        "    data['mass'] = calc_mass(data['photon_pt'], data['photon_eta'], data['photon_phi'], data['photon_e'])\n",
        "\n",
        "    data = data[~cut_mass(data['mass'])]\n",
        "\n",
        "    data = data[~cut_iso_mass(data['photon_pt'], data['mass'])]\n",
        "\n",
        "    # Append data to the whole sample data list\n",
        "    sample_data.append(data['mass'])\n",
        "\n",
        "# turn sample_data back into an awkward array\n",
        "data15_periodD = ak.concatenate(sample_data)"
      ]
    },
    {
      "cell_type": "markdown",
      "metadata": {
        "id": "5lGA1m1MSh4H"
      },
      "source": [
        "We can now plot the data using Matplotlib.\n",
        "The data will be turned into a histogram,\n",
        "    with bins of width 3 GeV.\n",
        "Note that much of the code written here is meant for the aesthetics of the plot."
      ]
    },
    {
      "cell_type": "code",
      "execution_count": 13,
      "metadata": {
        "id": "lQtxQqkpSh4H",
        "outputId": "95b1be55-2482-46e9-db64-47dcefe2d7a0",
        "colab": {
          "base_uri": "https://localhost:8080/",
          "height": 455
        }
      },
      "outputs": [
        {
          "output_type": "display_data",
          "data": {
            "text/plain": [
              "<Figure size 640x480 with 1 Axes>"
            ],
            "image/png": "[encoded data removed]"
          },
          "metadata": {}
        }
      ],
      "source": [
        "# x-axis range of the plot\n",
        "xmin = 100 #GeV\n",
        "xmax = 160 #GeV\n",
        "\n",
        "# Histogram bin setup\n",
        "step_size = 1 #GeV\n",
        "bin_edges = np.arange(start=xmin, # The interval includes this value\n",
        "                    stop=xmax+step_size, # The interval doesn't include this value\n",
        "                    step=step_size ) # Spacing between values\n",
        "bin_centres = np.arange(start=xmin+step_size/2, # The interval includes this value\n",
        "                        stop=xmax+step_size/2, # The interval doesn't include this value\n",
        "                        step=step_size ) # Spacing between values\n",
        "\n",
        "# Creating histogram from data\n",
        "data_x,_ = np.histogram(ak.to_numpy(data15_periodD),\n",
        "                        bins=bin_edges ) # histogram the data\n",
        "data_x_errors = np.sqrt( data_x ) # statistical error on the data\n",
        "\n",
        "\n",
        "# *************\n",
        "# Main plot\n",
        "# *************\n",
        "main_axes = plt.gca() # get current axes\n",
        "\n",
        "# plot the data points\n",
        "main_axes.errorbar(x=bin_centres, y=data_x, yerr=data_x_errors,\n",
        "                    fmt='ko', # 'k' means black and 'o' is for circles\n",
        "                    label='Data')\n",
        "\n",
        "# set the x-limit of the main axes\n",
        "main_axes.set_xlim( left=xmin, right=xmax )\n",
        "\n",
        "# separation of x axis minor ticks\n",
        "main_axes.xaxis.set_minor_locator( AutoMinorLocator() )\n",
        "\n",
        "# set the axis tick parameters for the main axes\n",
        "main_axes.tick_params(which='both', # ticks on both x and y axes\n",
        "                        direction='in', # Put ticks inside and outside the axes\n",
        "                        top=True, # draw ticks on the top axis\n",
        "                        right=True ) # draw ticks on right axis\n",
        "\n",
        "# x-axis label\n",
        "main_axes.set_xlabel(r'di-photon invariant mass $\\mathrm{m_{\\gamma\\gamma}}$ [GeV]',\n",
        "                    fontsize=13, x=1, horizontalalignment='right' )\n",
        "\n",
        "# write y-axis label for main axes\n",
        "main_axes.set_ylabel('Events / '+str(step_size)+' GeV',\n",
        "                        y=1, horizontalalignment='right')\n",
        "\n",
        "# set y-axis limits for main axes\n",
        "main_axes.set_ylim( bottom=0, top=np.amax(data_x)*1.6 )\n",
        "\n",
        "# add minor ticks on y-axis for main axes\n",
        "main_axes.yaxis.set_minor_locator( AutoMinorLocator() )\n",
        "\n",
        "# draw the legend\n",
        "main_axes.legend( frameon=False ); # no box around the legend"
      ]
    },
    {
      "cell_type": "markdown",
      "metadata": {
        "id": "_exurt_nSh4I"
      },
      "source": [
        "Great,\n",
        "    we managed to plot `data15_periodD`!\n",
        "Now that we have understood how to manage the data, apply the cuts and calculate the mass, we can proceed to analyze the data!"
      ]
    },
    {
      "cell_type": "markdown",
      "metadata": {
        "id": "wWuQV5WGSh4I"
      },
      "source": [
        "## Final Analysis"
      ]
    },
    {
      "cell_type": "markdown",
      "metadata": {
        "id": "AHO7QyURSh4I"
      },
      "source": [
        "For the final analysis, we'll begin by applying the cuts and calculating the invariant masses across all the data. Once that's done, we'll fit the data to uncover the Higgs boson peak. Let's kick things off by applying the cuts and calculating those invariant masses!"
      ]
    },
    {
      "cell_type": "code",
      "execution_count": null,
      "metadata": {
        "id": "E85MyMWQSh4I"
      },
      "outputs": [],
      "source": [
        "# Controls the fraction of all the events analysed. All of the data is used by\n",
        "# default to run this analysis (implemented in the loop over the tree). Reduce\n",
        "# this if you want the code to run quicker. This can take several minutes to\n",
        "# process the entire dataset\n",
        "fraction = 1\n",
        "# Holder for the masses as we process the files\n",
        "sample_data = []\n",
        "\n",
        "# Loop over all the files in our list\n",
        "for afile in files_list:\n",
        "\n",
        "    # Print which sample is being processed\n",
        "    print(f'Processing file {afile} ({files_list.index(afile)}/{len(files_list)})')\n",
        "\n",
        "    # Open file\n",
        "    tree = uproot.open(afile + \":analysis\")\n",
        "\n",
        "    numevents = tree.num_entries\n",
        "\n",
        "    # Perform the cuts for each data entry in the tree and calculate the invariant mass\n",
        "    for data in tree.iterate(variables, library=\"ak\", entry_stop=numevents*fraction):\n",
        "\n",
        "        photon_isTightID = data['photon_isTightID']\n",
        "        data = data[~cut_photon_reconstruction(photon_isTightID)]\n",
        "\n",
        "        photon_pt = data['photon_pt']\n",
        "        data = data[~cut_photon_pt(photon_pt)]\n",
        "\n",
        "        data = data[~cut_isolation_pt(data['photon_ptcone20'],data['photon_pt'])]\n",
        "\n",
        "        photon_eta = data['photon_eta']\n",
        "        data = data[~cut_photon_eta_transition(photon_eta)]\n",
        "\n",
        "        data['mass'] = calc_mass(data['photon_pt'], data['photon_eta'], data['photon_phi'], data['photon_e'])\n",
        "\n",
        "        data = data[~cut_mass(data['mass'])]\n",
        "\n",
        "        data = data[~cut_iso_mass(data['photon_pt'], data['mass'])]\n",
        "\n",
        "        # Append data to the whole sample data list\n",
        "        sample_data.append(data['mass'])\n",
        "\n",
        "# turns sample_data back into an awkward array\n",
        "all_data = ak.concatenate(sample_data)"
      ]
    },
    {
      "cell_type": "markdown",
      "metadata": {
        "id": "ra4OaN9KSh4I"
      },
      "source": [
        "We are now ready to fit our data to effectively detect the Higgs boson! We will use a combination of a 4th order polynomial and a Gaussian function. The polynomial function represents the background, while the Gaussian function represents our signal. The Gaussian model is used to fit the signal due to the nature of the detector's resolution. The fourth-order polynomial is chosen for the background because it offers enough flexibility to capture the overall shape without overfitting, thereby reducing the influence of spurious data—random, irrelevant fluctuations or noise that do not correspond to the true signal or background."
      ]
    },
    {
      "cell_type": "code",
      "execution_count": 15,
      "metadata": {
        "id": "eByzAy0dSh4I",
        "outputId": "0e5a27bb-1a64-49cd-a74c-262a74e147fb",
        "colab": {
          "base_uri": "https://localhost:8080/",
          "height": 493
        }
      },
      "outputs": [
        {
          "output_type": "display_data",
          "data": {
            "text/plain": [
              "<Figure size 640x480 with 2 Axes>"
            ],
            "image/png": "[encoded data removed]"
          },
          "metadata": {}
        }
      ],
      "source": [
        "\n",
        "data_x,_ = np.histogram(ak.to_numpy(all_data),\n",
        "                            bins=bin_edges ) # histogram the data\n",
        "data_x_errors = np.sqrt( data_x ) # statistical error on the data\n",
        "\n",
        "# data fit\n",
        "polynomial_mod = PolynomialModel( 4 ) # 4th order polynomial\n",
        "gaussian_mod = GaussianModel() # Gaussian\n",
        "\n",
        "# set initial guesses for the parameters of the polynomial model\n",
        "# c0 + c1*x + c2*x^2 + c3*x^3 + c4*x^4\n",
        "pars = polynomial_mod.guess(data_x, # data to use to guess parameter values\n",
        "                            x=bin_centres, c0=data_x.max(), c1=0,\n",
        "                            c2=0, c3=0, c4=0 )\n",
        "\n",
        "# set initial guesses for the parameters of the Gaussian model\n",
        "pars += gaussian_mod.guess(data_x, # data to use to guess parameter values\n",
        "                        x=bin_centres, amplitude=100,\n",
        "                        center=125, sigma=2 )\n",
        "\n",
        "model = polynomial_mod + gaussian_mod # combined model\n",
        "\n",
        "# fit the model to the data\n",
        "out = model.fit(data_x, # data to be fit\n",
        "                pars, # guesses for the parameters\n",
        "                x=bin_centres, weights=1/data_x_errors ) #ASK\n",
        "\n",
        "# background part of fit\n",
        "params_dict = out.params.valuesdict() # get the parameters from the fit to data\n",
        "c0 = params_dict['c0'] # c0 of c0 + c1*x + c2*x^2 + c3*x^3 + c4*x^4\n",
        "c1 = params_dict['c1'] # c1 of c0 + c1*x + c2*x^2 + c3*x^3 + c4*x^4\n",
        "c2 = params_dict['c2'] # c2 of c0 + c1*x + c2*x^2 + c3*x^3 + c4*x^4\n",
        "c3 = params_dict['c3'] # c3 of c0 + c1*x + c2*x^2 + c3*x^3 + c4*x^4\n",
        "c4 = params_dict['c4'] # c4 of c0 + c1*x + c2*x^2 + c3*x^3 + c4*x^4\n",
        "\n",
        "# get the background only part of the fit to data\n",
        "background = c0 + c1*bin_centres + c2*bin_centres**2 + c3*bin_centres**3 + c4*bin_centres**4\n",
        "\n",
        "# data fit - background fit = signal fit\n",
        "signal_x = data_x - background\n",
        "\n",
        "# *************\n",
        "# Main plot\n",
        "# *************\n",
        "plt.axes([0.1,0.3,0.85,0.65]) # left, bottom, width, height\n",
        "main_axes = plt.gca() # get current axes\n",
        "\n",
        "# plot the data points\n",
        "main_axes.errorbar(x=bin_centres, y=data_x, yerr=data_x_errors,\n",
        "                fmt='ko', # 'k' means black and 'o' means circles\n",
        "                label='Data', markersize=4 )\n",
        "\n",
        "# plot the signal + background fit\n",
        "main_axes.plot(bin_centres, # x\n",
        "            out.best_fit, # y\n",
        "            '-r', # single red line\n",
        "            label='Sig+Bkg Fit ($m_H=125$ GeV)' )\n",
        "\n",
        "# plot the background only fit\n",
        "main_axes.plot(bin_centres, # x\n",
        "            background, # y\n",
        "            '--r', # dashed red line\n",
        "            label='Bkg (4th order polynomial)' )\n",
        "\n",
        "# set the x-limit of the main axes\n",
        "main_axes.set_xlim( left=xmin, right=xmax )\n",
        "\n",
        "# separation of x-axis minor ticks\n",
        "main_axes.xaxis.set_minor_locator( AutoMinorLocator() )\n",
        "\n",
        "# set the axis tick parameters for the main axes\n",
        "main_axes.tick_params(which='both', # ticks on both x and y axes\n",
        "                    direction='in', # Put ticks inside and outside the axes\n",
        "                    top=True, # draw ticks on the top axis\n",
        "                    labelbottom=False, # don't draw tick labels on bottom axis\n",
        "                    right=True ) # draw ticks on right axis\n",
        "\n",
        "# write y-axis label for main\n",
        "main_axes.set_ylabel('Events / '+str(step_size)+' GeV',\n",
        "                    horizontalalignment='right')\n",
        "\n",
        "# set the y-axis limit for the main axes\n",
        "main_axes.set_ylim( bottom=0, top=np.amax(data_x)*1.5 )\n",
        "\n",
        "# set minor ticks on the y-axis of the main axes\n",
        "main_axes.yaxis.set_minor_locator( AutoMinorLocator() )\n",
        "\n",
        "# avoid displaying y=0 on the main axes\n",
        "main_axes.yaxis.get_major_ticks()[0].set_visible(False)\n",
        "\n",
        "# Add text 'ATLAS Open Data' on plot\n",
        "plt.text(0.2, # x\n",
        "        0.92, # y\n",
        "        'ATLAS Open Data', # text\n",
        "        transform=main_axes.transAxes, # coordinate system used is that of main_axes\n",
        "        fontsize=13 )\n",
        "\n",
        "# Add text 'for education' on plot\n",
        "plt.text(0.2, # x\n",
        "        0.86, # y\n",
        "        'for education', # text\n",
        "        transform=main_axes.transAxes, # coordinate system used is that of main_axes\n",
        "        style='italic',\n",
        "        fontsize=8 )\n",
        "\n",
        "lumi = 36.1\n",
        "lumi_used = str(lumi*fraction) # luminosity to write on the plot\n",
        "plt.text(0.2, # x\n",
        "        0.8, # y\n",
        "        r'$\\sqrt{s}$=13 TeV,$\\int$L dt = '+lumi_used+' fb$^{-1}$', # text\n",
        "        transform=main_axes.transAxes ) # coordinate system used is that of main_axes\n",
        "\n",
        "# Add a label for the analysis carried out\n",
        "plt.text(0.2, # x\n",
        "        0.74, # y\n",
        "        r'$H \\rightarrow \\gamma\\gamma$', # text\n",
        "        transform=main_axes.transAxes ) # coordinate system used is that of main_axes\n",
        "\n",
        "# draw the legend\n",
        "main_axes.legend(frameon=False, # no box around the legend\n",
        "                loc='lower left' ) # legend location\n",
        "\n",
        "\n",
        "# *************\n",
        "# Data-Bkg plot\n",
        "# *************\n",
        "plt.axes([0.1,0.1,0.85,0.2]) # left, bottom, width, height\n",
        "sub_axes = plt.gca() # get the current axes\n",
        "\n",
        "# set the y axis to be symmetric about Data-Background=0\n",
        "sub_axes.yaxis.set_major_locator( MaxNLocator(nbins='auto',\n",
        "                                            symmetric=True) )\n",
        "\n",
        "# plot Data-Background\n",
        "sub_axes.errorbar(x=bin_centres, y=signal_x, yerr=data_x_errors,\n",
        "                fmt='ko',markersize=4 ) # 'k' means black and 'o' means circles\n",
        "\n",
        "# draw the fit to data\n",
        "sub_axes.plot(bin_centres, # x\n",
        "            out.best_fit-background, # y\n",
        "            '-r' ) # single red line\n",
        "\n",
        "# draw the background only fit\n",
        "sub_axes.plot(bin_centres, # x\n",
        "            background-background, # y\n",
        "            '--r' )  # dashed red line\n",
        "\n",
        "# set the x-axis limits on the sub axes\n",
        "sub_axes.set_xlim( left=xmin, right=xmax )\n",
        "\n",
        "# separation of x-axis minor ticks\n",
        "sub_axes.xaxis.set_minor_locator( AutoMinorLocator() )\n",
        "\n",
        "# x-axis label\n",
        "sub_axes.set_xlabel(r'Di-photon invariant mass $\\mathrm{m_{\\gamma\\gamma}}$ [GeV]',\n",
        "                    x=1, horizontalalignment='right',\n",
        "                    fontsize=13 )\n",
        "\n",
        "# set the tick parameters for the sub axes\n",
        "sub_axes.tick_params(which='both', # ticks on both x and y axes\n",
        "                    direction='in', # Put ticks inside and outside the axes\n",
        "                    top=True, # draw ticks on the top axis\n",
        "                    right=True ) # draw ticks on right axis\n",
        "\n",
        "# separation of y-axis minor ticks\n",
        "sub_axes.yaxis.set_minor_locator( AutoMinorLocator() )\n",
        "\n",
        "# y-axis label on the sub axes\n",
        "sub_axes.set_ylabel( 'Events-Bkg' )\n",
        "\n",
        "\n",
        "# Generic features for both plots\n",
        "main_axes.yaxis.set_label_coords( -0.09, 1 ) # x,y coordinates of the y-axis label on the main axes\n",
        "sub_axes.yaxis.set_label_coords( -0.09, 0.5 ) # x,y coordinates of the y-axis label on the sub axes"
      ]
    },
    {
      "cell_type": "markdown",
      "metadata": {
        "id": "Hjy3wlBoSh4J"
      },
      "source": [
        "And there it is — a clear peak in the invariant mass spectrum around 125 GeV, signaling the presence of the Higgs boson!\n",
        "\n",
        "This represents a very close result to the one obtained by ATLAS in [Higgs decay to photons measurement paper](https://journals.aps.org/prd/abstract/10.1103/PhysRevD.98.052005), which can be seen below:\n",
        "<CENTER><img src=\"https://github.com/atlas-outreach-data-tools/notebooks-collection-opendata/blob/master/13-TeV-examples/uproot_python/images/ImagesHiggs/HyyPaper.png?raw=1\" style=\"width:50%\"></CENTER>"
      ]
    },
    {
      "cell_type": "markdown",
      "metadata": {
        "id": "ii29QaMPSh4K"
      },
      "source": [
        "While our main task may be done, there's still more to explore. Here are some additional tasks you can try with this notebook:\n",
        "* Check how many events are being thrown away by each cut in '[Applying a cut](#applying_cut)'\n",
        "* Add more cuts from the [Higgs boson discovery paper](https://www.sciencedirect.com/science/article/pii/S037026931200857X#se0090) or the [Higgs decay to photons measurement paper](https://journals.aps.org/prd/abstract/10.1103/PhysRevD.98.052005) in '[Changing a cut](#changing_cut)' and '[Applying a cut](#applying_cut)'\n",
        "* Find the reduced chi-squared for the fit in '[Plotting](#plotting)'\n",
        "* Find the mean of the fitted Gaussian in '[Plotting](#plotting)'\n",
        "* Find the width of the fitted Gaussian in '[Plotting](#plotting)'\n",
        "* Try different initial guesses for the parameters of the fit in '[Plotting](#plotting)'\n",
        "* Try different functions for the fit in '[Plotting](#plotting)'\n",
        "* Your idea!"
      ]
    }
  ],
  "metadata": {
    "kernelspec": {
      "display_name": "Python 3 (ipykernel)",
      "language": "python",
      "name": "python3"
    },
    "language_info": {
      "codemirror_mode": {
        "name": "ipython",
        "version": 3
      },
      "file_extension": ".py",
      "mimetype": "text/x-python",
      "name": "python",
      "nbconvert_exporter": "python",
      "pygments_lexer": "ipython3",
      "version": "3.10.9"
    },
    "colab": {
      "provenance": []
    }
  },
  "nbformat": 4,
  "nbformat_minor": 0
}