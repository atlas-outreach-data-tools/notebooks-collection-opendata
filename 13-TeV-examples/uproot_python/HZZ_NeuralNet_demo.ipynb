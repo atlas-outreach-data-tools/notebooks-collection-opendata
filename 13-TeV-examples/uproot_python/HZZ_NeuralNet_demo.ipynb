{
 "cells": [
  {
   "cell_type": "markdown",
   "metadata": {},
   "source": [
    "<CENTER><img src=\"../../images/ATLASOD.gif\" style=\"width:50%\"></CENTER>"
   ]
  },
  {
   "cell_type": "markdown",
   "metadata": {},
   "source": [
    "# How to rediscover the Higgs boson yourself - with a Neural Network!\n",
    "This notebook uses ATLAS Open Data http://opendata.atlas.cern to show you the steps to apply Machine Learning in search for the Higgs boson!\n",
    "\n",
    "ATLAS Open Data provides open access to proton-proton collision data at the LHC for educational purposes. ATLAS Open Data resources are ideal for high-school, undergraduate and postgraduate students.\n",
    "\n",
    "Notebooks are web applications that allow you to create and share documents that can contain for example:\n",
    "1. live code\n",
    "2. visualisations\n",
    "3. narrative text\n",
    "\n",
    "This notebook builds on [HZZAnalysis.ipynb](https://github.com/atlas-outreach-data-tools/notebooks-collection-opendata/blob/master/13-TeV-examples/uproot_python/HZZAnalysis.ipynb) in the same folder as this notebook. \n",
    "\n",
    "HZZAnalysis.ipynb loosely follows the [discovery of the Higgs boson by ATLAS](https://www.sciencedirect.com/science/article/pii/S037026931200857X) (mostly Section 4 and 4.1)\n",
    "\n",
    "Notebooks are a perfect platform to develop Machine Learning for your work, since you'll need exactly those 3 things: code, visualisations and narrative text!\n",
    "\n",
    "We're interested in Machine Learning because we can design an algorithm to figure out for itself how to do various analyses, potentially saving us countless human-hours of design and analysis work.\n",
    "\n",
    "Machine Learning use within ATLAS includes: \n",
    "* particle tracking\n",
    "* particle identification\n",
    "* signal/background classification\n",
    "* and more!\n",
    "\n",
    "This notebook will focus on signal/background classification.\n",
    "\n",
    "By the end of this notebook you will be able to:\n",
    "1. run a Neural Network to classify signal and background\n",
    "2. know some things you can change to improve your Neural Network\n",
    "\n",
    "Feynman diagram pictures are borrowed from our friends at https://www.particlezoo.net"
   ]
  },
  {
   "cell_type": "markdown",
   "metadata": {},
   "source": [
    "<CENTER><img src=\"images/feynman_diagrams/HZZ_feynman.png\" style=\"width:40%\"></CENTER>"
   ]
  },
  {
   "cell_type": "markdown",
   "metadata": {},
   "source": [
    "<a id='contents'></a>"
   ]
  },
  {
   "cell_type": "markdown",
   "metadata": {},
   "source": [
    "Contents: \n",
    "\n",
    "[Running a Jupyter notebook](#running) <br />\n",
    "[First time setup on your computer (no need on mybinder)](#setup_computer) <br />\n",
    "[To setup everytime](#setup_everytime) <br />\n",
    "[Lumi, fraction, file path](#fraction) <br />\n",
    "[Samples](#samples) <br />\n",
    "[Changing a cut](#changing_cut) <br />\n",
    "[Applying a cut](#applying_cut) <br />\n",
    "[Optimisation](#optimisation) <br />\n",
    "[Neural Network](#NN) <br />\n",
    "  [Training and Testing split](#train_test) <br />\n",
    "  [Data Preprocessing](#preprocessing) <br />\n",
    "  [Training the Neural Network model](#training) <br />\n",
    "  [Receiver Operating Characteristic (ROC) curve](#ROC) <br />\n",
    "  [Overtraining check](#overtraining) <br />\n",
    "  [Optimisation](#NN_optimisation) <br />\n",
    "[Going further](#going_further) <br />"
   ]
  },
  {
   "cell_type": "markdown",
   "metadata": {},
   "source": [
    "<a id='running'></a>"
   ]
  },
  {
   "cell_type": "markdown",
   "metadata": {},
   "source": [
    "## Running a Jupyter notebook\n",
    "\n",
    "To run the whole Jupyter notebook, in the top menu click Cell -> Run All.\n",
    "\n",
    "To propagate a change you've made to a piece of code, click Cell -> Run All Below.\n",
    "\n",
    "You can also run a single code cell, by clicking Cell -> Run Cells, or using the keyboard shortcut Shift+Enter."
   ]
  },
  {
   "cell_type": "markdown",
   "metadata": {},
   "source": [
    "<a id='setup_computer'></a>"
   ]
  },
  {
   "cell_type": "markdown",
   "metadata": {},
   "source": [
    "## First time setup on your computer (no need on mybinder)\n",
    "This first cell only needs to be run the first time you open this notebook on your computer. \n",
    "\n",
    "If you close Jupyter and re-open on the same computer, you won't need to run this first cell again.\n",
    "\n",
    "If you open on mybinder, you don't need to run this cell."
   ]
  },
  {
   "cell_type": "code",
   "execution_count": null,
   "metadata": {},
   "outputs": [],
   "source": [
    "import sys\n",
    "!{sys.executable} -m pip install --upgrade --user pip # update the pip package installer\n",
    "!{sys.executable} -m pip install uproot3 pandas numpy matplotlib sklearn --user # install required packages"
   ]
  },
  {
   "cell_type": "markdown",
   "metadata": {},
   "source": [
    "[Back to contents](#contents)"
   ]
  },
  {
   "cell_type": "markdown",
   "metadata": {},
   "source": [
    "<a id='setup_everytime'></a>"
   ]
  },
  {
   "cell_type": "markdown",
   "metadata": {},
   "source": [
    "## To setup everytime\n",
    "Cell -> Run All Below\n",
    "\n",
    "to be done every time you re-open this notebook\n",
    "\n",
    "We're going to be using a number of tools to help us:\n",
    "* uproot: lets us read .root files typically used in particle physics into data formats used in Machine Learning\n",
    "* pandas: lets us store data as dataframes, a format widely used in Machine Learning\n",
    "* numpy: provides numerical calculations such as histogramming\n",
    "* matplotlib: common tool for making plots, figures, images, visualisations"
   ]
  },
  {
   "cell_type": "code",
   "execution_count": 1,
   "metadata": {},
   "outputs": [],
   "source": [
    "import uproot3 # for reading .root files\n",
    "import pandas as pd # to store data as dataframe\n",
    "import time # to measure time to analyse\n",
    "import math # for mathematical functions such as square root\n",
    "import numpy as np # for numerical calculations such as histogramming\n",
    "import matplotlib.pyplot as plt # for plotting\n",
    "from matplotlib.ticker import AutoMinorLocator # for minor ticks\n",
    "\n",
    "import infofile # local file containing info on cross-sections, sums of weights, dataset IDs"
   ]
  },
  {
   "cell_type": "markdown",
   "metadata": {},
   "source": [
    "[Back to contents](#contents)"
   ]
  },
  {
   "cell_type": "markdown",
   "metadata": {},
   "source": [
    "<a id='fraction'></a>"
   ]
  },
  {
   "cell_type": "markdown",
   "metadata": {},
   "source": [
    "## Lumi, fraction, file path\n",
    "\n",
    "General definitions of fraction of data used, where to access the input files"
   ]
  },
  {
   "cell_type": "code",
   "execution_count": 2,
   "metadata": {},
   "outputs": [],
   "source": [
    "lumi = 10 # fb-1 # data_A+B+C+D\n",
    "\n",
    "fraction = 0.03 # reduce this is you want the code to run quicker\n",
    "                                                                                                                                  \n",
    "#tuple_path = \"Input/4lep/\" # local \n",
    "tuple_path = \"https://atlas-opendata.web.cern.ch/atlas-opendata/samples/2020/4lep/\" # web address"
   ]
  },
  {
   "cell_type": "markdown",
   "metadata": {},
   "source": [
    "<a id='samples'></a>"
   ]
  },
  {
   "cell_type": "markdown",
   "metadata": {},
   "source": [
    "## Samples\n",
    "\n",
    "In this notebook we only process the signal <span style=\"color:blue\">H->ZZ</span> and the main background <span style=\"color:red\">ZZ</span>, for illustration purposes. You can add data and the Z and ttbar <span style=\"color:red\">backgrounds</span> after if you wish."
   ]
  },
  {
   "cell_type": "code",
   "execution_count": 3,
   "metadata": {},
   "outputs": [],
   "source": [
    "samples = {\n",
    "\n",
    "    'ZZ' : {\n",
    "        'list' : ['llll']\n",
    "    },\n",
    "\n",
    "    r'$H \\rightarrow ZZ \\rightarrow \\ell\\ell\\ell\\ell$' : { # H -> ZZ -> llll\n",
    "        'list' : ['ggH125_ZZ4lep'] # gluon-gluon fusion\n",
    "    }\n",
    "\n",
    "}"
   ]
  },
  {
   "cell_type": "markdown",
   "metadata": {},
   "source": [
    "[Back to contents](#contents)"
   ]
  },
  {
   "cell_type": "markdown",
   "metadata": {},
   "source": [
    "Define function to get data from files. \n",
    "\n",
    "The datasets used in this notebook have already been filtered to include at least 4 leptons per event, so that processing is quicker."
   ]
  },
  {
   "cell_type": "code",
   "execution_count": 4,
   "metadata": {},
   "outputs": [],
   "source": [
    "def get_data_from_files():\n",
    "\n",
    "    data = {} # define empty dictionary to hold dataframes\n",
    "    for s in samples: # loop over samples\n",
    "        print('Processing '+s+' samples') # print which sample\n",
    "        frames = [] # define empty list to hold data\n",
    "        for val in samples[s]['list']: # loop over each file\n",
    "            if s == 'data': prefix = \"Data/\" # Data prefix\n",
    "            else: # MC prefix\n",
    "                prefix = \"MC/mc_\"+str(infofile.infos[val][\"DSID\"])+\".\"\n",
    "            fileString = tuple_path+prefix+val+\".4lep.root\" # file name to open\n",
    "            temp = read_file(fileString,val) # call the function read_file defined below\n",
    "            frames.append(temp) # append dataframe returned from read_file to list of dataframes\n",
    "        data[s] = pd.concat(frames) # dictionary entry is concatenated dataframes\n",
    "    \n",
    "    return data # return dictionary of dataframes"
   ]
  },
  {
   "cell_type": "markdown",
   "metadata": {},
   "source": [
    "[Back to contents](#contents)"
   ]
  },
  {
   "cell_type": "markdown",
   "metadata": {},
   "source": [
    "Define function to get cross-section weight"
   ]
  },
  {
   "cell_type": "code",
   "execution_count": 5,
   "metadata": {},
   "outputs": [],
   "source": [
    "def get_xsec_weight(sample):\n",
    "    info = infofile.infos[sample] # open infofile\n",
    "    xsec_weight = (lumi*1000*info[\"xsec\"])/(info[\"sumw\"]*info[\"red_eff\"]) #*1000 to go from fb-1 to pb-1\n",
    "    return xsec_weight # return cross-section weight"
   ]
  },
  {
   "cell_type": "markdown",
   "metadata": {},
   "source": [
    "Define function to calculate weight of MC event"
   ]
  },
  {
   "cell_type": "code",
   "execution_count": 6,
   "metadata": {},
   "outputs": [],
   "source": [
    "def calc_weight(xsec_weight, mcWeight, scaleFactor_PILEUP,\n",
    "                scaleFactor_ELE, scaleFactor_MUON, \n",
    "                scaleFactor_LepTRIGGER ):\n",
    "    return xsec_weight*mcWeight*scaleFactor_PILEUP*scaleFactor_ELE*scaleFactor_MUON*scaleFactor_LepTRIGGER"
   ]
  },
  {
   "cell_type": "markdown",
   "metadata": {},
   "source": [
    "We add functions to return the individual lepton transverse momenta, in GeV"
   ]
  },
  {
   "cell_type": "code",
   "execution_count": 7,
   "metadata": {},
   "outputs": [],
   "source": [
    "def calc_lep_pt_i(lep_pt,i):\n",
    "    return lep_pt[i]/1000 # /1000 to go from MeV to GeV"
   ]
  },
  {
   "cell_type": "markdown",
   "metadata": {},
   "source": [
    "[Back to contents](#contents)"
   ]
  },
  {
   "cell_type": "markdown",
   "metadata": {},
   "source": [
    "<a id='changing_cut'></a>"
   ]
  },
  {
   "cell_type": "markdown",
   "metadata": {},
   "source": [
    "## Changing a cut\n",
    "\n",
    "We apply 'cuts' to throw away collisions that have properties different to the signal we're looking for.\n",
    "\n",
    "If you change a cut: Cell -> Run All Below.\n",
    "\n",
    "If you change a cut here, you also need to make sure the cut is applied in the \"[Applying a cut](#applying_cut)\" cell."
   ]
  },
  {
   "cell_type": "code",
   "execution_count": 8,
   "metadata": {},
   "outputs": [],
   "source": [
    "# cut on lepton charge\n",
    "# paper: \"selecting two pairs of isolated leptons, each of which is comprised of two leptons with the same flavour and opposite charge\"\n",
    "def cut_lep_charge(lep_charge):\n",
    "# throw away when sum of lepton charges is not equal to 0\n",
    "# first lepton is [0], 2nd lepton is [1] etc\n",
    "    return lep_charge[0] + lep_charge[1] + lep_charge[2] + lep_charge[3] != 0\n",
    "\n",
    "# cut on lepton type\n",
    "# paper: \"selecting two pairs of isolated leptons, each of which is comprised of two leptons with the same flavour and opposite charge\"\n",
    "def cut_lep_type(lep_type):\n",
    "# for an electron lep_type is 11\n",
    "# for a muon lep_type is 13\n",
    "# throw away when none of eeee, mumumumu, eemumu\n",
    "    sum_lep_type = lep_type[0] + lep_type[1] + lep_type[2] + lep_type[3]\n",
    "    return (sum_lep_type != 44) and (sum_lep_type != 48) and (sum_lep_type != 52)"
   ]
  },
  {
   "cell_type": "markdown",
   "metadata": {},
   "source": [
    "[Back to contents](#contents)"
   ]
  },
  {
   "cell_type": "markdown",
   "metadata": {},
   "source": [
    "<a id='applying_cut'></a>"
   ]
  },
  {
   "cell_type": "markdown",
   "metadata": {},
   "source": [
    "## Applying a cut\n",
    "If you add a cut: Cell -> Run All Below"
   ]
  },
  {
   "cell_type": "code",
   "execution_count": 9,
   "metadata": {},
   "outputs": [],
   "source": [
    "def read_file(path,sample):\n",
    "    start = time.time() # start the clock\n",
    "    print(\"\\tProcessing: \"+sample) # print which sample is being processed\n",
    "    data_all = pd.DataFrame() # define empty pandas DataFrame to hold all data for this sample\n",
    "    tree = uproot3.open(path)[\"mini\"] # open the tree called mini\n",
    "    numevents = uproot3.numentries(path, \"mini\") # number of events\n",
    "    if 'data' not in sample: xsec_weight = get_xsec_weight(sample) # get cross-section weight\n",
    "    for data in tree.iterate(['lep_charge','lep_type','lep_pt',\n",
    "                              # uncomment these variables if you want to calculate masses \n",
    "                              #,'lep_eta','lep_phi','lep_E', \n",
    "                              # add more variables here if you make cuts on them \n",
    "                              'mcWeight','scaleFactor_PILEUP',\n",
    "                              'scaleFactor_ELE','scaleFactor_MUON',\n",
    "                              'scaleFactor_LepTRIGGER'\n",
    "                             ], # variables to calculate Monte Carlo weight\n",
    "                             outputtype=pd.DataFrame, # choose output type as pandas DataFrame\n",
    "                             entrystop=numevents*fraction): # process up to numevents*fraction\n",
    "\n",
    "        nIn = len(data.index) # number of events in this batch\n",
    "\n",
    "        if 'data' not in sample: # only do this for Monte Carlo simulation files\n",
    "            # multiply all Monte Carlo weights and scale factors together to give total weight\n",
    "            data['totalWeight'] = np.vectorize(calc_weight)(xsec_weight,\n",
    "                                                            data.mcWeight,\n",
    "                                                            data.scaleFactor_PILEUP,\n",
    "                                                            data.scaleFactor_ELE,\n",
    "                                                            data.scaleFactor_MUON,\n",
    "                                                            data.scaleFactor_LepTRIGGER)\n",
    "\n",
    "        # cut on lepton charge using the function cut_lep_charge defined above\n",
    "        fail = data[ np.vectorize(cut_lep_charge)(data.lep_charge) ].index\n",
    "        data.drop(fail, inplace=True)\n",
    "\n",
    "        # cut on lepton type using the function cut_lep_type defined above\n",
    "        fail = data[ np.vectorize(cut_lep_type)(data.lep_type) ].index\n",
    "        data.drop(fail, inplace=True)\n",
    "\n",
    "        # return the individual lepton transverse momenta in GeV\n",
    "        data['lep_pt_1'] = np.vectorize(calc_lep_pt_i)(data.lep_pt,1)\n",
    "        data['lep_pt_2'] = np.vectorize(calc_lep_pt_i)(data.lep_pt,2)\n",
    "        \n",
    "        # dataframe contents can be printed at any stage like this\n",
    "        #print(data)\n",
    "\n",
    "        # dataframe column can be printed at any stage like this\n",
    "        #print(data['lep_pt'])\n",
    "\n",
    "        # multiple dataframe columns can be printed at any stage like this\n",
    "        #print(data[['lep_pt','lep_eta']])\n",
    "\n",
    "        nOut = len(data.index) # number of events passing cuts in this batch\n",
    "        data_all = data_all.append(data) # append dataframe from this batch to the dataframe for the whole sample\n",
    "        elapsed = time.time() - start # time taken to process\n",
    "        print(\"\\t\\t nIn: \"+str(nIn)+\",\\t nOut: \\t\"+str(nOut)+\"\\t in \"+str(round(elapsed,1))+\"s\") # events before and after\n",
    "    \n",
    "    return data_all # return dataframe containing events passing all cuts\n"
   ]
  },
  {
   "cell_type": "markdown",
   "metadata": {},
   "source": [
    "[Back to contents](#contents)"
   ]
  },
  {
   "cell_type": "markdown",
   "metadata": {},
   "source": [
    "This is where the processing happens (this will take some minutes)"
   ]
  },
  {
   "cell_type": "code",
   "execution_count": 10,
   "metadata": {
    "scrolled": false
   },
   "outputs": [
    {
     "name": "stdout",
     "output_type": "stream",
     "text": [
      "Processing ZZ samples\n",
      "\tProcessing: llll\n",
      "\t\t nIn: 16628,\t nOut: \t15740\t in 110.1s\n",
      "Processing $H \\rightarrow ZZ \\rightarrow \\ell\\ell\\ell\\ell$ samples\n",
      "\tProcessing: ggH125_ZZ4lep\n",
      "\t\t nIn: 4941,\t nOut: \t4841\t in 241.3s\n",
      "Time taken: 351.4s\n"
     ]
    }
   ],
   "source": [
    "start = time.time() # time at start of whole processing\n",
    "data = get_data_from_files() # process all files\n",
    "elapsed = time.time() - start # time after whole processing\n",
    "print(\"Time taken: \"+str(round(elapsed,1))+\"s\") # print total time taken to process every file"
   ]
  },
  {
   "cell_type": "markdown",
   "metadata": {},
   "source": [
    "[Back to contents](#contents)"
   ]
  },
  {
   "cell_type": "markdown",
   "metadata": {},
   "source": [
    "<a id='optimisation'></a>"
   ]
  },
  {
   "cell_type": "markdown",
   "metadata": {},
   "source": [
    "## Optimisation\n",
    "\n",
    "Here we define histograms for the variables that we'll look to optimise"
   ]
  },
  {
   "cell_type": "code",
   "execution_count": 11,
   "metadata": {},
   "outputs": [],
   "source": [
    "lep_pt_2 = { # dictionary containing plotting parameters for the lep_pt_2 histogram\n",
    "    # change plotting parameters\n",
    "    'bin_width':1, # width of each histogram bin\n",
    "    'num_bins':13, # number of histogram bins\n",
    "    'xrange_min':7, # minimum on x-axis\n",
    "    'xlabel':r'$lep\\_pt$[2] [GeV]', # x-axis label\n",
    "}\n",
    "\n",
    "lep_pt_1 = { # dictionary containing plotting parameters for the lep_pt_1 histogram\n",
    "    # change plotting parameters\n",
    "    'bin_width':1, # width of each histogram bin\n",
    "    'num_bins':28, # number of histogram bins\n",
    "    'xrange_min':7, # minimum on x-axis\n",
    "    'xlabel':r'$lep\\_pt$[1] [GeV]', # x-axis label\n",
    "}\n",
    "\n",
    "SoverB_hist_dict = {'lep_pt_2':lep_pt_2,'lep_pt_1':lep_pt_1} \n",
    "# add a histogram here if you want it plotted"
   ]
  },
  {
   "cell_type": "markdown",
   "metadata": {},
   "source": [
    "[Back to contents](#contents)"
   ]
  },
  {
   "cell_type": "markdown",
   "metadata": {},
   "source": [
    "Here we define a function to illustrate the optimum cut value on individual variables, based on <span style=\"color:blue\">signal</span> to <span style=\"color:red\">background</span> ratio."
   ]
  },
  {
   "cell_type": "code",
   "execution_count": 12,
   "metadata": {},
   "outputs": [],
   "source": [
    "def plot_SoverB(data):\n",
    "    \n",
    "    signal = r'$H \\rightarrow ZZ \\rightarrow \\ell\\ell\\ell\\ell$' # which sample is the signal\n",
    "\n",
    "    # *******************\n",
    "    # general definitions (shouldn't need to change)\n",
    "\n",
    "    for x_variable,hist in SoverB_hist_dict.items(): # access the dictionary of histograms defined in the cell above\n",
    "\n",
    "        h_bin_width = hist['bin_width'] # get the bin width defined in the cell above\n",
    "        h_num_bins = hist['num_bins'] # get the number of bins defined in the cell above\n",
    "        h_xrange_min = hist['xrange_min'] # get the x-range minimum defined in the cell above\n",
    "        h_xlabel = hist['xlabel'] # get the x-axis label defined in the cell above\n",
    "    \n",
    "        bin_edges = [ h_xrange_min + x*h_bin_width for x in range(h_num_bins+1) ] # bin limits\n",
    "        bin_centres = [ h_xrange_min+h_bin_width/2 + x*h_bin_width for x in range(h_num_bins) ] # bin centres\n",
    "        \n",
    "        signal_x = data[signal][x_variable] # histogram the signal\n",
    "    \n",
    "        mc_x = [] # define list to hold the Monte Carlo histogram entries\n",
    "\n",
    "        for s in samples: # loop over samples\n",
    "            if s not in ['data', signal]: # if not data nor signal\n",
    "                mc_x = [*mc_x, *data[s][x_variable] ] # append to the list of Monte Carlo histogram entries\n",
    "\n",
    "    \n",
    "    \n",
    "        # *************\n",
    "        # Signal and background distributions\n",
    "        # *************\n",
    "        distributions_axes = plt.gca() # get current axes\n",
    " \n",
    "        mc_heights = distributions_axes.hist(mc_x, bins=bin_edges, color='red', \n",
    "                                             label='Total background',\n",
    "                                             histtype='step', # lineplot that's unfilled\n",
    "                                             density=True ) # normalize to form probability density\n",
    "        signal_heights = distributions_axes.hist(signal_x, bins=bin_edges, color='blue',\n",
    "                                                 label=signal, \n",
    "                                                 histtype='step', # lineplot that's unfilled\n",
    "                                                 density=True, # normalize to form probability density\n",
    "                                                 linestyle='--' ) # dashed line\n",
    "        \n",
    "        distributions_axes.set_xlim( left=bin_edges[0], right=bin_edges[-1] ) # x-limits of the distributions axes\n",
    "        distributions_axes.set_ylabel('Arbitrary units' ) # y-axis label for distributions axes\n",
    "        distributions_axes.set_ylim( top=max(signal_heights[0])*1.3 ) # set y-axis limits\n",
    "        plt.title('Signal and background '+x_variable+' distributions') # add title\n",
    "        distributions_axes.legend() # draw the legend\n",
    "        distributions_axes.set_xlabel( h_xlabel ) # x-axis label\n",
    "        \n",
    "        # Add text 'ATLAS Open Data' on plot\n",
    "        plt.text(0.05, # x\n",
    "                 0.93, # y\n",
    "                 'ATLAS Open Data', # text\n",
    "                 transform=distributions_axes.transAxes, # coordinate system used is that of distributions_axes\n",
    "                 fontsize=13 ) \n",
    "        # Add text 'for education' on plot\n",
    "        plt.text(0.05, # x\n",
    "                 0.88, # y\n",
    "                 'for education', # text\n",
    "                 transform=distributions_axes.transAxes, # coordinate system used is that of distributions_axes\n",
    "                 style='italic',\n",
    "                 fontsize=8 )  \n",
    "    \n",
    "        plt.show() # show the Signal and background distributions\n",
    "    \n",
    "    \n",
    "        # *************\n",
    "        # Signal to background ratio\n",
    "        # *************\n",
    "        plt.figure() # start new figure\n",
    "        SoverB = [] # list to hold S/B values\n",
    "        for cut_value in bin_edges: # loop over bins\n",
    "            signal_weights_passing_cut = sum(data[signal][data[signal][x_variable]>cut_value].totalWeight)\n",
    "            background_weights_passing_cut = 0 # start counter for background weights passing cut\n",
    "            for s in samples: # loop over samples\n",
    "                if s not in ['data', signal]: # if not data nor signal\n",
    "                    background_weights_passing_cut += sum(data[s][data[s][x_variable]>cut_value].totalWeight)\n",
    "            if background_weights_passing_cut!=0: # some background passes cut\n",
    "                SoverB_value = signal_weights_passing_cut/background_weights_passing_cut\n",
    "                SoverB_percent = 100*SoverB_value # multiply by 100 for percentage\n",
    "                SoverB.append(SoverB_percent) # append to list of S/B values\n",
    "        \n",
    "        SoverB_axes = plt.gca() # get current axes\n",
    "        SoverB_axes.plot( bin_edges[:len(SoverB)], SoverB ) # plot the data points\n",
    "        SoverB_axes.set_xlim( left=bin_edges[0], right=bin_edges[-1] ) # set the x-limit of the main axes\n",
    "        SoverB_axes.set_ylabel( 'S/B (%)' ) # write y-axis label for main axes\n",
    "        plt.title('Signal to background ratio for different '+x_variable+' cut values', family='sans-serif')\n",
    "        SoverB_axes.set_xlabel( h_xlabel ) # x-axis label \n",
    "        \n",
    "        plt.show() # show S/B plot\n",
    "    \n",
    "    return"
   ]
  },
  {
   "cell_type": "markdown",
   "metadata": {},
   "source": [
    "[Back to contents](#contents)"
   ]
  },
  {
   "cell_type": "markdown",
   "metadata": {},
   "source": [
    "Here we call our function to illustrate the optimum cut value on individual variables, based on <span style=\"color:blue\">signal</span> to <span style=\"color:red\">background</span> ratio.\n",
    "\n",
    "We're not doing any Machine Learning yet! We're looking at the variables we'll later use for Machine Learning.\n",
    "\n",
    "Let's talk through the lep_pt_2 plots.\n",
    "1. Imagine placing a cut at 7 GeV in the distributions of <span style=\"color:blue\">signal</span> and <span style=\"color:red\">background</span> (1st plot). This means keeping all events above 7 GeV in the <span style=\"color:blue\">signal</span> and <span style=\"color:red\">background</span> histograms. \n",
    "2. We then take the ratio of the number of <span style=\"color:blue\">signal</span> events that pass this cut, to the number of <span style=\"color:red\">background</span> events that pass this cut. This gives us a starting value for S/B (2nd plot). \n",
    "3. We then increase this cut value to 8 GeV, 9 GeV, 10 GeV, 11 GeV, 12 GeV. Cuts at these values are throwing away more <span style=\"color:red\">background</span> than <span style=\"color:blue\">signal</span>, so S/B increases. \n",
    "4. There comes a point around 13 GeV where we start throwing away too much <span style=\"color:blue\">signal</span>, thus S/B starts to decrease. \n",
    "5. Our goal is to find the maximum in S/B, and place the cut there.\n",
    "\n",
    "The same logic applies to lep_pt_1."
   ]
  },
  {
   "cell_type": "code",
   "execution_count": 13,
   "metadata": {
    "scrolled": false
   },
   "outputs": [
    {
     "data": {
      "image/png": "[encoded data removed]",
      "text/plain": [
       "<Figure size 432x288 with 1 Axes>"
      ]
     },
     "metadata": {
      "needs_background": "light"
     },
     "output_type": "display_data"
    },
    {
     "data": {
      "image/png": "[encoded data removed]",
      "text/plain": [
       "<Figure size 432x288 with 1 Axes>"
      ]
     },
     "metadata": {
      "needs_background": "light"
     },
     "output_type": "display_data"
    },
    {
     "data": {
      "image/png": "[encoded data removed]",
      "text/plain": [
       "<Figure size 432x288 with 1 Axes>"
      ]
     },
     "metadata": {
      "needs_background": "light"
     },
     "output_type": "display_data"
    },
    {
     "data": {
      "image/png": "[encoded data removed]",
      "text/plain": [
       "<Figure size 432x288 with 1 Axes>"
      ]
     },
     "metadata": {
      "needs_background": "light"
     },
     "output_type": "display_data"
    }
   ],
   "source": [
    "plot_SoverB(data)"
   ]
  },
  {
   "cell_type": "markdown",
   "metadata": {},
   "source": [
    "[Back to contents](#contents)"
   ]
  },
  {
   "cell_type": "markdown",
   "metadata": {},
   "source": [
    "In the [ATLAS Higgs discovery paper](https://www.sciencedirect.com/science/article/pii/S037026931200857X), there are a number of numerical cuts applied, not just on lep_pt_1 and lep_pt_2.\n",
    "\n",
    "Imagine having to separately optimise about 7 variables! Not to mention that applying a cut on one variable could change the distribution of another, which would mean you'd have to re-optimise... Nightmare.\n",
    "\n",
    "This is where a Machine Learning algorithm such as a Neural Network can come to the rescue. A Neural Network can optimise all variables at the same time.\n",
    "\n",
    "A Neural Network not only optimises cuts, but can find correlations in many dimensions that will give better signal/background classification than individual cuts ever could.\n",
    "\n",
    "That's the end of the introduction to why one might want to use a Neural Network. If you'd like to try using one, just keep reading below!"
   ]
  },
  {
   "cell_type": "markdown",
   "metadata": {},
   "source": [
    "<a id='NN'></a>"
   ]
  },
  {
   "cell_type": "markdown",
   "metadata": {},
   "source": [
    "## Neural Network\n",
    "\n",
    "Choose variables for use in the Neural Network"
   ]
  },
  {
   "cell_type": "code",
   "execution_count": 14,
   "metadata": {},
   "outputs": [
    {
     "data": {
      "text/plain": [
       "{'ZZ':         lep_pt_1   lep_pt_2\n",
       " entry                      \n",
       " 0      61.677957  48.666441\n",
       " 1      41.498750  18.562252\n",
       " 2      78.250461  56.973090\n",
       " 3      26.851668  13.466778\n",
       " 4      98.566398  74.528453\n",
       " ...          ...        ...\n",
       " 16623  40.231020  14.359087\n",
       " 16624  71.017078  24.197906\n",
       " 16625  54.766832  27.539174\n",
       " 16626  50.042633  35.911793\n",
       " 16627  35.250531  26.751711\n",
       " \n",
       " [15740 rows x 2 columns],\n",
       " '$H \\\\rightarrow ZZ \\\\rightarrow \\\\ell\\\\ell\\\\ell\\\\ell$':         lep_pt_1   lep_pt_2\n",
       " entry                      \n",
       " 0      41.248570  16.397670\n",
       " 1      40.307168  16.133789\n",
       " 2      27.313271  20.035949\n",
       " 3      27.845740  17.726541\n",
       " 4      53.367754  25.596689\n",
       " ...          ...        ...\n",
       " 4935   29.323988  28.241137\n",
       " 4936   58.395027  43.535012\n",
       " 4937   32.114463  26.019475\n",
       " 4938   55.594645  22.598514\n",
       " 4940   36.496094  18.893633\n",
       " \n",
       " [4841 rows x 2 columns]}"
      ]
     },
     "execution_count": 14,
     "metadata": {},
     "output_type": "execute_result"
    }
   ],
   "source": [
    "data_for_NN = {} # define empty dictionary to hold dataframes that will be used to train the NN\n",
    "NN_inputs = ['lep_pt_1','lep_pt_2'] # list of features for Neural Network\n",
    "for key in data: # loop over the different keys in the dictionary of dataframes\n",
    "    data_for_NN[key] = data[key][NN_inputs].copy()\n",
    "data_for_NN"
   ]
  },
  {
   "cell_type": "markdown",
   "metadata": {},
   "source": [
    "[Back to contents](#contents)"
   ]
  },
  {
   "cell_type": "markdown",
   "metadata": {},
   "source": [
    " Organise data ready for the NN"
   ]
  },
  {
   "cell_type": "code",
   "execution_count": 15,
   "metadata": {},
   "outputs": [],
   "source": [
    "# for sklearn data is usually organised                                                                                                                                           \n",
    "# into one 2D array of shape (n_samples x n_features)                                                                                                                             \n",
    "# containing all the data and one array of categories                                                                                                                             \n",
    "# of length n_samples  \n",
    "\n",
    "all_MC = [] # define empty list that will contain all features for the MC\n",
    "for key in data: # loop over the different keys in the dictionary of dataframes\n",
    "    if key!='data': # only MC should pass this\n",
    "        all_MC.append(data_for_NN[key]) # append the MC dataframe to the list containing all MC features\n",
    "X = np.concatenate(all_MC) # concatenate the list of MC dataframes into a single 2D array of features, called X\n",
    "\n",
    "all_y = [] # define empty list that will contain labels whether an event in signal or background\n",
    "for key in data: # loop over the different keys in the dictionary of dataframes\n",
    "    if key!=r'$H \\rightarrow ZZ \\rightarrow \\ell\\ell\\ell\\ell$' and key!='data': # only background MC should pass this\n",
    "        all_y.append(np.zeros(data_for_NN[key].shape[0])) # background events are labelled with 0\n",
    "all_y.append(np.ones(data_for_NN[r'$H \\rightarrow ZZ \\rightarrow \\ell\\ell\\ell\\ell$'].shape[0])) # signal events are labelled with 1\n",
    "y = np.concatenate(all_y) # concatenate the list of lables into a single 1D array of labels, called y"
   ]
  },
  {
   "cell_type": "markdown",
   "metadata": {},
   "source": [
    "[Back to contents](#contents)"
   ]
  },
  {
   "cell_type": "markdown",
   "metadata": {},
   "source": [
    "<a id='train_test'></a>"
   ]
  },
  {
   "cell_type": "markdown",
   "metadata": {},
   "source": [
    "### The Training and Testing split\n",
    "One of the first things to do is split your data into a training and testing set. This will split your data into train-test sets: 67%-33%. It will also shuffle entries so you will not get the first 67% of <span style=\"color:orange\">X</span> for training and the last 33% for testing. This is particularly important in cases where you load all <span style=\"color:blue\">signal</span> events first and then the <span style=\"color:red\">background</span> events.\n",
    "\n",
    "Here we split our data into two independent samples. The split is to create a training and testing set. The first will be used for training the classifier and the second to evaluate its performance.\n",
    "\n",
    "We don't want to test on events that we used to train on, this prevents overfitting to some subset of data so the network would be good for the test data but much worse at any *new* data it sees."
   ]
  },
  {
   "cell_type": "code",
   "execution_count": 16,
   "metadata": {},
   "outputs": [],
   "source": [
    "from sklearn.model_selection import train_test_split\n",
    "\n",
    "# make train and test sets\n",
    "X_train,X_test, y_train,y_test = train_test_split(X, y, \n",
    "                                                  test_size=0.33, \n",
    "                                                  random_state=492 )"
   ]
  },
  {
   "cell_type": "markdown",
   "metadata": {},
   "source": [
    "[Back to contents](#contents)"
   ]
  },
  {
   "cell_type": "markdown",
   "metadata": {},
   "source": [
    "<a id='preprocessing'></a>"
   ]
  },
  {
   "cell_type": "markdown",
   "metadata": {},
   "source": [
    "### Data Preprocessing for Neural Network\n",
    "\n",
    "The neural network in Python may have difficulty converging before the maximum number of iterations allowed if the data is not standardized. Multi-layer Perceptron is sensitive to feature scaling, so it is highly recommended to scale your data. Note that you must apply the same scaling to the test set for meaningful results. There are a lot of different methods for standardization of data, we will use the built-in StandardScaler this time."
   ]
  },
  {
   "cell_type": "code",
   "execution_count": 17,
   "metadata": {},
   "outputs": [
    {
     "data": {
      "text/plain": [
       "StandardScaler(copy=True, with_mean=True, with_std=True)"
      ]
     },
     "execution_count": 17,
     "metadata": {},
     "output_type": "execute_result"
    }
   ],
   "source": [
    "from sklearn.preprocessing import StandardScaler\n",
    "scaler = StandardScaler() # initialise StandardScaler\n",
    "\n",
    "# Fit only to the training data\n",
    "scaler.fit(X_train)"
   ]
  },
  {
   "cell_type": "code",
   "execution_count": 18,
   "metadata": {},
   "outputs": [],
   "source": [
    "# Now apply the transformations to the data:\n",
    "X_train = scaler.transform(X_train)\n",
    "X_test = scaler.transform(X_test)\n",
    "X = scaler.transform(X)"
   ]
  },
  {
   "cell_type": "markdown",
   "metadata": {},
   "source": [
    "[Back to contents](#contents)"
   ]
  },
  {
   "cell_type": "markdown",
   "metadata": {},
   "source": [
    "<a id='training'></a>"
   ]
  },
  {
   "cell_type": "markdown",
   "metadata": {},
   "source": [
    "### Training the Neural Network model\n",
    "Now it is time to train our model. We'll use SciKit Learn (sklearn) in this tutorial. Other possible tools include keras and pytorch. \n",
    "\n",
    "SciKit Learn makes training simpler, by using estimator objects. In this case we will import our estimator (the Multi-Layer Perceptron Classifier model) from the neural_network library of SciKit-Learn"
   ]
  },
  {
   "cell_type": "code",
   "execution_count": 19,
   "metadata": {},
   "outputs": [],
   "source": [
    "from sklearn.neural_network import MLPClassifier"
   ]
  },
  {
   "cell_type": "markdown",
   "metadata": {},
   "source": [
    "Next we create an instance of the model, there are a lot of parameters you can choose to define and customize here, we will only define the hidden_layer_sizes. For this parameter you pass in a tuple consisting of the number of neurons you want at each layer, where the nth entry in the tuple represents the number of neurons in the nth layer of the MLP model. There are many ways to choose these numbers, but for simplicity we will choose 1 layer with the same number of neurons as there are features in our data set along with 200 max iterations."
   ]
  },
  {
   "cell_type": "code",
   "execution_count": 20,
   "metadata": {},
   "outputs": [],
   "source": [
    "hidden_layer_sizes = [len(NN_inputs)] # 1 hidden layer\n",
    "mlp = MLPClassifier(hidden_layer_sizes=(hidden_layer_sizes), # define parameters for our multi-layer-perceptron\n",
    "                    max_iter=200 ) # max number of iterations"
   ]
  },
  {
   "cell_type": "markdown",
   "metadata": {},
   "source": [
    "Now that the model has been made we can fit the training data to our model, remember that this data has already been processed and scaled:"
   ]
  },
  {
   "cell_type": "code",
   "execution_count": 21,
   "metadata": {},
   "outputs": [
    {
     "data": {
      "text/plain": [
       "MLPClassifier(activation='relu', alpha=0.0001, batch_size='auto', beta_1=0.9,\n",
       "              beta_2=0.999, early_stopping=False, epsilon=1e-08,\n",
       "              hidden_layer_sizes=[2], learning_rate='constant',\n",
       "              learning_rate_init=0.001, max_iter=200, momentum=0.9,\n",
       "              n_iter_no_change=10, nesterovs_momentum=True, power_t=0.5,\n",
       "              random_state=None, shuffle=True, solver='adam', tol=0.0001,\n",
       "              validation_fraction=0.1, verbose=False, warm_start=False)"
      ]
     },
     "execution_count": 21,
     "metadata": {},
     "output_type": "execute_result"
    }
   ],
   "source": [
    "#print(X_train)\n",
    "mlp.fit(X_train,y_train)"
   ]
  },
  {
   "cell_type": "markdown",
   "metadata": {},
   "source": [
    "You can see the output that shows the default values of the other parameters in the model. We encourage you to play around with them and discover what effects they have on your neural network in Python."
   ]
  },
  {
   "cell_type": "markdown",
   "metadata": {},
   "source": [
    "[Back to contents](#contents)"
   ]
  },
  {
   "cell_type": "markdown",
   "metadata": {},
   "source": [
    "<a id='ROC'></a>"
   ]
  },
  {
   "cell_type": "markdown",
   "metadata": {},
   "source": [
    "### Receiver Operarting Characteristic (ROC) curve for Neural Network\n",
    "Another useful plot to judge the performance of a classifier is to look at the ROC curve directly."
   ]
  },
  {
   "cell_type": "code",
   "execution_count": 22,
   "metadata": {},
   "outputs": [
    {
     "data": {
      "image/png": "[encoded data removed]",
      "text/plain": [
       "<Figure size 432x288 with 1 Axes>"
      ]
     },
     "metadata": {
      "needs_background": "light"
     },
     "output_type": "display_data"
    },
    {
     "data": {
      "image/png": "[encoded data removed]",
      "text/plain": [
       "<Figure size 432x288 with 1 Axes>"
      ]
     },
     "metadata": {
      "needs_background": "light"
     },
     "output_type": "display_data"
    }
   ],
   "source": [
    "# we first plot the Neural Network output\n",
    "signal_decisions = mlp.predict_proba(X[y>0.5])[:, 1] # get probabilities on signal\n",
    "background_decisions = mlp.predict_proba(X[y<0.5])[:, 1] # get probabilities on background\n",
    "\n",
    "plt.hist(background_decisions, color='red', label='background', \n",
    "         histtype='step', # lineplot that's unfilled\n",
    "         density=True ) # normalize to form a probability density\n",
    "plt.hist(signal_decisions, color='blue', label='signal', \n",
    "         histtype='step', # lineplot that's unfilled\n",
    "         density=True, # normalize to form a probability density\n",
    "         linestyle='--' ) # dashed line\n",
    "plt.xlabel('Neural Network output') # add x-axis label\n",
    "plt.ylabel('Arbitrary units') # add y-axis label\n",
    "plt.legend() # add legend\n",
    "\n",
    "\n",
    "# we then plot the ROC\n",
    "plt.figure() # make new figure \n",
    "\n",
    "from sklearn.metrics import roc_curve, auc\n",
    "\n",
    "decisions = mlp.predict_proba(X_test)[:, 1] # get probabilities on test set\n",
    "\n",
    "# Compute ROC curve and area under the curve\n",
    "fpr, tpr, _ = roc_curve(y_test, # actual\n",
    "                        decisions ) # predicted\n",
    "\n",
    "# Compute area under the curve for training set\n",
    "roc_auc = auc(fpr, # false positive rate \n",
    "              tpr) # true positive rate\n",
    "\n",
    "plt.plot(fpr, tpr, label='ROC (area = %0.2f)'%(roc_auc)) # plot test ROC curve\n",
    "plt.plot([0, 1], # x from 0 to 1\n",
    "         [0, 1], # y from 0 to 1\n",
    "         '--', # dashed line\n",
    "         color='grey', label='Luck')\n",
    "\n",
    "plt.xlabel('False Positive Rate') # x-axis label\n",
    "plt.ylabel('True Positive Rate') # y-axis label\n",
    "plt.title('Receiver operating characteristic (ROC) curve') # title\n",
    "plt.legend() # add legend\n",
    "plt.grid() # add grid"
   ]
  },
  {
   "cell_type": "markdown",
   "metadata": {},
   "source": [
    "Sliding the cut threshold in Neural Network output (upper plot) from right to left builds up the ROC curve (lower plot) from bottom to top."
   ]
  },
  {
   "cell_type": "markdown",
   "metadata": {},
   "source": [
    "[Back to contents](#contents)"
   ]
  },
  {
   "cell_type": "markdown",
   "metadata": {},
   "source": [
    "<a id='overtraining'></a>"
   ]
  },
  {
   "cell_type": "markdown",
   "metadata": {},
   "source": [
    "### Neural Network Overtraining Check\n",
    "Comparing the Neural Network's output distribution for the training and testing set is a popular way in HEP to check for overtraining. The <span style=\"color:orange\">compare_train_test()</span> method will plot the shape of the Neural Network's decision function for each class, as well as overlaying it with the decision function in the training set.\n",
    "\n",
    "There are techniques to prevent overtraining."
   ]
  },
  {
   "cell_type": "code",
   "execution_count": 23,
   "metadata": {
    "scrolled": false
   },
   "outputs": [
    {
     "data": {
      "image/png": "[encoded data removed]",
      "text/plain": [
       "<Figure size 432x288 with 1 Axes>"
      ]
     },
     "metadata": {
      "needs_background": "light"
     },
     "output_type": "display_data"
    }
   ],
   "source": [
    "def compare_train_test(clf, X_train, y_train, X_test, y_test):\n",
    "    decisions = [] # list to hold decisions of classifier\n",
    "    for X,y in ((X_train, y_train), (X_test, y_test)): # train and test\n",
    "        d1 = clf.predict_proba(X[y<0.5])[:, 1] # background\n",
    "        d2 = clf.predict_proba(X[y>0.5])[:, 1] # signal\n",
    "        decisions += [d1, d2] # add to list of classifier decision\n",
    "    \n",
    "    highest_decision = max(np.max(d) for d in decisions) # get maximum score\n",
    "    bin_edges = [] # list to hold bin edges\n",
    "    bin_edge = -0.1 # start counter for bin_edges\n",
    "    while bin_edge < highest_decision: # up to highest score\n",
    "        bin_edge += 0.1 # increment\n",
    "        bin_edges.append(bin_edge)\n",
    "    \n",
    "    plt.hist(decisions[0], # background in train set\n",
    "             bins=bin_edges, # lower and upper range of the bins\n",
    "             density=True, # area under the histogram will sum to 1\n",
    "             histtype='stepfilled', # lineplot that's filled\n",
    "             color='red', label='Background (train)', # Background (train)\n",
    "            alpha=0.5 ) # half transparency\n",
    "    plt.hist(decisions[1], # background in train set\n",
    "             bins=bin_edges, # lower and upper range of the bins\n",
    "             density=True, # area under the histogram will sum to 1\n",
    "             histtype='stepfilled', # lineplot that's filled\n",
    "             color='blue', label='Signal (train)', # Signal (train)\n",
    "            alpha=0.5 ) # half transparency\n",
    "\n",
    "    hist_background, bin_edges = np.histogram(decisions[2], # background test\n",
    "                                              bins=bin_edges, # number of bins in function definition\n",
    "                                              density=True ) # area under the histogram will sum to 1\n",
    "    \n",
    "    scale = len(decisions[2]) / sum(hist_background) # between raw and normalised\n",
    "    err_background = np.sqrt(hist_background * scale) / scale # error on test background\n",
    "\n",
    "    width = 0.1 # histogram bin width\n",
    "    center = (bin_edges[:-1] + bin_edges[1:]) / 2 # bin centres\n",
    "    \n",
    "    plt.errorbar(x=center, y=hist_background, yerr=err_background, fmt='o', # circles\n",
    "                 c='red', label='Background (test)' ) # Background (test)\n",
    "    \n",
    "    hist_signal, bin_edges = np.histogram(decisions[3], # siganl test\n",
    "                                          bins=bin_edges, # number of bins in function definition\n",
    "                                          density=True ) # area under the histogram will sum to 1\n",
    "    scale = len(decisions[3]) / sum(hist_signal) # between raw and normalised\n",
    "    err_signal = np.sqrt(hist_signal * scale) / scale # error on test background\n",
    "    \n",
    "    plt.errorbar(x=center, y=hist_signal, yerr=err_signal, fmt='o', # circles\n",
    "                 c='blue', label='Signal (test)' ) # Signal (test)\n",
    "    \n",
    "    plt.xlabel(\"Neural Network output\") # write x-axis label\n",
    "    plt.ylabel(\"Arbitrary units\") # write y-axis label\n",
    "    plt.legend() # add legend\n",
    "    \n",
    "compare_train_test(mlp, X_train, y_train, X_test, y_test) # call compare_train_test"
   ]
  },
  {
   "cell_type": "markdown",
   "metadata": {},
   "source": [
    "[Back to contents](#contents)"
   ]
  },
  {
   "cell_type": "markdown",
   "metadata": {},
   "source": [
    "<a id='NN_optimisation'></a>"
   ]
  },
  {
   "cell_type": "markdown",
   "metadata": {},
   "source": [
    "### Neural Network Optimisation\n",
    "\n",
    "Here we get the Neural Network's prediction probability for every event that was processed at the begininning (so could be data, <span style=\"color:blue\">signal</span>, <span style=\"color:red\">background</span>...). The higher the probability, the more the Neural Network thinks that event looks like <span style=\"color:blue\">signal</span>."
   ]
  },
  {
   "cell_type": "code",
   "execution_count": 24,
   "metadata": {},
   "outputs": [
    {
     "data": {
      "text/plain": [
       "array([0.01180213, 0.453007  , 0.00199742, ..., 0.43897427, 0.21224246,\n",
       "       0.46795003])"
      ]
     },
     "execution_count": 24,
     "metadata": {},
     "output_type": "execute_result"
    }
   ],
   "source": [
    "y_predicted = mlp.predict_proba(X)[:, 1]\n",
    "y_predicted"
   ]
  },
  {
   "cell_type": "markdown",
   "metadata": {},
   "source": [
    "In this cell we save the Neural Network output to our dataframes."
   ]
  },
  {
   "cell_type": "code",
   "execution_count": 25,
   "metadata": {},
   "outputs": [
    {
     "name": "stdout",
     "output_type": "stream",
     "text": [
      "entry\n",
      "0        0.011802\n",
      "1        0.453007\n",
      "2        0.001997\n",
      "3        0.467950\n",
      "4        0.000088\n",
      "           ...   \n",
      "16623    0.467950\n",
      "16624    0.087304\n",
      "16625    0.167925\n",
      "16626    0.091705\n",
      "16627    0.383065\n",
      "Name: NN_output, Length: 15740, dtype: float64\n",
      "entry\n",
      "0       0.467950\n",
      "1       0.467950\n",
      "2       0.467950\n",
      "3       0.467950\n",
      "4       0.200485\n",
      "          ...   \n",
      "4935    0.398341\n",
      "4936    0.025822\n",
      "4937    0.438974\n",
      "4938    0.212242\n",
      "4940    0.467950\n",
      "Name: NN_output, Length: 4841, dtype: float64\n"
     ]
    }
   ],
   "source": [
    "cumulative_events = 0 # start counter for total number of events for which output is saved\n",
    "for key in data: # loop over samples\n",
    "    data[key]['NN_output'] = y_predicted[cumulative_events:cumulative_events+len(data[key])]\n",
    "    cumulative_events += len(data[key]) # increment counter for total number of events\n",
    "    print(data[key]['NN_output']) # print the dataframe column NN_output"
   ]
  },
  {
   "cell_type": "markdown",
   "metadata": {},
   "source": [
    "[Back to contents](#contents)"
   ]
  },
  {
   "cell_type": "markdown",
   "metadata": {},
   "source": [
    "Here we define parameters to plot the Neural Network output"
   ]
  },
  {
   "cell_type": "code",
   "execution_count": 26,
   "metadata": {},
   "outputs": [],
   "source": [
    "NN_output = { # dictionary containing plotting parameters for the mllll histogram\n",
    "    # change plotting parameters\n",
    "    'bin_width':0.1, # width of each histogram bin\n",
    "    'num_bins':7, # number of histogram bins\n",
    "    'xrange_min':0, # minimum on x-axis\n",
    "    'xlabel':'Neural Network output', # x-axis label\n",
    "}\n",
    "\n",
    "SoverB_hist_dict = {'NN_output':NN_output}"
   ]
  },
  {
   "cell_type": "markdown",
   "metadata": {},
   "source": [
    "Here we call the function defined above to to illustrate the optimum cut value on Neural Network output, based on <span style=\"color:blue\">signal</span> to <span style=\"color:red\">background</span> ratio."
   ]
  },
  {
   "cell_type": "code",
   "execution_count": 27,
   "metadata": {},
   "outputs": [
    {
     "data": {
      "image/png": "[encoded data removed]",
      "text/plain": [
       "<Figure size 432x288 with 1 Axes>"
      ]
     },
     "metadata": {
      "needs_background": "light"
     },
     "output_type": "display_data"
    },
    {
     "data": {
      "image/png": "[encoded data removed]",
      "text/plain": [
       "<Figure size 432x288 with 1 Axes>"
      ]
     },
     "metadata": {
      "needs_background": "light"
     },
     "output_type": "display_data"
    }
   ],
   "source": [
    "plot_SoverB(data)"
   ]
  },
  {
   "cell_type": "markdown",
   "metadata": {},
   "source": [
    "[Back to contents](#contents)"
   ]
  },
  {
   "cell_type": "markdown",
   "metadata": {},
   "source": [
    "Putting everything into a Neural Network means we only have 1 variable to optimise. The <span style=\"color:blue\">signal</span> and <span style=\"color:red\">background</span> distributions are separated much better when looking at Neural Network output, compared to individual variables. Cutting on Neural Network output also achieves much higher S/B values than on individual variables.\n",
    "\n",
    "Neural Networks can achieve better S/B ratios because they find correlations in many dimensions that will give better signal/background classification.\n",
    "\n",
    "Hopefully you've enjoyed this discussion on optimising for <span style=\"color:blue\">signal</span> to <span style=\"color:red\">background</span> ratio, and in particular how a Neural Network can be used to facilitate this."
   ]
  },
  {
   "cell_type": "markdown",
   "metadata": {},
   "source": [
    "<a id='going_further'></a>"
   ]
  },
  {
   "cell_type": "markdown",
   "metadata": {},
   "source": [
    "## Going further\n",
    "\n",
    "If you want to go further, there are a number of things you could try: \n",
    "* Increase the fraction of events that are processed in '[Lumi, fraction, file path](#fraction)'.\n",
    "* Add in the other <span style=\"color:blue\">H->ZZ signal</span> samples in '[Samples](#samples)'. You can copy them from [HZZAnalysis.ipynb](https://github.com/atlas-outreach-data-tools/notebooks-collection-opendata/blob/master/13-TeV-examples/uproot_python/HZZAnalysis.ipynb). Try adding them one at a time first, then see how things look with all added.\n",
    "* Add in the Z and ttbar <span style=\"color:red\">backgrounds</span> samples in '[Samples](#samples)'. You can copy them from [HZZAnalysis.ipynb](https://github.com/atlas-outreach-data-tools/notebooks-collection-opendata/blob/master/13-TeV-examples/uproot_python/HZZAnalysis.ipynb). Try adding them separately first, then see how things look with both added.\n",
    "* Add some more variables into the Neural Network in '[Neural Network](#NN)'. Add them in one at a time, rather than all at once, because adding a variable could decrease Neural Network performance, due to anti-correlation. For some ideas of variables, you can look at the paper for the [discovery of the Higgs boson by ATLAS](https://www.sciencedirect.com/science/article/pii/S037026931200857X) (mostly Section 4 and 4.1).\n",
    "* Add in real data in '[Samples](#samples)' and see whether the Neural Network output distributions in data and simulation match. You can copy data from [HZZAnalysis.ipynb](https://github.com/atlas-outreach-data-tools/notebooks-collection-opendata/blob/master/13-TeV-examples/uproot_python/HZZAnalysis.ipynb). \n",
    "* Modify some Neural Network hyper-parameters in '[Training the Neural Network model](#training)'.\n",
    "\n",
    "With each change, keep an eye on the:\n",
    "* total area under the ROC curve, \n",
    "* separation between <span style=\"color:blue\">signal</span> and <span style=\"color:red\">background</span> in the Neural Network output distribution\n",
    "* S/B scores that can be achieved\n",
    "\n",
    "Notice that we've trained and tested our Neural Network on simulated data. We would then *apply* it to real experimental data. Once you're happy with your Neural Network, you may want to put it back into a full analysis to run over all data."
   ]
  },
  {
   "cell_type": "markdown",
   "metadata": {},
   "source": [
    "[Back to contents](#contents)"
   ]
  },
  {
   "cell_type": "code",
   "execution_count": null,
   "metadata": {},
   "outputs": [],
   "source": []
  }
 ],
 "metadata": {
  "kernelspec": {
   "display_name": "Python 3",
   "language": "python",
   "name": "python3"
  },
  "language_info": {
   "codemirror_mode": {
    "name": "ipython",
    "version": 3
   },
   "file_extension": ".py",
   "mimetype": "text/x-python",
   "name": "python",
   "nbconvert_exporter": "python",
   "pygments_lexer": "ipython3",
   "version": "3.8.3"
  }
 },
 "nbformat": 4,
 "nbformat_minor": 2
}
