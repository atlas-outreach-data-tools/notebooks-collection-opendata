{
 "cells": [
  {
   "cell_type": "markdown",
   "metadata": {},
   "source": [
    "# How to rediscover the Higgs boson yourself!\n",
    "This notebook uses the new release of ATLAS Open Data http://opendata.atlas.cern to show you the steps to rediscover the Higgs boson yourself!\n",
    "\n",
    "ATLAS Open Data provides open access to proton-proton collision data at the LHC for educational purposes. ATLAS Open Data resources are ideal for high-school, undergraduate and postgraduate students.\n",
    "\n",
    "Notebooks are web applications that allow you to create and share documents that can contain for example:\n",
    "1. live code\n",
    "2. visualisations\n",
    "3. narrative text\n",
    "\n",
    "The idea is that cuts increase the ratio of signal ($H \\rightarrow ZZ \\rightarrow \\ell\\ell\\ell\\ell$) to background ($Z, t\\bar{t}, ZZ \\rightarrow \\ell\\ell\\ell\\ell$)\n",
    "\n",
    "First, the amount of $Z$ and $t\\bar{t}$ background is reduced, since these are quite different to the signal.\n",
    "\n",
    "Then, the amount of $ZZ \\rightarrow \\ell\\ell\\ell\\ell$ is reduced, whilst keeping as much $H \\rightarrow ZZ \\rightarrow \\ell\\ell\\ell\\ell$ signal as possible.\n",
    "\n",
    "The datasets used in this notebook have already been filtered to include at least 4 leptons per event, so that processing is quicker.\n",
    "\n",
    "This analysis loosely follows the [Measurement of inclusive and differential cross sections in the H->ZZ*->4l decay channel in pp collisions at $\\sqrt{s} = 13~$TeV with the ATLAS detector](https://link.springer.com/article/10.1007/JHEP10(2017)132)\n",
    "\n",
    "By the end of this notebook you will be able to:\n",
    "1. rediscover the Higgs boson yourself!\n",
    "2. know some general principles of a particle physics analysis\n",
    "\n",
    "Feynman diagram pictures are borrowed from our friends at https://www.particlezoo.net"
   ]
  },
  {
   "cell_type": "markdown",
   "metadata": {},
   "source": [
    "<a id='contents'></a>"
   ]
  },
  {
   "cell_type": "markdown",
   "metadata": {},
   "source": [
    "Contents: \n",
    "\n",
    "[Running a Jupyter notebook](#running) <br />\n",
    "[First time setup on your computer (no need on mybinder)](#setup_computer) <br />\n",
    "[To setup everytime](#setup_everytime) <br />\n",
    "[Lumi, fraction, file path](#fraction) <br />\n",
    "[Samples](#samples) <br />\n",
    "[Changing a cut](#changing_cut) <br />\n",
    "[Applying a cut](#applying_cut) <br />\n",
    "[Plotting](#plotting) <br />\n",
    "[What can you do to explore this analysis?](#going_further) <br />"
   ]
  },
  {
   "cell_type": "markdown",
   "metadata": {},
   "source": [
    "<a id='running'></a>"
   ]
  },
  {
   "cell_type": "markdown",
   "metadata": {},
   "source": [
    "## Running a Jupyter notebook\n",
    "\n",
    "To run the whole Jupyter notebook, in the top menu click Cell -> Run All.\n",
    "\n",
    "To propagate a change you've made to a piece of code, click Cell -> Run All Below.\n",
    "\n",
    "You can also run a single code cell, by clicking Cell -> Run Cells, or using the keyboard shortcut Shift+Enter."
   ]
  },
  {
   "cell_type": "markdown",
   "metadata": {},
   "source": [
    "<a id='setup_computer'></a>"
   ]
  },
  {
   "cell_type": "markdown",
   "metadata": {},
   "source": [
    "## First time setup on your computer (no need on mybinder)\n",
    "This first cell only needs to be run the first time you open this notebook on your computer. \n",
    "\n",
    "If you close Jupyter and re-open on the same computer, you won't need to run this first cell again.\n",
    "\n",
    "If you open on mybinder, you don't need to run this cell."
   ]
  },
  {
   "cell_type": "code",
   "execution_count": 1,
   "metadata": {},
   "outputs": [
    {
     "name": "stdout",
     "output_type": "stream",
     "text": [
      "Requirement already satisfied: pip in /home/eirikgr/.local/lib/python3.9/site-packages (24.1.1)\n",
      "Requirement already satisfied: uproot in /home/eirikgr/.local/lib/python3.9/site-packages (5.3.9)\n",
      "Requirement already satisfied: awkward in /home/eirikgr/.local/lib/python3.9/site-packages (2.6.6)\n",
      "Requirement already satisfied: vector in /home/eirikgr/.local/lib/python3.9/site-packages (1.4.1)\n",
      "Requirement already satisfied: numpy in /home/eirikgr/.local/lib/python3.9/site-packages (2.0.0)\n",
      "Requirement already satisfied: matplotlib in /home/eirikgr/.local/lib/python3.9/site-packages (3.9.0)\n",
      "Requirement already satisfied: cramjam>=2.5.0 in /home/eirikgr/.local/lib/python3.9/site-packages (from uproot) (2.8.3)\n",
      "Requirement already satisfied: fsspec in /home/eirikgr/.local/lib/python3.9/site-packages (from uproot) (2023.6.0)\n",
      "Requirement already satisfied: packaging in /home/eirikgr/.local/lib/python3.9/site-packages (from uproot) (23.2)\n",
      "Requirement already satisfied: typing-extensions>=4.1.0 in /home/eirikgr/.local/lib/python3.9/site-packages (from uproot) (4.4.0)\n",
      "Requirement already satisfied: awkward-cpp==35 in /home/eirikgr/.local/lib/python3.9/site-packages (from awkward) (35)\n",
      "Requirement already satisfied: importlib-metadata>=4.13.0 in /home/eirikgr/.local/lib/python3.9/site-packages (from awkward) (6.7.0)\n",
      "Requirement already satisfied: contourpy>=1.0.1 in /home/eirikgr/.local/lib/python3.9/site-packages (from matplotlib) (1.1.0)\n",
      "Requirement already satisfied: cycler>=0.10 in /home/eirikgr/.local/lib/python3.9/site-packages (from matplotlib) (0.11.0)\n",
      "Requirement already satisfied: fonttools>=4.22.0 in /home/eirikgr/.local/lib/python3.9/site-packages (from matplotlib) (4.28.5)\n",
      "Requirement already satisfied: kiwisolver>=1.3.1 in /home/eirikgr/.local/lib/python3.9/site-packages (from matplotlib) (1.3.2)\n",
      "Requirement already satisfied: pillow>=8 in /home/eirikgr/.local/lib/python3.9/site-packages (from matplotlib) (9.0.0)\n",
      "Requirement already satisfied: pyparsing>=2.3.1 in /storage/software/easybuild/software/Python/3.9.6-GCCcore-11.2.0/lib/python3.9/site-packages (from matplotlib) (2.4.7)\n",
      "Requirement already satisfied: python-dateutil>=2.7 in /home/eirikgr/.local/lib/python3.9/site-packages (from matplotlib) (2.8.2)\n",
      "Requirement already satisfied: importlib-resources>=3.2.0 in /storage/software/easybuild/software/Python/3.9.6-GCCcore-11.2.0/lib/python3.9/site-packages (from matplotlib) (5.2.2)\n",
      "Requirement already satisfied: zipp>=0.5 in /home/eirikgr/.local/lib/python3.9/site-packages (from importlib-metadata>=4.13.0->awkward) (3.3.0)\n",
      "Requirement already satisfied: six>=1.5 in /home/eirikgr/.local/lib/python3.9/site-packages (from python-dateutil>=2.7->matplotlib) (1.15.0)\n"
     ]
    }
   ],
   "source": [
    "import sys\n",
    "import os.path\n",
    "# update the pip package installer\n",
    "!{sys.executable} -m pip install --upgrade --user pip\n",
    "# install required packages\n",
    "!{sys.executable} -m pip install --upgrade --user uproot awkward vector numpy matplotlib"
   ]
  },
  {
   "cell_type": "markdown",
   "metadata": {},
   "source": [
    "[Back to contents](#contents)"
   ]
  },
  {
   "cell_type": "markdown",
   "metadata": {},
   "source": [
    "<a id='setup_everytime'></a>"
   ]
  },
  {
   "cell_type": "markdown",
   "metadata": {},
   "source": [
    "## To setup everytime\n",
    "Cell -> Run All Below\n",
    "\n",
    "to be done every time you re-open this notebook\n",
    "\n",
    "We're going to be using a number of tools to help us:\n",
    "* uproot: lets us read .root files typically used in particle physics into data formats used in python\n",
    "* awkward: lets us store data as awkward arrays, a format that generalizes numpy to nested data with possibly variable length lists\n",
    "* vector: to allow vectorized 4-momentum calculations\n",
    "* numpy: provides numerical calculations such as histogramming\n",
    "* matplotlib: common tool for making plots, figures, images, visualisations"
   ]
  },
  {
   "cell_type": "code",
   "execution_count": 2,
   "metadata": {},
   "outputs": [],
   "source": [
    "import uproot # for reading .root files\n",
    "import awkward as ak # to represent nested data in columnar format\n",
    "import vector # for 4-momentum calculations\n",
    "import time # to measure time to analyse\n",
    "import math # for mathematical functions such as square root\n",
    "import numpy as np # for numerical calculations such as histogramming\n",
    "import matplotlib.pyplot as plt # for plotting\n",
    "from matplotlib.ticker import AutoMinorLocator # for minor ticks\n",
    "\n",
    "#import infofile # local file containing cross-sections, sums of weights, dataset IDs"
   ]
  },
  {
   "cell_type": "markdown",
   "metadata": {},
   "source": [
    "[Back to contents](#contents)"
   ]
  },
  {
   "cell_type": "markdown",
   "metadata": {},
   "source": [
    "<a id='fraction'></a>"
   ]
  },
  {
   "cell_type": "markdown",
   "metadata": {},
   "source": [
    "## Lumi, fraction, file path\n",
    "\n",
    "General definitions of fraction of data used, where to access the input files"
   ]
  },
  {
   "cell_type": "code",
   "execution_count": 3,
   "metadata": {},
   "outputs": [],
   "source": [
    "lumi = 36.6 # fb-1 # data size of the full release \n",
    "\n",
    "fraction = 1.0 # reduce this is if you want the code to run quicker\n",
    "                                                                                                                                  \n",
    "skim = \"exactly4lepNew\"\n",
    "tuple_path = \"/storage/eirikgr/OpenData/merged/\"+skim+\"/\""
   ]
  },
  {
   "cell_type": "markdown",
   "metadata": {},
   "source": [
    "<a id='samples'></a>"
   ]
  },
  {
   "cell_type": "markdown",
   "metadata": {},
   "source": [
    "## Samples\n",
    "\n",
    "samples to process"
   ]
  },
  {
   "cell_type": "code",
   "execution_count": 4,
   "metadata": {},
   "outputs": [],
   "source": [
    "samples = {\n",
    "\n",
    "    'data': {\n",
    "        'list' : ['data15_periodD','data15_periodF',\n",
    "                  'data15_periodH','data16_periodA',\n",
    "                  'data16_periodC','data16_periodE',\n",
    "                  'data16_periodG','data16_periodK',\n",
    "                  'data15_periodE','data15_periodG',\n",
    "                  'data15_periodJ','data16_periodB',\n",
    "                  'data16_periodD','data16_periodF',\n",
    "                  'data16_PeriodI','data16_periodL'],\n",
    "    },   \n",
    "    'Background Z,t#bar{t},t#bar{t}+V,VVV' : { # Z+t+vvv\n",
    "        'list' : ['410472.PhPy8EG_A14_ttbar_hdamp258p75_dil.exactly4lep',\n",
    "                    '410155.aMcAtNloPythia8EvtGen_MEN30NLO_A14N23LO_ttW.exactly4lep',\n",
    "                    '410218.aMcAtNloPythia8EvtGen_MEN30NLO_A14N23LO_ttee.exactly4lep',\n",
    "                    '410219.aMcAtNloPythia8EvtGen_MEN30NLO_A14N23LO_ttmumu.exactly4lep',\n",
    "                    '412043.aMcAtNloPythia8EvtGen_A14NNPDF31_SM4topsNLO.exactly4lep',\n",
    "                    '364243.Sherpa_222_NNPDF30NNLO_WWZ_4l2v_EW6.exactly4lep',\n",
    "                    '364242.Sherpa_222_NNPDF30NNLO_WWW_3l3v_EW6.exactly4lep',\n",
    "                    '364246.Sherpa_222_NNPDF30NNLO_WZZ_3l3v_EW6.exactly4lep',\n",
    "                    '364248.Sherpa_222_NNPDF30NNLO_ZZZ_4l2v_EW6.exactly4lep',\n",
    "                    '700320.Sh_2211_Zee_maxHTpTV2_BFilter.exactly4lep',\n",
    "                    '700321.Sh_2211_Zee_maxHTpTV2_CFilterBVeto.exactly4lep',\n",
    "                    '700322.Sh_2211_Zee_maxHTpTV2_CVetoBVeto.exactly4lep',\n",
    "                    '700323.Sh_2211_Zmumu_maxHTpTV2_BFilter.exactly4lep',\n",
    "                    '700324.Sh_2211_Zmumu_maxHTpTV2_CFilterBVeto.exactly4lep',\n",
    "                    '700325.Sh_2211_Zmumu_maxHTpTV2_CVetoBVeto.exactly4lep'],\n",
    "        'color' : \"#6b59d3\" # purple\n",
    "    },\n",
    "    r'Background $ZZ^*$' : { # ZZ\n",
    "        'list' : ['700600.Sh_2212_llll.exactly4lep',\n",
    "                  '700601.Sh_2212_lllv.exactly4lep'],\n",
    "        'color' : \"#ff0000\" # red\n",
    "    },\n",
    "    r'Signal ($m_H$ = 125 GeV)' : { # H -> ZZ -> llll\n",
    "        'list' : ['345060.PowhegPythia8EvtGen_NNLOPS_nnlo_30_ggH125_ZZ4l.exactly4lep',\n",
    "                    '346228.PowhegPy8EG_NNPDF30_AZNLOCTEQ6L1_VBFH125_ZZ4lep_notau.exactly4lep',\n",
    "                    '346414.aMcAtNloPythia8EvtGen_tHjb125_4fl_ZZ4l.exactly4lep',\n",
    "                    '346511.aMcAtNloPythia8EvtGen_tWH125_ZZ4l.exactly4lep',\n",
    "                    '346310.PowhegPythia8EvtGen_NNPDF30_AZNLO_ZH125J_Zincl_H_incl_MINLO.exactly4lep',\n",
    "                    '346311.PowhegPythia8EvtGen_NNPDF30_AZNLO_WpH125J_Wincl_H_incl_MINLO.exactly4lep',\n",
    "                    '346312.PowhegPythia8EvtGen_NNPDF30_AZNLO_WmH125J_Wincl_H_incl_MINLO.exactly4lep',\n",
    "                    '346340.PowhegPy8EG_A14NNPDF23_NNPDF30ME_ttH125_ZZ4l_allhad.exactly4lep',\n",
    "                    '346341.PowhegPy8EG_A14NNPDF23_NNPDF30ME_ttH125_ZZ4l_semilep.exactly4lep',\n",
    "                    '346342.PowhegPy8EG_A14NNPDF23_NNPDF30ME_ttH125_ZZ4l_dilep.exactly4lep',\n",
    "                    '345066.PowhegPythia8EvtGen_NNPDF3_AZNLO_ggZH125_ZZ4lepZinc.exactly4lep'],\n",
    "        'color' : \"#00cdff\" # light blue\n",
    "    },\n",
    "}"
   ]
  },
  {
   "cell_type": "markdown",
   "metadata": {},
   "source": [
    "Units, as stored in the data files"
   ]
  },
  {
   "cell_type": "code",
   "execution_count": 5,
   "metadata": {},
   "outputs": [],
   "source": [
    "MeV = 0.001\n",
    "GeV = 1.0"
   ]
  },
  {
   "cell_type": "markdown",
   "metadata": {},
   "source": [
    "[Back to contents](#contents)"
   ]
  },
  {
   "cell_type": "markdown",
   "metadata": {},
   "source": [
    "Define function to get data from files.\n",
    "\n",
    "The datasets used in this notebook have already been filtered to include at least 4 leptons per event, so that processing is quicker."
   ]
  },
  {
   "cell_type": "code",
   "execution_count": 6,
   "metadata": {},
   "outputs": [],
   "source": [
    "def get_data_from_files():\n",
    "\n",
    "    data = {} # define empty dictionary to hold awkward arrays\n",
    "    for s in samples: # loop over samples\n",
    "        #print('Processing '+s+' samples') # print which sample\n",
    "        frames = [] # define empty list to hold data\n",
    "        for val in samples[s]['list']: # loop over each file\n",
    "            prefix = \"\"\n",
    "            if s == 'data': prefix = \"Data/\" # Data prefix\n",
    "            else: # MC prefix\n",
    "                prefix = \"MC/mc_\"\n",
    "            fileString = tuple_path+prefix+val+\".root\" # file name to open\n",
    "            if not os.path.isfile(fileString):\n",
    "                print(\"WARNING \\t File %s does not exists. Skipping\"%fileString)\n",
    "                continue\n",
    "            #print(fileString,val)\n",
    "            temp = read_file(fileString,val) # call the function read_file defined below\n",
    "            frames.append(temp) # append array returned from read_file to list of awkward arrays\n",
    "        data[s] = ak.concatenate(frames) # dictionary entry is concatenated awkward arrays\n",
    "    \n",
    "    return data # return dictionary of awkward arrays"
   ]
  },
  {
   "cell_type": "markdown",
   "metadata": {},
   "source": [
    "[Back to contents](#contents)"
   ]
  },
  {
   "cell_type": "markdown",
   "metadata": {},
   "source": [
    "define function to calculate weight of MC event"
   ]
  },
  {
   "cell_type": "code",
   "execution_count": 7,
   "metadata": {},
   "outputs": [],
   "source": [
    "def calc_weight(events):\n",
    "    return (\n",
    "        (lumi*1000*events.corrected_xsec\n",
    "        * events.mcWeight\n",
    "        * events.ScaleFactor_PILEUP\n",
    "        * events.ScaleFactor_ELE\n",
    "        * events.ScaleFactor_MUON)/(events.sum_of_weights)\n",
    "        #* events.scaleFactor_LepTRIGGER\n",
    "    )"
   ]
  },
  {
   "cell_type": "markdown",
   "metadata": {},
   "source": [
    "define function to calculate 4-lepton invariant mass.\n",
    "\n",
    "Note: `lep_(pt|eta|phi|E)` are variable length lists of lepton momentum components for each event, represented by awkward arrays."
   ]
  },
  {
   "cell_type": "code",
   "execution_count": 8,
   "metadata": {},
   "outputs": [],
   "source": [
    "def calc_mllll(lep_pt, lep_eta, lep_phi, lep_e):\n",
    "    # construct awkward 4-vector array\n",
    "    p4 = vector.zip({\"pt\": lep_pt, \"eta\": lep_eta, \"phi\": lep_phi, \"e\": lep_e})\n",
    "    # calculate invariant mass of first 4 leptons\n",
    "    # [:, i] selects the i-th lepton in each event\n",
    "    # .M calculates the invariant mass\n",
    "    return (p4[:, 0] + p4[:, 1] + p4[:, 2] + p4[:, 3]).M"
   ]
  },
  {
   "cell_type": "markdown",
   "metadata": {},
   "source": [
    "[Back to contents](#contents)"
   ]
  },
  {
   "cell_type": "markdown",
   "metadata": {},
   "source": [
    "<a id='changing_cut'></a>"
   ]
  },
  {
   "cell_type": "markdown",
   "metadata": {},
   "source": [
    "## Changing a cut\n",
    "\n",
    "If you change a cut: Cell -> Run All Below\n",
    "\n",
    "If you change a cut here, you also need to make sure the cut is applied in the \"[Applying a cut](#applying_cut)\" cell."
   ]
  },
  {
   "cell_type": "code",
   "execution_count": 9,
   "metadata": {},
   "outputs": [],
   "source": [
    "# cut on lepton charge\n",
    "# paper: \"selecting two pairs of isolated leptons, each of which is comprised of two leptons with the same flavour and opposite charge\"\n",
    "def cut_lep_charge(lep_charge):\n",
    "# throw away when sum of lepton charges is not equal to 0\n",
    "# first lepton in each event is [:, 0], 2nd lepton is [:, 1] etc\n",
    "    return lep_charge[:, 0] + lep_charge[:, 1] + lep_charge[:, 2] + lep_charge[:, 3] != 0\n",
    "\n",
    "# cut on lepton type\n",
    "# paper: \"selecting two pairs of isolated leptons, each of which is comprised of two leptons with the same flavour and opposite charge\"\n",
    "def cut_lep_type(lep_type):\n",
    "# for an electron lep_type is 11\n",
    "# for a muon lep_type is 13\n",
    "# throw away when none of eeee, mumumumu, eemumu\n",
    "    sum_lep_type = lep_type[:, 0] + lep_type[:, 1] + lep_type[:, 2] + lep_type[:, 3]\n",
    "    return (sum_lep_type != 44) & (sum_lep_type != 48) & (sum_lep_type != 52)"
   ]
  },
  {
   "cell_type": "markdown",
   "metadata": {},
   "source": [
    "[Back to contents](#contents)"
   ]
  },
  {
   "cell_type": "markdown",
   "metadata": {},
   "source": [
    "<a id='applying_cut'></a>"
   ]
  },
  {
   "cell_type": "markdown",
   "metadata": {},
   "source": [
    "## Applying a cut\n",
    "If you add a cut: Cell -> Run All Below"
   ]
  },
  {
   "cell_type": "code",
   "execution_count": 10,
   "metadata": {},
   "outputs": [],
   "source": [
    "def read_file(path,sample):\n",
    "    start = time.time() # start the clock\n",
    "    print(\"\\tProcessing: \"+sample) # print which sample is being processed\n",
    "    data_all = [] # define empty list to hold all data for this sample\n",
    "    \n",
    "    # open the tree called mini using a context manager (will automatically close files/resources)\n",
    "    with uproot.open(path + \":analysis\") as tree:\n",
    "        numevents = tree.num_entries # number of events\n",
    "        #if 'data' not in sample: xsec_weight = get_xsec_weight(sample) # get cross-section weight\n",
    "        for data in tree.iterate(['lep_n','lep_pt','lep_eta','lep_phi','lep_z0','lep_d0',\n",
    "                                  'lep_e','lep_charge','lep_type', 'lep_isTightID','lep_topoetcone20',\n",
    "                                  'lep_ptvarcone30','lep_isLooseID','lep_isMediumID',\n",
    "                                  # add more variables here if you make cuts on them \n",
    "                                  'mcWeight','ScaleFactor_PILEUP',\n",
    "                                  'ScaleFactor_ELE','ScaleFactor_MUON',\n",
    "                                  'sum_of_weights','corrected_xsec','xsec','num_events',\n",
    "                                 'trigE','trigM'],\n",
    "                                  #'ScaleFactor_LepTRIGGER'], # variables to calculate Monte Carlo weight\n",
    "                                 library=\"ak\", # choose output type as awkward array\n",
    "                                 entry_stop=numevents*fraction): # process up to numevents*fraction\n",
    "\n",
    "            nIn = len(data) # number of events in this batch\n",
    "            \n",
    "            data = data[data['lep_n'] == 4]\n",
    "            \n",
    "            # Produce flat variables for each lepton so that we can easilly cut on the later\n",
    "            # ... or convert to hdf5 files\n",
    "            for i in range(0,4):\n",
    "                data[f'lep_pt{i+1}'] = data['lep_pt'][:,i]\n",
    "                data[f'lep_tightID{i+1}'] = data['lep_isTightID'][:,i]\n",
    "                data[f'lep_looseID{i+1}'] = data['lep_isLooseID'][:,i]\n",
    "                data[f'lep_mediumID{i+1}'] = data['lep_isMediumID'][:,i]\n",
    "                data[f'lep_topoetcone20{i+1}'] = data['lep_topoetcone20'][:,i]/data['lep_pt'][:,i]\n",
    "                data[f'lep_ptvarcone30{i+1}'] = data['lep_ptvarcone30'][:,i]/data['lep_pt'][:,i]\n",
    "                data[f'lep_type{i+1}'] = data['lep_type'][:,i]\n",
    "                data[f'lep_z0sintheta{i+1}'] = data['lep_z0'][:,i]*np.sin(2*np.arctan(np.exp(-1.0*data[\"lep_eta\"][:,i])))\n",
    "                data[f'lep_d0{i+1}'] = data['lep_d0'][:,i]\n",
    "        \n",
    "            data = data[data['trigE'] | data['trigM']]\n",
    "            \n",
    "            # Isolation as explained in Section 4 (Event selection) in paper\n",
    "            data = data[((data['lep_type1'] == 13) & (data['lep_topoetcone201']<0.3)) | \\\n",
    "                        ((data['lep_type1'] == 11) & (data['lep_topoetcone201']<0.2))]\n",
    "            data = data[((data['lep_type2'] == 13) & (data['lep_topoetcone202']<0.3)) | \\\n",
    "                        ((data['lep_type2'] == 11) & (data['lep_topoetcone202']<0.2))]\n",
    "            data = data[((data['lep_type3'] == 13) & (data['lep_topoetcone203']<0.3)) | \\\n",
    "                        ((data['lep_type3'] == 11) & (data['lep_topoetcone203']<0.2))]\n",
    "            data = data[((data['lep_type4'] == 13) & (data['lep_topoetcone204']<0.3)) | \\\n",
    "                        ((data['lep_type4'] == 11) & (data['lep_topoetcone204']<0.2))]\n",
    "            \n",
    "            data = data[data['lep_ptvarcone301']<0.15]\n",
    "            data = data[data['lep_ptvarcone302']<0.15]\n",
    "            data = data[data['lep_ptvarcone303']<0.15]\n",
    "            data = data[data['lep_ptvarcone304']<0.15]\n",
    "            \n",
    "            # Lepton identification as explained in Section 4 (Event selection) in paper\n",
    "            data = data[((data['lep_type1'] == 13) ) | \\\n",
    "                        ((data['lep_type1'] == 11) & (abs(data['lep_looseID1'])==1))]\n",
    "            data = data[((data['lep_type2'] == 13) ) | \\\n",
    "                        ((data['lep_type2'] == 11) & (abs(data['lep_looseID2'])==1))]\n",
    "            data = data[((data['lep_type3'] == 13) ) | \\\n",
    "                        ((data['lep_type3'] == 11) & (abs(data['lep_looseID3'])==1))]\n",
    "            data = data[((data['lep_type4'] == 13) ) | \\\n",
    "                        ((data['lep_type4'] == 11) & (abs(data['lep_looseID4'])==1))]\n",
    "            \n",
    "            # Cuts on transverse momentum\n",
    "            data = data[data['lep_pt1'] > 20]\n",
    "            data = data[data['lep_pt2'] > 15]\n",
    "            data = data[data['lep_pt3'] > 10]\n",
    "            \n",
    "            if 'data' not in sample: # only do this for Monte Carlo simulation files\n",
    "                data['totalWeight'] = calc_weight(data)\n",
    "                \n",
    "            # cut on lepton charge using the function cut_lep_charge defined above\n",
    "            data = data[~cut_lep_charge(data.lep_charge)]\n",
    "\n",
    "            # cut on lepton type using the function cut_lep_type defined above\n",
    "            data = data[~cut_lep_type(data.lep_type)]\n",
    "\n",
    "            # calculation of 4-lepton invariant mass using the function calc_mllll defined above\n",
    "            data['mllll'] = calc_mllll(data.lep_pt, data.lep_eta, data.lep_phi, data.lep_e)\n",
    "            \n",
    "            # multiple array columns can be printed at any stage like this\n",
    "            #print(data[['lep_pt','lep_eta']])\n",
    "            \n",
    "            if not 'data' in sample:\n",
    "                nOut = sum(data['totalWeight']) # sum of weights passing cuts in this batch \n",
    "            else:\n",
    "                nOut = len(data)\n",
    "            data_all.append(data) # append array from this batch\n",
    "            elapsed = time.time() - start # time taken to process\n",
    "            print(\"\\t\\t nIn: \"+str(nIn)+\",\\t nOut: \\t\"+str(nOut)+\"\\t in \"+str(round(elapsed,1))+\"s\") # events before and after\n",
    "    \n",
    "    return ak.concatenate(data_all) # return array containing events passing all cuts"
   ]
  },
  {
   "cell_type": "markdown",
   "metadata": {},
   "source": [
    "[Back to contents](#contents)"
   ]
  },
  {
   "cell_type": "markdown",
   "metadata": {},
   "source": [
    "This is where the processing happens"
   ]
  },
  {
   "cell_type": "code",
   "execution_count": 11,
   "metadata": {
    "scrolled": false
   },
   "outputs": [
    {
     "name": "stdout",
     "output_type": "stream",
     "text": [
      "\tProcessing: data15_periodD\n",
      "\t\t nIn: 118,\t nOut: \t2\t in 0.4s\n",
      "\tProcessing: data15_periodF\n",
      "\t\t nIn: 713,\t nOut: \t15\t in 1.2s\n",
      "\tProcessing: data15_periodH\n",
      "\t\t nIn: 740,\t nOut: \t12\t in 0.5s\n",
      "\tProcessing: data16_periodA\n",
      "\t\t nIn: 1086,\t nOut: \t23\t in 2.2s\n",
      "\tProcessing: data16_periodC\n",
      "\t\t nIn: 5441,\t nOut: \t100\t in 8.2s\n",
      "\tProcessing: data16_periodE\n",
      "\t\t nIn: 2710,\t nOut: \t49\t in 1.7s\n",
      "\tProcessing: data16_periodG\n",
      "\t\t nIn: 6943,\t nOut: \t144\t in 5.6s\n",
      "\tProcessing: data16_periodK\n",
      "\t\t nIn: 3893,\t nOut: \t83\t in 2.8s\n",
      "\tProcessing: data15_periodE\n",
      "\t\t nIn: 1099,\t nOut: \t17\t in 1.5s\n",
      "\tProcessing: data15_periodG\n",
      "\t\t nIn: 1610,\t nOut: \t24\t in 2.8s\n",
      "\tProcessing: data15_periodJ\n",
      "\t\t nIn: 3237,\t nOut: \t48\t in 7.4s\n",
      "\tProcessing: data16_periodB\n",
      "\t\t nIn: 3338,\t nOut: \t55\t in 2.2s\n",
      "\tProcessing: data16_periodD\n",
      "\t\t nIn: 8233,\t nOut: \t177\t in 13.7s\n",
      "\tProcessing: data16_periodF\n",
      "\t\t nIn: 6031,\t nOut: \t125\t in 6.1s\n",
      "\tProcessing: data16_PeriodI\n",
      "\t\t nIn: 9585,\t nOut: \t221\t in 11.9s\n",
      "\tProcessing: data16_periodL\n",
      "\t\t nIn: 10378,\t nOut: \t268\t in 16.3s\n",
      "\tProcessing: 410472.PhPy8EG_A14_ttbar_hdamp258p75_dil.exactly4lep\n",
      "\t\t nIn: 99030,\t nOut: \t2.4095186283054892\t in 2.0s\n",
      "\tProcessing: 410155.aMcAtNloPythia8EvtGen_MEN30NLO_A14N23LO_ttW.exactly4lep\n",
      "\t\t nIn: 10113,\t nOut: \t0.08298705523825642\t in 0.4s\n",
      "\tProcessing: 410218.aMcAtNloPythia8EvtGen_MEN30NLO_A14N23LO_ttee.exactly4lep\n",
      "\t\t nIn: 54990,\t nOut: \t8.257706076162952\t in 0.6s\n",
      "\tProcessing: 410219.aMcAtNloPythia8EvtGen_MEN30NLO_A14N23LO_ttmumu.exactly4lep\n",
      "\t\t nIn: 56152,\t nOut: \t5.603590897612313\t in 0.6s\n",
      "\tProcessing: 412043.aMcAtNloPythia8EvtGen_A14NNPDF31_SM4topsNLO.exactly4lep\n",
      "\t\t nIn: 27549,\t nOut: \t0.09897080293252922\t in 0.4s\n",
      "\tProcessing: 364243.Sherpa_222_NNPDF30NNLO_WWZ_4l2v_EW6.exactly4lep\n",
      "\t\t nIn: 9682,\t nOut: \t2.5535373320031387\t in 0.3s\n",
      "\tProcessing: 364242.Sherpa_222_NNPDF30NNLO_WWW_3l3v_EW6.exactly4lep\n",
      "\t\t nIn: 2948,\t nOut: \t0.003869952262044508\t in 0.3s\n",
      "\tProcessing: 364246.Sherpa_222_NNPDF30NNLO_WZZ_3l3v_EW6.exactly4lep\n",
      "\t\t nIn: 190,\t nOut: \t0.0027559978486645306\t in 0.3s\n",
      "\tProcessing: 364248.Sherpa_222_NNPDF30NNLO_ZZZ_4l2v_EW6.exactly4lep\n",
      "\t\t nIn: 6390,\t nOut: \t0.32543069488009263\t in 0.3s\n",
      "\tProcessing: 700320.Sh_2211_Zee_maxHTpTV2_BFilter.exactly4lep\n",
      "\t\t nIn: 169189,\t nOut: \t2.7252231945544514\t in 2.3s\n",
      "\tProcessing: 700321.Sh_2211_Zee_maxHTpTV2_CFilterBVeto.exactly4lep\n",
      "\t\t nIn: 320531,\t nOut: \t0.1452291618273116\t in 4.0s\n",
      "\tProcessing: 700322.Sh_2211_Zee_maxHTpTV2_CVetoBVeto.exactly4lep\n",
      "\t\t nIn: 82625,\t nOut: \t58.16787042696535\t in 2.6s\n",
      "\tProcessing: 700323.Sh_2211_Zmumu_maxHTpTV2_BFilter.exactly4lep\n",
      "\t\t nIn: 280456,\t nOut: \t0.5439646444584421\t in 3.2s\n",
      "\tProcessing: 700324.Sh_2211_Zmumu_maxHTpTV2_CFilterBVeto.exactly4lep\n",
      "\t\t nIn: 352708,\t nOut: \t1.0675963473256807\t in 3.7s\n",
      "\tProcessing: 700325.Sh_2211_Zmumu_maxHTpTV2_CVetoBVeto.exactly4lep\n",
      "\t\t nIn: 91892,\t nOut: \t-1.4300724362156225\t in 2.8s\n",
      "\tProcessing: 700600.Sh_2212_llll.exactly4lep\n",
      "\t\t nIn: 624406,\t nOut: \t431.8997744230063\t in 5.5s\n",
      "\t\t nIn: 230548,\t nOut: \t159.95858483922223\t in 7.7s\n",
      "\tProcessing: 700601.Sh_2212_lllv.exactly4lep\n",
      "\t\t nIn: 36632,\t nOut: \t2.480244518179528\t in 0.7s\n",
      "\tProcessing: 345060.PowhegPythia8EvtGen_NNLOPS_nnlo_30_ggH125_ZZ4l.exactly4lep\n",
      "\t\t nIn: 473289,\t nOut: \t7.596699111774808\t in 3.7s\n",
      "\tProcessing: 346228.PowhegPy8EG_NNPDF30_AZNLOCTEQ6L1_VBFH125_ZZ4lep_notau.exactly4lep\n",
      "\t\t nIn: 636190,\t nOut: \t1.2772447886665157\t in 5.2s\n",
      "\t\t nIn: 32007,\t nOut: \t0.06550084244993105\t in 5.7s\n",
      "WARNING \t File /storage/eirikgr/OpenData/merged/exactly4lepNew/MC/mc_346414.aMcAtNloPythia8EvtGen_tHjb125_4fl_ZZ4l.exactly4lep.root does not exists. Skipping\n",
      "WARNING \t File /storage/eirikgr/OpenData/merged/exactly4lepNew/MC/mc_346511.aMcAtNloPythia8EvtGen_tWH125_ZZ4l.exactly4lep.root does not exists. Skipping\n",
      "WARNING \t File /storage/eirikgr/OpenData/merged/exactly4lepNew/MC/mc_346310.PowhegPythia8EvtGen_NNPDF30_AZNLO_ZH125J_Zincl_H_incl_MINLO.exactly4lep.root does not exists. Skipping\n",
      "\tProcessing: 346311.PowhegPythia8EvtGen_NNPDF30_AZNLO_WpH125J_Wincl_H_incl_MINLO.exactly4lep\n",
      "\t\t nIn: 8,\t nOut: \t0\t in 0.2s\n",
      "\tProcessing: 346312.PowhegPythia8EvtGen_NNPDF30_AZNLO_WmH125J_Wincl_H_incl_MINLO.exactly4lep\n",
      "\t\t nIn: 5,\t nOut: \t-0.36997901941563793\t in 0.2s\n",
      "\tProcessing: 346340.PowhegPy8EG_A14NNPDF23_NNPDF30ME_ttH125_ZZ4l_allhad.exactly4lep\n",
      "\t\t nIn: 56919,\t nOut: \t0.05608597692477325\t in 0.7s\n",
      "\tProcessing: 346341.PowhegPy8EG_A14NNPDF23_NNPDF30ME_ttH125_ZZ4l_semilep.exactly4lep\n",
      "\t\t nIn: 69708,\t nOut: \t0.09485364371609425\t in 0.7s\n",
      "\tProcessing: 346342.PowhegPy8EG_A14NNPDF23_NNPDF30ME_ttH125_ZZ4l_dilep.exactly4lep\n",
      "\t\t nIn: 29090,\t nOut: \t0.007540576068454387\t in 0.4s\n",
      "WARNING \t File /storage/eirikgr/OpenData/merged/exactly4lepNew/MC/mc_345066.PowhegPythia8EvtGen_NNPDF3_AZNLO_ggZH125_ZZ4lepZinc.exactly4lep.root does not exists. Skipping\n",
      "Time taken: 136.4s\n"
     ]
    }
   ],
   "source": [
    "start = time.time() # time at start of whole processing\n",
    "data = get_data_from_files() # process all files\n",
    "elapsed = time.time() - start # time after whole processing\n",
    "print(\"Time taken: \"+str(round(elapsed,1))+\"s\") # print total time taken to process every file"
   ]
  },
  {
   "cell_type": "markdown",
   "metadata": {},
   "source": [
    "[Back to contents](#contents)"
   ]
  },
  {
   "cell_type": "markdown",
   "metadata": {},
   "source": [
    "<a id='plotting'></a>"
   ]
  },
  {
   "cell_type": "markdown",
   "metadata": {},
   "source": [
    "## Plotting\n",
    "If you only want to make a change in plotting: Cell -> Run All Below\n",
    "\n",
    "Define function to plot the data"
   ]
  },
  {
   "cell_type": "code",
   "execution_count": 12,
   "metadata": {},
   "outputs": [],
   "source": [
    "def plot_data(data):\n",
    "    \n",
    "    var = 'mllll'\n",
    "\n",
    "    xmin = 80 * GeV\n",
    "    xmax = 170 * GeV\n",
    "    step_size = 2.5 * GeV\n",
    "\n",
    "    bin_edges = np.arange(start=xmin, # The interval includes this value\n",
    "                     stop=xmax+step_size, # The interval doesn't include this value\n",
    "                     step=step_size ) # Spacing between values\n",
    "    print(bin_edges)\n",
    "    bin_centres = np.arange(start=xmin+step_size/2, # The interval includes this value\n",
    "                            stop=xmax+step_size/2, # The interval doesn't include this value\n",
    "                            step=step_size ) # Spacing between values\n",
    "\n",
    "    data_x,_ = np.histogram(ak.to_numpy(data['data'][var]), \n",
    "                            bins=bin_edges ) # histogram the data\n",
    "    data_x_errors = np.sqrt( data_x ) # statistical error on the data\n",
    "\n",
    "    signal_x = ak.to_numpy(data[r'Signal ($m_H$ = 125 GeV)'][var]) # histogram the signal\n",
    "    signal_weights = ak.to_numpy(data[r'Signal ($m_H$ = 125 GeV)'].totalWeight) # get the weights of the signal events\n",
    "    signal_color = samples[r'Signal ($m_H$ = 125 GeV)']['color'] # get the colour for the signal bar\n",
    "\n",
    "    mc_x = [] # define list to hold the Monte Carlo histogram entries\n",
    "    mc_weights = [] # define list to hold the Monte Carlo weights\n",
    "    mc_colors = [] # define list to hold the colors of the Monte Carlo bars\n",
    "    mc_labels = [] # define list to hold the legend labels of the Monte Carlo bars\n",
    "\n",
    "    for s in samples.keys(): # loop over samples\n",
    "        if s not in ['data', r'Signal ($m_H$ = 125 GeV)']: # if not data nor signal\n",
    "            print(\"Doing %s\"%s)\n",
    "            mc_x.append( ak.to_numpy(data[s][var]) ) # append to the list of Monte Carlo histogram entries\n",
    "            mc_weights.append( ak.to_numpy(data[s].totalWeight) ) # append to the list of Monte Carlo weights\n",
    "            mc_colors.append( samples[s]['color'] ) # append to the list of Monte Carlo bar colors\n",
    "            mc_labels.append( s ) # append to the list of Monte Carlo legend labels\n",
    "    \n",
    "\n",
    "\n",
    "    # *************\n",
    "    # Main plot \n",
    "    # *************\n",
    "    main_axes = plt.gca() # get current axes\n",
    "    \n",
    "    # plot the data points\n",
    "    main_axes.errorbar(x=bin_centres, y=data_x, yerr=data_x_errors,\n",
    "                       fmt='ko', # 'k' means black and 'o' is for circles \n",
    "                       label='Data') \n",
    "    \n",
    "    # plot the Monte Carlo bars\n",
    "    mc_heights = main_axes.hist(mc_x, bins=bin_edges, \n",
    "                                weights=mc_weights, \n",
    "                                stacked=True, \n",
    "                                color=mc_colors, label=mc_labels )\n",
    "    \n",
    "    mc_x_tot = mc_heights[0][-1] # stacked background MC y-axis value\n",
    "    \n",
    "    # calculate MC statistical uncertainty: sqrt(sum w^2)\n",
    "    mc_x_err = np.sqrt(np.histogram(np.hstack(mc_x), bins=bin_edges, weights=np.hstack(mc_weights)**2)[0])\n",
    "    \n",
    "    # plot the signal bar\n",
    "    main_axes.hist(signal_x, bins=bin_edges, bottom=mc_x_tot, \n",
    "                   weights=signal_weights, color=signal_color,\n",
    "                   label=r'Signal ($m_H$ = 125 GeV)')\n",
    "    \n",
    "    # plot the statistical uncertainty\n",
    "    main_axes.bar(bin_centres, # x\n",
    "                  2*mc_x_err, # heights\n",
    "                  alpha=0.5, # half transparency\n",
    "                  bottom=mc_x_tot-mc_x_err, color='none', \n",
    "                  hatch=\"////\", width=step_size, label='Stat. Unc.' )\n",
    "\n",
    "    # set the x-limit of the main axes\n",
    "    main_axes.set_xlim( left=xmin, right=xmax ) \n",
    "    \n",
    "    # separation of x axis minor ticks\n",
    "    main_axes.xaxis.set_minor_locator( AutoMinorLocator() ) \n",
    "    \n",
    "    # set the axis tick parameters for the main axes\n",
    "    main_axes.tick_params(which='both', # ticks on both x and y axes\n",
    "                          direction='in', # Put ticks inside and outside the axes\n",
    "                          top=True, # draw ticks on the top axis\n",
    "                          right=True ) # draw ticks on right axis\n",
    "    \n",
    "    # x-axis label\n",
    "    main_axes.set_xlabel(r'4-lepton invariant mass $\\mathrm{m_{4l}}$ [GeV]',\n",
    "                        fontsize=13, x=1, horizontalalignment='right' )\n",
    "    \n",
    "    # write y-axis label for main axes\n",
    "    main_axes.set_ylabel('Events / '+str(step_size)+' GeV',\n",
    "                         y=1, horizontalalignment='right') \n",
    "    \n",
    "    # set y-axis limits for main axes\n",
    "    main_axes.set_ylim( bottom=0, top=np.amax(data_x)*1.6 )\n",
    "    \n",
    "    # add minor ticks on y-axis for main axes\n",
    "    main_axes.yaxis.set_minor_locator( AutoMinorLocator() ) \n",
    "\n",
    "    # Add text 'ATLAS Open Data' on plot\n",
    "    plt.text(0.2, # x\n",
    "             0.93, # y\n",
    "             'ATLAS Open Data', # text\n",
    "             transform=main_axes.transAxes, # coordinate system used is that of main_axes\n",
    "             fontsize=16 ) \n",
    "    \n",
    "    # Add text 'for education' on plot\n",
    "    plt.text(0.2, # x\n",
    "             0.88, # y\n",
    "             'for education', # text\n",
    "             transform=main_axes.transAxes, # coordinate system used is that of main_axes\n",
    "             style='italic',\n",
    "             fontsize=10 ) \n",
    "    \n",
    "    # Add energy and luminosity\n",
    "    lumi_used = str(lumi*fraction) # luminosity to write on the plot\n",
    "    plt.text(0.2, # x\n",
    "             0.82, # y\n",
    "             '$\\sqrt{s}$=13 TeV,$\\int$L dt = '+lumi_used+' fb$^{-1}$', # text\n",
    "             transform=main_axes.transAxes ) # coordinate system used is that of main_axes\n",
    "    \n",
    "    # Add a label for the analysis carried out\n",
    "    plt.text(0.2, # x\n",
    "             0.76, # y\n",
    "             r'$H \\rightarrow ZZ^* \\rightarrow 4\\ell$', # text \n",
    "             transform=main_axes.transAxes ) # coordinate system used is that of main_axes\n",
    "\n",
    "    # draw the legend\n",
    "    main_axes.legend( frameon=False ) # no box around the legend\n",
    "    \n",
    "    plt.ylim(0, 40)\n",
    "    \n",
    "    return mc_weights"
   ]
  },
  {
   "cell_type": "markdown",
   "metadata": {},
   "source": [
    "[Back to contents](#contents)"
   ]
  },
  {
   "cell_type": "markdown",
   "metadata": {},
   "source": [
    "Call the function to plot the data"
   ]
  },
  {
   "cell_type": "code",
   "execution_count": 13,
   "metadata": {},
   "outputs": [
    {
     "name": "stdout",
     "output_type": "stream",
     "text": [
      "[ 80.   82.5  85.   87.5  90.   92.5  95.   97.5 100.  102.5 105.  107.5\n",
      " 110.  112.5 115.  117.5 120.  122.5 125.  127.5 130.  132.5 135.  137.5\n",
      " 140.  142.5 145.  147.5 150.  152.5 155.  157.5 160.  162.5 165.  167.5\n",
      " 170. ]\n",
      "Doing Background Z,t#bar{t},t#bar{t}+V,VVV\n",
      "Doing Background $ZZ^*$\n"
     ]
    },
    {
     "data": {
      "image/png": "[encoded data removed]",
      "text/plain": [
       "<Figure size 432x288 with 1 Axes>"
      ]
     },
     "metadata": {
      "needs_background": "light"
     },
     "output_type": "display_data"
    }
   ],
   "source": [
    "plt.rcParams[\"figure.figsize\"] = (10,8)\n",
    "mc_weights = plot_data(data)"
   ]
  },
  {
   "cell_type": "markdown",
   "metadata": {},
   "source": [
    "# [Back to contents](#contents)"
   ]
  },
  {
   "cell_type": "markdown",
   "metadata": {},
   "source": [
    "<a id='going_further'></a>"
   ]
  },
  {
   "cell_type": "markdown",
   "metadata": {},
   "source": [
    "## What can you do to explore this analysis?\n",
    "\n",
    "* Increase the fraction of data used in '[Lumi, fraction, file path](#fraction)'\n",
    "* Check how many events are being thrown away by each cut in '[Applying a cut](#applying_cut)'\n",
    "* Add more cuts from the [Higgs discovery paper](https://www.sciencedirect.com/science/article/pii/S037026931200857X#se0040) in '[Changing a cut](#changing_cut)' and '[Applying a cut](#applying_cut)'\n",
    "* Add a plot to show the ratio between Data and MC other than Higgs\n",
    "* Add a plot to show the invariant mass distribution of the sub-leading lepton pair, like [Figure 1 of the Higgs discovery paper](https://www.sciencedirect.com/science/article/pii/S037026931200857X#fg0010)\n",
    "* Get the estimated numbers of events, like [Table 3 of the Higgs discovery paper](https://www.sciencedirect.com/science/article/pii/S037026931200857X#tl0030)\n",
    "* Add a plot of m12 against m34, like [Figure 3 of the Higgs discovery paper](https://www.sciencedirect.com/science/article/pii/S037026931200857X#fg0030)\n",
    "* Your idea!"
   ]
  },
  {
   "cell_type": "markdown",
   "metadata": {},
   "source": [
    "[Back to contents](#contents)"
   ]
  },
  {
   "cell_type": "code",
   "execution_count": null,
   "metadata": {},
   "outputs": [],
   "source": []
  }
 ],
 "metadata": {
  "kernelspec": {
   "display_name": "Python 3 (ipykernel)",
   "language": "python",
   "name": "python3"
  },
  "language_info": {
   "codemirror_mode": {
    "name": "ipython",
    "version": 3
   },
   "file_extension": ".py",
   "mimetype": "text/x-python",
   "name": "python",
   "nbconvert_exporter": "python",
   "pygments_lexer": "ipython3",
   "version": "3.9.6"
  },
  "toc": {
   "base_numbering": 1,
   "nav_menu": {},
   "number_sections": true,
   "sideBar": true,
   "skip_h1_title": false,
   "title_cell": "Table of Contents",
   "title_sidebar": "Contents",
   "toc_cell": false,
   "toc_position": {},
   "toc_section_display": true,
   "toc_window_display": false
  }
 },
 "nbformat": 4,
 "nbformat_minor": 2
}
