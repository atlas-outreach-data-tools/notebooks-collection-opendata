{
 "cells": [
  {
   "cell_type": "markdown",
   "metadata": {},
   "source": [
    "## How to rediscover the Higgs boson yourself!"
   ]
  },
  {
   "cell_type": "markdown",
   "metadata": {},
   "source": [
    "<CENTER><img src=\"../../images/ATLASOD.gif\" style=\"width:50%\"></CENTER>"
   ]
  },
  {
   "cell_type": "markdown",
   "metadata": {},
   "source": [
    "This notebook uses ATLAS Open Data http://opendata.atlas.cern 2025 beta release to show you the steps to rediscover the Higgs boson yourself!\n",
    "\n",
    "ATLAS Open Data provides open access to proton-proton collision data at the LHC for educational purposes. ATLAS Open Data resources are ideal for high-school, undergraduate and postgraduate students.\n",
    "\n",
    "Notebooks are web applications that allow you to create and share documents that can contain for example:\n",
    "1. live code\n",
    "2. visualisations\n",
    "3. narrative text\n"
   ]
  },
  {
   "cell_type": "markdown",
   "metadata": {},
   "source": [
    "### What is the Higgs boson? \n",
    "The Higgs boson is a fundamental particle predicted by the Standard Model. \n",
    "It is a manifestation of the Higgs field,\n",
    "    which gives mass to the fundamental particles.\n",
    "However,\n",
    "    it is incredibly hard to produce.\n",
    "At the LHC, \n",
    "    a Higgs particle is produced about once every 10 billion collisions!\n",
    "This tiny fraction makes it very difficult to detect.\n",
    "Nevertheless, \n",
    "    after years of data collection, \n",
    "    the Higgs boson was finally discovered in 2012 by CMS and ATLAS experiments at CERN.\n",
    "In this tutorial, \n",
    "    we shall be following their example. \n"
   ]
  },
  {
   "cell_type": "markdown",
   "metadata": {},
   "source": [
    "### Detecting the Higgs\n",
    "This analysis loosely follows the paper on the [discovery of the Higgs boson by ATLAS](https://www.sciencedirect.com/science/article/pii/S037026931200857X) (mostly Section 4 and 4.1).\n",
    "\n",
    "The Higgs boson can be produced in many different ways. \n",
    "In particle physics, \n",
    "    we describe these production modes using Feynman diagrams.\n",
    "These diagrams allow us to visualise particle processes while also acting as powerful tools for calculations.\n",
    "See [here](https://cds.cern.ch/record/2759490/files/Feynman%20Diagrams%20-%20ATLAS%20Cheat%20Sheet.pdf) for more information on Feynman diagrams.\n",
    "\n",
    "There are four main production modes of the Higgs boson, and their respective Feynman diagrams:\n",
    "1. Gluon-gluon fusion (top left)\n",
    "2. Vector boson fusion (top right)\n",
    "3. Vector boson bremsstrahlung (bottom left)\n",
    "4. Top-antitop fusion (bottom right)\n",
    "\n",
    "<CENTER><img src=\"images/ImagesHiggs/ggH.png\" style=\"width:40%\"> <img src=\"images/ImagesHiggs/VBFH.png\" style=\"width:35%\"></CENTER>\n",
    "<CENTER><img src=\"images/ImagesHiggs/WH.png\" style=\"width:40%\"> <img src=\"images/ImagesHiggs/ttbarfusion.png\" style=\"width:35%\"></CENTER>\n",
    "\n",
    "The Higgs has a very short lifetime,\n",
    "    on the order of $10^{-22} \\,\\text{s}$.\n",
    "It decays extremely quickly after production,\n",
    "    so there is no hope of directly detecting the particle.\n",
    "Nevertheless,\n",
    "    we can use the Standard Model to predict its \n",
    "    decay products: photons, Z bosons, quarks, etc.,\n",
    "    all with different probabilities.\n",
    "These **decay channels** can be used to identify the Higgs boson.\n",
    "In this notebook, \n",
    "    we'll be looking at one particular decay channel:\n",
    "$$H \\rightarrow ZZ^* \\rightarrow \\ell\\ell\\ell\\ell$$\n",
    "\n",
    "<CENTER><img src=\"images/ImagesHiggs/HZZ_feynman.png\" style=\"width:40%\"></CENTER>\n"
   ]
  },
  {
   "cell_type": "markdown",
   "metadata": {},
   "source": [
    "We refer to this as our desired **signal**.\n",
    "Ideally,\n",
    "    we would search for collisions which yield four leptons as products and this would tell us that a Higgs boson is present.\n",
    "Unfortunately,\n",
    "    in addition to our signal,\n",
    "    there are many other **background** processes that lead to four reconstructed leptons in the final state. \n",
    "The main background is $ZZ^*  \\to \\ell\\ell\\ell\\ell$,\n",
    "    where decay products have the same properties as those in the Higgs decay. \n",
    "This is known as an irreducible background. \n",
    "<CENTER><img src=\"images/ImagesHiggs/ZZllll.png\" style=\"width:40%\"></CENTER>\n",
    "\n",
    "We can get around this by accounting for the total invariant mass of the lepton products. \n",
    "We know through conservation of energy and momentum that the invariant mass of the products must be equal to the Higgs mass, \n",
    "    while other background processes will have different invariant masses. \n",
    "Our last step would be to plot the invariant mass of each event and spot the peak in mass around $125\\, \\text{GeV}$ , which corresponds to the mass of the Higgs boson. \n",
    "\n",
    "We also have background contributions from $Z +$ jets and top-anti top processes, \n",
    "    where additional charged leptons can arise either from semi-leptonic decays of heavy flavour or light flavour jets misidentified as leptons.\n",
    "These backgrounds are difficult to remove completely. \n",
    "\n",
    "<CENTER><img src=\"images/ImagesHiggs/Zllll.png\" style=\"width:30%\"><img src=\"images/ImagesHiggs/ttbar.png\" style=\"width:30%\"></CENTER>\n",
    "\n",
    "For such processes,\n",
    "    we will attempt to distinguish them from the Higgs decay using the properties of the leptons.\n",
    "Because the Higgs is a neutral particle with zero lepton number,\n",
    "    the lepton products from its decay must sum to zero charge and zero lepton numbers.\n",
    "Thus, \n",
    "    we can cut away all data with products that do not have these properties.\n",
    "These cuts increase the ratio of our signal to the reducible background.\n",
    "\n",
    "Note: $Z^*$ refers to a $Z$ boson that is off its mass shell. \n",
    "This means that its mass is not fixed to the $91 \\, \\text{GeV}$ of a typical $Z$ boson. \n",
    "\n",
    "By the end of this notebook you will be able to:\n",
    "1. Learn to process large data sets using cuts\n",
    "2. Understand some general principles of a particle physics analysis\n",
    "3. Discover the Higgs boson!\n",
    "\n",
    "See [here](https://cds.cern.ch/record/2800577/files/Signal%20and%20Background%20Physics%20Cheat%20Sheet.pdf) for more information on signals and backgrounds!"
   ]
  },
  {
   "cell_type": "markdown",
   "metadata": {},
   "source": [
    "### Running a Python notebook\n",
    "A Python notebook consists of cell blocks, \n",
    "    each containing lines of Python code.\n",
    "Each cell can be run independently of each other,\n",
    "    yielding respective outputs below the cells.\n",
    "Conventionally,\n",
    "    cells are run in order from top to bottom.\n",
    "\n",
    "\n",
    "- To run the whole notebook, in the top menu click Cell $\\to$ Run All.\n",
    "\n",
    "- To propagate a change you've made to a piece of code, click Cell $\\to$ Run All Below.\n",
    "\n",
    "- You can also run a single code cell, by clicking Cell $\\to$ Run Cells, or using the keyboard shortcut Shift+Enter.\n",
    "\n",
    "For more information, \n",
    "    refer to [here](https://www.codecademy.com/article/how-to-use-jupyter-notebooks)."
   ]
  },
  {
   "cell_type": "markdown",
   "metadata": {},
   "source": [
    "## ATLAS Open Data Initialisation"
   ]
  },
  {
   "cell_type": "markdown",
   "metadata": {},
   "source": [
    "### First time package installation on your computer (not needed on mybinder)\n",
    "This first cell installs the required python packages.\n",
    "It only needs to be run the first time you open this notebook on your computer. \n",
    "If you close Jupyter and re-open on the same computer, you won't need to run this first cell again.\n",
    "\n",
    "If this is opened on mybinder, you don't need to run this cell."
   ]
  },
  {
   "cell_type": "code",
   "execution_count": null,
   "metadata": {
    "scrolled": true
   },
   "outputs": [],
   "source": [
    "import sys\n",
    "import os.path\n",
    "!pip install atlasopenmagic\n",
    "from atlasopenmagic import install_from_environment\n",
    "install_from_environment()"
   ]
  },
  {
   "cell_type": "markdown",
   "metadata": {},
   "source": [
    "We're going to import a number of packages to help us:\n",
    "* `numpy`: provides numerical calculations such as histogramming\n",
    "* `matplotlib`: common tool for making plots, figures, images, visualisations\n",
    "* `uproot`: processes `.root` files typically used in particle physics into data formats used in python\n",
    "* `awkward`: introduces `awkward` arrays, a format that generalizes `numpy` to nested data with possibly variable length lists\n",
    "* `vector`: to allow vectorized 4-momentum calculations"
   ]
  },
  {
   "cell_type": "code",
   "execution_count": 2,
   "metadata": {},
   "outputs": [],
   "source": [
    "import numpy as np # for numerical calculations such as histogramming\n",
    "import matplotlib.pyplot as plt # for plotting\n",
    "import matplotlib_inline # to edit the inline plot format\n",
    "#matplotlib_inline.backend_inline.set_matplotlib_formats('pdf', 'svg') # to make plots in pdf (vector) format\n",
    "from matplotlib.ticker import AutoMinorLocator # for minor ticks\n",
    "import uproot # for reading .root files\n",
    "import awkward as ak # to represent nested data in columnar format\n",
    "import vector # for 4-momentum calculations\n",
    "import time # for printing time stamps\n",
    "import requests # for file gathering, if needed"
   ]
  },
  {
   "cell_type": "markdown",
   "metadata": {},
   "source": [
    "Unit definitions, as stored in the data files"
   ]
  },
  {
   "cell_type": "code",
   "execution_count": 3,
   "metadata": {},
   "outputs": [],
   "source": [
    "MeV = 0.001\n",
    "GeV = 1.0"
   ]
  },
  {
   "cell_type": "markdown",
   "metadata": {},
   "source": [
    "We will use the [atlasopenmagic](https://opendata.atlas.cern/docs/data/atlasopenmagic) to access the open data directly from the ATLAS OpenData Portal so no need to download any samples. First we need to install the package"
   ]
  },
  {
   "cell_type": "markdown",
   "metadata": {},
   "source": [
    "Import the module and load the release."
   ]
  },
  {
   "cell_type": "code",
   "execution_count": 4,
   "metadata": {},
   "outputs": [
    {
     "name": "stdout",
     "output_type": "stream",
     "text": [
      "{'2016e-8tev': '2016 Open Data for education release for 8 TeV proton-proton '\n",
      "               'collisions (https://opendata.cern/record/3860).',\n",
      " '2024r-pp': '2024 Open Data for research release for proton-proton collisions '\n",
      "             '(https://opendata.cern/record/80020).',\n",
      " '2025e-13tev-beta': '2025 Open Data for education and outreach beta release '\n",
      "                     'for 13 TeV proton-proton collisions '\n",
      "                     '(https://opendata.cern.ch/record/93910).'}\n"
     ]
    }
   ],
   "source": [
    "import atlasopenmagic as atom\n",
    "atom.available_releases()\n",
    "atom.set_release('2025e-13tev-beta')"
   ]
  },
  {
   "cell_type": "markdown",
   "metadata": {},
   "source": [
    "## Example 1: Reading data "
   ]
  },
  {
   "cell_type": "markdown",
   "metadata": {},
   "source": [
    "We would like to read some of the data from the open dataset."
   ]
  },
  {
   "cell_type": "code",
   "execution_count": 5,
   "metadata": {},
   "outputs": [],
   "source": [
    "lumi = 36.6 # fb-1 # data size of the full release \n",
    "fraction = 1.0 # reduce this is if you want the code to run quicker"
   ]
  },
  {
   "cell_type": "code",
   "execution_count": 6,
   "metadata": {},
   "outputs": [],
   "source": [
    "# Select the skim to use for the analysis\n",
    "skim = \"exactly4lep\""
   ]
  },
  {
   "cell_type": "markdown",
   "metadata": {},
   "source": [
    "For convenient naming and identification purposes,\n",
    "    we define a dictionary which stores all the important names of the samples we want to pull from the database."
   ]
  },
  {
   "cell_type": "code",
   "execution_count": 7,
   "metadata": {},
   "outputs": [],
   "source": [
    "mc_defs = {\n",
    "    r'Background $Z,t\\bar{t},t\\bar{t}+V,VVV$':{'dids': [410470,410155,410218,\n",
    "                                                        410219,412043,364243,\n",
    "                                                        364242,364246,364248,\n",
    "                                                        700320,700321,700322,\n",
    "                                                        700323,700324,700325], 'color': \"#6b59d3\" }, # purple\n",
    "    r'Background $ZZ^{*}$':     {'dids': [700600,700601],'color': \"#ff0000\" },# red\n",
    "    r'Signal ($m_H$ = 125 GeV)':  {'dids': [345060, 346228, 346311, 346312, \n",
    "                                          346340, 346341, 346342],'color': \"#00cdff\" },# light blue\n",
    "}\n",
    "\n",
    "mc_samples   = atom.build_mc_dataset(mc_defs, skim=skim, protocol='https')\n",
    "data_samples = atom.build_data_dataset(skim, protocol='https')\n",
    "\n",
    "samples = {**data_samples, **mc_samples}"
   ]
  },
  {
   "cell_type": "markdown",
   "metadata": {},
   "source": [
    "The key named `data` refers to the event information collected from real experiments,\n",
    "    while the `Background` and `Signal` keys refer to Monte-Carlo (MC) simulations of the ATLAS experiments.\n",
    "Both real data and MC data will then be analysed and compared together to discover the Higgs! \n",
    "\n",
    "Let's try accessing `data15_periodD` in the CERN database URL as an example."
   ]
  },
  {
   "cell_type": "code",
   "execution_count": 8,
   "metadata": {},
   "outputs": [
    {
     "data": {
      "text/plain": [
       "dict_keys(['Data', 'Background $Z,t\\\\bar{t},t\\\\bar{t}+V,VVV$', 'Background $ZZ^{*}$', 'Signal ($m_H$ = 125 GeV)'])"
      ]
     },
     "execution_count": 8,
     "metadata": {},
     "output_type": "execute_result"
    }
   ],
   "source": [
    "samples.keys()"
   ]
  },
  {
   "cell_type": "code",
   "execution_count": 9,
   "metadata": {},
   "outputs": [
    {
     "name": "stdout",
     "output_type": "stream",
     "text": [
      "value = 'https://opendata.cern.ch//eos/opendata/atlas/rucio/opendata/ODEO_FEB2025_v0_exactly4lep_data15_periodD.exactly4lep.root'\n"
     ]
    }
   ],
   "source": [
    "# We shall use the first entry in 'list', 'data15_periodD'\n",
    "value = samples['Data']['list'][0]\n",
    "print(f\"{value = }\")\n",
    "\n",
    "# This is now appended to our file path to retrieve the data_A.4lep.root file\n",
    "data15_periodD = value #path + \"Data/\" + value + \".root\""
   ]
  },
  {
   "cell_type": "markdown",
   "metadata": {},
   "source": [
    "Next, we shall try opening the `data15_periodD` file to see what is inside.\n",
    "In the file (called a `tree`),\n",
    "    there are 39 entries, \n",
    "    one for each event.\n",
    "In each event,\n",
    "    a dictionary stores the all relevant information as keys, such as the event number (`eventNumber`), lepton transverse momentum (`lep_pt`), etc.  \n",
    "Details on the variables in the dictionary can be viewed [here](https://opendata.atlas.cern/docs/data/for_education/13TeV25_details#variable-list).\n",
    "\n",
    "More information on trees can be viewed [here](https://masonproffitt.github.io/uproot-tutorial/03-trees/index.html)."
   ]
  },
  {
   "cell_type": "code",
   "execution_count": 10,
   "metadata": {},
   "outputs": [
    {
     "name": "stdout",
     "output_type": "stream",
     "text": [
      "3424\n",
      "['num_events', 'sum_of_weights', 'sum_of_weights_squared', 'category', 'TriggerMatch_DILEPTON', 'ScaleFactor_MLTRIGGER', 'ScaleFactor_PILEUP', 'ScaleFactor_FTAG', 'mcWeight', 'xsec', 'filteff', 'kfac', 'channelNumber', 'eventNumber', 'runNumber', 'trigML', 'trigP', 'trigDT', 'trigT', 'trigE', 'trigDM', 'trigDE', 'trigM', 'trigMET', 'ScaleFactor_BTAG', 'ScaleFactor_JVT', 'jet_n', 'jet_pt', 'jet_eta', 'jet_phi', 'jet_e', 'jet_btag_quantile', 'jet_jvt', 'largeRJet_n', 'largeRJet_pt', 'largeRJet_eta', 'largeRJet_phi', 'largeRJet_e', 'largeRJet_m', 'largeRJet_D2', 'jet_pt_jer1', 'jet_pt_jer2', 'ScaleFactor_ELE', 'ScaleFactor_MUON', 'ScaleFactor_LepTRIGGER', 'ScaleFactor_MuTRIGGER', 'ScaleFactor_ElTRIGGER', 'lep_n', 'lep_type', 'lep_pt', 'lep_eta', 'lep_phi', 'lep_e', 'lep_charge', 'lep_ptvarcone30', 'lep_topoetcone20', 'lep_z0', 'lep_d0', 'lep_d0sig', 'lep_isTightID', 'lep_isMediumID', 'lep_isLooseID', 'lep_isTightIso', 'lep_isLooseIso', 'lep_isTrigMatched', 'ScaleFactor_PHOTON', 'photon_n', 'photon_pt', 'photon_eta', 'photon_phi', 'photon_e', 'photon_ptcone20', 'photon_topoetcone40', 'photon_isLooseID', 'photon_isTightID', 'photon_isLooseIso', 'photon_isTightIso', 'ScaleFactor_TAU', 'ScaleFactor_TauTRIGGER', 'ScaleFactor_DiTauTRIGGER', 'tau_n', 'tau_pt', 'tau_eta', 'tau_phi', 'tau_e', 'tau_charge', 'tau_nTracks', 'tau_isTight', 'tau_RNNJetScore', 'tau_RNNEleScore', 'truth_jet_n', 'truth_jet_pt', 'truth_jet_eta', 'truth_jet_phi', 'truth_jet_m', 'truth_elec_n', 'truth_elec_pt', 'truth_elec_eta', 'truth_elec_phi', 'truth_muon_n', 'truth_muon_pt', 'truth_muon_eta', 'truth_muon_phi', 'truth_tau_n', 'truth_tau_pt', 'truth_tau_eta', 'truth_tau_phi', 'truth_photon_n', 'truth_photon_pt', 'truth_photon_eta', 'truth_photon_phi', 'truth_met', 'truth_met_phi', 'met', 'met_phi', 'met_mpx', 'met_mpy']\n",
      "[{num_events: 1, sum_of_weights: 1, sum_of_weights_squared: 1, ...}, ..., {...}]\n"
     ]
    }
   ],
   "source": [
    "# Accessing the file from the online database (\":analysis\" opens the tree in a desired manner)\n",
    "tree = uproot.open(data15_periodD + \":analysis\")\n",
    "\n",
    "# There are 39 entries in the tree\n",
    "print(tree.num_entries)\n",
    "\n",
    "# We can view all the information stored in the tree using the .keys() method.\n",
    "print(tree.keys())\n",
    "\n",
    "# We can also view the entire tree using the .arrays() method\n",
    "# This generates a 39-entry list of dictionaries\n",
    "print(tree.arrays()) "
   ]
  },
  {
   "cell_type": "markdown",
   "metadata": {},
   "source": [
    "Perhaps we'd like to see the lepton energies. \n",
    "We can access this from our tree using the key `lep_e`. \n",
    "Also, \n",
    "    from this point on we shall be manipulating our tree arrays using the `awkward` library.\n",
    "We can use `library=\"ak\"` in the argument of the `.arrays()` method to use this library.\n",
    "If you ever see `library=\"ak\"` in the code,\n",
    "    it means that the array is output as an `awkward` array."
   ]
  },
  {
   "cell_type": "code",
   "execution_count": 11,
   "metadata": {},
   "outputs": [
    {
     "data": {
      "text/html": [
       "<pre>[{lep_e: [91.3, 35.6, 37.8, 23.5]},\n",
       " {lep_e: [86.9, 21.9, 73.2, 8.51]},\n",
       " {lep_e: [40.1, 20.4, 24.2, 66]},\n",
       " {lep_e: [16.5, 13.2, 13.4, 13.7]},\n",
       " {lep_e: [7.67, 47.6, 20.7, 122]},\n",
       " {lep_e: [231, 82, 45.6, 134]},\n",
       " {lep_e: [13.4, 12.6, 20.3, 34.7]},\n",
       " {lep_e: [231, 25.9, 40.6, 36.3]},\n",
       " {lep_e: [111, 38.5, 22.1, 41.1]},\n",
       " {lep_e: [11.4, 36.9, 110, 26]},\n",
       " ...,\n",
       " {lep_e: [47.9, 16, 61.3, 19]},\n",
       " {lep_e: [656, 331, 37.1, 88.5]},\n",
       " {lep_e: [62.3, 85.7, 42.3, 39.8]},\n",
       " {lep_e: [38.8, 30.1, 19, 59]},\n",
       " {lep_e: [65.2, 9.77, 24, 11]},\n",
       " {lep_e: [42.9, 39.3, 26.7, 91.5]},\n",
       " {lep_e: [26.2, 12, 9.4, 12.2]},\n",
       " {lep_e: [7.91, 52.8, 85.8, 59.5]},\n",
       " {lep_e: [111, 21.8, 45, 23.6]}]\n",
       "-----------------------------------------\n",
       "backend: cpu\n",
       "nbytes: 82.2 kB\n",
       "type: 3424 * {\n",
       "    lep_e: var * float32\n",
       "}</pre>"
      ],
      "text/plain": [
       "<Array [{lep_e: [91.3, ..., 23.5]}, ..., {...}] type='3424 * {lep_e: var * ...'>"
      ]
     },
     "execution_count": 11,
     "metadata": {},
     "output_type": "execute_result"
    }
   ],
   "source": [
    "tree[\"lep_e\"].arrays(library=\"ak\")"
   ]
  },
  {
   "cell_type": "markdown",
   "metadata": {},
   "source": [
    "In our analysis, \n",
    "    not all the information in the tree is important.\n",
    "We can store the important variables in a list and retrieve them from the tree later on.\n",
    "As it turns out, \n",
    "    we will need the following set of variables:"
   ]
  },
  {
   "cell_type": "code",
   "execution_count": 12,
   "metadata": {},
   "outputs": [],
   "source": [
    "# Define what variables are important to our analysis\n",
    "variables = ['lep_pt','lep_eta','lep_phi','lep_e','lep_charge','lep_type','trigE','trigM','lep_isTrigMatched',\n",
    "            'lep_isLooseID','lep_isMediumID','lep_isLooseIso','lep_type']\n",
    "\n",
    "# To see all the data for our given variables\n",
    "# for data in tree.iterate(variables, library=\"ak\"):\n",
    "#     print(data)"
   ]
  },
  {
   "cell_type": "markdown",
   "metadata": {},
   "source": [
    "Now that we understand how to access the information in the `data15_periodD` tree,\n",
    "    we can begin analysis.\n",
    "As mentioned in the introduction,\n",
    "    there are two key steps to be completed for each event entry:\n",
    "1. **Cuts** - we need to account for lepton selection rules in the event. \n",
    "In the [paper](https://www.sciencedirect.com/science/article/pii/S037026931200857X), \n",
    "    it is stated that we must\n",
    "\"[select] two pairs of isolated leptons, each of which is comprised of two leptons with the **same flavour** and **opposite charge**\".\n",
    "The datasets used in this notebook have already been filtered to include at least 4 leptons per event.\n",
    "We need to filter the data such that in each event, there are pairs of leptons of the **same lepton type** (`lep_type`) and summing to **zero lepton charge** (`lep_charge`).\n",
    "\n",
    "2. **Mass calculation** - the data to be plotted is the 4-lepton invariant mass, which can be found using the equation: $$m_\\text{4l} = \\sqrt{E^2_\\text{tot}-\\mathbf{p}_\\text{tot}\\cdot\\mathbf{p}_\\text{tot}}$$\n",
    "in units where $c=1$.\n",
    "$E_\\text{tot}$ is the total energy and $\\mathbf{p}_\\text{tot}$ is the total momentum.\n",
    "This calculation is performed using the vector array method `.M` on the sum of lepton 4-momenta (`lep_pt`,`lep_eta`,`lep_phi`,`lep_E`).\n",
    "\n",
    "From this,\n",
    "    we can see why we chose those six important variables earlier. \n",
    "The physical reasoning for why we perform these steps is encapsulated in the idea of **conservation laws**.\n",
    "You may read more [here](https://cds.cern.ch/record/2759491/files/Conservation%20Laws%20-%20ATLAS%20Physics%20Cheat%20Sheet.pdf).\n",
    "\n",
    "Let's try to perform this two-step analysis for one event in `data15_periodD`."
   ]
  },
  {
   "cell_type": "markdown",
   "metadata": {},
   "source": [
    "Define function to get data from files.\n",
    "\n",
    "The datasets used in this notebook have already been filtered to include at least 4 leptons per event, so that processing is quicker."
   ]
  },
  {
   "cell_type": "code",
   "execution_count": 13,
   "metadata": {},
   "outputs": [
    {
     "name": "stdout",
     "output_type": "stream",
     "text": [
      "Cut for lepton type? [True]\n",
      "Cut for lepton charge? [False]\n",
      "Invariant mass: [5.6]\n"
     ]
    }
   ],
   "source": [
    "# This selects the first entry of the tree\n",
    "entry = tree.arrays(library=\"ak\")[:1] # EXPLAIN LIBRARY\n",
    "\n",
    "# Cut lepton type (electron type is 11,  muon type is 13)\n",
    "lep_type = entry['lep_type']\n",
    "sum_lep_type = lep_type[:, 0] + lep_type[:, 1] + lep_type[:, 2] + lep_type[:, 3]\n",
    "lep_type_cut_bool = (sum_lep_type != 44) & (sum_lep_type != 48) & (sum_lep_type != 52)\n",
    "print(f\"Cut for lepton type? {lep_type_cut_bool}\") # True means we should remove this entry (lepton type does not match)\n",
    "\n",
    "# Cut lepton charge\n",
    "# first lepton in each event is [:, 0], 2nd lepton is [:, 1] etc\n",
    "lep_charge = entry['lep_charge']\n",
    "sum_lep_charge = lep_charge[:, 0] + lep_charge[:, 1] + lep_charge[:, 2] + lep_charge[:, 3] != 0\n",
    "print(f\"Cut for lepton charge? {sum_lep_charge}\") # True means we should remove this entry (sum of lepton charges is not equal to 0)\n",
    "\n",
    "# Calculate invariant mass of the 4-lepton state\n",
    "# [:, i] selects the i-th lepton in each event\n",
    "p4 = vector.zip({\"pt\": entry['lep_pt'], \"eta\": entry['lep_eta'], \"phi\": entry['lep_phi'], \"E\": entry['lep_e']})\n",
    "invariant_mass = (p4[:, 0] + p4[:, 1] + p4[:, 2] + p4[:, 3]).M # .M calculates the invariant mass\n",
    "print(f\"Invariant mass: {invariant_mass}\")"
   ]
  },
  {
   "cell_type": "markdown",
   "metadata": {},
   "source": [
    "Based on our analysis, this entry should be removed because the lepton type does not match our requirements.\n",
    "We can turn these checks and calculations into a set of functions."
   ]
  },
  {
   "cell_type": "code",
   "execution_count": 14,
   "metadata": {},
   "outputs": [],
   "source": [
    "# Cut lepton type (electron type is 11,  muon type is 13)\n",
    "def cut_lep_type(lep_type):\n",
    "    sum_lep_type = lep_type[:, 0] + lep_type[:, 1] + lep_type[:, 2] + lep_type[:, 3]\n",
    "    lep_type_cut_bool = (sum_lep_type != 44) & (sum_lep_type != 48) & (sum_lep_type != 52)\n",
    "    return lep_type_cut_bool # True means we should remove this entry (lepton type does not match)\n",
    "\n",
    "# Cut lepton charge\n",
    "def cut_lep_charge(lep_charge):\n",
    "    # first lepton in each event is [:, 0], 2nd lepton is [:, 1] etc\n",
    "    sum_lep_charge = lep_charge[:, 0] + lep_charge[:, 1] + lep_charge[:, 2] + lep_charge[:, 3] != 0\n",
    "    return sum_lep_charge # True means we should remove this entry (sum of lepton charges is not equal to 0)\n",
    "\n",
    "# Calculate invariant mass of the 4-lepton state\n",
    "# [:, i] selects the i-th lepton in each event\n",
    "def calc_mass(lep_pt, lep_eta, lep_phi, lep_e):\n",
    "    p4 = vector.zip({\"pt\": lep_pt, \"eta\": lep_eta, \"phi\": lep_phi, \"E\": lep_e})\n",
    "    invariant_mass = (p4[:, 0] + p4[:, 1] + p4[:, 2] + p4[:, 3]).M # .M calculates the invariant mass\n",
    "    return invariant_mass\n",
    "\n",
    "\n",
    "def cut_trig_match(lep_trigmatch): \n",
    "    trigmatch = lep_trigmatch  \n",
    "    cut1 = ak.sum(trigmatch, axis=1) >= 1 \n",
    "    return cut1\n",
    "\n",
    "def cut_trig(trigE,trigM):\n",
    "    return trigE | trigM\n",
    "\n",
    "\n",
    "def ID_iso_cut(IDel,IDmu,isoel,isomu,pid): \n",
    "    thispid = pid \n",
    "    return (ak.sum(((thispid == 13) & IDmu & isomu) | ((thispid == 11) & IDel & isoel), axis=1) == 4)"
   ]
  },
  {
   "cell_type": "markdown",
   "metadata": {},
   "source": [
    "You may verify on your own that these functions give the same outputs as the previous code block.\n",
    "Now, \n",
    "    we shall apply these functions over the entire data tree using a `for` loop."
   ]
  },
  {
   "cell_type": "code",
   "execution_count": 15,
   "metadata": {},
   "outputs": [],
   "source": [
    "# Define empty list to hold all data for this sample\n",
    "sample_data = []\n",
    "\n",
    "# Perform the cuts for each data entry in the tree\n",
    "for data in tree.iterate(variables, library=\"ak\"): # the data will be in the form of an awkward array\n",
    "    # We can use data[~boolean] to remove entries from the data set\n",
    "    lep_type = data['lep_type']\n",
    "    data = data[~cut_lep_type(lep_type)]\n",
    "    lep_charge = data['lep_charge']\n",
    "    data = data[~cut_lep_charge(lep_charge)]\n",
    "\n",
    "    data['mass'] = calc_mass(data['lep_pt'], data['lep_eta'], data['lep_phi'], data['lep_e'])\n",
    "\n",
    "    # Append data to the whole sample data list\n",
    "    sample_data.append(data)\n",
    "\n",
    "# turns sample_data back into an awkward array\n",
    "data_A = ak.concatenate(sample_data)"
   ]
  },
  {
   "cell_type": "markdown",
   "metadata": {},
   "source": [
    "We can now plot the data using Matplotlib. \n",
    "The data will be turned into a histogram,\n",
    "    with bins of width $2.5 \\,\\text{GeV}$.\n",
    "Note that much of the code written here is meant for the aesthetics of the plot."
   ]
  },
  {
   "cell_type": "code",
   "execution_count": 16,
   "metadata": {},
   "outputs": [
    {
     "data": {
      "image/png": "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\n",
      "text/plain": [
       "<Figure size 432x288 with 1 Axes>"
      ]
     },
     "metadata": {
      "needs_background": "light"
     },
     "output_type": "display_data"
    }
   ],
   "source": [
    "# x-axis range of the plot\n",
    "xmin = 80 * GeV\n",
    "xmax = 250 * GeV\n",
    "\n",
    "# Histogram bin setup\n",
    "step_size = 2.5 * GeV\n",
    "bin_edges = np.arange(start=xmin, # The interval includes this value\n",
    "                    stop=xmax+step_size, # The interval doesn't include this value\n",
    "                    step=step_size ) # Spacing between values\n",
    "bin_centres = np.arange(start=xmin+step_size/2, # The interval includes this value\n",
    "                        stop=xmax+step_size/2, # The interval doesn't include this value\n",
    "                        step=step_size ) # Spacing between values\n",
    "\n",
    "# Creating histogram from data\n",
    "data_x,_ = np.histogram(ak.to_numpy(data_A['mass']), \n",
    "                        bins=bin_edges ) # histogram the data\n",
    "data_x_errors = np.sqrt( data_x ) # statistical error on the data\n",
    "\n",
    "# *************\n",
    "# Main plot \n",
    "# *************\n",
    "main_axes = plt.gca() # get current axes\n",
    "\n",
    "# plot the data points\n",
    "main_axes.errorbar(x=bin_centres, y=data_x, yerr=data_x_errors,\n",
    "                    fmt='ko', # 'k' means black and 'o' is for circles \n",
    "                    label='Data') \n",
    "\n",
    "# set the x-limit of the main axes\n",
    "main_axes.set_xlim( left=xmin, right=xmax ) \n",
    "\n",
    "# separation of x axis minor ticks\n",
    "main_axes.xaxis.set_minor_locator( AutoMinorLocator() ) \n",
    "\n",
    "# set the axis tick parameters for the main axes\n",
    "main_axes.tick_params(which='both', # ticks on both x and y axes\n",
    "                        direction='in', # Put ticks inside and outside the axes\n",
    "                        top=True, # draw ticks on the top axis\n",
    "                        right=True ) # draw ticks on right axis\n",
    "\n",
    "# x-axis label\n",
    "main_axes.set_xlabel(r'4-lepton invariant mass $\\mathrm{m_{4l}}$ [GeV]',\n",
    "                    fontsize=13, x=1, horizontalalignment='right' )\n",
    "\n",
    "# write y-axis label for main axes\n",
    "main_axes.set_ylabel('Events / '+str(step_size)+' GeV',\n",
    "                        y=1, horizontalalignment='right') \n",
    "\n",
    "# set y-axis limits for main axes\n",
    "main_axes.set_ylim( bottom=0, top=np.amax(data_x)*1.6 )\n",
    "\n",
    "# add minor ticks on y-axis for main axes\n",
    "main_axes.yaxis.set_minor_locator( AutoMinorLocator() ) \n",
    "\n",
    "# draw the legend\n",
    "main_axes.legend( frameon=False ); # no box around the legend"
   ]
  },
  {
   "cell_type": "markdown",
   "metadata": {},
   "source": [
    "Great,\n",
    "    we managed to plot `data15_periodD`! \n",
    "Now, \n",
    "    we have not discussed how to deal with the Monte-Carlo simulation data,\n",
    "    or even what they are for. \n",
    "Let us explain."
   ]
  },
  {
   "cell_type": "markdown",
   "metadata": {},
   "source": [
    "## Example 2: Reading Monte-Carlo data"
   ]
  },
  {
   "cell_type": "markdown",
   "metadata": {},
   "source": [
    "\n",
    "Using the Standard Model, \n",
    "    we can do a set of randomised simulations to produce a set of theoretical data points to compare to our ATLAS data.\n",
    "These are known as Monte-Carlo(MC) simulations.\n",
    "There is one important change to be made to the MC data before we can compare them with our ATLAS data:\n",
    " - **Weights** - The MC data was computed in ideal circumstances. The real ATLAS detector has some inefficiencies, which we can account for by attributing the appropriate weight to each data point. The weight of a data point affects how it contributes to the histogram count for its bin.\n",
    "\n",
    "Let's open an MC file."
   ]
  },
  {
   "cell_type": "code",
   "execution_count": 17,
   "metadata": {},
   "outputs": [],
   "source": [
    "# We open an MC data file with sample value \"Zee\" using samples and infofile for reference of filenames\n",
    "value = samples[r'Background $Z,t\\bar{t},t\\bar{t}+V,VVV$'][\"list\"][0]\n",
    "\n",
    "# This is now appended to our file path to retrieve the root file\n",
    "background_ttbar_path = value\n",
    "\n",
    "# Accessing the file from the online database\n",
    "tree = uproot.open(background_ttbar_path + \":analysis\")"
   ]
  },
  {
   "cell_type": "markdown",
   "metadata": {},
   "source": [
    "Again, \n",
    "    not all weights are important to our analysis. \n",
    "In our case, \n",
    "    these are:\n",
    "- `mcWeight` - specific Monte-Carlo weight associated with each event\n",
    "- `scaleFactor_PILEUP` - scale factor for pileup reweighting\n",
    "- `scaleFactor_ELE` - scale factor for electron efficiency\n",
    "- `scaleFactor_MUON`- scale factor for muon efficiency\n",
    "- `scaleFactor_LepTRIGGER` - scale factor for lepton triggers (TODO not around for new release)\n",
    "\n",
    "Scale factors are generally related to estimates of the efficiencies and resolutions of detectors."
   ]
  },
  {
   "cell_type": "code",
   "execution_count": 18,
   "metadata": {},
   "outputs": [
    {
     "name": "stdout",
     "output_type": "stream",
     "text": [
      "['filteff', 'kfac', 'xsec', 'mcWeight', 'ScaleFactor_PILEUP', 'ScaleFactor_ELE', 'ScaleFactor_MUON', 'ScaleFactor_LepTRIGGER']\n"
     ]
    }
   ],
   "source": [
    "weight_variables = [\"filteff\",\"kfac\",\"xsec\",\"mcWeight\",\"ScaleFactor_PILEUP\", \"ScaleFactor_ELE\", \"ScaleFactor_MUON\", \"ScaleFactor_LepTRIGGER\"]\n",
    "\n",
    "# For example, see below for the weights corresponding to muon rejection\n",
    "tree[\"ScaleFactor_MUON\"].arrays(library = \"ak\")\n",
    "print(weight_variables)"
   ]
  },
  {
   "cell_type": "markdown",
   "metadata": {},
   "source": [
    "Additionally,\n",
    "    there is a cross-section weight $w_\\sigma$ associated with each MC file.\n",
    "We define this variable `xsec_weight` below. \n",
    "This weight is meant to normalise the entire Monte-Carlo distribution based on the number of events in the data.\n",
    "This is its definition:\n",
    "$$ w_\\sigma = \\frac{\\int L \\text{d}t ~ \\sigma }{\\eta \\sum_i w_i } $$\n",
    "where $\\int L \\text{d}t$ is the integrated luminosity (`lumi`),\n",
    "    $\\sigma$ is the cross section (`info[\"xsec\"]`),\n",
    "    $\\eta$ is the filter efficiency of the MC generator,\n",
    "    and $\\sum_i w_i$ gives the sum of all weights (`info[\"sumw\"]`).\n",
    "When the integrated luminosity is multiplied by the cross section,\n",
    "    it gives a measure of the total number of events during a period of data taking.\n",
    "For `data_A`,\n",
    "    the integrated luminosity has a value of $0.5 \\,\\text{fb}^{-1}$.\n",
    "\n",
    "For more on cross sections and luminosities, \n",
    "    [see this cheatsheet](https://cds.cern.ch/record/2800578/files/Cross%20Section%20and%20Luminosity%20Physics%20Cheat%20Sheet.pdf)."
   ]
  },
  {
   "cell_type": "markdown",
   "metadata": {},
   "source": [
    "Now,\n",
    "    with all the weights we've defined, \n",
    "    we will calculate a total weight for an event,\n",
    "    which is the collective product of all the weights."
   ]
  },
  {
   "cell_type": "code",
   "execution_count": 19,
   "metadata": {},
   "outputs": [
    {
     "name": "stdout",
     "output_type": "stream",
     "text": [
      "total_weight = np.float64(0.5943843296175445)\n"
     ]
    }
   ],
   "source": [
    "# luminosity of data_D\n",
    "lumi = 36. #TODO match data D\n",
    "\n",
    "# Let's use the first event of our tree\n",
    "event = tree.arrays()[0]\n",
    "\n",
    "# Multiply all the important weights together\n",
    "total_weight = lumi * 1000 / event[\"sum_of_weights\"]\n",
    "for variable in weight_variables:\n",
    "    total_weight = total_weight * event[variable]\n",
    "print(f\"{total_weight = }\")"
   ]
  },
  {
   "cell_type": "markdown",
   "metadata": {},
   "source": [
    "This calculation means that in our final histogram, \n",
    "    this event will be represented with $0.5943843296175445$ of a single count in the bin.\n",
    "We can encapsulate these calculations in a single function `calc_weight`."
   ]
  },
  {
   "cell_type": "code",
   "execution_count": 20,
   "metadata": {},
   "outputs": [
    {
     "name": "stdout",
     "output_type": "stream",
     "text": [
      "0.5943843296175445\n"
     ]
    }
   ],
   "source": [
    "def calc_weight(weight_variables, events):\n",
    "    total_weight = lumi * 1000 / events[\"sum_of_weights\"]\n",
    "    for variable in weight_variables:\n",
    "        total_weight = total_weight * abs(events[variable])\n",
    "    return total_weight\n",
    "\n",
    "# Verify that we get the same answer\n",
    "print(calc_weight(weight_variables, event))"
   ]
  },
  {
   "cell_type": "markdown",
   "metadata": {},
   "source": [
    "Now, we can apply the cuts as before to plot the MC data.\n",
    "The code is the same as before,\n",
    "    but we make sure to add in `weight_variables` to our `tree.iterate()`,\n",
    "    and we store the weights in each event using a new dictionary key."
   ]
  },
  {
   "cell_type": "code",
   "execution_count": 21,
   "metadata": {},
   "outputs": [],
   "source": [
    "sample_data = []\n",
    "\n",
    "# Perform the cuts for each data entry in the tree\n",
    "for data in tree.iterate(variables + weight_variables+['sum_of_weights'], library=\"ak\"):\n",
    "    # Cuts\n",
    "    lep_type = data['lep_type']\n",
    "    data = data[~cut_lep_type(lep_type)]\n",
    "    lep_charge = data['lep_charge']\n",
    "    data = data[~cut_lep_charge(lep_charge)]\n",
    "    \n",
    "    # Invariant Mass\n",
    "    data['mass'] = calc_mass(data['lep_pt'], data['lep_eta'], data['lep_phi'], data['lep_e'])\n",
    "\n",
    "    # Store Monte Carlo weights in the data\n",
    "    data['totalWeight'] = calc_weight(weight_variables, data)\n",
    "    # data['totalWeight'] = calc_weight(data)\n",
    "\n",
    "    # Append data to the whole sample data list\n",
    "    sample_data.append(data)\n",
    "\n",
    "# turns sample_data back into an awkward array\n",
    "background_ttbar = ak.concatenate(sample_data)"
   ]
  },
  {
   "cell_type": "code",
   "execution_count": 22,
   "metadata": {},
   "outputs": [
    {
     "data": {
      "image/png": "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\n",
      "text/plain": [
       "<Figure size 432x288 with 1 Axes>"
      ]
     },
     "metadata": {
      "needs_background": "light"
     },
     "output_type": "display_data"
    }
   ],
   "source": [
    "step_size = 2.5 * GeV\n",
    "\n",
    "mc_x = ak.to_numpy(background_ttbar[\"mass\"]) # define list to hold the Monte Carlo histogram entries\n",
    "mc_weights = ak.to_numpy(background_ttbar[\"totalWeight\"]) # define list to hold the Monte Carlo weights\n",
    "mc_colors = samples[r'Background $Z,t\\bar{t},t\\bar{t}+V,VVV$']['color'] # define list to hold the colors of the Monte Carlo bars\n",
    "mc_labels = r'Background $Z,t\\bar{t},t\\bar{t}+V,VVV$' # define list to hold the legend labels of the Monte Carlo bars\n",
    "\n",
    "# *************\n",
    "# Main plot \n",
    "# *************\n",
    "main_axes = plt.gca() # get current axes\n",
    "\n",
    "# plot the data points\n",
    "# main_axes.errorbar(x=bin_centres, y=data_x, yerr=data_x_errors,\n",
    "#                     fmt='ko', # 'k' means black and 'o' is for circles \n",
    "#                     label='Data') \n",
    "\n",
    "# plot the Monte Carlo bars\n",
    "mc_heights = main_axes.hist(mc_x, bins=bin_edges, \n",
    "                            weights=mc_weights, stacked=True, \n",
    "                            color=mc_colors, label=mc_labels )\n",
    "\n",
    "mc_x_tot = mc_heights[0] # stacked background MC y-axis value\n",
    "\n",
    "# calculate MC statistical uncertainty: sqrt(sum w^2)\n",
    "mc_x_err = np.sqrt(np.histogram(np.hstack(mc_x), bins=bin_edges, weights=np.hstack(mc_weights)**2)[0])\n",
    "\n",
    "# plot the statistical uncertainty\n",
    "main_axes.bar(bin_centres, # x\n",
    "                2*mc_x_err, # heights\n",
    "                alpha=0.5, # half transparency\n",
    "                bottom=mc_x_tot-mc_x_err, color='none', \n",
    "                hatch=\"////\", width=step_size, label='Stat. Unc.' )\n",
    "\n",
    "# set the x-limit of the main axes\n",
    "main_axes.set_xlim( left=xmin, right=xmax ) \n",
    "\n",
    "# separation of x axis minor ticks\n",
    "main_axes.xaxis.set_minor_locator( AutoMinorLocator() ) \n",
    "\n",
    "# set the axis tick parameters for the main axes\n",
    "main_axes.tick_params(which='both', # ticks on both x and y axes\n",
    "                        direction='in', # Put ticks inside and outside the axes\n",
    "                        top=True, # draw ticks on the top axis\n",
    "                        right=True ) # draw ticks on right axis\n",
    "\n",
    "# x-axis label\n",
    "main_axes.set_xlabel(r'4-lepton invariant mass $\\mathrm{m_{4l}}$ [GeV]',\n",
    "                    fontsize=13, x=1, horizontalalignment='right' )\n",
    "\n",
    "# write y-axis label for main axes\n",
    "main_axes.set_ylabel('Events / '+str(step_size)+' GeV',\n",
    "                        y=1, horizontalalignment='right') \n",
    "\n",
    "# add minor ticks on y-axis for main axes\n",
    "main_axes.yaxis.set_minor_locator( AutoMinorLocator() ) \n",
    "\n",
    "# draw the legend\n",
    "main_axes.legend( frameon=False ); # no box around the legend"
   ]
  },
  {
   "cell_type": "markdown",
   "metadata": {},
   "source": [
    "## Final Analysis"
   ]
  },
  {
   "cell_type": "markdown",
   "metadata": {},
   "source": [
    "Now that we understand all the steps of our analysis,\n",
    "    all that's left is to import the entire ATLAS data and implement it.\n",
    "The `samples` dictionary will be useful for this.\n",
    "\n",
    "We will loop over all values in the `samples` dictionary.\n",
    "Depending on whether it is a data sample or MC sample, \n",
    "    `fileString` will change,\n",
    "    which opens the correct file on the open data folder.\n",
    "As before, \n",
    "    the cuts, \n",
    "    mass calculations and MC weight calculations will be performed for each sample value,\n",
    "    and then stored in the array.\n",
    "The data will all be concatenated into `all_data` for plotting."
   ]
  },
  {
   "cell_type": "code",
   "execution_count": 23,
   "metadata": {},
   "outputs": [
    {
     "name": "stdout",
     "output_type": "stream",
     "text": [
      "Processing Data samples\n",
      "\thttps://opendata.cern.ch//eos/opendata/atlas/rucio/opendata/ODEO_FEB2025_v0_exactly4lep_data15_periodD.exactly4lep.root:\n",
      "\t\t nIn: 3424,\t nOut: \t2\t in 0.8s\n",
      "\thttps://opendata.cern.ch//eos/opendata/atlas/rucio/opendata/ODEO_FEB2025_v0_exactly4lep_data15_periodE.exactly4lep.root:\n",
      "\t\t nIn: 25092,\t nOut: \t17\t in 1.2s\n",
      "\thttps://opendata.cern.ch//eos/opendata/atlas/rucio/opendata/ODEO_FEB2025_v0_exactly4lep_data15_periodF.exactly4lep.root:\n",
      "\t\t nIn: 16234,\t nOut: \t13\t in 1.2s\n",
      "\thttps://opendata.cern.ch//eos/opendata/atlas/rucio/opendata/ODEO_FEB2025_v0_exactly4lep_data15_periodG.exactly4lep.root:\n",
      "\t\t nIn: 37101,\t nOut: \t24\t in 1.5s\n",
      "\thttps://opendata.cern.ch//eos/opendata/atlas/rucio/opendata/ODEO_FEB2025_v0_exactly4lep_data15_periodH.exactly4lep.root:\n",
      "\t\t nIn: 12152,\t nOut: \t11\t in 0.8s\n",
      "\thttps://opendata.cern.ch//eos/opendata/atlas/rucio/opendata/ODEO_FEB2025_v0_exactly4lep_data15_periodJ.exactly4lep.root:\n",
      "\t\t nIn: 67630,\t nOut: \t44\t in 2.4s\n",
      "\thttps://opendata.cern.ch//eos/opendata/atlas/rucio/opendata/ODEO_FEB2025_v0_exactly4lep_data16_periodA.exactly4lep.root:\n",
      "\t\t nIn: 29275,\t nOut: \t19\t in 1.4s\n",
      "\thttps://opendata.cern.ch//eos/opendata/atlas/rucio/opendata/ODEO_FEB2025_v0_exactly4lep_data16_periodB.exactly4lep.root:\n",
      "\t\t nIn: 72544,\t nOut: \t55\t in 2.3s\n",
      "\thttps://opendata.cern.ch//eos/opendata/atlas/rucio/opendata/ODEO_FEB2025_v0_exactly4lep_data16_periodC.exactly4lep.root:\n",
      "\t\t nIn: 91124,\t nOut: \t79\t in 3.3s\n",
      "\thttps://opendata.cern.ch//eos/opendata/atlas/rucio/opendata/ODEO_FEB2025_v0_exactly4lep_data16_periodD.exactly4lep.root:\n",
      "\t\t nIn: 174618,\t nOut: \t175\t in 3.4s\n",
      "\thttps://opendata.cern.ch//eos/opendata/atlas/rucio/opendata/ODEO_FEB2025_v0_exactly4lep_data16_periodE.exactly4lep.root:\n",
      "\t\t nIn: 54896,\t nOut: \t45\t in 1.8s\n",
      "\thttps://opendata.cern.ch//eos/opendata/atlas/rucio/opendata/ODEO_FEB2025_v0_exactly4lep_data16_periodF.exactly4lep.root:\n",
      "\t\t nIn: 118615,\t nOut: \t122\t in 2.3s\n",
      "\thttps://opendata.cern.ch//eos/opendata/atlas/rucio/opendata/ODEO_FEB2025_v0_exactly4lep_data16_periodG.exactly4lep.root:\n",
      "\t\t nIn: 134798,\t nOut: \t139\t in 2.6s\n",
      "\thttps://opendata.cern.ch//eos/opendata/atlas/rucio/opendata/ODEO_FEB2025_v0_exactly4lep_data16_periodI.exactly4lep.root:\n",
      "\t\t nIn: 205285,\t nOut: \t204\t in 3.4s\n",
      "\thttps://opendata.cern.ch//eos/opendata/atlas/rucio/opendata/ODEO_FEB2025_v0_exactly4lep_data16_periodK.exactly4lep.root:\n",
      "\t\t nIn: 84130,\t nOut: \t68\t in 1.9s\n",
      "\thttps://opendata.cern.ch//eos/opendata/atlas/rucio/opendata/ODEO_FEB2025_v0_exactly4lep_data16_periodL.exactly4lep.root:\n",
      "\t\t nIn: 235693,\t nOut: \t262\t in 3.7s\n",
      "Processing Background $Z,t\\bar{t},t\\bar{t}+V,VVV$ samples\n",
      "\thttps://opendata.cern.ch//eos/opendata/atlas/rucio/opendata/ODEO_FEB2025_v0_exactly4lep_mc_410470.PhPy8EG_A14_ttbar_hdamp258p75_nonallhad.exactly4lep.root:\n",
      "\t\t nIn: 13763,\t nOut: \t5\t in 2.1s\n",
      "\thttps://opendata.cern.ch//eos/opendata/atlas/rucio/opendata/ODEO_FEB2025_v0_exactly4lep_mc_410155.aMcAtNloPythia8EvtGen_MEN30NLO_A14N23LO_ttW.exactly4lep.root:\n",
      "\t\t nIn: 133,\t nOut: \t1\t in 0.7s\n",
      "\thttps://opendata.cern.ch//eos/opendata/atlas/rucio/opendata/ODEO_FEB2025_v0_exactly4lep_mc_410218.aMcAtNloPythia8EvtGen_MEN30NLO_A14N23LO_ttee.exactly4lep.root:\n",
      "\t\t nIn: 2735,\t nOut: \t490\t in 0.5s\n",
      "\thttps://opendata.cern.ch//eos/opendata/atlas/rucio/opendata/ODEO_FEB2025_v0_exactly4lep_mc_410219.aMcAtNloPythia8EvtGen_MEN30NLO_A14N23LO_ttmumu.exactly4lep.root:\n",
      "\t\t nIn: 4400,\t nOut: \t835\t in 0.5s\n",
      "\thttps://opendata.cern.ch//eos/opendata/atlas/rucio/opendata/ODEO_FEB2025_v0_exactly4lep_mc_412043.aMcAtNloPythia8EvtGen_A14NNPDF31_SM4topsNLO.exactly4lep.root:\n",
      "\t\t nIn: 1127,\t nOut: \t68\t in 0.5s\n",
      "\thttps://opendata.cern.ch//eos/opendata/atlas/rucio/opendata/ODEO_FEB2025_v0_exactly4lep_mc_364243.Sherpa_222_NNPDF30NNLO_WWZ_4l2v_EW6.exactly4lep.root:\n",
      "\t\t nIn: 7664,\t nOut: \t2839\t in 0.5s\n",
      "\thttps://opendata.cern.ch//eos/opendata/atlas/rucio/opendata/ODEO_FEB2025_v0_exactly4lep_mc_364242.Sherpa_222_NNPDF30NNLO_WWW_3l3v_EW6.exactly4lep.root:\n",
      "\t\t nIn: 470,\t nOut: \t10\t in 0.5s\n",
      "\thttps://opendata.cern.ch//eos/opendata/atlas/rucio/opendata/ODEO_FEB2025_v0_exactly4lep_mc_364246.Sherpa_222_NNPDF30NNLO_WZZ_3l3v_EW6.exactly4lep.root:\n",
      "\t\t nIn: 220,\t nOut: \t5\t in 0.5s\n",
      "\thttps://opendata.cern.ch//eos/opendata/atlas/rucio/opendata/ODEO_FEB2025_v0_exactly4lep_mc_364248.Sherpa_222_NNPDF30NNLO_ZZZ_4l2v_EW6.exactly4lep.root:\n",
      "\t\t nIn: 2006,\t nOut: \t1607\t in 0.5s\n",
      "\thttps://opendata.cern.ch//eos/opendata/atlas/rucio/opendata/ODEO_FEB2025_v0_exactly4lep_mc_700320.Sh_2211_Zee_maxHTpTV2_BFilter.exactly4lep.root:\n",
      "\t\t nIn: 9901,\t nOut: \t17\t in 1.0s\n",
      "\thttps://opendata.cern.ch//eos/opendata/atlas/rucio/opendata/ODEO_FEB2025_v0_exactly4lep_mc_700321.Sh_2211_Zee_maxHTpTV2_CFilterBVeto.exactly4lep.root:\n",
      "\t\t nIn: 25201,\t nOut: \t40\t in 1.6s\n",
      "\thttps://opendata.cern.ch//eos/opendata/atlas/rucio/opendata/ODEO_FEB2025_v0_exactly4lep_mc_700322.Sh_2211_Zee_maxHTpTV2_CVetoBVeto.exactly4lep.root:\n",
      "\t\t nIn: 45787,\t nOut: \t109\t in 2.6s\n",
      "\thttps://opendata.cern.ch//eos/opendata/atlas/rucio/opendata/ODEO_FEB2025_v0_exactly4lep_mc_700323.Sh_2211_Zmumu_maxHTpTV2_BFilter.exactly4lep.root:\n",
      "\t\t nIn: 9602,\t nOut: \t2\t in 0.8s\n",
      "\thttps://opendata.cern.ch//eos/opendata/atlas/rucio/opendata/ODEO_FEB2025_v0_exactly4lep_mc_700324.Sh_2211_Zmumu_maxHTpTV2_CFilterBVeto.exactly4lep.root:\n",
      "\t\t nIn: 25329,\t nOut: \t6\t in 1.8s\n",
      "\thttps://opendata.cern.ch//eos/opendata/atlas/rucio/opendata/ODEO_FEB2025_v0_exactly4lep_mc_700325.Sh_2211_Zmumu_maxHTpTV2_CVetoBVeto.exactly4lep.root:\n",
      "\t\t nIn: 47476,\t nOut: \t37\t in 2.6s\n",
      "Processing Background $ZZ^{*}$ samples\n",
      "\thttps://opendata.cern.ch//eos/opendata/atlas/rucio/opendata/ODEO_FEB2025_v0_exactly4lep_mc_700600.Sh_2212_llll.exactly4lep.root:\n",
      "\t\t nIn: 11260,\t nOut: \t6365\t in 0.7s\n",
      "\thttps://opendata.cern.ch//eos/opendata/atlas/rucio/opendata/ODEO_FEB2025_v0_exactly4lep_mc_700601.Sh_2212_lllv.exactly4lep.root:\n",
      "\t\t nIn: 1202,\t nOut: \t17\t in 0.7s\n",
      "Processing Signal ($m_H$ = 125 GeV) samples\n",
      "\thttps://opendata.cern.ch//eos/opendata/atlas/rucio/opendata/ODEO_FEB2025_v0_exactly4lep_mc_345060.PowhegPythia8EvtGen_NNLOPS_nnlo_30_ggH125_ZZ4l.exactly4lep.root:\n",
      "\t\t nIn: 419943,\t nOut: \t178067\t in 4.4s\n",
      "\thttps://opendata.cern.ch//eos/opendata/atlas/rucio/opendata/ODEO_FEB2025_v0_exactly4lep_mc_346228.PowhegPy8EG_NNPDF30_AZNLOCTEQ6L1_VBFH125_ZZ4lep_notau.exactly4lep.root:\n",
      "\t\t nIn: 86084,\t nOut: \t41208\t in 1.9s\n",
      "\thttps://opendata.cern.ch//eos/opendata/atlas/rucio/opendata/ODEO_FEB2025_v0_exactly4lep_mc_346311.PowhegPythia8EvtGen_NNPDF30_AZNLO_WpH125J_Wincl_H_incl_MINLO.exactly4lep.root:\n",
      "\t\t nIn: 4,\t nOut: \t0\t in 0.4s\n",
      "\thttps://opendata.cern.ch//eos/opendata/atlas/rucio/opendata/ODEO_FEB2025_v0_exactly4lep_mc_346312.PowhegPythia8EvtGen_NNPDF30_AZNLO_WmH125J_Wincl_H_incl_MINLO.exactly4lep.root:\n",
      "\t\t nIn: 4,\t nOut: \t1\t in 0.4s\n",
      "\thttps://opendata.cern.ch//eos/opendata/atlas/rucio/opendata/ODEO_FEB2025_v0_exactly4lep_mc_346340.PowhegPy8EG_A14NNPDF23_NNPDF30ME_ttH125_ZZ4l_allhad.exactly4lep.root:\n",
      "\t\t nIn: 7146,\t nOut: \t2794\t in 0.5s\n",
      "\thttps://opendata.cern.ch//eos/opendata/atlas/rucio/opendata/ODEO_FEB2025_v0_exactly4lep_mc_346341.PowhegPy8EG_A14NNPDF23_NNPDF30ME_ttH125_ZZ4l_semilep.exactly4lep.root:\n",
      "\t\t nIn: 10072,\t nOut: \t2279\t in 0.7s\n",
      "\thttps://opendata.cern.ch//eos/opendata/atlas/rucio/opendata/ODEO_FEB2025_v0_exactly4lep_mc_346342.PowhegPy8EG_A14NNPDF23_NNPDF30ME_ttH125_ZZ4l_dilep.exactly4lep.root:\n",
      "\t\t nIn: 9332,\t nOut: \t1804\t in 0.8s\n"
     ]
    }
   ],
   "source": [
    "# Set luminosity to 36.6 fb-1, data size of the full release \n",
    "lumi = 36.6 \n",
    "\n",
    "# Controls the fraction of all events analysed\n",
    "fraction = 1.0 # reduce this is if you want quicker runtime (implemented in the loop over the tree)\n",
    "\n",
    "# Get the files locally, rather than streaming the data (easier on the upstream servers)\n",
    "local_files = True\n",
    "\n",
    "# Define empty dictionary to hold awkward arrays\n",
    "all_data = {} \n",
    "\n",
    "# Loop over samples\n",
    "for s in samples: \n",
    "\n",
    "    # Print which sample is being processed\n",
    "    print('Processing '+s+' samples') \n",
    "\n",
    "    # Define empty list to hold data\n",
    "    frames = [] \n",
    "\n",
    "    # Loop over each file\n",
    "    for val in samples[s]['list']: \n",
    "        if s == 'data': \n",
    "            prefix = \"Data/\" # Data prefix\n",
    "        else: # MC prefix\n",
    "            prefix = \"MC/mc_\"\n",
    "        fileString = val\n",
    "\n",
    "        # start the clock\n",
    "        start = time.time()\n",
    "        print(\"\\t\"+val+\":\") \n",
    "\n",
    "        # Open file\n",
    "        if local_files:\n",
    "            # Download the file, use a local copy",
    "            local_filename = fileString.split(\"/\")[-1]",
    "            print(f"Downloading {fileString} to {local_filename} ...")",
    "            with requests.get(fileString, stream=True) as r:",
    "                r.raise_for_status()",
    "                with open(local_filename, \"wb\") as f:",
    "                    for chunk in r.iter_content(chunk_size=8192):",
    "                        f.write(chunk)",
    "            tree = uproot.open(local_filename + \":analysis\")",
    "        else: # Stream files\n",
    "            tree = uproot.open(fileString + \":analysis\")\n",
    "        \n",
    "        sample_data = []\n",
    "\n",
    "        # Loop over data in the tree\n",
    "        for data in tree.iterate(variables + weight_variables + [\"sum_of_weights\", \"lep_n\"], \n",
    "                                 library=\"ak\", \n",
    "                                 entry_stop=tree.num_entries*fraction):#, # process up to numevents*fraction\n",
    "                                #  step_size = 10000000): \n",
    "\n",
    "            # Number of events in this batch\n",
    "            nIn = len(data) \n",
    "            \n",
    "            data = data[cut_trig(data.trigE, data.trigM)]\n",
    "            data = data[cut_trig_match(data.lep_isTrigMatched)]\n",
    "\n",
    "            # Record transverse momenta (see bonus activity for explanation)\n",
    "            data['leading_lep_pt'] = data['lep_pt'][:,0]\n",
    "            data['sub_leading_lep_pt'] = data['lep_pt'][:,1]\n",
    "            data['third_leading_lep_pt'] = data['lep_pt'][:,2]\n",
    "            data['last_lep_pt'] = data['lep_pt'][:,3]\n",
    "            \n",
    "            # Cuts on transverse momentum\n",
    "            data = data[data['leading_lep_pt'] > 20]\n",
    "            data = data[data['sub_leading_lep_pt'] > 15]\n",
    "            data = data[data['third_leading_lep_pt'] > 10]\n",
    "            \n",
    "            data = data[ID_iso_cut(data.lep_isLooseID, \n",
    "                                   data.lep_isMediumID,  \n",
    "                                   data.lep_isLooseIso, \n",
    "                                   data.lep_isLooseIso, \n",
    "                                   data.lep_type)]\n",
    "\n",
    "            # Number Cuts\n",
    "            #data = data[data['lep_n'] == 4]\n",
    "\n",
    "            # Lepton cuts\n",
    "\n",
    "            lep_type = data['lep_type']\n",
    "            data = data[~cut_lep_type(lep_type)]\n",
    "            lep_charge = data['lep_charge']\n",
    "            data = data[~cut_lep_charge(lep_charge)]\n",
    "            \n",
    "            # Invariant Mass\n",
    "            data['mass'] = calc_mass(data['lep_pt'], data['lep_eta'], data['lep_phi'], data['lep_e'])\n",
    "\n",
    "            # Store Monte Carlo weights in the data\n",
    "            if 'data' not in s: # Only calculates weights if the data is MC\n",
    "                data['totalWeight'] = calc_weight(weight_variables, data)\n",
    "                # data['totalWeight'] = calc_weight(data)\n",
    "\n",
    "            # Append data to the whole sample data list\n",
    "            sample_data.append(data)\n",
    "\n",
    "            if not 'data' in val:\n",
    "                nOut = sum(data['totalWeight']) # sum of weights passing cuts in this batch \n",
    "            else:\n",
    "                nOut = len(data)\n",
    "\n",
    "            elapsed = time.time() - start # time taken to process\n",
    "            print(\"\\t\\t nIn: \"+str(nIn)+\",\\t nOut: \\t\"+str(nOut)+\"\\t in \"+str(round(elapsed,1))+\"s\") # events before and after\n",
    "\n",
    "        frames.append(ak.concatenate(sample_data)) \n",
    "\n",
    "    all_data[s] = ak.concatenate(frames) # dictionary entry is concatenated awkward arrays"
   ]
  },
  {
   "cell_type": "code",
   "execution_count": 24,
   "metadata": {},
   "outputs": [
    {
     "data": {
      "text/plain": [
       "<matplotlib.legend.Legend at 0x7efbef21ea00>"
      ]
     },
     "execution_count": 24,
     "metadata": {},
     "output_type": "execute_result"
    },
    {
     "data": {
      "image/png": "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\n",
      "text/plain": [
       "<Figure size 864x576 with 1 Axes>"
      ]
     },
     "metadata": {
      "needs_background": "light"
     },
     "output_type": "display_data"
    }
   ],
   "source": [
    "data_x,_ = np.histogram(ak.to_numpy(all_data['Data']['mass']), \n",
    "                        bins=bin_edges ) # histogram the data\n",
    "data_x_errors = np.sqrt( data_x ) # statistical error on the data\n",
    "\n",
    "signal_x = ak.to_numpy(all_data[r'Signal ($m_H$ = 125 GeV)']['mass']) # histogram the signal\n",
    "signal_weights = ak.to_numpy(all_data[r'Signal ($m_H$ = 125 GeV)'].totalWeight) # get the weights of the signal events\n",
    "signal_color = samples[r'Signal ($m_H$ = 125 GeV)']['color'] # get the colour for the signal bar\n",
    "\n",
    "mc_x = [] # define list to hold the Monte Carlo histogram entries\n",
    "mc_weights = [] # define list to hold the Monte Carlo weights\n",
    "mc_colors = [] # define list to hold the colors of the Monte Carlo bars\n",
    "mc_labels = [] # define list to hold the legend labels of the Monte Carlo bars\n",
    "\n",
    "for s in samples: # loop over samples\n",
    "    if s not in ['Data', r'Signal ($m_H$ = 125 GeV)']: # if not data nor signal\n",
    "        mc_x.append( ak.to_numpy(all_data[s]['mass']) ) # append to the list of Monte Carlo histogram entries\n",
    "        mc_weights.append( ak.to_numpy(all_data[s].totalWeight) ) # append to the list of Monte Carlo weights\n",
    "        mc_colors.append( samples[s]['color'] ) # append to the list of Monte Carlo bar colors\n",
    "        mc_labels.append( s ) # append to the list of Monte Carlo legend labels\n",
    "\n",
    "# *************\n",
    "# Main plot \n",
    "# *************\n",
    "fig, main_axes = plt.subplots(figsize=(12, 8))\n",
    "\n",
    "# plot the data points\n",
    "main_axes.errorbar(x=bin_centres, y=data_x, yerr=data_x_errors,\n",
    "                    fmt='ko', # 'k' means black and 'o' is for circles \n",
    "                    label='Data') \n",
    "\n",
    "# plot the Monte Carlo bars\n",
    "mc_heights = main_axes.hist(mc_x, bins=bin_edges, \n",
    "                            weights=mc_weights, stacked=True, \n",
    "                            color=mc_colors, label=mc_labels )\n",
    "\n",
    "mc_x_tot = mc_heights[0][-1] # stacked background MC y-axis value\n",
    "\n",
    "# calculate MC statistical uncertainty: sqrt(sum w^2)\n",
    "mc_x_err = np.sqrt(np.histogram(np.hstack(mc_x), bins=bin_edges, weights=np.hstack(mc_weights)**2)[0])\n",
    "\n",
    "# plot the signal bar\n",
    "signal_heights = main_axes.hist(signal_x, bins=bin_edges, bottom=mc_x_tot, \n",
    "                weights=signal_weights, color=signal_color,\n",
    "                label=r'Signal ($m_H$ = 125 GeV)')\n",
    "\n",
    "# plot the statistical uncertainty\n",
    "main_axes.bar(bin_centres, # x\n",
    "                2*mc_x_err, # heights\n",
    "                alpha=0.5, # half transparency\n",
    "                bottom=mc_x_tot-mc_x_err, color='none', \n",
    "                hatch=\"////\", width=step_size, label='Stat. Unc.' )\n",
    "\n",
    "# set the x-limit of the main axes\n",
    "main_axes.set_xlim( left=xmin, right=xmax ) \n",
    "\n",
    "# separation of x axis minor ticks\n",
    "main_axes.xaxis.set_minor_locator( AutoMinorLocator() ) \n",
    "\n",
    "# set the axis tick parameters for the main axes\n",
    "main_axes.tick_params(which='both', # ticks on both x and y axes\n",
    "                        direction='in', # Put ticks inside and outside the axes\n",
    "                        top=True, # draw ticks on the top axis\n",
    "                        right=True ) # draw ticks on right axis\n",
    "\n",
    "# x-axis label\n",
    "main_axes.set_xlabel(r'4-lepton invariant mass $\\mathrm{m_{4l}}$ [GeV]',\n",
    "                    fontsize=13, x=1, horizontalalignment='right' )\n",
    "\n",
    "# write y-axis label for main axes\n",
    "main_axes.set_ylabel('Events / '+str(step_size)+' GeV',\n",
    "                        y=1, horizontalalignment='right') \n",
    "\n",
    "# set y-axis limits for main axes\n",
    "main_axes.set_ylim( bottom=0, top=np.amax(data_x)*2.0 )\n",
    "\n",
    "# add minor ticks on y-axis for main axes\n",
    "main_axes.yaxis.set_minor_locator( AutoMinorLocator() ) \n",
    "\n",
    "# Add text 'ATLAS Open Data' on plot\n",
    "plt.text(0.1, # x\n",
    "            0.93, # y\n",
    "            'ATLAS Open Data', # text\n",
    "            transform=main_axes.transAxes, # coordinate system used is that of main_axes\n",
    "            fontsize=16 ) \n",
    "\n",
    "# Add text 'for education' on plot\n",
    "plt.text(0.1, # x\n",
    "            0.88, # y\n",
    "            'for education', # text\n",
    "            transform=main_axes.transAxes, # coordinate system used is that of main_axes\n",
    "            style='italic',\n",
    "            fontsize=12 ) \n",
    "\n",
    "# Add energy and luminosity\n",
    "lumi_used = str(lumi*fraction) # luminosity to write on the plot\n",
    "plt.text(0.1, # x\n",
    "            0.82, # y\n",
    "            '$\\sqrt{s}$=13 TeV,$\\int$L dt = '+lumi_used+' fb$^{-1}$', # text\n",
    "            transform=main_axes.transAxes,fontsize=16 ) # coordinate system used is that of main_axes\n",
    "\n",
    "# Add a label for the analysis carried out\n",
    "plt.text(0.1, # x\n",
    "            0.76, # y\n",
    "            r'$H \\rightarrow ZZ^* \\rightarrow 4\\ell$', # text \n",
    "            transform=main_axes.transAxes,fontsize=16 ) # coordinate system used is that of main_axes\n",
    "\n",
    "# draw the legend\n",
    "main_axes.legend( frameon=False, fontsize=16 ) # no box around the legend"
   ]
  },
  {
   "cell_type": "markdown",
   "metadata": {},
   "source": [
    "### Signal Significance"
   ]
  },
  {
   "cell_type": "markdown",
   "metadata": {},
   "source": [
    "We can do some analysis to study how significant the signal is compared to the background. \n",
    "One method is to check a quantity known as the signal significance $S$,\n",
    "    which is defined by \n",
    "$$ S = \\frac{N_\\text{sig}}{\\sqrt{N_\\text{bg}}}  $$\n",
    "where $ N_\\text{sig} $ and $N_\\text{bg}$ are the number of signal and background points respectively.\n",
    "A larger $S$ represents a better signal-to-background ratio,\n",
    "    and a more significant signal peak.\n",
    "To calculate $N_\\text{sig}$, \n",
    "    we can look at the plot and sum over the number of events of our Monte-Carlo signal.\n",
    "The signal range roughly corresponds to the bins from $115 \\,\\text{GeV}$ to $130 \\, \\text{GeV}$.\n",
    "$N_\\text{bg}$ then corresponds to the number of background events in those same bins."
   ]
  },
  {
   "cell_type": "code",
   "execution_count": 25,
   "metadata": {},
   "outputs": [
    {
     "name": "stdout",
     "output_type": "stream",
     "text": [
      "11.094884981667025\n",
      "[12.69896722 11.09488498  4.93528783]\n",
      "\n",
      "Results:\n",
      "N_sig = np.float64(28.729140024845144)\n",
      "N_bg = np.float64(10.300928352079978)\n",
      "signal_significance = np.float64(4.425965281174207)\n",
      "\n"
     ]
    }
   ],
   "source": [
    "# Signal stacked height\n",
    "signal_tot = signal_heights[0] + mc_x_tot\n",
    "\n",
    "# Peak of signal\n",
    "print(signal_tot[18])\n",
    "\n",
    "# Neighbouring bins\n",
    "print(signal_tot[17:20])\n",
    "\n",
    "# Signal and background events\n",
    "N_sig = signal_tot[17:20].sum()\n",
    "N_bg = mc_x_tot[17:20].sum()\n",
    "\n",
    "# Signal significance calculation\n",
    "signal_significance = N_sig/np.sqrt(N_bg + 0.3 * N_bg**2) # EXPLAIN THE 0.3\n",
    "print(f\"\\nResults:\\n{N_sig = }\\n{N_bg = }\\n{signal_significance = }\\n\")"
   ]
  }
 ],
 "metadata": {
  "kernelspec": {
   "display_name": "Python 3 (ipykernel)",
   "language": "python",
   "name": "python3"
  },
  "language_info": {
   "codemirror_mode": {
    "name": "ipython",
    "version": 3
   },
   "file_extension": ".py",
   "mimetype": "text/x-python",
   "name": "python",
   "nbconvert_exporter": "python",
   "pygments_lexer": "ipython3",
   "version": "3.9.6"
  },
  "toc": {
   "base_numbering": 1,
   "nav_menu": {},
   "number_sections": true,
   "sideBar": true,
   "skip_h1_title": false,
   "title_cell": "Table of Contents",
   "title_sidebar": "Contents",
   "toc_cell": false,
   "toc_position": {},
   "toc_section_display": true,
   "toc_window_display": false
  }
 },
 "nbformat": 4,
 "nbformat_minor": 2
}
