{
 "cells": [
  {
   "cell_type": "markdown",
   "metadata": {},
   "source": [
    "# Systematic Uncertainties and Their Propagation"
   ]
  },
  {
   "cell_type": "markdown",
   "metadata": {},
   "source": [
    "<CENTER><img src=\"../../images/ATLASOD.gif\" style=\"width:50%\"></CENTER>"
   ]
  },
  {
   "cell_type": "markdown",
   "metadata": {},
   "source": [
    "## 1. The Uncertainty of Measurements\n",
    "\n",
    "Some numerical statements are exact, such as the number of books on your desk or the number of siblings you have. However, all *measurements*, no matter how carefully they are taken, have some degree of uncertainty that can come from a variety of sources. The process of evaluating uncertainties and identifying sources of error is called **error analysis**. The goal of error analysis is to properly estimate uncertainities in measurements and try to reduce them as much as possible. "
   ]
  },
  {
   "cell_type": "markdown",
   "metadata": {},
   "source": [
    "### 1.1 - The Importance of Knowing the Uncertainty\n",
    "\n",
    "The associated uncertainty of any measurement is just as important as the measured value of the measurement because it gives information on how well the measurement was made. By not reporting the uncertainty of measurements, we may be misleading and/or make an invalid conclusion. "
   ]
  },
  {
   "cell_type": "markdown",
   "metadata": {},
   "source": [
    "<font color='blue'><b>▹ **Example.**</b></font> Suppose a theory predicts a new particle with mass $m = 135$ GeV, fairly close to that of the Higgs boson ($m_H = 125$ GeV). Suppose two particle physicists have tested this theory and made mass measurements. The first physicist, named Shawn, reports his mass measurement to be $m_\\text{shawn} = 131$ GeV and says that it almost certaintly lies between 124 and 138 GeV. The second physicist, named Danielle, reports her mass measurement to be $m_\\text{danielle} = 126$ GeV with a probable range from 124 to 128 GeV. We can summarize their results like this:\n",
    "\n",
    "$$ m_\\text{shawn} = (131 \\pm 7)\\text{ GeV} \\hspace{1cm} \\text{and} \\hspace{1cm} m_\\text{danielle} = (126 \\pm 2)\\text{ GeV}. $$\n",
    "\n",
    "There are a few things to note here:\n",
    "\n",
    "* **Precision of Measurements.** Although Danielle's measurement is much more precise, Shawn's measurement could also be right. Both physicists states a range in which they are confident $m$ lies, and these ranges overlap. Thus, it is possible that both statements are correct.\n",
    "<p>\n",
    "* **Uncertainties of Measurements.** The uncertainty of Shawn's measurement is quite large, and so his results are less useful. The mass of the predicted new particle and of the Higgs boson lie within his range, so it is possible that Shawn may have actually found a Higgs boson and not a new particle. We cannot distinguish between these two particles using Shawn's measurement. However, Danielle's measurement indicate clearly that she found a Higgs boson; the mass of the Higgs boson lies within her range, while the mass of the predicted new particle lies far outside it.\n",
    "<p>\n",
    "* **Range of Uncertainity.** We see that in order to make a conclusion from our measurement, the uncertainty must not be too large. The uncertainties do not need to be extremely small, but small enough so that a conclusion can be reasonably made.\n",
    "\n",
    "The important point to make from this (very simplified) example is that without stating the uncertainty, your measurement is incomplete. If we knew only their mass measurement (131 for Shawn and 126 for Danielle), not only would we have been unable to draw a conclusion, but we could have been misled by Shawn into thinking that he did find this new particle since his result is closer to it than the Higgs boson. <span style=\"color:blue; font-size:20px;\"><b>∎</b></span>"
   ]
  },
  {
   "cell_type": "markdown",
   "metadata": {},
   "source": [
    "### 1.2 - Reporting Measurements\n",
    "\n",
    "Every measurement should be reported as a measured value with its uncertainty and appropriate unit:\n",
    "\n",
    "$$ \\text{measurement} = \\text{(measured value $\\pm$ uncertainty) units} $$\n",
    "\n",
    "or\n",
    "\n",
    "$$ x = x_\\text{best} \\pm \\delta x, $$\n",
    "\n",
    "where $x_\\text{best}$ represents the best estimate of the measurement of some quantity $x$ and $\\delta x$ is the associated uncertainty of the best estimate. Sometimes the **relative uncertainty** is used:\n",
    "\n",
    "$$ \\text{relative uncertainty} = \\left| \\frac{\\text{uncertainty}}{\\text{measured value}} \\right| = \\left| \\frac{\\delta x}{x_\\text{best}} \\right|. $$\n",
    "\n",
    "This is sometimes easier to work with and understand. For example, if your friend estimates the crowd at a football game as $100\\pm100$ people, they are saying there might not have been anyone there. If they say the crowd was $10,000\\pm100$ people, then they've got a quite good estimate of the size of the large crowd. The two estimates have the same uncertainty, but very different relative uncertainties."
   ]
  },
  {
   "cell_type": "markdown",
   "metadata": {},
   "source": [
    "### 1.3 - Uncertainties in ATLAS Analyses\n",
    "\n",
    "In ATLAS analyses, we consider uncertainties for several reasons:\n",
    "\n",
    "* **Accurate Parameter Estimation:** To get reliable estimates of the parameters of interest, such as the Higgs boson couplings or the top quark mass, we need to account for all sources of uncertainty. Ignoring systematic uncertainties can lead to biased estimates and incorrect conclusions.\n",
    "<p> \n",
    "* **Robust Hypothesis Testing:** In testing theoretical models against experimental data, systematic uncertainties ensure that discrepancies between the observed data and theoretical predictions are not mistakenly attributed to new physics or phenomena.\n",
    "<p>\n",
    "* **Credible Confidence Intervals:** Confidence intervals derived from the data should reflect the true level of uncertainty in the measurements. By incorporating uncertainties, these intervals provide a more realistic range of values for the parameters of interest.\n",
    "<p>\n",
    "* **Improved Comparisons with Other Experiments:** Systematic uncertainties enable more rigorous comparisons between results from different experiments or analyses.\n",
    "<p>\n",
    "* **Informed Decision Making in Future Experiments:** Understanding and quantifying uncertainties help guide the design and improvement of future experiments. By identifying the sources of error, we can target specific areas for enhancement--such as improving detector calibration methods or refining theoretical models--and so reduce uncertainties in future measurements. Equally, when designing entirely new experiments (e.g. new colliders), we can understand what parts of the experiment design will be most important for a particular measurement or search.\n",
    "\n",
    "When comparing detector data to simulations, you may see a difference that might seem large. Whether this difference is interesting or important requires understanding uncertainties. Agreement within uncertainties implies that the observed and predicted values are consistent -- that the difference is not significant. A key part of scientific training is understanding when a difference between a prediction and an observation is meaningful and significant, and that comes down to understanding uncertainties. For more information, check out [this page](https://opendata.atlas.cern/docs/documentation/systematics)."
   ]
  },
  {
   "cell_type": "markdown",
   "metadata": {},
   "source": [
    "## 2. Types of Uncertainties\n",
    "\n",
    "We often think of an *error* as a mistake. In a scientific measurement, however, error refers to the fact that all measurements have uncertainties associated with them. Errors in scientific measurement are not mistakes and so cannot be eliminated simply by being more careful. The best we can do is identify sources of errors, make them as small as possible, and have a reliable estimate of how large they are. In particular, there are two types of errors: *statistical* and *systematic*."
   ]
  },
  {
   "cell_type": "markdown",
   "metadata": {},
   "source": [
    "### 2.1 - Statistical Uncertainties\n",
    "\n",
    "**Statistical** (or **random**) **errors** are sources that cause unpredictable (random) fluctuations in a measurement. These types of errors can be detected statistically and can be reduced by taking a large number of measurements. \n",
    "\n",
    "<font color='blue'><b>▹ **Example.**</b></font> Suppose we use a stopwatch to time the swing of a pendulum. Each time we make a measurement, we may inadvertently start the watch too early or too late, and we may also stop the watch too early or too late. As a result, we may be underestimating or overestimating the time for each swing each time we make a measurement. Since either possibility is equally likely, this is a source of *random* error. By repeating the measurement several times, we may see a spread in the time from underestimating and overestimating. <span style=\"color:blue; font-size:20px;\"><b>∎</b></span>\n",
    "\n",
    "Uncertainties related to statistical errors are called **statistical uncertainties** and are often labeled as $\\delta f_\\text{stat}$. A particular experiment can have lots of random errors, and so might have lots of statistical uncertainties. We will see soon how we can combine statistical uncertainties."
   ]
  },
  {
   "cell_type": "markdown",
   "metadata": {},
   "source": [
    "### 2.2 - Systematic Uncertainties\n",
    "\n",
    "**Systematic errors** are sources that cause reproducible inaccuracies that are consistently in the same direction. These types of errors are difficult to detect and cannot be reduced by increasing the number of measurements. \n",
    "\n",
    "<font color='blue'><b>▹ **Example.**</b></font> Consider the pendulum example again in which we use a stopwatch to time each swing. Suppose our stopwatch is faulty and runs slow (or fast). Then all of our times will be understimates (or overestimates). Since the times will all be wrong in the same direction (either all underestimates or all overestimates), this would be a systematic error, and no amount of repetition with this stopwatch will reveal this source of error. If we see that our measurements are not matching with our predictions, we may consider repeating the experiment with a different stopwatch. If we find that our measurements are now agreeing with our predictions, this may help us indicate that the previous stopwatch is faulty and therefore eliminate (or at least reduce) this source of error. <span style=\"color:blue; font-size:20px;\"><b>∎</b></span>\n",
    "\n",
    "Uncertainties related to systematic errors are called **systematic uncertainties** and are labeled as $\\delta f_\\text{sys}$."
   ]
  },
  {
   "cell_type": "markdown",
   "metadata": {},
   "source": [
    "### 2.3 - Systematic Uncertainties in ATLAS Analyses\n",
    "\n",
    "In ATLAS analyses there are various systematic uncertainties that have to be taken into account. For example:\n",
    "\n",
    "* **Luminosity Uncertainty.** ATLAS has released the 2015 and 2016 data; the 2015 data is $3.24 \\pm 0.04$ fb$^{-1}$, and the 2016 data is $33.40 \\pm 0.30$ fb$^{-1}$. This means that for a physics process with a cross section of 1 fb (one femtobarn), we would expect to see 3.24 events in the 2015 data, and 33.4 events in the 2016 data. The exact number of proton collisions is known with an uncertainity of about 1%, which is the most precise uncertainty on the luminosity at a hadron collider to date (see [this page](https://arxiv.org/abs/2212.09379) for more information.)\n",
    "<p>\n",
    "* **Modeling Systematic Uncertainty.** This is one of the most important and diverse systematic uncertainties. It arises when using an [event generator](https://opendata.atlas.cern/docs/documentation/monte_carlo/simulation_tools) to model a particular physics process. The event generator may not be a good model of nature, and different generator configurations modeling the same physics could produce different results. \n",
    "<p>\n",
    "* **Scale Factor Uncertainties.** These arise when the real data and simulation differ in some regard. For example, perhaps in real data an electron is correctly identified 85% of the time, and in simulation it is only correctly identified 83% of the time. A scale factor is applied to the simulation to correct it to match the data, and the uncertainties on that scale factor are included as systematic uncertainties in an analysis. Common examples are lepton reconstruction, identification, isolation, and trigger scale factors.\n",
    "<p>\n",
    "* **Validation Systematic Uncertainties.** This is a very common type of modeling uncertainty. In essence, the simulation and the data are compared in some set of events that are close to, but not quite the same as, the events that are included in the analysis. In a search for high-mass particles, for example, the validation might be done at slightly lower mass. If the real data and the model disagree, and the discrepancy cannot be resolved, that discrepancy might be included as a systematic uncertainty.  \n",
    "<p>\n",
    "* **Calibration Uncertainties.** These arise when, for example, the momentum of a physics object must be calculated from measurements in the detector. For example, the momentum of a jet is calculated from measurements of charged particles in the inner detector and measurements of energy deposits in the calorimeter, among other things. These individual measurements all have uncertainties, and there are additional uncertainties in the way they are combined to produce a final momentum. All those uncertainties need to be included in an analysis.\n",
    "\n",
    "Ensuring that all the possible variations and uncertainties have been included and that none have been double-counted is quite difficult, and can require a great deal of experience. One excellent starting point is always to check a comparable data analysis and understand all the sources of uncertainty that were included for that analysis. For more information, check out [this page](https://opendata.atlas.cern/docs/documentation/systematics#systematic-uncertainties)."
   ]
  },
  {
   "cell_type": "markdown",
   "metadata": {},
   "source": [
    "## 3. Combining Uncertainties\n",
    "\n",
    "There are two instances in which we may need to combine uncertainties:\n",
    "\n",
    "* **Multiple Uncertainties.** A measured quantity may have several statistical and/or systematic uncertainties which need to be combined in some way to give a *single* uncertainty for that measurement. \n",
    "<p>\n",
    "* **Indirect Quantities.** Often times, we are unable to directly measure a quantity and instead have to *calculate* it from quantities which *can* be directly measured. Since each measured quantity has an associated uncertainty, so too will the calculated quantity; the uncertainties of each measurement have to be combined in some way to form an uncertainty in the calculated quantity.\n",
    "\n",
    "The procedure of combining uncertainties is known as **propagation of uncertainties** (the uncertainties *propagate* through the calculations).\n",
    "\n",
    "<font color='blue'><b>▹ **Example.**</b></font> Suppose we have a simulation of $ZZ$ background. The simulation will have dozens of different variations and each variation will have its own systematic uncertainty. Using propagation of uncertainties, we can show the combined uncertainties of each variation. The original Higgs boson discovery paper, for example, included a figure with the distribution of the mass of the possible particle in events with four leptons:"
   ]
  },
  {
   "cell_type": "markdown",
   "metadata": {},
   "source": [
    "<CENTER><img src=\"images/systematics_notebook/higgs_mass_distribution.png\" style=\"width:50%\"></CENTER>\n",
    "\n",
    "**Figure 1.** Mass distribution of Higgs to $ZZ$ to four lepton candidate events from the [Higgs boson discovery](https://atlas.web.cern.ch/Atlas/GROUPS/PHYSICS/PAPERS/HIGG-2012-28/)."
   ]
  },
  {
   "cell_type": "markdown",
   "metadata": {},
   "source": [
    "The hashed band on the estimated background (around the red histrogram in this case) is a combination of all the uncertainties included when calculating that background. We also see that all the data points (the black dots) have long vertical lines; these are called **error bars**, and they represent a statistical uncertainty for each data point. In this case, it gives the uncertainty in the event count per 5 GeV. <span style=\"color:blue; font-size:20px;\"><b>∎</b></span>"
   ]
  },
  {
   "cell_type": "markdown",
   "metadata": {},
   "source": [
    "### 3.1 - Rules for Propagation of Uncertainties \n",
    "\n",
    "Suppose $z = z(x_1, x_2, \\ldots, x_n)$ is any function of the quantities $x_1, x_2, \\ldots, x_n$, to which we know their uncertainties $\\delta x_1, \\delta x_2, \\ldots, \\delta x_n$. Provided that all errors are independent, the uncertainty of $z$ is given by the general rule:\n",
    "\n",
    "$$ \\delta z = \\sqrt{ \\left(\\frac{\\partial z}{\\partial x_1}\\delta x_1 \\right)^2 + \\left(\\frac{\\partial z}{\\partial x_2}\\delta x_2 \\right)^2 + \\cdots + \\left(\\frac{\\partial z}{\\partial x_n}\\delta x_n \\right)^2 }. $$\n",
    "\n",
    "This is sometimes written as\n",
    "\n",
    "$$ \\delta z = \\frac{\\partial z}{\\partial x_1}\\delta x_1 \\oplus \\frac{\\partial z}{\\partial x_2}\\delta x_2 \\oplus \\cdots \\oplus \\frac{\\partial z}{\\partial x_n}\\delta x_n, $$\n",
    "\n",
    "where $\\oplus$ denotes *addition in quadrature* (that is, you square each term, sum them up, and then take a square-root). From this general rule, we can find expressions for particular functions of $z$."
   ]
  },
  {
   "cell_type": "markdown",
   "metadata": {},
   "source": [
    "#### Sums and Differences of Measured Quantities\n",
    "\n",
    "If $z = x_1 \\pm x_2 \\pm \\cdots \\pm x_n$, then the uncertainty in $z$ is given by\n",
    "\n",
    "$$ \\delta z = \\sqrt{ (\\delta x_1)^2 + (\\delta x_2)^2 + \\cdots (\\delta x_n)^2 }. $$\n",
    "This is perhaps the most commonly used expression in analysis, because it is also the formula used when combining many uncertainties on a single measurement. If your measurement of $z$ has three systematic uncertainties, $z = 3 \\pm 1 \\pm 2 \\pm 2$, the total uncertainty is $\\sqrt{ 1^2 + 2^2 + 2^2} = \\sqrt{9} = 3$."
   ]
  },
  {
   "cell_type": "markdown",
   "metadata": {},
   "source": [
    "#### Products and Quotients of Measured Quantities\n",
    "\n",
    "If $z = x_1 \\times x_2 \\cdots \\times x_n$ or $z = x_1 \\div x_2 \\cdots \\div x_n$, then the relative uncertainty in $z$ is given by\n",
    "\n",
    "$$ \\frac{\\delta z}{|z|} = \\sqrt{ \\left(\\frac{\\delta x_1}{x_1} \\right)^2 + \\left(\\frac{\\delta x_2}{x_2} \\right)^2 + \\cdots + \\left(\\frac{\\delta x_n}{x_n} \\right)^2 }. $$"
   ]
  },
  {
   "cell_type": "markdown",
   "metadata": {},
   "source": [
    "#### Measured Quantity Times Exact Number\n",
    "\n",
    "If $z = kx$, where $k$ is known exactly, then the relative uncertainty in $z$ is given by\n",
    "\n",
    "$$ \\frac{\\delta z}{|z|} = \\frac{\\delta x}{|x|}. $$"
   ]
  },
  {
   "cell_type": "markdown",
   "metadata": {},
   "source": [
    "#### Measured Quantity Raised to an Exact Power\n",
    "\n",
    "If $z = x^n$ and $n$ is an exact number, then the relative uncertainty is given by\n",
    "\n",
    "$$ \\frac{\\delta z}{|z|} = |n| \\frac{\\delta x}{|x|}. $$"
   ]
  },
  {
   "cell_type": "markdown",
   "metadata": {},
   "source": [
    "### 3.2 - Effective Uncertainties\n",
    "\n",
    "When performing a rigorours statistical analysis, having many uncertainties can cause simple practical problems---it is slow to calculate all the necessary numbers! One common approach to work around this is to sum together small uncertainties beforehand and create **effective uncertainties.** These uncertainties don't represent a single variation in particular, but a sum of several. For example, the energy of a jet can have more than 100 uncertainties, but these can be reduced to 20 or 30 effective terms. \n",
    "\n",
    "The downside of effective uncertainties, however, is that the meaning of each effective uncertainty may be difficult to understand. For example, instead of simply representing \"the uncertainty on the jet momentum from mis-modeling the charged particle reconstruction efficiency,\" we now have an effective uncertainty that represents some purely mathematical construct that combines this particular uncertainty with various other uncertainties. There are some physics objects with effective uncertainties that have clear names and can be easily understood, but some of them may not represent something physical and have a name like \"effective nuisance parameter number 3\"."
   ]
  },
  {
   "cell_type": "markdown",
   "metadata": {},
   "source": [
    "# ATLAS Open Data Initialisation"
   ]
  },
  {
   "cell_type": "markdown",
   "metadata": {},
   "source": [
    "Now that we have learned these concepts, we are ready to apply them to ATLAS Open Data. Specifically, we will look at calibration uncertainties of jets, the effect of a scale factor uncertainty for muons, and see an example of modeling systematic uncertainty for three different jet samples. The first step in doing all of this is to set everything up."
   ]
  },
  {
   "cell_type": "markdown",
   "metadata": {},
   "source": [
    "## Running a Python notebook\n",
    "\n",
    "A Python notebook consists of cell blocks, each containing lines of Python code. Each cell can be run independently of each other, yielding respective outputs below the cells. Conventionally, cells are run in order from top to bottom.\n",
    "\n",
    "* To run the whole notebook, in the top menu click Cell $\\rightarrow$ Run All.\n",
    "\n",
    "* To propagate a change you've made to a piece of code, click Cell $\\rightarrow$ Run All Below.\n",
    "\n",
    "* You can also run a single code cell, by clicking Cell $\\rightarrow$ Run Cells, or using the keyboard shortcut Shift+Enter.\n",
    "\n",
    "For more information, refer to [this page](https://www.codecademy.com/article/how-to-use-jupyter-notebooks)."
   ]
  },
  {
   "cell_type": "markdown",
   "metadata": {},
   "source": [
    "## First time package installation on your computer (not needed on mybinder)\n",
    "\n",
    "This first cell installs the required python packages. It only needs to be run the first time you open this notebook on your computer. If you close Jupyter and re-open on the same computer, you won't need to run this first cell again. If this is opened on mybinder, you don't need to run this cell."
   ]
  },
  {
   "cell_type": "code",
   "execution_count": null,
   "metadata": {},
   "outputs": [],
   "source": [
    "import sys\n",
    "import os.path\n",
    "!pip install atlasopenmagic\n",
    "from atlasopenmagic import install_from_environment\n",
    "install_from_environment()"
   ]
  },
  {
   "cell_type": "markdown",
   "metadata": {},
   "source": [
    "We're going to import a number of packages to help us:\n",
    "\n",
    "* `numpy`: provides numerical calculations such as histogramming\n",
    "\n",
    "* `matplotlib`: common tool for making plots, figures, images, visualisations\n",
    "\n",
    "* `uproot`: processes .root files typically used in particle physics into data formats used in python\n",
    "\n",
    "* `awkward`: introduces awkward arrays, a format that generalizes numpy to nested data with possibly variable length lists\n",
    "\n",
    "* `vector`: to allow vectorized 4-momentum calculations\n",
    "\n",
    "In case these imports fail, try restarting the jupyter kernel and running again; it may simply be that the modules we installed in the previous cell have not yet been fully loaded."
   ]
  },
  {
   "cell_type": "code",
   "execution_count": 2,
   "metadata": {},
   "outputs": [],
   "source": [
    "import numpy as np # for numerical calculations such as histogramming\n",
    "import matplotlib.pyplot as plt # for plotting\n",
    "import matplotlib_inline # to edit the inline plot format\n",
    "from matplotlib.ticker import AutoMinorLocator # for minor ticks\n",
    "import uproot # for reading .root files\n",
    "import awkward as ak # to represent nested data in columnar format\n",
    "import vector # for 4-momentum calculations\n",
    "import time # for printing time stamps\n",
    "import requests # for file gathering, if needed; for HTTP access"
   ]
  },
  {
   "cell_type": "markdown",
   "metadata": {},
   "source": [
    "Unit definitions, as stored in the data files:"
   ]
  },
  {
   "cell_type": "code",
   "execution_count": 4,
   "metadata": {},
   "outputs": [],
   "source": [
    "MeV = 0.001\n",
    "GeV = 1.0"
   ]
  },
  {
   "cell_type": "code",
   "execution_count": 5,
   "metadata": {},
   "outputs": [],
   "source": [
    "lumi = 36.6 # fb-1 # data size of the full release "
   ]
  },
  {
   "cell_type": "markdown",
   "metadata": {},
   "source": [
    "# Extracting Data for Analysis"
   ]
  },
  {
   "cell_type": "markdown",
   "metadata": {},
   "source": [
    "To reinforce the ideas of systematic uncertainties and their propagation, we will apply these concepts by looking at muons and jets formed in ATLAS experiments. We will use the [atlasopenmagic](https://opendata.atlas.cern/docs/data/atlasopenmagic) package to access the open data directly from the ATLAS OpenData Portal. The first step is import the module and load the release."
   ]
  },
  {
   "cell_type": "code",
   "execution_count": null,
   "metadata": {},
   "outputs": [],
   "source": [
    "# ATLAS Open Data directory\n",
    "import atlasopenmagic as atom\n",
    "atom.available_releases()\n",
    "atom.set_release('2025e-13tev-beta')"
   ]
  },
  {
   "cell_type": "markdown",
   "metadata": {},
   "source": [
    "We next choose the `skim` for our analysis, which places cuts into our data. We will use the `2muons` skim."
   ]
  },
  {
   "cell_type": "code",
   "execution_count": 7,
   "metadata": {},
   "outputs": [],
   "source": [
    "# Select the skim to use for the analysis\n",
    "skim = \"2muons\""
   ]
  },
  {
   "cell_type": "markdown",
   "metadata": {},
   "source": [
    "For convenient naming and identification purposes, we define a dictionary which stores all the important names of the samples we want to pull from the database. The datset ID's can be found here on [this page](https://opendata.atlas.cern/docs/data/for_education/13TeV25_metadata)."
   ]
  },
  {
   "cell_type": "code",
   "execution_count": 8,
   "metadata": {},
   "outputs": [
    {
     "name": "stdout",
     "output_type": "stream",
     "text": [
      "Fetching and caching all metadata for release: 2025e-13tev-beta...\n",
      "Successfully cached 374 datasets.\n"
     ]
    },
    {
     "data": {
      "text/plain": [
       "dict_keys(['mu_mu', 'ttbar1', 'ttbar2', 'ttbar3'])"
      ]
     },
     "execution_count": 8,
     "metadata": {},
     "output_type": "execute_result"
    }
   ],
   "source": [
    "defs = {\n",
    "    r'mu_mu': {'dids': [700323,700324,700325]},\n",
    "    r'ttbar1': {'dids': [601491]},\n",
    "    r'ttbar2': {'dids': [411234]},\n",
    "    r'ttbar3': {'dids': [410470]},\n",
    "}\n",
    "\n",
    "samples   = atom.build_dataset(defs, skim=skim, protocol='https', cache=True)\n",
    "samples.keys()"
   ]
  },
  {
   "cell_type": "markdown",
   "metadata": {},
   "source": [
    "Let's try accessing the first file in the `mu_mu` dataset as an example."
   ]
  },
  {
   "cell_type": "code",
   "execution_count": 9,
   "metadata": {},
   "outputs": [
    {
     "name": "stdout",
     "output_type": "stream",
     "text": [
      "value = 'simplecache::https://opendata.cern.ch/eos/opendata/atlas/rucio/opendata/ODEO_FEB2025_v0_2muons_mc_700323.Sh_2211_Zmumu_maxHTpTV2_BFilter.2muons.root'\n"
     ]
    }
   ],
   "source": [
    "# We will use the first entry in 'list', from the 'mu_mu' dataset\n",
    "value = samples['mu_mu']['list'][0]\n",
    "print(f\"{value = }\")\n",
    "\n",
    "# We can keep this file URL to peek into it and understanding what our data looks like\n",
    "mu_mu_file = value"
   ]
  },
  {
   "cell_type": "markdown",
   "metadata": {},
   "source": [
    "The output of this cell gives the URL link to the first sample in the `mu_mu` dataset (sample 700323). We now want to open the `mu_mu_file` to see what's inside. The file contains a `tree`, which contains multiple entries, each representing an event. For each event, a dictionary stores all relevant information with keys, such as the event number (`eventNumber`), the photon transverse momentum (`photon_pt`), and more. (More information on trees can be viewed [here](\"https://notebooks.githubusercontent.com/view/%22https://masonproffitt.github.io/uproot-tutorial/03-trees/index.html%22\").)"
   ]
  },
  {
   "cell_type": "code",
   "execution_count": 10,
   "metadata": {},
   "outputs": [
    {
     "name": "stdout",
     "output_type": "stream",
     "text": [
      "\n",
      " The number of entries in the tree are: 2302345\n",
      "\n",
      " The number of variables in the tree is: 118\n"
     ]
    }
   ],
   "source": [
    "# Accessing the file from the online database (\":analysis\" opens the tree in a desired manner)\n",
    "tree = uproot.open(mu_mu_file + \":analysis\")\n",
    "    \n",
    "# The number of entries in the tree can be viewed\n",
    "print(\"\\n The number of entries in the tree are:\", tree.num_entries)\n",
    "\n",
    "# The number of variables in the tree can be viewed\n",
    "print(\"\\n The number of variables in the tree is:\", len(tree.keys()))"
   ]
  },
  {
   "cell_type": "markdown",
   "metadata": {},
   "source": [
    "Whoa---that's a lot of entries and variables! Thankfully, we will only need very few variables in this analysis. A list of all the available variables can be found [here](https://opendata.atlas.cern/docs/data/for_education/13TeV25_details#variable-list). As we go along through this notebook, we will take the ones that we need from this list.\n",
    "\n",
    "Now that we understand how to access the information in this `tree`, we can begin the analysis. "
   ]
  },
  {
   "cell_type": "markdown",
   "metadata": {},
   "source": [
    "# Case Study 1: Calibration Uncertainties of Jets\n",
    "\n",
    "We would like to consider the effects of systematic uncertainties of jets in $Z \\rightarrow \\mu \\mu$. Specifically, we want to make a histogram that shows the distribution of the jets transverse momentum $p_T$ before and after applying specific systematic uncertainties. To this end, we will use the following variables from sample 700323:\n",
    "\n",
    "* `jet_pt`: transverse momentum of the jet\n",
    "\n",
    "* `jet_pt_jer1`: transverse momentum of the jet after applying a specific systematic uncertainty from the jet energy resolution calibration\n",
    "\n",
    "* `jet_pt_jer2`: transverse momentum of the jet after applying a different systematic uncertainty from the jet energy resolution calibration\n",
    "\n",
    "The following block of code allows us to take these jet variables from the `tree`."
   ]
  },
  {
   "cell_type": "code",
   "execution_count": 11,
   "metadata": {},
   "outputs": [],
   "source": [
    "# Define what variables are important to our analysis\n",
    "jet_variables = ['jet_pt', 'jet_pt_jer1', 'jet_pt_jer2']\n",
    "\n",
    "# To see all the data for our given variables\n",
    "tree.iterate(jet_variables, library=\"ak\");"
   ]
  },
  {
   "cell_type": "markdown",
   "metadata": {},
   "source": [
    "Now that we have taken the variables we need from the tree, we now have to create an array for each variable that stores the values of each variable."
   ]
  },
  {
   "cell_type": "code",
   "execution_count": 12,
   "metadata": {},
   "outputs": [],
   "source": [
    "for array in tree.iterate(jet_variables, library=\"ak\"):\n",
    "    # Creating arrays for jet_pt, jet_pt_jer1, and jet_pt_jer2, variables\n",
    "    jet_pt = array[\"jet_pt\"]\n",
    "    jet_pt_jer1 = array[\"jet_pt_jer1\"]\n",
    "    jet_pt_jer2 = array[\"jet_pt_jer2\"]"
   ]
  },
  {
   "cell_type": "markdown",
   "metadata": {},
   "source": [
    "These three arrays contain jet momentum values in an event-by-event basis, as we can see by printing out the 5 entries of the `jet_pt` array:"
   ]
  },
  {
   "cell_type": "code",
   "execution_count": 13,
   "metadata": {},
   "outputs": [
    {
     "name": "stdout",
     "output_type": "stream",
     "text": [
      "jet_pt: [[55.1, 22.2], [177], [23.7], [50.6, 46.4, 35.3, 33.1, 23.4], [30.1]]\n"
     ]
    }
   ],
   "source": [
    "print(\"jet_pt:\", jet_pt[:5])"
   ]
  },
  {
   "cell_type": "markdown",
   "metadata": {},
   "source": [
    "This is an array that contains sub-arrays, where each sub-array represents an event and contains the values of the transverse momentum for each jet in that event. Since we want to look at every jet across all events, it is more convenient to create new arrays that contains all of these values as one big list (that is, without the sub-arrays). This can be done by applying `ak.flatten` to each array."
   ]
  },
  {
   "cell_type": "code",
   "execution_count": 14,
   "metadata": {},
   "outputs": [],
   "source": [
    "# Flatten to treat all jets across all events as one big list\n",
    "jet_pt_flat = ak.flatten(jet_pt)\n",
    "jet_pt_jer1_flat = ak.flatten(jet_pt_jer1)\n",
    "jet_pt_jer2_flat = ak.flatten(jet_pt_jer2)"
   ]
  },
  {
   "cell_type": "markdown",
   "metadata": {},
   "source": [
    "Let us look at the first 10 entries of the `jet_pt_flat` array:"
   ]
  },
  {
   "cell_type": "code",
   "execution_count": 15,
   "metadata": {
    "scrolled": true
   },
   "outputs": [
    {
     "name": "stdout",
     "output_type": "stream",
     "text": [
      "jet_pt_flat: [55.1, 22.2, 177, 23.7, 50.6, 46.4, 35.3, 33.1, 23.4, 30.1]\n"
     ]
    }
   ],
   "source": [
    "print(\"jet_pt_flat:\", jet_pt_flat[:10])"
   ]
  },
  {
   "cell_type": "markdown",
   "metadata": {},
   "source": [
    "We now see that these are the values listed as in the `jet_pt` array, but without the sub-arrays."
   ]
  },
  {
   "cell_type": "markdown",
   "metadata": {},
   "source": [
    "Now that we have our three arrays of interest, we can plot them on a histogram that shows how many counts occur for a given transverse momentum $p_T$ bin. "
   ]
  },
  {
   "cell_type": "code",
   "execution_count": 16,
   "metadata": {},
   "outputs": [
    {
     "data": {
      "image/png": "[encoded data removed]",
      "text/plain": [
       "<Figure size 640x480 with 1 Axes>"
      ]
     },
     "metadata": {},
     "output_type": "display_data"
    }
   ],
   "source": [
    "# Data to plot on histogram\n",
    "jet_1 = ak.to_numpy(jet_pt_flat) \n",
    "jet_2 = ak.to_numpy(jet_pt_jer1_flat)\n",
    "jet_3 = ak.to_numpy(jet_pt_jer2_flat)\n",
    "\n",
    "# Set bin size\n",
    "bins = np.linspace(0, 300, 51)  # 50 bins from 0 to 300 GeV (bin size = 6 GeV)\n",
    "\n",
    "# Plot histograms\n",
    "plt.hist(jet_1, bins=bins, histtype='step', linewidth=1.5, label='jet_pt')\n",
    "plt.hist(jet_2, bins=bins, histtype='step', linewidth=1.5, label='jet_pt_jer1')\n",
    "plt.hist(jet_3, bins=bins, histtype='step', linewidth=1.5, label='jet_pt_jer2')\n",
    "\n",
    "# Set x-axis range\n",
    "plt.xlim(0, 300)\n",
    "\n",
    "# Add labels and legend\n",
    "plt.xlabel('$p_T$ [GeV]')\n",
    "plt.ylabel('Counts')\n",
    "plt.title(r'Comparison of Jet $p_T$ Systematic Uncertainties in $Z \\to \\mu \\mu$')\n",
    "plt.legend()\n",
    "\n",
    "plt.show()"
   ]
  },
  {
   "cell_type": "markdown",
   "metadata": {},
   "source": [
    "We see that for $p_T > 50$ GeV, there doesn't seem to be much difference in the jet $p_T$ before and after applying the two different systematic uncertainties. There does, however, seem to be differences for $p_T < 50$ GeV. Let's look at this region closer."
   ]
  },
  {
   "cell_type": "code",
   "execution_count": 17,
   "metadata": {},
   "outputs": [
    {
     "data": {
      "image/png": "[encoded data removed]",
      "text/plain": [
       "<Figure size 640x480 with 1 Axes>"
      ]
     },
     "metadata": {},
     "output_type": "display_data"
    }
   ],
   "source": [
    "# Data to plot on histogram\n",
    "jet_1 = ak.to_numpy(jet_pt_flat) \n",
    "jet_2 = ak.to_numpy(jet_pt_jer1_flat)\n",
    "jet_3 = ak.to_numpy(jet_pt_jer2_flat)\n",
    "\n",
    "# Set bin size\n",
    "bins = np.linspace(0, 50, 11)  # 10 bins from 0 to 50 GeV (bin size = 5 GeV)\n",
    "\n",
    "# Plot histograms\n",
    "plt.hist(jet_1, bins=bins, histtype='step', linewidth=1.5, label='jet_pt')\n",
    "plt.hist(jet_2, bins=bins, histtype='step', linewidth=1.5, label='jet_pt_jer1')\n",
    "plt.hist(jet_3, bins=bins, histtype='step', linewidth=1.5, label='jet_pt_jer2')\n",
    "\n",
    "# Set x-axis range\n",
    "plt.xlim(0, 50)\n",
    "\n",
    "# Add labels and legend\n",
    "plt.xlabel('$p_T$ [GeV]')\n",
    "plt.ylabel('Counts')\n",
    "plt.title(r'Comparison of Jet $p_T$ Systematic Uncertainties in $Z \\to \\mu \\mu$')\n",
    "plt.legend()\n",
    "\n",
    "plt.show()"
   ]
  },
  {
   "cell_type": "markdown",
   "metadata": {},
   "source": [
    "We see from this plot that most differences occur between 15 GeV and 30 GeV, with the largest difference being between 20 and 25 GeV. This is an example of **calibration uncertainties** in jets. Specifically, these are two of the terms in the jet energy resolution uncertainty. The particular effect that you can see in the bins of this histogram around 20 GeV are what's known as a \"threshold effect.\" In this skimmed dataset, jets have been saved with a minimum transverse momentum of 20 GeV. When these systematic uncertainties are applied, a 20 GeV jet might be shifted down to 19 GeV, and a 21 GeV jet might be shifted down to 20 GeV. In the other direction, we might shift a 20 GeV jet up to 21 GeV, and a 21 GeV jet up to 22 GeV. However, because we have only saved jets with at least 20 GeV of transverse momentum, there are no 19 GeV jets available to shift up to 20 GeV. We see a particularly large impact from the systematic uncertainty because of what we've chosen to save in our analysis."
   ]
  },
  {
   "cell_type": "markdown",
   "metadata": {},
   "source": [
    "# Case Study 2: Scale Factor Uncertainty"
   ]
  },
  {
   "cell_type": "markdown",
   "metadata": {},
   "source": [
    "Using the Standard Model, we can do a set of randomised simulations to produce a set of theoretical data points to compare to our ATLAS data. These are known as Monte Carlo (MC) simulations (see [this page](https://opendata.atlas.cern/docs/documentation/monte_carlo/MC_production_chain) for more information). There is one important change to be made to the MC data before we can compare them with our ATLAS data:\n",
    "\n",
    "* **Weights** - The MC data was computed in ideal circumstances. The real ATLAS detector has some inefficiencies, which we can account for by attributing the appropriate weight to each data point. The weight of a data point affects how it contributes to the histogram count for its bin.\n",
    "\n",
    "Not all weights are important to our analysis. In our case, the important ones are:\n",
    "\n",
    "* `filteff`: efficiency of simulated process\n",
    "\n",
    "* `kfac`: corrections to the cross section due to higher order calculations\n",
    "\n",
    "* `xsec`: the cross section in picobarn of the simulated process\n",
    "\n",
    "* `mcWeight`: specific Monte-Carlo weight associated with each event\n",
    "\n",
    "* `sum_of_weights`: \tthe square root of the sum of the event weights\n",
    "\n",
    "* `scaleFactor_PILEUP`: scale factor for pileup reweighting\n",
    "\n",
    "* `scaleFactor_MUON`: scale factor for muon efficiency\n",
    "\n",
    "* `scaleFactor_LepTRIGGER`: scale factor for lepton triggers\n",
    "\n",
    "Scale factors are generally related to estimates of the efficiencies and resolutions of detectors."
   ]
  },
  {
   "cell_type": "markdown",
   "metadata": {},
   "source": [
    "We would like to consider the effect of `scaleFactor_MUON` for muons produced in $Z \\rightarrow \\mu \\mu$. Specifically, we want to make a histogram that shows the distribution of the muon transverse momentum $p_T$ before and after applying this scale factor. To this end, we will need the variables listed above from sample 700323:\n",
    "\n",
    "* all the weights listed above\n",
    "\n",
    "* `lep_pt`: transverse momentum of the lepton\n",
    "\n",
    "* `lep_type`: number signifying the lepton type (11 for electrons and 13 for muons)\n",
    "\n",
    "The following block of code allows us to take these jet variables from the `tree`."
   ]
  },
  {
   "cell_type": "code",
   "execution_count": 18,
   "metadata": {},
   "outputs": [],
   "source": [
    "# Define what variables are important to our analysis\n",
    "lep_variables = ['lep_pt', 'lep_type']\n",
    "weight_variables = [\"filteff\",\"kfac\",\"xsec\",\"mcWeight\",\"sum_of_weights\",\"ScaleFactor_PILEUP\", \"ScaleFactor_MUON\", \"ScaleFactor_LepTRIGGER\"]\n",
    "\n",
    "# To see all the data for our given variables\n",
    "tree.iterate(lep_variables, library=\"ak\");\n",
    "tree.iterate(weight_variables, library=\"ak\");"
   ]
  },
  {
   "cell_type": "markdown",
   "metadata": {},
   "source": [
    "Now that we have taken the variables we need from the tree, we now have to create an array for each variable that stores the values of each variable."
   ]
  },
  {
   "cell_type": "code",
   "execution_count": 19,
   "metadata": {},
   "outputs": [],
   "source": [
    "# Creating arrays for each weight variable\n",
    "for array in tree.iterate(weight_variables, library=\"ak\"):\n",
    "    filteff = array[\"filteff\"]\n",
    "    kfac = array[\"kfac\"]\n",
    "    xsec = array[\"xsec\"]\n",
    "    mcWeight = array[\"mcWeight\"]\n",
    "    sum_of_weights = array[\"sum_of_weights\"]\n",
    "    ScaleFactor_PILEUP = array[\"ScaleFactor_PILEUP\"]\n",
    "    ScaleFactor_MUON = array[\"ScaleFactor_MUON\"]\n",
    "    ScaleFactor_LepTRIGGER = array[\"ScaleFactor_LepTRIGGER\"]\n",
    "    \n",
    "# Creating arrays for lepton momentum and type\n",
    "for array in tree.iterate(lep_variables, library=\"ak\"):\n",
    "    lep_pt = array[\"lep_pt\"]\n",
    "    lep_type = array[\"lep_type\"]"
   ]
  },
  {
   "cell_type": "markdown",
   "metadata": {},
   "source": [
    "Just as was the case for the `jet_pt` array, the `lep_pt` and `lep_type` arrays hold their respective variables in an event-by-event basis."
   ]
  },
  {
   "cell_type": "code",
   "execution_count": 20,
   "metadata": {
    "scrolled": true
   },
   "outputs": [
    {
     "name": "stdout",
     "output_type": "stream",
     "text": [
      "lep_pt: [[32.9, 47.7], [26.1, 52, 34.9], [64.7, ...], [62.5, 35.6], [57.2, 31.9]]\n",
      "lep_type: [[13, 13], [11, 13, 13], [13, 13], [13, 13], [13, 13]]\n"
     ]
    }
   ],
   "source": [
    "print(\"lep_pt:\", lep_pt[:5])\n",
    "print(\"lep_type:\", lep_type[:5])"
   ]
  },
  {
   "cell_type": "markdown",
   "metadata": {},
   "source": [
    "Just as before, we use `ak.flatten` to stores these values as one big list."
   ]
  },
  {
   "cell_type": "code",
   "execution_count": 21,
   "metadata": {},
   "outputs": [],
   "source": [
    "# Flatten to treat all muons across all events as one big list\n",
    "lep_pt_flat = ak.flatten(lep_pt)\n",
    "lep_type_flat = ak.flatten(lep_type)"
   ]
  },
  {
   "cell_type": "code",
   "execution_count": 22,
   "metadata": {
    "scrolled": true
   },
   "outputs": [
    {
     "name": "stdout",
     "output_type": "stream",
     "text": [
      "lep_pt_flat: [32.9, 47.7, 26.1, 52, 34.9, 64.7, 39.6, 62.5, 35.6, 57.2]\n",
      "lep_type_flat: [13, 13, 11, 13, 13, 13, 13, 13, 13, 13]\n"
     ]
    }
   ],
   "source": [
    "print(\"lep_pt_flat:\", lep_pt_flat[:10])\n",
    "print(\"lep_type_flat:\", lep_type_flat[:10])"
   ]
  },
  {
   "cell_type": "markdown",
   "metadata": {},
   "source": [
    "Using the weight variables, we can calculate the weight with and without `ScaleFactor_MUON`."
   ]
  },
  {
   "cell_type": "code",
   "execution_count": 23,
   "metadata": {},
   "outputs": [],
   "source": [
    "# Calculating total weight with and without ScaleFactor_MUON\n",
    "unscaled_weight = (lumi * 1000 * filteff * kfac * xsec) * (mcWeight / sum_of_weights) * (ScaleFactor_PILEUP * ScaleFactor_LepTRIGGER)\n",
    "scaled_weight = ScaleFactor_MUON * unscaled_weight"
   ]
  },
  {
   "cell_type": "markdown",
   "metadata": {},
   "source": [
    "Each event has a different weight value, and these two new arrays---`unscaled_weight` and `scaled_weight`---give the total weight for each event. Since we want to treat all muons across all events, we have to apply the weight to each muon in each event. This can be done using `ak.broadcast_arrays`:"
   ]
  },
  {
   "cell_type": "code",
   "execution_count": 24,
   "metadata": {},
   "outputs": [],
   "source": [
    "# Broadcast event weights to each lepton in the event\n",
    "unscaled_weight_broadcasted = ak.broadcast_arrays(lep_pt, unscaled_weight)[1]\n",
    "scaled_weight_broadcasted = ak.broadcast_arrays(lep_pt, scaled_weight)[1]"
   ]
  },
  {
   "cell_type": "markdown",
   "metadata": {},
   "source": [
    "Now we can flatten these two arrays to obtain the weight variable for each muon in one big list."
   ]
  },
  {
   "cell_type": "code",
   "execution_count": 25,
   "metadata": {},
   "outputs": [],
   "source": [
    "# Flatten weights\n",
    "unscaled_weight_flat = ak.flatten(unscaled_weight_broadcasted)\n",
    "scaled_weight_flat = ak.flatten(scaled_weight_broadcasted)"
   ]
  },
  {
   "cell_type": "markdown",
   "metadata": {},
   "source": [
    "Our three arrays of interest so far are `lep_pt_flat`, `unscaled_weight_flat`, and `scaled_weight_flat`. These arrays hold the values for all *leptons*; that is, muons and electrons. We can check to see how many muons and electrons we have using the `lep_type` array."
   ]
  },
  {
   "cell_type": "code",
   "execution_count": 26,
   "metadata": {},
   "outputs": [
    {
     "name": "stdout",
     "output_type": "stream",
     "text": [
      "Total leptons: 4750161\n",
      "Number of electrons: 141358\n",
      "Number of muons: 4608803\n"
     ]
    }
   ],
   "source": [
    "print(\"Total leptons:\", len(lep_type_flat))\n",
    "print(\"Number of electrons:\", ak.sum(lep_type_flat == 11))\n",
    "print(\"Number of muons:\", ak.sum(lep_type_flat == 13))"
   ]
  },
  {
   "cell_type": "markdown",
   "metadata": {},
   "source": [
    "Since we only want to consider muons in this analysis, we apply a `mask` to each of our arrays to create new arrays that only considers values from muons."
   ]
  },
  {
   "cell_type": "code",
   "execution_count": 27,
   "metadata": {},
   "outputs": [],
   "source": [
    "# Create a mask to select only muons (13)\n",
    "mask = (lep_type_flat) == 13\n",
    "\n",
    "# Apply the mask to each array\n",
    "muon_pt_flat = lep_pt_flat[mask]\n",
    "muon_unscaled_weights = unscaled_weight_flat[mask]\n",
    "muon_scaled_weights = scaled_weight_flat[mask]"
   ]
  },
  {
   "cell_type": "markdown",
   "metadata": {},
   "source": [
    "Using these three arrays---`muon_pt_flat`, `muon_unscaled_weights`, and `muon_scaled_weights`---we can now make a histogram showing the distribution of each muon's $p_T$ with and without `scaleFactor_MUON`. This will be shown in the main panel of our plot. Because these variations tend to be really small, we will also create a histogram that shows the ratio of the scaled and unscaled weights. This is called a **ratio histogram**, and we can plot in in a sub-panel just underneath the main panel for easy comparisons."
   ]
  },
  {
   "cell_type": "code",
   "execution_count": 28,
   "metadata": {},
   "outputs": [
    {
     "data": {
      "image/png": "[encoded data removed]",
      "text/plain": [
       "<Figure size 1000x600 with 2 Axes>"
      ]
     },
     "metadata": {},
     "output_type": "display_data"
    }
   ],
   "source": [
    "# Set axes and figure size for main panel and sub-panel\n",
    "fig, (ax_main, ax_ratio) = plt.subplots(nrows=2, sharex=True, figsize=(10, 6), gridspec_kw={\"height_ratios\": [4, 1]})\n",
    "\n",
    "# Set bin size\n",
    "muon_bins = np.linspace(0, 300, 76)  # 75 bins from 0 to 300 GeV (bin width = 4 GeV)\n",
    "muon_bin_centers = 0.5 * (muon_bins[1:] + muon_bins[:-1])\n",
    "\n",
    "# Data to plot\n",
    "muon_data = ak.to_numpy(muon_pt_flat)\n",
    "\n",
    "\n",
    "# Main Panel: Two step histograms for scaled and unscaled muon p_T\n",
    "ax_main.hist(muon_data, bins=muon_bins, weights=muon_unscaled_weights, \n",
    "             histtype='step', linewidth=1.5, label='Unscaled Muon $p_T$')\n",
    "\n",
    "ax_main.hist(muon_data, bins=muon_bins, weights=muon_scaled_weights, \n",
    "             histtype='step', linewidth=1.5, label='Scaled Muon $p_T$')\n",
    "\n",
    "ax_main.set_ylabel('Weighted Counts')\n",
    "ax_main.set_title(r'Effect of Muon Scale Factor on $p_T$ from $Z \\to \\mu \\mu$')\n",
    "ax_main.legend()\n",
    "\n",
    "\n",
    "# Sub-Panel: Step histogram of ratio of scaled and unscaled muon p_T\n",
    "hist_scaled_counts, _ = np.histogram(muon_data, bins=muon_bins, weights=muon_scaled_weights)\n",
    "hist_unscaled_counts, _ = np.histogram(muon_data, bins=muon_bins, weights=muon_unscaled_weights)\n",
    "\n",
    "\n",
    "# Safe division to handle divide-by-zero cases\n",
    "scaled = np.asarray(hist_scaled_counts)\n",
    "unscaled = np.asarray(hist_unscaled_counts)\n",
    "ratio_data = np.divide(\n",
    "    scaled,\n",
    "    unscaled,\n",
    "    out=np.full_like(scaled, np.nan, dtype=np.float64),\n",
    "    where=unscaled != 0\n",
    ")\n",
    "\n",
    "\n",
    "# Set up limits and ratio sizes\n",
    "ax_ratio.step(muon_bin_centers, ratio_data, where='mid', linewidth=1.5)\n",
    "ax_ratio.axhline(1, color='gray', linestyle='--', linewidth=1)\n",
    "\n",
    "ax_ratio.set_xlim(0, 300)\n",
    "ax_ratio.set_xlabel('Muon $p_T$ [GeV]')\n",
    "ax_ratio.set_ylabel('Scaled / Unscaled')\n",
    "ax_ratio.set_ylim(0.98, 1.02)\n",
    "\n",
    "# Clean up tick labels\n",
    "for ax in (ax_main, ax_ratio):\n",
    "    ax.label_outer()\n",
    "\n",
    "plt.tight_layout()\n",
    "plt.show()"
   ]
  },
  {
   "cell_type": "markdown",
   "metadata": {},
   "source": [
    "From the main histogram, we see that the `scaleFactor_MUON` brings down the counts for the muon $p_T$. This is more clear in the ratio histogram below. We see that with higher $p_T$, the ratio of the scaled to unscaled weights tend to get lower and lower, meaning that the scaled weights are more and more reduced.\n",
    "\n",
    "This is an extreme case of **scale factor uncertainty**, in which we turn on and off `scaleFactor_MUON`. The real uncertainty is going to be less extreme than turning it off and back on and again, but this is a simple way to see what the impact of a scale factor is. (During Run 1 of ATLAS, this technique was often used to evaluate the scale factor uncertainty.)"
   ]
  },
  {
   "cell_type": "markdown",
   "metadata": {},
   "source": [
    "# Case Study 3: Modeling Systematic Uncertainty"
   ]
  },
  {
   "cell_type": "markdown",
   "metadata": {},
   "source": [
    "For our last example, we want to look at the leading transverse momentum of jets for three different $t\\bar{t}$ samples and see how they compare. To do this, we will need to access and open the three $t\\bar{t}$ samples from our `mc_defs` dictionary that are meant to model the same physical processes."
   ]
  },
  {
   "cell_type": "code",
   "execution_count": null,
   "metadata": {
    "scrolled": true
   },
   "outputs": [],
   "source": [
    "def get_tree(file_url):\n",
    "    # Accessing the file from the online database (\":analysis\" opens the tree in a desired manner)\n",
    "    tree = uproot.open(file_url + \":analysis\")\n",
    "    return tree \n",
    "\n",
    "    \n",
    "ttbar_trees = {}\n",
    "\n",
    "for sample in ['ttbar1','ttbar2','ttbar3']:\n",
    "    if sample not in ttbar_trees:\n",
    "        ttbar_trees[sample] = []\n",
    "    for file_url in samples[sample]['list']:\n",
    "        ttbar_trees[sample].append( get_tree(file_url) )"
   ]
  },
  {
   "cell_type": "markdown",
   "metadata": {},
   "source": [
    "We now want to go into each sample and retrieve the variables we need for this analysis. "
   ]
  },
  {
   "cell_type": "code",
   "execution_count": 32,
   "metadata": {},
   "outputs": [],
   "source": [
    "jet_pts = { sample:[] for sample in ttbar_trees }\n",
    "weights = { sample:[] for sample in ttbar_trees }\n",
    "\n",
    "for sample in ttbar_trees:\n",
    "    for tree in ttbar_trees[sample]:\n",
    "        jet_file = []\n",
    "        weight_file = []\n",
    "\n",
    "        for array in tree.iterate(\n",
    "            [\"jet_pt\", \"filteff\", \"kfac\", \"xsec\", \"mcWeight\", \"sum_of_weights\",\n",
    "            \"ScaleFactor_PILEUP\", \"ScaleFactor_MUON\", \"ScaleFactor_LepTRIGGER\"],\n",
    "            library=\"ak\"\n",
    "        ):\n",
    "            jets = array[\"jet_pt\"]\n",
    "            jet_file.append(jets)\n",
    "\n",
    "            # Calculate weight per event\n",
    "            filteff = array[\"filteff\"]\n",
    "            kfac = array[\"kfac\"]\n",
    "            xsec = array[\"xsec\"]\n",
    "            mcWeight = array[\"mcWeight\"]\n",
    "            sum_of_weights = array[\"sum_of_weights\"]\n",
    "            ScaleFactor_PILEUP = array[\"ScaleFactor_PILEUP\"]\n",
    "            ScaleFactor_MUON = array[\"ScaleFactor_MUON\"]\n",
    "            ScaleFactor_LepTRIGGER = array[\"ScaleFactor_LepTRIGGER\"]\n",
    "\n",
    "            weight = (lumi * 1000 * filteff * kfac * xsec) * (mcWeight / sum_of_weights) * (ScaleFactor_PILEUP * ScaleFactor_LepTRIGGER * ScaleFactor_MUON)\n",
    "\n",
    "            weight_file.append(weight)\n",
    "\n",
    "        jet_pts[sample].append(ak.concatenate(jet_file))\n",
    "        weights[sample].append(ak.concatenate(weight_file))"
   ]
  },
  {
   "cell_type": "markdown",
   "metadata": {},
   "source": [
    "We now want to `mask` these arrays so that we only consider events with at least one jet, otherwise we won't be able to obtain a leading jet for events that are empty."
   ]
  },
  {
   "cell_type": "code",
   "execution_count": 33,
   "metadata": {},
   "outputs": [],
   "source": [
    "jet_pts_masked = {}\n",
    "weights_masked = {}\n",
    "leading_jet_pts = {}\n",
    "\n",
    "for sample in jet_pts:\n",
    "    for jets, w in zip(jet_pts[sample], weights[sample]):\n",
    "        mask = ak.num(jets) > 0  # keep only events with ≥1 jet\n",
    "        jets_masked = jets[mask]\n",
    "        w_masked = w[mask]\n",
    "        leading_pt = ak.max(jets_masked, axis=1)\n",
    "\n",
    "        jet_pts_masked[sample] = jets_masked\n",
    "        weights_masked[sample] = w_masked\n",
    "        leading_jet_pts[sample] = leading_pt\n",
    "        \n",
    "# Extract jet_pt for each sample\n",
    "leading_jet_pt_601491 = leading_jet_pts['ttbar1']\n",
    "leading_jet_pt_411234 = leading_jet_pts['ttbar2']\n",
    "leading_jet_pt_410470 = leading_jet_pts['ttbar3']\n",
    "\n",
    "# Extract jet_pt weight for each sample\n",
    "weight_601491 = weights_masked['ttbar1']\n",
    "weight_411234 = weights_masked['ttbar2']\n",
    "weight_410470 = weights_masked['ttbar3']"
   ]
  },
  {
   "cell_type": "markdown",
   "metadata": {},
   "source": [
    "We now have three arrays for the leading jet $p_T$ for each sample---`leading_jet_pt_601491`, `leading_jet_pt_411234`, and `leading_jet_pt_410470`---as well as their respective total weights---`weight_601491`, `weight_411234`, and `weight_410470`. We are now ready to plot each leading jet $p_T$ and their respective weights."
   ]
  },
  {
   "cell_type": "code",
   "execution_count": 34,
   "metadata": {
    "scrolled": false
   },
   "outputs": [
    {
     "data": {
      "image/png": "[encoded data removed]",
      "text/plain": [
       "<Figure size 640x480 with 1 Axes>"
      ]
     },
     "metadata": {},
     "output_type": "display_data"
    }
   ],
   "source": [
    "# Data to plot\n",
    "leading_jet_1 = ak.to_numpy(leading_jet_pt_601491) \n",
    "leading_jet_2 = ak.to_numpy(leading_jet_pt_411234)\n",
    "leading_jet_3 = ak.to_numpy(leading_jet_pt_410470)\n",
    "\n",
    "# Set bin size\n",
    "jet_bins = np.linspace(0, 300, 76)  # 75 bins from 0 to 300 GeV\n",
    "\n",
    "# Plot histograms\n",
    "plt.hist(leading_jet_1, bins=jet_bins, weights=weight_601491, \n",
    "             histtype='step', linewidth=1.5, label='Leading Jet $p_T$ (601491)')\n",
    "\n",
    "plt.hist(leading_jet_2, bins=jet_bins, weights=weight_411234, \n",
    "             histtype='step', linewidth=1.5, label='Leading Jet $p_T$ (411234)')\n",
    "\n",
    "plt.hist(leading_jet_3, bins=jet_bins, weights=weight_410470, \n",
    "             histtype='step', linewidth=1.5, label='Leading Jet $p_T$ (410470)')\n",
    "\n",
    "# Set x-axis range\n",
    "plt.xlim(0, 300)\n",
    "\n",
    "# Add labels and legend\n",
    "plt.xlabel('Leading Jet $p_T$ [GeV]')\n",
    "plt.ylabel('Counts')\n",
    "plt.title(r'Comparison of Leading Jet $p_T$ Systematic Uncertainties for Different $t\\bar{t}$ Samples')\n",
    "plt.legend()\n",
    "\n",
    "plt.show()"
   ]
  },
  {
   "cell_type": "markdown",
   "metadata": {},
   "source": [
    "We see that the leading jet $p_T$ distributions look quite different for the three samples. Most importantly, we don't know which one will look most like nature, and so the differences in the predictions of the three models can be included as a systematic uncertainty in an analysis.\n",
    "\n",
    "This is an example of a **modeling systematic uncertainty**. Each sample uses different generator configurations that attempts to model the same physics process. We see some significant differences in the way the jets are being produced by these generators across these three samples, especially at lower $p_T$. "
   ]
  },
  {
   "cell_type": "markdown",
   "metadata": {},
   "source": [
    "## 🎉 **Congratulations!** \n",
    "\n",
    "You have explored the effects and learned the importance of systematic uncertainties in particle physics analyses!\n",
    "\n",
    "Want to learn more? Check out the [ATLAS Open Data website](https://opendata.atlas.cern) for educational content, and explore our [educational analysis notebooks section](https://opendata.atlas.cern/docs/13TeV25Doc/13tutorial) for more analysis examples!"
   ]
  }
 ],
 "metadata": {
  "kernelspec": {
   "display_name": "opendatanotebooks",
   "language": "python",
   "name": "python3"
  },
  "language_info": {
   "codemirror_mode": {
    "name": "ipython",
    "version": 3
   },
   "file_extension": ".py",
   "mimetype": "text/x-python",
   "name": "python",
   "nbconvert_exporter": "python",
   "pygments_lexer": "ipython3",
   "version": "3.12.0"
  }
 },
 "nbformat": 4,
 "nbformat_minor": 4
}
