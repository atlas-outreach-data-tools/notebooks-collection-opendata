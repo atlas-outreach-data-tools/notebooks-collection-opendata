{
 "cells": [
  {
   "cell_type": "markdown",
   "metadata": {},
   "source": [
    "# Systematic Uncertainties and Their Propagation"
   ]
  },
  {
   "cell_type": "markdown",
   "metadata": {},
   "source": [
    "<CENTER><img src=\\\"../../images/ATLASOD.gif\\\" style=\\\"width:50%\\\"></CENTER>"
   ]
  },
  {
   "cell_type": "markdown",
   "metadata": {},
   "source": [
    "This notebook uses ATLAS Open Data https://opendata.atlas.cern to teach you about systematic uncertainties!\n",
    "\n",
    "ATLAS Open Data provides open access to proton-proton collision data at the LHC for educational purposes. ATLAS Open Data resources are ideal for high-school, undergraduate and postgraduate students."
   ]
  },
  {
   "cell_type": "markdown",
   "metadata": {},
   "source": [
    "## 1. The Uncertainty of Measurements\n",
    "\n",
    "Some numerical statements are exact, such as the number of books on your desk or the number of siblings you have. However, all *measurements*, no matter how carefully they are taken, have some degree of uncertainty that can come from a variety of sources. The process of evaluating uncertainties and identifying sources of error is called **error analysis**. The goal of error analysis is to properly estimate uncertainities in measurements and try to reduce them as much as possible. "
   ]
  },
  {
   "cell_type": "markdown",
   "metadata": {},
   "source": [
    "### 1.1 - The Importance of Knowing the Uncertainty\n",
    "\n",
    "The associated uncertainty of any measurement is just as important as the measured value of the measurement because it gives information on how well the measurement was made. By not reporting the uncertainty of measurements, we may be mislead and/or not be able to make any valid conclusion. "
   ]
  },
  {
   "cell_type": "markdown",
   "metadata": {},
   "source": [
    "As an example, suppose a theory predicts a new particle with mass $m = 135$ GeV, fairly close to that of the Higgs boson ($m_H = 125$ GeV). Suppose two particle physicists have tested this theory and made mass measurements. The first physicist, named Shawn, reports his best estimate of the mass to be $m_\\text{shawn} = 131$ GeV and says that is almost certaintly lies between 124 and 138 GeV. The second physicist, named Danielle, reports her best estimate to be $m_\\text{danielle} = 126$ GeV with a probable range from 124 to 128 GeV. We can summarize their results like this:\n",
    "\n",
    "$$ m_\\text{shawn} = (131 \\pm 7)\\text{ GeV} \\hspace{1cm} \\text{and} \\hspace{1cm} m_\\text{danielle} = (126 \\pm 2)\\text{ GeV}. $$\n",
    "\n",
    "There are a few things to note here:\n",
    "\n",
    "* **Precision of Measurements.** Although Danielle's measurement is much more precise, Shawn's measurement could also be right. Both physicists states a range that they are confident $m$ lies, and these ranges overlap. Thus, it is possible that both statements are correct.\n",
    "\n",
    "* **Uncertainties of Measurements.** The uncertainty of Shawn's measurement is so large that his results are pretty much useless. The mass of the predicted new particle and of the Higgs boson lie within his range, so it is possible that Shawn may have actually found a Higgs boson and not a new particle. We cannot make a valid conclusion using Shawn's measurement. However, Danielle's measurement indicate clearly that she found a Higgs boson; the mass of the Higgs boson lies within her range, while the mass of the predicted new particle lies far outside it.\n",
    "\n",
    "* **Range of Uncertainity.** We see that in order to make a conclusion from our measurement, the uncertainty must not be too large. The uncertainties do not need to be extremely small, but small enough so that a conclusion can be reasonably made.\n",
    "\n",
    "The important point to make from this (very simplified) example is that without stating the uncertainty, your measurement is useless. If we knew only their best estimates (131 for Shawn and 126 for Danielle), not only would we have been unable to draw a conclusion, but we could have been misled by Shawn into thinking that he did find this new particle since his result is closer to it than the Higgs boson."
   ]
  },
  {
   "cell_type": "markdown",
   "metadata": {},
   "source": [
    "In ATLAS analyses, we consider uncertainties for several reasons:\n",
    "\n",
    "1. **Accurate Parameter Estimation:** To get reliable estimates of the parameters of interest, such as the Higgs boson couplings or the top quark mass, we need to account for all sources of uncertainty. Ignoring systematic uncertainties can lead to biased estimates and incorrect conclusions.\n",
    "\n",
    "2. **Robust Hypothesis Testing:** In testing theoretical models against experimental data, systematic uncertainties ensure that discrepancies between the observed data and theoretical predictions are not mistakenly attributed to new physics or phenomena.\n",
    "\n",
    "3. **Credible Confidence Intervals:** Confidence intervals derived from the data should reflect the true level of uncertainty in the measurements. By incorporating uncertainties, these intervals provide a more realistic range of values for the parameters of interest.\n",
    "\n",
    "4. **Improved Comparisons with Other Experiments:** Systematic uncertainties enable more significant comparisons between results from different experiments or analyses.\n",
    "\n",
    "5. **Informed Decision Making in Future Experiments:** Understanding and quantifying uncertainties help guide the design and improvement of future experiments. By identifying the sources of error, we can target specific areas for enhancement--such as improving detector calibration methods or refining theoretical models--and so reduce uncertainties in future measurements.\n",
    "\n",
    "When comparing detector data to simulations, you may see a difference that might seem significant. Whether this difference is interesting or important requires understanding uncertainties. Agreement within uncertainties implies that the observed and predicted values are consistent."
   ]
  },
  {
   "cell_type": "markdown",
   "metadata": {},
   "source": [
    "### 1.2 - Reporting Measurements\n",
    "\n",
    "Every measurement should be reported as a measured value with its uncertainty and appropriate unit:\n",
    "\n",
    "$$ \\text{measurement} = \\text{(measured value $\\pm$ uncertainty) units} $$\n",
    "\n",
    "or\n",
    "\n",
    "$$ x = x_\\text{best} \\pm \\delta x, $$\n",
    "\n",
    "where $x_\\text{best}$ represents the best estimate of the measurement of some quantity $x$ and $\\delta x$ is the associated uncertainty of the best estimate. Sometimes the **relative uncertainty** is used:\n",
    "\n",
    "$$ \\text{relative uncertainty} = \\left| \\frac{\\text{uncertainty}}{\\text{measured value}} \\right| = \\left| \\frac{\\delta x}{x_\\text{best}} \\right|. $$\n",
    "\n",
    "This better expresses the quality of the measurement. For example, an uncertainty $\\delta x = 1$ mm has different meaning when referring to a length $x_\\text{best} = 3$ mm or to a length $x_\\text{best} = 10$ m. "
   ]
  },
  {
   "cell_type": "markdown",
   "metadata": {},
   "source": [
    "## 2. Types of Uncertainties\n",
    "\n",
    "We often think of the word *error* as a mistake. In a scientific measurement, however, error refers to the fact that all measurements have uncertainties associated with them. Errors in scientific measurement are not mistakes and so cannot be eliminated by being very careful. The best we can do is identify sources of errors, make them as small as possible, and have a reliable estimate of how large they are. In particular, there are two types of errors: *statistical* and *systematic*."
   ]
  },
  {
   "cell_type": "markdown",
   "metadata": {},
   "source": [
    "### 2.1 - Statistical Uncertainties\n",
    "\n",
    "**Statistical** (or **random**) **errors** are sources that cause unpredictable (random) fluctuations in a measurement. These types of errors can be detected statistically and can be reduced by taking a large number of measurements. \n",
    "\n",
    "As an example,suppose we use a stopwatch to time the swing of a pendulum. Each time we make a measurement, we may inadvertently start the watch too early or too late, and we may also stop the watch too early or too late. As a result, we may be underestimating or overestimating the time for each swing each time we make a measurement. Since either possibility is equally likely, this is a source of *random* error. By repeating the measurement several times, we may see a spread in the time from underestimating and overestimating. \n",
    "\n",
    "Uncertainties related to statistical errors are called **statistical uncertainties** and are labeled as $\\delta f_\\text{stat}$. A particular experiment can have lots of random errors, and so will have lots of statistical uncertainties. We will see soon how we can combine statistical uncertainites."
   ]
  },
  {
   "cell_type": "markdown",
   "metadata": {},
   "source": [
    "### 2.2 - Systematic Uncertainties\n",
    "\n",
    "**Systematic errors** are sources that cause reproducible inaccuracies that are consistently in the same direction. These types of errors are difficult to detect and cannot be reduced by increasing the number of measurements. \n",
    "\n",
    "Consider the pendulum example again in which we use a stopwatch to time each swing. Suppose our stopwatch is faulty and runs slow (or fast). Then all of our times will be understimates (or overestimates). Since the times will all be wrong in the same diretion (either all understimates or all overestimates), this would be a systematic error, and no amount of repition with this stopwatch will reveal this source of error. If we see that our measurements are not matching with our predictions, we may consider repeating the experiment with a different stopwatch. If we find that our measurements are now agreeing with our predictions, this may help us indicate that the previous stopwatch is faulty and therefore eliminate (or reduce) this source of error.\n",
    "\n",
    "Uncertainties related to systematic errors are called **systematic uncertainties** and are labeled as $\\delta f_\\text{sys}$."
   ]
  },
  {
   "cell_type": "markdown",
   "metadata": {},
   "source": [
    "#### Systematic Uncertainties in ATLAS Analyses\n",
    "\n",
    "In ATLAS analyses there are various systematic uncertainties that have to be taken into account:\n",
    "\n",
    "* **Luminosity Uncertainty.** ATLAS has released the 2015 and 2016 data; the 2015 data is $3.24 \\pm 0.04$ fb$^{-1}$, and the 2016 data is $33.40 \\pm 0.30$ fb$^{-1}$. This means that for a physics process with a cross section of 1 fb (one femtobarn), we would expect to see 3.24 events in the 2015 data, and 33.4 events in the 2016 data. The exact number of proton collisions is known with an uncertainity of about 1%, which is the most precise uncertainty on the luminosity at a hadron collider to date (see [this page](\"https://arxiv.org/abs/2212.09379\") for more information.)\n",
    "  \n",
    "* **Scale Factor Uncertainties.** These arise when the real data and simulation differ in some regard. For example, perhaps in real data an electron is correctly identified 85% of the time, and in simulation it is only correctly identified 83% of the time. A scale factor is applied to the simulation to correct it to match the data, and the uncertainties on that scale factor are included as systematic uncertainties in an analysis.\n",
    "\n",
    "* **Calibration Uncertainties.** These arise when, for example, the momentum of a physics object must be calculated from measurements in the detector. For example, the momentum of a jet is calculated from measurements of charged particles in the inner detector and measurements of energy deposits in the calorimeter, among other things. These individual measurements all have uncertainties, and there are additional uncertainties in the way they are combined to produce a final momentum. All those uncertainties need to be included in an analysis.\n",
    "\n",
    "Ensuring that all the possible variations and uncertainties have been included is quite difficult, and can require a great deal of experience. One excellent starting point is always to check a comparable data analysis and understand all the sources of uncertainty that were included for that analysis. For more information, check out [this page](\"https://opendata.atlas.cern/docs/documentation/systematics\")."
   ]
  },
  {
   "cell_type": "markdown",
   "metadata": {},
   "source": [
    "## 3. Combining Uncertainties\n",
    "\n",
    "There are two instances in which we may need to combine uncertainties:\n",
    "\n",
    "* **Multiple Uncertainties.** A quantity may have several statistical and/or systematic uncertainties which need to be combined in some way to give a *single* uncertainty. \n",
    "\n",
    "* **Indirect Quantities.** Often times, we are unable to directly measure a quantity and instead have to *calculate* it from quantities which *can* be directly measured. Since each measured quantity has an associated uncertainty, so too will the calculated quantity; the uncertainties of each measurement have to combine in some way to form an uncertainty in the calculated quantity.\n",
    "\n",
    "The procedure of combining uncertainties is known as **propagation of uncertainties** (the uncertainties *propagate* through the calculations).\n",
    "\n",
    "Suppose we have a simulation of $ZZ$ background. The simulation will have dozens of different variations and each variation will have its own systematic uncertainty. Using propagation of uncertainties, we can show the combined uncertainties of each variation. The original Higgs boson discovery paper, for example, included a figure with the distribution of the mass of the possible particle in events with four leptons:"
   ]
  },
  {
   "cell_type": "markdown",
   "metadata": {},
   "source": [
    "<CENTER><img src=\\\"images/systematics_notebook/higgs_mass_distribution.png\\\" style=\\\"width:40%\\\"></CENTER>\n",
    "\n",
    "**Figure 1.** Mass distribution of Higgs to $ZZ$ to four lepton candidate events from the [Higgs boson discovery](\"https://atlas.web.cern.ch/Atlas/GROUPS/PHYSICS/PAPERS/HIGG-2012-28/\")."
   ]
  },
  {
   "cell_type": "markdown",
   "metadata": {},
   "source": [
    "The hashed band on the estimated background (around the red histrogram in this case) is a combination of all the uncertainties included when calculating that background. We also see that all the data points (the black dots) have long vertical lines; these are called **error bars**, and they show the combined uncertainty for each data point. In this case, it gives the uncertainty in the event count per 5 GeV."
   ]
  },
  {
   "cell_type": "markdown",
   "metadata": {},
   "source": [
    "### 3.1 - Rules for Propagation of Uncertainties \n",
    "\n",
    "Suppose $z = z(x_1, x_2, \\ldots, x_n)$ is any function of the quantities $x_1, x_2, \\ldots, x_n$, to which we know their uncertainties $\\delta x_1, \\delta x_2, \\ldots, \\delta x_n$. Provided that all errors are independent, the uncertainty of $z$ is given by the general rule:\n",
    "\n",
    "$$ \\delta z = \\sqrt{ \\left(\\frac{\\partial z}{\\partial x_1}\\delta x_1 \\right)^2 + \\left(\\frac{\\partial z}{\\partial x_2}\\delta x_2 \\right)^2 + \\cdots + \\left(\\frac{\\partial z}{\\partial x_n}\\delta x_n \\right)^2 }. $$\n",
    "\n",
    "This is sometimes written as\n",
    "\n",
    "$$ \\delta z = \\frac{\\partial z}{\\partial x_1}\\delta x_1 \\oplus \\frac{\\partial z}{\\partial x_2}\\delta x_2 \\oplus \\cdots \\oplus \\frac{\\partial z}{\\partial x_n}\\delta x_n, $$\n",
    "\n",
    "where $\\oplus$ denotes *addition in quadrature* (that is, you square each term, sum them up, and then take a square-root). From this general rule, we can find expressions for particular functions of $z$."
   ]
  },
  {
   "cell_type": "markdown",
   "metadata": {},
   "source": [
    "#### Sums and Differences of Measured Quantities\n",
    "\n",
    "If $z = x_1 \\pm x_2 \\pm \\cdots \\pm x_n$, then the uncertainty in $z$ is given by\n",
    "\n",
    "$$ \\delta z = \\sqrt{ (\\delta x_1)^2 + (\\delta x_2)^2 + \\cdots (\\delta x_n)^2 }. $$"
   ]
  },
  {
   "cell_type": "markdown",
   "metadata": {},
   "source": [
    "#### Products and Quotients of Measured Quantities\n",
    "\n",
    "If $z = x_1 \\times x_2 \\cdots \\times x_n$ or $z = x_1 \\div x_2 \\cdots \\div x_n$, then the relative uncertainty in $z$ is given by\n",
    "\n",
    "$$ \\frac{\\delta z}{|z|} = \\sqrt{ \\left(\\frac{\\delta x_1}{x_1} \\right)^2 + \\left(\\frac{\\delta x_2}{x_2} \\right)^2 + \\cdots + \\left(\\frac{\\delta x_n}{x_n} \\right)^2 }. $$"
   ]
  },
  {
   "cell_type": "markdown",
   "metadata": {},
   "source": [
    "#### Measured Quantity Times Exact Number\n",
    "\n",
    "If $z = kx$, where $k$ is known exactly, then the relative uncertainty in $z$ is given by\n",
    "\n",
    "$$ \\frac{\\delta z}{|z|} = \\frac{\\delta x}{|x|}. $$"
   ]
  },
  {
   "cell_type": "markdown",
   "metadata": {},
   "source": [
    "#### Measured Quantity Raised to an Exact Power\n",
    "\n",
    "If $z = x^n$ and $n$ is an exact number, then the relative uncertainty is given by\n",
    "\n",
    "$$ \\frac{\\delta z}{|z|} = |n| \\frac{\\delta x}{|x|}. $$"
   ]
  },
  {
   "cell_type": "markdown",
   "metadata": {},
   "source": [
    "### 3.2 - Effective Uncertainties\n",
    "\n",
    "When performing a rigorours statistical analysis, having many uncertainties can cause simple practical problems---it is slow to calculate all the necessary numbers! One common approach to work around this is to sum together small uncertainties beforehand and create **effective uncertainties.** These uncertainties don't represent a single variation in particular, but a sum of several. For example, jets can have more than 100 uncertainties, but can be reduced to 20 or 30 effective terms. \n",
    "\n",
    "The downside of effective uncertainties, however, is that the meaning of each effective uncertainty may be difficult to understand. For example, instead of simply representing \"the uncertainty on the jet momentum from mis-modeling the charged particle reconstruction efficiency,\" we now have an effective uncertainty that represents some purely mathematical construct that combines this particular uncertainty with various other uncertainties. There are some physics objects with effective uncertainties that have clear names and can be easily understood, but some of them may not represent something physical and have a name like \"effective nuisance parameter number 3\"."
   ]
  },
  {
   "cell_type": "markdown",
   "metadata": {},
   "source": [
    "## Accuracy and Precision (NOTE: Not sure if we need this section afterall)\n",
    "\n",
    "For a single measurement, **accuracy** tells you how close your measurement is to an ideal, theoretical, or accepted value (assuming one exists). For a group of measurements, it is how close the *average* is to the ideal value. It is often reported quantitatively by the **relative error:**\n",
    "\n",
    "$$ \\text{Relative error} = \\frac{\\text{measured value - ideal value}}{\\text{ideal value}}. $$\n",
    "\n",
    "A positive sign for relative error indicates that the measured value was higher than the ideal value, and a negative sign indicates that it was lower. Often the relative error is multipled by 100 to give a percentage. Poor accuracy is usually an indication of large *systematic errors*. \n",
    "\n",
    "\n",
    "For a group of measurements, **precision** tells you how close your observed values are to one another. In other words, it is the degree of consistency, reliability, reproducibility, and agreement among independent measurements of the same quantity. It is often reported quantitatively by the **standard deviation**:\n",
    "\n",
    "$$ \\sigma = \\sqrt{\\frac{1}{N-1} \\sum_{i=1}^N (x_i - \\bar{x})^2 }, $$\n",
    "\n",
    "where $N$ is the number of measurements made, $x_i$ is the $i$th measured value, and $\\bar{x}$ is the average of all the measured values. The standard deviation quantifies the *spread* of the measured values. A low standard deviation means a small spread in measurements (high precision), and a high standard deviation means a large spread in measurements (low precision). Poor precision is usually an indication of large *random errors*."
   ]
  },
  {
   "cell_type": "markdown",
   "metadata": {},
   "source": [
    "### Summary: Target Practice"
   ]
  },
  {
   "cell_type": "markdown",
   "metadata": {},
   "source": [
    "To summarize the concepts we have discussed so far, consider the four target practice experiments shown below. Here each experiment involves a series of shots fired at a target, with the \"ideal value\" being the center of the target."
   ]
  },
  {
   "cell_type": "markdown",
   "metadata": {},
   "source": [
    "<CENTER><img src=\\\"images/systematics_notebook/target_practice.png\\\" style=\\\"width:40%\\\"></CENTER>\n",
    "\n",
    "**Figure 2.** Summarizing systematic and random errors, accuracy, and precision using a target pratice analogy."
   ]
  },
  {
   "cell_type": "markdown",
   "metadata": {},
   "source": [
    "There are four cases to examine:\n",
    "\n",
    "**(a)** None of the shots are close to the center of the target, so the accuracy is low. The systematic errors are high since the shots are all systematically off-centered in the same direction, in this case toward the upper right. On the other hand, the precision is high because all of the shots are close to one another. This means that the random errors are low.\n",
    "\n",
    "**(b)** All of the shots made it to the center of the target, so the accuracy is high and the systematic errors are low. Furthermore, the shots are all close to one another, so the precision is also high and the random errors are low. This is the best case scenario, and it is what we strive for in any experiment.\n",
    "\n",
    "**(c)** None of the shots are close to the center of the target, so the accuracy is low and systematic errors high. Worse still, the shots are not close to each other, so the precision is also low and random errors high. This is the worst case scenario, and it is what we try to avoid in any experiment.\n",
    "\n",
    "**(d)** The shots are either fairly close to or at the center of the target, so the accuracy is high and systematic errors low. However, the shots are not very close to each other, so the precision is low and random errors high."
   ]
  },
  {
   "cell_type": "markdown",
   "metadata": {},
   "source": [
    "Although this target practice analogy summarizes the concepts nicely, it is misleading in one important aspect. Since we are given the position of the target for each experiment, we are able to easily tell how accurate the shots were. Knowing the position of the target amounts to knowing the ideal value of a measured quantity, and in the vast majority of real measurements, we do *not* know this value. \n",
    "\n",
    "To think about the difficulty in not knowing the ideal value of a measured quantity, consider the target practice analogy again, but without the positions of the targets. Although we can still easily identify the precision and random errors of the shots, there is no way of knowing the accuracy or systematic errors of the shots. "
   ]
  },
  {
   "cell_type": "markdown",
   "metadata": {},
   "source": [
    "<CENTER><img src=\\\"images/systematics_notebook/target_practice_improved.png\\\" style=\\\"width:40%\\\"></CENTER>\n",
    "\n",
    "**Figure 2.** The same four target practice experiments but without the position of the target. This represents the true nature of most experiments, in which we do not know the \"ideal value\" (the value in nature) of what we are measuring. "
   ]
  },
  {
   "cell_type": "markdown",
   "metadata": {},
   "source": [
    "## ATLAS Open Data Initialisation"
   ]
  },
  {
   "cell_type": "markdown",
   "metadata": {},
   "source": [
    "Now that we have learned these concepts, we are ready to apply them to ATLAS Open Data. The first step in doing this is to set everything up."
   ]
  },
  {
   "cell_type": "markdown",
   "metadata": {},
   "source": [
    "### Running a Python notebook\n",
    "\n",
    "A Python notebook consists of cell blocks, each containing lines of Python code. Each cell can be run independently of each other, yielding respective outputs below the cells. Conventionally, cells are run in order from top to bottom.\n",
    "\n",
    "* To run the whole notebook, in the top menu click Cell $\\rightarrow$ Run All.\n",
    "\n",
    "* To propagate a change you've made to a piece of code, click Cell $\\rightarrow$ Run All Below.\n",
    "\n",
    "* You can also run a single code cell, by clicking Cell $\\rightarrow$ Run Cells, or using the keyboard shortcut Shift+Enter.\n",
    "\n",
    "For more information, refer to [this page](\"https://www.codecademy.com/article/how-to-use-jupyter-notebooks\")."
   ]
  },
  {
   "cell_type": "markdown",
   "metadata": {},
   "source": [
    "### First time package installation on your computer (not needed on mybinder)\n",
    "\n",
    "This first cell installs the required python packages. It only needs to be run the first time you open this notebook on your computer. If you close Jupyter and re-open on the same computer, you won't need to run this first cell again. If this is opened on mybinder, you don't need to run this cell."
   ]
  },
  {
   "cell_type": "code",
   "execution_count": 1,
   "metadata": {},
   "outputs": [
    {
     "name": "stdout",
     "output_type": "stream",
     "text": [
      "\u001b[33mWARNING: The directory '/home/jovyan/.cache/pip' or its parent directory is not owned or is not writable by the current user. The cache has been disabled. Check the permissions and owner of that directory. If executing pip with sudo, you should use sudo's -H flag.\u001b[0m\u001b[33m\n",
      "\u001b[0mRequirement already satisfied: atlasopenmagic in /opt/conda/lib/python3.11/site-packages (0.5.1)\n",
      "Requirement already satisfied: pyyaml in /opt/conda/lib/python3.11/site-packages (from atlasopenmagic) (6.0.1)\n",
      "Requirement already satisfied: requests in /opt/conda/lib/python3.11/site-packages (from atlasopenmagic) (2.31.0)\n",
      "Requirement already satisfied: charset-normalizer<4,>=2 in /opt/conda/lib/python3.11/site-packages (from requests->atlasopenmagic) (3.3.0)\n",
      "Requirement already satisfied: idna<4,>=2.5 in /opt/conda/lib/python3.11/site-packages (from requests->atlasopenmagic) (3.4)\n",
      "Requirement already satisfied: urllib3<3,>=1.21.1 in /opt/conda/lib/python3.11/site-packages (from requests->atlasopenmagic) (2.0.7)\n",
      "Requirement already satisfied: certifi>=2017.4.17 in /opt/conda/lib/python3.11/site-packages (from requests->atlasopenmagic) (2025.4.26)\n",
      "Installing packages: ['aiohttp>=3.9.5', 'atlasopenmagic>=1.0.1', 'awkward>=2.6.7', 'awkward-pandas>=2023.8.0', 'coffea~=0.7.0', 'hist>=2.8.0', 'ipykernel>=6.29.5', 'jupyter>=1.0.0', 'lmfit>=1.3.2', 'matplotlib>=3.9.1', 'metakernel>=0.30.2', 'notebook<7', 'numpy>=1.26.4', 'pandas>=2.2.2', 'papermill>=2.6.0', 'pip>=24.2', 'scikit-learn>=1.5.1', 'uproot>=5.3.10', 'uproot3>=3.14.4', 'fsspec-xrootd>=0.5.1', 'jupyterlab_latex~=3.1.0', 'vector>=1.4.1']\n"
     ]
    },
    {
     "name": "stderr",
     "output_type": "stream",
     "text": [
      "\u001b[33mWARNING: The directory '/home/jovyan/.cache/pip' or its parent directory is not owned or is not writable by the current user. The cache has been disabled. Check the permissions and owner of that directory. If executing pip with sudo, you should use sudo's -H flag.\u001b[0m\u001b[33m\n",
      "\u001b[0m"
     ]
    },
    {
     "name": "stdout",
     "output_type": "stream",
     "text": [
      "Requirement already satisfied: aiohttp>=3.9.5 in /opt/conda/lib/python3.11/site-packages (3.11.18)\n",
      "Collecting aiohttp>=3.9.5\n",
      "  Downloading aiohttp-3.12.13-cp311-cp311-manylinux_2_17_x86_64.manylinux2014_x86_64.whl.metadata (7.6 kB)\n",
      "Collecting atlasopenmagic>=1.0.1\n",
      "  Downloading atlasopenmagic-1.0.1-py3-none-any.whl.metadata (7.2 kB)\n",
      "Requirement already satisfied: awkward>=2.6.7 in /opt/conda/lib/python3.11/site-packages (2.8.2)\n",
      "Collecting awkward>=2.6.7\n",
      "  Downloading awkward-2.8.5-py3-none-any.whl.metadata (6.9 kB)\n",
      "Requirement already satisfied: awkward-pandas>=2023.8.0 in /opt/conda/lib/python3.11/site-packages (2023.8.0)\n",
      "Requirement already satisfied: coffea~=0.7.0 in /opt/conda/lib/python3.11/site-packages (0.7.8)\n",
      "Collecting coffea~=0.7.0\n",
      "  Downloading coffea-0.7.29-py2.py3-none-any.whl.metadata (9.6 kB)\n",
      "Requirement already satisfied: hist>=2.8.0 in /opt/conda/lib/python3.11/site-packages (2.8.1)\n",
      "Requirement already satisfied: ipykernel>=6.29.5 in /opt/conda/lib/python3.11/site-packages (6.29.5)\n",
      "Requirement already satisfied: jupyter>=1.0.0 in /opt/conda/lib/python3.11/site-packages (1.1.1)\n",
      "Requirement already satisfied: lmfit>=1.3.2 in /opt/conda/lib/python3.11/site-packages (1.3.3)\n",
      "Requirement already satisfied: matplotlib>=3.9.1 in /opt/conda/lib/python3.11/site-packages (3.10.1)\n",
      "Collecting matplotlib>=3.9.1\n",
      "  Downloading matplotlib-3.10.3-cp311-cp311-manylinux_2_17_x86_64.manylinux2014_x86_64.whl.metadata (11 kB)\n",
      "Requirement already satisfied: metakernel>=0.30.2 in /opt/conda/lib/python3.11/site-packages (0.30.3)\n",
      "Requirement already satisfied: notebook<7 in /opt/conda/lib/python3.11/site-packages (6.5.7)\n",
      "Requirement already satisfied: numpy>=1.26.4 in /opt/conda/lib/python3.11/site-packages (1.26.4)\n",
      "Collecting numpy>=1.26.4\n",
      "  Downloading numpy-2.3.1-cp311-cp311-manylinux_2_28_x86_64.whl.metadata (62 kB)\n",
      "Requirement already satisfied: pandas>=2.2.2 in /opt/conda/lib/python3.11/site-packages (2.2.3)\n",
      "Collecting pandas>=2.2.2\n",
      "  Downloading pandas-2.3.1-cp311-cp311-manylinux_2_17_x86_64.manylinux2014_x86_64.whl.metadata (91 kB)\n",
      "Requirement already satisfied: papermill>=2.6.0 in /opt/conda/lib/python3.11/site-packages (2.6.0)\n",
      "Requirement already satisfied: pip>=24.2 in /opt/conda/lib/python3.11/site-packages (25.1.1)\n",
      "Requirement already satisfied: scikit-learn>=1.5.1 in /opt/conda/lib/python3.11/site-packages (1.6.1)\n",
      "Collecting scikit-learn>=1.5.1\n",
      "  Downloading scikit_learn-1.7.0-cp311-cp311-manylinux_2_17_x86_64.manylinux2014_x86_64.whl.metadata (17 kB)\n",
      "Requirement already satisfied: uproot>=5.3.10 in /opt/conda/lib/python3.11/site-packages (5.6.1)\n",
      "Collecting uproot>=5.3.10\n",
      "  Downloading uproot-5.6.3-py3-none-any.whl.metadata (33 kB)\n",
      "Requirement already satisfied: uproot3>=3.14.4 in /opt/conda/lib/python3.11/site-packages (3.14.4)\n",
      "Requirement already satisfied: fsspec-xrootd>=0.5.1 in /opt/conda/lib/python3.11/site-packages (0.5.1)\n",
      "Requirement already satisfied: jupyterlab_latex~=3.1.0 in /opt/conda/lib/python3.11/site-packages (3.1.0)\n",
      "Requirement already satisfied: vector>=1.4.1 in /opt/conda/lib/python3.11/site-packages (1.6.2)\n",
      "INFO: pip is looking at multiple versions of coffea to determine which version is compatible with other requirements. This could take a while.\n",
      "Collecting coffea~=0.7.0\n",
      "  Downloading coffea-0.7.28-py2.py3-none-any.whl.metadata (9.6 kB)\n",
      "  Downloading coffea-0.7.27-py2.py3-none-any.whl.metadata (9.6 kB)\n",
      "  Downloading coffea-0.7.26-py2.py3-none-any.whl.metadata (9.6 kB)\n",
      "  Downloading coffea-0.7.25-py2.py3-none-any.whl.metadata (9.5 kB)\n",
      "  Downloading coffea-0.7.24-py2.py3-none-any.whl.metadata (9.5 kB)\n",
      "  Downloading coffea-0.7.23-py2.py3-none-any.whl.metadata (9.5 kB)\n",
      "  Downloading coffea-0.7.22-py2.py3-none-any.whl.metadata (6.5 kB)\n",
      "INFO: pip is still looking at multiple versions of coffea to determine which version is compatible with other requirements. This could take a while.\n",
      "  Downloading coffea-0.7.21-py2.py3-none-any.whl.metadata (6.5 kB)\n",
      "  Downloading coffea-0.7.20-py2.py3-none-any.whl.metadata (6.4 kB)\n",
      "  Downloading coffea-0.7.19-py2.py3-none-any.whl.metadata (6.2 kB)\n",
      "  Downloading coffea-0.7.18-py2.py3-none-any.whl.metadata (6.2 kB)\n",
      "  Downloading coffea-0.7.17-py2.py3-none-any.whl.metadata (6.2 kB)\n",
      "INFO: This is taking longer than usual. You might need to provide the dependency resolver with stricter constraints to reduce runtime. See https://pip.pypa.io/warnings/backtracking for guidance. If you want to abort this run, press Ctrl + C.\n",
      "  Downloading coffea-0.7.16-py2.py3-none-any.whl.metadata (6.2 kB)\n",
      "  Downloading coffea-0.7.15-py2.py3-none-any.whl.metadata (6.2 kB)\n",
      "  Downloading coffea-0.7.14-py2.py3-none-any.whl.metadata (6.1 kB)\n",
      "  Downloading coffea-0.7.13-py2.py3-none-any.whl.metadata (6.1 kB)\n",
      "  Downloading coffea-0.7.12-py2.py3-none-any.whl.metadata (6.1 kB)\n",
      "  Downloading coffea-0.7.11-py2.py3-none-any.whl.metadata (6.1 kB)\n",
      "  Downloading coffea-0.7.10-py2.py3-none-any.whl.metadata (6.1 kB)\n",
      "  Downloading coffea-0.7.9-py2.py3-none-any.whl.metadata (6.1 kB)\n",
      "Requirement already satisfied: uproot3-methods>=0.10.0 in /opt/conda/lib/python3.11/site-packages (from coffea~=0.7.0) (0.10.1)\n",
      "Requirement already satisfied: pyarrow>=1.0.0 in /opt/conda/lib/python3.11/site-packages (from coffea~=0.7.0) (13.0.0)\n",
      "Requirement already satisfied: fsspec in /opt/conda/lib/python3.11/site-packages (from coffea~=0.7.0) (2023.9.2)\n",
      "Requirement already satisfied: numba>=0.50.0 in /opt/conda/lib/python3.11/site-packages (from coffea~=0.7.0) (0.61.2)\n",
      "Requirement already satisfied: scipy>=1.1.0 in /opt/conda/lib/python3.11/site-packages (from coffea~=0.7.0) (1.11.3)\n",
      "Requirement already satisfied: tqdm>=4.27.0 in /opt/conda/lib/python3.11/site-packages (from coffea~=0.7.0) (4.66.1)\n",
      "Requirement already satisfied: lz4 in /opt/conda/lib/python3.11/site-packages (from coffea~=0.7.0) (4.3.2)\n",
      "Requirement already satisfied: cloudpickle>=1.2.3 in /opt/conda/lib/python3.11/site-packages (from coffea~=0.7.0) (3.0.0)\n",
      "Requirement already satisfied: mplhep>=0.1.18 in /opt/conda/lib/python3.11/site-packages (from coffea~=0.7.0) (0.3.59)\n",
      "Requirement already satisfied: packaging in /opt/conda/lib/python3.11/site-packages (from coffea~=0.7.0) (23.2)\n",
      "Requirement already satisfied: cachetools in /opt/conda/lib/python3.11/site-packages (from coffea~=0.7.0) (5.5.2)\n",
      "Requirement already satisfied: jinja2 in /opt/conda/lib/python3.11/site-packages (from notebook<7) (3.1.2)\n",
      "Requirement already satisfied: tornado>=6.1 in /opt/conda/lib/python3.11/site-packages (from notebook<7) (6.3.3)\n",
      "Requirement already satisfied: pyzmq>=17 in /opt/conda/lib/python3.11/site-packages (from notebook<7) (25.1.1)\n",
      "Requirement already satisfied: argon2-cffi in /opt/conda/lib/python3.11/site-packages (from notebook<7) (23.1.0)\n",
      "Requirement already satisfied: traitlets>=4.2.1 in /opt/conda/lib/python3.11/site-packages (from notebook<7) (5.11.2)\n",
      "Requirement already satisfied: jupyter-core>=4.6.1 in /opt/conda/lib/python3.11/site-packages (from notebook<7) (5.4.0)\n",
      "Requirement already satisfied: jupyter-client<8,>=5.3.4 in /opt/conda/lib/python3.11/site-packages (from notebook<7) (7.4.9)\n",
      "Requirement already satisfied: ipython-genutils in /opt/conda/lib/python3.11/site-packages (from notebook<7) (0.2.0)\n",
      "Requirement already satisfied: nbformat in /opt/conda/lib/python3.11/site-packages (from notebook<7) (5.9.2)\n",
      "Requirement already satisfied: nbconvert>=5 in /opt/conda/lib/python3.11/site-packages (from notebook<7) (7.9.2)\n",
      "Requirement already satisfied: nest-asyncio>=1.5 in /opt/conda/lib/python3.11/site-packages (from notebook<7) (1.5.8)\n",
      "Requirement already satisfied: Send2Trash>=1.8.0 in /opt/conda/lib/python3.11/site-packages (from notebook<7) (1.8.2)\n",
      "Requirement already satisfied: terminado>=0.8.3 in /opt/conda/lib/python3.11/site-packages (from notebook<7) (0.17.1)\n",
      "Requirement already satisfied: prometheus-client in /opt/conda/lib/python3.11/site-packages (from notebook<7) (0.17.1)\n",
      "Requirement already satisfied: nbclassic>=0.4.7 in /opt/conda/lib/python3.11/site-packages (from notebook<7) (1.0.0)\n",
      "Requirement already satisfied: jupyterlab<4,>=3 in /opt/conda/lib/python3.11/site-packages (from jupyterlab_latex~=3.1.0) (3.6.8)\n",
      "Requirement already satisfied: jupyter-server<2,>=1.6 in /opt/conda/lib/python3.11/site-packages (from jupyterlab_latex~=3.1.0) (1.24.0)\n",
      "Requirement already satisfied: entrypoints in /opt/conda/lib/python3.11/site-packages (from jupyter-client<8,>=5.3.4->notebook<7) (0.4)\n",
      "Requirement already satisfied: python-dateutil>=2.8.2 in /opt/conda/lib/python3.11/site-packages (from jupyter-client<8,>=5.3.4->notebook<7) (2.8.2)\n",
      "Requirement already satisfied: anyio<4,>=3.1.0 in /opt/conda/lib/python3.11/site-packages (from jupyter-server<2,>=1.6->jupyterlab_latex~=3.1.0) (3.7.1)\n",
      "Requirement already satisfied: websocket-client in /opt/conda/lib/python3.11/site-packages (from jupyter-server<2,>=1.6->jupyterlab_latex~=3.1.0) (1.6.4)\n",
      "Requirement already satisfied: idna>=2.8 in /opt/conda/lib/python3.11/site-packages (from anyio<4,>=3.1.0->jupyter-server<2,>=1.6->jupyterlab_latex~=3.1.0) (3.4)\n",
      "Requirement already satisfied: sniffio>=1.1 in /opt/conda/lib/python3.11/site-packages (from anyio<4,>=3.1.0->jupyter-server<2,>=1.6->jupyterlab_latex~=3.1.0) (1.3.0)\n",
      "Requirement already satisfied: ipython in /opt/conda/lib/python3.11/site-packages (from jupyterlab<4,>=3->jupyterlab_latex~=3.1.0) (8.16.1)\n",
      "Requirement already satisfied: jupyterlab-server~=2.19 in /opt/conda/lib/python3.11/site-packages (from jupyterlab<4,>=3->jupyterlab_latex~=3.1.0) (2.25.0)\n",
      "Requirement already satisfied: jupyter-ydoc~=0.2.4 in /opt/conda/lib/python3.11/site-packages (from jupyterlab<4,>=3->jupyterlab_latex~=3.1.0) (0.2.5)\n",
      "Requirement already satisfied: jupyter-server-ydoc~=0.8.0 in /opt/conda/lib/python3.11/site-packages (from jupyterlab<4,>=3->jupyterlab_latex~=3.1.0) (0.8.0)\n",
      "Requirement already satisfied: jupyter-server-fileid<1,>=0.6.0 in /opt/conda/lib/python3.11/site-packages (from jupyter-server-ydoc~=0.8.0->jupyterlab<4,>=3->jupyterlab_latex~=3.1.0) (0.9.3)\n",
      "Requirement already satisfied: ypy-websocket<0.9.0,>=0.8.2 in /opt/conda/lib/python3.11/site-packages (from jupyter-server-ydoc~=0.8.0->jupyterlab<4,>=3->jupyterlab_latex~=3.1.0) (0.8.4)\n",
      "Requirement already satisfied: jupyter-events>=0.5.0 in /opt/conda/lib/python3.11/site-packages (from jupyter-server-fileid<1,>=0.6.0->jupyter-server-ydoc~=0.8.0->jupyterlab<4,>=3->jupyterlab_latex~=3.1.0) (0.8.0)\n",
      "Requirement already satisfied: y-py<0.7.0,>=0.6.0 in /opt/conda/lib/python3.11/site-packages (from jupyter-ydoc~=0.2.4->jupyterlab<4,>=3->jupyterlab_latex~=3.1.0) (0.6.2)\n",
      "Requirement already satisfied: babel>=2.10 in /opt/conda/lib/python3.11/site-packages (from jupyterlab-server~=2.19->jupyterlab<4,>=3->jupyterlab_latex~=3.1.0) (2.13.0)\n",
      "Requirement already satisfied: json5>=0.9.0 in /opt/conda/lib/python3.11/site-packages (from jupyterlab-server~=2.19->jupyterlab<4,>=3->jupyterlab_latex~=3.1.0) (0.9.14)\n",
      "Requirement already satisfied: jsonschema>=4.18.0 in /opt/conda/lib/python3.11/site-packages (from jupyterlab-server~=2.19->jupyterlab<4,>=3->jupyterlab_latex~=3.1.0) (4.19.1)\n",
      "Requirement already satisfied: requests>=2.31 in /opt/conda/lib/python3.11/site-packages (from jupyterlab-server~=2.19->jupyterlab<4,>=3->jupyterlab_latex~=3.1.0) (2.31.0)\n",
      "Requirement already satisfied: aiofiles<23,>=22.1.0 in /opt/conda/lib/python3.11/site-packages (from ypy-websocket<0.9.0,>=0.8.2->jupyter-server-ydoc~=0.8.0->jupyterlab<4,>=3->jupyterlab_latex~=3.1.0) (22.1.0)\n",
      "Requirement already satisfied: aiosqlite<1,>=0.17.0 in /opt/conda/lib/python3.11/site-packages (from ypy-websocket<0.9.0,>=0.8.2->jupyter-server-ydoc~=0.8.0->jupyterlab<4,>=3->jupyterlab_latex~=3.1.0) (0.21.0)\n",
      "Requirement already satisfied: typing_extensions>=4.0 in /opt/conda/lib/python3.11/site-packages (from aiosqlite<1,>=0.17.0->ypy-websocket<0.9.0,>=0.8.2->jupyter-server-ydoc~=0.8.0->jupyterlab<4,>=3->jupyterlab_latex~=3.1.0) (4.8.0)\n",
      "Requirement already satisfied: aiohappyeyeballs>=2.5.0 in /opt/conda/lib/python3.11/site-packages (from aiohttp>=3.9.5) (2.6.1)\n",
      "Requirement already satisfied: aiosignal>=1.1.2 in /opt/conda/lib/python3.11/site-packages (from aiohttp>=3.9.5) (1.3.2)\n",
      "Requirement already satisfied: attrs>=17.3.0 in /opt/conda/lib/python3.11/site-packages (from aiohttp>=3.9.5) (23.1.0)\n",
      "Requirement already satisfied: frozenlist>=1.1.1 in /opt/conda/lib/python3.11/site-packages (from aiohttp>=3.9.5) (1.6.0)\n",
      "Requirement already satisfied: multidict<7.0,>=4.5 in /opt/conda/lib/python3.11/site-packages (from aiohttp>=3.9.5) (6.4.3)\n",
      "Requirement already satisfied: propcache>=0.2.0 in /opt/conda/lib/python3.11/site-packages (from aiohttp>=3.9.5) (0.3.1)\n",
      "Requirement already satisfied: yarl<2.0,>=1.17.0 in /opt/conda/lib/python3.11/site-packages (from aiohttp>=3.9.5) (1.20.0)\n",
      "Requirement already satisfied: pyyaml in /opt/conda/lib/python3.11/site-packages (from atlasopenmagic>=1.0.1) (6.0.1)\n"
     ]
    },
    {
     "name": "stdout",
     "output_type": "stream",
     "text": [
      "Collecting awkward-cpp==47 (from awkward>=2.6.7)\n",
      "  Downloading awkward_cpp-47-cp311-cp311-manylinux_2_27_x86_64.manylinux_2_28_x86_64.whl.metadata (2.1 kB)\n",
      "Requirement already satisfied: importlib-metadata>=4.13.0 in /opt/conda/lib/python3.11/site-packages (from awkward>=2.6.7) (6.8.0)\n",
      "Requirement already satisfied: boost-histogram<1.6,>=1.3.1 in /opt/conda/lib/python3.11/site-packages (from hist>=2.8.0) (1.5.2)\n",
      "Requirement already satisfied: histoprint>=2.2.0 in /opt/conda/lib/python3.11/site-packages (from hist>=2.8.0) (2.6.0)\n",
      "Requirement already satisfied: comm>=0.1.1 in /opt/conda/lib/python3.11/site-packages (from ipykernel>=6.29.5) (0.1.4)\n",
      "Requirement already satisfied: debugpy>=1.6.5 in /opt/conda/lib/python3.11/site-packages (from ipykernel>=6.29.5) (1.8.0)\n",
      "Requirement already satisfied: matplotlib-inline>=0.1 in /opt/conda/lib/python3.11/site-packages (from ipykernel>=6.29.5) (0.1.6)\n",
      "Requirement already satisfied: psutil in /opt/conda/lib/python3.11/site-packages (from ipykernel>=6.29.5) (5.9.5)\n",
      "Requirement already satisfied: jupyter-console in /opt/conda/lib/python3.11/site-packages (from jupyter>=1.0.0) (6.6.3)\n",
      "Requirement already satisfied: ipywidgets in /opt/conda/lib/python3.11/site-packages (from jupyter>=1.0.0) (8.1.1)\n",
      "Requirement already satisfied: asteval>=1.0 in /opt/conda/lib/python3.11/site-packages (from lmfit>=1.3.2) (1.0.6)\n",
      "Requirement already satisfied: uncertainties>=3.2.2 in /opt/conda/lib/python3.11/site-packages (from lmfit>=1.3.2) (3.2.3)\n",
      "Requirement already satisfied: dill>=0.3.4 in /opt/conda/lib/python3.11/site-packages (from lmfit>=1.3.2) (0.3.7)\n",
      "Requirement already satisfied: contourpy>=1.0.1 in /opt/conda/lib/python3.11/site-packages (from matplotlib>=3.9.1) (1.1.1)\n",
      "Requirement already satisfied: cycler>=0.10 in /opt/conda/lib/python3.11/site-packages (from matplotlib>=3.9.1) (0.12.1)\n",
      "Requirement already satisfied: fonttools>=4.22.0 in /opt/conda/lib/python3.11/site-packages (from matplotlib>=3.9.1) (4.43.1)\n",
      "Requirement already satisfied: kiwisolver>=1.3.1 in /opt/conda/lib/python3.11/site-packages (from matplotlib>=3.9.1) (1.4.5)\n",
      "Requirement already satisfied: pillow>=8 in /opt/conda/lib/python3.11/site-packages (from matplotlib>=3.9.1) (10.4.0)\n",
      "Requirement already satisfied: pyparsing>=2.3.1 in /opt/conda/lib/python3.11/site-packages (from matplotlib>=3.9.1) (3.1.1)\n",
      "Requirement already satisfied: jedi>=0.18 in /opt/conda/lib/python3.11/site-packages (from metakernel>=0.30.2) (0.19.1)\n",
      "Requirement already satisfied: pexpect>=4.8 in /opt/conda/lib/python3.11/site-packages (from metakernel>=0.30.2) (4.8.0)\n",
      "Requirement already satisfied: pytz>=2020.1 in /opt/conda/lib/python3.11/site-packages (from pandas>=2.2.2) (2023.3.post1)\n",
      "Requirement already satisfied: tzdata>=2022.7 in /opt/conda/lib/python3.11/site-packages (from pandas>=2.2.2) (2023.3)\n",
      "Requirement already satisfied: click in /opt/conda/lib/python3.11/site-packages (from papermill>=2.6.0) (8.1.7)\n",
      "Requirement already satisfied: nbclient>=0.2.0 in /opt/conda/lib/python3.11/site-packages (from papermill>=2.6.0) (0.8.0)\n",
      "Requirement already satisfied: tenacity>=5.0.2 in /opt/conda/lib/python3.11/site-packages (from papermill>=2.6.0) (9.1.2)\n",
      "Requirement already satisfied: ansicolors in /opt/conda/lib/python3.11/site-packages (from papermill>=2.6.0) (1.1.8)\n",
      "Requirement already satisfied: joblib>=1.2.0 in /opt/conda/lib/python3.11/site-packages (from scikit-learn>=1.5.1) (1.3.2)\n",
      "Requirement already satisfied: threadpoolctl>=3.1.0 in /opt/conda/lib/python3.11/site-packages (from scikit-learn>=1.5.1) (3.2.0)\n",
      "Requirement already satisfied: cramjam>=2.5.0 in /opt/conda/lib/python3.11/site-packages (from uproot>=5.3.10) (2.10.0)\n",
      "Requirement already satisfied: xxhash in /opt/conda/lib/python3.11/site-packages (from uproot>=5.3.10) (3.5.0)\n",
      "Requirement already satisfied: awkward0 in /opt/conda/lib/python3.11/site-packages (from uproot3>=3.14.4) (0.15.5)\n",
      "Requirement already satisfied: uhi>=0.2.1 in /opt/conda/lib/python3.11/site-packages (from histoprint>=2.2.0->hist>=2.8.0) (0.5.0)\n",
      "Requirement already satisfied: zipp>=0.5 in /opt/conda/lib/python3.11/site-packages (from importlib-metadata>=4.13.0->awkward>=2.6.7) (3.17.0)\n",
      "Requirement already satisfied: backcall in /opt/conda/lib/python3.11/site-packages (from ipython->jupyterlab<4,>=3->jupyterlab_latex~=3.1.0) (0.2.0)\n",
      "Requirement already satisfied: decorator in /opt/conda/lib/python3.11/site-packages (from ipython->jupyterlab<4,>=3->jupyterlab_latex~=3.1.0) (5.1.1)\n",
      "Requirement already satisfied: pickleshare in /opt/conda/lib/python3.11/site-packages (from ipython->jupyterlab<4,>=3->jupyterlab_latex~=3.1.0) (0.7.5)\n",
      "Requirement already satisfied: prompt-toolkit!=3.0.37,<3.1.0,>=3.0.30 in /opt/conda/lib/python3.11/site-packages (from ipython->jupyterlab<4,>=3->jupyterlab_latex~=3.1.0) (3.0.39)\n",
      "Requirement already satisfied: pygments>=2.4.0 in /opt/conda/lib/python3.11/site-packages (from ipython->jupyterlab<4,>=3->jupyterlab_latex~=3.1.0) (2.16.1)\n",
      "Requirement already satisfied: stack-data in /opt/conda/lib/python3.11/site-packages (from ipython->jupyterlab<4,>=3->jupyterlab_latex~=3.1.0) (0.6.2)\n",
      "Requirement already satisfied: wcwidth in /opt/conda/lib/python3.11/site-packages (from prompt-toolkit!=3.0.37,<3.1.0,>=3.0.30->ipython->jupyterlab<4,>=3->jupyterlab_latex~=3.1.0) (0.2.8)\n",
      "Requirement already satisfied: parso<0.9.0,>=0.8.3 in /opt/conda/lib/python3.11/site-packages (from jedi>=0.18->metakernel>=0.30.2) (0.8.3)\n",
      "Requirement already satisfied: MarkupSafe>=2.0 in /opt/conda/lib/python3.11/site-packages (from jinja2->notebook<7) (2.1.3)\n",
      "Requirement already satisfied: jsonschema-specifications>=2023.03.6 in /opt/conda/lib/python3.11/site-packages (from jsonschema>=4.18.0->jupyterlab-server~=2.19->jupyterlab<4,>=3->jupyterlab_latex~=3.1.0) (2023.7.1)\n",
      "Requirement already satisfied: referencing>=0.28.4 in /opt/conda/lib/python3.11/site-packages (from jsonschema>=4.18.0->jupyterlab-server~=2.19->jupyterlab<4,>=3->jupyterlab_latex~=3.1.0) (0.30.2)\n",
      "Requirement already satisfied: rpds-py>=0.7.1 in /opt/conda/lib/python3.11/site-packages (from jsonschema>=4.18.0->jupyterlab-server~=2.19->jupyterlab<4,>=3->jupyterlab_latex~=3.1.0) (0.10.6)\n",
      "Requirement already satisfied: platformdirs>=2.5 in /opt/conda/lib/python3.11/site-packages (from jupyter-core>=4.6.1->notebook<7) (3.11.0)\n",
      "Requirement already satisfied: python-json-logger>=2.0.4 in /opt/conda/lib/python3.11/site-packages (from jupyter-events>=0.5.0->jupyter-server-fileid<1,>=0.6.0->jupyter-server-ydoc~=0.8.0->jupyterlab<4,>=3->jupyterlab_latex~=3.1.0) (2.0.7)\n",
      "Requirement already satisfied: rfc3339-validator in /opt/conda/lib/python3.11/site-packages (from jupyter-events>=0.5.0->jupyter-server-fileid<1,>=0.6.0->jupyter-server-ydoc~=0.8.0->jupyterlab<4,>=3->jupyterlab_latex~=3.1.0) (0.1.4)\n",
      "Requirement already satisfied: rfc3986-validator>=0.1.1 in /opt/conda/lib/python3.11/site-packages (from jupyter-events>=0.5.0->jupyter-server-fileid<1,>=0.6.0->jupyter-server-ydoc~=0.8.0->jupyterlab<4,>=3->jupyterlab_latex~=3.1.0) (0.1.1)\n",
      "Requirement already satisfied: fqdn in /opt/conda/lib/python3.11/site-packages (from jsonschema[format-nongpl]>=4.18.0->jupyter-events>=0.5.0->jupyter-server-fileid<1,>=0.6.0->jupyter-server-ydoc~=0.8.0->jupyterlab<4,>=3->jupyterlab_latex~=3.1.0) (1.5.1)\n",
      "Requirement already satisfied: isoduration in /opt/conda/lib/python3.11/site-packages (from jsonschema[format-nongpl]>=4.18.0->jupyter-events>=0.5.0->jupyter-server-fileid<1,>=0.6.0->jupyter-server-ydoc~=0.8.0->jupyterlab<4,>=3->jupyterlab_latex~=3.1.0) (20.11.0)\n",
      "Requirement already satisfied: jsonpointer>1.13 in /opt/conda/lib/python3.11/site-packages (from jsonschema[format-nongpl]>=4.18.0->jupyter-events>=0.5.0->jupyter-server-fileid<1,>=0.6.0->jupyter-server-ydoc~=0.8.0->jupyterlab<4,>=3->jupyterlab_latex~=3.1.0) (2.4)\n",
      "Requirement already satisfied: uri-template in /opt/conda/lib/python3.11/site-packages (from jsonschema[format-nongpl]>=4.18.0->jupyter-events>=0.5.0->jupyter-server-fileid<1,>=0.6.0->jupyter-server-ydoc~=0.8.0->jupyterlab<4,>=3->jupyterlab_latex~=3.1.0) (1.3.0)\n",
      "Requirement already satisfied: webcolors>=1.11 in /opt/conda/lib/python3.11/site-packages (from jsonschema[format-nongpl]>=4.18.0->jupyter-events>=0.5.0->jupyter-server-fileid<1,>=0.6.0->jupyter-server-ydoc~=0.8.0->jupyterlab<4,>=3->jupyterlab_latex~=3.1.0) (1.13)\n",
      "Requirement already satisfied: mplhep-data>=0.0.4 in /opt/conda/lib/python3.11/site-packages (from mplhep>=0.1.18->coffea~=0.7.0) (0.0.4)\n",
      "Requirement already satisfied: notebook-shim>=0.2.3 in /opt/conda/lib/python3.11/site-packages (from nbclassic>=0.4.7->notebook<7) (0.2.3)\n",
      "Requirement already satisfied: beautifulsoup4 in /opt/conda/lib/python3.11/site-packages (from nbconvert>=5->notebook<7) (4.12.2)\n",
      "Requirement already satisfied: bleach!=5.0.0 in /opt/conda/lib/python3.11/site-packages (from nbconvert>=5->notebook<7) (6.1.0)\n",
      "Requirement already satisfied: defusedxml in /opt/conda/lib/python3.11/site-packages (from nbconvert>=5->notebook<7) (0.7.1)\n",
      "Requirement already satisfied: jupyterlab-pygments in /opt/conda/lib/python3.11/site-packages (from nbconvert>=5->notebook<7) (0.2.2)\n",
      "Requirement already satisfied: mistune<4,>=2.0.3 in /opt/conda/lib/python3.11/site-packages (from nbconvert>=5->notebook<7) (3.0.1)\n",
      "Requirement already satisfied: pandocfilters>=1.4.1 in /opt/conda/lib/python3.11/site-packages (from nbconvert>=5->notebook<7) (1.5.0)\n",
      "Requirement already satisfied: tinycss2 in /opt/conda/lib/python3.11/site-packages (from nbconvert>=5->notebook<7) (1.2.1)\n",
      "Requirement already satisfied: six>=1.9.0 in /opt/conda/lib/python3.11/site-packages (from bleach!=5.0.0->nbconvert>=5->notebook<7) (1.16.0)\n",
      "Requirement already satisfied: webencodings in /opt/conda/lib/python3.11/site-packages (from bleach!=5.0.0->nbconvert>=5->notebook<7) (0.5.1)\n",
      "Requirement already satisfied: fastjsonschema in /opt/conda/lib/python3.11/site-packages (from nbformat->notebook<7) (2.18.1)\n",
      "Requirement already satisfied: llvmlite<0.45,>=0.44.0dev0 in /opt/conda/lib/python3.11/site-packages (from numba>=0.50.0->coffea~=0.7.0) (0.44.0)\n",
      "Requirement already satisfied: ptyprocess>=0.5 in /opt/conda/lib/python3.11/site-packages (from pexpect>=4.8->metakernel>=0.30.2) (0.7.0)\n"
     ]
    },
    {
     "name": "stdout",
     "output_type": "stream",
     "text": [
      "Requirement already satisfied: charset-normalizer<4,>=2 in /opt/conda/lib/python3.11/site-packages (from requests>=2.31->jupyterlab-server~=2.19->jupyterlab<4,>=3->jupyterlab_latex~=3.1.0) (3.3.0)\n",
      "Requirement already satisfied: urllib3<3,>=1.21.1 in /opt/conda/lib/python3.11/site-packages (from requests>=2.31->jupyterlab-server~=2.19->jupyterlab<4,>=3->jupyterlab_latex~=3.1.0) (2.0.7)\n",
      "Requirement already satisfied: certifi>=2017.4.17 in /opt/conda/lib/python3.11/site-packages (from requests>=2.31->jupyterlab-server~=2.19->jupyterlab<4,>=3->jupyterlab_latex~=3.1.0) (2025.4.26)\n",
      "Requirement already satisfied: argon2-cffi-bindings in /opt/conda/lib/python3.11/site-packages (from argon2-cffi->notebook<7) (21.2.0)\n",
      "Requirement already satisfied: cffi>=1.0.1 in /opt/conda/lib/python3.11/site-packages (from argon2-cffi-bindings->argon2-cffi->notebook<7) (1.16.0)\n",
      "Requirement already satisfied: pycparser in /opt/conda/lib/python3.11/site-packages (from cffi>=1.0.1->argon2-cffi-bindings->argon2-cffi->notebook<7) (2.21)\n",
      "Requirement already satisfied: soupsieve>1.2 in /opt/conda/lib/python3.11/site-packages (from beautifulsoup4->nbconvert>=5->notebook<7) (2.5)\n",
      "Requirement already satisfied: widgetsnbextension~=4.0.9 in /opt/conda/lib/python3.11/site-packages (from ipywidgets->jupyter>=1.0.0) (4.0.9)\n",
      "Requirement already satisfied: jupyterlab-widgets~=3.0.9 in /opt/conda/lib/python3.11/site-packages (from ipywidgets->jupyter>=1.0.0) (3.0.9)\n",
      "Requirement already satisfied: arrow>=0.15.0 in /opt/conda/lib/python3.11/site-packages (from isoduration->jsonschema[format-nongpl]>=4.18.0->jupyter-events>=0.5.0->jupyter-server-fileid<1,>=0.6.0->jupyter-server-ydoc~=0.8.0->jupyterlab<4,>=3->jupyterlab_latex~=3.1.0) (1.3.0)\n",
      "Requirement already satisfied: types-python-dateutil>=2.8.10 in /opt/conda/lib/python3.11/site-packages (from arrow>=0.15.0->isoduration->jsonschema[format-nongpl]>=4.18.0->jupyter-events>=0.5.0->jupyter-server-fileid<1,>=0.6.0->jupyter-server-ydoc~=0.8.0->jupyterlab<4,>=3->jupyterlab_latex~=3.1.0) (2.8.19.14)\n",
      "Requirement already satisfied: executing>=1.2.0 in /opt/conda/lib/python3.11/site-packages (from stack-data->ipython->jupyterlab<4,>=3->jupyterlab_latex~=3.1.0) (1.2.0)\n",
      "Requirement already satisfied: asttokens>=2.1.0 in /opt/conda/lib/python3.11/site-packages (from stack-data->ipython->jupyterlab<4,>=3->jupyterlab_latex~=3.1.0) (2.4.0)\n",
      "Requirement already satisfied: pure-eval in /opt/conda/lib/python3.11/site-packages (from stack-data->ipython->jupyterlab<4,>=3->jupyterlab_latex~=3.1.0) (0.2.2)\n",
      "Downloading aiohttp-3.12.13-cp311-cp311-manylinux_2_17_x86_64.manylinux2014_x86_64.whl (1.7 MB)\n",
      "\u001b[2K   \u001b[90m━━━━━━━━━━━━━━━━━━━━━━━━━━━━━━━━━━━━━━━━\u001b[0m \u001b[32m1.7/1.7 MB\u001b[0m \u001b[31m30.4 MB/s\u001b[0m eta \u001b[36m0:00:00\u001b[0m\n",
      "\u001b[?25hDownloading atlasopenmagic-1.0.1-py3-none-any.whl (15 kB)\n",
      "Downloading awkward-2.8.5-py3-none-any.whl (886 kB)\n",
      "\u001b[2K   \u001b[90m━━━━━━━━━━━━━━━━━━━━━━━━━━━━━━━━━━━━━━━\u001b[0m \u001b[32m886.8/886.8 kB\u001b[0m \u001b[31m212.2 MB/s\u001b[0m eta \u001b[36m0:00:00\u001b[0m\n",
      "\u001b[?25hDownloading awkward_cpp-47-cp311-cp311-manylinux_2_27_x86_64.manylinux_2_28_x86_64.whl (638 kB)\n",
      "\u001b[2K   \u001b[90m━━━━━━━━━━━━━━━━━━━━━━━━━━━━━━━━━━━━━━━━\u001b[0m \u001b[32m638.8/638.8 kB\u001b[0m \u001b[31m73.3 MB/s\u001b[0m eta \u001b[36m0:00:00\u001b[0m\n",
      "\u001b[?25hDownloading matplotlib-3.10.3-cp311-cp311-manylinux_2_17_x86_64.manylinux2014_x86_64.whl (8.6 MB)\n",
      "\u001b[2K   \u001b[90m━━━━━━━━━━━━━━━━━━━━━━━━━━━━━━━━━━━━━━━━\u001b[0m \u001b[32m8.6/8.6 MB\u001b[0m \u001b[31m33.0 MB/s\u001b[0m eta \u001b[36m0:00:00\u001b[0ma \u001b[36m0:00:01\u001b[0m\n",
      "\u001b[?25hDownloading pandas-2.3.1-cp311-cp311-manylinux_2_17_x86_64.manylinux2014_x86_64.whl (12.4 MB)\n",
      "\u001b[2K   \u001b[90m━━━━━━━━━━━━━━━━━━━━━━━━━━━━━━━━━━━━━━━━\u001b[0m \u001b[32m12.4/12.4 MB\u001b[0m \u001b[31m35.0 MB/s\u001b[0m eta \u001b[36m0:00:00\u001b[0m \u001b[36m0:00:01\u001b[0m\n",
      "\u001b[?25hDownloading scikit_learn-1.7.0-cp311-cp311-manylinux_2_17_x86_64.manylinux2014_x86_64.whl (12.9 MB)\n",
      "\u001b[2K   \u001b[90m━━━━━━━━━━━━━━━━━━━━━━━━━━━━━━━━━━━━━━━━\u001b[0m \u001b[32m12.9/12.9 MB\u001b[0m \u001b[31m32.9 MB/s\u001b[0m eta \u001b[36m0:00:00\u001b[0m \u001b[36m0:00:01\u001b[0m\n",
      "\u001b[?25hDownloading uproot-5.6.3-py3-none-any.whl (382 kB)\n",
      "Installing collected packages: awkward-cpp, scikit-learn, pandas, matplotlib, awkward, atlasopenmagic, aiohttp, uproot\n",
      "\u001b[2K   \u001b[90m━━━━━━━━━━━━━━━━━━━━━━━━━━━━━━━━━━━━━━━━\u001b[0m \u001b[32m8/8\u001b[0m [uproot]2m7/8\u001b[0m [uproot]]ib]n]\n",
      "\u001b[1A\u001b[2KSuccessfully installed aiohttp-3.12.13 atlasopenmagic-1.0.1 awkward-2.8.5 awkward-cpp-47 matplotlib-3.10.3 pandas-2.3.1 scikit-learn-1.7.0 uproot-5.6.3\n"
     ]
    }
   ],
   "source": [
    "import sys\n",
    "import os.path\n",
    "!pip install atlasopenmagic\n",
    "from atlasopenmagic import install_from_environment\n",
    "install_from_environment()"
   ]
  },
  {
   "cell_type": "markdown",
   "metadata": {},
   "source": [
    "We're going to import a number of packages to help us:\n",
    "\n",
    "* `numpy`: provides numerical calculations such as histogramming\n",
    "\n",
    "* `matplotlib`: common tool for making plots, figures, images, visualisations\n",
    "\n",
    "* `uproot`: processes .root files typically used in particle physics into data formats used in python\n",
    "\n",
    "* `awkward`: introduces awkward arrays, a format that generalizes numpy to nested data with possibly variable length lists\n",
    "\n",
    "* `vector`: to allow vectorized 4-momentum calculations\n",
    "\n",
    "In case these imports fail, try restarting the jupyter kernel and running again; it may simply be that the modules we installed in the previous cell have not yet been fully loaded."
   ]
  },
  {
   "cell_type": "code",
   "execution_count": 2,
   "metadata": {},
   "outputs": [],
   "source": [
    "import numpy as np # for numerical calculations such as histogramming\n",
    "import matplotlib.pyplot as plt # for plotting\n",
    "import matplotlib_inline # to edit the inline plot format\n",
    "#matplotlib_inline.backend_inline.set_matplotlib_formats('pdf', 'svg') # to make plots in pdf (vector) format\n",
    "from matplotlib.ticker import AutoMinorLocator # for minor ticks\n",
    "import uproot # for reading .root files\n",
    "import awkward as ak # to represent nested data in columnar format\n",
    "import vector # for 4-momentum calculations\n",
    "import time # for printing time stamps\n",
    "import requests # for file gathering, if needed; for HTTP access"
   ]
  },
  {
   "cell_type": "code",
   "execution_count": 3,
   "metadata": {},
   "outputs": [],
   "source": [
    "# Get the files locally, rather than streaming the data (easier on the upstream servers)\n",
    "local_files = True"
   ]
  },
  {
   "cell_type": "markdown",
   "metadata": {},
   "source": [
    "Unit definitions, as stored in the data files:"
   ]
  },
  {
   "cell_type": "code",
   "execution_count": 4,
   "metadata": {},
   "outputs": [],
   "source": [
    "MeV = 0.001\n",
    "GeV = 1.0"
   ]
  },
  {
   "cell_type": "markdown",
   "metadata": {},
   "source": [
    "## Case Study: $Z \\rightarrow \\mu \\mu$"
   ]
  },
  {
   "cell_type": "markdown",
   "metadata": {},
   "source": [
    "To reinforce the ideas of systematic uncertainties and their propagation, we will apply these concepts by looking at jets formed in an ATLAS experiment. We will use the [atlasopenmagic](\"https://opendata.atlas.cern/docs/data/atlasopenmagic\") package to access the open data directly from the ATLAS OpenData Portal. The first step is import the module and load the release."
   ]
  },
  {
   "cell_type": "code",
   "execution_count": 5,
   "metadata": {},
   "outputs": [
    {
     "name": "stdout",
     "output_type": "stream",
     "text": [
      "{'2016e-8tev': '2016 Open Data for education release for 8 TeV proton-proton '\n",
      "               'collisions (https://opendata.cern/record/3860).',\n",
      " '2024r-pp': '2024 Open Data for research release for proton-proton collisions '\n",
      "             '(https://opendata.cern/record/80020).',\n",
      " '2025e-13tev-beta': '2025 Open Data for education and outreach beta release '\n",
      "                     'for 13 TeV proton-proton collisions '\n",
      "                     '(https://opendata.cern.ch/record/93910).'}\n"
     ]
    }
   ],
   "source": [
    "# ATLAS Open Data directory\n",
    "import atlasopenmagic as atom\n",
    "atom.available_releases()\n",
    "atom.set_release('2025e-13tev-beta')"
   ]
  },
  {
   "cell_type": "markdown",
   "metadata": {},
   "source": [
    "We next choose the `skim` for our analysis, which places cuts into our data. We will use the `2muons` skim."
   ]
  },
  {
   "cell_type": "code",
   "execution_count": 6,
   "metadata": {},
   "outputs": [],
   "source": [
    "# Select the skim to use for the analysis\n",
    "skim = \"2muons\""
   ]
  },
  {
   "cell_type": "markdown",
   "metadata": {},
   "source": [
    "For convenient naming and identification purposes, we define a dictionary which stores all the important names of the samples we want to pull from the database. The datset ID's can be found here on [this page](\"https://opendata.atlas.cern/docs/data/for_education/13TeV25_metadata\")."
   ]
  },
  {
   "cell_type": "code",
   "execution_count": 7,
   "metadata": {},
   "outputs": [],
   "source": [
    "mc_defs = { r'mu_mu': {'dids': [700323,700324,700325]} } # Dataset ID's for the 2muon data we want to explore\n",
    "\n",
    "mc_samples   = atom.build_mc_dataset(mc_defs, skim=skim, protocol='https')\n",
    "data_samples = atom.build_data_dataset(skim, protocol='https')\n",
    "\n",
    "samples = {**data_samples, **mc_samples}"
   ]
  },
  {
   "cell_type": "markdown",
   "metadata": {},
   "source": [
    "Let's try accessing the first file in the mu_mu dataset as an example."
   ]
  },
  {
   "cell_type": "code",
   "execution_count": 8,
   "metadata": {},
   "outputs": [
    {
     "data": {
      "text/plain": [
       "dict_keys(['Data', 'mu_mu'])"
      ]
     },
     "execution_count": 8,
     "metadata": {},
     "output_type": "execute_result"
    }
   ],
   "source": [
    "samples.keys()"
   ]
  },
  {
   "cell_type": "code",
   "execution_count": 9,
   "metadata": {},
   "outputs": [
    {
     "name": "stdout",
     "output_type": "stream",
     "text": [
      "value = 'https://opendata.cern.ch//eos/opendata/atlas/rucio/opendata/ODEO_FEB2025_v0_2muons_mc_700323.Sh_2211_Zmumu_maxHTpTV2_BFilter.2muons.root'\n"
     ]
    }
   ],
   "source": [
    "# We will use the first entry in 'list', from the 'mu_mu' dataset\n",
    "value = samples['mu_mu']['list'][0]\n",
    "print(f\"{value = }\")\n",
    "\n",
    "# We can keep this file URL to peek into it and understanding what our data looks like\n",
    "mu_mu_file = value"
   ]
  },
  {
   "cell_type": "markdown",
   "metadata": {},
   "source": [
    "Next, let's open the `mu_mu_file file` to see what's inside. The file contains a `tree`, which contains multiple entries, each representing an event. For each event, a dictionary stores all relevant information with keys, such as the event number (`eventNumber`), the photon transverse momentum (`photon_pt`), and more. (More information on trees can be viewed [here](\"https://notebooks.githubusercontent.com/view/%22https://masonproffitt.github.io/uproot-tutorial/03-trees/index.html%22\").)"
   ]
  },
  {
   "cell_type": "code",
   "execution_count": 10,
   "metadata": {},
   "outputs": [
    {
     "name": "stdout",
     "output_type": "stream",
     "text": [
      "Downloading https://opendata.cern.ch//eos/opendata/atlas/rucio/opendata/ODEO_FEB2025_v0_2muons_mc_700323.Sh_2211_Zmumu_maxHTpTV2_BFilter.2muons.root to ODEO_FEB2025_v0_2muons_mc_700323.Sh_2211_Zmumu_maxHTpTV2_BFilter.2muons.root ...\n",
      "\n",
      " The number of entries in the tree are: 2302345\n",
      "\n",
      " The information stored in the tree is: ['is_muon', 'n_muon', 'num_events', 'sum_of_weights', 'sum_of_weights_squared', 'xsec', 'kfac', 'filteff', 'TriggerMatch_DILEPTON', 'ScaleFactor_MLTRIGGER', 'ScaleFactor_PILEUP', 'ScaleFactor_FTAG', 'mcWeight', 'channelNumber', 'eventNumber', 'runNumber', 'trigML', 'trigP', 'trigDT', 'trigT', 'trigE', 'trigDM', 'trigDE', 'trigM', 'trigMET', 'ScaleFactor_BTAG', 'ScaleFactor_JVT', 'jet_n', 'jet_pt', 'jet_eta', 'jet_phi', 'jet_e', 'jet_btag_quantile', 'jet_jvt', 'largeRJet_n', 'largeRJet_pt', 'largeRJet_eta', 'largeRJet_phi', 'largeRJet_e', 'largeRJet_m', 'largeRJet_D2', 'jet_pt_jer1', 'jet_pt_jer2', 'ScaleFactor_ELE', 'ScaleFactor_MUON', 'ScaleFactor_LepTRIGGER', 'ScaleFactor_MuTRIGGER', 'ScaleFactor_ElTRIGGER', 'lep_n', 'lep_type', 'lep_pt', 'lep_eta', 'lep_phi', 'lep_e', 'lep_charge', 'lep_ptvarcone30', 'lep_topoetcone20', 'lep_z0', 'lep_d0', 'lep_d0sig', 'lep_isTightID', 'lep_isMediumID', 'lep_isLooseID', 'lep_isTightIso', 'lep_isLooseIso', 'lep_isTrigMatched', 'ScaleFactor_PHOTON', 'photon_n', 'photon_pt', 'photon_eta', 'photon_phi', 'photon_e', 'photon_ptcone20', 'photon_topoetcone40', 'photon_isLooseID', 'photon_isTightID', 'photon_isLooseIso', 'photon_isTightIso', 'ScaleFactor_TAU', 'ScaleFactor_TauTRIGGER', 'ScaleFactor_DiTauTRIGGER', 'tau_n', 'tau_pt', 'tau_eta', 'tau_phi', 'tau_e', 'tau_charge', 'tau_nTracks', 'tau_isTight', 'tau_RNNJetScore', 'tau_RNNEleScore', 'truth_jet_n', 'truth_jet_pt', 'truth_jet_eta', 'truth_jet_phi', 'truth_jet_m', 'truth_elec_n', 'truth_elec_pt', 'truth_elec_eta', 'truth_elec_phi', 'truth_muon_n', 'truth_muon_pt', 'truth_muon_eta', 'truth_muon_phi', 'truth_tau_n', 'truth_tau_pt', 'truth_tau_eta', 'truth_tau_phi', 'truth_photon_n', 'truth_photon_pt', 'truth_photon_eta', 'truth_photon_phi', 'truth_met', 'truth_met_phi', 'met', 'met_phi', 'met_mpx', 'met_mpy']\n"
     ]
    }
   ],
   "source": [
    "# Accessing the file from the online database (\":analysis\" opens the tree in a desired manner)\n",
    "if local_files:\n",
    "    \n",
    "    # Download the file, use a local copy\n",
    "    local_filename = mu_mu_file.split(\"/\")[-1]\n",
    "    print(f\"Downloading {mu_mu_file} to {local_filename} ...\")\n",
    "    \n",
    "    with requests.get(mu_mu_file, stream=True) as r:\n",
    "        r.raise_for_status()\n",
    "        with open(local_filename, \"wb\") as f:\n",
    "            for chunk in r.iter_content(chunk_size=8192):\n",
    "                f.write(chunk)\n",
    "                \n",
    "    tree = uproot.open(local_filename + \":analysis\")\n",
    "else: # Stream files\n",
    "    tree = uproot.open(mu_mu_file + \":analysis\")\n",
    "    \n",
    "# The number of entries in the tree can be viewed\n",
    "print(\"\\n The number of entries in the tree are:\", tree.num_entries)\n",
    "\n",
    "# All the information stored in the tree can be viewed using the .keys() method.\n",
    "print(\"\\n The information stored in the tree is:\", tree.keys())"
   ]
  },
  {
   "cell_type": "markdown",
   "metadata": {},
   "source": [
    "Whoa---that's a lot of variables! Thankfully, we will only need very few of them in this analysis. As we go along through this notebook, we will take the variables that we need from this list. (Details on the variables in the dictionary can be viewed [here](\"https://notebooks.githubusercontent.com/view/%22https://opendata.atlas.cern/docs/data/for_education/13TeV25_details#variable-list%22\").)\n",
    "\n",
    "Now that we understand how to access the information in this `tree`, we can begin the analysis. "
   ]
  },
  {
   "cell_type": "code",
   "execution_count": 11,
   "metadata": {},
   "outputs": [
    {
     "data": {
      "text/plain": [
       "<generator object HasBranches.iterate at 0x55ce3b37a670>"
      ]
     },
     "execution_count": 11,
     "metadata": {},
     "output_type": "execute_result"
    }
   ],
   "source": [
    "# Define what variables are important to our analysis\n",
    "jet_variables = ['jet_pt', 'jet_pt_jer1', 'jet_pt_jer2']\n",
    "\n",
    "# To see all the data for our given variables\n",
    "tree.iterate(jet_variables, library=\"ak\")"
   ]
  },
  {
   "cell_type": "markdown",
   "metadata": {},
   "source": [
    "Now that we have taken the variables we need from the tree, we now have to create an array for each variable, which stores the values for each variable."
   ]
  },
  {
   "cell_type": "code",
   "execution_count": 14,
   "metadata": {},
   "outputs": [],
   "source": [
    "for array in tree.iterate(jet_variables, library=\"ak\"):\n",
    "    # Creating arrays for truth_muon_pt, truth_muon_eta, and truth_muon_phi variables\n",
    "    jet_pt = array[\"jet_pt\"]\n",
    "    jet_pt_jer1 = array[\"jet_pt_jer1\"]\n",
    "    jet_pt_jer2 = array[\"jet_pt_jer2\"]\n",
    "\n",
    "    # Flatten to treat all muons across all events as one big list\n",
    "    jet_pt_flat = ak.flatten(jet_pt)\n",
    "    jet_pt_jer1_flat = ak.flatten(jet_pt_jer1)\n",
    "    jet_pt_jer2_flat = ak.flatten(jet_pt_jer2)"
   ]
  },
  {
   "cell_type": "markdown",
   "metadata": {},
   "source": [
    "To better see what we have just done, let's look at the first 5 entries of the `jet_pt` array:"
   ]
  },
  {
   "cell_type": "code",
   "execution_count": 16,
   "metadata": {},
   "outputs": [
    {
     "name": "stdout",
     "output_type": "stream",
     "text": [
      "jet_pt: [[55.1, 22.2], [177], [23.7], [50.6, 46.4, 35.3, 33.1, 23.4], [30.1]]\n"
     ]
    }
   ],
   "source": [
    "print(\"jet_pt:\", jet_pt[:5])"
   ]
  },
  {
   "cell_type": "markdown",
   "metadata": {},
   "source": [
    "This is an array that contains sub-arrays. Each sub-array represents an event and contains the values of the transverse momentum for each jet in that event. Since we want to look at every jet across all events, it is more convenient to make an array that contains all of these values as one big list. This was done by using `ak.flatten`. Let us look at the first 10 entries of the `jet_pt_flat` array:"
   ]
  },
  {
   "cell_type": "code",
   "execution_count": 17,
   "metadata": {},
   "outputs": [
    {
     "name": "stdout",
     "output_type": "stream",
     "text": [
      "jet_pt_flat: [55.1, 22.2, 177, 23.7, 50.6, 46.4, 35.3, 33.1, 23.4, 30.1]\n"
     ]
    }
   ],
   "source": [
    "print(\"jet_pt_flat:\", jet_pt_flat[:10])"
   ]
  },
  {
   "cell_type": "code",
   "execution_count": 56,
   "metadata": {},
   "outputs": [
    {
     "data": {
      "image/png": "[encoded data removed]",
      "text/plain": [
       "<Figure size 640x480 with 1 Axes>"
      ]
     },
     "metadata": {},
     "output_type": "display_data"
    }
   ],
   "source": [
    "# Data to plot on histogram\n",
    "data1 = ak.to_numpy(jet_pt_flat) \n",
    "data2 = ak.to_numpy(jet_pt_jer1_flat)\n",
    "data3 = ak.to_numpy(jet_pt_jer2_flat)\n",
    "\n",
    "# Plot histograms\n",
    "plt.hist(data1, bins=500, histtype='step', linewidth=1.5, label='jet_pt')\n",
    "plt.hist(data2, bins=500, histtype='step', linewidth=1.5, label='jet_pt_jer1')\n",
    "plt.hist(data3, bins=500, histtype='step', linewidth=1.5, label='jet_pt_jer2')\n",
    "\n",
    "# Set x-axis range\n",
    "plt.xlim(25, 150)\n",
    "\n",
    "# Add labels and legend\n",
    "plt.xlabel('Jet Transverse Momentum (GeV)')\n",
    "plt.ylabel('Counts')\n",
    "plt.title('Comparison of Jet Transverse Momentum Systematic Uncertainties')\n",
    "plt.legend()\n",
    "\n",
    "plt.show()"
   ]
  },
  {
   "cell_type": "code",
   "execution_count": 39,
   "metadata": {
    "scrolled": true
   },
   "outputs": [
    {
     "data": {
      "image/png": "[encoded data removed]",
      "text/plain": [
       "<Figure size 1000x300 with 2 Axes>"
      ]
     },
     "metadata": {},
     "output_type": "display_data"
    }
   ],
   "source": [
    "import numpy as np\n",
    "import matplotlib.pyplot as plt\n",
    "import matplotlib.colors as mcolors\n",
    "import matplotlib.cm as cm\n",
    "\n",
    "# Generate three datasets\n",
    "data1 = ak.to_numpy(jet_pt_flat) \n",
    "data2 = ak.to_numpy(jet_pt_jer1_flat)\n",
    "data3 = ak.to_numpy(jet_pt_jer2_flat)\n",
    "\n",
    "# Common bin edges for all histograms\n",
    "x_min, x_max = 25, 150\n",
    "bins = np.linspace(x_min, x_max, 50)\n",
    "\n",
    "# Compute histograms\n",
    "counts1, _ = np.histogram(data1, bins=bins)\n",
    "counts2, _ = np.histogram(data2, bins=bins)\n",
    "counts3, _ = np.histogram(data3, bins=bins)\n",
    "\n",
    "# Normalize counts for colormapping (independently or together)\n",
    "all_counts = np.concatenate([counts1, counts2, counts3])\n",
    "norm = mcolors.Normalize(vmin=all_counts.min(), vmax=all_counts.max())\n",
    "cmap = cm.viridis\n",
    "\n",
    "# Function to draw one horizontal bar\n",
    "def draw_colored_bar(ax, counts, y_bottom, height, cmap, norm):\n",
    "    for i in range(len(counts)):\n",
    "        ax.add_patch(plt.Rectangle(\n",
    "            (bins[i], y_bottom),        # (x, y) bottom-left\n",
    "            bins[i+1] - bins[i],        # width\n",
    "            height,                     # height\n",
    "            color=cmap(norm(counts[i])),\n",
    "            linewidth=0\n",
    "        ))\n",
    "\n",
    "# Set up plot\n",
    "fig, ax = plt.subplots(figsize=(10, 3))\n",
    "\n",
    "# Plot 3 horizontal bars at different y-positions\n",
    "draw_colored_bar(ax, counts1, y_bottom=2, height=0.8, cmap=cmap, norm=norm)\n",
    "draw_colored_bar(ax, counts2, y_bottom=1, height=0.8, cmap=cmap, norm=norm)\n",
    "draw_colored_bar(ax, counts3, y_bottom=0, height=0.8, cmap=cmap, norm=norm)\n",
    "\n",
    "# Labels\n",
    "ax.set_yticks([0.4, 1.4, 2.4])\n",
    "ax.set_yticklabels([\"jet_pt_jer2\", \"jet_pt_jer1\", \"jet_pt\"])\n",
    "ax.set_xlim(x_min, x_max)\n",
    "ax.set_ylim(-0.2, 3)\n",
    "ax.set_xlabel(\"Jet Transverse Momentum (GeV)\")\n",
    "ax.set_title(\"Comparison of Jet Transverse Momentum Systematic Uncertainties\")\n",
    "\n",
    "# Add colorbar\n",
    "sm = cm.ScalarMappable(cmap=cmap, norm=norm)\n",
    "sm.set_array([])\n",
    "cbar = plt.colorbar(sm, ax=ax, orientation='vertical')\n",
    "cbar.set_label(\"Bin Count\")\n",
    "\n",
    "plt.tight_layout()\n",
    "plt.show()"
   ]
  }
 ],
 "metadata": {
  "kernelspec": {
   "display_name": "Python 3 (ipykernel)",
   "language": "python",
   "name": "python3"
  },
  "language_info": {
   "codemirror_mode": {
    "name": "ipython",
    "version": 3
   },
   "file_extension": ".py",
   "mimetype": "text/x-python",
   "name": "python",
   "nbconvert_exporter": "python",
   "pygments_lexer": "ipython3",
   "version": "3.11.6"
  }
 },
 "nbformat": 4,
 "nbformat_minor": 4
}
