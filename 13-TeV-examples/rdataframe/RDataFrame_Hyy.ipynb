{
 "cells": [
  {
   "cell_type": "markdown",
   "id": "1a039390-4fe5-427e-9336-09266526ec6f",
   "metadata": {},
   "source": [
    "# Discovering the Higgs Boson Through Its Decay into Two Photons (H → γγ)"
   ]
  },
  {
   "cell_type": "markdown",
   "id": "3dfe21c2-bfa7-4a2b-b960-3084a6990522",
   "metadata": {},
   "source": [
    " In this notebook we are going to analyse ATLAS Open Data to find the Higgs boson in it's decay into two photons. Let's get started!"
   ]
  },
  {
   "cell_type": "markdown",
   "id": "1743798a-6a40-4e5e-9397-21f994899251",
   "metadata": {},
   "source": [
    "<CENTER><img src=\"../../images/ATLASOD.gif\" style=\"width:40%\"></CENTER>"
   ]
  },
  {
   "cell_type": "markdown",
   "id": "3fde0f80-924d-4dae-9a2e-2840da018e38",
   "metadata": {},
   "source": [
    "## What is the Higgs boson?\n",
    "The Higgs boson is a fundamental particle predicted by the Standard Model. It is a manifestation of the Higgs field, which gives mass to fundamental particles. However, it is incredibly difficult to produce. At the LHC, a Higgs particle is produced about once every 10 billion collisions, making it very challenging to detect.\n",
    "\n",
    "Despite this tiny fraction, years of data collection led to the discovery of the Higgs boson in 2012 by the CMS and ATLAS experiments at CERN. In this tutorial, we will follow their example."
   ]
  },
  {
   "cell_type": "markdown",
   "id": "5d0e3b70-acc8-4102-b8fb-44f7222e1c0e",
   "metadata": {},
   "source": [
    "## Higgs boson production\n",
    "The Higgs boson can be generated through various mechanisms. In particle physics, we use Feynman diagrams to illustrate these production modes. These diagrams help us visualize particle interactions and serve as essential tools for computations. For additional details on Feynman diagrams, see this [link](https://cds.cern.ch/record/2759490/files/Feynman%20Diagrams%20-%20ATLAS%20Cheat%20Sheet.pdf).\n",
    "\n",
    "There are four primary production modes for the Higgs boson, each represented by its own Feynman diagram:\n",
    "\n",
    "<div style=\"display: flex; flex-wrap: wrap; justify-content: center;\">\n",
    "  <div style=\"text-align: center; width: 40%; margin: 10px;\">\n",
    "    <img src=\"../uproot_python/images/ImagesHiggs/ggH.png\" style=\"width: 100%;\">\n",
    "    <p>a) Gluon-gluon fusion</p>\n",
    "  </div>\n",
    "\n",
    "  <div style=\"text-align: center; width: 35%; margin: 10px;\">\n",
    "    <img src=\"../uproot_python/images/ImagesHiggs/VBFH.png\" style=\"width: 100%;\">\n",
    "    <p>b) Vector boson fusion</p>\n",
    "  </div>\n",
    "\n",
    "  <div style=\"text-align: center; width: 40%; margin: 10px;\">\n",
    "    <img src=\"../uproot_python/images/ImagesHiggs/WH.png\" style=\"width: 100%;\">\n",
    "    <p>c) Vector boson bremsstrahlung</p>\n",
    "  </div>\n",
    "\n",
    "  <div style=\"text-align: center; width: 35%; margin: 10px;\">\n",
    "    <img src=\"../uproot_python/images/ImagesHiggs/ttbarfusion.png\" style=\"width: 100%;\">\n",
    "    <p>d) Top-antitop fusion</p>\n",
    "  </div>\n",
    "</div>"
   ]
  },
  {
   "cell_type": "markdown",
   "id": "249af2d1-ade3-4771-a60a-b140b18e20ab",
   "metadata": {},
   "source": [
    "## The decay into two photons\n",
    "\n",
    "The Higgs boson has an extremely brief lifetime, approximately $10^{-22} \\,\\text{s}$. It decays almost immediately after it is produced, making direct detection of the particle impossible. However, by using the Standard Model, we can predict the various decay products of the Higgs, such as photons, Z bosons, quarks, and others, each occurring with different probabilities. These **decay channels** help us identify the presence of the Higgs boson. In this notebook, we will focus on analyzing one specific decay channel: $H \\rightarrow \\gamma\\gamma$\n",
    "\n",
    "<CENTER><img src=\"../uproot_python/images/feynman_diagrams/Hyy_feynman.png\" style=\"width:40%\"></CENTER>\n",
    "\n",
    "We refer to this as our desired **signal**. Ideally, we aim to identify collisions that produce two photons, which would indicate the presence of a Higgs boson. However, along with our signal, many photons detected do not originate from Higgs boson decay but rather from other processes, forming the **background**.\n",
    "\n",
    "Backgrounds are classified into two categories: reducible and irreducible. **Reducible backgrounds** can be significantly minimized using experimental techniques such as data cuts, particle identification, and isolation criteria. For instance, in our case, a reducible background might involve events where a jet is misidentified as a photon. By applying stricter criteria to ensure that the detected particles are indeed photons (and not misidentified jets), this background can be reduced.\n",
    "\n",
    "On the other hand, irreducible backgrounds cannot be easily distinguished from the signal because they involve the same final states or processes that the signal would produce. In the scenario of Higgs decay into two photons, an **irreducible background** would be the direct production of two photons from other Standard Model processes, such as quark-antiquark annihilation. These events are fundamentally indistinguishable from the signal events based on final state particles alone.\n",
    "\n",
    "    \n",
    "To address this, we can consider the total invariant mass of the photon products. By conservation of energy and momentum, the invariant mass of the products must equal the Higgs mass, whereas other background processes will have different invariant masses. The final step is to plot the invariant mass of each event and identify the peak around 125 GeV, which corresponds to the mass of the Higgs boson.\n",
    "\n",
    "Check our [cheat sheet](https://cds.cern.ch/record/2800577/files/Signal%20and%20Background%20Physics%20Cheat%20Sheet.pdf) for more information on signals and backgrounds!\n",
    "\n",
    "<div class=\"alert alert-info\">\n",
    "  <b>‼️ NOTE:</b>\n",
    "  This analysis loosely follows the <a href=\"https://www.sciencedirect.com/science/article/pii/S037026931200857X\" target=\"_blank\">discovery of the Higgs boson by ATLAS</a> (Section 5).\n",
    "</div>"
   ]
  },
  {
   "cell_type": "markdown",
   "id": "a24cda40-517d-44ab-a6d1-aa0ba1dd0851",
   "metadata": {},
   "source": [
    "## Running a Jupyter notebook\n",
    "A Jupyter notebook consists of cell blocks, each containing lines of Python code. Each cell can be run independently of each other, yielding respective outputs below the cells. Conventionally,cells are run in order from top to bottom.\n",
    "\n",
    "- To run the whole notebook, in the top menu click Cell $\\to$ Run All.\n",
    "- To propagate a change you've made to a piece of code, click Cell $\\to$ Run All Below.\n",
    "- You can also run a single code cell, by clicking Cell $\\to$ Run Cells, or using the keyboard shortcut Shift+Enter.\n",
    "\n",
    "For more information, refer to [How To Use Jupyter Notebooks](https://www.codecademy.com/article/how-to-use-jupyter-notebooks).\n",
    "\n",
    "By the end of this notebook you will be able to:\n",
    "1. Learn to process large data sets using cuts\n",
    "2. Understand some general principles of a particle physics analysis\n",
    "3. Discover the Higgs boson!"
   ]
  },
  {
   "cell_type": "markdown",
   "id": "bc9c25b9-3439-47aa-8551-523a8e59aaff",
   "metadata": {},
   "source": [
    "## The Analysis"
   ]
  },
  {
   "cell_type": "markdown",
   "id": "4178b15b-e3e8-453c-82d9-d936acd2caa9",
   "metadata": {},
   "source": [
    "### Setup\n",
    "We're going to be using several key tools to perform the analysis:\n",
    "* **ROOT**: This is a powerful data analysis framework widely used in High Energy Physics (HEP).\n",
    "* **os**: This module will allow us to work with file paths."
   ]
  },
  {
   "cell_type": "code",
   "execution_count": 1,
   "id": "671816f8-ace8-48b5-96c2-640833426195",
   "metadata": {},
   "outputs": [
    {
     "name": "stdout",
     "output_type": "stream",
     "text": [
      "Welcome to JupyROOT 6.28/04\n"
     ]
    }
   ],
   "source": [
    "import ROOT\n",
    "import os"
   ]
  },
  {
   "cell_type": "markdown",
   "id": "7ba3f6b2-70f0-4450-a8e5-2eb44c3298f2",
   "metadata": {},
   "source": [
    "We enable multi-threading within ROOT to improve the performance of data processing. This will allow parallel execution of tasks where possible."
   ]
  },
  {
   "cell_type": "code",
   "execution_count": 2,
   "id": "49d373fe-3a2a-47b4-a3cc-3e3ec93f9084",
   "metadata": {},
   "outputs": [],
   "source": [
    "# Enable multi-threading\n",
    "ROOT.ROOT.EnableImplicitMT()"
   ]
  },
  {
   "cell_type": "markdown",
   "id": "9477a509-beed-490b-abfd-959dc95a369e",
   "metadata": {},
   "source": [
    "### Loading data\n",
    "We define functions to load our data samples. The `get_data_samples` function loads real data, while `get_ggH125_samples` loads simulated events of the Higgs boson decaying into two photons (denoted ggH $\\rightarrow$ γγ). These samples are stored remotely and fetched via URLs.\n"
   ]
  },
  {
   "cell_type": "code",
   "execution_count": 3,
   "id": "70fe844f-6350-4baf-9b3e-5176a54452a2",
   "metadata": {},
   "outputs": [],
   "source": [
    "path = \"https://atlas-opendata.web.cern.ch/atlas-opendata/samples/2020/\"\n",
    "\n",
    "def get_data_samples():\n",
    "    samples = ROOT.std.vector(\"string\")()\n",
    "    for tag in [\"A\", \"B\", \"C\", \"D\"]:\n",
    "        samples.push_back(os.path.join(path, \"GamGam/Data/data_{}.GamGam.root\".format(tag)))\n",
    "    return samples\n",
    "\n",
    "def get_ggH125_samples():\n",
    "    samples = ROOT.std.vector(\"string\")()\n",
    "    samples.push_back(os.path.join(path, \"GamGam/MC/mc_343981.ggH125_gamgam.GamGam.root\"))\n",
    "    return samples"
   ]
  },
  {
   "cell_type": "markdown",
   "id": "8ab399aa-9a1c-4980-a7a4-74ee58bf31d3",
   "metadata": {},
   "source": [
    "### Creating DataFrames\n",
    "We now create `RDataFrame` objects for the data and the Higgs signal samples. Each `RDataFrame` will handle the data analysis, and we'll store these in a dictionary for easier access later."
   ]
  },
  {
   "cell_type": "code",
   "execution_count": 4,
   "id": "a85a0e53-2ce2-4019-b98b-5645f8407ae2",
   "metadata": {},
   "outputs": [],
   "source": [
    "df = {}\n",
    "df[\"data\"] = ROOT.RDataFrame(\"mini\", get_data_samples())\n",
    "df[\"ggH\"] = ROOT.RDataFrame(\"mini\", get_ggH125_samples())\n",
    "processes = list(df.keys())"
   ]
  },
  {
   "cell_type": "markdown",
   "id": "633bd019-dca5-45a1-9448-d3083631071e",
   "metadata": {},
   "source": [
    "### Applying Weights\n",
    "We apply event weights to both the simulated and real datasets. For the Higgs samples (Monte Carlo simulations), we use scale factors to account for detector effects and event simulation details. For real data, we assign a weight of 1."
   ]
  },
  {
   "cell_type": "code",
   "execution_count": 5,
   "id": "85931e01-f477-4759-9aa0-07bd14e8a1fa",
   "metadata": {},
   "outputs": [],
   "source": [
    "# Apply scale factors and MC weight for simulated events and a weight of 1 for the data\n",
    "for p in [\"ggH\"]:\n",
    "    df[p] = df[p].Define(\"weight\", \"scaleFactor_PHOTON * scaleFactor_PhotonTRIGGER * scaleFactor_PILEUP * mcWeight\");\n",
    "df[\"data\"] = df[\"data\"].Define(\"weight\", \"1.0\")"
   ]
  },
  {
   "cell_type": "markdown",
   "id": "b5d67004-44ab-44bc-9008-3676ba3a288f",
   "metadata": {},
   "source": [
    "### Preselection and Photon Selection\n",
    "Next, we apply some basic event selection:\n",
    "- **Photon trigger filter**: We only keep events that passed the photon trigger.\n",
    "- **Good photon selection**: We select events with two \"tight\" photons that pass certain kinematic cuts, because there is a risk of misidentifying jets and other particles that can mimic photon signals as actual photons. We also exclude a region of the detector, because the transition between the the barrel and end-cap of the calorimeter can introduce uncertainties in the energy measurements of particles\n",
    "- **Isolation criteria**: Finally, we apply isolation cuts to ensure that the photons are truly isolated from other particles, to make sure the photons detected are not originating from jets."
   ]
  },
  {
   "cell_type": "code",
   "execution_count": 6,
   "id": "e99d3c3d-95dd-41bd-89cb-1c424097a59b",
   "metadata": {},
   "outputs": [],
   "source": [
    "for p in processes:\n",
    "    # Apply preselection cut on photon trigger\n",
    "    df[p] = df[p].Filter(\"trigP\")\n",
    "\n",
    "    # Find two good muons with tight ID, pt > 25 GeV and not in the transition region between barrel and encap\n",
    "    df[p] = df[p].Define(\"goodphotons\", \"photon_isTightID && (photon_pt > 25000) && (abs(photon_eta) < 2.37) && ((abs(photon_eta) < 1.37) || (abs(photon_eta) > 1.52))\")\\\n",
    "                 .Filter(\"Sum(goodphotons) == 2\")\n",
    "\n",
    "    # Take only isolated photons\n",
    "    df[p] = df[p].Filter(\"Sum(photon_ptcone30[goodphotons] / photon_pt[goodphotons] < 0.065) == 2\")\\\n",
    "                 .Filter(\"Sum(photon_etcone20[goodphotons] / photon_pt[goodphotons] < 0.065) == 2\")"
   ]
  },
  {
   "cell_type": "markdown",
   "id": "57142aca-f1a3-4795-aea1-35cdb92c2c7d",
   "metadata": {},
   "source": [
    "### Calculating Invariant Mass\n",
    "We define a custom function to calculate the invariant mass of the two selected photons using their kinematic properties. This is key to identifying the Higgs boson as its mass is around 125 GeV.\n",
    "\n",
    "The invariant mass is calculated as follows:\n",
    "$$m_{\\gamma\\gamma} = \\sqrt{E^2_\\text{tot}-\\mathbf{p}_\\text{tot}\\cdot\\mathbf{p}_\\text{tot}}$$\n",
    "in units where $c=1$."
   ]
  },
  {
   "cell_type": "code",
   "execution_count": 7,
   "id": "2de8e946-3b4f-4985-9c2f-dd76eab7de77",
   "metadata": {},
   "outputs": [],
   "source": [
    "ROOT.gInterpreter.Declare(\n",
    "\"\"\"\n",
    "#include <math.h> // for M_PI\n",
    "using Vec_t = const ROOT::VecOps::RVec<float>;\n",
    "float ComputeInvariantMass(Vec_t& pt, Vec_t& eta, Vec_t& phi, Vec_t& e) {\n",
    "    float dphi = abs(phi[0] - phi[1]);\n",
    "    dphi = dphi < M_PI ? dphi : 2 * M_PI - dphi;\n",
    "    return sqrt(2 * pt[0] / 1000.0 * pt[1] / 1000.0 * (cosh(eta[0] - eta[1]) - cos(dphi)));\n",
    "}\n",
    "\"\"\");"
   ]
  },
  {
   "cell_type": "markdown",
   "id": "adde59d3-8435-4462-b8e7-3dcddd775fe1",
   "metadata": {},
   "source": [
    "### Histogram Creation and Mass Cuts\n",
    "We now compute the invariant mass for each event and apply additional kinematic cuts to refine our selection. Finally, we define histograms to store the diphoton invariant mass for both the data and the simulated Higgs samples."
   ]
  },
  {
   "cell_type": "code",
   "execution_count": 8,
   "id": "fe176a32-5ae3-4127-8c49-069dbf897964",
   "metadata": {},
   "outputs": [],
   "source": [
    "hists = {}\n",
    "for p in processes:\n",
    "    # Make four vectors and compute invariant mass\n",
    "    df[p] = df[p].Define(\"m_yy\", \"ComputeInvariantMass(photon_pt[goodphotons], photon_eta[goodphotons], photon_phi[goodphotons], photon_E[goodphotons])\")\n",
    "\n",
    "    # Make additional kinematic cuts and select mass window\n",
    "    df[p] = df[p].Filter(\"photon_pt[goodphotons][0] / 1000.0 / m_yy > 0.35\")\\\n",
    "                 .Filter(\"photon_pt[goodphotons][1] / 1000.0 / m_yy > 0.25\")\\\n",
    "                 .Filter(\"(m_yy > 105) && (m_yy < 160)\")\n",
    "\n",
    "    # Book histogram of the invariant mass with this selection\n",
    "    hists[p] = df[p].Histo1D(\n",
    "            ROOT.ROOT.RDF.TH1DModel(p, \"Diphoton invariant mass; m_{#gamma#gamma} [GeV];Events / bin\", 30, 105, 160),\n",
    "            \"m_yy\", \"weight\")"
   ]
  },
  {
   "cell_type": "markdown",
   "id": "14bae725-3f2b-4c01-a28a-5111c81b285e",
   "metadata": {},
   "source": [
    "### Running the Event Loop\n",
    "We now run the event loop to process each event in both the Higgs signal and data samples. During this step, ROOT loops over all events, applies the selection criteria (such as photon quality and isolation), computes the invariant mass of the photon pairs, and fills the histograms with the resulting events. This is where the actual data processing happens."
   ]
  },
  {
   "cell_type": "code",
   "execution_count": 9,
   "id": "00b2a91b-8c8a-4d85-94f0-ef1d5306d725",
   "metadata": {},
   "outputs": [],
   "source": [
    "# Run the event loop\n",
    "ggh = hists[\"ggH\"].GetValue()\n",
    "data = hists[\"data\"].GetValue()"
   ]
  },
  {
   "cell_type": "markdown",
   "id": "37130a4d-571b-4311-bace-e1bf394df3be",
   "metadata": {},
   "source": [
    "### Plotting\n",
    "We set some styles for our plot and create a canvas with two pads: one for the main plot and another for the ratio plot (data minus background)."
   ]
  },
  {
   "cell_type": "code",
   "execution_count": 10,
   "id": "0650b6ad-04cd-4a00-ae9f-8af1f3dbcf6c",
   "metadata": {},
   "outputs": [],
   "source": [
    "# Set styles\n",
    "ROOT.gStyle.SetOptStat(0)\n",
    "ROOT.gStyle.SetOptTitle(0)\n",
    "ROOT.gStyle.SetMarkerStyle(20)\n",
    "ROOT.gStyle.SetMarkerSize(1.2)\n",
    "size = 0.08\n",
    "ROOT.gStyle.SetLabelSize(size, \"x\")\n",
    "ROOT.gStyle.SetLabelSize(size, \"y\")\n",
    "ROOT.gStyle.SetTitleSize(size, \"x\")\n",
    "ROOT.gStyle.SetTitleSize(size, \"y\")\n",
    "\n",
    "# Create canvas with pads for main plot and data/MC ratio\n",
    "c = ROOT.TCanvas(\"c\", \"\", 700, 750)\n",
    "\n",
    "upper_pad = ROOT.TPad(\"upper_pad\", \"\", 0, 0.29, 1, 1)\n",
    "lower_pad = ROOT.TPad(\"lower_pad\", \"\", 0, 0, 1, 0.29)\n",
    "for p in [upper_pad, lower_pad]:\n",
    "    p.SetLeftMargin(0.14)\n",
    "    p.SetRightMargin(0.05)\n",
    "upper_pad.SetBottomMargin(0)\n",
    "lower_pad.SetTopMargin(0)\n",
    "\n",
    "upper_pad.Draw()\n",
    "lower_pad.Draw()"
   ]
  },
  {
   "cell_type": "markdown",
   "id": "70a459fd-eaaa-4312-9916-07147d14da59",
   "metadata": {},
   "source": [
    "We fit a model to the data that consists of a signal (the Higgs peak) and a polynomial background. The background is modeled with a cubic function, and the signal with a Gaussian centered around 125 GeV\n",
    "\n",
    "The Gaussian model is used to fit the signal due to the nature of the detector's resolution. The fourth-order polynomial is chosen for the background because it offers enough flexibility to capture the overall shape without overfitting, thereby reducing the influence of spurious data—random, irrelevant fluctuations or noise that do not correspond to the true signal or background.\n"
   ]
  },
  {
   "cell_type": "code",
   "execution_count": 11,
   "id": "91aac7cc-33c9-40bb-8e54-89c360cbd4bb",
   "metadata": {},
   "outputs": [
    {
     "name": "stdout",
     "output_type": "stream",
     "text": [
      " FCN=19.9699 FROM HESSE     STATUS=NOT POSDEF     23 CALLS         158 TOTAL\n",
      "                     EDM=5.16612e-12    STRATEGY= 1      ERR MATRIX NOT POS-DEF\n",
      "  EXT PARAMETER                APPROXIMATE        STEP         FIRST   \n",
      "  NO.   NAME      VALUE            ERROR          SIZE      DERIVATIVE \n",
      "   1  p0           9.43252e+04   7.20520e+01   2.24889e-02   1.11944e-08\n",
      "   2  p1          -1.77723e+03   7.78149e-01   4.23724e-04  -2.11331e-06\n",
      "   3  p2           1.15606e+01   5.36061e-03   2.75626e-06  -2.03300e-04\n",
      "   4  p3          -2.56282e-02   2.66824e-05   6.11023e-09   3.85682e-02\n",
      "   5  p4           1.19100e+02     fixed    \n",
      "   6  p5           1.25000e+02     fixed    \n",
      "   7  p6           2.39000e+00     fixed    \n"
     ]
    }
   ],
   "source": [
    "data.SetStats(0)\n",
    "data.SetTitle(\"\")\n",
    "\n",
    "# Fit signal + background model to data\n",
    "upper_pad.cd()\n",
    "fit = ROOT.TF1(\"fit\", \"([0]+[1]*x+[2]*x^2+[3]*x^3)+[4]*exp(-0.5*((x-[5])/[6])^2)\", 105, 160)\n",
    "fit.FixParameter(5, 125.0)\n",
    "fit.FixParameter(4, 119.1)\n",
    "fit.FixParameter(6, 2.39)\n",
    "data.Fit(\"fit\", \"\", \"E SAME\", 105, 160)\n",
    "fit.SetLineColor(2)\n",
    "fit.SetLineStyle(1)\n",
    "fit.SetLineWidth(2)\n",
    "fit.Draw(\"SAME\")\n",
    "\n",
    "# Draw background\n",
    "bkg = ROOT.TF1(\"bkg\", \"([0]+[1]*x+[2]*x^2+[3]*x^3)\", 105, 160)\n",
    "for i in range(4):\n",
    "    bkg.SetParameter(i, fit.GetParameter(i))\n",
    "bkg.SetLineColor(4)\n",
    "bkg.SetLineStyle(2)\n",
    "bkg.SetLineWidth(2)\n",
    "bkg.Draw(\"SAME\")\n"
   ]
  },
  {
   "cell_type": "markdown",
   "id": "c120f72e-7aed-4dc0-9993-b8e5070b38e0",
   "metadata": {},
   "source": [
    "We draw the data points with error bars and add the Higgs signal on top. We scale the simulated Higgs events to match the data's luminosity and cross-section, then plot the signal with a solid line."
   ]
  },
  {
   "cell_type": "code",
   "execution_count": 12,
   "id": "298f9076-f4ae-484d-b90a-2fc3e77f494e",
   "metadata": {},
   "outputs": [],
   "source": [
    "# Draw data\n",
    "data.SetMarkerStyle(20)\n",
    "data.SetMarkerSize(1.2)\n",
    "data.SetLineWidth(2)\n",
    "data.SetLineColor(ROOT.kBlack)\n",
    "data.Draw(\"E SAME\")\n",
    "data.SetMinimum(1e-3)\n",
    "data.SetMaximum(8e3)\n",
    "\n",
    "# Scale simulated events with luminosity * cross-section / sum of weights\n",
    "# and merge to single Higgs signal\n",
    "lumi = 10064.0\n",
    "ggh.Scale(lumi * 0.102 / ggh.Integral())\n",
    "higgs = ggh\n",
    "higgs.Draw(\"HIST SAME\")\n"
   ]
  },
  {
   "cell_type": "markdown",
   "id": "56277eb3-1f3c-46ca-9039-167d14c864a7",
   "metadata": {},
   "source": [
    "In the lower pad, we plot the difference between the data and the fitted background to highlight the signal.\n"
   ]
  },
  {
   "cell_type": "code",
   "execution_count": 13,
   "id": "9fc637d6-2e0c-4216-87b9-a7af82bdd33b",
   "metadata": {},
   "outputs": [],
   "source": [
    "# Draw ratio\n",
    "lower_pad.cd()\n",
    "\n",
    "ratiofit = ROOT.TH1F(\"ratiofit\", \"ratiofit\", 5500, 105, 160)\n",
    "ratiofit.Eval(fit)\n",
    "ratiofit.SetLineColor(2)\n",
    "ratiofit.SetLineStyle(1)\n",
    "ratiofit.SetLineWidth(2)\n",
    "ratiofit.Add(bkg, -1)\n",
    "ratiofit.Draw()\n",
    "ratiofit.SetMinimum(-150)\n",
    "ratiofit.SetMaximum(225)\n",
    "ratiofit.GetYaxis().SetTitle(\"Data - bkg\")\n",
    "ratiofit.GetYaxis().CenterTitle()\n",
    "ratiofit.GetYaxis().SetNdivisions(503, False)\n",
    "ratiofit.SetTitle(\"\")\n",
    "ratiofit.GetXaxis().SetTitle(\"m_{#gamma#gamma} [GeV]\")\n",
    "\n",
    "ratio = data.Clone()\n",
    "ratio.Add(bkg, -1)\n",
    "ratio.Draw(\"E SAME\")\n",
    "for i in range(1, data.GetNbinsX()):\n",
    "    ratio.SetBinError(i, data.GetBinError(i))\n"
   ]
  },
  {
   "cell_type": "markdown",
   "id": "92dbdfe3-6e1f-45ef-b63d-a72788ac0e6e",
   "metadata": {},
   "source": [
    "Finally, we add a legend to explain the components of the plot and a label for the ATLAS experiment.\n"
   ]
  },
  {
   "cell_type": "code",
   "execution_count": 14,
   "id": "49d99313-4e64-4e2f-9f16-051f3a659dff",
   "metadata": {},
   "outputs": [],
   "source": [
    "# Add legend\n",
    "upper_pad.cd()\n",
    "legend = ROOT.TLegend(0.60, 0.55, 0.89, 0.85)\n",
    "legend.SetFillStyle(0)\n",
    "legend.SetBorderSize(0)\n",
    "legend.SetTextSize(0.05)\n",
    "legend.SetTextAlign(32)\n",
    "legend.AddEntry(data, \"Data\" ,\"lep\")\n",
    "legend.AddEntry(bkg, \"Background\", \"l\")\n",
    "legend.AddEntry(fit, \"Signal + Bkg.\", \"l\")\n",
    "legend.AddEntry(higgs, \"Signal\", \"l\")\n",
    "legend.Draw(\"SAME\")\n",
    "\n",
    "# Add ATLAS label\n",
    "text = ROOT.TLatex()\n",
    "text.SetNDC()\n",
    "text.SetTextFont(72)\n",
    "text.SetTextSize(0.05)\n",
    "text.DrawLatex(0.18, 0.84, \"ATLAS\")\n",
    "\n",
    "text.SetTextFont(42)\n",
    "text.DrawLatex(0.18 + 0.13, 0.84, \"Open Data\")\n",
    "\n",
    "text.SetTextSize(0.04)\n",
    "text.DrawLatex(0.18, 0.78, \"#sqrt{s} = 13 TeV, 10 fb^{-1}\");"
   ]
  },
  {
   "cell_type": "markdown",
   "id": "06deda9a-496b-40f8-a423-09803aada2a4",
   "metadata": {},
   "source": [
    "### Final Plot Display\n",
    "Now we display the final canvas with the fitted data, background, and signal."
   ]
  },
  {
   "cell_type": "code",
   "execution_count": 15,
   "id": "0afbbc97-c65a-4d36-b58b-1980050d0f5d",
   "metadata": {},
   "outputs": [
    {
     "data": {
      "text/html": [
       "\n",
       "\n",
       "<div id=\"root_plot_1725908078964\"\n",
       "     style=\"width: 696px; height: 722px\">\n",
       "</div>\n",
       "<script>\n",
       "\n",
       "function display_root_plot_1725908078964(Core) {\n",
       "   let obj = Core.parse({\"_typename\":\"TCanvas\",\"fUniqueID\":0,\"fBits\":3342344,\"fLineColor\":1,\"fLineStyle\":1,\"fLineWidth\":1,\"fFillColor\":0,\"fFillStyle\":1001,\"fLeftMargin\":0.1,\"fRightMargin\":0.1,\"fBottomMargin\":0.1,\"fTopMargin\":0.1,\"fXfile\":2,\"fYfile\":2,\"fAfile\":1,\"fXstat\":0.99,\"fYstat\":0.99,\"fAstat\":2,\"fFrameFillColor\":0,\"fFrameLineColor\":1,\"fFrameFillStyle\":1001,\"fFrameLineStyle\":1,\"fFrameLineWidth\":1,\"fFrameBorderSize\":1,\"fFrameBorderMode\":0,\"fX1\":0,\"fY1\":0,\"fX2\":1,\"fY2\":1,\"fXtoAbsPixelk\":5e-5,\"fXtoPixelk\":5e-5,\"fXtoPixel\":696,\"fYtoAbsPixelk\":722.00005,\"fYtoPixelk\":722.00005,\"fYtoPixel\":-722,\"fUtoAbsPixelk\":5e-5,\"fUtoPixelk\":5e-5,\"fUtoPixel\":696,\"fVtoAbsPixelk\":722.00005,\"fVtoPixelk\":722,\"fVtoPixel\":-722,\"fAbsPixeltoXk\":0,\"fPixeltoXk\":0,\"fPixeltoX\":0.0014367816091954,\"fAbsPixeltoYk\":1,\"fPixeltoYk\":0,\"fPixeltoY\":-0.00138504155124654,\"fXlowNDC\":0,\"fYlowNDC\":0,\"fXUpNDC\":1,\"fYUpNDC\":1,\"fWNDC\":1,\"fHNDC\":1,\"fAbsXlowNDC\":0,\"fAbsYlowNDC\":0,\"fAbsWNDC\":1,\"fAbsHNDC\":1,\"fUxmin\":0,\"fUymin\":0,\"fUxmax\":1,\"fUymax\":1,\"fTheta\":30,\"fPhi\":30,\"fAspectRatio\":0,\"fNumber\":0,\"fTickx\":0,\"fTicky\":0,\"fLogx\":0,\"fLogy\":0,\"fLogz\":0,\"fPadPaint\":0,\"fCrosshair\":0,\"fCrosshairPos\":0,\"fBorderSize\":2,\"fBorderMode\":0,\"fModified\":false,\"fGridx\":false,\"fGridy\":false,\"fAbsCoord\":false,\"fEditable\":true,\"fFixedAspectRatio\":false,\"fPrimitives\":{\"_typename\":\"TList\",\"name\":\"TList\",\"arr\":[{\"_typename\":\"TPad\",\"fUniqueID\":0,\"fBits\":9,\"fLineColor\":1,\"fLineStyle\":1,\"fLineWidth\":1,\"fFillColor\":0,\"fFillStyle\":1001,\"fLeftMargin\":0.14,\"fRightMargin\":0.05,\"fBottomMargin\":0,\"fTopMargin\":0.1,\"fXfile\":2,\"fYfile\":2,\"fAfile\":1,\"fXstat\":0.99,\"fYstat\":0.99,\"fAstat\":2,\"fFrameFillColor\":0,\"fFrameLineColor\":1,\"fFrameFillStyle\":1001,\"fFrameLineStyle\":1,\"fFrameLineWidth\":1,\"fFrameBorderSize\":1,\"fFrameBorderMode\":0,\"fX1\":95.4938271480024,\"fY1\":0.001,\"fX2\":163.395061768992,\"fY2\":8888.88881457076,\"fXtoAbsPixelk\":-978.829040015753,\"fXtoPixelk\":-978.829040015753,\"fXtoPixel\":10.2501818101677,\"fYtoAbsPixelk\":512.620107669757,\"fYtoPixelk\":512.620107669757,\"fYtoPixel\":-0.0576697569700123,\"fUtoAbsPixelk\":5e-5,\"fUtoPixelk\":5e-5,\"fUtoPixel\":696,\"fVtoAbsPixelk\":512.62005,\"fVtoPixelk\":512.62,\"fVtoPixel\":-512.62,\"fAbsPixeltoXk\":95.4938271480024,\"fPixeltoXk\":95.4938271480024,\"fPixeltoX\":0.0975592451451004,\"fAbsPixeltoYk\":8888.88881457076,\"fPixeltoYk\":0.001,\"fPixeltoY\":-17.3401112219008,\"fXlowNDC\":0,\"fYlowNDC\":0.29,\"fXUpNDC\":1,\"fYUpNDC\":1,\"fWNDC\":1,\"fHNDC\":0.71,\"fAbsXlowNDC\":0,\"fAbsYlowNDC\":0.29,\"fAbsWNDC\":1,\"fAbsHNDC\":0.71,\"fUxmin\":105,\"fUymin\":0.001,\"fUxmax\":160,\"fUymax\":8000,\"fTheta\":30,\"fPhi\":30,\"fAspectRatio\":0,\"fNumber\":0,\"fTickx\":0,\"fTicky\":0,\"fLogx\":0,\"fLogy\":0,\"fLogz\":0,\"fPadPaint\":0,\"fCrosshair\":0,\"fCrosshairPos\":0,\"fBorderSize\":2,\"fBorderMode\":0,\"fModified\":false,\"fGridx\":false,\"fGridy\":false,\"fAbsCoord\":false,\"fEditable\":true,\"fFixedAspectRatio\":false,\"fPrimitives\":{\"_typename\":\"TList\",\"name\":\"TList\",\"arr\":[{\"_typename\":\"TFrame\",\"fUniqueID\":0,\"fBits\":8,\"fLineColor\":1,\"fLineStyle\":1,\"fLineWidth\":1,\"fFillColor\":0,\"fFillStyle\":1001,\"fX1\":105,\"fY1\":0.001,\"fX2\":160,\"fY2\":8000,\"fBorderSize\":1,\"fBorderMode\":0},{\"_typename\":\"TH1D\",\"fUniqueID\":0,\"fBits\":520,\"fName\":\"data\",\"fTitle\":\"\",\"fLineColor\":1,\"fLineStyle\":1,\"fLineWidth\":2,\"fFillColor\":0,\"fFillStyle\":1001,\"fMarkerColor\":1,\"fMarkerStyle\":20,\"fMarkerSize\":1.2,\"fNcells\":32,\"fXaxis\":{\"_typename\":\"TAxis\",\"fUniqueID\":0,\"fBits\":0,\"fName\":\"xaxis\",\"fTitle\":\" m_{#gamma#gamma} [GeV]\",\"fNdivisions\":510,\"fAxisColor\":1,\"fLabelColor\":1,\"fLabelFont\":42,\"fLabelOffset\":0.005,\"fLabelSize\":0.035,\"fTickLength\":0.03,\"fTitleOffset\":1,\"fTitleSize\":0.035,\"fTitleColor\":1,\"fTitleFont\":42,\"fNbins\":30,\"fXmin\":105,\"fXmax\":160,\"fXbins\":[],\"fFirst\":0,\"fLast\":0,\"fBits2\":0,\"fTimeDisplay\":false,\"fTimeFormat\":\"\",\"fLabels\":null,\"fModLabs\":null},\"fYaxis\":{\"_typename\":\"TAxis\",\"fUniqueID\":0,\"fBits\":0,\"fName\":\"yaxis\",\"fTitle\":\"Events \\/ bin\",\"fNdivisions\":510,\"fAxisColor\":1,\"fLabelColor\":1,\"fLabelFont\":42,\"fLabelOffset\":0.005,\"fLabelSize\":0.035,\"fTickLength\":0.03,\"fTitleOffset\":0,\"fTitleSize\":0.035,\"fTitleColor\":1,\"fTitleFont\":42,\"fNbins\":1,\"fXmin\":0,\"fXmax\":1,\"fXbins\":[],\"fFirst\":0,\"fLast\":0,\"fBits2\":0,\"fTimeDisplay\":false,\"fTimeFormat\":\"\",\"fLabels\":null,\"fModLabs\":null},\"fZaxis\":{\"_typename\":\"TAxis\",\"fUniqueID\":0,\"fBits\":0,\"fName\":\"zaxis\",\"fTitle\":\"\",\"fNdivisions\":510,\"fAxisColor\":1,\"fLabelColor\":1,\"fLabelFont\":42,\"fLabelOffset\":0.005,\"fLabelSize\":0.035,\"fTickLength\":0.03,\"fTitleOffset\":1,\"fTitleSize\":0.035,\"fTitleColor\":1,\"fTitleFont\":42,\"fNbins\":1,\"fXmin\":0,\"fXmax\":1,\"fXbins\":[],\"fFirst\":0,\"fLast\":0,\"fBits2\":0,\"fTimeDisplay\":false,\"fTimeFormat\":\"\",\"fLabels\":null,\"fModLabs\":null},\"fBarOffset\":0,\"fBarWidth\":1000,\"fEntries\":76394,\"fTsumw\":76394,\"fTsumw2\":76394,\"fTsumwx\":9551741.98766327,\"fTsumwx2\":1211291759.55255,\"fMaximum\":8000,\"fMinimum\":0.001,\"fNormFactor\":0,\"fContour\":[],\"fSumw2\":[],\"fOption\":\"\",\"fFunctions\":{\"_typename\":\"TList\",\"name\":\"TList\",\"arr\":[{\"_typename\":\"TF1\",\"fUniqueID\":0,\"fBits\":1024,\"fName\":\"fit\",\"fTitle\":\"([0]+[1]*x+[2]*x^2+[3]*x^3)+[4]*exp(-0.5*((x-[5])\\/[6])^2)\",\"fLineColor\":2,\"fLineStyle\":1,\"fLineWidth\":2,\"fFillColor\":19,\"fFillStyle\":0,\"fMarkerColor\":1,\"fMarkerStyle\":20,\"fMarkerSize\":1.2,\"fXmin\":105,\"fXmax\":160,\"fNpar\":7,\"fNdim\":1,\"fNpx\":100,\"fType\":0,\"fNpfits\":30,\"fNDF\":26,\"fChisquare\":19.9698714128636,\"fMinimum\":-1111,\"fMaximum\":-1111,\"fParErrors\":{\"$arr\":\"Float64\",\"len\":7,\"v\":[72.0520042339678,0.778149432650573,0.005360605014179,2.66823587717123e-5]},\"fParMin\":{\"$arr\":\"Float64\",\"len\":7,\"p\":4,\"v\":[119.1,125,2.39]},\"fParMax\":{\"$arr\":\"Float64\",\"len\":7,\"p\":4,\"v\":[119.1,125,2.39]},\"fSave\":{\"$arr\":\"Float64\",\"len\":103,\"v\":[5504.10921980664,5396.72527896866,5291.42582572274,5188.18527674951,5086.97804872958,4987.77855834389,4890.56122227455,4795.30045720928,4701.97067986045,4610.54630704076,4521.00175595177,4433.31144521462,4347.44979833513,4263.39125465422,4181.11030183039,4100.58156615608,4021.78004752832,3944.68169013906,3869.26467270074,3795.51211317028,3723.41729799792,3652.99293366041,3584.28594210706,3517.39840126235,3452.51267520528,3389.91421216832,3329.99957111692,3273.25234567962,3220.16986600706,3171.13321879925,3126.23388779186,3085.09788384876,3046.77124750277,3009.73425026946,2972.08476055204,2931.87641488019,2887.53335174558,2838.21948431707,2784.04133304883,2726.01455245164,2665.8058243639,2605.33818306305,2546.38624134278,2490.27505621126,2437.74416047975,2388.97419486886,2343.72517289053,2301.51726417089,2261.7951813588,2224.04296044364,2187.84248315637,2152.88695138615,2118.9672649261,2085.94761108163,2053.74105795251,2022.29023937751,1991.55419398201,1961.50037204271,1932.10022986957,1903.32700226991,1875.15466209791,1847.55746910418,1820.50978767994,1793.98601807602,1767.96057210184,1742.40786507465,1717.30231331454,1692.61833341217,1668.33034202685,1644.41275583434,1620.83999151435,1597.58646574721,1574.6265952135,1551.93479659379,1529.48548656866,1507.25308181868,1485.2119990245,1463.33665486668,1441.60146602585,1419.98084918248,1398.44922101729,1376.9809982108,1355.55059744361,1334.13243539639,1312.70092874965,1291.23049418398,1269.69554837997,1248.07050801821,1226.32978977938,1204.44781034393,1182.39898639251,1160.15773460575,1137.69847166417,1114.99561424846,1092.02357903917,1068.75678271681,1045.16964196206,1021.23657345552,996.931993877661,972.230319909184,947.10596823071,105,160]},\"fNormalized\":false,\"fNormIntegral\":0,\"fFormula\":{\"_typename\":\"TFormula\",\"fUniqueID\":0,\"fBits\":1024,\"fName\":\"fit\",\"fTitle\":\"([0]+[1]*x+[2]*x^2+[3]*x^3)+[4]*exp(-0.5*((x-[5])\\/[6])^2)\",\"fClingParameters\":{\"$arr\":\"Float64\",\"len\":7,\"v\":[94325.2090611638,-1777.2270105787,11.5605936567885,-0.0256281687046205,119.1,125,2.39]},\"fAllParametersSetted\":true,\"fParams\":[{\"$pair\":\"pair<TString,int,TFormulaParamOrder>\",\"first\":\"p0\",\"second\":0},{\"$pair\":\"pair<TString,int,TFormulaParamOrder>\",\"first\":\"p1\",\"second\":1},{\"$pair\":\"pair<TString,int,TFormulaParamOrder>\",\"first\":\"p2\",\"second\":2},{\"$pair\":\"pair<TString,int,TFormulaParamOrder>\",\"first\":\"p3\",\"second\":3},{\"$pair\":\"pair<TString,int,TFormulaParamOrder>\",\"first\":\"p4\",\"second\":4},{\"$pair\":\"pair<TString,int,TFormulaParamOrder>\",\"first\":\"p5\",\"second\":5},{\"$pair\":\"pair<TString,int,TFormulaParamOrder>\",\"first\":\"p6\",\"second\":6}],\"fFormula\":\"([p0]+[p1]*x+[p2]*TMath::Sq(x)+[p3]*pow(x,3))+[p4]*exp(-0.5*TMath::Sq(((x-[p5])\\/[p6])))\",\"fNdim\":1,\"fLinearParts\":[],\"fVectorized\":false},\"fParams\":null,\"fComposition\":null}],\"opt\":[\"\"]},\"fBufferSize\":0,\"fBuffer\":[],\"fBinStatErrOpt\":0,\"fStatOverflows\":2,\"fArray\":{\"$arr\":\"Float64\",\"len\":32,\"p\":1,\"v\":[5391,4944,4715,4287,4123,3864,3586,3382,3181,3076,2970,2730,2596,2371,2227,2136,2075,1886,1769,1795,1719,1623,1505,1407,1288,1317,1216,1148,1064,1003]}},{\"_typename\":\"TF1\",\"fUniqueID\":0,\"fBits\":8,\"fName\":\"fit\",\"fTitle\":\"([0]+[1]*x+[2]*x^2+[3]*x^3)+[4]*exp(-0.5*((x-[5])\\/[6])^2)\",\"fLineColor\":2,\"fLineStyle\":1,\"fLineWidth\":2,\"fFillColor\":19,\"fFillStyle\":0,\"fMarkerColor\":1,\"fMarkerStyle\":20,\"fMarkerSize\":1.2,\"fXmin\":105,\"fXmax\":160,\"fNpar\":7,\"fNdim\":1,\"fNpx\":100,\"fType\":0,\"fNpfits\":30,\"fNDF\":26,\"fChisquare\":19.9698714128636,\"fMinimum\":-1111,\"fMaximum\":-1111,\"fParErrors\":{\"$arr\":\"Float64\",\"len\":7,\"v\":[72.0520042339678,0.778149432650573,0.005360605014179,2.66823587717123e-5]},\"fParMin\":{\"$arr\":\"Float64\",\"len\":7,\"p\":4,\"v\":[119.1,125,2.39]},\"fParMax\":{\"$arr\":\"Float64\",\"len\":7,\"p\":4,\"v\":[119.1,125,2.39]},\"fSave\":[],\"fNormalized\":false,\"fNormIntegral\":0,\"fFormula\":{\"_typename\":\"TFormula\",\"fUniqueID\":0,\"fBits\":1024,\"fName\":\"fit\",\"fTitle\":\"([0]+[1]*x+[2]*x^2+[3]*x^3)+[4]*exp(-0.5*((x-[5])\\/[6])^2)\",\"fClingParameters\":{\"$arr\":\"Float64\",\"len\":7,\"v\":[94325.2090611638,-1777.2270105787,11.5605936567885,-0.0256281687046205,119.1,125,2.39]},\"fAllParametersSetted\":true,\"fParams\":[{\"$pair\":\"pair<TString,int,TFormulaParamOrder>\",\"first\":\"p0\",\"second\":0},{\"$pair\":\"pair<TString,int,TFormulaParamOrder>\",\"first\":\"p1\",\"second\":1},{\"$pair\":\"pair<TString,int,TFormulaParamOrder>\",\"first\":\"p2\",\"second\":2},{\"$pair\":\"pair<TString,int,TFormulaParamOrder>\",\"first\":\"p3\",\"second\":3},{\"$pair\":\"pair<TString,int,TFormulaParamOrder>\",\"first\":\"p4\",\"second\":4},{\"$pair\":\"pair<TString,int,TFormulaParamOrder>\",\"first\":\"p5\",\"second\":5},{\"$pair\":\"pair<TString,int,TFormulaParamOrder>\",\"first\":\"p6\",\"second\":6}],\"fFormula\":\"([p0]+[p1]*x+[p2]*TMath::Sq(x)+[p3]*pow(x,3))+[p4]*exp(-0.5*TMath::Sq(((x-[p5])\\/[p6])))\",\"fNdim\":1,\"fLinearParts\":[],\"fVectorized\":false},\"fParams\":null,\"fComposition\":null},{\"_typename\":\"TF1\",\"fUniqueID\":0,\"fBits\":8,\"fName\":\"bkg\",\"fTitle\":\"([0]+[1]*x+[2]*x^2+[3]*x^3)\",\"fLineColor\":4,\"fLineStyle\":2,\"fLineWidth\":2,\"fFillColor\":19,\"fFillStyle\":0,\"fMarkerColor\":1,\"fMarkerStyle\":20,\"fMarkerSize\":1.2,\"fXmin\":105,\"fXmax\":160,\"fNpar\":4,\"fNdim\":1,\"fNpx\":100,\"fType\":0,\"fNpfits\":0,\"fNDF\":0,\"fChisquare\":0,\"fMinimum\":-1111,\"fMaximum\":-1111,\"fParErrors\":[0,0,0,0],\"fParMin\":[0,0,0,0],\"fParMax\":[0,0,0,0],\"fSave\":[],\"fNormalized\":false,\"fNormIntegral\":0,\"fFormula\":{\"_typename\":\"TFormula\",\"fUniqueID\":0,\"fBits\":1024,\"fName\":\"bkg\",\"fTitle\":\"([0]+[1]*x+[2]*x^2+[3]*x^3)\",\"fClingParameters\":[94325.2090611638,-1777.2270105787,11.5605936567885,-0.0256281687046205],\"fAllParametersSetted\":true,\"fParams\":[{\"$pair\":\"pair<TString,int,TFormulaParamOrder>\",\"first\":\"p0\",\"second\":0},{\"$pair\":\"pair<TString,int,TFormulaParamOrder>\",\"first\":\"p1\",\"second\":1},{\"$pair\":\"pair<TString,int,TFormulaParamOrder>\",\"first\":\"p2\",\"second\":2},{\"$pair\":\"pair<TString,int,TFormulaParamOrder>\",\"first\":\"p3\",\"second\":3}],\"fFormula\":\"([p0]+[p1]*x+[p2]*TMath::Sq(x)+[p3]*pow(x,3))\",\"fNdim\":1,\"fLinearParts\":[],\"fVectorized\":false},\"fParams\":null,\"fComposition\":null},{\"$ref\":5},{\"_typename\":\"TH1D\",\"fUniqueID\":0,\"fBits\":8,\"fName\":\"ggH\",\"fTitle\":\"Diphoton invariant mass\",\"fLineColor\":602,\"fLineStyle\":1,\"fLineWidth\":1,\"fFillColor\":0,\"fFillStyle\":1001,\"fMarkerColor\":1,\"fMarkerStyle\":1,\"fMarkerSize\":1,\"fNcells\":32,\"fXaxis\":{\"_typename\":\"TAxis\",\"fUniqueID\":0,\"fBits\":0,\"fName\":\"xaxis\",\"fTitle\":\" m_{#gamma#gamma} [GeV]\",\"fNdivisions\":510,\"fAxisColor\":1,\"fLabelColor\":1,\"fLabelFont\":42,\"fLabelOffset\":0.005,\"fLabelSize\":0.035,\"fTickLength\":0.03,\"fTitleOffset\":1,\"fTitleSize\":0.035,\"fTitleColor\":1,\"fTitleFont\":42,\"fNbins\":30,\"fXmin\":105,\"fXmax\":160,\"fXbins\":[],\"fFirst\":0,\"fLast\":0,\"fBits2\":0,\"fTimeDisplay\":false,\"fTimeFormat\":\"\",\"fLabels\":null,\"fModLabs\":null},\"fYaxis\":{\"_typename\":\"TAxis\",\"fUniqueID\":0,\"fBits\":0,\"fName\":\"yaxis\",\"fTitle\":\"Events \\/ bin\",\"fNdivisions\":510,\"fAxisColor\":1,\"fLabelColor\":1,\"fLabelFont\":42,\"fLabelOffset\":0.005,\"fLabelSize\":0.035,\"fTickLength\":0.03,\"fTitleOffset\":0,\"fTitleSize\":0.035,\"fTitleColor\":1,\"fTitleFont\":42,\"fNbins\":1,\"fXmin\":0,\"fXmax\":1,\"fXbins\":[],\"fFirst\":0,\"fLast\":0,\"fBits2\":0,\"fTimeDisplay\":false,\"fTimeFormat\":\"\",\"fLabels\":null,\"fModLabs\":null},\"fZaxis\":{\"_typename\":\"TAxis\",\"fUniqueID\":0,\"fBits\":0,\"fName\":\"zaxis\",\"fTitle\":\"\",\"fNdivisions\":510,\"fAxisColor\":1,\"fLabelColor\":1,\"fLabelFont\":42,\"fLabelOffset\":0.005,\"fLabelSize\":0.035,\"fTickLength\":0.03,\"fTitleOffset\":1,\"fTitleSize\":0.035,\"fTitleColor\":1,\"fTitleFont\":42,\"fNbins\":1,\"fXmin\":0,\"fXmax\":1,\"fXbins\":[],\"fFirst\":0,\"fLast\":0,\"fBits2\":0,\"fTimeDisplay\":false,\"fTimeFormat\":\"\",\"fLabels\":null,\"fModLabs\":null},\"fBarOffset\":0,\"fBarWidth\":1000,\"fEntries\":684143,\"fTsumw\":1026.528,\"fTsumw2\":1.76358336524917,\"fTsumwx\":128229.471600831,\"fTsumwx2\":16024782.3180798,\"fMaximum\":-1111,\"fMinimum\":-1111,\"fNormFactor\":0,\"fContour\":[],\"fSumw2\":{\"$arr\":\"Float64\",\"len\":32,\"p\":1,\"v\":[8.78872141931629e-5,1.83046605402147e-4,2.68126677602649e-4,5.13718324446994e-4,0.00108595465388569,0.00269432831253374,0.00873042447299299,0.0309612817378115,0.103811177816378,0.282088864045945,0.520225612463127,0.480385023796055,0.230138461165741,0.0751536633733248,0.0205645355412486,0.0048598244623729,0.00110776083637311,3.97462245915358e-4,1.18435858699082e-4,1.34713531480237e-4,2.93694471653131e-5,2.04035955038685e-5,1.24458225681667e-5,4.00065642304888e-6,0,0,8.21079445616477e-7,3.40724956943386e-6,8.65699909355204e-7,1.74856285551755e-6]},\"fOption\":\"\",\"fFunctions\":{\"_typename\":\"TList\",\"name\":\"TList\",\"arr\":[],\"opt\":[]},\"fBufferSize\":0,\"fBuffer\":[],\"fBinStatErrOpt\":0,\"fStatOverflows\":2,\"fArray\":{\"$arr\":\"Float64\",\"len\":32,\"p\":1,\"v\":[0.0503378332560401,0.101457974296248,0.151946883741912,0.297488540996231,0.6341075259969,1.56653981982534,5.065067744052,18.0960041271253,60.3706834683866,164.795308066533,301.943635574715,279.375130224628,134.216036493364,43.9779327448643,12.0178159105452,2.8134069626238,0.643842924344209,0.231246024943583,0.0658712075588556,0.068673125815374,0.0195744474101982,0.0115694609700606,0.00680309770208265,0.0025150459886755,0,0,9.06134341925344e-4,0.00184587366020372,9.30429959403288e-4,0.00132233235440927]}},{\"_typename\":\"TLegend\",\"fUniqueID\":0,\"fBits\":8,\"fLineColor\":1,\"fLineStyle\":1,\"fLineWidth\":1,\"fFillColor\":0,\"fFillStyle\":0,\"fX1\":136.234567920596,\"fY1\":4888.88929801392,\"fX2\":155.925925960683,\"fY2\":7555.55564238515,\"fX1NDC\":0.6,\"fY1NDC\":0.55,\"fX2NDC\":0.89,\"fY2NDC\":0.85,\"fBorderSize\":0,\"fInit\":1,\"fShadowColor\":1,\"fCornerRadius\":0,\"fOption\":\"brNDC\",\"fName\":\"TPave\",\"fTextAngle\":0,\"fTextSize\":0.05,\"fTextAlign\":32,\"fTextColor\":1,\"fTextFont\":42,\"fPrimitives\":{\"_typename\":\"TList\",\"name\":\"TList\",\"arr\":[{\"_typename\":\"TLegendEntry\",\"fUniqueID\":0,\"fBits\":0,\"fTextAngle\":0,\"fTextSize\":0,\"fTextAlign\":0,\"fTextColor\":0,\"fTextFont\":42,\"fLineColor\":1,\"fLineStyle\":1,\"fLineWidth\":2,\"fFillColor\":0,\"fFillStyle\":0,\"fMarkerColor\":1,\"fMarkerStyle\":20,\"fMarkerSize\":1.2,\"fObject\":{\"$ref\":5},\"fLabel\":\"Data\",\"fOption\":\"lep\"},{\"_typename\":\"TLegendEntry\",\"fUniqueID\":0,\"fBits\":0,\"fTextAngle\":0,\"fTextSize\":0,\"fTextAlign\":0,\"fTextColor\":0,\"fTextFont\":42,\"fLineColor\":4,\"fLineStyle\":2,\"fLineWidth\":2,\"fFillColor\":0,\"fFillStyle\":0,\"fMarkerColor\":1,\"fMarkerStyle\":21,\"fMarkerSize\":1,\"fObject\":{\"$ref\":14},\"fLabel\":\"Background\",\"fOption\":\"l\"},{\"_typename\":\"TLegendEntry\",\"fUniqueID\":0,\"fBits\":0,\"fTextAngle\":0,\"fTextSize\":0,\"fTextAlign\":0,\"fTextColor\":0,\"fTextFont\":42,\"fLineColor\":2,\"fLineStyle\":1,\"fLineWidth\":2,\"fFillColor\":0,\"fFillStyle\":0,\"fMarkerColor\":1,\"fMarkerStyle\":21,\"fMarkerSize\":1,\"fObject\":{\"$ref\":12},\"fLabel\":\"Signal + Bkg.\",\"fOption\":\"l\"},{\"_typename\":\"TLegendEntry\",\"fUniqueID\":0,\"fBits\":0,\"fTextAngle\":0,\"fTextSize\":0,\"fTextAlign\":0,\"fTextColor\":0,\"fTextFont\":42,\"fLineColor\":602,\"fLineStyle\":1,\"fLineWidth\":1,\"fFillColor\":0,\"fFillStyle\":0,\"fMarkerColor\":1,\"fMarkerStyle\":21,\"fMarkerSize\":1,\"fObject\":{\"$ref\":16},\"fLabel\":\"Signal\",\"fOption\":\"l\"}],\"opt\":[\"lep\",\"l\",\"l\",\"l\"]},\"fEntrySeparation\":0.1,\"fMargin\":0.25,\"fNColumns\":1,\"fColumnSeparation\":0},{\"_typename\":\"TLatex\",\"fUniqueID\":0,\"fBits\":16393,\"fName\":\"\",\"fTitle\":\"ATLAS\",\"fTextAngle\":0,\"fTextSize\":0.05,\"fTextAlign\":11,\"fTextColor\":1,\"fTextFont\":72,\"fX\":0.18,\"fY\":0.84,\"fLineColor\":1,\"fLineStyle\":1,\"fLineWidth\":2,\"fLimitFactorSize\":3,\"fOriginSize\":0.04},{\"_typename\":\"TLatex\",\"fUniqueID\":0,\"fBits\":16393,\"fName\":\"\",\"fTitle\":\"Open Data\",\"fTextAngle\":0,\"fTextSize\":0.05,\"fTextAlign\":11,\"fTextColor\":1,\"fTextFont\":42,\"fX\":0.31,\"fY\":0.84,\"fLineColor\":1,\"fLineStyle\":1,\"fLineWidth\":2,\"fLimitFactorSize\":3,\"fOriginSize\":0.04},{\"_typename\":\"TLatex\",\"fUniqueID\":0,\"fBits\":16393,\"fName\":\"\",\"fTitle\":\"#sqrt{s} = 13 TeV, 10 fb^{-1}\",\"fTextAngle\":0,\"fTextSize\":0.04,\"fTextAlign\":11,\"fTextColor\":1,\"fTextFont\":42,\"fX\":0.18,\"fY\":0.78,\"fLineColor\":1,\"fLineStyle\":1,\"fLineWidth\":2,\"fLimitFactorSize\":3,\"fOriginSize\":0.04}],\"opt\":[\"\",\"E \",\"SAME\",\"SAME\",\"E SAME\",\"HIST SAME\",\"SAME\",\"\",\"\",\"\"]},\"fExecs\":{\"_typename\":\"TList\",\"name\":\"TList\",\"arr\":[],\"opt\":[]},\"fName\":\"upper_pad\",\"fTitle\":\"\",\"fNumPaletteColor\":0,\"fNextPaletteColor\":0},{\"_typename\":\"TPad\",\"fUniqueID\":0,\"fBits\":9,\"fLineColor\":1,\"fLineStyle\":1,\"fLineWidth\":1,\"fFillColor\":0,\"fFillStyle\":1001,\"fLeftMargin\":0.14,\"fRightMargin\":0.05,\"fBottomMargin\":0.1,\"fTopMargin\":0,\"fXfile\":2,\"fYfile\":2,\"fAfile\":1,\"fXstat\":0.99,\"fYstat\":0.99,\"fAstat\":2,\"fFrameFillColor\":0,\"fFrameLineColor\":1,\"fFrameFillStyle\":1001,\"fFrameLineStyle\":1,\"fFrameLineWidth\":1,\"fFrameBorderSize\":1,\"fFrameBorderMode\":0,\"fX1\":95.4938271480024,\"fY1\":-191.666668391338,\"fX2\":163.395061768992,\"fY2\":225,\"fXtoAbsPixelk\":-978.829040015753,\"fXtoPixelk\":-978.829040015753,\"fXtoPixel\":10.2501818101677,\"fYtoAbsPixelk\":625.685249531999,\"fYtoPixelk\":113.065249531999,\"fYtoPixel\":-0.502511997919997,\"fUtoAbsPixelk\":5e-5,\"fUtoPixelk\":5e-5,\"fUtoPixel\":696,\"fVtoAbsPixelk\":722.00005,\"fVtoPixelk\":209.38,\"fVtoPixel\":-209.38,\"fAbsPixeltoXk\":95.4938271480024,\"fPixeltoXk\":95.4938271480024,\"fPixeltoX\":0.0975592451451004,\"fAbsPixeltoYk\":1245.11494675121,\"fPixeltoYk\":-191.666668391338,\"fPixeltoY\":-1.99000223703954,\"fXlowNDC\":0,\"fYlowNDC\":0,\"fXUpNDC\":1,\"fYUpNDC\":0.29,\"fWNDC\":1,\"fHNDC\":0.29,\"fAbsXlowNDC\":0,\"fAbsYlowNDC\":0,\"fAbsWNDC\":1,\"fAbsHNDC\":0.29,\"fUxmin\":105,\"fUymin\":-150,\"fUxmax\":160,\"fUymax\":225,\"fTheta\":30,\"fPhi\":30,\"fAspectRatio\":0,\"fNumber\":0,\"fTickx\":0,\"fTicky\":0,\"fLogx\":0,\"fLogy\":0,\"fLogz\":0,\"fPadPaint\":0,\"fCrosshair\":0,\"fCrosshairPos\":0,\"fBorderSize\":2,\"fBorderMode\":0,\"fModified\":false,\"fGridx\":false,\"fGridy\":false,\"fAbsCoord\":false,\"fEditable\":true,\"fFixedAspectRatio\":false,\"fPrimitives\":{\"_typename\":\"TList\",\"name\":\"TList\",\"arr\":[{\"_typename\":\"TFrame\",\"fUniqueID\":0,\"fBits\":8,\"fLineColor\":1,\"fLineStyle\":1,\"fLineWidth\":1,\"fFillColor\":0,\"fFillStyle\":1001,\"fX1\":105,\"fY1\":-150,\"fX2\":160,\"fY2\":225,\"fBorderSize\":1,\"fBorderMode\":0},{\"_typename\":\"TH1F\",\"fUniqueID\":0,\"fBits\":520,\"fName\":\"ratiofit\",\"fTitle\":\"\",\"fLineColor\":2,\"fLineStyle\":1,\"fLineWidth\":2,\"fFillColor\":0,\"fFillStyle\":1001,\"fMarkerColor\":1,\"fMarkerStyle\":20,\"fMarkerSize\":1.2,\"fNcells\":5502,\"fXaxis\":{\"_typename\":\"TAxis\",\"fUniqueID\":0,\"fBits\":0,\"fName\":\"xaxis\",\"fTitle\":\"m_{#gamma#gamma} [GeV]\",\"fNdivisions\":510,\"fAxisColor\":1,\"fLabelColor\":1,\"fLabelFont\":42,\"fLabelOffset\":0.005,\"fLabelSize\":0.08,\"fTickLength\":0.03,\"fTitleOffset\":1,\"fTitleSize\":0.08,\"fTitleColor\":1,\"fTitleFont\":42,\"fNbins\":5500,\"fXmin\":105,\"fXmax\":160,\"fXbins\":[],\"fFirst\":0,\"fLast\":0,\"fBits2\":0,\"fTimeDisplay\":false,\"fTimeFormat\":\"\",\"fLabels\":null,\"fModLabs\":null},\"fYaxis\":{\"_typename\":\"TAxis\",\"fUniqueID\":0,\"fBits\":4096,\"fName\":\"yaxis\",\"fTitle\":\"Data - bkg\",\"fNdivisions\":-503,\"fAxisColor\":1,\"fLabelColor\":1,\"fLabelFont\":42,\"fLabelOffset\":0.005,\"fLabelSize\":0.08,\"fTickLength\":0.03,\"fTitleOffset\":0,\"fTitleSize\":0.08,\"fTitleColor\":1,\"fTitleFont\":42,\"fNbins\":1,\"fXmin\":0,\"fXmax\":1,\"fXbins\":[],\"fFirst\":0,\"fLast\":0,\"fBits2\":0,\"fTimeDisplay\":false,\"fTimeFormat\":\"\",\"fLabels\":null,\"fModLabs\":null},\"fZaxis\":{\"_typename\":\"TAxis\",\"fUniqueID\":0,\"fBits\":0,\"fName\":\"zaxis\",\"fTitle\":\"\",\"fNdivisions\":510,\"fAxisColor\":1,\"fLabelColor\":1,\"fLabelFont\":42,\"fLabelOffset\":0.005,\"fLabelSize\":0.035,\"fTickLength\":0.03,\"fTitleOffset\":1,\"fTitleSize\":0.035,\"fTitleColor\":1,\"fTitleFont\":42,\"fNbins\":1,\"fXmin\":0,\"fXmax\":1,\"fXbins\":[],\"fFirst\":0,\"fLast\":0,\"fBits2\":0,\"fTimeDisplay\":false,\"fTimeFormat\":\"\",\"fLabels\":null,\"fModLabs\":null},\"fBarOffset\":0,\"fBarWidth\":1000,\"fEntries\":0,\"fTsumw\":0,\"fTsumw2\":0,\"fTsumwx\":0,\"fTsumwx2\":0,\"fMaximum\":225,\"fMinimum\":-150,\"fNormFactor\":0,\"fContour\":[],\"fSumw2\":[],\"fOption\":\"\",\"fFunctions\":{\"_typename\":\"TList\",\"name\":\"TList\",\"arr\":[],\"opt\":[]},\"fBufferSize\":0,\"fBuffer\":[],\"fBinStatErrOpt\":0,\"fStatOverflows\":2,\"fArray\":{\"$arr\":\"Float32\",\"len\":5502,\"p\":678,\"v\":[4.882812e-4,0,0,0,0,0,0,0,0,4.882812e-4,0,4.882812e-4,0,0,0,0,0,0,0,0,4.882812e-4],\"p1\":722,\"v1\":[4.882812e-4,0,0,0,0,0,0,0,0,4.882812e-4,0,4.882812e-4,0,0,0,0,0,4.882812e-4,4.882812e-4,0,0,0,4.882812e-4,4.882812e-4,4.882812e-4,0,4.882812e-4,0,0,4.882812e-4,0,0,0,0,0,0,0,4.882812e-4,4.882812e-4,4.882812e-4,4.882812e-4,0,0,4.882812e-4,4.882812e-4,4.882812e-4,0,4.882812e-4,4.882812e-4,4.882812e-4,4.882812e-4,4.882812e-4,0,0,4.882812e-4,0,0,4.882812e-4,0,0,4.882812e-4,0],\"v2\":4.882812e-4,\"n2\":6,\"p3\":791,\"v3\":4.882812e-4,\"n3\":6,\"p4\":798,\"v4\":[4.882812e-4,4.882812e-4,0],\"v5\":4.882812e-4,\"n5\":14,\"v6\":[9.765625e-4,9.765625e-4,4.882812e-4,4.882812e-4,9.765625e-4,4.882812e-4,4.882812e-4,4.882812e-4,4.882812e-4,9.765625e-4,4.882812e-4,4.882812e-4,4.882812e-4,4.882812e-4,7.324219e-4,7.324219e-4,7.324219e-4,7.324219e-4,9.765625e-4,9.765625e-4,7.324219e-4,9.765625e-4,7.324219e-4,7.324219e-4,7.324219e-4,7.324219e-4],\"v7\":9.765625e-4,\"n7\":11,\"v8\":[0.001220703,0.001220703,0.001220703,0.001220703,0.001464844,0.001220703,0.001220703,0.001220703],\"v9\":0.001464844,\"n9\":9,\"v10\":[0.001708984,0.001464844,0.001708984,0.001708984,0.001708984,0.001708984,0.001953125,0.001708984,0.001953125,0.001708984,0.001953125,0.001953125,0.001953125,0.001953125,0.002197266,0.002197266,0.002441406,0.002197266,0.002197266,0.002197266,0.002441406,0.002441406,0.002441406,0.002685547,0.002441406,0.002441406,0.002685547,0.002685547,0.002685547,0.002929688,0.002929688,0.002929688,0.002929688,0.003173828,0.002929688,0.003173828,0.003417969,0.003173828,0.003417969,0.003662109,0.003417969,0.003662109,0.003662109,0.003662109,0.00390625,0.00390625,0.00390625,0.004150391,0.00390625,0.004150391,0.004394531,0.004150391,0.004394531,0.004638672,0.004638672,0.004638672,0.004882812,0.004882812,0.004882812,0.005126953,0.005126953,0.005126953,0.005371094,0.005371094,0.005371094,0.005615234,0.005859375,0.005859375,0.005859375,0.006103516,0.006103516,0.006347656,0.006591797,0.006591797,0.006835938,0.006835938,0.007080078,0.006835938,0.007324219,0.007324219,0.007568359,0.007568359,0.0078125,0.0078125,0.008056641,0.008056641,0.008300781,0.008544922,0.008789062,0.008789062,0.008789062,0.009277344,0.009277344,0.009521484,0.009521484,0.009765625,0.01000977,0.01025391,0.01049805,0.01049805,0.01074219,0.01098633,0.01123047,0.01147461,0.01147461,0.01171875,0.01196289,0.01196289,0.01220703,0.01269531,0.01269531,0.01293945,0.01318359,0.01367188,0.01367188,0.01391602,0.01416016,0.01464844,0.01489258,0.01513672,0.01538086,0.015625,0.01586914,0.01611328,0.01635742,0.0168457,0.01708984,0.01733398,0.01757812,0.01806641,0.01831055,0.01855469,0.01879883,0.01928711,0.01953125,0.02001953,0.02026367,0.02075195,0.02099609,0.02148438,0.02172852,0.0222168,0.02246094,0.02294922,0.02319336,0.02392578,0.02416992,0.0246582,0.02490234,0.02563477,0.02587891,0.02636719,0.02685547,0.02734375,0.02783203,0.02832031,0.02880859,0.02905273,0.02978516,0.03027344,0.03076172,0.03125,0.03173828,0.03222656,0.03295898,0.03369141,0.03393555,0.03466797,0.03540039,0.03588867,0.03637695,0.03710938,0.03759766,0.03833008,0.0390625,0.03955078,0.0402832,0.04077148,0.04174805,0.04248047,0.04296875,0.04394531,0.04443359,0.04541016,0.04589844,0.046875,0.04760742,0.04833984,0.04907227,0.04980469,0.05078125,0.05151367,0.05249023,0.0534668,0.05419922,0.05517578,0.05615234,0.05712891,0.05786133,0.05908203,0.05981445,0.06079102,0.06201172,0.06274414,0.06396484,0.06494141,0.06591797,0.06713867,0.06811523,0.06933594,0.07055664,0.0715332,0.07275391,0.07397461,0.07519531,0.07617188,0.07763672,0.07885742,0.08007812,0.08154297,0.08251953,0.08398438,0.08544922,0.08666992,0.08813477,0.08959961,0.09106445,0.0925293,0.09375,0.09521484,0.09692383,0.09838867,0.1000977,0.1015625,0.1032715,0.1049805,0.1066895,0.1081543,0.1098633,0.1118164,0.1135254,0.1152344,0.1169434,0.1188965,0.1208496,0.1225586,0.1245117,0.1264648,0.128418,0.1303711,0.1325684,0.1345215,0.1367188,0.1386719,0.1408691,0.1430664,0.1452637,0.1474609,0.1496582,0.1520996,0.1542969,0.1567383,0.1591797,0.1616211,0.1640625,0.1665039,0.1691895,0.1716309,0.1743164,0.177002,0.1796875,0.182373,0.1850586,0.1877441,0.190918,0.1938477,0.1967773,0.199707,0.2023926,0.2055664,0.2087402,0.2119141,0.2150879,0.2182617,0.2214355,0.2248535,0.2282715,0.2316895,0.2348633,0.2385254,0.2421875,0.2456055,0.2492676,0.2531738,0.2565918,0.260498,0.2644043,0.2680664,0.2722168,0.2763672,0.2802734,0.2841797,0.2885742,0.2929688,0.2971191,0.3012695,0.3059082,0.3103027,0.3146973,0.3190918,0.3239746,0.3286133,0.333252,0.3381348,0.3430176,0.3479004,0.3530273,0.3581543,0.3632812,0.3684082,0.3735352,0.3791504,0.3845215,0.3898926,0.3952637,0.401123,0.4069824,0.4123535,0.418457,0.4243164,0.4301758,0.4365234,0.442627,0.4487305,0.4550781,0.4616699,0.4677734,0.4743652,0.4812012,0.4880371,0.4946289,0.501709,0.5085449,0.515625,0.5229492,0.5302734,0.5375977,0.5446777,0.5522461,0.5600586,0.5678711,0.5754395,0.5834961,0.5915527,0.5996094,0.607666,0.6159668,0.6245117,0.6330566,0.6416016,0.6503906,0.6594238,0.6682129,0.6772461,0.6862793,0.6958008,0.7050781,0.7145996,0.7241211,0.7338867,0.7438965,0.7539062,0.763916,0.7739258,0.7844238,0.7949219,0.8054199,0.8164062,0.8271484,0.8378906,0.8491211,0.8605957,0.8718262,0.8833008,0.8950195,0.9064941,0.9187012,0.9306641,0.9428711,0.9550781,0.9677734,0.9802246,0.9931641,1.006104,1.019043,1.032227,1.045654,1.059326,1.072998,1.086914,1.10083,1.11499,1.129395,1.144043,1.158691,1.17334,1.188477,1.203613,1.218994,1.234375,1.25,1.266113,1.282227,1.29834,1.314697,1.331299,1.348389,1.365234,1.382324,1.399658,1.417236,1.435059,1.453125,1.471191,1.489502,1.508057,1.526611,1.545654,1.564941,1.584229,1.60376,1.623779,1.643555,1.664062,1.684326,1.705078,1.72583,1.74707,1.768555,1.790039,1.812012,1.833984,1.856201,1.878662,1.901611,1.924561,1.947754,1.971191,1.994873,2.019043,2.043213,2.067871,2.092529,2.117432,2.142822,2.168213,2.194092,2.220215,2.246582,2.273438,2.300049,2.327393,2.354736,2.382568,2.410645,2.438965,2.467529,2.496338,2.525635,2.554932,2.584717,2.61499,2.645264,2.675781,2.707031,2.738281,2.769775,2.802002,2.834229,2.866699,2.899658,2.932861,2.966553,3.000244,3.034424,3.069092,3.104004,3.139404,3.174805,3.210693,3.24707,3.283936,3.320801,3.358154,3.395752,3.433838,3.472412,3.51123,3.550293,3.589844,3.629883,3.670166,3.710938,3.751953,3.793457,3.835449,3.877686,3.920166,3.963135,4.006836,4.050781,4.094971,4.139404,4.184814,4.230225,4.276123,4.32251,4.369385,4.416748,4.464111,4.512207,4.560791,4.609619,4.65918,4.708984,4.759521,4.810059,4.861328,4.912842,4.965088,5.017822,5.070801,5.124268,5.178467,5.232666,5.287842,5.343262,5.399414,5.455811,5.512451,5.570068,5.62793,5.686279,5.745361,5.804688,5.864746,5.925293,5.986084,6.047852,6.109863,6.172363,6.235352,6.299316,6.363281,6.427979,6.493408,6.559082,6.625488,6.692383,6.76001,6.827881,6.896484,6.96582,7.035156,7.105713,7.176514,7.248047,7.320068,7.392822,7.466064,7.539795,7.614258,7.689209,7.764648,7.841064,7.917969,7.995117,8.073486,8.1521,8.231445,8.311279,8.391846,8.473145,8.554688,8.637207,8.720459,8.804199,8.888672,8.973633,9.059326,9.145752,9.232666,9.320557,9.408691,9.497803,9.587646,9.677734,9.769043,9.86084,9.953369,10.04639,10.14014,10.23462,10.32983,10.42578,10.52246,10.61987,10.71802,10.81665,10.91626,11.01636,11.11743,11.21899,11.32129,11.42456,11.52832,11.63306,11.73828,11.84448,11.95117,12.05884,12.16724,12.27637,12.38623,12.49683,12.6084,12.72046,12.8335,12.94727,13.06177,13.177,13.29321,13.40991,13.52783,13.646,13.76538,13.88525,14.00635,14.12793,14.25049,14.37378,14.4978,14.62256,14.74829,14.875,15.0022,15.13062,15.25928,15.38916,15.52002,15.65161,15.78394,15.91699,16.05127,16.18604,16.32153,16.45825,16.5957,16.73389,16.87305,17.01318,17.15405,17.2959,17.43848,17.58179,17.72607,17.87134,18.01733,18.16431,18.31226,18.46094,18.61035,18.76074,18.91235,19.06445,19.21777,19.37183,19.52686,19.68262,19.83936,19.99683,20.15527,20.3147,20.4751,20.63623,20.79834,20.96143,21.12549,21.29028,21.45581,21.6228,21.79004,21.95874,22.12817,22.29858,22.46973,22.64185,22.81494,22.98901,23.16382,23.33984,23.5166,23.69434,23.8728,24.05249,24.23267,24.41431,24.59668,24.77979,24.96387,25.14917,25.33521,25.52222,25.70996,25.89893,26.08862,26.2793,26.47095,26.66357,26.85693,27.05127,27.24683,27.44312,27.64014,27.83838,28.0376,28.23755,28.43823,28.64014,28.84302,29.04688,29.25146,29.45679,29.66333,29.87085,30.0791,30.28833,30.49854,30.70947,30.92139,31.13452,31.34839,31.56323,31.77881,31.99536,32.21289,32.4314,32.65063,32.87085,33.09204,33.31421,33.53711,33.76074,33.98584,34.21118,34.43774,34.66528,34.89355,35.1228,35.35278,35.58398,35.81592,36.04858,36.28223,36.5166,36.7522,36.98828,37.22534,37.46338,37.70215,37.94189,38.18237,38.42383,38.66602,38.90918,39.15308,39.39795,39.64355,39.88989,40.13721,40.38525,40.63428,40.88403,41.13452,41.38599,41.63818,41.89111,42.14478,42.39941,42.65479,42.91113,43.16797,43.42554,43.68408,43.94336,44.20361,44.46436,44.72583,44.98804,45.25098,45.51489,45.7793,46.04468,46.31055,46.57739,46.84473,47.11279,47.38159,47.65112,47.92139,48.19214,48.46387,48.73608,49.00903,49.28247,49.55688,49.83179,50.10742,50.38354,50.6604,50.93799,51.21606,51.49463,51.77417,52.05396,52.33447,52.61548,52.89722,53.17944,53.4624,53.74585,54.02979,54.31421,54.59912,54.88477,55.1709,55.45752,55.74487,56.03223,56.32056,56.60938,56.89844,57.18774,57.47803,57.76855,58.05933,58.35107,58.64282,58.9353,59.22803,59.521,59.8147,60.1084,60.40259,60.69751,60.99243,61.28784,61.58374,61.87988,62.17603,62.4729,62.77002,63.06763,63.36523,63.66333,63.96167,64.26001,64.55884,64.85791,65.15723,65.45679,65.75635,66.05664,66.35693,66.65698,66.95776,67.25854,67.55957,67.8606,68.16187,68.46313,68.76465,69.06616,69.36792,69.66968,69.97168,70.27368,70.57568,70.87793,71.18018,71.48218,71.78442,72.08667,72.38892,72.69116,72.99341,73.29565,73.5979,73.8999,74.20215,74.50391,74.80591,75.10742,75.40942,75.71094,76.01245,76.31396,76.61499,76.91602,77.2168,77.51758,77.81812,78.11841,78.41846,78.71851,79.01782,79.31714,79.61621,79.91504,80.21387,80.51196,80.80981,81.10742,81.40503,81.7019,81.99854,82.29468,82.59058,82.88599,83.18115,83.47607,83.77002,84.06396,84.35718,84.65039,84.94287,85.23486,85.52612,85.81714,86.10742,86.39771,86.68677,86.97583,87.26392,87.55151,87.83887,88.125,88.41089,88.69629,88.98096,89.26489,89.54834,89.83081,90.11279,90.39404,90.67456,90.95459,91.23364,91.51172,91.78955,92.06616,92.34229,92.61743,92.89185,93.16553,93.43823,93.71021,93.9812,94.25146,94.52075,94.78931,95.05688,95.32324,95.58911,95.85376,96.11792,96.38062,96.64233,96.90356,97.16333,97.42212,97.67993,97.93701,98.19287,98.44751,98.70117,98.95361,99.20532,99.45581,99.70483,99.95312,100.2002,100.446,100.6907,100.9346,101.1768,101.418,101.6577,101.8967,102.1343,102.3706,102.6055,102.8394,103.0718,103.3032,103.5332,103.7617,103.989,104.2148,104.4397,104.6628,104.8848,105.1055,105.3245,105.5422,105.7588,105.9739,106.1873,106.3994,106.6104,106.8193,107.0271,107.2336,107.4382,107.6416,107.8435,108.0437,108.2427,108.4399,108.6357,108.8298,109.0222,109.2134,109.4028,109.5906,109.7769,109.9614,110.1445,110.3259,110.5056,110.6838,110.8604,111.0352,111.2083,111.3796,111.5496,111.7178,111.884,112.0486,112.2114,112.3726,112.5322,112.6899,112.8457,113.0002,113.1523,113.303,113.4521,113.5991,113.7444,113.8877,114.0295,114.1692,114.3074,114.4436,114.5779,114.7104,114.8411,114.9697,115.0967,115.2214,115.3445,115.4658,115.5852,115.7026,115.8181,115.9316,116.0432,116.1531,116.261,116.3669,116.4709,116.5728,116.6729,116.7708,116.8669,116.9612,117.0532,117.1436,117.2317,117.3179,117.4021,117.4844,117.5647,117.6428,117.719,117.7935,117.8655,117.9358,118.0039,118.0701,118.1343,118.1963,118.2561,118.3142,118.3701,118.4241,118.4761,118.5256,118.5735,118.6191,118.6626,118.7041,118.7437,118.781,118.8164,118.8499,118.8811,118.9102,118.937,118.9622,118.9851,119.0061,119.0247,119.0415,119.0562,119.0684,119.0789,119.0872,119.0935,119.0977,119.0996,119.0999,119.0977,119.0935,119.0872,119.0789,119.0684,119.0559,119.0413,119.0247,119.0061,118.9851,118.9622,118.937,118.9102,118.8811,118.8499,118.8164,118.7812,118.7437,118.7043,118.6628,118.6189,118.5735,118.5256,118.4758,118.4241,118.3704,118.314,118.2563,118.1963,118.1343,118.0698,118.0039,117.9358,117.8657,117.7935,117.7192,117.6431,117.5647,117.4844,117.4023,117.3181,117.2317,117.1436,117.0535,116.9609,116.8669,116.771,116.6729,116.5728,116.4707,116.3667,116.261,116.1531,116.0432,115.9316,115.8179,115.7024,115.585,115.4658,115.3445,115.2214,115.0964,114.9695,114.8408,114.7102,114.5779,114.4434,114.3074,114.1692,114.0295,113.8879,113.7444,113.5991,113.4519,113.3032,113.1523,113,112.8459,112.6899,112.5322,112.3728,112.2114,112.0488,111.8838,111.7178,111.5496,111.3799,111.2083,111.0352,110.8604,110.6838,110.5059,110.3259,110.1445,109.9614,109.7769,109.5906,109.4028,109.2131,109.0225,108.8296,108.6355,108.4397,108.2424,108.0439,107.8435,107.6416,107.4382,107.2336,107.0273,106.8193,106.6101,106.3994,106.1873,105.9736,105.7588,105.5422,105.3247,105.1055,104.8848,104.6628,104.4397,104.2151,103.9888,103.7615,103.533,103.303,103.0718,102.8391,102.6055,102.3706,102.134,101.8967,101.658,101.4177,101.1768,100.9343,100.6907,100.446,100.2002,99.95312,99.70508,99.45557,99.20532,98.95361,98.70117,98.44751,98.19287,97.93701,97.68018,97.42236,97.16333,96.90356,96.64258,96.38062,96.11768,95.854,95.58911,95.32349,95.05688,94.78931,94.52075,94.25146,93.98145,93.71021,93.43848,93.16528,92.89185,92.61743,92.34229,92.06616,91.78931,91.51172,91.23364,90.95435,90.67456,90.39404,90.11279,89.83081,89.54834,89.26489,88.98096,88.69629,88.41113,88.12524,87.83862,87.55176,87.26392,86.97559,86.68677,86.39746,86.10767,85.81714,85.52612,85.23462,84.94263,84.65015,84.35718,84.06396,83.77026,83.47583,83.18115,82.88623,82.59082,82.29468,81.99854,81.7019,81.40479,81.10767,80.81006,80.51196,80.21362,79.91528,79.61621,79.31714,79.01807,78.71826,78.41846,78.11816,77.81812,77.51758,77.2168,76.91602,76.61499,76.31372,76.01245,75.71118,75.40942,75.10767,74.80591,74.50391,74.2019,73.8999,73.5979,73.29565,72.99341,72.69116,72.38892,72.08667,71.78442,71.48218,71.17993,70.87793,70.57568,70.27368,69.97168,69.66992,69.36792,69.06616,68.7644,68.46313,68.16162,67.86035,67.55933,67.2583,66.95776,66.65723,66.35669,66.05664,65.75659,65.45679,65.15723,64.85791,64.55884,64.26001,63.96143,63.66333,63.36523,63.06738,62.77026,62.47314,62.17627,61.87964,61.5835,61.28809,60.99243,60.69751,60.40283,60.1084,59.81445,59.521,59.22778,58.93506,58.64282,58.35107,58.05933,57.76855,57.47803,57.18799,56.89844,56.60938,56.32056,56.03247,55.74463,55.45752,55.17114,54.88501,54.59937,54.31421,54.02979,53.74561,53.46216,53.17944,52.89722,52.61548,52.33447,52.05396,51.77417,51.49463,51.21606,50.93774,50.6604,50.38354,50.10718,49.83179,49.55688,49.28271,49.00903,48.73608,48.46362,48.19214,47.92139,47.65112,47.38159,47.11279,46.84448,46.57739,46.31055,46.04468,45.77954,45.51489,45.25098,44.98804,44.72583,44.46436,44.20337,43.94336,43.68408,43.42578,43.16797,42.91113,42.65479,42.39941,42.14478,41.89111,41.63794,41.38599,41.13452,40.88428,40.63428,40.3855,40.13721,39.88989,39.64355,39.39795,39.15332,38.90918,38.66626,38.42407,38.18237,37.94189,37.70215,37.46338,37.22559,36.98828,36.7522,36.51685,36.28223,36.04834,35.81567,35.58398,35.35303,35.1228,34.89355,34.66528,34.43799,34.21118,33.9856,33.76099,33.53711,33.31421,33.09229,32.87109,32.65088,32.4314,32.21289,31.99536,31.77881,31.56299,31.34839,31.13452,30.92163,30.70947,30.49829,30.28833,30.0791,29.87061,29.66333,29.45703,29.25122,29.04663,28.84277,28.64038,28.43823,28.23755,28.03735,27.83838,27.64014,27.44312,27.24658,27.05151,26.85693,26.66357,26.47095,26.2793,26.08862,25.89893,25.71021,25.52197,25.33521,25.14917,24.96411,24.77979,24.59644,24.41431,24.23291,24.05249,23.8728,23.69434,23.5166,23.33984,23.16382,22.98901,22.81494,22.64185,22.46973,22.29858,22.12793,21.95874,21.79028,21.62256,21.45581,21.29004,21.12524,20.96143,20.79834,20.63623,20.47485,20.3147,20.15527,19.99683,19.83936,19.68262,19.52661,19.37183,19.21777,19.0647,18.91235,18.76099,18.61035,18.46094,18.31226,18.16431,18.01758,17.87134,17.72632,17.58179,17.43823,17.29565,17.15405,17.01318,16.87305,16.73413,16.5957,16.45825,16.32178,16.18604,16.05127,15.91724,15.78394,15.65161,15.52002,15.38916,15.25952,15.13062,15.00244,14.87476,14.74829,14.62256,14.4978,14.37354,14.25049,14.12793,14.00635,13.8855,13.76538,13.64624,13.52759,13.40991,13.29321,13.17725,13.06177,12.94727,12.8335,12.72046,12.6084,12.49707,12.38647,12.27637,12.16724,12.05908,11.95142,11.84448,11.73828,11.63306,11.52832,11.42432,11.32129,11.21899,11.11719,11.01636,10.91626,10.81665,10.71802,10.61987,10.52246,10.42603,10.33008,10.23486,10.14014,10.04639,9.953369,9.86084,9.769043,9.677734,9.587646,9.497803,9.408936,9.320312,9.232666,9.145752,9.059326,8.973633,8.888672,8.804199,8.720459,8.637207,8.554932,8.473145,8.391846,8.311279,8.231445,8.151855,8.073486,7.995361,7.917725,7.841064,7.764648,7.688965,7.614014,7.539795,7.466064,7.392578,7.320068,7.248047,7.176514,7.105713,7.0354,6.96582,6.896484,6.827881,6.76001,6.692139,6.625488,6.559326,6.493408,6.428223,6.363281,6.299072,6.235596,6.172363,6.109863,6.047607,5.986328,5.925293,5.86499,5.804688,5.745605,5.686523,5.628174,5.570068,5.512695,5.455566,5.39917,5.343262,5.287842,5.23291,5.178467,5.124268,5.070801,5.017578,4.965332,4.913086,4.861328,4.810059,4.759521,4.709229,4.65918,4.609619,4.560791,4.512207,4.464111,4.416504,4.369385,4.322754,4.276123,4.230225,4.184814,4.139404,4.094971,4.050537,4.006836,3.963379,3.92041,3.877686,3.835205,3.793457,3.751953,3.710938,3.670166,3.629883,3.589844,3.550293,3.51123,3.472412,3.433838,3.395752,3.358154,3.320801,3.283691,3.247314,3.210938,3.175049,3.13916,3.104004,3.069092,3.034668,3.000244,2.966553,2.932861,2.899414,2.866699,2.834229,2.801758,2.77002,2.738281,2.707031,2.676025,2.645508,2.614746,2.584961,2.554932,2.525635,2.496338,2.467529,2.438721,2.410645,2.382568,2.354736,2.327393,2.300293,2.273193,2.246582,2.220215,2.194092,2.168457,2.142822,2.117676,2.092529,2.067627,2.043213,2.019043,1.995117,1.971191,1.947754,1.924561,1.901611,1.878906,1.856201,1.833984,1.811768,1.790039,1.768311,1.74707,1.726074,1.705078,1.684326,1.663818,1.643555,1.623535,1.604004,1.584229,1.564941,1.545654,1.526611,1.508057,1.489502,1.471191,1.452881,1.435059,1.417236,1.399658,1.382324,1.365234,1.348145,1.331543,1.314697,1.29834,1.281982,1.266113,1.250244,1.234619,1.218994,1.203613,1.188477,1.173584,1.158691,1.143799,1.129395,1.115234,1.10083,1.086914,1.072998,1.059326,1.045898,1.032471,1.019043,1.006104,0.9931641,0.9802246,0.9677734,0.9553223,0.9428711,0.9306641,0.9187012,0.9067383,0.8947754,0.8833008,0.8718262,0.8603516,0.8491211,0.8381348,0.8269043,0.8164062,0.8056641,0.7949219,0.7844238,0.7741699,0.763916,0.7536621,0.7438965,0.7338867,0.7243652,0.7145996,0.7050781,0.6958008,0.6865234,0.6772461,0.6682129,0.6591797,0.6503906,0.6416016,0.6330566,0.6245117,0.6162109,0.6079102,0.5996094,0.5913086,0.5834961,0.5754395,0.567627,0.5600586,0.5524902,0.5449219,0.5375977,0.5300293,0.5229492,0.5158691,0.5085449,0.5014648,0.494873,0.4880371,0.4812012,0.4746094,0.4680176,0.4616699,0.4550781,0.4487305,0.4423828,0.4365234,0.4304199,0.4243164,0.4182129,0.4123535,0.4067383,0.401123,0.3955078,0.3898926,0.3842773,0.3791504,0.3735352,0.3681641,0.3632812,0.3581543,0.3530273,0.3479004,0.3430176,0.3381348,0.333252,0.3286133,0.3239746,0.3193359,0.3146973,0.3103027,0.3056641,0.3012695,0.296875,0.2927246,0.2885742,0.2844238,0.2802734,0.2763672,0.2722168,0.2683105,0.2641602,0.260498,0.2565918,0.2531738,0.2492676,0.2456055,0.2421875,0.2385254,0.2351074,0.2316895,0.2282715,0.2246094,0.2214355,0.2182617,0.2148438,0.2119141,0.2087402,0.2058105,0.2026367,0.1994629,0.1967773,0.1938477,0.190918,0.1879883,0.1853027,0.182373,0.1796875,0.177002,0.1743164,0.171875,0.1689453,0.1665039,0.1640625,0.1616211,0.1591797,0.1567383,0.1542969,0.1520996,0.1499023,0.1474609,0.1452637,0.1430664,0.1408691,0.1386719,0.1364746,0.1345215,0.1323242,0.1303711,0.128418,0.1262207,0.1245117,0.1225586,0.1208496,0.1188965,0.1169434,0.1152344,0.1135254,0.1115723,0.1101074,0.1081543,0.1064453,0.1049805,0.1032715,0.1015625,0.09985352,0.09863281,0.09692383,0.09545898,0.09399414,0.0925293,0.09106445,0.08959961,0.08813477,0.08666992,0.08544922,0.08398438,0.08276367,0.08154297,0.08032227,0.07885742,0.07763672,0.07641602,0.07519531,0.07373047,0.07275391,0.0715332,0.07055664,0.06933594,0.06811523,0.06689453,0.06591797,0.06494141,0.06396484,0.06298828,0.06176758,0.06079102,0.06005859,0.05883789,0.05810547,0.05688477,0.05615234,0.05517578,0.05444336,0.0534668,0.05273438,0.05175781,0.05078125,0.05004883,0.04907227,0.04833984,0.04760742,0.046875,0.04589844,0.04541016,0.04443359,0.04394531,0.04296875,0.04223633,0.04174805,0.04077148,0.0402832,0.03955078,0.0390625,0.03833008,0.0378418,0.03710938,0.03662109,0.03588867,0.03540039,0.03466797,0.03417969,0.03344727,0.03295898,0.03222656,0.03173828,0.03149414,0.03076172,0.03027344,0.02954102,0.02929688,0.02880859,0.02807617,0.02783203,0.02734375,0.02685547,0.02636719,0.02587891,0.0255127,0.02502441,0.0246582,0.02416992,0.02380371,0.02331543,0.02294922,0.02258301,0.0222168,0.02185059,0.0213623,0.02099609,0.02075195,0.02038574,0.02001953,0.01965332,0.01928711,0.0189209,0.01867676,0.01843262,0.01794434,0.0177002,0.01745605,0.01708984,0.0168457,0.01647949,0.01623535,0.01586914,0.015625,0.01538086,0.01513672,0.01489258,0.01452637,0.01428223,0.01416016,0.01379395,0.0135498,0.01330566,0.01306152,0.01293945,0.01269531,0.0123291,0.01220703,0.01196289,0.01171875,0.01159668,0.01135254,0.01123047,0.01098633,0.01074219,0.01049805,0.01025391,0.01013184,0.01000977,0.009765625,0.009643555,0.009521484,0.009277344,0.009155273,0.008911133,0.008789062,0.008544922,0.008544922,0.008422852,0.008178711,0.008056641,0.00793457,0.0078125,0.007568359,0.007446289,0.007324219,0.007202148,0.007080078,0.006958008,0.006835938,0.006591797,0.006591797,0.006347656,0.006347656,0.006225586,0.006103516,0.005981445,0.005859375,0.005737305,0.005615234,0.005493164,0.005493164,0.005371094,0.005249023,0.005249023,0.005004883,0.005004883,0.004760742,0.004760742,0.004760742,0.004638672,0.004516602,0.004394531,0.004394531,0.004272461,0.004272461,0.004150391,0.00402832,0.00390625,0.00390625,0.00378418,0.00378418,0.003662109,0.003662109,0.003540039,0.003417969,0.003417969,0.003295898,0.003295898,0.003173828,0.003173828,0.003051758,0.003051758,0.002929688,0.002929688,0.002929688,0.002807617,0.002807617,0.002685547,0.002685547,0.002563477,0.002563477,0.002441406,0.002441406,0.002441406,0.002441406,0.002319336,0.002319336,0.002197266,0.002197266,0.002075195,0.002075195,0.001953125,0.002075195,0.001953125,0.001953125,0.001831055,0.001953125,0.001831055,0.001831055,0.001831055,0.001708984,0.001586914,0.001708984,0.001586914,0.001586914,0.001586914,0.001586914,0.001464844,0.001464844,0.001464844,0.001342773,0.001342773,0.001342773,0.001342773,0.001342773,0.001220703,0.001220703,0.001220703,0.001220703,0.001098633,0.001098633,0.001220703,0.001098633,0.001098633,0.001098633,0.001098633],\"v11\":9.765625e-4,\"n11\":7,\"v12\":[8.544922e-4,9.765625e-4,8.544922e-4,7.324219e-4,8.544922e-4,7.324219e-4,7.324219e-4,8.544922e-4],\"v13\":7.324219e-4,\"n13\":7,\"v14\":6.103516e-4,\"n14\":10,\"v15\":[4.882812e-4,6.103516e-4,6.103516e-4,4.882812e-4,4.882812e-4,3.662109e-4,4.882812e-4,4.882812e-4,4.882812e-4,3.662109e-4,4.882812e-4,3.662109e-4,3.662109e-4,4.882812e-4],\"v16\":3.662109e-4,\"n16\":11,\"v17\":[2.441406e-4,3.662109e-4,3.662109e-4,2.441406e-4,3.662109e-4,3.662109e-4],\"v18\":2.441406e-4,\"n18\":10,\"v19\":[1.220703e-4,1.220703e-4,2.441406e-4,2.441406e-4,2.441406e-4,1.220703e-4,2.441406e-4,1.220703e-4,2.441406e-4,2.441406e-4,2.441406e-4,2.441406e-4,2.441406e-4,1.220703e-4,2.441406e-4,2.441406e-4],\"v20\":1.220703e-4,\"n20\":19,\"p21\":3264,\"v21\":[1.220703e-4,1.220703e-4,1.220703e-4,0,1.220703e-4,0],\"v22\":1.220703e-4,\"n22\":12,\"p23\":3287,\"v23\":[1.220703e-4,0,0,0,1.220703e-4,0,1.220703e-4,0,0],\"v24\":1.220703e-4,\"n24\":7,\"p25\":3305,\"v25\":[1.220703e-4,1.220703e-4,0,1.220703e-4,0,1.220703e-4,1.220703e-4,0,0,0,0,0,0,1.220703e-4,0,0,1.220703e-4,0,0,1.220703e-4,0,0,0,0,1.220703e-4,0,0,0,0,1.220703e-4,0,0,0,0,0,1.220703e-4,0,0,0,0,0,0,0,1.220703e-4,0,0,0,0,0,0,0,1.220703e-4],\"p26\":3371,\"v26\":1.220703e-4,\"p27\":3391,\"v27\":[1.220703e-4,0,0,0,1.220703e-4]}},{\"_typename\":\"TH1D\",\"fUniqueID\":0,\"fBits\":520,\"fName\":\"data\",\"fTitle\":\"\",\"fLineColor\":1,\"fLineStyle\":1,\"fLineWidth\":2,\"fFillColor\":0,\"fFillStyle\":1001,\"fMarkerColor\":1,\"fMarkerStyle\":20,\"fMarkerSize\":1.2,\"fNcells\":32,\"fXaxis\":{\"_typename\":\"TAxis\",\"fUniqueID\":0,\"fBits\":0,\"fName\":\"xaxis\",\"fTitle\":\" m_{#gamma#gamma} [GeV]\",\"fNdivisions\":510,\"fAxisColor\":1,\"fLabelColor\":1,\"fLabelFont\":42,\"fLabelOffset\":0.005,\"fLabelSize\":0.035,\"fTickLength\":0.03,\"fTitleOffset\":1,\"fTitleSize\":0.035,\"fTitleColor\":1,\"fTitleFont\":42,\"fNbins\":30,\"fXmin\":105,\"fXmax\":160,\"fXbins\":[],\"fFirst\":0,\"fLast\":0,\"fBits2\":0,\"fTimeDisplay\":false,\"fTimeFormat\":\"\",\"fLabels\":null,\"fModLabs\":null},\"fYaxis\":{\"_typename\":\"TAxis\",\"fUniqueID\":0,\"fBits\":0,\"fName\":\"yaxis\",\"fTitle\":\"Events \\/ bin\",\"fNdivisions\":510,\"fAxisColor\":1,\"fLabelColor\":1,\"fLabelFont\":42,\"fLabelOffset\":0.005,\"fLabelSize\":0.035,\"fTickLength\":0.03,\"fTitleOffset\":0,\"fTitleSize\":0.035,\"fTitleColor\":1,\"fTitleFont\":42,\"fNbins\":1,\"fXmin\":0,\"fXmax\":1,\"fXbins\":[],\"fFirst\":0,\"fLast\":0,\"fBits2\":0,\"fTimeDisplay\":false,\"fTimeFormat\":\"\",\"fLabels\":null,\"fModLabs\":null},\"fZaxis\":{\"_typename\":\"TAxis\",\"fUniqueID\":0,\"fBits\":0,\"fName\":\"zaxis\",\"fTitle\":\"\",\"fNdivisions\":510,\"fAxisColor\":1,\"fLabelColor\":1,\"fLabelFont\":42,\"fLabelOffset\":0.005,\"fLabelSize\":0.035,\"fTickLength\":0.03,\"fTitleOffset\":1,\"fTitleSize\":0.035,\"fTitleColor\":1,\"fTitleFont\":42,\"fNbins\":1,\"fXmin\":0,\"fXmax\":1,\"fXbins\":[],\"fFirst\":0,\"fLast\":0,\"fBits2\":0,\"fTimeDisplay\":false,\"fTimeFormat\":\"\",\"fLabels\":null,\"fModLabs\":null},\"fBarOffset\":0,\"fBarWidth\":1000,\"fEntries\":76394,\"fTsumw\":0,\"fTsumw2\":0,\"fTsumwx\":0,\"fTsumwx2\":0,\"fMaximum\":-1111,\"fMinimum\":-1111,\"fNormFactor\":0,\"fContour\":[],\"fSumw2\":{\"$arr\":\"Float64\",\"len\":32,\"p\":1,\"v\":[5391,4944,4715,4287,4123,3864,3586,3382,3181,3076,2970,2730,2596,2371,2227,2136,2075,1886,1769,1795,1719,1623,1505,1407,1288,1317,1216,1148,1064,14.2565124723769]},\"fOption\":\"\",\"fFunctions\":{\"_typename\":\"TList\",\"name\":\"TList\",\"arr\":[{\"_typename\":\"TF1\",\"fUniqueID\":0,\"fBits\":1024,\"fName\":\"fit\",\"fTitle\":\"([0]+[1]*x+[2]*x^2+[3]*x^3)+[4]*exp(-0.5*((x-[5])\\/[6])^2)\",\"fLineColor\":2,\"fLineStyle\":1,\"fLineWidth\":2,\"fFillColor\":19,\"fFillStyle\":0,\"fMarkerColor\":1,\"fMarkerStyle\":20,\"fMarkerSize\":1.2,\"fXmin\":105,\"fXmax\":160,\"fNpar\":7,\"fNdim\":1,\"fNpx\":100,\"fType\":0,\"fNpfits\":30,\"fNDF\":26,\"fChisquare\":19.9698714128636,\"fMinimum\":-1111,\"fMaximum\":-1111,\"fParErrors\":{\"$arr\":\"Float64\",\"len\":7,\"v\":[72.0520042339678,0.778149432650573,0.005360605014179,2.66823587717123e-5]},\"fParMin\":{\"$arr\":\"Float64\",\"len\":7,\"p\":4,\"v\":[119.1,125,2.39]},\"fParMax\":{\"$arr\":\"Float64\",\"len\":7,\"p\":4,\"v\":[119.1,125,2.39]},\"fSave\":{\"$arr\":\"Float64\",\"len\":103,\"v\":[5504.10921980664,5396.72527896866,5291.42582572274,5188.18527674951,5086.97804872958,4987.77855834389,4890.56122227455,4795.30045720928,4701.97067986045,4610.54630704076,4521.00175595177,4433.31144521462,4347.44979833513,4263.39125465422,4181.11030183039,4100.58156615608,4021.78004752832,3944.68169013906,3869.26467270074,3795.51211317028,3723.41729799792,3652.99293366041,3584.28594210706,3517.39840126235,3452.51267520528,3389.91421216832,3329.99957111692,3273.25234567962,3220.16986600706,3171.13321879925,3126.23388779186,3085.09788384876,3046.77124750277,3009.73425026946,2972.08476055204,2931.87641488019,2887.53335174558,2838.21948431707,2784.04133304883,2726.01455245164,2665.8058243639,2605.33818306305,2546.38624134278,2490.27505621126,2437.74416047975,2388.97419486886,2343.72517289053,2301.51726417089,2261.7951813588,2224.04296044364,2187.84248315637,2152.88695138615,2118.9672649261,2085.94761108163,2053.74105795251,2022.29023937751,1991.55419398201,1961.50037204271,1932.10022986957,1903.32700226991,1875.15466209791,1847.55746910418,1820.50978767994,1793.98601807602,1767.96057210184,1742.40786507465,1717.30231331454,1692.61833341217,1668.33034202685,1644.41275583434,1620.83999151435,1597.58646574721,1574.6265952135,1551.93479659379,1529.48548656866,1507.25308181868,1485.2119990245,1463.33665486668,1441.60146602585,1419.98084918248,1398.44922101729,1376.9809982108,1355.55059744361,1334.13243539639,1312.70092874965,1291.23049418398,1269.69554837997,1248.07050801821,1226.32978977938,1204.44781034393,1182.39898639251,1160.15773460575,1137.69847166417,1114.99561424846,1092.02357903917,1068.75678271681,1045.16964196206,1021.23657345552,996.931993877661,972.230319909184,947.10596823071,105,160]},\"fNormalized\":false,\"fNormIntegral\":0,\"fFormula\":{\"_typename\":\"TFormula\",\"fUniqueID\":0,\"fBits\":1024,\"fName\":\"fit\",\"fTitle\":\"([0]+[1]*x+[2]*x^2+[3]*x^3)+[4]*exp(-0.5*((x-[5])\\/[6])^2)\",\"fClingParameters\":{\"$arr\":\"Float64\",\"len\":7,\"v\":[94325.2090611638,-1777.2270105787,11.5605936567885,-0.0256281687046205,119.1,125,2.39]},\"fAllParametersSetted\":true,\"fParams\":[{\"$pair\":\"pair<TString,int,TFormulaParamOrder>\",\"first\":\"p0\",\"second\":0},{\"$pair\":\"pair<TString,int,TFormulaParamOrder>\",\"first\":\"p1\",\"second\":1},{\"$pair\":\"pair<TString,int,TFormulaParamOrder>\",\"first\":\"p2\",\"second\":2},{\"$pair\":\"pair<TString,int,TFormulaParamOrder>\",\"first\":\"p3\",\"second\":3},{\"$pair\":\"pair<TString,int,TFormulaParamOrder>\",\"first\":\"p4\",\"second\":4},{\"$pair\":\"pair<TString,int,TFormulaParamOrder>\",\"first\":\"p5\",\"second\":5},{\"$pair\":\"pair<TString,int,TFormulaParamOrder>\",\"first\":\"p6\",\"second\":6}],\"fFormula\":\"([p0]+[p1]*x+[p2]*TMath::Sq(x)+[p3]*pow(x,3))+[p4]*exp(-0.5*TMath::Sq(((x-[p5])\\/[p6])))\",\"fNdim\":1,\"fLinearParts\":[],\"fVectorized\":false},\"fParams\":null,\"fComposition\":null}],\"opt\":[\"\"]},\"fBufferSize\":0,\"fBuffer\":[],\"fBinStatErrOpt\":0,\"fStatOverflows\":2,\"fArray\":{\"$arr\":\"Float64\",\"len\":32,\"p\":1,\"v\":[64.7043870438101,-43.7785583433069,43.7145594425965,-88.8687292499308,22.4191059275181,19.5255953234955,-20.6017307135044,-4.01534183500189,-0.767707692459226,83.0887020625596,151.501417778592,72.4179698040898,86.7858884876041,-1.44729582241416,-19.334052777398,6.07314797103754,52.721836771474,-36.4404560276453,-60.4662000777462,52.5921349695709,58.6820794628729,40.751163750625,-2.25308181870787,-27.3831268965441,-74.6914411344624,25.7695058160316,-3.05275569650985,2.78930467639293,-4.75678271686775,14.2565124723769]}}],\"opt\":[\"\",\"\",\"E SAME\"]},\"fExecs\":{\"_typename\":\"TList\",\"name\":\"TList\",\"arr\":[],\"opt\":[]},\"fName\":\"lower_pad\",\"fTitle\":\"\",\"fNumPaletteColor\":0,\"fNextPaletteColor\":0},{\"_typename\":\"TStyle\",\"fUniqueID\":0,\"fBits\":0,\"fName\":\"Modern\",\"fTitle\":\"Modern Style\",\"fLineColor\":1,\"fLineStyle\":1,\"fLineWidth\":1,\"fFillColor\":19,\"fFillStyle\":1001,\"fMarkerColor\":1,\"fMarkerStyle\":20,\"fMarkerSize\":1.2,\"fTextAngle\":0,\"fTextSize\":0.05,\"fTextAlign\":11,\"fTextColor\":1,\"fTextFont\":62,\"fXaxis\":{\"_typename\":\"TAttAxis\",\"fNdivisions\":510,\"fAxisColor\":1,\"fLabelColor\":1,\"fLabelFont\":42,\"fLabelOffset\":0.005,\"fLabelSize\":0.08,\"fTickLength\":0.03,\"fTitleOffset\":1,\"fTitleSize\":0.08,\"fTitleColor\":1,\"fTitleFont\":42},\"fYaxis\":{\"_typename\":\"TAttAxis\",\"fNdivisions\":510,\"fAxisColor\":1,\"fLabelColor\":1,\"fLabelFont\":42,\"fLabelOffset\":0.005,\"fLabelSize\":0.08,\"fTickLength\":0.03,\"fTitleOffset\":0,\"fTitleSize\":0.08,\"fTitleColor\":1,\"fTitleFont\":42},\"fZaxis\":{\"_typename\":\"TAttAxis\",\"fNdivisions\":510,\"fAxisColor\":1,\"fLabelColor\":1,\"fLabelFont\":42,\"fLabelOffset\":0.005,\"fLabelSize\":0.035,\"fTickLength\":0.03,\"fTitleOffset\":1,\"fTitleSize\":0.035,\"fTitleColor\":1,\"fTitleFont\":42},\"fBarWidth\":1,\"fBarOffset\":0,\"fColorModelPS\":0,\"fDrawBorder\":0,\"fOptLogx\":0,\"fOptLogy\":0,\"fOptLogz\":0,\"fOptDate\":0,\"fOptStat\":0,\"fOptTitle\":0,\"fOptFile\":0,\"fOptFit\":0,\"fShowEventStatus\":0,\"fShowEditor\":0,\"fShowToolBar\":0,\"fNumberContours\":20,\"fAttDate\":{\"_typename\":\"TAttText\",\"fTextAngle\":0,\"fTextSize\":0.025,\"fTextAlign\":11,\"fTextColor\":1,\"fTextFont\":62},\"fDateX\":0.01,\"fDateY\":0.01,\"fEndErrorSize\":2,\"fErrorX\":0.5,\"fFuncColor\":2,\"fFuncStyle\":1,\"fFuncWidth\":2,\"fGridColor\":0,\"fGridStyle\":3,\"fGridWidth\":1,\"fLegendBorderSize\":1,\"fLegendFillColor\":0,\"fLegendFont\":42,\"fLegendTextSize\":0,\"fHatchesLineWidth\":1,\"fHatchesSpacing\":1,\"fFrameFillColor\":0,\"fFrameLineColor\":1,\"fFrameFillStyle\":1001,\"fFrameLineStyle\":1,\"fFrameLineWidth\":1,\"fFrameBorderSize\":1,\"fFrameBorderMode\":0,\"fHistFillColor\":0,\"fHistLineColor\":602,\"fHistFillStyle\":1001,\"fHistLineStyle\":1,\"fHistLineWidth\":1,\"fHistMinimumZero\":false,\"fHistTopMargin\":0.05,\"fCanvasPreferGL\":false,\"fCanvasColor\":0,\"fCanvasBorderSize\":2,\"fCanvasBorderMode\":0,\"fCanvasDefH\":500,\"fCanvasDefW\":700,\"fCanvasDefX\":10,\"fCanvasDefY\":10,\"fPadColor\":0,\"fPadBorderSize\":2,\"fPadBorderMode\":0,\"fPadBottomMargin\":0.1,\"fPadTopMargin\":0.1,\"fPadLeftMargin\":0.1,\"fPadRightMargin\":0.1,\"fPadGridX\":false,\"fPadGridY\":false,\"fPadTickX\":0,\"fPadTickY\":0,\"fPaperSizeX\":20,\"fPaperSizeY\":26,\"fScreenFactor\":1,\"fStatColor\":0,\"fStatTextColor\":1,\"fStatBorderSize\":1,\"fStatFont\":42,\"fStatFontSize\":0,\"fStatStyle\":1001,\"fStatFormat\":\"6.4g\",\"fStatX\":0.98,\"fStatY\":0.935,\"fStatW\":0.2,\"fStatH\":0.16,\"fStripDecimals\":true,\"fTitleAlign\":23,\"fTitleColor\":0,\"fTitleTextColor\":1,\"fTitleBorderSize\":0,\"fTitleFont\":42,\"fTitleFontSize\":0.05,\"fTitleStyle\":0,\"fTitleX\":0.5,\"fTitleY\":0.995,\"fTitleW\":0,\"fTitleH\":0,\"fLegoInnerR\":0.5,\"fLineStyles\":[\"\",\"  \",\" 12 12\",\" 4 8\",\" 12 16 4 16\",\" 20 12 4 12\",\" 20 12 4 12 4 12 4 12\",\" 20 20\",\" 20 12 4 12 4 12\",\" 80 20\",\" 80 40 4 40\",\"  \",\"  \",\"  \",\"  \",\"  \",\"  \",\"  \",\"  \",\"  \",\"  \",\"  \",\"  \",\"  \",\"  \",\"  \",\"  \",\"  \",\"  \",\"  \"],\"fHeaderPS\":\"\",\"fTitlePS\":\"\",\"fFitFormat\":\"5.4g\",\"fPaintTextFormat\":\"g\",\"fLineScalePS\":3,\"fJoinLinePS\":0,\"fCapLinePS\":0,\"fTimeOffset\":788918400,\"fImageScaling\":1}],\"opt\":[\"\",\"\",\"\"]},\"fExecs\":null,\"fName\":\"c\",\"fTitle\":\"\",\"fNumPaletteColor\":0,\"fNextPaletteColor\":0,\"fDISPLAY\":\"$DISPLAY\",\"fDoubleBuffer\":0,\"fRetained\":true,\"fXsizeUser\":0,\"fYsizeUser\":0,\"fXsizeReal\":18.66667,\"fYsizeReal\":20,\"fWindowTopX\":0,\"fWindowTopY\":0,\"fWindowWidth\":0,\"fWindowHeight\":0,\"fCw\":696,\"fCh\":722,\"fCatt\":{\"_typename\":\"TAttCanvas\",\"fXBetween\":2,\"fYBetween\":2,\"fTitleFromTop\":1.2,\"fXdate\":0.2,\"fYdate\":0.3,\"fAdate\":1},\"kMoveOpaque\":true,\"kResizeOpaque\":true,\"fHighLightColor\":2,\"fBatch\":true,\"kShowEventStatus\":false,\"kAutoExec\":true,\"kMenuBar\":true});\n",
       "   Core.settings.HandleKeys = false;\n",
       "   Core.draw(\"root_plot_1725908078964\", obj, \"\");\n",
       "}\n",
       "\n",
       "function script_load_root_plot_1725908078964(src, on_error) {\n",
       "    let script = document.createElement('script');\n",
       "    script.src = src;\n",
       "    script.onload = function() { display_root_plot_1725908078964(JSROOT); };\n",
       "    script.onerror = function() { script.remove(); on_error(); };\n",
       "    document.head.appendChild(script);\n",
       "}\n",
       "\n",
       "if (typeof requirejs !== 'undefined') {\n",
       "\n",
       "    // We are in jupyter notebooks, use require.js which should be configured already\n",
       "    requirejs.config({\n",
       "       paths: { 'JSRootCore' : [ 'build/jsroot', 'https://root.cern/js/7.2.1/build/jsroot', 'https://jsroot.gsi.de/7.2.1/build/jsroot' ] }\n",
       "    })(['JSRootCore'],  function(Core) {\n",
       "       display_root_plot_1725908078964(Core);\n",
       "    });\n",
       "\n",
       "} else if (typeof JSROOT !== 'undefined') {\n",
       "\n",
       "   // JSROOT already loaded, just use it\n",
       "   display_root_plot_1725908078964(JSROOT);\n",
       "\n",
       "} else {\n",
       "\n",
       "    // We are in jupyterlab without require.js, directly loading jsroot\n",
       "    // Jupyterlab might be installed in a different base_url so we need to know it.\n",
       "    try {\n",
       "        var base_url = JSON.parse(document.getElementById('jupyter-config-data').innerHTML).baseUrl;\n",
       "    } catch(_) {\n",
       "        var base_url = '/';\n",
       "    }\n",
       "\n",
       "    // Try loading a local version of requirejs and fallback to cdn if not possible.\n",
       "    script_load_root_plot_1725908078964(base_url + 'static/build/jsroot.js', function(){\n",
       "        console.error('Fail to load JSROOT locally, please check your jupyter_notebook_config.py file');\n",
       "        script_load_root_plot_1725908078964('https://root.cern/js/7.2.1/build/jsroot.js', function(){\n",
       "            document.getElementById(\"root_plot_1725908078964\").innerHTML = \"Failed to load JSROOT\";\n",
       "        });\n",
       "    });\n",
       "}\n",
       "\n",
       "</script>\n"
      ],
      "text/plain": [
       "<IPython.core.display.HTML object>"
      ]
     },
     "metadata": {},
     "output_type": "display_data"
    }
   ],
   "source": [
    "%jsroot on\n",
    "c.Draw()"
   ]
  },
  {
   "cell_type": "markdown",
   "id": "7c7390ce-c380-402e-ae10-9baff1082575",
   "metadata": {},
   "source": [
    "The plot shows the invariant mass distribution of diphoton pairs. The data points with error bars represent the actual collision data collected by the ATLAS detector, while the solid and dashed lines represent different components of the model used to describe the data.\n",
    "\n",
    "#### Main Plot (Upper Panel):\n",
    "\n",
    "- **Black points with error bars**: These represent the observed data from the collision events. Each point corresponds to the number of events in a particular bin of diphoton invariant mass (`m_γγ`).\n",
    "- **Red solid line (Signal + Background)**: This is the combined fit of the signal (Higgs boson) and background processes to the data. The smooth curve shows how well the model describes the data across the entire mass range.\n",
    "- **Blue dashed line (Background)**: The blue line represents the background-only contribution. This is modeled by a cubic polynomial, and it describes non-Higgs events that still produce photon pairs.\n",
    "- **Blue solid line (Signal)**: The blue solid line represents the contribution from the simulated Higgs boson signal. It is shown as a small peak around 125 GeV, corresponding to the expected mass of the Higgs boson.\n",
    "\n",
    "#### Residual Plot (Lower Panel):\n",
    "- **Data - Background (black points)**: This shows the difference between the observed data and the fitted background model. If the Higgs signal is present, we expect to see a bump around 125 GeV.\n",
    "- **Red line (Signal fit)**: This shows the remaining signal after subtracting the background. The peak at around 125 GeV corresponds to the Higgs boson, providing evidence of its presence in the data."
   ]
  }
 ],
 "metadata": {
  "kernelspec": {
   "display_name": "Python 3 (ipykernel)",
   "language": "python",
   "name": "python3"
  },
  "language_info": {
   "codemirror_mode": {
    "name": "ipython",
    "version": 3
   },
   "file_extension": ".py",
   "mimetype": "text/x-python",
   "name": "python",
   "nbconvert_exporter": "python",
   "pygments_lexer": "ipython3",
   "version": "3.11.5"
  }
 },
 "nbformat": 4,
 "nbformat_minor": 5
}
