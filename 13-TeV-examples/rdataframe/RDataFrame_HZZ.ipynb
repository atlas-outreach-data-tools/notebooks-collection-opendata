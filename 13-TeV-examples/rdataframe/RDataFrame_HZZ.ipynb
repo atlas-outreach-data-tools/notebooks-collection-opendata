{
 "cells": [
  {
   "cell_type": "markdown",
   "id": "2ae9c925",
   "metadata": {},
   "source": [
    "# How to rediscover the Higgs boson yourself!\n",
    "This notebook uses the new release of ATLAS Open Data http://opendata.atlas.cern to show you the steps to rediscover the Higgs boson yourself!\n",
    "\n",
    "ATLAS Open Data provides open access to proton-proton collision data at the LHC for educational purposes. ATLAS Open Data resources are ideal for high-school, undergraduate and postgraduate students.\n",
    "\n",
    "Notebooks are web applications that allow you to create and share documents that can contain for example:\n",
    "1. live code\n",
    "2. visualisations\n",
    "3. narrative text\n",
    "\n",
    "The idea is that cuts increase the ratio of signal ($H \\rightarrow ZZ \\rightarrow \\ell\\ell\\ell\\ell$) to background ($Z, t\\bar{t}, ZZ \\rightarrow \\ell\\ell\\ell\\ell$)\n",
    "\n",
    "First, the amount of $Z$ and $t\\bar{t}$ background is reduced, since these are quite different to the signal.\n",
    "\n",
    "Then, the amount of $ZZ \\rightarrow \\ell\\ell\\ell\\ell$ is reduced, whilst keeping as much $H \\rightarrow ZZ \\rightarrow \\ell\\ell\\ell\\ell$ signal as possible.\n",
    "\n",
    "The datasets used in this notebook have already been filtered to include at least 4 leptons per event, so that processing is quicker.\n",
    "\n",
    "This analysis loosely follows the [Measurement of inclusive and differential cross sections in the H->ZZ*->4l decay channel in pp collisions at $\\sqrt{s} = 13~$TeV with the ATLAS detector](https://link.springer.com/article/10.1007/JHEP10(2017)132)\n",
    "\n",
    "By the end of this notebook you will be able to:\n",
    "1. rediscover the Higgs boson yourself!\n",
    "2. know some general principles of a particle physics analysis\n",
    "\n",
    "Feynman diagram pictures are borrowed from our friends at https://www.particlezoo.net"
   ]
  },
  {
   "cell_type": "markdown",
   "id": "36a17b3b",
   "metadata": {},
   "source": [
    "<CENTER><img src=\"../uproot_python/images/feynman_diagrams/HZZ_feynman.png\" style=\"width:40%\"></CENTER>"
   ]
  },
  {
   "cell_type": "code",
   "execution_count": 1,
   "id": "e4ebe12c",
   "metadata": {},
   "outputs": [
    {
     "name": "stdout",
     "output_type": "stream",
     "text": [
      "Welcome to JupyROOT 6.30/04\n"
     ]
    }
   ],
   "source": [
    "import ROOT\n",
    "import glob\n",
    "import os\n",
    "%jsroot on\n",
    "ROOT.gStyle.SetOptStat(0);"
   ]
  },
  {
   "cell_type": "markdown",
   "id": "beda61dd",
   "metadata": {},
   "source": [
    "We have some functions in C++ which we will use later. Need to compile these so that we can ause them in RDataFrame"
   ]
  },
  {
   "cell_type": "code",
   "execution_count": 2,
   "id": "fa68e586",
   "metadata": {},
   "outputs": [],
   "source": [
    "! g++ -shared -fPIC -o ./helperFunctions.so ./helperFunctions.cxx `root-config --cflags --glibs`"
   ]
  },
  {
   "cell_type": "code",
   "execution_count": 3,
   "id": "c788d195",
   "metadata": {},
   "outputs": [],
   "source": [
    "# Loading the c++ library \n",
    "def loadlibraries():    \n",
    "    ROOT.gSystem.AddDynamicPath(\"./\")\n",
    "    ROOT.gROOT.ProcessLine(\".include ./\");\n",
    "\n",
    "    ROOT.gInterpreter.AddIncludePath(\"./\");\n",
    "\n",
    "    ROOT.gInterpreter.Declare('#include \"./helperFunctions.h\"')\n",
    "\n",
    "    ROOT.gSystem.Load(\"./helperFunctions.so\") # Library with the myFilter function"
   ]
  },
  {
   "cell_type": "code",
   "execution_count": 4,
   "id": "811e72d7",
   "metadata": {},
   "outputs": [],
   "source": [
    "loadlibraries()"
   ]
  },
  {
   "cell_type": "code",
   "execution_count": 5,
   "id": "f3f022a6",
   "metadata": {},
   "outputs": [],
   "source": [
    "lumi = 36.6 # fb-1 # data size of the full release \n",
    "skim = \"exactly4lep\"\n",
    "indir = \"/storage/eirikgr/OpenData/merged/exactly4lepFinal/\"\n",
    "#\"https://atlas-opendata.web.cern.ch/atlas-opendata/13TeV/\"+skim+\"/\"\n",
    "#indir = \"root://eospublic.cern.ch//eos/user/a/atlasout/www/13TeV/\"+skim+\"/\""
   ]
  },
  {
   "cell_type": "code",
   "execution_count": 6,
   "id": "ede84f60",
   "metadata": {},
   "outputs": [],
   "source": [
    "samples = {'Signal (m_{H} = 125 GeV)': \n",
    "           {'list': ['mc_345060.PowhegPythia8EvtGen_NNLOPS_nnlo_30_ggH125_ZZ4l.'+skim,\n",
    "                     'mc_346228.PowhegPy8EG_NNPDF30_AZNLOCTEQ6L1_VBFH125_ZZ4lep_notau.'+skim,\n",
    "                     'mc_346311.PowhegPythia8EvtGen_NNPDF30_AZNLO_WpH125J_Wincl_H_incl_MINLO.'+skim,\n",
    "                     'mc_346312.PowhegPythia8EvtGen_NNPDF30_AZNLO_WmH125J_Wincl_H_incl_MINLO.'+skim,\n",
    "                     'mc_346340.PowhegPy8EG_A14NNPDF23_NNPDF30ME_ttH125_ZZ4l_allhad.'+skim,\n",
    "                     'mc_346341.PowhegPy8EG_A14NNPDF23_NNPDF30ME_ttH125_ZZ4l_semilep.'+skim,\n",
    "                    'mc_346342.PowhegPy8EG_A14NNPDF23_NNPDF30ME_ttH125_ZZ4l_dilep.'+skim],\n",
    "            'color': '#00cdff'},\n",
    " 'Background ZZ^{*}': {'list': ['mc_700600.Sh_2212_llll.'+skim,\n",
    "   'mc_700601.Sh_2212_lllv.'+skim],\n",
    "  'color': '#ff0000'},\n",
    " 'Background Z,t#bar{t},t#bar{t}+V,VVV': {'list': ['mc_410472.PhPy8EG_A14_ttbar_hdamp258p75_dil.'+skim,\n",
    "   'mc_410155.aMcAtNloPythia8EvtGen_MEN30NLO_A14N23LO_ttW.'+skim,\n",
    "   'mc_410218.aMcAtNloPythia8EvtGen_MEN30NLO_A14N23LO_ttee.'+skim,\n",
    "   'mc_410219.aMcAtNloPythia8EvtGen_MEN30NLO_A14N23LO_ttmumu.'+skim,\n",
    "   'mc_412043.aMcAtNloPythia8EvtGen_A14NNPDF31_SM4topsNLO.'+skim,\n",
    "   'mc_364243.Sherpa_222_NNPDF30NNLO_WWZ_4l2v_EW6.'+skim,\n",
    "   'mc_364242.Sherpa_222_NNPDF30NNLO_WWW_3l3v_EW6.'+skim,\n",
    "   'mc_364246.Sherpa_222_NNPDF30NNLO_WZZ_3l3v_EW6.'+skim,\n",
    "   'mc_364248.Sherpa_222_NNPDF30NNLO_ZZZ_4l2v_EW6.'+skim,\n",
    "   'mc_700320.Sh_2211_Zee_maxHTpTV2_BFilter.'+skim,\n",
    "   'mc_700321.Sh_2211_Zee_maxHTpTV2_CFilterBVeto.'+skim,\n",
    "   'mc_700322.Sh_2211_Zee_maxHTpTV2_CVetoBVeto.'+skim,\n",
    "   'mc_700323.Sh_2211_Zmumu_maxHTpTV2_BFilter.'+skim,\n",
    "   'mc_700324.Sh_2211_Zmumu_maxHTpTV2_CFilterBVeto.'+skim,\n",
    "   'mc_700325.Sh_2211_Zmumu_maxHTpTV2_CVetoBVeto.'+skim],\n",
    "  'color': '#6b59d3'},\n",
    " 'data': {'list': ['data15_periodD','data15_periodF',\n",
    "                  'data15_periodH','data16_periodA',\n",
    "                  'data16_periodC','data16_periodE',\n",
    "                  'data16_periodG','data16_periodK',\n",
    "                  'data15_periodE','data15_periodG',\n",
    "                  'data15_periodJ','data16_periodB',\n",
    "                  'data16_periodD','data16_periodF',\n",
    "                  'data16_PeriodI','data16_periodL']}}"
   ]
  },
  {
   "cell_type": "markdown",
   "id": "55aab701",
   "metadata": {},
   "source": [
    "## Download samples locally  \n",
    "**<font color='red'>WARNING</font>**\n",
    "This cell will download all of the samples to the directory from where this notebook is being run. You need **<font color='red'>~1.7 GB</font>** of free space! If this is not possible you may consider downloading them to a different location. It should not take more than a few minutes if you have good internet connection.  "
   ]
  },
  {
   "cell_type": "code",
   "execution_count": 7,
   "id": "97b6e6c4",
   "metadata": {
    "collapsed": true
   },
   "outputs": [
    {
     "name": "stdout",
     "output_type": "stream",
     "text": [
      "INFO \t Downloading file MC/mc_345060.PowhegPythia8EvtGen_NNLOPS_nnlo_30_ggH125_ZZ4l.exactly4lep.root\n",
      "INFO \t Downloading file MC/mc_346228.PowhegPy8EG_NNPDF30_AZNLOCTEQ6L1_VBFH125_ZZ4lep_notau.exactly4lep.root\n",
      "INFO \t Downloading file MC/mc_346311.PowhegPythia8EvtGen_NNPDF30_AZNLO_WpH125J_Wincl_H_incl_MINLO.exactly4lep.root\n",
      "INFO \t Downloading file MC/mc_346312.PowhegPythia8EvtGen_NNPDF30_AZNLO_WmH125J_Wincl_H_incl_MINLO.exactly4lep.root\n",
      "INFO \t Downloading file MC/mc_346340.PowhegPy8EG_A14NNPDF23_NNPDF30ME_ttH125_ZZ4l_allhad.exactly4lep.root\n",
      "INFO \t Downloading file MC/mc_346341.PowhegPy8EG_A14NNPDF23_NNPDF30ME_ttH125_ZZ4l_semilep.exactly4lep.root\n",
      "INFO \t Downloading file MC/mc_346342.PowhegPy8EG_A14NNPDF23_NNPDF30ME_ttH125_ZZ4l_dilep.exactly4lep.root\n",
      "INFO \t Downloading file MC/mc_700600.Sh_2212_llll.exactly4lep.root\n",
      "INFO \t Downloading file MC/mc_700601.Sh_2212_lllv.exactly4lep.root\n",
      "INFO \t Downloading file MC/mc_410472.PhPy8EG_A14_ttbar_hdamp258p75_dil.exactly4lep.root\n",
      "INFO \t Downloading file MC/mc_410155.aMcAtNloPythia8EvtGen_MEN30NLO_A14N23LO_ttW.exactly4lep.root\n",
      "INFO \t Downloading file MC/mc_410218.aMcAtNloPythia8EvtGen_MEN30NLO_A14N23LO_ttee.exactly4lep.root\n",
      "INFO \t Downloading file MC/mc_410219.aMcAtNloPythia8EvtGen_MEN30NLO_A14N23LO_ttmumu.exactly4lep.root\n",
      "INFO \t Downloading file MC/mc_412043.aMcAtNloPythia8EvtGen_A14NNPDF31_SM4topsNLO.exactly4lep.root\n",
      "INFO \t Downloading file MC/mc_364243.Sherpa_222_NNPDF30NNLO_WWZ_4l2v_EW6.exactly4lep.root\n",
      "INFO \t Downloading file MC/mc_364242.Sherpa_222_NNPDF30NNLO_WWW_3l3v_EW6.exactly4lep.root\n",
      "INFO \t Downloading file MC/mc_364246.Sherpa_222_NNPDF30NNLO_WZZ_3l3v_EW6.exactly4lep.root\n",
      "INFO \t Downloading file MC/mc_364248.Sherpa_222_NNPDF30NNLO_ZZZ_4l2v_EW6.exactly4lep.root\n",
      "INFO \t Downloading file MC/mc_700320.Sh_2211_Zee_maxHTpTV2_BFilter.exactly4lep.root\n",
      "INFO \t Downloading file MC/mc_700321.Sh_2211_Zee_maxHTpTV2_CFilterBVeto.exactly4lep.root\n",
      "INFO \t Downloading file MC/mc_700322.Sh_2211_Zee_maxHTpTV2_CVetoBVeto.exactly4lep.root\n",
      "INFO \t Downloading file MC/mc_700323.Sh_2211_Zmumu_maxHTpTV2_BFilter.exactly4lep.root\n",
      "INFO \t Downloading file MC/mc_700324.Sh_2211_Zmumu_maxHTpTV2_CFilterBVeto.exactly4lep.root\n",
      "INFO \t Downloading file MC/mc_700325.Sh_2211_Zmumu_maxHTpTV2_CVetoBVeto.exactly4lep.root\n",
      "INFO \t Downloading file Data/data15_periodD.root\n",
      "INFO \t Downloading file Data/data15_periodF.root\n",
      "INFO \t Downloading file Data/data15_periodH.root\n",
      "INFO \t Downloading file Data/data16_periodA.root\n",
      "INFO \t Downloading file Data/data16_periodC.root\n",
      "INFO \t Downloading file Data/data16_periodE.root\n",
      "INFO \t Downloading file Data/data16_periodG.root\n",
      "INFO \t Downloading file Data/data16_periodK.root\n",
      "INFO \t Downloading file Data/data15_periodE.root\n",
      "INFO \t Downloading file Data/data15_periodG.root\n",
      "INFO \t Downloading file Data/data15_periodJ.root\n",
      "INFO \t Downloading file Data/data16_periodB.root\n",
      "INFO \t Downloading file Data/data16_periodD.root\n",
      "INFO \t Downloading file Data/data16_periodF.root\n",
      "INFO \t Downloading file Data/data16_PeriodI.root\n",
      "INFO \t Downloading file Data/data16_periodL.root\n"
     ]
    },
    {
     "name": "stderr",
     "output_type": "stream",
     "text": [
      "/storage/eirikgr/OpenData/merged/exactly4lepFinal//MC/mc_345060.PowhegPythia8EvtGen_NNLOPS_nnlo_30_ggH125_ZZ4l.exactly4lep.root: Scheme missing.\n",
      "/storage/eirikgr/OpenData/merged/exactly4lepFinal//MC/mc_346228.PowhegPy8EG_NNPDF30_AZNLOCTEQ6L1_VBFH125_ZZ4lep_notau.exactly4lep.root: Scheme missing.\n",
      "/storage/eirikgr/OpenData/merged/exactly4lepFinal//MC/mc_346311.PowhegPythia8EvtGen_NNPDF30_AZNLO_WpH125J_Wincl_H_incl_MINLO.exactly4lep.root: Scheme missing.\n",
      "/storage/eirikgr/OpenData/merged/exactly4lepFinal//MC/mc_346312.PowhegPythia8EvtGen_NNPDF30_AZNLO_WmH125J_Wincl_H_incl_MINLO.exactly4lep.root: Scheme missing.\n",
      "/storage/eirikgr/OpenData/merged/exactly4lepFinal//MC/mc_346340.PowhegPy8EG_A14NNPDF23_NNPDF30ME_ttH125_ZZ4l_allhad.exactly4lep.root: Scheme missing.\n",
      "/storage/eirikgr/OpenData/merged/exactly4lepFinal//MC/mc_346341.PowhegPy8EG_A14NNPDF23_NNPDF30ME_ttH125_ZZ4l_semilep.exactly4lep.root: Scheme missing.\n",
      "/storage/eirikgr/OpenData/merged/exactly4lepFinal//MC/mc_346342.PowhegPy8EG_A14NNPDF23_NNPDF30ME_ttH125_ZZ4l_dilep.exactly4lep.root: Scheme missing.\n",
      "/storage/eirikgr/OpenData/merged/exactly4lepFinal//MC/mc_700600.Sh_2212_llll.exactly4lep.root: Scheme missing.\n",
      "/storage/eirikgr/OpenData/merged/exactly4lepFinal//MC/mc_700601.Sh_2212_lllv.exactly4lep.root: Scheme missing.\n",
      "/storage/eirikgr/OpenData/merged/exactly4lepFinal//MC/mc_410472.PhPy8EG_A14_ttbar_hdamp258p75_dil.exactly4lep.root: Scheme missing.\n",
      "/storage/eirikgr/OpenData/merged/exactly4lepFinal//MC/mc_410155.aMcAtNloPythia8EvtGen_MEN30NLO_A14N23LO_ttW.exactly4lep.root: Scheme missing.\n",
      "/storage/eirikgr/OpenData/merged/exactly4lepFinal//MC/mc_410218.aMcAtNloPythia8EvtGen_MEN30NLO_A14N23LO_ttee.exactly4lep.root: Scheme missing.\n",
      "/storage/eirikgr/OpenData/merged/exactly4lepFinal//MC/mc_410219.aMcAtNloPythia8EvtGen_MEN30NLO_A14N23LO_ttmumu.exactly4lep.root: Scheme missing.\n",
      "/storage/eirikgr/OpenData/merged/exactly4lepFinal//MC/mc_412043.aMcAtNloPythia8EvtGen_A14NNPDF31_SM4topsNLO.exactly4lep.root: Scheme missing.\n",
      "/storage/eirikgr/OpenData/merged/exactly4lepFinal//MC/mc_364243.Sherpa_222_NNPDF30NNLO_WWZ_4l2v_EW6.exactly4lep.root: Scheme missing.\n",
      "/storage/eirikgr/OpenData/merged/exactly4lepFinal//MC/mc_364242.Sherpa_222_NNPDF30NNLO_WWW_3l3v_EW6.exactly4lep.root: Scheme missing.\n",
      "/storage/eirikgr/OpenData/merged/exactly4lepFinal//MC/mc_364246.Sherpa_222_NNPDF30NNLO_WZZ_3l3v_EW6.exactly4lep.root: Scheme missing.\n",
      "/storage/eirikgr/OpenData/merged/exactly4lepFinal//MC/mc_364248.Sherpa_222_NNPDF30NNLO_ZZZ_4l2v_EW6.exactly4lep.root: Scheme missing.\n",
      "/storage/eirikgr/OpenData/merged/exactly4lepFinal//MC/mc_700320.Sh_2211_Zee_maxHTpTV2_BFilter.exactly4lep.root: Scheme missing.\n",
      "/storage/eirikgr/OpenData/merged/exactly4lepFinal//MC/mc_700321.Sh_2211_Zee_maxHTpTV2_CFilterBVeto.exactly4lep.root: Scheme missing.\n",
      "/storage/eirikgr/OpenData/merged/exactly4lepFinal//MC/mc_700322.Sh_2211_Zee_maxHTpTV2_CVetoBVeto.exactly4lep.root: Scheme missing.\n",
      "/storage/eirikgr/OpenData/merged/exactly4lepFinal//MC/mc_700323.Sh_2211_Zmumu_maxHTpTV2_BFilter.exactly4lep.root: Scheme missing.\n",
      "/storage/eirikgr/OpenData/merged/exactly4lepFinal//MC/mc_700324.Sh_2211_Zmumu_maxHTpTV2_CFilterBVeto.exactly4lep.root: Scheme missing.\n",
      "/storage/eirikgr/OpenData/merged/exactly4lepFinal//MC/mc_700325.Sh_2211_Zmumu_maxHTpTV2_CVetoBVeto.exactly4lep.root: Scheme missing.\n",
      "/storage/eirikgr/OpenData/merged/exactly4lepFinal//Data/data15_periodD.root: Scheme missing.\n",
      "/storage/eirikgr/OpenData/merged/exactly4lepFinal//Data/data15_periodF.root: Scheme missing.\n",
      "/storage/eirikgr/OpenData/merged/exactly4lepFinal//Data/data15_periodH.root: Scheme missing.\n",
      "/storage/eirikgr/OpenData/merged/exactly4lepFinal//Data/data16_periodA.root: Scheme missing.\n",
      "/storage/eirikgr/OpenData/merged/exactly4lepFinal//Data/data16_periodC.root: Scheme missing.\n",
      "/storage/eirikgr/OpenData/merged/exactly4lepFinal//Data/data16_periodE.root: Scheme missing.\n",
      "/storage/eirikgr/OpenData/merged/exactly4lepFinal//Data/data16_periodG.root: Scheme missing.\n",
      "/storage/eirikgr/OpenData/merged/exactly4lepFinal//Data/data16_periodK.root: Scheme missing.\n",
      "/storage/eirikgr/OpenData/merged/exactly4lepFinal//Data/data15_periodE.root: Scheme missing.\n",
      "/storage/eirikgr/OpenData/merged/exactly4lepFinal//Data/data15_periodG.root: Scheme missing.\n",
      "/storage/eirikgr/OpenData/merged/exactly4lepFinal//Data/data15_periodJ.root: Scheme missing.\n",
      "/storage/eirikgr/OpenData/merged/exactly4lepFinal//Data/data16_periodB.root: Scheme missing.\n",
      "/storage/eirikgr/OpenData/merged/exactly4lepFinal//Data/data16_periodD.root: Scheme missing.\n",
      "/storage/eirikgr/OpenData/merged/exactly4lepFinal//Data/data16_periodF.root: Scheme missing.\n",
      "/storage/eirikgr/OpenData/merged/exactly4lepFinal//Data/data16_PeriodI.root: Scheme missing.\n",
      "/storage/eirikgr/OpenData/merged/exactly4lepFinal//Data/data16_periodL.root: Scheme missing.\n"
     ]
    }
   ],
   "source": [
    "# Check first if files are already downloaded. Download them if not.\n",
    "for key in samples.keys():\n",
    "    all_files_cat = []\n",
    "    for fname in samples[key]['list']:\n",
    "        if not 'data' in fname:\n",
    "            fullFileName = \"MC/\"+fname+\".root\"\n",
    "        else:\n",
    "            fullFileName = \"Data/\"+fname+\".root\"\n",
    "        if not os.path.isfile(fname+\".root\"):\n",
    "            print(\"INFO \\t Downloading file %s\"%fullFileName)\n",
    "            os.system(\"wget %s/%s\"%(indir,fullFileName))\n",
    "        else:\n",
    "            print(\"INFO \\t File %s already downloaded\"%fullFileName)\n",
    "            continue"
   ]
  },
  {
   "cell_type": "code",
   "execution_count": 22,
   "id": "d85567ee",
   "metadata": {},
   "outputs": [],
   "source": [
    "df = {}\n",
    "for key in samples.keys():\n",
    "    all_files_cat = []\n",
    "    for fname in samples[key]['list']:\n",
    "        fullFileName = fname+\".root\"\n",
    "        if not 'data' in fname:\n",
    "            all_files_cat.append(fullFileName)\n",
    "        else:\n",
    "            all_files_cat.append(fullFileName)\n",
    "    if len(all_files_cat):\n",
    "        df[key] = ROOT.RDataFrame(\"analysis\",all_files_cat)"
   ]
  },
  {
   "cell_type": "code",
   "execution_count": 17,
   "id": "2f762dcb",
   "metadata": {
    "collapsed": true
   },
   "outputs": [
    {
     "data": {
      "text/plain": [
       "False"
      ]
     },
     "execution_count": 17,
     "metadata": {},
     "output_type": "execute_result"
    },
    {
     "name": "stderr",
     "output_type": "stream",
     "text": [
      "input_line_90:2:6: error: redefinition of 'cut_lep_charge'\n",
      "bool cut_lep_charge(ROOT::VecOps::RVec<int> lep_charge) {\n",
      "     ^\n",
      "input_line_63:2:6: note: previous definition is here\n",
      "bool cut_lep_charge(ROOT::VecOps::RVec<int> lep_charge) {\n",
      "     ^\n"
     ]
    }
   ],
   "source": [
    "# JIT a C++ function from Python\n",
    "ROOT.gInterpreter.Declare(\"\"\"\n",
    "bool cut_lep_charge(ROOT::VecOps::RVec<int> lep_charge) {\n",
    "    return (lep_charge[0] + lep_charge[1] + lep_charge[2] + lep_charge[3]) == 0;\n",
    "}\n",
    "\"\"\")"
   ]
  },
  {
   "cell_type": "code",
   "execution_count": 10,
   "id": "21dbaafd",
   "metadata": {},
   "outputs": [
    {
     "data": {
      "text/plain": [
       "True"
      ]
     },
     "execution_count": 10,
     "metadata": {},
     "output_type": "execute_result"
    }
   ],
   "source": [
    "# JIT a C++ function from Python\n",
    "ROOT.gInterpreter.Declare(\"\"\"\n",
    "bool cut_lep_type(ROOT::VecOps::RVec<int> lep_type) {\n",
    "    int sum_lep_type =  lep_type[0] + lep_type[1] + lep_type[2] + lep_type[3];\n",
    "    return (sum_lep_type == 44) | (sum_lep_type == 48) | (sum_lep_type == 52);\n",
    "}\n",
    "\"\"\")"
   ]
  },
  {
   "cell_type": "code",
   "execution_count": 11,
   "id": "7d57cf5b",
   "metadata": {},
   "outputs": [
    {
     "data": {
      "text/plain": [
       "True"
      ]
     },
     "execution_count": 11,
     "metadata": {},
     "output_type": "execute_result"
    }
   ],
   "source": [
    "# JIT a C++ function from Python\n",
    "ROOT.gInterpreter.Declare(\"\"\"\n",
    "float calc_mllll(ROOT::VecOps::RVec<float> lep_pt,\\\n",
    "                ROOT::VecOps::RVec<float> lep_eta,\\\n",
    "                ROOT::VecOps::RVec<float> lep_phi,\\\n",
    "                ROOT::VecOps::RVec<float> lep_e) {\n",
    "    TLorentzVector p1;// = new TLorentzVector();\n",
    "    TLorentzVector p2;//  = new TLorentzVector();\n",
    "    TLorentzVector p3;//  = new TLorentzVector();\n",
    "    TLorentzVector p4;//  = new TLorentzVector();\n",
    "    p1.SetPtEtaPhiE(lep_pt[0],lep_eta[0],lep_phi[0],lep_e[0]);\n",
    "    p2.SetPtEtaPhiE(lep_pt[1],lep_eta[1],lep_phi[1],lep_e[1]);\n",
    "    p3.SetPtEtaPhiE(lep_pt[2],lep_eta[2],lep_phi[2],lep_e[2]);\n",
    "    p4.SetPtEtaPhiE(lep_pt[3],lep_eta[3],lep_phi[3],lep_e[3]);\n",
    "    return (p1+p2+p3+p4).M();\n",
    "}\n",
    "\"\"\")"
   ]
  },
  {
   "cell_type": "code",
   "execution_count": 12,
   "id": "182bfaa5",
   "metadata": {},
   "outputs": [
    {
     "data": {
      "text/plain": [
       "True"
      ]
     },
     "execution_count": 12,
     "metadata": {},
     "output_type": "execute_result"
    }
   ],
   "source": [
    "# JIT a C++ function from Python\n",
    "ROOT.gInterpreter.Declare(\"\"\"\n",
    "bool selection(ROOT::VecOps::RVec<float> lep_pt,\\\n",
    "               ROOT::VecOps::RVec<float> lep_eta,\\\n",
    "               ROOT::VecOps::RVec<float> lep_d0sig,\\\n",
    "               ROOT::VecOps::RVec<float> lep_z0,\\\n",
    "               ROOT::VecOps::RVec<int> lep_type){\n",
    "               const auto nvec = int(lep_type.size());\n",
    "               int nlep = 0;\n",
    "               for(int i = 0; i < nvec; i++){\n",
    "               \n",
    "                   if(lep_type[i]==11){\n",
    "                    if(lep_pt[i] > 7 && abs(lep_eta[i])<2.47){\n",
    "                        nlep += 1;\n",
    "                   }\n",
    "                }else if(lep_type[i]==13){\n",
    "                    if(lep_pt[i] > 5 && abs(lep_eta[i])<2.7){\n",
    "                        nlep += 1;\n",
    "                   }\n",
    "                }\n",
    "               \n",
    "               }\n",
    "               return nlep == 4;\n",
    "\n",
    "}\n",
    "\"\"\")"
   ]
  },
  {
   "cell_type": "code",
   "execution_count": 18,
   "id": "c54bee1b",
   "metadata": {},
   "outputs": [],
   "source": [
    "def calc_mllll(lep_pt, lep_eta, lep_phi, lep_e):\n",
    "    # construct awkward 4-vector array\n",
    "    p4 = vector.zip({\"pt\": lep_pt, \"eta\": lep_eta, \"phi\": lep_phi, \"e\": lep_e})\n",
    "    # calculate invariant mass of first 4 leptons\n",
    "    # [:, i] selects the i-th lepton in each event\n",
    "    # .M calculates the invariant mass\n",
    "    return (p4[:, 0] + p4[:, 1] + p4[:, 2] + p4[:, 3]).M"
   ]
  },
  {
   "cell_type": "code",
   "execution_count": 19,
   "id": "a37d8a64",
   "metadata": {},
   "outputs": [],
   "source": [
    "# cut on lepton charge\n",
    "# paper: \"selecting two pairs of isolated leptons, each of which is comprised of two leptons with the same flavour and opposite charge\"\n",
    "#@ROOT.Numba.Declare([\"int\"], \"bool\")\n",
    "def cut_lep_charge(lep_charge):\n",
    "# throw away when sum of lepton charges is not equal to 0\n",
    "# first lepton in each event is [:, 0], 2nd lepton is [:, 1] etc\n",
    "    return lep_charge[:, 0] + lep_charge[:, 1] + lep_charge[:, 2] + lep_charge[:, 3] == 0\n",
    "\n",
    "# cut on lepton type\n",
    "# paper: \"selecting two pairs of isolated leptons, each of which is comprised of two leptons with the same flavour and opposite charge\"\n",
    "def cut_lep_type(lep_type):\n",
    "# for an electron lep_type is 11\n",
    "# for a muon lep_type is 13\n",
    "# throw away when none of eeee, mumumumu, eemumu\n",
    "    sum_lep_type = lep_type[:, 0] + lep_type[:, 1] + lep_type[:, 2] + lep_type[:, 3]\n",
    "    return (sum_lep_type == 44) | (sum_lep_type == 48) | (sum_lep_type == 52)"
   ]
  },
  {
   "cell_type": "code",
   "execution_count": 20,
   "id": "89a912ef",
   "metadata": {
    "collapsed": true
   },
   "outputs": [
    {
     "name": "stdout",
     "output_type": "stream",
     "text": [
      "                                  ScaleFactor_BTAG Float_t                                           \n",
      "                                   ScaleFactor_ELE Float_t                                           \n",
      "                                  ScaleFactor_ELE2 Double_t                                          \n",
      "                                  ScaleFactor_MUON Float_t                                           \n",
      "                                ScaleFactor_PHOTON Float_t                                           \n",
      "                                ScaleFactor_PILEUP Float_t                                           \n",
      "                                   ScaleFactor_TAU Float_t                                           \n",
      "                                     channelNumber UInt_t                                            \n",
      "                                    corrected_xsec Double_t                                          \n",
      "                                       eventNumber ULong64_t                                         \n",
      "                              jet_DL1d77_isBtagged ROOT::VecOps::RVec<bool>                          \n",
      "                                             jet_e ROOT::VecOps::RVec<float>                         \n",
      "                                           jet_eta ROOT::VecOps::RVec<float>                         \n",
      "                                           jet_jvt ROOT::VecOps::RVec<bool>                          \n",
      "                                             jet_n Int_t                                             \n",
      "                                           jet_phi ROOT::VecOps::RVec<float>                         \n",
      "                                            jet_pt ROOT::VecOps::RVec<float>                         \n",
      "                                      largeRJet_D2 ROOT::VecOps::RVec<float>                         \n",
      "                                       largeRJet_e ROOT::VecOps::RVec<float>                         \n",
      "                                     largeRJet_eta ROOT::VecOps::RVec<float>                         \n",
      "                                       largeRJet_m ROOT::VecOps::RVec<float>                         \n",
      "                                       largeRJet_n Int_t                                             \n",
      "                                     largeRJet_phi ROOT::VecOps::RVec<float>                         \n",
      "                                      largeRJet_pt ROOT::VecOps::RVec<float>                         \n",
      "                                        lep_charge ROOT::VecOps::RVec<int>                           \n",
      "                                            lep_d0 ROOT::VecOps::RVec<float>                         \n",
      "                                         lep_d0sig ROOT::VecOps::RVec<float>                         \n",
      "                                             lep_e ROOT::VecOps::RVec<float>                         \n",
      "                                           lep_eta ROOT::VecOps::RVec<float>                         \n",
      "                                     lep_isLooseID ROOT::VecOps::RVec<bool>                          \n",
      "                                    lep_isMediumID ROOT::VecOps::RVec<bool>                          \n",
      "                                       lep_isTight ROOT::VecOps::RVec<bool>                          \n",
      "                                     lep_isTightID ROOT::VecOps::RVec<bool>                          \n",
      "                                    lep_isTightIso ROOT::VecOps::RVec<bool>                          \n",
      "                                             lep_n Int_t                                             \n",
      "                                           lep_phi ROOT::VecOps::RVec<float>                         \n",
      "                                            lep_pt ROOT::VecOps::RVec<float>                         \n",
      "                                   lep_ptvarcone30 ROOT::VecOps::RVec<float>                         \n",
      "                                  lep_topoetcone20 ROOT::VecOps::RVec<float>                         \n",
      "                                          lep_type ROOT::VecOps::RVec<int>                           \n",
      "                                            lep_z0 ROOT::VecOps::RVec<float>                         \n",
      "                                          mcWeight Float_t                                           \n",
      "                                               met Float_t                                           \n",
      "                                           met_mpx Float_t                                           \n",
      "                                           met_mpy Float_t                                           \n",
      "                                           met_phi Float_t                                           \n",
      "                                        num_events Double_t                                          \n",
      "                                          photon_e ROOT::VecOps::RVec<float>                         \n",
      "                                        photon_eta ROOT::VecOps::RVec<float>                         \n",
      "                                  photon_isLooseID ROOT::VecOps::RVec<bool>                          \n",
      "                                    photon_isTight ROOT::VecOps::RVec<bool>                          \n",
      "                                  photon_isTightID ROOT::VecOps::RVec<bool>                          \n",
      "                                 photon_isTightIso ROOT::VecOps::RVec<bool>                          \n",
      "                                          photon_n Int_t                                             \n",
      "                                        photon_phi ROOT::VecOps::RVec<float>                         \n",
      "                                         photon_pt ROOT::VecOps::RVec<float>                         \n",
      "                                   photon_ptcone20 ROOT::VecOps::RVec<float>                         \n",
      "                               photon_topoetcone40 ROOT::VecOps::RVec<float>                         \n",
      "                                         runNumber UInt_t                                            \n",
      "                                    sum_of_weights Double_t                                          \n",
      "                            sum_of_weights_squared Double_t                                          \n",
      "                                   tau_RNNEleScore ROOT::VecOps::RVec<float>                         \n",
      "                                   tau_RNNJetScore ROOT::VecOps::RVec<float>                         \n",
      "                                        tau_charge ROOT::VecOps::RVec<float>                         \n",
      "                                             tau_e ROOT::VecOps::RVec<float>                         \n",
      "                                           tau_eta ROOT::VecOps::RVec<float>                         \n",
      "                                       tau_isTight ROOT::VecOps::RVec<bool>                          \n",
      "                                             tau_n Int_t                                             \n",
      "                                       tau_nTracks ROOT::VecOps::RVec<int>                           \n",
      "                                           tau_phi ROOT::VecOps::RVec<float>                         \n",
      "                                            tau_pt ROOT::VecOps::RVec<float>                         \n",
      "                                             trigE Bool_t                                            \n",
      "                                             trigM Bool_t                                            \n",
      "                                              xsec Float_t                                           \n"
     ]
    }
   ],
   "source": [
    "key = 'Background ZZ^{*}'\n",
    "for col in df[key].GetColumnNames():\n",
    "    print(\"%50s %-50s\"%(col,df[key].GetColumnType(col)))"
   ]
  },
  {
   "cell_type": "markdown",
   "id": "4dabb447",
   "metadata": {},
   "source": [
    "## Applying a cut\n",
    "This is where the analysis is defined. Nothing is run here, but it is waiting for the histograms (defined at the end) to be used. Then an event loop is executed over all the events in the RDataFrame and everything (i.e. cutting and creating variables) define below is done. "
   ]
  },
  {
   "cell_type": "code",
   "execution_count": 23,
   "id": "f30ee7c1",
   "metadata": {},
   "outputs": [],
   "source": [
    "histo = {}\n",
    "var = \"mllll\"\n",
    "cutflow = {}\n",
    "for key in df.keys():\n",
    "    if \"test\" in key:\n",
    "        df[key] = df[key].Define(\"totalWeight\",\"1.0\")\n",
    "    elif \"data\" not in key:\n",
    "        df[key] = df[key].Define(\"totalWeight\",\"(mcWeight*ScaleFactor_ELE* \\\n",
    "                                  abs(ScaleFactor_MUON)*ScaleFactor_PILEUP*\\\n",
    "                                  corrected_xsec*1000*%f)/sum_of_weights\"%lumi)\n",
    "    else:\n",
    "        df[key] = df[key].Define(\"totalWeight\",\"1.0\")\n",
    "        \n",
    "    df[key] = df[key].Filter(\"lep_n == 4\",\"4 leptons\")\n",
    "    \n",
    "    df[key] = df[key].Filter(\"trigE || trigM\",\"Lepton triggers\")\n",
    "    df[key] = df[key].Filter(\"(lep_pt[0]>20 && lep_pt[1]>15 && lep_pt[2]>10)\",\"pT of leptons\")\n",
    "    \n",
    "   \n",
    "    df[key] = df[key].Define(\"tightlep\",\"(lep_type == 11 && lep_isLooseID && (lep_topoetcone20/lep_pt)<0.20 && (lep_ptvarcone30/lep_pt)<0.15) || \\\n",
    "                                         (lep_type == 13 && (lep_topoetcone20/lep_pt)<0.30 && (lep_ptvarcone30/lep_pt)<0.15)\")\n",
    "    df[key] = df[key].Define(\"n_tightlep\", \"ROOT::VecOps::Sum(tightlep,0.)\")\n",
    "    \n",
    "    df[key] = df[key].Filter(\"n_tightlep == 4\",\"4 tight leptons\")\n",
    "\n",
    "    df[key] = df[key].Define(\"isOS\",\"cut_lep_charge(lep_charge)\")\n",
    "    df[key] = df[key].Define(\"isRF\",\"cut_lep_type(lep_type)\")\n",
    "    \n",
    "    \n",
    "    df[key] = df[key].Filter(\"isOS\",\"Opposite sign\")\n",
    "    df[key] = df[key].Filter(\"isRF\",\"Right flavour\")\n",
    "    \n",
    "  \n",
    "    df[key] = df[key].Define(\"PairedList\", \"getLeptonsPairsFromZ(lep_charge, lep_type, lep_pt, lep_eta, lep_phi, lep_e)\")\n",
    "    \n",
    "    df[key] = df[key].Define(\"m12\",\"getLeptonsFromZ(lep_charge, lep_type, lep_pt, lep_eta, lep_phi, lep_e).first\")\n",
    "    df[key] = df[key].Define(\"m34\",\"getLeptonsFromZ(lep_charge, lep_type, lep_pt, lep_eta, lep_phi, lep_e).second\")\n",
    "    \n",
    "    df[key] = df[key].Define(\"m13\",\"getInvariantMass_ll_4(lep_pt, lep_eta, lep_phi, lep_e, PairedList[0], PairedList[2])\")\n",
    "    df[key] = df[key].Define(\"m14\",\"getInvariantMass_ll_4(lep_pt, lep_eta, lep_phi, lep_e, PairedList[0], PairedList[3])\")\n",
    "    df[key] = df[key].Define(\"m23\",\"getInvariantMass_ll_4(lep_pt, lep_eta, lep_phi, lep_e, PairedList[1], PairedList[2])\")\n",
    "    df[key] = df[key].Define(\"m24\",\"getInvariantMass_ll_4(lep_pt, lep_eta, lep_phi, lep_e, PairedList[1], PairedList[3])\")\n",
    "    \n",
    "    df[key] = df[key].Define(\"checkm12\",\"getInvariantMass_ll_4(lep_pt, lep_eta, lep_phi, lep_e, PairedList[0], PairedList[1])\")\n",
    "    df[key] = df[key].Define(\"checkm34\",\"getInvariantMass_ll_4(lep_pt, lep_eta, lep_phi, lep_e, PairedList[2], PairedList[3])\")\n",
    "    \n",
    "    df[key] = df[key].Filter(\"m12 > 50 && m12 < 106\",\"50 < m12 < 106\")\n",
    "    df[key] = df[key].Filter(\"m34 > 12 && m34 < 115\",\"12 < m34 < 115\")\n",
    "    \n",
    "    df[key] = df[key].Define(\"dR12\",\"deltaR_ll_4(lep_pt, lep_eta, lep_phi, lep_e, PairedList[0], PairedList[1])\")\n",
    "    df[key] = df[key].Define(\"dR13\",\"deltaR_ll_4(lep_pt, lep_eta, lep_phi, lep_e, PairedList[0], PairedList[2])\")\n",
    "    df[key] = df[key].Define(\"dR14\",\"deltaR_ll_4(lep_pt, lep_eta, lep_phi, lep_e, PairedList[0], PairedList[3])\")\n",
    "    df[key] = df[key].Define(\"dR23\",\"deltaR_ll_4(lep_pt, lep_eta, lep_phi, lep_e, PairedList[1], PairedList[2])\")\n",
    "    df[key] = df[key].Define(\"dR24\",\"deltaR_ll_4(lep_pt, lep_eta, lep_phi, lep_e, PairedList[1], PairedList[3])\")\n",
    "    df[key] = df[key].Define(\"dR34\",\"deltaR_ll_4(lep_pt, lep_eta, lep_phi, lep_e, PairedList[2], PairedList[3])\")\n",
    "    \n",
    "    \n",
    "    \n",
    "    df[key] = df[key].Filter(\"dR12 > 0.1 && dR13 > 0.1 &&\\\n",
    "                              dR14 > 0.1 && dR23 > 0.1 &&\\\n",
    "                              dR24 > 0.1 && dR34 > 0.1\",\"dR > 0.1\")\n",
    "    \n",
    "     \n",
    "     \n",
    "    df[key] = df[key].Filter(\"m12 > 5 && m13 > 5 &&\\\n",
    "                              m14 > 5 && m23 > 5 &&\\\n",
    "                              m24 > 5 && m34 > 5\",\"mll > 5\")\n",
    "  \n",
    "    df[key] = df[key].Define(\"mllll\",\"calc_mllll(lep_pt,lep_eta,lep_phi,lep_e)\")\n",
    "    \n",
    "    \n",
    "    df[key] = df[key].Define(\"sumfl\",\"lepchannel(lep_type)\")\n",
    "    \n",
    "    histo[\"h_%s_all:%s\"%(var,key)] = df[key].Histo1D((\"h_%s_all_%s\"%(var,key),\"h_%s_all_%s\"%(var,key),36,80,170),\"%s\"%var,\"totalWeight\")\n",
    "     \n",
    "    for sumfl in [4*11,4*13,2*11+2*13]:\n",
    "        ad = \"\"\n",
    "        if sumfl == 4*11:\n",
    "            ad = \"isEEEE\"\n",
    "        elif sumfl == 4*13:\n",
    "            ad = \"isMMMM\"\n",
    "        elif sumfl == 2*11+2*13:\n",
    "            ad = \"isEEMM\"\n",
    "        else:\n",
    "            print(\"Unknown sum %i\"%sumfl)\n",
    "        histo[\"h_%s_%s:%s\"%(var,ad,key)] = df[key].Filter(f'sumfl == {sumfl}').Histo1D((\"h_%s_%s_%s\"%(var,ad,key),\"h_%s_%s_%s\"%(var,ad,key),36,80,170),\"%s\"%var,\"totalWeight\")"
   ]
  },
  {
   "cell_type": "markdown",
   "id": "f0049e7c",
   "metadata": {},
   "source": [
    "## Plotting\n",
    "\n",
    "Below all the plotting is done. This is also the first time we use the histograms defined above and thus the full event loop is scheduled. This may therefore take some time. \n",
    "\n",
    "You can define which channel (eeee,mmmm or eemm) you'd like to plot."
   ]
  },
  {
   "cell_type": "code",
   "execution_count": 24,
   "id": "e277fa53",
   "metadata": {},
   "outputs": [],
   "source": [
    "hname = var\n",
    "hstack = {}\n",
    "datastack = {}\n",
    "leg = {}\n",
    "hname = \"h_mllll_all\" # switch \"all\" with eeee, eemm, mmmm if you want to look at separate channels\n",
    "hstack[hname] = ROOT.THStack()\n",
    "datastack[hname] = ROOT.THStack()\n",
    "leg[hname] = ROOT.TLegend(0.2,0.6,0.5,0.85)\n",
    "leg[hname].SetLineColor(0)\n",
    "for bkg in ['Background Z,t#bar{t},t#bar{t}+V,VVV','Background ZZ^{*}','Signal (m_{H} = 125 GeV)','data']:\n",
    "    key = hname+\":\"+bkg \n",
    "    channel = hname.split(\"_\")[-1]\n",
    "    cat = key.split(\":\")[-1]\n",
    "    if not channel in cutflow.keys():\n",
    "        cutflow[channel] = {}\n",
    "    if not \"data\" in key:\n",
    "        histo[key].SetFillColor(ROOT.TColor.GetColor(samples[cat]['color']))\n",
    "        histo[key].SetLineColor(ROOT.TColor.GetColor(samples[cat]['color']))\n",
    "        hstack[hname].Add(histo[key].GetValue())\n",
    "    else:\n",
    "        histo[key].SetMarkerStyle(20)\n",
    "        histo[key].SetLineColor(ROOT.kBlack)\n",
    "        datastack[hname].Add(histo[key].GetValue())\n",
    "    if \"all\" in channel:\n",
    "        leg[hname].AddEntry(histo[key].GetValue(),bkg,\"lf\" if not \"data\" in key else \"pl\")"
   ]
  },
  {
   "cell_type": "code",
   "execution_count": 25,
   "id": "270a7971",
   "metadata": {},
   "outputs": [
    {
     "data": {
      "text/plain": [
       "<cppyy.gbl.TLatex object at 0x102aeaa0>"
      ]
     },
     "execution_count": 25,
     "metadata": {},
     "output_type": "execute_result"
    },
    {
     "data": {
      "image/png": "[encoded data removed]",
      "text/plain": [
       "<IPython.core.display.Image object>"
      ]
     },
     "metadata": {},
     "output_type": "display_data"
    }
   ],
   "source": [
    "%jsroot off\n",
    "c = {}\n",
    "pad1 = {}\n",
    "pad2 = {}\n",
    "pad3 = {}\n",
    "h_sumMC = {}\n",
    "h_sumDATA = {}\n",
    "\n",
    "c[hname] = ROOT.TCanvas(\"c_%s\"%hname,\"c_%s\"%hname,800,600)\n",
    "c[hname].Draw()\n",
    "\n",
    "\n",
    "pad1[hname] = ROOT.TPad(\"pad1\",\"pad1\",0.0,0.2,1.0,1.0,21)\n",
    "\n",
    "pad3[hname] = ROOT.TPad(\"pad3\",\"pad3\",0.0,0.0,1.0,0.2,21)\n",
    "pad1[hname].SetFillColor(0)\n",
    "\n",
    "pad3[hname].SetFillColor(0)\n",
    "pad1[hname].SetRightMargin(0.08)\n",
    "pad3[hname].SetRightMargin(0.08)\n",
    "\n",
    "pad1[hname].SetBottomMargin(0.01)\n",
    "\n",
    "pad3[hname].SetTopMargin(0.01)\n",
    "pad3[hname].SetBottomMargin(0.5)\n",
    "pad3[hname].Draw()\n",
    "pad1[hname].Draw()\n",
    "\n",
    "pad1[hname].cd()\n",
    "\n",
    "if hstack[hname].GetNhists():\n",
    "    hstack[hname].Draw(\"hist\")\n",
    "    hstack[hname].SetMaximum(20)\n",
    "    hstack[hname].SetMinimum(0)\n",
    "    hstack[hname].GetYaxis().SetTitle(\"Entries\")\n",
    "    hstack[hname].GetXaxis().SetLabelSize(0.0)\n",
    "    hstack[hname].Draw(\"hist\")\n",
    "    datastack[hname].Draw(\"ep same\")\n",
    "elif datastack[hname].GetNhists():\n",
    "    datastack[hname].Draw(\"pl\")\n",
    "\n",
    "h_sumMC[hname] = hstack[hname].GetStack().Last().Clone(\"h_sumMC_%s\"%hname)\n",
    "h_sumDATA[hname] = datastack[hname].GetStack().Last().Clone(\"h_sumDATA_%s\"%hname)\n",
    "h_sumMC[hname].Divide(h_sumDATA[hname])\n",
    "h_sumMC[hname].SetMarkerStyle(21)\n",
    "h_sumMC[hname].SetLineColor(ROOT.kBlack)\n",
    "\n",
    "pad3[hname].cd()\n",
    "pad3[hname].SetGridx()\n",
    "pad3[hname].SetGridy()\n",
    "h_sumMC[hname].SetTitle(\"\")\n",
    "h_sumMC[hname].GetXaxis().SetTitleSize(0.2)\n",
    "h_sumMC[hname].GetXaxis().SetTitleOffset(1.2)\n",
    "h_sumMC[hname].GetYaxis().SetTitle(\"MC/Data\")\n",
    "h_sumMC[hname].GetYaxis().SetTitleOffset(0.1)\n",
    "h_sumMC[hname].GetYaxis().SetTitleSize(0.15)\n",
    "h_sumMC[hname].GetYaxis().SetTitleOffset(0.2)\n",
    "h_sumMC[hname].GetYaxis().SetLabelSize(0.1)\n",
    "h_sumMC[hname].GetXaxis().SetLabelSize(0.2)\n",
    "h_sumMC[hname].GetXaxis().SetMaxDigits(6);\n",
    "h_sumMC[hname].GetYaxis().SetNdivisions(2);\n",
    "h_sumMC[hname].GetYaxis().SetRangeUser(0,2)\n",
    "h_sumMC[hname].SetMaximum(1.9)\n",
    "h_sumMC[hname].Draw(\"ep\")\n",
    "\n",
    "pad1[hname].cd()\n",
    "\n",
    "\n",
    "pad1[hname].cd()\n",
    "leg[hname].Draw()\n",
    "\n",
    "txt1 = ROOT.TLatex()\n",
    "txt1.SetTextSize(0.05);\n",
    "# Add text 'ATLAS Open Data' on plot\n",
    "txt1.DrawLatex(130, 18, \"ATLAS Open Data\") \n",
    "txt1.SetTextSize(0.03);\n",
    "txt1.DrawLatex(130, 17, \"for education\") \n",
    "txt1.SetTextSize(0.03);\n",
    "txt1.DrawLatex(130, 16, '\\sqrt{s}=13 TeV,\\int L dt = '+str(lumi)+'~fb^{-1}')\n",
    "txt1.SetTextSize(0.03);\n",
    "txt1.DrawLatex(130, 15, r'H \\rightarrow ZZ^* \\rightarrow 4\\ell') "
   ]
  },
  {
   "cell_type": "code",
   "execution_count": null,
   "id": "0e225acf",
   "metadata": {},
   "outputs": [],
   "source": []
  }
 ],
 "metadata": {
  "kernelspec": {
   "display_name": "Python 3 (ipykernel)",
   "language": "python",
   "name": "python3"
  },
  "language_info": {
   "codemirror_mode": {
    "name": "ipython",
    "version": 3
   },
   "file_extension": ".py",
   "mimetype": "text/x-python",
   "name": "python",
   "nbconvert_exporter": "python",
   "pygments_lexer": "ipython3",
   "version": "3.9.6"
  }
 },
 "nbformat": 4,
 "nbformat_minor": 5
}
