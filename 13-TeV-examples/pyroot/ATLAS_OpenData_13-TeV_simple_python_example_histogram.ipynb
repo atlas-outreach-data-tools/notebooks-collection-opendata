{
 "cells": [
  {
   "cell_type": "markdown",
   "metadata": {},
   "source": [
    "# An introductional notebook to HEP analysis using pyROOT\n",
    "\n",
    "In this notebook, you'll explore computing techniques commonly used in High Energy Physics (HEP) analysis. We'll guide you through creating, filling, and plotting a histogram to visualize physics data, such as the number of leptons, all in under 20 lines of code!\n"
   ]
  },
  {
   "cell_type": "markdown",
   "metadata": {},
   "source": [
    "<CENTER>\n",
    "    <a href=\"http://opendata.atlas.cern\" class=\"icons\"><img src=\"../../images/ATLASOD.gif\" style=\"width:40%\"></a>\n",
    "</CENTER>"
   ]
  },
  {
   "cell_type": "markdown",
   "metadata": {},
   "source": [
    "This tutorial also serves as an introduction to [ROOT](https://root.cern.ch/), a scientific data analysis framework. ROOT offers a comprehensive set of tools for big data processing, statistical analysis, visualization, and storage—making it useful for modern HEP research."
   ]
  },
  {
   "cell_type": "markdown",
   "metadata": {},
   "source": [
    "The following analysis is looking at events where [Z bosons](https://en.wikipedia.org/wiki/W_and_Z_bosons) decay to two leptons of same flavour and opposite charge, (e.g., Z → e$^+$e$^-$ or Z → μ$^+$μ$^-$), as shown in the [Feynman diagram](https://en.wikipedia.org/wiki/Feynman_diagram).\n",
    "\n",
    "<CENTER><img src=\"../../images/Z_ElectronPositron.png\" style=\"width:30%\"></CENTER>\n",
    "\n",
    "## What is the Z Boson?\n",
    "\n",
    "The Z boson is one of the mediators of the weak force, which is responsible for processes such as [beta decay](https://en.wikipedia.org/wiki/Beta_decay) in atomic nuclei. It interacts with all known fermions (quarks and leptons), but unlike the W boson, it does not change the type (flavor) of particle it interacts with. The Z boson couples to both [left-handed and right-handed](https://en.wikipedia.org/wiki/Chirality_(physics)) particles, making its behavior distinct from the charged W boson.\n",
    "\n",
    "Since the Z boson is electrically neutral, its decay products must have balanced charges. The decays of the Z boson into leptons (electrons, muons, and taus) are particularly useful for experimental studies because these particles can be precisely measured in detectors, giving a clear signature of the Z boson's presence.\n",
    "\n",
    "## The Decay of the Z Boson\n",
    "The Z boson decays rapidly due to its high mass, with a mean lifetime of around 3 × 10$^{-25}$ seconds. Its decay channels include hadrons (quarks) and leptons, but in this analysis, we are particularly interested in the lepton channels because they produce clean final states that are easier to measure."
   ]
  },
  {
   "cell_type": "markdown",
   "metadata": {},
   "source": [
    "## Running a Jupyter notebook\n",
    "A Jupyter notebook consists of cell blocks, each containing lines of Python code. Each cell can be run independently of each other, yielding respective outputs below the cells. Conventionally,cells are run in order from top to bottom.\n",
    "\n",
    "- To run the whole notebook, in the top menu click Cell $\\to$ Run All.\n",
    "- To propagate a change you've made to a piece of code, click Cell $\\to$ Run All Below.\n",
    "- You can also run a single code cell, by clicking Cell $\\to$ Run Cells, or using the keyboard shortcut Shift+Enter.\n",
    "\n",
    "For more information, refer to [How To Use Jupyter Notebooks](https://www.codecademy.com/article/how-to-use-jupyter-notebooks).\n",
    "\n",
    "By the end of this notebook you will be able to:\n",
    "1. Learn to process large data sets using cuts\n",
    "2. Understand some general principles of a particle physics analysis\n",
    "3. Discover the Z boson!"
   ]
  },
  {
   "cell_type": "markdown",
   "metadata": {},
   "source": [
    "## Initializing the notebook\n",
    "To begin, we need to include `ROOT` to suport our analysis. To visualize the histogram interactively, we enable the `JSROOT` magic function. This allows us to display the ROOT histograms directly in the notebook."
   ]
  },
  {
   "cell_type": "code",
   "execution_count": 1,
   "metadata": {},
   "outputs": [],
   "source": [
    "import ROOT\n",
    "%jsroot on"
   ]
  },
  {
   "cell_type": "code",
   "execution_count": null,
   "metadata": {},
   "outputs": [],
   "source": [
    "# install required packages. --user is only necessary in SWAN (not in colab or binder)\n",
    "%pip install --user atlasopenmagic"
   ]
  },
  {
   "cell_type": "code",
   "execution_count": null,
   "metadata": {},
   "outputs": [],
   "source": [
    "# Now we have to do a little bit of work to make sure that atlasopenmagic is available in our python path\n",
    "# This is because SWAN by default does not include the local package installation area in the PYTHONPATH\n",
    "# Again, this is not necessary on binder or colab\n",
    "import sys\n",
    "import os\n",
    "sys.path += [ f'{os.environ[\"HOME\"]}/.local/lib/python{sys.version_info.major}.{sys.version_info.minor}/site-packages' ]\n",
    "\n",
    "# Now we can safely import atlasopenmagic\n",
    "import atlasopenmagic as atom"
   ]
  },
  {
   "cell_type": "code",
   "execution_count": null,
   "metadata": {},
   "outputs": [],
   "source": [
    "# Now let's see what releases are available to us\n",
    "atom.available_releases()"
   ]
  },
  {
   "cell_type": "code",
   "execution_count": 5,
   "metadata": {},
   "outputs": [
    {
     "name": "stdout",
     "output_type": "stream",
     "text": [
      "Fetching and caching all metadata for release: 2025e-13tev-beta...\n",
      "Fetched 374 datasets so far...\n",
      "Successfully cached 374 datasets.\n",
      "Active release: 2025e-13tev-beta. (Datasets path: REMOTE)\n"
     ]
    }
   ],
   "source": [
    "# And let's plan to use the latest release of Open Data for Outreach and Education\n",
    "atom.set_release('2025e-13tev-beta')"
   ]
  },
  {
   "cell_type": "markdown",
   "metadata": {},
   "source": [
    "## Making a histogram\n",
    "We begin by opening the data file we wish to analyze. The data is stored in a ***.root*** file, which consists of a tree structure containing branches and leaves. In this example, we are reading the data directly from a remote source:"
   ]
  },
  {
   "cell_type": "code",
   "execution_count": 6,
   "metadata": {},
   "outputs": [
    {
     "name": "stdout",
     "output_type": "stream",
     "text": [
      "root://eospublic.cern.ch:1094//eos/opendata/atlas/rucio/opendata/ODEO_FEB2025_v0_1LMET30_mc_700320.Sh_2211_Zee_maxHTpTV2_BFilter.1LMET30.root\n"
     ]
    }
   ],
   "source": [
    "# Here we use the root protocol; you can use https if you don't have xrootd available\n",
    "file_path = atom.get_urls(key='700320', skim='1LMET30', protocol='root')[0]\n",
    "f = ROOT.TFile.Open(file_path) \n",
    "print(file_path)"
   ]
  },
  {
   "cell_type": "markdown",
   "metadata": {},
   "source": [
    "<div class=\"alert alert-info\">\n",
    "  <b>‼️ NOTE:</b>\n",
    "  To know more about the contents of the ATLAS Open Data datasets, please visit our <a href=\"https://opendata.atlas.cern/docs/data/for_education/13TeV25_details\" target=\"_blank\">documentation.</a> \n",
    "</div>\n",
    "\n",
    "Next, we define a tree (we'll name it ***tree***) to extract the data from the ***.root*** file, from the tree called `analysis`, that holds the data."
   ]
  },
  {
   "cell_type": "code",
   "execution_count": 7,
   "metadata": {},
   "outputs": [
    {
     "name": "stdout",
     "output_type": "stream",
     "text": [
      "The dataset has 1550382 numbers of events\n"
     ]
    }
   ],
   "source": [
    "tree = f.Get(\"analysis\")\n",
    "n_events = tree.GetEntries()\n",
    "print(f\"The dataset has {n_events} numbers of events\")"
   ]
  },
  {
   "cell_type": "markdown",
   "metadata": {},
   "source": [
    "Now, we create a canvas on which we will draw our histogram. Without a canvas, we won't be able to visualize the histogram. The following command creates a canvas named ***Canvas*** with a title and sets its width and height:"
   ]
  },
  {
   "cell_type": "code",
   "execution_count": 8,
   "metadata": {},
   "outputs": [],
   "source": [
    "canvas = ROOT.TCanvas(\"Canvas\",\"a first way to plot a variable\",800,600)"
   ]
  },
  {
   "cell_type": "markdown",
   "metadata": {},
   "source": [
    "We also need to define the histogram that will be placed on this canvas. The histogram is named **variable** and its title is **\"Number of leptons\"**. It has 5 bins that span the range from -0.5 to 4.5 (for a total range of 0 to 4 leptons):"
   ]
  },
  {
   "cell_type": "code",
   "execution_count": 9,
   "metadata": {},
   "outputs": [],
   "source": [
    "hist = ROOT.TH1F(\"variable\",\"Number of leptons; Number of leptons ; Events \",5, -0.5, 4.5)"
   ]
  },
  {
   "cell_type": "markdown",
   "metadata": {},
   "source": [
    "The following lines are a loop that goes over the data that is stored in the tree and fills the histogram (h) that we already defined. The loop fills the histogram for each event stored in the tree. After the program has looped over all the data it prints \"Done!\""
   ]
  },
  {
   "cell_type": "code",
   "execution_count": 10,
   "metadata": {},
   "outputs": [
    {
     "name": "stdout",
     "output_type": "stream",
     "text": [
      "Done!\n"
     ]
    }
   ],
   "source": [
    "for event in tree:\n",
    "    hist.Fill(tree.lep_n)\n",
    "    \n",
    "print(\"Done!\")"
   ]
  },
  {
   "cell_type": "markdown",
   "metadata": {},
   "source": [
    "After filling the histogram we want to vizualize the results. First we draw the histogram on the canvas and then the canvas on which the histogram lies."
   ]
  },
  {
   "cell_type": "code",
   "execution_count": 11,
   "metadata": {},
   "outputs": [
    {
     "data": {
      "image/png": "[encoded data removed]",
      "text/plain": [
       "<IPython.core.display.Image object>"
      ]
     },
     "metadata": {},
     "output_type": "display_data"
    },
    {
     "name": "stderr",
     "output_type": "stream",
     "text": [
      "Info in <TCanvas::Print>: png file Zll_inv_mass.png has been created\n"
     ]
    }
   ],
   "source": [
    "hist.SetFillColor(2)\n",
    "hist.Draw()\n",
    "canvas.Draw()\n",
    "\n",
    "# If you want a copy of your plot locally, uncomment the following line\n",
    "# c.SaveAs(\"Zll_inv_mass.pdf\") # pdf image"
   ]
  },
  {
   "cell_type": "markdown",
   "metadata": {},
   "source": [
    "### Interpreting the histogram\n",
    "In the plot above, we visualize the distribution of the number of leptons per event. This histogram provides insight into the frequency of events containing different numbers of leptons.\n",
    "\n",
    "- **X-axis**: Represents the number of leptons detected in each event. The values range from 0 to 4, where each bin corresponds to an integer number of leptons.\n",
    "- **Y-axis**: Shows the number of events (scaled to thousands) that contain the corresponding number of leptons.\n",
    "\n",
    "From the data:\n",
    "\n",
    "- The majority of events contain either 1 or 2 leptons, with the peak occurring at 2 leptons, suggesting that this number of leptons is the most common in the analyzed dataset.\n",
    "- Events with 0, 3, or 4 leptons are significantly less frequent, as indicated by the lower heights of their corresponding bins.\n",
    "\n",
    "In the statistics box on the top right:\n",
    "\n",
    "- We see that the total number of events analyzed is 1,550,382.\n",
    "- The mean number of leptons per event is around 1.68, indicating that most events contain slightly fewer than 2 leptons on average.\n",
    "- The standard deviation of around 0.5839 shows a relatively low spread, meaning that most events are clustered around the mean number of leptons, with little variation.\n",
    "\n",
    "This histogram gives us a snapshot of the lepton content in the events, which can be further analyzed to study processes like lepton production in proton-proton collisions at high energies. The distribution is an important aspect of understanding the data and may inform further cuts or selection criteria for a complex physics analysis.\n",
    "\n",
    "In this example, as always, it is a good idea to see if the result matches your intuition. Here we began with a sample of Z bosons decaying to electrons, so it makes good sense that most events contain exactly two electrons. Can you think of some reasons why there might be only one or three in some events? The file we selected has **1LMET30** in the name, meaning that the events in it were pre-selected to have at least one lepton. That also helps explain why there are so few zero-electron events. If you would like, you can try picking a file from a [different sample](https://opendata.atlas.cern/docs/data/for_education/13TeV25_metadata) to see how the result changes."
   ]
  }
 ],
 "metadata": {
  "@webio": {
   "lastCommId": null,
   "lastKernelId": null
  },
  "kernelspec": {
   "display_name": "Python 3",
   "language": "python",
   "name": "python3"
  },
  "language_info": {
   "codemirror_mode": {
    "name": "ipython",
    "version": 3
   },
   "file_extension": ".py",
   "mimetype": "text/x-python",
   "name": "python",
   "nbconvert_exporter": "python",
   "pygments_lexer": "ipython3",
   "version": "3.11.9"
  }
 },
 "nbformat": 4,
 "nbformat_minor": 4
}
