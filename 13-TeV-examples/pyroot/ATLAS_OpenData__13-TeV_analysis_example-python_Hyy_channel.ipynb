{
 "cells": [
  {
   "cell_type": "markdown",
   "metadata": {},
   "source": [
    "<CENTER>\n",
    "    <a href=\"http://opendata.atlas.cern/release/2020/documentation/notebooks/intro.html\" class=\"icons\"><img src=\"../../images/ATLASOD.gif\" style=\"width:40%\"></a>\n",
    "</CENTER>"
   ]
  },
  {
   "cell_type": "markdown",
   "metadata": {},
   "source": [
    "<CENTER><h1>Searching for the Higgs boson in the H&#8594;&gamma;&gamma; channel</h1></CENTER>\n",
    "\n",
    "\n",
    "SM Higgs signal Feynman diagram:\n",
    "<CENTER><img src=\"../../images/Figures_FeynmanHprod.png\" style=\"width:30%\"></CENTER>"
   ]
  },
  {
   "cell_type": "markdown",
   "metadata": {},
   "source": [
    "**Introduction**\n",
    "Let's take a current ATLAS Open Data sample and create a histogram:"
   ]
  },
  {
   "cell_type": "code",
   "execution_count": 1,
   "metadata": {},
   "outputs": [],
   "source": [
    "import ROOT\n",
    "from ROOT import TMath\n",
    "import time"
   ]
  },
  {
   "cell_type": "code",
   "execution_count": null,
   "metadata": {},
   "outputs": [],
   "source": [
    "%jsroot on"
   ]
  },
  {
   "cell_type": "code",
   "execution_count": null,
   "metadata": {},
   "outputs": [],
   "source": [
    "# install required packages. --user is only necessary on SWAN; otherwise it can be removed\n",
    "%pip install --user atlasopenmagic"
   ]
  },
  {
   "cell_type": "code",
   "execution_count": null,
   "metadata": {},
   "outputs": [],
   "source": [
    "# Now we have to do a little bit of work to make sure that atlasopenmagic is available in our python path\n",
    "# This is because SWAN by default does not include the local package installation area in the PYTHONPATH\n",
    "# Again, this is not necessary on binder or colab\n",
    "import sys\n",
    "import os\n",
    "sys.path += [ f'{os.environ[\"HOME\"]}/.local/lib/python{sys.version_info.major}.{sys.version_info.minor}/site-packages' ]\n",
    "\n",
    "# Now we can safely import atlasopenmagic\n",
    "import atlasopenmagic as atom"
   ]
  },
  {
   "cell_type": "code",
   "execution_count": null,
   "metadata": {},
   "outputs": [],
   "source": [
    "# Now let's see what releases are available to us\n",
    "atom.available_releases()"
   ]
  },
  {
   "cell_type": "code",
   "execution_count": 6,
   "metadata": {},
   "outputs": [
    {
     "name": "stdout",
     "output_type": "stream",
     "text": [
      "Fetching and caching all metadata for release: 2025e-13tev-beta...\n",
      "Fetched 374 datasets so far...\n",
      "Successfully cached 374 datasets.\n",
      "Active release: 2025e-13tev-beta. (Datasets path: REMOTE)\n"
     ]
    }
   ],
   "source": [
    "# And let's plan to use the latest release of Open Data for Outreach and Education\n",
    "atom.set_release('2025e-13tev-beta')"
   ]
  },
  {
   "cell_type": "code",
   "execution_count": null,
   "metadata": {},
   "outputs": [],
   "source": [
    "start = time.time()\n",
    "data_chain = ROOT.TChain(\"analysis\")\n",
    "# If you are using a system with no xrootd access, use the below line instead to access files via https\n",
    "# file_paths = atom.get_urls(key='data', skim='GamGam', protocol='https', cache=True) #cache=True for https\n",
    "\n",
    "file_paths = atom.get_urls(key='data', skim='GamGam', protocol='root')\n",
    "\n",
    "print(len(file_paths))\n",
    "print(file_paths)"
   ]
  },
  {
   "cell_type": "code",
   "execution_count": null,
   "metadata": {},
   "outputs": [],
   "source": [
    "data_chain = ROOT.TChain(\"analysis\")\n",
    "\n",
    "# Set the number of samples you want to include in the analysis (16 data samples in total)\n",
    "max_samples = 16\n",
    "\n",
    "for name_sample in file_paths[:max_samples]:\n",
    "    data_chain.Add(name_sample)\n",
    "    print(f\"Processed sample: \"+ name_sample)\n",
    "\n",
    "n_entries = data_chain.GetEntries()\n",
    "print(f\"Number of entries in the chain: {n_entries}\")"
   ]
  },
  {
   "cell_type": "code",
   "execution_count": 9,
   "metadata": {},
   "outputs": [],
   "source": [
    "canvas = ROOT.TCanvas(\"Canvas\",\"cz\",800,600)"
   ]
  },
  {
   "cell_type": "markdown",
   "metadata": {},
   "source": [
    "Now we're going to extract the photons variables"
   ]
  },
  {
   "cell_type": "code",
   "execution_count": 10,
   "metadata": {},
   "outputs": [],
   "source": [
    "#Invariant mass histograms definition\n",
    "hist = ROOT.TH1F(\"h_M_Hyy\",\"Diphoton invariant-mass ; Invariant Mass m_{yy} [GeV] ; events\",60,100,160)"
   ]
  },
  {
   "cell_type": "markdown",
   "metadata": {},
   "source": [
    "Here we're filling the variables defined above with the content of those inside the input ntuples."
   ]
  },
  {
   "cell_type": "markdown",
   "metadata": {},
   "source": [
    "We're creating a histogram for this example. The plan is to fill them with events."
   ]
  },
  {
   "cell_type": "markdown",
   "metadata": {},
   "source": [
    "We are selecting below a simple look for them."
   ]
  },
  {
   "cell_type": "markdown",
   "metadata": {},
   "source": [
    "The Higgs boson analysis implemented here considers Higgs boson decays into a photon-photon pair. The event selection criteria are:"
   ]
  },
  {
   "cell_type": "code",
   "execution_count": 11,
   "metadata": {},
   "outputs": [],
   "source": [
    "# Cut on the photon reconstruction quality\n",
    "def cut_photon_reconstruction(photon_isTightID):\n",
    "    # Only the events which have True for both photons are kept\n",
    "    return (photon_isTightID[0]==True) and (photon_isTightID[1]==True)\n",
    "\n",
    "# Cut on the transverse momentum\n",
    "def cut_photon_pt(photon_pt):\n",
    "# Only the events where photon_pt[0] > 50 GeV and photon_pt[1] > 30 GeV are kept\n",
    "    return (photon_pt[0] > 50) and (photon_pt[1] > 30)\n",
    "\n",
    "# Cut on the energy isolation\n",
    "def cut_isolation_pt(photon_ptcone20, photon_pt):\n",
    "# Only the events where the calorimeter isolation is less than 5.5% are kept\n",
    "    return ((photon_ptcone20[0]/photon_pt[0]) < 0.055) and ((photon_ptcone20[1]/photon_pt[1]) < 0.055)\n",
    "\n",
    "# Cut on the pseudorapidity in barrel/end-cap transition region\n",
    "def cut_photon_eta_transition(photon_eta):\n",
    "# Only the events where modulus of photon_eta is outside the range 1.37 to 1.52 are kept\n",
    "    condition_0 = (TMath.Abs(photon_eta[0]) < 1.37) or (TMath.Abs(photon_eta[0]) > 1.52)\n",
    "    condition_1 = (TMath.Abs(photon_eta[1]) < 1.37) or (TMath.Abs(photon_eta[1]) > 1.52)\n",
    "    return condition_0 and condition_1\n",
    "\n",
    "# This function calculates the invariant mass of the 2-photon state\n",
    "def calc_mass(photon_pt, photon_eta, photon_phi, photon_e):    \n",
    "    Photon_1 = ROOT.TLorentzVector()\n",
    "    Photon_2 = ROOT.TLorentzVector()\n",
    "\n",
    "    Photon_1.SetPtEtaPhiE(photon_pt[0], photon_eta[0], photon_phi[0], photon_e[0])\n",
    "    Photon_2.SetPtEtaPhiE(photon_pt[1], photon_eta[1], photon_phi[1], photon_e[1])\n",
    "    ## Adding the two TLorentz vectors\n",
    "    Photon_12 = Photon_1 + Photon_2\n",
    "    inv_mass_Hyy = Photon_12.M()\n",
    "    return inv_mass_Hyy\n",
    "\n",
    "# Cut on null diphoton invariant mass\n",
    "def cut_mass(invariant_mass):\n",
    "    return (invariant_mass != 0)\n",
    "\n",
    "# Cut on diphoton invariant mass based isolation\n",
    "# Only the events where the invididual photon invariant mass based isolation is larger than 35% are kept\n",
    "def cut_iso_mass(photon_pt, invariant_mass):\n",
    "    return ((photon_pt[0]/invariant_mass) > 0.35) and ((photon_pt[1]/invariant_mass) > 0.35)"
   ]
  },
  {
   "cell_type": "code",
   "execution_count": 12,
   "metadata": {},
   "outputs": [
    {
     "name": "stdout",
     "output_type": "stream",
     "text": [
      "10000000\n",
      "20000000\n",
      "30000000\n",
      "Number of events: 36564144\n",
      "Number of events passing the event selection: 550057\n"
     ]
    }
   ],
   "source": [
    "n = 0\n",
    "accepted_events = 0\n",
    "for event in data_chain:\n",
    "    n += 1\n",
    "    ## printing the evolution in number of events\n",
    "    if(n%10000000==0):\n",
    "        print(n)\n",
    "    # Cut on the photon reconstruction quality\n",
    "    if(cut_photon_reconstruction(data_chain.photon_isTightID)):\n",
    "        # Cut: pT cut - photon 1 has pT > 50 GeV and photon 2 has pT > 30 GeV\n",
    "        if(cut_photon_pt(data_chain.photon_pt)):\n",
    "            # Only the events where the calorimeter isolation is less than 5.5% are kept\n",
    "            if(cut_isolation_pt(data_chain.photon_ptcone20, data_chain.photon_pt)):\n",
    "                # Cut on the pseudorapidity in barrel/end-cap transition region\n",
    "                if(cut_photon_eta_transition(data_chain.photon_eta)):\n",
    "                    inv_mass_Hyy = calc_mass(data_chain.photon_pt, data_chain.photon_eta, \\\n",
    "                                             data_chain.photon_phi, data_chain.photon_e)\n",
    "                    # Cut on null diphoton invariant mass\n",
    "                    if(cut_mass(inv_mass_Hyy)):\n",
    "                        # Cut on diphoton invariant mass based isolation. Only the events where \n",
    "                        # the invididual photon invariant mass based isolation is larger than 35% are kept\n",
    "                        if(cut_iso_mass(data_chain.photon_pt, inv_mass_Hyy)):\n",
    "                            ## Filling with the mass of the gamma-gamma system\n",
    "                            hist.Fill(inv_mass_Hyy)\n",
    "                            accepted_events+=1\n",
    "        \n",
    "print(f\"Number of events: {n_entries}\")\n",
    "print(f\"Number of events passing the event selection: {accepted_events}\")"
   ]
  },
  {
   "cell_type": "markdown",
   "metadata": {},
   "source": [
    "#### Final plot"
   ]
  },
  {
   "cell_type": "code",
   "execution_count": null,
   "metadata": {},
   "outputs": [],
   "source": [
    "# Convert histogram into RooDataHist\n",
    "x = ROOT.RooRealVar(\"m_yy\", \"di-photon invariant mass m_{#gamma#gamma} [GeV]\", 100, 160)\n",
    "data = ROOT.RooDataHist(\"data\", \"data\", ROOT.RooArgList(x), hist)\n",
    "\n",
    "# --- Define signal model (Gaussian) ---\n",
    "mean   = ROOT.RooRealVar(\"mean\", \"mean of gauss\", 125, 120, 130)\n",
    "sigma  = ROOT.RooRealVar(\"sigma\", \"width of gauss\", 2.0, 0.5, 5.0)\n",
    "gauss  = ROOT.RooGaussian(\"gauss\", \"gaussian PDF\", x, mean, sigma)\n",
    "\n",
    "# --- Define background model (4th order polynomial) ---\n",
    "a0 = ROOT.RooRealVar(\"a0\", \"a0\", 0.0, -1, 1)\n",
    "a1 = ROOT.RooRealVar(\"a1\", \"a1\", 0.0, -1, 1)\n",
    "a2 = ROOT.RooRealVar(\"a2\", \"a2\", 0.0, -1, 1)\n",
    "a3 = ROOT.RooRealVar(\"a3\", \"a3\", 0.0, -1, 1)\n",
    "a4 = ROOT.RooRealVar(\"a4\", \"a4\", 0.0, -1, 1)\n",
    "bkg = ROOT.RooChebychev(\"bkg\", \"Chebychev background\", x, ROOT.RooArgList(a0,a1,a2,a3,a4))\n",
    "\n",
    "# --- Define coefficients (yields) ---\n",
    "nsig = ROOT.RooRealVar(\"nsig\", \"signal yield\", hist.Integral()/20., 0., hist.Integral())\n",
    "nbkg = ROOT.RooRealVar(\"nbkg\", \"background yield\", hist.Integral(), 0., hist.Integral())\n",
    "\n",
    "# --- Total model ---\n",
    "model = ROOT.RooAddPdf(\"model\", \"sig + bkg\", ROOT.RooArgList(gauss, bkg), ROOT.RooArgList(nsig, nbkg))\n",
    "\n",
    "# --- Perform the fit ---\n",
    "fit_result = model.fitTo(data, ROOT.RooFit.Extended(True), ROOT.RooFit.Save(), ROOT.RooFit.PrintLevel(-1))"
   ]
  },
  {
   "cell_type": "code",
   "execution_count": 14,
   "metadata": {},
   "outputs": [
    {
     "name": "stdout",
     "output_type": "stream",
     "text": [
      "mean:  124.73489803523057\n",
      "std deviation:  1.3953026072239865\n",
      "polynomic function (using the Chebyshev polynomials basis): \n",
      "-0.7311841441359598 + 0.09924363494268622*T_1(x) + 0.018241593137788906*T_2(x) + -0.012089205219380292*T_3(x) + 0.004698211754357402*T_4(x)\n"
     ]
    }
   ],
   "source": [
    "print(\"mean: \", mean.getVal())\n",
    "print(\"std deviation: \", sigma.getVal())\n",
    "print(\"polynomic function (using the Chebyshev polynomials basis): \")\n",
    "print(f\"{a0.getVal()} + {a1.getVal()}*T_1(x) + {a2.getVal()}*T_2(x) + {a3.getVal()}*T_3(x) + {a4.getVal()}*T_4(x)\")"
   ]
  },
  {
   "cell_type": "code",
   "execution_count": 15,
   "metadata": {},
   "outputs": [
    {
     "name": "stdout",
     "output_type": "stream",
     "text": [
      "nbins h_data: 60\n",
      "nbins h_bkg: 60\n",
      "===================================================================\n",
      "integral h_bkg: 0.9999902579002082\n",
      "nbkg expected: RooRealVar::nbkg = 249092 +/- 580.986  L(0 - 250125) \n",
      "\n"
     ]
    },
    {
     "data": {
      "image/png": "[encoded data removed]",
      "text/plain": [
       "<IPython.core.display.Image object>"
      ]
     },
     "metadata": {},
     "output_type": "display_data"
    },
    {
     "name": "stdout",
     "output_type": "stream",
     "text": [
      "[#1] INFO:Plotting -- RooAbsPdf::plotOn(model) directly selected PDF components: (bkg)\n",
      "[#1] INFO:Plotting -- RooAbsPdf::plotOn(model) indirectly selected PDF components: ()\n",
      "[#1] INFO:Plotting -- RooAbsPdf::plotOn(model) directly selected PDF components: (gauss)\n",
      "[#1] INFO:Plotting -- RooAbsPdf::plotOn(model) indirectly selected PDF components: ()\n"
     ]
    },
    {
     "name": "stderr",
     "output_type": "stream",
     "text": [
      "Info in <TCanvas::Print>: png file Hyy_fit_analysis.png has been created\n"
     ]
    }
   ],
   "source": [
    "# =======================\n",
    "# Main Pad (Data + Fit)\n",
    "# =======================\n",
    "canvas = ROOT.TCanvas(\"canvas\", \"canvas\", 800, 600)\n",
    "    \n",
    "mainPad = ROOT.TPad(\"mainPad\", \"mainPad\", 0, 0.3, 1, 1.0)\n",
    "mainPad.SetBottomMargin(0)\n",
    "mainPad.Draw()\n",
    "mainPad.cd()\n",
    "\n",
    "# Get histogram representation of data and background\n",
    "# Ensure both histograms use the same binning\n",
    "\n",
    "nbins = hist.GetNbinsX()\n",
    "xmin = hist.GetXaxis().GetXmin()\n",
    "xmax = hist.GetXaxis().GetXmax()\n",
    "\n",
    "h_data = data.createHistogram(\"h_data\", x, ROOT.RooFit.Binning(nbins, xmin, xmax));\n",
    "h_bkg  = bkg.createHistogram(\"h_bkg\", x, ROOT.RooFit.Binning(nbins, xmin, xmax));\n",
    "\n",
    "print(f\"nbins h_data: {h_data.GetNbinsX()}\")\n",
    "print(f\"nbins h_bkg: {h_bkg.GetNbinsX()}\")\n",
    "\n",
    "print(\"===================================================================\")\n",
    "print(f\"integral h_bkg: {h_bkg.Integral()}\")\n",
    "print(f\"nbkg expected: {nbkg}\")\n",
    "\n",
    "# Normalize background histogram to expected number of events. The h_bkg is normalized to 1, so \n",
    "# that's why we need to scale it with the nbkg estimation given in the fitted model\n",
    "h_bkg.Scale(nbkg.getVal() / h_bkg.Integral())\n",
    "\n",
    "# Create residual histogram (data - bkg)\n",
    "resid = ROOT.TH1F(\"residual\",\"Diphoton invariant-mass ; Invariant Mass m_{yy} [GeV] ; events\",60,100,160)\n",
    "\n",
    "for i in range(h_data.GetNbinsX()):\n",
    "    data_value = h_data.GetBinContent(i)\n",
    "    bkg_value = h_bkg.GetBinContent(i)\n",
    "    \n",
    "    # residual value\n",
    "    res_value  = data_value - bkg_value\n",
    "    resid.SetBinContent(i, res_value)\n",
    "\n",
    "# --- Plot results ---\n",
    "frame = x.frame()\n",
    "data.plotOn(frame, ROOT.RooFit.MarkerStyle(20), ROOT.RooFit.MarkerSize(0.5))\n",
    "model.plotOn(frame, ROOT.RooFit.Name(\"sig_bkg_curve\"), ROOT.RooFit.LineWidth(2), \n",
    "             ROOT.RooFit.LineColor(ROOT.kBlue))\n",
    "model.plotOn(frame, ROOT.RooFit.Components(\"bkg\"), ROOT.RooFit.LineWidth(2), ROOT.RooFit.LineStyle(ROOT.kDashed), \n",
    "             ROOT.RooFit.LineColor(ROOT.kRed), ROOT.RooFit.Name(\"bkg_curve\"))\n",
    "model.plotOn(frame, ROOT.RooFit.Components(\"gauss\"), ROOT.RooFit.LineStyle(ROOT.kDotted), \n",
    "             ROOT.RooFit.LineColor(ROOT.kBlue), ROOT.RooFit.Name(\"gaussian_curve\"))\n",
    "\n",
    "frame.SetTitle(\"Di-photon invariant mass m_{#gamma#gamma}\")\n",
    "frame.GetYaxis().SetTitle(\"Events / bin\")\n",
    "frame.GetXaxis().SetTitleSize(0.05)   # size of x-axis title\n",
    "frame.GetYaxis().SetTitleSize(0.05)   # size of y-axis title\n",
    "frame.GetXaxis().SetLabelSize(0.03)   # size of x-axis labels\n",
    "frame.GetYaxis().SetLabelSize(0.03)   # size of y-axis labels\n",
    "frame.GetXaxis().SetTitleFont(42)     # Helvetica (ROOT default)\n",
    "frame.GetYaxis().SetTitleFont(42)\n",
    "\n",
    "frame.Draw()\n",
    "canvas.cd()\n",
    "\n",
    "# Legend\n",
    "\n",
    "sig_bkg_curve = frame.findObject(\"sig_bkg_curve\")\n",
    "bkg_curve = frame.findObject(\"bkg_curve\")\n",
    "\n",
    "legend = ROOT.TLegend(0.55, 0.75, 0.85, 0.90)\n",
    "#legend.AddEntry(frame.findObject(\"h_data\"), \"Data\", \"lep\")\n",
    "legend.AddEntry(frame, \"Data\", \"lep\")\n",
    "legend.AddEntry(sig_bkg_curve, \"Sig+Bkg Fit (m_{H}=125 GeV)\", \"l\")\n",
    "legend.AddEntry(bkg_curve, \"Bkg (4th order polynomial)\", \"l\")\n",
    "legend.Draw()\n",
    "\n",
    "# Labels\n",
    "latex = ROOT.TLatex()\n",
    "latex.SetTextSize(0.03)\n",
    "latex.DrawLatexNDC(0.60, 0.70, \"ATLAS Open Data\")\n",
    "latex.DrawLatexNDC(0.60, 0.65, \"#sqrt{s}=13 TeV, #int L dt = 36 fb^{-1}\")\n",
    "latex.DrawLatexNDC(0.60, 0.60, \"H #rightarrow #gamma#gamma\")\n",
    "\n",
    "# =======================\n",
    "# Residual Pad (Data-Bkg vs Fit-Bkg)\n",
    "# =======================\n",
    "residPad = ROOT.TPad(\"residPad\", \"residPad\", 0, 0.05, 1, 0.3)\n",
    "residPad.SetTopMargin(0)\n",
    "residPad.SetBottomMargin(0.3)\n",
    "residPad.Draw()\n",
    "residPad.cd()\n",
    "\n",
    "# Style\n",
    "resid.SetMarkerStyle(20)\n",
    "resid.SetMarkerSize(0.5)\n",
    "resid.SetLineColor(ROOT.kBlack)\n",
    "resid.GetYaxis().SetTitle(\"Events - Bkg\")\n",
    "resid.GetYaxis().SetTitleSize(0.08)\n",
    "resid.GetYaxis().SetTitleOffset(0.5)\n",
    "resid.GetYaxis().SetLabelSize(0.08)\n",
    "resid.GetXaxis().SetTitle(\"di-photon invariant mass m_{#gamma#gamma} [GeV]\")\n",
    "resid.GetXaxis().SetTitleSize(0.10)\n",
    "resid.GetXaxis().SetLabelSize(0.10)\n",
    "resid.SetStats(0)\n",
    "\n",
    "# Draw residuals (data - bkg)\n",
    "resid.Draw(\"E1\")\n",
    "\n",
    "# Zero line\n",
    "zeroLine = ROOT.TLine(100, 0, 160, 0)\n",
    "zeroLine.SetLineColor(ROOT.kRed)\n",
    "zeroLine.SetLineStyle(2)\n",
    "zeroLine.Draw(\"same\")\n",
    "\n",
    "gaussian_curve = frame.findObject(\"gaussian_curve\")\n",
    "gaussian_curve.Draw(\"same\")\n",
    "\n",
    "canvas.Draw()\n",
    "\n",
    "# If you want a copy of your plot locally, uncomment the following line\n",
    "# c.SaveAs(\"Hyy_fit_analysis.pdf\") # pdf image"
   ]
  },
  {
   "cell_type": "code",
   "execution_count": 16,
   "metadata": {},
   "outputs": [
    {
     "name": "stdout",
     "output_type": "stream",
     "text": [
      "Finished in 11 min 32 s\n"
     ]
    }
   ],
   "source": [
    "end = time.time()\n",
    "duration = end-start\n",
    "print(\"Finished in {} min {} s\".format(int(duration//60),int(duration%60))) # Python3"
   ]
  },
  {
   "cell_type": "markdown",
   "metadata": {},
   "source": [
    "**Done!**"
   ]
  }
 ],
 "metadata": {
  "@webio": {
   "lastCommId": null,
   "lastKernelId": null
  },
  "kernelspec": {
   "display_name": "Python 3",
   "language": "python",
   "name": "python3"
  },
  "language_info": {
   "codemirror_mode": {
    "name": "ipython",
    "version": 3
   },
   "file_extension": ".py",
   "mimetype": "text/x-python",
   "name": "python",
   "nbconvert_exporter": "python",
   "pygments_lexer": "ipython3",
   "version": "3.11.9"
  }
 },
 "nbformat": 4,
 "nbformat_minor": 1
}
