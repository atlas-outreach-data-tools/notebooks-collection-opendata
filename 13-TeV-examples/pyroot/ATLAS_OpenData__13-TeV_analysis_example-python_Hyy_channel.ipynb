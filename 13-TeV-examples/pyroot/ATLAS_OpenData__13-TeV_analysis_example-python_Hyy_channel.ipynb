{
 "cells": [
  {
   "cell_type": "markdown",
   "metadata": {},
   "source": [
    "<CENTER>\n",
    "    <a href=\"http://opendata.atlas.cern/release/2020/documentation/notebooks/intro.html\" class=\"icons\"><img src=\"../../images/ATLASOD.gif\" style=\"width:40%\"></a>\n",
    "</CENTER>"
   ]
  },
  {
   "cell_type": "markdown",
   "metadata": {},
   "source": [
    "<CENTER><h1>Searching for the Higgs boson in the H&#8594;&gamma;&gamma; channel</h1></CENTER>\n",
    "\n",
    "\n",
    "SM Higgs signal Feynman diagram:\n",
    "<CENTER><img src=\"../../images/Figures_FeynmanHprod.png\" style=\"width:30%\"></CENTER>"
   ]
  },
  {
   "cell_type": "markdown",
   "metadata": {},
   "source": [
    "**Introduction**\n",
    "Let's take a current ATLAS Open Data sample and create a histogram:"
   ]
  },
  {
   "cell_type": "code",
   "execution_count": 1,
   "metadata": {},
   "outputs": [],
   "source": [
    "import ROOT\n",
    "from ROOT import TMath\n",
    "import time"
   ]
  },
  {
   "cell_type": "code",
   "execution_count": 2,
   "metadata": {},
   "outputs": [],
   "source": [
    "%jsroot on"
   ]
  },
  {
   "cell_type": "code",
   "execution_count": 3,
   "metadata": {},
   "outputs": [
    {
     "name": "stdout",
     "output_type": "stream",
     "text": [
      "Collecting atlasopenmagic\n",
      "  Using cached atlasopenmagic-1.4.2-py3-none-any.whl.metadata (5.2 kB)\n",
      "Requirement already satisfied: pyyaml in /cvmfs/sft.cern.ch/lcg/views/LCG_107_swan/x86_64-el9-gcc13-opt/lib/python3.11/site-packages (from atlasopenmagic) (6.0.1)\n",
      "Requirement already satisfied: requests in /cvmfs/sft.cern.ch/lcg/views/LCG_107_swan/x86_64-el9-gcc13-opt/lib/python3.11/site-packages (from atlasopenmagic) (2.31.0)\n",
      "Requirement already satisfied: charset_normalizer<4,>=2 in /cvmfs/sft.cern.ch/lcg/views/LCG_107_swan/x86_64-el9-gcc13-opt/lib/python3.11/site-packages (from requests->atlasopenmagic) (2.0.6)\n",
      "Requirement already satisfied: idna<4,>=2.5 in /cvmfs/sft.cern.ch/lcg/views/LCG_107_swan/x86_64-el9-gcc13-opt/lib/python3.11/site-packages (from requests->atlasopenmagic) (3.2)\n",
      "Requirement already satisfied: urllib3<3,>=1.21.1 in /cvmfs/sft.cern.ch/lcg/views/LCG_107_swan/x86_64-el9-gcc13-opt/lib/python3.11/site-packages (from requests->atlasopenmagic) (1.26.16)\n",
      "Requirement already satisfied: certifi>=2017.4.17 in /cvmfs/sft.cern.ch/lcg/views/LCG_107_swan/x86_64-el9-gcc13-opt/lib/python3.11/site-packages (from requests->atlasopenmagic) (2022.12.7)\n",
      "Using cached atlasopenmagic-1.4.2-py3-none-any.whl (19 kB)\n",
      "Installing collected packages: atlasopenmagic\n",
      "Successfully installed atlasopenmagic-1.0.1\n",
      "Note: you may need to restart the kernel to use updated packages.\n"
     ]
    }
   ],
   "source": [
    "# install required packages\n",
    "%pip install --user atlasopenmagic"
   ]
  },
  {
   "cell_type": "code",
   "execution_count": 4,
   "metadata": {},
   "outputs": [],
   "source": [
    "# Now we have to do a little bit of work to make sure that atlasopenmagic is available in our python path\n",
    "# This is because SWAN by default does not include the local package installation area in the PYTHONPATH\n",
    "# Again, this is not necessary on binder or colab\n",
    "import sys\n",
    "import os\n",
    "sys.path += [ f'{os.environ[\"HOME\"]}/.local/lib/python{sys.version_info.major}.{sys.version_info.minor}/site-packages' ]\n",
    "\n",
    "# Now we can safely import atlasopenmagic\n",
    "import atlasopenmagic as atom"
   ]
  },
  {
   "cell_type": "code",
   "execution_count": 5,
   "metadata": {},
   "outputs": [
    {
     "name": "stdout",
     "output_type": "stream",
     "text": [
      "Available releases:\n",
      "========================================\n",
      "2016e-8tev        2016 Open Data for education release of 8 TeV proton-proton collisions (https://opendata.cern.ch/record/3860).\n",
      "2020e-13tev       2020 Open Data for education release of 13 TeV proton-proton collisions (https://cern.ch/2r7xt).\n",
      "2024r-pp          2024 Open Data for research release for proton-proton collisions (https://opendata.cern.record/80020).\n",
      "2024r-hi          2024 Open Data for research release for heavy-ion collisions (https://opendata.cern.ch/record/80035).\n",
      "2025e-13tev-beta  2025 Open Data for education and outreach beta release for 13 TeV proton-proton collisions(https://opendata.cern.ch/record/93910).\n",
      "2025r-evgen       2025 Open Data for research release for event generation (https://opendata.cern.ch/record/160000).\n"
     ]
    },
    {
     "data": {
      "text/plain": [
       "{'2016e-8tev': '2016 Open Data for education release of 8 TeV proton-proton collisions (https://opendata.cern.ch/record/3860).',\n",
       " '2020e-13tev': '2020 Open Data for education release of 13 TeV proton-proton collisions (https://cern.ch/2r7xt).',\n",
       " '2024r-pp': '2024 Open Data for research release for proton-proton collisions (https://opendata.cern.record/80020).',\n",
       " '2024r-hi': '2024 Open Data for research release for heavy-ion collisions (https://opendata.cern.ch/record/80035).',\n",
       " '2025e-13tev-beta': '2025 Open Data for education and outreach beta release for 13 TeV proton-proton collisions(https://opendata.cern.ch/record/93910).',\n",
       " '2025r-evgen': '2025 Open Data for research release for event generation (https://opendata.cern.ch/record/160000).'}"
      ]
     },
     "execution_count": 5,
     "metadata": {},
     "output_type": "execute_result"
    }
   ],
   "source": [
    "# Now let's see what releases are available to us\n",
    "atom.available_releases()"
   ]
  },
  {
   "cell_type": "code",
   "execution_count": 6,
   "metadata": {},
   "outputs": [
    {
     "name": "stdout",
     "output_type": "stream",
     "text": [
      "Fetching and caching all metadata for release: 2025e-13tev-beta...\n",
      "Successfully cached 374 datasets.\n",
      "Active release: 2025e-13tev-beta. (Datasets path: REMOTE)\n"
     ]
    }
   ],
   "source": [
    "# And let's plan to use the latest release of Open Data for Outreach and Education\n",
    "atom.set_release('2025e-13tev-beta')"
   ]
  },
  {
   "cell_type": "code",
   "execution_count": 7,
   "metadata": {},
   "outputs": [],
   "source": [
    "start = time.time()"
   ]
  },
  {
   "cell_type": "code",
   "execution_count": 8,
   "metadata": {},
   "outputs": [
    {
     "name": "stdout",
     "output_type": "stream",
     "text": [
      "16\n",
      "['root://eospublic.cern.ch:1094//eos/opendata/atlas/rucio/opendata/ODEO_FEB2025_v0_GamGam_data15_periodD.GamGam.root', 'root://eospublic.cern.ch:1094//eos/opendata/atlas/rucio/opendata/ODEO_FEB2025_v0_GamGam_data15_periodE.GamGam.root', 'root://eospublic.cern.ch:1094//eos/opendata/atlas/rucio/opendata/ODEO_FEB2025_v0_GamGam_data15_periodF.GamGam.root', 'root://eospublic.cern.ch:1094//eos/opendata/atlas/rucio/opendata/ODEO_FEB2025_v0_GamGam_data15_periodG.GamGam.root', 'root://eospublic.cern.ch:1094//eos/opendata/atlas/rucio/opendata/ODEO_FEB2025_v0_GamGam_data15_periodH.GamGam.root', 'root://eospublic.cern.ch:1094//eos/opendata/atlas/rucio/opendata/ODEO_FEB2025_v0_GamGam_data15_periodJ.GamGam.root', 'root://eospublic.cern.ch:1094//eos/opendata/atlas/rucio/opendata/ODEO_FEB2025_v0_GamGam_data16_periodA.GamGam.root', 'root://eospublic.cern.ch:1094//eos/opendata/atlas/rucio/opendata/ODEO_FEB2025_v0_GamGam_data16_periodB.GamGam.root', 'root://eospublic.cern.ch:1094//eos/opendata/atlas/rucio/opendata/ODEO_FEB2025_v0_GamGam_data16_periodC.GamGam.root', 'root://eospublic.cern.ch:1094//eos/opendata/atlas/rucio/opendata/ODEO_FEB2025_v0_GamGam_data16_periodD.GamGam.root', 'root://eospublic.cern.ch:1094//eos/opendata/atlas/rucio/opendata/ODEO_FEB2025_v0_GamGam_data16_periodE.GamGam.root', 'root://eospublic.cern.ch:1094//eos/opendata/atlas/rucio/opendata/ODEO_FEB2025_v0_GamGam_data16_periodF.GamGam.root', 'root://eospublic.cern.ch:1094//eos/opendata/atlas/rucio/opendata/ODEO_FEB2025_v0_GamGam_data16_periodG.GamGam.root', 'root://eospublic.cern.ch:1094//eos/opendata/atlas/rucio/opendata/ODEO_FEB2025_v0_GamGam_data16_periodI.GamGam.root', 'root://eospublic.cern.ch:1094//eos/opendata/atlas/rucio/opendata/ODEO_FEB2025_v0_GamGam_data16_periodK.GamGam.root', 'root://eospublic.cern.ch:1094//eos/opendata/atlas/rucio/opendata/ODEO_FEB2025_v0_GamGam_data16_periodL.GamGam.root']\n"
     ]
    }
   ],
   "source": [
    "data_chain = ROOT.TChain(\"analysis\")\n",
    "file_paths = atom.get_urls(key='data', skim='GamGam', protocol='root') #cahe=True for https\n",
    "#file_paths = atom.get_urls(key='data', skim='GamGam', protocol='https', cache=True)\n",
    "#file_paths = atom.get_urls('data', 'GamGam', protocol='https', cache=True)\n",
    "print(len(file_paths))\n",
    "print(file_paths)"
   ]
  },
  {
   "cell_type": "code",
   "execution_count": 9,
   "metadata": {},
   "outputs": [
    {
     "name": "stdout",
     "output_type": "stream",
     "text": [
      "Processed sample: root://eospublic.cern.ch:1094//eos/opendata/atlas/rucio/opendata/ODEO_FEB2025_v0_GamGam_data15_periodD.GamGam.root\n",
      "Processed sample: root://eospublic.cern.ch:1094//eos/opendata/atlas/rucio/opendata/ODEO_FEB2025_v0_GamGam_data15_periodE.GamGam.root\n",
      "Processed sample: root://eospublic.cern.ch:1094//eos/opendata/atlas/rucio/opendata/ODEO_FEB2025_v0_GamGam_data15_periodF.GamGam.root\n",
      "Processed sample: root://eospublic.cern.ch:1094//eos/opendata/atlas/rucio/opendata/ODEO_FEB2025_v0_GamGam_data15_periodG.GamGam.root\n",
      "Processed sample: root://eospublic.cern.ch:1094//eos/opendata/atlas/rucio/opendata/ODEO_FEB2025_v0_GamGam_data15_periodH.GamGam.root\n",
      "Processed sample: root://eospublic.cern.ch:1094//eos/opendata/atlas/rucio/opendata/ODEO_FEB2025_v0_GamGam_data15_periodJ.GamGam.root\n",
      "Processed sample: root://eospublic.cern.ch:1094//eos/opendata/atlas/rucio/opendata/ODEO_FEB2025_v0_GamGam_data16_periodA.GamGam.root\n",
      "Processed sample: root://eospublic.cern.ch:1094//eos/opendata/atlas/rucio/opendata/ODEO_FEB2025_v0_GamGam_data16_periodB.GamGam.root\n",
      "Processed sample: root://eospublic.cern.ch:1094//eos/opendata/atlas/rucio/opendata/ODEO_FEB2025_v0_GamGam_data16_periodC.GamGam.root\n",
      "Processed sample: root://eospublic.cern.ch:1094//eos/opendata/atlas/rucio/opendata/ODEO_FEB2025_v0_GamGam_data16_periodD.GamGam.root\n",
      "Processed sample: root://eospublic.cern.ch:1094//eos/opendata/atlas/rucio/opendata/ODEO_FEB2025_v0_GamGam_data16_periodE.GamGam.root\n",
      "Processed sample: root://eospublic.cern.ch:1094//eos/opendata/atlas/rucio/opendata/ODEO_FEB2025_v0_GamGam_data16_periodF.GamGam.root\n",
      "Processed sample: root://eospublic.cern.ch:1094//eos/opendata/atlas/rucio/opendata/ODEO_FEB2025_v0_GamGam_data16_periodG.GamGam.root\n",
      "Processed sample: root://eospublic.cern.ch:1094//eos/opendata/atlas/rucio/opendata/ODEO_FEB2025_v0_GamGam_data16_periodI.GamGam.root\n",
      "Processed sample: root://eospublic.cern.ch:1094//eos/opendata/atlas/rucio/opendata/ODEO_FEB2025_v0_GamGam_data16_periodK.GamGam.root\n",
      "Processed sample: root://eospublic.cern.ch:1094//eos/opendata/atlas/rucio/opendata/ODEO_FEB2025_v0_GamGam_data16_periodL.GamGam.root\n",
      "Number of entries in the chain: 36564144\n"
     ]
    }
   ],
   "source": [
    "data_chain = ROOT.TChain(\"analysis\")\n",
    "\n",
    "max_samples = 16\n",
    "\n",
    "for name_sample in file_paths[:max_samples]:\n",
    "    data_chain.Add(name_sample)\n",
    "    print(f\"Processed sample: \"+ name_sample)\n",
    "\n",
    "#data_chain.Add(file_paths[1])\n",
    "n_entries = data_chain.GetEntries()\n",
    "print(f\"Number of entries in the chain: {n_entries}\")"
   ]
  },
  {
   "cell_type": "code",
   "execution_count": 10,
   "metadata": {},
   "outputs": [],
   "source": [
    "canvas = ROOT.TCanvas(\"Canvas\",\"cz\",800,600)"
   ]
  },
  {
   "cell_type": "markdown",
   "metadata": {},
   "source": [
    "Now we're going to extract the photons variables"
   ]
  },
  {
   "cell_type": "code",
   "execution_count": 11,
   "metadata": {},
   "outputs": [],
   "source": [
    "#Invariant mass histograms definition\n",
    "hist = ROOT.TH1F(\"h_M_Hyy\",\"Diphoton invariant-mass ; Invariant Mass m_{yy} [GeV] ; events\",60,100,160)"
   ]
  },
  {
   "cell_type": "markdown",
   "metadata": {},
   "source": [
    "Here we're filling the variables defined above with the content of those inside the input ntuples."
   ]
  },
  {
   "cell_type": "markdown",
   "metadata": {},
   "source": [
    "We're creating a histogram for this example. The plan is to fill them with events."
   ]
  },
  {
   "cell_type": "markdown",
   "metadata": {},
   "source": [
    "We are selecting below a simple look for them."
   ]
  },
  {
   "cell_type": "markdown",
   "metadata": {},
   "source": [
    "The Higgs boson analysis implemented here considers Higgs boson decays into a photon-photon pair. The event selection criteria are:"
   ]
  },
  {
   "cell_type": "code",
   "execution_count": 12,
   "metadata": {},
   "outputs": [],
   "source": [
    "# Cut on the photon reconstruction quality\n",
    "def cut_photon_reconstruction(photon_isTightID):\n",
    "    # Only the events which have True for both photons are kept\n",
    "    return (photon_isTightID[0]==True) and (photon_isTightID[1]==True)\n",
    "\n",
    "# Cut on the transverse momentum\n",
    "def cut_photon_pt(photon_pt):\n",
    "# Only the events where photon_pt[0] > 50 GeV and photon_pt[1] > 30 GeV are kept\n",
    "    return (photon_pt[0] > 50) and (photon_pt[1] > 30)\n",
    "\n",
    "# Cut on the energy isolation\n",
    "def cut_isolation_pt(photon_ptcone20, photon_pt):\n",
    "# Only the events where the calorimeter isolation is less than 5.5% are kept\n",
    "    return ((photon_ptcone20[0]/photon_pt[0]) < 0.055) and ((photon_ptcone20[1]/photon_pt[1]) < 0.055)\n",
    "\n",
    "# Cut on the pseudorapidity in barrel/end-cap transition region\n",
    "def cut_photon_eta_transition(photon_eta):\n",
    "# Only the events where modulus of photon_eta is outside the range 1.37 to 1.52 are kept\n",
    "    condition_0 = (TMath.Abs(photon_eta[0]) < 1.37) or (TMath.Abs(photon_eta[0]) > 1.52)\n",
    "    condition_1 = (TMath.Abs(photon_eta[1]) < 1.37) or (TMath.Abs(photon_eta[1]) > 1.52)\n",
    "    return condition_0 and condition_1\n",
    "\n",
    "# This function calculates the invariant mass of the 2-photon state\n",
    "def calc_mass(photon_pt, photon_eta, photon_phi, photon_e):    \n",
    "    Photon_1 = ROOT.TLorentzVector()\n",
    "    Photon_2 = ROOT.TLorentzVector()\n",
    "\n",
    "    Photon_1.SetPtEtaPhiE(photon_pt[0], photon_eta[0], photon_phi[0], photon_e[0])\n",
    "    Photon_2.SetPtEtaPhiE(photon_pt[1], photon_eta[1], photon_phi[1], photon_e[1])\n",
    "    ## Adding the two TLorentz vectors\n",
    "    Photon_12 = Photon_1 + Photon_2\n",
    "    inv_mass_Hyy = Photon_12.M()\n",
    "    return inv_mass_Hyy\n",
    "\n",
    "# Cut on null diphoton invariant mass\n",
    "def cut_mass(invariant_mass):\n",
    "    return (invariant_mass != 0)\n",
    "\n",
    "# Cut on diphoton invariant mass based isolation\n",
    "# Only the events where the invididual photon invariant mass based isolation is larger than 35% are kept\n",
    "def cut_iso_mass(photon_pt, invariant_mass):\n",
    "    return ((photon_pt[0]/invariant_mass) > 0.35) and ((photon_pt[1]/invariant_mass) > 0.35)"
   ]
  },
  {
   "cell_type": "code",
   "execution_count": 13,
   "metadata": {},
   "outputs": [
    {
     "name": "stdout",
     "output_type": "stream",
     "text": [
      "1000000\n",
      "2000000\n",
      "3000000\n",
      "4000000\n",
      "5000000\n",
      "6000000\n",
      "7000000\n",
      "8000000\n",
      "9000000\n",
      "10000000\n",
      "11000000\n",
      "12000000\n",
      "13000000\n",
      "14000000\n",
      "15000000\n",
      "16000000\n",
      "17000000\n",
      "18000000\n",
      "19000000\n",
      "20000000\n",
      "21000000\n",
      "22000000\n",
      "23000000\n",
      "24000000\n",
      "25000000\n",
      "26000000\n",
      "27000000\n",
      "28000000\n",
      "29000000\n",
      "30000000\n",
      "31000000\n",
      "32000000\n",
      "33000000\n",
      "34000000\n",
      "35000000\n",
      "36000000\n",
      "Number of events: 36564144\n",
      "Number of events passing the event selection: 550057\n"
     ]
    }
   ],
   "source": [
    "n = 0\n",
    "accepted_events = 0\n",
    "for event in data_chain:\n",
    "    n += 1\n",
    "    ## printing the evolution in number of events\n",
    "    if(n%1000000==0):\n",
    "        print(n)\n",
    "    # Cut on the photon reconstruction quality\n",
    "    if(cut_photon_reconstruction(data_chain.photon_isTightID)):\n",
    "        # Cut: pT cut - photon 1 has pT > 50 GeV and photon 2 has pT > 30 GeV\n",
    "        if(cut_photon_pt(data_chain.photon_pt)):\n",
    "            # Only the events where the calorimeter isolation is less than 5.5% are kept\n",
    "            if(cut_isolation_pt(data_chain.photon_ptcone20, data_chain.photon_pt)):\n",
    "                # Cut on the pseudorapidity in barrel/end-cap transition region\n",
    "                if(cut_photon_eta_transition(data_chain.photon_eta)):\n",
    "                    inv_mass_Hyy = calc_mass(data_chain.photon_pt, data_chain.photon_eta, \\\n",
    "                                             data_chain.photon_phi, data_chain.photon_e)\n",
    "                    # Cut on null diphoton invariant mass\n",
    "                    if(cut_mass(inv_mass_Hyy)):\n",
    "                        # Cut on diphoton invariant mass based isolation. Only the events where \n",
    "                        # the invididual photon invariant mass based isolation is larger than 35% are kept\n",
    "                        if(cut_iso_mass(data_chain.photon_pt, inv_mass_Hyy)):\n",
    "                            ## Filling with the mass of the gamma-gamma system\n",
    "                            hist.Fill(inv_mass_Hyy)\n",
    "                            accepted_events+=1\n",
    "        \n",
    "print(f\"Number of events: {n_entries}\")\n",
    "print(f\"Number of events passing the event selection: {accepted_events}\")"
   ]
  },
  {
   "cell_type": "markdown",
   "metadata": {},
   "source": [
    "#### Final plot"
   ]
  },
  {
   "cell_type": "code",
   "execution_count": 14,
   "metadata": {},
   "outputs": [],
   "source": [
    "import numpy as np # # for numerical calculations such as histogramming\n",
    "import matplotlib.pyplot as plt # for plotting\n",
    "from matplotlib.ticker import MaxNLocator,AutoMinorLocator # for minor ticks\n",
    "from lmfit.models import PolynomialModel, GaussianModel # for the signal and background fits\n",
    "import vector #to use vectors\n",
    "import requests # for HTTP access\n",
    "import aiohttp # HTTP client support"
   ]
  },
  {
   "cell_type": "code",
   "execution_count": 15,
   "metadata": {},
   "outputs": [
    {
     "data": {
      "image/png": "[encoded data removed]",
      "text/plain": [
       "<Figure size 576x432 with 2 Axes>"
      ]
     },
     "metadata": {
      "needs_background": "light"
     },
     "output_type": "display_data"
    }
   ],
   "source": [
    "# -----------------------\n",
    "# Extract data from ROOT hist\n",
    "# -----------------------\n",
    "nbins = hist.GetNbinsX()\n",
    "bin_edges = np.array([hist.GetBinLowEdge(i+1) for i in range(nbins)] + [hist.GetBinLowEdge(nbins+1)])\n",
    "bin_centres = np.array([hist.GetBinCenter(i+1) for i in range(nbins)])\n",
    "\n",
    "data_x = np.array([hist.GetBinContent(i+1) for i in range(nbins)])\n",
    "data_x_errors = np.array([hist.GetBinError(i+1) for i in range(nbins)])\n",
    "\n",
    "# For consistency with the original code\n",
    "xmin = bin_edges[0]\n",
    "xmax = bin_edges[-1]\n",
    "step_size = hist.GetBinWidth(1)\n",
    "\n",
    "# -----------------------\n",
    "# Fit model (poly + gaussian)\n",
    "# -----------------------\n",
    "polynomial_mod = PolynomialModel(4)   # 4th order polynomial\n",
    "gaussian_mod = GaussianModel()\n",
    "\n",
    "pars = polynomial_mod.guess(data_x, x=bin_centres, c0=data_x.max(), c1=0, c2=0, c3=0, c4=0)\n",
    "pars += gaussian_mod.guess(data_x, x=bin_centres, amplitude=100, center=125, sigma=2)\n",
    "\n",
    "model = polynomial_mod + gaussian_mod\n",
    "out = model.fit(data_x, pars, x=bin_centres, weights=1/np.where(data_x_errors==0, 1, data_x_errors))\n",
    "\n",
    "# -----------------------\n",
    "# Background extraction\n",
    "# -----------------------\n",
    "params_dict = out.params.valuesdict() # get the parameters from the fit to data\n",
    "c0 = params_dict['c0'] # c0 of c0 + c1*x + c2*x^2 + c3*x^3 + c4*x^4\n",
    "c1 = params_dict['c1'] # c1 of c0 + c1*x + c2*x^2 + c3*x^3 + c4*x^4\n",
    "c2 = params_dict['c2'] # c2 of c0 + c1*x + c2*x^2 + c3*x^3 + c4*x^4\n",
    "c3 = params_dict['c3'] # c3 of c0 + c1*x + c2*x^2 + c3*x^3 + c4*x^4\n",
    "c4 = params_dict['c4'] # c4 of c0 + c1*x + c2*x^2 + c3*x^3 + c4*x^4\n",
    "\n",
    "background = c0 + c1*bin_centres + c2*bin_centres**2 + c3*bin_centres**3 + c4*bin_centres**4\n",
    "signal_x = data_x - background\n",
    "\n",
    "# -----------------------\n",
    "# Main plot\n",
    "# -----------------------\n",
    "plt.figure(figsize=(8,6))\n",
    "\n",
    "plt.axes([0.1,0.3,0.85,0.65])\n",
    "main_axes = plt.gca()\n",
    "\n",
    "main_axes.errorbar(bin_centres, data_x, yerr=data_x_errors,\n",
    "                   fmt='ko', label='Data', markersize=4)\n",
    "\n",
    "main_axes.plot(bin_centres, out.best_fit, '-r', label='Sig+Bkg Fit ($m_H=125$ GeV)')\n",
    "main_axes.plot(bin_centres, background, '--r', label='Bkg (4th order polynomial)')\n",
    "\n",
    "main_axes.set_xlim(xmin, xmax)\n",
    "main_axes.xaxis.set_minor_locator(AutoMinorLocator())\n",
    "main_axes.tick_params(which='both', direction='in', top=True, labelbottom=False, right=True)\n",
    "main_axes.set_ylabel(f'Events / {step_size:.1f} GeV', ha='right')\n",
    "main_axes.set_ylim(0, np.amax(data_x)*1.5)\n",
    "main_axes.yaxis.set_minor_locator(AutoMinorLocator())\n",
    "main_axes.yaxis.get_major_ticks()[0].set_visible(False)\n",
    "\n",
    "plt.text(0.2,0.92,'ATLAS Open Data', transform=main_axes.transAxes, fontsize=13)\n",
    "plt.text(0.2,0.86,'for education', transform=main_axes.transAxes, style='italic', fontsize=8)\n",
    "\n",
    "lumi = 36.1\n",
    "fraction = 1.0  # <-- set this properly\n",
    "lumi_used = str(lumi*fraction)\n",
    "plt.text(0.2,0.8, r'$\\sqrt{s}$=13 TeV,$\\int$L dt = '+lumi_used+' fb$^{-1}$', transform=main_axes.transAxes)\n",
    "plt.text(0.2,0.74, r'$H \\rightarrow \\gamma\\gamma$', transform=main_axes.transAxes)\n",
    "\n",
    "main_axes.legend(frameon=False, loc='lower left')\n",
    "\n",
    "# -----------------------\n",
    "# Data-Bkg plot\n",
    "# -----------------------\n",
    "plt.axes([0.1,0.1,0.85,0.2])\n",
    "sub_axes = plt.gca()\n",
    "sub_axes.yaxis.set_major_locator(MaxNLocator(nbins='auto', symmetric=True))\n",
    "\n",
    "sub_axes.errorbar(bin_centres, signal_x, yerr=data_x_errors, fmt='ko', markersize=4)\n",
    "sub_axes.plot(bin_centres, out.best_fit-background, '-r')\n",
    "sub_axes.plot(bin_centres, background-background, '--r')\n",
    "\n",
    "sub_axes.set_xlim(xmin, xmax)\n",
    "sub_axes.xaxis.set_minor_locator(AutoMinorLocator())\n",
    "sub_axes.set_xlabel(r'Di-photon invariant mass $\\mathrm{m_{\\gamma\\gamma}}$ [GeV]', x=1, ha='right', fontsize=13)\n",
    "sub_axes.tick_params(which='both', direction='in', top=True, right=True)\n",
    "sub_axes.yaxis.set_minor_locator(AutoMinorLocator())\n",
    "sub_axes.set_ylabel('Events-Bkg')\n",
    "\n",
    "main_axes.yaxis.set_label_coords(-0.09, 1)\n",
    "sub_axes.yaxis.set_label_coords(-0.09, 0.5)\n",
    "\n",
    "plt.show()"
   ]
  },
  {
   "cell_type": "code",
   "execution_count": 16,
   "metadata": {},
   "outputs": [
    {
     "name": "stdout",
     "output_type": "stream",
     "text": [
      "250125.0\n"
     ]
    }
   ],
   "source": [
    "print(hist.Integral())"
   ]
  },
  {
   "cell_type": "code",
   "execution_count": 17,
   "metadata": {},
   "outputs": [
    {
     "data": {
      "text/plain": [
       "'\\n# =======================\\n# Residual Pad (Data-Bkg)\\n# =======================\\nresidPad = ROOT.TPad(\"residPad\", \"residPad\", 0, 0.05, 1, 0.3)\\nresidPad.SetTopMargin(0)\\nresidPad.SetBottomMargin(0.3)\\nresidPad.Draw()\\nresidPad.cd()\\n\\n# Residuals (absolute difference, like matplotlib)\\nnBins = hist.GetNbinsX()\\nresiduals = ROOT.TH1F(\"residuals\", \"\", nBins, 100, 160)\\n\\nfor i in range(1, nBins + 1):\\n    dataValue = hist.GetBinContent(i)\\n    bkgValue  = bkgOnly.Eval(hist.GetBinCenter(i))\\n    # error = hist.GetBinError(i)\\n    \\n    residualValue = (dataValue - bkgValue)  # absolute diff\\n    # residualValue = (dataValue - bkgValue) / error  # absolute diff\\n    residuals.SetBinContent(i, residualValue)\\n    residuals.SetBinError(i, hist.GetBinError(i))\\n    #residuals.SetBinContent(i, residualValue)  # Set residual (Data - Bkg)\\n    \\n# Style residuals\\nresiduals.SetMarkerStyle(20)\\nresiduals.SetMarkerSize(0.8)\\nresiduals.SetLineColor(ROOT.kBlack)\\n\\nresiduals.GetYaxis().SetTitle(\"Events - Bkg\")\\nresiduals.GetYaxis().SetTitleSize(0.07)\\nresiduals.GetYaxis().SetTitleOffset(0.5)\\nresiduals.GetYaxis().SetLabelSize(0.07)\\nresiduals.GetXaxis().SetTitle(\"di-photon invariant mass m_{#gamma#gamma} [GeV]\")\\nresiduals.GetXaxis().SetTitleSize(0.07)\\nresiduals.GetXaxis().SetLabelSize(0.07)\\n\\n# Draw residuals\\nresiduals.Draw(\"E1\")\\n\\n# Signal (fit - bkg)\\ngaussianResidual = ROOT.TF1(\"gaussianResidual\", \"gaus(0)\", 100, 160)\\ngaussianResidual.SetParameters(sigPlusBkg.GetParameter(0),\\n                               sigPlusBkg.GetParameter(1),\\n                               sigPlusBkg.GetParameter(2))\\ngaussianResidual.SetLineColor(ROOT.kRed)\\ngaussianResidual.SetLineStyle(1)\\ngaussianResidual.Draw(\"same\")\\n\\n# Zero line\\nzeroLine = ROOT.TLine(100, 0, 160, 0)\\nzeroLine.SetLineColor(ROOT.kRed)\\nzeroLine.SetLineStyle(2)\\nzeroLine.Draw(\"same\")\\n\\ncanvas.Draw()\\n'"
      ]
     },
     "execution_count": 17,
     "metadata": {},
     "output_type": "execute_result"
    },
    {
     "name": "stdout",
     "output_type": "stream",
     "text": [
      "****************************************\n",
      "         Invalid FitResult  (status = 3 )\n",
      "****************************************\n",
      "Minimizer is Minuit2 / Migrad\n",
      "Chi2                      =       359344\n",
      "NDf                       =           52\n",
      "Edm                       =  0.000587727\n",
      "NCalls                    =          833\n",
      "p0                        =      9920.74   +/-   141.883     \n",
      "p1                        =      68.6646   +/-   0.895995    \n",
      "p2                        =      43.8928   +/-   0.568752    \n",
      "p3                        =      503.495   +/-   114.917     \n",
      "p4                        =     -2.59194   +/-   0.882601    \n",
      "p5                        =   -0.0321643   +/-   0.00635444  \n",
      "p6                        = -7.09942e-05   +/-   4.30507e-05 \n",
      "p7                        =  2.33163e-06   +/-   2.68586e-07 \n"
     ]
    },
    {
     "name": "stderr",
     "output_type": "stream",
     "text": [
      "Warning in <Fit>: Abnormal termination of minimization.\n"
     ]
    },
    {
     "data": {
      "text/html": [
       "\n",
       "\n",
       "<div id=\"root_plot_1756871407816\" style=\"width: 800px; height: 600px; position: relative\">\n",
       "</div>\n",
       "\n",
       "<script>\n",
       "\n",
       "function display_root_plot_1756871407816(Core) {\n",
       "   let obj = Core.parse({\"_typename\":\"TCanvasWebSnapshot\",\"fUniqueID\":0,\"fBits\":0,\"fObjectID\":\"\",\"fOption\":\"\",\"fKind\":3,\"fSnapshot\":{\"_typename\":\"TCanvas\",\"fUniqueID\":0,\"fBits\":3342344,\"fLineColor\":1,\"fLineStyle\":1,\"fLineWidth\":1,\"fFillColor\":0,\"fFillStyle\":1001,\"fLeftMargin\":0.1,\"fRightMargin\":0.1,\"fBottomMargin\":0.1,\"fTopMargin\":0.1,\"fXfile\":2,\"fYfile\":2,\"fAfile\":1,\"fXstat\":0.99,\"fYstat\":0.99,\"fAstat\":2,\"fFrameFillColor\":0,\"fFrameLineColor\":1,\"fFrameFillStyle\":1001,\"fFrameLineStyle\":1,\"fFrameLineWidth\":1,\"fFrameBorderSize\":1,\"fFrameBorderMode\":0,\"fX1\":0,\"fY1\":0,\"fX2\":1,\"fY2\":1,\"fXtoAbsPixelk\":0,\"fXtoPixelk\":0,\"fXtoPixel\":796,\"fYtoAbsPixelk\":572,\"fYtoPixelk\":572,\"fYtoPixel\":-572,\"fUtoAbsPixelk\":0,\"fUtoPixelk\":0,\"fUtoPixel\":796,\"fVtoAbsPixelk\":572,\"fVtoPixelk\":572,\"fVtoPixel\":-572,\"fAbsPixeltoXk\":0,\"fPixeltoXk\":0,\"fPixeltoX\":0.00125628140703518,\"fAbsPixeltoYk\":1,\"fPixeltoYk\":0,\"fPixeltoY\":-0.00174825174825175,\"fXlowNDC\":0,\"fYlowNDC\":0,\"fXUpNDC\":1,\"fYUpNDC\":1,\"fWNDC\":1,\"fHNDC\":1,\"fAbsXlowNDC\":0,\"fAbsYlowNDC\":0,\"fAbsWNDC\":1,\"fAbsHNDC\":1,\"fUxmin\":0,\"fUymin\":0,\"fUxmax\":1,\"fUymax\":1,\"fTheta\":30,\"fPhi\":30,\"fAspectRatio\":0,\"fNumber\":0,\"fTickx\":0,\"fTicky\":0,\"fLogx\":0,\"fLogy\":0,\"fLogz\":0,\"fPadPaint\":0,\"fCrosshair\":0,\"fCrosshairPos\":0,\"fBorderSize\":2,\"fBorderMode\":0,\"fModified\":false,\"fGridx\":false,\"fGridy\":false,\"fAbsCoord\":false,\"fEditable\":true,\"fFixedAspectRatio\":false,\"fPrimitives\":{\"_typename\":\"TList\",\"name\":\"TList\",\"arr\":[],\"opt\":[]},\"fExecs\":null,\"fName\":\"Canvas\",\"fTitle\":\"cz\",\"fNumPaletteColor\":0,\"fNextPaletteColor\":0,\"fDISPLAY\":\"$DISPLAY\",\"fDoubleBuffer\":0,\"fRetained\":true,\"fXsizeUser\":0,\"fYsizeUser\":0,\"fXsizeReal\":20,\"fYsizeReal\":15,\"fWindowTopX\":0,\"fWindowTopY\":0,\"fWindowWidth\":0,\"fWindowHeight\":0,\"fCw\":796,\"fCh\":572,\"fCatt\":{\"_typename\":\"TAttCanvas\",\"fXBetween\":2,\"fYBetween\":2,\"fTitleFromTop\":1.2,\"fXdate\":0.2,\"fYdate\":0.3,\"fAdate\":1},\"kMoveOpaque\":true,\"kResizeOpaque\":true,\"fHighLightColor\":2,\"fBatch\":true,\"kShowEventStatus\":false,\"kAutoExec\":true,\"kMenuBar\":true},\"fActive\":false,\"fReadOnly\":true,\"fWithoutPrimitives\":false,\"fHasExecs\":false,\"fPrimitives\":[{\"_typename\":\"TWebSnapshot\",\"fUniqueID\":0,\"fBits\":0,\"fObjectID\":\"\",\"fOption\":\"\",\"fKind\":4,\"fSnapshot\":{\"_typename\":\"TWebPainting\",\"fUniqueID\":0,\"fBits\":0,\"fOper\":\"0:255,255,255;1:0,0,0;2:255,0,0;3:0,255,0;4:0,0,255;5:255,255,0;6:255,0,255;7:0,255,255;8:89,211,84;9:89,84,216;10:254,254,254;11:192,182,172;12:76,76,76;13:102,102,102;14:127,127,127;15:153,153,153;16:178,178,178;17:204,204,204;18:229,229,229;19:242,242,242;20:204,198,170;21:204,198,170;22:193,191,168;23:186,181,163;24:178,165,150;25:183,163,155;26:173,153,140;27:155,142,130;28:135,102,86;29:175,206,198;30:132,193,163;31:137,168,160;32:130,158,140;33:173,188,198;34:122,142,153;35:117,137,145;36:104,130,150;37:109,122,132;38:124,153,209;39:127,127,155;40:170,165,191;41:211,206,135;42:221,186,135;43:188,158,130;44:198,153,124;45:191,130,119;46:206,94,96;47:170,142,147;48:165,119,122;49:147,104,112;50:211,89,84;51:146,0,255;52:122,0,255;53:98,0,255;54:74,0,255;55:51,0,255;56:27,0,255;57:3,0,255;58:0,20,255;59:0,44,255;60:0,68,255;61:0,91,255;62:0,115,255;63:0,139,255;64:0,163,255;65:0,187,255;66:0,210,255;67:0,234,255;68:0,255,251;69:0,255,227;70:0,255,204;71:0,255,180;72:0,255,156;73:0,255,132;74:0,255,108;75:0,255,85;76:0,255,61;77:0,255,37;78:0,255,13;79:10,255,0;80:34,255,0;81:57,255,0;82:81,255,0;83:105,255,0;84:129,255,0;85:153,255,0;86:176,255,0;87:200,255,0;88:224,255,0;89:248,255,0;90:255,238,0;91:255,214,0;92:255,190,0;93:255,166,0;94:255,142,0;95:255,119,0;96:255,95,0;97:255,71,0;98:255,47,0;99:255,23,0;100:111,45,168;101:165,42,42;102:178,190,181;103:87,144,252;104:248,156,32;105:228,37,54;106:150,74,139;107:156,156,161;108:122,33,221;109:24,69,251;110:255,94,2;111:201,31,22;112:200,73,169;113:173,173,125;114:134,200,221;115:87,141,255;116:101,99,100;117:63,144,218;118:255,169,14;119:189,31,1;120:148,164,162;121:131,45,182;122:169,107,89;123:231,99,0;124:185,172,112;125:113,117,129;126:146,218,221;127:178,178,178;201:91,91,91;202:122,122,122;203:183,183,183;204:214,214,214;205:137,15,15;206:183,20,20;207:234,71,71;208:239,117,117;209:15,137,15;210:20,183,20;211:71,234,71;212:117,239,117;213:15,15,137;214:20,20,183;215:71,71,234;216:117,117,239;217:137,137,15;218:183,183,20;219:234,234,71;220:239,239,117;221:137,15,137;222:183,20,183;223:234,71,234;224:239,117,239;225:15,137,137;226:20,183,183;227:71,234,234;228:117,239,239;390:255,255,204;391:255,255,153;392:204,204,153;393:255,255,102;394:204,204,102;395:153,153,102;396:255,255,51;397:204,204,51;398:153,153,51;399:102,102,51;400:255,255,0;401:204,204,0;402:153,153,0;403:102,102,0;404:51,51,0;406:204,255,204;407:153,255,153;408:153,204,153;409:102,255,102;410:102,204,102;411:102,153,102;412:51,255,51;413:51,204,51;414:51,153,51;415:51,102,51;416:0,255,0;417:0,204,0;418:0,153,0;419:0,102,0;420:0,51,0;422:204,255,255;423:153,255,255;424:153,204,204;425:102,255,255;426:102,204,204;427:102,153,153;428:51,255,255;429:51,204,204;430:51,153,153;431:51,102,102;432:0,255,255;433:0,204,204;434:0,153,153;435:0,102,102;436:0,51,51;590:204,204,255;591:153,153,255;592:153,153,204;593:102,102,255;594:102,102,204;595:102,102,153;596:51,51,255;597:51,51,204;598:51,51,153;599:51,51,102;600:0,0,255;601:0,0,204;602:0,0,153;603:0,0,102;604:0,0,51;606:255,204,255;607:255,153,255;608:204,153,204;609:255,102,255;610:204,102,204;611:153,102,153;612:255,51,255;613:204,51,204;614:153,51,153;615:102,51,102;616:255,0,255;617:204,0,204;618:153,0,153;619:102,0,102;620:51,0,51;622:255,204,204;623:255,153,153;624:204,153,153;625:255,102,102;626:204,102,102;627:153,102,102;628:255,51,51;629:204,51,51;630:153,51,51;631:102,51,51;632:255,0,0;633:204,0,0;634:153,0,0;635:102,0,0;636:51,0,0;791:255,204,153;792:204,153,102;793:153,102,51;794:153,102,0;795:204,153,51;796:255,204,102;797:255,153,0;798:255,204,51;799:204,153,0;800:255,204,0;801:255,153,51;802:204,102,0;803:102,51,0;804:153,51,0;805:204,102,51;806:255,153,102;807:255,102,0;808:255,102,51;809:204,51,0;810:255,51,0;811:153,255,51;812:102,204,0;813:51,102,0;814:51,153,0;815:102,204,51;816:153,255,102;817:102,255,0;818:102,255,51;819:51,204,0;820:51,255,0;821:204,255,153;822:153,204,102;823:102,153,51;824:102,153,0;825:153,204,51;826:204,255,102;827:153,255,0;828:204,255,51;829:153,204,0;830:204,255,0;831:153,255,204;832:102,204,153;833:51,153,102;834:0,153,102;835:51,204,153;836:102,255,204;837:0,255,102;838:51,255,204;839:0,204,153;840:0,255,204;841:51,255,153;842:0,204,102;843:0,102,51;844:0,153,51;845:51,204,102;846:102,255,153;847:0,255,153;848:51,255,102;849:0,204,51;850:0,255,51;851:153,204,255;852:102,153,204;853:51,102,153;854:0,51,153;855:51,102,204;856:102,153,255;857:0,102,255;858:51,102,255;859:0,51,204;860:0,51,255;861:51,153,255;862:0,102,204;863:0,51,102;864:0,102,153;865:51,153,204;866:102,204,255;867:0,153,255;868:51,204,255;869:0,153,204;870:0,204,255;871:204,153,255;872:153,102,204;873:102,51,153;874:102,0,153;875:153,51,204;876:204,102,255;877:153,0,255;878:204,51,255;879:153,0,204;880:204,0,255;881:153,51,255;882:102,0,204;883:51,0,102;884:51,0,153;885:102,51,204;886:153,102,255;887:102,0,255;888:102,51,255;889:51,0,204;890:51,0,255;891:255,51,153;892:204,0,102;893:102,0,51;894:153,0,51;895:204,51,102;896:255,102,153;897:255,0,102;898:255,51,102;899:204,0,51;900:255,0,51;901:255,153,204;902:204,102,153;903:153,51,102;904:153,0,102;905:204,51,153;906:255,102,204;907:255,0,153;908:204,0,153;909:255,51,204;910:255,0,153;920:204,204,204;921:153,153,153;922:102,102,102;923:51,51,51;924:53,42,134;925:51,44,137;926:50,45,140;927:49,47,143;928:48,48,146;929:46,50,148;930:45,51,151;931:44,53,154;932:43,55,157;933:42,56,160;934:40,58,162;935:39,59,165;936:38,61,168;937:37,63,171;938:35,64,174;939:34,66,176;940:33,67,179;941:32,69,182;942:31,71,185;943:29,72,187;944:28,74,190;945:27,75,193;946:26,77,196;947:24,79,199;948:23,80,201;949:22,82,204;950:21,83,207;951:19,85,210;952:18,86,213;953:17,88,215;954:16,90,218;955:15,91,221;956:15,92,221;957:15,94,220;958:15,95,220;959:15,96,220;960:15,97,220;961:15,98,220;962:16,99,219;963:16,100,219;964:16,102,219;965:16,103,219;966:16,104,218;967:16,105,218;968:17,106,218;969:17,107,218;970:17,109,217;971:17,110,217;972:17,111,217;973:17,112,217;974:17,113,216;975:18,114,216;976:18,115,216;977:18,117,216;978:18,118,215;979:18,119,215;980:18,120,215;981:18,121,215;982:19,122,215;983:19,123,214;984:19,125,214;985:19,126,214;986:19,127,214;987:19,128,213;988:19,129,213;989:19,130,213;990:18,131,212;991:18,132,212;992:17,134,211;993:17,135,211;994:16,136,211;995:16,137,210;996:15,138,210;997:15,139,210;998:15,140,209;999:14,141,209;1000:14,142,208;1001:13,143,208;1002:13,145,208;1003:12,146,207;1004:12,147,207;1005:12,148,207;1006:11,149,206;1007:11,150,206;1008:10,151,205;1009:10,152,205;1010:9,153,205;1011:9,154,204;1012:8,155,204;1013:8,157,204;1014:8,158,203;1015:7,159,203;1016:7,160,202;1017:6,161,202;1018:6,162,202;1019:5,163,201;1020:7,164,200;1021:8,164,199;1022:9,165,198;1023:10,166,197;1024:12,166,195;1025:13,167,194;1026:14,167,193;1027:15,168,192;1028:17,169,191;1029:18,169,189;1030:19,170,188;1031:20,170,187;1032:22,171,186;1033:23,172,185;1034:24,172,184;1035:25,173,182;1036:27,173,181;1037:28,174,180;1038:29,175,179;1039:30,175,178;1040:32,176,176;1041:33,176,175;1042:34,177,174;1043:35,178,173;1044:37,178,172;1045:38,179,170;1046:39,180,169;1047:40,180,168;1048:42,181,167;1049:43,181,166;1050:44,182,165;1051:45,183,163;1052:48,183,162;1053:51,183,161;1054:54,183,159;1055:57,184,158;1056:59,184,156;1057:62,184,155;1058:65,184,154;1059:68,185,152;1060:71,185,151;1061:73,185,149;1062:76,185,148;1063:79,186,146;1064:82,186,145;1065:84,186,144;1066:87,186,142;1067:90,187,141;1068:93,187,139;1069:96,187,138;1070:98,187,137;1071:101,188,135;1072:104,188,134;1073:107,188,132;1074:110,188,131;1075:112,189,130;1076:115,189,128;1077:118,189,127;1078:121,189,125;1079:124,190,124;1080:126,190,123;1081:129,190,121;1082:132,190,120;1083:135,191,118;1084:137,190,117;1085:139,190,117;1086:142,190,116;1087:144,190,115;1088:146,190,114;1089:148,190,113;1090:151,190,112;1091:153,190,111;1092:155,189,110;1093:158,189,109;1094:160,189,108;1095:162,189,107;1096:165,189,106;1097:167,189,105;1098:169,189,104;1099:171,188,104;1100:174,188,103;1101:176,188,102;1102:178,188,101;1103:181,188,100;1104:183,188,99;1105:185,188,98;1106:188,188,97;1107:190,187,96;1108:192,187,95;1109:194,187,94;1110:197,187,93;1111:199,187,92;1112:201,187,92;1113:204,187,91;1114:206,186,90;1115:208,186,89;1116:210,187,88;1117:211,187,86;1118:212,188,85;1119:214,188,84;1120:215,188,83;1121:217,189,81;1122:218,189,80;1123:220,190,79;1124:221,190,78;1125:222,191,77;1126:224,191,75;1127:225,191,74;1128:227,192,73;1129:228,192,72;1130:229,193,70;1131:231,193,69;1132:232,194,68;1133:234,194,67;1134:235,194,66;1135:236,195,64;1136:238,195,63;1137:239,196,62;1138:241,196,61;1139:242,197,59;1140:244,197,58;1141:245,197,57;1142:246,198,56;1143:248,198,55;1144:249,199,53;1145:251,199,52;1146:252,200,51;1147:253,200,50;1148:253,202,49;1149:253,203,47;1150:253,205,46;1151:253,206,45;1152:253,208,44;1153:252,209,43;1154:252,211,42;1155:252,213,41;1156:252,214,39;1157:252,216,38;1158:252,217,37;1159:252,219,36;1160:251,220,35;1161:251,222,34;1162:251,224,33;1163:251,225,31;1164:251,227,30;1165:251,228,29;1166:250,230,28;1167:250,231,27;1168:250,233,26;1169:250,235,25;1170:250,236,23;1171:250,238,22;1172:250,239,21;1173:249,241,20;1174:249,242,19;1175:249,244,18;1176:249,246,17;1177:249,247,16;1178:249,249,14\",\"fBuf\":{\"$arr\":\"Float32\",\"len\":255,\"v\":[924,925,926,927,928,929,930,931,932,933,934,935,936,937,938,939,940,941,942,943,944,945,946,947,948,949,950,951,952,953,954,955,956,957,958,959,960,961,962,963,964,965,966,967,968,969,970,971,972,973,974,975,976,977,978,979,980,981,982,983,984,985,986,987,988,989,990,991,992,993,994,995,996,997,998,999,1000,1001,1002,1003,1004,1005,1006,1007,1008,1009,1010,1011,1012,1013,1014,1015,1016,1017,1018,1019,1020,1021,1022,1023,1024,1025,1026,1027,1028,1029,1030,1031,1032,1033,1034,1035,1036,1037,1038,1039,1040,1041,1042,1043,1044,1045,1046,1047,1048,1049,1050,1051,1052,1053,1054,1055,1056,1057,1058,1059,1060,1061,1062,1063,1064,1065,1066,1067,1068,1069,1070,1071,1072,1073,1074,1075,1076,1077,1078,1079,1080,1081,1082,1083,1084,1085,1086,1087,1088,1089,1090,1091,1092,1093,1094,1095,1096,1097,1098,1099,1100,1101,1102,1103,1104,1105,1106,1107,1108,1109,1110,1111,1112,1113,1114,1115,1116,1117,1118,1119,1120,1121,1122,1123,1124,1125,1126,1127,1128,1129,1130,1131,1132,1133,1134,1135,1136,1137,1138,1139,1140,1141,1142,1143,1144,1145,1146,1147,1148,1149,1150,1151,1152,1153,1154,1155,1156,1157,1158,1159,1160,1161,1162,1163,1164,1165,1166,1167,1168,1169,1170,1171,1172,1173,1174,1175,1176,1177,1178]}}},{\"_typename\":\"TWebSnapshot\",\"fUniqueID\":0,\"fBits\":0,\"fObjectID\":\"\",\"fOption\":\"\",\"fKind\":5,\"fSnapshot\":{\"_typename\":\"TStyle\",\"fUniqueID\":0,\"fBits\":0,\"fName\":\"Modern\",\"fTitle\":\"Modern Style\",\"fLineColor\":1,\"fLineStyle\":1,\"fLineWidth\":1,\"fFillColor\":19,\"fFillStyle\":1001,\"fMarkerColor\":1,\"fMarkerStyle\":1,\"fMarkerSize\":1,\"fTextAngle\":0,\"fTextSize\":0.05,\"fTextAlign\":11,\"fTextColor\":1,\"fTextFont\":62,\"fXaxis\":{\"_typename\":\"TAttAxis\",\"fNdivisions\":510,\"fAxisColor\":1,\"fLabelColor\":1,\"fLabelFont\":42,\"fLabelOffset\":0.005,\"fLabelSize\":0.035,\"fTickLength\":0.03,\"fTitleOffset\":1,\"fTitleSize\":0.035,\"fTitleColor\":1,\"fTitleFont\":42},\"fYaxis\":{\"_typename\":\"TAttAxis\",\"fNdivisions\":510,\"fAxisColor\":1,\"fLabelColor\":1,\"fLabelFont\":42,\"fLabelOffset\":0.005,\"fLabelSize\":0.035,\"fTickLength\":0.03,\"fTitleOffset\":0,\"fTitleSize\":0.035,\"fTitleColor\":1,\"fTitleFont\":42},\"fZaxis\":{\"_typename\":\"TAttAxis\",\"fNdivisions\":510,\"fAxisColor\":1,\"fLabelColor\":1,\"fLabelFont\":42,\"fLabelOffset\":0.005,\"fLabelSize\":0.035,\"fTickLength\":0.03,\"fTitleOffset\":1,\"fTitleSize\":0.035,\"fTitleColor\":1,\"fTitleFont\":42},\"fBarWidth\":1,\"fBarOffset\":0,\"fColorModelPS\":0,\"fDrawBorder\":0,\"fOptLogx\":0,\"fOptLogy\":0,\"fOptLogz\":0,\"fOptDate\":0,\"fOptStat\":1111,\"fOptTitle\":1,\"fOptFile\":0,\"fOptFit\":0,\"fShowEventStatus\":0,\"fShowEditor\":0,\"fShowToolBar\":0,\"fNumberContours\":20,\"fAttDate\":{\"_typename\":\"TAttText\",\"fTextAngle\":0,\"fTextSize\":0.025,\"fTextAlign\":11,\"fTextColor\":1,\"fTextFont\":62},\"fDateX\":0.01,\"fDateY\":0.01,\"fEndErrorSize\":2,\"fErrorX\":0.5,\"fFuncColor\":2,\"fFuncStyle\":1,\"fFuncWidth\":2,\"fGridColor\":0,\"fGridStyle\":3,\"fGridWidth\":1,\"fLegendBorderSize\":1,\"fLegendFillColor\":0,\"fLegendFillStyle\":1001,\"fLegendFont\":42,\"fLegendTextSize\":0,\"fHatchesLineWidth\":1,\"fHatchesSpacing\":1,\"fFrameFillColor\":0,\"fFrameLineColor\":1,\"fFrameFillStyle\":1001,\"fFrameLineStyle\":1,\"fFrameLineWidth\":1,\"fFrameBorderSize\":1,\"fFrameBorderMode\":0,\"fHistFillColor\":0,\"fHistLineColor\":602,\"fHistFillStyle\":1001,\"fHistLineStyle\":1,\"fHistLineWidth\":1,\"fHistMinimumZero\":false,\"fHistTopMargin\":0.05,\"fCanvasPreferGL\":false,\"fCanvasColor\":0,\"fCanvasBorderSize\":2,\"fCanvasBorderMode\":0,\"fCanvasDefH\":500,\"fCanvasDefW\":700,\"fCanvasDefX\":10,\"fCanvasDefY\":10,\"fPadColor\":0,\"fPadBorderSize\":2,\"fPadBorderMode\":0,\"fPadBottomMargin\":0.1,\"fPadTopMargin\":0.1,\"fPadLeftMargin\":0.1,\"fPadRightMargin\":0.1,\"fPadGridX\":false,\"fPadGridY\":false,\"fPadTickX\":0,\"fPadTickY\":0,\"fPaperSizeX\":20,\"fPaperSizeY\":26,\"fScreenFactor\":1,\"fStatColor\":0,\"fStatTextColor\":1,\"fStatBorderSize\":1,\"fStatFont\":42,\"fStatFontSize\":0,\"fStatStyle\":1001,\"fStatFormat\":\"6.4g\",\"fStatX\":0.98,\"fStatY\":0.935,\"fStatW\":0.2,\"fStatH\":0.16,\"fStripDecimals\":true,\"fTitleAlign\":23,\"fTitleColor\":0,\"fTitleTextColor\":1,\"fTitleBorderSize\":0,\"fTitleFont\":42,\"fTitleFontSize\":0.05,\"fTitleStyle\":0,\"fTitleX\":0.5,\"fTitleY\":0.995,\"fTitleW\":0,\"fTitleH\":0,\"fLegoInnerR\":0.5,\"fLineStyles\":[\"\",\"  \",\" 12 12\",\" 4 8\",\" 12 16 4 16\",\" 20 12 4 12\",\" 20 12 4 12 4 12 4 12\",\" 20 20\",\" 20 12 4 12 4 12\",\" 80 20\",\" 80 40 4 40\",\"  \",\"  \",\"  \",\"  \",\"  \",\"  \",\"  \",\"  \",\"  \",\"  \",\"  \",\"  \",\"  \",\"  \",\"  \",\"  \",\"  \",\"  \",\"  \"],\"fHeaderPS\":\"\",\"fTitlePS\":\"\",\"fFitFormat\":\"5.4g\",\"fPaintTextFormat\":\"g\",\"fLineScalePS\":3,\"fJoinLinePS\":0,\"fCapLinePS\":0,\"fTimeOffset\":788918400,\"fImageScaling\":1,\"fCandleWhiskerRange\":1,\"fCandleBoxRange\":0.5,\"fCandleScaled\":false,\"fViolinScaled\":true,\"fXAxisExpXOffset\":0,\"fXAxisExpYOffset\":0,\"fYAxisExpXOffset\":0,\"fYAxisExpYOffset\":0,\"fAxisMaxDigits\":5,\"fOrthoCamera\":false}},{\"_typename\":\"TPadWebSnapshot\",\"fUniqueID\":0,\"fBits\":0,\"fObjectID\":\"\",\"fOption\":\"\",\"fKind\":3,\"fSnapshot\":{\"_typename\":\"TPad\",\"fUniqueID\":0,\"fBits\":9,\"fLineColor\":1,\"fLineStyle\":1,\"fLineWidth\":1,\"fFillColor\":0,\"fFillStyle\":1001,\"fLeftMargin\":0.1,\"fRightMargin\":0.1,\"fBottomMargin\":0,\"fTopMargin\":0.1,\"fXfile\":2,\"fYfile\":2,\"fAfile\":1,\"fXstat\":0.99,\"fYstat\":0.99,\"fAstat\":2,\"fFrameFillColor\":0,\"fFrameLineColor\":1,\"fFrameFillStyle\":1001,\"fFrameLineStyle\":1,\"fFrameLineWidth\":1,\"fFrameBorderSize\":1,\"fFrameBorderMode\":0,\"fX1\":92.4999994412064,\"fY1\":1312.07688831808,\"fX2\":167.500000558794,\"fY2\":8789.5887749724,\"fXtoAbsPixelk\":-981.733312773704,\"fXtoPixelk\":-981.733312773704,\"fXtoPixel\":10.6133331751823,\"fYtoAbsPixelk\":470.658074349598,\"fYtoPixelk\":470.658074349598,\"fYtoPixel\":-0.0535472234707676,\"fUtoAbsPixelk\":0,\"fUtoPixelk\":0,\"fUtoPixel\":796,\"fVtoAbsPixelk\":400.4,\"fVtoPixelk\":400.4,\"fVtoPixel\":-400.4,\"fAbsPixeltoXk\":92.4999994412064,\"fPixeltoXk\":92.4999994412064,\"fPixeltoX\":0.0942211069316421,\"fAbsPixeltoYk\":8789.5887749724,\"fPixeltoYk\":1312.07688831808,\"fPixeltoY\":-18.6751046120238,\"fXlowNDC\":0,\"fYlowNDC\":0.3,\"fXUpNDC\":1,\"fYUpNDC\":1,\"fWNDC\":1,\"fHNDC\":0.7,\"fAbsXlowNDC\":0,\"fAbsYlowNDC\":0.3,\"fAbsWNDC\":1,\"fAbsHNDC\":0.7,\"fUxmin\":100,\"fUymin\":1312.07688831808,\"fUxmax\":160,\"fUymax\":8041.83755845107,\"fTheta\":30,\"fPhi\":30,\"fAspectRatio\":0,\"fNumber\":0,\"fTickx\":0,\"fTicky\":0,\"fLogx\":0,\"fLogy\":0,\"fLogz\":0,\"fPadPaint\":0,\"fCrosshair\":0,\"fCrosshairPos\":0,\"fBorderSize\":2,\"fBorderMode\":0,\"fModified\":false,\"fGridx\":false,\"fGridy\":false,\"fAbsCoord\":false,\"fEditable\":true,\"fFixedAspectRatio\":false,\"fPrimitives\":{\"_typename\":\"TList\",\"name\":\"TList\",\"arr\":[],\"opt\":[]},\"fExecs\":{\"_typename\":\"TList\",\"name\":\"TList\",\"arr\":[],\"opt\":[]},\"fName\":\"mainPad\",\"fTitle\":\"mainPad\",\"fNumPaletteColor\":0,\"fNextPaletteColor\":0},\"fActive\":false,\"fReadOnly\":true,\"fWithoutPrimitives\":false,\"fHasExecs\":true,\"fPrimitives\":[{\"_typename\":\"TWebSnapshot\",\"fUniqueID\":0,\"fBits\":0,\"fObjectID\":\"\",\"fOption\":\"\",\"fKind\":1,\"fSnapshot\":{\"_typename\":\"TFrame\",\"fUniqueID\":0,\"fBits\":8,\"fLineColor\":1,\"fLineStyle\":1,\"fLineWidth\":1,\"fFillColor\":0,\"fFillStyle\":1001,\"fX1\":100,\"fY1\":1312.07688831808,\"fX2\":160,\"fY2\":8041.83755845107,\"fBorderSize\":1,\"fBorderMode\":0}},{\"_typename\":\"TWebSnapshot\",\"fUniqueID\":0,\"fBits\":0,\"fObjectID\":\"\",\"fOption\":\"E1\",\"fKind\":1,\"fSnapshot\":{\"_typename\":\"TH1F\",\"fUniqueID\":0,\"fBits\":520,\"fName\":\"h_M_Hyy\",\"fTitle\":\"Diphoton invariant-mass \",\"fLineColor\":1,\"fLineStyle\":1,\"fLineWidth\":1,\"fFillColor\":0,\"fFillStyle\":1001,\"fMarkerColor\":1,\"fMarkerStyle\":20,\"fMarkerSize\":0.8,\"fNcells\":62,\"fXaxis\":{\"_typename\":\"TAxis\",\"fUniqueID\":0,\"fBits\":0,\"fName\":\"xaxis\",\"fTitle\":\" Invariant Mass m_{yy} [GeV] \",\"fNdivisions\":510,\"fAxisColor\":1,\"fLabelColor\":1,\"fLabelFont\":42,\"fLabelOffset\":0.005,\"fLabelSize\":0.035,\"fTickLength\":0.03,\"fTitleOffset\":1,\"fTitleSize\":0.035,\"fTitleColor\":1,\"fTitleFont\":42,\"fNbins\":60,\"fXmin\":100,\"fXmax\":160,\"fXbins\":[],\"fFirst\":0,\"fLast\":0,\"fBits2\":0,\"fTimeDisplay\":false,\"fTimeFormat\":\"\",\"fLabels\":null,\"fModLabs\":null},\"fYaxis\":{\"_typename\":\"TAxis\",\"fUniqueID\":0,\"fBits\":0,\"fName\":\"yaxis\",\"fTitle\":\" events\",\"fNdivisions\":510,\"fAxisColor\":1,\"fLabelColor\":1,\"fLabelFont\":42,\"fLabelOffset\":0.005,\"fLabelSize\":0.035,\"fTickLength\":0.03,\"fTitleOffset\":0,\"fTitleSize\":0.035,\"fTitleColor\":1,\"fTitleFont\":42,\"fNbins\":1,\"fXmin\":0,\"fXmax\":1,\"fXbins\":[],\"fFirst\":0,\"fLast\":0,\"fBits2\":0,\"fTimeDisplay\":false,\"fTimeFormat\":\"\",\"fLabels\":null,\"fModLabs\":null},\"fZaxis\":{\"_typename\":\"TAxis\",\"fUniqueID\":0,\"fBits\":0,\"fName\":\"zaxis\",\"fTitle\":\"\",\"fNdivisions\":510,\"fAxisColor\":1,\"fLabelColor\":1,\"fLabelFont\":42,\"fLabelOffset\":0.005,\"fLabelSize\":0.035,\"fTickLength\":0.03,\"fTitleOffset\":1,\"fTitleSize\":0.035,\"fTitleColor\":1,\"fTitleFont\":42,\"fNbins\":1,\"fXmin\":0,\"fXmax\":1,\"fXbins\":[],\"fFirst\":0,\"fLast\":0,\"fBits2\":0,\"fTimeDisplay\":false,\"fTimeFormat\":\"\",\"fLabels\":null,\"fModLabs\":null},\"fBarOffset\":0,\"fBarWidth\":1000,\"fEntries\":550057,\"fTsumw\":250125,\"fTsumw2\":250125,\"fTsumwx\":30598245.2231081,\"fTsumwx2\":3807579692.85431,\"fMaximum\":-1111,\"fMinimum\":-1111,\"fNormFactor\":0,\"fContour\":[],\"fSumw2\":[],\"fOption\":\"\",\"fFunctions\":{\"_typename\":\"TList\",\"name\":\"TList\",\"arr\":[{\"_typename\":\"TF1\",\"fUniqueID\":0,\"fBits\":1024,\"fName\":\"sigPlusBkg\",\"fTitle\":\"gaus(0) + pol4(3)\",\"fLineColor\":632,\"fLineStyle\":1,\"fLineWidth\":2,\"fFillColor\":19,\"fFillStyle\":0,\"fMarkerColor\":1,\"fMarkerStyle\":1,\"fMarkerSize\":1,\"fXmin\":100,\"fXmax\":160,\"fNpar\":8,\"fNdim\":1,\"fNpx\":100,\"fType\":0,\"fNpfits\":60,\"fNDF\":52,\"fChisquare\":359343.519999808,\"fMinimum\":-1111,\"fMaximum\":-1111,\"fParErrors\":{\"$arr\":\"Float64\",\"len\":8,\"v\":[141.883095590106,0.895994623979181,0.568752313181902,114.916726940433,0.882600963985309,0.00635443607254044,4.30507348875748e-5,2.68586055458536e-7]},\"fParMin\":{\"$arr\":\"Float64\",\"len\":8},\"fParMax\":{\"$arr\":\"Float64\",\"len\":8},\"fSave\":{\"$arr\":\"Float64\",\"len\":103,\"v\":[7773.85889631934,7697.41037956508,7620.3556604099,7542.73083240773,7464.5719977776,7385.9152413901,7306.79660504365,7227.25206205639,7147.31749219871,7067.02865699055,6986.42117538729,6905.53049987676,6824.39189300955,6743.04040438375,6661.51084810445,6579.83778073751,6498.05547977627,6416.19792263885,6334.29876621296,6252.39132696395,6170.50856162135,6088.68304845759,6006.94696917223,5925.33209139371,5843.86975180973,5762.59083993652,5681.52578253618,5600.70452869029,5520.15653553712,5439.91075467871,5359.99561926317,5280.4390317466,5201.26835233807,5122.51038813009,5044.19138291634,4966.33700769706,4888.97235187207,4812.12191512017,4735.80959996296,4660.05870501023,4584.89191888315,4510.3313148109,4436.39834589525,4363.11384103708,4290.49800151806,4218.57039822982,4147.34996954232,4076.85501980261,4007.10321845412,3938.11159976647,3869.89656316478,3802.47387414707,3735.85866577786,3670.06544074534,3605.10807396922,3540.99981574574,3477.75329541585,3415.38052554253,3353.89290658222,3293.30123203557,3233.61569406209,3174.84588954299,3117.00082657641,3060.08893138884,3004.11805564641,2949.09548414948,2895.02794289404,2841.92160748282,2789.78211186962,2738.61455741962,2688.42352226879,2639.2130709655,2590.98676437717,2543.74766984518,2497.49837157107,2452.24098121729,2407.97714870575,2364.70807319765,2322.43451423823,2281.15680305008,2240.87485395914,2201.5881759374,2163.29588424681,2125.996712169,2089.68902280572,2054.3708209352,2020.03976490997,1986.69317858178,1954.32806323994,1922.94110954937,1892.52870947521,1863.08696818119,1834.61171588918,1807.09851968794,1780.54269527917,1754.93931864975,1730.28323765904,1706.5690835308,1683.79128223958,1661.94406578191,1641.02148332288,100,160]},\"fNormalized\":false,\"fNormIntegral\":0,\"fFormula\":{\"_typename\":\"TFormula\",\"fUniqueID\":0,\"fBits\":1024,\"fName\":\"sigPlusBkg\",\"fTitle\":\"gaus(0) + pol4(3)\",\"fClingParameters\":{\"$arr\":\"Float64\",\"len\":8,\"v\":[9920.74146867399,68.6645783171401,43.892753464571,503.495417595955,-2.59194050551486,-0.0321642537148596,-7.09941563228886e-5,2.33163000689394e-6]},\"fAllParametersSetted\":true,\"fParams\":[{\"$pair\":\"pair<TString,int,TFormulaParamOrder>\",\"first\":\"p0\",\"second\":0},{\"$pair\":\"pair<TString,int,TFormulaParamOrder>\",\"first\":\"p1\",\"second\":1},{\"$pair\":\"pair<TString,int,TFormulaParamOrder>\",\"first\":\"p2\",\"second\":2},{\"$pair\":\"pair<TString,int,TFormulaParamOrder>\",\"first\":\"p3\",\"second\":3},{\"$pair\":\"pair<TString,int,TFormulaParamOrder>\",\"first\":\"p4\",\"second\":4},{\"$pair\":\"pair<TString,int,TFormulaParamOrder>\",\"first\":\"p5\",\"second\":5},{\"$pair\":\"pair<TString,int,TFormulaParamOrder>\",\"first\":\"p6\",\"second\":6},{\"$pair\":\"pair<TString,int,TFormulaParamOrder>\",\"first\":\"p7\",\"second\":7}],\"fFormula\":\"[p0]*exp(-0.5*((x-[p1])\\/[p2])*((x-[p1])\\/[p2]))+([p3]+[p4]*x+[p5]*TMath::Sq(x)+[p6]*pow(x,3)+[p7]*pow(x,4))\",\"fNdim\":1,\"fNumber\":0,\"fLinearParts\":[],\"fVectorized\":false},\"fParams\":null,\"fComposition\":null}],\"opt\":[\"\"]},\"fBufferSize\":0,\"fBuffer\":[],\"fBinStatErrOpt\":0,\"fStatOverflows\":2,\"fArray\":{\"$arr\":\"Float32\",\"len\":62,\"v\":[222621,7634,7556,7561,7333,7164,7178,6907,6652,6818,6430,6402,6151,6097,6067,5794,5552,5542,5411,5284,4994,4998,4919,4785,4757,4772,4588,4343,4110,4016,3971,3725,3613,3534,3424,3434,3312,3206,2944,2922,2934,2891,2655,2652,2564,2468,2471,2372,2297,2218,2163,2042,2103,1986,1907,1857,1798,1798,1694,1697,1658,77311]}}},{\"_typename\":\"TWebSnapshot\",\"fUniqueID\":0,\"fBits\":0,\"fObjectID\":\"\",\"fOption\":\"same;prefer_saved\",\"fKind\":1,\"fSnapshot\":{\"_typename\":\"TF1\",\"fUniqueID\":0,\"fBits\":8,\"fName\":\"sigPlusBkg\",\"fTitle\":\"gaus(0) + pol4(3)\",\"fLineColor\":632,\"fLineStyle\":1,\"fLineWidth\":2,\"fFillColor\":19,\"fFillStyle\":0,\"fMarkerColor\":1,\"fMarkerStyle\":1,\"fMarkerSize\":1,\"fXmin\":100,\"fXmax\":160,\"fNpar\":8,\"fNdim\":1,\"fNpx\":100,\"fType\":0,\"fNpfits\":60,\"fNDF\":52,\"fChisquare\":359343.519999808,\"fMinimum\":-1111,\"fMaximum\":-1111,\"fParErrors\":{\"$arr\":\"Float64\",\"len\":8,\"v\":[141.883095590106,0.895994623979181,0.568752313181902,114.916726940433,0.882600963985309,0.00635443607254044,4.30507348875748e-5,2.68586055458536e-7]},\"fParMin\":{\"$arr\":\"Float64\",\"len\":8},\"fParMax\":{\"$arr\":\"Float64\",\"len\":8},\"fSave\":{\"$arr\":\"Float64\",\"len\":102,\"v\":[7735.71266803413,7658.95653995029,7581.61225352289,7503.71590990721,7425.30360588226,7346.41140797887,7267.07532691062,7187.33129233298,7107.2151279552,7026.76252702904,6946.00902823739,6864.98999200527,6783.74057725472,6702.29571862445,6620.69010417408,6538.95815359211,6457.13399692578,6375.25145385004,6293.34401349212,6211.44481482695,6129.58662765811,6047.80183419776,5966.12241125812,5884.57991306627,5803.20545471271,5722.02969624361,5641.08282740529,5560.3945530488,5479.99407920131,5399.91009981023,5320.17078416481,5240.8037649992,5161.83612727996,5083.29439768001,5005.20453474013,4927.59191971829,4850.48134812604,4773.89702195043,4697.86254255901,4622.40090428467,4547.53448868612,4473.28505947925,4399.67375813344,4326.72110012661,4254.4469718516,4182.87062816605,4112.0106905771,4041.88514605168,3972.51134644236,3903.90600851831,3836.08521459012,3769.06441371685,3702.85842348297,3637.48143233257,3572.94700244746,3509.26807315554,3446.4569648554,3384.5253834425,3323.48442522219,3263.34458229432,3204.11574839401,3145.80722517263,3088.4277289032,3031.98539759376,2976.48779849243,2921.94193596745,2868.35425974556,2815.73067349186,2764.07654371419,2713.39670897517,2663.6954893948,2614.97669642674,2567.24364289117,2520.49915324747,2474.7455740898,2429.9847848488,2386.21820868285,2343.44682354242,2301.67117339109,2260.89137956722,2221.10715227025,2182.31780215593,2144.52225202507,2107.71904859046,2071.90637430713,2037.0820592512,2003.24359303304,1970.38813673059,1938.51253482924,1907.6133271548,1877.68676078652,1848.72880193769,1820.73514779115,1793.70123827823,1767.62226778926,1742.49319680465,1718.30876343585,1695.06349486567,1672.75171867835,1651.36757406951,100.3,159.7]},\"fNormalized\":false,\"fNormIntegral\":0,\"fFormula\":{\"_typename\":\"TFormula\",\"fUniqueID\":0,\"fBits\":1024,\"fName\":\"sigPlusBkg\",\"fTitle\":\"gaus(0) + pol4(3)\",\"fClingParameters\":{\"$arr\":\"Float64\",\"len\":8,\"v\":[9920.74146867399,68.6645783171401,43.892753464571,503.495417595955,-2.59194050551486,-0.0321642537148596,-7.09941563228886e-5,2.33163000689394e-6]},\"fAllParametersSetted\":true,\"fParams\":[{\"$pair\":\"pair<TString,int,TFormulaParamOrder>\",\"first\":\"p0\",\"second\":0},{\"$pair\":\"pair<TString,int,TFormulaParamOrder>\",\"first\":\"p1\",\"second\":1},{\"$pair\":\"pair<TString,int,TFormulaParamOrder>\",\"first\":\"p2\",\"second\":2},{\"$pair\":\"pair<TString,int,TFormulaParamOrder>\",\"first\":\"p3\",\"second\":3},{\"$pair\":\"pair<TString,int,TFormulaParamOrder>\",\"first\":\"p4\",\"second\":4},{\"$pair\":\"pair<TString,int,TFormulaParamOrder>\",\"first\":\"p5\",\"second\":5},{\"$pair\":\"pair<TString,int,TFormulaParamOrder>\",\"first\":\"p6\",\"second\":6},{\"$pair\":\"pair<TString,int,TFormulaParamOrder>\",\"first\":\"p7\",\"second\":7}],\"fFormula\":\"[p0]*exp(-0.5*((x-[p1])\\/[p2])*((x-[p1])\\/[p2]))+([p3]+[p4]*x+[p5]*TMath::Sq(x)+[p6]*pow(x,3)+[p7]*pow(x,4))\",\"fNdim\":1,\"fNumber\":0,\"fLinearParts\":[],\"fVectorized\":false},\"fParams\":null,\"fComposition\":null}},{\"_typename\":\"TWebSnapshot\",\"fUniqueID\":0,\"fBits\":0,\"fObjectID\":\"\",\"fOption\":\"same;prefer_saved\",\"fKind\":1,\"fSnapshot\":{\"_typename\":\"TF1\",\"fUniqueID\":0,\"fBits\":8,\"fName\":\"bkgOnly\",\"fTitle\":\"pol4\",\"fLineColor\":632,\"fLineStyle\":2,\"fLineWidth\":2,\"fFillColor\":19,\"fFillStyle\":0,\"fMarkerColor\":1,\"fMarkerStyle\":1,\"fMarkerSize\":1,\"fXmin\":100,\"fXmax\":160,\"fNpar\":5,\"fNdim\":1,\"fNpx\":100,\"fType\":0,\"fNpfits\":0,\"fNDF\":0,\"fChisquare\":0,\"fMinimum\":-1111,\"fMaximum\":-1111,\"fParErrors\":[0,0,0,0,0],\"fParMin\":[0,0,0,0,0],\"fParMax\":[0,0,0,0,0],\"fSave\":{\"$arr\":\"Float64\",\"len\":102,\"v\":[84.2870479498304,83.2530302140337,82.282929720146,81.3778776813403,80.5390125630913,79.7674800831763,79.0644332116738,78.4310321709647,77.868444435732,77.3778447329601,76.9604150419361,76.6173445942483,76.3498298737878,76.1590746167471,76.0462898116207,76.0126936992054,76.0595117725998,76.1879767772043,76.3993287107214,76.6948148231558,77.0756896168139,77.543214846304,78.0986595185369,78.7432998927245,79.4784194803814,80.305309045324,81.2252666036706,82.2395974238414,83.3496140265588,84.5566361848468,85.8619909240319,87.2670125217421,88.7730425079075,90.3814296647604,92.0935300268348,93.9107068809669,95.8343307662945,97.865779474258,100.006438048599,102.257698785362,104.620961232892,107.097632191838,109.689125715149,112.396863108077,115.222272928177,118.166790985303,121.231860341615,124.41893131157,127.729461461932,131.164915611764,134.726765832431,138.416491447602,142.235579033245,146.185522417632,150.267822681338,154.483988157238,158.835534430508,163.323984338629,167.950867971382,172.71772267085,177.62609303142,182.677530899777,187.873595374913,193.215852808117,198.705876802983,204.345248215407,210.135555153586,216.078392978019,222.175364301507,228.428078989154,234.838154158364,241.407214178845,248.136890672605,255.028822513956,262.084655829511,269.306043998185,276.694647651196,284.25213467206,291.980180196601,299.88046661294,307.954683561503,316.204527935016,324.631703878509,333.237922789311,342.024903317056,350.994371363679,360.148060083416,369.487709882806,379.01506842069,388.73189060821,398.639938608811,408.74098183824,419.036796964544,429.529167908075,440.219885841485,451.11074918973,462.203563630063,473.500142092046,485.002304757537,496.711879060699,100.3,159.7]},\"fNormalized\":false,\"fNormIntegral\":0,\"fFormula\":{\"_typename\":\"TFormula\",\"fUniqueID\":0,\"fBits\":66560,\"fName\":\"bkgOnly\",\"fTitle\":\"pol4\",\"fClingParameters\":[503.495417595955,-2.59194050551486,-0.0321642537148596,-7.09941563228886e-5,2.33163000689394e-6],\"fAllParametersSetted\":true,\"fParams\":[{\"$pair\":\"pair<TString,int,TFormulaParamOrder>\",\"first\":\"p0\",\"second\":0},{\"$pair\":\"pair<TString,int,TFormulaParamOrder>\",\"first\":\"p1\",\"second\":1},{\"$pair\":\"pair<TString,int,TFormulaParamOrder>\",\"first\":\"p2\",\"second\":2},{\"$pair\":\"pair<TString,int,TFormulaParamOrder>\",\"first\":\"p3\",\"second\":3},{\"$pair\":\"pair<TString,int,TFormulaParamOrder>\",\"first\":\"p4\",\"second\":4}],\"fFormula\":\"([p0]+[p1]*x+[p2]*TMath::Sq(x)+[p3]*pow(x,3)+[p4]*pow(x,4))\",\"fNdim\":1,\"fNumber\":304,\"fLinearParts\":[],\"fVectorized\":false},\"fParams\":null,\"fComposition\":null}},{\"_typename\":\"TWebSnapshot\",\"fUniqueID\":0,\"fBits\":0,\"fObjectID\":\"\",\"fOption\":\"\",\"fKind\":1,\"fSnapshot\":{\"_typename\":\"TLegend\",\"fUniqueID\":0,\"fBits\":8,\"fLineColor\":1,\"fLineStyle\":1,\"fLineWidth\":1,\"fFillColor\":0,\"fFillStyle\":1001,\"fX1\":133.750000055879,\"fY1\":6172.45961464339,\"fX2\":160.000000447035,\"fY2\":7667.96199197425,\"fX1NDC\":0.55,\"fY1NDC\":0.65,\"fX2NDC\":0.9,\"fY2NDC\":0.85,\"fBorderSize\":1,\"fInit\":1,\"fShadowColor\":1,\"fCornerRadius\":0,\"fOption\":\"brNDC\",\"fName\":\"TPave\",\"fTextAngle\":0,\"fTextSize\":0,\"fTextAlign\":12,\"fTextColor\":1,\"fTextFont\":42,\"fPrimitives\":{\"_typename\":\"TList\",\"name\":\"TList\",\"arr\":[{\"_typename\":\"TLegendEntry\",\"fUniqueID\":0,\"fBits\":0,\"fTextAngle\":0,\"fTextSize\":0,\"fTextAlign\":0,\"fTextColor\":0,\"fTextFont\":42,\"fLineColor\":1,\"fLineStyle\":1,\"fLineWidth\":1,\"fFillColor\":0,\"fFillStyle\":0,\"fMarkerColor\":1,\"fMarkerStyle\":20,\"fMarkerSize\":0.8,\"fObject\":{\"$ref\":19},\"fLabel\":\"Data\",\"fOption\":\"lep\"},{\"_typename\":\"TLegendEntry\",\"fUniqueID\":0,\"fBits\":0,\"fTextAngle\":0,\"fTextSize\":0,\"fTextAlign\":0,\"fTextColor\":0,\"fTextFont\":42,\"fLineColor\":632,\"fLineStyle\":1,\"fLineWidth\":2,\"fFillColor\":0,\"fFillStyle\":0,\"fMarkerColor\":1,\"fMarkerStyle\":21,\"fMarkerSize\":1,\"fObject\":{\"$ref\":27},\"fLabel\":\"Sig+Bkg Fit (m_{H}=125 GeV)\",\"fOption\":\"l\"},{\"_typename\":\"TLegendEntry\",\"fUniqueID\":0,\"fBits\":0,\"fTextAngle\":0,\"fTextSize\":0,\"fTextAlign\":0,\"fTextColor\":0,\"fTextFont\":42,\"fLineColor\":632,\"fLineStyle\":2,\"fLineWidth\":2,\"fFillColor\":0,\"fFillStyle\":0,\"fMarkerColor\":1,\"fMarkerStyle\":21,\"fMarkerSize\":1,\"fObject\":{\"$ref\":30},\"fLabel\":\"Bkg (4th order polynomial)\",\"fOption\":\"l\"}],\"opt\":[\"lep\",\"l\",\"l\"]},\"fEntrySeparation\":0.1,\"fMargin\":0.25,\"fNColumns\":1,\"fColumnSeparation\":0}},{\"_typename\":\"TWebSnapshot\",\"fUniqueID\":0,\"fBits\":0,\"fObjectID\":\"\",\"fOption\":\"\",\"fKind\":1,\"fSnapshot\":{\"_typename\":\"TLatex\",\"fUniqueID\":0,\"fBits\":16393,\"fName\":\"\",\"fTitle\":\"ATLAS Open Data\",\"fTextAngle\":0,\"fTextSize\":0.04,\"fTextAlign\":11,\"fTextColor\":1,\"fTextFont\":62,\"fX\":0.2,\"fY\":0.85,\"fLineColor\":1,\"fLineStyle\":1,\"fLineWidth\":2,\"fLimitFactorSize\":3,\"fOriginSize\":0.04}},{\"_typename\":\"TWebSnapshot\",\"fUniqueID\":0,\"fBits\":0,\"fObjectID\":\"\",\"fOption\":\"\",\"fKind\":1,\"fSnapshot\":{\"_typename\":\"TLatex\",\"fUniqueID\":0,\"fBits\":16393,\"fName\":\"\",\"fTitle\":\"#sqrt{s}=13 TeV, #int L dt = 36 fb^{-1}\",\"fTextAngle\":0,\"fTextSize\":0.04,\"fTextAlign\":11,\"fTextColor\":1,\"fTextFont\":62,\"fX\":0.2,\"fY\":0.8,\"fLineColor\":1,\"fLineStyle\":1,\"fLineWidth\":2,\"fLimitFactorSize\":3,\"fOriginSize\":0.04}},{\"_typename\":\"TWebSnapshot\",\"fUniqueID\":0,\"fBits\":0,\"fObjectID\":\"\",\"fOption\":\"\",\"fKind\":1,\"fSnapshot\":{\"_typename\":\"TLatex\",\"fUniqueID\":0,\"fBits\":16393,\"fName\":\"\",\"fTitle\":\"H #rightarrow #gamma#gamma\",\"fTextAngle\":0,\"fTextSize\":0.04,\"fTextAlign\":11,\"fTextColor\":1,\"fTextFont\":62,\"fX\":0.2,\"fY\":0.75,\"fLineColor\":1,\"fLineStyle\":1,\"fLineWidth\":2,\"fLimitFactorSize\":3,\"fOriginSize\":0.04}},{\"_typename\":\"TWebSnapshot\",\"fUniqueID\":0,\"fBits\":0,\"fObjectID\":\"\",\"fOption\":\"blNDC\",\"fKind\":1,\"fSnapshot\":{\"_typename\":\"TPaveText\",\"fUniqueID\":0,\"fBits\":9,\"fLineColor\":1,\"fLineStyle\":1,\"fLineWidth\":1,\"fFillColor\":0,\"fFillStyle\":0,\"fX1\":117.425251068903,\"fY1\":8281.58861497169,\"fX2\":142.574748931097,\"fY2\":8752.20125119469,\"fX1NDC\":0.332336683417085,\"fY1NDC\":0.932062941831309,\"fX2NDC\":0.667663316582915,\"fY2NDC\":0.995000004768372,\"fBorderSize\":0,\"fInit\":1,\"fShadowColor\":1,\"fCornerRadius\":0,\"fOption\":\"blNDC\",\"fName\":\"title\",\"fTextAngle\":0,\"fTextSize\":0,\"fTextAlign\":22,\"fTextColor\":1,\"fTextFont\":42,\"fLabel\":\"\",\"fLongest\":24,\"fMargin\":0.05,\"fLines\":{\"_typename\":\"TList\",\"name\":\"TList\",\"arr\":[{\"_typename\":\"TLatex\",\"fUniqueID\":0,\"fBits\":0,\"fName\":\"\",\"fTitle\":\"Diphoton invariant-mass \",\"fTextAngle\":0,\"fTextSize\":0,\"fTextAlign\":0,\"fTextColor\":0,\"fTextFont\":0,\"fX\":0,\"fY\":0,\"fLineColor\":1,\"fLineStyle\":1,\"fLineWidth\":2,\"fLimitFactorSize\":3,\"fOriginSize\":0.0534965023398399}],\"opt\":[\"\"]}}}]},{\"_typename\":\"TPadWebSnapshot\",\"fUniqueID\":0,\"fBits\":0,\"fObjectID\":\"\",\"fOption\":\"\",\"fKind\":3,\"fSnapshot\":{\"_typename\":\"TPad\",\"fUniqueID\":0,\"fBits\":9,\"fLineColor\":1,\"fLineStyle\":1,\"fLineWidth\":1,\"fFillColor\":0,\"fFillStyle\":1001,\"fLeftMargin\":0.1,\"fRightMargin\":0.1,\"fBottomMargin\":0.3,\"fTopMargin\":0,\"fXfile\":2,\"fYfile\":2,\"fAfile\":1,\"fXstat\":0.99,\"fYstat\":0.99,\"fAstat\":2,\"fFrameFillColor\":0,\"fFrameLineColor\":1,\"fFrameFillStyle\":1001,\"fFrameLineStyle\":1,\"fFrameLineWidth\":1,\"fFrameBorderSize\":1,\"fFrameBorderMode\":0,\"fX1\":92.4999994412064,\"fY1\":-2278.51606541991,\"fX2\":167.500000558794,\"fY2\":7979.36663529433,\"fXtoAbsPixelk\":-981.733312773704,\"fXtoPixelk\":-981.733312773704,\"fXtoPixel\":10.6133331751823,\"fYtoAbsPixelk\":511.636349852942,\"fYtoPixelk\":111.236349852942,\"fYtoPixel\":-0.0139404986557356,\"fUtoAbsPixelk\":0,\"fUtoPixelk\":0,\"fUtoPixel\":796,\"fVtoAbsPixelk\":543.4,\"fVtoPixelk\":143,\"fVtoPixel\":-143,\"fAbsPixeltoXk\":92.4999994412064,\"fPixeltoXk\":92.4999994412064,\"fPixeltoX\":0.0942211069316421,\"fAbsPixeltoYk\":36701.4381972942,\"fPixeltoYk\":-2278.51606541991,\"fPixeltoY\":-71.7334454595402,\"fXlowNDC\":0,\"fYlowNDC\":0.05,\"fXUpNDC\":1,\"fYUpNDC\":0.3,\"fWNDC\":1,\"fHNDC\":0.25,\"fAbsXlowNDC\":0,\"fAbsYlowNDC\":0.05,\"fAbsWNDC\":1,\"fAbsHNDC\":0.25,\"fUxmin\":100,\"fUymin\":798.84886707785,\"fUxmax\":160,\"fUymax\":7979.36663529433,\"fTheta\":30,\"fPhi\":30,\"fAspectRatio\":0,\"fNumber\":0,\"fTickx\":0,\"fTicky\":0,\"fLogx\":0,\"fLogy\":0,\"fLogz\":0,\"fPadPaint\":0,\"fCrosshair\":0,\"fCrosshairPos\":0,\"fBorderSize\":2,\"fBorderMode\":0,\"fModified\":false,\"fGridx\":false,\"fGridy\":false,\"fAbsCoord\":false,\"fEditable\":true,\"fFixedAspectRatio\":false,\"fPrimitives\":{\"_typename\":\"TList\",\"name\":\"TList\",\"arr\":[],\"opt\":[]},\"fExecs\":{\"_typename\":\"TList\",\"name\":\"TList\",\"arr\":[],\"opt\":[]},\"fName\":\"residPad\",\"fTitle\":\"residPad\",\"fNumPaletteColor\":0,\"fNextPaletteColor\":0},\"fActive\":false,\"fReadOnly\":true,\"fWithoutPrimitives\":false,\"fHasExecs\":true,\"fPrimitives\":[{\"_typename\":\"TWebSnapshot\",\"fUniqueID\":0,\"fBits\":0,\"fObjectID\":\"\",\"fOption\":\"\",\"fKind\":1,\"fSnapshot\":{\"_typename\":\"TFrame\",\"fUniqueID\":0,\"fBits\":8,\"fLineColor\":1,\"fLineStyle\":1,\"fLineWidth\":1,\"fFillColor\":0,\"fFillStyle\":1001,\"fX1\":100,\"fY1\":798.84886707785,\"fX2\":160,\"fY2\":7979.36663529433,\"fBorderSize\":1,\"fBorderMode\":0}},{\"_typename\":\"TWebSnapshot\",\"fUniqueID\":0,\"fBits\":0,\"fObjectID\":\"\",\"fOption\":\"E1\",\"fKind\":1,\"fSnapshot\":{\"_typename\":\"TH1F\",\"fUniqueID\":0,\"fBits\":8,\"fName\":\"residuals\",\"fTitle\":\"\",\"fLineColor\":1,\"fLineStyle\":1,\"fLineWidth\":1,\"fFillColor\":0,\"fFillStyle\":1001,\"fMarkerColor\":1,\"fMarkerStyle\":20,\"fMarkerSize\":0.8,\"fNcells\":62,\"fXaxis\":{\"_typename\":\"TAxis\",\"fUniqueID\":0,\"fBits\":0,\"fName\":\"xaxis\",\"fTitle\":\"di-photon invariant mass m_{#gamma#gamma} [GeV]\",\"fNdivisions\":510,\"fAxisColor\":1,\"fLabelColor\":1,\"fLabelFont\":42,\"fLabelOffset\":0.005,\"fLabelSize\":0.07,\"fTickLength\":0.03,\"fTitleOffset\":1,\"fTitleSize\":0.07,\"fTitleColor\":1,\"fTitleFont\":42,\"fNbins\":60,\"fXmin\":100,\"fXmax\":160,\"fXbins\":[],\"fFirst\":0,\"fLast\":0,\"fBits2\":0,\"fTimeDisplay\":false,\"fTimeFormat\":\"\",\"fLabels\":null,\"fModLabs\":null},\"fYaxis\":{\"_typename\":\"TAxis\",\"fUniqueID\":0,\"fBits\":0,\"fName\":\"yaxis\",\"fTitle\":\"Events - Bkg\",\"fNdivisions\":510,\"fAxisColor\":1,\"fLabelColor\":1,\"fLabelFont\":42,\"fLabelOffset\":0.005,\"fLabelSize\":0.07,\"fTickLength\":0.03,\"fTitleOffset\":0.5,\"fTitleSize\":0.07,\"fTitleColor\":1,\"fTitleFont\":42,\"fNbins\":1,\"fXmin\":0,\"fXmax\":1,\"fXbins\":[],\"fFirst\":0,\"fLast\":0,\"fBits2\":0,\"fTimeDisplay\":false,\"fTimeFormat\":\"\",\"fLabels\":null,\"fModLabs\":null},\"fZaxis\":{\"_typename\":\"TAxis\",\"fUniqueID\":0,\"fBits\":0,\"fName\":\"zaxis\",\"fTitle\":\"\",\"fNdivisions\":510,\"fAxisColor\":1,\"fLabelColor\":1,\"fLabelFont\":42,\"fLabelOffset\":0.005,\"fLabelSize\":0.035,\"fTickLength\":0.03,\"fTitleOffset\":1,\"fTitleSize\":0.035,\"fTitleColor\":1,\"fTitleFont\":42,\"fNbins\":1,\"fXmin\":0,\"fXmax\":1,\"fXbins\":[],\"fFirst\":0,\"fLast\":0,\"fBits2\":0,\"fTimeDisplay\":false,\"fTimeFormat\":\"\",\"fLabels\":null,\"fModLabs\":null},\"fBarOffset\":0,\"fBarWidth\":1000,\"fEntries\":60,\"fTsumw\":0,\"fTsumw2\":0,\"fTsumwx\":0,\"fTsumwx2\":0,\"fMaximum\":-1111,\"fMinimum\":-1111,\"fNormFactor\":0,\"fContour\":[],\"fSumw2\":{\"$arr\":\"Float64\",\"len\":62,\"p\":1,\"v\":[7634,7556,7561,7333,7164,7178,6907,6652,6818,6430,6402,6151,6097,6067,5794,5552,5542,5411,5284,4994,4998,4919,4785,4757,4772,4588,4343,4110,4016,3971,3725,3613,3534,3424,3434,3312,3206,2944,2922,2934,2891,2655,2652,2564,2468,2471,2372,2297,2218,2163,2042,2103,1986,1907,1857,1798,1798,1694,1697,1658]},\"fOption\":\"\",\"fFunctions\":{\"_typename\":\"TList\",\"name\":\"TList\",\"arr\":[{\"_typename\":\"TPaveStats\",\"fUniqueID\":0,\"fBits\":9,\"fLineColor\":1,\"fLineStyle\":1,\"fLineWidth\":1,\"fFillColor\":0,\"fFillStyle\":1001,\"fX1\":151.000001519918,\"fY1\":5671.34308877537,\"fX2\":166.000001966953,\"fY2\":7312.6042842046,\"fX1NDC\":0.780000016093254,\"fY1NDC\":0.775000005960464,\"fX2NDC\":0.980000019073486,\"fY2NDC\":0.935000002384186,\"fBorderSize\":1,\"fInit\":1,\"fShadowColor\":1,\"fCornerRadius\":0,\"fOption\":\"brNDC\",\"fName\":\"stats\",\"fTextAngle\":0,\"fTextSize\":0,\"fTextAlign\":12,\"fTextColor\":1,\"fTextFont\":42,\"fLabel\":\"\",\"fLongest\":18,\"fMargin\":0.05,\"fLines\":{\"_typename\":\"TList\",\"name\":\"TList\",\"arr\":[{\"_typename\":\"TLatex\",\"fUniqueID\":0,\"fBits\":0,\"fName\":\"\",\"fTitle\":\"residuals\",\"fTextAngle\":0,\"fTextSize\":0.0368,\"fTextAlign\":0,\"fTextColor\":0,\"fTextFont\":0,\"fX\":0,\"fY\":0,\"fLineColor\":1,\"fLineStyle\":1,\"fLineWidth\":2,\"fLimitFactorSize\":3,\"fOriginSize\":0.0368000008165836},{\"_typename\":\"TLatex\",\"fUniqueID\":0,\"fBits\":0,\"fName\":\"\",\"fTitle\":\"Entries = 60     \",\"fTextAngle\":0,\"fTextSize\":0,\"fTextAlign\":0,\"fTextColor\":0,\"fTextFont\":0,\"fX\":0,\"fY\":0,\"fLineColor\":1,\"fLineStyle\":1,\"fLineWidth\":2,\"fLimitFactorSize\":3,\"fOriginSize\":0.04},{\"_typename\":\"TLatex\",\"fUniqueID\":0,\"fBits\":0,\"fName\":\"\",\"fTitle\":\"Mean  =  121.5\",\"fTextAngle\":0,\"fTextSize\":0,\"fTextAlign\":0,\"fTextColor\":0,\"fTextFont\":0,\"fX\":0,\"fY\":0,\"fLineColor\":1,\"fLineStyle\":1,\"fLineWidth\":2,\"fLimitFactorSize\":3,\"fOriginSize\":0.04},{\"_typename\":\"TLatex\",\"fUniqueID\":0,\"fBits\":0,\"fName\":\"\",\"fTitle\":\"Std Dev   =  15.54\",\"fTextAngle\":0,\"fTextSize\":0,\"fTextAlign\":0,\"fTextColor\":0,\"fTextFont\":0,\"fX\":0,\"fY\":0,\"fLineColor\":1,\"fLineStyle\":1,\"fLineWidth\":2,\"fLimitFactorSize\":3,\"fOriginSize\":0.04}],\"opt\":[\"\",\"\",\"\",\"\"]},\"fOptFit\":0,\"fOptStat\":1111,\"fFitFormat\":\"5.4g\",\"fStatFormat\":\"6.4g\",\"fParent\":{\"$ref\":55}}],\"opt\":[\"brNDC\"]},\"fBufferSize\":0,\"fBuffer\":[],\"fBinStatErrOpt\":0,\"fStatOverflows\":2,\"fArray\":{\"$arr\":\"Float32\",\"len\":62,\"p\":1,\"v\":[7550.064,7473.717,7480.189,7253.475,7085.569,7100.467,6830.162,6575.65,6741.925,6353.98,6325.812,6074.413,6019.778,5988.901,5714.777,5471.398,5459.76,5326.856,5197.681,4905.227,4906.489,4824.46,4687.134,4655.505,4666.566,4478.311,4228.733,3990.825,3891.581,3840.994,3589.058,3470.764,3385.108,3268.081,3270.676,3140.887,3026.706,2756.126,2725.141,2727.741,2674.922,2428.674,2414.99,2315.863,2208.286,2199.25,2087.748,1999.772,1907.315,1838.368,1702.924,1748.975,1616.512,1521.528,1455.015,1378.963,1361.366,1239.214,1223.5,1165.214]}}},{\"_typename\":\"TWebSnapshot\",\"fUniqueID\":0,\"fBits\":0,\"fObjectID\":\"\",\"fOption\":\"same;prefer_saved\",\"fKind\":1,\"fSnapshot\":{\"_typename\":\"TF1\",\"fUniqueID\":0,\"fBits\":8,\"fName\":\"gaussianResidual\",\"fTitle\":\"gaus(0)\",\"fLineColor\":632,\"fLineStyle\":1,\"fLineWidth\":2,\"fFillColor\":19,\"fFillStyle\":0,\"fMarkerColor\":1,\"fMarkerStyle\":1,\"fMarkerSize\":1,\"fXmin\":100,\"fXmax\":160,\"fNpar\":3,\"fNdim\":1,\"fNpx\":100,\"fType\":0,\"fNpfits\":0,\"fNDF\":0,\"fChisquare\":0,\"fMinimum\":-1111,\"fMaximum\":-1111,\"fParErrors\":[0,0,0],\"fParMin\":[0,0,0],\"fParMax\":[0,0,0],\"fSave\":{\"$arr\":\"Float64\",\"len\":102,\"v\":[7651.4256200843,7575.70350973625,7499.32932380274,7422.33803222587,7344.76459331917,7266.64392789569,7188.01089369895,7108.90026016202,7029.34668351947,6949.38468229608,6869.04861319545,6788.37264741102,6707.39074738094,6626.13664400771,6544.64381436246,6462.9454598929,6381.07448515318,6299.06347707284,6216.9446847814,6134.7500000038,6052.5109380413,5970.25861935145,5888.02375173958,5805.83661317354,5723.72703523233,5641.72438719829,5559.85756080162,5478.15495562495,5396.64446517475,5315.35346362538,5234.30879324077,5153.53675247746,5073.06308477205,4992.91296801525,4913.1110047133,4833.68121283732,4754.64701735975,4676.03124247617,4597.85610451041,4520.14320549931,4442.91352745323,4366.18742728741,4289.98463241829,4214.32423701853,4139.22469892342,4064.70383718075,3990.77883023549,3917.46621474011,3844.78188498043,3772.74109290655,3701.35844875769,3630.64792226925,3560.62284444973,3491.29590991494,3422.67917976612,3354.7840849983,3287.62143042489,3221.20139910387,3155.5335572508,3090.62685962347,3026.48965536259,2963.12969427285,2900.55413352829,2838.76954478565,2777.78192168945,2717.59668775204,2658.21870459197,2599.65228051384,2541.90117941268,2484.96862998601,2428.85733523644,2373.5694822479,2319.10675221856,2265.47033073351,2212.66091826029,2160.67874085061,2109.52356103166,2059.19468887036,2009.69099319449,1961.01091295428,1913.15246870874,1866.11327422091,1819.89054814656,1774.48112580115,1729.88147099007,1686.08768788752,1643.09553294962,1600.90042684778,1559.49746640855,1518.88143654659,1479.04682217771,1439.98782009945,1401.6983508266,1364.17207037015,1327.40238194777,1291.38244761492,1256.10519980578,1221.56335277363,1187.74941392082,1154.65569500881,100.3,159.7]},\"fNormalized\":false,\"fNormIntegral\":0,\"fFormula\":{\"_typename\":\"TFormula\",\"fUniqueID\":0,\"fBits\":1024,\"fName\":\"gaussianResidual\",\"fTitle\":\"gaus(0)\",\"fClingParameters\":[9920.74146867399,68.6645783171401,43.892753464571],\"fAllParametersSetted\":true,\"fParams\":[{\"$pair\":\"pair<TString,int,TFormulaParamOrder>\",\"first\":\"Constant\",\"second\":0},{\"$pair\":\"pair<TString,int,TFormulaParamOrder>\",\"first\":\"Mean\",\"second\":1},{\"$pair\":\"pair<TString,int,TFormulaParamOrder>\",\"first\":\"Sigma\",\"second\":2}],\"fFormula\":\"[Constant]*exp(-0.5*((x-[Mean])\\/[Sigma])*((x-[Mean])\\/[Sigma]))\",\"fNdim\":1,\"fNumber\":100,\"fLinearParts\":[],\"fVectorized\":false},\"fParams\":null,\"fComposition\":null}},{\"_typename\":\"TWebSnapshot\",\"fUniqueID\":0,\"fBits\":0,\"fObjectID\":\"\",\"fOption\":\"same\",\"fKind\":1,\"fSnapshot\":{\"_typename\":\"TLine\",\"fUniqueID\":0,\"fBits\":8,\"fLineColor\":632,\"fLineStyle\":2,\"fLineWidth\":1,\"fX1\":100,\"fY1\":0,\"fX2\":160,\"fY2\":0}}]}],\"fScripts\":\"\",\"fHighlightConnect\":false,\"fFixedSize\":false});\n",
       "   Core.settings.HandleKeys = false;\n",
       "   Core.draw(\"root_plot_1756871407816\", obj, \"\");\n",
       "}\n",
       "\n",
       "function script_load_root_plot_1756871407816(src, on_error) {\n",
       "    let script = document.createElement('script');\n",
       "    script.src = src;\n",
       "    script.onload = function() { display_root_plot_1756871407816(JSROOT); };\n",
       "    script.onerror = function() { script.remove(); on_error(); };\n",
       "    document.head.appendChild(script);\n",
       "}\n",
       "\n",
       "if (typeof requirejs !== 'undefined') {\n",
       "\n",
       "    // We are in jupyter notebooks, use require.js which should be configured already\n",
       "    requirejs.config({\n",
       "       paths: { 'JSRootCore' : [ 'build/jsroot', 'https://root.cern/js/7.7.4/build/jsroot', 'https://jsroot.gsi.de/7.7.4/build/jsroot' ] }\n",
       "    })(['JSRootCore'],  function(Core) {\n",
       "       display_root_plot_1756871407816(Core);\n",
       "    });\n",
       "\n",
       "} else if (typeof JSROOT !== 'undefined') {\n",
       "\n",
       "   // JSROOT already loaded, just use it\n",
       "   display_root_plot_1756871407816(JSROOT);\n",
       "\n",
       "} else {\n",
       "\n",
       "    // We are in jupyterlab without require.js, directly loading jsroot\n",
       "    // Jupyterlab might be installed in a different base_url so we need to know it.\n",
       "    try {\n",
       "        var base_url = JSON.parse(document.getElementById('jupyter-config-data').innerHTML).baseUrl;\n",
       "    } catch(_) {\n",
       "        var base_url = '/';\n",
       "    }\n",
       "\n",
       "    // Try loading a local version of requirejs and fallback to cdn if not possible.\n",
       "    script_load_root_plot_1756871407816(base_url + 'static/build/jsroot.js', function(){\n",
       "        console.error('Fail to load JSROOT locally, please check your jupyter_notebook_config.py file');\n",
       "        script_load_root_plot_1756871407816('https://root.cern/js/7.7.4/build/jsroot.js', function(){\n",
       "            document.getElementById(\"root_plot_1756871407816\").innerHTML = \"Failed to load JSROOT\";\n",
       "        });\n",
       "    });\n",
       "}\n",
       "\n",
       "</script>\n"
      ],
      "text/plain": [
       "<IPython.core.display.HTML object>"
      ]
     },
     "metadata": {},
     "output_type": "display_data"
    }
   ],
   "source": [
    "# =======================\n",
    "# Main Pad (Data + Fit)\n",
    "# =======================\n",
    "mainPad = ROOT.TPad(\"mainPad\", \"mainPad\", 0, 0.3, 1, 1.0)\n",
    "mainPad.SetBottomMargin(0)\n",
    "mainPad.Draw()\n",
    "mainPad.cd()\n",
    "\n",
    "# Style histogram\n",
    "hist.SetMarkerStyle(20)\n",
    "hist.SetMarkerSize(0.8)\n",
    "hist.SetLineColor(ROOT.kBlack)\n",
    "hist.SetStats(0)\n",
    "\n",
    "# Define signal + background (Gaussian + 4th order polynomial)\n",
    "sigPlusBkg = ROOT.TF1(\"sigPlusBkg\", \"gaus(0) + pol4(3)\", 100, 160)\n",
    "sigPlusBkg.SetLineColor(ROOT.kRed)\n",
    "sigPlusBkg.SetLineStyle(1)\n",
    "\n",
    "# --- Improved initial guesses ---\n",
    "peak_bin   = hist.GetMaximumBin()\n",
    "peak_value = hist.GetBinContent(peak_bin)\n",
    "peak_pos   = hist.GetBinCenter(peak_bin)\n",
    "\n",
    "sigPlusBkg.SetParameter(0, peak_value)          # Gaussian amplitude\n",
    "# sigPlusBkg.SetParameter(1, peak_pos)            # Gaussian mean\n",
    "# sigPlusBkg.SetParameter(2, hist.GetRMS() / 2.0) # Gaussian sigma\n",
    "sigPlusBkg.SetParameter(1, 125)            # Gaussian mean\n",
    "sigPlusBkg.SetParameter(2, 2.0) # Gaussian sigma\n",
    "\n",
    "for i in range(5):\n",
    "    sigPlusBkg.SetParameter(3 + i, 0.0)         # Polynomial coefficients\n",
    "\n",
    "# Perform weighted fit (S=silent, R=use range, Q=quiet, W=weights)\n",
    "hist.Fit(\"sigPlusBkg\", \"SRW\")\n",
    "\n",
    "# Extract polynomial (background) parameters from global fit\n",
    "bkgOnly = ROOT.TF1(\"bkgOnly\", \"pol4\", 100, 160)\n",
    "bkgOnly.SetLineColor(ROOT.kRed)\n",
    "bkgOnly.SetLineStyle(2)\n",
    "for i in range(5):\n",
    "    bkgOnly.SetParameter(i, sigPlusBkg.GetParameter(3 + i))\n",
    "\n",
    "# Draw results\n",
    "hist.Draw(\"E1\")\n",
    "sigPlusBkg.Draw(\"same\")\n",
    "bkgOnly.Draw(\"same\")\n",
    "\n",
    "# Legend\n",
    "legend = ROOT.TLegend(0.55, 0.65, 0.9, 0.85)\n",
    "legend.AddEntry(hist, \"Data\", \"lep\")\n",
    "legend.AddEntry(sigPlusBkg, \"Sig+Bkg Fit (m_{H}=125 GeV)\", \"l\")\n",
    "legend.AddEntry(bkgOnly, \"Bkg (4th order polynomial)\", \"l\")\n",
    "legend.Draw()\n",
    "\n",
    "# Labels\n",
    "latex = ROOT.TLatex()\n",
    "latex.SetTextSize(0.04)\n",
    "latex.DrawLatexNDC(0.2, 0.85, \"ATLAS Open Data\")\n",
    "latex.DrawLatexNDC(0.2, 0.8, \"#sqrt{s}=13 TeV, #int L dt = 36 fb^{-1}\")\n",
    "latex.DrawLatexNDC(0.2, 0.75, \"H #rightarrow #gamma#gamma\")\n",
    "\n",
    "canvas.cd()\n",
    "\n",
    "# =======================\n",
    "# Residual Pad (Data-Bkg vs Fit-Bkg)\n",
    "# =======================\n",
    "residPad = ROOT.TPad(\"residPad\", \"residPad\", 0, 0.05, 1, 0.3)\n",
    "residPad.SetTopMargin(0)\n",
    "residPad.SetBottomMargin(0.3)\n",
    "residPad.Draw()\n",
    "residPad.cd()\n",
    "\n",
    "nBins = hist.GetNbinsX()\n",
    "residuals = ROOT.TH1F(\"residuals\", \"\", nBins, 100, 160)\n",
    "\n",
    "for i in range(1, nBins + 1):\n",
    "    dataValue = hist.GetBinContent(i)\n",
    "    bkgValue  = bkgOnly.Eval(hist.GetBinCenter(i))\n",
    "    residualValue = dataValue - bkgValue       # data - bkg\n",
    "    residuals.SetBinContent(i, residualValue)\n",
    "    residuals.SetBinError(i, hist.GetBinError(i))\n",
    "\n",
    "# Style residuals\n",
    "residuals.SetMarkerStyle(20)\n",
    "residuals.SetMarkerSize(0.8)\n",
    "residuals.SetLineColor(ROOT.kBlack)\n",
    "\n",
    "residuals.GetYaxis().SetTitle(\"Events - Bkg\")\n",
    "residuals.GetYaxis().SetTitleSize(0.07)\n",
    "residuals.GetYaxis().SetTitleOffset(0.5)\n",
    "residuals.GetYaxis().SetLabelSize(0.07)\n",
    "residuals.GetXaxis().SetTitle(\"di-photon invariant mass m_{#gamma#gamma} [GeV]\")\n",
    "residuals.GetXaxis().SetTitleSize(0.07)\n",
    "residuals.GetXaxis().SetLabelSize(0.07)\n",
    "\n",
    "# Draw residuals (data - bkg)\n",
    "residuals.Draw(\"E1\")\n",
    "\n",
    "# Fit - bkg (Gaussian part only)\n",
    "gaussianResidual = ROOT.TF1(\"gaussianResidual\", \"gaus(0)\", 100, 160)\n",
    "gaussianResidual.SetParameters(sigPlusBkg.GetParameter(0),\n",
    "                               sigPlusBkg.GetParameter(1),\n",
    "                               sigPlusBkg.GetParameter(2))\n",
    "gaussianResidual.SetLineColor(ROOT.kRed)\n",
    "gaussianResidual.SetLineStyle(1)\n",
    "gaussianResidual.Draw(\"same\")\n",
    "\n",
    "# Zero line\n",
    "zeroLine = ROOT.TLine(100, 0, 160, 0)\n",
    "zeroLine.SetLineColor(ROOT.kRed)\n",
    "zeroLine.SetLineStyle(2)\n",
    "zeroLine.Draw(\"same\")\n",
    "\n",
    "canvas.Draw()\n",
    "\n",
    "\"\"\"\n",
    "# =======================\n",
    "# Residual Pad (Data-Bkg)\n",
    "# =======================\n",
    "residPad = ROOT.TPad(\"residPad\", \"residPad\", 0, 0.05, 1, 0.3)\n",
    "residPad.SetTopMargin(0)\n",
    "residPad.SetBottomMargin(0.3)\n",
    "residPad.Draw()\n",
    "residPad.cd()\n",
    "\n",
    "# Residuals (absolute difference, like matplotlib)\n",
    "nBins = hist.GetNbinsX()\n",
    "residuals = ROOT.TH1F(\"residuals\", \"\", nBins, 100, 160)\n",
    "\n",
    "for i in range(1, nBins + 1):\n",
    "    dataValue = hist.GetBinContent(i)\n",
    "    bkgValue  = bkgOnly.Eval(hist.GetBinCenter(i))\n",
    "    # error = hist.GetBinError(i)\n",
    "    \n",
    "    residualValue = (dataValue - bkgValue)  # absolute diff\n",
    "    # residualValue = (dataValue - bkgValue) / error  # absolute diff\n",
    "    residuals.SetBinContent(i, residualValue)\n",
    "    residuals.SetBinError(i, hist.GetBinError(i))\n",
    "    #residuals.SetBinContent(i, residualValue)  # Set residual (Data - Bkg)\n",
    "    \n",
    "# Style residuals\n",
    "residuals.SetMarkerStyle(20)\n",
    "residuals.SetMarkerSize(0.8)\n",
    "residuals.SetLineColor(ROOT.kBlack)\n",
    "\n",
    "residuals.GetYaxis().SetTitle(\"Events - Bkg\")\n",
    "residuals.GetYaxis().SetTitleSize(0.07)\n",
    "residuals.GetYaxis().SetTitleOffset(0.5)\n",
    "residuals.GetYaxis().SetLabelSize(0.07)\n",
    "residuals.GetXaxis().SetTitle(\"di-photon invariant mass m_{#gamma#gamma} [GeV]\")\n",
    "residuals.GetXaxis().SetTitleSize(0.07)\n",
    "residuals.GetXaxis().SetLabelSize(0.07)\n",
    "\n",
    "# Draw residuals\n",
    "residuals.Draw(\"E1\")\n",
    "\n",
    "# Signal (fit - bkg)\n",
    "gaussianResidual = ROOT.TF1(\"gaussianResidual\", \"gaus(0)\", 100, 160)\n",
    "gaussianResidual.SetParameters(sigPlusBkg.GetParameter(0),\n",
    "                               sigPlusBkg.GetParameter(1),\n",
    "                               sigPlusBkg.GetParameter(2))\n",
    "gaussianResidual.SetLineColor(ROOT.kRed)\n",
    "gaussianResidual.SetLineStyle(1)\n",
    "gaussianResidual.Draw(\"same\")\n",
    "\n",
    "# Zero line\n",
    "zeroLine = ROOT.TLine(100, 0, 160, 0)\n",
    "zeroLine.SetLineColor(ROOT.kRed)\n",
    "zeroLine.SetLineStyle(2)\n",
    "zeroLine.Draw(\"same\")\n",
    "\n",
    "canvas.Draw()\n",
    "\"\"\""
   ]
  },
  {
   "cell_type": "markdown",
   "metadata": {},
   "source": [
    "#### Log Scale"
   ]
  },
  {
   "cell_type": "code",
   "execution_count": 18,
   "metadata": {},
   "outputs": [
    {
     "data": {
      "text/html": [
       "\n",
       "\n",
       "<div id=\"root_plot_1756871407979\" style=\"width: 800px; height: 600px; position: relative\">\n",
       "</div>\n",
       "\n",
       "<script>\n",
       "\n",
       "function display_root_plot_1756871407979(Core) {\n",
       "   let obj = Core.parse({\"_typename\":\"TCanvasWebSnapshot\",\"fUniqueID\":0,\"fBits\":0,\"fObjectID\":\"\",\"fOption\":\"\",\"fKind\":3,\"fSnapshot\":{\"_typename\":\"TCanvas\",\"fUniqueID\":0,\"fBits\":3342344,\"fLineColor\":1,\"fLineStyle\":1,\"fLineWidth\":1,\"fFillColor\":0,\"fFillStyle\":1001,\"fLeftMargin\":0.1,\"fRightMargin\":0.1,\"fBottomMargin\":0.1,\"fTopMargin\":0.1,\"fXfile\":2,\"fYfile\":2,\"fAfile\":1,\"fXstat\":0.99,\"fYstat\":0.99,\"fAstat\":2,\"fFrameFillColor\":0,\"fFrameLineColor\":1,\"fFrameFillStyle\":1001,\"fFrameLineStyle\":1,\"fFrameLineWidth\":1,\"fFrameBorderSize\":1,\"fFrameBorderMode\":0,\"fX1\":0,\"fY1\":0,\"fX2\":1,\"fY2\":1,\"fXtoAbsPixelk\":0,\"fXtoPixelk\":0,\"fXtoPixel\":796,\"fYtoAbsPixelk\":572,\"fYtoPixelk\":572,\"fYtoPixel\":-572,\"fUtoAbsPixelk\":0,\"fUtoPixelk\":0,\"fUtoPixel\":796,\"fVtoAbsPixelk\":572,\"fVtoPixelk\":572,\"fVtoPixel\":-572,\"fAbsPixeltoXk\":0,\"fPixeltoXk\":0,\"fPixeltoX\":0.00125628140703518,\"fAbsPixeltoYk\":1,\"fPixeltoYk\":0,\"fPixeltoY\":-0.00174825174825175,\"fXlowNDC\":0,\"fYlowNDC\":0,\"fXUpNDC\":1,\"fYUpNDC\":1,\"fWNDC\":1,\"fHNDC\":1,\"fAbsXlowNDC\":0,\"fAbsYlowNDC\":0,\"fAbsWNDC\":1,\"fAbsHNDC\":1,\"fUxmin\":0,\"fUymin\":0,\"fUxmax\":1,\"fUymax\":1,\"fTheta\":30,\"fPhi\":30,\"fAspectRatio\":0,\"fNumber\":0,\"fTickx\":0,\"fTicky\":0,\"fLogx\":0,\"fLogy\":1,\"fLogz\":0,\"fPadPaint\":0,\"fCrosshair\":0,\"fCrosshairPos\":0,\"fBorderSize\":2,\"fBorderMode\":0,\"fModified\":false,\"fGridx\":false,\"fGridy\":false,\"fAbsCoord\":false,\"fEditable\":true,\"fFixedAspectRatio\":false,\"fPrimitives\":{\"_typename\":\"TList\",\"name\":\"TList\",\"arr\":[],\"opt\":[]},\"fExecs\":null,\"fName\":\"Canvas\",\"fTitle\":\"cz\",\"fNumPaletteColor\":0,\"fNextPaletteColor\":0,\"fDISPLAY\":\"$DISPLAY\",\"fDoubleBuffer\":0,\"fRetained\":true,\"fXsizeUser\":0,\"fYsizeUser\":0,\"fXsizeReal\":20,\"fYsizeReal\":15,\"fWindowTopX\":0,\"fWindowTopY\":0,\"fWindowWidth\":0,\"fWindowHeight\":0,\"fCw\":796,\"fCh\":572,\"fCatt\":{\"_typename\":\"TAttCanvas\",\"fXBetween\":2,\"fYBetween\":2,\"fTitleFromTop\":1.2,\"fXdate\":0.2,\"fYdate\":0.3,\"fAdate\":1},\"kMoveOpaque\":true,\"kResizeOpaque\":true,\"fHighLightColor\":2,\"fBatch\":true,\"kShowEventStatus\":false,\"kAutoExec\":true,\"kMenuBar\":true},\"fActive\":false,\"fReadOnly\":true,\"fWithoutPrimitives\":false,\"fHasExecs\":false,\"fPrimitives\":[{\"_typename\":\"TWebSnapshot\",\"fUniqueID\":0,\"fBits\":0,\"fObjectID\":\"\",\"fOption\":\"\",\"fKind\":4,\"fSnapshot\":{\"_typename\":\"TWebPainting\",\"fUniqueID\":0,\"fBits\":0,\"fOper\":\"0:255,255,255;1:0,0,0;2:255,0,0;3:0,255,0;4:0,0,255;5:255,255,0;6:255,0,255;7:0,255,255;8:89,211,84;9:89,84,216;10:254,254,254;11:192,182,172;12:76,76,76;13:102,102,102;14:127,127,127;15:153,153,153;16:178,178,178;17:204,204,204;18:229,229,229;19:242,242,242;20:204,198,170;21:204,198,170;22:193,191,168;23:186,181,163;24:178,165,150;25:183,163,155;26:173,153,140;27:155,142,130;28:135,102,86;29:175,206,198;30:132,193,163;31:137,168,160;32:130,158,140;33:173,188,198;34:122,142,153;35:117,137,145;36:104,130,150;37:109,122,132;38:124,153,209;39:127,127,155;40:170,165,191;41:211,206,135;42:221,186,135;43:188,158,130;44:198,153,124;45:191,130,119;46:206,94,96;47:170,142,147;48:165,119,122;49:147,104,112;50:211,89,84;51:146,0,255;52:122,0,255;53:98,0,255;54:74,0,255;55:51,0,255;56:27,0,255;57:3,0,255;58:0,20,255;59:0,44,255;60:0,68,255;61:0,91,255;62:0,115,255;63:0,139,255;64:0,163,255;65:0,187,255;66:0,210,255;67:0,234,255;68:0,255,251;69:0,255,227;70:0,255,204;71:0,255,180;72:0,255,156;73:0,255,132;74:0,255,108;75:0,255,85;76:0,255,61;77:0,255,37;78:0,255,13;79:10,255,0;80:34,255,0;81:57,255,0;82:81,255,0;83:105,255,0;84:129,255,0;85:153,255,0;86:176,255,0;87:200,255,0;88:224,255,0;89:248,255,0;90:255,238,0;91:255,214,0;92:255,190,0;93:255,166,0;94:255,142,0;95:255,119,0;96:255,95,0;97:255,71,0;98:255,47,0;99:255,23,0;100:111,45,168;101:165,42,42;102:178,190,181;103:87,144,252;104:248,156,32;105:228,37,54;106:150,74,139;107:156,156,161;108:122,33,221;109:24,69,251;110:255,94,2;111:201,31,22;112:200,73,169;113:173,173,125;114:134,200,221;115:87,141,255;116:101,99,100;117:63,144,218;118:255,169,14;119:189,31,1;120:148,164,162;121:131,45,182;122:169,107,89;123:231,99,0;124:185,172,112;125:113,117,129;126:146,218,221;127:178,178,178;201:91,91,91;202:122,122,122;203:183,183,183;204:214,214,214;205:137,15,15;206:183,20,20;207:234,71,71;208:239,117,117;209:15,137,15;210:20,183,20;211:71,234,71;212:117,239,117;213:15,15,137;214:20,20,183;215:71,71,234;216:117,117,239;217:137,137,15;218:183,183,20;219:234,234,71;220:239,239,117;221:137,15,137;222:183,20,183;223:234,71,234;224:239,117,239;225:15,137,137;226:20,183,183;227:71,234,234;228:117,239,239;390:255,255,204;391:255,255,153;392:204,204,153;393:255,255,102;394:204,204,102;395:153,153,102;396:255,255,51;397:204,204,51;398:153,153,51;399:102,102,51;400:255,255,0;401:204,204,0;402:153,153,0;403:102,102,0;404:51,51,0;406:204,255,204;407:153,255,153;408:153,204,153;409:102,255,102;410:102,204,102;411:102,153,102;412:51,255,51;413:51,204,51;414:51,153,51;415:51,102,51;416:0,255,0;417:0,204,0;418:0,153,0;419:0,102,0;420:0,51,0;422:204,255,255;423:153,255,255;424:153,204,204;425:102,255,255;426:102,204,204;427:102,153,153;428:51,255,255;429:51,204,204;430:51,153,153;431:51,102,102;432:0,255,255;433:0,204,204;434:0,153,153;435:0,102,102;436:0,51,51;590:204,204,255;591:153,153,255;592:153,153,204;593:102,102,255;594:102,102,204;595:102,102,153;596:51,51,255;597:51,51,204;598:51,51,153;599:51,51,102;600:0,0,255;601:0,0,204;602:0,0,153;603:0,0,102;604:0,0,51;606:255,204,255;607:255,153,255;608:204,153,204;609:255,102,255;610:204,102,204;611:153,102,153;612:255,51,255;613:204,51,204;614:153,51,153;615:102,51,102;616:255,0,255;617:204,0,204;618:153,0,153;619:102,0,102;620:51,0,51;622:255,204,204;623:255,153,153;624:204,153,153;625:255,102,102;626:204,102,102;627:153,102,102;628:255,51,51;629:204,51,51;630:153,51,51;631:102,51,51;632:255,0,0;633:204,0,0;634:153,0,0;635:102,0,0;636:51,0,0;791:255,204,153;792:204,153,102;793:153,102,51;794:153,102,0;795:204,153,51;796:255,204,102;797:255,153,0;798:255,204,51;799:204,153,0;800:255,204,0;801:255,153,51;802:204,102,0;803:102,51,0;804:153,51,0;805:204,102,51;806:255,153,102;807:255,102,0;808:255,102,51;809:204,51,0;810:255,51,0;811:153,255,51;812:102,204,0;813:51,102,0;814:51,153,0;815:102,204,51;816:153,255,102;817:102,255,0;818:102,255,51;819:51,204,0;820:51,255,0;821:204,255,153;822:153,204,102;823:102,153,51;824:102,153,0;825:153,204,51;826:204,255,102;827:153,255,0;828:204,255,51;829:153,204,0;830:204,255,0;831:153,255,204;832:102,204,153;833:51,153,102;834:0,153,102;835:51,204,153;836:102,255,204;837:0,255,102;838:51,255,204;839:0,204,153;840:0,255,204;841:51,255,153;842:0,204,102;843:0,102,51;844:0,153,51;845:51,204,102;846:102,255,153;847:0,255,153;848:51,255,102;849:0,204,51;850:0,255,51;851:153,204,255;852:102,153,204;853:51,102,153;854:0,51,153;855:51,102,204;856:102,153,255;857:0,102,255;858:51,102,255;859:0,51,204;860:0,51,255;861:51,153,255;862:0,102,204;863:0,51,102;864:0,102,153;865:51,153,204;866:102,204,255;867:0,153,255;868:51,204,255;869:0,153,204;870:0,204,255;871:204,153,255;872:153,102,204;873:102,51,153;874:102,0,153;875:153,51,204;876:204,102,255;877:153,0,255;878:204,51,255;879:153,0,204;880:204,0,255;881:153,51,255;882:102,0,204;883:51,0,102;884:51,0,153;885:102,51,204;886:153,102,255;887:102,0,255;888:102,51,255;889:51,0,204;890:51,0,255;891:255,51,153;892:204,0,102;893:102,0,51;894:153,0,51;895:204,51,102;896:255,102,153;897:255,0,102;898:255,51,102;899:204,0,51;900:255,0,51;901:255,153,204;902:204,102,153;903:153,51,102;904:153,0,102;905:204,51,153;906:255,102,204;907:255,0,153;908:204,0,153;909:255,51,204;910:255,0,153;920:204,204,204;921:153,153,153;922:102,102,102;923:51,51,51;924:53,42,134;925:51,44,137;926:50,45,140;927:49,47,143;928:48,48,146;929:46,50,148;930:45,51,151;931:44,53,154;932:43,55,157;933:42,56,160;934:40,58,162;935:39,59,165;936:38,61,168;937:37,63,171;938:35,64,174;939:34,66,176;940:33,67,179;941:32,69,182;942:31,71,185;943:29,72,187;944:28,74,190;945:27,75,193;946:26,77,196;947:24,79,199;948:23,80,201;949:22,82,204;950:21,83,207;951:19,85,210;952:18,86,213;953:17,88,215;954:16,90,218;955:15,91,221;956:15,92,221;957:15,94,220;958:15,95,220;959:15,96,220;960:15,97,220;961:15,98,220;962:16,99,219;963:16,100,219;964:16,102,219;965:16,103,219;966:16,104,218;967:16,105,218;968:17,106,218;969:17,107,218;970:17,109,217;971:17,110,217;972:17,111,217;973:17,112,217;974:17,113,216;975:18,114,216;976:18,115,216;977:18,117,216;978:18,118,215;979:18,119,215;980:18,120,215;981:18,121,215;982:19,122,215;983:19,123,214;984:19,125,214;985:19,126,214;986:19,127,214;987:19,128,213;988:19,129,213;989:19,130,213;990:18,131,212;991:18,132,212;992:17,134,211;993:17,135,211;994:16,136,211;995:16,137,210;996:15,138,210;997:15,139,210;998:15,140,209;999:14,141,209;1000:14,142,208;1001:13,143,208;1002:13,145,208;1003:12,146,207;1004:12,147,207;1005:12,148,207;1006:11,149,206;1007:11,150,206;1008:10,151,205;1009:10,152,205;1010:9,153,205;1011:9,154,204;1012:8,155,204;1013:8,157,204;1014:8,158,203;1015:7,159,203;1016:7,160,202;1017:6,161,202;1018:6,162,202;1019:5,163,201;1020:7,164,200;1021:8,164,199;1022:9,165,198;1023:10,166,197;1024:12,166,195;1025:13,167,194;1026:14,167,193;1027:15,168,192;1028:17,169,191;1029:18,169,189;1030:19,170,188;1031:20,170,187;1032:22,171,186;1033:23,172,185;1034:24,172,184;1035:25,173,182;1036:27,173,181;1037:28,174,180;1038:29,175,179;1039:30,175,178;1040:32,176,176;1041:33,176,175;1042:34,177,174;1043:35,178,173;1044:37,178,172;1045:38,179,170;1046:39,180,169;1047:40,180,168;1048:42,181,167;1049:43,181,166;1050:44,182,165;1051:45,183,163;1052:48,183,162;1053:51,183,161;1054:54,183,159;1055:57,184,158;1056:59,184,156;1057:62,184,155;1058:65,184,154;1059:68,185,152;1060:71,185,151;1061:73,185,149;1062:76,185,148;1063:79,186,146;1064:82,186,145;1065:84,186,144;1066:87,186,142;1067:90,187,141;1068:93,187,139;1069:96,187,138;1070:98,187,137;1071:101,188,135;1072:104,188,134;1073:107,188,132;1074:110,188,131;1075:112,189,130;1076:115,189,128;1077:118,189,127;1078:121,189,125;1079:124,190,124;1080:126,190,123;1081:129,190,121;1082:132,190,120;1083:135,191,118;1084:137,190,117;1085:139,190,117;1086:142,190,116;1087:144,190,115;1088:146,190,114;1089:148,190,113;1090:151,190,112;1091:153,190,111;1092:155,189,110;1093:158,189,109;1094:160,189,108;1095:162,189,107;1096:165,189,106;1097:167,189,105;1098:169,189,104;1099:171,188,104;1100:174,188,103;1101:176,188,102;1102:178,188,101;1103:181,188,100;1104:183,188,99;1105:185,188,98;1106:188,188,97;1107:190,187,96;1108:192,187,95;1109:194,187,94;1110:197,187,93;1111:199,187,92;1112:201,187,92;1113:204,187,91;1114:206,186,90;1115:208,186,89;1116:210,187,88;1117:211,187,86;1118:212,188,85;1119:214,188,84;1120:215,188,83;1121:217,189,81;1122:218,189,80;1123:220,190,79;1124:221,190,78;1125:222,191,77;1126:224,191,75;1127:225,191,74;1128:227,192,73;1129:228,192,72;1130:229,193,70;1131:231,193,69;1132:232,194,68;1133:234,194,67;1134:235,194,66;1135:236,195,64;1136:238,195,63;1137:239,196,62;1138:241,196,61;1139:242,197,59;1140:244,197,58;1141:245,197,57;1142:246,198,56;1143:248,198,55;1144:249,199,53;1145:251,199,52;1146:252,200,51;1147:253,200,50;1148:253,202,49;1149:253,203,47;1150:253,205,46;1151:253,206,45;1152:253,208,44;1153:252,209,43;1154:252,211,42;1155:252,213,41;1156:252,214,39;1157:252,216,38;1158:252,217,37;1159:252,219,36;1160:251,220,35;1161:251,222,34;1162:251,224,33;1163:251,225,31;1164:251,227,30;1165:251,228,29;1166:250,230,28;1167:250,231,27;1168:250,233,26;1169:250,235,25;1170:250,236,23;1171:250,238,22;1172:250,239,21;1173:249,241,20;1174:249,242,19;1175:249,244,18;1176:249,246,17;1177:249,247,16;1178:249,249,14\",\"fBuf\":{\"$arr\":\"Float32\",\"len\":255,\"v\":[924,925,926,927,928,929,930,931,932,933,934,935,936,937,938,939,940,941,942,943,944,945,946,947,948,949,950,951,952,953,954,955,956,957,958,959,960,961,962,963,964,965,966,967,968,969,970,971,972,973,974,975,976,977,978,979,980,981,982,983,984,985,986,987,988,989,990,991,992,993,994,995,996,997,998,999,1000,1001,1002,1003,1004,1005,1006,1007,1008,1009,1010,1011,1012,1013,1014,1015,1016,1017,1018,1019,1020,1021,1022,1023,1024,1025,1026,1027,1028,1029,1030,1031,1032,1033,1034,1035,1036,1037,1038,1039,1040,1041,1042,1043,1044,1045,1046,1047,1048,1049,1050,1051,1052,1053,1054,1055,1056,1057,1058,1059,1060,1061,1062,1063,1064,1065,1066,1067,1068,1069,1070,1071,1072,1073,1074,1075,1076,1077,1078,1079,1080,1081,1082,1083,1084,1085,1086,1087,1088,1089,1090,1091,1092,1093,1094,1095,1096,1097,1098,1099,1100,1101,1102,1103,1104,1105,1106,1107,1108,1109,1110,1111,1112,1113,1114,1115,1116,1117,1118,1119,1120,1121,1122,1123,1124,1125,1126,1127,1128,1129,1130,1131,1132,1133,1134,1135,1136,1137,1138,1139,1140,1141,1142,1143,1144,1145,1146,1147,1148,1149,1150,1151,1152,1153,1154,1155,1156,1157,1158,1159,1160,1161,1162,1163,1164,1165,1166,1167,1168,1169,1170,1171,1172,1173,1174,1175,1176,1177,1178]}}},{\"_typename\":\"TWebSnapshot\",\"fUniqueID\":0,\"fBits\":0,\"fObjectID\":\"\",\"fOption\":\"\",\"fKind\":5,\"fSnapshot\":{\"_typename\":\"TStyle\",\"fUniqueID\":0,\"fBits\":0,\"fName\":\"Modern\",\"fTitle\":\"Modern Style\",\"fLineColor\":1,\"fLineStyle\":1,\"fLineWidth\":1,\"fFillColor\":19,\"fFillStyle\":1001,\"fMarkerColor\":1,\"fMarkerStyle\":1,\"fMarkerSize\":1,\"fTextAngle\":0,\"fTextSize\":0.05,\"fTextAlign\":11,\"fTextColor\":1,\"fTextFont\":62,\"fXaxis\":{\"_typename\":\"TAttAxis\",\"fNdivisions\":510,\"fAxisColor\":1,\"fLabelColor\":1,\"fLabelFont\":42,\"fLabelOffset\":0.005,\"fLabelSize\":0.035,\"fTickLength\":0.03,\"fTitleOffset\":1,\"fTitleSize\":0.035,\"fTitleColor\":1,\"fTitleFont\":42},\"fYaxis\":{\"_typename\":\"TAttAxis\",\"fNdivisions\":510,\"fAxisColor\":1,\"fLabelColor\":1,\"fLabelFont\":42,\"fLabelOffset\":0.005,\"fLabelSize\":0.035,\"fTickLength\":0.03,\"fTitleOffset\":0,\"fTitleSize\":0.035,\"fTitleColor\":1,\"fTitleFont\":42},\"fZaxis\":{\"_typename\":\"TAttAxis\",\"fNdivisions\":510,\"fAxisColor\":1,\"fLabelColor\":1,\"fLabelFont\":42,\"fLabelOffset\":0.005,\"fLabelSize\":0.035,\"fTickLength\":0.03,\"fTitleOffset\":1,\"fTitleSize\":0.035,\"fTitleColor\":1,\"fTitleFont\":42},\"fBarWidth\":1,\"fBarOffset\":0,\"fColorModelPS\":0,\"fDrawBorder\":0,\"fOptLogx\":0,\"fOptLogy\":0,\"fOptLogz\":0,\"fOptDate\":0,\"fOptStat\":1111,\"fOptTitle\":1,\"fOptFile\":0,\"fOptFit\":0,\"fShowEventStatus\":0,\"fShowEditor\":0,\"fShowToolBar\":0,\"fNumberContours\":20,\"fAttDate\":{\"_typename\":\"TAttText\",\"fTextAngle\":0,\"fTextSize\":0.025,\"fTextAlign\":11,\"fTextColor\":1,\"fTextFont\":62},\"fDateX\":0.01,\"fDateY\":0.01,\"fEndErrorSize\":2,\"fErrorX\":0.5,\"fFuncColor\":2,\"fFuncStyle\":1,\"fFuncWidth\":2,\"fGridColor\":0,\"fGridStyle\":3,\"fGridWidth\":1,\"fLegendBorderSize\":1,\"fLegendFillColor\":0,\"fLegendFillStyle\":1001,\"fLegendFont\":42,\"fLegendTextSize\":0,\"fHatchesLineWidth\":1,\"fHatchesSpacing\":1,\"fFrameFillColor\":0,\"fFrameLineColor\":1,\"fFrameFillStyle\":1001,\"fFrameLineStyle\":1,\"fFrameLineWidth\":1,\"fFrameBorderSize\":1,\"fFrameBorderMode\":0,\"fHistFillColor\":0,\"fHistLineColor\":602,\"fHistFillStyle\":1001,\"fHistLineStyle\":1,\"fHistLineWidth\":1,\"fHistMinimumZero\":false,\"fHistTopMargin\":0.05,\"fCanvasPreferGL\":false,\"fCanvasColor\":0,\"fCanvasBorderSize\":2,\"fCanvasBorderMode\":0,\"fCanvasDefH\":500,\"fCanvasDefW\":700,\"fCanvasDefX\":10,\"fCanvasDefY\":10,\"fPadColor\":0,\"fPadBorderSize\":2,\"fPadBorderMode\":0,\"fPadBottomMargin\":0.1,\"fPadTopMargin\":0.1,\"fPadLeftMargin\":0.1,\"fPadRightMargin\":0.1,\"fPadGridX\":false,\"fPadGridY\":false,\"fPadTickX\":0,\"fPadTickY\":0,\"fPaperSizeX\":20,\"fPaperSizeY\":26,\"fScreenFactor\":1,\"fStatColor\":0,\"fStatTextColor\":1,\"fStatBorderSize\":1,\"fStatFont\":42,\"fStatFontSize\":0,\"fStatStyle\":1001,\"fStatFormat\":\"6.4g\",\"fStatX\":0.98,\"fStatY\":0.935,\"fStatW\":0.2,\"fStatH\":0.16,\"fStripDecimals\":true,\"fTitleAlign\":23,\"fTitleColor\":0,\"fTitleTextColor\":1,\"fTitleBorderSize\":0,\"fTitleFont\":42,\"fTitleFontSize\":0.05,\"fTitleStyle\":0,\"fTitleX\":0.5,\"fTitleY\":0.995,\"fTitleW\":0,\"fTitleH\":0,\"fLegoInnerR\":0.5,\"fLineStyles\":[\"\",\"  \",\" 12 12\",\" 4 8\",\" 12 16 4 16\",\" 20 12 4 12\",\" 20 12 4 12 4 12 4 12\",\" 20 20\",\" 20 12 4 12 4 12\",\" 80 20\",\" 80 40 4 40\",\"  \",\"  \",\"  \",\"  \",\"  \",\"  \",\"  \",\"  \",\"  \",\"  \",\"  \",\"  \",\"  \",\"  \",\"  \",\"  \",\"  \",\"  \",\"  \"],\"fHeaderPS\":\"\",\"fTitlePS\":\"\",\"fFitFormat\":\"5.4g\",\"fPaintTextFormat\":\"g\",\"fLineScalePS\":3,\"fJoinLinePS\":0,\"fCapLinePS\":0,\"fTimeOffset\":788918400,\"fImageScaling\":1,\"fCandleWhiskerRange\":1,\"fCandleBoxRange\":0.5,\"fCandleScaled\":false,\"fViolinScaled\":true,\"fXAxisExpXOffset\":0,\"fXAxisExpYOffset\":0,\"fYAxisExpXOffset\":0,\"fYAxisExpYOffset\":0,\"fAxisMaxDigits\":5,\"fOrthoCamera\":false}},{\"_typename\":\"TPadWebSnapshot\",\"fUniqueID\":0,\"fBits\":0,\"fObjectID\":\"\",\"fOption\":\"\",\"fKind\":3,\"fSnapshot\":{\"_typename\":\"TPad\",\"fUniqueID\":0,\"fBits\":9,\"fLineColor\":1,\"fLineStyle\":1,\"fLineWidth\":1,\"fFillColor\":0,\"fFillStyle\":1001,\"fLeftMargin\":0.1,\"fRightMargin\":0.1,\"fBottomMargin\":0,\"fTopMargin\":0.1,\"fXfile\":2,\"fYfile\":2,\"fAfile\":1,\"fXstat\":0.99,\"fYstat\":0.99,\"fAstat\":2,\"fFrameFillColor\":0,\"fFrameLineColor\":1,\"fFrameFillStyle\":1001,\"fFrameLineStyle\":1,\"fFrameLineWidth\":1,\"fFrameBorderSize\":1,\"fFrameBorderMode\":0,\"fX1\":92.4999994412064,\"fY1\":1312.07688831808,\"fX2\":167.500000558794,\"fY2\":8789.5887749724,\"fXtoAbsPixelk\":-981.733312773704,\"fXtoPixelk\":-981.733312773704,\"fXtoPixel\":10.6133331751823,\"fYtoAbsPixelk\":470.658074349598,\"fYtoPixelk\":470.658074349598,\"fYtoPixel\":-0.0535472234707676,\"fUtoAbsPixelk\":0,\"fUtoPixelk\":0,\"fUtoPixel\":796,\"fVtoAbsPixelk\":400.4,\"fVtoPixelk\":400.4,\"fVtoPixel\":-400.4,\"fAbsPixeltoXk\":92.4999994412064,\"fPixeltoXk\":92.4999994412064,\"fPixeltoX\":0.0942211069316421,\"fAbsPixeltoYk\":8789.5887749724,\"fPixeltoYk\":1312.07688831808,\"fPixeltoY\":-18.6751046120238,\"fXlowNDC\":0,\"fYlowNDC\":0.3,\"fXUpNDC\":1,\"fYUpNDC\":1,\"fWNDC\":1,\"fHNDC\":0.7,\"fAbsXlowNDC\":0,\"fAbsYlowNDC\":0.3,\"fAbsWNDC\":1,\"fAbsHNDC\":0.7,\"fUxmin\":100,\"fUymin\":1312.07688831808,\"fUxmax\":160,\"fUymax\":8041.83755845107,\"fTheta\":30,\"fPhi\":30,\"fAspectRatio\":0,\"fNumber\":0,\"fTickx\":0,\"fTicky\":0,\"fLogx\":0,\"fLogy\":0,\"fLogz\":0,\"fPadPaint\":0,\"fCrosshair\":0,\"fCrosshairPos\":0,\"fBorderSize\":2,\"fBorderMode\":0,\"fModified\":false,\"fGridx\":false,\"fGridy\":false,\"fAbsCoord\":false,\"fEditable\":true,\"fFixedAspectRatio\":false,\"fPrimitives\":{\"_typename\":\"TList\",\"name\":\"TList\",\"arr\":[],\"opt\":[]},\"fExecs\":{\"_typename\":\"TList\",\"name\":\"TList\",\"arr\":[],\"opt\":[]},\"fName\":\"mainPad\",\"fTitle\":\"mainPad\",\"fNumPaletteColor\":0,\"fNextPaletteColor\":0},\"fActive\":false,\"fReadOnly\":true,\"fWithoutPrimitives\":false,\"fHasExecs\":true,\"fPrimitives\":[{\"_typename\":\"TWebSnapshot\",\"fUniqueID\":0,\"fBits\":0,\"fObjectID\":\"\",\"fOption\":\"\",\"fKind\":1,\"fSnapshot\":{\"_typename\":\"TFrame\",\"fUniqueID\":0,\"fBits\":8,\"fLineColor\":1,\"fLineStyle\":1,\"fLineWidth\":1,\"fFillColor\":0,\"fFillStyle\":1001,\"fX1\":100,\"fY1\":1312.07688831808,\"fX2\":160,\"fY2\":8041.83755845107,\"fBorderSize\":1,\"fBorderMode\":0}},{\"_typename\":\"TWebSnapshot\",\"fUniqueID\":0,\"fBits\":0,\"fObjectID\":\"\",\"fOption\":\"E1\",\"fKind\":1,\"fSnapshot\":{\"_typename\":\"TH1F\",\"fUniqueID\":0,\"fBits\":520,\"fName\":\"h_M_Hyy\",\"fTitle\":\"Diphoton invariant-mass \",\"fLineColor\":1,\"fLineStyle\":1,\"fLineWidth\":1,\"fFillColor\":0,\"fFillStyle\":1001,\"fMarkerColor\":1,\"fMarkerStyle\":20,\"fMarkerSize\":0.8,\"fNcells\":62,\"fXaxis\":{\"_typename\":\"TAxis\",\"fUniqueID\":0,\"fBits\":0,\"fName\":\"xaxis\",\"fTitle\":\" Invariant Mass m_{yy} [GeV] \",\"fNdivisions\":510,\"fAxisColor\":1,\"fLabelColor\":1,\"fLabelFont\":42,\"fLabelOffset\":0.005,\"fLabelSize\":0.035,\"fTickLength\":0.03,\"fTitleOffset\":1,\"fTitleSize\":0.035,\"fTitleColor\":1,\"fTitleFont\":42,\"fNbins\":60,\"fXmin\":100,\"fXmax\":160,\"fXbins\":[],\"fFirst\":0,\"fLast\":0,\"fBits2\":0,\"fTimeDisplay\":false,\"fTimeFormat\":\"\",\"fLabels\":null,\"fModLabs\":null},\"fYaxis\":{\"_typename\":\"TAxis\",\"fUniqueID\":0,\"fBits\":0,\"fName\":\"yaxis\",\"fTitle\":\" events\",\"fNdivisions\":510,\"fAxisColor\":1,\"fLabelColor\":1,\"fLabelFont\":42,\"fLabelOffset\":0.005,\"fLabelSize\":0.035,\"fTickLength\":0.03,\"fTitleOffset\":0,\"fTitleSize\":0.035,\"fTitleColor\":1,\"fTitleFont\":42,\"fNbins\":1,\"fXmin\":0,\"fXmax\":1,\"fXbins\":[],\"fFirst\":0,\"fLast\":0,\"fBits2\":0,\"fTimeDisplay\":false,\"fTimeFormat\":\"\",\"fLabels\":null,\"fModLabs\":null},\"fZaxis\":{\"_typename\":\"TAxis\",\"fUniqueID\":0,\"fBits\":0,\"fName\":\"zaxis\",\"fTitle\":\"\",\"fNdivisions\":510,\"fAxisColor\":1,\"fLabelColor\":1,\"fLabelFont\":42,\"fLabelOffset\":0.005,\"fLabelSize\":0.035,\"fTickLength\":0.03,\"fTitleOffset\":1,\"fTitleSize\":0.035,\"fTitleColor\":1,\"fTitleFont\":42,\"fNbins\":1,\"fXmin\":0,\"fXmax\":1,\"fXbins\":[],\"fFirst\":0,\"fLast\":0,\"fBits2\":0,\"fTimeDisplay\":false,\"fTimeFormat\":\"\",\"fLabels\":null,\"fModLabs\":null},\"fBarOffset\":0,\"fBarWidth\":1000,\"fEntries\":550057,\"fTsumw\":250125,\"fTsumw2\":250125,\"fTsumwx\":30598245.2231081,\"fTsumwx2\":3807579692.85431,\"fMaximum\":-1111,\"fMinimum\":-1111,\"fNormFactor\":0,\"fContour\":[],\"fSumw2\":[],\"fOption\":\"\",\"fFunctions\":{\"_typename\":\"TList\",\"name\":\"TList\",\"arr\":[{\"_typename\":\"TF1\",\"fUniqueID\":0,\"fBits\":1024,\"fName\":\"sigPlusBkg\",\"fTitle\":\"gaus(0) + pol4(3)\",\"fLineColor\":632,\"fLineStyle\":1,\"fLineWidth\":2,\"fFillColor\":19,\"fFillStyle\":0,\"fMarkerColor\":1,\"fMarkerStyle\":1,\"fMarkerSize\":1,\"fXmin\":100,\"fXmax\":160,\"fNpar\":8,\"fNdim\":1,\"fNpx\":100,\"fType\":0,\"fNpfits\":60,\"fNDF\":52,\"fChisquare\":359343.519999808,\"fMinimum\":-1111,\"fMaximum\":-1111,\"fParErrors\":{\"$arr\":\"Float64\",\"len\":8,\"v\":[141.883095590106,0.895994623979181,0.568752313181902,114.916726940433,0.882600963985309,0.00635443607254044,4.30507348875748e-5,2.68586055458536e-7]},\"fParMin\":{\"$arr\":\"Float64\",\"len\":8},\"fParMax\":{\"$arr\":\"Float64\",\"len\":8},\"fSave\":{\"$arr\":\"Float64\",\"len\":103,\"v\":[7773.85889631934,7697.41037956508,7620.3556604099,7542.73083240773,7464.5719977776,7385.9152413901,7306.79660504365,7227.25206205639,7147.31749219871,7067.02865699055,6986.42117538729,6905.53049987676,6824.39189300955,6743.04040438375,6661.51084810445,6579.83778073751,6498.05547977627,6416.19792263885,6334.29876621296,6252.39132696395,6170.50856162135,6088.68304845759,6006.94696917223,5925.33209139371,5843.86975180973,5762.59083993652,5681.52578253618,5600.70452869029,5520.15653553712,5439.91075467871,5359.99561926317,5280.4390317466,5201.26835233807,5122.51038813009,5044.19138291634,4966.33700769706,4888.97235187207,4812.12191512017,4735.80959996296,4660.05870501023,4584.89191888315,4510.3313148109,4436.39834589525,4363.11384103708,4290.49800151806,4218.57039822982,4147.34996954232,4076.85501980261,4007.10321845412,3938.11159976647,3869.89656316478,3802.47387414707,3735.85866577786,3670.06544074534,3605.10807396922,3540.99981574574,3477.75329541585,3415.38052554253,3353.89290658222,3293.30123203557,3233.61569406209,3174.84588954299,3117.00082657641,3060.08893138884,3004.11805564641,2949.09548414948,2895.02794289404,2841.92160748282,2789.78211186962,2738.61455741962,2688.42352226879,2639.2130709655,2590.98676437717,2543.74766984518,2497.49837157107,2452.24098121729,2407.97714870575,2364.70807319765,2322.43451423823,2281.15680305008,2240.87485395914,2201.5881759374,2163.29588424681,2125.996712169,2089.68902280572,2054.3708209352,2020.03976490997,1986.69317858178,1954.32806323994,1922.94110954937,1892.52870947521,1863.08696818119,1834.61171588918,1807.09851968794,1780.54269527917,1754.93931864975,1730.28323765904,1706.5690835308,1683.79128223958,1661.94406578191,1641.02148332288,100,160]},\"fNormalized\":false,\"fNormIntegral\":0,\"fFormula\":{\"_typename\":\"TFormula\",\"fUniqueID\":0,\"fBits\":1024,\"fName\":\"sigPlusBkg\",\"fTitle\":\"gaus(0) + pol4(3)\",\"fClingParameters\":{\"$arr\":\"Float64\",\"len\":8,\"v\":[9920.74146867399,68.6645783171401,43.892753464571,503.495417595955,-2.59194050551486,-0.0321642537148596,-7.09941563228886e-5,2.33163000689394e-6]},\"fAllParametersSetted\":true,\"fParams\":[{\"$pair\":\"pair<TString,int,TFormulaParamOrder>\",\"first\":\"p0\",\"second\":0},{\"$pair\":\"pair<TString,int,TFormulaParamOrder>\",\"first\":\"p1\",\"second\":1},{\"$pair\":\"pair<TString,int,TFormulaParamOrder>\",\"first\":\"p2\",\"second\":2},{\"$pair\":\"pair<TString,int,TFormulaParamOrder>\",\"first\":\"p3\",\"second\":3},{\"$pair\":\"pair<TString,int,TFormulaParamOrder>\",\"first\":\"p4\",\"second\":4},{\"$pair\":\"pair<TString,int,TFormulaParamOrder>\",\"first\":\"p5\",\"second\":5},{\"$pair\":\"pair<TString,int,TFormulaParamOrder>\",\"first\":\"p6\",\"second\":6},{\"$pair\":\"pair<TString,int,TFormulaParamOrder>\",\"first\":\"p7\",\"second\":7}],\"fFormula\":\"[p0]*exp(-0.5*((x-[p1])\\/[p2])*((x-[p1])\\/[p2]))+([p3]+[p4]*x+[p5]*TMath::Sq(x)+[p6]*pow(x,3)+[p7]*pow(x,4))\",\"fNdim\":1,\"fNumber\":0,\"fLinearParts\":[],\"fVectorized\":false},\"fParams\":null,\"fComposition\":null}],\"opt\":[\"\"]},\"fBufferSize\":0,\"fBuffer\":[],\"fBinStatErrOpt\":0,\"fStatOverflows\":2,\"fArray\":{\"$arr\":\"Float32\",\"len\":62,\"v\":[222621,7634,7556,7561,7333,7164,7178,6907,6652,6818,6430,6402,6151,6097,6067,5794,5552,5542,5411,5284,4994,4998,4919,4785,4757,4772,4588,4343,4110,4016,3971,3725,3613,3534,3424,3434,3312,3206,2944,2922,2934,2891,2655,2652,2564,2468,2471,2372,2297,2218,2163,2042,2103,1986,1907,1857,1798,1798,1694,1697,1658,77311]}}},{\"_typename\":\"TWebSnapshot\",\"fUniqueID\":0,\"fBits\":0,\"fObjectID\":\"\",\"fOption\":\"same;prefer_saved\",\"fKind\":1,\"fSnapshot\":{\"_typename\":\"TF1\",\"fUniqueID\":0,\"fBits\":8,\"fName\":\"sigPlusBkg\",\"fTitle\":\"gaus(0) + pol4(3)\",\"fLineColor\":632,\"fLineStyle\":1,\"fLineWidth\":2,\"fFillColor\":19,\"fFillStyle\":0,\"fMarkerColor\":1,\"fMarkerStyle\":1,\"fMarkerSize\":1,\"fXmin\":100,\"fXmax\":160,\"fNpar\":8,\"fNdim\":1,\"fNpx\":100,\"fType\":0,\"fNpfits\":60,\"fNDF\":52,\"fChisquare\":359343.519999808,\"fMinimum\":-1111,\"fMaximum\":-1111,\"fParErrors\":{\"$arr\":\"Float64\",\"len\":8,\"v\":[141.883095590106,0.895994623979181,0.568752313181902,114.916726940433,0.882600963985309,0.00635443607254044,4.30507348875748e-5,2.68586055458536e-7]},\"fParMin\":{\"$arr\":\"Float64\",\"len\":8},\"fParMax\":{\"$arr\":\"Float64\",\"len\":8},\"fSave\":{\"$arr\":\"Float64\",\"len\":102,\"v\":[7735.71266803413,7658.95653995029,7581.61225352289,7503.71590990721,7425.30360588226,7346.41140797887,7267.07532691062,7187.33129233298,7107.2151279552,7026.76252702904,6946.00902823739,6864.98999200527,6783.74057725472,6702.29571862445,6620.69010417408,6538.95815359211,6457.13399692578,6375.25145385004,6293.34401349212,6211.44481482695,6129.58662765811,6047.80183419776,5966.12241125812,5884.57991306627,5803.20545471271,5722.02969624361,5641.08282740529,5560.3945530488,5479.99407920131,5399.91009981023,5320.17078416481,5240.8037649992,5161.83612727996,5083.29439768001,5005.20453474013,4927.59191971829,4850.48134812604,4773.89702195043,4697.86254255901,4622.40090428467,4547.53448868612,4473.28505947925,4399.67375813344,4326.72110012661,4254.4469718516,4182.87062816605,4112.0106905771,4041.88514605168,3972.51134644236,3903.90600851831,3836.08521459012,3769.06441371685,3702.85842348297,3637.48143233257,3572.94700244746,3509.26807315554,3446.4569648554,3384.5253834425,3323.48442522219,3263.34458229432,3204.11574839401,3145.80722517263,3088.4277289032,3031.98539759376,2976.48779849243,2921.94193596745,2868.35425974556,2815.73067349186,2764.07654371419,2713.39670897517,2663.6954893948,2614.97669642674,2567.24364289117,2520.49915324747,2474.7455740898,2429.9847848488,2386.21820868285,2343.44682354242,2301.67117339109,2260.89137956722,2221.10715227025,2182.31780215593,2144.52225202507,2107.71904859046,2071.90637430713,2037.0820592512,2003.24359303304,1970.38813673059,1938.51253482924,1907.6133271548,1877.68676078652,1848.72880193769,1820.73514779115,1793.70123827823,1767.62226778926,1742.49319680465,1718.30876343585,1695.06349486567,1672.75171867835,1651.36757406951,100.3,159.7]},\"fNormalized\":false,\"fNormIntegral\":0,\"fFormula\":{\"_typename\":\"TFormula\",\"fUniqueID\":0,\"fBits\":1024,\"fName\":\"sigPlusBkg\",\"fTitle\":\"gaus(0) + pol4(3)\",\"fClingParameters\":{\"$arr\":\"Float64\",\"len\":8,\"v\":[9920.74146867399,68.6645783171401,43.892753464571,503.495417595955,-2.59194050551486,-0.0321642537148596,-7.09941563228886e-5,2.33163000689394e-6]},\"fAllParametersSetted\":true,\"fParams\":[{\"$pair\":\"pair<TString,int,TFormulaParamOrder>\",\"first\":\"p0\",\"second\":0},{\"$pair\":\"pair<TString,int,TFormulaParamOrder>\",\"first\":\"p1\",\"second\":1},{\"$pair\":\"pair<TString,int,TFormulaParamOrder>\",\"first\":\"p2\",\"second\":2},{\"$pair\":\"pair<TString,int,TFormulaParamOrder>\",\"first\":\"p3\",\"second\":3},{\"$pair\":\"pair<TString,int,TFormulaParamOrder>\",\"first\":\"p4\",\"second\":4},{\"$pair\":\"pair<TString,int,TFormulaParamOrder>\",\"first\":\"p5\",\"second\":5},{\"$pair\":\"pair<TString,int,TFormulaParamOrder>\",\"first\":\"p6\",\"second\":6},{\"$pair\":\"pair<TString,int,TFormulaParamOrder>\",\"first\":\"p7\",\"second\":7}],\"fFormula\":\"[p0]*exp(-0.5*((x-[p1])\\/[p2])*((x-[p1])\\/[p2]))+([p3]+[p4]*x+[p5]*TMath::Sq(x)+[p6]*pow(x,3)+[p7]*pow(x,4))\",\"fNdim\":1,\"fNumber\":0,\"fLinearParts\":[],\"fVectorized\":false},\"fParams\":null,\"fComposition\":null}},{\"_typename\":\"TWebSnapshot\",\"fUniqueID\":0,\"fBits\":0,\"fObjectID\":\"\",\"fOption\":\"same;prefer_saved\",\"fKind\":1,\"fSnapshot\":{\"_typename\":\"TF1\",\"fUniqueID\":0,\"fBits\":8,\"fName\":\"bkgOnly\",\"fTitle\":\"pol4\",\"fLineColor\":632,\"fLineStyle\":2,\"fLineWidth\":2,\"fFillColor\":19,\"fFillStyle\":0,\"fMarkerColor\":1,\"fMarkerStyle\":1,\"fMarkerSize\":1,\"fXmin\":100,\"fXmax\":160,\"fNpar\":5,\"fNdim\":1,\"fNpx\":100,\"fType\":0,\"fNpfits\":0,\"fNDF\":0,\"fChisquare\":0,\"fMinimum\":-1111,\"fMaximum\":-1111,\"fParErrors\":[0,0,0,0,0],\"fParMin\":[0,0,0,0,0],\"fParMax\":[0,0,0,0,0],\"fSave\":{\"$arr\":\"Float64\",\"len\":102,\"v\":[84.2870479498304,83.2530302140337,82.282929720146,81.3778776813403,80.5390125630913,79.7674800831763,79.0644332116738,78.4310321709647,77.868444435732,77.3778447329601,76.9604150419361,76.6173445942483,76.3498298737878,76.1590746167471,76.0462898116207,76.0126936992054,76.0595117725998,76.1879767772043,76.3993287107214,76.6948148231558,77.0756896168139,77.543214846304,78.0986595185369,78.7432998927245,79.4784194803814,80.305309045324,81.2252666036706,82.2395974238414,83.3496140265588,84.5566361848468,85.8619909240319,87.2670125217421,88.7730425079075,90.3814296647604,92.0935300268348,93.9107068809669,95.8343307662945,97.865779474258,100.006438048599,102.257698785362,104.620961232892,107.097632191838,109.689125715149,112.396863108077,115.222272928177,118.166790985303,121.231860341615,124.41893131157,127.729461461932,131.164915611764,134.726765832431,138.416491447602,142.235579033245,146.185522417632,150.267822681338,154.483988157238,158.835534430508,163.323984338629,167.950867971382,172.71772267085,177.62609303142,182.677530899777,187.873595374913,193.215852808117,198.705876802983,204.345248215407,210.135555153586,216.078392978019,222.175364301507,228.428078989154,234.838154158364,241.407214178845,248.136890672605,255.028822513956,262.084655829511,269.306043998185,276.694647651196,284.25213467206,291.980180196601,299.88046661294,307.954683561503,316.204527935016,324.631703878509,333.237922789311,342.024903317056,350.994371363679,360.148060083416,369.487709882806,379.01506842069,388.73189060821,398.639938608811,408.74098183824,419.036796964544,429.529167908075,440.219885841485,451.11074918973,462.203563630063,473.500142092046,485.002304757537,496.711879060699,100.3,159.7]},\"fNormalized\":false,\"fNormIntegral\":0,\"fFormula\":{\"_typename\":\"TFormula\",\"fUniqueID\":0,\"fBits\":66560,\"fName\":\"bkgOnly\",\"fTitle\":\"pol4\",\"fClingParameters\":[503.495417595955,-2.59194050551486,-0.0321642537148596,-7.09941563228886e-5,2.33163000689394e-6],\"fAllParametersSetted\":true,\"fParams\":[{\"$pair\":\"pair<TString,int,TFormulaParamOrder>\",\"first\":\"p0\",\"second\":0},{\"$pair\":\"pair<TString,int,TFormulaParamOrder>\",\"first\":\"p1\",\"second\":1},{\"$pair\":\"pair<TString,int,TFormulaParamOrder>\",\"first\":\"p2\",\"second\":2},{\"$pair\":\"pair<TString,int,TFormulaParamOrder>\",\"first\":\"p3\",\"second\":3},{\"$pair\":\"pair<TString,int,TFormulaParamOrder>\",\"first\":\"p4\",\"second\":4}],\"fFormula\":\"([p0]+[p1]*x+[p2]*TMath::Sq(x)+[p3]*pow(x,3)+[p4]*pow(x,4))\",\"fNdim\":1,\"fNumber\":304,\"fLinearParts\":[],\"fVectorized\":false},\"fParams\":null,\"fComposition\":null}},{\"_typename\":\"TWebSnapshot\",\"fUniqueID\":0,\"fBits\":0,\"fObjectID\":\"\",\"fOption\":\"\",\"fKind\":1,\"fSnapshot\":{\"_typename\":\"TLegend\",\"fUniqueID\":0,\"fBits\":8,\"fLineColor\":1,\"fLineStyle\":1,\"fLineWidth\":1,\"fFillColor\":0,\"fFillStyle\":1001,\"fX1\":133.750000055879,\"fY1\":6172.45961464339,\"fX2\":160.000000447035,\"fY2\":7667.96199197425,\"fX1NDC\":0.55,\"fY1NDC\":0.65,\"fX2NDC\":0.9,\"fY2NDC\":0.85,\"fBorderSize\":1,\"fInit\":1,\"fShadowColor\":1,\"fCornerRadius\":0,\"fOption\":\"brNDC\",\"fName\":\"TPave\",\"fTextAngle\":0,\"fTextSize\":0,\"fTextAlign\":12,\"fTextColor\":1,\"fTextFont\":42,\"fPrimitives\":{\"_typename\":\"TList\",\"name\":\"TList\",\"arr\":[{\"_typename\":\"TLegendEntry\",\"fUniqueID\":0,\"fBits\":0,\"fTextAngle\":0,\"fTextSize\":0,\"fTextAlign\":0,\"fTextColor\":0,\"fTextFont\":42,\"fLineColor\":1,\"fLineStyle\":1,\"fLineWidth\":1,\"fFillColor\":0,\"fFillStyle\":0,\"fMarkerColor\":1,\"fMarkerStyle\":20,\"fMarkerSize\":0.8,\"fObject\":{\"$ref\":19},\"fLabel\":\"Data\",\"fOption\":\"lep\"},{\"_typename\":\"TLegendEntry\",\"fUniqueID\":0,\"fBits\":0,\"fTextAngle\":0,\"fTextSize\":0,\"fTextAlign\":0,\"fTextColor\":0,\"fTextFont\":42,\"fLineColor\":632,\"fLineStyle\":1,\"fLineWidth\":2,\"fFillColor\":0,\"fFillStyle\":0,\"fMarkerColor\":1,\"fMarkerStyle\":21,\"fMarkerSize\":1,\"fObject\":{\"$ref\":27},\"fLabel\":\"Sig+Bkg Fit (m_{H}=125 GeV)\",\"fOption\":\"l\"},{\"_typename\":\"TLegendEntry\",\"fUniqueID\":0,\"fBits\":0,\"fTextAngle\":0,\"fTextSize\":0,\"fTextAlign\":0,\"fTextColor\":0,\"fTextFont\":42,\"fLineColor\":632,\"fLineStyle\":2,\"fLineWidth\":2,\"fFillColor\":0,\"fFillStyle\":0,\"fMarkerColor\":1,\"fMarkerStyle\":21,\"fMarkerSize\":1,\"fObject\":{\"$ref\":30},\"fLabel\":\"Bkg (4th order polynomial)\",\"fOption\":\"l\"}],\"opt\":[\"lep\",\"l\",\"l\"]},\"fEntrySeparation\":0.1,\"fMargin\":0.25,\"fNColumns\":1,\"fColumnSeparation\":0}},{\"_typename\":\"TWebSnapshot\",\"fUniqueID\":0,\"fBits\":0,\"fObjectID\":\"\",\"fOption\":\"\",\"fKind\":1,\"fSnapshot\":{\"_typename\":\"TLatex\",\"fUniqueID\":0,\"fBits\":16393,\"fName\":\"\",\"fTitle\":\"ATLAS Open Data\",\"fTextAngle\":0,\"fTextSize\":0.04,\"fTextAlign\":11,\"fTextColor\":1,\"fTextFont\":62,\"fX\":0.2,\"fY\":0.85,\"fLineColor\":1,\"fLineStyle\":1,\"fLineWidth\":2,\"fLimitFactorSize\":3,\"fOriginSize\":0.04}},{\"_typename\":\"TWebSnapshot\",\"fUniqueID\":0,\"fBits\":0,\"fObjectID\":\"\",\"fOption\":\"\",\"fKind\":1,\"fSnapshot\":{\"_typename\":\"TLatex\",\"fUniqueID\":0,\"fBits\":16393,\"fName\":\"\",\"fTitle\":\"#sqrt{s}=13 TeV, #int L dt = 36 fb^{-1}\",\"fTextAngle\":0,\"fTextSize\":0.04,\"fTextAlign\":11,\"fTextColor\":1,\"fTextFont\":62,\"fX\":0.2,\"fY\":0.8,\"fLineColor\":1,\"fLineStyle\":1,\"fLineWidth\":2,\"fLimitFactorSize\":3,\"fOriginSize\":0.04}},{\"_typename\":\"TWebSnapshot\",\"fUniqueID\":0,\"fBits\":0,\"fObjectID\":\"\",\"fOption\":\"\",\"fKind\":1,\"fSnapshot\":{\"_typename\":\"TLatex\",\"fUniqueID\":0,\"fBits\":16393,\"fName\":\"\",\"fTitle\":\"H #rightarrow #gamma#gamma\",\"fTextAngle\":0,\"fTextSize\":0.04,\"fTextAlign\":11,\"fTextColor\":1,\"fTextFont\":62,\"fX\":0.2,\"fY\":0.75,\"fLineColor\":1,\"fLineStyle\":1,\"fLineWidth\":2,\"fLimitFactorSize\":3,\"fOriginSize\":0.04}},{\"_typename\":\"TWebSnapshot\",\"fUniqueID\":0,\"fBits\":0,\"fObjectID\":\"\",\"fOption\":\"blNDC\",\"fKind\":1,\"fSnapshot\":{\"_typename\":\"TPaveText\",\"fUniqueID\":0,\"fBits\":9,\"fLineColor\":1,\"fLineStyle\":1,\"fLineWidth\":1,\"fFillColor\":0,\"fFillStyle\":0,\"fX1\":117.425251068903,\"fY1\":8281.58861497169,\"fX2\":142.574748931097,\"fY2\":8752.20125119469,\"fX1NDC\":0.332336683417085,\"fY1NDC\":0.932062941831309,\"fX2NDC\":0.667663316582915,\"fY2NDC\":0.995000004768372,\"fBorderSize\":0,\"fInit\":1,\"fShadowColor\":1,\"fCornerRadius\":0,\"fOption\":\"blNDC\",\"fName\":\"title\",\"fTextAngle\":0,\"fTextSize\":0,\"fTextAlign\":22,\"fTextColor\":1,\"fTextFont\":42,\"fLabel\":\"\",\"fLongest\":24,\"fMargin\":0.05,\"fLines\":{\"_typename\":\"TList\",\"name\":\"TList\",\"arr\":[{\"_typename\":\"TLatex\",\"fUniqueID\":0,\"fBits\":0,\"fName\":\"\",\"fTitle\":\"Diphoton invariant-mass \",\"fTextAngle\":0,\"fTextSize\":0,\"fTextAlign\":0,\"fTextColor\":0,\"fTextFont\":0,\"fX\":0,\"fY\":0,\"fLineColor\":1,\"fLineStyle\":1,\"fLineWidth\":2,\"fLimitFactorSize\":3,\"fOriginSize\":0.0534965023398399}],\"opt\":[\"\"]}}}]},{\"_typename\":\"TPadWebSnapshot\",\"fUniqueID\":0,\"fBits\":0,\"fObjectID\":\"\",\"fOption\":\"\",\"fKind\":3,\"fSnapshot\":{\"_typename\":\"TPad\",\"fUniqueID\":0,\"fBits\":9,\"fLineColor\":1,\"fLineStyle\":1,\"fLineWidth\":1,\"fFillColor\":0,\"fFillStyle\":1001,\"fLeftMargin\":0.1,\"fRightMargin\":0.1,\"fBottomMargin\":0.3,\"fTopMargin\":0,\"fXfile\":2,\"fYfile\":2,\"fAfile\":1,\"fXstat\":0.99,\"fYstat\":0.99,\"fAstat\":2,\"fFrameFillColor\":0,\"fFrameLineColor\":1,\"fFrameFillStyle\":1001,\"fFrameLineStyle\":1,\"fFrameLineWidth\":1,\"fFrameBorderSize\":1,\"fFrameBorderMode\":0,\"fX1\":92.4999994412064,\"fY1\":-1572.10641974911,\"fX2\":167.500000558794,\"fY2\":8041.83755845107,\"fXtoAbsPixelk\":-981.733312773704,\"fXtoPixelk\":-981.733312773704,\"fXtoPixel\":10.6133331751823,\"fYtoAbsPixelk\":520.016129807508,\"fYtoPixelk\":119.616129807508,\"fYtoPixel\":-0.0148742285501409,\"fUtoAbsPixelk\":0,\"fUtoPixelk\":0,\"fUtoPixel\":796,\"fVtoAbsPixelk\":543.4,\"fVtoPixelk\":143,\"fVtoPixel\":-143,\"fAbsPixeltoXk\":92.4999994412064,\"fPixeltoXk\":92.4999994412064,\"fPixeltoX\":0.0942211069316421,\"fAbsPixeltoYk\":34960.8806974116,\"fPixeltoYk\":-1572.10641974911,\"fPixeltoY\":-67.2303774699313,\"fXlowNDC\":0,\"fYlowNDC\":0.05,\"fXUpNDC\":1,\"fYUpNDC\":0.3,\"fWNDC\":1,\"fHNDC\":0.25,\"fAbsXlowNDC\":0,\"fAbsYlowNDC\":0.05,\"fAbsWNDC\":1,\"fAbsHNDC\":0.25,\"fUxmin\":100,\"fUymin\":1312.07688831808,\"fUxmax\":160,\"fUymax\":8041.83755845107,\"fTheta\":30,\"fPhi\":30,\"fAspectRatio\":0,\"fNumber\":0,\"fTickx\":0,\"fTicky\":0,\"fLogx\":0,\"fLogy\":0,\"fLogz\":0,\"fPadPaint\":0,\"fCrosshair\":0,\"fCrosshairPos\":0,\"fBorderSize\":2,\"fBorderMode\":0,\"fModified\":false,\"fGridx\":false,\"fGridy\":false,\"fAbsCoord\":false,\"fEditable\":true,\"fFixedAspectRatio\":false,\"fPrimitives\":{\"_typename\":\"TList\",\"name\":\"TList\",\"arr\":[],\"opt\":[]},\"fExecs\":{\"_typename\":\"TList\",\"name\":\"TList\",\"arr\":[],\"opt\":[]},\"fName\":\"residPad\",\"fTitle\":\"residPad\",\"fNumPaletteColor\":0,\"fNextPaletteColor\":0},\"fActive\":false,\"fReadOnly\":true,\"fWithoutPrimitives\":false,\"fHasExecs\":true,\"fPrimitives\":[{\"_typename\":\"TWebSnapshot\",\"fUniqueID\":0,\"fBits\":0,\"fObjectID\":\"\",\"fOption\":\"\",\"fKind\":1,\"fSnapshot\":{\"_typename\":\"TFrame\",\"fUniqueID\":0,\"fBits\":8,\"fLineColor\":1,\"fLineStyle\":1,\"fLineWidth\":1,\"fFillColor\":0,\"fFillStyle\":1001,\"fX1\":100,\"fY1\":1312.07688831808,\"fX2\":160,\"fY2\":8041.83755845107,\"fBorderSize\":1,\"fBorderMode\":0}},{\"_typename\":\"TWebSnapshot\",\"fUniqueID\":0,\"fBits\":0,\"fObjectID\":\"\",\"fOption\":\"E3\",\"fKind\":1,\"fSnapshot\":{\"$ref\":19}},{\"_typename\":\"TWebSnapshot\",\"fUniqueID\":0,\"fBits\":0,\"fObjectID\":\"\",\"fOption\":\"blNDC\",\"fKind\":1,\"fSnapshot\":{\"_typename\":\"TPaveText\",\"fUniqueID\":0,\"fBits\":9,\"fLineColor\":1,\"fLineStyle\":1,\"fLineWidth\":1,\"fFillColor\":0,\"fFillStyle\":0,\"fX1\":125.339824051161,\"fY1\":7348.35626069158,\"fX2\":134.660175948839,\"fY2\":7993.76788440292,\"fX1NDC\":0.43786432160804,\"fY1NDC\":0.927867137635505,\"fX2NDC\":0.56213567839196,\"fY2NDC\":0.995000004768372,\"fBorderSize\":0,\"fInit\":1,\"fShadowColor\":1,\"fCornerRadius\":0,\"fOption\":\"blNDC\",\"fName\":\"title\",\"fTextAngle\":0,\"fTextSize\":0,\"fTextAlign\":22,\"fTextColor\":1,\"fTextFont\":42,\"fLabel\":\"\",\"fLongest\":24,\"fMargin\":0.05,\"fLines\":{\"_typename\":\"TList\",\"name\":\"TList\",\"arr\":[{\"_typename\":\"TLatex\",\"fUniqueID\":0,\"fBits\":0,\"fName\":\"\",\"fTitle\":\"Diphoton invariant-mass \",\"fTextAngle\":0,\"fTextSize\":0,\"fTextAlign\":0,\"fTextColor\":0,\"fTextFont\":0,\"fX\":0,\"fY\":0,\"fLineColor\":1,\"fLineStyle\":1,\"fLineWidth\":2,\"fLimitFactorSize\":3,\"fOriginSize\":0.0570629388093948}],\"opt\":[\"\"]}}}]}],\"fScripts\":\"\",\"fHighlightConnect\":false,\"fFixedSize\":false});\n",
       "   Core.settings.HandleKeys = false;\n",
       "   Core.draw(\"root_plot_1756871407979\", obj, \"\");\n",
       "}\n",
       "\n",
       "function script_load_root_plot_1756871407979(src, on_error) {\n",
       "    let script = document.createElement('script');\n",
       "    script.src = src;\n",
       "    script.onload = function() { display_root_plot_1756871407979(JSROOT); };\n",
       "    script.onerror = function() { script.remove(); on_error(); };\n",
       "    document.head.appendChild(script);\n",
       "}\n",
       "\n",
       "if (typeof requirejs !== 'undefined') {\n",
       "\n",
       "    // We are in jupyter notebooks, use require.js which should be configured already\n",
       "    requirejs.config({\n",
       "       paths: { 'JSRootCore' : [ 'build/jsroot', 'https://root.cern/js/7.7.4/build/jsroot', 'https://jsroot.gsi.de/7.7.4/build/jsroot' ] }\n",
       "    })(['JSRootCore'],  function(Core) {\n",
       "       display_root_plot_1756871407979(Core);\n",
       "    });\n",
       "\n",
       "} else if (typeof JSROOT !== 'undefined') {\n",
       "\n",
       "   // JSROOT already loaded, just use it\n",
       "   display_root_plot_1756871407979(JSROOT);\n",
       "\n",
       "} else {\n",
       "\n",
       "    // We are in jupyterlab without require.js, directly loading jsroot\n",
       "    // Jupyterlab might be installed in a different base_url so we need to know it.\n",
       "    try {\n",
       "        var base_url = JSON.parse(document.getElementById('jupyter-config-data').innerHTML).baseUrl;\n",
       "    } catch(_) {\n",
       "        var base_url = '/';\n",
       "    }\n",
       "\n",
       "    // Try loading a local version of requirejs and fallback to cdn if not possible.\n",
       "    script_load_root_plot_1756871407979(base_url + 'static/build/jsroot.js', function(){\n",
       "        console.error('Fail to load JSROOT locally, please check your jupyter_notebook_config.py file');\n",
       "        script_load_root_plot_1756871407979('https://root.cern/js/7.7.4/build/jsroot.js', function(){\n",
       "            document.getElementById(\"root_plot_1756871407979\").innerHTML = \"Failed to load JSROOT\";\n",
       "        });\n",
       "    });\n",
       "}\n",
       "\n",
       "</script>\n"
      ],
      "text/plain": [
       "<IPython.core.display.HTML object>"
      ]
     },
     "metadata": {},
     "output_type": "display_data"
    }
   ],
   "source": [
    "hist.Draw(\"E3\")\n",
    "canvas.SetLogy()\n",
    "canvas.Draw()"
   ]
  },
  {
   "cell_type": "code",
   "execution_count": 19,
   "metadata": {},
   "outputs": [
    {
     "name": "stdout",
     "output_type": "stream",
     "text": [
      "Finished in 16 min 3 s\n"
     ]
    }
   ],
   "source": [
    "end = time.time()\n",
    "duration = end-start\n",
    "print(\"Finished in {} min {} s\".format(int(duration//60),int(duration%60))) # Python3"
   ]
  },
  {
   "cell_type": "markdown",
   "metadata": {},
   "source": [
    "**Done!**"
   ]
  }
 ],
 "metadata": {
  "@webio": {
   "lastCommId": null,
   "lastKernelId": null
  },
  "kernelspec": {
   "display_name": "Python 3",
   "language": "python",
   "name": "python3"
  },
  "language_info": {
   "codemirror_mode": {
    "name": "ipython",
    "version": 3
   },
   "file_extension": ".py",
   "mimetype": "text/x-python",
   "name": "python",
   "nbconvert_exporter": "python",
   "pygments_lexer": "ipython3",
   "version": "3.11.9"
  }
 },
 "nbformat": 4,
 "nbformat_minor": 1
}
