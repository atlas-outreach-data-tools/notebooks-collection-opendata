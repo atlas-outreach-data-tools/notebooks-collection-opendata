{
 "cells": [
  {
   "cell_type": "markdown",
   "metadata": {},
   "source": [
    "<CENTER>\n",
    "    <a href=\"http://opendata.atlas.cern/release/2020/documentation/notebooks/intro.html\" class=\"icons\"><img src=\"../../images/ATLASOD.gif\" style=\"width:40%\"></a>\n",
    "</CENTER>"
   ]
  },
  {
   "cell_type": "markdown",
   "metadata": {},
   "source": [
    "<CENTER><h1>Searching for the Higgs boson in the H&#8594;&gamma;&gamma; channel</h1></CENTER>\n",
    "\n",
    "\n",
    "SM Higgs signal Feynman diagram:\n",
    "<CENTER><img src=\"../../images/Figures_FeynmanHprod.png\" style=\"width:30%\"></CENTER>"
   ]
  },
  {
   "cell_type": "markdown",
   "metadata": {},
   "source": [
    "**Introduction**\n",
    "Let's take a current ATLAS Open Data sample and create a histogram:"
   ]
  },
  {
   "cell_type": "code",
   "execution_count": 1,
   "metadata": {},
   "outputs": [],
   "source": [
    "import ROOT\n",
    "from ROOT import TMath\n",
    "import time"
   ]
  },
  {
   "cell_type": "code",
   "execution_count": 2,
   "metadata": {},
   "outputs": [],
   "source": [
    "%jsroot on"
   ]
  },
  {
   "cell_type": "code",
   "execution_count": 3,
   "metadata": {},
   "outputs": [
    {
     "name": "stdout",
     "output_type": "stream",
     "text": [
      "Collecting atlasopenmagic\n",
      "  Using cached atlasopenmagic-1.6.0-py3-none-any.whl.metadata (5.2 kB)\n",
      "Requirement already satisfied: pyyaml in /cvmfs/sft.cern.ch/lcg/views/LCG_107_swan/x86_64-el9-gcc13-opt/lib/python3.11/site-packages (from atlasopenmagic) (6.0.1)\n",
      "Requirement already satisfied: requests in /cvmfs/sft.cern.ch/lcg/views/LCG_107_swan/x86_64-el9-gcc13-opt/lib/python3.11/site-packages (from atlasopenmagic) (2.31.0)\n",
      "Requirement already satisfied: charset_normalizer<4,>=2 in /cvmfs/sft.cern.ch/lcg/views/LCG_107_swan/x86_64-el9-gcc13-opt/lib/python3.11/site-packages (from requests->atlasopenmagic) (2.0.6)\n",
      "Requirement already satisfied: idna<4,>=2.5 in /cvmfs/sft.cern.ch/lcg/views/LCG_107_swan/x86_64-el9-gcc13-opt/lib/python3.11/site-packages (from requests->atlasopenmagic) (3.2)\n",
      "Requirement already satisfied: urllib3<3,>=1.21.1 in /cvmfs/sft.cern.ch/lcg/views/LCG_107_swan/x86_64-el9-gcc13-opt/lib/python3.11/site-packages (from requests->atlasopenmagic) (1.26.16)\n",
      "Requirement already satisfied: certifi>=2017.4.17 in /cvmfs/sft.cern.ch/lcg/views/LCG_107_swan/x86_64-el9-gcc13-opt/lib/python3.11/site-packages (from requests->atlasopenmagic) (2022.12.7)\n",
      "Using cached atlasopenmagic-1.6.0-py3-none-any.whl (19 kB)\n",
      "Installing collected packages: atlasopenmagic\n",
      "Successfully installed atlasopenmagic-1.0.1\n",
      "Note: you may need to restart the kernel to use updated packages.\n"
     ]
    }
   ],
   "source": [
    "# install required packages\n",
    "%pip install --user atlasopenmagic"
   ]
  },
  {
   "cell_type": "code",
   "execution_count": 4,
   "metadata": {},
   "outputs": [],
   "source": [
    "# Now we have to do a little bit of work to make sure that atlasopenmagic is available in our python path\n",
    "# This is because SWAN by default does not include the local package installation area in the PYTHONPATH\n",
    "# Again, this is not necessary on binder or colab\n",
    "import sys\n",
    "import os\n",
    "sys.path += [ f'{os.environ[\"HOME\"]}/.local/lib/python{sys.version_info.major}.{sys.version_info.minor}/site-packages' ]\n",
    "\n",
    "# Now we can safely import atlasopenmagic\n",
    "import atlasopenmagic as atom"
   ]
  },
  {
   "cell_type": "code",
   "execution_count": 5,
   "metadata": {},
   "outputs": [
    {
     "name": "stdout",
     "output_type": "stream",
     "text": [
      "Available releases:\n",
      "========================================\n",
      "2016e-8tev           2016 Open Data for education release of 8 TeV proton-proton collisions (https://opendata.cern.ch/record/3860).\n",
      "2020e-13tev          2020 Open Data for education release of 13 TeV proton-proton collisions (https://cern.ch/2r7xt).\n",
      "2024r-pp             2024 Open Data for research release for proton-proton collisions (https://opendata.cern.record/80020).\n",
      "2024r-hi             2024 Open Data for research release for heavy-ion collisions (https://opendata.cern.ch/record/80035).\n",
      "2025e-13tev-beta     2025 Open Data for education and outreach beta release for 13 TeV proton-proton collisions (https://opendata.cern.ch/record/93910).\n",
      "2025r-evgen-13tev    2025 Open Data for research release for event generation at 13 TeV (https://opendata.cern.ch/record/160000).\n",
      "2025r-evgen-13p6tev  2025 Open Data for research release for event generation at 13.6 TeV (https://opendata.cern.ch/record/160000).\n"
     ]
    },
    {
     "data": {
      "text/plain": [
       "{'2016e-8tev': '2016 Open Data for education release of 8 TeV proton-proton collisions (https://opendata.cern.ch/record/3860).',\n",
       " '2020e-13tev': '2020 Open Data for education release of 13 TeV proton-proton collisions (https://cern.ch/2r7xt).',\n",
       " '2024r-pp': '2024 Open Data for research release for proton-proton collisions (https://opendata.cern.record/80020).',\n",
       " '2024r-hi': '2024 Open Data for research release for heavy-ion collisions (https://opendata.cern.ch/record/80035).',\n",
       " '2025e-13tev-beta': '2025 Open Data for education and outreach beta release for 13 TeV proton-proton collisions (https://opendata.cern.ch/record/93910).',\n",
       " '2025r-evgen-13tev': '2025 Open Data for research release for event generation at 13 TeV (https://opendata.cern.ch/record/160000).',\n",
       " '2025r-evgen-13p6tev': '2025 Open Data for research release for event generation at 13.6 TeV (https://opendata.cern.ch/record/160000).'}"
      ]
     },
     "execution_count": 5,
     "metadata": {},
     "output_type": "execute_result"
    }
   ],
   "source": [
    "# Now let's see what releases are available to us\n",
    "atom.available_releases()"
   ]
  },
  {
   "cell_type": "code",
   "execution_count": 6,
   "metadata": {},
   "outputs": [
    {
     "name": "stdout",
     "output_type": "stream",
     "text": [
      "Fetching and caching all metadata for release: 2025e-13tev-beta...\n",
      "Fetched 374 datasets so far...\n",
      "Successfully cached 374 datasets.\n",
      "Active release: 2025e-13tev-beta. (Datasets path: REMOTE)\n"
     ]
    }
   ],
   "source": [
    "# And let's plan to use the latest release of Open Data for Outreach and Education\n",
    "atom.set_release('2025e-13tev-beta')"
   ]
  },
  {
   "cell_type": "code",
   "execution_count": 7,
   "metadata": {},
   "outputs": [],
   "source": [
    "start = time.time()"
   ]
  },
  {
   "cell_type": "code",
   "execution_count": 8,
   "metadata": {},
   "outputs": [
    {
     "name": "stdout",
     "output_type": "stream",
     "text": [
      "16\n",
      "['root://eospublic.cern.ch:1094//eos/opendata/atlas/rucio/opendata/ODEO_FEB2025_v0_GamGam_data15_periodD.GamGam.root', 'root://eospublic.cern.ch:1094//eos/opendata/atlas/rucio/opendata/ODEO_FEB2025_v0_GamGam_data15_periodE.GamGam.root', 'root://eospublic.cern.ch:1094//eos/opendata/atlas/rucio/opendata/ODEO_FEB2025_v0_GamGam_data15_periodF.GamGam.root', 'root://eospublic.cern.ch:1094//eos/opendata/atlas/rucio/opendata/ODEO_FEB2025_v0_GamGam_data15_periodG.GamGam.root', 'root://eospublic.cern.ch:1094//eos/opendata/atlas/rucio/opendata/ODEO_FEB2025_v0_GamGam_data15_periodH.GamGam.root', 'root://eospublic.cern.ch:1094//eos/opendata/atlas/rucio/opendata/ODEO_FEB2025_v0_GamGam_data15_periodJ.GamGam.root', 'root://eospublic.cern.ch:1094//eos/opendata/atlas/rucio/opendata/ODEO_FEB2025_v0_GamGam_data16_periodA.GamGam.root', 'root://eospublic.cern.ch:1094//eos/opendata/atlas/rucio/opendata/ODEO_FEB2025_v0_GamGam_data16_periodB.GamGam.root', 'root://eospublic.cern.ch:1094//eos/opendata/atlas/rucio/opendata/ODEO_FEB2025_v0_GamGam_data16_periodC.GamGam.root', 'root://eospublic.cern.ch:1094//eos/opendata/atlas/rucio/opendata/ODEO_FEB2025_v0_GamGam_data16_periodD.GamGam.root', 'root://eospublic.cern.ch:1094//eos/opendata/atlas/rucio/opendata/ODEO_FEB2025_v0_GamGam_data16_periodE.GamGam.root', 'root://eospublic.cern.ch:1094//eos/opendata/atlas/rucio/opendata/ODEO_FEB2025_v0_GamGam_data16_periodF.GamGam.root', 'root://eospublic.cern.ch:1094//eos/opendata/atlas/rucio/opendata/ODEO_FEB2025_v0_GamGam_data16_periodG.GamGam.root', 'root://eospublic.cern.ch:1094//eos/opendata/atlas/rucio/opendata/ODEO_FEB2025_v0_GamGam_data16_periodI.GamGam.root', 'root://eospublic.cern.ch:1094//eos/opendata/atlas/rucio/opendata/ODEO_FEB2025_v0_GamGam_data16_periodK.GamGam.root', 'root://eospublic.cern.ch:1094//eos/opendata/atlas/rucio/opendata/ODEO_FEB2025_v0_GamGam_data16_periodL.GamGam.root']\n"
     ]
    }
   ],
   "source": [
    "data_chain = ROOT.TChain(\"analysis\")\n",
    "file_paths = atom.get_urls(key='data', skim='GamGam', protocol='root') #cahe=True for https\n",
    "#file_paths = atom.get_urls(key='data', skim='GamGam', protocol='https', cache=True)\n",
    "#file_paths = atom.get_urls('data', 'GamGam', protocol='https', cache=True)\n",
    "print(len(file_paths))\n",
    "print(file_paths)"
   ]
  },
  {
   "cell_type": "code",
   "execution_count": 9,
   "metadata": {},
   "outputs": [
    {
     "name": "stdout",
     "output_type": "stream",
     "text": [
      "Processed sample: root://eospublic.cern.ch:1094//eos/opendata/atlas/rucio/opendata/ODEO_FEB2025_v0_GamGam_data15_periodD.GamGam.root\n",
      "Processed sample: root://eospublic.cern.ch:1094//eos/opendata/atlas/rucio/opendata/ODEO_FEB2025_v0_GamGam_data15_periodE.GamGam.root\n",
      "Processed sample: root://eospublic.cern.ch:1094//eos/opendata/atlas/rucio/opendata/ODEO_FEB2025_v0_GamGam_data15_periodF.GamGam.root\n",
      "Processed sample: root://eospublic.cern.ch:1094//eos/opendata/atlas/rucio/opendata/ODEO_FEB2025_v0_GamGam_data15_periodG.GamGam.root\n",
      "Processed sample: root://eospublic.cern.ch:1094//eos/opendata/atlas/rucio/opendata/ODEO_FEB2025_v0_GamGam_data15_periodH.GamGam.root\n",
      "Processed sample: root://eospublic.cern.ch:1094//eos/opendata/atlas/rucio/opendata/ODEO_FEB2025_v0_GamGam_data15_periodJ.GamGam.root\n",
      "Processed sample: root://eospublic.cern.ch:1094//eos/opendata/atlas/rucio/opendata/ODEO_FEB2025_v0_GamGam_data16_periodA.GamGam.root\n",
      "Processed sample: root://eospublic.cern.ch:1094//eos/opendata/atlas/rucio/opendata/ODEO_FEB2025_v0_GamGam_data16_periodB.GamGam.root\n",
      "Processed sample: root://eospublic.cern.ch:1094//eos/opendata/atlas/rucio/opendata/ODEO_FEB2025_v0_GamGam_data16_periodC.GamGam.root\n",
      "Processed sample: root://eospublic.cern.ch:1094//eos/opendata/atlas/rucio/opendata/ODEO_FEB2025_v0_GamGam_data16_periodD.GamGam.root\n",
      "Processed sample: root://eospublic.cern.ch:1094//eos/opendata/atlas/rucio/opendata/ODEO_FEB2025_v0_GamGam_data16_periodE.GamGam.root\n",
      "Processed sample: root://eospublic.cern.ch:1094//eos/opendata/atlas/rucio/opendata/ODEO_FEB2025_v0_GamGam_data16_periodF.GamGam.root\n",
      "Processed sample: root://eospublic.cern.ch:1094//eos/opendata/atlas/rucio/opendata/ODEO_FEB2025_v0_GamGam_data16_periodG.GamGam.root\n",
      "Processed sample: root://eospublic.cern.ch:1094//eos/opendata/atlas/rucio/opendata/ODEO_FEB2025_v0_GamGam_data16_periodI.GamGam.root\n",
      "Processed sample: root://eospublic.cern.ch:1094//eos/opendata/atlas/rucio/opendata/ODEO_FEB2025_v0_GamGam_data16_periodK.GamGam.root\n",
      "Processed sample: root://eospublic.cern.ch:1094//eos/opendata/atlas/rucio/opendata/ODEO_FEB2025_v0_GamGam_data16_periodL.GamGam.root\n",
      "Number of entries in the chain: 36564144\n"
     ]
    }
   ],
   "source": [
    "data_chain = ROOT.TChain(\"analysis\")\n",
    "\n",
    "# Set the number of samples you want to include in the analysis (16 data samples in total)\n",
    "max_samples = 16\n",
    "\n",
    "for name_sample in file_paths[:max_samples]:\n",
    "    data_chain.Add(name_sample)\n",
    "    print(f\"Processed sample: \"+ name_sample)\n",
    "\n",
    "#data_chain.Add(file_paths[1])\n",
    "n_entries = data_chain.GetEntries()\n",
    "print(f\"Number of entries in the chain: {n_entries}\")"
   ]
  },
  {
   "cell_type": "code",
   "execution_count": 10,
   "metadata": {},
   "outputs": [],
   "source": [
    "canvas = ROOT.TCanvas(\"Canvas\",\"cz\",800,600)"
   ]
  },
  {
   "cell_type": "markdown",
   "metadata": {},
   "source": [
    "Now we're going to extract the photons variables"
   ]
  },
  {
   "cell_type": "code",
   "execution_count": 11,
   "metadata": {},
   "outputs": [],
   "source": [
    "#Invariant mass histograms definition\n",
    "hist = ROOT.TH1F(\"h_M_Hyy\",\"Diphoton invariant-mass ; Invariant Mass m_{yy} [GeV] ; events\",60,100,160)"
   ]
  },
  {
   "cell_type": "markdown",
   "metadata": {},
   "source": [
    "Here we're filling the variables defined above with the content of those inside the input ntuples."
   ]
  },
  {
   "cell_type": "markdown",
   "metadata": {},
   "source": [
    "We're creating a histogram for this example. The plan is to fill them with events."
   ]
  },
  {
   "cell_type": "markdown",
   "metadata": {},
   "source": [
    "We are selecting below a simple look for them."
   ]
  },
  {
   "cell_type": "markdown",
   "metadata": {},
   "source": [
    "The Higgs boson analysis implemented here considers Higgs boson decays into a photon-photon pair. The event selection criteria are:"
   ]
  },
  {
   "cell_type": "code",
   "execution_count": 12,
   "metadata": {},
   "outputs": [],
   "source": [
    "# Cut on the photon reconstruction quality\n",
    "def cut_photon_reconstruction(photon_isTightID):\n",
    "    # Only the events which have True for both photons are kept\n",
    "    return (photon_isTightID[0]==True) and (photon_isTightID[1]==True)\n",
    "\n",
    "# Cut on the transverse momentum\n",
    "def cut_photon_pt(photon_pt):\n",
    "# Only the events where photon_pt[0] > 50 GeV and photon_pt[1] > 30 GeV are kept\n",
    "    return (photon_pt[0] > 50) and (photon_pt[1] > 30)\n",
    "\n",
    "# Cut on the energy isolation\n",
    "def cut_isolation_pt(photon_ptcone20, photon_pt):\n",
    "# Only the events where the calorimeter isolation is less than 5.5% are kept\n",
    "    return ((photon_ptcone20[0]/photon_pt[0]) < 0.055) and ((photon_ptcone20[1]/photon_pt[1]) < 0.055)\n",
    "\n",
    "# Cut on the pseudorapidity in barrel/end-cap transition region\n",
    "def cut_photon_eta_transition(photon_eta):\n",
    "# Only the events where modulus of photon_eta is outside the range 1.37 to 1.52 are kept\n",
    "    condition_0 = (TMath.Abs(photon_eta[0]) < 1.37) or (TMath.Abs(photon_eta[0]) > 1.52)\n",
    "    condition_1 = (TMath.Abs(photon_eta[1]) < 1.37) or (TMath.Abs(photon_eta[1]) > 1.52)\n",
    "    return condition_0 and condition_1\n",
    "\n",
    "# This function calculates the invariant mass of the 2-photon state\n",
    "def calc_mass(photon_pt, photon_eta, photon_phi, photon_e):    \n",
    "    Photon_1 = ROOT.TLorentzVector()\n",
    "    Photon_2 = ROOT.TLorentzVector()\n",
    "\n",
    "    Photon_1.SetPtEtaPhiE(photon_pt[0], photon_eta[0], photon_phi[0], photon_e[0])\n",
    "    Photon_2.SetPtEtaPhiE(photon_pt[1], photon_eta[1], photon_phi[1], photon_e[1])\n",
    "    ## Adding the two TLorentz vectors\n",
    "    Photon_12 = Photon_1 + Photon_2\n",
    "    inv_mass_Hyy = Photon_12.M()\n",
    "    return inv_mass_Hyy\n",
    "\n",
    "# Cut on null diphoton invariant mass\n",
    "def cut_mass(invariant_mass):\n",
    "    return (invariant_mass != 0)\n",
    "\n",
    "# Cut on diphoton invariant mass based isolation\n",
    "# Only the events where the invididual photon invariant mass based isolation is larger than 35% are kept\n",
    "def cut_iso_mass(photon_pt, invariant_mass):\n",
    "    return ((photon_pt[0]/invariant_mass) > 0.35) and ((photon_pt[1]/invariant_mass) > 0.35)"
   ]
  },
  {
   "cell_type": "code",
   "execution_count": 13,
   "metadata": {},
   "outputs": [
    {
     "name": "stdout",
     "output_type": "stream",
     "text": [
      "1000000\n",
      "2000000\n",
      "3000000\n",
      "4000000\n",
      "5000000\n",
      "6000000\n",
      "7000000\n",
      "8000000\n",
      "9000000\n",
      "10000000\n",
      "11000000\n",
      "12000000\n",
      "13000000\n",
      "14000000\n",
      "15000000\n",
      "16000000\n",
      "17000000\n",
      "18000000\n",
      "19000000\n",
      "20000000\n",
      "21000000\n",
      "22000000\n",
      "23000000\n",
      "24000000\n",
      "25000000\n",
      "26000000\n",
      "27000000\n",
      "28000000\n",
      "29000000\n",
      "30000000\n",
      "31000000\n",
      "32000000\n",
      "33000000\n",
      "34000000\n",
      "35000000\n",
      "36000000\n",
      "Number of events: 36564144\n",
      "Number of events passing the event selection: 550057\n"
     ]
    }
   ],
   "source": [
    "n = 0\n",
    "accepted_events = 0\n",
    "for event in data_chain:\n",
    "    n += 1\n",
    "    ## printing the evolution in number of events\n",
    "    if(n%1000000==0):\n",
    "        print(n)\n",
    "    # Cut on the photon reconstruction quality\n",
    "    if(cut_photon_reconstruction(data_chain.photon_isTightID)):\n",
    "        # Cut: pT cut - photon 1 has pT > 50 GeV and photon 2 has pT > 30 GeV\n",
    "        if(cut_photon_pt(data_chain.photon_pt)):\n",
    "            # Only the events where the calorimeter isolation is less than 5.5% are kept\n",
    "            if(cut_isolation_pt(data_chain.photon_ptcone20, data_chain.photon_pt)):\n",
    "                # Cut on the pseudorapidity in barrel/end-cap transition region\n",
    "                if(cut_photon_eta_transition(data_chain.photon_eta)):\n",
    "                    inv_mass_Hyy = calc_mass(data_chain.photon_pt, data_chain.photon_eta, \\\n",
    "                                             data_chain.photon_phi, data_chain.photon_e)\n",
    "                    # Cut on null diphoton invariant mass\n",
    "                    if(cut_mass(inv_mass_Hyy)):\n",
    "                        # Cut on diphoton invariant mass based isolation. Only the events where \n",
    "                        # the invididual photon invariant mass based isolation is larger than 35% are kept\n",
    "                        if(cut_iso_mass(data_chain.photon_pt, inv_mass_Hyy)):\n",
    "                            ## Filling with the mass of the gamma-gamma system\n",
    "                            hist.Fill(inv_mass_Hyy)\n",
    "                            accepted_events+=1\n",
    "        \n",
    "print(f\"Number of events: {n_entries}\")\n",
    "print(f\"Number of events passing the event selection: {accepted_events}\")"
   ]
  },
  {
   "cell_type": "markdown",
   "metadata": {},
   "source": [
    "#### Final plot"
   ]
  },
  {
   "cell_type": "code",
   "execution_count": 14,
   "metadata": {},
   "outputs": [
    {
     "name": "stdout",
     "output_type": "stream",
     "text": [
      "250125.0\n"
     ]
    }
   ],
   "source": [
    "print(hist.Integral())"
   ]
  },
  {
   "cell_type": "code",
   "execution_count": 15,
   "metadata": {},
   "outputs": [
    {
     "name": "stdout",
     "output_type": "stream",
     "text": [
      "=======================================================================================\n",
      "mean:\n",
      "=======================================================================================\n",
      "124.73489803523057\n",
      "=======================================================================================\n",
      "std deviation:\n",
      "=======================================================================================\n",
      "1.3953026072239865\n",
      "=======================================================================================\n",
      "polynomic function (using the Chebyshev polynomials basis):\n",
      "=======================================================================================\n",
      "-0.7311841441359598 + 0.09924363494268622*T_1(x) + 0.018241593137788906*T_2(x) + -0.012089205219380292*T_3(x) + 0.004698211754357402*T_4(x)\n",
      "[#1] INFO:Fitting -- RooAbsPdf::fitTo(model) fixing normalization set for coefficient determination to observables in data\n",
      "[#1] INFO:Fitting -- using CPU computation library compiled with -mavx512\n",
      "[#1] INFO:Fitting -- RooAddition::defaultErrorLevel(nll_model_data) Summation contains a RooNLLVar, using its error level\n",
      "[#1] INFO:Minimization -- RooAbsMinimizerFcn::setOptimizeConst: activating const optimization\n",
      "RooAbsMinimizerFcn: Minimized function has error status.\n",
      "Returning maximum FCN so far (-1.82054e+06) to force MIGRAD to back out of this region. Error log follows.\n",
      "Parameter values: \ta0=-0.871932\ta1=0.414063\ta2=0.935758\ta3=-0.456378\ta4=-0.541845\tmean=123.631\tnbkg=138797\tnsig=61785.8\tsigma=1.41889\n",
      "RooAddPdf::model[ nsig * gauss_over_gauss_Int[m_yy] + nbkg * bkg_over_bkg_Int[m_yy] ]\n",
      "     getLogVal() top-level p.d.f evaluates to NaN @ !refCoefNorm=(m_yy = 130), !pdfs=(gauss_over_gauss_Int[m_yy] = 1.18599e-05,bkg_over_bkg_Int[m_yy] = 0.00241966), !coefficients=(nsig = 61785.8,nbkg = 138797)\n",
      "     getLogVal() top-level p.d.f evaluates to NaN @ !refCoefNorm=(m_yy = 130), !pdfs=(gauss_over_gauss_Int[m_yy] = 1.18599e-05,bkg_over_bkg_Int[m_yy] = 0.00241966), !coefficients=(nsig = 61785.8,nbkg = 138797)\n",
      "     getLogVal() top-level p.d.f evaluates to NaN @ !refCoefNorm=(m_yy = 130), !pdfs=(gauss_over_gauss_Int[m_yy] = 1.18599e-05,bkg_over_bkg_Int[m_yy] = 0.00241966), !coefficients=(nsig = 61785.8,nbkg = 138797)\n",
      "     getLogVal() top-level p.d.f evaluates to NaN @ !refCoefNorm=(m_yy = 130), !pdfs=(gauss_over_gauss_Int[m_yy] = 1.18599e-05,bkg_over_bkg_Int[m_yy] = 0.00241966), !coefficients=(nsig = 61785.8,nbkg = 138797)\n",
      "     getLogVal() top-level p.d.f evaluates to NaN @ !refCoefNorm=(m_yy = 130), !pdfs=(gauss_over_gauss_Int[m_yy] = 1.18599e-05,bkg_over_bkg_Int[m_yy] = 0.00241966), !coefficients=(nsig = 61785.8,nbkg = 138797)\n",
      "     getLogVal() top-level p.d.f evaluates to NaN @ !refCoefNorm=(m_yy = 130), !pdfs=(gauss_over_gauss_Int[m_yy] = 1.18599e-05,bkg_over_bkg_Int[m_yy] = 0.00241966), !coefficients=(nsig = 61785.8,nbkg = 138797)\n",
      "     getLogVal() top-level p.d.f evaluates to NaN @ !refCoefNorm=(m_yy = 130), !pdfs=(gauss_over_gauss_Int[m_yy] = 1.18599e-05,bkg_over_bkg_Int[m_yy] = 0.00241966), !coefficients=(nsig = 61785.8,nbkg = 138797)\n",
      "     getLogVal() top-level p.d.f evaluates to NaN @ !refCoefNorm=(m_yy = 130), !pdfs=(gauss_over_gauss_Int[m_yy] = 1.18599e-05,bkg_over_bkg_Int[m_yy] = 0.00241966), !coefficients=(nsig = 61785.8,nbkg = 138797)\n",
      "     getLogVal() top-level p.d.f evaluates to NaN @ !refCoefNorm=(m_yy = 130), !pdfs=(gauss_over_gauss_Int[m_yy] = 1.18599e-05,bkg_over_bkg_Int[m_yy] = 0.00241966), !coefficients=(nsig = 61785.8,nbkg = 138797)\n",
      "     getLogVal() top-level p.d.f evaluates to NaN @ !refCoefNorm=(m_yy = 130), !pdfs=(gauss_over_gauss_Int[m_yy] = 1.18599e-05,bkg_over_bkg_Int[m_yy] = 0.00241966), !coefficients=(nsig = 61785.8,nbkg = 138797)\n",
      "     getLogVal() top-level p.d.f evaluates to NaN @ !refCoefNorm=(m_yy = 130), !pdfs=(gauss_over_gauss_Int[m_yy] = 1.18599e-05,bkg_over_bkg_Int[m_yy] = 0.00241966), !coefficients=(nsig = 61785.8,nbkg = 138797)\n",
      "     getLogVal() top-level p.d.f evaluates to NaN @ !refCoefNorm=(m_yy = 130), !pdfs=(gauss_over_gauss_Int[m_yy] = 1.18599e-05,bkg_over_bkg_Int[m_yy] = 0.00241966), !coefficients=(nsig = 61785.8,nbkg = 138797)\n",
      "    ... (remaining 7 messages suppressed)\n",
      "RooAbsPdf::bkg_over_bkg_Int[m_yy][ numerator=bkg denominator=bkg_Int[m_yy] ]\n",
      "     p.d.f value is less than zero, trying to recover @ numerator=bkg=0.129559, denominator=bkg_Int[m_yy]=53.5442\n",
      "     p.d.f value is less than zero, trying to recover @ numerator=bkg=0.129559, denominator=bkg_Int[m_yy]=53.5442\n",
      "     p.d.f value is less than zero, trying to recover @ numerator=bkg=0.129559, denominator=bkg_Int[m_yy]=53.5442\n",
      "     p.d.f value is less than zero, trying to recover @ numerator=bkg=0.129559, denominator=bkg_Int[m_yy]=53.5442\n",
      "     p.d.f value is less than zero, trying to recover @ numerator=bkg=0.129559, denominator=bkg_Int[m_yy]=53.5442\n",
      "     p.d.f value is less than zero, trying to recover @ numerator=bkg=0.129559, denominator=bkg_Int[m_yy]=53.5442\n",
      "     p.d.f value is less than zero, trying to recover @ numerator=bkg=0.129559, denominator=bkg_Int[m_yy]=53.5442\n",
      "     p.d.f value is less than zero, trying to recover @ numerator=bkg=0.129559, denominator=bkg_Int[m_yy]=53.5442\n",
      "     p.d.f value is less than zero, trying to recover @ numerator=bkg=0.129559, denominator=bkg_Int[m_yy]=53.5442\n",
      "     p.d.f value is less than zero, trying to recover @ numerator=bkg=0.129559, denominator=bkg_Int[m_yy]=53.5442\n",
      "     p.d.f value is less than zero, trying to recover @ numerator=bkg=0.129559, denominator=bkg_Int[m_yy]=53.5442\n",
      "     p.d.f value is less than zero, trying to recover @ numerator=bkg=0.129559, denominator=bkg_Int[m_yy]=53.5442\n",
      "    ... (remaining 7 messages suppressed)\n",
      "\n",
      "RooAbsMinimizerFcn: Minimized function has error status.\n",
      "Returning maximum FCN so far (-1.82054e+06) to force MIGRAD to back out of this region. Error log follows.\n",
      "Parameter values: \ta0=-0.772871\ta1=-0.19693\ta2=0.113479\ta3=0.168543\ta4=0.28582\tmean=124.679\tnbkg=249971\tnsig=1905.45\tsigma=1.39646\n",
      "RooAddPdf::model[ nsig * gauss_over_gauss_Int[m_yy] + nbkg * bkg_over_bkg_Int[m_yy] ]\n",
      "     getLogVal() top-level p.d.f evaluates to NaN @ !refCoefNorm=(m_yy = 130), !pdfs=(gauss_over_gauss_Int[m_yy] = 0.000201149,bkg_over_bkg_Int[m_yy] = 0.0215836), !coefficients=(nsig = 1905.45,nbkg = 249971)\n",
      "     getLogVal() top-level p.d.f evaluates to NaN @ !refCoefNorm=(m_yy = 130), !pdfs=(gauss_over_gauss_Int[m_yy] = 0.000201149,bkg_over_bkg_Int[m_yy] = 0.0215836), !coefficients=(nsig = 1905.45,nbkg = 249971)\n",
      "     getLogVal() top-level p.d.f evaluates to NaN @ !refCoefNorm=(m_yy = 130), !pdfs=(gauss_over_gauss_Int[m_yy] = 0.000201149,bkg_over_bkg_Int[m_yy] = 0.0215836), !coefficients=(nsig = 1905.45,nbkg = 249971)\n",
      "     getLogVal() top-level p.d.f evaluates to NaN @ !refCoefNorm=(m_yy = 130), !pdfs=(gauss_over_gauss_Int[m_yy] = 0.000201149,bkg_over_bkg_Int[m_yy] = 0.0215836), !coefficients=(nsig = 1905.45,nbkg = 249971)\n",
      "     getLogVal() top-level p.d.f evaluates to NaN @ !refCoefNorm=(m_yy = 130), !pdfs=(gauss_over_gauss_Int[m_yy] = 0.000201149,bkg_over_bkg_Int[m_yy] = 0.0215836), !coefficients=(nsig = 1905.45,nbkg = 249971)\n",
      "     getLogVal() top-level p.d.f evaluates to NaN @ !refCoefNorm=(m_yy = 130), !pdfs=(gauss_over_gauss_Int[m_yy] = 0.000201149,bkg_over_bkg_Int[m_yy] = 0.0215836), !coefficients=(nsig = 1905.45,nbkg = 249971)\n",
      "RooAbsPdf::bkg_over_bkg_Int[m_yy][ numerator=bkg denominator=bkg_Int[m_yy] ]\n",
      "     p.d.f value is less than zero, trying to recover @ numerator=bkg=1.36547, denominator=bkg_Int[m_yy]=63.2644\n",
      "     p.d.f value is less than zero, trying to recover @ numerator=bkg=1.36547, denominator=bkg_Int[m_yy]=63.2644\n",
      "     p.d.f value is less than zero, trying to recover @ numerator=bkg=1.36547, denominator=bkg_Int[m_yy]=63.2644\n",
      "     p.d.f value is less than zero, trying to recover @ numerator=bkg=1.36547, denominator=bkg_Int[m_yy]=63.2644\n",
      "     p.d.f value is less than zero, trying to recover @ numerator=bkg=1.36547, denominator=bkg_Int[m_yy]=63.2644\n",
      "     p.d.f value is less than zero, trying to recover @ numerator=bkg=1.36547, denominator=bkg_Int[m_yy]=63.2644\n",
      "\n",
      "RooAbsMinimizerFcn: Minimized function has error status.\n",
      "Returning maximum FCN so far (-1.82054e+06) to force MIGRAD to back out of this region. Error log follows.\n",
      "Parameter values: \ta0=-0.348203\ta1=-0.996768\ta2=0.960738\ta3=-0.964953\ta4=0.644977\tmean=123.524\tnbkg=139253\tnsig=36139.4\tsigma=1.42241\n",
      "RooAddPdf::model[ nsig * gauss_over_gauss_Int[m_yy] + nbkg * bkg_over_bkg_Int[m_yy] ]\n",
      "     getLogVal() top-level p.d.f evaluates to NaN @ !refCoefNorm=(m_yy = 130), !pdfs=(gauss_over_gauss_Int[m_yy] = 8.85378e-06,bkg_over_bkg_Int[m_yy] = 0.0123135), !coefficients=(nsig = 36139.4,nbkg = 139253)\n",
      "     getLogVal() top-level p.d.f evaluates to NaN @ !refCoefNorm=(m_yy = 130), !pdfs=(gauss_over_gauss_Int[m_yy] = 8.85378e-06,bkg_over_bkg_Int[m_yy] = 0.0123135), !coefficients=(nsig = 36139.4,nbkg = 139253)\n",
      "RooAbsPdf::bkg_over_bkg_Int[m_yy][ numerator=bkg denominator=bkg_Int[m_yy] ]\n",
      "     p.d.f value is less than zero, trying to recover @ numerator=bkg=1.03181, denominator=bkg_Int[m_yy]=83.7952\n",
      "     p.d.f value is less than zero, trying to recover @ numerator=bkg=1.03181, denominator=bkg_Int[m_yy]=83.7952\n",
      "\n",
      "RooAbsMinimizerFcn: Minimized function has error status.\n",
      "Returning maximum FCN so far (-1.82054e+06) to force MIGRAD to back out of this region. Error log follows.\n",
      "Parameter values: \ta0=0.530055\ta1=-0.43251\ta2=-0.091529\ta3=-0.544583\ta4=0.556567\tmean=123.59\tnbkg=144183\tnsig=26647.5\tsigma=1.43196\n",
      "RooAddPdf::model[ nsig * gauss_over_gauss_Int[m_yy] + nbkg * bkg_over_bkg_Int[m_yy] ]\n",
      "     getLogVal() top-level p.d.f evaluates to NaN @ !refCoefNorm=(m_yy = 130), !pdfs=(gauss_over_gauss_Int[m_yy] = 1.23971e-05,bkg_over_bkg_Int[m_yy] = 0.0125363), !coefficients=(nsig = 26647.5,nbkg = 144183)\n",
      "\n",
      "[#1] INFO:Minimization -- RooAbsMinimizerFcn::setOptimizeConst: deactivating const optimization\n"
     ]
    }
   ],
   "source": [
    "# Convert histogram into RooDataHist\n",
    "x = ROOT.RooRealVar(\"m_yy\", \"di-photon invariant mass m_{#gamma#gamma} [GeV]\", 100, 160)\n",
    "data = ROOT.RooDataHist(\"data\", \"data\", ROOT.RooArgList(x), hist)\n",
    "\n",
    "# --- Define signal model (Gaussian) ---\n",
    "mean   = ROOT.RooRealVar(\"mean\", \"mean of gauss\", 125, 120, 130)\n",
    "sigma  = ROOT.RooRealVar(\"sigma\", \"width of gauss\", 2.0, 0.5, 5.0)\n",
    "gauss  = ROOT.RooGaussian(\"gauss\", \"gaussian PDF\", x, mean, sigma)\n",
    "\n",
    "# --- Define background model (4th order polynomial) ---\n",
    "a0 = ROOT.RooRealVar(\"a0\", \"a0\", 0.0, -1, 1)\n",
    "a1 = ROOT.RooRealVar(\"a1\", \"a1\", 0.0, -1, 1)\n",
    "a2 = ROOT.RooRealVar(\"a2\", \"a2\", 0.0, -1, 1)\n",
    "a3 = ROOT.RooRealVar(\"a3\", \"a3\", 0.0, -1, 1)\n",
    "a4 = ROOT.RooRealVar(\"a4\", \"a4\", 0.0, -1, 1)\n",
    "bkg = ROOT.RooChebychev(\"bkg\", \"Chebychev background\", x, ROOT.RooArgList(a0,a1,a2,a3,a4))\n",
    "\n",
    "# --- Define coefficients (yields) ---\n",
    "nsig = ROOT.RooRealVar(\"nsig\", \"signal yield\", hist.Integral()/20., 0., hist.Integral())\n",
    "nbkg = ROOT.RooRealVar(\"nbkg\", \"background yield\", hist.Integral(), 0., hist.Integral())\n",
    "\n",
    "# --- Total model ---\n",
    "model = ROOT.RooAddPdf(\"model\", \"sig + bkg\", ROOT.RooArgList(gauss, bkg), ROOT.RooArgList(nsig, nbkg))\n",
    "\n",
    "# --- Perform the fit ---\n",
    "fit_result = model.fitTo(data, ROOT.RooFit.Extended(True), ROOT.RooFit.Save(), ROOT.RooFit.PrintLevel(-1))\n",
    "\n",
    "print(\"=======================================================================================\")\n",
    "print(\"mean:\")\n",
    "print(\"=======================================================================================\")\n",
    "print(mean.getVal())\n",
    "\n",
    "print(\"=======================================================================================\")\n",
    "print(\"std deviation:\")\n",
    "print(\"=======================================================================================\")\n",
    "print(sigma.getVal())\n",
    "\n",
    "print(\"=======================================================================================\")\n",
    "print(\"polynomic function (using the Chebyshev polynomials basis):\")\n",
    "print(\"=======================================================================================\")\n",
    "print(f\"{a0.getVal()} + {a1.getVal()}*T_1(x) + {a2.getVal()}*T_2(x) + {a3.getVal()}*T_3(x) + {a4.getVal()}*T_4(x)\")"
   ]
  },
  {
   "cell_type": "code",
   "execution_count": 16,
   "metadata": {},
   "outputs": [
    {
     "name": "stdout",
     "output_type": "stream",
     "text": [
      "nbins h_data: 60\n",
      "nbins h_bkg: 60\n",
      "===================================================================\n",
      "integral h_bkg: 0.9999902579002082\n",
      "nbkg expected: RooRealVar::nbkg = 249092 +/- 580.986  L(0 - 250125) \n",
      "\n",
      "[#1] INFO:Plotting -- RooAbsPdf::plotOn(model) directly selected PDF components: (bkg)\n",
      "[#1] INFO:Plotting -- RooAbsPdf::plotOn(model) indirectly selected PDF components: ()\n",
      "[#1] INFO:Plotting -- RooAbsPdf::plotOn(model) directly selected PDF components: (gauss)\n",
      "[#1] INFO:Plotting -- RooAbsPdf::plotOn(model) indirectly selected PDF components: ()\n"
     ]
    },
    {
     "data": {
      "text/html": [
       "\n",
       "\n",
       "<div id=\"root_plot_1758762624414\" style=\"width: 800px; height: 600px; position: relative\">\n",
       "</div>\n",
       "\n",
       "<script>\n",
       "\n",
       "function display_root_plot_1758762624414(Core) {\n",
       "   let obj = Core.parse({\"_typename\":\"TCanvasWebSnapshot\",\"fUniqueID\":0,\"fBits\":0,\"fObjectID\":\"\",\"fOption\":\"\",\"fKind\":3,\"fSnapshot\":{\"_typename\":\"TCanvas\",\"fUniqueID\":0,\"fBits\":3342344,\"fLineColor\":1,\"fLineStyle\":1,\"fLineWidth\":1,\"fFillColor\":0,\"fFillStyle\":1001,\"fLeftMargin\":0.1,\"fRightMargin\":0.1,\"fBottomMargin\":0.1,\"fTopMargin\":0.1,\"fXfile\":2,\"fYfile\":2,\"fAfile\":1,\"fXstat\":0.99,\"fYstat\":0.99,\"fAstat\":2,\"fFrameFillColor\":0,\"fFrameLineColor\":1,\"fFrameFillStyle\":1001,\"fFrameLineStyle\":1,\"fFrameLineWidth\":1,\"fFrameBorderSize\":1,\"fFrameBorderMode\":0,\"fX1\":0,\"fY1\":0,\"fX2\":1,\"fY2\":1,\"fXtoAbsPixelk\":0,\"fXtoPixelk\":0,\"fXtoPixel\":796,\"fYtoAbsPixelk\":572,\"fYtoPixelk\":572,\"fYtoPixel\":-572,\"fUtoAbsPixelk\":0,\"fUtoPixelk\":0,\"fUtoPixel\":796,\"fVtoAbsPixelk\":572,\"fVtoPixelk\":572,\"fVtoPixel\":-572,\"fAbsPixeltoXk\":0,\"fPixeltoXk\":0,\"fPixeltoX\":0.00125628140703518,\"fAbsPixeltoYk\":1,\"fPixeltoYk\":0,\"fPixeltoY\":-0.00174825174825175,\"fXlowNDC\":0,\"fYlowNDC\":0,\"fXUpNDC\":1,\"fYUpNDC\":1,\"fWNDC\":1,\"fHNDC\":1,\"fAbsXlowNDC\":0,\"fAbsYlowNDC\":0,\"fAbsWNDC\":1,\"fAbsHNDC\":1,\"fUxmin\":0,\"fUymin\":0,\"fUxmax\":1,\"fUymax\":1,\"fTheta\":30,\"fPhi\":30,\"fAspectRatio\":0,\"fNumber\":0,\"fTickx\":0,\"fTicky\":0,\"fLogx\":0,\"fLogy\":0,\"fLogz\":0,\"fPadPaint\":0,\"fCrosshair\":0,\"fCrosshairPos\":0,\"fBorderSize\":2,\"fBorderMode\":0,\"fModified\":false,\"fGridx\":false,\"fGridy\":false,\"fAbsCoord\":false,\"fEditable\":true,\"fFixedAspectRatio\":false,\"fPrimitives\":{\"_typename\":\"TList\",\"name\":\"TList\",\"arr\":[],\"opt\":[]},\"fExecs\":null,\"fName\":\"canvas\",\"fTitle\":\"canvas\",\"fNumPaletteColor\":0,\"fNextPaletteColor\":0,\"fDISPLAY\":\"$DISPLAY\",\"fDoubleBuffer\":0,\"fRetained\":true,\"fXsizeUser\":0,\"fYsizeUser\":0,\"fXsizeReal\":20,\"fYsizeReal\":15,\"fWindowTopX\":0,\"fWindowTopY\":0,\"fWindowWidth\":0,\"fWindowHeight\":0,\"fCw\":796,\"fCh\":572,\"fCatt\":{\"_typename\":\"TAttCanvas\",\"fXBetween\":2,\"fYBetween\":2,\"fTitleFromTop\":1.2,\"fXdate\":0.2,\"fYdate\":0.3,\"fAdate\":1},\"kMoveOpaque\":true,\"kResizeOpaque\":true,\"fHighLightColor\":2,\"fBatch\":true,\"kShowEventStatus\":false,\"kAutoExec\":true,\"kMenuBar\":true},\"fActive\":false,\"fReadOnly\":true,\"fWithoutPrimitives\":false,\"fHasExecs\":false,\"fPrimitives\":[{\"_typename\":\"TWebSnapshot\",\"fUniqueID\":0,\"fBits\":0,\"fObjectID\":\"\",\"fOption\":\"\",\"fKind\":4,\"fSnapshot\":{\"_typename\":\"TWebPainting\",\"fUniqueID\":0,\"fBits\":0,\"fOper\":\"0:255,255,255;1:0,0,0;2:255,0,0;3:0,255,0;4:0,0,255;5:255,255,0;6:255,0,255;7:0,255,255;8:89,211,84;9:89,84,216;10:254,254,254;11:192,182,172;12:76,76,76;13:102,102,102;14:127,127,127;15:153,153,153;16:178,178,178;17:204,204,204;18:229,229,229;19:242,242,242;20:204,198,170;21:204,198,170;22:193,191,168;23:186,181,163;24:178,165,150;25:183,163,155;26:173,153,140;27:155,142,130;28:135,102,86;29:175,206,198;30:132,193,163;31:137,168,160;32:130,158,140;33:173,188,198;34:122,142,153;35:117,137,145;36:104,130,150;37:109,122,132;38:124,153,209;39:127,127,155;40:170,165,191;41:211,206,135;42:221,186,135;43:188,158,130;44:198,153,124;45:191,130,119;46:206,94,96;47:170,142,147;48:165,119,122;49:147,104,112;50:211,89,84;51:146,0,255;52:122,0,255;53:98,0,255;54:74,0,255;55:51,0,255;56:27,0,255;57:3,0,255;58:0,20,255;59:0,44,255;60:0,68,255;61:0,91,255;62:0,115,255;63:0,139,255;64:0,163,255;65:0,187,255;66:0,210,255;67:0,234,255;68:0,255,251;69:0,255,227;70:0,255,204;71:0,255,180;72:0,255,156;73:0,255,132;74:0,255,108;75:0,255,85;76:0,255,61;77:0,255,37;78:0,255,13;79:10,255,0;80:34,255,0;81:57,255,0;82:81,255,0;83:105,255,0;84:129,255,0;85:153,255,0;86:176,255,0;87:200,255,0;88:224,255,0;89:248,255,0;90:255,238,0;91:255,214,0;92:255,190,0;93:255,166,0;94:255,142,0;95:255,119,0;96:255,95,0;97:255,71,0;98:255,47,0;99:255,23,0;100:111,45,168;101:165,42,42;102:178,190,181;103:87,144,252;104:248,156,32;105:228,37,54;106:150,74,139;107:156,156,161;108:122,33,221;109:24,69,251;110:255,94,2;111:201,31,22;112:200,73,169;113:173,173,125;114:134,200,221;115:87,141,255;116:101,99,100;117:63,144,218;118:255,169,14;119:189,31,1;120:148,164,162;121:131,45,182;122:169,107,89;123:231,99,0;124:185,172,112;125:113,117,129;126:146,218,221;127:178,178,178;201:91,91,91;202:122,122,122;203:183,183,183;204:214,214,214;205:137,15,15;206:183,20,20;207:234,71,71;208:239,117,117;209:15,137,15;210:20,183,20;211:71,234,71;212:117,239,117;213:15,15,137;214:20,20,183;215:71,71,234;216:117,117,239;217:137,137,15;218:183,183,20;219:234,234,71;220:239,239,117;221:137,15,137;222:183,20,183;223:234,71,234;224:239,117,239;225:15,137,137;226:20,183,183;227:71,234,234;228:117,239,239;390:255,255,204;391:255,255,153;392:204,204,153;393:255,255,102;394:204,204,102;395:153,153,102;396:255,255,51;397:204,204,51;398:153,153,51;399:102,102,51;400:255,255,0;401:204,204,0;402:153,153,0;403:102,102,0;404:51,51,0;406:204,255,204;407:153,255,153;408:153,204,153;409:102,255,102;410:102,204,102;411:102,153,102;412:51,255,51;413:51,204,51;414:51,153,51;415:51,102,51;416:0,255,0;417:0,204,0;418:0,153,0;419:0,102,0;420:0,51,0;422:204,255,255;423:153,255,255;424:153,204,204;425:102,255,255;426:102,204,204;427:102,153,153;428:51,255,255;429:51,204,204;430:51,153,153;431:51,102,102;432:0,255,255;433:0,204,204;434:0,153,153;435:0,102,102;436:0,51,51;590:204,204,255;591:153,153,255;592:153,153,204;593:102,102,255;594:102,102,204;595:102,102,153;596:51,51,255;597:51,51,204;598:51,51,153;599:51,51,102;600:0,0,255;601:0,0,204;602:0,0,153;603:0,0,102;604:0,0,51;606:255,204,255;607:255,153,255;608:204,153,204;609:255,102,255;610:204,102,204;611:153,102,153;612:255,51,255;613:204,51,204;614:153,51,153;615:102,51,102;616:255,0,255;617:204,0,204;618:153,0,153;619:102,0,102;620:51,0,51;622:255,204,204;623:255,153,153;624:204,153,153;625:255,102,102;626:204,102,102;627:153,102,102;628:255,51,51;629:204,51,51;630:153,51,51;631:102,51,51;632:255,0,0;633:204,0,0;634:153,0,0;635:102,0,0;636:51,0,0;791:255,204,153;792:204,153,102;793:153,102,51;794:153,102,0;795:204,153,51;796:255,204,102;797:255,153,0;798:255,204,51;799:204,153,0;800:255,204,0;801:255,153,51;802:204,102,0;803:102,51,0;804:153,51,0;805:204,102,51;806:255,153,102;807:255,102,0;808:255,102,51;809:204,51,0;810:255,51,0;811:153,255,51;812:102,204,0;813:51,102,0;814:51,153,0;815:102,204,51;816:153,255,102;817:102,255,0;818:102,255,51;819:51,204,0;820:51,255,0;821:204,255,153;822:153,204,102;823:102,153,51;824:102,153,0;825:153,204,51;826:204,255,102;827:153,255,0;828:204,255,51;829:153,204,0;830:204,255,0;831:153,255,204;832:102,204,153;833:51,153,102;834:0,153,102;835:51,204,153;836:102,255,204;837:0,255,102;838:51,255,204;839:0,204,153;840:0,255,204;841:51,255,153;842:0,204,102;843:0,102,51;844:0,153,51;845:51,204,102;846:102,255,153;847:0,255,153;848:51,255,102;849:0,204,51;850:0,255,51;851:153,204,255;852:102,153,204;853:51,102,153;854:0,51,153;855:51,102,204;856:102,153,255;857:0,102,255;858:51,102,255;859:0,51,204;860:0,51,255;861:51,153,255;862:0,102,204;863:0,51,102;864:0,102,153;865:51,153,204;866:102,204,255;867:0,153,255;868:51,204,255;869:0,153,204;870:0,204,255;871:204,153,255;872:153,102,204;873:102,51,153;874:102,0,153;875:153,51,204;876:204,102,255;877:153,0,255;878:204,51,255;879:153,0,204;880:204,0,255;881:153,51,255;882:102,0,204;883:51,0,102;884:51,0,153;885:102,51,204;886:153,102,255;887:102,0,255;888:102,51,255;889:51,0,204;890:51,0,255;891:255,51,153;892:204,0,102;893:102,0,51;894:153,0,51;895:204,51,102;896:255,102,153;897:255,0,102;898:255,51,102;899:204,0,51;900:255,0,51;901:255,153,204;902:204,102,153;903:153,51,102;904:153,0,102;905:204,51,153;906:255,102,204;907:255,0,153;908:204,0,153;909:255,51,204;910:255,0,153;920:204,204,204;921:153,153,153;922:102,102,102;923:51,51,51;924:53,42,134;925:51,44,137;926:50,45,140;927:49,47,143;928:48,48,146;929:46,50,148;930:45,51,151;931:44,53,154;932:43,55,157;933:42,56,160;934:40,58,162;935:39,59,165;936:38,61,168;937:37,63,171;938:35,64,174;939:34,66,176;940:33,67,179;941:32,69,182;942:31,71,185;943:29,72,187;944:28,74,190;945:27,75,193;946:26,77,196;947:24,79,199;948:23,80,201;949:22,82,204;950:21,83,207;951:19,85,210;952:18,86,213;953:17,88,215;954:16,90,218;955:15,91,221;956:15,92,221;957:15,94,220;958:15,95,220;959:15,96,220;960:15,97,220;961:15,98,220;962:16,99,219;963:16,100,219;964:16,102,219;965:16,103,219;966:16,104,218;967:16,105,218;968:17,106,218;969:17,107,218;970:17,109,217;971:17,110,217;972:17,111,217;973:17,112,217;974:17,113,216;975:18,114,216;976:18,115,216;977:18,117,216;978:18,118,215;979:18,119,215;980:18,120,215;981:18,121,215;982:19,122,215;983:19,123,214;984:19,125,214;985:19,126,214;986:19,127,214;987:19,128,213;988:19,129,213;989:19,130,213;990:18,131,212;991:18,132,212;992:17,134,211;993:17,135,211;994:16,136,211;995:16,137,210;996:15,138,210;997:15,139,210;998:15,140,209;999:14,141,209;1000:14,142,208;1001:13,143,208;1002:13,145,208;1003:12,146,207;1004:12,147,207;1005:12,148,207;1006:11,149,206;1007:11,150,206;1008:10,151,205;1009:10,152,205;1010:9,153,205;1011:9,154,204;1012:8,155,204;1013:8,157,204;1014:8,158,203;1015:7,159,203;1016:7,160,202;1017:6,161,202;1018:6,162,202;1019:5,163,201;1020:7,164,200;1021:8,164,199;1022:9,165,198;1023:10,166,197;1024:12,166,195;1025:13,167,194;1026:14,167,193;1027:15,168,192;1028:17,169,191;1029:18,169,189;1030:19,170,188;1031:20,170,187;1032:22,171,186;1033:23,172,185;1034:24,172,184;1035:25,173,182;1036:27,173,181;1037:28,174,180;1038:29,175,179;1039:30,175,178;1040:32,176,176;1041:33,176,175;1042:34,177,174;1043:35,178,173;1044:37,178,172;1045:38,179,170;1046:39,180,169;1047:40,180,168;1048:42,181,167;1049:43,181,166;1050:44,182,165;1051:45,183,163;1052:48,183,162;1053:51,183,161;1054:54,183,159;1055:57,184,158;1056:59,184,156;1057:62,184,155;1058:65,184,154;1059:68,185,152;1060:71,185,151;1061:73,185,149;1062:76,185,148;1063:79,186,146;1064:82,186,145;1065:84,186,144;1066:87,186,142;1067:90,187,141;1068:93,187,139;1069:96,187,138;1070:98,187,137;1071:101,188,135;1072:104,188,134;1073:107,188,132;1074:110,188,131;1075:112,189,130;1076:115,189,128;1077:118,189,127;1078:121,189,125;1079:124,190,124;1080:126,190,123;1081:129,190,121;1082:132,190,120;1083:135,191,118;1084:137,190,117;1085:139,190,117;1086:142,190,116;1087:144,190,115;1088:146,190,114;1089:148,190,113;1090:151,190,112;1091:153,190,111;1092:155,189,110;1093:158,189,109;1094:160,189,108;1095:162,189,107;1096:165,189,106;1097:167,189,105;1098:169,189,104;1099:171,188,104;1100:174,188,103;1101:176,188,102;1102:178,188,101;1103:181,188,100;1104:183,188,99;1105:185,188,98;1106:188,188,97;1107:190,187,96;1108:192,187,95;1109:194,187,94;1110:197,187,93;1111:199,187,92;1112:201,187,92;1113:204,187,91;1114:206,186,90;1115:208,186,89;1116:210,187,88;1117:211,187,86;1118:212,188,85;1119:214,188,84;1120:215,188,83;1121:217,189,81;1122:218,189,80;1123:220,190,79;1124:221,190,78;1125:222,191,77;1126:224,191,75;1127:225,191,74;1128:227,192,73;1129:228,192,72;1130:229,193,70;1131:231,193,69;1132:232,194,68;1133:234,194,67;1134:235,194,66;1135:236,195,64;1136:238,195,63;1137:239,196,62;1138:241,196,61;1139:242,197,59;1140:244,197,58;1141:245,197,57;1142:246,198,56;1143:248,198,55;1144:249,199,53;1145:251,199,52;1146:252,200,51;1147:253,200,50;1148:253,202,49;1149:253,203,47;1150:253,205,46;1151:253,206,45;1152:253,208,44;1153:252,209,43;1154:252,211,42;1155:252,213,41;1156:252,214,39;1157:252,216,38;1158:252,217,37;1159:252,219,36;1160:251,220,35;1161:251,222,34;1162:251,224,33;1163:251,225,31;1164:251,227,30;1165:251,228,29;1166:250,230,28;1167:250,231,27;1168:250,233,26;1169:250,235,25;1170:250,236,23;1171:250,238,22;1172:250,239,21;1173:249,241,20;1174:249,242,19;1175:249,244,18;1176:249,246,17;1177:249,247,16;1178:249,249,14\",\"fBuf\":{\"$arr\":\"Float32\",\"len\":255,\"v\":[924,925,926,927,928,929,930,931,932,933,934,935,936,937,938,939,940,941,942,943,944,945,946,947,948,949,950,951,952,953,954,955,956,957,958,959,960,961,962,963,964,965,966,967,968,969,970,971,972,973,974,975,976,977,978,979,980,981,982,983,984,985,986,987,988,989,990,991,992,993,994,995,996,997,998,999,1000,1001,1002,1003,1004,1005,1006,1007,1008,1009,1010,1011,1012,1013,1014,1015,1016,1017,1018,1019,1020,1021,1022,1023,1024,1025,1026,1027,1028,1029,1030,1031,1032,1033,1034,1035,1036,1037,1038,1039,1040,1041,1042,1043,1044,1045,1046,1047,1048,1049,1050,1051,1052,1053,1054,1055,1056,1057,1058,1059,1060,1061,1062,1063,1064,1065,1066,1067,1068,1069,1070,1071,1072,1073,1074,1075,1076,1077,1078,1079,1080,1081,1082,1083,1084,1085,1086,1087,1088,1089,1090,1091,1092,1093,1094,1095,1096,1097,1098,1099,1100,1101,1102,1103,1104,1105,1106,1107,1108,1109,1110,1111,1112,1113,1114,1115,1116,1117,1118,1119,1120,1121,1122,1123,1124,1125,1126,1127,1128,1129,1130,1131,1132,1133,1134,1135,1136,1137,1138,1139,1140,1141,1142,1143,1144,1145,1146,1147,1148,1149,1150,1151,1152,1153,1154,1155,1156,1157,1158,1159,1160,1161,1162,1163,1164,1165,1166,1167,1168,1169,1170,1171,1172,1173,1174,1175,1176,1177,1178]}}},{\"_typename\":\"TWebSnapshot\",\"fUniqueID\":0,\"fBits\":0,\"fObjectID\":\"\",\"fOption\":\"\",\"fKind\":5,\"fSnapshot\":{\"_typename\":\"TStyle\",\"fUniqueID\":0,\"fBits\":0,\"fName\":\"Modern\",\"fTitle\":\"Modern Style\",\"fLineColor\":1,\"fLineStyle\":1,\"fLineWidth\":1,\"fFillColor\":19,\"fFillStyle\":1001,\"fMarkerColor\":1,\"fMarkerStyle\":1,\"fMarkerSize\":1,\"fTextAngle\":0,\"fTextSize\":0.05,\"fTextAlign\":11,\"fTextColor\":1,\"fTextFont\":62,\"fXaxis\":{\"_typename\":\"TAttAxis\",\"fNdivisions\":510,\"fAxisColor\":1,\"fLabelColor\":1,\"fLabelFont\":42,\"fLabelOffset\":0.005,\"fLabelSize\":0.035,\"fTickLength\":0.03,\"fTitleOffset\":1,\"fTitleSize\":0.035,\"fTitleColor\":1,\"fTitleFont\":42},\"fYaxis\":{\"_typename\":\"TAttAxis\",\"fNdivisions\":510,\"fAxisColor\":1,\"fLabelColor\":1,\"fLabelFont\":42,\"fLabelOffset\":0.005,\"fLabelSize\":0.035,\"fTickLength\":0.03,\"fTitleOffset\":0,\"fTitleSize\":0.035,\"fTitleColor\":1,\"fTitleFont\":42},\"fZaxis\":{\"_typename\":\"TAttAxis\",\"fNdivisions\":510,\"fAxisColor\":1,\"fLabelColor\":1,\"fLabelFont\":42,\"fLabelOffset\":0.005,\"fLabelSize\":0.035,\"fTickLength\":0.03,\"fTitleOffset\":1,\"fTitleSize\":0.035,\"fTitleColor\":1,\"fTitleFont\":42},\"fBarWidth\":1,\"fBarOffset\":0,\"fColorModelPS\":0,\"fDrawBorder\":0,\"fOptLogx\":0,\"fOptLogy\":0,\"fOptLogz\":0,\"fOptDate\":0,\"fOptStat\":1111,\"fOptTitle\":1,\"fOptFile\":0,\"fOptFit\":0,\"fShowEventStatus\":0,\"fShowEditor\":0,\"fShowToolBar\":0,\"fNumberContours\":20,\"fAttDate\":{\"_typename\":\"TAttText\",\"fTextAngle\":0,\"fTextSize\":0.025,\"fTextAlign\":11,\"fTextColor\":1,\"fTextFont\":62},\"fDateX\":0.01,\"fDateY\":0.01,\"fEndErrorSize\":2,\"fErrorX\":0.5,\"fFuncColor\":2,\"fFuncStyle\":1,\"fFuncWidth\":2,\"fGridColor\":0,\"fGridStyle\":3,\"fGridWidth\":1,\"fLegendBorderSize\":1,\"fLegendFillColor\":0,\"fLegendFillStyle\":1001,\"fLegendFont\":42,\"fLegendTextSize\":0,\"fHatchesLineWidth\":1,\"fHatchesSpacing\":1,\"fFrameFillColor\":0,\"fFrameLineColor\":1,\"fFrameFillStyle\":1001,\"fFrameLineStyle\":1,\"fFrameLineWidth\":1,\"fFrameBorderSize\":1,\"fFrameBorderMode\":0,\"fHistFillColor\":0,\"fHistLineColor\":602,\"fHistFillStyle\":1001,\"fHistLineStyle\":1,\"fHistLineWidth\":1,\"fHistMinimumZero\":false,\"fHistTopMargin\":0.05,\"fCanvasPreferGL\":false,\"fCanvasColor\":0,\"fCanvasBorderSize\":2,\"fCanvasBorderMode\":0,\"fCanvasDefH\":500,\"fCanvasDefW\":700,\"fCanvasDefX\":10,\"fCanvasDefY\":10,\"fPadColor\":0,\"fPadBorderSize\":2,\"fPadBorderMode\":0,\"fPadBottomMargin\":0.1,\"fPadTopMargin\":0.1,\"fPadLeftMargin\":0.1,\"fPadRightMargin\":0.1,\"fPadGridX\":false,\"fPadGridY\":false,\"fPadTickX\":0,\"fPadTickY\":0,\"fPaperSizeX\":20,\"fPaperSizeY\":26,\"fScreenFactor\":1,\"fStatColor\":0,\"fStatTextColor\":1,\"fStatBorderSize\":1,\"fStatFont\":42,\"fStatFontSize\":0,\"fStatStyle\":1001,\"fStatFormat\":\"6.4g\",\"fStatX\":0.98,\"fStatY\":0.935,\"fStatW\":0.2,\"fStatH\":0.16,\"fStripDecimals\":true,\"fTitleAlign\":23,\"fTitleColor\":0,\"fTitleTextColor\":1,\"fTitleBorderSize\":0,\"fTitleFont\":42,\"fTitleFontSize\":0.05,\"fTitleStyle\":0,\"fTitleX\":0.5,\"fTitleY\":0.995,\"fTitleW\":0,\"fTitleH\":0,\"fLegoInnerR\":0.5,\"fLineStyles\":[\"\",\"  \",\" 12 12\",\" 4 8\",\" 12 16 4 16\",\" 20 12 4 12\",\" 20 12 4 12 4 12 4 12\",\" 20 20\",\" 20 12 4 12 4 12\",\" 80 20\",\" 80 40 4 40\",\"  \",\"  \",\"  \",\"  \",\"  \",\"  \",\"  \",\"  \",\"  \",\"  \",\"  \",\"  \",\"  \",\"  \",\"  \",\"  \",\"  \",\"  \",\"  \"],\"fHeaderPS\":\"\",\"fTitlePS\":\"\",\"fFitFormat\":\"5.4g\",\"fPaintTextFormat\":\"g\",\"fLineScalePS\":3,\"fJoinLinePS\":0,\"fCapLinePS\":0,\"fTimeOffset\":788918400,\"fImageScaling\":1,\"fCandleWhiskerRange\":1,\"fCandleBoxRange\":0.5,\"fCandleScaled\":false,\"fViolinScaled\":true,\"fXAxisExpXOffset\":0,\"fXAxisExpYOffset\":0,\"fYAxisExpXOffset\":0,\"fYAxisExpYOffset\":0,\"fAxisMaxDigits\":5,\"fOrthoCamera\":false}},{\"_typename\":\"TPadWebSnapshot\",\"fUniqueID\":0,\"fBits\":0,\"fObjectID\":\"\",\"fOption\":\"\",\"fKind\":3,\"fSnapshot\":{\"_typename\":\"TPad\",\"fUniqueID\":0,\"fBits\":9,\"fLineColor\":1,\"fLineStyle\":1,\"fLineWidth\":1,\"fFillColor\":0,\"fFillStyle\":1001,\"fLeftMargin\":0.1,\"fRightMargin\":0.1,\"fBottomMargin\":0,\"fTopMargin\":0.1,\"fXfile\":2,\"fYfile\":2,\"fAfile\":1,\"fXstat\":0.99,\"fYstat\":0.99,\"fAstat\":2,\"fFrameFillColor\":0,\"fFrameLineColor\":1,\"fFrameFillStyle\":1001,\"fFrameLineStyle\":1,\"fFrameLineWidth\":1,\"fFrameBorderSize\":1,\"fFrameBorderMode\":0,\"fX1\":92.4999994412064,\"fY1\":0,\"fX2\":167.500000558794,\"fY2\":9008.85326511069,\"fXtoAbsPixelk\":-981.733312773704,\"fXtoPixelk\":-981.733312773704,\"fXtoPixel\":10.6133331751823,\"fYtoAbsPixelk\":400.4,\"fYtoPixelk\":400.4,\"fYtoPixel\":-0.0444451683490796,\"fUtoAbsPixelk\":0,\"fUtoPixelk\":0,\"fUtoPixel\":796,\"fVtoAbsPixelk\":400.4,\"fVtoPixelk\":400.4,\"fVtoPixel\":-400.4,\"fAbsPixeltoXk\":92.4999994412064,\"fPixeltoXk\":92.4999994412064,\"fPixeltoX\":0.0942211069316421,\"fAbsPixeltoYk\":9008.85326511069,\"fPixeltoYk\":0,\"fPixeltoY\":-22.4996335292475,\"fXlowNDC\":0,\"fYlowNDC\":0.3,\"fXUpNDC\":1,\"fYUpNDC\":1,\"fWNDC\":1,\"fHNDC\":0.7,\"fAbsXlowNDC\":0,\"fAbsYlowNDC\":0.3,\"fAbsWNDC\":1,\"fAbsHNDC\":0.7,\"fUxmin\":100,\"fUymin\":0,\"fUxmax\":160,\"fUymax\":8107.96790503903,\"fTheta\":30,\"fPhi\":30,\"fAspectRatio\":0,\"fNumber\":0,\"fTickx\":0,\"fTicky\":0,\"fLogx\":0,\"fLogy\":0,\"fLogz\":0,\"fPadPaint\":0,\"fCrosshair\":0,\"fCrosshairPos\":0,\"fBorderSize\":2,\"fBorderMode\":0,\"fModified\":false,\"fGridx\":false,\"fGridy\":false,\"fAbsCoord\":false,\"fEditable\":true,\"fFixedAspectRatio\":false,\"fPrimitives\":{\"_typename\":\"TList\",\"name\":\"TList\",\"arr\":[],\"opt\":[]},\"fExecs\":{\"_typename\":\"TList\",\"name\":\"TList\",\"arr\":[],\"opt\":[]},\"fName\":\"mainPad\",\"fTitle\":\"mainPad\",\"fNumPaletteColor\":0,\"fNextPaletteColor\":0},\"fActive\":false,\"fReadOnly\":true,\"fWithoutPrimitives\":false,\"fHasExecs\":true,\"fPrimitives\":[{\"_typename\":\"TWebSnapshot\",\"fUniqueID\":0,\"fBits\":0,\"fObjectID\":\"\",\"fOption\":\"\",\"fKind\":1,\"fSnapshot\":{\"_typename\":\"TFrame\",\"fUniqueID\":0,\"fBits\":8,\"fLineColor\":1,\"fLineStyle\":1,\"fLineWidth\":1,\"fFillColor\":0,\"fFillStyle\":1001,\"fX1\":100,\"fY1\":0,\"fX2\":160,\"fY2\":8107.96790503903,\"fBorderSize\":1,\"fBorderMode\":0}},{\"_typename\":\"TWebSnapshot\",\"fUniqueID\":0,\"fBits\":0,\"fObjectID\":\"\",\"fOption\":\"FUNC\",\"fKind\":1,\"fSnapshot\":{\"_typename\":\"TH1D\",\"fUniqueID\":0,\"fBits\":520,\"fName\":\"frame_m_yy_2313a9a0\",\"fTitle\":\"Di-photon invariant mass m_{#gamma#gamma}\",\"fLineColor\":602,\"fLineStyle\":1,\"fLineWidth\":1,\"fFillColor\":0,\"fFillStyle\":1001,\"fMarkerColor\":1,\"fMarkerStyle\":1,\"fMarkerSize\":1,\"fNcells\":102,\"fXaxis\":{\"_typename\":\"TAxis\",\"fUniqueID\":0,\"fBits\":0,\"fName\":\"xaxis\",\"fTitle\":\"di-photon invariant mass m_{#gamma#gamma} [GeV]\",\"fNdivisions\":510,\"fAxisColor\":1,\"fLabelColor\":1,\"fLabelFont\":42,\"fLabelOffset\":0.005,\"fLabelSize\":0.03,\"fTickLength\":0.03,\"fTitleOffset\":1,\"fTitleSize\":0.05,\"fTitleColor\":1,\"fTitleFont\":42,\"fNbins\":100,\"fXmin\":100,\"fXmax\":160,\"fXbins\":[],\"fFirst\":0,\"fLast\":0,\"fBits2\":0,\"fTimeDisplay\":false,\"fTimeFormat\":\"\",\"fLabels\":null,\"fModLabs\":null},\"fYaxis\":{\"_typename\":\"TAxis\",\"fUniqueID\":0,\"fBits\":0,\"fName\":\"yaxis\",\"fTitle\":\"Events \\/ bin\",\"fNdivisions\":510,\"fAxisColor\":1,\"fLabelColor\":1,\"fLabelFont\":42,\"fLabelOffset\":0.005,\"fLabelSize\":0.03,\"fTickLength\":0.03,\"fTitleOffset\":0,\"fTitleSize\":0.05,\"fTitleColor\":1,\"fTitleFont\":42,\"fNbins\":1,\"fXmin\":0,\"fXmax\":1,\"fXbins\":[],\"fFirst\":0,\"fLast\":0,\"fBits2\":0,\"fTimeDisplay\":false,\"fTimeFormat\":\"\",\"fLabels\":null,\"fModLabs\":null},\"fZaxis\":{\"_typename\":\"TAxis\",\"fUniqueID\":0,\"fBits\":0,\"fName\":\"zaxis\",\"fTitle\":\"\",\"fNdivisions\":510,\"fAxisColor\":1,\"fLabelColor\":1,\"fLabelFont\":42,\"fLabelOffset\":0.005,\"fLabelSize\":0.035,\"fTickLength\":0.03,\"fTitleOffset\":1,\"fTitleSize\":0.035,\"fTitleColor\":1,\"fTitleFont\":42,\"fNbins\":1,\"fXmin\":0,\"fXmax\":1,\"fXbins\":[],\"fFirst\":0,\"fLast\":0,\"fBits2\":0,\"fTimeDisplay\":false,\"fTimeFormat\":\"\",\"fLabels\":null,\"fModLabs\":null},\"fBarOffset\":0,\"fBarWidth\":1000,\"fEntries\":1,\"fTsumw\":0,\"fTsumw2\":0,\"fTsumwx\":0,\"fTsumwx2\":0,\"fMaximum\":8107.96790503903,\"fMinimum\":-1111,\"fNormFactor\":0,\"fContour\":[],\"fSumw2\":[],\"fOption\":\"\",\"fFunctions\":{\"_typename\":\"TList\",\"name\":\"TList\",\"arr\":[],\"opt\":[]},\"fBufferSize\":0,\"fBuffer\":[],\"fBinStatErrOpt\":0,\"fStatOverflows\":2,\"fArray\":{\"$arr\":\"Float64\",\"len\":102,\"p\":1,\"v\":8107.96790503903}}},{\"_typename\":\"TWebSnapshot\",\"fUniqueID\":0,\"fBits\":0,\"fObjectID\":\"\",\"fOption\":\"p\",\"fKind\":1,\"fSnapshot\":{\"_typename\":\"RooHist\",\"fUniqueID\":0,\"fBits\":1032,\"fName\":\"h_data\",\"fTitle\":\"Histogram of data_plot__m_yy\",\"fLineColor\":1,\"fLineStyle\":1,\"fLineWidth\":1,\"fFillColor\":0,\"fFillStyle\":1000,\"fMarkerColor\":1,\"fMarkerStyle\":20,\"fMarkerSize\":0.5,\"fNpoints\":60,\"fX\":{\"$arr\":\"Float64\",\"len\":60,\"v\":[100.5,101.5,102.5,103.5,104.5,105.5,106.5,107.5,108.5,109.5,110.5,111.5,112.5,113.5,114.5,115.5,116.5,117.5,118.5,119.5,120.5,121.5,122.5,123.5,124.5,125.5,126.5,127.5,128.5,129.5,130.5,131.5,132.5,133.5,134.5,135.5,136.5,137.5,138.5,139.5,140.5,141.5,142.5,143.5,144.5,145.5,146.5,147.5,148.5,149.5,150.5,151.5,152.5,153.5,154.5,155.5,156.5,157.5,158.5,159.5]},\"fY\":{\"$arr\":\"Float64\",\"len\":60,\"v\":[7634,7556,7561,7333,7164,7178,6907,6652,6818,6430,6402,6151,6097,6067,5794,5552,5542,5411,5284,4994,4998,4919,4785,4757,4772,4588,4343,4110,4016,3971,3725,3613,3534,3424,3434,3312,3206,2944,2922,2934,2891,2655,2652,2564,2468,2471,2372,2297,2218,2163,2042,2103,1986,1907,1857,1798,1798,1694,1697,1658]},\"fFunctions\":{\"_typename\":\"TList\",\"name\":\"TList\",\"arr\":[],\"opt\":[]},\"fHistogram\":{\"_typename\":\"TH1F\",\"fUniqueID\":0,\"fBits\":512,\"fName\":\"h_data\",\"fTitle\":\"Histogram of data_plot__m_yy\",\"fLineColor\":602,\"fLineStyle\":1,\"fLineWidth\":1,\"fFillColor\":0,\"fFillStyle\":1001,\"fMarkerColor\":1,\"fMarkerStyle\":1,\"fMarkerSize\":1,\"fNcells\":102,\"fXaxis\":{\"_typename\":\"TAxis\",\"fUniqueID\":0,\"fBits\":0,\"fName\":\"xaxis\",\"fTitle\":\"\",\"fNdivisions\":510,\"fAxisColor\":1,\"fLabelColor\":1,\"fLabelFont\":42,\"fLabelOffset\":0.005,\"fLabelSize\":0.035,\"fTickLength\":0.03,\"fTitleOffset\":1,\"fTitleSize\":0.035,\"fTitleColor\":1,\"fTitleFont\":42,\"fNbins\":100,\"fXmin\":94,\"fXmax\":166,\"fXbins\":[],\"fFirst\":0,\"fLast\":0,\"fBits2\":0,\"fTimeDisplay\":false,\"fTimeFormat\":\"\",\"fLabels\":null,\"fModLabs\":null},\"fYaxis\":{\"_typename\":\"TAxis\",\"fUniqueID\":0,\"fBits\":0,\"fName\":\"yaxis\",\"fTitle\":\"\",\"fNdivisions\":510,\"fAxisColor\":1,\"fLabelColor\":1,\"fLabelFont\":42,\"fLabelOffset\":0.005,\"fLabelSize\":0.035,\"fTickLength\":0.03,\"fTitleOffset\":0,\"fTitleSize\":0.035,\"fTitleColor\":1,\"fTitleFont\":42,\"fNbins\":1,\"fXmin\":1007.36880300283,\"fXmax\":8332.28377639094,\"fXbins\":[],\"fFirst\":0,\"fLast\":0,\"fBits2\":0,\"fTimeDisplay\":false,\"fTimeFormat\":\"\",\"fLabels\":null,\"fModLabs\":null},\"fZaxis\":{\"_typename\":\"TAxis\",\"fUniqueID\":0,\"fBits\":0,\"fName\":\"zaxis\",\"fTitle\":\"\",\"fNdivisions\":510,\"fAxisColor\":1,\"fLabelColor\":1,\"fLabelFont\":42,\"fLabelOffset\":0.005,\"fLabelSize\":0.035,\"fTickLength\":0.03,\"fTitleOffset\":1,\"fTitleSize\":0.035,\"fTitleColor\":1,\"fTitleFont\":42,\"fNbins\":1,\"fXmin\":0,\"fXmax\":1,\"fXbins\":[],\"fFirst\":0,\"fLast\":0,\"fBits2\":0,\"fTimeDisplay\":false,\"fTimeFormat\":\"\",\"fLabels\":null,\"fModLabs\":null},\"fBarOffset\":0,\"fBarWidth\":1000,\"fEntries\":0,\"fTsumw\":0,\"fTsumw2\":0,\"fTsumwx\":0,\"fTsumwx2\":0,\"fMaximum\":8332.28377639094,\"fMinimum\":1007.36880300283,\"fNormFactor\":0,\"fContour\":[],\"fSumw2\":[],\"fOption\":\"\",\"fFunctions\":{\"_typename\":\"TList\",\"name\":\"TList\",\"arr\":[],\"opt\":[]},\"fBufferSize\":0,\"fBuffer\":[],\"fBinStatErrOpt\":0,\"fStatOverflows\":2,\"fArray\":{\"$arr\":\"Float32\",\"len\":102}},\"fMinimum\":-1111,\"fMaximum\":-1111,\"fOption\":\"\",\"fEXlow\":{\"$arr\":\"Float64\",\"len\":60,\"v\":0.5,\"n\":60},\"fEXhigh\":{\"$arr\":\"Float64\",\"len\":60,\"v\":0.5,\"n\":60},\"fEYlow\":{\"$arr\":\"Float64\",\"len\":60,\"v\":[86.8741952752644,86.4266932535684,86.4554483629408,85.1343972945451,84.1418927009554,84.2245537019817,82.6098670435704,81.0613266199125,82.0726952448567,79.6888396224813,79.5140612642554,77.9299050107802,77.5848897034502,77.3925542012839,75.6199710982601,74.0134216098013,73.9462893635409,73.0611990114357,72.1928469658469,70.1700077826517,70.1983026670368,69.6373652199736,68.6755014437913,68.4728207339676,68.5814736380171,67.2366222954761,65.4033383069473,63.6112314653215,62.8738905228329,62.5178546128,60.534826124107,59.6103152545384,58.9495584508413,58.0170915203412,58.1024743504913,57.0521502639126,56.1237582645308,53.7609435966606,53.5578393944857,53.6687179098785,53.270344986805,51.0291179819719,51,50.1384241460969,49.1814854850377,49.2116686503277,48.2057491473029,47.4296359260115,46.5983014555727,46.0107514452302,44.6912602169932,45.3612036475274,44.0673647414787,43.1720734566152,42.595823463533,41.905777908205,41.905777908205,40.6612682020368,40.6976941102291,40.2216158814947]},\"fEYhigh\":{\"$arr\":\"Float64\",\"len\":60,\"v\":[87.8741952752644,87.4266932535684,87.4554483629408,86.1343972945451,85.1418927009554,85.2245537019817,83.6098670435704,82.0613266199125,83.0726952448567,80.6888396224813,80.5140612642554,78.9299050107802,78.5848897034502,78.3925542012839,76.6199710982601,75.0134216098013,74.9462893635409,74.0611990114357,73.1928469658469,71.1700077826517,71.1983026670368,70.6373652199736,69.6755014437913,69.4728207339676,69.5814736380171,68.2366222954761,66.4033383069473,64.611231465321,63.8738905228329,63.5178546128,61.534826124107,60.6103152545384,59.9495584508413,59.0170915203412,59.1024743504913,58.0521502639126,57.1237582645308,54.7609435966606,54.5578393944857,54.6687179098785,54.270344986805,52.0291179819719,52,51.1384241460969,50.1814854850377,50.2116686503277,49.2057491473029,48.4296359260115,47.5983014555727,47.0107514452302,45.6912602169932,46.3612036475274,45.0673647414787,44.1720734566152,43.595823463533,42.905777908205,42.905777908205,41.6612682020368,41.6976941102291,41.2216158814947]},\"_yAxisLabel\":\"Events \\/ ( 1 )\",\"_ymin\":0,\"_ymax\":7721.87419527526,\"_normValue\":0,\"_nominalBinWidth\":1,\"_nSigma\":1,\"_entries\":250125,\"_rawEntries\":-1,\"_originalWeights\":{\"$arr\":\"Float64\",\"len\":60,\"v\":[7634,7556,7561,7333,7164,7178,6907,6652,6818,6430,6402,6151,6097,6067,5794,5552,5542,5411,5284,4994,4998,4919,4785,4757,4772,4588,4343,4110,4016,3971,3725,3613,3534,3424,3434,3312,3206,2944,2922,2934,2891,2655,2652,2564,2468,2471,2372,2297,2218,2163,2042,2103,1986,1907,1857,1798,1798,1694,1697,1658]}}},{\"_typename\":\"TWebSnapshot\",\"fUniqueID\":0,\"fBits\":0,\"fObjectID\":\"\",\"fOption\":\"l\",\"fKind\":1,\"fSnapshot\":{\"_typename\":\"RooCurve\",\"fUniqueID\":0,\"fBits\":525320,\"fName\":\"sig_bkg_curve\",\"fTitle\":\"Projection of sig + bkg\",\"fLineColor\":600,\"fLineStyle\":1,\"fLineWidth\":2,\"fFillColor\":0,\"fFillStyle\":1000,\"fMarkerColor\":1,\"fMarkerStyle\":1,\"fMarkerSize\":1,\"fNpoints\":107,\"fX\":{\"$arr\":\"Float64\",\"len\":107,\"v\":[99.3994,99.4,100,100.6,101.2,101.8,102.4,103,103.6,104.2,104.8,105.4,106,106.6,107.2,107.8,108.4,109,109.6,110.2,110.8,111.4,112,112.6,113.2,113.8,114.4,115,115.6,116.2,116.8,117.4,118,118.6,119.2,119.8,120.4,121,121.6,122.2,122.8,123.4,124,124.6,124.9,125.2,125.8,126.4,127,127.6,128.2,128.8,129.4,130,130.6,131.2,131.8,132.4,133,133.6,134.2,134.8,135.4,136,136.6,137.2,137.8,138.4,139,139.6,140.2,140.8,141.4,142,142.6,143.2,143.8,144.4,145,145.6,146.2,146.8,147.4,148,148.6,149.2,149.8,150.4,151,151.6,152.2,152.8,153.4,154,154.6,155.2,155.8,156.4,157,157.6,158.2,158.8,159.4,160,160,160.6,160.6006]},\"fY\":{\"$arr\":\"Float64\",\"len\":107,\"p\":1,\"v\":[7701.86921166606,7701.86921166606,7644.20300004624,7583.42048088797,7519.74025059911,7453.37336870057,7384.52348165435,7313.3869466916,7240.15295564066,7165.00365875509,7088.11428854173,7009.65328358872,6929.78241239357,6848.65689719119,6766.42553778193,6683.23083535964,6599.2091163397,6514.49065618705,6429.19980324426,6343.45510255956,6257.36941971488,6171.0500646539,6084.59891551012,5998.11254243482,5911.68233142521,5825.39460815273,5739.33076179744,5653.56736898666,5568.17631920556,5483.22495717832,5398.77638419425,5314.89096019786,5231.63504738012,5149.12405877882,5067.68968570989,4988.3720553669,4913.93967475965,4850.06466506457,4804.83869974182,4783.95277068493,4781.95322824529,4777.08309005068,4739.43682073214,4701.62845245835,4650.69004043228,4518.29908301692,4369.59597197607,4231.98344535721,4118.26946271718,4026.68337790398,3949.33225322734,3879.2247653123,3812.43018302955,3747.32547745957,3683.38994761392,3620.48702631059,3558.58247279337,3497.66283605086,3437.71731312844,3378.73464288958,3320.70277187132,3263.60892557349,3207.43972737914,3152.18132200762,3097.81949931912,3044.33981814148,2991.72773009821,2939.96870343653,2889.04834685536,2838.95253333346,2789.66752395737,2741.18009174953,2693.47764549629,2646.54835357594,2600.3812677868,2554.96644717522,2510.29508186363,2466.35961687861,2423.1538759789,2380.67318548347,2338.91449809954,2297.87651675064,2257.55981840465,2217.96697790184,2179.10269178291,2140.97390211705,2103.58992032996,2066.96255103191,2031.10621584578,1996.03807723509,1961.77816233207,1928.34948676569,1895.77817848967,1864.0936016106,1833.32848021591,1803.51902220194,1774.705043102,1746.93008991439,1720.24156493045,1694.6908495626,1670.33342817241,1647.22901189859,1625.4416625062,1625.4416625062,1625.4416625062]},\"fFunctions\":{\"_typename\":\"TList\",\"name\":\"TList\",\"arr\":[],\"opt\":[]},\"fHistogram\":{\"_typename\":\"TH1F\",\"fUniqueID\":0,\"fBits\":512,\"fName\":\"sig_bkg_curve\",\"fTitle\":\"Projection of sig + bkg\",\"fLineColor\":602,\"fLineStyle\":1,\"fLineWidth\":1,\"fFillColor\":0,\"fFillStyle\":1001,\"fMarkerColor\":1,\"fMarkerStyle\":1,\"fMarkerSize\":1,\"fNcells\":109,\"fXaxis\":{\"_typename\":\"TAxis\",\"fUniqueID\":0,\"fBits\":0,\"fName\":\"xaxis\",\"fTitle\":\"\",\"fNdivisions\":510,\"fAxisColor\":1,\"fLabelColor\":1,\"fLabelFont\":42,\"fLabelOffset\":0.005,\"fLabelSize\":0.035,\"fTickLength\":0.03,\"fTitleOffset\":1,\"fTitleSize\":0.035,\"fTitleColor\":1,\"fTitleFont\":42,\"fNbins\":107,\"fXmin\":93.27928,\"fXmax\":166.72072,\"fXbins\":[],\"fFirst\":0,\"fLast\":0,\"fBits2\":0,\"fTimeDisplay\":false,\"fTimeFormat\":\"\",\"fLabels\":null,\"fModLabs\":null},\"fYaxis\":{\"_typename\":\"TAxis\",\"fUniqueID\":0,\"fBits\":0,\"fName\":\"yaxis\",\"fTitle\":\"\",\"fNdivisions\":510,\"fAxisColor\":1,\"fLabelColor\":1,\"fLabelFont\":42,\"fLabelOffset\":0.005,\"fLabelSize\":0.035,\"fTickLength\":0.03,\"fTitleOffset\":0,\"fTitleSize\":0.035,\"fTitleColor\":1,\"fTitleFont\":42,\"fNbins\":1,\"fXmin\":0,\"fXmax\":8472.05613283267,\"fXbins\":[],\"fFirst\":0,\"fLast\":0,\"fBits2\":0,\"fTimeDisplay\":false,\"fTimeFormat\":\"\",\"fLabels\":null,\"fModLabs\":null},\"fZaxis\":{\"_typename\":\"TAxis\",\"fUniqueID\":0,\"fBits\":0,\"fName\":\"zaxis\",\"fTitle\":\"\",\"fNdivisions\":510,\"fAxisColor\":1,\"fLabelColor\":1,\"fLabelFont\":42,\"fLabelOffset\":0.005,\"fLabelSize\":0.035,\"fTickLength\":0.03,\"fTitleOffset\":1,\"fTitleSize\":0.035,\"fTitleColor\":1,\"fTitleFont\":42,\"fNbins\":1,\"fXmin\":0,\"fXmax\":1,\"fXbins\":[],\"fFirst\":0,\"fLast\":0,\"fBits2\":0,\"fTimeDisplay\":false,\"fTimeFormat\":\"\",\"fLabels\":null,\"fModLabs\":null},\"fBarOffset\":0,\"fBarWidth\":1000,\"fEntries\":0,\"fTsumw\":0,\"fTsumw2\":0,\"fTsumwx\":0,\"fTsumwx2\":0,\"fMaximum\":8472.05613283267,\"fMinimum\":0,\"fNormFactor\":0,\"fContour\":[],\"fSumw2\":[],\"fOption\":\"\",\"fFunctions\":{\"_typename\":\"TList\",\"name\":\"TList\",\"arr\":[],\"opt\":[]},\"fBufferSize\":0,\"fBuffer\":[],\"fBinStatErrOpt\":0,\"fStatOverflows\":2,\"fArray\":{\"$arr\":\"Float32\",\"len\":109}},\"fMinimum\":-1111,\"fMaximum\":-1111,\"fOption\":\"\",\"_yAxisLabel\":\"Projection of sig + bkg\",\"_ymin\":0,\"_ymax\":7701.86921166606,\"_normValue\":0}},{\"_typename\":\"TWebSnapshot\",\"fUniqueID\":0,\"fBits\":0,\"fObjectID\":\"\",\"fOption\":\"l\",\"fKind\":1,\"fSnapshot\":{\"_typename\":\"RooCurve\",\"fUniqueID\":0,\"fBits\":525320,\"fName\":\"bkg_curve\",\"fTitle\":\"Projection of sig + bkg\",\"fLineColor\":632,\"fLineStyle\":2,\"fLineWidth\":2,\"fFillColor\":0,\"fFillStyle\":1000,\"fMarkerColor\":1,\"fMarkerStyle\":1,\"fMarkerSize\":1,\"fNpoints\":106,\"fX\":{\"$arr\":\"Float64\",\"len\":106,\"v\":[99.3994,99.4,100,100.6,101.2,101.8,102.4,103,103.6,104.2,104.8,105.4,106,106.6,107.2,107.8,108.4,109,109.6,110.2,110.8,111.4,112,112.6,113.2,113.8,114.4,115,115.6,116.2,116.8,117.4,118,118.6,119.2,119.8,120.4,121,121.6,122.2,122.8,123.4,124,124.6,125.2,125.8,126.4,127,127.6,128.2,128.8,129.4,130,130.6,131.2,131.8,132.4,133,133.6,134.2,134.8,135.4,136,136.6,137.2,137.8,138.4,139,139.6,140.2,140.8,141.4,142,142.6,143.2,143.8,144.4,145,145.6,146.2,146.8,147.4,148,148.6,149.2,149.8,150.4,151,151.6,152.2,152.8,153.4,154,154.6,155.2,155.8,156.4,157,157.6,158.2,158.8,159.4,160,160,160.6,160.6006]},\"fY\":{\"$arr\":\"Float64\",\"len\":106,\"p\":1,\"v\":[7701.86921166606,7701.86921166606,7644.20300004624,7583.42048088797,7519.74025059911,7453.37336870057,7384.52348165435,7313.3869466916,7240.15295564066,7165.00365875509,7088.11428854173,7009.65328358872,6929.78241239357,6848.65689719119,6766.42553778193,6683.23083535964,6599.2091163397,6514.49065618705,6429.19980324426,6343.45510255956,6257.36941971488,6171.0500646539,6084.59891551012,5998.11254243482,5911.6823314252,5825.39460815236,5739.3307617894,5653.56736883938,5568.17631696343,5483.2249288088,5398.77608583685,5314.88835215113,5231.61609832541,5149.00962523173,5067.11528786845,4985.97561918828,4905.62945392633,4826.11205242815,4747.45522447776,4669.68745312574,4592.83401851722,4516.91712171994,4441.95600855232,4367.96709341146,4294.96408310122,4222.95810066024,4151.95780918999,4081.96953568283,4012.99739485001,3945.04341294977,3878.10765161535,3812.18833168302,3747.28195702015,3683.38343835326,3620.48621709604,3558.58238917738,3497.66282886947,3437.71731261579,3378.73464285916,3320.70277186982,3263.60892557343,3207.43972737914,3152.18132200762,3097.81949931912,3044.33981814148,2991.72773009821,2939.96870343653,2889.04834685536,2838.95253333346,2789.66752395737,2741.18009174953,2693.47764549629,2646.54835357594,2600.3812677868,2554.96644717522,2510.29508186363,2466.35961687861,2423.1538759789,2380.67318548347,2338.91449809954,2297.87651675064,2257.55981840465,2217.96697790184,2179.10269178291,2140.97390211705,2103.58992032996,2066.96255103191,2031.10621584578,1996.03807723509,1961.77816233207,1928.34948676569,1895.77817848967,1864.0936016106,1833.32848021591,1803.51902220194,1774.705043102,1746.93008991439,1720.24156493045,1694.6908495626,1670.33342817241,1647.22901189859,1625.4416625062,1625.4416625062,1625.4416625062]},\"fFunctions\":{\"_typename\":\"TList\",\"name\":\"TList\",\"arr\":[],\"opt\":[]},\"fHistogram\":{\"_typename\":\"TH1F\",\"fUniqueID\":0,\"fBits\":512,\"fName\":\"bkg_curve\",\"fTitle\":\"Projection of sig + bkg\",\"fLineColor\":602,\"fLineStyle\":1,\"fLineWidth\":1,\"fFillColor\":0,\"fFillStyle\":1001,\"fMarkerColor\":1,\"fMarkerStyle\":1,\"fMarkerSize\":1,\"fNcells\":108,\"fXaxis\":{\"_typename\":\"TAxis\",\"fUniqueID\":0,\"fBits\":0,\"fName\":\"xaxis\",\"fTitle\":\"\",\"fNdivisions\":510,\"fAxisColor\":1,\"fLabelColor\":1,\"fLabelFont\":42,\"fLabelOffset\":0.005,\"fLabelSize\":0.035,\"fTickLength\":0.03,\"fTitleOffset\":1,\"fTitleSize\":0.035,\"fTitleColor\":1,\"fTitleFont\":42,\"fNbins\":106,\"fXmin\":93.27928,\"fXmax\":166.72072,\"fXbins\":[],\"fFirst\":0,\"fLast\":0,\"fBits2\":0,\"fTimeDisplay\":false,\"fTimeFormat\":\"\",\"fLabels\":null,\"fModLabs\":null},\"fYaxis\":{\"_typename\":\"TAxis\",\"fUniqueID\":0,\"fBits\":0,\"fName\":\"yaxis\",\"fTitle\":\"\",\"fNdivisions\":510,\"fAxisColor\":1,\"fLabelColor\":1,\"fLabelFont\":42,\"fLabelOffset\":0.005,\"fLabelSize\":0.035,\"fTickLength\":0.03,\"fTitleOffset\":0,\"fTitleSize\":0.035,\"fTitleColor\":1,\"fTitleFont\":42,\"fNbins\":1,\"fXmin\":0,\"fXmax\":8472.05613283267,\"fXbins\":[],\"fFirst\":0,\"fLast\":0,\"fBits2\":0,\"fTimeDisplay\":false,\"fTimeFormat\":\"\",\"fLabels\":null,\"fModLabs\":null},\"fZaxis\":{\"_typename\":\"TAxis\",\"fUniqueID\":0,\"fBits\":0,\"fName\":\"zaxis\",\"fTitle\":\"\",\"fNdivisions\":510,\"fAxisColor\":1,\"fLabelColor\":1,\"fLabelFont\":42,\"fLabelOffset\":0.005,\"fLabelSize\":0.035,\"fTickLength\":0.03,\"fTitleOffset\":1,\"fTitleSize\":0.035,\"fTitleColor\":1,\"fTitleFont\":42,\"fNbins\":1,\"fXmin\":0,\"fXmax\":1,\"fXbins\":[],\"fFirst\":0,\"fLast\":0,\"fBits2\":0,\"fTimeDisplay\":false,\"fTimeFormat\":\"\",\"fLabels\":null,\"fModLabs\":null},\"fBarOffset\":0,\"fBarWidth\":1000,\"fEntries\":0,\"fTsumw\":0,\"fTsumw2\":0,\"fTsumwx\":0,\"fTsumwx2\":0,\"fMaximum\":8472.05613283267,\"fMinimum\":0,\"fNormFactor\":0,\"fContour\":[],\"fSumw2\":[],\"fOption\":\"\",\"fFunctions\":{\"_typename\":\"TList\",\"name\":\"TList\",\"arr\":[],\"opt\":[]},\"fBufferSize\":0,\"fBuffer\":[],\"fBinStatErrOpt\":0,\"fStatOverflows\":2,\"fArray\":{\"$arr\":\"Float32\",\"len\":108}},\"fMinimum\":-1111,\"fMaximum\":-1111,\"fOption\":\"\",\"_yAxisLabel\":\"Projection of sig + bkg\",\"_ymin\":0,\"_ymax\":7701.86921166606,\"_normValue\":0}},{\"_typename\":\"TWebSnapshot\",\"fUniqueID\":0,\"fBits\":0,\"fObjectID\":\"\",\"fOption\":\"l\",\"fKind\":1,\"fSnapshot\":{\"_typename\":\"RooCurve\",\"fUniqueID\":0,\"fBits\":525320,\"fName\":\"gaussian_curve\",\"fTitle\":\"Projection of sig + bkg\",\"fLineColor\":600,\"fLineStyle\":3,\"fLineWidth\":3,\"fFillColor\":0,\"fFillStyle\":1000,\"fMarkerColor\":1,\"fMarkerStyle\":1,\"fMarkerSize\":1,\"fNpoints\":151,\"fX\":{\"$arr\":\"Float64\",\"len\":151,\"v\":[99.3994,99.4,100,100.6,101.2,101.8,102.4,103,103.6,104.2,104.8,105.4,106,106.6,107.2,107.8,108.4,109,109.6,110.2,110.8,111.4,112,112.6,113.2,113.8,114.4,115,115.6,116.2,116.8,117.4,118,118.6,119.2,119.8,120.4,120.7,121,121.15,121.3,121.45,121.6,121.75,121.9,122.05,122.2,122.35,122.5,122.65,122.8,122.95,123.1,123.4,123.55,123.7,123.85,124,124.075,124.15,124.225,124.3,124.375,124.45,124.525,124.6,124.675,124.75,124.825,124.9,124.975,125.05,125.125,125.2,125.275,125.35,125.5,125.65,125.8,126.4,126.55,126.7,126.85,127,127.15,127.3,127.45,127.6,127.75,127.9,128.05,128.2,128.35,128.5,128.8,129.1,129.4,130,130.6,131.2,131.8,132.4,133,133.6,134.2,134.8,135.4,136,136.6,137.2,137.8,138.4,139,139.6,140.2,140.8,141.4,142,142.6,143.2,143.8,144.4,145,145.6,146.2,146.8,147.4,148,148.6,149.2,149.8,150.4,151,151.6,152.2,152.8,153.4,154,154.6,155.2,155.8,156.4,157,157.6,158.2,158.8,159.4,160,160,160.6,160.6006]},\"fY\":{\"$arr\":\"Float64\",\"len\":151,\"p\":1,\"v\":[1.72062980187308e-66,1.72062980187308e-66,3.20738246484517e-63,4.9694427229958e-60,6.39967997804756e-57,6.85018742412084e-54,6.09453085493278e-51,4.50683579619385e-48,2.77010875034948e-45,1.41519254543101e-42,6.00935519179753e-40,2.12096667847735e-37,6.2220492700517e-35,1.51714355002172e-32,3.07477635996978e-30,5.17957374463634e-28,7.25217269201411e-26,8.43987243719536e-24,8.16389211855696e-22,6.56375346647861e-20,4.38632586991756e-18,2.43636950439733e-16,1.12480968095127e-14,4.31626961790245e-13,1.3766759136115e-11,3.64962709238368e-10,8.04190426465654e-9,1.47286497474109e-7,2.24212901870244e-6,2.83695138445104e-5,2.98357401854578e-4,0.00260804673008963,0.0189490547146897,0.114433547094604,0.574397841444456,2.39643617861951,4.56696320350342,8.31022083331613,11.0173302700724,14.4384649953212,18.7045184531167,23.9526126364262,30.3207613538785,37.9409468739513,46.9307051756258,57.3834752640616,69.3581442920075,82.8683964502047,97.8726296422547,114.265317559187,131.870744044654,150.440003220236,189.119209728069,208.397774763847,227.002877336509,244.427743563251,260.165968330741,267.250361021458,273.735628333697,279.569356385068,284.703639588001,289.095734943218,292.708654179307,295.511682272044,297.480812179818,298.599087189997,298.856844048301,298.251851995461,296.789344913155,294.481945931329,291.349486015854,287.418720183027,282.722947020817,277.30153908416,271.199393425628,257.156330731145,241.038590268149,223.334999915698,146.637871315836,128.239145862118,110.860271476323,94.7353601765781,80.0256361672169,66.8231604019731,55.1576481362475,45.0054719352454,36.2999270343497,28.9418998130213,22.8102041058099,17.7710119425722,13.6859830539673,10.4188716721177,7.84054463857738,4.28884027757221,2.24004591928324,1.11711369695336,0.241851346535921,0.0435204394215568,0.00650926065729265,8.09214549935537e-4,8.36159892245284e-5,7.18139161504801e-6,5.12650656103158e-7,3.04178177750169e-8,1.50012766111559e-9,6.14924807067319e-11,2.09512257768987e-12,5.93322051158267e-14,1.39657791816533e-15,2.73233208231992e-17,4.44319548537099e-19,6.00552514624764e-21,6.7468365264914e-23,6.30003575470304e-25,4.88966910027852e-27,3.15434763783328e-29,1.69134914696047e-31,7.53790416491998e-34,2.79229683202905e-36,8.59738122427908e-39,2.20021142075865e-41,4.68011229575607e-44,8.27450003078405e-47,1.21596445290135e-49,1.48522970051358e-52,1.50785645883768e-55,1.27238929014764e-58,8.92428925651542e-62,5.2026055598906e-65,2.52093583732662e-68,1.01530450382422e-71,3.3987910208869e-75,9.45684434525555e-79,2.18706478811979e-82,4.20407722635362e-86,6.71696910714275e-90,8.92009840897457e-94,9.84599406104534e-98,9.03323112647936e-102,6.88843086870585e-106,4.36607423089521e-110,2.30014680396656e-114,1.00719514633215e-118,3.66577092528181e-123,1.10894664019625e-127,2.78836489004482e-132,5.82749883783222e-137,5.82749883783222e-137,5.82749883783222e-137]},\"fFunctions\":{\"_typename\":\"TList\",\"name\":\"TList\",\"arr\":[],\"opt\":[]},\"fHistogram\":{\"_typename\":\"TH1F\",\"fUniqueID\":0,\"fBits\":512,\"fName\":\"gaussian_curve\",\"fTitle\":\"Projection of sig + bkg\",\"fLineColor\":602,\"fLineStyle\":1,\"fLineWidth\":1,\"fFillColor\":0,\"fFillStyle\":1001,\"fMarkerColor\":1,\"fMarkerStyle\":1,\"fMarkerSize\":1,\"fNcells\":153,\"fXaxis\":{\"_typename\":\"TAxis\",\"fUniqueID\":0,\"fBits\":0,\"fName\":\"xaxis\",\"fTitle\":\"\",\"fNdivisions\":510,\"fAxisColor\":1,\"fLabelColor\":1,\"fLabelFont\":42,\"fLabelOffset\":0.005,\"fLabelSize\":0.035,\"fTickLength\":0.03,\"fTitleOffset\":1,\"fTitleSize\":0.035,\"fTitleColor\":1,\"fTitleFont\":42,\"fNbins\":151,\"fXmin\":93.27928,\"fXmax\":166.72072,\"fXbins\":[],\"fFirst\":0,\"fLast\":0,\"fBits2\":0,\"fTimeDisplay\":false,\"fTimeFormat\":\"\",\"fLabels\":null,\"fModLabs\":null},\"fYaxis\":{\"_typename\":\"TAxis\",\"fUniqueID\":0,\"fBits\":0,\"fName\":\"yaxis\",\"fTitle\":\"\",\"fNdivisions\":510,\"fAxisColor\":1,\"fLabelColor\":1,\"fLabelFont\":42,\"fLabelOffset\":0.005,\"fLabelSize\":0.035,\"fTickLength\":0.03,\"fTitleOffset\":0,\"fTitleSize\":0.035,\"fTitleColor\":1,\"fTitleFont\":42,\"fNbins\":1,\"fXmin\":0,\"fXmax\":328.742528453131,\"fXbins\":[],\"fFirst\":0,\"fLast\":0,\"fBits2\":0,\"fTimeDisplay\":false,\"fTimeFormat\":\"\",\"fLabels\":null,\"fModLabs\":null},\"fZaxis\":{\"_typename\":\"TAxis\",\"fUniqueID\":0,\"fBits\":0,\"fName\":\"zaxis\",\"fTitle\":\"\",\"fNdivisions\":510,\"fAxisColor\":1,\"fLabelColor\":1,\"fLabelFont\":42,\"fLabelOffset\":0.005,\"fLabelSize\":0.035,\"fTickLength\":0.03,\"fTitleOffset\":1,\"fTitleSize\":0.035,\"fTitleColor\":1,\"fTitleFont\":42,\"fNbins\":1,\"fXmin\":0,\"fXmax\":1,\"fXbins\":[],\"fFirst\":0,\"fLast\":0,\"fBits2\":0,\"fTimeDisplay\":false,\"fTimeFormat\":\"\",\"fLabels\":null,\"fModLabs\":null},\"fBarOffset\":0,\"fBarWidth\":1000,\"fEntries\":0,\"fTsumw\":0,\"fTsumw2\":0,\"fTsumwx\":0,\"fTsumwx2\":0,\"fMaximum\":328.742528453131,\"fMinimum\":0,\"fNormFactor\":0,\"fContour\":[],\"fSumw2\":[],\"fOption\":\"\",\"fFunctions\":{\"_typename\":\"TList\",\"name\":\"TList\",\"arr\":[],\"opt\":[]},\"fBufferSize\":0,\"fBuffer\":[],\"fBinStatErrOpt\":0,\"fStatOverflows\":2,\"fArray\":{\"$arr\":\"Float32\",\"len\":153}},\"fMinimum\":-1111,\"fMaximum\":-1111,\"fOption\":\"\",\"_yAxisLabel\":\"Projection of sig + bkg\",\"_ymin\":0,\"_ymax\":298.856844048301,\"_normValue\":0}},{\"_typename\":\"TWebSnapshot\",\"fUniqueID\":0,\"fBits\":0,\"fObjectID\":\"\",\"fOption\":\"AXISSAME\",\"fKind\":1,\"fSnapshot\":{\"$ref\":19}},{\"_typename\":\"TWebSnapshot\",\"fUniqueID\":0,\"fBits\":0,\"fObjectID\":\"\",\"fOption\":\"blNDC\",\"fKind\":1,\"fSnapshot\":{\"_typename\":\"TPaveText\",\"fUniqueID\":0,\"fBits\":9,\"fLineColor\":1,\"fLineStyle\":1,\"fLineWidth\":1,\"fFillColor\":0,\"fFillStyle\":0,\"fX1\":115.587939483736,\"fY1\":8180.82179492489,\"fX2\":144.412060516264,\"fY2\":8963.8090417427,\"fX1NDC\":0.3078391959799,\"fY1NDC\":0.908086917855285,\"fX2NDC\":0.6921608040201,\"fY2NDC\":0.995000004768372,\"fBorderSize\":0,\"fInit\":1,\"fShadowColor\":1,\"fCornerRadius\":0,\"fOption\":\"blNDC\",\"fName\":\"title\",\"fTextAngle\":0,\"fTextSize\":0,\"fTextAlign\":22,\"fTextColor\":1,\"fTextFont\":42,\"fLabel\":\"\",\"fLongest\":41,\"fMargin\":0.05,\"fLines\":{\"_typename\":\"TList\",\"name\":\"TList\",\"arr\":[{\"_typename\":\"TLatex\",\"fUniqueID\":0,\"fBits\":0,\"fName\":\"\",\"fTitle\":\"Di-photon invariant mass m_{#gamma#gamma}\",\"fTextAngle\":0,\"fTextSize\":0,\"fTextAlign\":0,\"fTextColor\":0,\"fTextFont\":0,\"fX\":0,\"fY\":0,\"fLineColor\":1,\"fLineStyle\":1,\"fLineWidth\":2,\"fLimitFactorSize\":3,\"fOriginSize\":0.0738761276006699}],\"opt\":[\"\"]}}}]},{\"_typename\":\"TWebSnapshot\",\"fUniqueID\":0,\"fBits\":0,\"fObjectID\":\"\",\"fOption\":\"\",\"fKind\":1,\"fSnapshot\":{\"_typename\":\"TLegend\",\"fUniqueID\":0,\"fBits\":8,\"fLineColor\":1,\"fLineStyle\":1,\"fLineWidth\":1,\"fFillColor\":0,\"fFillStyle\":1001,\"fX1\":0.55,\"fY1\":0.75,\"fX2\":0.85,\"fY2\":0.9,\"fX1NDC\":0.55,\"fY1NDC\":0.75,\"fX2NDC\":0.85,\"fY2NDC\":0.9,\"fBorderSize\":1,\"fInit\":1,\"fShadowColor\":1,\"fCornerRadius\":0,\"fOption\":\"brNDC\",\"fName\":\"TPave\",\"fTextAngle\":0,\"fTextSize\":0,\"fTextAlign\":12,\"fTextColor\":1,\"fTextFont\":42,\"fPrimitives\":{\"_typename\":\"TList\",\"name\":\"TList\",\"arr\":[{\"_typename\":\"TLegendEntry\",\"fUniqueID\":0,\"fBits\":0,\"fTextAngle\":0,\"fTextSize\":0,\"fTextAlign\":0,\"fTextColor\":0,\"fTextFont\":42,\"fLineColor\":1,\"fLineStyle\":1,\"fLineWidth\":1,\"fFillColor\":0,\"fFillStyle\":0,\"fMarkerColor\":1,\"fMarkerStyle\":21,\"fMarkerSize\":1,\"fObject\":{\"_typename\":\"RooPlot\",\"fUniqueID\":0,\"fBits\":8,\"fName\":\"frame_m_yy_2313a9a0\",\"fTitle\":\"Di-photon invariant mass m_{#gamma#gamma}\",\"_hist\":{\"$ref\":19},\"_items\":[{\"_typename\":\"pair<TObject*,string>\",\"first\":{\"$ref\":25},\"second\":\"P\"},{\"_typename\":\"pair<TObject*,string>\",\"first\":{\"$ref\":33},\"second\":\"L\"},{\"_typename\":\"pair<TObject*,string>\",\"first\":{\"$ref\":41},\"second\":\"L\"},{\"_typename\":\"pair<TObject*,string>\",\"first\":{\"$ref\":49},\"second\":\"L\"}],\"_padFactor\":0.05,\"_plotVar\":{\"_typename\":\"RooRealVar\",\"fUniqueID\":0,\"fBits\":0,\"fName\":\"m_yy\",\"fTitle\":\"di-photon invariant mass m_{#gamma#gamma} [GeV]\",\"_serverList\":{\"_typename\":\"RooSTLRefCountList<RooAbsArg>\",\"_storage\":[],\"_refCount\":[]},\"_clientList\":{\"_typename\":\"RooSTLRefCountList<RooAbsArg>\",\"_storage\":[{\"_typename\":\"RooGaussian\",\"fUniqueID\":0,\"fBits\":0,\"fName\":\"gauss\",\"fTitle\":\"gaussian PDF\",\"_serverList\":{\"_typename\":\"RooSTLRefCountList<RooAbsArg>\",\"_storage\":[{\"$ref\":70},{\"_typename\":\"RooRealVar\",\"fUniqueID\":0,\"fBits\":0,\"fName\":\"mean\",\"fTitle\":\"mean of gauss\",\"_serverList\":{\"_typename\":\"RooSTLRefCountList<RooAbsArg>\",\"_storage\":[],\"_refCount\":[]},\"_clientList\":{\"_typename\":\"RooSTLRefCountList<RooAbsArg>\",\"_storage\":[{\"$ref\":73}],\"_refCount\":[1]},\"_clientListShape\":{\"_typename\":\"RooSTLRefCountList<RooAbsArg>\",\"_storage\":[],\"_refCount\":[]},\"_clientListValue\":{\"_typename\":\"RooSTLRefCountList<RooAbsArg>\",\"_storage\":[{\"$ref\":73}],\"_refCount\":[1]},\"_proxyList\":{\"_typename\":\"RooRefArray\",\"name\":\"RooRefArray\",\"arr\":[]},\"_boolAttrib\":[],\"_stringAttrib\":[],\"_valueDirty\":true,\"_shapeDirty\":true,\"_operMode\":0,\"_fast\":true,\"_plotMin\":0,\"_plotMax\":0,\"_plotBins\":100,\"_value\":124.734898035231,\"_unit\":\"\",\"_label\":\"\",\"_forceNumInt\":false,\"_specIntegratorConfig\":null,\"fUniqueID\":0,\"fBits\":0,\"_uuid\":{\"_typename\":\"TUUID\",\"fTimeLow\":1764619674,\"fTimeMid\":39340,\"fTimeHiAndVersion\":4592,\"fClockSeqHiAndReserved\":168,\"fClockSeqLow\":11,\"fNode\":{\"$arr\":\"Uint8\",\"len\":6,\"v\":[91,173,100,10,190,239]}},\"_altBinning\":[],\"_blob\":[0.288012423745798,0.288012423745798,0.288012423745798]},{\"_typename\":\"RooRealVar\",\"fUniqueID\":0,\"fBits\":0,\"fName\":\"sigma\",\"fTitle\":\"width of gauss\",\"_serverList\":{\"_typename\":\"RooSTLRefCountList<RooAbsArg>\",\"_storage\":[],\"_refCount\":[]},\"_clientList\":{\"_typename\":\"RooSTLRefCountList<RooAbsArg>\",\"_storage\":[{\"$ref\":73}],\"_refCount\":[1]},\"_clientListShape\":{\"_typename\":\"RooSTLRefCountList<RooAbsArg>\",\"_storage\":[],\"_refCount\":[]},\"_clientListValue\":{\"_typename\":\"RooSTLRefCountList<RooAbsArg>\",\"_storage\":[{\"$ref\":73}],\"_refCount\":[1]},\"_proxyList\":{\"_typename\":\"RooRefArray\",\"name\":\"RooRefArray\",\"arr\":[]},\"_boolAttrib\":[],\"_stringAttrib\":[],\"_valueDirty\":true,\"_shapeDirty\":true,\"_operMode\":0,\"_fast\":true,\"_plotMin\":0,\"_plotMax\":0,\"_plotBins\":100,\"_value\":1.39530260722399,\"_unit\":\"\",\"_label\":\"\",\"_forceNumInt\":false,\"_specIntegratorConfig\":null,\"fUniqueID\":0,\"fBits\":0,\"_uuid\":{\"_typename\":\"TUUID\",\"fTimeLow\":1764619864,\"fTimeMid\":39340,\"fTimeHiAndVersion\":4592,\"fClockSeqHiAndReserved\":168,\"fClockSeqLow\":11,\"fNode\":{\"$arr\":\"Uint8\",\"len\":6,\"v\":[91,173,100,10,190,239]}},\"_altBinning\":[],\"_blob\":[0.425695097661524,0.425695097661524,0.425695097661524]}],\"_refCount\":[1,1,1]},\"_clientList\":{\"_typename\":\"RooSTLRefCountList<RooAbsArg>\",\"_storage\":[{\"_typename\":\"RooAddPdf\",\"fUniqueID\":0,\"fBits\":0,\"fName\":\"model\",\"fTitle\":\"sig + bkg\",\"_serverList\":{\"_typename\":\"RooSTLRefCountList<RooAbsArg>\",\"_storage\":[{\"$ref\":73},{\"_typename\":\"RooRealVar\",\"fUniqueID\":0,\"fBits\":0,\"fName\":\"nsig\",\"fTitle\":\"signal yield\",\"_serverList\":{\"_typename\":\"RooSTLRefCountList<RooAbsArg>\",\"_storage\":[],\"_refCount\":[]},\"_clientList\":{\"_typename\":\"RooSTLRefCountList<RooAbsArg>\",\"_storage\":[{\"$ref\":92}],\"_refCount\":[1]},\"_clientListShape\":{\"_typename\":\"RooSTLRefCountList<RooAbsArg>\",\"_storage\":[],\"_refCount\":[]},\"_clientListValue\":{\"_typename\":\"RooSTLRefCountList<RooAbsArg>\",\"_storage\":[{\"$ref\":92}],\"_refCount\":[1]},\"_proxyList\":{\"_typename\":\"RooRefArray\",\"name\":\"RooRefArray\",\"arr\":[]},\"_boolAttrib\":[],\"_stringAttrib\":[],\"_valueDirty\":true,\"_shapeDirty\":true,\"_operMode\":0,\"_fast\":true,\"_plotMin\":0,\"_plotMax\":0,\"_plotBins\":100,\"_value\":1045.36812251114,\"_unit\":\"\",\"_label\":\"\",\"_forceNumInt\":false,\"_specIntegratorConfig\":null,\"fUniqueID\":0,\"fBits\":0,\"_uuid\":{\"_typename\":\"TUUID\",\"fTimeLow\":1764619804,\"fTimeMid\":39340,\"fTimeHiAndVersion\":4592,\"fClockSeqHiAndReserved\":168,\"fClockSeqLow\":11,\"fNode\":{\"$arr\":\"Uint8\",\"len\":6,\"v\":[91,173,100,10,190,239]}},\"_altBinning\":[],\"_blob\":[295.917793534775,295.917793534775,295.917793534775]},{\"_typename\":\"RooChebychev\",\"fUniqueID\":0,\"fBits\":0,\"fName\":\"bkg\",\"fTitle\":\"Chebychev background\",\"_serverList\":{\"_typename\":\"RooSTLRefCountList<RooAbsArg>\",\"_storage\":[{\"$ref\":70},{\"_typename\":\"RooRealVar\",\"fUniqueID\":0,\"fBits\":0,\"fName\":\"a0\",\"fTitle\":\"a0\",\"_serverList\":{\"_typename\":\"RooSTLRefCountList<RooAbsArg>\",\"_storage\":[],\"_refCount\":[]},\"_clientList\":{\"_typename\":\"RooSTLRefCountList<RooAbsArg>\",\"_storage\":[{\"$ref\":102}],\"_refCount\":[1]},\"_clientListShape\":{\"_typename\":\"RooSTLRefCountList<RooAbsArg>\",\"_storage\":[],\"_refCount\":[]},\"_clientListValue\":{\"_typename\":\"RooSTLRefCountList<RooAbsArg>\",\"_storage\":[{\"$ref\":102}],\"_refCount\":[1]},\"_proxyList\":{\"_typename\":\"RooRefArray\",\"name\":\"RooRefArray\",\"arr\":[]},\"_boolAttrib\":[],\"_stringAttrib\":[],\"_valueDirty\":true,\"_shapeDirty\":true,\"_operMode\":0,\"_fast\":true,\"_plotMin\":0,\"_plotMax\":0,\"_plotBins\":100,\"_value\":-0.73118414413596,\"_unit\":\"\",\"_label\":\"\",\"_forceNumInt\":false,\"_specIntegratorConfig\":null,\"fUniqueID\":0,\"fBits\":0,\"_uuid\":{\"_typename\":\"TUUID\",\"fTimeLow\":1764619314,\"fTimeMid\":39340,\"fTimeHiAndVersion\":4592,\"fClockSeqHiAndReserved\":168,\"fClockSeqLow\":11,\"fNode\":{\"$arr\":\"Uint8\",\"len\":6,\"v\":[91,173,100,10,190,239]}},\"_altBinning\":[],\"_blob\":[0.0036307564917229,0.0036307564917229,0.0036307564917229]},{\"_typename\":\"RooRealVar\",\"fUniqueID\":0,\"fBits\":0,\"fName\":\"a1\",\"fTitle\":\"a1\",\"_serverList\":{\"_typename\":\"RooSTLRefCountList<RooAbsArg>\",\"_storage\":[],\"_refCount\":[]},\"_clientList\":{\"_typename\":\"RooSTLRefCountList<RooAbsArg>\",\"_storage\":[{\"$ref\":102}],\"_refCount\":[1]},\"_clientListShape\":{\"_typename\":\"RooSTLRefCountList<RooAbsArg>\",\"_storage\":[],\"_refCount\":[]},\"_clientListValue\":{\"_typename\":\"RooSTLRefCountList<RooAbsArg>\",\"_storage\":[{\"$ref\":102}],\"_refCount\":[1]},\"_proxyList\":{\"_typename\":\"RooRefArray\",\"name\":\"RooRefArray\",\"arr\":[]},\"_boolAttrib\":[],\"_stringAttrib\":[],\"_valueDirty\":true,\"_shapeDirty\":true,\"_operMode\":0,\"_fast\":true,\"_plotMin\":0,\"_plotMax\":0,\"_plotBins\":100,\"_value\":0.0992436349426862,\"_unit\":\"\",\"_label\":\"\",\"_forceNumInt\":false,\"_specIntegratorConfig\":null,\"fUniqueID\":0,\"fBits\":0,\"_uuid\":{\"_typename\":\"TUUID\",\"fTimeLow\":1764619424,\"fTimeMid\":39340,\"fTimeHiAndVersion\":4592,\"fClockSeqHiAndReserved\":168,\"fClockSeqLow\":11,\"fNode\":{\"$arr\":\"Uint8\",\"len\":6,\"v\":[91,173,100,10,190,239]}},\"_altBinning\":[],\"_blob\":[0.00392656066959282,0.00392656066959282,0.00392656066959282]},{\"_typename\":\"RooRealVar\",\"fUniqueID\":0,\"fBits\":0,\"fName\":\"a2\",\"fTitle\":\"a2\",\"_serverList\":{\"_typename\":\"RooSTLRefCountList<RooAbsArg>\",\"_storage\":[],\"_refCount\":[]},\"_clientList\":{\"_typename\":\"RooSTLRefCountList<RooAbsArg>\",\"_storage\":[{\"$ref\":102}],\"_refCount\":[1]},\"_clientListShape\":{\"_typename\":\"RooSTLRefCountList<RooAbsArg>\",\"_storage\":[],\"_refCount\":[]},\"_clientListValue\":{\"_typename\":\"RooSTLRefCountList<RooAbsArg>\",\"_storage\":[{\"$ref\":102}],\"_refCount\":[1]},\"_proxyList\":{\"_typename\":\"RooRefArray\",\"name\":\"RooRefArray\",\"arr\":[]},\"_boolAttrib\":[],\"_stringAttrib\":[],\"_valueDirty\":true,\"_shapeDirty\":true,\"_operMode\":0,\"_fast\":true,\"_plotMin\":0,\"_plotMax\":0,\"_plotBins\":100,\"_value\":0.0182415931377889,\"_unit\":\"\",\"_label\":\"\",\"_forceNumInt\":false,\"_specIntegratorConfig\":null,\"fUniqueID\":0,\"fBits\":0,\"_uuid\":{\"_typename\":\"TUUID\",\"fTimeLow\":1764619494,\"fTimeMid\":39340,\"fTimeHiAndVersion\":4592,\"fClockSeqHiAndReserved\":168,\"fClockSeqLow\":11,\"fNode\":{\"$arr\":\"Uint8\",\"len\":6,\"v\":[91,173,100,10,190,239]}},\"_altBinning\":[],\"_blob\":[0.00379158203680083,0.00379158203680083,0.00379158203680083]},{\"_typename\":\"RooRealVar\",\"fUniqueID\":0,\"fBits\":0,\"fName\":\"a3\",\"fTitle\":\"a3\",\"_serverList\":{\"_typename\":\"RooSTLRefCountList<RooAbsArg>\",\"_storage\":[],\"_refCount\":[]},\"_clientList\":{\"_typename\":\"RooSTLRefCountList<RooAbsArg>\",\"_storage\":[{\"$ref\":102}],\"_refCount\":[1]},\"_clientListShape\":{\"_typename\":\"RooSTLRefCountList<RooAbsArg>\",\"_storage\":[],\"_refCount\":[]},\"_clientListValue\":{\"_typename\":\"RooSTLRefCountList<RooAbsArg>\",\"_storage\":[{\"$ref\":102}],\"_refCount\":[1]},\"_proxyList\":{\"_typename\":\"RooRefArray\",\"name\":\"RooRefArray\",\"arr\":[]},\"_boolAttrib\":[],\"_stringAttrib\":[],\"_valueDirty\":true,\"_shapeDirty\":true,\"_operMode\":0,\"_fast\":true,\"_plotMin\":0,\"_plotMax\":0,\"_plotBins\":100,\"_value\":-0.0120892052193803,\"_unit\":\"\",\"_label\":\"\",\"_forceNumInt\":false,\"_specIntegratorConfig\":null,\"fUniqueID\":0,\"fBits\":0,\"_uuid\":{\"_typename\":\"TUUID\",\"fTimeLow\":1764619544,\"fTimeMid\":39340,\"fTimeHiAndVersion\":4592,\"fClockSeqHiAndReserved\":168,\"fClockSeqLow\":11,\"fNode\":{\"$arr\":\"Uint8\",\"len\":6,\"v\":[91,173,100,10,190,239]}},\"_altBinning\":[],\"_blob\":[0.0035343045416012,0.0035343045416012,0.0035343045416012]},{\"_typename\":\"RooRealVar\",\"fUniqueID\":0,\"fBits\":0,\"fName\":\"a4\",\"fTitle\":\"a4\",\"_serverList\":{\"_typename\":\"RooSTLRefCountList<RooAbsArg>\",\"_storage\":[],\"_refCount\":[]},\"_clientList\":{\"_typename\":\"RooSTLRefCountList<RooAbsArg>\",\"_storage\":[{\"$ref\":102}],\"_refCount\":[1]},\"_clientListShape\":{\"_typename\":\"RooSTLRefCountList<RooAbsArg>\",\"_storage\":[],\"_refCount\":[]},\"_clientListValue\":{\"_typename\":\"RooSTLRefCountList<RooAbsArg>\",\"_storage\":[{\"$ref\":102}],\"_refCount\":[1]},\"_proxyList\":{\"_typename\":\"RooRefArray\",\"name\":\"RooRefArray\",\"arr\":[]},\"_boolAttrib\":[],\"_stringAttrib\":[],\"_valueDirty\":true,\"_shapeDirty\":true,\"_operMode\":0,\"_fast\":true,\"_plotMin\":0,\"_plotMax\":0,\"_plotBins\":100,\"_value\":0.0046982117543574,\"_unit\":\"\",\"_label\":\"\",\"_forceNumInt\":false,\"_specIntegratorConfig\":null,\"fUniqueID\":0,\"fBits\":0,\"_uuid\":{\"_typename\":\"TUUID\",\"fTimeLow\":1764619614,\"fTimeMid\":39340,\"fTimeHiAndVersion\":4592,\"fClockSeqHiAndReserved\":168,\"fClockSeqLow\":11,\"fNode\":{\"$arr\":\"Uint8\",\"len\":6,\"v\":[91,173,100,10,190,239]}},\"_altBinning\":[],\"_blob\":[0.00348437403309123,0.00348437403309123,0.00348437403309123]}],\"_refCount\":{\"$arr\":\"Uint32\",\"len\":6,\"v\":1,\"n\":6}},\"_clientList\":{\"_typename\":\"RooSTLRefCountList<RooAbsArg>\",\"_storage\":[{\"$ref\":92}],\"_refCount\":[1]},\"_clientListShape\":{\"_typename\":\"RooSTLRefCountList<RooAbsArg>\",\"_storage\":[],\"_refCount\":[]},\"_clientListValue\":{\"_typename\":\"RooSTLRefCountList<RooAbsArg>\",\"_storage\":[{\"$ref\":92}],\"_refCount\":[1]},\"_proxyList\":{\"_typename\":\"RooRefArray\",\"name\":\"RooRefArray\",\"arr\":[{\"_typename\":\"RooTemplateProxy<RooAbsReal>\",\"fUniqueID\":0,\"fBits\":0,\"fName\":\"x\",\"fTitle\":\"Dependent\",\"_owner\":{\"$ref\":102},\"_arg\":{\"$ref\":70},\"_valueServer\":true,\"_shapeServer\":false,\"_isFund\":true,\"_ownArg\":false},{\"_typename\":\"RooCollectionProxy<RooArgList>\",\"fUniqueID\":0,\"fBits\":0,\"_list\":[{\"$ref\":104},{\"$ref\":112},{\"$ref\":120},{\"$ref\":128},{\"$ref\":136}],\"_ownCont\":false,\"_name\":\"coefficients\",\"_allRRV\":true,\"_owner\":{\"$ref\":102},\"_defValueServer\":true,\"_defShapeServer\":false}]},\"_boolAttrib\":[],\"_stringAttrib\":[],\"_valueDirty\":true,\"_shapeDirty\":true,\"_operMode\":0,\"_fast\":false,\"_plotMin\":0,\"_plotMax\":0,\"_plotBins\":100,\"_value\":0,\"_unit\":\"\",\"_label\":\"\",\"_forceNumInt\":false,\"_specIntegratorConfig\":null,\"_rawValue\":0,\"_errorCount\":10,\"_traceCount\":0,\"_negCount\":10,\"_selectComp\":true,\"_normRange\":\"\",\"_x\":{\"_typename\":\"RooTemplateProxy<RooAbsReal>\",\"fUniqueID\":0,\"fBits\":0,\"fName\":\"x\",\"fTitle\":\"Dependent\",\"_owner\":{\"$ref\":102},\"_arg\":{\"$ref\":70},\"_valueServer\":true,\"_shapeServer\":false,\"_isFund\":true,\"_ownArg\":false},\"_coefList\":{\"_typename\":\"RooCollectionProxy<RooArgList>\",\"fUniqueID\":0,\"fBits\":0,\"_list\":[{\"$ref\":104},{\"$ref\":112},{\"$ref\":120},{\"$ref\":128},{\"$ref\":136}],\"_ownCont\":false,\"_name\":\"coefficients\",\"_allRRV\":true,\"_owner\":{\"$ref\":102},\"_defValueServer\":true,\"_defShapeServer\":false},\"_refRangeName\":null},{\"_typename\":\"RooRealVar\",\"fUniqueID\":0,\"fBits\":0,\"fName\":\"nbkg\",\"fTitle\":\"background yield\",\"_serverList\":{\"_typename\":\"RooSTLRefCountList<RooAbsArg>\",\"_storage\":[],\"_refCount\":[]},\"_clientList\":{\"_typename\":\"RooSTLRefCountList<RooAbsArg>\",\"_storage\":[{\"$ref\":92}],\"_refCount\":[1]},\"_clientListShape\":{\"_typename\":\"RooSTLRefCountList<RooAbsArg>\",\"_storage\":[],\"_refCount\":[]},\"_clientListValue\":{\"_typename\":\"RooSTLRefCountList<RooAbsArg>\",\"_storage\":[{\"$ref\":92}],\"_refCount\":[1]},\"_proxyList\":{\"_typename\":\"RooRefArray\",\"name\":\"RooRefArray\",\"arr\":[]},\"_boolAttrib\":[],\"_stringAttrib\":[],\"_valueDirty\":true,\"_shapeDirty\":true,\"_operMode\":0,\"_fast\":true,\"_plotMin\":0,\"_plotMax\":0,\"_plotBins\":100,\"_value\":249092.45745864,\"_unit\":\"\",\"_label\":\"\",\"_forceNumInt\":false,\"_specIntegratorConfig\":null,\"fUniqueID\":0,\"fBits\":0,\"_uuid\":{\"_typename\":\"TUUID\",\"fTimeLow\":1764619734,\"fTimeMid\":39340,\"fTimeHiAndVersion\":4592,\"fClockSeqHiAndReserved\":168,\"fClockSeqLow\":11,\"fNode\":{\"$arr\":\"Uint8\",\"len\":6,\"v\":[91,173,100,10,190,239]}},\"_altBinning\":[],\"_blob\":[580.986184150359,580.986184150359,580.986184150359]}],\"_refCount\":[1,1,1,1]},\"_clientList\":{\"_typename\":\"RooSTLRefCountList<RooAbsArg>\",\"_storage\":[],\"_refCount\":[]},\"_clientListShape\":{\"_typename\":\"RooSTLRefCountList<RooAbsArg>\",\"_storage\":[],\"_refCount\":[]},\"_clientListValue\":{\"_typename\":\"RooSTLRefCountList<RooAbsArg>\",\"_storage\":[],\"_refCount\":[]},\"_proxyList\":{\"_typename\":\"RooRefArray\",\"name\":\"RooRefArray\",\"arr\":[{\"_typename\":\"RooCollectionProxy<RooArgSet>\",\"fUniqueID\":0,\"fBits\":0,\"_list\":[],\"_ownCont\":false,\"_name\":\"!refCoefNorm\",\"_allRRV\":true,\"_owner\":{\"$ref\":92},\"_defValueServer\":false,\"_defShapeServer\":false},{\"_typename\":\"RooCollectionProxy<RooArgList>\",\"fUniqueID\":0,\"fBits\":0,\"_list\":[{\"$ref\":73},{\"$ref\":102}],\"_ownCont\":false,\"_name\":\"!pdfs\",\"_allRRV\":false,\"_owner\":{\"$ref\":92},\"_defValueServer\":true,\"_defShapeServer\":false},{\"_typename\":\"RooCollectionProxy<RooArgList>\",\"fUniqueID\":0,\"fBits\":0,\"_list\":[{\"$ref\":94},{\"$ref\":152}],\"_ownCont\":false,\"_name\":\"!coefficients\",\"_allRRV\":true,\"_owner\":{\"$ref\":92},\"_defValueServer\":true,\"_defShapeServer\":false}]},\"_boolAttrib\":[],\"_stringAttrib\":[],\"_valueDirty\":true,\"_shapeDirty\":true,\"_operMode\":0,\"_fast\":false,\"_plotMin\":0,\"_plotMax\":0,\"_plotBins\":100,\"_value\":0,\"_unit\":\"\",\"_label\":\"\",\"_forceNumInt\":false,\"_specIntegratorConfig\":null,\"_rawValue\":0,\"_errorCount\":10,\"_traceCount\":0,\"_negCount\":10,\"_selectComp\":true,\"_normRange\":\"\",\"_refCoefNorm\":{\"_typename\":\"RooCollectionProxy<RooArgSet>\",\"fUniqueID\":0,\"fBits\":0,\"_list\":[],\"_ownCont\":false,\"_name\":\"!refCoefNorm\",\"_allRRV\":true,\"_owner\":{\"$ref\":92},\"_defValueServer\":false,\"_defShapeServer\":false},\"_refCoefRangeName\":null,\"_pdfList\":{\"_typename\":\"RooCollectionProxy<RooArgList>\",\"fUniqueID\":0,\"fBits\":0,\"_list\":[{\"$ref\":73},{\"$ref\":102}],\"_ownCont\":false,\"_name\":\"!pdfs\",\"_allRRV\":false,\"_owner\":{\"$ref\":92},\"_defValueServer\":true,\"_defShapeServer\":false},\"_coefList\":{\"_typename\":\"RooCollectionProxy<RooArgList>\",\"fUniqueID\":0,\"fBits\":0,\"_list\":[{\"$ref\":94},{\"$ref\":152}],\"_ownCont\":false,\"_name\":\"!coefficients\",\"_allRRV\":true,\"_owner\":{\"$ref\":92},\"_defValueServer\":true,\"_defShapeServer\":false},\"_haveLastCoef\":true,\"_allExtendable\":false,\"_recursive\":false}],\"_refCount\":[1]},\"_clientListShape\":{\"_typename\":\"RooSTLRefCountList<RooAbsArg>\",\"_storage\":[],\"_refCount\":[]},\"_clientListValue\":{\"_typename\":\"RooSTLRefCountList<RooAbsArg>\",\"_storage\":[{\"$ref\":92}],\"_refCount\":[1]},\"_proxyList\":{\"_typename\":\"RooRefArray\",\"name\":\"RooRefArray\",\"arr\":[{\"_typename\":\"RooTemplateProxy<RooAbsReal>\",\"fUniqueID\":0,\"fBits\":0,\"fName\":\"x\",\"fTitle\":\"Observable\",\"_owner\":{\"$ref\":73},\"_arg\":{\"$ref\":70},\"_valueServer\":true,\"_shapeServer\":false,\"_isFund\":true,\"_ownArg\":false},{\"_typename\":\"RooTemplateProxy<RooAbsReal>\",\"fUniqueID\":0,\"fBits\":0,\"fName\":\"mean\",\"fTitle\":\"Mean\",\"_owner\":{\"$ref\":73},\"_arg\":{\"$ref\":75},\"_valueServer\":true,\"_shapeServer\":false,\"_isFund\":true,\"_ownArg\":false},{\"_typename\":\"RooTemplateProxy<RooAbsReal>\",\"fUniqueID\":0,\"fBits\":0,\"fName\":\"sigma\",\"fTitle\":\"Width\",\"_owner\":{\"$ref\":73},\"_arg\":{\"$ref\":83},\"_valueServer\":true,\"_shapeServer\":false,\"_isFund\":true,\"_ownArg\":false}]},\"_boolAttrib\":[],\"_stringAttrib\":[],\"_valueDirty\":true,\"_shapeDirty\":true,\"_operMode\":0,\"_fast\":false,\"_plotMin\":0,\"_plotMax\":0,\"_plotBins\":100,\"_value\":0,\"_unit\":\"\",\"_label\":\"\",\"_forceNumInt\":false,\"_specIntegratorConfig\":null,\"_rawValue\":0,\"_errorCount\":10,\"_traceCount\":0,\"_negCount\":10,\"_selectComp\":true,\"_normRange\":\"\",\"x\":{\"_typename\":\"RooTemplateProxy<RooAbsReal>\",\"fUniqueID\":0,\"fBits\":0,\"fName\":\"x\",\"fTitle\":\"Observable\",\"_owner\":{\"$ref\":73},\"_arg\":{\"$ref\":70},\"_valueServer\":true,\"_shapeServer\":false,\"_isFund\":true,\"_ownArg\":false},\"mean\":{\"_typename\":\"RooTemplateProxy<RooAbsReal>\",\"fUniqueID\":0,\"fBits\":0,\"fName\":\"mean\",\"fTitle\":\"Mean\",\"_owner\":{\"$ref\":73},\"_arg\":{\"$ref\":75},\"_valueServer\":true,\"_shapeServer\":false,\"_isFund\":true,\"_ownArg\":false},\"sigma\":{\"_typename\":\"RooTemplateProxy<RooAbsReal>\",\"fUniqueID\":0,\"fBits\":0,\"fName\":\"sigma\",\"fTitle\":\"Width\",\"_owner\":{\"$ref\":73},\"_arg\":{\"$ref\":83},\"_valueServer\":true,\"_shapeServer\":false,\"_isFund\":true,\"_ownArg\":false}},{\"$ref\":102}],\"_refCount\":[1,1]},\"_clientListShape\":{\"_typename\":\"RooSTLRefCountList<RooAbsArg>\",\"_storage\":[],\"_refCount\":[]},\"_clientListValue\":{\"_typename\":\"RooSTLRefCountList<RooAbsArg>\",\"_storage\":[{\"$ref\":73},{\"$ref\":102}],\"_refCount\":[1,1]},\"_proxyList\":{\"_typename\":\"RooRefArray\",\"name\":\"RooRefArray\",\"arr\":[]},\"_boolAttrib\":[],\"_stringAttrib\":[],\"_valueDirty\":true,\"_shapeDirty\":true,\"_operMode\":0,\"_fast\":true,\"_plotMin\":0,\"_plotMax\":0,\"_plotBins\":100,\"_value\":130,\"_unit\":\"\",\"_label\":\"\",\"_forceNumInt\":false,\"_specIntegratorConfig\":null,\"fUniqueID\":0,\"fBits\":0,\"_uuid\":{\"_typename\":\"TUUID\",\"fTimeLow\":1761326064,\"fTimeMid\":39340,\"fTimeHiAndVersion\":4592,\"fClockSeqHiAndReserved\":168,\"fClockSeqLow\":11,\"fNode\":{\"$arr\":\"Uint8\",\"len\":6,\"v\":[91,173,100,10,190,239]}},\"_altBinning\":[],\"_blob\":[-1,1,-1]},\"_plotVarSet\":null,\"_normVars\":{\"_typename\":\"RooArgSet\",\"fUniqueID\":0,\"fBits\":0,\"_list\":[{\"_typename\":\"RooRealVar\",\"fUniqueID\":0,\"fBits\":0,\"fName\":\"m_yy\",\"fTitle\":\"di-photon invariant mass m_{#gamma#gamma} [GeV]\",\"_serverList\":{\"_typename\":\"RooSTLRefCountList<RooAbsArg>\",\"_storage\":[],\"_refCount\":[]},\"_clientList\":{\"_typename\":\"RooSTLRefCountList<RooAbsArg>\",\"_storage\":[],\"_refCount\":[]},\"_clientListShape\":{\"_typename\":\"RooSTLRefCountList<RooAbsArg>\",\"_storage\":[],\"_refCount\":[]},\"_clientListValue\":{\"_typename\":\"RooSTLRefCountList<RooAbsArg>\",\"_storage\":[],\"_refCount\":[]},\"_proxyList\":{\"_typename\":\"RooRefArray\",\"name\":\"RooRefArray\",\"arr\":[]},\"_boolAttrib\":[\"SnapShot_ExtRefClone\"],\"_stringAttrib\":[],\"_valueDirty\":true,\"_shapeDirty\":true,\"_operMode\":0,\"_fast\":true,\"_plotMin\":0,\"_plotMax\":0,\"_plotBins\":100,\"_value\":159.5,\"_unit\":\"\",\"_label\":\"\",\"_forceNumInt\":false,\"_specIntegratorConfig\":null,\"fUniqueID\":0,\"fBits\":0,\"_uuid\":{\"_typename\":\"TUUID\",\"fTimeLow\":1761326064,\"fTimeMid\":39340,\"fTimeHiAndVersion\":4592,\"fClockSeqHiAndReserved\":168,\"fClockSeqLow\":11,\"fNode\":{\"$arr\":\"Uint8\",\"len\":6,\"v\":[91,173,100,10,190,239]}},\"_altBinning\":[],\"_blob\":[-1,1,-1]}],\"_ownCont\":true,\"_name\":\"\",\"_allRRV\":true},\"_normNumEvts\":250125,\"_normBinWidth\":1,\"_defYmin\":1e-5,\"_defYmax\":8107.96790503903},\"fLabel\":\"Data\",\"fOption\":\"lep\"},{\"_typename\":\"TLegendEntry\",\"fUniqueID\":0,\"fBits\":0,\"fTextAngle\":0,\"fTextSize\":0,\"fTextAlign\":0,\"fTextColor\":0,\"fTextFont\":42,\"fLineColor\":600,\"fLineStyle\":1,\"fLineWidth\":2,\"fFillColor\":0,\"fFillStyle\":0,\"fMarkerColor\":1,\"fMarkerStyle\":21,\"fMarkerSize\":1,\"fObject\":{\"$ref\":33},\"fLabel\":\"Sig+Bkg Fit (m_{H}=125 GeV)\",\"fOption\":\"l\"},{\"_typename\":\"TLegendEntry\",\"fUniqueID\":0,\"fBits\":0,\"fTextAngle\":0,\"fTextSize\":0,\"fTextAlign\":0,\"fTextColor\":0,\"fTextFont\":42,\"fLineColor\":632,\"fLineStyle\":2,\"fLineWidth\":2,\"fFillColor\":0,\"fFillStyle\":0,\"fMarkerColor\":1,\"fMarkerStyle\":21,\"fMarkerSize\":1,\"fObject\":{\"$ref\":41},\"fLabel\":\"Bkg (4th order polynomial)\",\"fOption\":\"l\"}],\"opt\":[\"lep\",\"l\",\"l\"]},\"fEntrySeparation\":0.1,\"fMargin\":0.25,\"fNColumns\":1,\"fColumnSeparation\":0}},{\"_typename\":\"TWebSnapshot\",\"fUniqueID\":0,\"fBits\":0,\"fObjectID\":\"\",\"fOption\":\"\",\"fKind\":1,\"fSnapshot\":{\"_typename\":\"TLatex\",\"fUniqueID\":0,\"fBits\":16393,\"fName\":\"\",\"fTitle\":\"ATLAS Open Data\",\"fTextAngle\":0,\"fTextSize\":0.03,\"fTextAlign\":11,\"fTextColor\":1,\"fTextFont\":62,\"fX\":0.6,\"fY\":0.7,\"fLineColor\":1,\"fLineStyle\":1,\"fLineWidth\":2,\"fLimitFactorSize\":3,\"fOriginSize\":0.04}},{\"_typename\":\"TWebSnapshot\",\"fUniqueID\":0,\"fBits\":0,\"fObjectID\":\"\",\"fOption\":\"\",\"fKind\":1,\"fSnapshot\":{\"_typename\":\"TLatex\",\"fUniqueID\":0,\"fBits\":16393,\"fName\":\"\",\"fTitle\":\"#sqrt{s}=13 TeV, #int L dt = 36 fb^{-1}\",\"fTextAngle\":0,\"fTextSize\":0.03,\"fTextAlign\":11,\"fTextColor\":1,\"fTextFont\":62,\"fX\":0.6,\"fY\":0.65,\"fLineColor\":1,\"fLineStyle\":1,\"fLineWidth\":2,\"fLimitFactorSize\":3,\"fOriginSize\":0.04}},{\"_typename\":\"TWebSnapshot\",\"fUniqueID\":0,\"fBits\":0,\"fObjectID\":\"\",\"fOption\":\"\",\"fKind\":1,\"fSnapshot\":{\"_typename\":\"TLatex\",\"fUniqueID\":0,\"fBits\":16393,\"fName\":\"\",\"fTitle\":\"H #rightarrow #gamma#gamma\",\"fTextAngle\":0,\"fTextSize\":0.03,\"fTextAlign\":11,\"fTextColor\":1,\"fTextFont\":62,\"fX\":0.6,\"fY\":0.6,\"fLineColor\":1,\"fLineStyle\":1,\"fLineWidth\":2,\"fLimitFactorSize\":3,\"fOriginSize\":0.04}},{\"_typename\":\"TPadWebSnapshot\",\"fUniqueID\":0,\"fBits\":0,\"fObjectID\":\"\",\"fOption\":\"\",\"fKind\":3,\"fSnapshot\":{\"_typename\":\"TPad\",\"fUniqueID\":0,\"fBits\":9,\"fLineColor\":1,\"fLineStyle\":1,\"fLineWidth\":1,\"fFillColor\":0,\"fFillStyle\":1001,\"fLeftMargin\":0.1,\"fRightMargin\":0.1,\"fBottomMargin\":0.3,\"fTopMargin\":0,\"fXfile\":2,\"fYfile\":2,\"fAfile\":1,\"fXstat\":0.99,\"fYstat\":0.99,\"fAstat\":2,\"fFrameFillColor\":0,\"fFrameLineColor\":1,\"fFrameFillStyle\":1001,\"fFrameLineStyle\":1,\"fFrameLineWidth\":1,\"fFrameBorderSize\":1,\"fFrameBorderMode\":0,\"fX1\":92.4999994412064,\"fY1\":-431.782647563551,\"fX2\":167.500000558794,\"fY2\":361.606716268774,\"fXtoAbsPixelk\":-981.733312773704,\"fXtoPixelk\":-981.733312773704,\"fXtoPixel\":10.6133331751823,\"fYtoAbsPixelk\":465.575767137412,\"fYtoPixelk\":65.1757671374116,\"fYtoPixel\":-0.180239371132056,\"fUtoAbsPixelk\":0,\"fUtoPixelk\":0,\"fUtoPixel\":796,\"fVtoAbsPixelk\":543.4,\"fVtoPixelk\":143,\"fVtoPixel\":-143,\"fAbsPixeltoXk\":92.4999994412064,\"fPixeltoXk\":92.4999994412064,\"fPixeltoX\":0.0942211069316421,\"fAbsPixeltoYk\":2583.09693499928,\"fPixeltoYk\":-431.782647563551,\"fPixeltoY\":-5.54817736945682,\"fXlowNDC\":0,\"fYlowNDC\":0.05,\"fXUpNDC\":1,\"fYUpNDC\":0.3,\"fWNDC\":1,\"fHNDC\":0.25,\"fAbsXlowNDC\":0,\"fAbsYlowNDC\":0.05,\"fAbsWNDC\":1,\"fAbsHNDC\":0.25,\"fUxmin\":100,\"fUymin\":-193.765828955915,\"fUxmax\":160,\"fUymax\":361.606716268774,\"fTheta\":30,\"fPhi\":30,\"fAspectRatio\":0,\"fNumber\":0,\"fTickx\":0,\"fTicky\":0,\"fLogx\":0,\"fLogy\":0,\"fLogz\":0,\"fPadPaint\":0,\"fCrosshair\":0,\"fCrosshairPos\":0,\"fBorderSize\":2,\"fBorderMode\":0,\"fModified\":false,\"fGridx\":false,\"fGridy\":false,\"fAbsCoord\":false,\"fEditable\":true,\"fFixedAspectRatio\":false,\"fPrimitives\":{\"_typename\":\"TList\",\"name\":\"TList\",\"arr\":[],\"opt\":[]},\"fExecs\":{\"_typename\":\"TList\",\"name\":\"TList\",\"arr\":[],\"opt\":[]},\"fName\":\"residPad\",\"fTitle\":\"residPad\",\"fNumPaletteColor\":0,\"fNextPaletteColor\":0},\"fActive\":false,\"fReadOnly\":true,\"fWithoutPrimitives\":false,\"fHasExecs\":true,\"fPrimitives\":[{\"_typename\":\"TWebSnapshot\",\"fUniqueID\":0,\"fBits\":0,\"fObjectID\":\"\",\"fOption\":\"\",\"fKind\":1,\"fSnapshot\":{\"_typename\":\"TFrame\",\"fUniqueID\":0,\"fBits\":8,\"fLineColor\":1,\"fLineStyle\":1,\"fLineWidth\":1,\"fFillColor\":0,\"fFillStyle\":1001,\"fX1\":100,\"fY1\":-193.765828955915,\"fX2\":160,\"fY2\":361.606716268774,\"fBorderSize\":1,\"fBorderMode\":0}},{\"_typename\":\"TWebSnapshot\",\"fUniqueID\":0,\"fBits\":0,\"fObjectID\":\"\",\"fOption\":\"E1\",\"fKind\":1,\"fSnapshot\":{\"_typename\":\"TH1F\",\"fUniqueID\":0,\"fBits\":520,\"fName\":\"residual\",\"fTitle\":\"Diphoton invariant-mass \",\"fLineColor\":1,\"fLineStyle\":1,\"fLineWidth\":1,\"fFillColor\":0,\"fFillStyle\":1001,\"fMarkerColor\":1,\"fMarkerStyle\":20,\"fMarkerSize\":0.5,\"fNcells\":62,\"fXaxis\":{\"_typename\":\"TAxis\",\"fUniqueID\":0,\"fBits\":0,\"fName\":\"xaxis\",\"fTitle\":\"di-photon invariant mass m_{#gamma#gamma} [GeV]\",\"fNdivisions\":510,\"fAxisColor\":1,\"fLabelColor\":1,\"fLabelFont\":42,\"fLabelOffset\":0.005,\"fLabelSize\":0.1,\"fTickLength\":0.03,\"fTitleOffset\":1,\"fTitleSize\":0.1,\"fTitleColor\":1,\"fTitleFont\":42,\"fNbins\":60,\"fXmin\":100,\"fXmax\":160,\"fXbins\":[],\"fFirst\":0,\"fLast\":0,\"fBits2\":0,\"fTimeDisplay\":false,\"fTimeFormat\":\"\",\"fLabels\":null,\"fModLabs\":null},\"fYaxis\":{\"_typename\":\"TAxis\",\"fUniqueID\":0,\"fBits\":0,\"fName\":\"yaxis\",\"fTitle\":\"Events - Bkg\",\"fNdivisions\":510,\"fAxisColor\":1,\"fLabelColor\":1,\"fLabelFont\":42,\"fLabelOffset\":0.005,\"fLabelSize\":0.08,\"fTickLength\":0.03,\"fTitleOffset\":0.5,\"fTitleSize\":0.08,\"fTitleColor\":1,\"fTitleFont\":42,\"fNbins\":1,\"fXmin\":0,\"fXmax\":1,\"fXbins\":[],\"fFirst\":0,\"fLast\":0,\"fBits2\":0,\"fTimeDisplay\":false,\"fTimeFormat\":\"\",\"fLabels\":null,\"fModLabs\":null},\"fZaxis\":{\"_typename\":\"TAxis\",\"fUniqueID\":0,\"fBits\":0,\"fName\":\"zaxis\",\"fTitle\":\"\",\"fNdivisions\":510,\"fAxisColor\":1,\"fLabelColor\":1,\"fLabelFont\":42,\"fLabelOffset\":0.005,\"fLabelSize\":0.035,\"fTickLength\":0.03,\"fTitleOffset\":1,\"fTitleSize\":0.035,\"fTitleColor\":1,\"fTitleFont\":42,\"fNbins\":1,\"fXmin\":0,\"fXmax\":1,\"fXbins\":[],\"fFirst\":0,\"fLast\":0,\"fBits2\":0,\"fTimeDisplay\":false,\"fTimeFormat\":\"\",\"fLabels\":null,\"fModLabs\":null},\"fBarOffset\":0,\"fBarWidth\":1000,\"fEntries\":60,\"fTsumw\":0,\"fTsumw2\":0,\"fTsumwx\":0,\"fTsumwx2\":0,\"fMaximum\":-1111,\"fMinimum\":-1111,\"fNormFactor\":0,\"fContour\":[],\"fSumw2\":[],\"fOption\":\"\",\"fFunctions\":{\"_typename\":\"TList\",\"name\":\"TList\",\"arr\":[],\"opt\":[]},\"fBufferSize\":0,\"fBuffer\":[],\"fBinStatErrOpt\":0,\"fStatOverflows\":2,\"fArray\":{\"$arr\":\"Float32\",\"len\":62,\"p\":1,\"v\":[-20.50342,3.610352,118.4805,7.15918,-39.24609,102.4263,-36.60938,-156.0854,148.312,-99.05176,15.2334,-92.37695,-2.384766,111.7515,-17.3877,-116.1831,16.021,25.91699,38.22998,-114.2827,25.16797,79.39844,76.25391,176.605,317.3462,256.394,131.6885,16.18652,36.86401,103.7134,-33.25879,-39.03296,-14.57764,-23.85132,84.19507,57.61768,44.47876,-127.1577,-61.22437,36.3457,76.6189,-78.34229,-2.47876,-13.73779,-35.07422,40.54736,12.15234,5.753174,-6.651123,2.922363,-55.56055,65.84766,7.073608,-15.97803,-12.42542,-20.41284,27.88953,-30.71729,14.53809]}}},{\"_typename\":\"TWebSnapshot\",\"fUniqueID\":0,\"fBits\":0,\"fObjectID\":\"\",\"fOption\":\"same\",\"fKind\":1,\"fSnapshot\":{\"_typename\":\"TLine\",\"fUniqueID\":0,\"fBits\":8,\"fLineColor\":632,\"fLineStyle\":2,\"fLineWidth\":1,\"fX1\":100,\"fY1\":0,\"fX2\":160,\"fY2\":0}},{\"_typename\":\"TWebSnapshot\",\"fUniqueID\":0,\"fBits\":0,\"fObjectID\":\"\",\"fOption\":\"\",\"fKind\":1,\"fSnapshot\":{\"$ref\":49}},{\"_typename\":\"TWebSnapshot\",\"fUniqueID\":0,\"fBits\":0,\"fObjectID\":\"\",\"fOption\":\"blNDC\",\"fKind\":1,\"fSnapshot\":{\"_typename\":\"TPaveText\",\"fUniqueID\":0,\"fBits\":9,\"fLineColor\":1,\"fLineStyle\":1,\"fLineWidth\":1,\"fFillColor\":0,\"fFillStyle\":0,\"fX1\":125.339824051161,\"fY1\":304.377270486002,\"fX2\":134.660175948839,\"fY2\":357.639773232788,\"fX1NDC\":0.43786432160804,\"fY1NDC\":0.927867137635504,\"fX2NDC\":0.56213567839196,\"fY2NDC\":0.995000004768372,\"fBorderSize\":0,\"fInit\":1,\"fShadowColor\":1,\"fCornerRadius\":0,\"fOption\":\"blNDC\",\"fName\":\"title\",\"fTextAngle\":0,\"fTextSize\":0,\"fTextAlign\":22,\"fTextColor\":1,\"fTextFont\":42,\"fLabel\":\"\",\"fLongest\":24,\"fMargin\":0.05,\"fLines\":{\"_typename\":\"TList\",\"name\":\"TList\",\"arr\":[{\"_typename\":\"TLatex\",\"fUniqueID\":0,\"fBits\":0,\"fName\":\"\",\"fTitle\":\"Diphoton invariant-mass \",\"fTextAngle\":0,\"fTextSize\":0,\"fTextAlign\":0,\"fTextColor\":0,\"fTextFont\":0,\"fX\":0,\"fY\":0,\"fLineColor\":1,\"fLineStyle\":1,\"fLineWidth\":2,\"fLimitFactorSize\":3,\"fOriginSize\":0.0570629388093948}],\"opt\":[\"\"]}}}]}],\"fScripts\":\"\",\"fHighlightConnect\":false,\"fFixedSize\":false});\n",
       "   Core.settings.HandleKeys = false;\n",
       "   Core.draw(\"root_plot_1758762624414\", obj, \"\");\n",
       "}\n",
       "\n",
       "function script_load_root_plot_1758762624414(src, on_error) {\n",
       "    let script = document.createElement('script');\n",
       "    script.src = src;\n",
       "    script.onload = function() { display_root_plot_1758762624414(JSROOT); };\n",
       "    script.onerror = function() { script.remove(); on_error(); };\n",
       "    document.head.appendChild(script);\n",
       "}\n",
       "\n",
       "if (typeof requirejs !== 'undefined') {\n",
       "\n",
       "    // We are in jupyter notebooks, use require.js which should be configured already\n",
       "    requirejs.config({\n",
       "       paths: { 'JSRootCore' : [ 'build/jsroot', 'https://root.cern/js/7.7.4/build/jsroot', 'https://jsroot.gsi.de/7.7.4/build/jsroot' ] }\n",
       "    })(['JSRootCore'],  function(Core) {\n",
       "       display_root_plot_1758762624414(Core);\n",
       "    });\n",
       "\n",
       "} else if (typeof JSROOT !== 'undefined') {\n",
       "\n",
       "   // JSROOT already loaded, just use it\n",
       "   display_root_plot_1758762624414(JSROOT);\n",
       "\n",
       "} else {\n",
       "\n",
       "    // We are in jupyterlab without require.js, directly loading jsroot\n",
       "    // Jupyterlab might be installed in a different base_url so we need to know it.\n",
       "    try {\n",
       "        var base_url = JSON.parse(document.getElementById('jupyter-config-data').innerHTML).baseUrl;\n",
       "    } catch(_) {\n",
       "        var base_url = '/';\n",
       "    }\n",
       "\n",
       "    // Try loading a local version of requirejs and fallback to cdn if not possible.\n",
       "    script_load_root_plot_1758762624414(base_url + 'static/build/jsroot.js', function(){\n",
       "        console.error('Fail to load JSROOT locally, please check your jupyter_notebook_config.py file');\n",
       "        script_load_root_plot_1758762624414('https://root.cern/js/7.7.4/build/jsroot.js', function(){\n",
       "            document.getElementById(\"root_plot_1758762624414\").innerHTML = \"Failed to load JSROOT\";\n",
       "        });\n",
       "    });\n",
       "}\n",
       "\n",
       "</script>\n"
      ],
      "text/plain": [
       "<IPython.core.display.HTML object>"
      ]
     },
     "metadata": {},
     "output_type": "display_data"
    }
   ],
   "source": [
    "# =======================\n",
    "# Main Pad (Data + Fit)\n",
    "# =======================\n",
    "canvas = ROOT.TCanvas(\"canvas\", \"canvas\", 800, 600)\n",
    "    \n",
    "mainPad = ROOT.TPad(\"mainPad\", \"mainPad\", 0, 0.3, 1, 1.0)\n",
    "mainPad.SetBottomMargin(0)\n",
    "mainPad.Draw()\n",
    "mainPad.cd()\n",
    "\n",
    "# Get histogram representation of data and background\n",
    "# Ensure both histograms use the same binning\n",
    "\n",
    "nbins = hist.GetNbinsX()\n",
    "xmin = hist.GetXaxis().GetXmin()\n",
    "xmax = hist.GetXaxis().GetXmax()\n",
    "\n",
    "h_data = data.createHistogram(\"h_data\", x, ROOT.RooFit.Binning(nbins, xmin, xmax));\n",
    "h_bkg  = bkg.createHistogram(\"h_bkg\", x, ROOT.RooFit.Binning(nbins, xmin, xmax));\n",
    "\n",
    "print(f\"nbins h_data: {h_data.GetNbinsX()}\")\n",
    "print(f\"nbins h_bkg: {h_bkg.GetNbinsX()}\")\n",
    "\n",
    "print(\"===================================================================\")\n",
    "print(f\"integral h_bkg: {h_bkg.Integral()}\")\n",
    "print(f\"nbkg expected: {nbkg}\")\n",
    "\n",
    "# Normalize background histogram to expected number of events. The h_bkg is normalized to 1, so \n",
    "# that's why we need to scale it with the nbkg estimation given in the fitted model\n",
    "h_bkg.Scale(nbkg.getVal() / h_bkg.Integral())\n",
    "\n",
    "# Create residual histogram (data - bkg)\n",
    "resid = ROOT.TH1F(\"residual\",\"Diphoton invariant-mass ; Invariant Mass m_{yy} [GeV] ; events\",60,100,160)\n",
    "\n",
    "for i in range(h_data.GetNbinsX()):\n",
    "    data_value = h_data.GetBinContent(i)\n",
    "    bkg_value = h_bkg.GetBinContent(i)\n",
    "    \n",
    "    # residual value\n",
    "    res_value  = data_value - bkg_value\n",
    "    resid.SetBinContent(i, res_value)\n",
    "\n",
    "# --- Plot results ---\n",
    "frame = x.frame()\n",
    "data.plotOn(frame, ROOT.RooFit.MarkerStyle(20), ROOT.RooFit.MarkerSize(0.5))\n",
    "model.plotOn(frame, ROOT.RooFit.Name(\"sig_bkg_curve\"), ROOT.RooFit.LineWidth(2), \n",
    "             ROOT.RooFit.LineColor(ROOT.kBlue))\n",
    "model.plotOn(frame, ROOT.RooFit.Components(\"bkg\"), ROOT.RooFit.LineWidth(2), ROOT.RooFit.LineStyle(ROOT.kDashed), \n",
    "             ROOT.RooFit.LineColor(ROOT.kRed), ROOT.RooFit.Name(\"bkg_curve\"))\n",
    "model.plotOn(frame, ROOT.RooFit.Components(\"gauss\"), ROOT.RooFit.LineStyle(ROOT.kDotted), \n",
    "             ROOT.RooFit.LineColor(ROOT.kBlue), ROOT.RooFit.Name(\"gaussian_curve\"))\n",
    "\n",
    "frame.SetTitle(\"Di-photon invariant mass m_{#gamma#gamma}\")\n",
    "frame.GetYaxis().SetTitle(\"Events / bin\")\n",
    "frame.GetXaxis().SetTitleSize(0.05)   # size of x-axis title\n",
    "frame.GetYaxis().SetTitleSize(0.05)   # size of y-axis title\n",
    "frame.GetXaxis().SetLabelSize(0.03)   # size of x-axis labels\n",
    "frame.GetYaxis().SetLabelSize(0.03)   # size of y-axis labels\n",
    "frame.GetXaxis().SetTitleFont(42)     # Helvetica (ROOT default)\n",
    "frame.GetYaxis().SetTitleFont(42)\n",
    "\n",
    "frame.Draw()\n",
    "canvas.cd()\n",
    "\n",
    "# Legend\n",
    "\n",
    "sig_bkg_curve = frame.findObject(\"sig_bkg_curve\")\n",
    "bkg_curve = frame.findObject(\"bkg_curve\")\n",
    "\n",
    "legend = ROOT.TLegend(0.55, 0.75, 0.85, 0.90)\n",
    "#legend.AddEntry(frame.findObject(\"h_data\"), \"Data\", \"lep\")\n",
    "legend.AddEntry(frame, \"Data\", \"lep\")\n",
    "legend.AddEntry(sig_bkg_curve, \"Sig+Bkg Fit (m_{H}=125 GeV)\", \"l\")\n",
    "legend.AddEntry(bkg_curve, \"Bkg (4th order polynomial)\", \"l\")\n",
    "legend.Draw()\n",
    "\n",
    "# Labels\n",
    "latex = ROOT.TLatex()\n",
    "latex.SetTextSize(0.03)\n",
    "latex.DrawLatexNDC(0.60, 0.70, \"ATLAS Open Data\")\n",
    "latex.DrawLatexNDC(0.60, 0.65, \"#sqrt{s}=13 TeV, #int L dt = 36 fb^{-1}\")\n",
    "latex.DrawLatexNDC(0.60, 0.60, \"H #rightarrow #gamma#gamma\")\n",
    "\n",
    "# =======================\n",
    "# Residual Pad (Data-Bkg vs Fit-Bkg)\n",
    "# =======================\n",
    "residPad = ROOT.TPad(\"residPad\", \"residPad\", 0, 0.05, 1, 0.3)\n",
    "residPad.SetTopMargin(0)\n",
    "residPad.SetBottomMargin(0.3)\n",
    "residPad.Draw()\n",
    "residPad.cd()\n",
    "\n",
    "# Style\n",
    "resid.SetMarkerStyle(20)\n",
    "resid.SetMarkerSize(0.5)\n",
    "resid.SetLineColor(ROOT.kBlack)\n",
    "resid.GetYaxis().SetTitle(\"Events - Bkg\")\n",
    "resid.GetYaxis().SetTitleSize(0.08)\n",
    "resid.GetYaxis().SetTitleOffset(0.5)\n",
    "resid.GetYaxis().SetLabelSize(0.08)\n",
    "resid.GetXaxis().SetTitle(\"di-photon invariant mass m_{#gamma#gamma} [GeV]\")\n",
    "resid.GetXaxis().SetTitleSize(0.10)\n",
    "resid.GetXaxis().SetLabelSize(0.10)\n",
    "resid.SetStats(0)\n",
    "\n",
    "# Draw residuals (data - bkg)\n",
    "resid.Draw(\"E1\")\n",
    "\n",
    "# Zero line\n",
    "zeroLine = ROOT.TLine(100, 0, 160, 0)\n",
    "zeroLine.SetLineColor(ROOT.kRed)\n",
    "zeroLine.SetLineStyle(2)\n",
    "zeroLine.Draw(\"same\")\n",
    "\n",
    "gaussian_curve = frame.findObject(\"gaussian_curve\")\n",
    "gaussian_curve.Draw(\"same\")\n",
    "\n",
    "canvas.Draw()"
   ]
  },
  {
   "cell_type": "code",
   "execution_count": 17,
   "metadata": {},
   "outputs": [
    {
     "name": "stdout",
     "output_type": "stream",
     "text": [
      "Finished in 16 min 33 s\n"
     ]
    }
   ],
   "source": [
    "end = time.time()\n",
    "duration = end-start\n",
    "print(\"Finished in {} min {} s\".format(int(duration//60),int(duration%60))) # Python3"
   ]
  },
  {
   "cell_type": "markdown",
   "metadata": {},
   "source": [
    "**Done!**"
   ]
  }
 ],
 "metadata": {
  "@webio": {
   "lastCommId": null,
   "lastKernelId": null
  },
  "kernelspec": {
   "display_name": "Python 3",
   "language": "python",
   "name": "python3"
  },
  "language_info": {
   "codemirror_mode": {
    "name": "ipython",
    "version": 3
   },
   "file_extension": ".py",
   "mimetype": "text/x-python",
   "name": "python",
   "nbconvert_exporter": "python",
   "pygments_lexer": "ipython3",
   "version": "3.11.9"
  }
 },
 "nbformat": 4,
 "nbformat_minor": 1
}
