{
 "cells": [
  {
   "cell_type": "markdown",
   "metadata": {},
   "source": [
    "# Kinematic Comparison of SM Higgs Boson Decays and WW-Diboson Production\n",
    "This notebook shows a simple analysis comparing the kinematic properties of events from two processes: the Standard Model (SM) Higgs boson decaying into two W bosons (H→WW) and the SM WW-diboson production, which serves as a background. The goal is to explore and visualize the differences in these processes, which can help in distinguishing between signal (H$\\rightarrow$WW) and background (WW-diboson) events in a particle physics analysis. Let's get started!"
   ]
  },
  {
   "cell_type": "markdown",
   "metadata": {},
   "source": [
    "<CENTER>\n",
    "    <a href=\"http://opendata.atlas.cern\" class=\"icons\"><img src=\"../../images/ATLASOD.gif\" style=\"width:40%\"></a>\n",
    "</CENTER>"
   ]
  },
  {
   "cell_type": "markdown",
   "metadata": {},
   "source": [
    "## Higgs Boson to WW Decay:\n",
    "The first process we are examining is the decay of the Higgs boson into two W bosons (H$\\rightarrow$WW). According to the Standard Model, the Higgs boson is responsible for giving mass to other particles through the Higgs mechanism. When the Higgs boson decays, it can produce a pair of W bosons, which are heavy gauge bosons that mediate the weak nuclear force.\n",
    "\n",
    "The Feynman diagram below represents this decay process. The Higgs boson (H) decays into two W bosons, which can further decay into leptons (like electrons or muons) and neutrinos. These final states can be detected in particle detectors, and the kinematic properties of the events (such as missing transverse energy and number of jets) can be used to identify Higgs boson decays.\n",
    "\n",
    "<CENTER><img src=\"../../images/fig_01a.png\" style=\"width:30%\"></CENTER>\n",
    "\n",
    "## WW-Diboson Production:\n",
    "The second process is the production of a pair of W bosons through Standard Model WW-diboson production. This is a background process because it also leads to final states with two W bosons, but without the involvement of the Higgs boson. In proton-proton collisions (like those at the Large Hadron Collider), WW pairs can be produced via interactions between quarks and gluons, as depicted in the Feynman diagram below.\n",
    "\n",
    "The WW-diboson production is a significant background for Higgs boson searches because the final state of two W bosons is identical to that of the H$\\rightarrow$WW signal. Therefore, distinguishing between the two based on their kinematic distributions is critical for identifying Higgs events.\n",
    "<CENTER><img src=\"../../images/fig1b.png\" style=\"width:26%\"></CENTER>"
   ]
  },
  {
   "cell_type": "markdown",
   "metadata": {},
   "source": [
    "## Running a Jupyter notebook\n",
    "A Jupyter notebook consists of cell blocks, each containing lines of Python code. Each cell can be run independently of each other, yielding respective outputs below the cells. Conventionally,cells are run in order from top to bottom.\n",
    "\n",
    "- To run the whole notebook, in the top menu click Cell $\\to$ Run All.\n",
    "- To propagate a change you've made to a piece of code, click Cell $\\to$ Run All Below.\n",
    "- You can also run a single code cell, by clicking Cell $\\to$ Run Cells, or using the keyboard shortcut Shift+Enter.\n",
    "\n",
    "For more information, refer to [How To Use Jupyter Notebooks](https://www.codecademy.com/article/how-to-use-jupyter-notebooks).\n",
    "\n",
    "By the end of this notebook you will be able to:\n",
    "1. Learn to process large data sets using cuts\n",
    "2. Understand some general principles of a particle physics analysis\n",
    "3. Discover the Z boson!"
   ]
  },
  {
   "cell_type": "markdown",
   "metadata": {},
   "source": [
    "## The Analysis"
   ]
  },
  {
   "cell_type": "markdown",
   "metadata": {},
   "source": [
    "We begin by importing the `ROOT` library, a tool widely used in High Energy Physics (HEP) for data analysis, visualization, and handling large datasets. The `%jsroot` on command enables JavaScript-based interactive plots in the notebook environment, allowing us to visualize the outputs directly in the browser."
   ]
  },
  {
   "cell_type": "code",
   "execution_count": 1,
   "metadata": {},
   "outputs": [],
   "source": [
    "import ROOT\n",
    "%jsroot on"
   ]
  },
  {
   "cell_type": "markdown",
   "metadata": {},
   "source": [
    "Next, we load the datasets for the background (WW-diboson events) and signal (Higgs boson decaying to two W bosons). These datasets are stored in `.root` files. We use the `TChain()` method and the `atlas open magic` package to open these files, and extract the event trees (analysis) containing the relevant event data. We also check the number of entries (events) in each tree to get an idea of the data size."
   ]
  },
  {
   "cell_type": "code",
   "execution_count": null,
   "metadata": {
    "scrolled": true
   },
   "outputs": [],
   "source": [
    "#install required packages. Note that --user is only required on SWAN (but it shouldn't cause problems elsewhere).\n",
    "%pip install --user atlasopenmagic"
   ]
  },
  {
   "cell_type": "code",
   "execution_count": null,
   "metadata": {},
   "outputs": [],
   "source": [
    "# Now we have to do a little bit of work to make sure that atlasopenmagic is available in our python path\n",
    "# This is because SWAN by default does not include the local package installation area in the PYTHONPATH\n",
    "# Again, this is not necessary on binder or colab\n",
    "import sys\n",
    "import os\n",
    "sys.path += [ f'{os.environ[\"HOME\"]}/.local/lib/python{sys.version_info.major}.{sys.version_info.minor}/site-packages' ]\n",
    "\n",
    "# Now we can safely import atlasopenmagic\n",
    "import atlasopenmagic as atom"
   ]
  },
  {
   "cell_type": "code",
   "execution_count": null,
   "metadata": {},
   "outputs": [],
   "source": [
    "# Now let's see what releases are available to us\n",
    "atom.available_releases()"
   ]
  },
  {
   "cell_type": "code",
   "execution_count": 5,
   "metadata": {},
   "outputs": [
    {
     "name": "stdout",
     "output_type": "stream",
     "text": [
      "Fetching and caching all metadata for release: 2025e-13tev-beta...\n",
      "Fetched 374 datasets so far...\n",
      "Successfully cached 374 datasets.\n",
      "Active release: 2025e-13tev-beta. (Datasets path: REMOTE)\n"
     ]
    }
   ],
   "source": [
    "# And let's plan to use the latest release of Open Data for Outreach and Education\n",
    "atom.set_release('2025e-13tev-beta')"
   ]
  },
  {
   "cell_type": "code",
   "execution_count": null,
   "metadata": {},
   "outputs": [],
   "source": [
    "samples_list = {\n",
    "    r'Background Diboson':      {'dids': [700601, 700602, 700603, 700604, 700605], 'color': 'red'},\n",
    "    r'Signal $H #rightarrow WW$':     {'dids': [345324, 345948], 'color': 'blue'}\n",
    "}\n",
    "\n",
    "# In case you are working on a system that doesn't have xrootd, you can use the https protocol to read \n",
    "# files with the following line:\n",
    "# mc_samples = atom.build_dataset(samples_list, skim='2to4lep', protocol='https', cache = True)\n",
    "\n",
    "mc_samples = atom.build_dataset(samples_list, skim='2to4lep', protocol='root')\n",
    "\n",
    "samples = mc_samples\n",
    "\n",
    "print(samples)"
   ]
  },
  {
   "cell_type": "code",
   "execution_count": 7,
   "metadata": {},
   "outputs": [],
   "source": [
    "signal_chain = ROOT.TChain(\"analysis\")\n",
    "background_chain = ROOT.TChain(\"analysis\")"
   ]
  },
  {
   "cell_type": "code",
   "execution_count": 8,
   "metadata": {},
   "outputs": [],
   "source": [
    "for name_sample in samples:\n",
    "    for url in samples[name_sample]['list']:\n",
    "        if 'Background' in name_sample:\n",
    "            background_chain.Add(url)\n",
    "        else:\n",
    "            signal_chain.Add(url)\n",
    "        # print(url)"
   ]
  },
  {
   "cell_type": "code",
   "execution_count": 9,
   "metadata": {},
   "outputs": [
    {
     "name": "stdout",
     "output_type": "stream",
     "text": [
      "Number of events in the H->WW dataset: 196457\n",
      "Number of events in the diboson dataset: 487681\n"
     ]
    }
   ],
   "source": [
    "signal_entries = signal_chain.GetEntries()\n",
    "print(f\"Number of events in the H->WW dataset: {signal_entries}\")\n",
    "\n",
    "background_entries = background_chain.GetEntries()\n",
    "print(f\"Number of events in the diboson dataset: {background_entries}\")"
   ]
  },
  {
   "cell_type": "markdown",
   "metadata": {},
   "source": [
    "After loading the data, we set up a `TCanvas`, which acts as the drawing area for the plots we will generate. A canvas is like a blank sheet of paper on which we can plot histograms or graphs. The parameters for the canvas specify its size and title."
   ]
  },
  {
   "cell_type": "code",
   "execution_count": 10,
   "metadata": {},
   "outputs": [],
   "source": [
    "c = ROOT.TCanvas(\"testCanvas\",\"a first way to plot a variable\",800,600)"
   ]
  },
  {
   "cell_type": "markdown",
   "metadata": {},
   "source": [
    "In this analysis, we are interested in comparing two key kinematic variables: the missing transverse energy (`met`) and the number of jets (`jet_n`) in each event. To do this, we define histograms for both variables for both the background (WW-diboson) and signal (Higgs$\\rightarrow$WW) datasets. Each histogram is initialized with a specific range and number of bins."
   ]
  },
  {
   "cell_type": "code",
   "execution_count": 11,
   "metadata": {},
   "outputs": [],
   "source": [
    "h_bgs = ROOT.TH1F(\"h_bgs\",\"Example plot: Missing transverse energy; MET [GeV]; Arbitray Units\",20,0,200)\n",
    "h2_bgs = ROOT.TH1F(\"h2_bgs\",\"Example plot: Number of Jets; jet_n; Arbitray Units\",10,0,10)\n",
    "\n",
    "h_sig = ROOT.TH1F(\"h_sig\",\"Example plot: Missing transverse energy; MET [GeV]; Arbitray Units\",20,0,200)\n",
    "h2_sig = ROOT.TH1F(\"h2_sig\",\"Example plot: Number of Jets; jet_n; Arbitray Units\",10,0,10)"
   ]
  },
  {
   "cell_type": "markdown",
   "metadata": {},
   "source": [
    "Now we fill these histograms with data. We loop over all the events in both the background and signal datasets. For each event, we extract the missing transverse energy (which we convert from MeV to GeV by dividing by 1000) and the number of jets. The histograms are filled with these values for each event."
   ]
  },
  {
   "cell_type": "code",
   "execution_count": 12,
   "metadata": {
    "scrolled": true
   },
   "outputs": [
    {
     "name": "stdout",
     "output_type": "stream",
     "text": [
      "Background processed.\n",
      "Signal processed.\n"
     ]
    }
   ],
   "source": [
    "for event in background_chain:\n",
    "    h_bgs.Fill((background_chain.met))\n",
    "    h2_bgs.Fill(background_chain.jet_n)\n",
    "\n",
    "print(\"Background processed.\")\n",
    "\n",
    "for event in signal_chain:\n",
    "    h_sig.Fill((signal_chain.met))\n",
    "    h2_sig.Fill(signal_chain.jet_n)\n",
    "        \n",
    "print(\"Signal processed.\")"
   ]
  },
  {
   "cell_type": "markdown",
   "metadata": {},
   "source": [
    "Once the histograms are filled, we normalize them. This ensures that the total area under each histogram equals 1, allowing us to compare the shapes of the distributions rather than just the number of events. This step is important for making a meaningful comparison between the signal and background."
   ]
  },
  {
   "cell_type": "code",
   "execution_count": 13,
   "metadata": {},
   "outputs": [],
   "source": [
    "scale_bgs = h_bgs.Integral()\n",
    "h_bgs.Scale(1/scale_bgs)\n",
    "\n",
    "scale_sig = h_sig.Integral()\n",
    "h_sig.Scale(1/scale_sig)"
   ]
  },
  {
   "cell_type": "markdown",
   "metadata": {},
   "source": [
    "Next, we apply some styling to the histograms, such as setting different colors and fill styles for the signal and background histograms. This helps to visually differentiate between them. We also create a legend that labels the signal and background histograms, making the plot easier to interpret."
   ]
  },
  {
   "cell_type": "code",
   "execution_count": 14,
   "metadata": {},
   "outputs": [
    {
     "data": {
      "text/plain": [
       "<cppyy.gbl.TLegendEntry object at 0x1e48a3a0>"
      ]
     },
     "execution_count": 14,
     "metadata": {},
     "output_type": "execute_result"
    }
   ],
   "source": [
    "h_bgs.SetFillStyle(3001)\n",
    "h_bgs.SetFillColor(4)\n",
    "h_bgs.SetLineColor(4)\n",
    "\n",
    "h_sig.SetFillStyle(3003)\n",
    "h_sig.SetFillColor(2)\n",
    "h_sig.SetLineColor(2)\n",
    "\n",
    "legend=ROOT.TLegend(0.5,0.7,0.9,0.9)\n",
    "legend.AddEntry(h_bgs,\"Background (WW) \",\"l\")\n",
    "legend.AddEntry(h_sig,\"Signal (H #rightarrow WW)\",\"l\")"
   ]
  },
  {
   "cell_type": "markdown",
   "metadata": {},
   "source": [
    "Finally, we draw the histograms on the canvas. The signal and background histograms are superimposed so that we can directly compare their distributions. The legend is added to the plot for clarity, and the `TCanvas.Draw()` command renders the canvas with the plotted histograms."
   ]
  },
  {
   "cell_type": "code",
   "execution_count": 15,
   "metadata": {},
   "outputs": [
    {
     "data": {
      "image/png": "[encoded data removed]",
      "text/plain": [
       "<IPython.core.display.Image object>"
      ]
     },
     "metadata": {},
     "output_type": "display_data"
    },
    {
     "name": "stderr",
     "output_type": "stream",
     "text": [
      "Info in <TCanvas::Print>: png file HWW_MET_comparison.png has been created\n"
     ]
    }
   ],
   "source": [
    "h_sig.SetStats(0)\n",
    "h_bgs.SetStats(0)\n",
    "\n",
    "h_sig.Draw(\"hist\")\n",
    "h_bgs.Draw(\"histsame\")\n",
    "legend.Draw()\n",
    "c.Draw()\n",
    "\n",
    "# If you want a copy of your plot locally, uncomment the following line\n",
    "# c.SaveAs(\"HWW_MET_comparison.pdf\") # pdf image"
   ]
  },
  {
   "cell_type": "markdown",
   "metadata": {},
   "source": [
    "This plot compares the missing transverse energy (MET) distribution between the WW-diboson background (in blue) and the Higgs boson decaying to WW signal (in red).\n",
    "\n",
    "The background (WW) events have a broader distribution, extending toward higher MET values, whereas the signal (H$\\rightarrow$WW) tends to have higher MET values more concentrated between 30 GeV and 90 GeV. This suggests that events from the Higgs signal might exhibit different missing energy characteristics compared to the WW background, providing a possible way to distinguish between the two processes."
   ]
  },
  {
   "cell_type": "markdown",
   "metadata": {},
   "source": [
    "We repeat this process for the second variable, the number of jets (`jet_n`), normalizing the histograms and plotting them side by side for comparison."
   ]
  },
  {
   "cell_type": "code",
   "execution_count": 16,
   "metadata": {},
   "outputs": [
    {
     "data": {
      "image/png": "[encoded data removed]",
      "text/plain": [
       "<IPython.core.display.Image object>"
      ]
     },
     "metadata": {},
     "output_type": "display_data"
    },
    {
     "name": "stderr",
     "output_type": "stream",
     "text": [
      "Info in <TCanvas::Print>: png file HWW_jet_n_comparison.png has been created\n"
     ]
    }
   ],
   "source": [
    "scale2_bgs = h2_bgs.Integral()\n",
    "h2_bgs.Scale(1/scale2_bgs)\n",
    "\n",
    "scale2_sig = h2_sig.Integral()\n",
    "h2_sig.Scale(1/scale2_sig)\n",
    "\n",
    "h2_bgs.SetFillStyle(3001)\n",
    "h2_bgs.SetFillColor(4)\n",
    "h2_bgs.SetLineColor(4)\n",
    "\n",
    "h2_sig.SetFillStyle(3003)\n",
    "h2_sig.SetFillColor(2)\n",
    "h2_sig.SetLineColor(2)\n",
    "\n",
    "legend=ROOT.TLegend(0.5,0.7,0.9,0.9)\n",
    "legend.AddEntry(h2_bgs,\"Background (WW) \",\"l\")\n",
    "legend.AddEntry(h2_sig,\"Signal (H #rightarrow WW)\",\"l\")\n",
    "\n",
    "h2_sig.SetStats(0)\n",
    "h2_bgs.SetStats(0)\n",
    "h2_sig.Draw(\"hist\")\n",
    "h2_bgs.Draw(\"histsame\")\n",
    "legend.Draw()\n",
    "c.Draw()\n",
    "\n",
    "# If you want a copy of your plot locally, uncomment the following line\n",
    "# c.SaveAs(\"HWW_jet_n_comparison.pdf\") # pdf image"
   ]
  },
  {
   "cell_type": "markdown",
   "metadata": {},
   "source": [
    "This histogram compares the number of jets observed in the events for the WW-diboson background (blue) and the Higgs signal (red).\n",
    "\n",
    "Jets are produced by quarks and gluons in high-energy collisions, and their count can help identify the nature of the process. Both the signal and background distributions peak at low jet counts (around 0-1 jets), indicating that both processes are dominated by events with fewer jets. \n",
    "\n",
    "However, the background tends to have a slightly broader tail extending to higher jet counts, which can indicate more complex final states in WW events compared to H→WW. This could be a useful distinguishing feature in an analysis."
   ]
  },
  {
   "cell_type": "markdown",
   "metadata": {},
   "source": [
    "## Final remarks \n",
    "\n",
    "In this notebook, we performed a simple kinematic comparison between two important Standard Model processes: the Higgs boson decay to two W bosons (H$\\rightarrow$WW) and the WW-diboson background. By analyzing the missing transverse energy (MET) and the number of jets in these events, we explored how the signal and background distributions differ, providing insight into how these variables can be used to separate signal from background in a typical particle physics analysis.\n",
    "\n",
    "This notebook serves as a foundation for more advanced analyses, where such comparisons are important in understanding the nature of the data and identifying new physics. Future iterations of this analysis could incorporate machine learning techniques or more sophisticated statistical methods to improve signal-background discrimination."
   ]
  }
 ],
 "metadata": {
  "@webio": {
   "lastCommId": null,
   "lastKernelId": null
  },
  "kernelspec": {
   "display_name": "Python 3",
   "language": "python",
   "name": "python3"
  },
  "language_info": {
   "codemirror_mode": {
    "name": "ipython",
    "version": 3
   },
   "file_extension": ".py",
   "mimetype": "text/x-python",
   "name": "python",
   "nbconvert_exporter": "python",
   "pygments_lexer": "ipython3",
   "version": "3.11.9"
  }
 },
 "nbformat": 4,
 "nbformat_minor": 4
}
