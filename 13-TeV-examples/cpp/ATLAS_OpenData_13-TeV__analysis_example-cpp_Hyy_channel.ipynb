{
 "cells": [
  {
   "cell_type": "markdown",
   "metadata": {},
   "source": [
    "<CENTER>\n",
    "    <a href=\"http://opendata.atlas.cern/release/2020/documentation/notebooks/intro.html\" class=\"icons\"><img src=\"../../images/ATLASOD.gif\" style=\"width:40%\"></a>\n",
    "</CENTER>"
   ]
  },
  {
   "cell_type": "markdown",
   "metadata": {},
   "source": [
    "<CENTER><h1>Searching for the Higgs boson in the H&#8594;&gamma;&gamma; channel (using C++) </h1></CENTER>\n",
    "\n",
    "## C++ notebook example"
   ]
  },
  {
   "cell_type": "markdown",
   "metadata": {},
   "source": [
    "\n",
    "**Introduction**\n",
    "Let's take a current ATLAS Open Data sample and create a histogram:"
   ]
  },
  {
   "cell_type": "markdown",
   "metadata": {},
   "source": [
    "In order to activate the interactive visualisation of the histogram that is later created we can use the JSROOT magic:"
   ]
  },
  {
   "cell_type": "code",
   "execution_count": null,
   "metadata": {},
   "outputs": [],
   "source": [
    "%jsroot on"
   ]
  },
  {
   "cell_type": "markdown",
   "metadata": {},
   "source": [
    "We need to include some standard C++ and ROOT libraries"
   ]
  },
  {
   "cell_type": "code",
   "execution_count": 2,
   "metadata": {},
   "outputs": [],
   "source": [
    "// Creates a TChain to be used by the Analysis.C class\n",
    "#include <TChain.h>\n",
    "#include <vector>\n",
    "#include <TFile.h>\n",
    "#include <iostream>\n",
    "#include <string>\n",
    "#include <stdio.h>"
   ]
  },
  {
   "cell_type": "markdown",
   "metadata": {},
   "source": [
    "Because we would like to use more than one ROOT input file, the best option is to use a TChain object. This allows to \"chain\" several samples into a single structure that we can later loop over"
   ]
  },
  {
   "cell_type": "code",
   "execution_count": 3,
   "metadata": {
    "scrolled": true
   },
   "outputs": [],
   "source": [
    "//TString path = \"https://opendata.cern.ch/eos/opendata/atlas/rucio/opendata/\";\n",
    "TString path = \"root://eospublic.cern.ch:1094//eos/opendata/atlas/rucio/opendata/\";"
   ]
  },
  {
   "cell_type": "code",
   "execution_count": 4,
   "metadata": {},
   "outputs": [
    {
     "name": "stdout",
     "output_type": "stream",
     "text": [
      "16\n",
      "root://eospublic.cern.ch:1094//eos/opendata/atlas/rucio/opendata/ODEO_FEB2025_v0_GamGam_data15_periodD.GamGam.root\n",
      "root://eospublic.cern.ch:1094//eos/opendata/atlas/rucio/opendata/ODEO_FEB2025_v0_GamGam_data15_periodE.GamGam.root\n",
      "root://eospublic.cern.ch:1094//eos/opendata/atlas/rucio/opendata/ODEO_FEB2025_v0_GamGam_data15_periodF.GamGam.root\n",
      "root://eospublic.cern.ch:1094//eos/opendata/atlas/rucio/opendata/ODEO_FEB2025_v0_GamGam_data15_periodG.GamGam.root\n",
      "root://eospublic.cern.ch:1094//eos/opendata/atlas/rucio/opendata/ODEO_FEB2025_v0_GamGam_data15_periodH.GamGam.root\n",
      "root://eospublic.cern.ch:1094//eos/opendata/atlas/rucio/opendata/ODEO_FEB2025_v0_GamGam_data15_periodJ.GamGam.root\n",
      "root://eospublic.cern.ch:1094//eos/opendata/atlas/rucio/opendata/ODEO_FEB2025_v0_GamGam_data16_periodA.GamGam.root\n",
      "root://eospublic.cern.ch:1094//eos/opendata/atlas/rucio/opendata/ODEO_FEB2025_v0_GamGam_data16_periodB.GamGam.root\n",
      "root://eospublic.cern.ch:1094//eos/opendata/atlas/rucio/opendata/ODEO_FEB2025_v0_GamGam_data16_periodC.GamGam.root\n",
      "root://eospublic.cern.ch:1094//eos/opendata/atlas/rucio/opendata/ODEO_FEB2025_v0_GamGam_data16_periodD.GamGam.root\n",
      "root://eospublic.cern.ch:1094//eos/opendata/atlas/rucio/opendata/ODEO_FEB2025_v0_GamGam_data16_periodE.GamGam.root\n",
      "root://eospublic.cern.ch:1094//eos/opendata/atlas/rucio/opendata/ODEO_FEB2025_v0_GamGam_data16_periodF.GamGam.root\n",
      "root://eospublic.cern.ch:1094//eos/opendata/atlas/rucio/opendata/ODEO_FEB2025_v0_GamGam_data16_periodG.GamGam.root\n",
      "root://eospublic.cern.ch:1094//eos/opendata/atlas/rucio/opendata/ODEO_FEB2025_v0_GamGam_data16_periodI.GamGam.root\n",
      "root://eospublic.cern.ch:1094//eos/opendata/atlas/rucio/opendata/ODEO_FEB2025_v0_GamGam_data16_periodK.GamGam.root\n",
      "root://eospublic.cern.ch:1094//eos/opendata/atlas/rucio/opendata/ODEO_FEB2025_v0_GamGam_data16_periodL.GamGam.root\n",
      "Number of entries: 36564144\n"
     ]
    }
   ],
   "source": [
    "TChain* fChain = new TChain(\"analysis\");\n",
    "\n",
    "TString prefix = \"ODEO_FEB2025_v0\";\n",
    "TString skim = \"GamGam\";\n",
    "\n",
    "vector<TString> samples = { \"data15_periodD\", \"data15_periodE\", \"data15_periodF\", \"data15_periodG\", \n",
    "                            \"data15_periodH\", \"data15_periodJ\", \"data16_periodA\", \"data16_periodB\", \n",
    "                            \"data16_periodC\", \"data16_periodD\", \"data16_periodE\", \"data16_periodF\", \n",
    "                            \"data16_periodG\", \"data16_periodI\", \"data16_periodK\", \"data16_periodL\"\n",
    "                           };\n",
    "\n",
    "cout << samples.size() << endl;\n",
    "\n",
    "int max_samples = 16;\n",
    "\n",
    "for(int ii=0; ii<max_samples; ii++){\n",
    "    TString name_sample = samples.at(ii);\n",
    "    TString name_root_file = path+prefix+\"_\"+skim+\"_\"+name_sample+\".\"+skim+\".root\";\n",
    "    cout << name_root_file << endl;\n",
    "    fChain->Add(name_root_file);\n",
    "}\n",
    "\n",
    "int nentries = (Int_t)fChain->GetEntries();\n",
    "cout << \"Number of entries: \" << nentries << endl;"
   ]
  },
  {
   "cell_type": "markdown",
   "metadata": {},
   "source": [
    "Now we're going to extract the photons variables"
   ]
  },
  {
   "cell_type": "code",
   "execution_count": 5,
   "metadata": {},
   "outputs": [],
   "source": [
    "Int_t  photon_n;  //number of preselected photons                                                                                                             \n",
    "\n",
    "ROOT::VecOps::RVec<float> *photon_pt;  //transverse momentum of the photon                                                                                    \n",
    "ROOT::VecOps::RVec<float> *photon_eta;  //pseudorapidity of the photon                                                                                        \n",
    "ROOT::VecOps::RVec<float> *photon_phi;  //azimuthal angle of the photon                                                                                       \n",
    "ROOT::VecOps::RVec<float> *photon_e;  //energy of the photon                                                                                                  \n",
    "ROOT::VecOps::RVec<bool> *photon_isTightID;\n",
    "ROOT::VecOps::RVec<bool> *photon_isTightIso;\n",
    "\n",
    "Bool_t trigP;\n",
    "ROOT::VecOps::RVec<float> *photon_ptcone20;\n",
    "\n",
    "photon_pt = 0;\n",
    "photon_eta = 0;\n",
    "photon_phi = 0;\n",
    "photon_e = 0;\n",
    "photon_isTightID = 0;\n",
    "photon_isTightIso = 0;\n",
    "photon_ptcone20 = 0;"
   ]
  },
  {
   "cell_type": "markdown",
   "metadata": {},
   "source": [
    "Here we're filling the variables defined above with the content of those inside the input ntuples"
   ]
  },
  {
   "cell_type": "code",
   "execution_count": 6,
   "metadata": {},
   "outputs": [],
   "source": [
    "fChain->SetBranchAddress(\"photon_pt\",        &photon_pt);\n",
    "fChain->SetBranchAddress(\"photon_n\",         &photon_n);\n",
    "\n",
    "fChain->SetBranchAddress(\"photon_eta\",       &photon_eta);\n",
    "fChain->SetBranchAddress(\"photon_phi\",       &photon_phi);\n",
    "fChain->SetBranchAddress(\"photon_e\",         &photon_e);\n",
    "fChain->SetBranchAddress(\"photon_isTightID\", &photon_isTightID);\n",
    "fChain->SetBranchAddress(\"photon_isTightIso\", &photon_isTightIso);\n",
    "\n",
    "fChain->SetBranchAddress(\"trigP\",            &trigP);\n",
    "fChain->SetBranchAddress(\"photon_ptcone20\",  &photon_ptcone20);"
   ]
  },
  {
   "cell_type": "markdown",
   "metadata": {},
   "source": [
    "We're creating a histogram for this example. The plan in to fill them with events."
   ]
  },
  {
   "cell_type": "code",
   "execution_count": 7,
   "metadata": {},
   "outputs": [],
   "source": [
    "//Invariant mass histograms definition\n",
    "TH1F *h_M_Hyy = new TH1F(\"h_M_Hyy\",\"Diphoton invariant-mass ; M_{#gamma#gamma} [GeV] ; Events / bin\", 30, 105, 160);"
   ]
  },
  {
   "cell_type": "markdown",
   "metadata": {},
   "source": [
    "We are selecting below a simple look for them."
   ]
  },
  {
   "cell_type": "code",
   "execution_count": 8,
   "metadata": {},
   "outputs": [],
   "source": [
    "h_M_Hyy->SetMarkerSize(2.0);\n",
    "h_M_Hyy->SetLineColor(kBlue);\n",
    "h_M_Hyy->SetFillColor(kBlue-10);"
   ]
  },
  {
   "cell_type": "markdown",
   "metadata": {},
   "source": [
    "The Higgs boson analysis implemented here considers Higgs boson decays into a photon pair. The event selection criteria are (this will take a few minutes):"
   ]
  },
  {
   "cell_type": "code",
   "execution_count": 9,
   "metadata": {},
   "outputs": [
    {
     "name": "stdout",
     "output_type": "stream",
     "text": [
      "* Analysed a total of: 36564144 in this sample.\n",
      "* Number of events passing the selection criteria: 550057 in this sample.\n"
     ]
    }
   ],
   "source": [
    "int nbytes = 0;\n",
    "int accepted_events = 0;\n",
    "for (int i = 0; i < nentries; i++){\n",
    "    nbytes = fChain->GetEntry(i);\n",
    "    if(photon_isTightID->at(0)==true && photon_isTightID->at(1)==true){\n",
    "        // Cut: pT cut - photon 1 has pT > 50 GeV and photon 2 has pT > 30 GeV\n",
    "        if(photon_pt->at(0) > 50. && photon_pt->at(1) > 30.){\n",
    "            // Only the events where the calorimeter isolation is less than 5.5% are kept\n",
    "            if(photon_ptcone20->at(0)/photon_pt->at(0) < 0.055 && photon_ptcone20->at(1)/photon_pt->at(1) < 0.055){\n",
    "                // Cut on the pseudorapidity in barrel/end-cap transition region\n",
    "                if((TMath::Abs(photon_eta->at(0)) < 2.37) && \n",
    "                   (TMath::Abs(photon_eta->at(0)) < 1.37 || TMath::Abs(photon_eta->at(0)) > 1.52)){\n",
    "                    if((TMath::Abs(photon_eta->at(1)) < 2.37) && \n",
    "                       (TMath::Abs(photon_eta->at(1)) < 1.37 || TMath::Abs(photon_eta->at(1)) > 1.52)){\n",
    "                        // TLorentzVector definitions\n",
    "                        TLorentzVector Photon_1 = TLorentzVector();\n",
    "                        TLorentzVector Photon_2 = TLorentzVector();\n",
    "\n",
    "                        Photon_1.SetPtEtaPhiE(photon_pt->at(0), photon_eta->at(0), photon_phi->at(0), photon_e->at(0));\n",
    "                        Photon_2.SetPtEtaPhiE(photon_pt->at(1), photon_eta->at(1), photon_phi->at(1), photon_e->at(1));\n",
    "                        \n",
    "                        // Calculation of the Invariant Mass using TLorentz vectors\n",
    "                        TLorentzVector Photon_12 = Photon_1 + Photon_2;\n",
    "                        float inv_mass_Hyy = Photon_12.M();\n",
    "\n",
    "                        // Cut on null diphoton invariant mass\n",
    "                        if(inv_mass_Hyy == 0) continue;\n",
    "                        // Cut on diphoton invariant mass based isolation. Only the events where \n",
    "                        // the invididual photon invariant mass based isolation is larger than 35% are kept\n",
    "                        if((photon_pt->at(0)/inv_mass_Hyy > 0.35) && (photon_pt->at(1)/inv_mass_Hyy > 0.35)){\n",
    "                            // Filling with the mass of the gamma-gamma system\n",
    "                            h_M_Hyy->Fill(inv_mass_Hyy);\n",
    "                            accepted_events+=1;\n",
    "                        }\n",
    "                    }\n",
    "                }\n",
    "            }\n",
    "        }\n",
    "    }\n",
    "}\n",
    "\n",
    "// Final message after analysis\n",
    "std::cout << \"* Analysed a total of: \" << nentries << \" in this sample.\" << std::endl;\n",
    "std::cout << \"* Number of events passing the selection criteria: \" << accepted_events << \" in this sample.\" << std::endl;"
   ]
  },
  {
   "cell_type": "markdown",
   "metadata": {},
   "source": [
    "#### Final plot"
   ]
  },
  {
   "cell_type": "code",
   "execution_count": 10,
   "metadata": {},
   "outputs": [
    {
     "data": {
      "text/html": [
       "\n",
       "\n",
       "<div id=\"root_plot_1756870654322\" style=\"width: 900px; height: 600px; position: relative\">\n",
       "</div>\n",
       "\n",
       "<script>\n",
       "\n",
       "function display_root_plot_1756870654322(Core) {\n",
       "   let obj = Core.parse({\"_typename\":\"TCanvasWebSnapshot\",\"fUniqueID\":0,\"fBits\":0,\"fObjectID\":\"\",\"fOption\":\"\",\"fKind\":3,\"fSnapshot\":{\"_typename\":\"TCanvas\",\"fUniqueID\":0,\"fBits\":3342344,\"fLineColor\":1,\"fLineStyle\":1,\"fLineWidth\":1,\"fFillColor\":0,\"fFillStyle\":1001,\"fLeftMargin\":0.1,\"fRightMargin\":0.1,\"fBottomMargin\":0.1,\"fTopMargin\":0.1,\"fXfile\":2,\"fYfile\":2,\"fAfile\":1,\"fXstat\":0.99,\"fYstat\":0.99,\"fAstat\":2,\"fFrameFillColor\":0,\"fFrameLineColor\":1,\"fFrameFillStyle\":1001,\"fFrameLineStyle\":1,\"fFrameLineWidth\":1,\"fFrameBorderSize\":1,\"fFrameBorderMode\":0,\"fX1\":0,\"fY1\":0,\"fX2\":1,\"fY2\":1,\"fXtoAbsPixelk\":0,\"fXtoPixelk\":0,\"fXtoPixel\":896,\"fYtoAbsPixelk\":572,\"fYtoPixelk\":572,\"fYtoPixel\":-572,\"fUtoAbsPixelk\":0,\"fUtoPixelk\":0,\"fUtoPixel\":896,\"fVtoAbsPixelk\":572,\"fVtoPixelk\":572,\"fVtoPixel\":-572,\"fAbsPixeltoXk\":0,\"fPixeltoXk\":0,\"fPixeltoX\":0.00111607142857143,\"fAbsPixeltoYk\":1,\"fPixeltoYk\":0,\"fPixeltoY\":-0.00174825174825175,\"fXlowNDC\":0,\"fYlowNDC\":0,\"fXUpNDC\":1,\"fYUpNDC\":1,\"fWNDC\":1,\"fHNDC\":1,\"fAbsXlowNDC\":0,\"fAbsYlowNDC\":0,\"fAbsWNDC\":1,\"fAbsHNDC\":1,\"fUxmin\":0,\"fUymin\":0,\"fUxmax\":1,\"fUymax\":1,\"fTheta\":30,\"fPhi\":30,\"fAspectRatio\":0,\"fNumber\":0,\"fTickx\":0,\"fTicky\":0,\"fLogx\":0,\"fLogy\":0,\"fLogz\":0,\"fPadPaint\":0,\"fCrosshair\":0,\"fCrosshairPos\":0,\"fBorderSize\":2,\"fBorderMode\":0,\"fModified\":false,\"fGridx\":false,\"fGridy\":false,\"fAbsCoord\":false,\"fEditable\":true,\"fFixedAspectRatio\":false,\"fPrimitives\":{\"_typename\":\"TList\",\"name\":\"TList\",\"arr\":[],\"opt\":[]},\"fExecs\":null,\"fName\":\"cz\",\"fTitle\":\"cz\",\"fNumPaletteColor\":0,\"fNextPaletteColor\":0,\"fDISPLAY\":\"$DISPLAY\",\"fDoubleBuffer\":0,\"fRetained\":true,\"fXsizeUser\":0,\"fYsizeUser\":0,\"fXsizeReal\":20,\"fYsizeReal\":13.33333,\"fWindowTopX\":0,\"fWindowTopY\":0,\"fWindowWidth\":0,\"fWindowHeight\":0,\"fCw\":896,\"fCh\":572,\"fCatt\":{\"_typename\":\"TAttCanvas\",\"fXBetween\":2,\"fYBetween\":2,\"fTitleFromTop\":1.2,\"fXdate\":0.2,\"fYdate\":0.3,\"fAdate\":1},\"kMoveOpaque\":true,\"kResizeOpaque\":true,\"fHighLightColor\":2,\"fBatch\":true,\"kShowEventStatus\":false,\"kAutoExec\":true,\"kMenuBar\":true},\"fActive\":false,\"fReadOnly\":true,\"fWithoutPrimitives\":false,\"fHasExecs\":false,\"fPrimitives\":[{\"_typename\":\"TWebSnapshot\",\"fUniqueID\":0,\"fBits\":0,\"fObjectID\":\"\",\"fOption\":\"\",\"fKind\":4,\"fSnapshot\":{\"_typename\":\"TWebPainting\",\"fUniqueID\":0,\"fBits\":0,\"fOper\":\"0:255,255,255;1:0,0,0;2:255,0,0;3:0,255,0;4:0,0,255;5:255,255,0;6:255,0,255;7:0,255,255;8:89,211,84;9:89,84,216;10:254,254,254;11:192,182,172;12:76,76,76;13:102,102,102;14:127,127,127;15:153,153,153;16:178,178,178;17:204,204,204;18:229,229,229;19:242,242,242;20:204,198,170;21:204,198,170;22:193,191,168;23:186,181,163;24:178,165,150;25:183,163,155;26:173,153,140;27:155,142,130;28:135,102,86;29:175,206,198;30:132,193,163;31:137,168,160;32:130,158,140;33:173,188,198;34:122,142,153;35:117,137,145;36:104,130,150;37:109,122,132;38:124,153,209;39:127,127,155;40:170,165,191;41:211,206,135;42:221,186,135;43:188,158,130;44:198,153,124;45:191,130,119;46:206,94,96;47:170,142,147;48:165,119,122;49:147,104,112;50:211,89,84;51:146,0,255;52:122,0,255;53:98,0,255;54:74,0,255;55:51,0,255;56:27,0,255;57:3,0,255;58:0,20,255;59:0,44,255;60:0,68,255;61:0,91,255;62:0,115,255;63:0,139,255;64:0,163,255;65:0,187,255;66:0,210,255;67:0,234,255;68:0,255,251;69:0,255,227;70:0,255,204;71:0,255,180;72:0,255,156;73:0,255,132;74:0,255,108;75:0,255,85;76:0,255,61;77:0,255,37;78:0,255,13;79:10,255,0;80:34,255,0;81:57,255,0;82:81,255,0;83:105,255,0;84:129,255,0;85:153,255,0;86:176,255,0;87:200,255,0;88:224,255,0;89:248,255,0;90:255,238,0;91:255,214,0;92:255,190,0;93:255,166,0;94:255,142,0;95:255,119,0;96:255,95,0;97:255,71,0;98:255,47,0;99:255,23,0;100:111,45,168;101:165,42,42;102:178,190,181;103:87,144,252;104:248,156,32;105:228,37,54;106:150,74,139;107:156,156,161;108:122,33,221;109:24,69,251;110:255,94,2;111:201,31,22;112:200,73,169;113:173,173,125;114:134,200,221;115:87,141,255;116:101,99,100;117:63,144,218;118:255,169,14;119:189,31,1;120:148,164,162;121:131,45,182;122:169,107,89;123:231,99,0;124:185,172,112;125:113,117,129;126:146,218,221;127:178,178,178;201:91,91,91;202:122,122,122;203:183,183,183;204:214,214,214;205:137,15,15;206:183,20,20;207:234,71,71;208:239,117,117;209:15,137,15;210:20,183,20;211:71,234,71;212:117,239,117;213:15,15,137;214:20,20,183;215:71,71,234;216:117,117,239;217:137,137,15;218:183,183,20;219:234,234,71;220:239,239,117;221:137,15,137;222:183,20,183;223:234,71,234;224:239,117,239;225:15,137,137;226:20,183,183;227:71,234,234;228:117,239,239;390:255,255,204;391:255,255,153;392:204,204,153;393:255,255,102;394:204,204,102;395:153,153,102;396:255,255,51;397:204,204,51;398:153,153,51;399:102,102,51;400:255,255,0;401:204,204,0;402:153,153,0;403:102,102,0;404:51,51,0;406:204,255,204;407:153,255,153;408:153,204,153;409:102,255,102;410:102,204,102;411:102,153,102;412:51,255,51;413:51,204,51;414:51,153,51;415:51,102,51;416:0,255,0;417:0,204,0;418:0,153,0;419:0,102,0;420:0,51,0;422:204,255,255;423:153,255,255;424:153,204,204;425:102,255,255;426:102,204,204;427:102,153,153;428:51,255,255;429:51,204,204;430:51,153,153;431:51,102,102;432:0,255,255;433:0,204,204;434:0,153,153;435:0,102,102;436:0,51,51;590:204,204,255;591:153,153,255;592:153,153,204;593:102,102,255;594:102,102,204;595:102,102,153;596:51,51,255;597:51,51,204;598:51,51,153;599:51,51,102;600:0,0,255;601:0,0,204;602:0,0,153;603:0,0,102;604:0,0,51;606:255,204,255;607:255,153,255;608:204,153,204;609:255,102,255;610:204,102,204;611:153,102,153;612:255,51,255;613:204,51,204;614:153,51,153;615:102,51,102;616:255,0,255;617:204,0,204;618:153,0,153;619:102,0,102;620:51,0,51;622:255,204,204;623:255,153,153;624:204,153,153;625:255,102,102;626:204,102,102;627:153,102,102;628:255,51,51;629:204,51,51;630:153,51,51;631:102,51,51;632:255,0,0;633:204,0,0;634:153,0,0;635:102,0,0;636:51,0,0;791:255,204,153;792:204,153,102;793:153,102,51;794:153,102,0;795:204,153,51;796:255,204,102;797:255,153,0;798:255,204,51;799:204,153,0;800:255,204,0;801:255,153,51;802:204,102,0;803:102,51,0;804:153,51,0;805:204,102,51;806:255,153,102;807:255,102,0;808:255,102,51;809:204,51,0;810:255,51,0;811:153,255,51;812:102,204,0;813:51,102,0;814:51,153,0;815:102,204,51;816:153,255,102;817:102,255,0;818:102,255,51;819:51,204,0;820:51,255,0;821:204,255,153;822:153,204,102;823:102,153,51;824:102,153,0;825:153,204,51;826:204,255,102;827:153,255,0;828:204,255,51;829:153,204,0;830:204,255,0;831:153,255,204;832:102,204,153;833:51,153,102;834:0,153,102;835:51,204,153;836:102,255,204;837:0,255,102;838:51,255,204;839:0,204,153;840:0,255,204;841:51,255,153;842:0,204,102;843:0,102,51;844:0,153,51;845:51,204,102;846:102,255,153;847:0,255,153;848:51,255,102;849:0,204,51;850:0,255,51;851:153,204,255;852:102,153,204;853:51,102,153;854:0,51,153;855:51,102,204;856:102,153,255;857:0,102,255;858:51,102,255;859:0,51,204;860:0,51,255;861:51,153,255;862:0,102,204;863:0,51,102;864:0,102,153;865:51,153,204;866:102,204,255;867:0,153,255;868:51,204,255;869:0,153,204;870:0,204,255;871:204,153,255;872:153,102,204;873:102,51,153;874:102,0,153;875:153,51,204;876:204,102,255;877:153,0,255;878:204,51,255;879:153,0,204;880:204,0,255;881:153,51,255;882:102,0,204;883:51,0,102;884:51,0,153;885:102,51,204;886:153,102,255;887:102,0,255;888:102,51,255;889:51,0,204;890:51,0,255;891:255,51,153;892:204,0,102;893:102,0,51;894:153,0,51;895:204,51,102;896:255,102,153;897:255,0,102;898:255,51,102;899:204,0,51;900:255,0,51;901:255,153,204;902:204,102,153;903:153,51,102;904:153,0,102;905:204,51,153;906:255,102,204;907:255,0,153;908:204,0,153;909:255,51,204;910:255,0,153;920:204,204,204;921:153,153,153;922:102,102,102;923:51,51,51;924:53,42,134;925:51,44,137;926:50,45,140;927:49,47,143;928:48,48,146;929:46,50,148;930:45,51,151;931:44,53,154;932:43,55,157;933:42,56,160;934:40,58,162;935:39,59,165;936:38,61,168;937:37,63,171;938:35,64,174;939:34,66,176;940:33,67,179;941:32,69,182;942:31,71,185;943:29,72,187;944:28,74,190;945:27,75,193;946:26,77,196;947:24,79,199;948:23,80,201;949:22,82,204;950:21,83,207;951:19,85,210;952:18,86,213;953:17,88,215;954:16,90,218;955:15,91,221;956:15,92,221;957:15,94,220;958:15,95,220;959:15,96,220;960:15,97,220;961:15,98,220;962:16,99,219;963:16,100,219;964:16,102,219;965:16,103,219;966:16,104,218;967:16,105,218;968:17,106,218;969:17,107,218;970:17,109,217;971:17,110,217;972:17,111,217;973:17,112,217;974:17,113,216;975:18,114,216;976:18,115,216;977:18,117,216;978:18,118,215;979:18,119,215;980:18,120,215;981:18,121,215;982:19,122,215;983:19,123,214;984:19,125,214;985:19,126,214;986:19,127,214;987:19,128,213;988:19,129,213;989:19,130,213;990:18,131,212;991:18,132,212;992:17,134,211;993:17,135,211;994:16,136,211;995:16,137,210;996:15,138,210;997:15,139,210;998:15,140,209;999:14,141,209;1000:14,142,208;1001:13,143,208;1002:13,145,208;1003:12,146,207;1004:12,147,207;1005:12,148,207;1006:11,149,206;1007:11,150,206;1008:10,151,205;1009:10,152,205;1010:9,153,205;1011:9,154,204;1012:8,155,204;1013:8,157,204;1014:8,158,203;1015:7,159,203;1016:7,160,202;1017:6,161,202;1018:6,162,202;1019:5,163,201;1020:7,164,200;1021:8,164,199;1022:9,165,198;1023:10,166,197;1024:12,166,195;1025:13,167,194;1026:14,167,193;1027:15,168,192;1028:17,169,191;1029:18,169,189;1030:19,170,188;1031:20,170,187;1032:22,171,186;1033:23,172,185;1034:24,172,184;1035:25,173,182;1036:27,173,181;1037:28,174,180;1038:29,175,179;1039:30,175,178;1040:32,176,176;1041:33,176,175;1042:34,177,174;1043:35,178,173;1044:37,178,172;1045:38,179,170;1046:39,180,169;1047:40,180,168;1048:42,181,167;1049:43,181,166;1050:44,182,165;1051:45,183,163;1052:48,183,162;1053:51,183,161;1054:54,183,159;1055:57,184,158;1056:59,184,156;1057:62,184,155;1058:65,184,154;1059:68,185,152;1060:71,185,151;1061:73,185,149;1062:76,185,148;1063:79,186,146;1064:82,186,145;1065:84,186,144;1066:87,186,142;1067:90,187,141;1068:93,187,139;1069:96,187,138;1070:98,187,137;1071:101,188,135;1072:104,188,134;1073:107,188,132;1074:110,188,131;1075:112,189,130;1076:115,189,128;1077:118,189,127;1078:121,189,125;1079:124,190,124;1080:126,190,123;1081:129,190,121;1082:132,190,120;1083:135,191,118;1084:137,190,117;1085:139,190,117;1086:142,190,116;1087:144,190,115;1088:146,190,114;1089:148,190,113;1090:151,190,112;1091:153,190,111;1092:155,189,110;1093:158,189,109;1094:160,189,108;1095:162,189,107;1096:165,189,106;1097:167,189,105;1098:169,189,104;1099:171,188,104;1100:174,188,103;1101:176,188,102;1102:178,188,101;1103:181,188,100;1104:183,188,99;1105:185,188,98;1106:188,188,97;1107:190,187,96;1108:192,187,95;1109:194,187,94;1110:197,187,93;1111:199,187,92;1112:201,187,92;1113:204,187,91;1114:206,186,90;1115:208,186,89;1116:210,187,88;1117:211,187,86;1118:212,188,85;1119:214,188,84;1120:215,188,83;1121:217,189,81;1122:218,189,80;1123:220,190,79;1124:221,190,78;1125:222,191,77;1126:224,191,75;1127:225,191,74;1128:227,192,73;1129:228,192,72;1130:229,193,70;1131:231,193,69;1132:232,194,68;1133:234,194,67;1134:235,194,66;1135:236,195,64;1136:238,195,63;1137:239,196,62;1138:241,196,61;1139:242,197,59;1140:244,197,58;1141:245,197,57;1142:246,198,56;1143:248,198,55;1144:249,199,53;1145:251,199,52;1146:252,200,51;1147:253,200,50;1148:253,202,49;1149:253,203,47;1150:253,205,46;1151:253,206,45;1152:253,208,44;1153:252,209,43;1154:252,211,42;1155:252,213,41;1156:252,214,39;1157:252,216,38;1158:252,217,37;1159:252,219,36;1160:251,220,35;1161:251,222,34;1162:251,224,33;1163:251,225,31;1164:251,227,30;1165:251,228,29;1166:250,230,28;1167:250,231,27;1168:250,233,26;1169:250,235,25;1170:250,236,23;1171:250,238,22;1172:250,239,21;1173:249,241,20;1174:249,242,19;1175:249,244,18;1176:249,246,17;1177:249,247,16;1178:249,249,14\",\"fBuf\":{\"$arr\":\"Float32\",\"len\":255,\"v\":[924,925,926,927,928,929,930,931,932,933,934,935,936,937,938,939,940,941,942,943,944,945,946,947,948,949,950,951,952,953,954,955,956,957,958,959,960,961,962,963,964,965,966,967,968,969,970,971,972,973,974,975,976,977,978,979,980,981,982,983,984,985,986,987,988,989,990,991,992,993,994,995,996,997,998,999,1000,1001,1002,1003,1004,1005,1006,1007,1008,1009,1010,1011,1012,1013,1014,1015,1016,1017,1018,1019,1020,1021,1022,1023,1024,1025,1026,1027,1028,1029,1030,1031,1032,1033,1034,1035,1036,1037,1038,1039,1040,1041,1042,1043,1044,1045,1046,1047,1048,1049,1050,1051,1052,1053,1054,1055,1056,1057,1058,1059,1060,1061,1062,1063,1064,1065,1066,1067,1068,1069,1070,1071,1072,1073,1074,1075,1076,1077,1078,1079,1080,1081,1082,1083,1084,1085,1086,1087,1088,1089,1090,1091,1092,1093,1094,1095,1096,1097,1098,1099,1100,1101,1102,1103,1104,1105,1106,1107,1108,1109,1110,1111,1112,1113,1114,1115,1116,1117,1118,1119,1120,1121,1122,1123,1124,1125,1126,1127,1128,1129,1130,1131,1132,1133,1134,1135,1136,1137,1138,1139,1140,1141,1142,1143,1144,1145,1146,1147,1148,1149,1150,1151,1152,1153,1154,1155,1156,1157,1158,1159,1160,1161,1162,1163,1164,1165,1166,1167,1168,1169,1170,1171,1172,1173,1174,1175,1176,1177,1178]}}},{\"_typename\":\"TWebSnapshot\",\"fUniqueID\":0,\"fBits\":0,\"fObjectID\":\"\",\"fOption\":\"\",\"fKind\":5,\"fSnapshot\":{\"_typename\":\"TStyle\",\"fUniqueID\":0,\"fBits\":0,\"fName\":\"Modern\",\"fTitle\":\"Modern Style\",\"fLineColor\":1,\"fLineStyle\":1,\"fLineWidth\":1,\"fFillColor\":19,\"fFillStyle\":1001,\"fMarkerColor\":1,\"fMarkerStyle\":1,\"fMarkerSize\":1,\"fTextAngle\":0,\"fTextSize\":0.05,\"fTextAlign\":11,\"fTextColor\":1,\"fTextFont\":62,\"fXaxis\":{\"_typename\":\"TAttAxis\",\"fNdivisions\":510,\"fAxisColor\":1,\"fLabelColor\":1,\"fLabelFont\":42,\"fLabelOffset\":0.005,\"fLabelSize\":0.035,\"fTickLength\":0.03,\"fTitleOffset\":1,\"fTitleSize\":0.035,\"fTitleColor\":1,\"fTitleFont\":42},\"fYaxis\":{\"_typename\":\"TAttAxis\",\"fNdivisions\":510,\"fAxisColor\":1,\"fLabelColor\":1,\"fLabelFont\":42,\"fLabelOffset\":0.005,\"fLabelSize\":0.035,\"fTickLength\":0.03,\"fTitleOffset\":0,\"fTitleSize\":0.035,\"fTitleColor\":1,\"fTitleFont\":42},\"fZaxis\":{\"_typename\":\"TAttAxis\",\"fNdivisions\":510,\"fAxisColor\":1,\"fLabelColor\":1,\"fLabelFont\":42,\"fLabelOffset\":0.005,\"fLabelSize\":0.035,\"fTickLength\":0.03,\"fTitleOffset\":1,\"fTitleSize\":0.035,\"fTitleColor\":1,\"fTitleFont\":42},\"fBarWidth\":1,\"fBarOffset\":0,\"fColorModelPS\":0,\"fDrawBorder\":0,\"fOptLogx\":0,\"fOptLogy\":0,\"fOptLogz\":0,\"fOptDate\":0,\"fOptStat\":1111,\"fOptTitle\":1,\"fOptFile\":0,\"fOptFit\":0,\"fShowEventStatus\":0,\"fShowEditor\":0,\"fShowToolBar\":0,\"fNumberContours\":20,\"fAttDate\":{\"_typename\":\"TAttText\",\"fTextAngle\":0,\"fTextSize\":0.025,\"fTextAlign\":11,\"fTextColor\":1,\"fTextFont\":62},\"fDateX\":0.01,\"fDateY\":0.01,\"fEndErrorSize\":2,\"fErrorX\":0.5,\"fFuncColor\":2,\"fFuncStyle\":1,\"fFuncWidth\":2,\"fGridColor\":0,\"fGridStyle\":3,\"fGridWidth\":1,\"fLegendBorderSize\":1,\"fLegendFillColor\":0,\"fLegendFillStyle\":1001,\"fLegendFont\":42,\"fLegendTextSize\":0,\"fHatchesLineWidth\":1,\"fHatchesSpacing\":1,\"fFrameFillColor\":0,\"fFrameLineColor\":1,\"fFrameFillStyle\":1001,\"fFrameLineStyle\":1,\"fFrameLineWidth\":1,\"fFrameBorderSize\":1,\"fFrameBorderMode\":0,\"fHistFillColor\":0,\"fHistLineColor\":602,\"fHistFillStyle\":1001,\"fHistLineStyle\":1,\"fHistLineWidth\":1,\"fHistMinimumZero\":false,\"fHistTopMargin\":0.05,\"fCanvasPreferGL\":false,\"fCanvasColor\":0,\"fCanvasBorderSize\":2,\"fCanvasBorderMode\":0,\"fCanvasDefH\":500,\"fCanvasDefW\":700,\"fCanvasDefX\":10,\"fCanvasDefY\":10,\"fPadColor\":0,\"fPadBorderSize\":2,\"fPadBorderMode\":0,\"fPadBottomMargin\":0.1,\"fPadTopMargin\":0.1,\"fPadLeftMargin\":0.1,\"fPadRightMargin\":0.1,\"fPadGridX\":false,\"fPadGridY\":false,\"fPadTickX\":0,\"fPadTickY\":0,\"fPaperSizeX\":20,\"fPaperSizeY\":26,\"fScreenFactor\":1,\"fStatColor\":0,\"fStatTextColor\":1,\"fStatBorderSize\":1,\"fStatFont\":42,\"fStatFontSize\":0,\"fStatStyle\":1001,\"fStatFormat\":\"6.4g\",\"fStatX\":0.98,\"fStatY\":0.935,\"fStatW\":0.2,\"fStatH\":0.16,\"fStripDecimals\":true,\"fTitleAlign\":23,\"fTitleColor\":0,\"fTitleTextColor\":1,\"fTitleBorderSize\":0,\"fTitleFont\":42,\"fTitleFontSize\":0.05,\"fTitleStyle\":0,\"fTitleX\":0.5,\"fTitleY\":0.995,\"fTitleW\":0,\"fTitleH\":0,\"fLegoInnerR\":0.5,\"fLineStyles\":[\"\",\"  \",\" 12 12\",\" 4 8\",\" 12 16 4 16\",\" 20 12 4 12\",\" 20 12 4 12 4 12 4 12\",\" 20 20\",\" 20 12 4 12 4 12\",\" 80 20\",\" 80 40 4 40\",\"  \",\"  \",\"  \",\"  \",\"  \",\"  \",\"  \",\"  \",\"  \",\"  \",\"  \",\"  \",\"  \",\"  \",\"  \",\"  \",\"  \",\"  \",\"  \"],\"fHeaderPS\":\"\",\"fTitlePS\":\"\",\"fFitFormat\":\"5.4g\",\"fPaintTextFormat\":\"g\",\"fLineScalePS\":3,\"fJoinLinePS\":0,\"fCapLinePS\":0,\"fTimeOffset\":788918400,\"fImageScaling\":1,\"fCandleWhiskerRange\":1,\"fCandleBoxRange\":0.5,\"fCandleScaled\":false,\"fViolinScaled\":true,\"fXAxisExpXOffset\":0,\"fXAxisExpYOffset\":0,\"fYAxisExpXOffset\":0,\"fYAxisExpYOffset\":0,\"fAxisMaxDigits\":5,\"fOrthoCamera\":false}},{\"_typename\":\"TPadWebSnapshot\",\"fUniqueID\":0,\"fBits\":0,\"fObjectID\":\"\",\"fOption\":\"\",\"fKind\":3,\"fSnapshot\":{\"_typename\":\"TPad\",\"fUniqueID\":0,\"fBits\":9,\"fLineColor\":1,\"fLineStyle\":1,\"fLineWidth\":1,\"fFillColor\":0,\"fFillStyle\":1001,\"fLeftMargin\":0.1,\"fRightMargin\":0.1,\"fBottomMargin\":0,\"fTopMargin\":0.1,\"fXfile\":2,\"fYfile\":2,\"fAfile\":1,\"fXstat\":0.99,\"fYstat\":0.99,\"fAstat\":2,\"fFrameFillColor\":0,\"fFrameLineColor\":1,\"fFrameFillStyle\":1001,\"fFrameLineStyle\":1,\"fFrameLineWidth\":1,\"fFrameBorderSize\":1,\"fFrameBorderMode\":0,\"fX1\":98.1249994877726,\"fY1\":2504.74806207533,\"fX2\":166.875000512227,\"fY2\":14825.9833702319,\"fXtoAbsPixelk\":-1278.8363379045,\"fXtoPixelk\":-1278.8363379045,\"fXtoPixel\":13.0327270785245,\"fYtoAbsPixelk\":481.796150545964,\"fYtoPixelk\":481.796150545964,\"fYtoPixel\":-0.0324967415998409,\"fUtoAbsPixelk\":0,\"fUtoPixelk\":0,\"fUtoPixel\":896,\"fVtoAbsPixelk\":400.4,\"fVtoPixelk\":400.4,\"fVtoPixel\":-400.4,\"fAbsPixeltoXk\":98.1249994877726,\"fPixeltoXk\":98.1249994877726,\"fPixeltoX\":0.0767299118576505,\"fAbsPixeltoYk\":14825.9833702319,\"fPixeltoYk\":2504.74806207533,\"fPixeltoY\":-30.772315954437,\"fXlowNDC\":0,\"fYlowNDC\":0.3,\"fXUpNDC\":1,\"fYUpNDC\":1,\"fWNDC\":1,\"fHNDC\":0.7,\"fAbsXlowNDC\":0,\"fAbsYlowNDC\":0.3,\"fAbsWNDC\":1,\"fAbsHNDC\":0.7,\"fUxmin\":105,\"fUymin\":2504.74806207533,\"fUxmax\":160,\"fUymax\":13593.8597935161,\"fTheta\":30,\"fPhi\":30,\"fAspectRatio\":0,\"fNumber\":0,\"fTickx\":0,\"fTicky\":0,\"fLogx\":0,\"fLogy\":0,\"fLogz\":0,\"fPadPaint\":0,\"fCrosshair\":0,\"fCrosshairPos\":0,\"fBorderSize\":2,\"fBorderMode\":0,\"fModified\":false,\"fGridx\":false,\"fGridy\":false,\"fAbsCoord\":false,\"fEditable\":true,\"fFixedAspectRatio\":false,\"fPrimitives\":{\"_typename\":\"TList\",\"name\":\"TList\",\"arr\":[],\"opt\":[]},\"fExecs\":{\"_typename\":\"TList\",\"name\":\"TList\",\"arr\":[],\"opt\":[]},\"fName\":\"mainPad\",\"fTitle\":\"mainPad\",\"fNumPaletteColor\":0,\"fNextPaletteColor\":0},\"fActive\":false,\"fReadOnly\":true,\"fWithoutPrimitives\":false,\"fHasExecs\":true,\"fPrimitives\":[{\"_typename\":\"TWebSnapshot\",\"fUniqueID\":0,\"fBits\":0,\"fObjectID\":\"\",\"fOption\":\"\",\"fKind\":1,\"fSnapshot\":{\"_typename\":\"TFrame\",\"fUniqueID\":0,\"fBits\":8,\"fLineColor\":1,\"fLineStyle\":1,\"fLineWidth\":1,\"fFillColor\":0,\"fFillStyle\":1001,\"fX1\":105,\"fY1\":2504.74806207533,\"fX2\":160,\"fY2\":13593.8597935161,\"fBorderSize\":1,\"fBorderMode\":0}},{\"_typename\":\"TWebSnapshot\",\"fUniqueID\":0,\"fBits\":0,\"fObjectID\":\"\",\"fOption\":\"E1\",\"fKind\":1,\"fSnapshot\":{\"_typename\":\"TH1F\",\"fUniqueID\":0,\"fBits\":520,\"fName\":\"h_M_Hyy\",\"fTitle\":\"Diphoton invariant-mass \",\"fLineColor\":1,\"fLineStyle\":1,\"fLineWidth\":1,\"fFillColor\":590,\"fFillStyle\":1001,\"fMarkerColor\":1,\"fMarkerStyle\":20,\"fMarkerSize\":0.8,\"fNcells\":32,\"fXaxis\":{\"_typename\":\"TAxis\",\"fUniqueID\":0,\"fBits\":0,\"fName\":\"xaxis\",\"fTitle\":\" M_{#gamma#gamma} [GeV] \",\"fNdivisions\":510,\"fAxisColor\":1,\"fLabelColor\":1,\"fLabelFont\":42,\"fLabelOffset\":0.005,\"fLabelSize\":0.035,\"fTickLength\":0.03,\"fTitleOffset\":1,\"fTitleSize\":0.035,\"fTitleColor\":1,\"fTitleFont\":42,\"fNbins\":30,\"fXmin\":105,\"fXmax\":160,\"fXbins\":[],\"fFirst\":0,\"fLast\":0,\"fBits2\":0,\"fTimeDisplay\":false,\"fTimeFormat\":\"\",\"fLabels\":null,\"fModLabs\":null},\"fYaxis\":{\"_typename\":\"TAxis\",\"fUniqueID\":0,\"fBits\":0,\"fName\":\"yaxis\",\"fTitle\":\" Events \\/ bin\",\"fNdivisions\":510,\"fAxisColor\":1,\"fLabelColor\":1,\"fLabelFont\":42,\"fLabelOffset\":0.005,\"fLabelSize\":0.035,\"fTickLength\":0.03,\"fTitleOffset\":0,\"fTitleSize\":0.035,\"fTitleColor\":1,\"fTitleFont\":42,\"fNbins\":1,\"fXmin\":0,\"fXmax\":1,\"fXbins\":[],\"fFirst\":0,\"fLast\":0,\"fBits2\":0,\"fTimeDisplay\":false,\"fTimeFormat\":\"\",\"fLabels\":null,\"fModLabs\":null},\"fZaxis\":{\"_typename\":\"TAxis\",\"fUniqueID\":0,\"fBits\":0,\"fName\":\"zaxis\",\"fTitle\":\"\",\"fNdivisions\":510,\"fAxisColor\":1,\"fLabelColor\":1,\"fLabelFont\":42,\"fLabelOffset\":0.005,\"fLabelSize\":0.035,\"fTickLength\":0.03,\"fTitleOffset\":1,\"fTitleSize\":0.035,\"fTitleColor\":1,\"fTitleFont\":42,\"fNbins\":1,\"fXmin\":0,\"fXmax\":1,\"fXbins\":[],\"fFirst\":0,\"fLast\":0,\"fBits2\":0,\"fTimeDisplay\":false,\"fTimeFormat\":\"\",\"fLabels\":null,\"fModLabs\":null},\"fBarOffset\":0,\"fBarWidth\":1000,\"fEntries\":550057,\"fTsumw\":212877,\"fTsumw2\":212877,\"fTsumwx\":26781484.955864,\"fTsumwx2\":3416403513.791,\"fMaximum\":-1111,\"fMinimum\":-1111,\"fNormFactor\":0,\"fContour\":[],\"fSumw2\":[],\"fOption\":\"\",\"fFunctions\":{\"_typename\":\"TList\",\"name\":\"TList\",\"arr\":[{\"_typename\":\"TF1\",\"fUniqueID\":0,\"fBits\":1024,\"fName\":\"sigPlusBkg\",\"fTitle\":\"gaus(0) + pol4(3)\",\"fLineColor\":632,\"fLineStyle\":1,\"fLineWidth\":2,\"fFillColor\":19,\"fFillStyle\":0,\"fMarkerColor\":1,\"fMarkerStyle\":1,\"fMarkerSize\":1,\"fXmin\":105,\"fXmax\":160,\"fNpar\":8,\"fNdim\":1,\"fNpx\":100,\"fType\":0,\"fNpfits\":30,\"fNDF\":22,\"fChisquare\":43.9550219368588,\"fMinimum\":-1111,\"fMaximum\":-1111,\"fParErrors\":{\"$arr\":\"Float64\",\"len\":8,\"v\":[187.448366573123,3.75696523191378,4.76836465968787,138.561244543403,1.04154187302967,0.00708911159691741,4.49853849535022e-5,2.55710041373196e-7]},\"fParMin\":{\"$arr\":\"Float64\",\"len\":8},\"fParMax\":{\"$arr\":\"Float64\",\"len\":8},\"fSave\":{\"$arr\":\"Float64\",\"len\":103,\"v\":[13148.2871577004,12999.2800922368,12850.814248812,12702.90118327,12555.5525111843,12408.7799078576,12262.5951083219,12117.0099073383,11972.036159397,11827.685778717,11683.9707392465,11540.9030746621,11398.4948783695,11256.7583035028,11115.7055629247,10975.3489292263,10835.7007347271,10696.773371475,10558.5792912459,10421.131005544,10284.4410856015,10148.5221623784,10013.3869265626,9879.04812857,9745.51857854392,9612.81114635542,9480.93876160307,9349.91441361285,9219.75115143809,9090.46208385943,8962.06037938467,8834.55926624872,8707.97203241347,8582.3120255678,8457.5926531274,8333.82738223473,8211.02973975893,8089.21331229575,7968.39174616745,7848.57874742268,7729.78808183651,7612.0335749102,7495.32911187123,7379.68863767316,7265.12615699556,7151.65573424393,7039.29149354962,6928.04761876976,6817.93835348712,6708.97800101008,6601.18092437255,6494.56154633384,6389.13434937863,6284.91387571687,6181.91472728367,6080.15156573925,5979.63911246883,5880.39214858262,5782.42551491561,5685.75411202758,5590.39290020305,5496.35689945108,5403.66118950527,5312.32090982369,5222.35125958872,5133.76749770706,5046.5849428096,4960.81897325131,4876.48502711124,4793.59860219235,4712.1752560215,4632.2306058493,4553.78032865013,4476.84016112193,4401.42589968621,4327.55340048794,4255.2385793955,4184.49741200051,4115.34593361789,4047.80023928562,3981.87648376479,3917.59088153944,3854.95970681654,3793.99929352587,3734.7260353199,3677.15638557379,3621.30685738532,3567.1940235747,3514.83451668458,3464.24502897994,3415.44231244804,3368.44317879829,3323.2644994622,3279.92320559334,3238.43628806714,3198.82079748094,3161.09384415385,3125.27259812669,3091.37428916189,3059.41620674341,3029.41570007668,105,160]},\"fNormalized\":false,\"fNormIntegral\":0,\"fFormula\":{\"_typename\":\"TFormula\",\"fUniqueID\":0,\"fBits\":1024,\"fName\":\"sigPlusBkg\",\"fTitle\":\"gaus(0) + pol4(3)\",\"fClingParameters\":{\"$arr\":\"Float64\",\"len\":8,\"v\":[43117.0560338546,-401.897619216234,673.054508116361,5231.93470228622,-169.305877680347,-0.91773048380875,3.06970127754867e-5,2.71979369162913e-5]},\"fAllParametersSetted\":true,\"fParams\":[{\"$pair\":\"pair<TString,int,TFormulaParamOrder>\",\"first\":\"p0\",\"second\":0},{\"$pair\":\"pair<TString,int,TFormulaParamOrder>\",\"first\":\"p1\",\"second\":1},{\"$pair\":\"pair<TString,int,TFormulaParamOrder>\",\"first\":\"p2\",\"second\":2},{\"$pair\":\"pair<TString,int,TFormulaParamOrder>\",\"first\":\"p3\",\"second\":3},{\"$pair\":\"pair<TString,int,TFormulaParamOrder>\",\"first\":\"p4\",\"second\":4},{\"$pair\":\"pair<TString,int,TFormulaParamOrder>\",\"first\":\"p5\",\"second\":5},{\"$pair\":\"pair<TString,int,TFormulaParamOrder>\",\"first\":\"p6\",\"second\":6},{\"$pair\":\"pair<TString,int,TFormulaParamOrder>\",\"first\":\"p7\",\"second\":7}],\"fFormula\":\"[p0]*exp(-0.5*((x-[p1])\\/[p2])*((x-[p1])\\/[p2]))+([p3]+[p4]*x+[p5]*TMath::Sq(x)+[p6]*pow(x,3)+[p7]*pow(x,4))\",\"fNdim\":1,\"fNumber\":0,\"fLinearParts\":[],\"fVectorized\":false},\"fParams\":null,\"fComposition\":null},{\"_typename\":\"TF1\",\"fUniqueID\":0,\"fBits\":1024,\"fName\":\"bkgOnly\",\"fTitle\":\"pol4\",\"fLineColor\":632,\"fLineStyle\":2,\"fLineWidth\":2,\"fFillColor\":19,\"fFillStyle\":0,\"fMarkerColor\":1,\"fMarkerStyle\":1,\"fMarkerSize\":1,\"fXmin\":105,\"fXmax\":160,\"fNpar\":5,\"fNdim\":1,\"fNpx\":100,\"fType\":0,\"fNpfits\":30,\"fNDF\":25,\"fChisquare\":41.9977964667123,\"fMinimum\":-1111,\"fMaximum\":-1111,\"fParErrors\":[105867.844728524,3216.2222635676,36.4356173287254,0.182451668646512,3.4079307247485e-4],\"fParMin\":[0,0,0,0,0],\"fParMax\":[0,0,0,0,0],\"fSave\":{\"$arr\":\"Float64\",\"len\":103,\"v\":[13058.0472891781,12923.9298066213,12789.1427119312,12653.751070032,12517.8189597189,12381.4094736577,12244.5847183851,12107.405814309,11969.9328957075,11832.2251107299,11694.3406213968,11556.3366035987,11418.2692470975,11280.1937555264,11142.1643463884,11004.2342510581,10866.4557147807,10728.8799966723,10591.5573697198,10454.5371207811,10317.8675505846,10181.59597373,10045.7687186877,9910.4311277985,9775.62755727484,9641.40137719925,9507.79497152564,9374.84973807854,9242.60608855332,9111.10344851633,8980.38025740454,8850.47396852609,8721.4210490597,8593.25698005504,8466.01625643251,8339.73238698363,8214.43789437031,8090.16431512607,7966.94219965427,7844.80111222998,7723.76963099859,7603.87534797691,7485.14486905199,7367.60381398168,7251.27681639555,7136.18752379273,7022.35859754459,6909.81171289209,6798.56755894821,6688.64583869555,6580.06526898858,6472.84358055185,6366.99751798151,6262.54283974413,6159.49431817702,6057.86573948839,5957.6699037576,5858.91862493445,5761.6227308402,5665.79206316595,5571.43547747497,5478.5608431999,5387.17504364575,5297.28397598697,5208.89255126967,5122.00469441092,5036.62334419822,4952.75045328963,4870.38698821483,4789.53292937428,4710.18727103865,4632.34802134975,4556.01220232082,4481.17584983457,4407.83401364606,4335.98075738052,4265.60915853415,4196.71130847323,4129.27831243642,4063.30028953205,3998.76637273925,3935.66470890908,3873.98245876218,3813.70579689095,3754.81991175807,3697.30900569723,3641.15629491312,3586.34400948169,3532.85339334834,3480.66470433061,3429.7572141166,3380.10920826526,3331.69798620592,3284.49986123905,3238.49016053637,3193.64322513982,3149.93240996287,3107.33008378901,3065.80762927321,3025.33544294123,2985.88293518929,105,160]},\"fNormalized\":false,\"fNormIntegral\":0,\"fFormula\":{\"_typename\":\"TFormula\",\"fUniqueID\":0,\"fBits\":66560,\"fName\":\"bkgOnly\",\"fTitle\":\"pol4\",\"fClingParameters\":[-106558.015850711,4296.14577449261,-51.9170713323869,0.255251828581116,-4.49026319720554e-4],\"fAllParametersSetted\":true,\"fParams\":[{\"$pair\":\"pair<TString,int,TFormulaParamOrder>\",\"first\":\"p0\",\"second\":0},{\"$pair\":\"pair<TString,int,TFormulaParamOrder>\",\"first\":\"p1\",\"second\":1},{\"$pair\":\"pair<TString,int,TFormulaParamOrder>\",\"first\":\"p2\",\"second\":2},{\"$pair\":\"pair<TString,int,TFormulaParamOrder>\",\"first\":\"p3\",\"second\":3},{\"$pair\":\"pair<TString,int,TFormulaParamOrder>\",\"first\":\"p4\",\"second\":4}],\"fFormula\":\"([p0]+[p1]*x+[p2]*TMath::Sq(x)+[p3]*pow(x,3)+[p4]*pow(x,4))\",\"fNdim\":1,\"fNumber\":304,\"fLinearParts\":[],\"fVectorized\":false},\"fParams\":null,\"fComposition\":null}],\"opt\":[\"\",\"\"]},\"fBufferSize\":0,\"fBuffer\":[],\"fBinStatErrOpt\":0,\"fStatOverflows\":2,\"fArray\":{\"$arr\":\"Float32\",\"len\":32,\"v\":[259869,12952,12372,11894,11350,11094,10386,10071,9509,9131,8839,8692,8151,7451,7176,6598,6352,6088,5624,5350,5175,4832,4536,4440,4111,3881,3745,3508,3350,3156,3063,77311]}}},{\"_typename\":\"TWebSnapshot\",\"fUniqueID\":0,\"fBits\":0,\"fObjectID\":\"\",\"fOption\":\"same;prefer_saved\",\"fKind\":1,\"fSnapshot\":{\"_typename\":\"TF1\",\"fUniqueID\":0,\"fBits\":8,\"fName\":\"sigPlusBkg\",\"fTitle\":\"gaus(0) + pol4(3)\",\"fLineColor\":632,\"fLineStyle\":1,\"fLineWidth\":2,\"fFillColor\":19,\"fFillStyle\":0,\"fMarkerColor\":1,\"fMarkerStyle\":1,\"fMarkerSize\":1,\"fXmin\":105,\"fXmax\":160,\"fNpar\":8,\"fNdim\":1,\"fNpx\":100,\"fType\":0,\"fNpfits\":30,\"fNDF\":22,\"fChisquare\":43.9550219368588,\"fMinimum\":-1111,\"fMaximum\":-1111,\"fParErrors\":{\"$arr\":\"Float64\",\"len\":8,\"v\":[187.448366573123,3.75696523191378,4.76836465968787,138.561244543403,1.04154187302967,0.00708911159691741,4.49853849535022e-5,2.55710041373196e-7]},\"fParMin\":{\"$arr\":\"Float64\",\"len\":8},\"fParMax\":{\"$arr\":\"Float64\",\"len\":8},\"fSave\":{\"$arr\":\"Float64\",\"len\":102,\"v\":[13073.7166921208,12924.9787969292,12776.7878942322,12629.1555697386,12482.0934688865,12335.6132968432,12189.7268185054,12044.4458584986,11899.7823011775,11755.7480906257,11612.3552306556,11469.6157848084,11327.5418763539,11186.1456882906,11045.4394633454,10905.4355039737,10766.146172359,10627.5838904134,10489.761139777,10352.6904618177,10216.3844576319,10080.8557880435,9946.11717360433,9812.18139459407,9679.06129101993,9546.76976261671,9415.31976884671,9284.7243288996,9154.99652169236,9026.14948586923,8898.19641980157,8771.1505815878,8645.02528905331,8519.83391975038,8395.58991095812,8272.30675968232,8149.99802265547,8028.67731633654,7908.35831691101,7789.05476029077,7670.78044211398,7553.54921774503,7437.37500227443,7322.27177051877,7208.2535570206,7095.33445604837,6983.52862159628,6872.85026738433,6763.3136668581,6654.93315318872,6547.72311927286,6441.69801773249,6336.87236091494,6233.26072089274,6130.87772946358,6029.7380781502,5929.85651820031,5831.24786058651,5733.92697600623,5637.9087948816,5543.20830735944,5449.84056331106,5357.82067233234,5267.16380374349,5177.88518658907,5090.0001096379,5003.5239213829,4918.47203004109,4834.85990355349,4752.70306958503,4672.01711552445,4592.81768848423,4515.12049530058,4438.94130253321,4364.29593646538,4291.20028310378,4219.6702881784,4149.72195714254,4081.37135517265,4014.63460716827,3949.527897752,3886.06747126933,3824.26963178864,3764.15074310108,3705.7272287205,3649.01557188333,3594.03231554859,3540.79406239776,3489.31747483461,3439.61927498529,3391.71624469816,3345.62522554368,3301.36311881438,3258.94688552478,3218.39354641131,3179.72018193218,3142.94393226735,3108.08199731848,3075.15163670874,3044.17016978287,105.275,159.725]},\"fNormalized\":false,\"fNormIntegral\":0,\"fFormula\":{\"_typename\":\"TFormula\",\"fUniqueID\":0,\"fBits\":1024,\"fName\":\"sigPlusBkg\",\"fTitle\":\"gaus(0) + pol4(3)\",\"fClingParameters\":{\"$arr\":\"Float64\",\"len\":8,\"v\":[43117.0560338546,-401.897619216234,673.054508116361,5231.93470228622,-169.305877680347,-0.91773048380875,3.06970127754867e-5,2.71979369162913e-5]},\"fAllParametersSetted\":true,\"fParams\":[{\"$pair\":\"pair<TString,int,TFormulaParamOrder>\",\"first\":\"p0\",\"second\":0},{\"$pair\":\"pair<TString,int,TFormulaParamOrder>\",\"first\":\"p1\",\"second\":1},{\"$pair\":\"pair<TString,int,TFormulaParamOrder>\",\"first\":\"p2\",\"second\":2},{\"$pair\":\"pair<TString,int,TFormulaParamOrder>\",\"first\":\"p3\",\"second\":3},{\"$pair\":\"pair<TString,int,TFormulaParamOrder>\",\"first\":\"p4\",\"second\":4},{\"$pair\":\"pair<TString,int,TFormulaParamOrder>\",\"first\":\"p5\",\"second\":5},{\"$pair\":\"pair<TString,int,TFormulaParamOrder>\",\"first\":\"p6\",\"second\":6},{\"$pair\":\"pair<TString,int,TFormulaParamOrder>\",\"first\":\"p7\",\"second\":7}],\"fFormula\":\"[p0]*exp(-0.5*((x-[p1])\\/[p2])*((x-[p1])\\/[p2]))+([p3]+[p4]*x+[p5]*TMath::Sq(x)+[p6]*pow(x,3)+[p7]*pow(x,4))\",\"fNdim\":1,\"fNumber\":0,\"fLinearParts\":[],\"fVectorized\":false},\"fParams\":null,\"fComposition\":null}},{\"_typename\":\"TWebSnapshot\",\"fUniqueID\":0,\"fBits\":0,\"fObjectID\":\"\",\"fOption\":\"same;prefer_saved\",\"fKind\":1,\"fSnapshot\":{\"_typename\":\"TF1\",\"fUniqueID\":0,\"fBits\":8,\"fName\":\"bkgOnly\",\"fTitle\":\"pol4\",\"fLineColor\":632,\"fLineStyle\":2,\"fLineWidth\":2,\"fFillColor\":19,\"fFillStyle\":0,\"fMarkerColor\":1,\"fMarkerStyle\":1,\"fMarkerSize\":1,\"fXmin\":105,\"fXmax\":160,\"fNpar\":5,\"fNdim\":1,\"fNpx\":100,\"fType\":0,\"fNpfits\":30,\"fNDF\":25,\"fChisquare\":41.9977964667123,\"fMinimum\":-1111,\"fMaximum\":-1111,\"fParErrors\":[105867.844728524,3216.2222635676,36.4356173287254,0.182451668646512,3.4079307247485e-4],\"fParMin\":[0,0,0,0,0],\"fParMax\":[0,0,0,0,0],\"fSave\":{\"$arr\":\"Float64\",\"len\":102,\"v\":[12991.0763544948,12856.6158711227,12721.5184313457,12585.8486070233,12449.6699838859,12313.0451615349,12176.0357534426,12038.702386952,11901.104703277,11763.3013575022,11625.3500185832,11487.3073693465,11349.2291064894,11211.16994058,11073.1835960571,10935.3228112306,10797.6393382813,10660.1839432604,10523.0064060908,10386.1555205653,10249.6790943478,10113.6239489736,9978.03591984823,9842.9598562483,9708.43962132157,9574.5180920858,9441.23715943037,9308.63772811535,9176.75971677166,9045.64205790071,8915.32269787519,8785.83859693831,8657.22572920471,8529.5190826591,8402.75265915754,8276.95947442677,8152.17155806432,8028.41995353895,7905.7347181896,7784.14492322672,7663.67865373121,7544.36300865501,7426.22410082079,7309.28705692201,7193.57601752314,7079.11413705941,6965.92358383679,6854.0255400328,6743.44020169464,6634.18677874107,6526.28349496171,6419.74758801694,6314.59530943775,6210.84192462638,6108.50171285539,6007.58796726892,5908.11299488158,5810.08811657815,5713.5236671154,5618.42899512066,5524.81246309157,5432.68144739699,5342.04233827666,5252.90053984098,5165.26047007134,5079.12556082016,4994.49825781037,4911.38002063561,4829.77132276096,4749.6716515219,4671.07950812517,4593.99240764754,4518.40687903785,4444.31846511425,4371.72172256734,4300.61022195715,4230.97654771557,4162.81229814517,4096.10808541902,4030.85353558103,3967.03728854639,3904.64699810077,3843.66933190075,3784.08997147402,3725.89361221841,3669.06396340358,3613.58374816959,3559.4347035267,3506.59758035705,3455.0521434136,3404.77717131874,3355.75045656782,3307.94880552514,3261.34803842712,3215.92298938037,3171.6475063627,3128.49445122224,3086.43569967867,3045.44214132224,3005.48367961362,105.275,159.725]},\"fNormalized\":false,\"fNormIntegral\":0,\"fFormula\":{\"_typename\":\"TFormula\",\"fUniqueID\":0,\"fBits\":66560,\"fName\":\"bkgOnly\",\"fTitle\":\"pol4\",\"fClingParameters\":[-106558.015850711,4296.14577449261,-51.9170713323869,0.255251828581116,-4.49026319720554e-4],\"fAllParametersSetted\":true,\"fParams\":[{\"$pair\":\"pair<TString,int,TFormulaParamOrder>\",\"first\":\"p0\",\"second\":0},{\"$pair\":\"pair<TString,int,TFormulaParamOrder>\",\"first\":\"p1\",\"second\":1},{\"$pair\":\"pair<TString,int,TFormulaParamOrder>\",\"first\":\"p2\",\"second\":2},{\"$pair\":\"pair<TString,int,TFormulaParamOrder>\",\"first\":\"p3\",\"second\":3},{\"$pair\":\"pair<TString,int,TFormulaParamOrder>\",\"first\":\"p4\",\"second\":4}],\"fFormula\":\"([p0]+[p1]*x+[p2]*TMath::Sq(x)+[p3]*pow(x,3)+[p4]*pow(x,4))\",\"fNdim\":1,\"fNumber\":304,\"fLinearParts\":[],\"fVectorized\":false},\"fParams\":null,\"fComposition\":null}},{\"_typename\":\"TWebSnapshot\",\"fUniqueID\":0,\"fBits\":0,\"fObjectID\":\"\",\"fOption\":\"\",\"fKind\":1,\"fSnapshot\":{\"_typename\":\"TLegend\",\"fUniqueID\":0,\"fBits\":8,\"fLineColor\":1,\"fLineStyle\":1,\"fLineWidth\":1,\"fFillColor\":0,\"fFillStyle\":1001,\"fX1\":135.937500051223,\"fY1\":10513.5510123771,\"fX2\":160.000000409782,\"fY2\":12977.7980740084,\"fX1NDC\":0.55,\"fY1NDC\":0.65,\"fX2NDC\":0.9,\"fY2NDC\":0.85,\"fBorderSize\":1,\"fInit\":1,\"fShadowColor\":1,\"fCornerRadius\":0,\"fOption\":\"brNDC\",\"fName\":\"TPave\",\"fTextAngle\":0,\"fTextSize\":0,\"fTextAlign\":12,\"fTextColor\":1,\"fTextFont\":42,\"fPrimitives\":{\"_typename\":\"TList\",\"name\":\"TList\",\"arr\":[{\"_typename\":\"TLegendEntry\",\"fUniqueID\":0,\"fBits\":0,\"fTextAngle\":0,\"fTextSize\":0,\"fTextAlign\":0,\"fTextColor\":0,\"fTextFont\":42,\"fLineColor\":1,\"fLineStyle\":1,\"fLineWidth\":1,\"fFillColor\":0,\"fFillStyle\":0,\"fMarkerColor\":1,\"fMarkerStyle\":20,\"fMarkerSize\":0.8,\"fObject\":{\"$ref\":19},\"fLabel\":\"Data\",\"fOption\":\"lep\"},{\"_typename\":\"TLegendEntry\",\"fUniqueID\":0,\"fBits\":0,\"fTextAngle\":0,\"fTextSize\":0,\"fTextAlign\":0,\"fTextColor\":0,\"fTextFont\":42,\"fLineColor\":632,\"fLineStyle\":1,\"fLineWidth\":2,\"fFillColor\":0,\"fFillStyle\":0,\"fMarkerColor\":1,\"fMarkerStyle\":21,\"fMarkerSize\":1,\"fObject\":{\"$ref\":29},\"fLabel\":\"Sig+Bkg Fit (m_H = 125 GeV)\",\"fOption\":\"l\"},{\"_typename\":\"TLegendEntry\",\"fUniqueID\":0,\"fBits\":0,\"fTextAngle\":0,\"fTextSize\":0,\"fTextAlign\":0,\"fTextColor\":0,\"fTextFont\":42,\"fLineColor\":632,\"fLineStyle\":2,\"fLineWidth\":2,\"fFillColor\":0,\"fFillStyle\":0,\"fMarkerColor\":1,\"fMarkerStyle\":21,\"fMarkerSize\":1,\"fObject\":{\"$ref\":32},\"fLabel\":\"Bkg (4th order polynomial)\",\"fOption\":\"l\"}],\"opt\":[\"lep\",\"l\",\"l\"]},\"fEntrySeparation\":0.1,\"fMargin\":0.25,\"fNColumns\":1,\"fColumnSeparation\":0}},{\"_typename\":\"TWebSnapshot\",\"fUniqueID\":0,\"fBits\":0,\"fObjectID\":\"\",\"fOption\":\"\",\"fKind\":1,\"fSnapshot\":{\"_typename\":\"TLatex\",\"fUniqueID\":0,\"fBits\":16393,\"fName\":\"\",\"fTitle\":\"ATLAS Open Data\",\"fTextAngle\":0,\"fTextSize\":0.04,\"fTextAlign\":11,\"fTextColor\":1,\"fTextFont\":62,\"fX\":0.2,\"fY\":0.85,\"fLineColor\":1,\"fLineStyle\":1,\"fLineWidth\":2,\"fLimitFactorSize\":3,\"fOriginSize\":0.04}},{\"_typename\":\"TWebSnapshot\",\"fUniqueID\":0,\"fBits\":0,\"fObjectID\":\"\",\"fOption\":\"\",\"fKind\":1,\"fSnapshot\":{\"_typename\":\"TLatex\",\"fUniqueID\":0,\"fBits\":16393,\"fName\":\"\",\"fTitle\":\"#sqrt{s}=13 TeV, #intLdt = 36 fb^{-1}\",\"fTextAngle\":0,\"fTextSize\":0.04,\"fTextAlign\":11,\"fTextColor\":1,\"fTextFont\":62,\"fX\":0.2,\"fY\":0.8,\"fLineColor\":1,\"fLineStyle\":1,\"fLineWidth\":2,\"fLimitFactorSize\":3,\"fOriginSize\":0.04}},{\"_typename\":\"TWebSnapshot\",\"fUniqueID\":0,\"fBits\":0,\"fObjectID\":\"\",\"fOption\":\"\",\"fKind\":1,\"fSnapshot\":{\"_typename\":\"TLatex\",\"fUniqueID\":0,\"fBits\":16393,\"fName\":\"\",\"fTitle\":\"H #rightarrow #gamma#gamma\",\"fTextAngle\":0,\"fTextSize\":0.04,\"fTextAlign\":11,\"fTextColor\":1,\"fTextFont\":62,\"fX\":0.2,\"fY\":0.75,\"fLineColor\":1,\"fLineStyle\":1,\"fLineWidth\":2,\"fLimitFactorSize\":3,\"fOriginSize\":0.04}},{\"_typename\":\"TWebSnapshot\",\"fUniqueID\":0,\"fBits\":0,\"fObjectID\":\"\",\"fOption\":\"blNDC\",\"fKind\":1,\"fSnapshot\":{\"_typename\":\"TPaveText\",\"fUniqueID\":0,\"fBits\":9,\"fLineColor\":1,\"fLineStyle\":1,\"fLineWidth\":1,\"fFillColor\":0,\"fFillStyle\":0,\"fX1\":122.18289605162,\"fY1\":13988.9148903915,\"fX2\":142.81710394838,\"fY2\":14764.3772524434,\"fX1NDC\":0.349933035714286,\"fY1NDC\":0.932062941831309,\"fX2NDC\":0.650066964285714,\"fY2NDC\":0.995000004768372,\"fBorderSize\":0,\"fInit\":1,\"fShadowColor\":1,\"fCornerRadius\":0,\"fOption\":\"blNDC\",\"fName\":\"title\",\"fTextAngle\":0,\"fTextSize\":0,\"fTextAlign\":22,\"fTextColor\":1,\"fTextFont\":42,\"fLabel\":\"\",\"fLongest\":24,\"fMargin\":0.05,\"fLines\":{\"_typename\":\"TList\",\"name\":\"TList\",\"arr\":[{\"_typename\":\"TLatex\",\"fUniqueID\":0,\"fBits\":0,\"fName\":\"\",\"fTitle\":\"Diphoton invariant-mass \",\"fTextAngle\":0,\"fTextSize\":0,\"fTextAlign\":0,\"fTextColor\":0,\"fTextFont\":0,\"fX\":0,\"fY\":0,\"fLineColor\":1,\"fLineStyle\":1,\"fLineWidth\":2,\"fLimitFactorSize\":3,\"fOriginSize\":0.0534965023398399}],\"opt\":[\"\"]}}}]},{\"_typename\":\"TPadWebSnapshot\",\"fUniqueID\":0,\"fBits\":0,\"fObjectID\":\"\",\"fOption\":\"\",\"fKind\":3,\"fSnapshot\":{\"_typename\":\"TPad\",\"fUniqueID\":0,\"fBits\":9,\"fLineColor\":1,\"fLineStyle\":1,\"fLineWidth\":1,\"fFillColor\":0,\"fFillStyle\":1001,\"fLeftMargin\":0.1,\"fRightMargin\":0.1,\"fBottomMargin\":0.3,\"fTopMargin\":0,\"fXfile\":2,\"fYfile\":2,\"fAfile\":1,\"fXstat\":0.99,\"fYstat\":0.99,\"fAstat\":2,\"fFrameFillColor\":0,\"fFrameLineColor\":1,\"fFrameFillStyle\":1001,\"fFrameLineStyle\":1,\"fFrameLineWidth\":1,\"fFrameBorderSize\":1,\"fFrameBorderMode\":0,\"fX1\":98.1249994877726,\"fY1\":-462.704589969071,\"fX2\":166.875000512227,\"fY2\":399.78609099712,\"fXtoAbsPixelk\":-1278.8363379045,\"fXtoPixelk\":-1278.8363379045,\"fXtoPixel\":13.0327270785245,\"fYtoAbsPixelk\":466.684091265247,\"fYtoPixelk\":66.2840912652472,\"fYtoPixel\":-0.16579889285274,\"fUtoAbsPixelk\":0,\"fUtoPixelk\":0,\"fUtoPixel\":896,\"fVtoAbsPixelk\":543.4,\"fVtoPixelk\":143,\"fVtoPixel\":-143,\"fAbsPixeltoXk\":98.1249994877726,\"fPixeltoXk\":98.1249994877726,\"fPixeltoX\":0.0767299118576505,\"fAbsPixeltoYk\":2814.75999770245,\"fPixeltoYk\":-462.704589969071,\"fPixeltoY\":-6.03140336339993,\"fXlowNDC\":0,\"fYlowNDC\":0.05,\"fXUpNDC\":1,\"fYUpNDC\":0.3,\"fWNDC\":1,\"fHNDC\":0.25,\"fAbsXlowNDC\":0,\"fAbsYlowNDC\":0.05,\"fAbsWNDC\":1,\"fAbsHNDC\":0.25,\"fUxmin\":105,\"fUymin\":-203.957375397523,\"fUxmax\":160,\"fUymax\":399.78609099712,\"fTheta\":30,\"fPhi\":30,\"fAspectRatio\":0,\"fNumber\":0,\"fTickx\":0,\"fTicky\":0,\"fLogx\":0,\"fLogy\":0,\"fLogz\":0,\"fPadPaint\":0,\"fCrosshair\":0,\"fCrosshairPos\":0,\"fBorderSize\":2,\"fBorderMode\":0,\"fModified\":false,\"fGridx\":false,\"fGridy\":false,\"fAbsCoord\":false,\"fEditable\":true,\"fFixedAspectRatio\":false,\"fPrimitives\":{\"_typename\":\"TList\",\"name\":\"TList\",\"arr\":[],\"opt\":[]},\"fExecs\":{\"_typename\":\"TList\",\"name\":\"TList\",\"arr\":[],\"opt\":[]},\"fName\":\"residPad\",\"fTitle\":\"residPad\",\"fNumPaletteColor\":0,\"fNextPaletteColor\":0},\"fActive\":false,\"fReadOnly\":true,\"fWithoutPrimitives\":false,\"fHasExecs\":true,\"fPrimitives\":[{\"_typename\":\"TWebSnapshot\",\"fUniqueID\":0,\"fBits\":0,\"fObjectID\":\"\",\"fOption\":\"\",\"fKind\":1,\"fSnapshot\":{\"_typename\":\"TFrame\",\"fUniqueID\":0,\"fBits\":8,\"fLineColor\":1,\"fLineStyle\":1,\"fLineWidth\":1,\"fFillColor\":0,\"fFillStyle\":1001,\"fX1\":105,\"fY1\":-203.957375397523,\"fX2\":160,\"fY2\":399.78609099712,\"fBorderSize\":1,\"fBorderMode\":0}},{\"_typename\":\"TWebSnapshot\",\"fUniqueID\":0,\"fBits\":0,\"fObjectID\":\"\",\"fOption\":\"E1\",\"fKind\":1,\"fSnapshot\":{\"_typename\":\"TH1F\",\"fUniqueID\":0,\"fBits\":8,\"fName\":\"residuals\",\"fTitle\":\"\",\"fLineColor\":1,\"fLineStyle\":1,\"fLineWidth\":1,\"fFillColor\":0,\"fFillStyle\":1001,\"fMarkerColor\":1,\"fMarkerStyle\":20,\"fMarkerSize\":0.8,\"fNcells\":32,\"fXaxis\":{\"_typename\":\"TAxis\",\"fUniqueID\":0,\"fBits\":0,\"fName\":\"xaxis\",\"fTitle\":\"di-photon invariant mass m_{#gamma#gamma} [GeV]\",\"fNdivisions\":510,\"fAxisColor\":1,\"fLabelColor\":1,\"fLabelFont\":42,\"fLabelOffset\":0.005,\"fLabelSize\":0.07,\"fTickLength\":0.03,\"fTitleOffset\":1,\"fTitleSize\":0.07,\"fTitleColor\":1,\"fTitleFont\":42,\"fNbins\":30,\"fXmin\":105,\"fXmax\":160,\"fXbins\":[],\"fFirst\":0,\"fLast\":0,\"fBits2\":0,\"fTimeDisplay\":false,\"fTimeFormat\":\"\",\"fLabels\":null,\"fModLabs\":null},\"fYaxis\":{\"_typename\":\"TAxis\",\"fUniqueID\":0,\"fBits\":0,\"fName\":\"yaxis\",\"fTitle\":\"Events - Bkg\",\"fNdivisions\":510,\"fAxisColor\":1,\"fLabelColor\":1,\"fLabelFont\":42,\"fLabelOffset\":0.005,\"fLabelSize\":0.07,\"fTickLength\":0.03,\"fTitleOffset\":0.5,\"fTitleSize\":0.07,\"fTitleColor\":1,\"fTitleFont\":42,\"fNbins\":1,\"fXmin\":0,\"fXmax\":1,\"fXbins\":[],\"fFirst\":0,\"fLast\":0,\"fBits2\":0,\"fTimeDisplay\":false,\"fTimeFormat\":\"\",\"fLabels\":null,\"fModLabs\":null},\"fZaxis\":{\"_typename\":\"TAxis\",\"fUniqueID\":0,\"fBits\":0,\"fName\":\"zaxis\",\"fTitle\":\"\",\"fNdivisions\":510,\"fAxisColor\":1,\"fLabelColor\":1,\"fLabelFont\":42,\"fLabelOffset\":0.005,\"fLabelSize\":0.035,\"fTickLength\":0.03,\"fTitleOffset\":1,\"fTitleSize\":0.035,\"fTitleColor\":1,\"fTitleFont\":42,\"fNbins\":1,\"fXmin\":0,\"fXmax\":1,\"fXbins\":[],\"fFirst\":0,\"fLast\":0,\"fBits2\":0,\"fTimeDisplay\":false,\"fTimeFormat\":\"\",\"fLabels\":null,\"fModLabs\":null},\"fBarOffset\":0,\"fBarWidth\":1000,\"fEntries\":30,\"fTsumw\":0,\"fTsumw2\":0,\"fTsumwx\":0,\"fTsumwx2\":0,\"fMaximum\":-1111,\"fMinimum\":-1111,\"fNormFactor\":0,\"fContour\":[],\"fSumw2\":[],\"fOption\":\"\",\"fFunctions\":{\"_typename\":\"TList\",\"name\":\"TList\",\"arr\":[{\"_typename\":\"TPaveStats\",\"fUniqueID\":0,\"fBits\":9,\"fLineColor\":1,\"fLineStyle\":1,\"fLineWidth\":1,\"fFillColor\":0,\"fFillStyle\":1001,\"fX1\":151.750001393259,\"fY1\":205.725692920572,\"fX2\":165.500001803041,\"fY2\":343.724198790656,\"fX1NDC\":0.780000016093254,\"fY1NDC\":0.775000005960464,\"fX2NDC\":0.980000019073486,\"fY2NDC\":0.935000002384186,\"fBorderSize\":1,\"fInit\":1,\"fShadowColor\":1,\"fCornerRadius\":0,\"fOption\":\"brNDC\",\"fName\":\"stats\",\"fTextAngle\":0,\"fTextSize\":0,\"fTextAlign\":12,\"fTextColor\":1,\"fTextFont\":42,\"fLabel\":\"\",\"fLongest\":18,\"fMargin\":0.05,\"fLines\":{\"_typename\":\"TList\",\"name\":\"TList\",\"arr\":[{\"_typename\":\"TLatex\",\"fUniqueID\":0,\"fBits\":0,\"fName\":\"\",\"fTitle\":\"residuals\",\"fTextAngle\":0,\"fTextSize\":0.0368,\"fTextAlign\":0,\"fTextColor\":0,\"fTextFont\":0,\"fX\":0,\"fY\":0,\"fLineColor\":1,\"fLineStyle\":1,\"fLineWidth\":2,\"fLimitFactorSize\":3,\"fOriginSize\":0.0368000008165836},{\"_typename\":\"TLatex\",\"fUniqueID\":0,\"fBits\":0,\"fName\":\"\",\"fTitle\":\"Entries = 30     \",\"fTextAngle\":0,\"fTextSize\":0,\"fTextAlign\":0,\"fTextColor\":0,\"fTextFont\":0,\"fX\":0,\"fY\":0,\"fLineColor\":1,\"fLineStyle\":1,\"fLineWidth\":2,\"fLimitFactorSize\":3,\"fOriginSize\":0.04},{\"_typename\":\"TLatex\",\"fUniqueID\":0,\"fBits\":0,\"fName\":\"\",\"fTitle\":\"Mean  =  127.8\",\"fTextAngle\":0,\"fTextSize\":0,\"fTextAlign\":0,\"fTextColor\":0,\"fTextFont\":0,\"fX\":0,\"fY\":0,\"fLineColor\":1,\"fLineStyle\":1,\"fLineWidth\":2,\"fLimitFactorSize\":3,\"fOriginSize\":0.04},{\"_typename\":\"TLatex\",\"fUniqueID\":0,\"fBits\":0,\"fName\":\"\",\"fTitle\":\"Std Dev   =  8.013\",\"fTextAngle\":0,\"fTextSize\":0,\"fTextAlign\":0,\"fTextColor\":0,\"fTextFont\":0,\"fX\":0,\"fY\":0,\"fLineColor\":1,\"fLineStyle\":1,\"fLineWidth\":2,\"fLimitFactorSize\":3,\"fOriginSize\":0.04}],\"opt\":[\"\",\"\",\"\",\"\"]},\"fOptFit\":0,\"fOptStat\":1111,\"fFitFormat\":\"5.4g\",\"fStatFormat\":\"6.4g\",\"fParent\":{\"$ref\":57}}],\"opt\":[\"brNDC\"]},\"fBufferSize\":0,\"fBuffer\":[],\"fBinStatErrOpt\":0,\"fStatOverflows\":2,\"fArray\":{\"$arr\":\"Float32\",\"len\":32,\"p\":1,\"v\":[117.8579,-9.409473,-30.0535,-114.2953,89.76575,-159.8479,-19.99228,-132.4014,-67.68762,74.65834,352.2676,224.893,-73.59078,39.81248,-163.7791,-50.1257,30.13426,-105.5159,-67.47117,52.9953,-11.26795,-45.29065,104.0192,3.875509,-13.38633,47.69099,-7.313509,2.300918,-37.64323,10.79831]}}},{\"_typename\":\"TWebSnapshot\",\"fUniqueID\":0,\"fBits\":0,\"fObjectID\":\"\",\"fOption\":\"same;prefer_saved\",\"fKind\":1,\"fSnapshot\":{\"_typename\":\"TF1\",\"fUniqueID\":0,\"fBits\":8,\"fName\":\"gaussianResidual\",\"fTitle\":\"gaus(0)\",\"fLineColor\":632,\"fLineStyle\":1,\"fLineWidth\":2,\"fFillColor\":19,\"fFillStyle\":0,\"fMarkerColor\":1,\"fMarkerStyle\":1,\"fMarkerSize\":1,\"fXmin\":105,\"fXmax\":160,\"fNpar\":3,\"fNdim\":1,\"fNpx\":100,\"fType\":0,\"fNpfits\":0,\"fNDF\":0,\"fChisquare\":0,\"fMinimum\":-1111,\"fMaximum\":-1111,\"fParErrors\":[0,0,0],\"fParMin\":[0,0,0],\"fParMax\":[0,0,0],\"fSave\":{\"$arr\":\"Float64\",\"len\":102,\"v\":[32459.9935738714,32440.0010287411,32419.9991482769,32399.9879649398,32379.9675111894,32359.9378194837,32339.8989222791,32319.8508520306,32299.7936411912,32279.7273222121,32259.6519275429,32239.5674896308,32219.4740409211,32199.3716138569,32179.2602408792,32159.1399544265,32139.0107869348,32118.8727708379,32098.7259385667,32078.5703225496,32058.4059552121,32038.2328689771,32018.0510962643,31997.8606694904,31977.6616210693,31957.4539834115,31937.2377889241,31917.013070011,31896.7798590728,31876.5381885063,31856.2880907048,31836.029598058,31815.7627429518,31795.4875577682,31775.2040748851,31754.9123266767,31734.6123455128,31714.3041637592,31693.9878137773,31673.6633279242,31653.3307385525,31632.9900780104,31612.6413786413,31592.2846727841,31571.9199927727,31551.5473709364,31531.1668395992,31510.7784310805,31490.3821776943,31469.9781117495,31449.5662655496,31429.1466713929,31408.7193615723,31388.2843683749,31367.8417240824,31347.3914609708,31326.9336113103,31306.4682073652,31285.995281394,31265.514865649,31245.0269923765,31224.5316938165,31204.029002203,31183.5189497633,31163.0015687186,31142.4768912833,31121.9449496654,31101.4057760662,31080.8594026801,31060.3058616949,31039.7451852913,31019.1774056429,30998.6025549165,30978.0206652716,30957.4317688604,30936.8358978279,30916.2330843115,30895.6233604413,30875.0067583397,30854.3833101216,30833.753047894,30813.1160037562,30792.4722097995,30771.8216981074,30751.1645007552,30730.5006498102,30709.8301773312,30689.1531153692,30668.4694959663,30647.7793511564,30627.082712965,30606.3796134087,30585.6700844957,30564.9541582251,30544.2318665875,30523.5032415642,30502.7683151278,30482.0271192418,30461.2796858602,30440.5260469281,105.275,159.725]},\"fNormalized\":false,\"fNormIntegral\":0,\"fFormula\":{\"_typename\":\"TFormula\",\"fUniqueID\":0,\"fBits\":1024,\"fName\":\"gaussianResidual\",\"fTitle\":\"gaus(0)\",\"fClingParameters\":[43117.0560338546,-401.897619216234,673.054508116361],\"fAllParametersSetted\":true,\"fParams\":[{\"$pair\":\"pair<TString,int,TFormulaParamOrder>\",\"first\":\"Constant\",\"second\":0},{\"$pair\":\"pair<TString,int,TFormulaParamOrder>\",\"first\":\"Mean\",\"second\":1},{\"$pair\":\"pair<TString,int,TFormulaParamOrder>\",\"first\":\"Sigma\",\"second\":2}],\"fFormula\":\"[Constant]*exp(-0.5*((x-[Mean])\\/[Sigma])*((x-[Mean])\\/[Sigma]))\",\"fNdim\":1,\"fNumber\":100,\"fLinearParts\":[],\"fVectorized\":false},\"fParams\":null,\"fComposition\":null}},{\"_typename\":\"TWebSnapshot\",\"fUniqueID\":0,\"fBits\":0,\"fObjectID\":\"\",\"fOption\":\"same\",\"fKind\":1,\"fSnapshot\":{\"_typename\":\"TLine\",\"fUniqueID\":0,\"fBits\":8,\"fLineColor\":632,\"fLineStyle\":2,\"fLineWidth\":1,\"fX1\":105,\"fY1\":0,\"fX2\":160,\"fY2\":0}}]}],\"fScripts\":\"\",\"fHighlightConnect\":false,\"fFixedSize\":false});\n",
       "   Core.settings.HandleKeys = false;\n",
       "   Core.draw(\"root_plot_1756870654322\", obj, \"\");\n",
       "}\n",
       "\n",
       "function script_load_root_plot_1756870654322(src, on_error) {\n",
       "    let script = document.createElement('script');\n",
       "    script.src = src;\n",
       "    script.onload = function() { display_root_plot_1756870654322(JSROOT); };\n",
       "    script.onerror = function() { script.remove(); on_error(); };\n",
       "    document.head.appendChild(script);\n",
       "}\n",
       "\n",
       "if (typeof requirejs !== 'undefined') {\n",
       "\n",
       "    // We are in jupyter notebooks, use require.js which should be configured already\n",
       "    requirejs.config({\n",
       "       paths: { 'JSRootCore' : [ 'build/jsroot', 'https://root.cern/js/7.7.4/build/jsroot', 'https://jsroot.gsi.de/7.7.4/build/jsroot' ] }\n",
       "    })(['JSRootCore'],  function(Core) {\n",
       "       display_root_plot_1756870654322(Core);\n",
       "    });\n",
       "\n",
       "} else if (typeof JSROOT !== 'undefined') {\n",
       "\n",
       "   // JSROOT already loaded, just use it\n",
       "   display_root_plot_1756870654322(JSROOT);\n",
       "\n",
       "} else {\n",
       "\n",
       "    // We are in jupyterlab without require.js, directly loading jsroot\n",
       "    // Jupyterlab might be installed in a different base_url so we need to know it.\n",
       "    try {\n",
       "        var base_url = JSON.parse(document.getElementById('jupyter-config-data').innerHTML).baseUrl;\n",
       "    } catch(_) {\n",
       "        var base_url = '/';\n",
       "    }\n",
       "\n",
       "    // Try loading a local version of requirejs and fallback to cdn if not possible.\n",
       "    script_load_root_plot_1756870654322(base_url + 'static/build/jsroot.js', function(){\n",
       "        console.error('Fail to load JSROOT locally, please check your jupyter_notebook_config.py file');\n",
       "        script_load_root_plot_1756870654322('https://root.cern/js/7.7.4/build/jsroot.js', function(){\n",
       "            document.getElementById(\"root_plot_1756870654322\").innerHTML = \"Failed to load JSROOT\";\n",
       "        });\n",
       "    });\n",
       "}\n",
       "\n",
       "</script>\n"
      ],
      "text/plain": [
       "<IPython.core.display.HTML object>"
      ]
     },
     "metadata": {},
     "output_type": "display_data"
    }
   ],
   "source": [
    "TCanvas *cz = new TCanvas(\"cz\", \"cz\", 900, 600);\n",
    "\n",
    "// Set up the main pad for the fit plot\n",
    "TPad *mainPad = new TPad(\"mainPad\", \"mainPad\", 0, 0.3, 1, 1.0);\n",
    "mainPad->SetBottomMargin(0);  // Upper and lower pads share the X axis\n",
    "mainPad->Draw();\n",
    "mainPad->cd();\n",
    "\n",
    "double max_h_M_Hyy = h_M_Hyy->GetMaximum();\n",
    "\n",
    "//h_M_Hyy->SetMaximum(2*max_h_M_Hyy);\n",
    "h_M_Hyy->SetMarkerStyle(20);  // Data markers\n",
    "h_M_Hyy->SetMarkerSize(0.8);\n",
    "h_M_Hyy->SetLineColor(kBlack);\n",
    "h_M_Hyy->SetStats(0);  // Hide stats box\n",
    "\n",
    "// Define the signal + background fit (Gaussian for signal + 4th order polynomial for background)\n",
    "TF1 *sigPlusBkg = new TF1(\"sigPlusBkg\", \"gaus(0) + pol4(3)\", 105, 160);  // Gaussian + 4th order polynomial\n",
    "sigPlusBkg->SetParameters(1000, 125, 2);  // Parameters for the Gaussian (amplitude, mean, sigma)\n",
    "sigPlusBkg->SetLineColor(kRed);\n",
    "sigPlusBkg->SetLineStyle(1);\n",
    "\n",
    "// Define the background-only fit (4th-order polynomial)\n",
    "TF1 *bkgOnly = new TF1(\"bkgOnly\", \"pol4\", 105, 160);  // 4th order polynomial for background\n",
    "bkgOnly->SetLineColor(kRed);\n",
    "bkgOnly->SetLineStyle(2);  // Dashed line for background\n",
    "\n",
    "// Perform the fit (quiet mode to suppress fit output)\n",
    "h_M_Hyy->Fit(\"sigPlusBkg\", \"RQ\");  // Signal + background fit\n",
    "h_M_Hyy->Fit(\"bkgOnly\", \"RQ+\");    // Background-only fit\n",
    "\n",
    "// Draw the data points with error bars\n",
    "h_M_Hyy->Draw(\"E1\");\n",
    "sigPlusBkg->Draw(\"same\");  // Draw signal + background fit\n",
    "bkgOnly->Draw(\"same\");     // Draw background-only fit\n",
    "\n",
    "// Add legend to main plot\n",
    "TLegend *legend = new TLegend(0.55, 0.65, 0.9, 0.85);\n",
    "legend->AddEntry(h_M_Hyy, \"Data\", \"lep\");\n",
    "legend->AddEntry(sigPlusBkg, \"Sig+Bkg Fit (m_H = 125 GeV)\", \"l\");\n",
    "legend->AddEntry(bkgOnly, \"Bkg (4th order polynomial)\", \"l\");\n",
    "legend->Draw();\n",
    "\n",
    "// Add text labels (ATLAS Open Data, Luminosity, and channel info)\n",
    "TLatex latex;\n",
    "latex.SetTextSize(0.04);\n",
    "latex.DrawLatexNDC(0.2, 0.85, \"ATLAS Open Data\");\n",
    "latex.DrawLatexNDC(0.2, 0.8, \"#sqrt{s}=13 TeV, #intLdt = 36 fb^{-1}\");\n",
    "latex.DrawLatexNDC(0.2, 0.75, \"H #rightarrow #gamma#gamma\");\n",
    "\n",
    "cz->cd();\n",
    "\n",
    "// Create the residual pad\n",
    "TPad *residPad = new TPad(\"residPad\", \"residPad\", 0, 0.05, 1, 0.3);\n",
    "residPad->SetTopMargin(0);\n",
    "residPad->SetBottomMargin(0.3);\n",
    "residPad->Draw();\n",
    "residPad->cd();\n",
    "\n",
    "// Calculate residuals (Data - Background)\n",
    "int nBins = h_M_Hyy->GetNbinsX();\n",
    "TH1F *residuals = new TH1F(\"residuals\", \"\", nBins, 105, 160);  // Residuals (data - background)\n",
    "\n",
    "// Loop over all bins to calculate residuals and plot them\n",
    "for (int i = 1; i <= nBins; i++) {\n",
    "    double dataValue = h_M_Hyy->GetBinContent(i);\n",
    "    double bkgValue = bkgOnly->Eval(h_M_Hyy->GetBinCenter(i));  // Background value at bin center\n",
    "    double error = h_M_Hyy->GetBinError(i);\n",
    "\n",
    "    // Residuals = (Data - Background) / Error\n",
    "    // double residualValue = (dataValue - bkgValue) / error;\n",
    "    double residualValue = (dataValue - bkgValue);\n",
    "    \n",
    "    residuals->SetBinContent(i, residualValue);  // Set residual (Data - Bkg)\n",
    "}\n",
    "\n",
    "// Style residual plot components\n",
    "residuals->SetMarkerStyle(20);  // Data points\n",
    "residuals->SetMarkerSize(0.8);\n",
    "residuals->SetLineColor(kBlack);\n",
    "\n",
    "// Customize axis labels and scales\n",
    "residuals->GetYaxis()->SetTitle(\"Events - Bkg\");\n",
    "residuals->GetYaxis()->SetTitleSize(0.07);\n",
    "residuals->GetYaxis()->SetTitleOffset(0.5);\n",
    "residuals->GetYaxis()->SetLabelSize(0.07);\n",
    "residuals->GetXaxis()->SetTitle(\"di-photon invariant mass m_{#gamma#gamma} [GeV]\");\n",
    "residuals->GetXaxis()->SetTitleSize(0.07);\n",
    "residuals->GetXaxis()->SetLabelSize(0.07);\n",
    "\n",
    "// Draw the residuals (Data - Background)\n",
    "residuals->Draw(\"E1\");\n",
    "\n",
    "// Create a Gaussian with mean 125, sigma 2 (same as your fit) for the residual plot\n",
    "TF1 *gaussianResidual = new TF1(\"gaussianResidual\", \"gaus(0)\", 105, 160);\n",
    "gaussianResidual->SetParameters(sigPlusBkg->GetParameter(0), sigPlusBkg->GetParameter(1), sigPlusBkg->GetParameter(2));  // Gaussian params: amplitude, mean, sigma\n",
    "gaussianResidual->SetLineColor(kRed);  // Red color for Gaussian\n",
    "gaussianResidual->SetLineStyle(1);     // Solid line for Gaussian\n",
    "gaussianResidual->Draw(\"same\");        // Draw the Gaussian signal on the residual plot\n",
    "\n",
    "// Draw the dashed red line at Y=0 for the background minus background\n",
    "TLine *zeroLine = new TLine(105, 0, 160, 0);  // Line from (x=105, y=0) to (x=160, y=0)\n",
    "zeroLine->SetLineColor(kRed);\n",
    "zeroLine->SetLineStyle(2);  // Dashed line\n",
    "zeroLine->Draw(\"same\");\n",
    "\n",
    "// Display the canvas\n",
    "cz->Draw();"
   ]
  },
  {
   "cell_type": "markdown",
   "metadata": {},
   "source": [
    "#### Log Scale"
   ]
  },
  {
   "cell_type": "code",
   "execution_count": 11,
   "metadata": {},
   "outputs": [
    {
     "data": {
      "text/html": [
       "\n",
       "\n",
       "<div id=\"root_plot_1756870654540\" style=\"width: 900px; height: 600px; position: relative\">\n",
       "</div>\n",
       "\n",
       "<script>\n",
       "\n",
       "function display_root_plot_1756870654540(Core) {\n",
       "   let obj = Core.parse({\"_typename\":\"TCanvasWebSnapshot\",\"fUniqueID\":0,\"fBits\":0,\"fObjectID\":\"\",\"fOption\":\"\",\"fKind\":3,\"fSnapshot\":{\"_typename\":\"TCanvas\",\"fUniqueID\":0,\"fBits\":3342344,\"fLineColor\":1,\"fLineStyle\":1,\"fLineWidth\":1,\"fFillColor\":0,\"fFillStyle\":1001,\"fLeftMargin\":0.1,\"fRightMargin\":0.1,\"fBottomMargin\":0.1,\"fTopMargin\":0.1,\"fXfile\":2,\"fYfile\":2,\"fAfile\":1,\"fXstat\":0.99,\"fYstat\":0.99,\"fAstat\":2,\"fFrameFillColor\":0,\"fFrameLineColor\":1,\"fFrameFillStyle\":1001,\"fFrameLineStyle\":1,\"fFrameLineWidth\":1,\"fFrameBorderSize\":1,\"fFrameBorderMode\":0,\"fX1\":0,\"fY1\":0,\"fX2\":1,\"fY2\":1,\"fXtoAbsPixelk\":0,\"fXtoPixelk\":0,\"fXtoPixel\":896,\"fYtoAbsPixelk\":572,\"fYtoPixelk\":572,\"fYtoPixel\":-572,\"fUtoAbsPixelk\":0,\"fUtoPixelk\":0,\"fUtoPixel\":896,\"fVtoAbsPixelk\":572,\"fVtoPixelk\":572,\"fVtoPixel\":-572,\"fAbsPixeltoXk\":0,\"fPixeltoXk\":0,\"fPixeltoX\":0.00111607142857143,\"fAbsPixeltoYk\":1,\"fPixeltoYk\":0,\"fPixeltoY\":-0.00174825174825175,\"fXlowNDC\":0,\"fYlowNDC\":0,\"fXUpNDC\":1,\"fYUpNDC\":1,\"fWNDC\":1,\"fHNDC\":1,\"fAbsXlowNDC\":0,\"fAbsYlowNDC\":0,\"fAbsWNDC\":1,\"fAbsHNDC\":1,\"fUxmin\":0,\"fUymin\":0,\"fUxmax\":1,\"fUymax\":1,\"fTheta\":30,\"fPhi\":30,\"fAspectRatio\":0,\"fNumber\":0,\"fTickx\":0,\"fTicky\":0,\"fLogx\":0,\"fLogy\":1,\"fLogz\":0,\"fPadPaint\":0,\"fCrosshair\":0,\"fCrosshairPos\":0,\"fBorderSize\":2,\"fBorderMode\":0,\"fModified\":false,\"fGridx\":false,\"fGridy\":false,\"fAbsCoord\":false,\"fEditable\":true,\"fFixedAspectRatio\":false,\"fPrimitives\":{\"_typename\":\"TList\",\"name\":\"TList\",\"arr\":[],\"opt\":[]},\"fExecs\":null,\"fName\":\"cz\",\"fTitle\":\"cz\",\"fNumPaletteColor\":0,\"fNextPaletteColor\":0,\"fDISPLAY\":\"$DISPLAY\",\"fDoubleBuffer\":0,\"fRetained\":true,\"fXsizeUser\":0,\"fYsizeUser\":0,\"fXsizeReal\":20,\"fYsizeReal\":13.33333,\"fWindowTopX\":0,\"fWindowTopY\":0,\"fWindowWidth\":0,\"fWindowHeight\":0,\"fCw\":896,\"fCh\":572,\"fCatt\":{\"_typename\":\"TAttCanvas\",\"fXBetween\":2,\"fYBetween\":2,\"fTitleFromTop\":1.2,\"fXdate\":0.2,\"fYdate\":0.3,\"fAdate\":1},\"kMoveOpaque\":true,\"kResizeOpaque\":true,\"fHighLightColor\":2,\"fBatch\":true,\"kShowEventStatus\":false,\"kAutoExec\":true,\"kMenuBar\":true},\"fActive\":false,\"fReadOnly\":true,\"fWithoutPrimitives\":false,\"fHasExecs\":false,\"fPrimitives\":[{\"_typename\":\"TWebSnapshot\",\"fUniqueID\":0,\"fBits\":0,\"fObjectID\":\"\",\"fOption\":\"\",\"fKind\":4,\"fSnapshot\":{\"_typename\":\"TWebPainting\",\"fUniqueID\":0,\"fBits\":0,\"fOper\":\"0:255,255,255;1:0,0,0;2:255,0,0;3:0,255,0;4:0,0,255;5:255,255,0;6:255,0,255;7:0,255,255;8:89,211,84;9:89,84,216;10:254,254,254;11:192,182,172;12:76,76,76;13:102,102,102;14:127,127,127;15:153,153,153;16:178,178,178;17:204,204,204;18:229,229,229;19:242,242,242;20:204,198,170;21:204,198,170;22:193,191,168;23:186,181,163;24:178,165,150;25:183,163,155;26:173,153,140;27:155,142,130;28:135,102,86;29:175,206,198;30:132,193,163;31:137,168,160;32:130,158,140;33:173,188,198;34:122,142,153;35:117,137,145;36:104,130,150;37:109,122,132;38:124,153,209;39:127,127,155;40:170,165,191;41:211,206,135;42:221,186,135;43:188,158,130;44:198,153,124;45:191,130,119;46:206,94,96;47:170,142,147;48:165,119,122;49:147,104,112;50:211,89,84;51:146,0,255;52:122,0,255;53:98,0,255;54:74,0,255;55:51,0,255;56:27,0,255;57:3,0,255;58:0,20,255;59:0,44,255;60:0,68,255;61:0,91,255;62:0,115,255;63:0,139,255;64:0,163,255;65:0,187,255;66:0,210,255;67:0,234,255;68:0,255,251;69:0,255,227;70:0,255,204;71:0,255,180;72:0,255,156;73:0,255,132;74:0,255,108;75:0,255,85;76:0,255,61;77:0,255,37;78:0,255,13;79:10,255,0;80:34,255,0;81:57,255,0;82:81,255,0;83:105,255,0;84:129,255,0;85:153,255,0;86:176,255,0;87:200,255,0;88:224,255,0;89:248,255,0;90:255,238,0;91:255,214,0;92:255,190,0;93:255,166,0;94:255,142,0;95:255,119,0;96:255,95,0;97:255,71,0;98:255,47,0;99:255,23,0;100:111,45,168;101:165,42,42;102:178,190,181;103:87,144,252;104:248,156,32;105:228,37,54;106:150,74,139;107:156,156,161;108:122,33,221;109:24,69,251;110:255,94,2;111:201,31,22;112:200,73,169;113:173,173,125;114:134,200,221;115:87,141,255;116:101,99,100;117:63,144,218;118:255,169,14;119:189,31,1;120:148,164,162;121:131,45,182;122:169,107,89;123:231,99,0;124:185,172,112;125:113,117,129;126:146,218,221;127:178,178,178;201:91,91,91;202:122,122,122;203:183,183,183;204:214,214,214;205:137,15,15;206:183,20,20;207:234,71,71;208:239,117,117;209:15,137,15;210:20,183,20;211:71,234,71;212:117,239,117;213:15,15,137;214:20,20,183;215:71,71,234;216:117,117,239;217:137,137,15;218:183,183,20;219:234,234,71;220:239,239,117;221:137,15,137;222:183,20,183;223:234,71,234;224:239,117,239;225:15,137,137;226:20,183,183;227:71,234,234;228:117,239,239;390:255,255,204;391:255,255,153;392:204,204,153;393:255,255,102;394:204,204,102;395:153,153,102;396:255,255,51;397:204,204,51;398:153,153,51;399:102,102,51;400:255,255,0;401:204,204,0;402:153,153,0;403:102,102,0;404:51,51,0;406:204,255,204;407:153,255,153;408:153,204,153;409:102,255,102;410:102,204,102;411:102,153,102;412:51,255,51;413:51,204,51;414:51,153,51;415:51,102,51;416:0,255,0;417:0,204,0;418:0,153,0;419:0,102,0;420:0,51,0;422:204,255,255;423:153,255,255;424:153,204,204;425:102,255,255;426:102,204,204;427:102,153,153;428:51,255,255;429:51,204,204;430:51,153,153;431:51,102,102;432:0,255,255;433:0,204,204;434:0,153,153;435:0,102,102;436:0,51,51;590:204,204,255;591:153,153,255;592:153,153,204;593:102,102,255;594:102,102,204;595:102,102,153;596:51,51,255;597:51,51,204;598:51,51,153;599:51,51,102;600:0,0,255;601:0,0,204;602:0,0,153;603:0,0,102;604:0,0,51;606:255,204,255;607:255,153,255;608:204,153,204;609:255,102,255;610:204,102,204;611:153,102,153;612:255,51,255;613:204,51,204;614:153,51,153;615:102,51,102;616:255,0,255;617:204,0,204;618:153,0,153;619:102,0,102;620:51,0,51;622:255,204,204;623:255,153,153;624:204,153,153;625:255,102,102;626:204,102,102;627:153,102,102;628:255,51,51;629:204,51,51;630:153,51,51;631:102,51,51;632:255,0,0;633:204,0,0;634:153,0,0;635:102,0,0;636:51,0,0;791:255,204,153;792:204,153,102;793:153,102,51;794:153,102,0;795:204,153,51;796:255,204,102;797:255,153,0;798:255,204,51;799:204,153,0;800:255,204,0;801:255,153,51;802:204,102,0;803:102,51,0;804:153,51,0;805:204,102,51;806:255,153,102;807:255,102,0;808:255,102,51;809:204,51,0;810:255,51,0;811:153,255,51;812:102,204,0;813:51,102,0;814:51,153,0;815:102,204,51;816:153,255,102;817:102,255,0;818:102,255,51;819:51,204,0;820:51,255,0;821:204,255,153;822:153,204,102;823:102,153,51;824:102,153,0;825:153,204,51;826:204,255,102;827:153,255,0;828:204,255,51;829:153,204,0;830:204,255,0;831:153,255,204;832:102,204,153;833:51,153,102;834:0,153,102;835:51,204,153;836:102,255,204;837:0,255,102;838:51,255,204;839:0,204,153;840:0,255,204;841:51,255,153;842:0,204,102;843:0,102,51;844:0,153,51;845:51,204,102;846:102,255,153;847:0,255,153;848:51,255,102;849:0,204,51;850:0,255,51;851:153,204,255;852:102,153,204;853:51,102,153;854:0,51,153;855:51,102,204;856:102,153,255;857:0,102,255;858:51,102,255;859:0,51,204;860:0,51,255;861:51,153,255;862:0,102,204;863:0,51,102;864:0,102,153;865:51,153,204;866:102,204,255;867:0,153,255;868:51,204,255;869:0,153,204;870:0,204,255;871:204,153,255;872:153,102,204;873:102,51,153;874:102,0,153;875:153,51,204;876:204,102,255;877:153,0,255;878:204,51,255;879:153,0,204;880:204,0,255;881:153,51,255;882:102,0,204;883:51,0,102;884:51,0,153;885:102,51,204;886:153,102,255;887:102,0,255;888:102,51,255;889:51,0,204;890:51,0,255;891:255,51,153;892:204,0,102;893:102,0,51;894:153,0,51;895:204,51,102;896:255,102,153;897:255,0,102;898:255,51,102;899:204,0,51;900:255,0,51;901:255,153,204;902:204,102,153;903:153,51,102;904:153,0,102;905:204,51,153;906:255,102,204;907:255,0,153;908:204,0,153;909:255,51,204;910:255,0,153;920:204,204,204;921:153,153,153;922:102,102,102;923:51,51,51;924:53,42,134;925:51,44,137;926:50,45,140;927:49,47,143;928:48,48,146;929:46,50,148;930:45,51,151;931:44,53,154;932:43,55,157;933:42,56,160;934:40,58,162;935:39,59,165;936:38,61,168;937:37,63,171;938:35,64,174;939:34,66,176;940:33,67,179;941:32,69,182;942:31,71,185;943:29,72,187;944:28,74,190;945:27,75,193;946:26,77,196;947:24,79,199;948:23,80,201;949:22,82,204;950:21,83,207;951:19,85,210;952:18,86,213;953:17,88,215;954:16,90,218;955:15,91,221;956:15,92,221;957:15,94,220;958:15,95,220;959:15,96,220;960:15,97,220;961:15,98,220;962:16,99,219;963:16,100,219;964:16,102,219;965:16,103,219;966:16,104,218;967:16,105,218;968:17,106,218;969:17,107,218;970:17,109,217;971:17,110,217;972:17,111,217;973:17,112,217;974:17,113,216;975:18,114,216;976:18,115,216;977:18,117,216;978:18,118,215;979:18,119,215;980:18,120,215;981:18,121,215;982:19,122,215;983:19,123,214;984:19,125,214;985:19,126,214;986:19,127,214;987:19,128,213;988:19,129,213;989:19,130,213;990:18,131,212;991:18,132,212;992:17,134,211;993:17,135,211;994:16,136,211;995:16,137,210;996:15,138,210;997:15,139,210;998:15,140,209;999:14,141,209;1000:14,142,208;1001:13,143,208;1002:13,145,208;1003:12,146,207;1004:12,147,207;1005:12,148,207;1006:11,149,206;1007:11,150,206;1008:10,151,205;1009:10,152,205;1010:9,153,205;1011:9,154,204;1012:8,155,204;1013:8,157,204;1014:8,158,203;1015:7,159,203;1016:7,160,202;1017:6,161,202;1018:6,162,202;1019:5,163,201;1020:7,164,200;1021:8,164,199;1022:9,165,198;1023:10,166,197;1024:12,166,195;1025:13,167,194;1026:14,167,193;1027:15,168,192;1028:17,169,191;1029:18,169,189;1030:19,170,188;1031:20,170,187;1032:22,171,186;1033:23,172,185;1034:24,172,184;1035:25,173,182;1036:27,173,181;1037:28,174,180;1038:29,175,179;1039:30,175,178;1040:32,176,176;1041:33,176,175;1042:34,177,174;1043:35,178,173;1044:37,178,172;1045:38,179,170;1046:39,180,169;1047:40,180,168;1048:42,181,167;1049:43,181,166;1050:44,182,165;1051:45,183,163;1052:48,183,162;1053:51,183,161;1054:54,183,159;1055:57,184,158;1056:59,184,156;1057:62,184,155;1058:65,184,154;1059:68,185,152;1060:71,185,151;1061:73,185,149;1062:76,185,148;1063:79,186,146;1064:82,186,145;1065:84,186,144;1066:87,186,142;1067:90,187,141;1068:93,187,139;1069:96,187,138;1070:98,187,137;1071:101,188,135;1072:104,188,134;1073:107,188,132;1074:110,188,131;1075:112,189,130;1076:115,189,128;1077:118,189,127;1078:121,189,125;1079:124,190,124;1080:126,190,123;1081:129,190,121;1082:132,190,120;1083:135,191,118;1084:137,190,117;1085:139,190,117;1086:142,190,116;1087:144,190,115;1088:146,190,114;1089:148,190,113;1090:151,190,112;1091:153,190,111;1092:155,189,110;1093:158,189,109;1094:160,189,108;1095:162,189,107;1096:165,189,106;1097:167,189,105;1098:169,189,104;1099:171,188,104;1100:174,188,103;1101:176,188,102;1102:178,188,101;1103:181,188,100;1104:183,188,99;1105:185,188,98;1106:188,188,97;1107:190,187,96;1108:192,187,95;1109:194,187,94;1110:197,187,93;1111:199,187,92;1112:201,187,92;1113:204,187,91;1114:206,186,90;1115:208,186,89;1116:210,187,88;1117:211,187,86;1118:212,188,85;1119:214,188,84;1120:215,188,83;1121:217,189,81;1122:218,189,80;1123:220,190,79;1124:221,190,78;1125:222,191,77;1126:224,191,75;1127:225,191,74;1128:227,192,73;1129:228,192,72;1130:229,193,70;1131:231,193,69;1132:232,194,68;1133:234,194,67;1134:235,194,66;1135:236,195,64;1136:238,195,63;1137:239,196,62;1138:241,196,61;1139:242,197,59;1140:244,197,58;1141:245,197,57;1142:246,198,56;1143:248,198,55;1144:249,199,53;1145:251,199,52;1146:252,200,51;1147:253,200,50;1148:253,202,49;1149:253,203,47;1150:253,205,46;1151:253,206,45;1152:253,208,44;1153:252,209,43;1154:252,211,42;1155:252,213,41;1156:252,214,39;1157:252,216,38;1158:252,217,37;1159:252,219,36;1160:251,220,35;1161:251,222,34;1162:251,224,33;1163:251,225,31;1164:251,227,30;1165:251,228,29;1166:250,230,28;1167:250,231,27;1168:250,233,26;1169:250,235,25;1170:250,236,23;1171:250,238,22;1172:250,239,21;1173:249,241,20;1174:249,242,19;1175:249,244,18;1176:249,246,17;1177:249,247,16;1178:249,249,14\",\"fBuf\":{\"$arr\":\"Float32\",\"len\":255,\"v\":[924,925,926,927,928,929,930,931,932,933,934,935,936,937,938,939,940,941,942,943,944,945,946,947,948,949,950,951,952,953,954,955,956,957,958,959,960,961,962,963,964,965,966,967,968,969,970,971,972,973,974,975,976,977,978,979,980,981,982,983,984,985,986,987,988,989,990,991,992,993,994,995,996,997,998,999,1000,1001,1002,1003,1004,1005,1006,1007,1008,1009,1010,1011,1012,1013,1014,1015,1016,1017,1018,1019,1020,1021,1022,1023,1024,1025,1026,1027,1028,1029,1030,1031,1032,1033,1034,1035,1036,1037,1038,1039,1040,1041,1042,1043,1044,1045,1046,1047,1048,1049,1050,1051,1052,1053,1054,1055,1056,1057,1058,1059,1060,1061,1062,1063,1064,1065,1066,1067,1068,1069,1070,1071,1072,1073,1074,1075,1076,1077,1078,1079,1080,1081,1082,1083,1084,1085,1086,1087,1088,1089,1090,1091,1092,1093,1094,1095,1096,1097,1098,1099,1100,1101,1102,1103,1104,1105,1106,1107,1108,1109,1110,1111,1112,1113,1114,1115,1116,1117,1118,1119,1120,1121,1122,1123,1124,1125,1126,1127,1128,1129,1130,1131,1132,1133,1134,1135,1136,1137,1138,1139,1140,1141,1142,1143,1144,1145,1146,1147,1148,1149,1150,1151,1152,1153,1154,1155,1156,1157,1158,1159,1160,1161,1162,1163,1164,1165,1166,1167,1168,1169,1170,1171,1172,1173,1174,1175,1176,1177,1178]}}},{\"_typename\":\"TWebSnapshot\",\"fUniqueID\":0,\"fBits\":0,\"fObjectID\":\"\",\"fOption\":\"\",\"fKind\":5,\"fSnapshot\":{\"_typename\":\"TStyle\",\"fUniqueID\":0,\"fBits\":0,\"fName\":\"Modern\",\"fTitle\":\"Modern Style\",\"fLineColor\":1,\"fLineStyle\":1,\"fLineWidth\":1,\"fFillColor\":19,\"fFillStyle\":1001,\"fMarkerColor\":1,\"fMarkerStyle\":1,\"fMarkerSize\":1,\"fTextAngle\":0,\"fTextSize\":0.05,\"fTextAlign\":11,\"fTextColor\":1,\"fTextFont\":62,\"fXaxis\":{\"_typename\":\"TAttAxis\",\"fNdivisions\":510,\"fAxisColor\":1,\"fLabelColor\":1,\"fLabelFont\":42,\"fLabelOffset\":0.005,\"fLabelSize\":0.035,\"fTickLength\":0.03,\"fTitleOffset\":1,\"fTitleSize\":0.035,\"fTitleColor\":1,\"fTitleFont\":42},\"fYaxis\":{\"_typename\":\"TAttAxis\",\"fNdivisions\":510,\"fAxisColor\":1,\"fLabelColor\":1,\"fLabelFont\":42,\"fLabelOffset\":0.005,\"fLabelSize\":0.035,\"fTickLength\":0.03,\"fTitleOffset\":0,\"fTitleSize\":0.035,\"fTitleColor\":1,\"fTitleFont\":42},\"fZaxis\":{\"_typename\":\"TAttAxis\",\"fNdivisions\":510,\"fAxisColor\":1,\"fLabelColor\":1,\"fLabelFont\":42,\"fLabelOffset\":0.005,\"fLabelSize\":0.035,\"fTickLength\":0.03,\"fTitleOffset\":1,\"fTitleSize\":0.035,\"fTitleColor\":1,\"fTitleFont\":42},\"fBarWidth\":1,\"fBarOffset\":0,\"fColorModelPS\":0,\"fDrawBorder\":0,\"fOptLogx\":0,\"fOptLogy\":0,\"fOptLogz\":0,\"fOptDate\":0,\"fOptStat\":1111,\"fOptTitle\":1,\"fOptFile\":0,\"fOptFit\":0,\"fShowEventStatus\":0,\"fShowEditor\":0,\"fShowToolBar\":0,\"fNumberContours\":20,\"fAttDate\":{\"_typename\":\"TAttText\",\"fTextAngle\":0,\"fTextSize\":0.025,\"fTextAlign\":11,\"fTextColor\":1,\"fTextFont\":62},\"fDateX\":0.01,\"fDateY\":0.01,\"fEndErrorSize\":2,\"fErrorX\":0.5,\"fFuncColor\":2,\"fFuncStyle\":1,\"fFuncWidth\":2,\"fGridColor\":0,\"fGridStyle\":3,\"fGridWidth\":1,\"fLegendBorderSize\":1,\"fLegendFillColor\":0,\"fLegendFillStyle\":1001,\"fLegendFont\":42,\"fLegendTextSize\":0,\"fHatchesLineWidth\":1,\"fHatchesSpacing\":1,\"fFrameFillColor\":0,\"fFrameLineColor\":1,\"fFrameFillStyle\":1001,\"fFrameLineStyle\":1,\"fFrameLineWidth\":1,\"fFrameBorderSize\":1,\"fFrameBorderMode\":0,\"fHistFillColor\":0,\"fHistLineColor\":602,\"fHistFillStyle\":1001,\"fHistLineStyle\":1,\"fHistLineWidth\":1,\"fHistMinimumZero\":false,\"fHistTopMargin\":0.05,\"fCanvasPreferGL\":false,\"fCanvasColor\":0,\"fCanvasBorderSize\":2,\"fCanvasBorderMode\":0,\"fCanvasDefH\":500,\"fCanvasDefW\":700,\"fCanvasDefX\":10,\"fCanvasDefY\":10,\"fPadColor\":0,\"fPadBorderSize\":2,\"fPadBorderMode\":0,\"fPadBottomMargin\":0.1,\"fPadTopMargin\":0.1,\"fPadLeftMargin\":0.1,\"fPadRightMargin\":0.1,\"fPadGridX\":false,\"fPadGridY\":false,\"fPadTickX\":0,\"fPadTickY\":0,\"fPaperSizeX\":20,\"fPaperSizeY\":26,\"fScreenFactor\":1,\"fStatColor\":0,\"fStatTextColor\":1,\"fStatBorderSize\":1,\"fStatFont\":42,\"fStatFontSize\":0,\"fStatStyle\":1001,\"fStatFormat\":\"6.4g\",\"fStatX\":0.98,\"fStatY\":0.935,\"fStatW\":0.2,\"fStatH\":0.16,\"fStripDecimals\":true,\"fTitleAlign\":23,\"fTitleColor\":0,\"fTitleTextColor\":1,\"fTitleBorderSize\":0,\"fTitleFont\":42,\"fTitleFontSize\":0.05,\"fTitleStyle\":0,\"fTitleX\":0.5,\"fTitleY\":0.995,\"fTitleW\":0,\"fTitleH\":0,\"fLegoInnerR\":0.5,\"fLineStyles\":[\"\",\"  \",\" 12 12\",\" 4 8\",\" 12 16 4 16\",\" 20 12 4 12\",\" 20 12 4 12 4 12 4 12\",\" 20 20\",\" 20 12 4 12 4 12\",\" 80 20\",\" 80 40 4 40\",\"  \",\"  \",\"  \",\"  \",\"  \",\"  \",\"  \",\"  \",\"  \",\"  \",\"  \",\"  \",\"  \",\"  \",\"  \",\"  \",\"  \",\"  \",\"  \"],\"fHeaderPS\":\"\",\"fTitlePS\":\"\",\"fFitFormat\":\"5.4g\",\"fPaintTextFormat\":\"g\",\"fLineScalePS\":3,\"fJoinLinePS\":0,\"fCapLinePS\":0,\"fTimeOffset\":788918400,\"fImageScaling\":1,\"fCandleWhiskerRange\":1,\"fCandleBoxRange\":0.5,\"fCandleScaled\":false,\"fViolinScaled\":true,\"fXAxisExpXOffset\":0,\"fXAxisExpYOffset\":0,\"fYAxisExpXOffset\":0,\"fYAxisExpYOffset\":0,\"fAxisMaxDigits\":5,\"fOrthoCamera\":false}},{\"_typename\":\"TPadWebSnapshot\",\"fUniqueID\":0,\"fBits\":0,\"fObjectID\":\"\",\"fOption\":\"\",\"fKind\":3,\"fSnapshot\":{\"_typename\":\"TPad\",\"fUniqueID\":0,\"fBits\":9,\"fLineColor\":1,\"fLineStyle\":1,\"fLineWidth\":1,\"fFillColor\":0,\"fFillStyle\":1001,\"fLeftMargin\":0.1,\"fRightMargin\":0.1,\"fBottomMargin\":0,\"fTopMargin\":0.1,\"fXfile\":2,\"fYfile\":2,\"fAfile\":1,\"fXstat\":0.99,\"fYstat\":0.99,\"fAstat\":2,\"fFrameFillColor\":0,\"fFrameLineColor\":1,\"fFrameFillStyle\":1001,\"fFrameLineStyle\":1,\"fFrameLineWidth\":1,\"fFrameBorderSize\":1,\"fFrameBorderMode\":0,\"fX1\":98.1249994877726,\"fY1\":2504.74806207533,\"fX2\":166.875000512227,\"fY2\":14825.9833702319,\"fXtoAbsPixelk\":-1278.8363379045,\"fXtoPixelk\":-1278.8363379045,\"fXtoPixel\":13.0327270785245,\"fYtoAbsPixelk\":481.796150545964,\"fYtoPixelk\":481.796150545964,\"fYtoPixel\":-0.0324967415998409,\"fUtoAbsPixelk\":0,\"fUtoPixelk\":0,\"fUtoPixel\":896,\"fVtoAbsPixelk\":400.4,\"fVtoPixelk\":400.4,\"fVtoPixel\":-400.4,\"fAbsPixeltoXk\":98.1249994877726,\"fPixeltoXk\":98.1249994877726,\"fPixeltoX\":0.0767299118576505,\"fAbsPixeltoYk\":14825.9833702319,\"fPixeltoYk\":2504.74806207533,\"fPixeltoY\":-30.772315954437,\"fXlowNDC\":0,\"fYlowNDC\":0.3,\"fXUpNDC\":1,\"fYUpNDC\":1,\"fWNDC\":1,\"fHNDC\":0.7,\"fAbsXlowNDC\":0,\"fAbsYlowNDC\":0.3,\"fAbsWNDC\":1,\"fAbsHNDC\":0.7,\"fUxmin\":105,\"fUymin\":2504.74806207533,\"fUxmax\":160,\"fUymax\":13593.8597935161,\"fTheta\":30,\"fPhi\":30,\"fAspectRatio\":0,\"fNumber\":0,\"fTickx\":0,\"fTicky\":0,\"fLogx\":0,\"fLogy\":0,\"fLogz\":0,\"fPadPaint\":0,\"fCrosshair\":0,\"fCrosshairPos\":0,\"fBorderSize\":2,\"fBorderMode\":0,\"fModified\":false,\"fGridx\":false,\"fGridy\":false,\"fAbsCoord\":false,\"fEditable\":true,\"fFixedAspectRatio\":false,\"fPrimitives\":{\"_typename\":\"TList\",\"name\":\"TList\",\"arr\":[],\"opt\":[]},\"fExecs\":{\"_typename\":\"TList\",\"name\":\"TList\",\"arr\":[],\"opt\":[]},\"fName\":\"mainPad\",\"fTitle\":\"mainPad\",\"fNumPaletteColor\":0,\"fNextPaletteColor\":0},\"fActive\":false,\"fReadOnly\":true,\"fWithoutPrimitives\":false,\"fHasExecs\":true,\"fPrimitives\":[{\"_typename\":\"TWebSnapshot\",\"fUniqueID\":0,\"fBits\":0,\"fObjectID\":\"\",\"fOption\":\"\",\"fKind\":1,\"fSnapshot\":{\"_typename\":\"TFrame\",\"fUniqueID\":0,\"fBits\":8,\"fLineColor\":1,\"fLineStyle\":1,\"fLineWidth\":1,\"fFillColor\":0,\"fFillStyle\":1001,\"fX1\":105,\"fY1\":2504.74806207533,\"fX2\":160,\"fY2\":13593.8597935161,\"fBorderSize\":1,\"fBorderMode\":0}},{\"_typename\":\"TWebSnapshot\",\"fUniqueID\":0,\"fBits\":0,\"fObjectID\":\"\",\"fOption\":\"E1\",\"fKind\":1,\"fSnapshot\":{\"_typename\":\"TH1F\",\"fUniqueID\":0,\"fBits\":520,\"fName\":\"h_M_Hyy\",\"fTitle\":\"Diphoton invariant-mass \",\"fLineColor\":1,\"fLineStyle\":1,\"fLineWidth\":1,\"fFillColor\":590,\"fFillStyle\":1001,\"fMarkerColor\":1,\"fMarkerStyle\":20,\"fMarkerSize\":0.8,\"fNcells\":32,\"fXaxis\":{\"_typename\":\"TAxis\",\"fUniqueID\":0,\"fBits\":0,\"fName\":\"xaxis\",\"fTitle\":\" M_{#gamma#gamma} [GeV] \",\"fNdivisions\":510,\"fAxisColor\":1,\"fLabelColor\":1,\"fLabelFont\":42,\"fLabelOffset\":0.005,\"fLabelSize\":0.035,\"fTickLength\":0.03,\"fTitleOffset\":1,\"fTitleSize\":0.035,\"fTitleColor\":1,\"fTitleFont\":42,\"fNbins\":30,\"fXmin\":105,\"fXmax\":160,\"fXbins\":[],\"fFirst\":0,\"fLast\":0,\"fBits2\":0,\"fTimeDisplay\":false,\"fTimeFormat\":\"\",\"fLabels\":null,\"fModLabs\":null},\"fYaxis\":{\"_typename\":\"TAxis\",\"fUniqueID\":0,\"fBits\":0,\"fName\":\"yaxis\",\"fTitle\":\" Events \\/ bin\",\"fNdivisions\":510,\"fAxisColor\":1,\"fLabelColor\":1,\"fLabelFont\":42,\"fLabelOffset\":0.005,\"fLabelSize\":0.035,\"fTickLength\":0.03,\"fTitleOffset\":0,\"fTitleSize\":0.035,\"fTitleColor\":1,\"fTitleFont\":42,\"fNbins\":1,\"fXmin\":0,\"fXmax\":1,\"fXbins\":[],\"fFirst\":0,\"fLast\":0,\"fBits2\":0,\"fTimeDisplay\":false,\"fTimeFormat\":\"\",\"fLabels\":null,\"fModLabs\":null},\"fZaxis\":{\"_typename\":\"TAxis\",\"fUniqueID\":0,\"fBits\":0,\"fName\":\"zaxis\",\"fTitle\":\"\",\"fNdivisions\":510,\"fAxisColor\":1,\"fLabelColor\":1,\"fLabelFont\":42,\"fLabelOffset\":0.005,\"fLabelSize\":0.035,\"fTickLength\":0.03,\"fTitleOffset\":1,\"fTitleSize\":0.035,\"fTitleColor\":1,\"fTitleFont\":42,\"fNbins\":1,\"fXmin\":0,\"fXmax\":1,\"fXbins\":[],\"fFirst\":0,\"fLast\":0,\"fBits2\":0,\"fTimeDisplay\":false,\"fTimeFormat\":\"\",\"fLabels\":null,\"fModLabs\":null},\"fBarOffset\":0,\"fBarWidth\":1000,\"fEntries\":550057,\"fTsumw\":212877,\"fTsumw2\":212877,\"fTsumwx\":26781484.955864,\"fTsumwx2\":3416403513.791,\"fMaximum\":-1111,\"fMinimum\":-1111,\"fNormFactor\":0,\"fContour\":[],\"fSumw2\":[],\"fOption\":\"\",\"fFunctions\":{\"_typename\":\"TList\",\"name\":\"TList\",\"arr\":[{\"_typename\":\"TF1\",\"fUniqueID\":0,\"fBits\":1024,\"fName\":\"sigPlusBkg\",\"fTitle\":\"gaus(0) + pol4(3)\",\"fLineColor\":632,\"fLineStyle\":1,\"fLineWidth\":2,\"fFillColor\":19,\"fFillStyle\":0,\"fMarkerColor\":1,\"fMarkerStyle\":1,\"fMarkerSize\":1,\"fXmin\":105,\"fXmax\":160,\"fNpar\":8,\"fNdim\":1,\"fNpx\":100,\"fType\":0,\"fNpfits\":30,\"fNDF\":22,\"fChisquare\":43.9550219368588,\"fMinimum\":-1111,\"fMaximum\":-1111,\"fParErrors\":{\"$arr\":\"Float64\",\"len\":8,\"v\":[187.448366573123,3.75696523191378,4.76836465968787,138.561244543403,1.04154187302967,0.00708911159691741,4.49853849535022e-5,2.55710041373196e-7]},\"fParMin\":{\"$arr\":\"Float64\",\"len\":8},\"fParMax\":{\"$arr\":\"Float64\",\"len\":8},\"fSave\":{\"$arr\":\"Float64\",\"len\":103,\"v\":[13148.2871577004,12999.2800922368,12850.814248812,12702.90118327,12555.5525111843,12408.7799078576,12262.5951083219,12117.0099073383,11972.036159397,11827.685778717,11683.9707392465,11540.9030746621,11398.4948783695,11256.7583035028,11115.7055629247,10975.3489292263,10835.7007347271,10696.773371475,10558.5792912459,10421.131005544,10284.4410856015,10148.5221623784,10013.3869265626,9879.04812857,9745.51857854392,9612.81114635542,9480.93876160307,9349.91441361285,9219.75115143809,9090.46208385943,8962.06037938467,8834.55926624872,8707.97203241347,8582.3120255678,8457.5926531274,8333.82738223473,8211.02973975893,8089.21331229575,7968.39174616745,7848.57874742268,7729.78808183651,7612.0335749102,7495.32911187123,7379.68863767316,7265.12615699556,7151.65573424393,7039.29149354962,6928.04761876976,6817.93835348712,6708.97800101008,6601.18092437255,6494.56154633384,6389.13434937863,6284.91387571687,6181.91472728367,6080.15156573925,5979.63911246883,5880.39214858262,5782.42551491561,5685.75411202758,5590.39290020305,5496.35689945108,5403.66118950527,5312.32090982369,5222.35125958872,5133.76749770706,5046.5849428096,4960.81897325131,4876.48502711124,4793.59860219235,4712.1752560215,4632.2306058493,4553.78032865013,4476.84016112193,4401.42589968621,4327.55340048794,4255.2385793955,4184.49741200051,4115.34593361789,4047.80023928562,3981.87648376479,3917.59088153944,3854.95970681654,3793.99929352587,3734.7260353199,3677.15638557379,3621.30685738532,3567.1940235747,3514.83451668458,3464.24502897994,3415.44231244804,3368.44317879829,3323.2644994622,3279.92320559334,3238.43628806714,3198.82079748094,3161.09384415385,3125.27259812669,3091.37428916189,3059.41620674341,3029.41570007668,105,160]},\"fNormalized\":false,\"fNormIntegral\":0,\"fFormula\":{\"_typename\":\"TFormula\",\"fUniqueID\":0,\"fBits\":1024,\"fName\":\"sigPlusBkg\",\"fTitle\":\"gaus(0) + pol4(3)\",\"fClingParameters\":{\"$arr\":\"Float64\",\"len\":8,\"v\":[43117.0560338546,-401.897619216234,673.054508116361,5231.93470228622,-169.305877680347,-0.91773048380875,3.06970127754867e-5,2.71979369162913e-5]},\"fAllParametersSetted\":true,\"fParams\":[{\"$pair\":\"pair<TString,int,TFormulaParamOrder>\",\"first\":\"p0\",\"second\":0},{\"$pair\":\"pair<TString,int,TFormulaParamOrder>\",\"first\":\"p1\",\"second\":1},{\"$pair\":\"pair<TString,int,TFormulaParamOrder>\",\"first\":\"p2\",\"second\":2},{\"$pair\":\"pair<TString,int,TFormulaParamOrder>\",\"first\":\"p3\",\"second\":3},{\"$pair\":\"pair<TString,int,TFormulaParamOrder>\",\"first\":\"p4\",\"second\":4},{\"$pair\":\"pair<TString,int,TFormulaParamOrder>\",\"first\":\"p5\",\"second\":5},{\"$pair\":\"pair<TString,int,TFormulaParamOrder>\",\"first\":\"p6\",\"second\":6},{\"$pair\":\"pair<TString,int,TFormulaParamOrder>\",\"first\":\"p7\",\"second\":7}],\"fFormula\":\"[p0]*exp(-0.5*((x-[p1])\\/[p2])*((x-[p1])\\/[p2]))+([p3]+[p4]*x+[p5]*TMath::Sq(x)+[p6]*pow(x,3)+[p7]*pow(x,4))\",\"fNdim\":1,\"fNumber\":0,\"fLinearParts\":[],\"fVectorized\":false},\"fParams\":null,\"fComposition\":null},{\"_typename\":\"TF1\",\"fUniqueID\":0,\"fBits\":1024,\"fName\":\"bkgOnly\",\"fTitle\":\"pol4\",\"fLineColor\":632,\"fLineStyle\":2,\"fLineWidth\":2,\"fFillColor\":19,\"fFillStyle\":0,\"fMarkerColor\":1,\"fMarkerStyle\":1,\"fMarkerSize\":1,\"fXmin\":105,\"fXmax\":160,\"fNpar\":5,\"fNdim\":1,\"fNpx\":100,\"fType\":0,\"fNpfits\":30,\"fNDF\":25,\"fChisquare\":41.9977964667123,\"fMinimum\":-1111,\"fMaximum\":-1111,\"fParErrors\":[105867.844728524,3216.2222635676,36.4356173287254,0.182451668646512,3.4079307247485e-4],\"fParMin\":[0,0,0,0,0],\"fParMax\":[0,0,0,0,0],\"fSave\":{\"$arr\":\"Float64\",\"len\":103,\"v\":[13058.0472891781,12923.9298066213,12789.1427119312,12653.751070032,12517.8189597189,12381.4094736577,12244.5847183851,12107.405814309,11969.9328957075,11832.2251107299,11694.3406213968,11556.3366035987,11418.2692470975,11280.1937555264,11142.1643463884,11004.2342510581,10866.4557147807,10728.8799966723,10591.5573697198,10454.5371207811,10317.8675505846,10181.59597373,10045.7687186877,9910.4311277985,9775.62755727484,9641.40137719925,9507.79497152564,9374.84973807854,9242.60608855332,9111.10344851633,8980.38025740454,8850.47396852609,8721.4210490597,8593.25698005504,8466.01625643251,8339.73238698363,8214.43789437031,8090.16431512607,7966.94219965427,7844.80111222998,7723.76963099859,7603.87534797691,7485.14486905199,7367.60381398168,7251.27681639555,7136.18752379273,7022.35859754459,6909.81171289209,6798.56755894821,6688.64583869555,6580.06526898858,6472.84358055185,6366.99751798151,6262.54283974413,6159.49431817702,6057.86573948839,5957.6699037576,5858.91862493445,5761.6227308402,5665.79206316595,5571.43547747497,5478.5608431999,5387.17504364575,5297.28397598697,5208.89255126967,5122.00469441092,5036.62334419822,4952.75045328963,4870.38698821483,4789.53292937428,4710.18727103865,4632.34802134975,4556.01220232082,4481.17584983457,4407.83401364606,4335.98075738052,4265.60915853415,4196.71130847323,4129.27831243642,4063.30028953205,3998.76637273925,3935.66470890908,3873.98245876218,3813.70579689095,3754.81991175807,3697.30900569723,3641.15629491312,3586.34400948169,3532.85339334834,3480.66470433061,3429.7572141166,3380.10920826526,3331.69798620592,3284.49986123905,3238.49016053637,3193.64322513982,3149.93240996287,3107.33008378901,3065.80762927321,3025.33544294123,2985.88293518929,105,160]},\"fNormalized\":false,\"fNormIntegral\":0,\"fFormula\":{\"_typename\":\"TFormula\",\"fUniqueID\":0,\"fBits\":66560,\"fName\":\"bkgOnly\",\"fTitle\":\"pol4\",\"fClingParameters\":[-106558.015850711,4296.14577449261,-51.9170713323869,0.255251828581116,-4.49026319720554e-4],\"fAllParametersSetted\":true,\"fParams\":[{\"$pair\":\"pair<TString,int,TFormulaParamOrder>\",\"first\":\"p0\",\"second\":0},{\"$pair\":\"pair<TString,int,TFormulaParamOrder>\",\"first\":\"p1\",\"second\":1},{\"$pair\":\"pair<TString,int,TFormulaParamOrder>\",\"first\":\"p2\",\"second\":2},{\"$pair\":\"pair<TString,int,TFormulaParamOrder>\",\"first\":\"p3\",\"second\":3},{\"$pair\":\"pair<TString,int,TFormulaParamOrder>\",\"first\":\"p4\",\"second\":4}],\"fFormula\":\"([p0]+[p1]*x+[p2]*TMath::Sq(x)+[p3]*pow(x,3)+[p4]*pow(x,4))\",\"fNdim\":1,\"fNumber\":304,\"fLinearParts\":[],\"fVectorized\":false},\"fParams\":null,\"fComposition\":null}],\"opt\":[\"\",\"\"]},\"fBufferSize\":0,\"fBuffer\":[],\"fBinStatErrOpt\":0,\"fStatOverflows\":2,\"fArray\":{\"$arr\":\"Float32\",\"len\":32,\"v\":[259869,12952,12372,11894,11350,11094,10386,10071,9509,9131,8839,8692,8151,7451,7176,6598,6352,6088,5624,5350,5175,4832,4536,4440,4111,3881,3745,3508,3350,3156,3063,77311]}}},{\"_typename\":\"TWebSnapshot\",\"fUniqueID\":0,\"fBits\":0,\"fObjectID\":\"\",\"fOption\":\"same;prefer_saved\",\"fKind\":1,\"fSnapshot\":{\"_typename\":\"TF1\",\"fUniqueID\":0,\"fBits\":8,\"fName\":\"sigPlusBkg\",\"fTitle\":\"gaus(0) + pol4(3)\",\"fLineColor\":632,\"fLineStyle\":1,\"fLineWidth\":2,\"fFillColor\":19,\"fFillStyle\":0,\"fMarkerColor\":1,\"fMarkerStyle\":1,\"fMarkerSize\":1,\"fXmin\":105,\"fXmax\":160,\"fNpar\":8,\"fNdim\":1,\"fNpx\":100,\"fType\":0,\"fNpfits\":30,\"fNDF\":22,\"fChisquare\":43.9550219368588,\"fMinimum\":-1111,\"fMaximum\":-1111,\"fParErrors\":{\"$arr\":\"Float64\",\"len\":8,\"v\":[187.448366573123,3.75696523191378,4.76836465968787,138.561244543403,1.04154187302967,0.00708911159691741,4.49853849535022e-5,2.55710041373196e-7]},\"fParMin\":{\"$arr\":\"Float64\",\"len\":8},\"fParMax\":{\"$arr\":\"Float64\",\"len\":8},\"fSave\":{\"$arr\":\"Float64\",\"len\":102,\"v\":[13073.7166921208,12924.9787969292,12776.7878942322,12629.1555697386,12482.0934688865,12335.6132968432,12189.7268185054,12044.4458584986,11899.7823011775,11755.7480906257,11612.3552306556,11469.6157848084,11327.5418763539,11186.1456882906,11045.4394633454,10905.4355039737,10766.146172359,10627.5838904134,10489.761139777,10352.6904618177,10216.3844576319,10080.8557880435,9946.11717360433,9812.18139459407,9679.06129101993,9546.76976261671,9415.31976884671,9284.7243288996,9154.99652169236,9026.14948586923,8898.19641980157,8771.1505815878,8645.02528905331,8519.83391975038,8395.58991095812,8272.30675968232,8149.99802265547,8028.67731633654,7908.35831691101,7789.05476029077,7670.78044211398,7553.54921774503,7437.37500227443,7322.27177051877,7208.2535570206,7095.33445604837,6983.52862159628,6872.85026738433,6763.3136668581,6654.93315318872,6547.72311927286,6441.69801773249,6336.87236091494,6233.26072089274,6130.87772946358,6029.7380781502,5929.85651820031,5831.24786058651,5733.92697600623,5637.9087948816,5543.20830735944,5449.84056331106,5357.82067233234,5267.16380374349,5177.88518658907,5090.0001096379,5003.5239213829,4918.47203004109,4834.85990355349,4752.70306958503,4672.01711552445,4592.81768848423,4515.12049530058,4438.94130253321,4364.29593646538,4291.20028310378,4219.6702881784,4149.72195714254,4081.37135517265,4014.63460716827,3949.527897752,3886.06747126933,3824.26963178864,3764.15074310108,3705.7272287205,3649.01557188333,3594.03231554859,3540.79406239776,3489.31747483461,3439.61927498529,3391.71624469816,3345.62522554368,3301.36311881438,3258.94688552478,3218.39354641131,3179.72018193218,3142.94393226735,3108.08199731848,3075.15163670874,3044.17016978287,105.275,159.725]},\"fNormalized\":false,\"fNormIntegral\":0,\"fFormula\":{\"_typename\":\"TFormula\",\"fUniqueID\":0,\"fBits\":1024,\"fName\":\"sigPlusBkg\",\"fTitle\":\"gaus(0) + pol4(3)\",\"fClingParameters\":{\"$arr\":\"Float64\",\"len\":8,\"v\":[43117.0560338546,-401.897619216234,673.054508116361,5231.93470228622,-169.305877680347,-0.91773048380875,3.06970127754867e-5,2.71979369162913e-5]},\"fAllParametersSetted\":true,\"fParams\":[{\"$pair\":\"pair<TString,int,TFormulaParamOrder>\",\"first\":\"p0\",\"second\":0},{\"$pair\":\"pair<TString,int,TFormulaParamOrder>\",\"first\":\"p1\",\"second\":1},{\"$pair\":\"pair<TString,int,TFormulaParamOrder>\",\"first\":\"p2\",\"second\":2},{\"$pair\":\"pair<TString,int,TFormulaParamOrder>\",\"first\":\"p3\",\"second\":3},{\"$pair\":\"pair<TString,int,TFormulaParamOrder>\",\"first\":\"p4\",\"second\":4},{\"$pair\":\"pair<TString,int,TFormulaParamOrder>\",\"first\":\"p5\",\"second\":5},{\"$pair\":\"pair<TString,int,TFormulaParamOrder>\",\"first\":\"p6\",\"second\":6},{\"$pair\":\"pair<TString,int,TFormulaParamOrder>\",\"first\":\"p7\",\"second\":7}],\"fFormula\":\"[p0]*exp(-0.5*((x-[p1])\\/[p2])*((x-[p1])\\/[p2]))+([p3]+[p4]*x+[p5]*TMath::Sq(x)+[p6]*pow(x,3)+[p7]*pow(x,4))\",\"fNdim\":1,\"fNumber\":0,\"fLinearParts\":[],\"fVectorized\":false},\"fParams\":null,\"fComposition\":null}},{\"_typename\":\"TWebSnapshot\",\"fUniqueID\":0,\"fBits\":0,\"fObjectID\":\"\",\"fOption\":\"same;prefer_saved\",\"fKind\":1,\"fSnapshot\":{\"_typename\":\"TF1\",\"fUniqueID\":0,\"fBits\":8,\"fName\":\"bkgOnly\",\"fTitle\":\"pol4\",\"fLineColor\":632,\"fLineStyle\":2,\"fLineWidth\":2,\"fFillColor\":19,\"fFillStyle\":0,\"fMarkerColor\":1,\"fMarkerStyle\":1,\"fMarkerSize\":1,\"fXmin\":105,\"fXmax\":160,\"fNpar\":5,\"fNdim\":1,\"fNpx\":100,\"fType\":0,\"fNpfits\":30,\"fNDF\":25,\"fChisquare\":41.9977964667123,\"fMinimum\":-1111,\"fMaximum\":-1111,\"fParErrors\":[105867.844728524,3216.2222635676,36.4356173287254,0.182451668646512,3.4079307247485e-4],\"fParMin\":[0,0,0,0,0],\"fParMax\":[0,0,0,0,0],\"fSave\":{\"$arr\":\"Float64\",\"len\":102,\"v\":[12991.0763544948,12856.6158711227,12721.5184313457,12585.8486070233,12449.6699838859,12313.0451615349,12176.0357534426,12038.702386952,11901.104703277,11763.3013575022,11625.3500185832,11487.3073693465,11349.2291064894,11211.16994058,11073.1835960571,10935.3228112306,10797.6393382813,10660.1839432604,10523.0064060908,10386.1555205653,10249.6790943478,10113.6239489736,9978.03591984823,9842.9598562483,9708.43962132157,9574.5180920858,9441.23715943037,9308.63772811535,9176.75971677166,9045.64205790071,8915.32269787519,8785.83859693831,8657.22572920471,8529.5190826591,8402.75265915754,8276.95947442677,8152.17155806432,8028.41995353895,7905.7347181896,7784.14492322672,7663.67865373121,7544.36300865501,7426.22410082079,7309.28705692201,7193.57601752314,7079.11413705941,6965.92358383679,6854.0255400328,6743.44020169464,6634.18677874107,6526.28349496171,6419.74758801694,6314.59530943775,6210.84192462638,6108.50171285539,6007.58796726892,5908.11299488158,5810.08811657815,5713.5236671154,5618.42899512066,5524.81246309157,5432.68144739699,5342.04233827666,5252.90053984098,5165.26047007134,5079.12556082016,4994.49825781037,4911.38002063561,4829.77132276096,4749.6716515219,4671.07950812517,4593.99240764754,4518.40687903785,4444.31846511425,4371.72172256734,4300.61022195715,4230.97654771557,4162.81229814517,4096.10808541902,4030.85353558103,3967.03728854639,3904.64699810077,3843.66933190075,3784.08997147402,3725.89361221841,3669.06396340358,3613.58374816959,3559.4347035267,3506.59758035705,3455.0521434136,3404.77717131874,3355.75045656782,3307.94880552514,3261.34803842712,3215.92298938037,3171.6475063627,3128.49445122224,3086.43569967867,3045.44214132224,3005.48367961362,105.275,159.725]},\"fNormalized\":false,\"fNormIntegral\":0,\"fFormula\":{\"_typename\":\"TFormula\",\"fUniqueID\":0,\"fBits\":66560,\"fName\":\"bkgOnly\",\"fTitle\":\"pol4\",\"fClingParameters\":[-106558.015850711,4296.14577449261,-51.9170713323869,0.255251828581116,-4.49026319720554e-4],\"fAllParametersSetted\":true,\"fParams\":[{\"$pair\":\"pair<TString,int,TFormulaParamOrder>\",\"first\":\"p0\",\"second\":0},{\"$pair\":\"pair<TString,int,TFormulaParamOrder>\",\"first\":\"p1\",\"second\":1},{\"$pair\":\"pair<TString,int,TFormulaParamOrder>\",\"first\":\"p2\",\"second\":2},{\"$pair\":\"pair<TString,int,TFormulaParamOrder>\",\"first\":\"p3\",\"second\":3},{\"$pair\":\"pair<TString,int,TFormulaParamOrder>\",\"first\":\"p4\",\"second\":4}],\"fFormula\":\"([p0]+[p1]*x+[p2]*TMath::Sq(x)+[p3]*pow(x,3)+[p4]*pow(x,4))\",\"fNdim\":1,\"fNumber\":304,\"fLinearParts\":[],\"fVectorized\":false},\"fParams\":null,\"fComposition\":null}},{\"_typename\":\"TWebSnapshot\",\"fUniqueID\":0,\"fBits\":0,\"fObjectID\":\"\",\"fOption\":\"\",\"fKind\":1,\"fSnapshot\":{\"_typename\":\"TLegend\",\"fUniqueID\":0,\"fBits\":8,\"fLineColor\":1,\"fLineStyle\":1,\"fLineWidth\":1,\"fFillColor\":0,\"fFillStyle\":1001,\"fX1\":135.937500051223,\"fY1\":10513.5510123771,\"fX2\":160.000000409782,\"fY2\":12977.7980740084,\"fX1NDC\":0.55,\"fY1NDC\":0.65,\"fX2NDC\":0.9,\"fY2NDC\":0.85,\"fBorderSize\":1,\"fInit\":1,\"fShadowColor\":1,\"fCornerRadius\":0,\"fOption\":\"brNDC\",\"fName\":\"TPave\",\"fTextAngle\":0,\"fTextSize\":0,\"fTextAlign\":12,\"fTextColor\":1,\"fTextFont\":42,\"fPrimitives\":{\"_typename\":\"TList\",\"name\":\"TList\",\"arr\":[{\"_typename\":\"TLegendEntry\",\"fUniqueID\":0,\"fBits\":0,\"fTextAngle\":0,\"fTextSize\":0,\"fTextAlign\":0,\"fTextColor\":0,\"fTextFont\":42,\"fLineColor\":1,\"fLineStyle\":1,\"fLineWidth\":1,\"fFillColor\":0,\"fFillStyle\":0,\"fMarkerColor\":1,\"fMarkerStyle\":20,\"fMarkerSize\":0.8,\"fObject\":{\"$ref\":19},\"fLabel\":\"Data\",\"fOption\":\"lep\"},{\"_typename\":\"TLegendEntry\",\"fUniqueID\":0,\"fBits\":0,\"fTextAngle\":0,\"fTextSize\":0,\"fTextAlign\":0,\"fTextColor\":0,\"fTextFont\":42,\"fLineColor\":632,\"fLineStyle\":1,\"fLineWidth\":2,\"fFillColor\":0,\"fFillStyle\":0,\"fMarkerColor\":1,\"fMarkerStyle\":21,\"fMarkerSize\":1,\"fObject\":{\"$ref\":29},\"fLabel\":\"Sig+Bkg Fit (m_H = 125 GeV)\",\"fOption\":\"l\"},{\"_typename\":\"TLegendEntry\",\"fUniqueID\":0,\"fBits\":0,\"fTextAngle\":0,\"fTextSize\":0,\"fTextAlign\":0,\"fTextColor\":0,\"fTextFont\":42,\"fLineColor\":632,\"fLineStyle\":2,\"fLineWidth\":2,\"fFillColor\":0,\"fFillStyle\":0,\"fMarkerColor\":1,\"fMarkerStyle\":21,\"fMarkerSize\":1,\"fObject\":{\"$ref\":32},\"fLabel\":\"Bkg (4th order polynomial)\",\"fOption\":\"l\"}],\"opt\":[\"lep\",\"l\",\"l\"]},\"fEntrySeparation\":0.1,\"fMargin\":0.25,\"fNColumns\":1,\"fColumnSeparation\":0}},{\"_typename\":\"TWebSnapshot\",\"fUniqueID\":0,\"fBits\":0,\"fObjectID\":\"\",\"fOption\":\"\",\"fKind\":1,\"fSnapshot\":{\"_typename\":\"TLatex\",\"fUniqueID\":0,\"fBits\":16393,\"fName\":\"\",\"fTitle\":\"ATLAS Open Data\",\"fTextAngle\":0,\"fTextSize\":0.04,\"fTextAlign\":11,\"fTextColor\":1,\"fTextFont\":62,\"fX\":0.2,\"fY\":0.85,\"fLineColor\":1,\"fLineStyle\":1,\"fLineWidth\":2,\"fLimitFactorSize\":3,\"fOriginSize\":0.04}},{\"_typename\":\"TWebSnapshot\",\"fUniqueID\":0,\"fBits\":0,\"fObjectID\":\"\",\"fOption\":\"\",\"fKind\":1,\"fSnapshot\":{\"_typename\":\"TLatex\",\"fUniqueID\":0,\"fBits\":16393,\"fName\":\"\",\"fTitle\":\"#sqrt{s}=13 TeV, #intLdt = 36 fb^{-1}\",\"fTextAngle\":0,\"fTextSize\":0.04,\"fTextAlign\":11,\"fTextColor\":1,\"fTextFont\":62,\"fX\":0.2,\"fY\":0.8,\"fLineColor\":1,\"fLineStyle\":1,\"fLineWidth\":2,\"fLimitFactorSize\":3,\"fOriginSize\":0.04}},{\"_typename\":\"TWebSnapshot\",\"fUniqueID\":0,\"fBits\":0,\"fObjectID\":\"\",\"fOption\":\"\",\"fKind\":1,\"fSnapshot\":{\"_typename\":\"TLatex\",\"fUniqueID\":0,\"fBits\":16393,\"fName\":\"\",\"fTitle\":\"H #rightarrow #gamma#gamma\",\"fTextAngle\":0,\"fTextSize\":0.04,\"fTextAlign\":11,\"fTextColor\":1,\"fTextFont\":62,\"fX\":0.2,\"fY\":0.75,\"fLineColor\":1,\"fLineStyle\":1,\"fLineWidth\":2,\"fLimitFactorSize\":3,\"fOriginSize\":0.04}},{\"_typename\":\"TWebSnapshot\",\"fUniqueID\":0,\"fBits\":0,\"fObjectID\":\"\",\"fOption\":\"blNDC\",\"fKind\":1,\"fSnapshot\":{\"_typename\":\"TPaveText\",\"fUniqueID\":0,\"fBits\":9,\"fLineColor\":1,\"fLineStyle\":1,\"fLineWidth\":1,\"fFillColor\":0,\"fFillStyle\":0,\"fX1\":122.18289605162,\"fY1\":13988.9148903915,\"fX2\":142.81710394838,\"fY2\":14764.3772524434,\"fX1NDC\":0.349933035714286,\"fY1NDC\":0.932062941831309,\"fX2NDC\":0.650066964285714,\"fY2NDC\":0.995000004768372,\"fBorderSize\":0,\"fInit\":1,\"fShadowColor\":1,\"fCornerRadius\":0,\"fOption\":\"blNDC\",\"fName\":\"title\",\"fTextAngle\":0,\"fTextSize\":0,\"fTextAlign\":22,\"fTextColor\":1,\"fTextFont\":42,\"fLabel\":\"\",\"fLongest\":24,\"fMargin\":0.05,\"fLines\":{\"_typename\":\"TList\",\"name\":\"TList\",\"arr\":[{\"_typename\":\"TLatex\",\"fUniqueID\":0,\"fBits\":0,\"fName\":\"\",\"fTitle\":\"Diphoton invariant-mass \",\"fTextAngle\":0,\"fTextSize\":0,\"fTextAlign\":0,\"fTextColor\":0,\"fTextFont\":0,\"fX\":0,\"fY\":0,\"fLineColor\":1,\"fLineStyle\":1,\"fLineWidth\":2,\"fLimitFactorSize\":3,\"fOriginSize\":0.0534965023398399}],\"opt\":[\"\"]}}}]},{\"_typename\":\"TPadWebSnapshot\",\"fUniqueID\":0,\"fBits\":0,\"fObjectID\":\"\",\"fOption\":\"\",\"fKind\":3,\"fSnapshot\":{\"_typename\":\"TPad\",\"fUniqueID\":0,\"fBits\":9,\"fLineColor\":1,\"fLineStyle\":1,\"fLineWidth\":1,\"fFillColor\":0,\"fFillStyle\":1001,\"fLeftMargin\":0.1,\"fRightMargin\":0.1,\"fBottomMargin\":0.3,\"fTopMargin\":0,\"fXfile\":2,\"fYfile\":2,\"fAfile\":1,\"fXstat\":0.99,\"fYstat\":0.99,\"fAstat\":2,\"fFrameFillColor\":0,\"fFrameLineColor\":1,\"fFrameFillStyle\":1001,\"fFrameLineStyle\":1,\"fFrameLineWidth\":1,\"fFrameBorderSize\":1,\"fFrameBorderMode\":0,\"fX1\":98.1249994877726,\"fY1\":-2247.72866403706,\"fX2\":166.875000512227,\"fY2\":13593.8597935161,\"fXtoAbsPixelk\":-1278.8363379045,\"fXtoPixelk\":-1278.8363379045,\"fXtoPixel\":13.0327270785245,\"fYtoAbsPixelk\":523.110039822172,\"fYtoPixelk\":122.710039822172,\"fYtoPixel\":-0.00902687255025987,\"fUtoAbsPixelk\":0,\"fUtoPixelk\":0,\"fUtoPixel\":896,\"fVtoAbsPixelk\":543.4,\"fVtoPixelk\":143,\"fVtoPixel\":-143,\"fAbsPixeltoXk\":98.1249994877726,\"fPixeltoXk\":98.1249994877726,\"fPixeltoX\":0.0767299118576505,\"fAbsPixeltoYk\":57950.3074746648,\"fPixeltoYk\":-2247.72866403706,\"fPixeltoY\":-110.780338864008,\"fXlowNDC\":0,\"fYlowNDC\":0.05,\"fXUpNDC\":1,\"fYUpNDC\":0.3,\"fWNDC\":1,\"fHNDC\":0.25,\"fAbsXlowNDC\":0,\"fAbsYlowNDC\":0.05,\"fAbsWNDC\":1,\"fAbsHNDC\":0.25,\"fUxmin\":105,\"fUymin\":2504.74806207533,\"fUxmax\":160,\"fUymax\":13593.8597935161,\"fTheta\":30,\"fPhi\":30,\"fAspectRatio\":0,\"fNumber\":0,\"fTickx\":0,\"fTicky\":0,\"fLogx\":0,\"fLogy\":0,\"fLogz\":0,\"fPadPaint\":0,\"fCrosshair\":0,\"fCrosshairPos\":0,\"fBorderSize\":2,\"fBorderMode\":0,\"fModified\":false,\"fGridx\":false,\"fGridy\":false,\"fAbsCoord\":false,\"fEditable\":true,\"fFixedAspectRatio\":false,\"fPrimitives\":{\"_typename\":\"TList\",\"name\":\"TList\",\"arr\":[],\"opt\":[]},\"fExecs\":{\"_typename\":\"TList\",\"name\":\"TList\",\"arr\":[],\"opt\":[]},\"fName\":\"residPad\",\"fTitle\":\"residPad\",\"fNumPaletteColor\":0,\"fNextPaletteColor\":0},\"fActive\":false,\"fReadOnly\":true,\"fWithoutPrimitives\":false,\"fHasExecs\":true,\"fPrimitives\":[{\"_typename\":\"TWebSnapshot\",\"fUniqueID\":0,\"fBits\":0,\"fObjectID\":\"\",\"fOption\":\"\",\"fKind\":1,\"fSnapshot\":{\"_typename\":\"TFrame\",\"fUniqueID\":0,\"fBits\":8,\"fLineColor\":1,\"fLineStyle\":1,\"fLineWidth\":1,\"fFillColor\":0,\"fFillStyle\":1001,\"fX1\":105,\"fY1\":2504.74806207533,\"fX2\":160,\"fY2\":13593.8597935161,\"fBorderSize\":1,\"fBorderMode\":0}},{\"_typename\":\"TWebSnapshot\",\"fUniqueID\":0,\"fBits\":0,\"fObjectID\":\"\",\"fOption\":\"E3\",\"fKind\":1,\"fSnapshot\":{\"$ref\":19}},{\"_typename\":\"TWebSnapshot\",\"fUniqueID\":0,\"fBits\":0,\"fObjectID\":\"\",\"fOption\":\"blNDC\",\"fKind\":1,\"fSnapshot\":{\"_typename\":\"TPaveText\",\"fUniqueID\":0,\"fBits\":9,\"fLineColor\":1,\"fLineStyle\":1,\"fLineWidth\":1,\"fFillColor\":0,\"fFillStyle\":0,\"fX1\":128.628208647663,\"fY1\":12451.1606736724,\"fX2\":136.371791352337,\"fY2\":13514.6519267669,\"fX1NDC\":0.443683035714286,\"fY1NDC\":0.927867137635505,\"fX2NDC\":0.556316964285714,\"fY2NDC\":0.995000004768372,\"fBorderSize\":0,\"fInit\":1,\"fShadowColor\":1,\"fCornerRadius\":0,\"fOption\":\"blNDC\",\"fName\":\"title\",\"fTextAngle\":0,\"fTextSize\":0,\"fTextAlign\":22,\"fTextColor\":1,\"fTextFont\":42,\"fLabel\":\"\",\"fLongest\":24,\"fMargin\":0.05,\"fLines\":{\"_typename\":\"TList\",\"name\":\"TList\",\"arr\":[{\"_typename\":\"TLatex\",\"fUniqueID\":0,\"fBits\":0,\"fName\":\"\",\"fTitle\":\"Diphoton invariant-mass \",\"fTextAngle\":0,\"fTextSize\":0,\"fTextAlign\":0,\"fTextColor\":0,\"fTextFont\":0,\"fX\":0,\"fY\":0,\"fLineColor\":1,\"fLineStyle\":1,\"fLineWidth\":2,\"fLimitFactorSize\":3,\"fOriginSize\":0.0570629388093948}],\"opt\":[\"\"]}}}]}],\"fScripts\":\"\",\"fHighlightConnect\":false,\"fFixedSize\":false});\n",
       "   Core.settings.HandleKeys = false;\n",
       "   Core.draw(\"root_plot_1756870654540\", obj, \"\");\n",
       "}\n",
       "\n",
       "function script_load_root_plot_1756870654540(src, on_error) {\n",
       "    let script = document.createElement('script');\n",
       "    script.src = src;\n",
       "    script.onload = function() { display_root_plot_1756870654540(JSROOT); };\n",
       "    script.onerror = function() { script.remove(); on_error(); };\n",
       "    document.head.appendChild(script);\n",
       "}\n",
       "\n",
       "if (typeof requirejs !== 'undefined') {\n",
       "\n",
       "    // We are in jupyter notebooks, use require.js which should be configured already\n",
       "    requirejs.config({\n",
       "       paths: { 'JSRootCore' : [ 'build/jsroot', 'https://root.cern/js/7.7.4/build/jsroot', 'https://jsroot.gsi.de/7.7.4/build/jsroot' ] }\n",
       "    })(['JSRootCore'],  function(Core) {\n",
       "       display_root_plot_1756870654540(Core);\n",
       "    });\n",
       "\n",
       "} else if (typeof JSROOT !== 'undefined') {\n",
       "\n",
       "   // JSROOT already loaded, just use it\n",
       "   display_root_plot_1756870654540(JSROOT);\n",
       "\n",
       "} else {\n",
       "\n",
       "    // We are in jupyterlab without require.js, directly loading jsroot\n",
       "    // Jupyterlab might be installed in a different base_url so we need to know it.\n",
       "    try {\n",
       "        var base_url = JSON.parse(document.getElementById('jupyter-config-data').innerHTML).baseUrl;\n",
       "    } catch(_) {\n",
       "        var base_url = '/';\n",
       "    }\n",
       "\n",
       "    // Try loading a local version of requirejs and fallback to cdn if not possible.\n",
       "    script_load_root_plot_1756870654540(base_url + 'static/build/jsroot.js', function(){\n",
       "        console.error('Fail to load JSROOT locally, please check your jupyter_notebook_config.py file');\n",
       "        script_load_root_plot_1756870654540('https://root.cern/js/7.7.4/build/jsroot.js', function(){\n",
       "            document.getElementById(\"root_plot_1756870654540\").innerHTML = \"Failed to load JSROOT\";\n",
       "        });\n",
       "    });\n",
       "}\n",
       "\n",
       "</script>\n"
      ],
      "text/plain": [
       "<IPython.core.display.HTML object>"
      ]
     },
     "metadata": {},
     "output_type": "display_data"
    }
   ],
   "source": [
    "h_M_Hyy->Draw(\"E3\");\n",
    "cz->SetLogy();\n",
    "cz->Draw();"
   ]
  },
  {
   "cell_type": "markdown",
   "metadata": {},
   "source": [
    "**Done!**"
   ]
  }
 ],
 "metadata": {
  "@webio": {
   "lastCommId": null,
   "lastKernelId": null
  },
  "kernelspec": {
   "display_name": "ROOT C++",
   "language": "c++",
   "name": "root"
  },
  "language_info": {
   "codemirror_mode": "text/x-c++src",
   "file_extension": ".C",
   "mimetype": " text/x-c++src",
   "name": "c++"
  }
 },
 "nbformat": 4,
 "nbformat_minor": 4
}
