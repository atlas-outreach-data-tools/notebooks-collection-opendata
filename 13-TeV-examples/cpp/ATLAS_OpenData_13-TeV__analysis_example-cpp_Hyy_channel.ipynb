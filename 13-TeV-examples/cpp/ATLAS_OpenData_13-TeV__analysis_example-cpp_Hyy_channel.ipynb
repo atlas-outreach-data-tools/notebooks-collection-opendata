{
 "cells": [
  {
   "cell_type": "markdown",
   "metadata": {},
   "source": [
    "<CENTER>\n",
    "    <a href=\"http://opendata.atlas.cern/release/2020/documentation/notebooks/intro.html\" class=\"icons\"><img src=\"../../images/ATLASOD.gif\" style=\"width:40%\"></a>\n",
    "</CENTER>"
   ]
  },
  {
   "cell_type": "markdown",
   "metadata": {},
   "source": [
    "<CENTER><h1>Searching for the Higgs boson in the H&#8594;&gamma;&gamma; channel (using C++) </h1></CENTER>\n",
    "\n",
    "## C++ notebook example"
   ]
  },
  {
   "cell_type": "markdown",
   "metadata": {},
   "source": [
    "\n",
    "**Introduction**\n",
    "Let's take a current ATLAS Open Data sample and create a histogram:"
   ]
  },
  {
   "cell_type": "markdown",
   "metadata": {},
   "source": [
    "In order to activate the interactive visualisation of the histogram that is later created we can use the JSROOT magic:"
   ]
  },
  {
   "cell_type": "code",
   "execution_count": null,
   "metadata": {},
   "outputs": [],
   "source": [
    "%jsroot on"
   ]
  },
  {
   "cell_type": "markdown",
   "metadata": {},
   "source": [
    "We need to include some standard C++ and ROOT libraries"
   ]
  },
  {
   "cell_type": "code",
   "execution_count": 2,
   "metadata": {},
   "outputs": [],
   "source": [
    "// Creates a TChain to be used by the Analysis.C class\n",
    "#include <TChain.h>\n",
    "#include <vector>\n",
    "#include <TFile.h>\n",
    "#include <iostream>\n",
    "#include <string>\n",
    "#include <stdio.h>\n",
    "#include <chrono>"
   ]
  },
  {
   "cell_type": "markdown",
   "metadata": {},
   "source": [
    "Because we would like to use more than one ROOT input file, the best option is to use a TChain object. This allows to \"chain\" several samples into a single structure that we can later loop over"
   ]
  },
  {
   "cell_type": "code",
   "execution_count": 3,
   "metadata": {
    "scrolled": true
   },
   "outputs": [],
   "source": [
    "//TString path = \"https://opendata.cern.ch/eos/opendata/atlas/rucio/opendata/\";\n",
    "TString path = \"root://eospublic.cern.ch:1094//eos/opendata/atlas/rucio/opendata/\";"
   ]
  },
  {
   "cell_type": "code",
   "execution_count": null,
   "metadata": {},
   "outputs": [],
   "source": [
    "TChain* fChain = new TChain(\"analysis\");\n",
    "\n",
    "TString prefix = \"ODEO_FEB2025_v0\";\n",
    "TString skim = \"GamGam\";\n",
    "\n",
    "vector<TString> samples = { \"data15_periodD\", \"data15_periodE\", \"data15_periodF\", \"data15_periodG\", \n",
    "                            \"data15_periodH\", \"data15_periodJ\", \"data16_periodA\", \"data16_periodB\", \n",
    "                            \"data16_periodC\", \"data16_periodD\", \"data16_periodE\", \"data16_periodF\", \n",
    "                            \"data16_periodG\", \"data16_periodI\", \"data16_periodK\", \"data16_periodL\"\n",
    "                           };\n",
    "\n",
    "cout << samples.size() << endl;\n",
    "\n",
    "// Set the number of samples you want to include in the analysis (16 data samples in total)\n",
    "int max_samples = 16;\n",
    "\n",
    "for(int ii=0; ii<max_samples; ii++){\n",
    "    TString name_sample = samples.at(ii);\n",
    "    TString name_root_file = path+prefix+\"_\"+skim+\"_\"+name_sample+\".\"+skim+\".root\";\n",
    "    cout << name_root_file << endl;\n",
    "    fChain->Add(name_root_file);\n",
    "}\n",
    "\n",
    "int nentries = (Int_t)fChain->GetEntries();\n",
    "cout << \"Number of entries: \" << nentries << endl;"
   ]
  },
  {
   "cell_type": "markdown",
   "metadata": {},
   "source": [
    "Now we're going to extract the photons variables"
   ]
  },
  {
   "cell_type": "code",
   "execution_count": 5,
   "metadata": {},
   "outputs": [],
   "source": [
    "Int_t  photon_n;  //number of preselected photons                                                                                                             \n",
    "\n",
    "ROOT::VecOps::RVec<float> *photon_pt;  //transverse momentum of the photon                                                                                    \n",
    "ROOT::VecOps::RVec<float> *photon_eta;  //pseudorapidity of the photon                                                                                        \n",
    "ROOT::VecOps::RVec<float> *photon_phi;  //azimuthal angle of the photon                                                                                       \n",
    "ROOT::VecOps::RVec<float> *photon_e;  //energy of the photon                                                                                                  \n",
    "ROOT::VecOps::RVec<bool> *photon_isTightID;\n",
    "ROOT::VecOps::RVec<bool> *photon_isTightIso;\n",
    "\n",
    "Bool_t trigP;\n",
    "ROOT::VecOps::RVec<float> *photon_ptcone20;\n",
    "\n",
    "photon_pt = 0;\n",
    "photon_eta = 0;\n",
    "photon_phi = 0;\n",
    "photon_e = 0;\n",
    "photon_isTightID = 0;\n",
    "photon_isTightIso = 0;\n",
    "photon_ptcone20 = 0;"
   ]
  },
  {
   "cell_type": "markdown",
   "metadata": {},
   "source": [
    "Here we're filling the variables defined above with the content of those inside the input ntuples"
   ]
  },
  {
   "cell_type": "code",
   "execution_count": 6,
   "metadata": {},
   "outputs": [],
   "source": [
    "fChain->SetBranchAddress(\"photon_pt\",        &photon_pt);\n",
    "fChain->SetBranchAddress(\"photon_n\",         &photon_n);\n",
    "\n",
    "fChain->SetBranchAddress(\"photon_eta\",       &photon_eta);\n",
    "fChain->SetBranchAddress(\"photon_phi\",       &photon_phi);\n",
    "fChain->SetBranchAddress(\"photon_e\",         &photon_e);\n",
    "fChain->SetBranchAddress(\"photon_isTightID\", &photon_isTightID);\n",
    "fChain->SetBranchAddress(\"photon_isTightIso\", &photon_isTightIso);\n",
    "\n",
    "fChain->SetBranchAddress(\"trigP\",            &trigP);\n",
    "fChain->SetBranchAddress(\"photon_ptcone20\",  &photon_ptcone20);"
   ]
  },
  {
   "cell_type": "markdown",
   "metadata": {},
   "source": [
    "We're creating a histogram for this example. The plan in to fill them with events."
   ]
  },
  {
   "cell_type": "code",
   "execution_count": 7,
   "metadata": {},
   "outputs": [],
   "source": [
    "//Invariant mass histograms definition\n",
    "TH1F *h_M_Hyy = new TH1F(\"h_M_Hyy\",\"Diphoton invariant-mass ; M_{#gamma#gamma} [GeV] ; Events / bin\", 60, 100, 160);"
   ]
  },
  {
   "cell_type": "markdown",
   "metadata": {},
   "source": [
    "We are selecting below a simple look for them."
   ]
  },
  {
   "cell_type": "code",
   "execution_count": 8,
   "metadata": {},
   "outputs": [],
   "source": [
    "h_M_Hyy->SetMarkerSize(2.0);\n",
    "h_M_Hyy->SetLineColor(kBlue);\n",
    "h_M_Hyy->SetFillColor(kBlue-10);"
   ]
  },
  {
   "cell_type": "markdown",
   "metadata": {},
   "source": [
    "The Higgs boson analysis implemented here considers Higgs boson decays into a photon pair. The event selection criteria are (this will take a few minutes):"
   ]
  },
  {
   "cell_type": "code",
   "execution_count": 9,
   "metadata": {},
   "outputs": [
    {
     "name": "stdout",
     "output_type": "stream",
     "text": [
      "Number of events analyzed: 0\n",
      "Number of events analyzed: 10000000\n",
      "Number of events analyzed: 20000000\n",
      "Number of events analyzed: 30000000\n",
      "* Analysed a total of: 36564144 in this sample.\n",
      "* Number of events passing the selection criteria: 550057 in this sample.\n"
     ]
    }
   ],
   "source": [
    "auto start_time = chrono::steady_clock::now(); //Start the clock\n",
    "\n",
    "int nbytes = 0;\n",
    "int accepted_events = 0;\n",
    "for(int i = 0; i < nentries; i++){\n",
    "    nbytes = fChain->GetEntry(i);\n",
    "    \n",
    "    // printing the evolution in number of events\n",
    "    if(i%10000000==0) cout << \"Number of events analyzed: \" << i << endl;\n",
    "            \n",
    "    if(photon_isTightID->at(0)==true && photon_isTightID->at(1)==true){\n",
    "        // Cut: pT cut - photon 1 has pT > 50 GeV and photon 2 has pT > 30 GeV\n",
    "        if(photon_pt->at(0) > 50. && photon_pt->at(1) > 30.){\n",
    "            // Only the events where the calorimeter isolation is less than 5.5% are kept\n",
    "            if(photon_ptcone20->at(0)/photon_pt->at(0) < 0.055 && photon_ptcone20->at(1)/photon_pt->at(1) < 0.055){\n",
    "                // Cut on the pseudorapidity in barrel/end-cap transition region\n",
    "                if((TMath::Abs(photon_eta->at(0)) < 2.37) && \n",
    "                   (TMath::Abs(photon_eta->at(0)) < 1.37 || TMath::Abs(photon_eta->at(0)) > 1.52)){\n",
    "                    if((TMath::Abs(photon_eta->at(1)) < 2.37) && \n",
    "                       (TMath::Abs(photon_eta->at(1)) < 1.37 || TMath::Abs(photon_eta->at(1)) > 1.52)){\n",
    "                        // TLorentzVector definitions\n",
    "                        TLorentzVector Photon_1 = TLorentzVector();\n",
    "                        TLorentzVector Photon_2 = TLorentzVector();\n",
    "\n",
    "                        Photon_1.SetPtEtaPhiE(photon_pt->at(0), photon_eta->at(0), photon_phi->at(0), photon_e->at(0));\n",
    "                        Photon_2.SetPtEtaPhiE(photon_pt->at(1), photon_eta->at(1), photon_phi->at(1), photon_e->at(1));\n",
    "                        \n",
    "                        // Calculation of the Invariant Mass using TLorentz vectors\n",
    "                        TLorentzVector Photon_12 = Photon_1 + Photon_2;\n",
    "                        float inv_mass_Hyy = Photon_12.M();\n",
    "\n",
    "                        // Cut on null diphoton invariant mass\n",
    "                        if(inv_mass_Hyy == 0) continue;\n",
    "                        // Cut on diphoton invariant mass based isolation. Only the events where \n",
    "                        // the invididual photon invariant mass based isolation is larger than 35% are kept\n",
    "                        if((photon_pt->at(0)/inv_mass_Hyy > 0.35) && (photon_pt->at(1)/inv_mass_Hyy > 0.35)){\n",
    "                            // Filling with the mass of the gamma-gamma system\n",
    "                            h_M_Hyy->Fill(inv_mass_Hyy);\n",
    "                            accepted_events+=1;\n",
    "                        }\n",
    "                    }\n",
    "                }\n",
    "            }\n",
    "        }\n",
    "    }\n",
    "}\n",
    "\n",
    "// Final message after analysis\n",
    "std::cout << \"* Analysed a total of: \" << nentries << \" in this sample.\" << std::endl;\n",
    "std::cout << \"* Number of events passing the selection criteria: \" << accepted_events << \" in this sample.\" << std::endl;"
   ]
  },
  {
   "cell_type": "markdown",
   "metadata": {},
   "source": [
    "#### Final plot"
   ]
  },
  {
   "cell_type": "code",
   "execution_count": 10,
   "metadata": {},
   "outputs": [
    {
     "name": "stdout",
     "output_type": "stream",
     "text": [
      "[#1] INFO:Fitting -- RooAbsPdf::fitTo(model) fixing normalization set for coefficient determination to observables in data\n",
      "[#1] INFO:Fitting -- using CPU computation library compiled with -mavx512\n",
      "[#1] INFO:Fitting -- RooAddition::defaultErrorLevel(nll_model_data_myy) Summation contains a RooNLLVar, using its error level\n",
      "[#1] INFO:Minimization -- RooAbsMinimizerFcn::setOptimizeConst: activating const optimization\n",
      "[#1] INFO:Minimization -- RooAbsMinimizerFcn::setOptimizeConst: deactivating const optimization\n",
      "mean: 124.728\n",
      "std deviation: 1.3945\n",
      "polynomic function (using the Chebyshev polynomials basis):\n",
      "-0.73128+0.0992972*T_1(x)+0.0180945*T_2(x)+-0.0119551*T_3(x)+0.00462275*T_4(x)\n"
     ]
    }
   ],
   "source": [
    "//*****************************************************************************************************************\n",
    "// Fitting part\n",
    "//*****************************************************************************************************************\n",
    "\n",
    "using namespace RooFit;\n",
    "\n",
    "// Convert histogram into RooDataHist\n",
    "RooRealVar x(\"m_yy\", \"di-photon invariant mass m_{#gamma#gamma} [GeV]\", 100, 160);\n",
    "RooDataHist data_myy(\"data_myy\", \"data_myy\", RooArgList(x), h_M_Hyy);\n",
    "\n",
    "// --- Define signal model (Gaussian) ---\n",
    "RooRealVar mean(\"mean\", \"mean of gauss\", 125, 120, 130);\n",
    "RooRealVar sigma(\"sigma\", \"width of gauss\", 2.0, 0.5, 5.0);\n",
    "RooGaussian gauss(\"gauss\", \"gaussian PDF\", x, mean, sigma);\n",
    "\n",
    "// --- Define background model (4th order polynomial) ---\n",
    "RooRealVar a0(\"a0\", \"a0\", 0.0, -1, 1);\n",
    "RooRealVar a1(\"a1\", \"a1\", 0.0, -1, 1);\n",
    "RooRealVar a2(\"a2\", \"a2\", 0.0, -1, 1);\n",
    "RooRealVar a3(\"a3\", \"a3\", 0.0, -1, 1);\n",
    "RooRealVar a4(\"a4\", \"a4\", 0.0, -1, 1);\n",
    "RooChebychev bkg(\"bkg\", \"Chebychev background\", x, RooArgList(a0,a1,a2,a3,a4));\n",
    "\n",
    "// --- Define coefficients (yields) ---\n",
    "RooRealVar nsig(\"nsig\", \"signal yield\", h_M_Hyy->Integral()/20., 0., h_M_Hyy->Integral());\n",
    "RooRealVar nbkg(\"nbkg\", \"background yield\", h_M_Hyy->Integral(), 0., h_M_Hyy->Integral());\n",
    "\n",
    "// --- Total model ---\n",
    "RooAddPdf model(\"model\", \"sig + bkg\", RooArgList(gauss, bkg), RooArgList(nsig, nbkg));\n",
    "\n",
    "// --- Perform the fit ---\n",
    "model.fitTo(data_myy, RooFit::Extended(true), RooFit::Save(), RooFit::PrintLevel(-1));\n",
    "\n",
    "std::cout << \"mean: \" << mean.getVal() << endl;\n",
    "std::cout << \"std deviation: \" << sigma.getVal() << endl;\n",
    "std::cout << \"polynomic function (using the Chebyshev polynomials basis):\" << endl;\n",
    "std::cout << a0.getVal() << \"+\" << a1.getVal() << \"*T_1(x)+\" << a2.getVal() << \"*T_2(x)+\" << a3.getVal() << \"*T_3(x)+\" << a4.getVal() << \"*T_4(x)\" << endl; "
   ]
  },
  {
   "cell_type": "code",
   "execution_count": 11,
   "metadata": {},
   "outputs": [
    {
     "data": {
      "text/html": [
       "\n",
       "\n",
       "<div id=\"root_plot_1759288321002\" style=\"width: 800px; height: 600px; position: relative\">\n",
       "</div>\n",
       "\n",
       "<script>\n",
       "\n",
       "function display_root_plot_1759288321002(Core) {\n",
       "   let obj = Core.parse({\"_typename\":\"TCanvasWebSnapshot\",\"fUniqueID\":0,\"fBits\":0,\"fObjectID\":\"\",\"fOption\":\"\",\"fKind\":3,\"fSnapshot\":{\"_typename\":\"TCanvas\",\"fUniqueID\":0,\"fBits\":3342344,\"fLineColor\":1,\"fLineStyle\":1,\"fLineWidth\":1,\"fFillColor\":0,\"fFillStyle\":1001,\"fLeftMargin\":0.1,\"fRightMargin\":0.1,\"fBottomMargin\":0.1,\"fTopMargin\":0.1,\"fXfile\":2,\"fYfile\":2,\"fAfile\":1,\"fXstat\":0.99,\"fYstat\":0.99,\"fAstat\":2,\"fFrameFillColor\":0,\"fFrameLineColor\":1,\"fFrameFillStyle\":1001,\"fFrameLineStyle\":1,\"fFrameLineWidth\":1,\"fFrameBorderSize\":1,\"fFrameBorderMode\":0,\"fX1\":0,\"fY1\":0,\"fX2\":1,\"fY2\":1,\"fXtoAbsPixelk\":0,\"fXtoPixelk\":0,\"fXtoPixel\":796,\"fYtoAbsPixelk\":572,\"fYtoPixelk\":572,\"fYtoPixel\":-572,\"fUtoAbsPixelk\":0,\"fUtoPixelk\":0,\"fUtoPixel\":796,\"fVtoAbsPixelk\":572,\"fVtoPixelk\":572,\"fVtoPixel\":-572,\"fAbsPixeltoXk\":0,\"fPixeltoXk\":0,\"fPixeltoX\":0.00125628140703518,\"fAbsPixeltoYk\":1,\"fPixeltoYk\":0,\"fPixeltoY\":-0.00174825174825175,\"fXlowNDC\":0,\"fYlowNDC\":0,\"fXUpNDC\":1,\"fYUpNDC\":1,\"fWNDC\":1,\"fHNDC\":1,\"fAbsXlowNDC\":0,\"fAbsYlowNDC\":0,\"fAbsWNDC\":1,\"fAbsHNDC\":1,\"fUxmin\":0,\"fUymin\":0,\"fUxmax\":1,\"fUymax\":1,\"fTheta\":30,\"fPhi\":30,\"fAspectRatio\":0,\"fNumber\":0,\"fTickx\":0,\"fTicky\":0,\"fLogx\":0,\"fLogy\":0,\"fLogz\":0,\"fPadPaint\":0,\"fCrosshair\":0,\"fCrosshairPos\":0,\"fBorderSize\":2,\"fBorderMode\":0,\"fModified\":false,\"fGridx\":false,\"fGridy\":false,\"fAbsCoord\":false,\"fEditable\":true,\"fFixedAspectRatio\":false,\"fPrimitives\":{\"_typename\":\"TList\",\"name\":\"TList\",\"arr\":[],\"opt\":[]},\"fExecs\":null,\"fName\":\"canvas\",\"fTitle\":\"canvas\",\"fNumPaletteColor\":0,\"fNextPaletteColor\":0,\"fDISPLAY\":\"$DISPLAY\",\"fDoubleBuffer\":0,\"fRetained\":true,\"fXsizeUser\":0,\"fYsizeUser\":0,\"fXsizeReal\":20,\"fYsizeReal\":15,\"fWindowTopX\":0,\"fWindowTopY\":0,\"fWindowWidth\":0,\"fWindowHeight\":0,\"fCw\":796,\"fCh\":572,\"fCatt\":{\"_typename\":\"TAttCanvas\",\"fXBetween\":2,\"fYBetween\":2,\"fTitleFromTop\":1.2,\"fXdate\":0.2,\"fYdate\":0.3,\"fAdate\":1},\"kMoveOpaque\":true,\"kResizeOpaque\":true,\"fHighLightColor\":2,\"fBatch\":true,\"kShowEventStatus\":false,\"kAutoExec\":true,\"kMenuBar\":true},\"fActive\":false,\"fReadOnly\":true,\"fWithoutPrimitives\":false,\"fHasExecs\":false,\"fPrimitives\":[{\"_typename\":\"TWebSnapshot\",\"fUniqueID\":0,\"fBits\":0,\"fObjectID\":\"\",\"fOption\":\"\",\"fKind\":4,\"fSnapshot\":{\"_typename\":\"TWebPainting\",\"fUniqueID\":0,\"fBits\":0,\"fOper\":\"0:255,255,255;1:0,0,0;2:255,0,0;3:0,255,0;4:0,0,255;5:255,255,0;6:255,0,255;7:0,255,255;8:89,211,84;9:89,84,216;10:254,254,254;11:192,182,172;12:76,76,76;13:102,102,102;14:127,127,127;15:153,153,153;16:178,178,178;17:204,204,204;18:229,229,229;19:242,242,242;20:204,198,170;21:204,198,170;22:193,191,168;23:186,181,163;24:178,165,150;25:183,163,155;26:173,153,140;27:155,142,130;28:135,102,86;29:175,206,198;30:132,193,163;31:137,168,160;32:130,158,140;33:173,188,198;34:122,142,153;35:117,137,145;36:104,130,150;37:109,122,132;38:124,153,209;39:127,127,155;40:170,165,191;41:211,206,135;42:221,186,135;43:188,158,130;44:198,153,124;45:191,130,119;46:206,94,96;47:170,142,147;48:165,119,122;49:147,104,112;50:211,89,84;51:146,0,255;52:122,0,255;53:98,0,255;54:74,0,255;55:51,0,255;56:27,0,255;57:3,0,255;58:0,20,255;59:0,44,255;60:0,68,255;61:0,91,255;62:0,115,255;63:0,139,255;64:0,163,255;65:0,187,255;66:0,210,255;67:0,234,255;68:0,255,251;69:0,255,227;70:0,255,204;71:0,255,180;72:0,255,156;73:0,255,132;74:0,255,108;75:0,255,85;76:0,255,61;77:0,255,37;78:0,255,13;79:10,255,0;80:34,255,0;81:57,255,0;82:81,255,0;83:105,255,0;84:129,255,0;85:153,255,0;86:176,255,0;87:200,255,0;88:224,255,0;89:248,255,0;90:255,238,0;91:255,214,0;92:255,190,0;93:255,166,0;94:255,142,0;95:255,119,0;96:255,95,0;97:255,71,0;98:255,47,0;99:255,23,0;100:111,45,168;101:165,42,42;102:178,190,181;103:87,144,252;104:248,156,32;105:228,37,54;106:150,74,139;107:156,156,161;108:122,33,221;109:24,69,251;110:255,94,2;111:201,31,22;112:200,73,169;113:173,173,125;114:134,200,221;115:87,141,255;116:101,99,100;117:63,144,218;118:255,169,14;119:189,31,1;120:148,164,162;121:131,45,182;122:169,107,89;123:231,99,0;124:185,172,112;125:113,117,129;126:146,218,221;127:178,178,178;201:91,91,91;202:122,122,122;203:183,183,183;204:214,214,214;205:137,15,15;206:183,20,20;207:234,71,71;208:239,117,117;209:15,137,15;210:20,183,20;211:71,234,71;212:117,239,117;213:15,15,137;214:20,20,183;215:71,71,234;216:117,117,239;217:137,137,15;218:183,183,20;219:234,234,71;220:239,239,117;221:137,15,137;222:183,20,183;223:234,71,234;224:239,117,239;225:15,137,137;226:20,183,183;227:71,234,234;228:117,239,239;390:255,255,204;391:255,255,153;392:204,204,153;393:255,255,102;394:204,204,102;395:153,153,102;396:255,255,51;397:204,204,51;398:153,153,51;399:102,102,51;400:255,255,0;401:204,204,0;402:153,153,0;403:102,102,0;404:51,51,0;406:204,255,204;407:153,255,153;408:153,204,153;409:102,255,102;410:102,204,102;411:102,153,102;412:51,255,51;413:51,204,51;414:51,153,51;415:51,102,51;416:0,255,0;417:0,204,0;418:0,153,0;419:0,102,0;420:0,51,0;422:204,255,255;423:153,255,255;424:153,204,204;425:102,255,255;426:102,204,204;427:102,153,153;428:51,255,255;429:51,204,204;430:51,153,153;431:51,102,102;432:0,255,255;433:0,204,204;434:0,153,153;435:0,102,102;436:0,51,51;590:204,204,255;591:153,153,255;592:153,153,204;593:102,102,255;594:102,102,204;595:102,102,153;596:51,51,255;597:51,51,204;598:51,51,153;599:51,51,102;600:0,0,255;601:0,0,204;602:0,0,153;603:0,0,102;604:0,0,51;606:255,204,255;607:255,153,255;608:204,153,204;609:255,102,255;610:204,102,204;611:153,102,153;612:255,51,255;613:204,51,204;614:153,51,153;615:102,51,102;616:255,0,255;617:204,0,204;618:153,0,153;619:102,0,102;620:51,0,51;622:255,204,204;623:255,153,153;624:204,153,153;625:255,102,102;626:204,102,102;627:153,102,102;628:255,51,51;629:204,51,51;630:153,51,51;631:102,51,51;632:255,0,0;633:204,0,0;634:153,0,0;635:102,0,0;636:51,0,0;791:255,204,153;792:204,153,102;793:153,102,51;794:153,102,0;795:204,153,51;796:255,204,102;797:255,153,0;798:255,204,51;799:204,153,0;800:255,204,0;801:255,153,51;802:204,102,0;803:102,51,0;804:153,51,0;805:204,102,51;806:255,153,102;807:255,102,0;808:255,102,51;809:204,51,0;810:255,51,0;811:153,255,51;812:102,204,0;813:51,102,0;814:51,153,0;815:102,204,51;816:153,255,102;817:102,255,0;818:102,255,51;819:51,204,0;820:51,255,0;821:204,255,153;822:153,204,102;823:102,153,51;824:102,153,0;825:153,204,51;826:204,255,102;827:153,255,0;828:204,255,51;829:153,204,0;830:204,255,0;831:153,255,204;832:102,204,153;833:51,153,102;834:0,153,102;835:51,204,153;836:102,255,204;837:0,255,102;838:51,255,204;839:0,204,153;840:0,255,204;841:51,255,153;842:0,204,102;843:0,102,51;844:0,153,51;845:51,204,102;846:102,255,153;847:0,255,153;848:51,255,102;849:0,204,51;850:0,255,51;851:153,204,255;852:102,153,204;853:51,102,153;854:0,51,153;855:51,102,204;856:102,153,255;857:0,102,255;858:51,102,255;859:0,51,204;860:0,51,255;861:51,153,255;862:0,102,204;863:0,51,102;864:0,102,153;865:51,153,204;866:102,204,255;867:0,153,255;868:51,204,255;869:0,153,204;870:0,204,255;871:204,153,255;872:153,102,204;873:102,51,153;874:102,0,153;875:153,51,204;876:204,102,255;877:153,0,255;878:204,51,255;879:153,0,204;880:204,0,255;881:153,51,255;882:102,0,204;883:51,0,102;884:51,0,153;885:102,51,204;886:153,102,255;887:102,0,255;888:102,51,255;889:51,0,204;890:51,0,255;891:255,51,153;892:204,0,102;893:102,0,51;894:153,0,51;895:204,51,102;896:255,102,153;897:255,0,102;898:255,51,102;899:204,0,51;900:255,0,51;901:255,153,204;902:204,102,153;903:153,51,102;904:153,0,102;905:204,51,153;906:255,102,204;907:255,0,153;908:204,0,153;909:255,51,204;910:255,0,153;920:204,204,204;921:153,153,153;922:102,102,102;923:51,51,51;924:53,42,134;925:51,44,137;926:50,45,140;927:49,47,143;928:48,48,146;929:46,50,148;930:45,51,151;931:44,53,154;932:43,55,157;933:42,56,160;934:40,58,162;935:39,59,165;936:38,61,168;937:37,63,171;938:35,64,174;939:34,66,176;940:33,67,179;941:32,69,182;942:31,71,185;943:29,72,187;944:28,74,190;945:27,75,193;946:26,77,196;947:24,79,199;948:23,80,201;949:22,82,204;950:21,83,207;951:19,85,210;952:18,86,213;953:17,88,215;954:16,90,218;955:15,91,221;956:15,92,221;957:15,94,220;958:15,95,220;959:15,96,220;960:15,97,220;961:15,98,220;962:16,99,219;963:16,100,219;964:16,102,219;965:16,103,219;966:16,104,218;967:16,105,218;968:17,106,218;969:17,107,218;970:17,109,217;971:17,110,217;972:17,111,217;973:17,112,217;974:17,113,216;975:18,114,216;976:18,115,216;977:18,117,216;978:18,118,215;979:18,119,215;980:18,120,215;981:18,121,215;982:19,122,215;983:19,123,214;984:19,125,214;985:19,126,214;986:19,127,214;987:19,128,213;988:19,129,213;989:19,130,213;990:18,131,212;991:18,132,212;992:17,134,211;993:17,135,211;994:16,136,211;995:16,137,210;996:15,138,210;997:15,139,210;998:15,140,209;999:14,141,209;1000:14,142,208;1001:13,143,208;1002:13,145,208;1003:12,146,207;1004:12,147,207;1005:12,148,207;1006:11,149,206;1007:11,150,206;1008:10,151,205;1009:10,152,205;1010:9,153,205;1011:9,154,204;1012:8,155,204;1013:8,157,204;1014:8,158,203;1015:7,159,203;1016:7,160,202;1017:6,161,202;1018:6,162,202;1019:5,163,201;1020:7,164,200;1021:8,164,199;1022:9,165,198;1023:10,166,197;1024:12,166,195;1025:13,167,194;1026:14,167,193;1027:15,168,192;1028:17,169,191;1029:18,169,189;1030:19,170,188;1031:20,170,187;1032:22,171,186;1033:23,172,185;1034:24,172,184;1035:25,173,182;1036:27,173,181;1037:28,174,180;1038:29,175,179;1039:30,175,178;1040:32,176,176;1041:33,176,175;1042:34,177,174;1043:35,178,173;1044:37,178,172;1045:38,179,170;1046:39,180,169;1047:40,180,168;1048:42,181,167;1049:43,181,166;1050:44,182,165;1051:45,183,163;1052:48,183,162;1053:51,183,161;1054:54,183,159;1055:57,184,158;1056:59,184,156;1057:62,184,155;1058:65,184,154;1059:68,185,152;1060:71,185,151;1061:73,185,149;1062:76,185,148;1063:79,186,146;1064:82,186,145;1065:84,186,144;1066:87,186,142;1067:90,187,141;1068:93,187,139;1069:96,187,138;1070:98,187,137;1071:101,188,135;1072:104,188,134;1073:107,188,132;1074:110,188,131;1075:112,189,130;1076:115,189,128;1077:118,189,127;1078:121,189,125;1079:124,190,124;1080:126,190,123;1081:129,190,121;1082:132,190,120;1083:135,191,118;1084:137,190,117;1085:139,190,117;1086:142,190,116;1087:144,190,115;1088:146,190,114;1089:148,190,113;1090:151,190,112;1091:153,190,111;1092:155,189,110;1093:158,189,109;1094:160,189,108;1095:162,189,107;1096:165,189,106;1097:167,189,105;1098:169,189,104;1099:171,188,104;1100:174,188,103;1101:176,188,102;1102:178,188,101;1103:181,188,100;1104:183,188,99;1105:185,188,98;1106:188,188,97;1107:190,187,96;1108:192,187,95;1109:194,187,94;1110:197,187,93;1111:199,187,92;1112:201,187,92;1113:204,187,91;1114:206,186,90;1115:208,186,89;1116:210,187,88;1117:211,187,86;1118:212,188,85;1119:214,188,84;1120:215,188,83;1121:217,189,81;1122:218,189,80;1123:220,190,79;1124:221,190,78;1125:222,191,77;1126:224,191,75;1127:225,191,74;1128:227,192,73;1129:228,192,72;1130:229,193,70;1131:231,193,69;1132:232,194,68;1133:234,194,67;1134:235,194,66;1135:236,195,64;1136:238,195,63;1137:239,196,62;1138:241,196,61;1139:242,197,59;1140:244,197,58;1141:245,197,57;1142:246,198,56;1143:248,198,55;1144:249,199,53;1145:251,199,52;1146:252,200,51;1147:253,200,50;1148:253,202,49;1149:253,203,47;1150:253,205,46;1151:253,206,45;1152:253,208,44;1153:252,209,43;1154:252,211,42;1155:252,213,41;1156:252,214,39;1157:252,216,38;1158:252,217,37;1159:252,219,36;1160:251,220,35;1161:251,222,34;1162:251,224,33;1163:251,225,31;1164:251,227,30;1165:251,228,29;1166:250,230,28;1167:250,231,27;1168:250,233,26;1169:250,235,25;1170:250,236,23;1171:250,238,22;1172:250,239,21;1173:249,241,20;1174:249,242,19;1175:249,244,18;1176:249,246,17;1177:249,247,16;1178:249,249,14\",\"fBuf\":{\"$arr\":\"Float32\",\"len\":255,\"v\":[924,925,926,927,928,929,930,931,932,933,934,935,936,937,938,939,940,941,942,943,944,945,946,947,948,949,950,951,952,953,954,955,956,957,958,959,960,961,962,963,964,965,966,967,968,969,970,971,972,973,974,975,976,977,978,979,980,981,982,983,984,985,986,987,988,989,990,991,992,993,994,995,996,997,998,999,1000,1001,1002,1003,1004,1005,1006,1007,1008,1009,1010,1011,1012,1013,1014,1015,1016,1017,1018,1019,1020,1021,1022,1023,1024,1025,1026,1027,1028,1029,1030,1031,1032,1033,1034,1035,1036,1037,1038,1039,1040,1041,1042,1043,1044,1045,1046,1047,1048,1049,1050,1051,1052,1053,1054,1055,1056,1057,1058,1059,1060,1061,1062,1063,1064,1065,1066,1067,1068,1069,1070,1071,1072,1073,1074,1075,1076,1077,1078,1079,1080,1081,1082,1083,1084,1085,1086,1087,1088,1089,1090,1091,1092,1093,1094,1095,1096,1097,1098,1099,1100,1101,1102,1103,1104,1105,1106,1107,1108,1109,1110,1111,1112,1113,1114,1115,1116,1117,1118,1119,1120,1121,1122,1123,1124,1125,1126,1127,1128,1129,1130,1131,1132,1133,1134,1135,1136,1137,1138,1139,1140,1141,1142,1143,1144,1145,1146,1147,1148,1149,1150,1151,1152,1153,1154,1155,1156,1157,1158,1159,1160,1161,1162,1163,1164,1165,1166,1167,1168,1169,1170,1171,1172,1173,1174,1175,1176,1177,1178]}}},{\"_typename\":\"TWebSnapshot\",\"fUniqueID\":0,\"fBits\":0,\"fObjectID\":\"\",\"fOption\":\"\",\"fKind\":5,\"fSnapshot\":{\"_typename\":\"TStyle\",\"fUniqueID\":0,\"fBits\":0,\"fName\":\"Modern\",\"fTitle\":\"Modern Style\",\"fLineColor\":1,\"fLineStyle\":1,\"fLineWidth\":1,\"fFillColor\":19,\"fFillStyle\":1001,\"fMarkerColor\":1,\"fMarkerStyle\":1,\"fMarkerSize\":1,\"fTextAngle\":0,\"fTextSize\":0.05,\"fTextAlign\":11,\"fTextColor\":1,\"fTextFont\":62,\"fXaxis\":{\"_typename\":\"TAttAxis\",\"fNdivisions\":510,\"fAxisColor\":1,\"fLabelColor\":1,\"fLabelFont\":42,\"fLabelOffset\":0.005,\"fLabelSize\":0.035,\"fTickLength\":0.03,\"fTitleOffset\":1,\"fTitleSize\":0.035,\"fTitleColor\":1,\"fTitleFont\":42},\"fYaxis\":{\"_typename\":\"TAttAxis\",\"fNdivisions\":510,\"fAxisColor\":1,\"fLabelColor\":1,\"fLabelFont\":42,\"fLabelOffset\":0.005,\"fLabelSize\":0.035,\"fTickLength\":0.03,\"fTitleOffset\":0,\"fTitleSize\":0.035,\"fTitleColor\":1,\"fTitleFont\":42},\"fZaxis\":{\"_typename\":\"TAttAxis\",\"fNdivisions\":510,\"fAxisColor\":1,\"fLabelColor\":1,\"fLabelFont\":42,\"fLabelOffset\":0.005,\"fLabelSize\":0.035,\"fTickLength\":0.03,\"fTitleOffset\":1,\"fTitleSize\":0.035,\"fTitleColor\":1,\"fTitleFont\":42},\"fBarWidth\":1,\"fBarOffset\":0,\"fColorModelPS\":0,\"fDrawBorder\":0,\"fOptLogx\":0,\"fOptLogy\":0,\"fOptLogz\":0,\"fOptDate\":0,\"fOptStat\":1111,\"fOptTitle\":1,\"fOptFile\":0,\"fOptFit\":0,\"fShowEventStatus\":0,\"fShowEditor\":0,\"fShowToolBar\":0,\"fNumberContours\":20,\"fAttDate\":{\"_typename\":\"TAttText\",\"fTextAngle\":0,\"fTextSize\":0.025,\"fTextAlign\":11,\"fTextColor\":1,\"fTextFont\":62},\"fDateX\":0.01,\"fDateY\":0.01,\"fEndErrorSize\":2,\"fErrorX\":0.5,\"fFuncColor\":2,\"fFuncStyle\":1,\"fFuncWidth\":2,\"fGridColor\":0,\"fGridStyle\":3,\"fGridWidth\":1,\"fLegendBorderSize\":1,\"fLegendFillColor\":0,\"fLegendFillStyle\":1001,\"fLegendFont\":42,\"fLegendTextSize\":0,\"fHatchesLineWidth\":1,\"fHatchesSpacing\":1,\"fFrameFillColor\":0,\"fFrameLineColor\":1,\"fFrameFillStyle\":1001,\"fFrameLineStyle\":1,\"fFrameLineWidth\":1,\"fFrameBorderSize\":1,\"fFrameBorderMode\":0,\"fHistFillColor\":0,\"fHistLineColor\":602,\"fHistFillStyle\":1001,\"fHistLineStyle\":1,\"fHistLineWidth\":1,\"fHistMinimumZero\":false,\"fHistTopMargin\":0.05,\"fCanvasPreferGL\":false,\"fCanvasColor\":0,\"fCanvasBorderSize\":2,\"fCanvasBorderMode\":0,\"fCanvasDefH\":500,\"fCanvasDefW\":700,\"fCanvasDefX\":10,\"fCanvasDefY\":10,\"fPadColor\":0,\"fPadBorderSize\":2,\"fPadBorderMode\":0,\"fPadBottomMargin\":0.1,\"fPadTopMargin\":0.1,\"fPadLeftMargin\":0.1,\"fPadRightMargin\":0.1,\"fPadGridX\":false,\"fPadGridY\":false,\"fPadTickX\":0,\"fPadTickY\":0,\"fPaperSizeX\":20,\"fPaperSizeY\":26,\"fScreenFactor\":1,\"fStatColor\":0,\"fStatTextColor\":1,\"fStatBorderSize\":1,\"fStatFont\":42,\"fStatFontSize\":0,\"fStatStyle\":1001,\"fStatFormat\":\"6.4g\",\"fStatX\":0.98,\"fStatY\":0.935,\"fStatW\":0.2,\"fStatH\":0.16,\"fStripDecimals\":true,\"fTitleAlign\":23,\"fTitleColor\":0,\"fTitleTextColor\":1,\"fTitleBorderSize\":0,\"fTitleFont\":42,\"fTitleFontSize\":0.05,\"fTitleStyle\":0,\"fTitleX\":0.5,\"fTitleY\":0.995,\"fTitleW\":0,\"fTitleH\":0,\"fLegoInnerR\":0.5,\"fLineStyles\":[\"\",\"  \",\" 12 12\",\" 4 8\",\" 12 16 4 16\",\" 20 12 4 12\",\" 20 12 4 12 4 12 4 12\",\" 20 20\",\" 20 12 4 12 4 12\",\" 80 20\",\" 80 40 4 40\",\"  \",\"  \",\"  \",\"  \",\"  \",\"  \",\"  \",\"  \",\"  \",\"  \",\"  \",\"  \",\"  \",\"  \",\"  \",\"  \",\"  \",\"  \",\"  \"],\"fHeaderPS\":\"\",\"fTitlePS\":\"\",\"fFitFormat\":\"5.4g\",\"fPaintTextFormat\":\"g\",\"fLineScalePS\":3,\"fJoinLinePS\":0,\"fCapLinePS\":0,\"fTimeOffset\":788918400,\"fImageScaling\":1,\"fCandleWhiskerRange\":1,\"fCandleBoxRange\":0.5,\"fCandleScaled\":false,\"fViolinScaled\":true,\"fXAxisExpXOffset\":0,\"fXAxisExpYOffset\":0,\"fYAxisExpXOffset\":0,\"fYAxisExpYOffset\":0,\"fAxisMaxDigits\":5,\"fOrthoCamera\":false}},{\"_typename\":\"TPadWebSnapshot\",\"fUniqueID\":0,\"fBits\":0,\"fObjectID\":\"\",\"fOption\":\"\",\"fKind\":3,\"fSnapshot\":{\"_typename\":\"TPad\",\"fUniqueID\":0,\"fBits\":9,\"fLineColor\":1,\"fLineStyle\":1,\"fLineWidth\":1,\"fFillColor\":0,\"fFillStyle\":1001,\"fLeftMargin\":0.1,\"fRightMargin\":0.1,\"fBottomMargin\":0,\"fTopMargin\":0.1,\"fXfile\":2,\"fYfile\":2,\"fAfile\":1,\"fXstat\":0.99,\"fYstat\":0.99,\"fAstat\":2,\"fFrameFillColor\":0,\"fFrameLineColor\":1,\"fFrameFillStyle\":1001,\"fFrameLineStyle\":1,\"fFrameLineWidth\":1,\"fFrameBorderSize\":1,\"fFrameBorderMode\":0,\"fX1\":92.4999994412064,\"fY1\":0,\"fX2\":167.500000558794,\"fY2\":9010.02660782919,\"fXtoAbsPixelk\":-981.733312773704,\"fXtoPixelk\":-981.733312773704,\"fXtoPixel\":10.6133331751823,\"fYtoAbsPixelk\":400.4,\"fYtoPixelk\":400.4,\"fYtoPixel\":-0.0444393804178198,\"fUtoAbsPixelk\":0,\"fUtoPixelk\":0,\"fUtoPixel\":796,\"fVtoAbsPixelk\":400.4,\"fVtoPixelk\":400.4,\"fVtoPixel\":-400.4,\"fAbsPixeltoXk\":92.4999994412064,\"fPixeltoXk\":92.4999994412064,\"fPixeltoX\":0.0942211069316421,\"fAbsPixeltoYk\":9010.02660782919,\"fPixeltoYk\":0,\"fPixeltoY\":-22.5025639556174,\"fXlowNDC\":0,\"fYlowNDC\":0.3,\"fXUpNDC\":1,\"fYUpNDC\":1,\"fWNDC\":1,\"fHNDC\":0.7,\"fAbsXlowNDC\":0,\"fAbsYlowNDC\":0.3,\"fAbsWNDC\":1,\"fAbsHNDC\":0.7,\"fUxmin\":100,\"fUymin\":0,\"fUxmax\":160,\"fUymax\":8109.0239134813,\"fTheta\":30,\"fPhi\":30,\"fAspectRatio\":0,\"fNumber\":0,\"fTickx\":0,\"fTicky\":0,\"fLogx\":0,\"fLogy\":0,\"fLogz\":0,\"fPadPaint\":0,\"fCrosshair\":0,\"fCrosshairPos\":0,\"fBorderSize\":2,\"fBorderMode\":0,\"fModified\":false,\"fGridx\":false,\"fGridy\":false,\"fAbsCoord\":false,\"fEditable\":true,\"fFixedAspectRatio\":false,\"fPrimitives\":{\"_typename\":\"TList\",\"name\":\"TList\",\"arr\":[],\"opt\":[]},\"fExecs\":{\"_typename\":\"TList\",\"name\":\"TList\",\"arr\":[],\"opt\":[]},\"fName\":\"mainPad\",\"fTitle\":\"mainPad\",\"fNumPaletteColor\":0,\"fNextPaletteColor\":0},\"fActive\":false,\"fReadOnly\":true,\"fWithoutPrimitives\":false,\"fHasExecs\":true,\"fPrimitives\":[{\"_typename\":\"TWebSnapshot\",\"fUniqueID\":0,\"fBits\":0,\"fObjectID\":\"\",\"fOption\":\"\",\"fKind\":1,\"fSnapshot\":{\"_typename\":\"TFrame\",\"fUniqueID\":0,\"fBits\":8,\"fLineColor\":1,\"fLineStyle\":1,\"fLineWidth\":1,\"fFillColor\":0,\"fFillStyle\":1001,\"fX1\":100,\"fY1\":0,\"fX2\":160,\"fY2\":8109.0239134813,\"fBorderSize\":1,\"fBorderMode\":0}},{\"_typename\":\"TWebSnapshot\",\"fUniqueID\":0,\"fBits\":0,\"fObjectID\":\"\",\"fOption\":\"FUNC\",\"fKind\":1,\"fSnapshot\":{\"_typename\":\"TH1D\",\"fUniqueID\":0,\"fBits\":520,\"fName\":\"frame_m_yy_7efe6b065000\",\"fTitle\":\"Di-photon invariant mass m_{#gamma#gamma}\",\"fLineColor\":602,\"fLineStyle\":1,\"fLineWidth\":1,\"fFillColor\":0,\"fFillStyle\":1001,\"fMarkerColor\":1,\"fMarkerStyle\":1,\"fMarkerSize\":1,\"fNcells\":102,\"fXaxis\":{\"_typename\":\"TAxis\",\"fUniqueID\":0,\"fBits\":0,\"fName\":\"xaxis\",\"fTitle\":\"di-photon invariant mass m_{#gamma#gamma} [GeV]\",\"fNdivisions\":510,\"fAxisColor\":1,\"fLabelColor\":1,\"fLabelFont\":42,\"fLabelOffset\":0.005,\"fLabelSize\":0.03,\"fTickLength\":0.03,\"fTitleOffset\":1,\"fTitleSize\":0.05,\"fTitleColor\":1,\"fTitleFont\":42,\"fNbins\":100,\"fXmin\":100,\"fXmax\":160,\"fXbins\":[],\"fFirst\":0,\"fLast\":0,\"fBits2\":0,\"fTimeDisplay\":false,\"fTimeFormat\":\"\",\"fLabels\":null,\"fModLabs\":null},\"fYaxis\":{\"_typename\":\"TAxis\",\"fUniqueID\":0,\"fBits\":0,\"fName\":\"yaxis\",\"fTitle\":\"Events \\/ bin\",\"fNdivisions\":510,\"fAxisColor\":1,\"fLabelColor\":1,\"fLabelFont\":42,\"fLabelOffset\":0.005,\"fLabelSize\":0.03,\"fTickLength\":0.03,\"fTitleOffset\":0,\"fTitleSize\":0.05,\"fTitleColor\":1,\"fTitleFont\":42,\"fNbins\":1,\"fXmin\":0,\"fXmax\":1,\"fXbins\":[],\"fFirst\":0,\"fLast\":0,\"fBits2\":0,\"fTimeDisplay\":false,\"fTimeFormat\":\"\",\"fLabels\":null,\"fModLabs\":null},\"fZaxis\":{\"_typename\":\"TAxis\",\"fUniqueID\":0,\"fBits\":0,\"fName\":\"zaxis\",\"fTitle\":\"\",\"fNdivisions\":510,\"fAxisColor\":1,\"fLabelColor\":1,\"fLabelFont\":42,\"fLabelOffset\":0.005,\"fLabelSize\":0.035,\"fTickLength\":0.03,\"fTitleOffset\":1,\"fTitleSize\":0.035,\"fTitleColor\":1,\"fTitleFont\":42,\"fNbins\":1,\"fXmin\":0,\"fXmax\":1,\"fXbins\":[],\"fFirst\":0,\"fLast\":0,\"fBits2\":0,\"fTimeDisplay\":false,\"fTimeFormat\":\"\",\"fLabels\":null,\"fModLabs\":null},\"fBarOffset\":0,\"fBarWidth\":1000,\"fEntries\":1,\"fTsumw\":0,\"fTsumw2\":0,\"fTsumwx\":0,\"fTsumwx2\":0,\"fMaximum\":8109.0239134813,\"fMinimum\":-1111,\"fNormFactor\":0,\"fContour\":[],\"fSumw2\":[],\"fOption\":\"\",\"fFunctions\":{\"_typename\":\"TList\",\"name\":\"TList\",\"arr\":[],\"opt\":[]},\"fBufferSize\":0,\"fBuffer\":[],\"fBinStatErrOpt\":0,\"fStatOverflows\":2,\"fArray\":{\"$arr\":\"Float64\",\"len\":102,\"p\":1,\"v\":8109.0239134813}}},{\"_typename\":\"TWebSnapshot\",\"fUniqueID\":0,\"fBits\":0,\"fObjectID\":\"\",\"fOption\":\"p\",\"fKind\":1,\"fSnapshot\":{\"_typename\":\"RooHist\",\"fUniqueID\":0,\"fBits\":1032,\"fName\":\"h_data_myy\",\"fTitle\":\"Histogram of data_myy_plot__m_yy\",\"fLineColor\":1,\"fLineStyle\":1,\"fLineWidth\":1,\"fFillColor\":0,\"fFillStyle\":1000,\"fMarkerColor\":1,\"fMarkerStyle\":20,\"fMarkerSize\":0.5,\"fNpoints\":60,\"fX\":{\"$arr\":\"Float64\",\"len\":60,\"v\":[100.5,101.5,102.5,103.5,104.5,105.5,106.5,107.5,108.5,109.5,110.5,111.5,112.5,113.5,114.5,115.5,116.5,117.5,118.5,119.5,120.5,121.5,122.5,123.5,124.5,125.5,126.5,127.5,128.5,129.5,130.5,131.5,132.5,133.5,134.5,135.5,136.5,137.5,138.5,139.5,140.5,141.5,142.5,143.5,144.5,145.5,146.5,147.5,148.5,149.5,150.5,151.5,152.5,153.5,154.5,155.5,156.5,157.5,158.5,159.5]},\"fY\":{\"$arr\":\"Float64\",\"len\":60,\"v\":[7635,7556,7561,7333,7164,7178,6907,6652,6818,6430,6402,6151,6097,6067,5794,5552,5542,5410,5285,4994,4998,4919,4785,4757,4772,4588,4343,4110,4016,3971,3725,3613,3534,3424,3434,3312,3206,2944,2922,2934,2891,2655,2652,2564,2468,2471,2372,2297,2218,2163,2042,2103,1986,1907,1857,1798,1798,1694,1697,1658]},\"fFunctions\":{\"_typename\":\"TList\",\"name\":\"TList\",\"arr\":[],\"opt\":[]},\"fHistogram\":{\"_typename\":\"TH1F\",\"fUniqueID\":0,\"fBits\":512,\"fName\":\"h_data_myy\",\"fTitle\":\"Histogram of data_myy_plot__m_yy\",\"fLineColor\":602,\"fLineStyle\":1,\"fLineWidth\":1,\"fFillColor\":0,\"fFillStyle\":1001,\"fMarkerColor\":1,\"fMarkerStyle\":1,\"fMarkerSize\":1,\"fNcells\":102,\"fXaxis\":{\"_typename\":\"TAxis\",\"fUniqueID\":0,\"fBits\":0,\"fName\":\"xaxis\",\"fTitle\":\"\",\"fNdivisions\":510,\"fAxisColor\":1,\"fLabelColor\":1,\"fLabelFont\":42,\"fLabelOffset\":0.005,\"fLabelSize\":0.035,\"fTickLength\":0.03,\"fTitleOffset\":1,\"fTitleSize\":0.035,\"fTitleColor\":1,\"fTitleFont\":42,\"fNbins\":100,\"fXmin\":94,\"fXmax\":166,\"fXbins\":[],\"fFirst\":0,\"fLast\":0,\"fBits2\":0,\"fTimeDisplay\":false,\"fTimeFormat\":\"\",\"fLabels\":null,\"fModLabs\":null},\"fYaxis\":{\"_typename\":\"TAxis\",\"fUniqueID\":0,\"fBits\":0,\"fName\":\"yaxis\",\"fTitle\":\"\",\"fNdivisions\":510,\"fAxisColor\":1,\"fLabelColor\":1,\"fLabelFont\":42,\"fLabelOffset\":0.005,\"fLabelSize\":0.035,\"fTickLength\":0.03,\"fTitleOffset\":0,\"fTitleSize\":0.035,\"fTitleColor\":1,\"fTitleFont\":42,\"fNbins\":1,\"fXmin\":1007.26823077023,\"fXmax\":8333.39007094952,\"fXbins\":[],\"fFirst\":0,\"fLast\":0,\"fBits2\":0,\"fTimeDisplay\":false,\"fTimeFormat\":\"\",\"fLabels\":null,\"fModLabs\":null},\"fZaxis\":{\"_typename\":\"TAxis\",\"fUniqueID\":0,\"fBits\":0,\"fName\":\"zaxis\",\"fTitle\":\"\",\"fNdivisions\":510,\"fAxisColor\":1,\"fLabelColor\":1,\"fLabelFont\":42,\"fLabelOffset\":0.005,\"fLabelSize\":0.035,\"fTickLength\":0.03,\"fTitleOffset\":1,\"fTitleSize\":0.035,\"fTitleColor\":1,\"fTitleFont\":42,\"fNbins\":1,\"fXmin\":0,\"fXmax\":1,\"fXbins\":[],\"fFirst\":0,\"fLast\":0,\"fBits2\":0,\"fTimeDisplay\":false,\"fTimeFormat\":\"\",\"fLabels\":null,\"fModLabs\":null},\"fBarOffset\":0,\"fBarWidth\":1000,\"fEntries\":0,\"fTsumw\":0,\"fTsumw2\":0,\"fTsumwx\":0,\"fTsumwx2\":0,\"fMaximum\":8333.39007094952,\"fMinimum\":1007.26823077023,\"fNormFactor\":0,\"fContour\":[],\"fSumw2\":[],\"fOption\":\"\",\"fFunctions\":{\"_typename\":\"TList\",\"name\":\"TList\",\"arr\":[],\"opt\":[]},\"fBufferSize\":0,\"fBuffer\":[],\"fBinStatErrOpt\":0,\"fStatOverflows\":2,\"fArray\":{\"$arr\":\"Float32\",\"len\":102}},\"fMinimum\":-1111,\"fMaximum\":-1111,\"fOption\":\"\",\"fEXlow\":{\"$arr\":\"Float64\",\"len\":60,\"v\":0.5,\"n\":60},\"fEXhigh\":{\"$arr\":\"Float64\",\"len\":60,\"v\":0.5,\"n\":60},\"fEYlow\":{\"$arr\":\"Float64\",\"len\":60,\"v\":[86.8799176012426,86.4266932535684,86.4554483629408,85.1343972945451,84.1418927009554,84.2245537019817,82.6098670435704,81.0613266199125,82.0726952448567,79.6888396224813,79.5140612642554,77.9299050107802,77.5848897034502,77.3925542012839,75.6199710982601,74.0134216098013,73.9462893635409,73.0544016357962,72.1997248963162,70.1700077826517,70.1983026670368,69.6373652199736,68.6755014437913,68.4728207339676,68.5814736380171,67.2366222954761,65.4033383069473,63.6112314653215,62.8738905228329,62.5178546128,60.534826124107,59.6103152545384,58.9495584508413,58.0170915203412,58.1024743504913,57.0521502639126,56.1237582645308,53.7609435966606,53.5578393944857,53.6687179098785,53.270344986805,51.0291179819719,51,50.1384241460969,49.1814854850377,49.2116686503277,48.2057491473029,47.4296359260115,46.5983014555727,46.0107514452302,44.6912602169932,45.3612036475274,44.0673647414787,43.1720734566152,42.595823463533,41.905777908205,41.905777908205,40.6612682020368,40.6976941102291,40.2216158814947]},\"fEYhigh\":{\"$arr\":\"Float64\",\"len\":60,\"v\":[87.8799176012426,87.4266932535684,87.4554483629408,86.1343972945451,85.1418927009554,85.2245537019817,83.6098670435704,82.0613266199125,83.0726952448567,80.6888396224813,80.5140612642554,78.9299050107802,78.5848897034502,78.3925542012839,76.6199710982601,75.0134216098013,74.9462893635409,74.0544016357962,73.1997248963162,71.1700077826517,71.1983026670368,70.6373652199736,69.6755014437913,69.4728207339676,69.5814736380171,68.2366222954761,66.4033383069473,64.611231465321,63.8738905228329,63.5178546128,61.534826124107,60.6103152545384,59.9495584508413,59.0170915203412,59.1024743504913,58.0521502639126,57.1237582645308,54.7609435966606,54.5578393944857,54.6687179098785,54.270344986805,52.0291179819719,52,51.1384241460969,50.1814854850377,50.2116686503277,49.2057491473029,48.4296359260115,47.5983014555727,47.0107514452302,45.6912602169932,46.3612036475274,45.0673647414787,44.1720734566152,43.595823463533,42.905777908205,42.905777908205,41.6612682020368,41.6976941102291,41.2216158814947]},\"_yAxisLabel\":\"Events \\/ ( 1 )\",\"_ymin\":0,\"_ymax\":7722.87991760124,\"_normValue\":0,\"_nominalBinWidth\":1,\"_nSigma\":1,\"_entries\":250126,\"_rawEntries\":-1,\"_originalWeights\":{\"$arr\":\"Float64\",\"len\":60,\"v\":[7635,7556,7561,7333,7164,7178,6907,6652,6818,6430,6402,6151,6097,6067,5794,5552,5542,5410,5285,4994,4998,4919,4785,4757,4772,4588,4343,4110,4016,3971,3725,3613,3534,3424,3434,3312,3206,2944,2922,2934,2891,2655,2652,2564,2468,2471,2372,2297,2218,2163,2042,2103,1986,1907,1857,1798,1798,1694,1697,1658]}}},{\"_typename\":\"TWebSnapshot\",\"fUniqueID\":0,\"fBits\":0,\"fObjectID\":\"\",\"fOption\":\"l\",\"fKind\":1,\"fSnapshot\":{\"_typename\":\"RooCurve\",\"fUniqueID\":0,\"fBits\":525320,\"fName\":\"sig_bkg_curve\",\"fTitle\":\"Projection of sig + bkg\",\"fLineColor\":600,\"fLineStyle\":1,\"fLineWidth\":2,\"fFillColor\":0,\"fFillStyle\":1000,\"fMarkerColor\":1,\"fMarkerStyle\":1,\"fMarkerSize\":1,\"fNpoints\":107,\"fX\":{\"$arr\":\"Float64\",\"len\":107,\"v\":[99.3994,99.4,100,100.6,101.2,101.8,102.4,103,103.6,104.2,104.8,105.4,106,106.6,107.2,107.8,108.4,109,109.6,110.2,110.8,111.4,112,112.6,113.2,113.8,114.4,115,115.6,116.2,116.8,117.4,118,118.6,119.2,119.8,120.4,121,121.6,122.2,122.8,123.4,124,124.6,124.9,125.2,125.8,126.4,127,127.6,128.2,128.8,129.4,130,130.6,131.2,131.8,132.4,133,133.6,134.2,134.8,135.4,136,136.6,137.2,137.8,138.4,139,139.6,140.2,140.8,141.4,142,142.6,143.2,143.8,144.4,145,145.6,146.2,146.8,147.4,148,148.6,149.2,149.8,150.4,151,151.6,152.2,152.8,153.4,154,154.6,155.2,155.8,156.4,157,157.6,158.2,158.8,159.4,160,160,160.6,160.6006]},\"fY\":{\"$arr\":\"Float64\",\"len\":107,\"p\":1,\"v\":[7704.30232186747,7704.30232186747,7646.17282423133,7584.97453716229,7520.92305726831,7454.22655716208,7385.08590730429,7313.69479784694,7240.23986047657,7164.90079025756,7087.85046747536,7009.25507947985,6929.2742425285,6848.06112362974,6765.76256238616,6682.51919283784,6598.46556530559,6513.73026823421,6428.43605003581,6342.69994093303,6256.63337480236,6170.34231101737,6083.92735629201,5997.48388652386,5911.10216863745,5824.8674824278,5738.8602424101,5653.15611977431,5567.82616582361,5482.93695253506,5398.55087358658,5314.72765808695,5231.53319837357,5149.0830172623,5067.71103282231,4988.46568436724,4914.13586005837,4850.42591385588,4805.44720677903,4784.84406059075,4783.01534266098,4778.02610419892,4739.93255668439,4701.83271321266,4650.61035517417,4517.82527986798,4369.07864314365,4231.69824961331,4118.29435557457,4026.94883910272,3949.73135321833,3879.67933844909,3812.9000216414,3747.79373881919,3683.84965507016,3620.93442389494,3559.01475716102,3498.07758124628,3438.11236288495,3379.10809971717,3321.05300040339,3263.93455605261,3207.73965738117,3152.45471620009,3098.06578723611,3044.55868997381,2991.91913049892,2940.13282334147,2889.18561331916,2839.06359738058,2789.7532464485,2741.24152726316,2693.5160242255,2646.56506124046,2600.37782356025,2554.94447962764,2510.25630291918,2466.30579378853,2423.0868013097,2380.59464512032,2338.82623726496,2297.78020403832,2257.45700782857,2217.85906896061,2178.99088753932,2140.85916529285,2103.47292741588,2066.84364441291,2030.98535394153,1995.91478265566,1961.65146804889,1928.21788029766,1895.63954410463,1863.94516054187,1833.16672889419,1803.33966850237,1774.50294060649,1746.69917018913,1719.97476781869,1694.38005149265,1669.96936848084,1646.80121716874,1624.93836892187,1624.93836892187,1624.93836892187]},\"fFunctions\":{\"_typename\":\"TList\",\"name\":\"TList\",\"arr\":[],\"opt\":[]},\"fHistogram\":{\"_typename\":\"TH1F\",\"fUniqueID\":0,\"fBits\":512,\"fName\":\"sig_bkg_curve\",\"fTitle\":\"Projection of sig + bkg\",\"fLineColor\":602,\"fLineStyle\":1,\"fLineWidth\":1,\"fFillColor\":0,\"fFillStyle\":1001,\"fMarkerColor\":1,\"fMarkerStyle\":1,\"fMarkerSize\":1,\"fNcells\":109,\"fXaxis\":{\"_typename\":\"TAxis\",\"fUniqueID\":0,\"fBits\":0,\"fName\":\"xaxis\",\"fTitle\":\"\",\"fNdivisions\":510,\"fAxisColor\":1,\"fLabelColor\":1,\"fLabelFont\":42,\"fLabelOffset\":0.005,\"fLabelSize\":0.035,\"fTickLength\":0.03,\"fTitleOffset\":1,\"fTitleSize\":0.035,\"fTitleColor\":1,\"fTitleFont\":42,\"fNbins\":107,\"fXmin\":93.27928,\"fXmax\":166.72072,\"fXbins\":[],\"fFirst\":0,\"fLast\":0,\"fBits2\":0,\"fTimeDisplay\":false,\"fTimeFormat\":\"\",\"fLabels\":null,\"fModLabs\":null},\"fYaxis\":{\"_typename\":\"TAxis\",\"fUniqueID\":0,\"fBits\":0,\"fName\":\"yaxis\",\"fTitle\":\"\",\"fNdivisions\":510,\"fAxisColor\":1,\"fLabelColor\":1,\"fLabelFont\":42,\"fLabelOffset\":0.005,\"fLabelSize\":0.035,\"fTickLength\":0.03,\"fTitleOffset\":0,\"fTitleSize\":0.035,\"fTitleColor\":1,\"fTitleFont\":42,\"fNbins\":1,\"fXmin\":0,\"fXmax\":8474.73255405422,\"fXbins\":[],\"fFirst\":0,\"fLast\":0,\"fBits2\":0,\"fTimeDisplay\":false,\"fTimeFormat\":\"\",\"fLabels\":null,\"fModLabs\":null},\"fZaxis\":{\"_typename\":\"TAxis\",\"fUniqueID\":0,\"fBits\":0,\"fName\":\"zaxis\",\"fTitle\":\"\",\"fNdivisions\":510,\"fAxisColor\":1,\"fLabelColor\":1,\"fLabelFont\":42,\"fLabelOffset\":0.005,\"fLabelSize\":0.035,\"fTickLength\":0.03,\"fTitleOffset\":1,\"fTitleSize\":0.035,\"fTitleColor\":1,\"fTitleFont\":42,\"fNbins\":1,\"fXmin\":0,\"fXmax\":1,\"fXbins\":[],\"fFirst\":0,\"fLast\":0,\"fBits2\":0,\"fTimeDisplay\":false,\"fTimeFormat\":\"\",\"fLabels\":null,\"fModLabs\":null},\"fBarOffset\":0,\"fBarWidth\":1000,\"fEntries\":0,\"fTsumw\":0,\"fTsumw2\":0,\"fTsumwx\":0,\"fTsumwx2\":0,\"fMaximum\":8474.73255405422,\"fMinimum\":0,\"fNormFactor\":0,\"fContour\":[],\"fSumw2\":[],\"fOption\":\"\",\"fFunctions\":{\"_typename\":\"TList\",\"name\":\"TList\",\"arr\":[],\"opt\":[]},\"fBufferSize\":0,\"fBuffer\":[],\"fBinStatErrOpt\":0,\"fStatOverflows\":2,\"fArray\":{\"$arr\":\"Float32\",\"len\":109}},\"fMinimum\":-1111,\"fMaximum\":-1111,\"fOption\":\"\",\"_yAxisLabel\":\"Projection of sig + bkg\",\"_ymin\":0,\"_ymax\":7704.30232186747,\"_normValue\":0}},{\"_typename\":\"TWebSnapshot\",\"fUniqueID\":0,\"fBits\":0,\"fObjectID\":\"\",\"fOption\":\"l\",\"fKind\":1,\"fSnapshot\":{\"_typename\":\"RooCurve\",\"fUniqueID\":0,\"fBits\":525320,\"fName\":\"bkg_curve\",\"fTitle\":\"Projection of sig + bkg\",\"fLineColor\":632,\"fLineStyle\":2,\"fLineWidth\":2,\"fFillColor\":0,\"fFillStyle\":1000,\"fMarkerColor\":1,\"fMarkerStyle\":1,\"fMarkerSize\":1,\"fNpoints\":106,\"fX\":{\"$arr\":\"Float64\",\"len\":106,\"v\":[99.3994,99.4,100,100.6,101.2,101.8,102.4,103,103.6,104.2,104.8,105.4,106,106.6,107.2,107.8,108.4,109,109.6,110.2,110.8,111.4,112,112.6,113.2,113.8,114.4,115,115.6,116.2,116.8,117.4,118,118.6,119.2,119.8,120.4,121,121.6,122.2,122.8,123.4,124,124.6,125.2,125.8,126.4,127,127.6,128.2,128.8,129.4,130,130.6,131.2,131.8,132.4,133,133.6,134.2,134.8,135.4,136,136.6,137.2,137.8,138.4,139,139.6,140.2,140.8,141.4,142,142.6,143.2,143.8,144.4,145,145.6,146.2,146.8,147.4,148,148.6,149.2,149.8,150.4,151,151.6,152.2,152.8,153.4,154,154.6,155.2,155.8,156.4,157,157.6,158.2,158.8,159.4,160,160,160.6,160.6006]},\"fY\":{\"$arr\":\"Float64\",\"len\":106,\"p\":1,\"v\":[7704.30232186747,7704.30232186747,7646.17282423133,7584.97453716229,7520.92305726831,7454.22655716208,7385.08590730429,7313.69479784694,7240.23986047657,7164.90079025756,7087.85046747536,7009.25507947985,6929.2742425285,6848.06112362974,6765.76256238616,6682.51919283784,6598.46556530559,6513.73026823421,6428.43605003581,6342.69994093303,6256.63337480236,6170.34231101737,6083.92735629201,5997.48388652386,5911.10216863744,5824.86748242743,5738.86024240202,5653.15611962607,5567.8261635645,5482.93692392547,5398.55057250373,5314.72502502381,5231.51406298337,5148.96745549644,5067.13108113665,4986.0470497806,4905.75382445104,4826.28634316018,4747.67614075298,4669.95147075039,4593.13742719264,4517.25606648251,4442.3265292286,4368.3651620886,4295.38563961256,4223.39908608619,4152.41419737411,4082.43736276309,4013.47278680539,3945.52261116199,3878.58703644586,3812.66444406527,3747.751518067,3683.84336697968,3620.93364565701,3559.01467712106,3498.07757440556,3438.1123623991,3379.10809968849,3321.05300040198,3263.93455605255,3207.73965738117,3152.45471620009,3098.06578723611,3044.55868997381,2991.91913049892,2940.13282334147,2889.18561331916,2839.06359738058,2789.7532464485,2741.24152726316,2693.5160242255,2646.56506124046,2600.37782356025,2554.94447962764,2510.25630291918,2466.30579378853,2423.0868013097,2380.59464512032,2338.82623726496,2297.78020403832,2257.45700782857,2217.85906896061,2178.99088753932,2140.85916529285,2103.47292741588,2066.84364441291,2030.98535394153,1995.91478265566,1961.65146804889,1928.21788029766,1895.63954410463,1863.94516054187,1833.16672889419,1803.33966850237,1774.50294060649,1746.69917018913,1719.97476781869,1694.38005149265,1669.96936848084,1646.80121716874,1624.93836892187,1624.93836892187,1624.93836892187]},\"fFunctions\":{\"_typename\":\"TList\",\"name\":\"TList\",\"arr\":[],\"opt\":[]},\"fHistogram\":{\"_typename\":\"TH1F\",\"fUniqueID\":0,\"fBits\":512,\"fName\":\"bkg_curve\",\"fTitle\":\"Projection of sig + bkg\",\"fLineColor\":602,\"fLineStyle\":1,\"fLineWidth\":1,\"fFillColor\":0,\"fFillStyle\":1001,\"fMarkerColor\":1,\"fMarkerStyle\":1,\"fMarkerSize\":1,\"fNcells\":108,\"fXaxis\":{\"_typename\":\"TAxis\",\"fUniqueID\":0,\"fBits\":0,\"fName\":\"xaxis\",\"fTitle\":\"\",\"fNdivisions\":510,\"fAxisColor\":1,\"fLabelColor\":1,\"fLabelFont\":42,\"fLabelOffset\":0.005,\"fLabelSize\":0.035,\"fTickLength\":0.03,\"fTitleOffset\":1,\"fTitleSize\":0.035,\"fTitleColor\":1,\"fTitleFont\":42,\"fNbins\":106,\"fXmin\":93.27928,\"fXmax\":166.72072,\"fXbins\":[],\"fFirst\":0,\"fLast\":0,\"fBits2\":0,\"fTimeDisplay\":false,\"fTimeFormat\":\"\",\"fLabels\":null,\"fModLabs\":null},\"fYaxis\":{\"_typename\":\"TAxis\",\"fUniqueID\":0,\"fBits\":0,\"fName\":\"yaxis\",\"fTitle\":\"\",\"fNdivisions\":510,\"fAxisColor\":1,\"fLabelColor\":1,\"fLabelFont\":42,\"fLabelOffset\":0.005,\"fLabelSize\":0.035,\"fTickLength\":0.03,\"fTitleOffset\":0,\"fTitleSize\":0.035,\"fTitleColor\":1,\"fTitleFont\":42,\"fNbins\":1,\"fXmin\":0,\"fXmax\":8474.73255405422,\"fXbins\":[],\"fFirst\":0,\"fLast\":0,\"fBits2\":0,\"fTimeDisplay\":false,\"fTimeFormat\":\"\",\"fLabels\":null,\"fModLabs\":null},\"fZaxis\":{\"_typename\":\"TAxis\",\"fUniqueID\":0,\"fBits\":0,\"fName\":\"zaxis\",\"fTitle\":\"\",\"fNdivisions\":510,\"fAxisColor\":1,\"fLabelColor\":1,\"fLabelFont\":42,\"fLabelOffset\":0.005,\"fLabelSize\":0.035,\"fTickLength\":0.03,\"fTitleOffset\":1,\"fTitleSize\":0.035,\"fTitleColor\":1,\"fTitleFont\":42,\"fNbins\":1,\"fXmin\":0,\"fXmax\":1,\"fXbins\":[],\"fFirst\":0,\"fLast\":0,\"fBits2\":0,\"fTimeDisplay\":false,\"fTimeFormat\":\"\",\"fLabels\":null,\"fModLabs\":null},\"fBarOffset\":0,\"fBarWidth\":1000,\"fEntries\":0,\"fTsumw\":0,\"fTsumw2\":0,\"fTsumwx\":0,\"fTsumwx2\":0,\"fMaximum\":8474.73255405422,\"fMinimum\":0,\"fNormFactor\":0,\"fContour\":[],\"fSumw2\":[],\"fOption\":\"\",\"fFunctions\":{\"_typename\":\"TList\",\"name\":\"TList\",\"arr\":[],\"opt\":[]},\"fBufferSize\":0,\"fBuffer\":[],\"fBinStatErrOpt\":0,\"fStatOverflows\":2,\"fArray\":{\"$arr\":\"Float32\",\"len\":108}},\"fMinimum\":-1111,\"fMaximum\":-1111,\"fOption\":\"\",\"_yAxisLabel\":\"Projection of sig + bkg\",\"_ymin\":0,\"_ymax\":7704.30232186747,\"_normValue\":0}},{\"_typename\":\"TWebSnapshot\",\"fUniqueID\":0,\"fBits\":0,\"fObjectID\":\"\",\"fOption\":\"l\",\"fKind\":1,\"fSnapshot\":{\"_typename\":\"RooCurve\",\"fUniqueID\":0,\"fBits\":525320,\"fName\":\"gaussian_curve\",\"fTitle\":\"Projection of sig + bkg\",\"fLineColor\":600,\"fLineStyle\":3,\"fLineWidth\":3,\"fFillColor\":0,\"fFillStyle\":1000,\"fMarkerColor\":1,\"fMarkerStyle\":1,\"fMarkerSize\":1,\"fNpoints\":151,\"fX\":{\"$arr\":\"Float64\",\"len\":151,\"v\":[99.3994,99.4,100,100.6,101.2,101.8,102.4,103,103.6,104.2,104.8,105.4,106,106.6,107.2,107.8,108.4,109,109.6,110.2,110.8,111.4,112,112.6,113.2,113.8,114.4,115,115.6,116.2,116.8,117.4,118,118.6,119.2,119.8,120.4,120.7,121,121.15,121.3,121.45,121.6,121.75,121.9,122.05,122.2,122.35,122.5,122.65,122.8,122.95,123.1,123.4,123.55,123.7,123.85,124,124.075,124.15,124.225,124.3,124.375,124.45,124.525,124.6,124.675,124.75,124.825,124.9,124.975,125.05,125.125,125.2,125.275,125.35,125.5,125.65,125.8,126.4,126.55,126.7,126.85,127,127.15,127.3,127.45,127.6,127.75,127.9,128.05,128.2,128.35,128.5,128.8,129.1,129.4,130,130.6,131.2,131.8,132.4,133,133.6,134.2,134.8,135.4,136,136.6,137.2,137.8,138.4,139,139.6,140.2,140.8,141.4,142,142.6,143.2,143.8,144.4,145,145.6,146.2,146.8,147.4,148,148.6,149.2,149.8,150.4,151,151.6,152.2,152.8,153.4,154,154.6,155.2,155.8,156.4,157,157.6,158.2,158.8,159.4,160,160,160.6,160.6006]},\"fY\":{\"$arr\":\"Float64\",\"len\":151,\"p\":1,\"v\":[1.56153270517637e-66,1.56153270517637e-66,2.93023991804725e-63,4.56936735367821e-60,5.92120049922842e-57,6.3762341664138e-54,5.70583945195008e-51,4.24302543727551e-48,2.62199899993164e-45,1.34644992492815e-42,5.74577598231839e-40,2.03754857558731e-37,6.00437836226131e-35,1.47037777512995e-32,2.99219991724454e-30,5.06002988598503e-28,7.11076548410809e-26,8.30386782664194e-24,8.05833464037138e-22,6.49846774289187e-20,4.35489246029272e-18,2.42518403674734e-16,1.12230982604083e-14,4.31600190841428e-13,1.37927634899945e-11,3.662872054766e-10,8.08338021374481e-9,1.48239882974668e-7,2.25911281109901e-6,2.86095858977646e-5,3.01082853619763e-4,0.00263306314193458,0.0191353901942152,0.115561765863726,0.579951685653616,2.41863458663665,4.60797145830022,8.38203560733195,11.1104573547654,14.5575879307185,18.8548011777627,24.1395706956934,30.5500677136487,38.2181677247614,47.2609662800695,57.7710660260488,69.8060744392813,83.3779284050908,98.4428174711557,114.892589840359,132.54857202117,151.158696234482,189.877915468336,209.149913379792,227.727759173708,245.103383423815,260.7700377164,267.810453721365,274.246518624052,280.026081757312,285.101568427104,289.430631280955,292.976738288404,295.709685921554,297.606027455791,298.649407896816,298.830798842644,298.148628563362,296.608804677351,294.224628966375,291.016606047542,287.012149751216,282.245193085569,276.755709548834,270.589155232239,256.430257998208,240.216702881296,222.439640255423,145.679557057457,127.315958541952,109.987194863851,93.9239735311646,79.2840522391996,66.1561571909023,54.5669590516671,44.4901923102828,35.8569928114837,28.566596151968,22.4966668063727,17.5126918896461,13.4760522973284,10.2505582604596,7.70739113074132,4.208742056343,2.19430715950033,1.09230200322932,0.235577576129054,0.0422207521902457,0.00628809047735144,7.78237934291671e-4,8.00399500141464e-5,6.8407232327555e-6,4.85845326207518e-7,2.86744328709061e-8,1.4063468455682e-9,5.73179762455815e-11,1.94128836360526e-12,5.46374035595091e-14,1.27788229474213e-15,2.48366176421032e-17,4.01138963809845e-19,5.38391312727843e-21,6.00484825989362e-23,5.56553386433813e-25,4.28659467626085e-27,2.74358746083591e-29,1.45923755047247e-31,6.44961784936518e-34,2.36887839520633e-36,7.23023394657402e-39,1.83384544579028e-41,3.86521726469041e-44,6.76995666598694e-47,9.85368478598379e-50,1.191824311769e-52,1.1979166840974e-55,1.00055688655144e-58,6.94476821738642e-62,4.00566406467841e-65,1.91995960493984e-68,7.64734101545313e-72,2.53121841239209e-75,6.96224951088993e-79,1.59136698629306e-82,3.02267812752525e-86,4.77105322074556e-90,6.25802677909857e-94,6.82120924159294e-98,6.17854372898849e-102,4.6506287940117e-106,2.9089618524268e-110,1.5120465942447e-114,6.53120207506331e-119,2.34434684714966e-123,6.99280487078963e-128,1.73333198760924e-132,3.5703673051974e-137,3.5703673051974e-137,3.5703673051974e-137]},\"fFunctions\":{\"_typename\":\"TList\",\"name\":\"TList\",\"arr\":[],\"opt\":[]},\"fHistogram\":{\"_typename\":\"TH1F\",\"fUniqueID\":0,\"fBits\":512,\"fName\":\"gaussian_curve\",\"fTitle\":\"Projection of sig + bkg\",\"fLineColor\":602,\"fLineStyle\":1,\"fLineWidth\":1,\"fFillColor\":0,\"fFillStyle\":1001,\"fMarkerColor\":1,\"fMarkerStyle\":1,\"fMarkerSize\":1,\"fNcells\":153,\"fXaxis\":{\"_typename\":\"TAxis\",\"fUniqueID\":0,\"fBits\":0,\"fName\":\"xaxis\",\"fTitle\":\"\",\"fNdivisions\":510,\"fAxisColor\":1,\"fLabelColor\":1,\"fLabelFont\":42,\"fLabelOffset\":0.005,\"fLabelSize\":0.035,\"fTickLength\":0.03,\"fTitleOffset\":1,\"fTitleSize\":0.035,\"fTitleColor\":1,\"fTitleFont\":42,\"fNbins\":151,\"fXmin\":93.27928,\"fXmax\":166.72072,\"fXbins\":[],\"fFirst\":0,\"fLast\":0,\"fBits2\":0,\"fTimeDisplay\":false,\"fTimeFormat\":\"\",\"fLabels\":null,\"fModLabs\":null},\"fYaxis\":{\"_typename\":\"TAxis\",\"fUniqueID\":0,\"fBits\":0,\"fName\":\"yaxis\",\"fTitle\":\"\",\"fNdivisions\":510,\"fAxisColor\":1,\"fLabelColor\":1,\"fLabelFont\":42,\"fLabelOffset\":0.005,\"fLabelSize\":0.035,\"fTickLength\":0.03,\"fTitleOffset\":0,\"fTitleSize\":0.035,\"fTitleColor\":1,\"fTitleFont\":42,\"fNbins\":1,\"fXmin\":0,\"fXmax\":328.713878726908,\"fXbins\":[],\"fFirst\":0,\"fLast\":0,\"fBits2\":0,\"fTimeDisplay\":false,\"fTimeFormat\":\"\",\"fLabels\":null,\"fModLabs\":null},\"fZaxis\":{\"_typename\":\"TAxis\",\"fUniqueID\":0,\"fBits\":0,\"fName\":\"zaxis\",\"fTitle\":\"\",\"fNdivisions\":510,\"fAxisColor\":1,\"fLabelColor\":1,\"fLabelFont\":42,\"fLabelOffset\":0.005,\"fLabelSize\":0.035,\"fTickLength\":0.03,\"fTitleOffset\":1,\"fTitleSize\":0.035,\"fTitleColor\":1,\"fTitleFont\":42,\"fNbins\":1,\"fXmin\":0,\"fXmax\":1,\"fXbins\":[],\"fFirst\":0,\"fLast\":0,\"fBits2\":0,\"fTimeDisplay\":false,\"fTimeFormat\":\"\",\"fLabels\":null,\"fModLabs\":null},\"fBarOffset\":0,\"fBarWidth\":1000,\"fEntries\":0,\"fTsumw\":0,\"fTsumw2\":0,\"fTsumwx\":0,\"fTsumwx2\":0,\"fMaximum\":328.713878726908,\"fMinimum\":0,\"fNormFactor\":0,\"fContour\":[],\"fSumw2\":[],\"fOption\":\"\",\"fFunctions\":{\"_typename\":\"TList\",\"name\":\"TList\",\"arr\":[],\"opt\":[]},\"fBufferSize\":0,\"fBuffer\":[],\"fBinStatErrOpt\":0,\"fStatOverflows\":2,\"fArray\":{\"$arr\":\"Float32\",\"len\":153}},\"fMinimum\":-1111,\"fMaximum\":-1111,\"fOption\":\"\",\"_yAxisLabel\":\"Projection of sig + bkg\",\"_ymin\":0,\"_ymax\":298.830798842644,\"_normValue\":0}},{\"_typename\":\"TWebSnapshot\",\"fUniqueID\":0,\"fBits\":0,\"fObjectID\":\"\",\"fOption\":\"AXISSAME\",\"fKind\":1,\"fSnapshot\":{\"$ref\":19}},{\"_typename\":\"TWebSnapshot\",\"fUniqueID\":0,\"fBits\":0,\"fObjectID\":\"\",\"fOption\":\"blNDC\",\"fKind\":1,\"fSnapshot\":{\"_typename\":\"TPaveText\",\"fUniqueID\":0,\"fBits\":9,\"fLineColor\":1,\"fLineStyle\":1,\"fLineWidth\":1,\"fFillColor\":0,\"fFillStyle\":0,\"fX1\":115.587939483736,\"fY1\":8181.88729209771,\"fX2\":144.412060516264,\"fY2\":8964.9765177532,\"fX1NDC\":0.3078391959799,\"fY1NDC\":0.908086917855285,\"fX2NDC\":0.6921608040201,\"fY2NDC\":0.995000004768372,\"fBorderSize\":0,\"fInit\":1,\"fShadowColor\":1,\"fCornerRadius\":0,\"fOption\":\"blNDC\",\"fName\":\"title\",\"fTextAngle\":0,\"fTextSize\":0,\"fTextAlign\":22,\"fTextColor\":1,\"fTextFont\":42,\"fLabel\":\"\",\"fLongest\":41,\"fMargin\":0.05,\"fLines\":{\"_typename\":\"TList\",\"name\":\"TList\",\"arr\":[{\"_typename\":\"TLatex\",\"fUniqueID\":0,\"fBits\":0,\"fName\":\"\",\"fTitle\":\"Di-photon invariant mass m_{#gamma#gamma}\",\"fTextAngle\":0,\"fTextSize\":0,\"fTextAlign\":0,\"fTextColor\":0,\"fTextFont\":0,\"fX\":0,\"fY\":0,\"fLineColor\":1,\"fLineStyle\":1,\"fLineWidth\":2,\"fLimitFactorSize\":3,\"fOriginSize\":0.0738761276006699}],\"opt\":[\"\"]}}}]},{\"_typename\":\"TWebSnapshot\",\"fUniqueID\":0,\"fBits\":0,\"fObjectID\":\"\",\"fOption\":\"\",\"fKind\":1,\"fSnapshot\":{\"_typename\":\"TLegend\",\"fUniqueID\":0,\"fBits\":8,\"fLineColor\":1,\"fLineStyle\":1,\"fLineWidth\":1,\"fFillColor\":0,\"fFillStyle\":1001,\"fX1\":0.55,\"fY1\":0.75,\"fX2\":0.85,\"fY2\":0.9,\"fX1NDC\":0.55,\"fY1NDC\":0.75,\"fX2NDC\":0.85,\"fY2NDC\":0.9,\"fBorderSize\":1,\"fInit\":1,\"fShadowColor\":1,\"fCornerRadius\":0,\"fOption\":\"brNDC\",\"fName\":\"TPave\",\"fTextAngle\":0,\"fTextSize\":0,\"fTextAlign\":12,\"fTextColor\":1,\"fTextFont\":42,\"fPrimitives\":{\"_typename\":\"TList\",\"name\":\"TList\",\"arr\":[{\"_typename\":\"TLegendEntry\",\"fUniqueID\":0,\"fBits\":0,\"fTextAngle\":0,\"fTextSize\":0,\"fTextAlign\":0,\"fTextColor\":0,\"fTextFont\":42,\"fLineColor\":1,\"fLineStyle\":1,\"fLineWidth\":1,\"fFillColor\":0,\"fFillStyle\":0,\"fMarkerColor\":1,\"fMarkerStyle\":21,\"fMarkerSize\":1,\"fObject\":{\"_typename\":\"RooPlot\",\"fUniqueID\":0,\"fBits\":8,\"fName\":\"frame_m_yy_7efe6b065000\",\"fTitle\":\"Di-photon invariant mass m_{#gamma#gamma}\",\"_hist\":{\"$ref\":19},\"_items\":[{\"_typename\":\"pair<TObject*,string>\",\"first\":{\"$ref\":25},\"second\":\"P\"},{\"_typename\":\"pair<TObject*,string>\",\"first\":{\"$ref\":33},\"second\":\"L\"},{\"_typename\":\"pair<TObject*,string>\",\"first\":{\"$ref\":41},\"second\":\"L\"},{\"_typename\":\"pair<TObject*,string>\",\"first\":{\"$ref\":49},\"second\":\"L\"}],\"_padFactor\":0.05,\"_plotVar\":{\"_typename\":\"RooRealVar\",\"fUniqueID\":0,\"fBits\":0,\"fName\":\"m_yy\",\"fTitle\":\"di-photon invariant mass m_{#gamma#gamma} [GeV]\",\"_serverList\":{\"_typename\":\"RooSTLRefCountList<RooAbsArg>\",\"_storage\":[],\"_refCount\":[]},\"_clientList\":{\"_typename\":\"RooSTLRefCountList<RooAbsArg>\",\"_storage\":[{\"_typename\":\"RooGaussian\",\"fUniqueID\":0,\"fBits\":0,\"fName\":\"gauss\",\"fTitle\":\"gaussian PDF\",\"_serverList\":{\"_typename\":\"RooSTLRefCountList<RooAbsArg>\",\"_storage\":[{\"$ref\":70},{\"_typename\":\"RooRealVar\",\"fUniqueID\":0,\"fBits\":0,\"fName\":\"mean\",\"fTitle\":\"mean of gauss\",\"_serverList\":{\"_typename\":\"RooSTLRefCountList<RooAbsArg>\",\"_storage\":[],\"_refCount\":[]},\"_clientList\":{\"_typename\":\"RooSTLRefCountList<RooAbsArg>\",\"_storage\":[{\"$ref\":73}],\"_refCount\":[1]},\"_clientListShape\":{\"_typename\":\"RooSTLRefCountList<RooAbsArg>\",\"_storage\":[],\"_refCount\":[]},\"_clientListValue\":{\"_typename\":\"RooSTLRefCountList<RooAbsArg>\",\"_storage\":[{\"$ref\":73}],\"_refCount\":[1]},\"_proxyList\":{\"_typename\":\"RooRefArray\",\"name\":\"RooRefArray\",\"arr\":[]},\"_boolAttrib\":[],\"_stringAttrib\":[],\"_valueDirty\":true,\"_shapeDirty\":true,\"_operMode\":0,\"_fast\":true,\"_plotMin\":0,\"_plotMax\":0,\"_plotBins\":100,\"_value\":124.72824330483,\"_unit\":\"\",\"_label\":\"\",\"_forceNumInt\":false,\"_specIntegratorConfig\":null,\"fUniqueID\":0,\"fBits\":0,\"_uuid\":{\"_typename\":\"TUUID\",\"fTimeLow\":1699409560,\"fTimeMid\":40564,\"fTimeHiAndVersion\":4592,\"fClockSeqHiAndReserved\":184,\"fClockSeqLow\":109,\"fNode\":{\"$arr\":\"Uint8\",\"len\":6,\"v\":[184,72,100,10,190,239]}},\"_altBinning\":[],\"_blob\":[0.288482069378503,0.288482069378503,0.288482069378503]},{\"_typename\":\"RooRealVar\",\"fUniqueID\":0,\"fBits\":0,\"fName\":\"sigma\",\"fTitle\":\"width of gauss\",\"_serverList\":{\"_typename\":\"RooSTLRefCountList<RooAbsArg>\",\"_storage\":[],\"_refCount\":[]},\"_clientList\":{\"_typename\":\"RooSTLRefCountList<RooAbsArg>\",\"_storage\":[{\"$ref\":73}],\"_refCount\":[1]},\"_clientListShape\":{\"_typename\":\"RooSTLRefCountList<RooAbsArg>\",\"_storage\":[],\"_refCount\":[]},\"_clientListValue\":{\"_typename\":\"RooSTLRefCountList<RooAbsArg>\",\"_storage\":[{\"$ref\":73}],\"_refCount\":[1]},\"_proxyList\":{\"_typename\":\"RooRefArray\",\"name\":\"RooRefArray\",\"arr\":[]},\"_boolAttrib\":[],\"_stringAttrib\":[],\"_valueDirty\":true,\"_shapeDirty\":true,\"_operMode\":0,\"_fast\":true,\"_plotMin\":0,\"_plotMax\":0,\"_plotBins\":100,\"_value\":1.3944968516662,\"_unit\":\"\",\"_label\":\"\",\"_forceNumInt\":false,\"_specIntegratorConfig\":null,\"fUniqueID\":0,\"fBits\":0,\"_uuid\":{\"_typename\":\"TUUID\",\"fTimeLow\":1699409610,\"fTimeMid\":40564,\"fTimeHiAndVersion\":4592,\"fClockSeqHiAndReserved\":184,\"fClockSeqLow\":109,\"fNode\":{\"$arr\":\"Uint8\",\"len\":6,\"v\":[184,72,100,10,190,239]}},\"_altBinning\":[],\"_blob\":[0.424796836846636,0.424796836846636,0.424796836846636]}],\"_refCount\":[1,1,1]},\"_clientList\":{\"_typename\":\"RooSTLRefCountList<RooAbsArg>\",\"_storage\":[{\"_typename\":\"RooAddPdf\",\"fUniqueID\":0,\"fBits\":0,\"fName\":\"model\",\"fTitle\":\"sig + bkg\",\"_serverList\":{\"_typename\":\"RooSTLRefCountList<RooAbsArg>\",\"_storage\":[{\"$ref\":73},{\"_typename\":\"RooRealVar\",\"fUniqueID\":0,\"fBits\":0,\"fName\":\"nsig\",\"fTitle\":\"signal yield\",\"_serverList\":{\"_typename\":\"RooSTLRefCountList<RooAbsArg>\",\"_storage\":[],\"_refCount\":[]},\"_clientList\":{\"_typename\":\"RooSTLRefCountList<RooAbsArg>\",\"_storage\":[{\"$ref\":92}],\"_refCount\":[1]},\"_clientListShape\":{\"_typename\":\"RooSTLRefCountList<RooAbsArg>\",\"_storage\":[],\"_refCount\":[]},\"_clientListValue\":{\"_typename\":\"RooSTLRefCountList<RooAbsArg>\",\"_storage\":[{\"$ref\":92}],\"_refCount\":[1]},\"_proxyList\":{\"_typename\":\"RooRefArray\",\"name\":\"RooRefArray\",\"arr\":[]},\"_boolAttrib\":[],\"_stringAttrib\":[],\"_valueDirty\":true,\"_shapeDirty\":true,\"_operMode\":0,\"_fast\":true,\"_plotMin\":0,\"_plotMax\":0,\"_plotBins\":100,\"_value\":1044.79749038755,\"_unit\":\"\",\"_label\":\"\",\"_forceNumInt\":false,\"_specIntegratorConfig\":null,\"fUniqueID\":0,\"fBits\":0,\"_uuid\":{\"_typename\":\"TUUID\",\"fTimeLow\":1699409600,\"fTimeMid\":40564,\"fTimeHiAndVersion\":4592,\"fClockSeqHiAndReserved\":184,\"fClockSeqLow\":109,\"fNode\":{\"$arr\":\"Uint8\",\"len\":6,\"v\":[184,72,100,10,190,239]}},\"_altBinning\":[],\"_blob\":[295.292276868329,295.292276868329,295.292276868329]},{\"_typename\":\"RooChebychev\",\"fUniqueID\":0,\"fBits\":0,\"fName\":\"bkg\",\"fTitle\":\"Chebychev background\",\"_serverList\":{\"_typename\":\"RooSTLRefCountList<RooAbsArg>\",\"_storage\":[{\"$ref\":70},{\"_typename\":\"RooRealVar\",\"fUniqueID\":0,\"fBits\":0,\"fName\":\"a0\",\"fTitle\":\"a0\",\"_serverList\":{\"_typename\":\"RooSTLRefCountList<RooAbsArg>\",\"_storage\":[],\"_refCount\":[]},\"_clientList\":{\"_typename\":\"RooSTLRefCountList<RooAbsArg>\",\"_storage\":[{\"$ref\":102}],\"_refCount\":[1]},\"_clientListShape\":{\"_typename\":\"RooSTLRefCountList<RooAbsArg>\",\"_storage\":[],\"_refCount\":[]},\"_clientListValue\":{\"_typename\":\"RooSTLRefCountList<RooAbsArg>\",\"_storage\":[{\"$ref\":102}],\"_refCount\":[1]},\"_proxyList\":{\"_typename\":\"RooRefArray\",\"name\":\"RooRefArray\",\"arr\":[]},\"_boolAttrib\":[],\"_stringAttrib\":[],\"_valueDirty\":true,\"_shapeDirty\":true,\"_operMode\":0,\"_fast\":true,\"_plotMin\":0,\"_plotMax\":0,\"_plotBins\":100,\"_value\":-0.731279596097201,\"_unit\":\"\",\"_label\":\"\",\"_forceNumInt\":false,\"_specIntegratorConfig\":null,\"fUniqueID\":0,\"fBits\":0,\"_uuid\":{\"_typename\":\"TUUID\",\"fTimeLow\":1699409460,\"fTimeMid\":40564,\"fTimeHiAndVersion\":4592,\"fClockSeqHiAndReserved\":184,\"fClockSeqLow\":109,\"fNode\":{\"$arr\":\"Uint8\",\"len\":6,\"v\":[184,72,100,10,190,239]}},\"_altBinning\":[],\"_blob\":[0.00363138656651596,0.00363138656651596,0.00363138656651596]},{\"_typename\":\"RooRealVar\",\"fUniqueID\":0,\"fBits\":0,\"fName\":\"a1\",\"fTitle\":\"a1\",\"_serverList\":{\"_typename\":\"RooSTLRefCountList<RooAbsArg>\",\"_storage\":[],\"_refCount\":[]},\"_clientList\":{\"_typename\":\"RooSTLRefCountList<RooAbsArg>\",\"_storage\":[{\"$ref\":102}],\"_refCount\":[1]},\"_clientListShape\":{\"_typename\":\"RooSTLRefCountList<RooAbsArg>\",\"_storage\":[],\"_refCount\":[]},\"_clientListValue\":{\"_typename\":\"RooSTLRefCountList<RooAbsArg>\",\"_storage\":[{\"$ref\":102}],\"_refCount\":[1]},\"_proxyList\":{\"_typename\":\"RooRefArray\",\"name\":\"RooRefArray\",\"arr\":[]},\"_boolAttrib\":[],\"_stringAttrib\":[],\"_valueDirty\":true,\"_shapeDirty\":true,\"_operMode\":0,\"_fast\":true,\"_plotMin\":0,\"_plotMax\":0,\"_plotBins\":100,\"_value\":0.0992972077460277,\"_unit\":\"\",\"_label\":\"\",\"_forceNumInt\":false,\"_specIntegratorConfig\":null,\"fUniqueID\":0,\"fBits\":0,\"_uuid\":{\"_typename\":\"TUUID\",\"fTimeLow\":1699409510,\"fTimeMid\":40564,\"fTimeHiAndVersion\":4592,\"fClockSeqHiAndReserved\":184,\"fClockSeqLow\":109,\"fNode\":{\"$arr\":\"Uint8\",\"len\":6,\"v\":[184,72,100,10,190,239]}},\"_altBinning\":[],\"_blob\":[0.00392726454847295,0.00392726454847295,0.00392726454847295]},{\"_typename\":\"RooRealVar\",\"fUniqueID\":0,\"fBits\":0,\"fName\":\"a2\",\"fTitle\":\"a2\",\"_serverList\":{\"_typename\":\"RooSTLRefCountList<RooAbsArg>\",\"_storage\":[],\"_refCount\":[]},\"_clientList\":{\"_typename\":\"RooSTLRefCountList<RooAbsArg>\",\"_storage\":[{\"$ref\":102}],\"_refCount\":[1]},\"_clientListShape\":{\"_typename\":\"RooSTLRefCountList<RooAbsArg>\",\"_storage\":[],\"_refCount\":[]},\"_clientListValue\":{\"_typename\":\"RooSTLRefCountList<RooAbsArg>\",\"_storage\":[{\"$ref\":102}],\"_refCount\":[1]},\"_proxyList\":{\"_typename\":\"RooRefArray\",\"name\":\"RooRefArray\",\"arr\":[]},\"_boolAttrib\":[],\"_stringAttrib\":[],\"_valueDirty\":true,\"_shapeDirty\":true,\"_operMode\":0,\"_fast\":true,\"_plotMin\":0,\"_plotMax\":0,\"_plotBins\":100,\"_value\":0.0180945095144307,\"_unit\":\"\",\"_label\":\"\",\"_forceNumInt\":false,\"_specIntegratorConfig\":null,\"fUniqueID\":0,\"fBits\":0,\"_uuid\":{\"_typename\":\"TUUID\",\"fTimeLow\":1699409520,\"fTimeMid\":40564,\"fTimeHiAndVersion\":4592,\"fClockSeqHiAndReserved\":184,\"fClockSeqLow\":109,\"fNode\":{\"$arr\":\"Uint8\",\"len\":6,\"v\":[184,72,100,10,190,239]}},\"_altBinning\":[],\"_blob\":[0.00379396981328143,0.00379396981328143,0.00379396981328143]},{\"_typename\":\"RooRealVar\",\"fUniqueID\":0,\"fBits\":0,\"fName\":\"a3\",\"fTitle\":\"a3\",\"_serverList\":{\"_typename\":\"RooSTLRefCountList<RooAbsArg>\",\"_storage\":[],\"_refCount\":[]},\"_clientList\":{\"_typename\":\"RooSTLRefCountList<RooAbsArg>\",\"_storage\":[{\"$ref\":102}],\"_refCount\":[1]},\"_clientListShape\":{\"_typename\":\"RooSTLRefCountList<RooAbsArg>\",\"_storage\":[],\"_refCount\":[]},\"_clientListValue\":{\"_typename\":\"RooSTLRefCountList<RooAbsArg>\",\"_storage\":[{\"$ref\":102}],\"_refCount\":[1]},\"_proxyList\":{\"_typename\":\"RooRefArray\",\"name\":\"RooRefArray\",\"arr\":[]},\"_boolAttrib\":[],\"_stringAttrib\":[],\"_valueDirty\":true,\"_shapeDirty\":true,\"_operMode\":0,\"_fast\":true,\"_plotMin\":0,\"_plotMax\":0,\"_plotBins\":100,\"_value\":-0.0119550700251624,\"_unit\":\"\",\"_label\":\"\",\"_forceNumInt\":false,\"_specIntegratorConfig\":null,\"fUniqueID\":0,\"fBits\":0,\"_uuid\":{\"_typename\":\"TUUID\",\"fTimeLow\":1699409530,\"fTimeMid\":40564,\"fTimeHiAndVersion\":4592,\"fClockSeqHiAndReserved\":184,\"fClockSeqLow\":109,\"fNode\":{\"$arr\":\"Uint8\",\"len\":6,\"v\":[184,72,100,10,190,239]}},\"_altBinning\":[],\"_blob\":[0.00353332067788625,0.00353332067788625,0.00353332067788625]},{\"_typename\":\"RooRealVar\",\"fUniqueID\":0,\"fBits\":0,\"fName\":\"a4\",\"fTitle\":\"a4\",\"_serverList\":{\"_typename\":\"RooSTLRefCountList<RooAbsArg>\",\"_storage\":[],\"_refCount\":[]},\"_clientList\":{\"_typename\":\"RooSTLRefCountList<RooAbsArg>\",\"_storage\":[{\"$ref\":102}],\"_refCount\":[1]},\"_clientListShape\":{\"_typename\":\"RooSTLRefCountList<RooAbsArg>\",\"_storage\":[],\"_refCount\":[]},\"_clientListValue\":{\"_typename\":\"RooSTLRefCountList<RooAbsArg>\",\"_storage\":[{\"$ref\":102}],\"_refCount\":[1]},\"_proxyList\":{\"_typename\":\"RooRefArray\",\"name\":\"RooRefArray\",\"arr\":[]},\"_boolAttrib\":[],\"_stringAttrib\":[],\"_valueDirty\":true,\"_shapeDirty\":true,\"_operMode\":0,\"_fast\":true,\"_plotMin\":0,\"_plotMax\":0,\"_plotBins\":100,\"_value\":0.00462274847700956,\"_unit\":\"\",\"_label\":\"\",\"_forceNumInt\":false,\"_specIntegratorConfig\":null,\"fUniqueID\":0,\"fBits\":0,\"_uuid\":{\"_typename\":\"TUUID\",\"fTimeLow\":1699409550,\"fTimeMid\":40564,\"fTimeHiAndVersion\":4592,\"fClockSeqHiAndReserved\":184,\"fClockSeqLow\":109,\"fNode\":{\"$arr\":\"Uint8\",\"len\":6,\"v\":[184,72,100,10,190,239]}},\"_altBinning\":[],\"_blob\":[0.00348351805853679,0.00348351805853679,0.00348351805853679]}],\"_refCount\":{\"$arr\":\"Uint32\",\"len\":6,\"v\":1,\"n\":6}},\"_clientList\":{\"_typename\":\"RooSTLRefCountList<RooAbsArg>\",\"_storage\":[{\"$ref\":92}],\"_refCount\":[1]},\"_clientListShape\":{\"_typename\":\"RooSTLRefCountList<RooAbsArg>\",\"_storage\":[],\"_refCount\":[]},\"_clientListValue\":{\"_typename\":\"RooSTLRefCountList<RooAbsArg>\",\"_storage\":[{\"$ref\":92}],\"_refCount\":[1]},\"_proxyList\":{\"_typename\":\"RooRefArray\",\"name\":\"RooRefArray\",\"arr\":[{\"_typename\":\"RooTemplateProxy<RooAbsReal>\",\"fUniqueID\":0,\"fBits\":0,\"fName\":\"x\",\"fTitle\":\"Dependent\",\"_owner\":{\"$ref\":102},\"_arg\":{\"$ref\":70},\"_valueServer\":true,\"_shapeServer\":false,\"_isFund\":true,\"_ownArg\":false},{\"_typename\":\"RooCollectionProxy<RooArgList>\",\"fUniqueID\":0,\"fBits\":0,\"_list\":[{\"$ref\":104},{\"$ref\":112},{\"$ref\":120},{\"$ref\":128},{\"$ref\":136}],\"_ownCont\":false,\"_name\":\"coefficients\",\"_allRRV\":true,\"_owner\":{\"$ref\":102},\"_defValueServer\":true,\"_defShapeServer\":false}]},\"_boolAttrib\":[],\"_stringAttrib\":[],\"_valueDirty\":true,\"_shapeDirty\":true,\"_operMode\":0,\"_fast\":false,\"_plotMin\":0,\"_plotMax\":0,\"_plotBins\":100,\"_value\":0,\"_unit\":\"\",\"_label\":\"\",\"_forceNumInt\":false,\"_specIntegratorConfig\":null,\"_rawValue\":0,\"_errorCount\":10,\"_traceCount\":0,\"_negCount\":10,\"_selectComp\":true,\"_normRange\":\"\",\"_x\":{\"_typename\":\"RooTemplateProxy<RooAbsReal>\",\"fUniqueID\":0,\"fBits\":0,\"fName\":\"x\",\"fTitle\":\"Dependent\",\"_owner\":{\"$ref\":102},\"_arg\":{\"$ref\":70},\"_valueServer\":true,\"_shapeServer\":false,\"_isFund\":true,\"_ownArg\":false},\"_coefList\":{\"_typename\":\"RooCollectionProxy<RooArgList>\",\"fUniqueID\":0,\"fBits\":0,\"_list\":[{\"$ref\":104},{\"$ref\":112},{\"$ref\":120},{\"$ref\":128},{\"$ref\":136}],\"_ownCont\":false,\"_name\":\"coefficients\",\"_allRRV\":true,\"_owner\":{\"$ref\":102},\"_defValueServer\":true,\"_defShapeServer\":false},\"_refRangeName\":null},{\"_typename\":\"RooRealVar\",\"fUniqueID\":0,\"fBits\":0,\"fName\":\"nbkg\",\"fTitle\":\"background yield\",\"_serverList\":{\"_typename\":\"RooSTLRefCountList<RooAbsArg>\",\"_storage\":[],\"_refCount\":[]},\"_clientList\":{\"_typename\":\"RooSTLRefCountList<RooAbsArg>\",\"_storage\":[{\"$ref\":92}],\"_refCount\":[1]},\"_clientListShape\":{\"_typename\":\"RooSTLRefCountList<RooAbsArg>\",\"_storage\":[],\"_refCount\":[]},\"_clientListValue\":{\"_typename\":\"RooSTLRefCountList<RooAbsArg>\",\"_storage\":[{\"$ref\":92}],\"_refCount\":[1]},\"_proxyList\":{\"_typename\":\"RooRefArray\",\"name\":\"RooRefArray\",\"arr\":[]},\"_boolAttrib\":[],\"_stringAttrib\":[],\"_valueDirty\":true,\"_shapeDirty\":true,\"_operMode\":0,\"_fast\":true,\"_plotMin\":0,\"_plotMax\":0,\"_plotBins\":100,\"_value\":249107.947758541,\"_unit\":\"\",\"_label\":\"\",\"_forceNumInt\":false,\"_specIntegratorConfig\":null,\"fUniqueID\":0,\"fBits\":0,\"_uuid\":{\"_typename\":\"TUUID\",\"fTimeLow\":1699409570,\"fTimeMid\":40564,\"fTimeHiAndVersion\":4592,\"fClockSeqHiAndReserved\":184,\"fClockSeqLow\":109,\"fNode\":{\"$arr\":\"Uint8\",\"len\":6,\"v\":[184,72,100,10,190,239]}},\"_altBinning\":[],\"_blob\":[583.209757779041,583.209757779041,583.209757779041]}],\"_refCount\":[1,1,1,1]},\"_clientList\":{\"_typename\":\"RooSTLRefCountList<RooAbsArg>\",\"_storage\":[],\"_refCount\":[]},\"_clientListShape\":{\"_typename\":\"RooSTLRefCountList<RooAbsArg>\",\"_storage\":[],\"_refCount\":[]},\"_clientListValue\":{\"_typename\":\"RooSTLRefCountList<RooAbsArg>\",\"_storage\":[],\"_refCount\":[]},\"_proxyList\":{\"_typename\":\"RooRefArray\",\"name\":\"RooRefArray\",\"arr\":[{\"_typename\":\"RooCollectionProxy<RooArgSet>\",\"fUniqueID\":0,\"fBits\":0,\"_list\":[],\"_ownCont\":false,\"_name\":\"!refCoefNorm\",\"_allRRV\":true,\"_owner\":{\"$ref\":92},\"_defValueServer\":false,\"_defShapeServer\":false},{\"_typename\":\"RooCollectionProxy<RooArgList>\",\"fUniqueID\":0,\"fBits\":0,\"_list\":[{\"$ref\":73},{\"$ref\":102}],\"_ownCont\":false,\"_name\":\"!pdfs\",\"_allRRV\":false,\"_owner\":{\"$ref\":92},\"_defValueServer\":true,\"_defShapeServer\":false},{\"_typename\":\"RooCollectionProxy<RooArgList>\",\"fUniqueID\":0,\"fBits\":0,\"_list\":[{\"$ref\":94},{\"$ref\":152}],\"_ownCont\":false,\"_name\":\"!coefficients\",\"_allRRV\":true,\"_owner\":{\"$ref\":92},\"_defValueServer\":true,\"_defShapeServer\":false}]},\"_boolAttrib\":[],\"_stringAttrib\":[],\"_valueDirty\":true,\"_shapeDirty\":true,\"_operMode\":0,\"_fast\":false,\"_plotMin\":0,\"_plotMax\":0,\"_plotBins\":100,\"_value\":0,\"_unit\":\"\",\"_label\":\"\",\"_forceNumInt\":false,\"_specIntegratorConfig\":null,\"_rawValue\":0,\"_errorCount\":10,\"_traceCount\":0,\"_negCount\":10,\"_selectComp\":true,\"_normRange\":\"\",\"_refCoefNorm\":{\"_typename\":\"RooCollectionProxy<RooArgSet>\",\"fUniqueID\":0,\"fBits\":0,\"_list\":[],\"_ownCont\":false,\"_name\":\"!refCoefNorm\",\"_allRRV\":true,\"_owner\":{\"$ref\":92},\"_defValueServer\":false,\"_defShapeServer\":false},\"_refCoefRangeName\":null,\"_pdfList\":{\"_typename\":\"RooCollectionProxy<RooArgList>\",\"fUniqueID\":0,\"fBits\":0,\"_list\":[{\"$ref\":73},{\"$ref\":102}],\"_ownCont\":false,\"_name\":\"!pdfs\",\"_allRRV\":false,\"_owner\":{\"$ref\":92},\"_defValueServer\":true,\"_defShapeServer\":false},\"_coefList\":{\"_typename\":\"RooCollectionProxy<RooArgList>\",\"fUniqueID\":0,\"fBits\":0,\"_list\":[{\"$ref\":94},{\"$ref\":152}],\"_ownCont\":false,\"_name\":\"!coefficients\",\"_allRRV\":true,\"_owner\":{\"$ref\":92},\"_defValueServer\":true,\"_defShapeServer\":false},\"_haveLastCoef\":true,\"_allExtendable\":false,\"_recursive\":false}],\"_refCount\":[1]},\"_clientListShape\":{\"_typename\":\"RooSTLRefCountList<RooAbsArg>\",\"_storage\":[],\"_refCount\":[]},\"_clientListValue\":{\"_typename\":\"RooSTLRefCountList<RooAbsArg>\",\"_storage\":[{\"$ref\":92}],\"_refCount\":[1]},\"_proxyList\":{\"_typename\":\"RooRefArray\",\"name\":\"RooRefArray\",\"arr\":[{\"_typename\":\"RooTemplateProxy<RooAbsReal>\",\"fUniqueID\":0,\"fBits\":0,\"fName\":\"x\",\"fTitle\":\"Observable\",\"_owner\":{\"$ref\":73},\"_arg\":{\"$ref\":70},\"_valueServer\":true,\"_shapeServer\":false,\"_isFund\":true,\"_ownArg\":false},{\"_typename\":\"RooTemplateProxy<RooAbsReal>\",\"fUniqueID\":0,\"fBits\":0,\"fName\":\"mean\",\"fTitle\":\"Mean\",\"_owner\":{\"$ref\":73},\"_arg\":{\"$ref\":75},\"_valueServer\":true,\"_shapeServer\":false,\"_isFund\":true,\"_ownArg\":false},{\"_typename\":\"RooTemplateProxy<RooAbsReal>\",\"fUniqueID\":0,\"fBits\":0,\"fName\":\"sigma\",\"fTitle\":\"Width\",\"_owner\":{\"$ref\":73},\"_arg\":{\"$ref\":83},\"_valueServer\":true,\"_shapeServer\":false,\"_isFund\":true,\"_ownArg\":false}]},\"_boolAttrib\":[],\"_stringAttrib\":[],\"_valueDirty\":true,\"_shapeDirty\":true,\"_operMode\":0,\"_fast\":false,\"_plotMin\":0,\"_plotMax\":0,\"_plotBins\":100,\"_value\":0,\"_unit\":\"\",\"_label\":\"\",\"_forceNumInt\":false,\"_specIntegratorConfig\":null,\"_rawValue\":0,\"_errorCount\":10,\"_traceCount\":0,\"_negCount\":10,\"_selectComp\":true,\"_normRange\":\"\",\"x\":{\"_typename\":\"RooTemplateProxy<RooAbsReal>\",\"fUniqueID\":0,\"fBits\":0,\"fName\":\"x\",\"fTitle\":\"Observable\",\"_owner\":{\"$ref\":73},\"_arg\":{\"$ref\":70},\"_valueServer\":true,\"_shapeServer\":false,\"_isFund\":true,\"_ownArg\":false},\"mean\":{\"_typename\":\"RooTemplateProxy<RooAbsReal>\",\"fUniqueID\":0,\"fBits\":0,\"fName\":\"mean\",\"fTitle\":\"Mean\",\"_owner\":{\"$ref\":73},\"_arg\":{\"$ref\":75},\"_valueServer\":true,\"_shapeServer\":false,\"_isFund\":true,\"_ownArg\":false},\"sigma\":{\"_typename\":\"RooTemplateProxy<RooAbsReal>\",\"fUniqueID\":0,\"fBits\":0,\"fName\":\"sigma\",\"fTitle\":\"Width\",\"_owner\":{\"$ref\":73},\"_arg\":{\"$ref\":83},\"_valueServer\":true,\"_shapeServer\":false,\"_isFund\":true,\"_ownArg\":false}},{\"$ref\":102}],\"_refCount\":[1,1]},\"_clientListShape\":{\"_typename\":\"RooSTLRefCountList<RooAbsArg>\",\"_storage\":[],\"_refCount\":[]},\"_clientListValue\":{\"_typename\":\"RooSTLRefCountList<RooAbsArg>\",\"_storage\":[{\"$ref\":73},{\"$ref\":102}],\"_refCount\":[1,1]},\"_proxyList\":{\"_typename\":\"RooRefArray\",\"name\":\"RooRefArray\",\"arr\":[]},\"_boolAttrib\":[],\"_stringAttrib\":[],\"_valueDirty\":true,\"_shapeDirty\":true,\"_operMode\":0,\"_fast\":true,\"_plotMin\":0,\"_plotMax\":0,\"_plotBins\":100,\"_value\":130,\"_unit\":\"\",\"_label\":\"\",\"_forceNumInt\":false,\"_specIntegratorConfig\":null,\"fUniqueID\":0,\"fBits\":0,\"_uuid\":{\"_typename\":\"TUUID\",\"fTimeLow\":1699191310,\"fTimeMid\":40564,\"fTimeHiAndVersion\":4592,\"fClockSeqHiAndReserved\":184,\"fClockSeqLow\":109,\"fNode\":{\"$arr\":\"Uint8\",\"len\":6,\"v\":[184,72,100,10,190,239]}},\"_altBinning\":[],\"_blob\":[-1,1,-1]},\"_plotVarSet\":null,\"_normVars\":{\"_typename\":\"RooArgSet\",\"fUniqueID\":0,\"fBits\":0,\"_list\":[{\"_typename\":\"RooRealVar\",\"fUniqueID\":0,\"fBits\":0,\"fName\":\"m_yy\",\"fTitle\":\"di-photon invariant mass m_{#gamma#gamma} [GeV]\",\"_serverList\":{\"_typename\":\"RooSTLRefCountList<RooAbsArg>\",\"_storage\":[],\"_refCount\":[]},\"_clientList\":{\"_typename\":\"RooSTLRefCountList<RooAbsArg>\",\"_storage\":[],\"_refCount\":[]},\"_clientListShape\":{\"_typename\":\"RooSTLRefCountList<RooAbsArg>\",\"_storage\":[],\"_refCount\":[]},\"_clientListValue\":{\"_typename\":\"RooSTLRefCountList<RooAbsArg>\",\"_storage\":[],\"_refCount\":[]},\"_proxyList\":{\"_typename\":\"RooRefArray\",\"name\":\"RooRefArray\",\"arr\":[]},\"_boolAttrib\":[\"SnapShot_ExtRefClone\"],\"_stringAttrib\":[],\"_valueDirty\":true,\"_shapeDirty\":true,\"_operMode\":0,\"_fast\":true,\"_plotMin\":0,\"_plotMax\":0,\"_plotBins\":100,\"_value\":159.5,\"_unit\":\"\",\"_label\":\"\",\"_forceNumInt\":false,\"_specIntegratorConfig\":null,\"fUniqueID\":0,\"fBits\":0,\"_uuid\":{\"_typename\":\"TUUID\",\"fTimeLow\":1699191310,\"fTimeMid\":40564,\"fTimeHiAndVersion\":4592,\"fClockSeqHiAndReserved\":184,\"fClockSeqLow\":109,\"fNode\":{\"$arr\":\"Uint8\",\"len\":6,\"v\":[184,72,100,10,190,239]}},\"_altBinning\":[],\"_blob\":[-1,1,-1]}],\"_ownCont\":true,\"_name\":\"\",\"_allRRV\":true},\"_normNumEvts\":250126,\"_normBinWidth\":1,\"_defYmin\":1e-5,\"_defYmax\":8109.0239134813},\"fLabel\":\"Data\",\"fOption\":\"lep\"},{\"_typename\":\"TLegendEntry\",\"fUniqueID\":0,\"fBits\":0,\"fTextAngle\":0,\"fTextSize\":0,\"fTextAlign\":0,\"fTextColor\":0,\"fTextFont\":42,\"fLineColor\":600,\"fLineStyle\":1,\"fLineWidth\":2,\"fFillColor\":0,\"fFillStyle\":0,\"fMarkerColor\":1,\"fMarkerStyle\":21,\"fMarkerSize\":1,\"fObject\":{\"$ref\":33},\"fLabel\":\"Sig+Bkg Fit (m_{H}=125 GeV)\",\"fOption\":\"l\"},{\"_typename\":\"TLegendEntry\",\"fUniqueID\":0,\"fBits\":0,\"fTextAngle\":0,\"fTextSize\":0,\"fTextAlign\":0,\"fTextColor\":0,\"fTextFont\":42,\"fLineColor\":632,\"fLineStyle\":2,\"fLineWidth\":2,\"fFillColor\":0,\"fFillStyle\":0,\"fMarkerColor\":1,\"fMarkerStyle\":21,\"fMarkerSize\":1,\"fObject\":{\"$ref\":41},\"fLabel\":\"Bkg (4th order polynomial)\",\"fOption\":\"l\"}],\"opt\":[\"lep\",\"l\",\"l\"]},\"fEntrySeparation\":0.1,\"fMargin\":0.25,\"fNColumns\":1,\"fColumnSeparation\":0}},{\"_typename\":\"TWebSnapshot\",\"fUniqueID\":0,\"fBits\":0,\"fObjectID\":\"\",\"fOption\":\"\",\"fKind\":1,\"fSnapshot\":{\"_typename\":\"TLatex\",\"fUniqueID\":0,\"fBits\":16393,\"fName\":\"\",\"fTitle\":\"ATLAS Open Data\",\"fTextAngle\":0,\"fTextSize\":0.03,\"fTextAlign\":11,\"fTextColor\":1,\"fTextFont\":62,\"fX\":0.6,\"fY\":0.7,\"fLineColor\":1,\"fLineStyle\":1,\"fLineWidth\":2,\"fLimitFactorSize\":3,\"fOriginSize\":0.04}},{\"_typename\":\"TWebSnapshot\",\"fUniqueID\":0,\"fBits\":0,\"fObjectID\":\"\",\"fOption\":\"\",\"fKind\":1,\"fSnapshot\":{\"_typename\":\"TLatex\",\"fUniqueID\":0,\"fBits\":16393,\"fName\":\"\",\"fTitle\":\"#sqrt{s}=13 TeV, #int L dt = 36 fb^{-1}\",\"fTextAngle\":0,\"fTextSize\":0.03,\"fTextAlign\":11,\"fTextColor\":1,\"fTextFont\":62,\"fX\":0.6,\"fY\":0.65,\"fLineColor\":1,\"fLineStyle\":1,\"fLineWidth\":2,\"fLimitFactorSize\":3,\"fOriginSize\":0.04}},{\"_typename\":\"TWebSnapshot\",\"fUniqueID\":0,\"fBits\":0,\"fObjectID\":\"\",\"fOption\":\"\",\"fKind\":1,\"fSnapshot\":{\"_typename\":\"TLatex\",\"fUniqueID\":0,\"fBits\":16393,\"fName\":\"\",\"fTitle\":\"H #rightarrow #gamma#gamma\",\"fTextAngle\":0,\"fTextSize\":0.03,\"fTextAlign\":11,\"fTextColor\":1,\"fTextFont\":62,\"fX\":0.6,\"fY\":0.6,\"fLineColor\":1,\"fLineStyle\":1,\"fLineWidth\":2,\"fLimitFactorSize\":3,\"fOriginSize\":0.04}},{\"_typename\":\"TPadWebSnapshot\",\"fUniqueID\":0,\"fBits\":0,\"fObjectID\":\"\",\"fOption\":\"\",\"fKind\":3,\"fSnapshot\":{\"_typename\":\"TPad\",\"fUniqueID\":0,\"fBits\":9,\"fLineColor\":1,\"fLineStyle\":1,\"fLineWidth\":1,\"fFillColor\":0,\"fFillStyle\":1001,\"fLeftMargin\":0.1,\"fRightMargin\":0.1,\"fBottomMargin\":0.3,\"fTopMargin\":0,\"fXfile\":2,\"fYfile\":2,\"fAfile\":1,\"fXstat\":0.99,\"fYstat\":0.99,\"fAstat\":2,\"fFrameFillColor\":0,\"fFrameLineColor\":1,\"fFrameFillStyle\":1001,\"fFrameLineStyle\":1,\"fFrameLineWidth\":1,\"fFrameBorderSize\":1,\"fFrameBorderMode\":0,\"fX1\":92.4999994412064,\"fY1\":-431.053728356663,\"fX2\":167.500000558794,\"fY2\":360.928298197206,\"fXtoAbsPixelk\":-981.733312773704,\"fXtoPixelk\":-981.733312773704,\"fXtoPixel\":10.6133331751823,\"fYtoAbsPixelk\":465.569088327398,\"fYtoPixelk\":65.1690883273977,\"fYtoPixel\":-0.180559653130302,\"fUtoAbsPixelk\":0,\"fUtoPixelk\":0,\"fUtoPixel\":796,\"fVtoAbsPixelk\":543.4,\"fVtoPixelk\":143,\"fVtoPixel\":-143,\"fAbsPixeltoXk\":92.4999994412064,\"fPixeltoXk\":92.4999994412064,\"fPixeltoX\":0.0942211069316421,\"fAbsPixeltoYk\":2578.47797254804,\"fPixeltoYk\":-431.053728356663,\"fPixeltoY\":-5.53833585002706,\"fXlowNDC\":0,\"fYlowNDC\":0.05,\"fXUpNDC\":1,\"fYUpNDC\":0.3,\"fWNDC\":1,\"fHNDC\":0.25,\"fAbsXlowNDC\":0,\"fAbsYlowNDC\":0.05,\"fAbsWNDC\":1,\"fAbsHNDC\":0.25,\"fUxmin\":100,\"fUymin\":-193.459110949341,\"fUxmax\":160,\"fUymax\":360.928298197206,\"fTheta\":30,\"fPhi\":30,\"fAspectRatio\":0,\"fNumber\":0,\"fTickx\":0,\"fTicky\":0,\"fLogx\":0,\"fLogy\":0,\"fLogz\":0,\"fPadPaint\":0,\"fCrosshair\":0,\"fCrosshairPos\":0,\"fBorderSize\":2,\"fBorderMode\":0,\"fModified\":false,\"fGridx\":false,\"fGridy\":false,\"fAbsCoord\":false,\"fEditable\":true,\"fFixedAspectRatio\":false,\"fPrimitives\":{\"_typename\":\"TList\",\"name\":\"TList\",\"arr\":[],\"opt\":[]},\"fExecs\":{\"_typename\":\"TList\",\"name\":\"TList\",\"arr\":[],\"opt\":[]},\"fName\":\"residPad\",\"fTitle\":\"residPad\",\"fNumPaletteColor\":0,\"fNextPaletteColor\":0},\"fActive\":false,\"fReadOnly\":true,\"fWithoutPrimitives\":false,\"fHasExecs\":true,\"fPrimitives\":[{\"_typename\":\"TWebSnapshot\",\"fUniqueID\":0,\"fBits\":0,\"fObjectID\":\"\",\"fOption\":\"\",\"fKind\":1,\"fSnapshot\":{\"_typename\":\"TFrame\",\"fUniqueID\":0,\"fBits\":8,\"fLineColor\":1,\"fLineStyle\":1,\"fLineWidth\":1,\"fFillColor\":0,\"fFillStyle\":1001,\"fX1\":100,\"fY1\":-193.459110949341,\"fX2\":160,\"fY2\":360.928298197206,\"fBorderSize\":1,\"fBorderMode\":0}},{\"_typename\":\"TWebSnapshot\",\"fUniqueID\":0,\"fBits\":0,\"fObjectID\":\"\",\"fOption\":\"E1\",\"fKind\":1,\"fSnapshot\":{\"_typename\":\"TH1F\",\"fUniqueID\":0,\"fBits\":520,\"fName\":\"residual\",\"fTitle\":\"Diphoton invariant-mass \",\"fLineColor\":1,\"fLineStyle\":1,\"fLineWidth\":1,\"fFillColor\":0,\"fFillStyle\":1001,\"fMarkerColor\":1,\"fMarkerStyle\":20,\"fMarkerSize\":0.5,\"fNcells\":62,\"fXaxis\":{\"_typename\":\"TAxis\",\"fUniqueID\":0,\"fBits\":0,\"fName\":\"xaxis\",\"fTitle\":\"di-photon invariant mass m_{#gamma#gamma} [GeV]\",\"fNdivisions\":510,\"fAxisColor\":1,\"fLabelColor\":1,\"fLabelFont\":42,\"fLabelOffset\":0.005,\"fLabelSize\":0.1,\"fTickLength\":0.03,\"fTitleOffset\":1,\"fTitleSize\":0.1,\"fTitleColor\":1,\"fTitleFont\":42,\"fNbins\":60,\"fXmin\":100,\"fXmax\":160,\"fXbins\":[],\"fFirst\":0,\"fLast\":0,\"fBits2\":0,\"fTimeDisplay\":false,\"fTimeFormat\":\"\",\"fLabels\":null,\"fModLabs\":null},\"fYaxis\":{\"_typename\":\"TAxis\",\"fUniqueID\":0,\"fBits\":0,\"fName\":\"yaxis\",\"fTitle\":\"Events - Bkg\",\"fNdivisions\":510,\"fAxisColor\":1,\"fLabelColor\":1,\"fLabelFont\":42,\"fLabelOffset\":0.005,\"fLabelSize\":0.1,\"fTickLength\":0.03,\"fTitleOffset\":0.5,\"fTitleSize\":0.1,\"fTitleColor\":1,\"fTitleFont\":42,\"fNbins\":1,\"fXmin\":0,\"fXmax\":1,\"fXbins\":[],\"fFirst\":0,\"fLast\":0,\"fBits2\":0,\"fTimeDisplay\":false,\"fTimeFormat\":\"\",\"fLabels\":null,\"fModLabs\":null},\"fZaxis\":{\"_typename\":\"TAxis\",\"fUniqueID\":0,\"fBits\":0,\"fName\":\"zaxis\",\"fTitle\":\"\",\"fNdivisions\":510,\"fAxisColor\":1,\"fLabelColor\":1,\"fLabelFont\":42,\"fLabelOffset\":0.005,\"fLabelSize\":0.035,\"fTickLength\":0.03,\"fTitleOffset\":1,\"fTitleSize\":0.035,\"fTitleColor\":1,\"fTitleFont\":42,\"fNbins\":1,\"fXmin\":0,\"fXmax\":1,\"fXbins\":[],\"fFirst\":0,\"fLast\":0,\"fBits2\":0,\"fTimeDisplay\":false,\"fTimeFormat\":\"\",\"fLabels\":null,\"fModLabs\":null},\"fBarOffset\":0,\"fBarWidth\":1000,\"fEntries\":60,\"fTsumw\":0,\"fTsumw2\":0,\"fTsumwx\":0,\"fTsumwx2\":0,\"fMaximum\":-1111,\"fMinimum\":-1111,\"fNormFactor\":0,\"fContour\":[],\"fSumw2\":[],\"fOption\":\"\",\"fFunctions\":{\"_typename\":\"TList\",\"name\":\"TList\",\"arr\":[],\"opt\":[]},\"fBufferSize\":0,\"fBuffer\":[],\"fBinStatErrOpt\":0,\"fStatOverflows\":2,\"fArray\":{\"$arr\":\"Float32\",\"len\":62,\"p\":1,\"v\":[-21.97412,1.825684,117.2632,6.402832,-39.63574,102.3198,-36.50488,-155.8335,148.6582,-98.65723,15.63818,-91.99365,-2.046387,112.0249,-17.19385,-116.0776,16.03223,24.83203,39.0498,-114.5547,24.81055,78.9624,75.74854,176.0396,316.7319,255.7422,131.0093,15.49219,36.16431,103.0188,-33.93921,-39.69067,-15.20508,-24.44214,83.64624,57.11499,44.02441,-127.5615,-61.57764,36.04248,76.36353,-78.55225,-2.646973,-13.86865,-35.17261,40.47681,12.10449,5.7229,-6.667969,2.915283,-55.56006,65.85461,7.088135,-15.95251,-12.38318,-20.34424,27.99731,-30.5531,14.7804,14.74304]}}},{\"_typename\":\"TWebSnapshot\",\"fUniqueID\":0,\"fBits\":0,\"fObjectID\":\"\",\"fOption\":\"same\",\"fKind\":1,\"fSnapshot\":{\"_typename\":\"TLine\",\"fUniqueID\":0,\"fBits\":8,\"fLineColor\":632,\"fLineStyle\":2,\"fLineWidth\":1,\"fX1\":100,\"fY1\":0,\"fX2\":160,\"fY2\":0}},{\"_typename\":\"TWebSnapshot\",\"fUniqueID\":0,\"fBits\":0,\"fObjectID\":\"\",\"fOption\":\"\",\"fKind\":1,\"fSnapshot\":{\"$ref\":49}},{\"_typename\":\"TWebSnapshot\",\"fUniqueID\":0,\"fBits\":0,\"fObjectID\":\"\",\"fOption\":\"blNDC\",\"fKind\":1,\"fSnapshot\":{\"_typename\":\"TPaveText\",\"fUniqueID\":0,\"fBits\":9,\"fLineColor\":1,\"fLineStyle\":1,\"fLineWidth\":1,\"fFillColor\":0,\"fFillStyle\":0,\"fX1\":125.339824051161,\"fY1\":303.800367680642,\"fX2\":134.660175948839,\"fY2\":356.968391840902,\"fX1NDC\":0.43786432160804,\"fY1NDC\":0.927867137635504,\"fX2NDC\":0.56213567839196,\"fY2NDC\":0.995000004768372,\"fBorderSize\":0,\"fInit\":1,\"fShadowColor\":1,\"fCornerRadius\":0,\"fOption\":\"blNDC\",\"fName\":\"title\",\"fTextAngle\":0,\"fTextSize\":0,\"fTextAlign\":22,\"fTextColor\":1,\"fTextFont\":42,\"fLabel\":\"\",\"fLongest\":24,\"fMargin\":0.05,\"fLines\":{\"_typename\":\"TList\",\"name\":\"TList\",\"arr\":[{\"_typename\":\"TLatex\",\"fUniqueID\":0,\"fBits\":0,\"fName\":\"\",\"fTitle\":\"Diphoton invariant-mass \",\"fTextAngle\":0,\"fTextSize\":0,\"fTextAlign\":0,\"fTextColor\":0,\"fTextFont\":0,\"fX\":0,\"fY\":0,\"fLineColor\":1,\"fLineStyle\":1,\"fLineWidth\":2,\"fLimitFactorSize\":3,\"fOriginSize\":0.0570629388093948}],\"opt\":[\"\"]}}}]}],\"fScripts\":\"\",\"fHighlightConnect\":false,\"fFixedSize\":false});\n",
       "   Core.settings.HandleKeys = false;\n",
       "   Core.draw(\"root_plot_1759288321002\", obj, \"\");\n",
       "}\n",
       "\n",
       "function script_load_root_plot_1759288321002(src, on_error) {\n",
       "    let script = document.createElement('script');\n",
       "    script.src = src;\n",
       "    script.onload = function() { display_root_plot_1759288321002(JSROOT); };\n",
       "    script.onerror = function() { script.remove(); on_error(); };\n",
       "    document.head.appendChild(script);\n",
       "}\n",
       "\n",
       "if (typeof requirejs !== 'undefined') {\n",
       "\n",
       "    // We are in jupyter notebooks, use require.js which should be configured already\n",
       "    requirejs.config({\n",
       "       paths: { 'JSRootCore' : [ 'build/jsroot', 'https://root.cern/js/7.7.4/build/jsroot', 'https://jsroot.gsi.de/7.7.4/build/jsroot' ] }\n",
       "    })(['JSRootCore'],  function(Core) {\n",
       "       display_root_plot_1759288321002(Core);\n",
       "    });\n",
       "\n",
       "} else if (typeof JSROOT !== 'undefined') {\n",
       "\n",
       "   // JSROOT already loaded, just use it\n",
       "   display_root_plot_1759288321002(JSROOT);\n",
       "\n",
       "} else {\n",
       "\n",
       "    // We are in jupyterlab without require.js, directly loading jsroot\n",
       "    // Jupyterlab might be installed in a different base_url so we need to know it.\n",
       "    try {\n",
       "        var base_url = JSON.parse(document.getElementById('jupyter-config-data').innerHTML).baseUrl;\n",
       "    } catch(_) {\n",
       "        var base_url = '/';\n",
       "    }\n",
       "\n",
       "    // Try loading a local version of requirejs and fallback to cdn if not possible.\n",
       "    script_load_root_plot_1759288321002(base_url + 'static/build/jsroot.js', function(){\n",
       "        console.error('Fail to load JSROOT locally, please check your jupyter_notebook_config.py file');\n",
       "        script_load_root_plot_1759288321002('https://root.cern/js/7.7.4/build/jsroot.js', function(){\n",
       "            document.getElementById(\"root_plot_1759288321002\").innerHTML = \"Failed to load JSROOT\";\n",
       "        });\n",
       "    });\n",
       "}\n",
       "\n",
       "</script>\n"
      ],
      "text/plain": [
       "<IPython.core.display.HTML object>"
      ]
     },
     "metadata": {},
     "output_type": "display_data"
    },
    {
     "name": "stdout",
     "output_type": "stream",
     "text": [
      "nbins h_data: 60\n",
      "nbins h_bkg: 60\n",
      "===================================================================\n",
      "integral h_bkg: 0.99999\n",
      "nbkg expected: 249108\n",
      "[#1] INFO:Plotting -- RooAbsPdf::plotOn(model) directly selected PDF components: (bkg)\n",
      "[#1] INFO:Plotting -- RooAbsPdf::plotOn(model) indirectly selected PDF components: ()\n",
      "[#1] INFO:Plotting -- RooAbsPdf::plotOn(model) directly selected PDF components: (gauss)\n",
      "[#1] INFO:Plotting -- RooAbsPdf::plotOn(model) indirectly selected PDF components: ()\n"
     ]
    }
   ],
   "source": [
    "// =======================\n",
    "// Main Pad (Data + Fit)\n",
    "// =======================\n",
    "\n",
    "TCanvas* canvas = new TCanvas(\"canvas\", \"canvas\", 800, 600);\n",
    "\n",
    "TPad* mainPad = new TPad(\"mainPad\", \"mainPad\", 0, 0.3, 1, 1.0);\n",
    "mainPad->SetBottomMargin(0);\n",
    "mainPad->Draw();\n",
    "mainPad->cd();\n",
    "\n",
    "// Get histogram representation of data and background\n",
    "// Ensure both histograms use the same binning\n",
    "\n",
    "int nbins = h_M_Hyy->GetNbinsX();\n",
    "double xmin = h_M_Hyy->GetXaxis()->GetXmin();\n",
    "double xmax = h_M_Hyy->GetXaxis()->GetXmax();\n",
    "\n",
    "TH1* h_data = data_myy.createHistogram(\"h_data\", x, RooFit::Binning(nbins, xmin, xmax));\n",
    "TH1* h_bkg  = bkg.createHistogram(\"h_bkg\", x, RooFit::Binning(nbins, xmin, xmax));\n",
    "\n",
    "std::cout << \"nbins h_data: \" << h_data->GetNbinsX() << endl;\n",
    "std::cout << \"nbins h_bkg: \" << h_bkg->GetNbinsX() << endl;\n",
    "\n",
    "std::cout << \"===================================================================\" << endl;\n",
    "std::cout << \"integral h_bkg: \" << h_bkg->Integral() << endl;\n",
    "std::cout << \"nbkg expected: \" << nbkg << endl;\n",
    "\n",
    "// Normalize background histogram to expected number of events\n",
    "h_bkg->Scale(nbkg.getVal() / h_bkg->Integral());\n",
    "\n",
    "// Create residual histogram (data - bkg)\n",
    "TH1F* resid = new TH1F(\"residual\",\"Diphoton invariant-mass ; Invariant Mass m_{yy} [GeV] ; events\",60,100,160);\n",
    "\n",
    "for(int i = 1; i <= h_data->GetNbinsX(); i++) {\n",
    "    float data_value = h_data->GetBinContent(i);\n",
    "    float bkg_value = h_bkg->GetBinContent(i);\n",
    "\n",
    "    // residual value\n",
    "    float res_value  = data_value - bkg_value;\n",
    "    resid->SetBinContent(i, res_value);\n",
    "}\n",
    "\n",
    "// --- Plot results ---\n",
    "RooPlot* frame = x.frame();\n",
    "data_myy.plotOn(frame, RooFit::MarkerStyle(20), RooFit::MarkerSize(0.5));\n",
    "model.plotOn(frame, RooFit::Name(\"sig_bkg_curve\"), RooFit::LineWidth(2), \n",
    "             RooFit::LineColor(kBlue));\n",
    "model.plotOn(frame, RooFit::Components(\"bkg\"), RooFit::LineWidth(2), RooFit::LineStyle(kDashed), \n",
    "             RooFit::LineColor(kRed), RooFit::Name(\"bkg_curve\"));\n",
    "model.plotOn(frame, RooFit::Components(\"gauss\"), RooFit::LineStyle(kDotted), \n",
    "             RooFit::LineColor(kBlue), RooFit::Name(\"gaussian_curve\"));\n",
    "\n",
    "frame->SetTitle(\"Di-photon invariant mass m_{#gamma#gamma}\");\n",
    "frame->GetYaxis()->SetTitle(\"Events / bin\");\n",
    "frame->GetXaxis()->SetTitleSize(0.05);   // size of x-axis title\n",
    "frame->GetYaxis()->SetTitleSize(0.05);   // size of y-axis title\n",
    "frame->GetXaxis()->SetLabelSize(0.03);   // size of x-axis labels\n",
    "frame->GetYaxis()->SetLabelSize(0.03);   // size of y-axis labels\n",
    "frame->GetXaxis()->SetTitleFont(42);     // Helvetica (ROOT default)\n",
    "frame->GetYaxis()->SetTitleFont(42);\n",
    "\n",
    "frame->Draw();\n",
    "\n",
    "canvas->cd();\n",
    "\n",
    "// Legend\n",
    "RooCurve* sig_bkg_curve = (RooCurve*) frame->findObject(\"sig_bkg_curve\");\n",
    "RooCurve* bkg_curve = (RooCurve*) frame->findObject(\"bkg_curve\");\n",
    "\n",
    "TLegend* legend = new TLegend(0.55, 0.75, 0.85, 0.90);\n",
    "legend->AddEntry(frame, \"Data\", \"lep\");\n",
    "legend->AddEntry(sig_bkg_curve, \"Sig+Bkg Fit (m_{H}=125 GeV)\", \"l\");\n",
    "legend->AddEntry(bkg_curve, \"Bkg (4th order polynomial)\", \"l\");\n",
    "legend->Draw();\n",
    "\n",
    "// Labels\n",
    "TLatex* latex = new TLatex();\n",
    "latex->SetTextSize(0.03);\n",
    "latex->DrawLatexNDC(0.60, 0.70, \"ATLAS Open Data\");\n",
    "latex->DrawLatexNDC(0.60, 0.65, \"#sqrt{s}=13 TeV, #int L dt = 36 fb^{-1}\");\n",
    "latex->DrawLatexNDC(0.60, 0.60, \"H #rightarrow #gamma#gamma\");\n",
    "\n",
    "// =======================\n",
    "// Residual Pad (Data-Bkg vs Fit-Bkg)\n",
    "// =======================\n",
    "TPad* residPad = new TPad(\"residPad\", \"residPad\", 0, 0.05, 1, 0.3);\n",
    "residPad->SetTopMargin(0);\n",
    "residPad->SetBottomMargin(0.3);\n",
    "residPad->Draw();\n",
    "residPad->cd();\n",
    "\n",
    "// Style\n",
    "resid->SetMarkerStyle(20);\n",
    "resid->SetMarkerSize(0.5);\n",
    "resid->SetLineColor(kBlack);\n",
    "resid->GetYaxis()->SetTitle(\"Events - Bkg\");\n",
    "resid->GetYaxis()->SetTitleSize(0.10);\n",
    "resid->GetYaxis()->SetTitleOffset(0.5);\n",
    "resid->GetYaxis()->SetLabelSize(0.10);\n",
    "resid->GetXaxis()->SetTitle(\"di-photon invariant mass m_{#gamma#gamma} [GeV]\");\n",
    "resid->GetXaxis()->SetTitleSize(0.10);\n",
    "resid->GetXaxis()->SetLabelSize(0.10);\n",
    "resid->SetStats(0);\n",
    "\n",
    "// Draw residuals (data - bkg)\n",
    "resid->Draw(\"E1\");\n",
    "\n",
    "// Zero line\n",
    "TLine* zeroLine = new TLine(100, 0, 160, 0);\n",
    "zeroLine->SetLineColor(kRed);\n",
    "zeroLine->SetLineStyle(2);\n",
    "zeroLine->Draw(\"same\");\n",
    "\n",
    "RooCurve* gaussian_curve = (RooCurve*) frame->findObject(\"gaussian_curve\");\n",
    "gaussian_curve->Draw(\"same\");\n",
    "\n",
    "canvas->Draw();"
   ]
  },
  {
   "cell_type": "code",
   "execution_count": 12,
   "metadata": {},
   "outputs": [
    {
     "name": "stdout",
     "output_type": "stream",
     "text": [
      "Time taken: 9.13333 min.\n"
     ]
    }
   ],
   "source": [
    "auto end_time = chrono::steady_clock::now();\n",
    "auto elapsed = chrono::duration_cast<chrono::seconds>(end_time - start_time).count();\n",
    "cout << \"Time taken: \" << elapsed/60. << \" min.\" << endl;"
   ]
  },
  {
   "cell_type": "markdown",
   "metadata": {},
   "source": [
    "**Done!**"
   ]
  }
 ],
 "metadata": {
  "@webio": {
   "lastCommId": null,
   "lastKernelId": null
  },
  "kernelspec": {
   "display_name": "ROOT C++",
   "language": "c++",
   "name": "root"
  },
  "language_info": {
   "codemirror_mode": "text/x-c++src",
   "file_extension": ".C",
   "mimetype": " text/x-c++src",
   "name": "c++"
  }
 },
 "nbformat": 4,
 "nbformat_minor": 4
}
