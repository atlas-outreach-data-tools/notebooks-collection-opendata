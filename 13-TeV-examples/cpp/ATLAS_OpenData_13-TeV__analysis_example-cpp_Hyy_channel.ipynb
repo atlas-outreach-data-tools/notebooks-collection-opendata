{
 "cells": [
  {
   "cell_type": "markdown",
   "metadata": {},
   "source": [
    "<CENTER>\n",
    "    <a href=\"http://opendata.atlas.cern/release/2020/documentation/notebooks/intro.html\" class=\"icons\"><img src=\"../../images/ATLASOD.gif\" style=\"width:40%\"></a>\n",
    "</CENTER>"
   ]
  },
  {
   "cell_type": "markdown",
   "metadata": {},
   "source": [
    "<CENTER><h1>Searching for the Higgs boson in the H&#8594;&gamma;&gamma; channel (using C++) </h1></CENTER>\n",
    "\n",
    "## C++ notebook example"
   ]
  },
  {
   "cell_type": "markdown",
   "metadata": {},
   "source": [
    "**Introduction**\n",
    "Let's take a current ATLAS Open Data sample and create a histogram:"
   ]
  },
  {
   "cell_type": "markdown",
   "metadata": {},
   "source": [
    "In order to activate the interactive visualisation of the histogram that is later created we can use the JSROOT magic:"
   ]
  },
  {
   "cell_type": "code",
   "execution_count": 1,
   "metadata": {},
   "outputs": [],
   "source": [
    "%jsroot on"
   ]
  },
  {
   "cell_type": "markdown",
   "metadata": {},
   "source": [
    "We need to include some standard C++ and ROOT libraries"
   ]
  },
  {
   "cell_type": "code",
   "execution_count": 2,
   "metadata": {},
   "outputs": [],
   "source": [
    "// Creates a TChain to be used by the Analysis.C class\n",
    "#include <TChain.h>\n",
    "#include <vector>\n",
    "#include <TFile.h>\n",
    "#include <iostream>\n",
    "#include <string>\n",
    "#include <stdio.h>"
   ]
  },
  {
   "cell_type": "markdown",
   "metadata": {},
   "source": [
    "Because we would like to use more than one ROOT input file, the best option is to use a TChain object. This allows to \"chain\" several samples into a single structure that we can later loop over"
   ]
  },
  {
   "cell_type": "code",
   "execution_count": 3,
   "metadata": {
    "scrolled": true
   },
   "outputs": [
    {
     "name": "stdout",
     "output_type": "stream",
     "text": [
      "(TString &) \"https://atlas-opendata.web.cern.ch/atlas-opendata/samples/2020/GamGam/\"[70]\n"
     ]
    }
   ],
   "source": [
    "TString path = \"https://atlas-opendata.web.cern.ch/atlas-opendata/samples/2020/GamGam/\""
   ]
  },
  {
   "cell_type": "code",
   "execution_count": 4,
   "metadata": {},
   "outputs": [],
   "source": [
    "TChain* fChain = new TChain(\"mini\");\n",
    "\n",
    "fChain->AddFile(path+\"Data/data_A.GamGam.root\");\n",
    "fChain->AddFile(path+\"Data/data_B.GamGam.root\");\n",
    "fChain->AddFile(path+\"Data/data_C.GamGam.root\");\n",
    "fChain->AddFile(path+\"Data/data_D.GamGam.root\");"
   ]
  },
  {
   "cell_type": "markdown",
   "metadata": {},
   "source": [
    "Now we're going to extract the photons variables"
   ]
  },
  {
   "cell_type": "code",
   "execution_count": 5,
   "metadata": {},
   "outputs": [],
   "source": [
    "UInt_t  Photon_n = -1;  //number of preselected photons\n",
    "\n",
    "vector<float>   *Photon_pt;  //transverse momentum of the photon\n",
    "vector<float>   *Photon_eta = 0;  //pseudorapidity of the photon\n",
    "vector<float>   *Photon_phi = 0;  //azimuthal angle of the photon\n",
    "vector<float>   *Photon_E   = 0;  //energy of the photon\n",
    "vector<bool>    *Photon_isTightID = 0;\n",
    "\n",
    "Bool_t          TrigP = 0;\n",
    "vector<float>   *Photon_ptcone30 = 0;\n",
    "vector<float>   *Photon_etcone20 = 0;"
   ]
  },
  {
   "cell_type": "markdown",
   "metadata": {},
   "source": [
    "Here we're filling the variables defined above with the content of those inside the input ntuples"
   ]
  },
  {
   "cell_type": "code",
   "execution_count": 6,
   "metadata": {},
   "outputs": [],
   "source": [
    "fChain->SetBranchAddress(\"photon_pt\",        &Photon_pt);  \n",
    "fChain->SetBranchAddress(\"photon_n\",         &Photon_n);  \n",
    "\n",
    "fChain->SetBranchAddress(\"photon_eta\",       &Photon_eta);\n",
    "fChain->SetBranchAddress(\"photon_phi\",       &Photon_phi);\n",
    "fChain->SetBranchAddress(\"photon_E\",         &Photon_E);\n",
    "fChain->SetBranchAddress(\"photon_isTightID\", &Photon_isTightID);\n",
    "\n",
    "fChain->SetBranchAddress(\"trigP\",            &TrigP);\n",
    "fChain->SetBranchAddress(\"photon_ptcone30\",  &Photon_ptcone30);\n",
    "fChain->SetBranchAddress(\"photon_etcone20\",  &Photon_etcone20);"
   ]
  },
  {
   "cell_type": "markdown",
   "metadata": {},
   "source": [
    "We're creating a histogram for this example. The plan in to fill them with events."
   ]
  },
  {
   "cell_type": "code",
   "execution_count": 7,
   "metadata": {},
   "outputs": [],
   "source": [
    "//Invariant mass histograms definition\n",
    "TH1F *h_M_Hyy = new TH1F(\"h_M_Hyy\",\"Diphoton invariant-mass ; M_{#gamma#gamma} [GeV] ; Events / bin\", 30, 105, 160);"
   ]
  },
  {
   "cell_type": "markdown",
   "metadata": {},
   "source": [
    "We are selecting below a simple look for them."
   ]
  },
  {
   "cell_type": "code",
   "execution_count": 8,
   "metadata": {},
   "outputs": [],
   "source": [
    "h_M_Hyy->SetMarkerSize(2.0);\n",
    "h_M_Hyy->SetLineColor(kBlue);\n",
    "h_M_Hyy->SetFillColor(kBlue-10);"
   ]
  },
  {
   "cell_type": "markdown",
   "metadata": {},
   "source": [
    "The Higgs boson analysis implemented here considers Higgs boson decays into a photon pair. The event selection criteria are (this will take a few minutes):"
   ]
  },
  {
   "cell_type": "code",
   "execution_count": null,
   "metadata": {},
   "outputs": [],
   "source": [
    "int nentries, nbytes, i;\n",
    "nentries = (Int_t)fChain->GetEntries();\n",
    "\n",
    "// Message at the beginning to indicate how many entries are to be analyzed\n",
    "std::cout << \"* Total number of entries to analyse: \" << nentries << std::endl;\n",
    "\n",
    "// Preselection of good photons\n",
    "for (i = 0; i < nentries; i++)\n",
    "{\n",
    "    nbytes = fChain->GetEntry(i);\n",
    "\n",
    "    // Cut: Diphoton trigger is satisfied\n",
    "    if (TrigP)\n",
    "    {\n",
    "        int goodphoton_index[5];  // give the vector a size good enough to avoid segmentation faults due to events with more than 2 photons.\n",
    "        int goodphoton_n = 0;     // the total number of good photons\n",
    "        int photon_index = 0;\n",
    "\n",
    "        // Loop over all photons and apply cuts\n",
    "        for (unsigned int j = 0; j < Photon_n; j++)\n",
    "        {\n",
    "            // Cut: photons are tight\n",
    "            if (Photon_isTightID->at(j))\n",
    "            {\n",
    "                // Cut: excluding the transition region between the barrel and endcap calorimeters\n",
    "                if (TMath::Abs(Photon_eta->at(j)) < 2.37 &&\n",
    "                    (TMath::Abs(Photon_eta->at(j)) < 1.37 || TMath::Abs(Photon_eta->at(j)) > 1.52))\n",
    "                {\n",
    "                    // Collect the photon that passes the cut\n",
    "                    goodphoton_index[photon_index] = j;\n",
    "                    goodphoton_n++;\n",
    "                    photon_index++;\n",
    "                }\n",
    "            }\n",
    "        }\n",
    "\n",
    "        // Cut: Exactly two photons that passed the eta and isTightID cuts\n",
    "        if (goodphoton_n == 2)\n",
    "        {\n",
    "            int goodphoton1_index = goodphoton_index[0];\n",
    "            int goodphoton2_index = goodphoton_index[1];\n",
    "\n",
    "            // Cut: pT cut - photon 1 has pT > 40 GeV and photon 2 has pT > 30 GeV\n",
    "            if (Photon_pt->at(goodphoton1_index) > 40000. && Photon_pt->at(goodphoton2_index) > 30000.)\n",
    "            {\n",
    "                // Cut: isolation cut - using absolute value of ptcone30 (in MeV)\n",
    "                if (Photon_ptcone30->at(goodphoton1_index) < 4000. && Photon_ptcone30->at(goodphoton2_index) < 4000.)\n",
    "                {\n",
    "                    // TLorentzVector definitions\n",
    "                    TLorentzVector Photon_1 = TLorentzVector();\n",
    "                    TLorentzVector Photon_2 = TLorentzVector();\n",
    "\n",
    "                    Photon_1.SetPtEtaPhiE(Photon_pt->at(goodphoton1_index), Photon_eta->at(goodphoton1_index), Photon_phi->at(goodphoton1_index), Photon_E->at(goodphoton1_index));\n",
    "                    Photon_2.SetPtEtaPhiE(Photon_pt->at(goodphoton2_index), Photon_eta->at(goodphoton2_index), Photon_phi->at(goodphoton2_index), Photon_E->at(goodphoton2_index));\n",
    "\n",
    "                    // Calculation of the Invariant Mass using TLorentz vectors\n",
    "                    TLorentzVector Photon_12 = Photon_1 + Photon_2;\n",
    "                    float mass_inv_GeV = Photon_12.M() / 1000.;\n",
    "\n",
    "                    h_M_Hyy->Fill(mass_inv_GeV);\n",
    "                }\n",
    "            }\n",
    "        }\n",
    "    } // end TrigPhoton request\n",
    "}\n",
    "\n",
    "// Final message after analysis\n",
    "std::cout << \"* Analysed a total of: \" << nentries << \" in this sample.\" << std::endl;\n"
   ]
  },
  {
   "cell_type": "markdown",
   "metadata": {},
   "source": [
    "#### Final plot"
   ]
  },
  {
   "cell_type": "code",
   "execution_count": null,
   "metadata": {},
   "outputs": [],
   "source": [
    "TCanvas *cz = new TCanvas(\"cz\", \"cz\", 900, 600);\n",
    "\n",
    "// Set up the main pad for the fit plot\n",
    "TPad *mainPad = new TPad(\"mainPad\", \"mainPad\", 0, 0.3, 1, 1.0);\n",
    "mainPad->SetBottomMargin(0);  // Upper and lower pads share the X axis\n",
    "mainPad->Draw();\n",
    "mainPad->cd();\n",
    "\n",
    "h_M_Hyy->SetMarkerStyle(20);  // Data markers\n",
    "h_M_Hyy->SetMarkerSize(0.8);\n",
    "h_M_Hyy->SetLineColor(kBlack);\n",
    "h_M_Hyy->SetStats(0);  // Hide stats box\n",
    "\n",
    "// Define the signal + background fit (Gaussian for signal + 4th order polynomial for background)\n",
    "TF1 *sigPlusBkg = new TF1(\"sigPlusBkg\", \"gaus(0) + pol4(3)\", 105, 160);  // Gaussian + 4th order polynomial\n",
    "sigPlusBkg->SetParameters(1000, 125, 2);  // Parameters for the Gaussian (amplitude, mean, sigma)\n",
    "sigPlusBkg->SetLineColor(kRed);\n",
    "sigPlusBkg->SetLineStyle(1);\n",
    "\n",
    "// Define the background-only fit (4th-order polynomial)\n",
    "TF1 *bkgOnly = new TF1(\"bkgOnly\", \"pol4\", 105, 160);  // 4th order polynomial for background\n",
    "bkgOnly->SetLineColor(kRed);\n",
    "bkgOnly->SetLineStyle(2);  // Dashed line for background\n",
    "\n",
    "// Perform the fit (quiet mode to suppress fit output)\n",
    "h_M_Hyy->Fit(\"sigPlusBkg\", \"RQ\");  // Signal + background fit\n",
    "h_M_Hyy->Fit(\"bkgOnly\", \"RQ+\");    // Background-only fit\n",
    "\n",
    "// Draw the data points with error bars\n",
    "h_M_Hyy->Draw(\"E1\");\n",
    "sigPlusBkg->Draw(\"same\");  // Draw signal + background fit\n",
    "bkgOnly->Draw(\"same\");     // Draw background-only fit\n",
    "\n",
    "// Add legend to main plot\n",
    "TLegend *legend = new TLegend(0.55, 0.65, 0.9, 0.85);\n",
    "legend->AddEntry(h_M_Hyy, \"Data\", \"lep\");\n",
    "legend->AddEntry(sigPlusBkg, \"Sig+Bkg Fit (m_H = 125 GeV)\", \"l\");\n",
    "legend->AddEntry(bkgOnly, \"Bkg (4th order polynomial)\", \"l\");\n",
    "legend->Draw();\n",
    "\n",
    "// Add text labels (ATLAS Open Data, Luminosity, and channel info)\n",
    "TLatex latex;\n",
    "latex.SetTextSize(0.04);\n",
    "latex.DrawLatexNDC(0.2, 0.85, \"ATLAS Open Data\");\n",
    "latex.DrawLatexNDC(0.2, 0.8, \"#sqrt{s}=13 TeV, #intLdt = 10 fb^{-1}\");\n",
    "latex.DrawLatexNDC(0.2, 0.75, \"H #rightarrow #gamma#gamma\");\n",
    "\n",
    "cz->cd();\n",
    "\n",
    "// Create the residual pad\n",
    "TPad *residPad = new TPad(\"residPad\", \"residPad\", 0, 0.05, 1, 0.3);\n",
    "residPad->SetTopMargin(0);\n",
    "residPad->SetBottomMargin(0.3);\n",
    "residPad->Draw();\n",
    "residPad->cd();\n",
    "\n",
    "// Calculate residuals (Data - Background)\n",
    "int nBins = h_M_Hyy->GetNbinsX();\n",
    "TH1F *residuals = new TH1F(\"residuals\", \"\", nBins, 105, 160);  // Residuals (data - background)\n",
    "\n",
    "// Loop over all bins to calculate residuals and plot them\n",
    "for (int i = 1; i <= nBins; i++) {\n",
    "    double dataValue = h_M_Hyy->GetBinContent(i);\n",
    "    double bkgValue = bkgOnly->Eval(h_M_Hyy->GetBinCenter(i));  // Background value at bin center\n",
    "    double error = h_M_Hyy->GetBinError(i);\n",
    "\n",
    "    // Residuals = (Data - Background) / Error\n",
    "    double residualValue = (dataValue - bkgValue) / error;\n",
    "    \n",
    "    residuals->SetBinContent(i, residualValue);  // Set residual (Data - Bkg)\n",
    "}\n",
    "\n",
    "// Style residual plot components\n",
    "residuals->SetMarkerStyle(20);  // Data points\n",
    "residuals->SetMarkerSize(0.8);\n",
    "residuals->SetLineColor(kBlack);\n",
    "\n",
    "// Customize axis labels and scales\n",
    "residuals->GetYaxis()->SetTitle(\"Events - Bkg\");\n",
    "residuals->GetYaxis()->SetTitleSize(0.07);\n",
    "residuals->GetYaxis()->SetTitleOffset(0.5);\n",
    "residuals->GetYaxis()->SetLabelSize(0.07);\n",
    "residuals->GetXaxis()->SetTitle(\"di-photon invariant mass m_{#gamma#gamma} [GeV]\");\n",
    "residuals->GetXaxis()->SetTitleSize(0.07);\n",
    "residuals->GetXaxis()->SetLabelSize(0.07);\n",
    "\n",
    "// Draw the residuals (Data - Background)\n",
    "residuals->Draw(\"E1\");\n",
    "\n",
    "// Create a Gaussian with mean 125, sigma 2 (same as your fit) for the residual plot\n",
    "TF1 *gaussianResidual = new TF1(\"gaussianResidual\", \"gaus(0)\", 105, 160);\n",
    "gaussianResidual->SetParameters(sigPlusBkg->GetParameter(0), sigPlusBkg->GetParameter(1), sigPlusBkg->GetParameter(2));  // Gaussian params: amplitude, mean, sigma\n",
    "gaussianResidual->SetLineColor(kRed);  // Red color for Gaussian\n",
    "gaussianResidual->SetLineStyle(1);     // Solid line for Gaussian\n",
    "gaussianResidual->Draw(\"same\");        // Draw the Gaussian signal on the residual plot\n",
    "\n",
    "// Draw the dashed red line at Y=0 for the background minus background\n",
    "TLine *zeroLine = new TLine(105, 0, 160, 0);  // Line from (x=105, y=0) to (x=160, y=0)\n",
    "zeroLine->SetLineColor(kRed);\n",
    "zeroLine->SetLineStyle(2);  // Dashed line\n",
    "zeroLine->Draw(\"same\");\n",
    "\n",
    "// Display the canvas\n",
    "cz->Draw();\n"
   ]
  },
  {
   "cell_type": "markdown",
   "metadata": {},
   "source": [
    "#### Log Scale"
   ]
  },
  {
   "cell_type": "code",
   "execution_count": null,
   "metadata": {},
   "outputs": [],
   "source": [
    "h_M_Hyy->Draw(\"E3\");\n",
    "cz->SetLogy();\n",
    "cz->Draw();"
   ]
  },
  {
   "cell_type": "markdown",
   "metadata": {},
   "source": [
    "**Done!**"
   ]
  }
 ],
 "metadata": {
  "kernelspec": {
   "display_name": "ROOT C++",
   "language": "c++",
   "name": "root"
  },
  "language_info": {
   "codemirror_mode": "text/x-c++src",
   "file_extension": ".C",
   "mimetype": " text/x-c++src",
   "name": "c++"
  }
 },
 "nbformat": 4,
 "nbformat_minor": 4
}
