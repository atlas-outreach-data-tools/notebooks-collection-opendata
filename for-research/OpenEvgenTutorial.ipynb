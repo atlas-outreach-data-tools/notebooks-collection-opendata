{
 "cells": [
  {
   "cell_type": "markdown",
   "id": "3b02359c",
   "metadata": {
    "id": "3b02359c"
   },
   "source": [
    "# ATLAS Open Event Generation\n",
    "\n",
    "ATLAS has released a significant amount of [event generator output](https://opendata.atlas.cern/docs/data/for_research/evgen_data) as open data, in HEPMC2 format. This notebook shows a simple example of how to work with those open data.\n",
    "\n",
    "## Initialization\n",
    "\n",
    "We'll start by installing a couple of key packages using `pip`:\n",
    "* [atlasopenmagic](https://opendata.atlas.cern/docs/atlasopenmagic) provides convenient access to metadata and file locations\n",
    "* [pyhepmc](https://scikit-hep.org/pyhepmc/) provides convenient ways to play with HEPMC files\n",
    "* [graphviz](https://pypi.org/project/graphviz/) provides cool visualization interfaces for the events\n",
    "\n",
    "For the last section of this notebook, we'll use a parametric detector simulation called [Delphes](http://delphes.github.io). It's commonly used for phenomenology studies, and has a lot of nice features that we'll only just touch here, but you should feel free to explore further on your own!\n",
    "\n",
    "As you'll see in the log, it may be that you need to restart the kernel after installing these packages for the first time in order to get everything in working order. In case you encounter some odd error (cannot import a module, or cannot find a package) later in this notebook, try restarting the kernel to see if that solves your issue."
   ]
  },
  {
   "cell_type": "code",
   "execution_count": null,
   "id": "572b491f",
   "metadata": {
    "id": "572b491f",
    "tags": []
   },
   "outputs": [],
   "source": [
    "# Pip installs first\n",
    "%pip install atlasopenmagic pyhepmc graphviz\n",
    "# Now conda installs\n",
    "%conda install --channel conda-forge delphes"
   ]
  },
  {
   "cell_type": "markdown",
   "id": "fbc487b5-9cb2-4ea1-8469-5844dc3661e9",
   "metadata": {},
   "source": [
    "## Finding and downloading a file to work with\n",
    "\n",
    "We'll start from atlasopenmagic and set it up to load the open event generation data. Here we'll work with the 13.6 TeV center-of-mass energy datasets."
   ]
  },
  {
   "cell_type": "code",
   "execution_count": null,
   "id": "0769168a",
   "metadata": {
    "id": "0769168a",
    "tags": []
   },
   "outputs": [],
   "source": [
    "import atlasopenmagic as atom\n",
    "atom.set_release('2025r-evgen-13p6tev')"
   ]
  },
  {
   "cell_type": "markdown",
   "id": "715b09c0-6025-461a-a5d6-e720ace4a79b",
   "metadata": {},
   "source": [
    "Let's grab a file to play with from one of our open generation datasets. You can pick any dataset from those listed on the [Open Data Portal](https://opendata.cern/record/160000)."
   ]
  },
  {
   "cell_type": "code",
   "execution_count": null,
   "id": "c229d2f2",
   "metadata": {
    "id": "c229d2f2",
    "tags": []
   },
   "outputs": [],
   "source": [
    "# We'll print all the metadata from the sample (cross section, k-factor, etc)\n",
    "# We're going to use pretty print just to make it easy to read\n",
    "import pprint\n",
    "pprint.pp(atom.get_metadata('510203'))\n",
    "# Get the URLs for the files in the dataset. We disable caching because we are\n",
    "# going to download the files ourselves, by hand\n",
    "my_urls = atom.get_urls('510203', protocol='https', cache=False)\n",
    "print(f'Will test with file {my_urls[0]}')"
   ]
  },
  {
   "cell_type": "markdown",
   "id": "22744576-e15a-4049-b039-3cdbdb954569",
   "metadata": {},
   "source": [
    "Now let's download that file locally. The files are about 2 GB, which takes about a couple of minutes to get to the node most of the time."
   ]
  },
  {
   "cell_type": "code",
   "execution_count": null,
   "id": "9f21e676",
   "metadata": {
    "id": "9f21e676",
    "tags": []
   },
   "outputs": [],
   "source": [
    "# Pull down the entire file using urllib's request functionality\n",
    "import urllib.request\n",
    "(local_filename,headers) = urllib.request.urlretrieve(my_urls[0])\n",
    "# Use tarfile to get the HEPMC file out of the tar.gz file\n",
    "import tarfile\n",
    "with tarfile.open(local_filename, mode=\"r:gz\") as tar_file:\n",
    "    # There should be only one member - our hepmc file\n",
    "    hepmc_file = tar_file.getmembers()[0]\n",
    "    # Extract it!\n",
    "    tar_file.extract(hepmc_file, filter='data')\n",
    "print(f'Extracted {hepmc_file.name} from the tarfile')"
   ]
  },
  {
   "cell_type": "markdown",
   "id": "504f4e2c",
   "metadata": {
    "id": "504f4e2c"
   },
   "source": [
    "## Using pyhepmc to inspect the events\n",
    "\n",
    "First we'll do something very simple: **open the file and print the first event\n",
    "in text form**. These text-form events are *very long*, but with some practice\n",
    "they can be \"easy\" to read. A vertex (Vtx) represents a single interaction\n",
    "in a tree-like structure, and each vertex has a list of particles that are\n",
    "input (\"I\") and output (\"O\"). Every vertex, and every particle, has a status\n",
    "that says something about how it was produced or what it means. For example,\n",
    "particles with `status==1` are \"stable\" and will enter the detector."
   ]
  },
  {
   "cell_type": "code",
   "execution_count": null,
   "id": "bbb13de3",
   "metadata": {
    "id": "bbb13de3",
    "scrolled": true,
    "tags": []
   },
   "outputs": [],
   "source": [
    "import pyhepmc\n",
    "# We'll also import graphviz for visualization\n",
    "import graphviz\n",
    "# Open the file itself\n",
    "my_hepmc = pyhepmc.open(hepmc_file.name)\n",
    "# Read the first event out of the file\n",
    "my_first_event = my_hepmc.read()\n",
    "# Using 'print' prints the event in ASCII format\n",
    "print(my_first_event)"
   ]
  },
  {
   "cell_type": "markdown",
   "id": "654082e7-0c1c-4037-a91f-e85a368e278c",
   "metadata": {},
   "source": [
    "## Visualize events with pyhepmc and graphviz\n",
    "\n",
    "All you have to do is have jupyter try to display the event, and with graphviz it\n",
    "will display a graph. Note that colab requires some effort to get the graph to\n",
    "display properly with graphviz.\n",
    "\n",
    "This is a huge graph! Feel free to play with the visualization following some of the\n",
    "[pyhepmc visualization tutorial](https://scikit-hep.org/pyhepmc/examples/basics.html)."
   ]
  },
  {
   "cell_type": "code",
   "execution_count": null,
   "id": "7bcb845b",
   "metadata": {
    "id": "7bcb845b",
    "tags": []
   },
   "outputs": [],
   "source": [
    "# Use graphviz to visualize the graph\n",
    "my_first_event"
   ]
  },
  {
   "cell_type": "markdown",
   "id": "0a210382-5e35-4c3b-b355-9a4b2031c9eb",
   "metadata": {},
   "source": [
    "## Examining the particles in the event\n",
    "\n",
    "Let's look at just the first 15 particles.\n",
    "\n",
    "We'll be able to see the incoming protons, as well as various particles involved in\n",
    "the collision. Notice that the two incoming protons in the collision are *not*\n",
    "necessarily the first and second particles in the event! In this particular case,\n",
    "they're the first and 13th! Any analysis of these kinds of\n",
    "events always takes a bit of care, because the event records might not look the way\n",
    "you would naively expect. It's always good to check your assumptions carefully."
   ]
  },
  {
   "cell_type": "code",
   "execution_count": null,
   "id": "3eeade9a",
   "metadata": {
    "id": "3eeade9a",
    "tags": []
   },
   "outputs": [],
   "source": [
    "# Print the first 15 particles\n",
    "my_first_event.particles[:15]"
   ]
  },
  {
   "cell_type": "markdown",
   "id": "3e7d36db-b1a6-4009-8825-3614228e0b07",
   "metadata": {},
   "source": [
    "Now let's look at some of the vertices. A vertex can often be thought of as representing a single interaction, like the decay of a particle. Here's a simple little function that will print the vertex information in a reasonably pretty way:"
   ]
  },
  {
   "cell_type": "code",
   "execution_count": null,
   "id": "4061fd40-cc45-4bf1-8da1-7dbf48765928",
   "metadata": {
    "tags": []
   },
   "outputs": [],
   "source": [
    "# Helper function to print vertices and their incoming and outgoing particles\n",
    "def print_vertex(event, vertex_number):\n",
    "    print(f'Vertex {vertex_number}: {event.vertices[vertex_number]}')\n",
    "    print('Incoming particle list:')\n",
    "    for n,p in enumerate(event.vertices[vertex_number].particles_in):\n",
    "        print(f'   Particle {n}: {p}')\n",
    "    print('Outgoing particle list:')\n",
    "    for n,p in enumerate(event.vertices[vertex_number].particles_out):\n",
    "        print(f'   Particle {n}: {p}')"
   ]
  },
  {
   "cell_type": "markdown",
   "id": "38b74118-c500-48fc-bbd1-541fb0c2a420",
   "metadata": {},
   "source": [
    "Vertices have a time and position, and particles have a momentum, energy, mass, particle ID (`pid`) and status. The particle ID is standardized across all generators; a group called the Particle Data Group keeps a [review explaining and listing particle IDs](http://pdg.lbl.gov/2024/reviews/rpp2024-rev-monte-carlo-numbering.pdf). Because the event generator used to create these events is Pythia8, we can look into the [Pythia8 documentation](https://pythia.org/latest-manual/ParticleProperties.html) to see what status codes it uses. Only a few status codes are standard across all generators:\n",
    "- Status code 1 means \"stable particle\"; that propagation of that particle through the detector should be simulated.\n",
    "- Status code 2 means \"particle decayed\"; there will be decay products that the generator (Pythia8 in this case) created.\n",
    "- Status code 3 means \"documentation particle\"; these are entires in the event record that the authors wanted to keep to help document what happened in the event, but they should not necessarily be considered part of any kind of physical event interpretation.\n",
    "\n",
    "There are _many_ other status codes used in some generators like Pythia. \n",
    "\n",
    "For educational purposes we've picked out a few interesting vertices from the first event in the file this notebook uses by default. In case you load a different file or dataset, you might find different vertex properties or numbers of vertices. First, let's look at vertex number 802."
   ]
  },
  {
   "cell_type": "code",
   "execution_count": null,
   "id": "0ffe622f-42dd-4930-9754-4104164cc00b",
   "metadata": {
    "tags": []
   },
   "outputs": [],
   "source": [
    "print_vertex(my_first_event,802)"
   ]
  },
  {
   "cell_type": "markdown",
   "id": "f074366c-443e-441d-8982-0e39cf4b6ea1",
   "metadata": {},
   "source": [
    "That's a nice example of a decay vertex. You can look up the `pid` mapping in the Particle Data Group guide; this particular vertex has a $K^*\\rightarrow K^+\\pi^-$ decay (notice that the negative `pid` means that it has the opposite charge from what's listed in the Particle Data Group table). You can see that the $K^*$ has `status=2`, meaning it decays, and both the $K^+$ and $\\pi^-$ have `status=1`, meaning that they are stable and will fly into the detector.\n",
    "\n",
    "Next, let's look at vertex number 39."
   ]
  },
  {
   "cell_type": "code",
   "execution_count": null,
   "id": "90ee2430-231b-4449-9937-143e2bca7d76",
   "metadata": {
    "tags": []
   },
   "outputs": [],
   "source": [
    "print_vertex(my_first_event,39)"
   ]
  },
  {
   "cell_type": "markdown",
   "id": "111a42e7-0414-4eaa-8a8e-88e7d3fbece3",
   "metadata": {},
   "source": [
    "That's an interesting looking vertex - only one particle in, and one particle out! In this case, the status code of the particle changed, from 62 to 71. We can see in the Pythia8 documentation that these are two different representations of the same particle; in the second case the particle is being prepared for \"hadronization\" (the process of taking all the particles like quarks and gluons that are produced in the original collision and turning them into the hadrons that we observe in our detectors). This is another reason that looking through these event records is tricky: sometimes we are looking at different views of the same particle, and not all of them are really \"physical\".\n",
    "\n",
    "Finally, let's look at vertex number 190."
   ]
  },
  {
   "cell_type": "code",
   "execution_count": null,
   "id": "aed943fe-27ea-42a4-903e-8b7f2c2a9c8c",
   "metadata": {
    "tags": []
   },
   "outputs": [],
   "source": [
    "print_vertex(my_first_event,190)"
   ]
  },
  {
   "cell_type": "markdown",
   "id": "b5ab6c8f-9e50-47c3-a41f-e724f737fc9c",
   "metadata": {},
   "source": [
    "Wow, that's a weird looking vertex! This is an example of a hadronization vertex, where some of the particles that were produced in the original collision have been gathered together to form hadrons. You can see that some of those hadrons are stable, and some of them decay before they reach the detector. \n",
    "\n",
    "In our minds, we often have a simplified view of an event generator record as a tree, where one particle becomes two, and two become four, as they produce radiation and decay. The above examples show us that things can be a lot more complicated than that, and considerable care is required when studying the internals of the particle records. It's usually safest to look at the stable particles (with `status=1`), because those are the particles that the generator believes will enter the detector. They are what we refer to as \"observable\". Often when trying to look into things that are not observable (e.g. particles with other status codes), the answer becomes dependent on the implementation of the event generator, or what the event generator authors chose to write into the HEPMC record — and of course, nature can't depend on what an event generator author decided to do!\n",
    "\n",
    "Feel free to look at other particles or vertices, or records from other events if you would like."
   ]
  },
  {
   "cell_type": "markdown",
   "id": "af9060e8-6eb6-4951-acad-4d3387616f68",
   "metadata": {},
   "source": [
    "## Building histograms from the HEPMC record\n",
    "\n",
    "Now we'll make a couple of simple histograms by looping over all the events in the file and calculating a few event properties. We'll use the `hist` library, which is a convenient python library for histogramming.\n",
    "\n",
    "These are four-top events, and we'll look at the leptons in the event. Notice that we pick out the `status==1` particles, which are the ones that are stable (those that could be seen in the detector). The status code allows a physicist to pick particles at different stages of the calculation that was used to produce the event. We'll plot the number of leptons, and the largest transverse momentum from the leptons (also known as the \"leading\" lepton transverse momentum, or leading lepton $p_{T}$). Top quark decays produce a W boson that can decay to a lepton and neutrino or quarks. Since we have four top quarks, we can get anywhere from zero to four leptons from the W bosons. Top quarks also make b quarks, which sometimes include leptons in their decays as well, so we'll make our plot all the way out to five leptons.\n",
    "\n",
    "Here we'll also do a quick conversion, because the particle energies and momenta in the file are stored in `MeV`, and we'll draw them in `GeV`. Notice also that for the \"counts\" histogram we shift our bin edges a little bit so that it's super clear what each bin means (because computers use floating point numbers, it's not always safe to use integer bin edges when filling histograms with integers)."
   ]
  },
  {
   "cell_type": "code",
   "execution_count": null,
   "id": "OR2mwg_tyUN-",
   "metadata": {
    "id": "OR2mwg_tyUN-",
    "tags": []
   },
   "outputs": [],
   "source": [
    "import hist # Useful library for histogramming\n",
    "# We will make histograms of the mass and pT of the Drell-Yan events\n",
    "n_hist = hist.Hist(hist.axis.Regular(6, -0.5, 5.5, label=\"Number of Leptons\"))\n",
    "pt_hist = hist.Hist(hist.axis.Regular(40, 0, 200, label=\"Leading Lepton p_{T} [GeV]\"))\n",
    "# Open the HEPMC file\n",
    "with pyhepmc.open(hepmc_file.name) as my_hepmc_input:\n",
    "    # And loop through all the events\n",
    "    for event in my_hepmc_input:\n",
    "        # These are four-top events. We'll look for the highest transverse-momentum lepton, and count the number of leptons above 10 GeV.\n",
    "        leptons = [p for p in sorted(event.particles, key=lambda p:p.momentum.pt()) if abs(p.pid) in [11,13] and p.status==1 and p.momentum.pt()>10000.]\n",
    "        # Fill in the histograms with the count and highest transverse momentum lepton (with the right units!)\n",
    "        n_hist.fill(len(leptons))\n",
    "        # If we had at least one lepton, we will plot the largest pT. Notice that we sorted above, so that's just index 0.\n",
    "        if len(leptons)>0:\n",
    "            pt_hist.fill(leptons[0].momentum.pt()/1000.)"
   ]
  },
  {
   "cell_type": "markdown",
   "id": "600b86c0-ad06-4c6f-9203-45859c7c800f",
   "metadata": {},
   "source": [
    "Now we can draw the histograms using matplotlib and numpy, two commonly-used python libraries for histogram making and manipulating arrays of numbers."
   ]
  },
  {
   "cell_type": "code",
   "execution_count": 13,
   "id": "5FA68BEMykER",
   "metadata": {
    "id": "5FA68BEMykER",
    "tags": []
   },
   "outputs": [
    {
     "data": {
      "image/png": "[encoded data removed]",
      "text/plain": [
       "<Figure size 800x500 with 1 Axes>"
      ]
     },
     "metadata": {},
     "output_type": "display_data"
    }
   ],
   "source": [
    "import matplotlib.pyplot as plt\n",
    "import numpy as np\n",
    "# Create a canvas that we'll draw the plot on\n",
    "fig, ax = plt.subplots(figsize=(8, 5))\n",
    "# Convert the hist histogram into numpy arrays\n",
    "y, bin_edges = n_hist.to_numpy()\n",
    "# Calculate a statistical uncertainty on the points\n",
    "yerr = np.sqrt(y)\n",
    "# Slightly awkward - convert from bin edges, which is what hist gives us, into bin centers, which is what matplotlib wants\n",
    "x = [ (bin_edges[n]+bin_edges[n+1])/2. for n in range(len(bin_edges)-1) ]\n",
    "# Now we can create the actual plot of our data\n",
    "ax.errorbar(x=x, y=y, yerr=yerr,\n",
    "            fmt='ko', # 'k' means black and 'o' is for circles\n",
    "            label='Data')\n",
    "# Set some labels to make it more clear what the plot shows\n",
    "ax.set_xlabel(\"Number of Leptons\")\n",
    "ax.set_ylabel(\"Events\")\n",
    "# And finally, do the drawing\n",
    "plt.show()"
   ]
  },
  {
   "cell_type": "code",
   "execution_count": 14,
   "id": "SZJfJxlJywO2",
   "metadata": {
    "id": "SZJfJxlJywO2",
    "tags": []
   },
   "outputs": [
    {
     "data": {
      "image/png": "[encoded data removed]",
      "text/plain": [
       "<Figure size 800x500 with 1 Axes>"
      ]
     },
     "metadata": {},
     "output_type": "display_data"
    }
   ],
   "source": [
    "# And we can draw the transverse momentum plot as well\n",
    "# This follows the same structure as in the previous cell\n",
    "fig, ax = plt.subplots(figsize=(8, 5))\n",
    "y, bin_edges = pt_hist.to_numpy()\n",
    "yerr = np.sqrt(y)\n",
    "x = [ (bin_edges[n]+bin_edges[n+1])/2. for n in range(len(bin_edges)-1) ]\n",
    "ax.errorbar(x=x, y=y, yerr=yerr,\n",
    "            fmt='ko', # 'k' means black and 'o' is for circles\n",
    "            label='Data')\n",
    "ax.set_xlabel(\"Leading Lepton p_{T} [GeV]\")\n",
    "ax.set_ylabel(\"Events\")\n",
    "# We'll use a log y-axis so that the full graph is more visible\n",
    "ax.set_yscale('log')\n",
    "plt.show()"
   ]
  },
  {
   "cell_type": "markdown",
   "id": "7ef6bcbe",
   "metadata": {
    "id": "7ef6bcbe"
   },
   "source": [
    "Do those plots look the way you expected them to?\n",
    "\n",
    "Feel free to play yourself and develop your own (more complex) usage for our HEPMC files! If you want to use pyhepmc, there are plenty of [examples available](https://scikit-hep.org/pyhepmc/examples.html).\n",
    "\n",
    "Here are some specific things you could try out:\n",
    "* Check the plot of the number of leptons without a minimum transverse momentum requirement. What does it look like? Why might that be? Can you check some events and confirm your hypothesis?\n",
    "* Try plotting the masses of the W bosons in the truth record in these events. Do you always find four, consistent with the four top decays? Can you think of a way to identify the \"right\" one to look at? What makes one of them more \"right\" than others?\n",
    "* Try looking at the first handful of particles in the event. Can you tell what the distribution of initial states (gluon-gluon, quark-anti-quark, etc) was? Can you tell how the four-top production diagram is represented in the HEPMC record?\n",
    "* Try making a distribution of the status codes of the particles. Now pick a different sample, from a different event generator, and see if you can spot some of the differences in the status code distribution. Does it make sense, based on what the event generator documentation says? What's consistent? What's different?"
   ]
  },
  {
   "cell_type": "markdown",
   "id": "a4c7b188-3ba4-4b9c-9c8a-bb428669009c",
   "metadata": {},
   "source": [
    "## Detector Simulation\n",
    "\n",
    "We can do some simple detector simulation using [Delphes](https://github.com/delphes/delphes) as well. Delphes is a pretty standard parametric detector simulation package used widely in the phenomenology community. Delphes offers some command-line executables that can be used. We will run one of the pre-defined analyses as an example. Of course, more complicated usage is possible!\n",
    "\n",
    "There's a fair bit of magic in the next line. First, we're using `%%bash` magic in jupyter to let us run a command like we had a terminal with a `bash` shell. Delphes doesn't have a python interface, so we have to use it like an executable. Notice that we are passing the HEPMC file name through the bash magic here. The actual executable we are running is called `DelphesHepMC2`. Since these open event generation files are in `HepMC2` text format, that's the right executable to use. We access the \"cards\", which are for configuration, using the environment variable `${CONDA_PREFIX}`. That's where they all get installed, because we used conda up at the top of this notebook to install Delphes. There are a [lot of cards](https://github.com/delphes/delphes/tree/master/cards) available; here we're using the default ATLAS card. The next two arguments are the output file name (`delphes_output.root`) and the input file name (`$1` refers back to the HEPMC file name that we passed via the bash magic)."
   ]
  },
  {
   "cell_type": "code",
   "execution_count": null,
   "id": "2719dd56-8bb4-45d6-928e-92ef26354abe",
   "metadata": {
    "tags": []
   },
   "outputs": [],
   "source": [
    "%%bash -s {hepmc_file.name}\n",
    "DelphesHepMC2 ${CONDA_PREFIX}/cards/delphes_card_ATLAS.tcl delphes_output.root $1"
   ]
  },
  {
   "cell_type": "markdown",
   "id": "77c9811b-d91a-4e21-9124-099591abaf6a",
   "metadata": {
    "tags": []
   },
   "source": [
    "Let's examine the output of our Delphes run. It is written into a ROOT file, so just like in our other analyses we can look at it using uproot!"
   ]
  },
  {
   "cell_type": "code",
   "execution_count": null,
   "id": "ffa74254-5710-444a-bee3-34b9a0855d6d",
   "metadata": {
    "tags": []
   },
   "outputs": [],
   "source": [
    "import uproot # for reading .root files\n",
    "# Get the tree with our data directly from the ROOT file\n",
    "tree = uproot.open(\"delphes_output.root:Delphes\")\n",
    "# Just for an example here, we'll print the transverse momenta of the electrons\n",
    "tree[\"Electron.PT\"].arrays()"
   ]
  },
  {
   "cell_type": "markdown",
   "id": "4db0dc43-4550-4487-8cf0-587b4c5f9418",
   "metadata": {},
   "source": [
    "It's just that easy! From here, we can do anything that's been done from our [analysis notebooks](https://opendata.atlas.cern/docs/category/analysis-notebooks)!\n",
    "\n",
    "Here are a few specific things you could try with this sample:\n",
    "* Try plotting the leading electron momentum before and after the simulation in Delphes. What sort of resolution do you see? What sort of efficiency for lepton identification do you see?\n",
    "* What about the missing transverse momentum? How close can you get to the missing transverse momentum that Delphes reports when combining various properties of the four-top events (hint: you can do better than just looking at the neutrino momenta!)\n",
    "* Take a look at the jets in the Delphes output, and see if you can correlate those jets with the directions of the top quarks, the W bosons, or the quarks from either the top or W boson decays. What matches best? What sorts of opening angles do you typically find? How do those opening angles change with the momenta of the quarks or bosons?"
   ]
  }
 ],
 "metadata": {
  "@webio": {
   "lastCommId": null,
   "lastKernelId": null
  },
  "colab": {
   "provenance": []
  },
  "kernelspec": {
   "display_name": "Python 3 (ipykernel)",
   "language": "python",
   "name": "python3"
  },
  "language_info": {
   "codemirror_mode": {
    "name": "ipython",
    "version": 3
   },
   "file_extension": ".py",
   "mimetype": "text/x-python",
   "name": "python",
   "nbconvert_exporter": "python",
   "pygments_lexer": "ipython3",
   "version": "3.11.11"
  }
 },
 "nbformat": 4,
 "nbformat_minor": 5
}
